{
 "cells": [
  {
   "cell_type": "code",
   "execution_count": 7,
   "source": [
    "fl.simulation.start_simulation(\n",
    "    client_fn=lambda cid: FlowerClient(MODEL_CONFIG, trainloaders[int(cid)], valloaders[int(cid)]),\n",
    "    num_clients=NUM_CLIENTS,\n",
    "    config=fl.server.ServerConfig(num_rounds=NUM_ROUNDS),\n",
    "    strategy=strategy,\n",
    "    client_resources=CLIENT_RESOURCES,\n",
    ")"
   ],
   "outputs": [
    {
     "output_type": "stream",
     "name": "stderr",
     "text": [
      "INFO flwr 2023-04-10 19:01:02,714 | app.py:145 | Starting Flower simulation, config: ServerConfig(num_rounds=50, round_timeout=None)\n",
      "2023-04-10 19:01:05,034\tINFO worker.py:1529 -- Started a local Ray instance. View the dashboard at \u001b[1m\u001b[32m127.0.0.1:8265 \u001b[39m\u001b[22m\n",
      "INFO flwr 2023-04-10 19:01:06,330 | app.py:179 | Flower VCE: Ray initialized with resources: {'node:127.0.0.1': 1.0, 'object_store_memory': 7547251507.0, 'memory': 15094503015.0, 'GPU': 1.0, 'CPU': 24.0}\n",
      "INFO flwr 2023-04-10 19:01:06,331 | server.py:86 | Initializing global parameters\n",
      "INFO flwr 2023-04-10 19:01:06,331 | server.py:266 | Using initial parameters provided by strategy\n",
      "INFO flwr 2023-04-10 19:01:06,332 | server.py:88 | Evaluating initial parameters\n",
      "INFO flwr 2023-04-10 19:01:15,720 | server.py:91 | initial parameters (loss, other metrics): 19.726821899414062, {'test_loss': 19.726821899414062, 'test_accuracy': 0.0}\n",
      "INFO flwr 2023-04-10 19:01:15,721 | server.py:101 | FL starting\n",
      "DEBUG flwr 2023-04-10 19:01:15,721 | server.py:215 | fit_round 1: strategy sampled 5 clients (out of 10)\n",
      "DEBUG flwr 2023-04-10 19:04:37,496 | server.py:229 | fit_round 1 received 5 results and 0 failures\n"
     ]
    },
    {
     "output_type": "stream",
     "name": "stdout",
     "text": [
      "\t {'train_loss': 4.191095161437988, 'train_accuracy': 0.05555555555555555}\n"
     ]
    },
    {
     "output_type": "stream",
     "name": "stderr",
     "text": [
      "INFO flwr 2023-04-10 19:04:48,191 | server.py:116 | fit progress: (1, 19.4444580078125, {'test_loss': 19.4444580078125, 'test_accuracy': 0.0}, 212.46947470000305)\n",
      "DEBUG flwr 2023-04-10 19:04:48,191 | server.py:165 | evaluate_round 1: strategy sampled 5 clients (out of 10)\n",
      "DEBUG flwr 2023-04-10 19:05:01,915 | server.py:179 | evaluate_round 1 received 5 results and 0 failures\n",
      "DEBUG flwr 2023-04-10 19:05:01,916 | server.py:215 | fit_round 2: strategy sampled 5 clients (out of 10)\n"
     ]
    },
    {
     "output_type": "stream",
     "name": "stdout",
     "text": [
      "\t {'val_loss': 4.799145984649658, 'val_accuracy': 0.02}\n"
     ]
    },
    {
     "output_type": "stream",
     "name": "stderr",
     "text": [
      "DEBUG flwr 2023-04-10 19:08:23,037 | server.py:229 | fit_round 2 received 5 results and 0 failures\n"
     ]
    },
    {
     "output_type": "stream",
     "name": "stdout",
     "text": [
      "\t {'train_loss': 3.9584551811218263, 'train_accuracy': 0.12666666666666668}\n"
     ]
    },
    {
     "output_type": "stream",
     "name": "stderr",
     "text": [
      "INFO flwr 2023-04-10 19:08:33,792 | server.py:116 | fit progress: (2, 18.809062957763672, {'test_loss': 18.809062957763672, 'test_accuracy': 0.0}, 438.0709050000005)\n",
      "DEBUG flwr 2023-04-10 19:08:33,793 | server.py:165 | evaluate_round 2: strategy sampled 5 clients (out of 10)\n",
      "DEBUG flwr 2023-04-10 19:08:48,143 | server.py:179 | evaluate_round 2 received 5 results and 0 failures\n",
      "DEBUG flwr 2023-04-10 19:08:48,144 | server.py:215 | fit_round 3: strategy sampled 5 clients (out of 10)\n"
     ]
    },
    {
     "output_type": "stream",
     "name": "stdout",
     "text": [
      "\t {'val_loss': 4.580701065063477, 'val_accuracy': 0.02}\n"
     ]
    },
    {
     "output_type": "stream",
     "name": "stderr",
     "text": [
      "DEBUG flwr 2023-04-10 19:12:15,779 | server.py:229 | fit_round 3 received 5 results and 0 failures\n"
     ]
    },
    {
     "output_type": "stream",
     "name": "stdout",
     "text": [
      "\t {'train_loss': 3.8744754791259766, 'train_accuracy': 0.18666666666666665}\n"
     ]
    },
    {
     "output_type": "stream",
     "name": "stderr",
     "text": [
      "INFO flwr 2023-04-10 19:12:26,392 | server.py:116 | fit progress: (3, 18.12692642211914, {'test_loss': 18.12692642211914, 'test_accuracy': 0.02}, 670.6709696000034)\n",
      "DEBUG flwr 2023-04-10 19:12:26,393 | server.py:165 | evaluate_round 3: strategy sampled 5 clients (out of 10)\n",
      "DEBUG flwr 2023-04-10 19:12:40,018 | server.py:179 | evaluate_round 3 received 5 results and 0 failures\n",
      "DEBUG flwr 2023-04-10 19:12:40,019 | server.py:215 | fit_round 4: strategy sampled 5 clients (out of 10)\n"
     ]
    },
    {
     "output_type": "stream",
     "name": "stdout",
     "text": [
      "\t {'val_loss': 4.226366806030273, 'val_accuracy': 0.12000000000000002}\n"
     ]
    },
    {
     "output_type": "stream",
     "name": "stderr",
     "text": [
      "DEBUG flwr 2023-04-10 19:16:06,544 | server.py:229 | fit_round 4 received 5 results and 0 failures\n"
     ]
    },
    {
     "output_type": "stream",
     "name": "stdout",
     "text": [
      "\t {'train_loss': 3.56811637878418, 'train_accuracy': 0.3755555555555556}\n"
     ]
    },
    {
     "output_type": "stream",
     "name": "stderr",
     "text": [
      "INFO flwr 2023-04-10 19:16:17,351 | server.py:116 | fit progress: (4, 18.032201766967773, {'test_loss': 18.032201766967773, 'test_accuracy': 0.0}, 901.6294028999982)\n",
      "DEBUG flwr 2023-04-10 19:16:17,351 | server.py:165 | evaluate_round 4: strategy sampled 5 clients (out of 10)\n",
      "DEBUG flwr 2023-04-10 19:16:33,249 | server.py:179 | evaluate_round 4 received 5 results and 0 failures\n",
      "DEBUG flwr 2023-04-10 19:16:33,250 | server.py:215 | fit_round 5: strategy sampled 5 clients (out of 10)\n"
     ]
    },
    {
     "output_type": "stream",
     "name": "stdout",
     "text": [
      "\t {'val_loss': 4.134686994552612, 'val_accuracy': 0.15999999999999998}\n"
     ]
    },
    {
     "output_type": "stream",
     "name": "stderr",
     "text": [
      "DEBUG flwr 2023-04-10 19:19:47,149 | server.py:229 | fit_round 5 received 5 results and 0 failures\n"
     ]
    },
    {
     "output_type": "stream",
     "name": "stdout",
     "text": [
      "\t {'train_loss': 3.2203901767730714, 'train_accuracy': 0.49111111111111116}\n"
     ]
    },
    {
     "output_type": "stream",
     "name": "stderr",
     "text": [
      "INFO flwr 2023-04-10 19:19:57,897 | server.py:116 | fit progress: (5, 18.01116943359375, {'test_loss': 18.01116943359375, 'test_accuracy': 0.02}, 1122.175647000011)\n",
      "DEBUG flwr 2023-04-10 19:19:57,897 | server.py:165 | evaluate_round 5: strategy sampled 5 clients (out of 10)\n",
      "DEBUG flwr 2023-04-10 19:20:11,203 | server.py:179 | evaluate_round 5 received 5 results and 0 failures\n",
      "DEBUG flwr 2023-04-10 19:20:11,203 | server.py:215 | fit_round 6: strategy sampled 5 clients (out of 10)\n"
     ]
    },
    {
     "output_type": "stream",
     "name": "stdout",
     "text": [
      "\t {'val_loss': 3.989754629135132, 'val_accuracy': 0.18}\n"
     ]
    },
    {
     "output_type": "stream",
     "name": "stderr",
     "text": [
      "DEBUG flwr 2023-04-10 19:23:38,358 | server.py:229 | fit_round 6 received 5 results and 0 failures\n"
     ]
    },
    {
     "output_type": "stream",
     "name": "stdout",
     "text": [
      "\t {'train_loss': 3.51450514793396, 'train_accuracy': 0.46222222222222226}\n"
     ]
    },
    {
     "output_type": "stream",
     "name": "stderr",
     "text": [
      "INFO flwr 2023-04-10 19:23:49,059 | server.py:116 | fit progress: (6, 17.095474243164062, {'test_loss': 17.095474243164062, 'test_accuracy': 0.11}, 1353.3377766000049)\n",
      "DEBUG flwr 2023-04-10 19:23:49,060 | server.py:165 | evaluate_round 6: strategy sampled 5 clients (out of 10)\n",
      "DEBUG flwr 2023-04-10 19:24:02,631 | server.py:179 | evaluate_round 6 received 5 results and 0 failures\n",
      "DEBUG flwr 2023-04-10 19:24:02,632 | server.py:215 | fit_round 7: strategy sampled 5 clients (out of 10)\n"
     ]
    },
    {
     "output_type": "stream",
     "name": "stdout",
     "text": [
      "\t {'val_loss': 4.135256767272949, 'val_accuracy': 0.12000000000000002}\n"
     ]
    },
    {
     "output_type": "stream",
     "name": "stderr",
     "text": [
      "DEBUG flwr 2023-04-10 19:27:37,918 | server.py:229 | fit_round 7 received 5 results and 0 failures\n"
     ]
    },
    {
     "output_type": "stream",
     "name": "stdout",
     "text": [
      "\t {'train_loss': 3.0136120319366455, 'train_accuracy': 0.6644444444444446}\n"
     ]
    },
    {
     "output_type": "stream",
     "name": "stderr",
     "text": [
      "INFO flwr 2023-04-10 19:27:48,734 | server.py:116 | fit progress: (7, 16.524303436279297, {'test_loss': 16.524303436279297, 'test_accuracy': 0.15}, 1593.0128325999976)\n",
      "DEBUG flwr 2023-04-10 19:27:48,735 | server.py:165 | evaluate_round 7: strategy sampled 5 clients (out of 10)\n",
      "DEBUG flwr 2023-04-10 19:28:02,546 | server.py:179 | evaluate_round 7 received 5 results and 0 failures\n",
      "DEBUG flwr 2023-04-10 19:28:02,548 | server.py:215 | fit_round 8: strategy sampled 5 clients (out of 10)\n"
     ]
    },
    {
     "output_type": "stream",
     "name": "stdout",
     "text": [
      "\t {'val_loss': 3.7841179370880127, 'val_accuracy': 0.27999999999999997}\n"
     ]
    },
    {
     "output_type": "stream",
     "name": "stderr",
     "text": [
      "DEBUG flwr 2023-04-10 19:31:19,429 | server.py:229 | fit_round 8 received 5 results and 0 failures\n"
     ]
    },
    {
     "output_type": "stream",
     "name": "stdout",
     "text": [
      "\t {'train_loss': 2.896167588233948, 'train_accuracy': 0.6799999999999999}\n"
     ]
    },
    {
     "output_type": "stream",
     "name": "stderr",
     "text": [
      "INFO flwr 2023-04-10 19:31:29,993 | server.py:116 | fit progress: (8, 16.658000946044922, {'test_loss': 16.658000946044922, 'test_accuracy': 0.14}, 1814.2720466000028)\n",
      "DEBUG flwr 2023-04-10 19:31:29,994 | server.py:165 | evaluate_round 8: strategy sampled 5 clients (out of 10)\n",
      "DEBUG flwr 2023-04-10 19:31:43,215 | server.py:179 | evaluate_round 8 received 5 results and 0 failures\n",
      "DEBUG flwr 2023-04-10 19:31:43,215 | server.py:215 | fit_round 9: strategy sampled 5 clients (out of 10)\n"
     ]
    },
    {
     "output_type": "stream",
     "name": "stdout",
     "text": [
      "\t {'val_loss': 3.893932580947876, 'val_accuracy': 0.21999999999999997}\n"
     ]
    },
    {
     "output_type": "stream",
     "name": "stderr",
     "text": [
      "DEBUG flwr 2023-04-10 19:35:05,856 | server.py:229 | fit_round 9 received 5 results and 0 failures\n"
     ]
    },
    {
     "output_type": "stream",
     "name": "stdout",
     "text": [
      "\t {'train_loss': 2.874065089225769, 'train_accuracy': 0.6666666666666665}\n"
     ]
    },
    {
     "output_type": "stream",
     "name": "stderr",
     "text": [
      "INFO flwr 2023-04-10 19:35:16,531 | server.py:116 | fit progress: (9, 16.70146942138672, {'test_loss': 16.70146942138672, 'test_accuracy': 0.15}, 2040.8102476000058)\n",
      "DEBUG flwr 2023-04-10 19:35:16,532 | server.py:165 | evaluate_round 9: strategy sampled 5 clients (out of 10)\n",
      "DEBUG flwr 2023-04-10 19:35:29,402 | server.py:179 | evaluate_round 9 received 5 results and 0 failures\n",
      "DEBUG flwr 2023-04-10 19:35:29,404 | server.py:215 | fit_round 10: strategy sampled 5 clients (out of 10)\n"
     ]
    },
    {
     "output_type": "stream",
     "name": "stdout",
     "text": [
      "\t {'val_loss': 3.7786038398742674, 'val_accuracy': 0.24000000000000005}\n"
     ]
    },
    {
     "output_type": "stream",
     "name": "stderr",
     "text": [
      "DEBUG flwr 2023-04-10 19:38:51,456 | server.py:229 | fit_round 10 received 5 results and 0 failures\n"
     ]
    },
    {
     "output_type": "stream",
     "name": "stdout",
     "text": [
      "\t {'train_loss': 2.5820901870727537, 'train_accuracy': 0.7444444444444444}\n"
     ]
    },
    {
     "output_type": "stream",
     "name": "stderr",
     "text": [
      "INFO flwr 2023-04-10 19:39:02,081 | server.py:116 | fit progress: (10, 16.514667510986328, {'test_loss': 16.514667510986328, 'test_accuracy': 0.18}, 2266.3594611000008)\n",
      "DEBUG flwr 2023-04-10 19:39:02,082 | server.py:165 | evaluate_round 10: strategy sampled 5 clients (out of 10)\n",
      "DEBUG flwr 2023-04-10 19:39:15,060 | server.py:179 | evaluate_round 10 received 5 results and 0 failures\n",
      "DEBUG flwr 2023-04-10 19:39:15,061 | server.py:215 | fit_round 11: strategy sampled 5 clients (out of 10)\n"
     ]
    },
    {
     "output_type": "stream",
     "name": "stdout",
     "text": [
      "\t {'val_loss': 3.855396604537964, 'val_accuracy': 0.24}\n"
     ]
    },
    {
     "output_type": "error",
     "ename": "KeyboardInterrupt",
     "evalue": "",
     "traceback": [
      "\u001b[1;31m---------------------------------------------------------------------------\u001b[0m",
      "\u001b[1;31mKeyboardInterrupt\u001b[0m                         Traceback (most recent call last)",
      "\u001b[1;32mc:\\Users\\Jean\\OneDrive - University of Toronto\\Courses\\2-Winter 2023\\CSC2231_visual_mobile_comp\\FL-ViT\\colab\\server.py\u001b[0m in \u001b[0;36mline 2\n\u001b[0;32m      <a href='file:///c%3A/Users/Jean/OneDrive%20-%20University%20of%20Toronto/Courses/2-Winter%202023/CSC2231_visual_mobile_comp/FL-ViT/colab/server.py?line=85'>86</a>\u001b[0m \u001b[39m#%% Start simulation\u001b[39;00m\n\u001b[1;32m----> <a href='file:///c%3A/Users/Jean/OneDrive%20-%20University%20of%20Toronto/Courses/2-Winter%202023/CSC2231_visual_mobile_comp/FL-ViT/colab/server.py?line=86'>87</a>\u001b[0m fl\u001b[39m.\u001b[39;49msimulation\u001b[39m.\u001b[39;49mstart_simulation(\n\u001b[0;32m      <a href='file:///c%3A/Users/Jean/OneDrive%20-%20University%20of%20Toronto/Courses/2-Winter%202023/CSC2231_visual_mobile_comp/FL-ViT/colab/server.py?line=87'>88</a>\u001b[0m     client_fn\u001b[39m=\u001b[39;49m\u001b[39mlambda\u001b[39;49;00m cid: FlowerClient(MODEL_CONFIG, trainloaders[\u001b[39mint\u001b[39;49m(cid)], valloaders[\u001b[39mint\u001b[39;49m(cid)]),\n\u001b[0;32m      <a href='file:///c%3A/Users/Jean/OneDrive%20-%20University%20of%20Toronto/Courses/2-Winter%202023/CSC2231_visual_mobile_comp/FL-ViT/colab/server.py?line=88'>89</a>\u001b[0m     num_clients\u001b[39m=\u001b[39;49mNUM_CLIENTS,\n\u001b[0;32m      <a href='file:///c%3A/Users/Jean/OneDrive%20-%20University%20of%20Toronto/Courses/2-Winter%202023/CSC2231_visual_mobile_comp/FL-ViT/colab/server.py?line=89'>90</a>\u001b[0m     config\u001b[39m=\u001b[39;49mfl\u001b[39m.\u001b[39;49mserver\u001b[39m.\u001b[39;49mServerConfig(num_rounds\u001b[39m=\u001b[39;49mNUM_ROUNDS),\n\u001b[0;32m      <a href='file:///c%3A/Users/Jean/OneDrive%20-%20University%20of%20Toronto/Courses/2-Winter%202023/CSC2231_visual_mobile_comp/FL-ViT/colab/server.py?line=90'>91</a>\u001b[0m     strategy\u001b[39m=\u001b[39;49mstrategy,\n\u001b[0;32m      <a href='file:///c%3A/Users/Jean/OneDrive%20-%20University%20of%20Toronto/Courses/2-Winter%202023/CSC2231_visual_mobile_comp/FL-ViT/colab/server.py?line=91'>92</a>\u001b[0m     client_resources\u001b[39m=\u001b[39;49mCLIENT_RESOURCES,\n\u001b[0;32m      <a href='file:///c%3A/Users/Jean/OneDrive%20-%20University%20of%20Toronto/Courses/2-Winter%202023/CSC2231_visual_mobile_comp/FL-ViT/colab/server.py?line=92'>93</a>\u001b[0m )\n",
      "File \u001b[1;32mc:\\Users\\Jean\\AppData\\Local\\Programs\\Python\\Python310\\lib\\site-packages\\flwr\\simulation\\app.py:196\u001b[0m, in \u001b[0;36mstart_simulation\u001b[1;34m(client_fn, num_clients, clients_ids, client_resources, server, config, strategy, client_manager, ray_init_args, keep_initialised)\u001b[0m\n\u001b[0;32m    <a href='file:///c%3A/Users/Jean/AppData/Local/Programs/Python/Python310/lib/site-packages/flwr/simulation/app.py?line=192'>193</a>\u001b[0m     initialized_server\u001b[39m.\u001b[39mclient_manager()\u001b[39m.\u001b[39mregister(client\u001b[39m=\u001b[39mclient_proxy)\n\u001b[0;32m    <a href='file:///c%3A/Users/Jean/AppData/Local/Programs/Python/Python310/lib/site-packages/flwr/simulation/app.py?line=194'>195</a>\u001b[0m \u001b[39m# Start training\u001b[39;00m\n\u001b[1;32m--> <a href='file:///c%3A/Users/Jean/AppData/Local/Programs/Python/Python310/lib/site-packages/flwr/simulation/app.py?line=195'>196</a>\u001b[0m hist \u001b[39m=\u001b[39m _fl(\n\u001b[0;32m    <a href='file:///c%3A/Users/Jean/AppData/Local/Programs/Python/Python310/lib/site-packages/flwr/simulation/app.py?line=196'>197</a>\u001b[0m     server\u001b[39m=\u001b[39;49minitialized_server,\n\u001b[0;32m    <a href='file:///c%3A/Users/Jean/AppData/Local/Programs/Python/Python310/lib/site-packages/flwr/simulation/app.py?line=197'>198</a>\u001b[0m     config\u001b[39m=\u001b[39;49minitialized_config,\n\u001b[0;32m    <a href='file:///c%3A/Users/Jean/AppData/Local/Programs/Python/Python310/lib/site-packages/flwr/simulation/app.py?line=198'>199</a>\u001b[0m )\n\u001b[0;32m    <a href='file:///c%3A/Users/Jean/AppData/Local/Programs/Python/Python310/lib/site-packages/flwr/simulation/app.py?line=200'>201</a>\u001b[0m event(EventType\u001b[39m.\u001b[39mSTART_SIMULATION_LEAVE)\n\u001b[0;32m    <a href='file:///c%3A/Users/Jean/AppData/Local/Programs/Python/Python310/lib/site-packages/flwr/simulation/app.py?line=202'>203</a>\u001b[0m \u001b[39mreturn\u001b[39;00m hist\n",
      "File \u001b[1;32mc:\\Users\\Jean\\AppData\\Local\\Programs\\Python\\Python310\\lib\\site-packages\\flwr\\server\\app.py:201\u001b[0m, in \u001b[0;36m_fl\u001b[1;34m(server, config)\u001b[0m\n\u001b[0;32m    <a href='file:///c%3A/Users/Jean/AppData/Local/Programs/Python/Python310/lib/site-packages/flwr/server/app.py?line=195'>196</a>\u001b[0m \u001b[39mdef\u001b[39;00m \u001b[39m_fl\u001b[39m(\n\u001b[0;32m    <a href='file:///c%3A/Users/Jean/AppData/Local/Programs/Python/Python310/lib/site-packages/flwr/server/app.py?line=196'>197</a>\u001b[0m     server: Server,\n\u001b[0;32m    <a href='file:///c%3A/Users/Jean/AppData/Local/Programs/Python/Python310/lib/site-packages/flwr/server/app.py?line=197'>198</a>\u001b[0m     config: ServerConfig,\n\u001b[0;32m    <a href='file:///c%3A/Users/Jean/AppData/Local/Programs/Python/Python310/lib/site-packages/flwr/server/app.py?line=198'>199</a>\u001b[0m ) \u001b[39m-\u001b[39m\u001b[39m>\u001b[39m History:\n\u001b[0;32m    <a href='file:///c%3A/Users/Jean/AppData/Local/Programs/Python/Python310/lib/site-packages/flwr/server/app.py?line=199'>200</a>\u001b[0m     \u001b[39m# Fit model\u001b[39;00m\n\u001b[1;32m--> <a href='file:///c%3A/Users/Jean/AppData/Local/Programs/Python/Python310/lib/site-packages/flwr/server/app.py?line=200'>201</a>\u001b[0m     hist \u001b[39m=\u001b[39m server\u001b[39m.\u001b[39;49mfit(num_rounds\u001b[39m=\u001b[39;49mconfig\u001b[39m.\u001b[39;49mnum_rounds, timeout\u001b[39m=\u001b[39;49mconfig\u001b[39m.\u001b[39;49mround_timeout)\n\u001b[0;32m    <a href='file:///c%3A/Users/Jean/AppData/Local/Programs/Python/Python310/lib/site-packages/flwr/server/app.py?line=201'>202</a>\u001b[0m     log(INFO, \u001b[39m\"\u001b[39m\u001b[39mapp_fit: losses_distributed \u001b[39m\u001b[39m%s\u001b[39;00m\u001b[39m\"\u001b[39m, \u001b[39mstr\u001b[39m(hist\u001b[39m.\u001b[39mlosses_distributed))\n\u001b[0;32m    <a href='file:///c%3A/Users/Jean/AppData/Local/Programs/Python/Python310/lib/site-packages/flwr/server/app.py?line=202'>203</a>\u001b[0m     log(INFO, \u001b[39m\"\u001b[39m\u001b[39mapp_fit: metrics_distributed \u001b[39m\u001b[39m%s\u001b[39;00m\u001b[39m\"\u001b[39m, \u001b[39mstr\u001b[39m(hist\u001b[39m.\u001b[39mmetrics_distributed))\n",
      "File \u001b[1;32mc:\\Users\\Jean\\AppData\\Local\\Programs\\Python\\Python310\\lib\\site-packages\\flwr\\server\\server.py:106\u001b[0m, in \u001b[0;36mServer.fit\u001b[1;34m(self, num_rounds, timeout)\u001b[0m\n\u001b[0;32m    <a href='file:///c%3A/Users/Jean/AppData/Local/Programs/Python/Python310/lib/site-packages/flwr/server/server.py?line=101'>102</a>\u001b[0m start_time \u001b[39m=\u001b[39m timeit\u001b[39m.\u001b[39mdefault_timer()\n\u001b[0;32m    <a href='file:///c%3A/Users/Jean/AppData/Local/Programs/Python/Python310/lib/site-packages/flwr/server/server.py?line=103'>104</a>\u001b[0m \u001b[39mfor\u001b[39;00m current_round \u001b[39min\u001b[39;00m \u001b[39mrange\u001b[39m(\u001b[39m1\u001b[39m, num_rounds \u001b[39m+\u001b[39m \u001b[39m1\u001b[39m):\n\u001b[0;32m    <a href='file:///c%3A/Users/Jean/AppData/Local/Programs/Python/Python310/lib/site-packages/flwr/server/server.py?line=104'>105</a>\u001b[0m     \u001b[39m# Train model and replace previous global model\u001b[39;00m\n\u001b[1;32m--> <a href='file:///c%3A/Users/Jean/AppData/Local/Programs/Python/Python310/lib/site-packages/flwr/server/server.py?line=105'>106</a>\u001b[0m     res_fit \u001b[39m=\u001b[39m \u001b[39mself\u001b[39;49m\u001b[39m.\u001b[39;49mfit_round(server_round\u001b[39m=\u001b[39;49mcurrent_round, timeout\u001b[39m=\u001b[39;49mtimeout)\n\u001b[0;32m    <a href='file:///c%3A/Users/Jean/AppData/Local/Programs/Python/Python310/lib/site-packages/flwr/server/server.py?line=106'>107</a>\u001b[0m     \u001b[39mif\u001b[39;00m res_fit:\n\u001b[0;32m    <a href='file:///c%3A/Users/Jean/AppData/Local/Programs/Python/Python310/lib/site-packages/flwr/server/server.py?line=107'>108</a>\u001b[0m         parameters_prime, _, _ \u001b[39m=\u001b[39m res_fit  \u001b[39m# fit_metrics_aggregated\u001b[39;00m\n",
      "File \u001b[1;32mc:\\Users\\Jean\\AppData\\Local\\Programs\\Python\\Python310\\lib\\site-packages\\flwr\\server\\server.py:224\u001b[0m, in \u001b[0;36mServer.fit_round\u001b[1;34m(self, server_round, timeout)\u001b[0m\n\u001b[0;32m    <a href='file:///c%3A/Users/Jean/AppData/Local/Programs/Python/Python310/lib/site-packages/flwr/server/server.py?line=214'>215</a>\u001b[0m log(\n\u001b[0;32m    <a href='file:///c%3A/Users/Jean/AppData/Local/Programs/Python/Python310/lib/site-packages/flwr/server/server.py?line=215'>216</a>\u001b[0m     DEBUG,\n\u001b[0;32m    <a href='file:///c%3A/Users/Jean/AppData/Local/Programs/Python/Python310/lib/site-packages/flwr/server/server.py?line=216'>217</a>\u001b[0m     \u001b[39m\"\u001b[39m\u001b[39mfit_round \u001b[39m\u001b[39m%s\u001b[39;00m\u001b[39m: strategy sampled \u001b[39m\u001b[39m%s\u001b[39;00m\u001b[39m clients (out of \u001b[39m\u001b[39m%s\u001b[39;00m\u001b[39m)\u001b[39m\u001b[39m\"\u001b[39m,\n\u001b[1;32m   (...)\u001b[0m\n\u001b[0;32m    <a href='file:///c%3A/Users/Jean/AppData/Local/Programs/Python/Python310/lib/site-packages/flwr/server/server.py?line=219'>220</a>\u001b[0m     \u001b[39mself\u001b[39m\u001b[39m.\u001b[39m_client_manager\u001b[39m.\u001b[39mnum_available(),\n\u001b[0;32m    <a href='file:///c%3A/Users/Jean/AppData/Local/Programs/Python/Python310/lib/site-packages/flwr/server/server.py?line=220'>221</a>\u001b[0m )\n\u001b[0;32m    <a href='file:///c%3A/Users/Jean/AppData/Local/Programs/Python/Python310/lib/site-packages/flwr/server/server.py?line=222'>223</a>\u001b[0m \u001b[39m# Collect `fit` results from all clients participating in this round\u001b[39;00m\n\u001b[1;32m--> <a href='file:///c%3A/Users/Jean/AppData/Local/Programs/Python/Python310/lib/site-packages/flwr/server/server.py?line=223'>224</a>\u001b[0m results, failures \u001b[39m=\u001b[39m fit_clients(\n\u001b[0;32m    <a href='file:///c%3A/Users/Jean/AppData/Local/Programs/Python/Python310/lib/site-packages/flwr/server/server.py?line=224'>225</a>\u001b[0m     client_instructions\u001b[39m=\u001b[39;49mclient_instructions,\n\u001b[0;32m    <a href='file:///c%3A/Users/Jean/AppData/Local/Programs/Python/Python310/lib/site-packages/flwr/server/server.py?line=225'>226</a>\u001b[0m     max_workers\u001b[39m=\u001b[39;49m\u001b[39mself\u001b[39;49m\u001b[39m.\u001b[39;49mmax_workers,\n\u001b[0;32m    <a href='file:///c%3A/Users/Jean/AppData/Local/Programs/Python/Python310/lib/site-packages/flwr/server/server.py?line=226'>227</a>\u001b[0m     timeout\u001b[39m=\u001b[39;49mtimeout,\n\u001b[0;32m    <a href='file:///c%3A/Users/Jean/AppData/Local/Programs/Python/Python310/lib/site-packages/flwr/server/server.py?line=227'>228</a>\u001b[0m )\n\u001b[0;32m    <a href='file:///c%3A/Users/Jean/AppData/Local/Programs/Python/Python310/lib/site-packages/flwr/server/server.py?line=228'>229</a>\u001b[0m log(\n\u001b[0;32m    <a href='file:///c%3A/Users/Jean/AppData/Local/Programs/Python/Python310/lib/site-packages/flwr/server/server.py?line=229'>230</a>\u001b[0m     DEBUG,\n\u001b[0;32m    <a href='file:///c%3A/Users/Jean/AppData/Local/Programs/Python/Python310/lib/site-packages/flwr/server/server.py?line=230'>231</a>\u001b[0m     \u001b[39m\"\u001b[39m\u001b[39mfit_round \u001b[39m\u001b[39m%s\u001b[39;00m\u001b[39m received \u001b[39m\u001b[39m%s\u001b[39;00m\u001b[39m results and \u001b[39m\u001b[39m%s\u001b[39;00m\u001b[39m failures\u001b[39m\u001b[39m\"\u001b[39m,\n\u001b[1;32m   (...)\u001b[0m\n\u001b[0;32m    <a href='file:///c%3A/Users/Jean/AppData/Local/Programs/Python/Python310/lib/site-packages/flwr/server/server.py?line=233'>234</a>\u001b[0m     \u001b[39mlen\u001b[39m(failures),\n\u001b[0;32m    <a href='file:///c%3A/Users/Jean/AppData/Local/Programs/Python/Python310/lib/site-packages/flwr/server/server.py?line=234'>235</a>\u001b[0m )\n\u001b[0;32m    <a href='file:///c%3A/Users/Jean/AppData/Local/Programs/Python/Python310/lib/site-packages/flwr/server/server.py?line=236'>237</a>\u001b[0m \u001b[39m# Aggregate training results\u001b[39;00m\n",
      "File \u001b[1;32mc:\\Users\\Jean\\AppData\\Local\\Programs\\Python\\Python310\\lib\\site-packages\\flwr\\server\\server.py:331\u001b[0m, in \u001b[0;36mfit_clients\u001b[1;34m(client_instructions, max_workers, timeout)\u001b[0m\n\u001b[0;32m    <a href='file:///c%3A/Users/Jean/AppData/Local/Programs/Python/Python310/lib/site-packages/flwr/server/server.py?line=325'>326</a>\u001b[0m \u001b[39mwith\u001b[39;00m concurrent\u001b[39m.\u001b[39mfutures\u001b[39m.\u001b[39mThreadPoolExecutor(max_workers\u001b[39m=\u001b[39mmax_workers) \u001b[39mas\u001b[39;00m executor:\n\u001b[0;32m    <a href='file:///c%3A/Users/Jean/AppData/Local/Programs/Python/Python310/lib/site-packages/flwr/server/server.py?line=326'>327</a>\u001b[0m     submitted_fs \u001b[39m=\u001b[39m {\n\u001b[0;32m    <a href='file:///c%3A/Users/Jean/AppData/Local/Programs/Python/Python310/lib/site-packages/flwr/server/server.py?line=327'>328</a>\u001b[0m         executor\u001b[39m.\u001b[39msubmit(fit_client, client_proxy, ins, timeout)\n\u001b[0;32m    <a href='file:///c%3A/Users/Jean/AppData/Local/Programs/Python/Python310/lib/site-packages/flwr/server/server.py?line=328'>329</a>\u001b[0m         \u001b[39mfor\u001b[39;00m client_proxy, ins \u001b[39min\u001b[39;00m client_instructions\n\u001b[0;32m    <a href='file:///c%3A/Users/Jean/AppData/Local/Programs/Python/Python310/lib/site-packages/flwr/server/server.py?line=329'>330</a>\u001b[0m     }\n\u001b[1;32m--> <a href='file:///c%3A/Users/Jean/AppData/Local/Programs/Python/Python310/lib/site-packages/flwr/server/server.py?line=330'>331</a>\u001b[0m     finished_fs, _ \u001b[39m=\u001b[39m concurrent\u001b[39m.\u001b[39;49mfutures\u001b[39m.\u001b[39;49mwait(\n\u001b[0;32m    <a href='file:///c%3A/Users/Jean/AppData/Local/Programs/Python/Python310/lib/site-packages/flwr/server/server.py?line=331'>332</a>\u001b[0m         fs\u001b[39m=\u001b[39;49msubmitted_fs,\n\u001b[0;32m    <a href='file:///c%3A/Users/Jean/AppData/Local/Programs/Python/Python310/lib/site-packages/flwr/server/server.py?line=332'>333</a>\u001b[0m         timeout\u001b[39m=\u001b[39;49m\u001b[39mNone\u001b[39;49;00m,  \u001b[39m# Handled in the respective communication stack\u001b[39;49;00m\n\u001b[0;32m    <a href='file:///c%3A/Users/Jean/AppData/Local/Programs/Python/Python310/lib/site-packages/flwr/server/server.py?line=333'>334</a>\u001b[0m     )\n\u001b[0;32m    <a href='file:///c%3A/Users/Jean/AppData/Local/Programs/Python/Python310/lib/site-packages/flwr/server/server.py?line=335'>336</a>\u001b[0m \u001b[39m# Gather results\u001b[39;00m\n\u001b[0;32m    <a href='file:///c%3A/Users/Jean/AppData/Local/Programs/Python/Python310/lib/site-packages/flwr/server/server.py?line=336'>337</a>\u001b[0m results: List[Tuple[ClientProxy, FitRes]] \u001b[39m=\u001b[39m []\n",
      "File \u001b[1;32mc:\\Users\\Jean\\AppData\\Local\\Programs\\Python\\Python310\\lib\\concurrent\\futures\\_base.py:307\u001b[0m, in \u001b[0;36mwait\u001b[1;34m(fs, timeout, return_when)\u001b[0m\n\u001b[0;32m    <a href='file:///c%3A/Users/Jean/AppData/Local/Programs/Python/Python310/lib/concurrent/futures/_base.py?line=302'>303</a>\u001b[0m         \u001b[39mreturn\u001b[39;00m DoneAndNotDoneFutures(done, not_done)\n\u001b[0;32m    <a href='file:///c%3A/Users/Jean/AppData/Local/Programs/Python/Python310/lib/concurrent/futures/_base.py?line=304'>305</a>\u001b[0m     waiter \u001b[39m=\u001b[39m _create_and_install_waiters(fs, return_when)\n\u001b[1;32m--> <a href='file:///c%3A/Users/Jean/AppData/Local/Programs/Python/Python310/lib/concurrent/futures/_base.py?line=306'>307</a>\u001b[0m waiter\u001b[39m.\u001b[39;49mevent\u001b[39m.\u001b[39;49mwait(timeout)\n\u001b[0;32m    <a href='file:///c%3A/Users/Jean/AppData/Local/Programs/Python/Python310/lib/concurrent/futures/_base.py?line=307'>308</a>\u001b[0m \u001b[39mfor\u001b[39;00m f \u001b[39min\u001b[39;00m fs:\n\u001b[0;32m    <a href='file:///c%3A/Users/Jean/AppData/Local/Programs/Python/Python310/lib/concurrent/futures/_base.py?line=308'>309</a>\u001b[0m     \u001b[39mwith\u001b[39;00m f\u001b[39m.\u001b[39m_condition:\n",
      "File \u001b[1;32mc:\\Users\\Jean\\AppData\\Local\\Programs\\Python\\Python310\\lib\\threading.py:607\u001b[0m, in \u001b[0;36mEvent.wait\u001b[1;34m(self, timeout)\u001b[0m\n\u001b[0;32m    <a href='file:///c%3A/Users/Jean/AppData/Local/Programs/Python/Python310/lib/threading.py?line=604'>605</a>\u001b[0m signaled \u001b[39m=\u001b[39m \u001b[39mself\u001b[39m\u001b[39m.\u001b[39m_flag\n\u001b[0;32m    <a href='file:///c%3A/Users/Jean/AppData/Local/Programs/Python/Python310/lib/threading.py?line=605'>606</a>\u001b[0m \u001b[39mif\u001b[39;00m \u001b[39mnot\u001b[39;00m signaled:\n\u001b[1;32m--> <a href='file:///c%3A/Users/Jean/AppData/Local/Programs/Python/Python310/lib/threading.py?line=606'>607</a>\u001b[0m     signaled \u001b[39m=\u001b[39m \u001b[39mself\u001b[39;49m\u001b[39m.\u001b[39;49m_cond\u001b[39m.\u001b[39;49mwait(timeout)\n\u001b[0;32m    <a href='file:///c%3A/Users/Jean/AppData/Local/Programs/Python/Python310/lib/threading.py?line=607'>608</a>\u001b[0m \u001b[39mreturn\u001b[39;00m signaled\n",
      "File \u001b[1;32mc:\\Users\\Jean\\AppData\\Local\\Programs\\Python\\Python310\\lib\\threading.py:320\u001b[0m, in \u001b[0;36mCondition.wait\u001b[1;34m(self, timeout)\u001b[0m\n\u001b[0;32m    <a href='file:///c%3A/Users/Jean/AppData/Local/Programs/Python/Python310/lib/threading.py?line=317'>318</a>\u001b[0m \u001b[39mtry\u001b[39;00m:    \u001b[39m# restore state no matter what (e.g., KeyboardInterrupt)\u001b[39;00m\n\u001b[0;32m    <a href='file:///c%3A/Users/Jean/AppData/Local/Programs/Python/Python310/lib/threading.py?line=318'>319</a>\u001b[0m     \u001b[39mif\u001b[39;00m timeout \u001b[39mis\u001b[39;00m \u001b[39mNone\u001b[39;00m:\n\u001b[1;32m--> <a href='file:///c%3A/Users/Jean/AppData/Local/Programs/Python/Python310/lib/threading.py?line=319'>320</a>\u001b[0m         waiter\u001b[39m.\u001b[39;49macquire()\n\u001b[0;32m    <a href='file:///c%3A/Users/Jean/AppData/Local/Programs/Python/Python310/lib/threading.py?line=320'>321</a>\u001b[0m         gotit \u001b[39m=\u001b[39m \u001b[39mTrue\u001b[39;00m\n\u001b[0;32m    <a href='file:///c%3A/Users/Jean/AppData/Local/Programs/Python/Python310/lib/threading.py?line=321'>322</a>\u001b[0m     \u001b[39melse\u001b[39;00m:\n",
      "\u001b[1;31mKeyboardInterrupt\u001b[0m: "
     ]
    }
   ],
   "metadata": {}
  }
 ],
 "nbformat": 4,
 "nbformat_minor": 2,
 "metadata": {
  "language_info": {
   "codemirror_mode": {
    "name": "ipython",
    "version": 3
   },
   "file_extension": ".py",
   "mimetype": "text/x-python",
   "name": "python",
   "nbconvert_exporter": "python",
   "pygments_lexer": "ipython3",
   "version": 3
  },
  "orig_nbformat": 4
 }
}