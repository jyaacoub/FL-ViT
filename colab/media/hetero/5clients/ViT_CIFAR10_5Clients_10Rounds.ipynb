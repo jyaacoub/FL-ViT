{
 "cells": [
  {
   "cell_type": "code",
   "execution_count": 7,
   "source": [
    "fl.simulation.start_simulation(\n",
    "    client_fn=lambda cid: FlowerClient(MODEL_CONFIG, trainloaders[int(cid)], valloaders[int(cid)]),\n",
    "    num_clients=NUM_CLIENTS,\n",
    "    config=fl.server.ServerConfig(num_rounds=NUM_ROUNDS),\n",
    "    strategy=strategy,\n",
    "    client_resources=CLIENT_RESOURCES,\n",
    ")"
   ],
   "outputs": [
    {
     "output_type": "stream",
     "name": "stderr",
     "text": [
      "INFO flwr 2023-04-10 17:03:33,903 | app.py:145 | Starting Flower simulation, config: ServerConfig(num_rounds=10, round_timeout=None)\n",
      "2023-04-10 17:03:35,826\tINFO worker.py:1529 -- Started a local Ray instance. View the dashboard at \u001b[1m\u001b[32m127.0.0.1:8265 \u001b[39m\u001b[22m\n",
      "INFO flwr 2023-04-10 17:03:37,231 | app.py:179 | Flower VCE: Ray initialized with resources: {'object_store_memory': 6291973324.0, 'memory': 12583946651.0, 'CPU': 24.0, 'node:127.0.0.1': 1.0, 'GPU': 1.0}\n",
      "INFO flwr 2023-04-10 17:03:37,232 | server.py:86 | Initializing global parameters\n",
      "INFO flwr 2023-04-10 17:03:37,232 | server.py:266 | Using initial parameters provided by strategy\n",
      "INFO flwr 2023-04-10 17:03:37,233 | server.py:88 | Evaluating initial parameters\n",
      "INFO flwr 2023-04-10 17:03:46,480 | server.py:91 | initial parameters (loss, other metrics): 19.03642463684082, {'test_loss': 19.03642463684082, 'test_accuracy': 0.01}\n",
      "INFO flwr 2023-04-10 17:03:46,480 | server.py:101 | FL starting\n",
      "DEBUG flwr 2023-04-10 17:03:46,481 | server.py:215 | fit_round 1: strategy sampled 2 clients (out of 5)\n",
      "DEBUG flwr 2023-04-10 17:06:58,775 | server.py:229 | fit_round 1 received 2 results and 0 failures\n"
     ]
    },
    {
     "output_type": "stream",
     "name": "stdout",
     "text": [
      "\t {'train_loss': 4.191020727157593, 'train_accuracy': 0.061111111111111116}\n"
     ]
    },
    {
     "output_type": "stream",
     "name": "stderr",
     "text": [
      "INFO flwr 2023-04-10 17:07:16,570 | server.py:116 | fit progress: (1, 18.47378158569336, {'test_loss': 18.47378158569336, 'test_accuracy': 0.01}, 210.0897135999985)\n",
      "DEBUG flwr 2023-04-10 17:07:16,571 | server.py:165 | evaluate_round 1: strategy sampled 2 clients (out of 5)\n",
      "DEBUG flwr 2023-04-10 17:07:22,408 | server.py:179 | evaluate_round 1 received 2 results and 0 failures\n",
      "DEBUG flwr 2023-04-10 17:07:22,408 | server.py:215 | fit_round 2: strategy sampled 2 clients (out of 5)\n"
     ]
    },
    {
     "output_type": "stream",
     "name": "stdout",
     "text": [
      "\t {'val_loss': 4.514796257019043, 'val_accuracy': 0.05}\n"
     ]
    },
    {
     "output_type": "stream",
     "name": "stderr",
     "text": [
      "DEBUG flwr 2023-04-10 17:10:29,671 | server.py:229 | fit_round 2 received 2 results and 0 failures\n"
     ]
    },
    {
     "output_type": "stream",
     "name": "stdout",
     "text": [
      "\t {'train_loss': 3.7730313539505005, 'train_accuracy': 0.2722222222222222}\n"
     ]
    },
    {
     "output_type": "stream",
     "name": "stderr",
     "text": [
      "INFO flwr 2023-04-10 17:10:51,584 | server.py:116 | fit progress: (2, 17.14887046813965, {'test_loss': 17.14887046813965, 'test_accuracy': 0.02}, 425.103308699996)\n",
      "DEBUG flwr 2023-04-10 17:10:51,585 | server.py:165 | evaluate_round 2: strategy sampled 2 clients (out of 5)\n",
      "DEBUG flwr 2023-04-10 17:11:04,546 | server.py:179 | evaluate_round 2 received 2 results and 0 failures\n",
      "DEBUG flwr 2023-04-10 17:11:04,548 | server.py:215 | fit_round 3: strategy sampled 2 clients (out of 5)\n"
     ]
    },
    {
     "output_type": "stream",
     "name": "stdout",
     "text": [
      "\t {'val_loss': 4.2888031005859375, 'val_accuracy': 0.1}\n"
     ]
    },
    {
     "output_type": "stream",
     "name": "stderr",
     "text": [
      "DEBUG flwr 2023-04-10 17:14:50,805 | server.py:229 | fit_round 3 received 2 results and 0 failures\n"
     ]
    },
    {
     "output_type": "stream",
     "name": "stdout",
     "text": [
      "\t {'train_loss': 3.758507013320923, 'train_accuracy': 0.20555555555555557}\n"
     ]
    },
    {
     "output_type": "stream",
     "name": "stderr",
     "text": [
      "INFO flwr 2023-04-10 17:15:13,129 | server.py:116 | fit progress: (3, 16.90585708618164, {'test_loss': 16.90585708618164, 'test_accuracy': 0.09}, 686.648371000003)\n",
      "DEBUG flwr 2023-04-10 17:15:13,130 | server.py:165 | evaluate_round 3: strategy sampled 2 clients (out of 5)\n",
      "DEBUG flwr 2023-04-10 17:15:25,762 | server.py:179 | evaluate_round 3 received 2 results and 0 failures\n",
      "DEBUG flwr 2023-04-10 17:15:25,763 | server.py:215 | fit_round 4: strategy sampled 2 clients (out of 5)\n"
     ]
    },
    {
     "output_type": "stream",
     "name": "stdout",
     "text": [
      "\t {'val_loss': 4.083571672439575, 'val_accuracy': 0.1}\n"
     ]
    },
    {
     "output_type": "stream",
     "name": "stderr",
     "text": [
      "DEBUG flwr 2023-04-10 17:18:54,665 | server.py:229 | fit_round 4 received 2 results and 0 failures\n"
     ]
    },
    {
     "output_type": "stream",
     "name": "stdout",
     "text": [
      "\t {'train_loss': 3.7122877836227417, 'train_accuracy': 0.35555555555555557}\n"
     ]
    },
    {
     "output_type": "stream",
     "name": "stderr",
     "text": [
      "INFO flwr 2023-04-10 17:19:16,430 | server.py:116 | fit progress: (4, 16.98188018798828, {'test_loss': 16.98188018798828, 'test_accuracy': 0.06}, 929.9496171999926)\n",
      "DEBUG flwr 2023-04-10 17:19:16,431 | server.py:165 | evaluate_round 4: strategy sampled 2 clients (out of 5)\n",
      "DEBUG flwr 2023-04-10 17:19:28,930 | server.py:179 | evaluate_round 4 received 2 results and 0 failures\n",
      "DEBUG flwr 2023-04-10 17:19:28,931 | server.py:215 | fit_round 5: strategy sampled 2 clients (out of 5)\n"
     ]
    },
    {
     "output_type": "stream",
     "name": "stdout",
     "text": [
      "\t {'val_loss': 3.8993754386901855, 'val_accuracy': 0.1}\n"
     ]
    },
    {
     "output_type": "stream",
     "name": "stderr",
     "text": [
      "DEBUG flwr 2023-04-10 17:23:11,738 | server.py:229 | fit_round 5 received 2 results and 0 failures\n"
     ]
    },
    {
     "output_type": "stream",
     "name": "stdout",
     "text": [
      "\t {'train_loss': 3.1559730768203735, 'train_accuracy': 0.5777777777777778}\n"
     ]
    },
    {
     "output_type": "stream",
     "name": "stderr",
     "text": [
      "INFO flwr 2023-04-10 17:23:33,112 | server.py:116 | fit progress: (5, 17.152774810791016, {'test_loss': 17.152774810791016, 'test_accuracy': 0.02}, 1186.6315572000021)\n",
      "DEBUG flwr 2023-04-10 17:23:33,113 | server.py:165 | evaluate_round 5: strategy sampled 2 clients (out of 5)\n",
      "DEBUG flwr 2023-04-10 17:23:45,430 | server.py:179 | evaluate_round 5 received 2 results and 0 failures\n",
      "DEBUG flwr 2023-04-10 17:23:45,431 | server.py:215 | fit_round 6: strategy sampled 2 clients (out of 5)\n"
     ]
    },
    {
     "output_type": "stream",
     "name": "stdout",
     "text": [
      "\t {'val_loss': 3.9162338972091675, 'val_accuracy': 0.15}\n"
     ]
    },
    {
     "output_type": "stream",
     "name": "stderr",
     "text": [
      "DEBUG flwr 2023-04-10 17:27:29,750 | server.py:229 | fit_round 6 received 2 results and 0 failures\n"
     ]
    },
    {
     "output_type": "stream",
     "name": "stdout",
     "text": [
      "\t {'train_loss': 3.0856975317001343, 'train_accuracy': 0.45}\n"
     ]
    },
    {
     "output_type": "stream",
     "name": "stderr",
     "text": [
      "INFO flwr 2023-04-10 17:27:42,361 | server.py:116 | fit progress: (6, 15.922311782836914, {'test_loss': 15.922311782836914, 'test_accuracy': 0.21}, 1435.881132399998)\n",
      "DEBUG flwr 2023-04-10 17:27:42,362 | server.py:165 | evaluate_round 6: strategy sampled 2 clients (out of 5)\n",
      "DEBUG flwr 2023-04-10 17:27:49,665 | server.py:179 | evaluate_round 6 received 2 results and 0 failures\n",
      "DEBUG flwr 2023-04-10 17:27:49,667 | server.py:215 | fit_round 7: strategy sampled 2 clients (out of 5)\n"
     ]
    },
    {
     "output_type": "stream",
     "name": "stdout",
     "text": [
      "\t {'val_loss': 3.763826608657837, 'val_accuracy': 0.3}\n"
     ]
    },
    {
     "output_type": "stream",
     "name": "stderr",
     "text": [
      "DEBUG flwr 2023-04-10 17:31:02,136 | server.py:229 | fit_round 7 received 2 results and 0 failures\n"
     ]
    },
    {
     "output_type": "stream",
     "name": "stdout",
     "text": [
      "\t {'train_loss': 2.4016157388687134, 'train_accuracy': 0.8333333333333334}\n"
     ]
    },
    {
     "output_type": "stream",
     "name": "stderr",
     "text": [
      "INFO flwr 2023-04-10 17:31:12,124 | server.py:116 | fit progress: (7, 14.97767448425293, {'test_loss': 14.97767448425293, 'test_accuracy': 0.24}, 1645.6438343999907)\n",
      "DEBUG flwr 2023-04-10 17:31:12,124 | server.py:165 | evaluate_round 7: strategy sampled 2 clients (out of 5)\n",
      "DEBUG flwr 2023-04-10 17:31:18,555 | server.py:179 | evaluate_round 7 received 2 results and 0 failures\n",
      "DEBUG flwr 2023-04-10 17:31:18,556 | server.py:215 | fit_round 8: strategy sampled 2 clients (out of 5)\n"
     ]
    },
    {
     "output_type": "stream",
     "name": "stdout",
     "text": [
      "\t {'val_loss': 3.6703463792800903, 'val_accuracy': 0.3}\n"
     ]
    },
    {
     "output_type": "stream",
     "name": "stderr",
     "text": [
      "DEBUG flwr 2023-04-10 17:32:54,690 | server.py:229 | fit_round 8 received 2 results and 0 failures\n"
     ]
    },
    {
     "output_type": "stream",
     "name": "stdout",
     "text": [
      "\t {'train_loss': 2.643650770187378, 'train_accuracy': 0.7444444444444445}\n"
     ]
    },
    {
     "output_type": "stream",
     "name": "stderr",
     "text": [
      "INFO flwr 2023-04-10 17:33:04,567 | server.py:116 | fit progress: (8, 14.950607299804688, {'test_loss': 14.950607299804688, 'test_accuracy': 0.21}, 1758.086453900003)\n",
      "DEBUG flwr 2023-04-10 17:33:04,568 | server.py:165 | evaluate_round 8: strategy sampled 2 clients (out of 5)\n",
      "DEBUG flwr 2023-04-10 17:33:10,523 | server.py:179 | evaluate_round 8 received 2 results and 0 failures\n",
      "DEBUG flwr 2023-04-10 17:33:10,525 | server.py:215 | fit_round 9: strategy sampled 2 clients (out of 5)\n"
     ]
    },
    {
     "output_type": "stream",
     "name": "stdout",
     "text": [
      "\t {'val_loss': 3.7598721981048584, 'val_accuracy': 0.25}\n"
     ]
    },
    {
     "output_type": "stream",
     "name": "stderr",
     "text": [
      "DEBUG flwr 2023-04-10 17:34:45,764 | server.py:229 | fit_round 9 received 2 results and 0 failures\n"
     ]
    },
    {
     "output_type": "stream",
     "name": "stdout",
     "text": [
      "\t {'train_loss': 2.6985180377960205, 'train_accuracy': 0.7722222222222221}\n"
     ]
    },
    {
     "output_type": "stream",
     "name": "stderr",
     "text": [
      "INFO flwr 2023-04-10 17:34:55,651 | server.py:116 | fit progress: (9, 14.785489082336426, {'test_loss': 14.785489082336426, 'test_accuracy': 0.23}, 1869.1707787999912)\n",
      "DEBUG flwr 2023-04-10 17:34:55,651 | server.py:165 | evaluate_round 9: strategy sampled 2 clients (out of 5)\n",
      "DEBUG flwr 2023-04-10 17:35:01,403 | server.py:179 | evaluate_round 9 received 2 results and 0 failures\n",
      "DEBUG flwr 2023-04-10 17:35:01,404 | server.py:215 | fit_round 10: strategy sampled 2 clients (out of 5)\n"
     ]
    },
    {
     "output_type": "stream",
     "name": "stdout",
     "text": [
      "\t {'val_loss': 3.63430118560791, 'val_accuracy': 0.3}\n"
     ]
    },
    {
     "output_type": "stream",
     "name": "stderr",
     "text": [
      "DEBUG flwr 2023-04-10 17:36:36,234 | server.py:229 | fit_round 10 received 2 results and 0 failures\n"
     ]
    },
    {
     "output_type": "stream",
     "name": "stdout",
     "text": [
      "\t {'train_loss': 1.8984357714653015, 'train_accuracy': 0.9111111111111111}\n"
     ]
    },
    {
     "output_type": "stream",
     "name": "stderr",
     "text": [
      "INFO flwr 2023-04-10 17:36:45,929 | server.py:116 | fit progress: (10, 14.080836296081543, {'test_loss': 14.080836296081543, 'test_accuracy': 0.28}, 1979.448692399994)\n",
      "DEBUG flwr 2023-04-10 17:36:45,929 | server.py:165 | evaluate_round 10: strategy sampled 2 clients (out of 5)\n",
      "DEBUG flwr 2023-04-10 17:36:51,655 | server.py:179 | evaluate_round 10 received 2 results and 0 failures\n",
      "INFO flwr 2023-04-10 17:36:51,655 | server.py:144 | FL finished in 1985.1748747999955\n",
      "INFO flwr 2023-04-10 17:36:51,676 | app.py:202 | app_fit: losses_distributed [(1, 4.514796257019043), (2, 4.2888031005859375), (3, 4.083571672439575), (4, 3.8993754386901855), (5, 3.9162338972091675), (6, 3.763826608657837), (7, 3.6703463792800903), (8, 3.7598721981048584), (9, 3.63430118560791), (10, 3.015120029449463)]\n",
      "INFO flwr 2023-04-10 17:36:51,677 | app.py:203 | app_fit: metrics_distributed {'val_loss': [(1, 4.514796257019043), (2, 4.2888031005859375), (3, 4.083571672439575), (4, 3.8993754386901855), (5, 3.9162338972091675), (6, 3.763826608657837), (7, 3.6703463792800903), (8, 3.7598721981048584), (9, 3.63430118560791), (10, 3.015120029449463)], 'val_accuracy': [(1, 0.05), (2, 0.1), (3, 0.1), (4, 0.1), (5, 0.15), (6, 0.3), (7, 0.3), (8, 0.25), (9, 0.3), (10, 0.4)]}\n",
      "INFO flwr 2023-04-10 17:36:51,677 | app.py:204 | app_fit: losses_centralized [(0, 19.03642463684082), (1, 18.47378158569336), (2, 17.14887046813965), (3, 16.90585708618164), (4, 16.98188018798828), (5, 17.152774810791016), (6, 15.922311782836914), (7, 14.97767448425293), (8, 14.950607299804688), (9, 14.785489082336426), (10, 14.080836296081543)]\n",
      "INFO flwr 2023-04-10 17:36:51,678 | app.py:205 | app_fit: metrics_centralized {'test_loss': [(0, 19.03642463684082), (1, 18.47378158569336), (2, 17.14887046813965), (3, 16.90585708618164), (4, 16.98188018798828), (5, 17.152774810791016), (6, 15.922311782836914), (7, 14.97767448425293), (8, 14.950607299804688), (9, 14.785489082336426), (10, 14.080836296081543)], 'test_accuracy': [(0, 0.01), (1, 0.01), (2, 0.02), (3, 0.09), (4, 0.06), (5, 0.02), (6, 0.21), (7, 0.24), (8, 0.21), (9, 0.23), (10, 0.28)]}\n"
     ]
    },
    {
     "output_type": "stream",
     "name": "stdout",
     "text": [
      "\t {'val_loss': 3.015120029449463, 'val_accuracy': 0.4}\n"
     ]
    },
    {
     "output_type": "execute_result",
     "data": {
      "text/plain": [
       "History (loss, distributed):\n",
       "\tround 1: 4.514796257019043\n",
       "\tround 2: 4.2888031005859375\n",
       "\tround 3: 4.083571672439575\n",
       "\tround 4: 3.8993754386901855\n",
       "\tround 5: 3.9162338972091675\n",
       "\tround 6: 3.763826608657837\n",
       "\tround 7: 3.6703463792800903\n",
       "\tround 8: 3.7598721981048584\n",
       "\tround 9: 3.63430118560791\n",
       "\tround 10: 3.015120029449463\n",
       "History (loss, centralized):\n",
       "\tround 0: 19.03642463684082\n",
       "\tround 1: 18.47378158569336\n",
       "\tround 2: 17.14887046813965\n",
       "\tround 3: 16.90585708618164\n",
       "\tround 4: 16.98188018798828\n",
       "\tround 5: 17.152774810791016\n",
       "\tround 6: 15.922311782836914\n",
       "\tround 7: 14.97767448425293\n",
       "\tround 8: 14.950607299804688\n",
       "\tround 9: 14.785489082336426\n",
       "\tround 10: 14.080836296081543\n",
       "History (metrics, distributed):\n",
       "{'val_loss': [(1, 4.514796257019043), (2, 4.2888031005859375), (3, 4.083571672439575), (4, 3.8993754386901855), (5, 3.9162338972091675), (6, 3.763826608657837), (7, 3.6703463792800903), (8, 3.7598721981048584), (9, 3.63430118560791), (10, 3.015120029449463)], 'val_accuracy': [(1, 0.05), (2, 0.1), (3, 0.1), (4, 0.1), (5, 0.15), (6, 0.3), (7, 0.3), (8, 0.25), (9, 0.3), (10, 0.4)]}History (metrics, centralized):\n",
       "{'test_loss': [(0, 19.03642463684082), (1, 18.47378158569336), (2, 17.14887046813965), (3, 16.90585708618164), (4, 16.98188018798828), (5, 17.152774810791016), (6, 15.922311782836914), (7, 14.97767448425293), (8, 14.950607299804688), (9, 14.785489082336426), (10, 14.080836296081543)], 'test_accuracy': [(0, 0.01), (1, 0.01), (2, 0.02), (3, 0.09), (4, 0.06), (5, 0.02), (6, 0.21), (7, 0.24), (8, 0.21), (9, 0.23), (10, 0.28)]}"
      ]
     },
     "metadata": {},
     "execution_count": 7
    }
   ],
   "metadata": {}
  }
 ],
 "nbformat": 4,
 "nbformat_minor": 2,
 "metadata": {
  "language_info": {
   "codemirror_mode": {
    "name": "ipython",
    "version": 3
   },
   "file_extension": ".py",
   "mimetype": "text/x-python",
   "name": "python",
   "nbconvert_exporter": "python",
   "pygments_lexer": "ipython3",
   "version": 3
  },
  "orig_nbformat": 4
 }
}