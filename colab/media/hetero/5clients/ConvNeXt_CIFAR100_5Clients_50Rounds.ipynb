{
 "cells": [
  {
   "cell_type": "code",
   "execution_count": 4,
   "source": [
    "print('num clients:', NUM_CLIENTS)\n",
    "print('num rounds:', NUM_ROUNDS)\n",
    "print('--'*20)\n",
    "print('client training set size:', [len(t.dataset) for t in trainloaders])\n",
    "print('client validation set size:', [len(v.dataset) for v in valloaders])\n",
    "print('test set size:', len(testloader.dataset))\n",
    "print('--'*20)\n",
    "print('model name:', MODEL_NAME)\n",
    "print('num classes:', NUM_CLASSES)\n",
    "print('pre-trained:', PRE_TRAINED)\n",
    "print('learning rate:', LEARNING_RATE)\n",
    "print('batch size:', BATCH_SIZE)\n",
    "print('epochs:', EPOCHS)"
   ],
   "outputs": [
    {
     "output_type": "stream",
     "name": "stdout",
     "text": [
      "num clients: 5\n",
      "num rounds: 50\n",
      "----------------------------------------\n",
      "client training set size: [90, 90, 90, 90, 90, 90, 90, 90, 90, 90]\n",
      "client validation set size: [10, 10, 10, 10, 10, 10, 10, 10, 10, 10]\n",
      "test set size: 100\n",
      "----------------------------------------\n",
      "model name: facebook/convnext-tiny-224\n",
      "num classes: 100\n",
      "pre-trained: True\n",
      "learning rate: 0.001\n",
      "batch size: 32\n",
      "epochs: 1\n"
     ]
    }
   ],
   "metadata": {}
  },
  {
   "cell_type": "code",
   "execution_count": 9,
   "source": [
    "fl.simulation.start_simulation(\n",
    "    client_fn=lambda cid: FlowerClient(MODEL_CONFIG, trainloaders[int(cid)], valloaders[int(cid)]),\n",
    "    num_clients=NUM_CLIENTS,\n",
    "    config=fl.server.ServerConfig(num_rounds=NUM_ROUNDS),\n",
    "    strategy=strategy,\n",
    "    client_resources=CLIENT_RESOURCES,\n",
    "    ray_init_args=RAY_ARGS,\n",
    ")"
   ],
   "outputs": [
    {
     "output_type": "stream",
     "name": "stderr",
     "text": [
      "INFO flwr 2023-04-11 21:02:06,433 | app.py:145 | Starting Flower simulation, config: ServerConfig(num_rounds=50, round_timeout=None)\n",
      "2023-04-11 21:02:08,273\tINFO worker.py:1529 -- Started a local Ray instance. View the dashboard at \u001b[1m\u001b[32m127.0.0.1:8265 \u001b[39m\u001b[22m\n",
      "INFO flwr 2023-04-11 21:02:09,493 | app.py:179 | Flower VCE: Ray initialized with resources: {'object_store_memory': 7189019443.0, 'node:127.0.0.1': 1.0, 'CPU': 24.0, 'memory': 14378038887.0, 'GPU': 1.0}\n",
      "INFO flwr 2023-04-11 21:02:09,493 | server.py:86 | Initializing global parameters\n",
      "INFO flwr 2023-04-11 21:02:09,493 | server.py:266 | Using initial parameters provided by strategy\n",
      "INFO flwr 2023-04-11 21:02:09,494 | server.py:88 | Evaluating initial parameters\n",
      "INFO flwr 2023-04-11 21:02:14,438 | server.py:91 | initial parameters (loss, other metrics): 18.46636962890625, {'test_loss': 18.46636962890625, 'test_accuracy': 0.0}\n",
      "INFO flwr 2023-04-11 21:02:14,439 | server.py:101 | FL starting\n",
      "DEBUG flwr 2023-04-11 21:02:14,439 | server.py:215 | fit_round 1: strategy sampled 2 clients (out of 5)\n",
      "DEBUG flwr 2023-04-11 21:02:56,431 | server.py:229 | fit_round 1 received 2 results and 0 failures\n"
     ]
    },
    {
     "output_type": "stream",
     "name": "stdout",
     "text": [
      "\t {'train_loss': 4.042993664741516, 'train_accuracy': 0.05555555555555556}\n"
     ]
    },
    {
     "output_type": "stream",
     "name": "stderr",
     "text": [
      "INFO flwr 2023-04-11 21:03:01,584 | server.py:116 | fit progress: (1, 17.646268844604492, {'test_loss': 17.646268844604492, 'test_accuracy': 0.09}, 47.144867700000304)\n",
      "DEBUG flwr 2023-04-11 21:03:01,584 | server.py:165 | evaluate_round 1: strategy sampled 2 clients (out of 5)\n",
      "DEBUG flwr 2023-04-11 21:03:03,886 | server.py:179 | evaluate_round 1 received 2 results and 0 failures\n",
      "DEBUG flwr 2023-04-11 21:03:03,887 | server.py:215 | fit_round 2: strategy sampled 2 clients (out of 5)\n"
     ]
    },
    {
     "output_type": "stream",
     "name": "stdout",
     "text": [
      "\t {'val_loss': 4.526557207107544, 'val_accuracy': 0.05}\n"
     ]
    },
    {
     "output_type": "stream",
     "name": "stderr",
     "text": [
      "DEBUG flwr 2023-04-11 21:03:44,820 | server.py:229 | fit_round 2 received 2 results and 0 failures\n"
     ]
    },
    {
     "output_type": "stream",
     "name": "stdout",
     "text": [
      "\t {'train_loss': 3.624146819114685, 'train_accuracy': 0.25555555555555554}\n"
     ]
    },
    {
     "output_type": "stream",
     "name": "stderr",
     "text": [
      "INFO flwr 2023-04-11 21:03:49,867 | server.py:116 | fit progress: (2, 16.926481246948242, {'test_loss': 16.926481246948242, 'test_accuracy': 0.1}, 95.42733670000007)\n",
      "DEBUG flwr 2023-04-11 21:03:49,867 | server.py:165 | evaluate_round 2: strategy sampled 2 clients (out of 5)\n",
      "DEBUG flwr 2023-04-11 21:03:51,870 | server.py:179 | evaluate_round 2 received 2 results and 0 failures\n",
      "DEBUG flwr 2023-04-11 21:03:51,871 | server.py:215 | fit_round 3: strategy sampled 2 clients (out of 5)\n"
     ]
    },
    {
     "output_type": "stream",
     "name": "stdout",
     "text": [
      "\t {'val_loss': 4.436800956726074, 'val_accuracy': 0.05}\n"
     ]
    },
    {
     "output_type": "stream",
     "name": "stderr",
     "text": [
      "DEBUG flwr 2023-04-11 21:04:32,092 | server.py:229 | fit_round 3 received 2 results and 0 failures\n"
     ]
    },
    {
     "output_type": "stream",
     "name": "stdout",
     "text": [
      "\t {'train_loss': 4.02373743057251, 'train_accuracy': 0.09999999999999999}\n"
     ]
    },
    {
     "output_type": "stream",
     "name": "stderr",
     "text": [
      "INFO flwr 2023-04-11 21:04:37,259 | server.py:116 | fit progress: (3, 17.41545867919922, {'test_loss': 17.41545867919922, 'test_accuracy': 0.09}, 142.81947089999994)\n",
      "DEBUG flwr 2023-04-11 21:04:37,259 | server.py:165 | evaluate_round 3: strategy sampled 2 clients (out of 5)\n",
      "DEBUG flwr 2023-04-11 21:04:44,213 | server.py:179 | evaluate_round 3 received 2 results and 0 failures\n",
      "DEBUG flwr 2023-04-11 21:04:44,213 | server.py:215 | fit_round 4: strategy sampled 2 clients (out of 5)\n"
     ]
    },
    {
     "output_type": "stream",
     "name": "stdout",
     "text": [
      "\t {'val_loss': 4.135385990142822, 'val_accuracy': 0.05}\n"
     ]
    },
    {
     "output_type": "stream",
     "name": "stderr",
     "text": [
      "DEBUG flwr 2023-04-11 21:05:25,374 | server.py:229 | fit_round 4 received 2 results and 0 failures\n"
     ]
    },
    {
     "output_type": "stream",
     "name": "stdout",
     "text": [
      "\t {'train_loss': 3.4879767894744873, 'train_accuracy': 0.2833333333333333}\n"
     ]
    },
    {
     "output_type": "stream",
     "name": "stderr",
     "text": [
      "INFO flwr 2023-04-11 21:05:30,455 | server.py:116 | fit progress: (4, 19.24501609802246, {'test_loss': 19.24501609802246, 'test_accuracy': 0.0}, 196.01548300000013)\n",
      "DEBUG flwr 2023-04-11 21:05:30,455 | server.py:165 | evaluate_round 4: strategy sampled 2 clients (out of 5)\n",
      "DEBUG flwr 2023-04-11 21:05:32,567 | server.py:179 | evaluate_round 4 received 2 results and 0 failures\n",
      "DEBUG flwr 2023-04-11 21:05:32,568 | server.py:215 | fit_round 5: strategy sampled 2 clients (out of 5)\n"
     ]
    },
    {
     "output_type": "stream",
     "name": "stdout",
     "text": [
      "\t {'val_loss': 4.118413090705872, 'val_accuracy': 0.05}\n"
     ]
    },
    {
     "output_type": "stream",
     "name": "stderr",
     "text": [
      "DEBUG flwr 2023-04-11 21:06:13,051 | server.py:229 | fit_round 5 received 2 results and 0 failures\n"
     ]
    },
    {
     "output_type": "stream",
     "name": "stdout",
     "text": [
      "\t {'train_loss': 3.2030043601989746, 'train_accuracy': 0.4166666666666667}\n"
     ]
    },
    {
     "output_type": "stream",
     "name": "stderr",
     "text": [
      "INFO flwr 2023-04-11 21:06:18,123 | server.py:116 | fit progress: (5, 19.18666648864746, {'test_loss': 19.18666648864746, 'test_accuracy': 0.03}, 243.6839388000003)\n",
      "DEBUG flwr 2023-04-11 21:06:18,124 | server.py:165 | evaluate_round 5: strategy sampled 2 clients (out of 5)\n",
      "DEBUG flwr 2023-04-11 21:06:24,399 | server.py:179 | evaluate_round 5 received 2 results and 0 failures\n",
      "DEBUG flwr 2023-04-11 21:06:24,400 | server.py:215 | fit_round 6: strategy sampled 2 clients (out of 5)\n"
     ]
    },
    {
     "output_type": "stream",
     "name": "stdout",
     "text": [
      "\t {'val_loss': 3.4480953216552734, 'val_accuracy': 0.25}\n"
     ]
    },
    {
     "output_type": "stream",
     "name": "stderr",
     "text": [
      "DEBUG flwr 2023-04-11 21:07:04,952 | server.py:229 | fit_round 6 received 2 results and 0 failures\n"
     ]
    },
    {
     "output_type": "stream",
     "name": "stdout",
     "text": [
      "\t {'train_loss': 3.8600196838378906, 'train_accuracy': 0.11111111111111112}\n"
     ]
    },
    {
     "output_type": "stream",
     "name": "stderr",
     "text": [
      "INFO flwr 2023-04-11 21:07:10,005 | server.py:116 | fit progress: (6, 16.587858200073242, {'test_loss': 16.587858200073242, 'test_accuracy': 0.14}, 295.5657620000002)\n",
      "DEBUG flwr 2023-04-11 21:07:10,006 | server.py:165 | evaluate_round 6: strategy sampled 2 clients (out of 5)\n",
      "DEBUG flwr 2023-04-11 21:07:12,201 | server.py:179 | evaluate_round 6 received 2 results and 0 failures\n",
      "DEBUG flwr 2023-04-11 21:07:12,201 | server.py:215 | fit_round 7: strategy sampled 2 clients (out of 5)\n"
     ]
    },
    {
     "output_type": "stream",
     "name": "stdout",
     "text": [
      "\t {'val_loss': 4.089815139770508, 'val_accuracy': 0.15000000000000002}\n"
     ]
    },
    {
     "output_type": "stream",
     "name": "stderr",
     "text": [
      "DEBUG flwr 2023-04-11 21:07:52,093 | server.py:229 | fit_round 7 received 2 results and 0 failures\n"
     ]
    },
    {
     "output_type": "stream",
     "name": "stdout",
     "text": [
      "\t {'train_loss': 3.055097460746765, 'train_accuracy': 0.4166666666666667}\n"
     ]
    },
    {
     "output_type": "stream",
     "name": "stderr",
     "text": [
      "INFO flwr 2023-04-11 21:07:57,138 | server.py:116 | fit progress: (7, 15.9235200881958, {'test_loss': 15.9235200881958, 'test_accuracy': 0.12}, 342.69883230000005)\n",
      "DEBUG flwr 2023-04-11 21:07:57,139 | server.py:165 | evaluate_round 7: strategy sampled 2 clients (out of 5)\n",
      "DEBUG flwr 2023-04-11 21:07:59,573 | server.py:179 | evaluate_round 7 received 2 results and 0 failures\n",
      "DEBUG flwr 2023-04-11 21:07:59,573 | server.py:215 | fit_round 8: strategy sampled 2 clients (out of 5)\n"
     ]
    },
    {
     "output_type": "stream",
     "name": "stdout",
     "text": [
      "\t {'val_loss': 4.470763206481934, 'val_accuracy': 0.0}\n"
     ]
    },
    {
     "output_type": "stream",
     "name": "stderr",
     "text": [
      "DEBUG flwr 2023-04-11 21:08:39,828 | server.py:229 | fit_round 8 received 2 results and 0 failures\n"
     ]
    },
    {
     "output_type": "stream",
     "name": "stdout",
     "text": [
      "\t {'train_loss': 3.2204055786132812, 'train_accuracy': 0.3111111111111111}\n"
     ]
    },
    {
     "output_type": "stream",
     "name": "stderr",
     "text": [
      "INFO flwr 2023-04-11 21:08:44,888 | server.py:116 | fit progress: (8, 15.194391250610352, {'test_loss': 15.194391250610352, 'test_accuracy': 0.2}, 390.4491164000001)\n",
      "DEBUG flwr 2023-04-11 21:08:44,889 | server.py:165 | evaluate_round 8: strategy sampled 2 clients (out of 5)\n",
      "DEBUG flwr 2023-04-11 21:08:46,969 | server.py:179 | evaluate_round 8 received 2 results and 0 failures\n",
      "DEBUG flwr 2023-04-11 21:08:46,969 | server.py:215 | fit_round 9: strategy sampled 2 clients (out of 5)\n"
     ]
    },
    {
     "output_type": "stream",
     "name": "stdout",
     "text": [
      "\t {'val_loss': 4.008263111114502, 'val_accuracy': 0.05}\n"
     ]
    },
    {
     "output_type": "stream",
     "name": "stderr",
     "text": [
      "DEBUG flwr 2023-04-11 21:09:27,218 | server.py:229 | fit_round 9 received 2 results and 0 failures\n"
     ]
    },
    {
     "output_type": "stream",
     "name": "stdout",
     "text": [
      "\t {'train_loss': 2.8617604970932007, 'train_accuracy': 0.39444444444444443}\n"
     ]
    },
    {
     "output_type": "stream",
     "name": "stderr",
     "text": [
      "INFO flwr 2023-04-11 21:09:32,397 | server.py:116 | fit progress: (9, 16.412757873535156, {'test_loss': 16.412757873535156, 'test_accuracy': 0.13}, 437.95825190000005)\n",
      "DEBUG flwr 2023-04-11 21:09:32,398 | server.py:165 | evaluate_round 9: strategy sampled 2 clients (out of 5)\n",
      "DEBUG flwr 2023-04-11 21:09:34,376 | server.py:179 | evaluate_round 9 received 2 results and 0 failures\n",
      "DEBUG flwr 2023-04-11 21:09:34,376 | server.py:215 | fit_round 10: strategy sampled 2 clients (out of 5)\n"
     ]
    },
    {
     "output_type": "stream",
     "name": "stdout",
     "text": [
      "\t {'val_loss': 4.063230276107788, 'val_accuracy': 0.15}\n"
     ]
    },
    {
     "output_type": "stream",
     "name": "stderr",
     "text": [
      "DEBUG flwr 2023-04-11 21:10:14,366 | server.py:229 | fit_round 10 received 2 results and 0 failures\n"
     ]
    },
    {
     "output_type": "stream",
     "name": "stdout",
     "text": [
      "\t {'train_loss': 2.7162522077560425, 'train_accuracy': 0.3833333333333333}\n"
     ]
    },
    {
     "output_type": "stream",
     "name": "stderr",
     "text": [
      "INFO flwr 2023-04-11 21:10:19,420 | server.py:116 | fit progress: (10, 15.50223159790039, {'test_loss': 15.50223159790039, 'test_accuracy': 0.17}, 484.98138289999997)\n",
      "DEBUG flwr 2023-04-11 21:10:19,421 | server.py:165 | evaluate_round 10: strategy sampled 2 clients (out of 5)\n",
      "DEBUG flwr 2023-04-11 21:10:24,768 | server.py:179 | evaluate_round 10 received 2 results and 0 failures\n",
      "DEBUG flwr 2023-04-11 21:10:24,769 | server.py:215 | fit_round 11: strategy sampled 2 clients (out of 5)\n"
     ]
    },
    {
     "output_type": "stream",
     "name": "stdout",
     "text": [
      "\t {'val_loss': 2.788655638694763, 'val_accuracy': 0.4}\n"
     ]
    },
    {
     "output_type": "stream",
     "name": "stderr",
     "text": [
      "DEBUG flwr 2023-04-11 21:11:05,593 | server.py:229 | fit_round 11 received 2 results and 0 failures\n"
     ]
    },
    {
     "output_type": "stream",
     "name": "stdout",
     "text": [
      "\t {'train_loss': 2.3260387182235718, 'train_accuracy': 0.611111111111111}\n"
     ]
    },
    {
     "output_type": "stream",
     "name": "stderr",
     "text": [
      "INFO flwr 2023-04-11 21:11:10,620 | server.py:116 | fit progress: (11, 14.101607322692871, {'test_loss': 14.101607322692871, 'test_accuracy': 0.26}, 536.1807957000001)\n",
      "DEBUG flwr 2023-04-11 21:11:10,620 | server.py:165 | evaluate_round 11: strategy sampled 2 clients (out of 5)\n",
      "DEBUG flwr 2023-04-11 21:11:12,962 | server.py:179 | evaluate_round 11 received 2 results and 0 failures\n",
      "DEBUG flwr 2023-04-11 21:11:12,963 | server.py:215 | fit_round 12: strategy sampled 2 clients (out of 5)\n"
     ]
    },
    {
     "output_type": "stream",
     "name": "stdout",
     "text": [
      "\t {'val_loss': 2.6141966581344604, 'val_accuracy': 0.35}\n"
     ]
    },
    {
     "output_type": "stream",
     "name": "stderr",
     "text": [
      "DEBUG flwr 2023-04-11 21:11:53,720 | server.py:229 | fit_round 12 received 2 results and 0 failures\n"
     ]
    },
    {
     "output_type": "stream",
     "name": "stdout",
     "text": [
      "\t {'train_loss': 2.1459091901779175, 'train_accuracy': 0.6277777777777779}\n"
     ]
    },
    {
     "output_type": "stream",
     "name": "stderr",
     "text": [
      "INFO flwr 2023-04-11 21:11:58,736 | server.py:116 | fit progress: (12, 16.193878173828125, {'test_loss': 16.193878173828125, 'test_accuracy': 0.12}, 584.2971872000003)\n",
      "DEBUG flwr 2023-04-11 21:11:58,737 | server.py:165 | evaluate_round 12: strategy sampled 2 clients (out of 5)\n",
      "DEBUG flwr 2023-04-11 21:12:00,751 | server.py:179 | evaluate_round 12 received 2 results and 0 failures\n",
      "DEBUG flwr 2023-04-11 21:12:00,752 | server.py:215 | fit_round 13: strategy sampled 2 clients (out of 5)\n"
     ]
    },
    {
     "output_type": "stream",
     "name": "stdout",
     "text": [
      "\t {'val_loss': 3.2703640460968018, 'val_accuracy': 0.35}\n"
     ]
    },
    {
     "output_type": "stream",
     "name": "stderr",
     "text": [
      "DEBUG flwr 2023-04-11 21:12:40,746 | server.py:229 | fit_round 13 received 2 results and 0 failures\n"
     ]
    },
    {
     "output_type": "stream",
     "name": "stdout",
     "text": [
      "\t {'train_loss': 1.8383692502975464, 'train_accuracy': 0.7555555555555555}\n"
     ]
    },
    {
     "output_type": "stream",
     "name": "stderr",
     "text": [
      "INFO flwr 2023-04-11 21:12:45,752 | server.py:116 | fit progress: (13, 14.753778457641602, {'test_loss': 14.753778457641602, 'test_accuracy': 0.23}, 631.3132899000002)\n",
      "DEBUG flwr 2023-04-11 21:12:45,753 | server.py:165 | evaluate_round 13: strategy sampled 2 clients (out of 5)\n",
      "DEBUG flwr 2023-04-11 21:12:47,831 | server.py:179 | evaluate_round 13 received 2 results and 0 failures\n",
      "DEBUG flwr 2023-04-11 21:12:47,832 | server.py:215 | fit_round 14: strategy sampled 2 clients (out of 5)\n"
     ]
    },
    {
     "output_type": "stream",
     "name": "stdout",
     "text": [
      "\t {'val_loss': 3.306187629699707, 'val_accuracy': 0.25}\n"
     ]
    },
    {
     "output_type": "stream",
     "name": "stderr",
     "text": [
      "DEBUG flwr 2023-04-11 21:13:27,874 | server.py:229 | fit_round 14 received 2 results and 0 failures\n"
     ]
    },
    {
     "output_type": "stream",
     "name": "stdout",
     "text": [
      "\t {'train_loss': 1.4010342955589294, 'train_accuracy': 0.8722222222222222}\n"
     ]
    },
    {
     "output_type": "stream",
     "name": "stderr",
     "text": [
      "INFO flwr 2023-04-11 21:13:32,940 | server.py:116 | fit progress: (14, 14.03508186340332, {'test_loss': 14.03508186340332, 'test_accuracy': 0.27}, 678.5006764)\n",
      "DEBUG flwr 2023-04-11 21:13:32,940 | server.py:165 | evaluate_round 14: strategy sampled 2 clients (out of 5)\n",
      "DEBUG flwr 2023-04-11 21:13:38,847 | server.py:179 | evaluate_round 14 received 2 results and 0 failures\n",
      "DEBUG flwr 2023-04-11 21:13:38,848 | server.py:215 | fit_round 15: strategy sampled 2 clients (out of 5)\n"
     ]
    },
    {
     "output_type": "stream",
     "name": "stdout",
     "text": [
      "\t {'val_loss': 2.855631709098816, 'val_accuracy': 0.2}\n"
     ]
    },
    {
     "output_type": "stream",
     "name": "stderr",
     "text": [
      "DEBUG flwr 2023-04-11 21:14:18,993 | server.py:229 | fit_round 15 received 2 results and 0 failures\n"
     ]
    },
    {
     "output_type": "stream",
     "name": "stdout",
     "text": [
      "\t {'train_loss': 1.6193470060825348, 'train_accuracy': 0.8222222222222223}\n"
     ]
    },
    {
     "output_type": "stream",
     "name": "stderr",
     "text": [
      "INFO flwr 2023-04-11 21:14:24,011 | server.py:116 | fit progress: (15, 17.202041625976562, {'test_loss': 17.202041625976562, 'test_accuracy': 0.12}, 729.5718293)\n",
      "DEBUG flwr 2023-04-11 21:14:24,012 | server.py:165 | evaluate_round 15: strategy sampled 2 clients (out of 5)\n",
      "DEBUG flwr 2023-04-11 21:14:26,077 | server.py:179 | evaluate_round 15 received 2 results and 0 failures\n",
      "DEBUG flwr 2023-04-11 21:14:26,078 | server.py:215 | fit_round 16: strategy sampled 2 clients (out of 5)\n"
     ]
    },
    {
     "output_type": "stream",
     "name": "stdout",
     "text": [
      "\t {'val_loss': 2.243336319923401, 'val_accuracy': 0.44999999999999996}\n"
     ]
    },
    {
     "output_type": "stream",
     "name": "stderr",
     "text": [
      "DEBUG flwr 2023-04-11 21:15:06,212 | server.py:229 | fit_round 16 received 2 results and 0 failures\n"
     ]
    },
    {
     "output_type": "stream",
     "name": "stdout",
     "text": [
      "\t {'train_loss': 1.5913102626800537, 'train_accuracy': 0.8777777777777778}\n"
     ]
    },
    {
     "output_type": "stream",
     "name": "stderr",
     "text": [
      "INFO flwr 2023-04-11 21:15:11,203 | server.py:116 | fit progress: (16, 12.938100814819336, {'test_loss': 12.938100814819336, 'test_accuracy': 0.26}, 776.7638896000003)\n",
      "DEBUG flwr 2023-04-11 21:15:11,203 | server.py:165 | evaluate_round 16: strategy sampled 2 clients (out of 5)\n",
      "DEBUG flwr 2023-04-11 21:15:17,056 | server.py:179 | evaluate_round 16 received 2 results and 0 failures\n",
      "DEBUG flwr 2023-04-11 21:15:17,057 | server.py:215 | fit_round 17: strategy sampled 2 clients (out of 5)\n"
     ]
    },
    {
     "output_type": "stream",
     "name": "stdout",
     "text": [
      "\t {'val_loss': 2.3019973635673523, 'val_accuracy': 0.3}\n"
     ]
    },
    {
     "output_type": "stream",
     "name": "stderr",
     "text": [
      "DEBUG flwr 2023-04-11 21:15:57,433 | server.py:229 | fit_round 17 received 2 results and 0 failures\n"
     ]
    },
    {
     "output_type": "stream",
     "name": "stdout",
     "text": [
      "\t {'train_loss': 0.7261123955249786, 'train_accuracy': 0.9499999999999998}\n"
     ]
    },
    {
     "output_type": "stream",
     "name": "stderr",
     "text": [
      "INFO flwr 2023-04-11 21:16:02,424 | server.py:116 | fit progress: (17, 13.24670124053955, {'test_loss': 13.24670124053955, 'test_accuracy': 0.26}, 827.9849004000002)\n",
      "DEBUG flwr 2023-04-11 21:16:02,425 | server.py:165 | evaluate_round 17: strategy sampled 2 clients (out of 5)\n",
      "DEBUG flwr 2023-04-11 21:16:04,506 | server.py:179 | evaluate_round 17 received 2 results and 0 failures\n",
      "DEBUG flwr 2023-04-11 21:16:04,507 | server.py:215 | fit_round 18: strategy sampled 2 clients (out of 5)\n"
     ]
    },
    {
     "output_type": "stream",
     "name": "stdout",
     "text": [
      "\t {'val_loss': 2.3460869789123535, 'val_accuracy': 0.4}\n"
     ]
    },
    {
     "output_type": "stream",
     "name": "stderr",
     "text": [
      "DEBUG flwr 2023-04-11 21:16:44,793 | server.py:229 | fit_round 18 received 2 results and 0 failures\n"
     ]
    },
    {
     "output_type": "stream",
     "name": "stdout",
     "text": [
      "\t {'train_loss': 1.262287750840187, 'train_accuracy': 0.7222222222222222}\n"
     ]
    },
    {
     "output_type": "stream",
     "name": "stderr",
     "text": [
      "INFO flwr 2023-04-11 21:16:49,814 | server.py:116 | fit progress: (18, 12.697383880615234, {'test_loss': 12.697383880615234, 'test_accuracy': 0.25}, 875.3747406000002)\n",
      "DEBUG flwr 2023-04-11 21:16:49,815 | server.py:165 | evaluate_round 18: strategy sampled 2 clients (out of 5)\n",
      "DEBUG flwr 2023-04-11 21:16:51,883 | server.py:179 | evaluate_round 18 received 2 results and 0 failures\n",
      "DEBUG flwr 2023-04-11 21:16:51,883 | server.py:215 | fit_round 19: strategy sampled 2 clients (out of 5)\n"
     ]
    },
    {
     "output_type": "stream",
     "name": "stdout",
     "text": [
      "\t {'val_loss': 3.845276355743408, 'val_accuracy': 0.15}\n"
     ]
    },
    {
     "output_type": "stream",
     "name": "stderr",
     "text": [
      "DEBUG flwr 2023-04-11 21:17:32,023 | server.py:229 | fit_round 19 received 2 results and 0 failures\n"
     ]
    },
    {
     "output_type": "stream",
     "name": "stdout",
     "text": [
      "\t {'train_loss': 1.7340949773788452, 'train_accuracy': 0.8222222222222223}\n"
     ]
    },
    {
     "output_type": "stream",
     "name": "stderr",
     "text": [
      "INFO flwr 2023-04-11 21:17:37,131 | server.py:116 | fit progress: (19, 13.154394149780273, {'test_loss': 13.154394149780273, 'test_accuracy': 0.29}, 922.6916504999999)\n",
      "DEBUG flwr 2023-04-11 21:17:37,131 | server.py:165 | evaluate_round 19: strategy sampled 2 clients (out of 5)\n",
      "DEBUG flwr 2023-04-11 21:17:39,208 | server.py:179 | evaluate_round 19 received 2 results and 0 failures\n",
      "DEBUG flwr 2023-04-11 21:17:39,209 | server.py:215 | fit_round 20: strategy sampled 2 clients (out of 5)\n"
     ]
    },
    {
     "output_type": "stream",
     "name": "stdout",
     "text": [
      "\t {'val_loss': 2.5627071857452393, 'val_accuracy': 0.4}\n"
     ]
    },
    {
     "output_type": "stream",
     "name": "stderr",
     "text": [
      "DEBUG flwr 2023-04-11 21:18:19,863 | server.py:229 | fit_round 20 received 2 results and 0 failures\n"
     ]
    },
    {
     "output_type": "stream",
     "name": "stdout",
     "text": [
      "\t {'train_loss': 1.071962371468544, 'train_accuracy': 0.8944444444444445}\n"
     ]
    },
    {
     "output_type": "stream",
     "name": "stderr",
     "text": [
      "INFO flwr 2023-04-11 21:18:24,844 | server.py:116 | fit progress: (20, 13.271050453186035, {'test_loss': 13.271050453186035, 'test_accuracy': 0.27}, 970.4048556000002)\n",
      "DEBUG flwr 2023-04-11 21:18:24,845 | server.py:165 | evaluate_round 20: strategy sampled 2 clients (out of 5)\n",
      "DEBUG flwr 2023-04-11 21:18:26,940 | server.py:179 | evaluate_round 20 received 2 results and 0 failures\n",
      "DEBUG flwr 2023-04-11 21:18:26,941 | server.py:215 | fit_round 21: strategy sampled 2 clients (out of 5)\n"
     ]
    },
    {
     "output_type": "stream",
     "name": "stdout",
     "text": [
      "\t {'val_loss': 2.0409594774246216, 'val_accuracy': 0.6}\n"
     ]
    },
    {
     "output_type": "stream",
     "name": "stderr",
     "text": [
      "DEBUG flwr 2023-04-11 21:19:07,180 | server.py:229 | fit_round 21 received 2 results and 0 failures\n"
     ]
    },
    {
     "output_type": "stream",
     "name": "stdout",
     "text": [
      "\t {'train_loss': 0.6765828430652618, 'train_accuracy': 0.9333333333333332}\n"
     ]
    },
    {
     "output_type": "stream",
     "name": "stderr",
     "text": [
      "INFO flwr 2023-04-11 21:19:12,184 | server.py:116 | fit progress: (21, 12.695006370544434, {'test_loss': 12.695006370544434, 'test_accuracy': 0.31}, 1017.7443711999999)\n",
      "DEBUG flwr 2023-04-11 21:19:12,184 | server.py:165 | evaluate_round 21: strategy sampled 2 clients (out of 5)\n",
      "DEBUG flwr 2023-04-11 21:19:14,250 | server.py:179 | evaluate_round 21 received 2 results and 0 failures\n",
      "DEBUG flwr 2023-04-11 21:19:14,250 | server.py:215 | fit_round 22: strategy sampled 2 clients (out of 5)\n"
     ]
    },
    {
     "output_type": "stream",
     "name": "stdout",
     "text": [
      "\t {'val_loss': 2.118897259235382, 'val_accuracy': 0.55}\n"
     ]
    },
    {
     "output_type": "stream",
     "name": "stderr",
     "text": [
      "DEBUG flwr 2023-04-11 21:19:54,226 | server.py:229 | fit_round 22 received 2 results and 0 failures\n"
     ]
    },
    {
     "output_type": "stream",
     "name": "stdout",
     "text": [
      "\t {'train_loss': 1.073820173740387, 'train_accuracy': 0.8944444444444444}\n"
     ]
    },
    {
     "output_type": "stream",
     "name": "stderr",
     "text": [
      "INFO flwr 2023-04-11 21:19:59,245 | server.py:116 | fit progress: (22, 12.148645401000977, {'test_loss': 12.148645401000977, 'test_accuracy': 0.23}, 1064.8059108000002)\n",
      "DEBUG flwr 2023-04-11 21:19:59,246 | server.py:165 | evaluate_round 22: strategy sampled 2 clients (out of 5)\n",
      "DEBUG flwr 2023-04-11 21:20:01,204 | server.py:179 | evaluate_round 22 received 2 results and 0 failures\n",
      "DEBUG flwr 2023-04-11 21:20:01,205 | server.py:215 | fit_round 23: strategy sampled 2 clients (out of 5)\n"
     ]
    },
    {
     "output_type": "stream",
     "name": "stdout",
     "text": [
      "\t {'val_loss': 2.58965003490448, 'val_accuracy': 0.45}\n"
     ]
    },
    {
     "output_type": "stream",
     "name": "stderr",
     "text": [
      "DEBUG flwr 2023-04-11 21:20:41,266 | server.py:229 | fit_round 23 received 2 results and 0 failures\n"
     ]
    },
    {
     "output_type": "stream",
     "name": "stdout",
     "text": [
      "\t {'train_loss': 0.37224987894296646, 'train_accuracy': 0.9833333333333334}\n"
     ]
    },
    {
     "output_type": "stream",
     "name": "stderr",
     "text": [
      "INFO flwr 2023-04-11 21:20:46,258 | server.py:116 | fit progress: (23, 12.454483032226562, {'test_loss': 12.454483032226562, 'test_accuracy': 0.33}, 1111.8190705000002)\n",
      "DEBUG flwr 2023-04-11 21:20:46,259 | server.py:165 | evaluate_round 23: strategy sampled 2 clients (out of 5)\n",
      "DEBUG flwr 2023-04-11 21:20:52,024 | server.py:179 | evaluate_round 23 received 2 results and 0 failures\n",
      "DEBUG flwr 2023-04-11 21:20:52,024 | server.py:215 | fit_round 24: strategy sampled 2 clients (out of 5)\n"
     ]
    },
    {
     "output_type": "stream",
     "name": "stdout",
     "text": [
      "\t {'val_loss': 2.652121424674988, 'val_accuracy': 0.25}\n"
     ]
    },
    {
     "output_type": "stream",
     "name": "stderr",
     "text": [
      "DEBUG flwr 2023-04-11 21:21:32,366 | server.py:229 | fit_round 24 received 2 results and 0 failures\n"
     ]
    },
    {
     "output_type": "stream",
     "name": "stdout",
     "text": [
      "\t {'train_loss': 1.193375676870346, 'train_accuracy': 0.9}\n"
     ]
    },
    {
     "output_type": "stream",
     "name": "stderr",
     "text": [
      "INFO flwr 2023-04-11 21:21:37,339 | server.py:116 | fit progress: (24, 11.621231079101562, {'test_loss': 11.621231079101562, 'test_accuracy': 0.34}, 1162.9001252000003)\n",
      "DEBUG flwr 2023-04-11 21:21:37,340 | server.py:165 | evaluate_round 24: strategy sampled 2 clients (out of 5)\n",
      "DEBUG flwr 2023-04-11 21:21:39,579 | server.py:179 | evaluate_round 24 received 2 results and 0 failures\n",
      "DEBUG flwr 2023-04-11 21:21:39,580 | server.py:215 | fit_round 25: strategy sampled 2 clients (out of 5)\n"
     ]
    },
    {
     "output_type": "stream",
     "name": "stdout",
     "text": [
      "\t {'val_loss': 2.865334630012512, 'val_accuracy': 0.3}\n"
     ]
    },
    {
     "output_type": "stream",
     "name": "stderr",
     "text": [
      "DEBUG flwr 2023-04-11 21:22:19,893 | server.py:229 | fit_round 25 received 2 results and 0 failures\n"
     ]
    },
    {
     "output_type": "stream",
     "name": "stdout",
     "text": [
      "\t {'train_loss': 0.9384504556655884, 'train_accuracy': 0.9388888888888888}\n"
     ]
    },
    {
     "output_type": "stream",
     "name": "stderr",
     "text": [
      "INFO flwr 2023-04-11 21:22:24,901 | server.py:116 | fit progress: (25, 11.715898513793945, {'test_loss': 11.715898513793945, 'test_accuracy': 0.3}, 1210.4617617)\n",
      "DEBUG flwr 2023-04-11 21:22:24,902 | server.py:165 | evaluate_round 25: strategy sampled 2 clients (out of 5)\n",
      "DEBUG flwr 2023-04-11 21:22:27,193 | server.py:179 | evaluate_round 25 received 2 results and 0 failures\n",
      "DEBUG flwr 2023-04-11 21:22:27,194 | server.py:215 | fit_round 26: strategy sampled 2 clients (out of 5)\n"
     ]
    },
    {
     "output_type": "stream",
     "name": "stdout",
     "text": [
      "\t {'val_loss': 1.5895344018936157, 'val_accuracy': 0.6499999999999999}\n"
     ]
    },
    {
     "output_type": "stream",
     "name": "stderr",
     "text": [
      "DEBUG flwr 2023-04-11 21:23:07,569 | server.py:229 | fit_round 26 received 2 results and 0 failures\n"
     ]
    },
    {
     "output_type": "stream",
     "name": "stdout",
     "text": [
      "\t {'train_loss': 0.38151850551366806, 'train_accuracy': 0.9888888888888889}\n"
     ]
    },
    {
     "output_type": "stream",
     "name": "stderr",
     "text": [
      "INFO flwr 2023-04-11 21:23:12,547 | server.py:116 | fit progress: (26, 11.744377136230469, {'test_loss': 11.744377136230469, 'test_accuracy': 0.27}, 1258.1081767)\n",
      "DEBUG flwr 2023-04-11 21:23:12,548 | server.py:165 | evaluate_round 26: strategy sampled 2 clients (out of 5)\n",
      "DEBUG flwr 2023-04-11 21:23:14,765 | server.py:179 | evaluate_round 26 received 2 results and 0 failures\n",
      "DEBUG flwr 2023-04-11 21:23:14,765 | server.py:215 | fit_round 27: strategy sampled 2 clients (out of 5)\n"
     ]
    },
    {
     "output_type": "stream",
     "name": "stdout",
     "text": [
      "\t {'val_loss': 3.0699163675308228, 'val_accuracy': 0.3}\n"
     ]
    },
    {
     "output_type": "stream",
     "name": "stderr",
     "text": [
      "DEBUG flwr 2023-04-11 21:23:54,715 | server.py:229 | fit_round 27 received 2 results and 0 failures\n"
     ]
    },
    {
     "output_type": "stream",
     "name": "stdout",
     "text": [
      "\t {'train_loss': 0.5659243762493134, 'train_accuracy': 0.9555555555555554}\n"
     ]
    },
    {
     "output_type": "stream",
     "name": "stderr",
     "text": [
      "INFO flwr 2023-04-11 21:23:59,728 | server.py:116 | fit progress: (27, 11.271505355834961, {'test_loss': 11.271505355834961, 'test_accuracy': 0.31}, 1305.288465)\n",
      "DEBUG flwr 2023-04-11 21:23:59,728 | server.py:165 | evaluate_round 27: strategy sampled 2 clients (out of 5)\n",
      "DEBUG flwr 2023-04-11 21:24:01,799 | server.py:179 | evaluate_round 27 received 2 results and 0 failures\n",
      "DEBUG flwr 2023-04-11 21:24:01,800 | server.py:215 | fit_round 28: strategy sampled 2 clients (out of 5)\n"
     ]
    },
    {
     "output_type": "stream",
     "name": "stdout",
     "text": [
      "\t {'val_loss': 1.8782101273536682, 'val_accuracy': 0.55}\n"
     ]
    },
    {
     "output_type": "stream",
     "name": "stderr",
     "text": [
      "DEBUG flwr 2023-04-11 21:24:42,163 | server.py:229 | fit_round 28 received 2 results and 0 failures\n"
     ]
    },
    {
     "output_type": "stream",
     "name": "stdout",
     "text": [
      "\t {'train_loss': 0.5982367247343063, 'train_accuracy': 0.9388888888888888}\n"
     ]
    },
    {
     "output_type": "stream",
     "name": "stderr",
     "text": [
      "INFO flwr 2023-04-11 21:24:47,146 | server.py:116 | fit progress: (28, 11.139826774597168, {'test_loss': 11.139826774597168, 'test_accuracy': 0.34}, 1352.7065219)\n",
      "DEBUG flwr 2023-04-11 21:24:47,146 | server.py:165 | evaluate_round 28: strategy sampled 2 clients (out of 5)\n",
      "DEBUG flwr 2023-04-11 21:24:49,105 | server.py:179 | evaluate_round 28 received 2 results and 0 failures\n",
      "DEBUG flwr 2023-04-11 21:24:49,106 | server.py:215 | fit_round 29: strategy sampled 2 clients (out of 5)\n"
     ]
    },
    {
     "output_type": "stream",
     "name": "stdout",
     "text": [
      "\t {'val_loss': 2.7607678174972534, 'val_accuracy': 0.35}\n"
     ]
    },
    {
     "output_type": "stream",
     "name": "stderr",
     "text": [
      "DEBUG flwr 2023-04-11 21:25:28,915 | server.py:229 | fit_round 29 received 2 results and 0 failures\n"
     ]
    },
    {
     "output_type": "stream",
     "name": "stdout",
     "text": [
      "\t {'train_loss': 0.10916263982653618, 'train_accuracy': 0.9888888888888889}\n"
     ]
    },
    {
     "output_type": "stream",
     "name": "stderr",
     "text": [
      "INFO flwr 2023-04-11 21:25:34,047 | server.py:116 | fit progress: (29, 11.604849815368652, {'test_loss': 11.604849815368652, 'test_accuracy': 0.32}, 1399.6073352000003)\n",
      "DEBUG flwr 2023-04-11 21:25:34,047 | server.py:165 | evaluate_round 29: strategy sampled 2 clients (out of 5)\n",
      "DEBUG flwr 2023-04-11 21:25:39,699 | server.py:179 | evaluate_round 29 received 2 results and 0 failures\n",
      "DEBUG flwr 2023-04-11 21:25:39,700 | server.py:215 | fit_round 30: strategy sampled 2 clients (out of 5)\n"
     ]
    },
    {
     "output_type": "stream",
     "name": "stdout",
     "text": [
      "\t {'val_loss': 1.9197063446044922, 'val_accuracy': 0.6}\n"
     ]
    },
    {
     "output_type": "stream",
     "name": "stderr",
     "text": [
      "DEBUG flwr 2023-04-11 21:26:20,082 | server.py:229 | fit_round 30 received 2 results and 0 failures\n"
     ]
    },
    {
     "output_type": "stream",
     "name": "stdout",
     "text": [
      "\t {'train_loss': 0.24086856842041016, 'train_accuracy': 0.9833333333333334}\n"
     ]
    },
    {
     "output_type": "stream",
     "name": "stderr",
     "text": [
      "INFO flwr 2023-04-11 21:26:25,084 | server.py:116 | fit progress: (30, 11.670120239257812, {'test_loss': 11.670120239257812, 'test_accuracy': 0.32}, 1450.6448467)\n",
      "DEBUG flwr 2023-04-11 21:26:25,085 | server.py:165 | evaluate_round 30: strategy sampled 2 clients (out of 5)\n",
      "DEBUG flwr 2023-04-11 21:26:27,188 | server.py:179 | evaluate_round 30 received 2 results and 0 failures\n",
      "DEBUG flwr 2023-04-11 21:26:27,189 | server.py:215 | fit_round 31: strategy sampled 2 clients (out of 5)\n"
     ]
    },
    {
     "output_type": "stream",
     "name": "stdout",
     "text": [
      "\t {'val_loss': 1.5870684385299683, 'val_accuracy': 0.6}\n"
     ]
    },
    {
     "output_type": "stream",
     "name": "stderr",
     "text": [
      "DEBUG flwr 2023-04-11 21:27:07,436 | server.py:229 | fit_round 31 received 2 results and 0 failures\n"
     ]
    },
    {
     "output_type": "stream",
     "name": "stdout",
     "text": [
      "\t {'train_loss': 0.10058239847421646, 'train_accuracy': 1.0}\n"
     ]
    },
    {
     "output_type": "stream",
     "name": "stderr",
     "text": [
      "INFO flwr 2023-04-11 21:27:12,507 | server.py:116 | fit progress: (31, 12.707740783691406, {'test_loss': 12.707740783691406, 'test_accuracy': 0.31}, 1498.0679722)\n",
      "DEBUG flwr 2023-04-11 21:27:12,508 | server.py:165 | evaluate_round 31: strategy sampled 2 clients (out of 5)\n",
      "DEBUG flwr 2023-04-11 21:27:18,830 | server.py:179 | evaluate_round 31 received 2 results and 0 failures\n",
      "DEBUG flwr 2023-04-11 21:27:18,831 | server.py:215 | fit_round 32: strategy sampled 2 clients (out of 5)\n"
     ]
    },
    {
     "output_type": "stream",
     "name": "stdout",
     "text": [
      "\t {'val_loss': 2.1969075202941895, 'val_accuracy': 0.44999999999999996}\n"
     ]
    },
    {
     "output_type": "stream",
     "name": "stderr",
     "text": [
      "DEBUG flwr 2023-04-11 21:27:59,560 | server.py:229 | fit_round 32 received 2 results and 0 failures\n"
     ]
    },
    {
     "output_type": "stream",
     "name": "stdout",
     "text": [
      "\t {'train_loss': 0.034197340719401836, 'train_accuracy': 1.0}\n"
     ]
    },
    {
     "output_type": "stream",
     "name": "stderr",
     "text": [
      "INFO flwr 2023-04-11 21:28:04,559 | server.py:116 | fit progress: (32, 12.829486846923828, {'test_loss': 12.829486846923828, 'test_accuracy': 0.3}, 1550.1196942000001)\n",
      "DEBUG flwr 2023-04-11 21:28:04,560 | server.py:165 | evaluate_round 32: strategy sampled 2 clients (out of 5)\n",
      "DEBUG flwr 2023-04-11 21:28:06,681 | server.py:179 | evaluate_round 32 received 2 results and 0 failures\n",
      "DEBUG flwr 2023-04-11 21:28:06,682 | server.py:215 | fit_round 33: strategy sampled 2 clients (out of 5)\n"
     ]
    },
    {
     "output_type": "stream",
     "name": "stdout",
     "text": [
      "\t {'val_loss': 2.0664817094802856, 'val_accuracy': 0.45}\n"
     ]
    },
    {
     "output_type": "stream",
     "name": "stderr",
     "text": [
      "DEBUG flwr 2023-04-11 21:28:47,235 | server.py:229 | fit_round 33 received 2 results and 0 failures\n"
     ]
    },
    {
     "output_type": "stream",
     "name": "stdout",
     "text": [
      "\t {'train_loss': 0.13891246914863586, 'train_accuracy': 0.9888888888888889}\n"
     ]
    },
    {
     "output_type": "stream",
     "name": "stderr",
     "text": [
      "INFO flwr 2023-04-11 21:28:52,302 | server.py:116 | fit progress: (33, 12.024592399597168, {'test_loss': 12.024592399597168, 'test_accuracy': 0.32}, 1597.8624365)\n",
      "DEBUG flwr 2023-04-11 21:28:52,302 | server.py:165 | evaluate_round 33: strategy sampled 2 clients (out of 5)\n",
      "DEBUG flwr 2023-04-11 21:28:54,525 | server.py:179 | evaluate_round 33 received 2 results and 0 failures\n",
      "DEBUG flwr 2023-04-11 21:28:54,525 | server.py:215 | fit_round 34: strategy sampled 2 clients (out of 5)\n"
     ]
    },
    {
     "output_type": "stream",
     "name": "stdout",
     "text": [
      "\t {'val_loss': 2.6113457679748535, 'val_accuracy': 0.44999999999999996}\n"
     ]
    },
    {
     "output_type": "stream",
     "name": "stderr",
     "text": [
      "DEBUG flwr 2023-04-11 21:29:35,998 | server.py:229 | fit_round 34 received 2 results and 0 failures\n"
     ]
    },
    {
     "output_type": "stream",
     "name": "stdout",
     "text": [
      "\t {'train_loss': 0.32754459232091904, 'train_accuracy': 0.9888888888888889}\n"
     ]
    },
    {
     "output_type": "stream",
     "name": "stderr",
     "text": [
      "INFO flwr 2023-04-11 21:29:41,112 | server.py:116 | fit progress: (34, 10.57414722442627, {'test_loss': 10.57414722442627, 'test_accuracy': 0.37}, 1646.6729266000002)\n",
      "DEBUG flwr 2023-04-11 21:29:41,113 | server.py:165 | evaluate_round 34: strategy sampled 2 clients (out of 5)\n",
      "DEBUG flwr 2023-04-11 21:29:43,299 | server.py:179 | evaluate_round 34 received 2 results and 0 failures\n",
      "DEBUG flwr 2023-04-11 21:29:43,300 | server.py:215 | fit_round 35: strategy sampled 2 clients (out of 5)\n"
     ]
    },
    {
     "output_type": "stream",
     "name": "stdout",
     "text": [
      "\t {'val_loss': 1.6075555384159088, 'val_accuracy': 0.6}\n"
     ]
    },
    {
     "output_type": "stream",
     "name": "stderr",
     "text": [
      "DEBUG flwr 2023-04-11 21:30:24,980 | server.py:229 | fit_round 35 received 2 results and 0 failures\n"
     ]
    },
    {
     "output_type": "stream",
     "name": "stdout",
     "text": [
      "\t {'train_loss': 0.06385601684451103, 'train_accuracy': 1.0}\n"
     ]
    },
    {
     "output_type": "stream",
     "name": "stderr",
     "text": [
      "INFO flwr 2023-04-11 21:30:30,110 | server.py:116 | fit progress: (35, 10.956202507019043, {'test_loss': 10.956202507019043, 'test_accuracy': 0.38}, 1695.6710099000002)\n",
      "DEBUG flwr 2023-04-11 21:30:30,111 | server.py:165 | evaluate_round 35: strategy sampled 2 clients (out of 5)\n",
      "DEBUG flwr 2023-04-11 21:30:32,403 | server.py:179 | evaluate_round 35 received 2 results and 0 failures\n",
      "DEBUG flwr 2023-04-11 21:30:32,404 | server.py:215 | fit_round 36: strategy sampled 2 clients (out of 5)\n"
     ]
    },
    {
     "output_type": "stream",
     "name": "stdout",
     "text": [
      "\t {'val_loss': 1.2858648896217346, 'val_accuracy': 0.8}\n"
     ]
    },
    {
     "output_type": "stream",
     "name": "stderr",
     "text": [
      "DEBUG flwr 2023-04-11 21:31:13,651 | server.py:229 | fit_round 36 received 2 results and 0 failures\n"
     ]
    },
    {
     "output_type": "stream",
     "name": "stdout",
     "text": [
      "\t {'train_loss': 0.2059966754168272, 'train_accuracy': 0.9944444444444445}\n"
     ]
    },
    {
     "output_type": "stream",
     "name": "stderr",
     "text": [
      "INFO flwr 2023-04-11 21:31:18,764 | server.py:116 | fit progress: (36, 11.030607223510742, {'test_loss': 11.030607223510742, 'test_accuracy': 0.37}, 1744.3250926)\n",
      "DEBUG flwr 2023-04-11 21:31:18,765 | server.py:165 | evaluate_round 36: strategy sampled 2 clients (out of 5)\n",
      "DEBUG flwr 2023-04-11 21:31:21,074 | server.py:179 | evaluate_round 36 received 2 results and 0 failures\n",
      "DEBUG flwr 2023-04-11 21:31:21,075 | server.py:215 | fit_round 37: strategy sampled 2 clients (out of 5)\n"
     ]
    },
    {
     "output_type": "stream",
     "name": "stdout",
     "text": [
      "\t {'val_loss': 2.6895211935043335, 'val_accuracy': 0.35}\n"
     ]
    },
    {
     "output_type": "stream",
     "name": "stderr",
     "text": [
      "DEBUG flwr 2023-04-11 21:32:02,592 | server.py:229 | fit_round 37 received 2 results and 0 failures\n"
     ]
    },
    {
     "output_type": "stream",
     "name": "stdout",
     "text": [
      "\t {'train_loss': 0.02037208736874163, 'train_accuracy': 1.0}\n"
     ]
    },
    {
     "output_type": "stream",
     "name": "stderr",
     "text": [
      "INFO flwr 2023-04-11 21:32:07,676 | server.py:116 | fit progress: (37, 12.429022789001465, {'test_loss': 12.429022789001465, 'test_accuracy': 0.32}, 1793.236684)\n",
      "DEBUG flwr 2023-04-11 21:32:07,676 | server.py:165 | evaluate_round 37: strategy sampled 2 clients (out of 5)\n",
      "DEBUG flwr 2023-04-11 21:32:09,964 | server.py:179 | evaluate_round 37 received 2 results and 0 failures\n",
      "DEBUG flwr 2023-04-11 21:32:09,965 | server.py:215 | fit_round 38: strategy sampled 2 clients (out of 5)\n"
     ]
    },
    {
     "output_type": "stream",
     "name": "stdout",
     "text": [
      "\t {'val_loss': 3.3802013397216797, 'val_accuracy': 0.25}\n"
     ]
    },
    {
     "output_type": "stream",
     "name": "stderr",
     "text": [
      "DEBUG flwr 2023-04-11 21:32:50,810 | server.py:229 | fit_round 38 received 2 results and 0 failures\n"
     ]
    },
    {
     "output_type": "stream",
     "name": "stdout",
     "text": [
      "\t {'train_loss': 0.15144243091344833, 'train_accuracy': 0.9944444444444445}\n"
     ]
    },
    {
     "output_type": "stream",
     "name": "stderr",
     "text": [
      "INFO flwr 2023-04-11 21:32:55,900 | server.py:116 | fit progress: (38, 11.33562183380127, {'test_loss': 11.33562183380127, 'test_accuracy': 0.37}, 1841.4614078)\n",
      "DEBUG flwr 2023-04-11 21:32:55,901 | server.py:165 | evaluate_round 38: strategy sampled 2 clients (out of 5)\n",
      "DEBUG flwr 2023-04-11 21:32:58,007 | server.py:179 | evaluate_round 38 received 2 results and 0 failures\n",
      "DEBUG flwr 2023-04-11 21:32:58,008 | server.py:215 | fit_round 39: strategy sampled 2 clients (out of 5)\n"
     ]
    },
    {
     "output_type": "stream",
     "name": "stdout",
     "text": [
      "\t {'val_loss': 1.935223639011383, 'val_accuracy': 0.55}\n"
     ]
    },
    {
     "output_type": "stream",
     "name": "stderr",
     "text": [
      "DEBUG flwr 2023-04-11 21:33:39,223 | server.py:229 | fit_round 39 received 2 results and 0 failures\n"
     ]
    },
    {
     "output_type": "stream",
     "name": "stdout",
     "text": [
      "\t {'train_loss': 0.006156639545224607, 'train_accuracy': 1.0}\n"
     ]
    },
    {
     "output_type": "stream",
     "name": "stderr",
     "text": [
      "INFO flwr 2023-04-11 21:33:44,336 | server.py:116 | fit progress: (39, 12.460000991821289, {'test_loss': 12.460000991821289, 'test_accuracy': 0.33}, 1889.8963395)\n",
      "DEBUG flwr 2023-04-11 21:33:44,336 | server.py:165 | evaluate_round 39: strategy sampled 2 clients (out of 5)\n",
      "DEBUG flwr 2023-04-11 21:33:50,428 | server.py:179 | evaluate_round 39 received 2 results and 0 failures\n",
      "DEBUG flwr 2023-04-11 21:33:50,430 | server.py:215 | fit_round 40: strategy sampled 2 clients (out of 5)\n"
     ]
    },
    {
     "output_type": "stream",
     "name": "stdout",
     "text": [
      "\t {'val_loss': 3.0339032411575317, 'val_accuracy': 0.5}\n"
     ]
    },
    {
     "output_type": "stream",
     "name": "stderr",
     "text": [
      "DEBUG flwr 2023-04-11 21:34:31,759 | server.py:229 | fit_round 40 received 2 results and 0 failures\n"
     ]
    },
    {
     "output_type": "stream",
     "name": "stdout",
     "text": [
      "\t {'train_loss': 0.0061059154104441404, 'train_accuracy': 1.0}\n"
     ]
    },
    {
     "output_type": "stream",
     "name": "stderr",
     "text": [
      "INFO flwr 2023-04-11 21:34:36,857 | server.py:116 | fit progress: (40, 11.618732452392578, {'test_loss': 11.618732452392578, 'test_accuracy': 0.33}, 1942.4180088000003)\n",
      "DEBUG flwr 2023-04-11 21:34:36,858 | server.py:165 | evaluate_round 40: strategy sampled 2 clients (out of 5)\n",
      "DEBUG flwr 2023-04-11 21:34:38,961 | server.py:179 | evaluate_round 40 received 2 results and 0 failures\n",
      "DEBUG flwr 2023-04-11 21:34:38,962 | server.py:215 | fit_round 41: strategy sampled 2 clients (out of 5)\n"
     ]
    },
    {
     "output_type": "stream",
     "name": "stdout",
     "text": [
      "\t {'val_loss': 2.2589200735092163, 'val_accuracy': 0.55}\n"
     ]
    },
    {
     "output_type": "stream",
     "name": "stderr",
     "text": [
      "DEBUG flwr 2023-04-11 21:35:19,968 | server.py:229 | fit_round 41 received 2 results and 0 failures\n"
     ]
    },
    {
     "output_type": "stream",
     "name": "stdout",
     "text": [
      "\t {'train_loss': 0.005895796493859962, 'train_accuracy': 1.0}\n"
     ]
    },
    {
     "output_type": "stream",
     "name": "stderr",
     "text": [
      "INFO flwr 2023-04-11 21:35:24,979 | server.py:116 | fit progress: (41, 13.779661178588867, {'test_loss': 13.779661178588867, 'test_accuracy': 0.31}, 1990.5392024000002)\n",
      "DEBUG flwr 2023-04-11 21:35:24,979 | server.py:165 | evaluate_round 41: strategy sampled 2 clients (out of 5)\n",
      "DEBUG flwr 2023-04-11 21:35:30,883 | server.py:179 | evaluate_round 41 received 2 results and 0 failures\n",
      "DEBUG flwr 2023-04-11 21:35:30,884 | server.py:215 | fit_round 42: strategy sampled 2 clients (out of 5)\n"
     ]
    },
    {
     "output_type": "stream",
     "name": "stdout",
     "text": [
      "\t {'val_loss': 3.1651705503463745, 'val_accuracy': 0.44999999999999996}\n"
     ]
    },
    {
     "output_type": "stream",
     "name": "stderr",
     "text": [
      "DEBUG flwr 2023-04-11 21:36:11,448 | server.py:229 | fit_round 42 received 2 results and 0 failures\n"
     ]
    },
    {
     "output_type": "stream",
     "name": "stdout",
     "text": [
      "\t {'train_loss': 0.10145035036839545, 'train_accuracy': 1.0}\n"
     ]
    },
    {
     "output_type": "stream",
     "name": "stderr",
     "text": [
      "INFO flwr 2023-04-11 21:36:16,525 | server.py:116 | fit progress: (42, 12.067079544067383, {'test_loss': 12.067079544067383, 'test_accuracy': 0.36}, 2042.0856602000003)\n",
      "DEBUG flwr 2023-04-11 21:36:16,525 | server.py:165 | evaluate_round 42: strategy sampled 2 clients (out of 5)\n",
      "DEBUG flwr 2023-04-11 21:36:18,644 | server.py:179 | evaluate_round 42 received 2 results and 0 failures\n",
      "DEBUG flwr 2023-04-11 21:36:18,645 | server.py:215 | fit_round 43: strategy sampled 2 clients (out of 5)\n"
     ]
    },
    {
     "output_type": "stream",
     "name": "stdout",
     "text": [
      "\t {'val_loss': 2.0477803349494934, 'val_accuracy': 0.5}\n"
     ]
    },
    {
     "output_type": "stream",
     "name": "stderr",
     "text": [
      "DEBUG flwr 2023-04-11 21:36:59,085 | server.py:229 | fit_round 43 received 2 results and 0 failures\n"
     ]
    },
    {
     "output_type": "stream",
     "name": "stdout",
     "text": [
      "\t {'train_loss': 0.0016545452672289684, 'train_accuracy': 1.0}\n"
     ]
    },
    {
     "output_type": "stream",
     "name": "stderr",
     "text": [
      "INFO flwr 2023-04-11 21:37:04,078 | server.py:116 | fit progress: (43, 14.475245475769043, {'test_loss': 14.475245475769043, 'test_accuracy': 0.34}, 2089.6386465000005)\n",
      "DEBUG flwr 2023-04-11 21:37:04,078 | server.py:165 | evaluate_round 43: strategy sampled 2 clients (out of 5)\n",
      "DEBUG flwr 2023-04-11 21:37:06,042 | server.py:179 | evaluate_round 43 received 2 results and 0 failures\n",
      "DEBUG flwr 2023-04-11 21:37:06,042 | server.py:215 | fit_round 44: strategy sampled 2 clients (out of 5)\n"
     ]
    },
    {
     "output_type": "stream",
     "name": "stdout",
     "text": [
      "\t {'val_loss': 2.8880685567855835, 'val_accuracy': 0.4}\n"
     ]
    },
    {
     "output_type": "stream",
     "name": "stderr",
     "text": [
      "DEBUG flwr 2023-04-11 21:37:46,304 | server.py:229 | fit_round 44 received 2 results and 0 failures\n"
     ]
    },
    {
     "output_type": "stream",
     "name": "stdout",
     "text": [
      "\t {'train_loss': 0.002166051068343222, 'train_accuracy': 1.0}\n"
     ]
    },
    {
     "output_type": "stream",
     "name": "stderr",
     "text": [
      "INFO flwr 2023-04-11 21:37:51,462 | server.py:116 | fit progress: (44, 13.282735824584961, {'test_loss': 13.282735824584961, 'test_accuracy': 0.38}, 2137.0228816)\n",
      "DEBUG flwr 2023-04-11 21:37:51,463 | server.py:165 | evaluate_round 44: strategy sampled 2 clients (out of 5)\n",
      "DEBUG flwr 2023-04-11 21:37:53,426 | server.py:179 | evaluate_round 44 received 2 results and 0 failures\n",
      "DEBUG flwr 2023-04-11 21:37:53,427 | server.py:215 | fit_round 45: strategy sampled 2 clients (out of 5)\n"
     ]
    },
    {
     "output_type": "stream",
     "name": "stdout",
     "text": [
      "\t {'val_loss': 3.620669722557068, 'val_accuracy': 0.35}\n"
     ]
    },
    {
     "output_type": "stream",
     "name": "stderr",
     "text": [
      "DEBUG flwr 2023-04-11 21:38:34,087 | server.py:229 | fit_round 45 received 2 results and 0 failures\n"
     ]
    },
    {
     "output_type": "stream",
     "name": "stdout",
     "text": [
      "\t {'train_loss': 0.002668871806235984, 'train_accuracy': 1.0}\n"
     ]
    },
    {
     "output_type": "stream",
     "name": "stderr",
     "text": [
      "INFO flwr 2023-04-11 21:38:39,077 | server.py:116 | fit progress: (45, 13.295583724975586, {'test_loss': 13.295583724975586, 'test_accuracy': 0.36}, 2184.6372899)\n",
      "DEBUG flwr 2023-04-11 21:38:39,077 | server.py:165 | evaluate_round 45: strategy sampled 2 clients (out of 5)\n",
      "DEBUG flwr 2023-04-11 21:38:44,839 | server.py:179 | evaluate_round 45 received 2 results and 0 failures\n",
      "DEBUG flwr 2023-04-11 21:38:44,840 | server.py:215 | fit_round 46: strategy sampled 2 clients (out of 5)\n"
     ]
    },
    {
     "output_type": "stream",
     "name": "stdout",
     "text": [
      "\t {'val_loss': 2.3409185111522675, 'val_accuracy': 0.55}\n"
     ]
    },
    {
     "output_type": "stream",
     "name": "stderr",
     "text": [
      "DEBUG flwr 2023-04-11 21:39:25,093 | server.py:229 | fit_round 46 received 2 results and 0 failures\n"
     ]
    },
    {
     "output_type": "stream",
     "name": "stdout",
     "text": [
      "\t {'train_loss': 0.000733697073883377, 'train_accuracy': 1.0}\n"
     ]
    },
    {
     "output_type": "stream",
     "name": "stderr",
     "text": [
      "INFO flwr 2023-04-11 21:39:30,110 | server.py:116 | fit progress: (46, 13.158268928527832, {'test_loss': 13.158268928527832, 'test_accuracy': 0.34}, 2235.6708845000003)\n",
      "DEBUG flwr 2023-04-11 21:39:30,111 | server.py:165 | evaluate_round 46: strategy sampled 2 clients (out of 5)\n",
      "DEBUG flwr 2023-04-11 21:39:32,210 | server.py:179 | evaluate_round 46 received 2 results and 0 failures\n",
      "DEBUG flwr 2023-04-11 21:39:32,210 | server.py:215 | fit_round 47: strategy sampled 2 clients (out of 5)\n"
     ]
    },
    {
     "output_type": "stream",
     "name": "stdout",
     "text": [
      "\t {'val_loss': 3.227593421936035, 'val_accuracy': 0.45}\n"
     ]
    },
    {
     "output_type": "stream",
     "name": "stderr",
     "text": [
      "DEBUG flwr 2023-04-11 21:40:12,591 | server.py:229 | fit_round 47 received 2 results and 0 failures\n"
     ]
    },
    {
     "output_type": "stream",
     "name": "stdout",
     "text": [
      "\t {'train_loss': 0.09678236854961142, 'train_accuracy': 0.9944444444444445}\n"
     ]
    },
    {
     "output_type": "stream",
     "name": "stderr",
     "text": [
      "INFO flwr 2023-04-11 21:40:17,617 | server.py:116 | fit progress: (47, 12.172015190124512, {'test_loss': 12.172015190124512, 'test_accuracy': 0.34}, 2283.1776409000004)\n",
      "DEBUG flwr 2023-04-11 21:40:17,618 | server.py:165 | evaluate_round 47: strategy sampled 2 clients (out of 5)\n",
      "DEBUG flwr 2023-04-11 21:40:19,676 | server.py:179 | evaluate_round 47 received 2 results and 0 failures\n",
      "DEBUG flwr 2023-04-11 21:40:19,677 | server.py:215 | fit_round 48: strategy sampled 2 clients (out of 5)\n"
     ]
    },
    {
     "output_type": "stream",
     "name": "stdout",
     "text": [
      "\t {'val_loss': 3.1963363885879517, 'val_accuracy': 0.3}\n"
     ]
    },
    {
     "output_type": "stream",
     "name": "stderr",
     "text": [
      "DEBUG flwr 2023-04-11 21:40:59,931 | server.py:229 | fit_round 48 received 2 results and 0 failures\n"
     ]
    },
    {
     "output_type": "stream",
     "name": "stdout",
     "text": [
      "\t {'train_loss': 0.00010590215333650121, 'train_accuracy': 1.0}\n"
     ]
    },
    {
     "output_type": "stream",
     "name": "stderr",
     "text": [
      "INFO flwr 2023-04-11 21:41:05,040 | server.py:116 | fit progress: (48, 13.467504501342773, {'test_loss': 13.467504501342773, 'test_accuracy': 0.34}, 2330.6002864)\n",
      "DEBUG flwr 2023-04-11 21:41:05,040 | server.py:165 | evaluate_round 48: strategy sampled 2 clients (out of 5)\n",
      "DEBUG flwr 2023-04-11 21:41:07,142 | server.py:179 | evaluate_round 48 received 2 results and 0 failures\n",
      "DEBUG flwr 2023-04-11 21:41:07,142 | server.py:215 | fit_round 49: strategy sampled 2 clients (out of 5)\n"
     ]
    },
    {
     "output_type": "stream",
     "name": "stdout",
     "text": [
      "\t {'val_loss': 2.997105121612549, 'val_accuracy': 0.45}\n"
     ]
    },
    {
     "output_type": "stream",
     "name": "stderr",
     "text": [
      "DEBUG flwr 2023-04-11 21:41:47,478 | server.py:229 | fit_round 49 received 2 results and 0 failures\n"
     ]
    },
    {
     "output_type": "stream",
     "name": "stdout",
     "text": [
      "\t {'train_loss': 0.04865968120429898, 'train_accuracy': 1.0}\n"
     ]
    },
    {
     "output_type": "stream",
     "name": "stderr",
     "text": [
      "INFO flwr 2023-04-11 21:41:52,499 | server.py:116 | fit progress: (49, 12.702961921691895, {'test_loss': 12.702961921691895, 'test_accuracy': 0.36}, 2378.0599944000005)\n",
      "DEBUG flwr 2023-04-11 21:41:52,500 | server.py:165 | evaluate_round 49: strategy sampled 2 clients (out of 5)\n",
      "DEBUG flwr 2023-04-11 21:41:54,602 | server.py:179 | evaluate_round 49 received 2 results and 0 failures\n",
      "DEBUG flwr 2023-04-11 21:41:54,602 | server.py:215 | fit_round 50: strategy sampled 2 clients (out of 5)\n"
     ]
    },
    {
     "output_type": "stream",
     "name": "stdout",
     "text": [
      "\t {'val_loss': 3.1445592641830444, 'val_accuracy': 0.35}\n"
     ]
    },
    {
     "output_type": "stream",
     "name": "stderr",
     "text": [
      "DEBUG flwr 2023-04-11 21:42:34,648 | server.py:229 | fit_round 50 received 2 results and 0 failures\n"
     ]
    },
    {
     "output_type": "stream",
     "name": "stdout",
     "text": [
      "\t {'train_loss': 0.0005844722613801423, 'train_accuracy': 1.0}\n"
     ]
    },
    {
     "output_type": "stream",
     "name": "stderr",
     "text": [
      "INFO flwr 2023-04-11 21:42:39,663 | server.py:116 | fit progress: (50, 13.81674861907959, {'test_loss': 13.81674861907959, 'test_accuracy': 0.36}, 2425.2237588999997)\n",
      "DEBUG flwr 2023-04-11 21:42:39,663 | server.py:165 | evaluate_round 50: strategy sampled 2 clients (out of 5)\n",
      "DEBUG flwr 2023-04-11 21:42:41,727 | server.py:179 | evaluate_round 50 received 2 results and 0 failures\n",
      "INFO flwr 2023-04-11 21:42:41,728 | server.py:144 | FL finished in 2427.2887123\n",
      "INFO flwr 2023-04-11 21:42:41,743 | app.py:202 | app_fit: losses_distributed [(1, 4.526557207107544), (2, 4.436800956726074), (3, 4.135385990142822), (4, 4.118413090705872), (5, 3.4480953216552734), (6, 4.089815139770508), (7, 4.470763206481934), (8, 4.008263111114502), (9, 4.063230276107788), (10, 2.788655638694763), (11, 2.6141966581344604), (12, 3.2703640460968018), (13, 3.306187629699707), (14, 2.855631709098816), (15, 2.243336319923401), (16, 2.3019973635673523), (17, 2.3460869789123535), (18, 3.845276355743408), (19, 2.5627071857452393), (20, 2.0409594774246216), (21, 2.118897259235382), (22, 2.58965003490448), (23, 2.652121424674988), (24, 2.865334630012512), (25, 1.5895344018936157), (26, 3.0699163675308228), (27, 1.8782101273536682), (28, 2.7607678174972534), (29, 1.9197063446044922), (30, 1.5870684385299683), (31, 2.1969075202941895), (32, 2.0664817094802856), (33, 2.6113457679748535), (34, 1.6075555384159088), (35, 1.2858648896217346), (36, 2.6895211935043335), (37, 3.3802013397216797), (38, 1.935223639011383), (39, 3.0339032411575317), (40, 2.2589200735092163), (41, 3.1651705503463745), (42, 2.0477803349494934), (43, 2.8880685567855835), (44, 3.620669722557068), (45, 2.3409185111522675), (46, 3.227593421936035), (47, 3.1963363885879517), (48, 2.997105121612549), (49, 3.1445592641830444), (50, 1.655884563922882)]\n",
      "INFO flwr 2023-04-11 21:42:41,744 | app.py:203 | app_fit: metrics_distributed {'val_loss': [(1, 4.526557207107544), (2, 4.436800956726074), (3, 4.135385990142822), (4, 4.118413090705872), (5, 3.4480953216552734), (6, 4.089815139770508), (7, 4.470763206481934), (8, 4.008263111114502), (9, 4.063230276107788), (10, 2.788655638694763), (11, 2.6141966581344604), (12, 3.2703640460968018), (13, 3.306187629699707), (14, 2.855631709098816), (15, 2.243336319923401), (16, 2.3019973635673523), (17, 2.3460869789123535), (18, 3.845276355743408), (19, 2.5627071857452393), (20, 2.0409594774246216), (21, 2.118897259235382), (22, 2.58965003490448), (23, 2.652121424674988), (24, 2.865334630012512), (25, 1.5895344018936157), (26, 3.0699163675308228), (27, 1.8782101273536682), (28, 2.7607678174972534), (29, 1.9197063446044922), (30, 1.5870684385299683), (31, 2.1969075202941895), (32, 2.0664817094802856), (33, 2.6113457679748535), (34, 1.6075555384159088), (35, 1.2858648896217346), (36, 2.6895211935043335), (37, 3.3802013397216797), (38, 1.935223639011383), (39, 3.0339032411575317), (40, 2.2589200735092163), (41, 3.1651705503463745), (42, 2.0477803349494934), (43, 2.8880685567855835), (44, 3.620669722557068), (45, 2.3409185111522675), (46, 3.227593421936035), (47, 3.1963363885879517), (48, 2.997105121612549), (49, 3.1445592641830444), (50, 1.655884563922882)], 'val_accuracy': [(1, 0.05), (2, 0.05), (3, 0.05), (4, 0.05), (5, 0.25), (6, 0.15000000000000002), (7, 0.0), (8, 0.05), (9, 0.15), (10, 0.4), (11, 0.35), (12, 0.35), (13, 0.25), (14, 0.2), (15, 0.44999999999999996), (16, 0.3), (17, 0.4), (18, 0.15), (19, 0.4), (20, 0.6), (21, 0.55), (22, 0.45), (23, 0.25), (24, 0.3), (25, 0.6499999999999999), (26, 0.3), (27, 0.55), (28, 0.35), (29, 0.6), (30, 0.6), (31, 0.44999999999999996), (32, 0.45), (33, 0.44999999999999996), (34, 0.6), (35, 0.8), (36, 0.35), (37, 0.25), (38, 0.55), (39, 0.5), (40, 0.55), (41, 0.44999999999999996), (42, 0.5), (43, 0.4), (44, 0.35), (45, 0.55), (46, 0.45), (47, 0.3), (48, 0.45), (49, 0.35), (50, 0.55)]}\n",
      "INFO flwr 2023-04-11 21:42:41,744 | app.py:204 | app_fit: losses_centralized [(0, 18.46636962890625), (1, 17.646268844604492), (2, 16.926481246948242), (3, 17.41545867919922), (4, 19.24501609802246), (5, 19.18666648864746), (6, 16.587858200073242), (7, 15.9235200881958), (8, 15.194391250610352), (9, 16.412757873535156), (10, 15.50223159790039), (11, 14.101607322692871), (12, 16.193878173828125), (13, 14.753778457641602), (14, 14.03508186340332), (15, 17.202041625976562), (16, 12.938100814819336), (17, 13.24670124053955), (18, 12.697383880615234), (19, 13.154394149780273), (20, 13.271050453186035), (21, 12.695006370544434), (22, 12.148645401000977), (23, 12.454483032226562), (24, 11.621231079101562), (25, 11.715898513793945), (26, 11.744377136230469), (27, 11.271505355834961), (28, 11.139826774597168), (29, 11.604849815368652), (30, 11.670120239257812), (31, 12.707740783691406), (32, 12.829486846923828), (33, 12.024592399597168), (34, 10.57414722442627), (35, 10.956202507019043), (36, 11.030607223510742), (37, 12.429022789001465), (38, 11.33562183380127), (39, 12.460000991821289), (40, 11.618732452392578), (41, 13.779661178588867), (42, 12.067079544067383), (43, 14.475245475769043), (44, 13.282735824584961), (45, 13.295583724975586), (46, 13.158268928527832), (47, 12.172015190124512), (48, 13.467504501342773), (49, 12.702961921691895), (50, 13.81674861907959)]\n",
      "INFO flwr 2023-04-11 21:42:41,745 | app.py:205 | app_fit: metrics_centralized {'test_loss': [(0, 18.46636962890625), (1, 17.646268844604492), (2, 16.926481246948242), (3, 17.41545867919922), (4, 19.24501609802246), (5, 19.18666648864746), (6, 16.587858200073242), (7, 15.9235200881958), (8, 15.194391250610352), (9, 16.412757873535156), (10, 15.50223159790039), (11, 14.101607322692871), (12, 16.193878173828125), (13, 14.753778457641602), (14, 14.03508186340332), (15, 17.202041625976562), (16, 12.938100814819336), (17, 13.24670124053955), (18, 12.697383880615234), (19, 13.154394149780273), (20, 13.271050453186035), (21, 12.695006370544434), (22, 12.148645401000977), (23, 12.454483032226562), (24, 11.621231079101562), (25, 11.715898513793945), (26, 11.744377136230469), (27, 11.271505355834961), (28, 11.139826774597168), (29, 11.604849815368652), (30, 11.670120239257812), (31, 12.707740783691406), (32, 12.829486846923828), (33, 12.024592399597168), (34, 10.57414722442627), (35, 10.956202507019043), (36, 11.030607223510742), (37, 12.429022789001465), (38, 11.33562183380127), (39, 12.460000991821289), (40, 11.618732452392578), (41, 13.779661178588867), (42, 12.067079544067383), (43, 14.475245475769043), (44, 13.282735824584961), (45, 13.295583724975586), (46, 13.158268928527832), (47, 12.172015190124512), (48, 13.467504501342773), (49, 12.702961921691895), (50, 13.81674861907959)], 'test_accuracy': [(0, 0.0), (1, 0.09), (2, 0.1), (3, 0.09), (4, 0.0), (5, 0.03), (6, 0.14), (7, 0.12), (8, 0.2), (9, 0.13), (10, 0.17), (11, 0.26), (12, 0.12), (13, 0.23), (14, 0.27), (15, 0.12), (16, 0.26), (17, 0.26), (18, 0.25), (19, 0.29), (20, 0.27), (21, 0.31), (22, 0.23), (23, 0.33), (24, 0.34), (25, 0.3), (26, 0.27), (27, 0.31), (28, 0.34), (29, 0.32), (30, 0.32), (31, 0.31), (32, 0.3), (33, 0.32), (34, 0.37), (35, 0.38), (36, 0.37), (37, 0.32), (38, 0.37), (39, 0.33), (40, 0.33), (41, 0.31), (42, 0.36), (43, 0.34), (44, 0.38), (45, 0.36), (46, 0.34), (47, 0.34), (48, 0.34), (49, 0.36), (50, 0.36)]}\n"
     ]
    },
    {
     "output_type": "stream",
     "name": "stdout",
     "text": [
      "\t {'val_loss': 1.655884563922882, 'val_accuracy': 0.55}\n"
     ]
    },
    {
     "output_type": "execute_result",
     "data": {
      "text/plain": [
       "History (loss, distributed):\n",
       "\tround 1: 4.526557207107544\n",
       "\tround 2: 4.436800956726074\n",
       "\tround 3: 4.135385990142822\n",
       "\tround 4: 4.118413090705872\n",
       "\tround 5: 3.4480953216552734\n",
       "\tround 6: 4.089815139770508\n",
       "\tround 7: 4.470763206481934\n",
       "\tround 8: 4.008263111114502\n",
       "\tround 9: 4.063230276107788\n",
       "\tround 10: 2.788655638694763\n",
       "\tround 11: 2.6141966581344604\n",
       "\tround 12: 3.2703640460968018\n",
       "\tround 13: 3.306187629699707\n",
       "\tround 14: 2.855631709098816\n",
       "\tround 15: 2.243336319923401\n",
       "\tround 16: 2.3019973635673523\n",
       "\tround 17: 2.3460869789123535\n",
       "\tround 18: 3.845276355743408\n",
       "\tround 19: 2.5627071857452393\n",
       "\tround 20: 2.0409594774246216\n",
       "\tround 21: 2.118897259235382\n",
       "\tround 22: 2.58965003490448\n",
       "\tround 23: 2.652121424674988\n",
       "\tround 24: 2.865334630012512\n",
       "\tround 25: 1.5895344018936157\n",
       "\tround 26: 3.0699163675308228\n",
       "\tround 27: 1.8782101273536682\n",
       "\tround 28: 2.7607678174972534\n",
       "\tround 29: 1.9197063446044922\n",
       "\tround 30: 1.5870684385299683\n",
       "\tround 31: 2.1969075202941895\n",
       "\tround 32: 2.0664817094802856\n",
       "\tround 33: 2.6113457679748535\n",
       "\tround 34: 1.6075555384159088\n",
       "\tround 35: 1.2858648896217346\n",
       "\tround 36: 2.6895211935043335\n",
       "\tround 37: 3.3802013397216797\n",
       "\tround 38: 1.935223639011383\n",
       "\tround 39: 3.0339032411575317\n",
       "\tround 40: 2.2589200735092163\n",
       "\tround 41: 3.1651705503463745\n",
       "\tround 42: 2.0477803349494934\n",
       "\tround 43: 2.8880685567855835\n",
       "\tround 44: 3.620669722557068\n",
       "\tround 45: 2.3409185111522675\n",
       "\tround 46: 3.227593421936035\n",
       "\tround 47: 3.1963363885879517\n",
       "\tround 48: 2.997105121612549\n",
       "\tround 49: 3.1445592641830444\n",
       "\tround 50: 1.655884563922882\n",
       "History (loss, centralized):\n",
       "\tround 0: 18.46636962890625\n",
       "\tround 1: 17.646268844604492\n",
       "\tround 2: 16.926481246948242\n",
       "\tround 3: 17.41545867919922\n",
       "\tround 4: 19.24501609802246\n",
       "\tround 5: 19.18666648864746\n",
       "\tround 6: 16.587858200073242\n",
       "\tround 7: 15.9235200881958\n",
       "\tround 8: 15.194391250610352\n",
       "\tround 9: 16.412757873535156\n",
       "\tround 10: 15.50223159790039\n",
       "\tround 11: 14.101607322692871\n",
       "\tround 12: 16.193878173828125\n",
       "\tround 13: 14.753778457641602\n",
       "\tround 14: 14.03508186340332\n",
       "\tround 15: 17.202041625976562\n",
       "\tround 16: 12.938100814819336\n",
       "\tround 17: 13.24670124053955\n",
       "\tround 18: 12.697383880615234\n",
       "\tround 19: 13.154394149780273\n",
       "\tround 20: 13.271050453186035\n",
       "\tround 21: 12.695006370544434\n",
       "\tround 22: 12.148645401000977\n",
       "\tround 23: 12.454483032226562\n",
       "\tround 24: 11.621231079101562\n",
       "\tround 25: 11.715898513793945\n",
       "\tround 26: 11.744377136230469\n",
       "\tround 27: 11.271505355834961\n",
       "\tround 28: 11.139826774597168\n",
       "\tround 29: 11.604849815368652\n",
       "\tround 30: 11.670120239257812\n",
       "\tround 31: 12.707740783691406\n",
       "\tround 32: 12.829486846923828\n",
       "\tround 33: 12.024592399597168\n",
       "\tround 34: 10.57414722442627\n",
       "\tround 35: 10.956202507019043\n",
       "\tround 36: 11.030607223510742\n",
       "\tround 37: 12.429022789001465\n",
       "\tround 38: 11.33562183380127\n",
       "\tround 39: 12.460000991821289\n",
       "\tround 40: 11.618732452392578\n",
       "\tround 41: 13.779661178588867\n",
       "\tround 42: 12.067079544067383\n",
       "\tround 43: 14.475245475769043\n",
       "\tround 44: 13.282735824584961\n",
       "\tround 45: 13.295583724975586\n",
       "\tround 46: 13.158268928527832\n",
       "\tround 47: 12.172015190124512\n",
       "\tround 48: 13.467504501342773\n",
       "\tround 49: 12.702961921691895\n",
       "\tround 50: 13.81674861907959\n",
       "History (metrics, distributed):\n",
       "{'val_loss': [(1, 4.526557207107544), (2, 4.436800956726074), (3, 4.135385990142822), (4, 4.118413090705872), (5, 3.4480953216552734), (6, 4.089815139770508), (7, 4.470763206481934), (8, 4.008263111114502), (9, 4.063230276107788), (10, 2.788655638694763), (11, 2.6141966581344604), (12, 3.2703640460968018), (13, 3.306187629699707), (14, 2.855631709098816), (15, 2.243336319923401), (16, 2.3019973635673523), (17, 2.3460869789123535), (18, 3.845276355743408), (19, 2.5627071857452393), (20, 2.0409594774246216), (21, 2.118897259235382), (22, 2.58965003490448), (23, 2.652121424674988), (24, 2.865334630012512), (25, 1.5895344018936157), (26, 3.0699163675308228), (27, 1.8782101273536682), (28, 2.7607678174972534), (29, 1.9197063446044922), (30, 1.5870684385299683), (31, 2.1969075202941895), (32, 2.0664817094802856), (33, 2.6113457679748535), (34, 1.6075555384159088), (35, 1.2858648896217346), (36, 2.6895211935043335), (37, 3.3802013397216797), (38, 1.935223639011383), (39, 3.0339032411575317), (40, 2.2589200735092163), (41, 3.1651705503463745), (42, 2.0477803349494934), (43, 2.8880685567855835), (44, 3.620669722557068), (45, 2.3409185111522675), (46, 3.227593421936035), (47, 3.1963363885879517), (48, 2.997105121612549), (49, 3.1445592641830444), (50, 1.655884563922882)], 'val_accuracy': [(1, 0.05), (2, 0.05), (3, 0.05), (4, 0.05), (5, 0.25), (6, 0.15000000000000002), (7, 0.0), (8, 0.05), (9, 0.15), (10, 0.4), (11, 0.35), (12, 0.35), (13, 0.25), (14, 0.2), (15, 0.44999999999999996), (16, 0.3), (17, 0.4), (18, 0.15), (19, 0.4), (20, 0.6), (21, 0.55), (22, 0.45), (23, 0.25), (24, 0.3), (25, 0.6499999999999999), (26, 0.3), (27, 0.55), (28, 0.35), (29, 0.6), (30, 0.6), (31, 0.44999999999999996), (32, 0.45), (33, 0.44999999999999996), (34, 0.6), (35, 0.8), (36, 0.35), (37, 0.25), (38, 0.55), (39, 0.5), (40, 0.55), (41, 0.44999999999999996), (42, 0.5), (43, 0.4), (44, 0.35), (45, 0.55), (46, 0.45), (47, 0.3), (48, 0.45), (49, 0.35), (50, 0.55)]}History (metrics, centralized):\n",
       "{'test_loss': [(0, 18.46636962890625), (1, 17.646268844604492), (2, 16.926481246948242), (3, 17.41545867919922), (4, 19.24501609802246), (5, 19.18666648864746), (6, 16.587858200073242), (7, 15.9235200881958), (8, 15.194391250610352), (9, 16.412757873535156), (10, 15.50223159790039), (11, 14.101607322692871), (12, 16.193878173828125), (13, 14.753778457641602), (14, 14.03508186340332), (15, 17.202041625976562), (16, 12.938100814819336), (17, 13.24670124053955), (18, 12.697383880615234), (19, 13.154394149780273), (20, 13.271050453186035), (21, 12.695006370544434), (22, 12.148645401000977), (23, 12.454483032226562), (24, 11.621231079101562), (25, 11.715898513793945), (26, 11.744377136230469), (27, 11.271505355834961), (28, 11.139826774597168), (29, 11.604849815368652), (30, 11.670120239257812), (31, 12.707740783691406), (32, 12.829486846923828), (33, 12.024592399597168), (34, 10.57414722442627), (35, 10.956202507019043), (36, 11.030607223510742), (37, 12.429022789001465), (38, 11.33562183380127), (39, 12.460000991821289), (40, 11.618732452392578), (41, 13.779661178588867), (42, 12.067079544067383), (43, 14.475245475769043), (44, 13.282735824584961), (45, 13.295583724975586), (46, 13.158268928527832), (47, 12.172015190124512), (48, 13.467504501342773), (49, 12.702961921691895), (50, 13.81674861907959)], 'test_accuracy': [(0, 0.0), (1, 0.09), (2, 0.1), (3, 0.09), (4, 0.0), (5, 0.03), (6, 0.14), (7, 0.12), (8, 0.2), (9, 0.13), (10, 0.17), (11, 0.26), (12, 0.12), (13, 0.23), (14, 0.27), (15, 0.12), (16, 0.26), (17, 0.26), (18, 0.25), (19, 0.29), (20, 0.27), (21, 0.31), (22, 0.23), (23, 0.33), (24, 0.34), (25, 0.3), (26, 0.27), (27, 0.31), (28, 0.34), (29, 0.32), (30, 0.32), (31, 0.31), (32, 0.3), (33, 0.32), (34, 0.37), (35, 0.38), (36, 0.37), (37, 0.32), (38, 0.37), (39, 0.33), (40, 0.33), (41, 0.31), (42, 0.36), (43, 0.34), (44, 0.38), (45, 0.36), (46, 0.34), (47, 0.34), (48, 0.34), (49, 0.36), (50, 0.36)]}"
      ]
     },
     "metadata": {},
     "execution_count": 9
    }
   ],
   "metadata": {}
  }
 ],
 "nbformat": 4,
 "nbformat_minor": 2,
 "metadata": {
  "language_info": {
   "codemirror_mode": {
    "name": "ipython",
    "version": 3
   },
   "file_extension": ".py",
   "mimetype": "text/x-python",
   "name": "python",
   "nbconvert_exporter": "python",
   "pygments_lexer": "ipython3",
   "version": 3
  },
  "orig_nbformat": 4
 }
}