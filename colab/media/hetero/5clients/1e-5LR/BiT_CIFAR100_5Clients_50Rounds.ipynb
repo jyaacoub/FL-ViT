{
 "cells": [
  {
   "cell_type": "code",
   "execution_count": 8,
   "source": [
    "print('num clients:', NUM_CLIENTS)\n",
    "print('num rounds:', NUM_ROUNDS)\n",
    "print('--'*20)\n",
    "print('client training set size:', [len(t.dataset) for t in trainloaders])\n",
    "print('client validation set size:', [len(v.dataset) for v in valloaders])\n",
    "print('test set size:', len(testloader.dataset))\n",
    "print('--'*20)\n",
    "print('model name:', MODEL_NAME)\n",
    "print('num classes:', NUM_CLASSES)\n",
    "print('pre-trained:', PRE_TRAINED)\n",
    "print('learning rate:', LEARNING_RATE)\n",
    "print('batch size:', BATCH_SIZE)\n",
    "print('epochs:', EPOCHS)"
   ],
   "outputs": [
    {
     "output_type": "stream",
     "name": "stdout",
     "text": [
      "num clients: 5\n",
      "num rounds: 50\n",
      "----------------------------------------\n",
      "client training set size: [90, 90, 90, 90, 90, 90, 90, 90, 90, 90]\n",
      "client validation set size: [10, 10, 10, 10, 10, 10, 10, 10, 10, 10]\n",
      "test set size: 100\n",
      "----------------------------------------\n",
      "model name: google/bit-50\n",
      "num classes: 100\n",
      "pre-trained: True\n",
      "learning rate: 0.0001\n",
      "batch size: 32\n",
      "epochs: 1\n"
     ]
    }
   ],
   "metadata": {}
  },
  {
   "cell_type": "code",
   "execution_count": 9,
   "source": [
    "fl.simulation.start_simulation(\n",
    "    client_fn=lambda cid: FlowerClient(MODEL_CONFIG, trainloaders[int(cid)], valloaders[int(cid)]),\n",
    "    num_clients=NUM_CLIENTS,\n",
    "    config=fl.server.ServerConfig(num_rounds=NUM_ROUNDS),\n",
    "    strategy=strategy,\n",
    "    client_resources=CLIENT_RESOURCES,\n",
    "    ray_init_args=RAY_ARGS,\n",
    ")"
   ],
   "outputs": [
    {
     "output_type": "stream",
     "name": "stderr",
     "text": [
      "INFO flwr 2023-04-12 11:18:36,084 | app.py:145 | Starting Flower simulation, config: ServerConfig(num_rounds=50, round_timeout=None)\n",
      "2023-04-12 11:18:38,712\tINFO worker.py:1529 -- Started a local Ray instance. View the dashboard at \u001b[1m\u001b[32m127.0.0.1:8265 \u001b[39m\u001b[22m\n",
      "INFO flwr 2023-04-12 11:18:41,260 | app.py:179 | Flower VCE: Ray initialized with resources: {'memory': 14049951744.0, 'CPU': 24.0, 'node:127.0.0.1': 1.0, 'object_store_memory': 7024975872.0, 'GPU': 1.0}\n",
      "INFO flwr 2023-04-12 11:18:41,260 | server.py:86 | Initializing global parameters\n",
      "INFO flwr 2023-04-12 11:18:41,261 | server.py:266 | Using initial parameters provided by strategy\n",
      "INFO flwr 2023-04-12 11:18:41,261 | server.py:88 | Evaluating initial parameters\n",
      "INFO flwr 2023-04-12 11:18:47,218 | server.py:91 | initial parameters (loss, other metrics): 20.85797882080078, {'test_loss': 20.85797882080078, 'test_accuracy': 0.01}\n",
      "INFO flwr 2023-04-12 11:18:47,218 | server.py:101 | FL starting\n",
      "DEBUG flwr 2023-04-12 11:18:47,219 | server.py:215 | fit_round 1: strategy sampled 2 clients (out of 5)\n",
      "DEBUG flwr 2023-04-12 11:19:24,718 | server.py:229 | fit_round 1 received 2 results and 0 failures\n"
     ]
    },
    {
     "output_type": "stream",
     "name": "stdout",
     "text": [
      "\t {'train_loss': 3.532351851463318, 'train_accuracy': 0.07777777777777778}\n"
     ]
    },
    {
     "output_type": "stream",
     "name": "stderr",
     "text": [
      "INFO flwr 2023-04-12 11:19:30,701 | server.py:116 | fit progress: (1, 19.676252365112305, {'test_loss': 19.676252365112305, 'test_accuracy': 0.01}, 43.482241700003215)\n",
      "DEBUG flwr 2023-04-12 11:19:30,701 | server.py:165 | evaluate_round 1: strategy sampled 2 clients (out of 5)\n",
      "DEBUG flwr 2023-04-12 11:19:32,938 | server.py:179 | evaluate_round 1 received 2 results and 0 failures\n",
      "DEBUG flwr 2023-04-12 11:19:32,938 | server.py:215 | fit_round 2: strategy sampled 2 clients (out of 5)\n"
     ]
    },
    {
     "output_type": "stream",
     "name": "stdout",
     "text": [
      "\t {'val_loss': 6.216682434082031, 'val_accuracy': 0.0}\n"
     ]
    },
    {
     "output_type": "stream",
     "name": "stderr",
     "text": [
      "DEBUG flwr 2023-04-12 11:20:09,422 | server.py:229 | fit_round 2 received 2 results and 0 failures\n"
     ]
    },
    {
     "output_type": "stream",
     "name": "stdout",
     "text": [
      "\t {'train_loss': 2.8315752744674683, 'train_accuracy': 0.37222222222222223}\n"
     ]
    },
    {
     "output_type": "stream",
     "name": "stderr",
     "text": [
      "INFO flwr 2023-04-12 11:20:15,491 | server.py:116 | fit progress: (2, 16.979473114013672, {'test_loss': 16.979473114013672, 'test_accuracy': 0.15}, 88.27271330000076)\n",
      "DEBUG flwr 2023-04-12 11:20:15,492 | server.py:165 | evaluate_round 2: strategy sampled 2 clients (out of 5)\n",
      "DEBUG flwr 2023-04-12 11:20:17,533 | server.py:179 | evaluate_round 2 received 2 results and 0 failures\n",
      "DEBUG flwr 2023-04-12 11:20:17,533 | server.py:215 | fit_round 3: strategy sampled 2 clients (out of 5)\n"
     ]
    },
    {
     "output_type": "stream",
     "name": "stdout",
     "text": [
      "\t {'val_loss': 4.223135352134705, 'val_accuracy': 0.15}\n"
     ]
    },
    {
     "output_type": "stream",
     "name": "stderr",
     "text": [
      "DEBUG flwr 2023-04-12 11:20:53,219 | server.py:229 | fit_round 3 received 2 results and 0 failures\n"
     ]
    },
    {
     "output_type": "stream",
     "name": "stdout",
     "text": [
      "\t {'train_loss': 1.9261871576309204, 'train_accuracy': 0.48333333333333334}\n"
     ]
    },
    {
     "output_type": "stream",
     "name": "stderr",
     "text": [
      "INFO flwr 2023-04-12 11:20:59,240 | server.py:116 | fit progress: (3, 17.55315399169922, {'test_loss': 17.55315399169922, 'test_accuracy': 0.16}, 132.0212532000005)\n",
      "DEBUG flwr 2023-04-12 11:20:59,240 | server.py:165 | evaluate_round 3: strategy sampled 2 clients (out of 5)\n",
      "DEBUG flwr 2023-04-12 11:21:05,963 | server.py:179 | evaluate_round 3 received 2 results and 0 failures\n",
      "DEBUG flwr 2023-04-12 11:21:05,964 | server.py:215 | fit_round 4: strategy sampled 2 clients (out of 5)\n"
     ]
    },
    {
     "output_type": "stream",
     "name": "stdout",
     "text": [
      "\t {'val_loss': 4.5347723960876465, 'val_accuracy': 0.15}\n"
     ]
    },
    {
     "output_type": "stream",
     "name": "stderr",
     "text": [
      "DEBUG flwr 2023-04-12 11:21:42,408 | server.py:229 | fit_round 4 received 2 results and 0 failures\n"
     ]
    },
    {
     "output_type": "stream",
     "name": "stdout",
     "text": [
      "\t {'train_loss': 2.304580867290497, 'train_accuracy': 0.5499999999999999}\n"
     ]
    },
    {
     "output_type": "stream",
     "name": "stderr",
     "text": [
      "INFO flwr 2023-04-12 11:21:48,457 | server.py:116 | fit progress: (4, 16.59345245361328, {'test_loss': 16.59345245361328, 'test_accuracy': 0.18}, 181.23877999999968)\n",
      "DEBUG flwr 2023-04-12 11:21:48,458 | server.py:165 | evaluate_round 4: strategy sampled 2 clients (out of 5)\n",
      "DEBUG flwr 2023-04-12 11:21:50,699 | server.py:179 | evaluate_round 4 received 2 results and 0 failures\n",
      "DEBUG flwr 2023-04-12 11:21:50,699 | server.py:215 | fit_round 5: strategy sampled 2 clients (out of 5)\n"
     ]
    },
    {
     "output_type": "stream",
     "name": "stdout",
     "text": [
      "\t {'val_loss': 2.816427707672119, 'val_accuracy': 0.35}\n"
     ]
    },
    {
     "output_type": "stream",
     "name": "stderr",
     "text": [
      "DEBUG flwr 2023-04-12 11:22:26,951 | server.py:229 | fit_round 5 received 2 results and 0 failures\n"
     ]
    },
    {
     "output_type": "stream",
     "name": "stdout",
     "text": [
      "\t {'train_loss': 2.7157428860664368, 'train_accuracy': 0.4666666666666666}\n"
     ]
    },
    {
     "output_type": "stream",
     "name": "stderr",
     "text": [
      "INFO flwr 2023-04-12 11:22:33,013 | server.py:116 | fit progress: (5, 16.23967170715332, {'test_loss': 16.23967170715332, 'test_accuracy': 0.18}, 225.79463699999906)\n",
      "DEBUG flwr 2023-04-12 11:22:33,014 | server.py:165 | evaluate_round 5: strategy sampled 2 clients (out of 5)\n",
      "DEBUG flwr 2023-04-12 11:22:35,293 | server.py:179 | evaluate_round 5 received 2 results and 0 failures\n",
      "DEBUG flwr 2023-04-12 11:22:35,294 | server.py:215 | fit_round 6: strategy sampled 2 clients (out of 5)\n"
     ]
    },
    {
     "output_type": "stream",
     "name": "stdout",
     "text": [
      "\t {'val_loss': 2.9605382680892944, 'val_accuracy': 0.25}\n"
     ]
    },
    {
     "output_type": "stream",
     "name": "stderr",
     "text": [
      "DEBUG flwr 2023-04-12 11:23:11,244 | server.py:229 | fit_round 6 received 2 results and 0 failures\n"
     ]
    },
    {
     "output_type": "stream",
     "name": "stdout",
     "text": [
      "\t {'train_loss': 0.8545286953449249, 'train_accuracy': 0.8555555555555555}\n"
     ]
    },
    {
     "output_type": "stream",
     "name": "stderr",
     "text": [
      "INFO flwr 2023-04-12 11:23:17,257 | server.py:116 | fit progress: (6, 16.15770149230957, {'test_loss': 16.15770149230957, 'test_accuracy': 0.21}, 270.03867020000325)\n",
      "DEBUG flwr 2023-04-12 11:23:17,258 | server.py:165 | evaluate_round 6: strategy sampled 2 clients (out of 5)\n",
      "DEBUG flwr 2023-04-12 11:23:19,491 | server.py:179 | evaluate_round 6 received 2 results and 0 failures\n",
      "DEBUG flwr 2023-04-12 11:23:19,491 | server.py:215 | fit_round 7: strategy sampled 2 clients (out of 5)\n"
     ]
    },
    {
     "output_type": "stream",
     "name": "stdout",
     "text": [
      "\t {'val_loss': 4.639748692512512, 'val_accuracy': 0.15}\n"
     ]
    },
    {
     "output_type": "stream",
     "name": "stderr",
     "text": [
      "DEBUG flwr 2023-04-12 11:23:55,686 | server.py:229 | fit_round 7 received 2 results and 0 failures\n"
     ]
    },
    {
     "output_type": "stream",
     "name": "stdout",
     "text": [
      "\t {'train_loss': 0.5785768926143646, 'train_accuracy': 0.9611111111111111}\n"
     ]
    },
    {
     "output_type": "stream",
     "name": "stderr",
     "text": [
      "INFO flwr 2023-04-12 11:24:01,680 | server.py:116 | fit progress: (7, 17.008188247680664, {'test_loss': 17.008188247680664, 'test_accuracy': 0.19}, 314.46112469999935)\n",
      "DEBUG flwr 2023-04-12 11:24:01,681 | server.py:165 | evaluate_round 7: strategy sampled 2 clients (out of 5)\n",
      "DEBUG flwr 2023-04-12 11:24:07,703 | server.py:179 | evaluate_round 7 received 2 results and 0 failures\n",
      "DEBUG flwr 2023-04-12 11:24:07,705 | server.py:215 | fit_round 8: strategy sampled 2 clients (out of 5)\n"
     ]
    },
    {
     "output_type": "stream",
     "name": "stdout",
     "text": [
      "\t {'val_loss': 4.7193392515182495, 'val_accuracy': 0.15}\n"
     ]
    },
    {
     "output_type": "stream",
     "name": "stderr",
     "text": [
      "DEBUG flwr 2023-04-12 11:24:43,998 | server.py:229 | fit_round 8 received 2 results and 0 failures\n"
     ]
    },
    {
     "output_type": "stream",
     "name": "stdout",
     "text": [
      "\t {'train_loss': 1.775532752275467, 'train_accuracy': 0.6722222222222222}\n"
     ]
    },
    {
     "output_type": "stream",
     "name": "stderr",
     "text": [
      "INFO flwr 2023-04-12 11:24:49,969 | server.py:116 | fit progress: (8, 14.121337890625, {'test_loss': 14.121337890625, 'test_accuracy': 0.23}, 362.7500749000028)\n",
      "DEBUG flwr 2023-04-12 11:24:49,969 | server.py:165 | evaluate_round 8: strategy sampled 2 clients (out of 5)\n",
      "DEBUG flwr 2023-04-12 11:24:52,142 | server.py:179 | evaluate_round 8 received 2 results and 0 failures\n",
      "DEBUG flwr 2023-04-12 11:24:52,143 | server.py:215 | fit_round 9: strategy sampled 2 clients (out of 5)\n"
     ]
    },
    {
     "output_type": "stream",
     "name": "stdout",
     "text": [
      "\t {'val_loss': 2.7138445377349854, 'val_accuracy': 0.5}\n"
     ]
    },
    {
     "output_type": "stream",
     "name": "stderr",
     "text": [
      "DEBUG flwr 2023-04-12 11:25:28,017 | server.py:229 | fit_round 9 received 2 results and 0 failures\n"
     ]
    },
    {
     "output_type": "stream",
     "name": "stdout",
     "text": [
      "\t {'train_loss': 0.22752700001001358, 'train_accuracy': 0.9666666666666667}\n"
     ]
    },
    {
     "output_type": "stream",
     "name": "stderr",
     "text": [
      "INFO flwr 2023-04-12 11:25:34,016 | server.py:116 | fit progress: (9, 15.382959365844727, {'test_loss': 15.382959365844727, 'test_accuracy': 0.24}, 406.7975873000032)\n",
      "DEBUG flwr 2023-04-12 11:25:34,017 | server.py:165 | evaluate_round 9: strategy sampled 2 clients (out of 5)\n",
      "DEBUG flwr 2023-04-12 11:25:40,336 | server.py:179 | evaluate_round 9 received 2 results and 0 failures\n",
      "DEBUG flwr 2023-04-12 11:25:40,337 | server.py:215 | fit_round 10: strategy sampled 2 clients (out of 5)\n"
     ]
    },
    {
     "output_type": "stream",
     "name": "stdout",
     "text": [
      "\t {'val_loss': 3.0098906755447388, 'val_accuracy': 0.3}\n"
     ]
    },
    {
     "output_type": "stream",
     "name": "stderr",
     "text": [
      "DEBUG flwr 2023-04-12 11:26:16,527 | server.py:229 | fit_round 10 received 2 results and 0 failures\n"
     ]
    },
    {
     "output_type": "stream",
     "name": "stdout",
     "text": [
      "\t {'train_loss': 0.29897934198379517, 'train_accuracy': 0.9666666666666667}\n"
     ]
    },
    {
     "output_type": "stream",
     "name": "stderr",
     "text": [
      "INFO flwr 2023-04-12 11:26:22,453 | server.py:116 | fit progress: (10, 16.603490829467773, {'test_loss': 16.603490829467773, 'test_accuracy': 0.22}, 455.2339624000015)\n",
      "DEBUG flwr 2023-04-12 11:26:22,454 | server.py:165 | evaluate_round 10: strategy sampled 2 clients (out of 5)\n",
      "DEBUG flwr 2023-04-12 11:26:24,607 | server.py:179 | evaluate_round 10 received 2 results and 0 failures\n",
      "DEBUG flwr 2023-04-12 11:26:24,608 | server.py:215 | fit_round 11: strategy sampled 2 clients (out of 5)\n"
     ]
    },
    {
     "output_type": "stream",
     "name": "stdout",
     "text": [
      "\t {'val_loss': 3.338590621948242, 'val_accuracy': 0.35}\n"
     ]
    },
    {
     "output_type": "stream",
     "name": "stderr",
     "text": [
      "DEBUG flwr 2023-04-12 11:27:00,663 | server.py:229 | fit_round 11 received 2 results and 0 failures\n"
     ]
    },
    {
     "output_type": "stream",
     "name": "stdout",
     "text": [
      "\t {'train_loss': 0.04007316939532757, 'train_accuracy': 0.9944444444444445}\n"
     ]
    },
    {
     "output_type": "stream",
     "name": "stderr",
     "text": [
      "INFO flwr 2023-04-12 11:27:06,592 | server.py:116 | fit progress: (11, 18.980501174926758, {'test_loss': 18.980501174926758, 'test_accuracy': 0.21}, 499.373021899999)\n",
      "DEBUG flwr 2023-04-12 11:27:06,592 | server.py:165 | evaluate_round 11: strategy sampled 2 clients (out of 5)\n",
      "DEBUG flwr 2023-04-12 11:27:14,001 | server.py:179 | evaluate_round 11 received 2 results and 0 failures\n",
      "DEBUG flwr 2023-04-12 11:27:14,002 | server.py:215 | fit_round 12: strategy sampled 2 clients (out of 5)\n"
     ]
    },
    {
     "output_type": "stream",
     "name": "stdout",
     "text": [
      "\t {'val_loss': 2.854678213596344, 'val_accuracy': 0.35}\n"
     ]
    },
    {
     "output_type": "stream",
     "name": "stderr",
     "text": [
      "DEBUG flwr 2023-04-12 11:27:50,303 | server.py:229 | fit_round 12 received 2 results and 0 failures\n"
     ]
    },
    {
     "output_type": "stream",
     "name": "stdout",
     "text": [
      "\t {'train_loss': 0.07071258360520005, 'train_accuracy': 0.9944444444444445}\n"
     ]
    },
    {
     "output_type": "stream",
     "name": "stderr",
     "text": [
      "INFO flwr 2023-04-12 11:27:56,294 | server.py:116 | fit progress: (12, 18.150869369506836, {'test_loss': 18.150869369506836, 'test_accuracy': 0.25}, 549.0755396000022)\n",
      "DEBUG flwr 2023-04-12 11:27:56,295 | server.py:165 | evaluate_round 12: strategy sampled 2 clients (out of 5)\n",
      "DEBUG flwr 2023-04-12 11:27:58,347 | server.py:179 | evaluate_round 12 received 2 results and 0 failures\n",
      "DEBUG flwr 2023-04-12 11:27:58,347 | server.py:215 | fit_round 13: strategy sampled 2 clients (out of 5)\n"
     ]
    },
    {
     "output_type": "stream",
     "name": "stdout",
     "text": [
      "\t {'val_loss': 3.671748638153076, 'val_accuracy': 0.2}\n"
     ]
    },
    {
     "output_type": "stream",
     "name": "stderr",
     "text": [
      "DEBUG flwr 2023-04-12 11:28:34,188 | server.py:229 | fit_round 13 received 2 results and 0 failures\n"
     ]
    },
    {
     "output_type": "stream",
     "name": "stdout",
     "text": [
      "\t {'train_loss': 0.8244900434510782, 'train_accuracy': 0.888888888888889}\n"
     ]
    },
    {
     "output_type": "stream",
     "name": "stderr",
     "text": [
      "INFO flwr 2023-04-12 11:28:40,102 | server.py:116 | fit progress: (13, 16.517398834228516, {'test_loss': 16.517398834228516, 'test_accuracy': 0.28}, 592.8836846000049)\n",
      "DEBUG flwr 2023-04-12 11:28:40,103 | server.py:165 | evaluate_round 13: strategy sampled 2 clients (out of 5)\n",
      "DEBUG flwr 2023-04-12 11:28:42,264 | server.py:179 | evaluate_round 13 received 2 results and 0 failures\n",
      "DEBUG flwr 2023-04-12 11:28:42,264 | server.py:215 | fit_round 14: strategy sampled 2 clients (out of 5)\n"
     ]
    },
    {
     "output_type": "stream",
     "name": "stdout",
     "text": [
      "\t {'val_loss': 2.080637216567993, 'val_accuracy': 0.4}\n"
     ]
    },
    {
     "output_type": "stream",
     "name": "stderr",
     "text": [
      "DEBUG flwr 2023-04-12 11:29:18,346 | server.py:229 | fit_round 14 received 2 results and 0 failures\n"
     ]
    },
    {
     "output_type": "stream",
     "name": "stdout",
     "text": [
      "\t {'train_loss': 0.02226721541956067, 'train_accuracy': 0.9888888888888889}\n"
     ]
    },
    {
     "output_type": "stream",
     "name": "stderr",
     "text": [
      "INFO flwr 2023-04-12 11:29:24,279 | server.py:116 | fit progress: (14, 19.658843994140625, {'test_loss': 19.658843994140625, 'test_accuracy': 0.25}, 637.060092300002)\n",
      "DEBUG flwr 2023-04-12 11:29:24,279 | server.py:165 | evaluate_round 14: strategy sampled 2 clients (out of 5)\n",
      "DEBUG flwr 2023-04-12 11:29:26,398 | server.py:179 | evaluate_round 14 received 2 results and 0 failures\n",
      "DEBUG flwr 2023-04-12 11:29:26,399 | server.py:215 | fit_round 15: strategy sampled 2 clients (out of 5)\n"
     ]
    },
    {
     "output_type": "stream",
     "name": "stdout",
     "text": [
      "\t {'val_loss': 1.573780357837677, 'val_accuracy': 0.6}\n"
     ]
    },
    {
     "output_type": "stream",
     "name": "stderr",
     "text": [
      "DEBUG flwr 2023-04-12 11:30:02,427 | server.py:229 | fit_round 15 received 2 results and 0 failures\n"
     ]
    },
    {
     "output_type": "stream",
     "name": "stdout",
     "text": [
      "\t {'train_loss': 1.6637024581432343, 'train_accuracy': 0.7666666666666666}\n"
     ]
    },
    {
     "output_type": "stream",
     "name": "stderr",
     "text": [
      "INFO flwr 2023-04-12 11:30:08,390 | server.py:116 | fit progress: (15, 15.900166511535645, {'test_loss': 15.900166511535645, 'test_accuracy': 0.29}, 681.1711136000013)\n",
      "DEBUG flwr 2023-04-12 11:30:08,390 | server.py:165 | evaluate_round 15: strategy sampled 2 clients (out of 5)\n",
      "DEBUG flwr 2023-04-12 11:30:10,530 | server.py:179 | evaluate_round 15 received 2 results and 0 failures\n",
      "DEBUG flwr 2023-04-12 11:30:10,531 | server.py:215 | fit_round 16: strategy sampled 2 clients (out of 5)\n"
     ]
    },
    {
     "output_type": "stream",
     "name": "stdout",
     "text": [
      "\t {'val_loss': 2.8214845657348633, 'val_accuracy': 0.35}\n"
     ]
    },
    {
     "output_type": "stream",
     "name": "stderr",
     "text": [
      "DEBUG flwr 2023-04-12 11:30:46,394 | server.py:229 | fit_round 16 received 2 results and 0 failures\n"
     ]
    },
    {
     "output_type": "stream",
     "name": "stdout",
     "text": [
      "\t {'train_loss': 0.01659764861688018, 'train_accuracy': 0.9944444444444445}\n"
     ]
    },
    {
     "output_type": "stream",
     "name": "stderr",
     "text": [
      "INFO flwr 2023-04-12 11:30:52,328 | server.py:116 | fit progress: (16, 16.906034469604492, {'test_loss': 16.906034469604492, 'test_accuracy': 0.25}, 725.1087327000059)\n",
      "DEBUG flwr 2023-04-12 11:30:52,328 | server.py:165 | evaluate_round 16: strategy sampled 2 clients (out of 5)\n",
      "DEBUG flwr 2023-04-12 11:30:54,771 | server.py:179 | evaluate_round 16 received 2 results and 0 failures\n",
      "DEBUG flwr 2023-04-12 11:30:54,771 | server.py:215 | fit_round 17: strategy sampled 2 clients (out of 5)\n"
     ]
    },
    {
     "output_type": "stream",
     "name": "stdout",
     "text": [
      "\t {'val_loss': 2.0820159912109375, 'val_accuracy': 0.5}\n"
     ]
    },
    {
     "output_type": "stream",
     "name": "stderr",
     "text": [
      "DEBUG flwr 2023-04-12 11:31:30,960 | server.py:229 | fit_round 17 received 2 results and 0 failures\n"
     ]
    },
    {
     "output_type": "stream",
     "name": "stdout",
     "text": [
      "\t {'train_loss': 0.1889600306749344, 'train_accuracy': 0.9722222222222222}\n"
     ]
    },
    {
     "output_type": "stream",
     "name": "stderr",
     "text": [
      "INFO flwr 2023-04-12 11:31:36,910 | server.py:116 | fit progress: (17, 16.967369079589844, {'test_loss': 16.967369079589844, 'test_accuracy': 0.29}, 769.6919037000043)\n",
      "DEBUG flwr 2023-04-12 11:31:36,911 | server.py:165 | evaluate_round 17: strategy sampled 2 clients (out of 5)\n",
      "DEBUG flwr 2023-04-12 11:31:38,991 | server.py:179 | evaluate_round 17 received 2 results and 0 failures\n",
      "DEBUG flwr 2023-04-12 11:31:38,992 | server.py:215 | fit_round 18: strategy sampled 2 clients (out of 5)\n"
     ]
    },
    {
     "output_type": "stream",
     "name": "stdout",
     "text": [
      "\t {'val_loss': 1.772758960723877, 'val_accuracy': 0.6000000000000001}\n"
     ]
    },
    {
     "output_type": "stream",
     "name": "stderr",
     "text": [
      "DEBUG flwr 2023-04-12 11:32:14,773 | server.py:229 | fit_round 18 received 2 results and 0 failures\n"
     ]
    },
    {
     "output_type": "stream",
     "name": "stdout",
     "text": [
      "\t {'train_loss': 0.008027589123230428, 'train_accuracy': 1.0}\n"
     ]
    },
    {
     "output_type": "stream",
     "name": "stderr",
     "text": [
      "INFO flwr 2023-04-12 11:32:20,617 | server.py:116 | fit progress: (18, 18.31141471862793, {'test_loss': 18.31141471862793, 'test_accuracy': 0.29}, 813.3988788000061)\n",
      "DEBUG flwr 2023-04-12 11:32:20,618 | server.py:165 | evaluate_round 18: strategy sampled 2 clients (out of 5)\n",
      "DEBUG flwr 2023-04-12 11:32:22,797 | server.py:179 | evaluate_round 18 received 2 results and 0 failures\n",
      "DEBUG flwr 2023-04-12 11:32:22,797 | server.py:215 | fit_round 19: strategy sampled 2 clients (out of 5)\n"
     ]
    },
    {
     "output_type": "stream",
     "name": "stdout",
     "text": [
      "\t {'val_loss': 1.5036643147468567, 'val_accuracy': 0.6}\n"
     ]
    },
    {
     "output_type": "stream",
     "name": "stderr",
     "text": [
      "DEBUG flwr 2023-04-12 11:32:58,717 | server.py:229 | fit_round 19 received 2 results and 0 failures\n"
     ]
    },
    {
     "output_type": "stream",
     "name": "stdout",
     "text": [
      "\t {'train_loss': 0.1007948225887958, 'train_accuracy': 0.9777777777777779}\n"
     ]
    },
    {
     "output_type": "stream",
     "name": "stderr",
     "text": [
      "INFO flwr 2023-04-12 11:33:04,634 | server.py:116 | fit progress: (19, 17.62583351135254, {'test_loss': 17.62583351135254, 'test_accuracy': 0.3}, 857.4147588000051)\n",
      "DEBUG flwr 2023-04-12 11:33:04,634 | server.py:165 | evaluate_round 19: strategy sampled 2 clients (out of 5)\n",
      "DEBUG flwr 2023-04-12 11:33:06,782 | server.py:179 | evaluate_round 19 received 2 results and 0 failures\n",
      "DEBUG flwr 2023-04-12 11:33:06,783 | server.py:215 | fit_round 20: strategy sampled 2 clients (out of 5)\n"
     ]
    },
    {
     "output_type": "stream",
     "name": "stdout",
     "text": [
      "\t {'val_loss': 3.676156163215637, 'val_accuracy': 0.30000000000000004}\n"
     ]
    },
    {
     "output_type": "stream",
     "name": "stderr",
     "text": [
      "DEBUG flwr 2023-04-12 11:33:42,763 | server.py:229 | fit_round 20 received 2 results and 0 failures\n"
     ]
    },
    {
     "output_type": "stream",
     "name": "stdout",
     "text": [
      "\t {'train_loss': 0.9287854693830013, 'train_accuracy': 0.9111111111111111}\n"
     ]
    },
    {
     "output_type": "stream",
     "name": "stderr",
     "text": [
      "INFO flwr 2023-04-12 11:33:48,668 | server.py:116 | fit progress: (20, 16.76271629333496, {'test_loss': 16.76271629333496, 'test_accuracy': 0.33}, 901.4494812000048)\n",
      "DEBUG flwr 2023-04-12 11:33:48,669 | server.py:165 | evaluate_round 20: strategy sampled 2 clients (out of 5)\n",
      "DEBUG flwr 2023-04-12 11:33:50,815 | server.py:179 | evaluate_round 20 received 2 results and 0 failures\n",
      "DEBUG flwr 2023-04-12 11:33:50,816 | server.py:215 | fit_round 21: strategy sampled 2 clients (out of 5)\n"
     ]
    },
    {
     "output_type": "stream",
     "name": "stdout",
     "text": [
      "\t {'val_loss': 3.1146395206451416, 'val_accuracy': 0.35}\n"
     ]
    },
    {
     "output_type": "stream",
     "name": "stderr",
     "text": [
      "DEBUG flwr 2023-04-12 11:34:27,082 | server.py:229 | fit_round 21 received 2 results and 0 failures\n"
     ]
    },
    {
     "output_type": "stream",
     "name": "stdout",
     "text": [
      "\t {'train_loss': 0.027052855977672152, 'train_accuracy': 1.0}\n"
     ]
    },
    {
     "output_type": "stream",
     "name": "stderr",
     "text": [
      "INFO flwr 2023-04-12 11:34:33,035 | server.py:116 | fit progress: (21, 16.91681480407715, {'test_loss': 16.91681480407715, 'test_accuracy': 0.3}, 945.8165373000011)\n",
      "DEBUG flwr 2023-04-12 11:34:33,035 | server.py:165 | evaluate_round 21: strategy sampled 2 clients (out of 5)\n",
      "DEBUG flwr 2023-04-12 11:34:35,164 | server.py:179 | evaluate_round 21 received 2 results and 0 failures\n",
      "DEBUG flwr 2023-04-12 11:34:35,166 | server.py:215 | fit_round 22: strategy sampled 2 clients (out of 5)\n"
     ]
    },
    {
     "output_type": "stream",
     "name": "stdout",
     "text": [
      "\t {'val_loss': 2.251848727464676, 'val_accuracy': 0.55}\n"
     ]
    },
    {
     "output_type": "stream",
     "name": "stderr",
     "text": [
      "DEBUG flwr 2023-04-12 11:35:11,333 | server.py:229 | fit_round 22 received 2 results and 0 failures\n"
     ]
    },
    {
     "output_type": "stream",
     "name": "stdout",
     "text": [
      "\t {'train_loss': 0.7530741165974177, 'train_accuracy': 0.9555555555555554}\n"
     ]
    },
    {
     "output_type": "stream",
     "name": "stderr",
     "text": [
      "INFO flwr 2023-04-12 11:35:17,284 | server.py:116 | fit progress: (22, 16.617767333984375, {'test_loss': 16.617767333984375, 'test_accuracy': 0.28}, 990.0648484000048)\n",
      "DEBUG flwr 2023-04-12 11:35:17,284 | server.py:165 | evaluate_round 22: strategy sampled 2 clients (out of 5)\n",
      "DEBUG flwr 2023-04-12 11:35:19,560 | server.py:179 | evaluate_round 22 received 2 results and 0 failures\n",
      "DEBUG flwr 2023-04-12 11:35:19,560 | server.py:215 | fit_round 23: strategy sampled 2 clients (out of 5)\n"
     ]
    },
    {
     "output_type": "stream",
     "name": "stdout",
     "text": [
      "\t {'val_loss': 2.9914366006851196, 'val_accuracy': 0.4}\n"
     ]
    },
    {
     "output_type": "stream",
     "name": "stderr",
     "text": [
      "DEBUG flwr 2023-04-12 11:35:55,678 | server.py:229 | fit_round 23 received 2 results and 0 failures\n"
     ]
    },
    {
     "output_type": "stream",
     "name": "stdout",
     "text": [
      "\t {'train_loss': 0.39670221135020256, 'train_accuracy': 0.9722222222222223}\n"
     ]
    },
    {
     "output_type": "stream",
     "name": "stderr",
     "text": [
      "INFO flwr 2023-04-12 11:36:01,656 | server.py:116 | fit progress: (23, 15.866155624389648, {'test_loss': 15.866155624389648, 'test_accuracy': 0.33}, 1034.4379689000052)\n",
      "DEBUG flwr 2023-04-12 11:36:01,657 | server.py:165 | evaluate_round 23: strategy sampled 2 clients (out of 5)\n",
      "DEBUG flwr 2023-04-12 11:36:03,808 | server.py:179 | evaluate_round 23 received 2 results and 0 failures\n",
      "DEBUG flwr 2023-04-12 11:36:03,808 | server.py:215 | fit_round 24: strategy sampled 2 clients (out of 5)\n"
     ]
    },
    {
     "output_type": "stream",
     "name": "stdout",
     "text": [
      "\t {'val_loss': 1.7661638259887695, 'val_accuracy': 0.6000000000000001}\n"
     ]
    },
    {
     "output_type": "stream",
     "name": "stderr",
     "text": [
      "DEBUG flwr 2023-04-12 11:36:39,917 | server.py:229 | fit_round 24 received 2 results and 0 failures\n"
     ]
    },
    {
     "output_type": "stream",
     "name": "stdout",
     "text": [
      "\t {'train_loss': 0.18956011399131967, 'train_accuracy': 0.9777777777777779}\n"
     ]
    },
    {
     "output_type": "stream",
     "name": "stderr",
     "text": [
      "INFO flwr 2023-04-12 11:36:45,878 | server.py:116 | fit progress: (24, 18.7606201171875, {'test_loss': 18.7606201171875, 'test_accuracy': 0.29}, 1078.6600378000003)\n",
      "DEBUG flwr 2023-04-12 11:36:45,879 | server.py:165 | evaluate_round 24: strategy sampled 2 clients (out of 5)\n",
      "DEBUG flwr 2023-04-12 11:36:47,940 | server.py:179 | evaluate_round 24 received 2 results and 0 failures\n",
      "DEBUG flwr 2023-04-12 11:36:47,941 | server.py:215 | fit_round 25: strategy sampled 2 clients (out of 5)\n"
     ]
    },
    {
     "output_type": "stream",
     "name": "stdout",
     "text": [
      "\t {'val_loss': 1.4538336396217346, 'val_accuracy': 0.7}\n"
     ]
    },
    {
     "output_type": "stream",
     "name": "stderr",
     "text": [
      "DEBUG flwr 2023-04-12 11:37:23,681 | server.py:229 | fit_round 25 received 2 results and 0 failures\n"
     ]
    },
    {
     "output_type": "stream",
     "name": "stdout",
     "text": [
      "\t {'train_loss': 0.10208886179316323, 'train_accuracy': 0.9944444444444445}\n"
     ]
    },
    {
     "output_type": "stream",
     "name": "stderr",
     "text": [
      "INFO flwr 2023-04-12 11:37:29,659 | server.py:116 | fit progress: (25, 17.506793975830078, {'test_loss': 17.506793975830078, 'test_accuracy': 0.31}, 1122.440314200001)\n",
      "DEBUG flwr 2023-04-12 11:37:29,660 | server.py:165 | evaluate_round 25: strategy sampled 2 clients (out of 5)\n",
      "DEBUG flwr 2023-04-12 11:37:35,875 | server.py:179 | evaluate_round 25 received 2 results and 0 failures\n",
      "DEBUG flwr 2023-04-12 11:37:35,876 | server.py:215 | fit_round 26: strategy sampled 2 clients (out of 5)\n"
     ]
    },
    {
     "output_type": "stream",
     "name": "stdout",
     "text": [
      "\t {'val_loss': 0.6849376410245895, 'val_accuracy': 0.8}\n"
     ]
    },
    {
     "output_type": "stream",
     "name": "stderr",
     "text": [
      "DEBUG flwr 2023-04-12 11:38:11,922 | server.py:229 | fit_round 26 received 2 results and 0 failures\n"
     ]
    },
    {
     "output_type": "stream",
     "name": "stdout",
     "text": [
      "\t {'train_loss': 0.18650263678773626, 'train_accuracy': 0.9944444444444445}\n"
     ]
    },
    {
     "output_type": "stream",
     "name": "stderr",
     "text": [
      "INFO flwr 2023-04-12 11:38:17,950 | server.py:116 | fit progress: (26, 18.216211318969727, {'test_loss': 18.216211318969727, 'test_accuracy': 0.3}, 1170.7311755000046)\n",
      "DEBUG flwr 2023-04-12 11:38:17,950 | server.py:165 | evaluate_round 26: strategy sampled 2 clients (out of 5)\n",
      "DEBUG flwr 2023-04-12 11:38:20,195 | server.py:179 | evaluate_round 26 received 2 results and 0 failures\n",
      "DEBUG flwr 2023-04-12 11:38:20,196 | server.py:215 | fit_round 27: strategy sampled 2 clients (out of 5)\n"
     ]
    },
    {
     "output_type": "stream",
     "name": "stdout",
     "text": [
      "\t {'val_loss': 2.328786611557007, 'val_accuracy': 0.55}\n"
     ]
    },
    {
     "output_type": "stream",
     "name": "stderr",
     "text": [
      "DEBUG flwr 2023-04-12 11:38:56,106 | server.py:229 | fit_round 27 received 2 results and 0 failures\n"
     ]
    },
    {
     "output_type": "stream",
     "name": "stdout",
     "text": [
      "\t {'train_loss': 0.005122570245703173, 'train_accuracy': 1.0}\n"
     ]
    },
    {
     "output_type": "stream",
     "name": "stderr",
     "text": [
      "INFO flwr 2023-04-12 11:39:02,049 | server.py:116 | fit progress: (27, 18.095294952392578, {'test_loss': 18.095294952392578, 'test_accuracy': 0.3}, 1214.8306813000017)\n",
      "DEBUG flwr 2023-04-12 11:39:02,050 | server.py:165 | evaluate_round 27: strategy sampled 2 clients (out of 5)\n",
      "DEBUG flwr 2023-04-12 11:39:04,325 | server.py:179 | evaluate_round 27 received 2 results and 0 failures\n",
      "DEBUG flwr 2023-04-12 11:39:04,325 | server.py:215 | fit_round 28: strategy sampled 2 clients (out of 5)\n"
     ]
    },
    {
     "output_type": "stream",
     "name": "stdout",
     "text": [
      "\t {'val_loss': 0.9385723769664764, 'val_accuracy': 0.65}\n"
     ]
    },
    {
     "output_type": "stream",
     "name": "stderr",
     "text": [
      "DEBUG flwr 2023-04-12 11:39:40,330 | server.py:229 | fit_round 28 received 2 results and 0 failures\n"
     ]
    },
    {
     "output_type": "stream",
     "name": "stdout",
     "text": [
      "\t {'train_loss': 0.006201537209562957, 'train_accuracy': 1.0}\n"
     ]
    },
    {
     "output_type": "stream",
     "name": "stderr",
     "text": [
      "INFO flwr 2023-04-12 11:39:46,259 | server.py:116 | fit progress: (28, 16.24544334411621, {'test_loss': 16.24544334411621, 'test_accuracy': 0.31}, 1259.0403880000013)\n",
      "DEBUG flwr 2023-04-12 11:39:46,260 | server.py:165 | evaluate_round 28: strategy sampled 2 clients (out of 5)\n",
      "DEBUG flwr 2023-04-12 11:39:48,504 | server.py:179 | evaluate_round 28 received 2 results and 0 failures\n",
      "DEBUG flwr 2023-04-12 11:39:48,505 | server.py:215 | fit_round 29: strategy sampled 2 clients (out of 5)\n"
     ]
    },
    {
     "output_type": "stream",
     "name": "stdout",
     "text": [
      "\t {'val_loss': 3.336166262626648, 'val_accuracy': 0.44999999999999996}\n"
     ]
    },
    {
     "output_type": "stream",
     "name": "stderr",
     "text": [
      "DEBUG flwr 2023-04-12 11:40:24,692 | server.py:229 | fit_round 29 received 2 results and 0 failures\n"
     ]
    },
    {
     "output_type": "stream",
     "name": "stdout",
     "text": [
      "\t {'train_loss': 0.001105678557905776, 'train_accuracy': 1.0}\n"
     ]
    },
    {
     "output_type": "stream",
     "name": "stderr",
     "text": [
      "INFO flwr 2023-04-12 11:40:30,717 | server.py:116 | fit progress: (29, 15.52544116973877, {'test_loss': 15.52544116973877, 'test_accuracy': 0.33}, 1303.4986511000025)\n",
      "DEBUG flwr 2023-04-12 11:40:30,718 | server.py:165 | evaluate_round 29: strategy sampled 2 clients (out of 5)\n",
      "DEBUG flwr 2023-04-12 11:40:32,965 | server.py:179 | evaluate_round 29 received 2 results and 0 failures\n",
      "DEBUG flwr 2023-04-12 11:40:32,966 | server.py:215 | fit_round 30: strategy sampled 2 clients (out of 5)\n"
     ]
    },
    {
     "output_type": "stream",
     "name": "stdout",
     "text": [
      "\t {'val_loss': 1.5899432450532913, 'val_accuracy': 0.75}\n"
     ]
    },
    {
     "output_type": "stream",
     "name": "stderr",
     "text": [
      "DEBUG flwr 2023-04-12 11:41:08,990 | server.py:229 | fit_round 30 received 2 results and 0 failures\n"
     ]
    },
    {
     "output_type": "stream",
     "name": "stdout",
     "text": [
      "\t {'train_loss': 0.00471223855856806, 'train_accuracy': 1.0}\n"
     ]
    },
    {
     "output_type": "stream",
     "name": "stderr",
     "text": [
      "INFO flwr 2023-04-12 11:41:14,914 | server.py:116 | fit progress: (30, 15.458924293518066, {'test_loss': 15.458924293518066, 'test_accuracy': 0.33}, 1347.6958699000024)\n",
      "DEBUG flwr 2023-04-12 11:41:14,915 | server.py:165 | evaluate_round 30: strategy sampled 2 clients (out of 5)\n",
      "DEBUG flwr 2023-04-12 11:41:17,197 | server.py:179 | evaluate_round 30 received 2 results and 0 failures\n",
      "DEBUG flwr 2023-04-12 11:41:17,198 | server.py:215 | fit_round 31: strategy sampled 2 clients (out of 5)\n"
     ]
    },
    {
     "output_type": "stream",
     "name": "stdout",
     "text": [
      "\t {'val_loss': 1.5048143714666367, 'val_accuracy': 0.65}\n"
     ]
    },
    {
     "output_type": "stream",
     "name": "stderr",
     "text": [
      "DEBUG flwr 2023-04-12 11:41:53,309 | server.py:229 | fit_round 31 received 2 results and 0 failures\n"
     ]
    },
    {
     "output_type": "stream",
     "name": "stdout",
     "text": [
      "\t {'train_loss': 0.002570067998021841, 'train_accuracy': 1.0}\n"
     ]
    },
    {
     "output_type": "stream",
     "name": "stderr",
     "text": [
      "INFO flwr 2023-04-12 11:41:59,261 | server.py:116 | fit progress: (31, 15.076114654541016, {'test_loss': 15.076114654541016, 'test_accuracy': 0.33}, 1392.0423933999991)\n",
      "DEBUG flwr 2023-04-12 11:41:59,262 | server.py:165 | evaluate_round 31: strategy sampled 2 clients (out of 5)\n",
      "DEBUG flwr 2023-04-12 11:42:01,535 | server.py:179 | evaluate_round 31 received 2 results and 0 failures\n",
      "DEBUG flwr 2023-04-12 11:42:01,535 | server.py:215 | fit_round 32: strategy sampled 2 clients (out of 5)\n"
     ]
    },
    {
     "output_type": "stream",
     "name": "stdout",
     "text": [
      "\t {'val_loss': 2.545034885406494, 'val_accuracy': 0.55}\n"
     ]
    },
    {
     "output_type": "stream",
     "name": "stderr",
     "text": [
      "DEBUG flwr 2023-04-12 11:42:37,498 | server.py:229 | fit_round 32 received 2 results and 0 failures\n"
     ]
    },
    {
     "output_type": "stream",
     "name": "stdout",
     "text": [
      "\t {'train_loss': 0.0003708680976615142, 'train_accuracy': 1.0}\n"
     ]
    },
    {
     "output_type": "stream",
     "name": "stderr",
     "text": [
      "INFO flwr 2023-04-12 11:42:43,452 | server.py:116 | fit progress: (32, 16.155065536499023, {'test_loss': 16.155065536499023, 'test_accuracy': 0.32}, 1436.2338646000062)\n",
      "DEBUG flwr 2023-04-12 11:42:43,453 | server.py:165 | evaluate_round 32: strategy sampled 2 clients (out of 5)\n",
      "DEBUG flwr 2023-04-12 11:42:45,719 | server.py:179 | evaluate_round 32 received 2 results and 0 failures\n",
      "DEBUG flwr 2023-04-12 11:42:45,720 | server.py:215 | fit_round 33: strategy sampled 2 clients (out of 5)\n"
     ]
    },
    {
     "output_type": "stream",
     "name": "stdout",
     "text": [
      "\t {'val_loss': 3.127819538116455, 'val_accuracy': 0.25}\n"
     ]
    },
    {
     "output_type": "stream",
     "name": "stderr",
     "text": [
      "DEBUG flwr 2023-04-12 11:43:21,296 | server.py:229 | fit_round 33 received 2 results and 0 failures\n"
     ]
    },
    {
     "output_type": "stream",
     "name": "stdout",
     "text": [
      "\t {'train_loss': 0.000849148171255365, 'train_accuracy': 1.0}\n"
     ]
    },
    {
     "output_type": "stream",
     "name": "stderr",
     "text": [
      "INFO flwr 2023-04-12 11:43:27,225 | server.py:116 | fit progress: (33, 15.243383407592773, {'test_loss': 15.243383407592773, 'test_accuracy': 0.34}, 1480.0059209000028)\n",
      "DEBUG flwr 2023-04-12 11:43:27,225 | server.py:165 | evaluate_round 33: strategy sampled 2 clients (out of 5)\n",
      "DEBUG flwr 2023-04-12 11:43:29,385 | server.py:179 | evaluate_round 33 received 2 results and 0 failures\n",
      "DEBUG flwr 2023-04-12 11:43:29,386 | server.py:215 | fit_round 34: strategy sampled 2 clients (out of 5)\n"
     ]
    },
    {
     "output_type": "stream",
     "name": "stdout",
     "text": [
      "\t {'val_loss': 2.3737659454345703, 'val_accuracy': 0.35}\n"
     ]
    },
    {
     "output_type": "stream",
     "name": "stderr",
     "text": [
      "DEBUG flwr 2023-04-12 11:44:05,100 | server.py:229 | fit_round 34 received 2 results and 0 failures\n"
     ]
    },
    {
     "output_type": "stream",
     "name": "stdout",
     "text": [
      "\t {'train_loss': 5.038780648192187e-05, 'train_accuracy': 1.0}\n"
     ]
    },
    {
     "output_type": "stream",
     "name": "stderr",
     "text": [
      "INFO flwr 2023-04-12 11:44:11,037 | server.py:116 | fit progress: (34, 16.420547485351562, {'test_loss': 16.420547485351562, 'test_accuracy': 0.35}, 1523.8187271999996)\n",
      "DEBUG flwr 2023-04-12 11:44:11,038 | server.py:165 | evaluate_round 34: strategy sampled 2 clients (out of 5)\n",
      "DEBUG flwr 2023-04-12 11:44:16,743 | server.py:179 | evaluate_round 34 received 2 results and 0 failures\n",
      "DEBUG flwr 2023-04-12 11:44:16,744 | server.py:215 | fit_round 35: strategy sampled 2 clients (out of 5)\n"
     ]
    },
    {
     "output_type": "stream",
     "name": "stdout",
     "text": [
      "\t {'val_loss': 2.420965552330017, 'val_accuracy': 0.35}\n"
     ]
    },
    {
     "output_type": "stream",
     "name": "stderr",
     "text": [
      "DEBUG flwr 2023-04-12 11:44:52,810 | server.py:229 | fit_round 35 received 2 results and 0 failures\n"
     ]
    },
    {
     "output_type": "stream",
     "name": "stdout",
     "text": [
      "\t {'train_loss': 0.00028907981686643325, 'train_accuracy': 1.0}\n"
     ]
    },
    {
     "output_type": "stream",
     "name": "stderr",
     "text": [
      "INFO flwr 2023-04-12 11:44:58,753 | server.py:116 | fit progress: (35, 16.21921730041504, {'test_loss': 16.21921730041504, 'test_accuracy': 0.32}, 1571.5344111000013)\n",
      "DEBUG flwr 2023-04-12 11:44:58,754 | server.py:165 | evaluate_round 35: strategy sampled 2 clients (out of 5)\n",
      "DEBUG flwr 2023-04-12 11:45:00,924 | server.py:179 | evaluate_round 35 received 2 results and 0 failures\n",
      "DEBUG flwr 2023-04-12 11:45:00,925 | server.py:215 | fit_round 36: strategy sampled 2 clients (out of 5)\n"
     ]
    },
    {
     "output_type": "stream",
     "name": "stdout",
     "text": [
      "\t {'val_loss': 1.778301551938057, 'val_accuracy': 0.5}\n"
     ]
    },
    {
     "output_type": "stream",
     "name": "stderr",
     "text": [
      "DEBUG flwr 2023-04-12 11:45:36,662 | server.py:229 | fit_round 36 received 2 results and 0 failures\n"
     ]
    },
    {
     "output_type": "stream",
     "name": "stdout",
     "text": [
      "\t {'train_loss': 1.1021940281352727e-05, 'train_accuracy': 1.0}\n"
     ]
    },
    {
     "output_type": "stream",
     "name": "stderr",
     "text": [
      "INFO flwr 2023-04-12 11:45:42,599 | server.py:116 | fit progress: (36, 15.548619270324707, {'test_loss': 15.548619270324707, 'test_accuracy': 0.32}, 1615.380812400006)\n",
      "DEBUG flwr 2023-04-12 11:45:42,600 | server.py:165 | evaluate_round 36: strategy sampled 2 clients (out of 5)\n",
      "DEBUG flwr 2023-04-12 11:45:48,254 | server.py:179 | evaluate_round 36 received 2 results and 0 failures\n",
      "DEBUG flwr 2023-04-12 11:45:48,255 | server.py:215 | fit_round 37: strategy sampled 2 clients (out of 5)\n"
     ]
    },
    {
     "output_type": "stream",
     "name": "stdout",
     "text": [
      "\t {'val_loss': 1.4594710320234299, 'val_accuracy': 0.65}\n"
     ]
    },
    {
     "output_type": "stream",
     "name": "stderr",
     "text": [
      "DEBUG flwr 2023-04-12 11:46:24,624 | server.py:229 | fit_round 37 received 2 results and 0 failures\n"
     ]
    },
    {
     "output_type": "stream",
     "name": "stdout",
     "text": [
      "\t {'train_loss': 9.188881790578307e-05, 'train_accuracy': 1.0}\n"
     ]
    },
    {
     "output_type": "stream",
     "name": "stderr",
     "text": [
      "INFO flwr 2023-04-12 11:46:30,567 | server.py:116 | fit progress: (37, 15.257614135742188, {'test_loss': 15.257614135742188, 'test_accuracy': 0.35}, 1663.3486103000032)\n",
      "DEBUG flwr 2023-04-12 11:46:30,568 | server.py:165 | evaluate_round 37: strategy sampled 2 clients (out of 5)\n",
      "DEBUG flwr 2023-04-12 11:46:32,750 | server.py:179 | evaluate_round 37 received 2 results and 0 failures\n",
      "DEBUG flwr 2023-04-12 11:46:32,751 | server.py:215 | fit_round 38: strategy sampled 2 clients (out of 5)\n"
     ]
    },
    {
     "output_type": "stream",
     "name": "stdout",
     "text": [
      "\t {'val_loss': 2.418656587600708, 'val_accuracy': 0.5}\n"
     ]
    },
    {
     "output_type": "stream",
     "name": "stderr",
     "text": [
      "DEBUG flwr 2023-04-12 11:47:08,751 | server.py:229 | fit_round 38 received 2 results and 0 failures\n"
     ]
    },
    {
     "output_type": "stream",
     "name": "stdout",
     "text": [
      "\t {'train_loss': 4.745444499576479e-07, 'train_accuracy': 1.0}\n"
     ]
    },
    {
     "output_type": "stream",
     "name": "stderr",
     "text": [
      "INFO flwr 2023-04-12 11:47:14,709 | server.py:116 | fit progress: (38, 15.61345386505127, {'test_loss': 15.61345386505127, 'test_accuracy': 0.34}, 1707.4904709000039)\n",
      "DEBUG flwr 2023-04-12 11:47:14,709 | server.py:165 | evaluate_round 38: strategy sampled 2 clients (out of 5)\n",
      "DEBUG flwr 2023-04-12 11:47:16,826 | server.py:179 | evaluate_round 38 received 2 results and 0 failures\n",
      "DEBUG flwr 2023-04-12 11:47:16,827 | server.py:215 | fit_round 39: strategy sampled 2 clients (out of 5)\n"
     ]
    },
    {
     "output_type": "stream",
     "name": "stdout",
     "text": [
      "\t {'val_loss': 2.894058108329773, 'val_accuracy': 0.44999999999999996}\n"
     ]
    },
    {
     "output_type": "stream",
     "name": "stderr",
     "text": [
      "DEBUG flwr 2023-04-12 11:47:52,716 | server.py:229 | fit_round 39 received 2 results and 0 failures\n"
     ]
    },
    {
     "output_type": "stream",
     "name": "stdout",
     "text": [
      "\t {'train_loss': 4.911936831319963e-05, 'train_accuracy': 1.0}\n"
     ]
    },
    {
     "output_type": "stream",
     "name": "stderr",
     "text": [
      "INFO flwr 2023-04-12 11:47:58,602 | server.py:116 | fit progress: (39, 15.08981704711914, {'test_loss': 15.08981704711914, 'test_accuracy': 0.36}, 1751.383124)\n",
      "DEBUG flwr 2023-04-12 11:47:58,602 | server.py:165 | evaluate_round 39: strategy sampled 2 clients (out of 5)\n",
      "DEBUG flwr 2023-04-12 11:48:00,679 | server.py:179 | evaluate_round 39 received 2 results and 0 failures\n",
      "DEBUG flwr 2023-04-12 11:48:00,679 | server.py:215 | fit_round 40: strategy sampled 2 clients (out of 5)\n"
     ]
    },
    {
     "output_type": "stream",
     "name": "stdout",
     "text": [
      "\t {'val_loss': 1.6782336831092834, 'val_accuracy': 0.6000000000000001}\n"
     ]
    },
    {
     "output_type": "stream",
     "name": "stderr",
     "text": [
      "DEBUG flwr 2023-04-12 11:48:36,179 | server.py:229 | fit_round 40 received 2 results and 0 failures\n"
     ]
    },
    {
     "output_type": "stream",
     "name": "stdout",
     "text": [
      "\t {'train_loss': 8.903928346626344e-06, 'train_accuracy': 1.0}\n"
     ]
    },
    {
     "output_type": "stream",
     "name": "stderr",
     "text": [
      "INFO flwr 2023-04-12 11:48:42,120 | server.py:116 | fit progress: (40, 14.95085334777832, {'test_loss': 14.95085334777832, 'test_accuracy': 0.32}, 1794.9016153000048)\n",
      "DEBUG flwr 2023-04-12 11:48:42,121 | server.py:165 | evaluate_round 40: strategy sampled 2 clients (out of 5)\n",
      "DEBUG flwr 2023-04-12 11:48:49,226 | server.py:179 | evaluate_round 40 received 2 results and 0 failures\n",
      "DEBUG flwr 2023-04-12 11:48:49,226 | server.py:215 | fit_round 41: strategy sampled 2 clients (out of 5)\n"
     ]
    },
    {
     "output_type": "stream",
     "name": "stdout",
     "text": [
      "\t {'val_loss': 1.7757001370191574, 'val_accuracy': 0.6000000000000001}\n"
     ]
    },
    {
     "output_type": "stream",
     "name": "stderr",
     "text": [
      "DEBUG flwr 2023-04-12 11:49:25,248 | server.py:229 | fit_round 41 received 2 results and 0 failures\n"
     ]
    },
    {
     "output_type": "stream",
     "name": "stdout",
     "text": [
      "\t {'train_loss': 2.3887518381116024e-06, 'train_accuracy': 1.0}\n"
     ]
    },
    {
     "output_type": "stream",
     "name": "stderr",
     "text": [
      "INFO flwr 2023-04-12 11:49:31,171 | server.py:116 | fit progress: (41, 15.096787452697754, {'test_loss': 15.096787452697754, 'test_accuracy': 0.35}, 1843.9523365999994)\n",
      "DEBUG flwr 2023-04-12 11:49:31,172 | server.py:165 | evaluate_round 41: strategy sampled 2 clients (out of 5)\n",
      "DEBUG flwr 2023-04-12 11:49:33,235 | server.py:179 | evaluate_round 41 received 2 results and 0 failures\n",
      "DEBUG flwr 2023-04-12 11:49:33,236 | server.py:215 | fit_round 42: strategy sampled 2 clients (out of 5)\n"
     ]
    },
    {
     "output_type": "stream",
     "name": "stdout",
     "text": [
      "\t {'val_loss': 1.7543416321277618, 'val_accuracy': 0.5}\n"
     ]
    },
    {
     "output_type": "stream",
     "name": "stderr",
     "text": [
      "DEBUG flwr 2023-04-12 11:50:08,775 | server.py:229 | fit_round 42 received 2 results and 0 failures\n"
     ]
    },
    {
     "output_type": "stream",
     "name": "stdout",
     "text": [
      "\t {'train_loss': 1.88671231171611e-06, 'train_accuracy': 1.0}\n"
     ]
    },
    {
     "output_type": "stream",
     "name": "stderr",
     "text": [
      "INFO flwr 2023-04-12 11:50:14,689 | server.py:116 | fit progress: (42, 14.804758071899414, {'test_loss': 14.804758071899414, 'test_accuracy': 0.34}, 1887.4702098000053)\n",
      "DEBUG flwr 2023-04-12 11:50:14,689 | server.py:165 | evaluate_round 42: strategy sampled 2 clients (out of 5)\n",
      "DEBUG flwr 2023-04-12 11:50:20,362 | server.py:179 | evaluate_round 42 received 2 results and 0 failures\n",
      "DEBUG flwr 2023-04-12 11:50:20,363 | server.py:215 | fit_round 43: strategy sampled 2 clients (out of 5)\n"
     ]
    },
    {
     "output_type": "stream",
     "name": "stdout",
     "text": [
      "\t {'val_loss': 1.5539615601301193, 'val_accuracy': 0.55}\n"
     ]
    },
    {
     "output_type": "stream",
     "name": "stderr",
     "text": [
      "DEBUG flwr 2023-04-12 11:50:56,575 | server.py:229 | fit_round 43 received 2 results and 0 failures\n"
     ]
    },
    {
     "output_type": "stream",
     "name": "stdout",
     "text": [
      "\t {'train_loss': 1.283792201434153e-07, 'train_accuracy': 1.0}\n"
     ]
    },
    {
     "output_type": "stream",
     "name": "stderr",
     "text": [
      "INFO flwr 2023-04-12 11:51:02,582 | server.py:116 | fit progress: (43, 14.612910270690918, {'test_loss': 14.612910270690918, 'test_accuracy': 0.35}, 1935.3632763999994)\n",
      "DEBUG flwr 2023-04-12 11:51:02,583 | server.py:165 | evaluate_round 43: strategy sampled 2 clients (out of 5)\n",
      "DEBUG flwr 2023-04-12 11:51:04,837 | server.py:179 | evaluate_round 43 received 2 results and 0 failures\n",
      "DEBUG flwr 2023-04-12 11:51:04,838 | server.py:215 | fit_round 44: strategy sampled 2 clients (out of 5)\n"
     ]
    },
    {
     "output_type": "stream",
     "name": "stdout",
     "text": [
      "\t {'val_loss': 1.6370799541473389, 'val_accuracy': 0.5}\n"
     ]
    },
    {
     "output_type": "stream",
     "name": "stderr",
     "text": [
      "DEBUG flwr 2023-04-12 11:51:40,860 | server.py:229 | fit_round 44 received 2 results and 0 failures\n"
     ]
    },
    {
     "output_type": "stream",
     "name": "stdout",
     "text": [
      "\t {'train_loss': 6.258473668196984e-07, 'train_accuracy': 1.0}\n"
     ]
    },
    {
     "output_type": "stream",
     "name": "stderr",
     "text": [
      "INFO flwr 2023-04-12 11:51:46,749 | server.py:116 | fit progress: (44, 14.29696273803711, {'test_loss': 14.29696273803711, 'test_accuracy': 0.34}, 1979.5302193000025)\n",
      "DEBUG flwr 2023-04-12 11:51:46,750 | server.py:165 | evaluate_round 44: strategy sampled 2 clients (out of 5)\n",
      "DEBUG flwr 2023-04-12 11:51:49,054 | server.py:179 | evaluate_round 44 received 2 results and 0 failures\n",
      "DEBUG flwr 2023-04-12 11:51:49,055 | server.py:215 | fit_round 45: strategy sampled 2 clients (out of 5)\n"
     ]
    },
    {
     "output_type": "stream",
     "name": "stdout",
     "text": [
      "\t {'val_loss': 2.5239551067352295, 'val_accuracy': 0.5}\n"
     ]
    },
    {
     "output_type": "stream",
     "name": "stderr",
     "text": [
      "DEBUG flwr 2023-04-12 11:52:24,925 | server.py:229 | fit_round 45 received 2 results and 0 failures\n"
     ]
    },
    {
     "output_type": "stream",
     "name": "stdout",
     "text": [
      "\t {'train_loss': 2.2007861133488404e-07, 'train_accuracy': 1.0}\n"
     ]
    },
    {
     "output_type": "stream",
     "name": "stderr",
     "text": [
      "INFO flwr 2023-04-12 11:52:30,886 | server.py:116 | fit progress: (45, 14.104822158813477, {'test_loss': 14.104822158813477, 'test_accuracy': 0.34}, 2023.6676255000057)\n",
      "DEBUG flwr 2023-04-12 11:52:30,887 | server.py:165 | evaluate_round 45: strategy sampled 2 clients (out of 5)\n",
      "DEBUG flwr 2023-04-12 11:52:33,126 | server.py:179 | evaluate_round 45 received 2 results and 0 failures\n",
      "DEBUG flwr 2023-04-12 11:52:33,127 | server.py:215 | fit_round 46: strategy sampled 2 clients (out of 5)\n"
     ]
    },
    {
     "output_type": "stream",
     "name": "stdout",
     "text": [
      "\t {'val_loss': 2.5292049646377563, 'val_accuracy': 0.35}\n"
     ]
    },
    {
     "output_type": "stream",
     "name": "stderr",
     "text": [
      "DEBUG flwr 2023-04-12 11:53:09,265 | server.py:229 | fit_round 46 received 2 results and 0 failures\n"
     ]
    },
    {
     "output_type": "stream",
     "name": "stdout",
     "text": [
      "\t {'train_loss': 1.2631571895127536e-06, 'train_accuracy': 1.0}\n"
     ]
    },
    {
     "output_type": "stream",
     "name": "stderr",
     "text": [
      "INFO flwr 2023-04-12 11:53:15,193 | server.py:116 | fit progress: (46, 14.287090301513672, {'test_loss': 14.287090301513672, 'test_accuracy': 0.34}, 2067.974742700004)\n",
      "DEBUG flwr 2023-04-12 11:53:15,194 | server.py:165 | evaluate_round 46: strategy sampled 2 clients (out of 5)\n",
      "DEBUG flwr 2023-04-12 11:53:17,378 | server.py:179 | evaluate_round 46 received 2 results and 0 failures\n",
      "DEBUG flwr 2023-04-12 11:53:17,379 | server.py:215 | fit_round 47: strategy sampled 2 clients (out of 5)\n"
     ]
    },
    {
     "output_type": "stream",
     "name": "stdout",
     "text": [
      "\t {'val_loss': 2.5412994623184204, 'val_accuracy': 0.3}\n"
     ]
    },
    {
     "output_type": "stream",
     "name": "stderr",
     "text": [
      "DEBUG flwr 2023-04-12 11:53:53,060 | server.py:229 | fit_round 47 received 2 results and 0 failures\n"
     ]
    },
    {
     "output_type": "stream",
     "name": "stdout",
     "text": [
      "\t {'train_loss': 2.3612598099020943e-07, 'train_accuracy': 1.0}\n"
     ]
    },
    {
     "output_type": "stream",
     "name": "stderr",
     "text": [
      "INFO flwr 2023-04-12 11:53:59,063 | server.py:116 | fit progress: (47, 14.161151885986328, {'test_loss': 14.161151885986328, 'test_accuracy': 0.34}, 2111.844314599999)\n",
      "DEBUG flwr 2023-04-12 11:53:59,063 | server.py:165 | evaluate_round 47: strategy sampled 2 clients (out of 5)\n",
      "DEBUG flwr 2023-04-12 11:54:01,475 | server.py:179 | evaluate_round 47 received 2 results and 0 failures\n",
      "DEBUG flwr 2023-04-12 11:54:01,476 | server.py:215 | fit_round 48: strategy sampled 2 clients (out of 5)\n"
     ]
    },
    {
     "output_type": "stream",
     "name": "stdout",
     "text": [
      "\t {'val_loss': 1.280057281255722, 'val_accuracy': 0.6000000000000001}\n"
     ]
    },
    {
     "output_type": "stream",
     "name": "stderr",
     "text": [
      "DEBUG flwr 2023-04-12 11:54:37,780 | server.py:229 | fit_round 48 received 2 results and 0 failures\n"
     ]
    },
    {
     "output_type": "stream",
     "name": "stdout",
     "text": [
      "\t {'train_loss': 8.023701170145614e-08, 'train_accuracy': 1.0}\n"
     ]
    },
    {
     "output_type": "stream",
     "name": "stderr",
     "text": [
      "INFO flwr 2023-04-12 11:54:43,717 | server.py:116 | fit progress: (48, 14.199193000793457, {'test_loss': 14.199193000793457, 'test_accuracy': 0.34}, 2156.4981546000054)\n",
      "DEBUG flwr 2023-04-12 11:54:43,717 | server.py:165 | evaluate_round 48: strategy sampled 2 clients (out of 5)\n",
      "DEBUG flwr 2023-04-12 11:54:45,781 | server.py:179 | evaluate_round 48 received 2 results and 0 failures\n",
      "DEBUG flwr 2023-04-12 11:54:45,782 | server.py:215 | fit_round 49: strategy sampled 2 clients (out of 5)\n"
     ]
    },
    {
     "output_type": "stream",
     "name": "stdout",
     "text": [
      "\t {'val_loss': 2.9406403303146362, 'val_accuracy': 0.44999999999999996}\n"
     ]
    },
    {
     "output_type": "stream",
     "name": "stderr",
     "text": [
      "DEBUG flwr 2023-04-12 11:55:21,595 | server.py:229 | fit_round 49 received 2 results and 0 failures\n"
     ]
    },
    {
     "output_type": "stream",
     "name": "stdout",
     "text": [
      "\t {'train_loss': 4.10354775937094e-07, 'train_accuracy': 1.0}\n"
     ]
    },
    {
     "output_type": "stream",
     "name": "stderr",
     "text": [
      "INFO flwr 2023-04-12 11:55:27,512 | server.py:116 | fit progress: (49, 13.854098320007324, {'test_loss': 13.854098320007324, 'test_accuracy': 0.35}, 2200.293601600002)\n",
      "DEBUG flwr 2023-04-12 11:55:27,513 | server.py:165 | evaluate_round 49: strategy sampled 2 clients (out of 5)\n",
      "DEBUG flwr 2023-04-12 11:55:33,567 | server.py:179 | evaluate_round 49 received 2 results and 0 failures\n",
      "DEBUG flwr 2023-04-12 11:55:33,568 | server.py:215 | fit_round 50: strategy sampled 2 clients (out of 5)\n"
     ]
    },
    {
     "output_type": "stream",
     "name": "stdout",
     "text": [
      "\t {'val_loss': 2.714218497276306, 'val_accuracy': 0.44999999999999996}\n"
     ]
    },
    {
     "output_type": "stream",
     "name": "stderr",
     "text": [
      "DEBUG flwr 2023-04-12 11:56:09,651 | server.py:229 | fit_round 50 received 2 results and 0 failures\n"
     ]
    },
    {
     "output_type": "stream",
     "name": "stdout",
     "text": [
      "\t {'train_loss': 1.7881390235174877e-07, 'train_accuracy': 1.0}\n"
     ]
    },
    {
     "output_type": "stream",
     "name": "stderr",
     "text": [
      "INFO flwr 2023-04-12 11:56:15,560 | server.py:116 | fit progress: (50, 13.980058670043945, {'test_loss': 13.980058670043945, 'test_accuracy': 0.35}, 2248.341720700002)\n",
      "DEBUG flwr 2023-04-12 11:56:15,562 | server.py:165 | evaluate_round 50: strategy sampled 2 clients (out of 5)\n",
      "DEBUG flwr 2023-04-12 11:56:17,728 | server.py:179 | evaluate_round 50 received 2 results and 0 failures\n",
      "INFO flwr 2023-04-12 11:56:17,729 | server.py:144 | FL finished in 2250.5104198000045\n",
      "INFO flwr 2023-04-12 11:56:17,738 | app.py:202 | app_fit: losses_distributed [(1, 6.216682434082031), (2, 4.223135352134705), (3, 4.5347723960876465), (4, 2.816427707672119), (5, 2.9605382680892944), (6, 4.639748692512512), (7, 4.7193392515182495), (8, 2.7138445377349854), (9, 3.0098906755447388), (10, 3.338590621948242), (11, 2.854678213596344), (12, 3.671748638153076), (13, 2.080637216567993), (14, 1.573780357837677), (15, 2.8214845657348633), (16, 2.0820159912109375), (17, 1.772758960723877), (18, 1.5036643147468567), (19, 3.676156163215637), (20, 3.1146395206451416), (21, 2.251848727464676), (22, 2.9914366006851196), (23, 1.7661638259887695), (24, 1.4538336396217346), (25, 0.6849376410245895), (26, 2.328786611557007), (27, 0.9385723769664764), (28, 3.336166262626648), (29, 1.5899432450532913), (30, 1.5048143714666367), (31, 2.545034885406494), (32, 3.127819538116455), (33, 2.3737659454345703), (34, 2.420965552330017), (35, 1.778301551938057), (36, 1.4594710320234299), (37, 2.418656587600708), (38, 2.894058108329773), (39, 1.6782336831092834), (40, 1.7757001370191574), (41, 1.7543416321277618), (42, 1.5539615601301193), (43, 1.6370799541473389), (44, 2.5239551067352295), (45, 2.5292049646377563), (46, 2.5412994623184204), (47, 1.280057281255722), (48, 2.9406403303146362), (49, 2.714218497276306), (50, 1.5239425152540207)]\n",
      "INFO flwr 2023-04-12 11:56:17,738 | app.py:203 | app_fit: metrics_distributed {'val_loss': [(1, 6.216682434082031), (2, 4.223135352134705), (3, 4.5347723960876465), (4, 2.816427707672119), (5, 2.9605382680892944), (6, 4.639748692512512), (7, 4.7193392515182495), (8, 2.7138445377349854), (9, 3.0098906755447388), (10, 3.338590621948242), (11, 2.854678213596344), (12, 3.671748638153076), (13, 2.080637216567993), (14, 1.573780357837677), (15, 2.8214845657348633), (16, 2.0820159912109375), (17, 1.772758960723877), (18, 1.5036643147468567), (19, 3.676156163215637), (20, 3.1146395206451416), (21, 2.251848727464676), (22, 2.9914366006851196), (23, 1.7661638259887695), (24, 1.4538336396217346), (25, 0.6849376410245895), (26, 2.328786611557007), (27, 0.9385723769664764), (28, 3.336166262626648), (29, 1.5899432450532913), (30, 1.5048143714666367), (31, 2.545034885406494), (32, 3.127819538116455), (33, 2.3737659454345703), (34, 2.420965552330017), (35, 1.778301551938057), (36, 1.4594710320234299), (37, 2.418656587600708), (38, 2.894058108329773), (39, 1.6782336831092834), (40, 1.7757001370191574), (41, 1.7543416321277618), (42, 1.5539615601301193), (43, 1.6370799541473389), (44, 2.5239551067352295), (45, 2.5292049646377563), (46, 2.5412994623184204), (47, 1.280057281255722), (48, 2.9406403303146362), (49, 2.714218497276306), (50, 1.5239425152540207)], 'val_accuracy': [(1, 0.0), (2, 0.15), (3, 0.15), (4, 0.35), (5, 0.25), (6, 0.15), (7, 0.15), (8, 0.5), (9, 0.3), (10, 0.35), (11, 0.35), (12, 0.2), (13, 0.4), (14, 0.6), (15, 0.35), (16, 0.5), (17, 0.6000000000000001), (18, 0.6), (19, 0.30000000000000004), (20, 0.35), (21, 0.55), (22, 0.4), (23, 0.6000000000000001), (24, 0.7), (25, 0.8), (26, 0.55), (27, 0.65), (28, 0.44999999999999996), (29, 0.75), (30, 0.65), (31, 0.55), (32, 0.25), (33, 0.35), (34, 0.35), (35, 0.5), (36, 0.65), (37, 0.5), (38, 0.44999999999999996), (39, 0.6000000000000001), (40, 0.6000000000000001), (41, 0.5), (42, 0.55), (43, 0.5), (44, 0.5), (45, 0.35), (46, 0.3), (47, 0.6000000000000001), (48, 0.44999999999999996), (49, 0.44999999999999996), (50, 0.55)]}\n",
      "INFO flwr 2023-04-12 11:56:17,739 | app.py:204 | app_fit: losses_centralized [(0, 20.85797882080078), (1, 19.676252365112305), (2, 16.979473114013672), (3, 17.55315399169922), (4, 16.59345245361328), (5, 16.23967170715332), (6, 16.15770149230957), (7, 17.008188247680664), (8, 14.121337890625), (9, 15.382959365844727), (10, 16.603490829467773), (11, 18.980501174926758), (12, 18.150869369506836), (13, 16.517398834228516), (14, 19.658843994140625), (15, 15.900166511535645), (16, 16.906034469604492), (17, 16.967369079589844), (18, 18.31141471862793), (19, 17.62583351135254), (20, 16.76271629333496), (21, 16.91681480407715), (22, 16.617767333984375), (23, 15.866155624389648), (24, 18.7606201171875), (25, 17.506793975830078), (26, 18.216211318969727), (27, 18.095294952392578), (28, 16.24544334411621), (29, 15.52544116973877), (30, 15.458924293518066), (31, 15.076114654541016), (32, 16.155065536499023), (33, 15.243383407592773), (34, 16.420547485351562), (35, 16.21921730041504), (36, 15.548619270324707), (37, 15.257614135742188), (38, 15.61345386505127), (39, 15.08981704711914), (40, 14.95085334777832), (41, 15.096787452697754), (42, 14.804758071899414), (43, 14.612910270690918), (44, 14.29696273803711), (45, 14.104822158813477), (46, 14.287090301513672), (47, 14.161151885986328), (48, 14.199193000793457), (49, 13.854098320007324), (50, 13.980058670043945)]\n",
      "INFO flwr 2023-04-12 11:56:17,739 | app.py:205 | app_fit: metrics_centralized {'test_loss': [(0, 20.85797882080078), (1, 19.676252365112305), (2, 16.979473114013672), (3, 17.55315399169922), (4, 16.59345245361328), (5, 16.23967170715332), (6, 16.15770149230957), (7, 17.008188247680664), (8, 14.121337890625), (9, 15.382959365844727), (10, 16.603490829467773), (11, 18.980501174926758), (12, 18.150869369506836), (13, 16.517398834228516), (14, 19.658843994140625), (15, 15.900166511535645), (16, 16.906034469604492), (17, 16.967369079589844), (18, 18.31141471862793), (19, 17.62583351135254), (20, 16.76271629333496), (21, 16.91681480407715), (22, 16.617767333984375), (23, 15.866155624389648), (24, 18.7606201171875), (25, 17.506793975830078), (26, 18.216211318969727), (27, 18.095294952392578), (28, 16.24544334411621), (29, 15.52544116973877), (30, 15.458924293518066), (31, 15.076114654541016), (32, 16.155065536499023), (33, 15.243383407592773), (34, 16.420547485351562), (35, 16.21921730041504), (36, 15.548619270324707), (37, 15.257614135742188), (38, 15.61345386505127), (39, 15.08981704711914), (40, 14.95085334777832), (41, 15.096787452697754), (42, 14.804758071899414), (43, 14.612910270690918), (44, 14.29696273803711), (45, 14.104822158813477), (46, 14.287090301513672), (47, 14.161151885986328), (48, 14.199193000793457), (49, 13.854098320007324), (50, 13.980058670043945)], 'test_accuracy': [(0, 0.01), (1, 0.01), (2, 0.15), (3, 0.16), (4, 0.18), (5, 0.18), (6, 0.21), (7, 0.19), (8, 0.23), (9, 0.24), (10, 0.22), (11, 0.21), (12, 0.25), (13, 0.28), (14, 0.25), (15, 0.29), (16, 0.25), (17, 0.29), (18, 0.29), (19, 0.3), (20, 0.33), (21, 0.3), (22, 0.28), (23, 0.33), (24, 0.29), (25, 0.31), (26, 0.3), (27, 0.3), (28, 0.31), (29, 0.33), (30, 0.33), (31, 0.33), (32, 0.32), (33, 0.34), (34, 0.35), (35, 0.32), (36, 0.32), (37, 0.35), (38, 0.34), (39, 0.36), (40, 0.32), (41, 0.35), (42, 0.34), (43, 0.35), (44, 0.34), (45, 0.34), (46, 0.34), (47, 0.34), (48, 0.34), (49, 0.35), (50, 0.35)]}\n"
     ]
    },
    {
     "output_type": "stream",
     "name": "stdout",
     "text": [
      "\t {'val_loss': 1.5239425152540207, 'val_accuracy': 0.55}\n"
     ]
    },
    {
     "output_type": "execute_result",
     "data": {
      "text/plain": [
       "History (loss, distributed):\n",
       "\tround 1: 6.216682434082031\n",
       "\tround 2: 4.223135352134705\n",
       "\tround 3: 4.5347723960876465\n",
       "\tround 4: 2.816427707672119\n",
       "\tround 5: 2.9605382680892944\n",
       "\tround 6: 4.639748692512512\n",
       "\tround 7: 4.7193392515182495\n",
       "\tround 8: 2.7138445377349854\n",
       "\tround 9: 3.0098906755447388\n",
       "\tround 10: 3.338590621948242\n",
       "\tround 11: 2.854678213596344\n",
       "\tround 12: 3.671748638153076\n",
       "\tround 13: 2.080637216567993\n",
       "\tround 14: 1.573780357837677\n",
       "\tround 15: 2.8214845657348633\n",
       "\tround 16: 2.0820159912109375\n",
       "\tround 17: 1.772758960723877\n",
       "\tround 18: 1.5036643147468567\n",
       "\tround 19: 3.676156163215637\n",
       "\tround 20: 3.1146395206451416\n",
       "\tround 21: 2.251848727464676\n",
       "\tround 22: 2.9914366006851196\n",
       "\tround 23: 1.7661638259887695\n",
       "\tround 24: 1.4538336396217346\n",
       "\tround 25: 0.6849376410245895\n",
       "\tround 26: 2.328786611557007\n",
       "\tround 27: 0.9385723769664764\n",
       "\tround 28: 3.336166262626648\n",
       "\tround 29: 1.5899432450532913\n",
       "\tround 30: 1.5048143714666367\n",
       "\tround 31: 2.545034885406494\n",
       "\tround 32: 3.127819538116455\n",
       "\tround 33: 2.3737659454345703\n",
       "\tround 34: 2.420965552330017\n",
       "\tround 35: 1.778301551938057\n",
       "\tround 36: 1.4594710320234299\n",
       "\tround 37: 2.418656587600708\n",
       "\tround 38: 2.894058108329773\n",
       "\tround 39: 1.6782336831092834\n",
       "\tround 40: 1.7757001370191574\n",
       "\tround 41: 1.7543416321277618\n",
       "\tround 42: 1.5539615601301193\n",
       "\tround 43: 1.6370799541473389\n",
       "\tround 44: 2.5239551067352295\n",
       "\tround 45: 2.5292049646377563\n",
       "\tround 46: 2.5412994623184204\n",
       "\tround 47: 1.280057281255722\n",
       "\tround 48: 2.9406403303146362\n",
       "\tround 49: 2.714218497276306\n",
       "\tround 50: 1.5239425152540207\n",
       "History (loss, centralized):\n",
       "\tround 0: 20.85797882080078\n",
       "\tround 1: 19.676252365112305\n",
       "\tround 2: 16.979473114013672\n",
       "\tround 3: 17.55315399169922\n",
       "\tround 4: 16.59345245361328\n",
       "\tround 5: 16.23967170715332\n",
       "\tround 6: 16.15770149230957\n",
       "\tround 7: 17.008188247680664\n",
       "\tround 8: 14.121337890625\n",
       "\tround 9: 15.382959365844727\n",
       "\tround 10: 16.603490829467773\n",
       "\tround 11: 18.980501174926758\n",
       "\tround 12: 18.150869369506836\n",
       "\tround 13: 16.517398834228516\n",
       "\tround 14: 19.658843994140625\n",
       "\tround 15: 15.900166511535645\n",
       "\tround 16: 16.906034469604492\n",
       "\tround 17: 16.967369079589844\n",
       "\tround 18: 18.31141471862793\n",
       "\tround 19: 17.62583351135254\n",
       "\tround 20: 16.76271629333496\n",
       "\tround 21: 16.91681480407715\n",
       "\tround 22: 16.617767333984375\n",
       "\tround 23: 15.866155624389648\n",
       "\tround 24: 18.7606201171875\n",
       "\tround 25: 17.506793975830078\n",
       "\tround 26: 18.216211318969727\n",
       "\tround 27: 18.095294952392578\n",
       "\tround 28: 16.24544334411621\n",
       "\tround 29: 15.52544116973877\n",
       "\tround 30: 15.458924293518066\n",
       "\tround 31: 15.076114654541016\n",
       "\tround 32: 16.155065536499023\n",
       "\tround 33: 15.243383407592773\n",
       "\tround 34: 16.420547485351562\n",
       "\tround 35: 16.21921730041504\n",
       "\tround 36: 15.548619270324707\n",
       "\tround 37: 15.257614135742188\n",
       "\tround 38: 15.61345386505127\n",
       "\tround 39: 15.08981704711914\n",
       "\tround 40: 14.95085334777832\n",
       "\tround 41: 15.096787452697754\n",
       "\tround 42: 14.804758071899414\n",
       "\tround 43: 14.612910270690918\n",
       "\tround 44: 14.29696273803711\n",
       "\tround 45: 14.104822158813477\n",
       "\tround 46: 14.287090301513672\n",
       "\tround 47: 14.161151885986328\n",
       "\tround 48: 14.199193000793457\n",
       "\tround 49: 13.854098320007324\n",
       "\tround 50: 13.980058670043945\n",
       "History (metrics, distributed):\n",
       "{'val_loss': [(1, 6.216682434082031), (2, 4.223135352134705), (3, 4.5347723960876465), (4, 2.816427707672119), (5, 2.9605382680892944), (6, 4.639748692512512), (7, 4.7193392515182495), (8, 2.7138445377349854), (9, 3.0098906755447388), (10, 3.338590621948242), (11, 2.854678213596344), (12, 3.671748638153076), (13, 2.080637216567993), (14, 1.573780357837677), (15, 2.8214845657348633), (16, 2.0820159912109375), (17, 1.772758960723877), (18, 1.5036643147468567), (19, 3.676156163215637), (20, 3.1146395206451416), (21, 2.251848727464676), (22, 2.9914366006851196), (23, 1.7661638259887695), (24, 1.4538336396217346), (25, 0.6849376410245895), (26, 2.328786611557007), (27, 0.9385723769664764), (28, 3.336166262626648), (29, 1.5899432450532913), (30, 1.5048143714666367), (31, 2.545034885406494), (32, 3.127819538116455), (33, 2.3737659454345703), (34, 2.420965552330017), (35, 1.778301551938057), (36, 1.4594710320234299), (37, 2.418656587600708), (38, 2.894058108329773), (39, 1.6782336831092834), (40, 1.7757001370191574), (41, 1.7543416321277618), (42, 1.5539615601301193), (43, 1.6370799541473389), (44, 2.5239551067352295), (45, 2.5292049646377563), (46, 2.5412994623184204), (47, 1.280057281255722), (48, 2.9406403303146362), (49, 2.714218497276306), (50, 1.5239425152540207)], 'val_accuracy': [(1, 0.0), (2, 0.15), (3, 0.15), (4, 0.35), (5, 0.25), (6, 0.15), (7, 0.15), (8, 0.5), (9, 0.3), (10, 0.35), (11, 0.35), (12, 0.2), (13, 0.4), (14, 0.6), (15, 0.35), (16, 0.5), (17, 0.6000000000000001), (18, 0.6), (19, 0.30000000000000004), (20, 0.35), (21, 0.55), (22, 0.4), (23, 0.6000000000000001), (24, 0.7), (25, 0.8), (26, 0.55), (27, 0.65), (28, 0.44999999999999996), (29, 0.75), (30, 0.65), (31, 0.55), (32, 0.25), (33, 0.35), (34, 0.35), (35, 0.5), (36, 0.65), (37, 0.5), (38, 0.44999999999999996), (39, 0.6000000000000001), (40, 0.6000000000000001), (41, 0.5), (42, 0.55), (43, 0.5), (44, 0.5), (45, 0.35), (46, 0.3), (47, 0.6000000000000001), (48, 0.44999999999999996), (49, 0.44999999999999996), (50, 0.55)]}History (metrics, centralized):\n",
       "{'test_loss': [(0, 20.85797882080078), (1, 19.676252365112305), (2, 16.979473114013672), (3, 17.55315399169922), (4, 16.59345245361328), (5, 16.23967170715332), (6, 16.15770149230957), (7, 17.008188247680664), (8, 14.121337890625), (9, 15.382959365844727), (10, 16.603490829467773), (11, 18.980501174926758), (12, 18.150869369506836), (13, 16.517398834228516), (14, 19.658843994140625), (15, 15.900166511535645), (16, 16.906034469604492), (17, 16.967369079589844), (18, 18.31141471862793), (19, 17.62583351135254), (20, 16.76271629333496), (21, 16.91681480407715), (22, 16.617767333984375), (23, 15.866155624389648), (24, 18.7606201171875), (25, 17.506793975830078), (26, 18.216211318969727), (27, 18.095294952392578), (28, 16.24544334411621), (29, 15.52544116973877), (30, 15.458924293518066), (31, 15.076114654541016), (32, 16.155065536499023), (33, 15.243383407592773), (34, 16.420547485351562), (35, 16.21921730041504), (36, 15.548619270324707), (37, 15.257614135742188), (38, 15.61345386505127), (39, 15.08981704711914), (40, 14.95085334777832), (41, 15.096787452697754), (42, 14.804758071899414), (43, 14.612910270690918), (44, 14.29696273803711), (45, 14.104822158813477), (46, 14.287090301513672), (47, 14.161151885986328), (48, 14.199193000793457), (49, 13.854098320007324), (50, 13.980058670043945)], 'test_accuracy': [(0, 0.01), (1, 0.01), (2, 0.15), (3, 0.16), (4, 0.18), (5, 0.18), (6, 0.21), (7, 0.19), (8, 0.23), (9, 0.24), (10, 0.22), (11, 0.21), (12, 0.25), (13, 0.28), (14, 0.25), (15, 0.29), (16, 0.25), (17, 0.29), (18, 0.29), (19, 0.3), (20, 0.33), (21, 0.3), (22, 0.28), (23, 0.33), (24, 0.29), (25, 0.31), (26, 0.3), (27, 0.3), (28, 0.31), (29, 0.33), (30, 0.33), (31, 0.33), (32, 0.32), (33, 0.34), (34, 0.35), (35, 0.32), (36, 0.32), (37, 0.35), (38, 0.34), (39, 0.36), (40, 0.32), (41, 0.35), (42, 0.34), (43, 0.35), (44, 0.34), (45, 0.34), (46, 0.34), (47, 0.34), (48, 0.34), (49, 0.35), (50, 0.35)]}"
      ]
     },
     "metadata": {},
     "execution_count": 9
    }
   ],
   "metadata": {}
  }
 ],
 "nbformat": 4,
 "nbformat_minor": 2,
 "metadata": {
  "language_info": {
   "codemirror_mode": {
    "name": "ipython",
    "version": 3
   },
   "file_extension": ".py",
   "mimetype": "text/x-python",
   "name": "python",
   "nbconvert_exporter": "python",
   "pygments_lexer": "ipython3",
   "version": 3
  },
  "orig_nbformat": 4
 }
}