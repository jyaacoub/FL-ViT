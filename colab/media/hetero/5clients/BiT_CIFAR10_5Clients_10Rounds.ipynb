{
 "cells": [
  {
   "cell_type": "code",
   "execution_count": 1,
   "source": [
    "from typing import Dict\n",
    "import flwr as fl\n",
    "import torch\n",
    "from flower_helpers import (create_model, get_weights, test, load_data)\n",
    "from config import (NUM_ROUNDS, MODEL_NAME, NUM_CLASSES, \n",
    "                    PRE_TRAINED, TRAIN_SIZE, VAL_PORTION, \n",
    "                    TEST_SIZE, BATCH_SIZE, LEARNING_RATE, \n",
    "                    EPOCHS, FRAC_FIT, FRAC_EVAL, MIN_FIT,\n",
    "                    MIN_EVAL, MIN_AVAIL, FIT_CONFIG_FN,\n",
    "                    NUM_CLIENTS, CLIENT_RESOURCES)\n",
    "from client import FlowerClient"
   ],
   "outputs": [],
   "metadata": {}
  },
  {
   "cell_type": "code",
   "execution_count": 2,
   "source": [
    "data_path = lambda x: f'tff_dataloaders_5clients/{x}.pth'\n",
    "trainloaders = torch.load(data_path('trainloaders'))\n",
    "valloaders = torch.load(data_path('valloaders'))\n",
    "testloader = torch.load(data_path('testloader'))"
   ],
   "outputs": [],
   "metadata": {}
  },
  {
   "cell_type": "code",
   "execution_count": 3,
   "source": [
    "# trainloaders, valloaders, testloader = load_data()"
   ],
   "outputs": [],
   "metadata": {}
  },
  {
   "cell_type": "code",
   "execution_count": 4,
   "source": [
    "net = create_model()\n",
    "init_weights = get_weights(net)\n",
    "MODEL_CONFIG = net.config\n",
    "# Convert the weights (np.ndarray) to parameters (bytes)\n",
    "init_param = fl.common.ndarrays_to_parameters(init_weights)\n",
    "# del the net as we don't need it anymore\n",
    "del net"
   ],
   "outputs": [],
   "metadata": {}
  },
  {
   "cell_type": "code",
   "execution_count": 5,
   "source": [
    "# server side evaluation function\n",
    "def evaluate(server_round: int, params: fl.common.NDArrays,\n",
    "             config: Dict[str, fl.common.Scalar]):\n",
    "    data_size, metrics = test(MODEL_CONFIG, params, testloader)\n",
    "    # changing the name of the metric to avoid confusion\n",
    "    metrics['test_loss'] = metrics.pop('loss')\n",
    "    metrics['test_accuracy'] = metrics.pop('accuracy')\n",
    "    return metrics['test_loss'], metrics\n",
    "\n",
    "def weighted_average_eval(metrics):\n",
    "    weighted_train_loss = 0\n",
    "    weighted_train_accuracy = 0\n",
    "    for c in metrics: # c is a tuple (num_examples, metrics) for each client\n",
    "        weighted_train_loss += c[0] * c[1]['val_loss']\n",
    "        weighted_train_accuracy += c[0] * c[1]['val_accuracy']\n",
    "    \n",
    "    aggregated_metrics = {'val_loss': weighted_train_loss / sum([c[0] for c in metrics]),\n",
    "            'val_accuracy': weighted_train_accuracy / sum([c[0] for c in metrics])}\n",
    "    print('\\t',aggregated_metrics)\n",
    "    return aggregated_metrics\n",
    "\n",
    "def weighted_average_fit(metrics):\n",
    "    # print(metrics)\n",
    "    weighted_train_loss = 0\n",
    "    weighted_train_accuracy = 0\n",
    "    for c in metrics: # c is a tuple (num_examples, metrics) for each client\n",
    "        # metrics for each epoch is included, we only need the last one\n",
    "        weighted_train_loss += c[0] * c[1]['train_loss'][-1]\n",
    "        weighted_train_accuracy += c[0] * c[1]['train_accuracy'][-1]\n",
    "    \n",
    "    aggregated_metrics = {'train_loss': weighted_train_loss / sum([c[0] for c in metrics]),\n",
    "            'train_accuracy': weighted_train_accuracy / sum([c[0] for c in metrics])}\n",
    "    print('\\t',aggregated_metrics)\n",
    "    return aggregated_metrics"
   ],
   "outputs": [],
   "metadata": {}
  },
  {
   "cell_type": "code",
   "execution_count": 6,
   "source": [
    "strategy = fl.server.strategy.FedAvg(\n",
    "    fraction_fit=FRAC_FIT,\n",
    "    fraction_evaluate=FRAC_EVAL,\n",
    "    min_fit_clients=MIN_FIT,\n",
    "    min_evaluate_clients=MIN_EVAL,\n",
    "    min_available_clients=MIN_AVAIL,\n",
    "    \n",
    "    fit_metrics_aggregation_fn=weighted_average_fit,\n",
    "    evaluate_metrics_aggregation_fn=weighted_average_eval,\n",
    "    evaluate_fn=evaluate,\n",
    "    on_fit_config_fn=FIT_CONFIG_FN,\n",
    "    \n",
    "    initial_parameters=init_param,\n",
    ")"
   ],
   "outputs": [],
   "metadata": {}
  },
  {
   "cell_type": "code",
   "execution_count": 7,
   "source": [
    "fl.simulation.start_simulation(\n",
    "    client_fn=lambda cid: FlowerClient(MODEL_CONFIG, trainloaders[int(cid)], valloaders[int(cid)]),\n",
    "    num_clients=NUM_CLIENTS,\n",
    "    config=fl.server.ServerConfig(num_rounds=NUM_ROUNDS),\n",
    "    strategy=strategy,\n",
    "    client_resources=CLIENT_RESOURCES,\n",
    ")"
   ],
   "outputs": [
    {
     "output_type": "stream",
     "name": "stderr",
     "text": [
      "INFO flwr 2023-04-10 17:38:33,480 | app.py:145 | Starting Flower simulation, config: ServerConfig(num_rounds=10, round_timeout=None)\n",
      "2023-04-10 17:38:35,650\tINFO worker.py:1529 -- Started a local Ray instance. View the dashboard at \u001b[1m\u001b[32m127.0.0.1:8265 \u001b[39m\u001b[22m\n",
      "INFO flwr 2023-04-10 17:38:36,976 | app.py:179 | Flower VCE: Ray initialized with resources: {'memory': 14319938766.0, 'CPU': 24.0, 'object_store_memory': 7159969382.0, 'node:127.0.0.1': 1.0, 'GPU': 1.0}\n",
      "INFO flwr 2023-04-10 17:38:36,977 | server.py:86 | Initializing global parameters\n",
      "INFO flwr 2023-04-10 17:38:36,978 | server.py:266 | Using initial parameters provided by strategy\n",
      "INFO flwr 2023-04-10 17:38:36,979 | server.py:88 | Evaluating initial parameters\n",
      "INFO flwr 2023-04-10 17:38:43,020 | server.py:91 | initial parameters (loss, other metrics): 23.11473846435547, {'test_loss': 23.11473846435547, 'test_accuracy': 0.0}\n",
      "INFO flwr 2023-04-10 17:38:43,021 | server.py:101 | FL starting\n",
      "DEBUG flwr 2023-04-10 17:38:43,021 | server.py:215 | fit_round 1: strategy sampled 2 clients (out of 5)\n",
      "DEBUG flwr 2023-04-10 17:39:23,834 | server.py:229 | fit_round 1 received 2 results and 0 failures\n"
     ]
    },
    {
     "output_type": "stream",
     "name": "stdout",
     "text": [
      "\t {'train_loss': 3.146144151687622, 'train_accuracy': 0.14444444444444443}\n"
     ]
    },
    {
     "output_type": "stream",
     "name": "stderr",
     "text": [
      "INFO flwr 2023-04-10 17:39:29,777 | server.py:116 | fit progress: (1, 20.31015968322754, {'test_loss': 20.31015968322754, 'test_accuracy': 0.02}, 46.75605870000436)\n",
      "DEBUG flwr 2023-04-10 17:39:29,778 | server.py:165 | evaluate_round 1: strategy sampled 2 clients (out of 5)\n",
      "DEBUG flwr 2023-04-10 17:39:31,829 | server.py:179 | evaluate_round 1 received 2 results and 0 failures\n",
      "DEBUG flwr 2023-04-10 17:39:31,830 | server.py:215 | fit_round 2: strategy sampled 2 clients (out of 5)\n"
     ]
    },
    {
     "output_type": "stream",
     "name": "stdout",
     "text": [
      "\t {'val_loss': 5.143322706222534, 'val_accuracy': 0.1}\n"
     ]
    },
    {
     "output_type": "stream",
     "name": "stderr",
     "text": [
      "DEBUG flwr 2023-04-10 17:40:08,017 | server.py:229 | fit_round 2 received 2 results and 0 failures\n"
     ]
    },
    {
     "output_type": "stream",
     "name": "stdout",
     "text": [
      "\t {'train_loss': 2.064218282699585, 'train_accuracy': 0.3888888888888889}\n"
     ]
    },
    {
     "output_type": "stream",
     "name": "stderr",
     "text": [
      "INFO flwr 2023-04-10 17:40:14,017 | server.py:116 | fit progress: (2, 16.250322341918945, {'test_loss': 16.250322341918945, 'test_accuracy': 0.21}, 90.99567160000151)\n",
      "DEBUG flwr 2023-04-10 17:40:14,017 | server.py:165 | evaluate_round 2: strategy sampled 2 clients (out of 5)\n",
      "DEBUG flwr 2023-04-10 17:40:16,082 | server.py:179 | evaluate_round 2 received 2 results and 0 failures\n",
      "DEBUG flwr 2023-04-10 17:40:16,083 | server.py:215 | fit_round 3: strategy sampled 2 clients (out of 5)\n"
     ]
    },
    {
     "output_type": "stream",
     "name": "stdout",
     "text": [
      "\t {'val_loss': 3.239913582801819, 'val_accuracy': 0.25}\n"
     ]
    },
    {
     "output_type": "stream",
     "name": "stderr",
     "text": [
      "DEBUG flwr 2023-04-10 17:40:52,154 | server.py:229 | fit_round 3 received 2 results and 0 failures\n"
     ]
    },
    {
     "output_type": "stream",
     "name": "stdout",
     "text": [
      "\t {'train_loss': 2.921006202697754, 'train_accuracy': 0.3}\n"
     ]
    },
    {
     "output_type": "stream",
     "name": "stderr",
     "text": [
      "INFO flwr 2023-04-10 17:40:58,079 | server.py:116 | fit progress: (3, 16.552156448364258, {'test_loss': 16.552156448364258, 'test_accuracy': 0.18}, 135.05719320000208)\n",
      "DEBUG flwr 2023-04-10 17:40:58,079 | server.py:165 | evaluate_round 3: strategy sampled 2 clients (out of 5)\n",
      "DEBUG flwr 2023-04-10 17:41:00,290 | server.py:179 | evaluate_round 3 received 2 results and 0 failures\n",
      "DEBUG flwr 2023-04-10 17:41:00,290 | server.py:215 | fit_round 4: strategy sampled 2 clients (out of 5)\n"
     ]
    },
    {
     "output_type": "stream",
     "name": "stdout",
     "text": [
      "\t {'val_loss': 3.2266114950180054, 'val_accuracy': 0.35}\n"
     ]
    },
    {
     "output_type": "stream",
     "name": "stderr",
     "text": [
      "DEBUG flwr 2023-04-10 17:41:36,206 | server.py:229 | fit_round 4 received 2 results and 0 failures\n"
     ]
    },
    {
     "output_type": "stream",
     "name": "stdout",
     "text": [
      "\t {'train_loss': 2.375395655632019, 'train_accuracy': 0.4833333333333334}\n"
     ]
    },
    {
     "output_type": "stream",
     "name": "stderr",
     "text": [
      "INFO flwr 2023-04-10 17:41:42,235 | server.py:116 | fit progress: (4, 17.11565399169922, {'test_loss': 17.11565399169922, 'test_accuracy': 0.21}, 179.2132156000007)\n",
      "DEBUG flwr 2023-04-10 17:41:42,235 | server.py:165 | evaluate_round 4: strategy sampled 2 clients (out of 5)\n",
      "DEBUG flwr 2023-04-10 17:41:44,238 | server.py:179 | evaluate_round 4 received 2 results and 0 failures\n",
      "DEBUG flwr 2023-04-10 17:41:44,239 | server.py:215 | fit_round 5: strategy sampled 2 clients (out of 5)\n"
     ]
    },
    {
     "output_type": "stream",
     "name": "stdout",
     "text": [
      "\t {'val_loss': 3.149528384208679, 'val_accuracy': 0.30000000000000004}\n"
     ]
    },
    {
     "output_type": "stream",
     "name": "stderr",
     "text": [
      "DEBUG flwr 2023-04-10 17:42:20,358 | server.py:229 | fit_round 5 received 2 results and 0 failures\n"
     ]
    },
    {
     "output_type": "stream",
     "name": "stdout",
     "text": [
      "\t {'train_loss': 2.2948511242866516, 'train_accuracy': 0.6722222222222222}\n"
     ]
    },
    {
     "output_type": "stream",
     "name": "stderr",
     "text": [
      "INFO flwr 2023-04-10 17:42:26,378 | server.py:116 | fit progress: (5, 16.31963539123535, {'test_loss': 16.31963539123535, 'test_accuracy': 0.22}, 223.35733769999933)\n",
      "DEBUG flwr 2023-04-10 17:42:26,379 | server.py:165 | evaluate_round 5: strategy sampled 2 clients (out of 5)\n",
      "DEBUG flwr 2023-04-10 17:42:28,415 | server.py:179 | evaluate_round 5 received 2 results and 0 failures\n",
      "DEBUG flwr 2023-04-10 17:42:28,416 | server.py:215 | fit_round 6: strategy sampled 2 clients (out of 5)\n"
     ]
    },
    {
     "output_type": "stream",
     "name": "stdout",
     "text": [
      "\t {'val_loss': 2.5191184282302856, 'val_accuracy': 0.35}\n"
     ]
    },
    {
     "output_type": "stream",
     "name": "stderr",
     "text": [
      "DEBUG flwr 2023-04-10 17:43:03,899 | server.py:229 | fit_round 6 received 2 results and 0 failures\n"
     ]
    },
    {
     "output_type": "stream",
     "name": "stdout",
     "text": [
      "\t {'train_loss': 1.5101075768470764, 'train_accuracy': 0.7555555555555555}\n"
     ]
    },
    {
     "output_type": "stream",
     "name": "stderr",
     "text": [
      "INFO flwr 2023-04-10 17:43:10,045 | server.py:116 | fit progress: (6, 15.467330932617188, {'test_loss': 15.467330932617188, 'test_accuracy': 0.23}, 267.02328759999364)\n",
      "DEBUG flwr 2023-04-10 17:43:10,045 | server.py:165 | evaluate_round 6: strategy sampled 2 clients (out of 5)\n",
      "DEBUG flwr 2023-04-10 17:43:12,069 | server.py:179 | evaluate_round 6 received 2 results and 0 failures\n",
      "DEBUG flwr 2023-04-10 17:43:12,069 | server.py:215 | fit_round 7: strategy sampled 2 clients (out of 5)\n"
     ]
    },
    {
     "output_type": "stream",
     "name": "stdout",
     "text": [
      "\t {'val_loss': 3.7281811237335205, 'val_accuracy': 0.2}\n"
     ]
    },
    {
     "output_type": "stream",
     "name": "stderr",
     "text": [
      "DEBUG flwr 2023-04-10 17:43:47,626 | server.py:229 | fit_round 7 received 2 results and 0 failures\n"
     ]
    },
    {
     "output_type": "stream",
     "name": "stdout",
     "text": [
      "\t {'train_loss': 0.7402545511722565, 'train_accuracy': 0.9111111111111111}\n"
     ]
    },
    {
     "output_type": "stream",
     "name": "stderr",
     "text": [
      "INFO flwr 2023-04-10 17:43:53,583 | server.py:116 | fit progress: (7, 16.898813247680664, {'test_loss': 16.898813247680664, 'test_accuracy': 0.2}, 310.5616507999948)\n",
      "DEBUG flwr 2023-04-10 17:43:53,584 | server.py:165 | evaluate_round 7: strategy sampled 2 clients (out of 5)\n",
      "DEBUG flwr 2023-04-10 17:43:55,776 | server.py:179 | evaluate_round 7 received 2 results and 0 failures\n",
      "DEBUG flwr 2023-04-10 17:43:55,777 | server.py:215 | fit_round 8: strategy sampled 2 clients (out of 5)\n"
     ]
    },
    {
     "output_type": "stream",
     "name": "stdout",
     "text": [
      "\t {'val_loss': 2.5233311653137207, 'val_accuracy': 0.4}\n"
     ]
    },
    {
     "output_type": "stream",
     "name": "stderr",
     "text": [
      "DEBUG flwr 2023-04-10 17:44:31,180 | server.py:229 | fit_round 8 received 2 results and 0 failures\n"
     ]
    },
    {
     "output_type": "stream",
     "name": "stdout",
     "text": [
      "\t {'train_loss': 0.7859745770692825, 'train_accuracy': 0.9111111111111111}\n"
     ]
    },
    {
     "output_type": "stream",
     "name": "stderr",
     "text": [
      "INFO flwr 2023-04-10 17:44:37,099 | server.py:116 | fit progress: (8, 15.24635124206543, {'test_loss': 15.24635124206543, 'test_accuracy': 0.29}, 354.0773792999971)\n",
      "DEBUG flwr 2023-04-10 17:44:37,100 | server.py:165 | evaluate_round 8: strategy sampled 2 clients (out of 5)\n",
      "DEBUG flwr 2023-04-10 17:44:39,319 | server.py:179 | evaluate_round 8 received 2 results and 0 failures\n",
      "DEBUG flwr 2023-04-10 17:44:39,320 | server.py:215 | fit_round 9: strategy sampled 2 clients (out of 5)\n"
     ]
    },
    {
     "output_type": "stream",
     "name": "stdout",
     "text": [
      "\t {'val_loss': 2.41679847240448, 'val_accuracy': 0.5}\n"
     ]
    },
    {
     "output_type": "stream",
     "name": "stderr",
     "text": [
      "DEBUG flwr 2023-04-10 17:45:14,957 | server.py:229 | fit_round 9 received 2 results and 0 failures\n"
     ]
    },
    {
     "output_type": "stream",
     "name": "stdout",
     "text": [
      "\t {'train_loss': 0.5332944989204407, 'train_accuracy': 0.9666666666666667}\n"
     ]
    },
    {
     "output_type": "stream",
     "name": "stderr",
     "text": [
      "INFO flwr 2023-04-10 17:45:20,878 | server.py:116 | fit progress: (9, 16.17179298400879, {'test_loss': 16.17179298400879, 'test_accuracy': 0.25}, 397.85720100000617)\n",
      "DEBUG flwr 2023-04-10 17:45:20,879 | server.py:165 | evaluate_round 9: strategy sampled 2 clients (out of 5)\n",
      "DEBUG flwr 2023-04-10 17:45:23,039 | server.py:179 | evaluate_round 9 received 2 results and 0 failures\n",
      "DEBUG flwr 2023-04-10 17:45:23,039 | server.py:215 | fit_round 10: strategy sampled 2 clients (out of 5)\n"
     ]
    },
    {
     "output_type": "stream",
     "name": "stdout",
     "text": [
      "\t {'val_loss': 3.0911901593208313, 'val_accuracy': 0.3}\n"
     ]
    },
    {
     "output_type": "stream",
     "name": "stderr",
     "text": [
      "DEBUG flwr 2023-04-10 17:45:58,711 | server.py:229 | fit_round 10 received 2 results and 0 failures\n"
     ]
    },
    {
     "output_type": "stream",
     "name": "stdout",
     "text": [
      "\t {'train_loss': 0.2511480823159218, 'train_accuracy': 0.9944444444444445}\n"
     ]
    },
    {
     "output_type": "stream",
     "name": "stderr",
     "text": [
      "INFO flwr 2023-04-10 17:46:04,665 | server.py:116 | fit progress: (10, 14.921417236328125, {'test_loss': 14.921417236328125, 'test_accuracy': 0.27}, 441.64400329999626)\n",
      "DEBUG flwr 2023-04-10 17:46:04,666 | server.py:165 | evaluate_round 10: strategy sampled 2 clients (out of 5)\n",
      "DEBUG flwr 2023-04-10 17:46:06,815 | server.py:179 | evaluate_round 10 received 2 results and 0 failures\n",
      "INFO flwr 2023-04-10 17:46:06,815 | server.py:144 | FL finished in 443.7938545999932\n",
      "INFO flwr 2023-04-10 17:46:06,828 | app.py:202 | app_fit: losses_distributed [(1, 5.143322706222534), (2, 3.239913582801819), (3, 3.2266114950180054), (4, 3.149528384208679), (5, 2.5191184282302856), (6, 3.7281811237335205), (7, 2.5233311653137207), (8, 2.41679847240448), (9, 3.0911901593208313), (10, 1.7978174090385437)]\n",
      "INFO flwr 2023-04-10 17:46:06,829 | app.py:203 | app_fit: metrics_distributed {'val_loss': [(1, 5.143322706222534), (2, 3.239913582801819), (3, 3.2266114950180054), (4, 3.149528384208679), (5, 2.5191184282302856), (6, 3.7281811237335205), (7, 2.5233311653137207), (8, 2.41679847240448), (9, 3.0911901593208313), (10, 1.7978174090385437)], 'val_accuracy': [(1, 0.1), (2, 0.25), (3, 0.35), (4, 0.30000000000000004), (5, 0.35), (6, 0.2), (7, 0.4), (8, 0.5), (9, 0.3), (10, 0.55)]}\n",
      "INFO flwr 2023-04-10 17:46:06,829 | app.py:204 | app_fit: losses_centralized [(0, 23.11473846435547), (1, 20.31015968322754), (2, 16.250322341918945), (3, 16.552156448364258), (4, 17.11565399169922), (5, 16.31963539123535), (6, 15.467330932617188), (7, 16.898813247680664), (8, 15.24635124206543), (9, 16.17179298400879), (10, 14.921417236328125)]\n",
      "INFO flwr 2023-04-10 17:46:06,830 | app.py:205 | app_fit: metrics_centralized {'test_loss': [(0, 23.11473846435547), (1, 20.31015968322754), (2, 16.250322341918945), (3, 16.552156448364258), (4, 17.11565399169922), (5, 16.31963539123535), (6, 15.467330932617188), (7, 16.898813247680664), (8, 15.24635124206543), (9, 16.17179298400879), (10, 14.921417236328125)], 'test_accuracy': [(0, 0.0), (1, 0.02), (2, 0.21), (3, 0.18), (4, 0.21), (5, 0.22), (6, 0.23), (7, 0.2), (8, 0.29), (9, 0.25), (10, 0.27)]}\n"
     ]
    },
    {
     "output_type": "stream",
     "name": "stdout",
     "text": [
      "\t {'val_loss': 1.7978174090385437, 'val_accuracy': 0.55}\n"
     ]
    },
    {
     "output_type": "execute_result",
     "data": {
      "text/plain": [
       "History (loss, distributed):\n",
       "\tround 1: 5.143322706222534\n",
       "\tround 2: 3.239913582801819\n",
       "\tround 3: 3.2266114950180054\n",
       "\tround 4: 3.149528384208679\n",
       "\tround 5: 2.5191184282302856\n",
       "\tround 6: 3.7281811237335205\n",
       "\tround 7: 2.5233311653137207\n",
       "\tround 8: 2.41679847240448\n",
       "\tround 9: 3.0911901593208313\n",
       "\tround 10: 1.7978174090385437\n",
       "History (loss, centralized):\n",
       "\tround 0: 23.11473846435547\n",
       "\tround 1: 20.31015968322754\n",
       "\tround 2: 16.250322341918945\n",
       "\tround 3: 16.552156448364258\n",
       "\tround 4: 17.11565399169922\n",
       "\tround 5: 16.31963539123535\n",
       "\tround 6: 15.467330932617188\n",
       "\tround 7: 16.898813247680664\n",
       "\tround 8: 15.24635124206543\n",
       "\tround 9: 16.17179298400879\n",
       "\tround 10: 14.921417236328125\n",
       "History (metrics, distributed):\n",
       "{'val_loss': [(1, 5.143322706222534), (2, 3.239913582801819), (3, 3.2266114950180054), (4, 3.149528384208679), (5, 2.5191184282302856), (6, 3.7281811237335205), (7, 2.5233311653137207), (8, 2.41679847240448), (9, 3.0911901593208313), (10, 1.7978174090385437)], 'val_accuracy': [(1, 0.1), (2, 0.25), (3, 0.35), (4, 0.30000000000000004), (5, 0.35), (6, 0.2), (7, 0.4), (8, 0.5), (9, 0.3), (10, 0.55)]}History (metrics, centralized):\n",
       "{'test_loss': [(0, 23.11473846435547), (1, 20.31015968322754), (2, 16.250322341918945), (3, 16.552156448364258), (4, 17.11565399169922), (5, 16.31963539123535), (6, 15.467330932617188), (7, 16.898813247680664), (8, 15.24635124206543), (9, 16.17179298400879), (10, 14.921417236328125)], 'test_accuracy': [(0, 0.0), (1, 0.02), (2, 0.21), (3, 0.18), (4, 0.21), (5, 0.22), (6, 0.23), (7, 0.2), (8, 0.29), (9, 0.25), (10, 0.27)]}"
      ]
     },
     "metadata": {},
     "execution_count": 7
    }
   ],
   "metadata": {}
  }
 ],
 "nbformat": 4,
 "nbformat_minor": 2,
 "metadata": {
  "language_info": {
   "codemirror_mode": {
    "name": "ipython",
    "version": 3
   },
   "file_extension": ".py",
   "mimetype": "text/x-python",
   "name": "python",
   "nbconvert_exporter": "python",
   "pygments_lexer": "ipython3",
   "version": 3
  },
  "orig_nbformat": 4
 }
}