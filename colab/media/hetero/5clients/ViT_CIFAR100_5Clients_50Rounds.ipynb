{
 "cells": [
  {
   "cell_type": "code",
   "execution_count": 8,
   "source": [
    "print('num clients:', NUM_CLIENTS)\n",
    "print('num rounds:', NUM_ROUNDS)\n",
    "print('--'*20)\n",
    "print('client training set size:', [len(t.dataset) for t in trainloaders])\n",
    "print('client validation set size:', [len(v.dataset) for v in valloaders])\n",
    "print('test set size:', len(testloader.dataset))\n",
    "print('--'*20)\n",
    "print('model name:', MODEL_NAME)\n",
    "print('num classes:', NUM_CLASSES)\n",
    "print('pre-trained:', PRE_TRAINED)\n",
    "print('learning rate:', LEARNING_RATE)\n",
    "print('batch size:', BATCH_SIZE)\n",
    "print('epochs:', EPOCHS)"
   ],
   "outputs": [
    {
     "output_type": "stream",
     "name": "stdout",
     "text": [
      "num clients: 5\n",
      "num rounds: 50\n",
      "----------------------------------------\n",
      "client training set size: [90, 90, 90, 90, 90, 90, 90, 90, 90, 90]\n",
      "client validation set size: [10, 10, 10, 10, 10, 10, 10, 10, 10, 10]\n",
      "test set size: 100\n",
      "----------------------------------------\n",
      "model name: google/vit-base-patch16-224\n",
      "num classes: 100\n",
      "pre-trained: True\n",
      "learning rate: 0.001\n",
      "batch size: 32\n",
      "epochs: 1\n"
     ]
    }
   ],
   "metadata": {}
  },
  {
   "cell_type": "code",
   "execution_count": 9,
   "source": [
    "fl.simulation.start_simulation(\n",
    "    client_fn=lambda cid: FlowerClient(MODEL_CONFIG, trainloaders[int(cid)], valloaders[int(cid)]),\n",
    "    num_clients=NUM_CLIENTS,\n",
    "    config=fl.server.ServerConfig(num_rounds=NUM_ROUNDS),\n",
    "    strategy=strategy,\n",
    "    client_resources=CLIENT_RESOURCES,\n",
    "    ray_init_args=RAY_ARGS,\n",
    ")"
   ],
   "outputs": [
    {
     "output_type": "stream",
     "name": "stderr",
     "text": [
      "INFO flwr 2023-04-11 22:57:39,890 | app.py:145 | Starting Flower simulation, config: ServerConfig(num_rounds=50, round_timeout=None)\n",
      "2023-04-11 22:57:41,899\tINFO worker.py:1529 -- Started a local Ray instance. View the dashboard at \u001b[1m\u001b[32m127.0.0.1:8265 \u001b[39m\u001b[22m\n",
      "INFO flwr 2023-04-11 22:57:43,076 | app.py:179 | Flower VCE: Ray initialized with resources: {'object_store_memory': 6777797836.0, 'node:127.0.0.1': 1.0, 'CPU': 24.0, 'GPU': 1.0, 'memory': 13555595675.0}\n",
      "INFO flwr 2023-04-11 22:57:43,077 | server.py:86 | Initializing global parameters\n",
      "INFO flwr 2023-04-11 22:57:43,077 | server.py:266 | Using initial parameters provided by strategy\n",
      "INFO flwr 2023-04-11 22:57:43,078 | server.py:88 | Evaluating initial parameters\n",
      "INFO flwr 2023-04-11 22:57:52,425 | server.py:91 | initial parameters (loss, other metrics): 18.121950149536133, {'test_loss': 18.121950149536133, 'test_accuracy': 0.03}\n",
      "INFO flwr 2023-04-11 22:57:52,426 | server.py:101 | FL starting\n",
      "DEBUG flwr 2023-04-11 22:57:52,426 | server.py:215 | fit_round 1: strategy sampled 2 clients (out of 5)\n",
      "DEBUG flwr 2023-04-11 22:59:29,779 | server.py:229 | fit_round 1 received 2 results and 0 failures\n"
     ]
    },
    {
     "output_type": "stream",
     "name": "stdout",
     "text": [
      "\t {'train_loss': 3.032770037651062, 'train_accuracy': 0.11666666666666665}\n"
     ]
    },
    {
     "output_type": "stream",
     "name": "stderr",
     "text": [
      "INFO flwr 2023-04-11 22:59:39,725 | server.py:116 | fit progress: (1, 16.249814987182617, {'test_loss': 16.249814987182617, 'test_accuracy': 0.15}, 107.29883770000015)\n",
      "DEBUG flwr 2023-04-11 22:59:39,726 | server.py:165 | evaluate_round 1: strategy sampled 2 clients (out of 5)\n",
      "DEBUG flwr 2023-04-11 22:59:46,176 | server.py:179 | evaluate_round 1 received 2 results and 0 failures\n",
      "DEBUG flwr 2023-04-11 22:59:46,177 | server.py:215 | fit_round 2: strategy sampled 2 clients (out of 5)\n"
     ]
    },
    {
     "output_type": "stream",
     "name": "stdout",
     "text": [
      "\t {'val_loss': 4.745851516723633, 'val_accuracy': 0.0}\n"
     ]
    },
    {
     "output_type": "stream",
     "name": "stderr",
     "text": [
      "DEBUG flwr 2023-04-11 23:01:21,814 | server.py:229 | fit_round 2 received 2 results and 0 failures\n"
     ]
    },
    {
     "output_type": "stream",
     "name": "stdout",
     "text": [
      "\t {'train_loss': 4.543671131134033, 'train_accuracy': 0.12777777777777777}\n"
     ]
    },
    {
     "output_type": "stream",
     "name": "stderr",
     "text": [
      "INFO flwr 2023-04-11 23:01:31,708 | server.py:116 | fit progress: (2, 17.93752098083496, {'test_loss': 17.93752098083496, 'test_accuracy': 0.02}, 219.28089209999962)\n",
      "DEBUG flwr 2023-04-11 23:01:31,708 | server.py:165 | evaluate_round 2: strategy sampled 2 clients (out of 5)\n",
      "DEBUG flwr 2023-04-11 23:01:37,813 | server.py:179 | evaluate_round 2 received 2 results and 0 failures\n",
      "DEBUG flwr 2023-04-11 23:01:37,814 | server.py:215 | fit_round 3: strategy sampled 2 clients (out of 5)\n"
     ]
    },
    {
     "output_type": "stream",
     "name": "stdout",
     "text": [
      "\t {'val_loss': 4.653022766113281, 'val_accuracy': 0.0}\n"
     ]
    },
    {
     "output_type": "stream",
     "name": "stderr",
     "text": [
      "DEBUG flwr 2023-04-11 23:03:12,327 | server.py:229 | fit_round 3 received 2 results and 0 failures\n"
     ]
    },
    {
     "output_type": "stream",
     "name": "stdout",
     "text": [
      "\t {'train_loss': 4.069094657897949, 'train_accuracy': 0.07222222222222223}\n"
     ]
    },
    {
     "output_type": "stream",
     "name": "stderr",
     "text": [
      "INFO flwr 2023-04-11 23:03:22,291 | server.py:116 | fit progress: (3, 21.944669723510742, {'test_loss': 21.944669723510742, 'test_accuracy': 0.01}, 329.86430479999945)\n",
      "DEBUG flwr 2023-04-11 23:03:22,292 | server.py:165 | evaluate_round 3: strategy sampled 2 clients (out of 5)\n",
      "DEBUG flwr 2023-04-11 23:03:28,583 | server.py:179 | evaluate_round 3 received 2 results and 0 failures\n",
      "DEBUG flwr 2023-04-11 23:03:28,584 | server.py:215 | fit_round 4: strategy sampled 2 clients (out of 5)\n"
     ]
    },
    {
     "output_type": "stream",
     "name": "stdout",
     "text": [
      "\t {'val_loss': 3.9448227882385254, 'val_accuracy': 0.05}\n"
     ]
    },
    {
     "output_type": "stream",
     "name": "stderr",
     "text": [
      "DEBUG flwr 2023-04-11 23:05:03,798 | server.py:229 | fit_round 4 received 2 results and 0 failures\n"
     ]
    },
    {
     "output_type": "stream",
     "name": "stdout",
     "text": [
      "\t {'train_loss': 3.479782223701477, 'train_accuracy': 0.06666666666666667}\n"
     ]
    },
    {
     "output_type": "stream",
     "name": "stderr",
     "text": [
      "INFO flwr 2023-04-11 23:05:13,815 | server.py:116 | fit progress: (4, 18.89236831665039, {'test_loss': 18.89236831665039, 'test_accuracy': 0.04}, 441.3886975000005)\n",
      "DEBUG flwr 2023-04-11 23:05:13,816 | server.py:165 | evaluate_round 4: strategy sampled 2 clients (out of 5)\n",
      "DEBUG flwr 2023-04-11 23:05:19,958 | server.py:179 | evaluate_round 4 received 2 results and 0 failures\n",
      "DEBUG flwr 2023-04-11 23:05:19,958 | server.py:215 | fit_round 5: strategy sampled 2 clients (out of 5)\n"
     ]
    },
    {
     "output_type": "stream",
     "name": "stdout",
     "text": [
      "\t {'val_loss': 5.127021312713623, 'val_accuracy': 0.05}\n"
     ]
    },
    {
     "output_type": "stream",
     "name": "stderr",
     "text": [
      "DEBUG flwr 2023-04-11 23:06:54,607 | server.py:229 | fit_round 5 received 2 results and 0 failures\n"
     ]
    },
    {
     "output_type": "stream",
     "name": "stdout",
     "text": [
      "\t {'train_loss': 4.534404754638672, 'train_accuracy': 0.11666666666666665}\n"
     ]
    },
    {
     "output_type": "stream",
     "name": "stderr",
     "text": [
      "INFO flwr 2023-04-11 23:07:04,497 | server.py:116 | fit progress: (5, 18.090530395507812, {'test_loss': 18.090530395507812, 'test_accuracy': 0.03}, 552.0704091000007)\n",
      "DEBUG flwr 2023-04-11 23:07:04,497 | server.py:165 | evaluate_round 5: strategy sampled 2 clients (out of 5)\n",
      "DEBUG flwr 2023-04-11 23:07:10,730 | server.py:179 | evaluate_round 5 received 2 results and 0 failures\n",
      "DEBUG flwr 2023-04-11 23:07:10,730 | server.py:215 | fit_round 6: strategy sampled 2 clients (out of 5)\n"
     ]
    },
    {
     "output_type": "stream",
     "name": "stdout",
     "text": [
      "\t {'val_loss': 4.498711824417114, 'val_accuracy': 0.1}\n"
     ]
    },
    {
     "output_type": "stream",
     "name": "stderr",
     "text": [
      "DEBUG flwr 2023-04-11 23:08:44,686 | server.py:229 | fit_round 6 received 2 results and 0 failures\n"
     ]
    },
    {
     "output_type": "stream",
     "name": "stdout",
     "text": [
      "\t {'train_loss': 3.248175263404846, 'train_accuracy': 0.07777777777777778}\n"
     ]
    },
    {
     "output_type": "stream",
     "name": "stderr",
     "text": [
      "INFO flwr 2023-04-11 23:08:54,514 | server.py:116 | fit progress: (6, 18.8131103515625, {'test_loss': 18.8131103515625, 'test_accuracy': 0.06}, 662.0875699000007)\n",
      "DEBUG flwr 2023-04-11 23:08:54,515 | server.py:165 | evaluate_round 6: strategy sampled 2 clients (out of 5)\n",
      "DEBUG flwr 2023-04-11 23:09:00,696 | server.py:179 | evaluate_round 6 received 2 results and 0 failures\n",
      "DEBUG flwr 2023-04-11 23:09:00,697 | server.py:215 | fit_round 7: strategy sampled 2 clients (out of 5)\n"
     ]
    },
    {
     "output_type": "stream",
     "name": "stdout",
     "text": [
      "\t {'val_loss': 5.893053293228149, 'val_accuracy': 0.0}\n"
     ]
    },
    {
     "output_type": "stream",
     "name": "stderr",
     "text": [
      "DEBUG flwr 2023-04-11 23:10:34,561 | server.py:229 | fit_round 7 received 2 results and 0 failures\n"
     ]
    },
    {
     "output_type": "stream",
     "name": "stdout",
     "text": [
      "\t {'train_loss': 3.3404442071914673, 'train_accuracy': 0.06666666666666667}\n"
     ]
    },
    {
     "output_type": "stream",
     "name": "stderr",
     "text": [
      "INFO flwr 2023-04-11 23:10:44,453 | server.py:116 | fit progress: (7, 22.573015213012695, {'test_loss': 22.573015213012695, 'test_accuracy': 0.0}, 772.0262562999997)\n",
      "DEBUG flwr 2023-04-11 23:10:44,454 | server.py:165 | evaluate_round 7: strategy sampled 2 clients (out of 5)\n",
      "DEBUG flwr 2023-04-11 23:10:50,603 | server.py:179 | evaluate_round 7 received 2 results and 0 failures\n",
      "DEBUG flwr 2023-04-11 23:10:50,604 | server.py:215 | fit_round 8: strategy sampled 2 clients (out of 5)\n"
     ]
    },
    {
     "output_type": "stream",
     "name": "stdout",
     "text": [
      "\t {'val_loss': 4.4938355684280396, 'val_accuracy': 0.0}\n"
     ]
    },
    {
     "output_type": "stream",
     "name": "stderr",
     "text": [
      "DEBUG flwr 2023-04-11 23:12:24,590 | server.py:229 | fit_round 8 received 2 results and 0 failures\n"
     ]
    },
    {
     "output_type": "stream",
     "name": "stdout",
     "text": [
      "\t {'train_loss': 3.379541039466858, 'train_accuracy': 0.044444444444444446}\n"
     ]
    },
    {
     "output_type": "stream",
     "name": "stderr",
     "text": [
      "INFO flwr 2023-04-11 23:12:34,466 | server.py:116 | fit progress: (8, 19.76338768005371, {'test_loss': 19.76338768005371, 'test_accuracy': 0.09}, 882.0400234000008)\n",
      "DEBUG flwr 2023-04-11 23:12:34,467 | server.py:165 | evaluate_round 8: strategy sampled 2 clients (out of 5)\n",
      "DEBUG flwr 2023-04-11 23:12:40,650 | server.py:179 | evaluate_round 8 received 2 results and 0 failures\n",
      "DEBUG flwr 2023-04-11 23:12:40,650 | server.py:215 | fit_round 9: strategy sampled 2 clients (out of 5)\n"
     ]
    },
    {
     "output_type": "stream",
     "name": "stdout",
     "text": [
      "\t {'val_loss': 4.4584513902664185, 'val_accuracy': 0.0}\n"
     ]
    },
    {
     "output_type": "stream",
     "name": "stderr",
     "text": [
      "DEBUG flwr 2023-04-11 23:14:14,219 | server.py:229 | fit_round 9 received 2 results and 0 failures\n"
     ]
    },
    {
     "output_type": "stream",
     "name": "stdout",
     "text": [
      "\t {'train_loss': 3.4855846166610718, 'train_accuracy': 0.06666666666666667}\n"
     ]
    },
    {
     "output_type": "stream",
     "name": "stderr",
     "text": [
      "INFO flwr 2023-04-11 23:14:23,930 | server.py:116 | fit progress: (9, 22.13922882080078, {'test_loss': 22.13922882080078, 'test_accuracy': 0.0}, 991.503745)\n",
      "DEBUG flwr 2023-04-11 23:14:23,931 | server.py:165 | evaluate_round 9: strategy sampled 2 clients (out of 5)\n",
      "DEBUG flwr 2023-04-11 23:14:30,145 | server.py:179 | evaluate_round 9 received 2 results and 0 failures\n",
      "DEBUG flwr 2023-04-11 23:14:30,145 | server.py:215 | fit_round 10: strategy sampled 2 clients (out of 5)\n"
     ]
    },
    {
     "output_type": "stream",
     "name": "stdout",
     "text": [
      "\t {'val_loss': 5.314489364624023, 'val_accuracy': 0.0}\n"
     ]
    },
    {
     "output_type": "stream",
     "name": "stderr",
     "text": [
      "DEBUG flwr 2023-04-11 23:16:04,134 | server.py:229 | fit_round 10 received 2 results and 0 failures\n"
     ]
    },
    {
     "output_type": "stream",
     "name": "stdout",
     "text": [
      "\t {'train_loss': 3.7099533081054688, 'train_accuracy': 0.06666666666666667}\n"
     ]
    },
    {
     "output_type": "stream",
     "name": "stderr",
     "text": [
      "INFO flwr 2023-04-11 23:16:13,988 | server.py:116 | fit progress: (10, 19.296253204345703, {'test_loss': 19.296253204345703, 'test_accuracy': 0.04}, 1101.5614958000006)\n",
      "DEBUG flwr 2023-04-11 23:16:13,989 | server.py:165 | evaluate_round 10: strategy sampled 2 clients (out of 5)\n",
      "DEBUG flwr 2023-04-11 23:16:20,178 | server.py:179 | evaluate_round 10 received 2 results and 0 failures\n",
      "DEBUG flwr 2023-04-11 23:16:20,179 | server.py:215 | fit_round 11: strategy sampled 2 clients (out of 5)\n"
     ]
    },
    {
     "output_type": "stream",
     "name": "stdout",
     "text": [
      "\t {'val_loss': 4.182586908340454, 'val_accuracy': 0.0}\n"
     ]
    },
    {
     "output_type": "stream",
     "name": "stderr",
     "text": [
      "DEBUG flwr 2023-04-11 23:17:54,263 | server.py:229 | fit_round 11 received 2 results and 0 failures\n"
     ]
    },
    {
     "output_type": "stream",
     "name": "stdout",
     "text": [
      "\t {'train_loss': 3.373840570449829, 'train_accuracy': 0.08333333333333333}\n"
     ]
    },
    {
     "output_type": "stream",
     "name": "stderr",
     "text": [
      "INFO flwr 2023-04-11 23:18:04,011 | server.py:116 | fit progress: (11, 19.745779037475586, {'test_loss': 19.745779037475586, 'test_accuracy': 0.0}, 1211.5848757000003)\n",
      "DEBUG flwr 2023-04-11 23:18:04,012 | server.py:165 | evaluate_round 11: strategy sampled 2 clients (out of 5)\n",
      "DEBUG flwr 2023-04-11 23:18:10,162 | server.py:179 | evaluate_round 11 received 2 results and 0 failures\n",
      "DEBUG flwr 2023-04-11 23:18:10,162 | server.py:215 | fit_round 12: strategy sampled 2 clients (out of 5)\n"
     ]
    },
    {
     "output_type": "stream",
     "name": "stdout",
     "text": [
      "\t {'val_loss': 4.107126712799072, 'val_accuracy': 0.05}\n"
     ]
    },
    {
     "output_type": "stream",
     "name": "stderr",
     "text": [
      "DEBUG flwr 2023-04-11 23:19:43,558 | server.py:229 | fit_round 12 received 2 results and 0 failures\n"
     ]
    },
    {
     "output_type": "stream",
     "name": "stdout",
     "text": [
      "\t {'train_loss': 3.8047956228256226, 'train_accuracy': 0.13333333333333333}\n"
     ]
    },
    {
     "output_type": "stream",
     "name": "stderr",
     "text": [
      "INFO flwr 2023-04-11 23:19:53,327 | server.py:116 | fit progress: (12, 19.515750885009766, {'test_loss': 19.515750885009766, 'test_accuracy': 0.04}, 1320.9009693000007)\n",
      "DEBUG flwr 2023-04-11 23:19:53,328 | server.py:165 | evaluate_round 12: strategy sampled 2 clients (out of 5)\n",
      "DEBUG flwr 2023-04-11 23:19:59,523 | server.py:179 | evaluate_round 12 received 2 results and 0 failures\n",
      "DEBUG flwr 2023-04-11 23:19:59,523 | server.py:215 | fit_round 13: strategy sampled 2 clients (out of 5)\n"
     ]
    },
    {
     "output_type": "stream",
     "name": "stdout",
     "text": [
      "\t {'val_loss': 4.600738763809204, 'val_accuracy': 0.0}\n"
     ]
    },
    {
     "output_type": "stream",
     "name": "stderr",
     "text": [
      "DEBUG flwr 2023-04-11 23:21:32,999 | server.py:229 | fit_round 13 received 2 results and 0 failures\n"
     ]
    },
    {
     "output_type": "stream",
     "name": "stdout",
     "text": [
      "\t {'train_loss': 3.3934342861175537, 'train_accuracy': 0.06666666666666667}\n"
     ]
    },
    {
     "output_type": "stream",
     "name": "stderr",
     "text": [
      "INFO flwr 2023-04-11 23:21:42,784 | server.py:116 | fit progress: (13, 19.586111068725586, {'test_loss': 19.586111068725586, 'test_accuracy': 0.0}, 1430.3579181000005)\n",
      "DEBUG flwr 2023-04-11 23:21:42,785 | server.py:165 | evaluate_round 13: strategy sampled 2 clients (out of 5)\n",
      "DEBUG flwr 2023-04-11 23:21:48,916 | server.py:179 | evaluate_round 13 received 2 results and 0 failures\n",
      "DEBUG flwr 2023-04-11 23:21:48,916 | server.py:215 | fit_round 14: strategy sampled 2 clients (out of 5)\n"
     ]
    },
    {
     "output_type": "stream",
     "name": "stdout",
     "text": [
      "\t {'val_loss': 4.0139665603637695, 'val_accuracy': 0.0}\n"
     ]
    },
    {
     "output_type": "stream",
     "name": "stderr",
     "text": [
      "DEBUG flwr 2023-04-11 23:23:22,767 | server.py:229 | fit_round 14 received 2 results and 0 failures\n"
     ]
    },
    {
     "output_type": "stream",
     "name": "stdout",
     "text": [
      "\t {'train_loss': 3.8362436294555664, 'train_accuracy': 0.05555555555555556}\n"
     ]
    },
    {
     "output_type": "stream",
     "name": "stderr",
     "text": [
      "INFO flwr 2023-04-11 23:23:32,609 | server.py:116 | fit progress: (14, 20.236675262451172, {'test_loss': 20.236675262451172, 'test_accuracy': 0.01}, 1540.1824928999995)\n",
      "DEBUG flwr 2023-04-11 23:23:32,610 | server.py:165 | evaluate_round 14: strategy sampled 2 clients (out of 5)\n",
      "DEBUG flwr 2023-04-11 23:23:38,543 | server.py:179 | evaluate_round 14 received 2 results and 0 failures\n",
      "DEBUG flwr 2023-04-11 23:23:38,544 | server.py:215 | fit_round 15: strategy sampled 2 clients (out of 5)\n"
     ]
    },
    {
     "output_type": "stream",
     "name": "stdout",
     "text": [
      "\t {'val_loss': 4.980290651321411, 'val_accuracy': 0.0}\n"
     ]
    },
    {
     "output_type": "stream",
     "name": "stderr",
     "text": [
      "DEBUG flwr 2023-04-11 23:25:12,450 | server.py:229 | fit_round 15 received 2 results and 0 failures\n"
     ]
    },
    {
     "output_type": "stream",
     "name": "stdout",
     "text": [
      "\t {'train_loss': 3.4342538118362427, 'train_accuracy': 0.06666666666666667}\n"
     ]
    },
    {
     "output_type": "stream",
     "name": "stderr",
     "text": [
      "INFO flwr 2023-04-11 23:25:22,167 | server.py:116 | fit progress: (15, 19.78818130493164, {'test_loss': 19.78818130493164, 'test_accuracy': 0.0}, 1649.741223000001)\n",
      "DEBUG flwr 2023-04-11 23:25:22,168 | server.py:165 | evaluate_round 15: strategy sampled 2 clients (out of 5)\n",
      "DEBUG flwr 2023-04-11 23:25:28,410 | server.py:179 | evaluate_round 15 received 2 results and 0 failures\n",
      "DEBUG flwr 2023-04-11 23:25:28,411 | server.py:215 | fit_round 16: strategy sampled 2 clients (out of 5)\n"
     ]
    },
    {
     "output_type": "stream",
     "name": "stdout",
     "text": [
      "\t {'val_loss': 4.589336156845093, 'val_accuracy': 0.0}\n"
     ]
    },
    {
     "output_type": "stream",
     "name": "stderr",
     "text": [
      "DEBUG flwr 2023-04-11 23:27:02,453 | server.py:229 | fit_round 16 received 2 results and 0 failures\n"
     ]
    },
    {
     "output_type": "stream",
     "name": "stdout",
     "text": [
      "\t {'train_loss': 4.068667054176331, 'train_accuracy': 0.11666666666666665}\n"
     ]
    },
    {
     "output_type": "stream",
     "name": "stderr",
     "text": [
      "INFO flwr 2023-04-11 23:27:12,177 | server.py:116 | fit progress: (16, 23.755334854125977, {'test_loss': 23.755334854125977, 'test_accuracy': 0.0}, 1759.7504611000004)\n",
      "DEBUG flwr 2023-04-11 23:27:12,178 | server.py:165 | evaluate_round 16: strategy sampled 2 clients (out of 5)\n",
      "DEBUG flwr 2023-04-11 23:27:18,364 | server.py:179 | evaluate_round 16 received 2 results and 0 failures\n",
      "DEBUG flwr 2023-04-11 23:27:18,366 | server.py:215 | fit_round 17: strategy sampled 2 clients (out of 5)\n"
     ]
    },
    {
     "output_type": "stream",
     "name": "stdout",
     "text": [
      "\t {'val_loss': 4.733531951904297, 'val_accuracy': 0.0}\n"
     ]
    },
    {
     "output_type": "stream",
     "name": "stderr",
     "text": [
      "DEBUG flwr 2023-04-11 23:28:51,971 | server.py:229 | fit_round 17 received 2 results and 0 failures\n"
     ]
    },
    {
     "output_type": "stream",
     "name": "stdout",
     "text": [
      "\t {'train_loss': 3.6502126455307007, 'train_accuracy': 0.11666666666666665}\n"
     ]
    },
    {
     "output_type": "stream",
     "name": "stderr",
     "text": [
      "INFO flwr 2023-04-11 23:29:01,724 | server.py:116 | fit progress: (17, 23.497695922851562, {'test_loss': 23.497695922851562, 'test_accuracy': 0.01}, 1869.2974054999995)\n",
      "DEBUG flwr 2023-04-11 23:29:01,724 | server.py:165 | evaluate_round 17: strategy sampled 2 clients (out of 5)\n",
      "DEBUG flwr 2023-04-11 23:29:07,916 | server.py:179 | evaluate_round 17 received 2 results and 0 failures\n",
      "DEBUG flwr 2023-04-11 23:29:07,916 | server.py:215 | fit_round 18: strategy sampled 2 clients (out of 5)\n"
     ]
    },
    {
     "output_type": "stream",
     "name": "stdout",
     "text": [
      "\t {'val_loss': 4.679257392883301, 'val_accuracy': 0.1}\n"
     ]
    },
    {
     "output_type": "stream",
     "name": "stderr",
     "text": [
      "DEBUG flwr 2023-04-11 23:30:41,613 | server.py:229 | fit_round 18 received 2 results and 0 failures\n"
     ]
    },
    {
     "output_type": "stream",
     "name": "stdout",
     "text": [
      "\t {'train_loss': 4.079401850700378, 'train_accuracy': 0.05555555555555555}\n"
     ]
    },
    {
     "output_type": "stream",
     "name": "stderr",
     "text": [
      "INFO flwr 2023-04-11 23:30:51,442 | server.py:116 | fit progress: (18, 20.68670654296875, {'test_loss': 20.68670654296875, 'test_accuracy': 0.0}, 1979.0153568999995)\n",
      "DEBUG flwr 2023-04-11 23:30:51,443 | server.py:165 | evaluate_round 18: strategy sampled 2 clients (out of 5)\n",
      "DEBUG flwr 2023-04-11 23:30:57,626 | server.py:179 | evaluate_round 18 received 2 results and 0 failures\n",
      "DEBUG flwr 2023-04-11 23:30:57,627 | server.py:215 | fit_round 19: strategy sampled 2 clients (out of 5)\n"
     ]
    },
    {
     "output_type": "stream",
     "name": "stdout",
     "text": [
      "\t {'val_loss': 4.887189626693726, 'val_accuracy': 0.0}\n"
     ]
    },
    {
     "output_type": "stream",
     "name": "stderr",
     "text": [
      "DEBUG flwr 2023-04-11 23:32:31,420 | server.py:229 | fit_round 19 received 2 results and 0 failures\n"
     ]
    },
    {
     "output_type": "stream",
     "name": "stdout",
     "text": [
      "\t {'train_loss': 3.3006476163864136, 'train_accuracy': 0.09999999999999999}\n"
     ]
    },
    {
     "output_type": "stream",
     "name": "stderr",
     "text": [
      "INFO flwr 2023-04-11 23:32:41,148 | server.py:116 | fit progress: (19, 18.99504280090332, {'test_loss': 18.99504280090332, 'test_accuracy': 0.01}, 2088.7212466)\n",
      "DEBUG flwr 2023-04-11 23:32:41,148 | server.py:165 | evaluate_round 19: strategy sampled 2 clients (out of 5)\n",
      "DEBUG flwr 2023-04-11 23:32:47,303 | server.py:179 | evaluate_round 19 received 2 results and 0 failures\n",
      "DEBUG flwr 2023-04-11 23:32:47,304 | server.py:215 | fit_round 20: strategy sampled 2 clients (out of 5)\n"
     ]
    },
    {
     "output_type": "stream",
     "name": "stdout",
     "text": [
      "\t {'val_loss': 5.258157730102539, 'val_accuracy': 0.0}\n"
     ]
    },
    {
     "output_type": "stream",
     "name": "stderr",
     "text": [
      "DEBUG flwr 2023-04-11 23:34:20,867 | server.py:229 | fit_round 20 received 2 results and 0 failures\n"
     ]
    },
    {
     "output_type": "stream",
     "name": "stdout",
     "text": [
      "\t {'train_loss': 2.91704785823822, 'train_accuracy': 0.14444444444444446}\n"
     ]
    },
    {
     "output_type": "stream",
     "name": "stderr",
     "text": [
      "INFO flwr 2023-04-11 23:34:30,756 | server.py:116 | fit progress: (20, 19.756649017333984, {'test_loss': 19.756649017333984, 'test_accuracy': 0.07}, 2198.329126299999)\n",
      "DEBUG flwr 2023-04-11 23:34:30,756 | server.py:165 | evaluate_round 20: strategy sampled 2 clients (out of 5)\n",
      "DEBUG flwr 2023-04-11 23:34:36,945 | server.py:179 | evaluate_round 20 received 2 results and 0 failures\n",
      "DEBUG flwr 2023-04-11 23:34:36,946 | server.py:215 | fit_round 21: strategy sampled 2 clients (out of 5)\n"
     ]
    },
    {
     "output_type": "stream",
     "name": "stdout",
     "text": [
      "\t {'val_loss': 5.057929039001465, 'val_accuracy': 0.0}\n"
     ]
    },
    {
     "output_type": "stream",
     "name": "stderr",
     "text": [
      "DEBUG flwr 2023-04-11 23:36:10,745 | server.py:229 | fit_round 21 received 2 results and 0 failures\n"
     ]
    },
    {
     "output_type": "stream",
     "name": "stdout",
     "text": [
      "\t {'train_loss': 3.7082016468048096, 'train_accuracy': 0.10555555555555556}\n"
     ]
    },
    {
     "output_type": "stream",
     "name": "stderr",
     "text": [
      "INFO flwr 2023-04-11 23:36:20,613 | server.py:116 | fit progress: (21, 22.279577255249023, {'test_loss': 22.279577255249023, 'test_accuracy': 0.0}, 2308.1862261999995)\n",
      "DEBUG flwr 2023-04-11 23:36:20,613 | server.py:165 | evaluate_round 21: strategy sampled 2 clients (out of 5)\n",
      "DEBUG flwr 2023-04-11 23:36:26,629 | server.py:179 | evaluate_round 21 received 2 results and 0 failures\n",
      "DEBUG flwr 2023-04-11 23:36:26,629 | server.py:215 | fit_round 22: strategy sampled 2 clients (out of 5)\n"
     ]
    },
    {
     "output_type": "stream",
     "name": "stdout",
     "text": [
      "\t {'val_loss': 4.915335178375244, 'val_accuracy': 0.0}\n"
     ]
    },
    {
     "output_type": "stream",
     "name": "stderr",
     "text": [
      "DEBUG flwr 2023-04-11 23:37:59,954 | server.py:229 | fit_round 22 received 2 results and 0 failures\n"
     ]
    },
    {
     "output_type": "stream",
     "name": "stdout",
     "text": [
      "\t {'train_loss': 3.625248074531555, 'train_accuracy': 0.12222222222222222}\n"
     ]
    },
    {
     "output_type": "stream",
     "name": "stderr",
     "text": [
      "INFO flwr 2023-04-11 23:38:09,771 | server.py:116 | fit progress: (22, 19.74306869506836, {'test_loss': 19.74306869506836, 'test_accuracy': 0.02}, 2417.344354500001)\n",
      "DEBUG flwr 2023-04-11 23:38:09,772 | server.py:165 | evaluate_round 22: strategy sampled 2 clients (out of 5)\n",
      "DEBUG flwr 2023-04-11 23:38:15,814 | server.py:179 | evaluate_round 22 received 2 results and 0 failures\n",
      "DEBUG flwr 2023-04-11 23:38:15,814 | server.py:215 | fit_round 23: strategy sampled 2 clients (out of 5)\n"
     ]
    },
    {
     "output_type": "stream",
     "name": "stdout",
     "text": [
      "\t {'val_loss': 3.777857542037964, 'val_accuracy': 0.05}\n"
     ]
    },
    {
     "output_type": "stream",
     "name": "stderr",
     "text": [
      "DEBUG flwr 2023-04-11 23:39:49,477 | server.py:229 | fit_round 23 received 2 results and 0 failures\n"
     ]
    },
    {
     "output_type": "stream",
     "name": "stdout",
     "text": [
      "\t {'train_loss': 3.2351760864257812, 'train_accuracy': 0.06666666666666667}\n"
     ]
    },
    {
     "output_type": "stream",
     "name": "stderr",
     "text": [
      "INFO flwr 2023-04-11 23:39:59,210 | server.py:116 | fit progress: (23, 19.994741439819336, {'test_loss': 19.994741439819336, 'test_accuracy': 0.0}, 2526.7832892999995)\n",
      "DEBUG flwr 2023-04-11 23:39:59,210 | server.py:165 | evaluate_round 23: strategy sampled 2 clients (out of 5)\n",
      "DEBUG flwr 2023-04-11 23:40:05,429 | server.py:179 | evaluate_round 23 received 2 results and 0 failures\n",
      "DEBUG flwr 2023-04-11 23:40:05,430 | server.py:215 | fit_round 24: strategy sampled 2 clients (out of 5)\n"
     ]
    },
    {
     "output_type": "stream",
     "name": "stdout",
     "text": [
      "\t {'val_loss': 4.686790227890015, 'val_accuracy': 0.05}\n"
     ]
    },
    {
     "output_type": "stream",
     "name": "stderr",
     "text": [
      "DEBUG flwr 2023-04-11 23:41:39,639 | server.py:229 | fit_round 24 received 2 results and 0 failures\n"
     ]
    },
    {
     "output_type": "stream",
     "name": "stdout",
     "text": [
      "\t {'train_loss': 3.1686317920684814, 'train_accuracy': 0.08888888888888889}\n"
     ]
    },
    {
     "output_type": "stream",
     "name": "stderr",
     "text": [
      "INFO flwr 2023-04-11 23:41:49,421 | server.py:116 | fit progress: (24, 19.21190643310547, {'test_loss': 19.21190643310547, 'test_accuracy': 0.03}, 2636.9942348000004)\n",
      "DEBUG flwr 2023-04-11 23:41:49,421 | server.py:165 | evaluate_round 24: strategy sampled 2 clients (out of 5)\n",
      "DEBUG flwr 2023-04-11 23:41:55,446 | server.py:179 | evaluate_round 24 received 2 results and 0 failures\n",
      "DEBUG flwr 2023-04-11 23:41:55,448 | server.py:215 | fit_round 25: strategy sampled 2 clients (out of 5)\n"
     ]
    },
    {
     "output_type": "stream",
     "name": "stdout",
     "text": [
      "\t {'val_loss': 4.715813398361206, 'val_accuracy': 0.1}\n"
     ]
    },
    {
     "output_type": "stream",
     "name": "stderr",
     "text": [
      "DEBUG flwr 2023-04-11 23:43:29,026 | server.py:229 | fit_round 25 received 2 results and 0 failures\n"
     ]
    },
    {
     "output_type": "stream",
     "name": "stdout",
     "text": [
      "\t {'train_loss': 2.837844133377075, 'train_accuracy': 0.14444444444444446}\n"
     ]
    },
    {
     "output_type": "stream",
     "name": "stderr",
     "text": [
      "INFO flwr 2023-04-11 23:43:38,852 | server.py:116 | fit progress: (25, 19.538171768188477, {'test_loss': 19.538171768188477, 'test_accuracy': 0.02}, 2746.425110100001)\n",
      "DEBUG flwr 2023-04-11 23:43:38,852 | server.py:165 | evaluate_round 25: strategy sampled 2 clients (out of 5)\n",
      "DEBUG flwr 2023-04-11 23:43:44,954 | server.py:179 | evaluate_round 25 received 2 results and 0 failures\n",
      "DEBUG flwr 2023-04-11 23:43:44,954 | server.py:215 | fit_round 26: strategy sampled 2 clients (out of 5)\n"
     ]
    },
    {
     "output_type": "stream",
     "name": "stdout",
     "text": [
      "\t {'val_loss': 5.889180898666382, 'val_accuracy': 0.0}\n"
     ]
    },
    {
     "output_type": "stream",
     "name": "stderr",
     "text": [
      "DEBUG flwr 2023-04-11 23:45:18,685 | server.py:229 | fit_round 26 received 2 results and 0 failures\n"
     ]
    },
    {
     "output_type": "stream",
     "name": "stdout",
     "text": [
      "\t {'train_loss': 3.47299325466156, 'train_accuracy': 0.08333333333333333}\n"
     ]
    },
    {
     "output_type": "stream",
     "name": "stderr",
     "text": [
      "INFO flwr 2023-04-11 23:45:28,513 | server.py:116 | fit progress: (26, 21.637123107910156, {'test_loss': 21.637123107910156, 'test_accuracy': 0.01}, 2856.0868644)\n",
      "DEBUG flwr 2023-04-11 23:45:28,514 | server.py:165 | evaluate_round 26: strategy sampled 2 clients (out of 5)\n",
      "DEBUG flwr 2023-04-11 23:45:34,358 | server.py:179 | evaluate_round 26 received 2 results and 0 failures\n",
      "DEBUG flwr 2023-04-11 23:45:34,358 | server.py:215 | fit_round 27: strategy sampled 2 clients (out of 5)\n"
     ]
    },
    {
     "output_type": "stream",
     "name": "stdout",
     "text": [
      "\t {'val_loss': 4.978114128112793, 'val_accuracy': 0.0}\n"
     ]
    },
    {
     "output_type": "stream",
     "name": "stderr",
     "text": [
      "DEBUG flwr 2023-04-11 23:47:08,300 | server.py:229 | fit_round 27 received 2 results and 0 failures\n"
     ]
    },
    {
     "output_type": "stream",
     "name": "stdout",
     "text": [
      "\t {'train_loss': 3.783474326133728, 'train_accuracy': 0.12777777777777777}\n"
     ]
    },
    {
     "output_type": "stream",
     "name": "stderr",
     "text": [
      "INFO flwr 2023-04-11 23:47:18,133 | server.py:116 | fit progress: (27, 19.13998794555664, {'test_loss': 19.13998794555664, 'test_accuracy': 0.05}, 2965.7065095)\n",
      "DEBUG flwr 2023-04-11 23:47:18,134 | server.py:165 | evaluate_round 27: strategy sampled 2 clients (out of 5)\n",
      "DEBUG flwr 2023-04-11 23:47:26,865 | server.py:179 | evaluate_round 27 received 2 results and 0 failures\n",
      "DEBUG flwr 2023-04-11 23:47:26,865 | server.py:215 | fit_round 28: strategy sampled 2 clients (out of 5)\n"
     ]
    },
    {
     "output_type": "stream",
     "name": "stdout",
     "text": [
      "\t {'val_loss': 3.8637229204177856, 'val_accuracy': 0.0}\n"
     ]
    },
    {
     "output_type": "stream",
     "name": "stderr",
     "text": [
      "DEBUG flwr 2023-04-11 23:49:00,758 | server.py:229 | fit_round 28 received 2 results and 0 failures\n"
     ]
    },
    {
     "output_type": "stream",
     "name": "stdout",
     "text": [
      "\t {'train_loss': 3.566560745239258, 'train_accuracy': 0.14444444444444446}\n"
     ]
    },
    {
     "output_type": "stream",
     "name": "stderr",
     "text": [
      "INFO flwr 2023-04-11 23:49:10,581 | server.py:116 | fit progress: (28, 22.86831283569336, {'test_loss': 22.86831283569336, 'test_accuracy': 0.0}, 3078.1542179999997)\n",
      "DEBUG flwr 2023-04-11 23:49:10,582 | server.py:165 | evaluate_round 28: strategy sampled 2 clients (out of 5)\n",
      "DEBUG flwr 2023-04-11 23:49:16,715 | server.py:179 | evaluate_round 28 received 2 results and 0 failures\n",
      "DEBUG flwr 2023-04-11 23:49:16,716 | server.py:215 | fit_round 29: strategy sampled 2 clients (out of 5)\n"
     ]
    },
    {
     "output_type": "stream",
     "name": "stdout",
     "text": [
      "\t {'val_loss': 5.277647256851196, 'val_accuracy': 0.0}\n"
     ]
    },
    {
     "output_type": "stream",
     "name": "stderr",
     "text": [
      "DEBUG flwr 2023-04-11 23:50:50,175 | server.py:229 | fit_round 29 received 2 results and 0 failures\n"
     ]
    },
    {
     "output_type": "stream",
     "name": "stdout",
     "text": [
      "\t {'train_loss': 3.3125319480895996, 'train_accuracy': 0.11666666666666665}\n"
     ]
    },
    {
     "output_type": "stream",
     "name": "stderr",
     "text": [
      "INFO flwr 2023-04-11 23:51:00,025 | server.py:116 | fit progress: (29, 19.779142379760742, {'test_loss': 19.779142379760742, 'test_accuracy': 0.02}, 3187.5986101)\n",
      "DEBUG flwr 2023-04-11 23:51:00,026 | server.py:165 | evaluate_round 29: strategy sampled 2 clients (out of 5)\n",
      "DEBUG flwr 2023-04-11 23:51:05,835 | server.py:179 | evaluate_round 29 received 2 results and 0 failures\n",
      "DEBUG flwr 2023-04-11 23:51:05,835 | server.py:215 | fit_round 30: strategy sampled 2 clients (out of 5)\n"
     ]
    },
    {
     "output_type": "stream",
     "name": "stdout",
     "text": [
      "\t {'val_loss': 3.9182344675064087, 'val_accuracy': 0.05}\n"
     ]
    },
    {
     "output_type": "stream",
     "name": "stderr",
     "text": [
      "DEBUG flwr 2023-04-11 23:52:39,670 | server.py:229 | fit_round 30 received 2 results and 0 failures\n"
     ]
    },
    {
     "output_type": "stream",
     "name": "stdout",
     "text": [
      "\t {'train_loss': 3.888831377029419, 'train_accuracy': 0.18888888888888888}\n"
     ]
    },
    {
     "output_type": "stream",
     "name": "stderr",
     "text": [
      "INFO flwr 2023-04-11 23:52:49,615 | server.py:116 | fit progress: (30, 19.944381713867188, {'test_loss': 19.944381713867188, 'test_accuracy': 0.02}, 3297.1883479999997)\n",
      "DEBUG flwr 2023-04-11 23:52:49,616 | server.py:165 | evaluate_round 30: strategy sampled 2 clients (out of 5)\n",
      "DEBUG flwr 2023-04-11 23:52:55,339 | server.py:179 | evaluate_round 30 received 2 results and 0 failures\n",
      "DEBUG flwr 2023-04-11 23:52:55,340 | server.py:215 | fit_round 31: strategy sampled 2 clients (out of 5)\n"
     ]
    },
    {
     "output_type": "stream",
     "name": "stdout",
     "text": [
      "\t {'val_loss': 4.743523597717285, 'val_accuracy': 0.05}\n"
     ]
    },
    {
     "output_type": "stream",
     "name": "stderr",
     "text": [
      "DEBUG flwr 2023-04-11 23:54:29,229 | server.py:229 | fit_round 31 received 2 results and 0 failures\n"
     ]
    },
    {
     "output_type": "stream",
     "name": "stdout",
     "text": [
      "\t {'train_loss': 3.7805899381637573, 'train_accuracy': 0.1722222222222222}\n"
     ]
    },
    {
     "output_type": "stream",
     "name": "stderr",
     "text": [
      "INFO flwr 2023-04-11 23:54:39,056 | server.py:116 | fit progress: (31, 20.251399993896484, {'test_loss': 20.251399993896484, 'test_accuracy': 0.02}, 3406.6290668)\n",
      "DEBUG flwr 2023-04-11 23:54:39,056 | server.py:165 | evaluate_round 31: strategy sampled 2 clients (out of 5)\n",
      "DEBUG flwr 2023-04-11 23:54:45,076 | server.py:179 | evaluate_round 31 received 2 results and 0 failures\n",
      "DEBUG flwr 2023-04-11 23:54:45,077 | server.py:215 | fit_round 32: strategy sampled 2 clients (out of 5)\n"
     ]
    },
    {
     "output_type": "stream",
     "name": "stdout",
     "text": [
      "\t {'val_loss': 4.285237073898315, 'val_accuracy': 0.05}\n"
     ]
    },
    {
     "output_type": "stream",
     "name": "stderr",
     "text": [
      "DEBUG flwr 2023-04-11 23:56:18,541 | server.py:229 | fit_round 32 received 2 results and 0 failures\n"
     ]
    },
    {
     "output_type": "stream",
     "name": "stdout",
     "text": [
      "\t {'train_loss': 3.160043716430664, 'train_accuracy': 0.10555555555555556}\n"
     ]
    },
    {
     "output_type": "stream",
     "name": "stderr",
     "text": [
      "INFO flwr 2023-04-11 23:56:28,360 | server.py:116 | fit progress: (32, 19.56172752380371, {'test_loss': 19.56172752380371, 'test_accuracy': 0.02}, 3515.9337950999998)\n",
      "DEBUG flwr 2023-04-11 23:56:28,361 | server.py:165 | evaluate_round 32: strategy sampled 2 clients (out of 5)\n",
      "DEBUG flwr 2023-04-11 23:56:34,164 | server.py:179 | evaluate_round 32 received 2 results and 0 failures\n",
      "DEBUG flwr 2023-04-11 23:56:34,165 | server.py:215 | fit_round 33: strategy sampled 2 clients (out of 5)\n"
     ]
    },
    {
     "output_type": "stream",
     "name": "stdout",
     "text": [
      "\t {'val_loss': 3.995316982269287, 'val_accuracy': 0.05}\n"
     ]
    },
    {
     "output_type": "stream",
     "name": "stderr",
     "text": [
      "DEBUG flwr 2023-04-11 23:58:08,086 | server.py:229 | fit_round 33 received 2 results and 0 failures\n"
     ]
    },
    {
     "output_type": "stream",
     "name": "stdout",
     "text": [
      "\t {'train_loss': 3.1217002868652344, 'train_accuracy': 0.11666666666666668}\n"
     ]
    },
    {
     "output_type": "stream",
     "name": "stderr",
     "text": [
      "INFO flwr 2023-04-11 23:58:17,981 | server.py:116 | fit progress: (33, 21.759441375732422, {'test_loss': 21.759441375732422, 'test_accuracy': 0.0}, 3625.5540297999996)\n",
      "DEBUG flwr 2023-04-11 23:58:17,981 | server.py:165 | evaluate_round 33: strategy sampled 2 clients (out of 5)\n",
      "DEBUG flwr 2023-04-11 23:58:24,039 | server.py:179 | evaluate_round 33 received 2 results and 0 failures\n",
      "DEBUG flwr 2023-04-11 23:58:24,040 | server.py:215 | fit_round 34: strategy sampled 2 clients (out of 5)\n"
     ]
    },
    {
     "output_type": "stream",
     "name": "stdout",
     "text": [
      "\t {'val_loss': 4.348482251167297, 'val_accuracy': 0.1}\n"
     ]
    },
    {
     "output_type": "stream",
     "name": "stderr",
     "text": [
      "DEBUG flwr 2023-04-11 23:59:57,955 | server.py:229 | fit_round 34 received 2 results and 0 failures\n"
     ]
    },
    {
     "output_type": "stream",
     "name": "stdout",
     "text": [
      "\t {'train_loss': 3.8339040279388428, 'train_accuracy': 0.08888888888888889}\n"
     ]
    },
    {
     "output_type": "stream",
     "name": "stderr",
     "text": [
      "INFO flwr 2023-04-12 00:00:07,749 | server.py:116 | fit progress: (34, 18.158287048339844, {'test_loss': 18.158287048339844, 'test_accuracy': 0.05}, 3735.3222898999993)\n",
      "DEBUG flwr 2023-04-12 00:00:07,749 | server.py:165 | evaluate_round 34: strategy sampled 2 clients (out of 5)\n",
      "DEBUG flwr 2023-04-12 00:00:13,849 | server.py:179 | evaluate_round 34 received 2 results and 0 failures\n",
      "DEBUG flwr 2023-04-12 00:00:13,850 | server.py:215 | fit_round 35: strategy sampled 2 clients (out of 5)\n"
     ]
    },
    {
     "output_type": "stream",
     "name": "stdout",
     "text": [
      "\t {'val_loss': 4.365451812744141, 'val_accuracy': 0.0}\n"
     ]
    },
    {
     "output_type": "stream",
     "name": "stderr",
     "text": [
      "DEBUG flwr 2023-04-12 00:01:47,134 | server.py:229 | fit_round 35 received 2 results and 0 failures\n"
     ]
    },
    {
     "output_type": "stream",
     "name": "stdout",
     "text": [
      "\t {'train_loss': 2.948303699493408, 'train_accuracy': 0.18888888888888888}\n"
     ]
    },
    {
     "output_type": "stream",
     "name": "stderr",
     "text": [
      "INFO flwr 2023-04-12 00:01:56,994 | server.py:116 | fit progress: (35, 19.156728744506836, {'test_loss': 19.156728744506836, 'test_accuracy': 0.04}, 3844.567374)\n",
      "DEBUG flwr 2023-04-12 00:01:56,995 | server.py:165 | evaluate_round 35: strategy sampled 2 clients (out of 5)\n",
      "DEBUG flwr 2023-04-12 00:02:03,122 | server.py:179 | evaluate_round 35 received 2 results and 0 failures\n",
      "DEBUG flwr 2023-04-12 00:02:03,122 | server.py:215 | fit_round 36: strategy sampled 2 clients (out of 5)\n"
     ]
    },
    {
     "output_type": "stream",
     "name": "stdout",
     "text": [
      "\t {'val_loss': 4.73674201965332, 'val_accuracy': 0.0}\n"
     ]
    },
    {
     "output_type": "stream",
     "name": "stderr",
     "text": [
      "DEBUG flwr 2023-04-12 00:03:36,458 | server.py:229 | fit_round 36 received 2 results and 0 failures\n"
     ]
    },
    {
     "output_type": "stream",
     "name": "stdout",
     "text": [
      "\t {'train_loss': 2.9659485816955566, 'train_accuracy': 0.11111111111111112}\n"
     ]
    },
    {
     "output_type": "stream",
     "name": "stderr",
     "text": [
      "INFO flwr 2023-04-12 00:03:46,290 | server.py:116 | fit progress: (36, 19.38203239440918, {'test_loss': 19.38203239440918, 'test_accuracy': 0.02}, 3953.8631446)\n",
      "DEBUG flwr 2023-04-12 00:03:46,290 | server.py:165 | evaluate_round 36: strategy sampled 2 clients (out of 5)\n",
      "DEBUG flwr 2023-04-12 00:03:52,446 | server.py:179 | evaluate_round 36 received 2 results and 0 failures\n",
      "DEBUG flwr 2023-04-12 00:03:52,447 | server.py:215 | fit_round 37: strategy sampled 2 clients (out of 5)\n"
     ]
    },
    {
     "output_type": "stream",
     "name": "stdout",
     "text": [
      "\t {'val_loss': 4.687808513641357, 'val_accuracy': 0.05}\n"
     ]
    },
    {
     "output_type": "stream",
     "name": "stderr",
     "text": [
      "DEBUG flwr 2023-04-12 00:05:26,241 | server.py:229 | fit_round 37 received 2 results and 0 failures\n"
     ]
    },
    {
     "output_type": "stream",
     "name": "stdout",
     "text": [
      "\t {'train_loss': 2.8519816398620605, 'train_accuracy': 0.2555555555555556}\n"
     ]
    },
    {
     "output_type": "stream",
     "name": "stderr",
     "text": [
      "INFO flwr 2023-04-12 00:05:36,086 | server.py:116 | fit progress: (37, 20.91798210144043, {'test_loss': 20.91798210144043, 'test_accuracy': 0.05}, 4063.6595443000006)\n",
      "DEBUG flwr 2023-04-12 00:05:36,087 | server.py:165 | evaluate_round 37: strategy sampled 2 clients (out of 5)\n",
      "DEBUG flwr 2023-04-12 00:05:42,340 | server.py:179 | evaluate_round 37 received 2 results and 0 failures\n",
      "DEBUG flwr 2023-04-12 00:05:42,341 | server.py:215 | fit_round 38: strategy sampled 2 clients (out of 5)\n"
     ]
    },
    {
     "output_type": "stream",
     "name": "stdout",
     "text": [
      "\t {'val_loss': 6.235825777053833, 'val_accuracy': 0.0}\n"
     ]
    },
    {
     "output_type": "stream",
     "name": "stderr",
     "text": [
      "DEBUG flwr 2023-04-12 00:07:16,038 | server.py:229 | fit_round 38 received 2 results and 0 failures\n"
     ]
    },
    {
     "output_type": "stream",
     "name": "stdout",
     "text": [
      "\t {'train_loss': 2.8732208013534546, 'train_accuracy': 0.23333333333333336}\n"
     ]
    },
    {
     "output_type": "stream",
     "name": "stderr",
     "text": [
      "INFO flwr 2023-04-12 00:07:25,821 | server.py:116 | fit progress: (38, 21.934282302856445, {'test_loss': 21.934282302856445, 'test_accuracy': 0.01}, 4173.3946252000005)\n",
      "DEBUG flwr 2023-04-12 00:07:25,822 | server.py:165 | evaluate_round 38: strategy sampled 2 clients (out of 5)\n",
      "DEBUG flwr 2023-04-12 00:07:31,955 | server.py:179 | evaluate_round 38 received 2 results and 0 failures\n",
      "DEBUG flwr 2023-04-12 00:07:31,956 | server.py:215 | fit_round 39: strategy sampled 2 clients (out of 5)\n"
     ]
    },
    {
     "output_type": "stream",
     "name": "stdout",
     "text": [
      "\t {'val_loss': 3.8559600114822388, 'val_accuracy': 0.05}\n"
     ]
    },
    {
     "output_type": "stream",
     "name": "stderr",
     "text": [
      "DEBUG flwr 2023-04-12 00:09:05,617 | server.py:229 | fit_round 39 received 2 results and 0 failures\n"
     ]
    },
    {
     "output_type": "stream",
     "name": "stdout",
     "text": [
      "\t {'train_loss': 3.80688738822937, 'train_accuracy': 0.12222222222222223}\n"
     ]
    },
    {
     "output_type": "stream",
     "name": "stderr",
     "text": [
      "INFO flwr 2023-04-12 00:09:15,444 | server.py:116 | fit progress: (39, 22.63823699951172, {'test_loss': 22.63823699951172, 'test_accuracy': 0.01}, 4283.017508000001)\n",
      "DEBUG flwr 2023-04-12 00:09:15,445 | server.py:165 | evaluate_round 39: strategy sampled 2 clients (out of 5)\n",
      "DEBUG flwr 2023-04-12 00:09:21,694 | server.py:179 | evaluate_round 39 received 2 results and 0 failures\n",
      "DEBUG flwr 2023-04-12 00:09:21,695 | server.py:215 | fit_round 40: strategy sampled 2 clients (out of 5)\n"
     ]
    },
    {
     "output_type": "stream",
     "name": "stdout",
     "text": [
      "\t {'val_loss': 4.823103189468384, 'val_accuracy': 0.0}\n"
     ]
    },
    {
     "output_type": "stream",
     "name": "stderr",
     "text": [
      "DEBUG flwr 2023-04-12 00:10:56,388 | server.py:229 | fit_round 40 received 2 results and 0 failures\n"
     ]
    },
    {
     "output_type": "stream",
     "name": "stdout",
     "text": [
      "\t {'train_loss': 3.505045175552368, 'train_accuracy': 0.18333333333333335}\n"
     ]
    },
    {
     "output_type": "stream",
     "name": "stderr",
     "text": [
      "INFO flwr 2023-04-12 00:11:06,364 | server.py:116 | fit progress: (40, 19.618974685668945, {'test_loss': 19.618974685668945, 'test_accuracy': 0.02}, 4393.937801100001)\n",
      "DEBUG flwr 2023-04-12 00:11:06,365 | server.py:165 | evaluate_round 40: strategy sampled 2 clients (out of 5)\n",
      "DEBUG flwr 2023-04-12 00:11:12,548 | server.py:179 | evaluate_round 40 received 2 results and 0 failures\n",
      "DEBUG flwr 2023-04-12 00:11:12,549 | server.py:215 | fit_round 41: strategy sampled 2 clients (out of 5)\n"
     ]
    },
    {
     "output_type": "stream",
     "name": "stdout",
     "text": [
      "\t {'val_loss': 4.242953777313232, 'val_accuracy': 0.0}\n"
     ]
    },
    {
     "output_type": "stream",
     "name": "stderr",
     "text": [
      "DEBUG flwr 2023-04-12 00:12:47,017 | server.py:229 | fit_round 41 received 2 results and 0 failures\n"
     ]
    },
    {
     "output_type": "stream",
     "name": "stdout",
     "text": [
      "\t {'train_loss': 3.626595973968506, 'train_accuracy': 0.2222222222222222}\n"
     ]
    },
    {
     "output_type": "stream",
     "name": "stderr",
     "text": [
      "INFO flwr 2023-04-12 00:12:56,822 | server.py:116 | fit progress: (41, 24.14379119873047, {'test_loss': 24.14379119873047, 'test_accuracy': 0.0}, 4504.395756100001)\n",
      "DEBUG flwr 2023-04-12 00:12:56,823 | server.py:165 | evaluate_round 41: strategy sampled 2 clients (out of 5)\n",
      "DEBUG flwr 2023-04-12 00:13:02,919 | server.py:179 | evaluate_round 41 received 2 results and 0 failures\n",
      "DEBUG flwr 2023-04-12 00:13:02,920 | server.py:215 | fit_round 42: strategy sampled 2 clients (out of 5)\n"
     ]
    },
    {
     "output_type": "stream",
     "name": "stdout",
     "text": [
      "\t {'val_loss': 4.750668048858643, 'val_accuracy': 0.05}\n"
     ]
    },
    {
     "output_type": "stream",
     "name": "stderr",
     "text": [
      "DEBUG flwr 2023-04-12 00:14:36,488 | server.py:229 | fit_round 42 received 2 results and 0 failures\n"
     ]
    },
    {
     "output_type": "stream",
     "name": "stdout",
     "text": [
      "\t {'train_loss': 3.9001803398132324, 'train_accuracy': 0.3222222222222222}\n"
     ]
    },
    {
     "output_type": "stream",
     "name": "stderr",
     "text": [
      "INFO flwr 2023-04-12 00:14:46,259 | server.py:116 | fit progress: (42, 21.352460861206055, {'test_loss': 21.352460861206055, 'test_accuracy': 0.0}, 4613.8322028)\n",
      "DEBUG flwr 2023-04-12 00:14:46,259 | server.py:165 | evaluate_round 42: strategy sampled 2 clients (out of 5)\n",
      "DEBUG flwr 2023-04-12 00:14:52,409 | server.py:179 | evaluate_round 42 received 2 results and 0 failures\n",
      "DEBUG flwr 2023-04-12 00:14:52,410 | server.py:215 | fit_round 43: strategy sampled 2 clients (out of 5)\n"
     ]
    },
    {
     "output_type": "stream",
     "name": "stdout",
     "text": [
      "\t {'val_loss': 5.204432964324951, 'val_accuracy': 0.0}\n"
     ]
    },
    {
     "output_type": "stream",
     "name": "stderr",
     "text": [
      "DEBUG flwr 2023-04-12 00:16:26,091 | server.py:229 | fit_round 43 received 2 results and 0 failures\n"
     ]
    },
    {
     "output_type": "stream",
     "name": "stdout",
     "text": [
      "\t {'train_loss': 3.2658649682998657, 'train_accuracy': 0.4222222222222222}\n"
     ]
    },
    {
     "output_type": "stream",
     "name": "stderr",
     "text": [
      "INFO flwr 2023-04-12 00:16:35,950 | server.py:116 | fit progress: (43, 23.56950569152832, {'test_loss': 23.56950569152832, 'test_accuracy': 0.04}, 4723.5238549999995)\n",
      "DEBUG flwr 2023-04-12 00:16:35,951 | server.py:165 | evaluate_round 43: strategy sampled 2 clients (out of 5)\n",
      "DEBUG flwr 2023-04-12 00:16:42,061 | server.py:179 | evaluate_round 43 received 2 results and 0 failures\n",
      "DEBUG flwr 2023-04-12 00:16:42,062 | server.py:215 | fit_round 44: strategy sampled 2 clients (out of 5)\n"
     ]
    },
    {
     "output_type": "stream",
     "name": "stdout",
     "text": [
      "\t {'val_loss': 4.9270546436309814, 'val_accuracy': 0.05}\n"
     ]
    },
    {
     "output_type": "stream",
     "name": "stderr",
     "text": [
      "DEBUG flwr 2023-04-12 00:18:16,056 | server.py:229 | fit_round 44 received 2 results and 0 failures\n"
     ]
    },
    {
     "output_type": "stream",
     "name": "stdout",
     "text": [
      "\t {'train_loss': 3.244174599647522, 'train_accuracy': 0.15}\n"
     ]
    },
    {
     "output_type": "stream",
     "name": "stderr",
     "text": [
      "INFO flwr 2023-04-12 00:18:25,896 | server.py:116 | fit progress: (44, 21.13321304321289, {'test_loss': 21.13321304321289, 'test_accuracy': 0.0}, 4833.4691822)\n",
      "DEBUG flwr 2023-04-12 00:18:25,896 | server.py:165 | evaluate_round 44: strategy sampled 2 clients (out of 5)\n",
      "DEBUG flwr 2023-04-12 00:18:31,841 | server.py:179 | evaluate_round 44 received 2 results and 0 failures\n",
      "DEBUG flwr 2023-04-12 00:18:31,842 | server.py:215 | fit_round 45: strategy sampled 2 clients (out of 5)\n"
     ]
    },
    {
     "output_type": "stream",
     "name": "stdout",
     "text": [
      "\t {'val_loss': 4.772263526916504, 'val_accuracy': 0.0}\n"
     ]
    },
    {
     "output_type": "stream",
     "name": "stderr",
     "text": [
      "DEBUG flwr 2023-04-12 00:20:05,351 | server.py:229 | fit_round 45 received 2 results and 0 failures\n"
     ]
    },
    {
     "output_type": "stream",
     "name": "stdout",
     "text": [
      "\t {'train_loss': 2.926560640335083, 'train_accuracy': 0.27777777777777773}\n"
     ]
    },
    {
     "output_type": "stream",
     "name": "stderr",
     "text": [
      "INFO flwr 2023-04-12 00:20:15,140 | server.py:116 | fit progress: (45, 23.489913940429688, {'test_loss': 23.489913940429688, 'test_accuracy': 0.01}, 4942.7134262)\n",
      "DEBUG flwr 2023-04-12 00:20:15,141 | server.py:165 | evaluate_round 45: strategy sampled 2 clients (out of 5)\n",
      "DEBUG flwr 2023-04-12 00:20:21,073 | server.py:179 | evaluate_round 45 received 2 results and 0 failures\n",
      "DEBUG flwr 2023-04-12 00:20:21,073 | server.py:215 | fit_round 46: strategy sampled 2 clients (out of 5)\n"
     ]
    },
    {
     "output_type": "stream",
     "name": "stdout",
     "text": [
      "\t {'val_loss': 4.454347848892212, 'val_accuracy': 0.05}\n"
     ]
    },
    {
     "output_type": "stream",
     "name": "stderr",
     "text": [
      "DEBUG flwr 2023-04-12 00:21:54,296 | server.py:229 | fit_round 46 received 2 results and 0 failures\n"
     ]
    },
    {
     "output_type": "stream",
     "name": "stdout",
     "text": [
      "\t {'train_loss': 2.921570658683777, 'train_accuracy': 0.18333333333333335}\n"
     ]
    },
    {
     "output_type": "stream",
     "name": "stderr",
     "text": [
      "INFO flwr 2023-04-12 00:22:04,185 | server.py:116 | fit progress: (46, 20.146183013916016, {'test_loss': 20.146183013916016, 'test_accuracy': 0.09}, 5051.7585573)\n",
      "DEBUG flwr 2023-04-12 00:22:04,186 | server.py:165 | evaluate_round 46: strategy sampled 2 clients (out of 5)\n",
      "DEBUG flwr 2023-04-12 00:22:12,490 | server.py:179 | evaluate_round 46 received 2 results and 0 failures\n",
      "DEBUG flwr 2023-04-12 00:22:12,491 | server.py:215 | fit_round 47: strategy sampled 2 clients (out of 5)\n"
     ]
    },
    {
     "output_type": "stream",
     "name": "stdout",
     "text": [
      "\t {'val_loss': 5.035041570663452, 'val_accuracy': 0.0}\n"
     ]
    },
    {
     "output_type": "stream",
     "name": "stderr",
     "text": [
      "DEBUG flwr 2023-04-12 00:23:46,393 | server.py:229 | fit_round 47 received 2 results and 0 failures\n"
     ]
    },
    {
     "output_type": "stream",
     "name": "stdout",
     "text": [
      "\t {'train_loss': 2.5258713960647583, 'train_accuracy': 0.35555555555555557}\n"
     ]
    },
    {
     "output_type": "stream",
     "name": "stderr",
     "text": [
      "INFO flwr 2023-04-12 00:23:56,161 | server.py:116 | fit progress: (47, 21.94605255126953, {'test_loss': 21.94605255126953, 'test_accuracy': 0.0}, 5163.7347663)\n",
      "DEBUG flwr 2023-04-12 00:23:56,162 | server.py:165 | evaluate_round 47: strategy sampled 2 clients (out of 5)\n",
      "DEBUG flwr 2023-04-12 00:24:02,577 | server.py:179 | evaluate_round 47 received 2 results and 0 failures\n",
      "DEBUG flwr 2023-04-12 00:24:02,578 | server.py:215 | fit_round 48: strategy sampled 2 clients (out of 5)\n"
     ]
    },
    {
     "output_type": "stream",
     "name": "stdout",
     "text": [
      "\t {'val_loss': 4.559219121932983, 'val_accuracy': 0.05}\n"
     ]
    },
    {
     "output_type": "stream",
     "name": "stderr",
     "text": [
      "DEBUG flwr 2023-04-12 00:25:36,113 | server.py:229 | fit_round 48 received 2 results and 0 failures\n"
     ]
    },
    {
     "output_type": "stream",
     "name": "stdout",
     "text": [
      "\t {'train_loss': 2.5276997089385986, 'train_accuracy': 0.37222222222222223}\n"
     ]
    },
    {
     "output_type": "stream",
     "name": "stderr",
     "text": [
      "INFO flwr 2023-04-12 00:25:45,937 | server.py:116 | fit progress: (48, 22.811193466186523, {'test_loss': 22.811193466186523, 'test_accuracy': 0.03}, 5273.5101789)\n",
      "DEBUG flwr 2023-04-12 00:25:45,937 | server.py:165 | evaluate_round 48: strategy sampled 2 clients (out of 5)\n",
      "DEBUG flwr 2023-04-12 00:25:52,124 | server.py:179 | evaluate_round 48 received 2 results and 0 failures\n",
      "DEBUG flwr 2023-04-12 00:25:52,124 | server.py:215 | fit_round 49: strategy sampled 2 clients (out of 5)\n"
     ]
    },
    {
     "output_type": "stream",
     "name": "stdout",
     "text": [
      "\t {'val_loss': 4.393167972564697, 'val_accuracy': 0.0}\n"
     ]
    },
    {
     "output_type": "stream",
     "name": "stderr",
     "text": [
      "DEBUG flwr 2023-04-12 00:27:25,780 | server.py:229 | fit_round 49 received 2 results and 0 failures\n"
     ]
    },
    {
     "output_type": "stream",
     "name": "stdout",
     "text": [
      "\t {'train_loss': 2.4030743837356567, 'train_accuracy': 0.4333333333333333}\n"
     ]
    },
    {
     "output_type": "stream",
     "name": "stderr",
     "text": [
      "INFO flwr 2023-04-12 00:27:35,609 | server.py:116 | fit progress: (49, 21.742877960205078, {'test_loss': 21.742877960205078, 'test_accuracy': 0.07}, 5383.1827622)\n",
      "DEBUG flwr 2023-04-12 00:27:35,610 | server.py:165 | evaluate_round 49: strategy sampled 2 clients (out of 5)\n",
      "DEBUG flwr 2023-04-12 00:27:41,822 | server.py:179 | evaluate_round 49 received 2 results and 0 failures\n",
      "DEBUG flwr 2023-04-12 00:27:41,823 | server.py:215 | fit_round 50: strategy sampled 2 clients (out of 5)\n"
     ]
    },
    {
     "output_type": "stream",
     "name": "stdout",
     "text": [
      "\t {'val_loss': 4.8627707958221436, 'val_accuracy': 0.05}\n"
     ]
    },
    {
     "output_type": "stream",
     "name": "stderr",
     "text": [
      "DEBUG flwr 2023-04-12 00:29:16,125 | server.py:229 | fit_round 50 received 2 results and 0 failures\n"
     ]
    },
    {
     "output_type": "stream",
     "name": "stdout",
     "text": [
      "\t {'train_loss': 3.360025644302368, 'train_accuracy': 0.23888888888888885}\n"
     ]
    },
    {
     "output_type": "stream",
     "name": "stderr",
     "text": [
      "INFO flwr 2023-04-12 00:29:25,978 | server.py:116 | fit progress: (50, 24.89870834350586, {'test_loss': 24.89870834350586, 'test_accuracy': 0.01}, 5493.551583)\n",
      "DEBUG flwr 2023-04-12 00:29:25,980 | server.py:165 | evaluate_round 50: strategy sampled 2 clients (out of 5)\n",
      "DEBUG flwr 2023-04-12 00:29:32,111 | server.py:179 | evaluate_round 50 received 2 results and 0 failures\n",
      "INFO flwr 2023-04-12 00:29:32,111 | server.py:144 | FL finished in 5499.6844683\n",
      "INFO flwr 2023-04-12 00:29:32,138 | app.py:202 | app_fit: losses_distributed [(1, 4.745851516723633), (2, 4.653022766113281), (3, 3.9448227882385254), (4, 5.127021312713623), (5, 4.498711824417114), (6, 5.893053293228149), (7, 4.4938355684280396), (8, 4.4584513902664185), (9, 5.314489364624023), (10, 4.182586908340454), (11, 4.107126712799072), (12, 4.600738763809204), (13, 4.0139665603637695), (14, 4.980290651321411), (15, 4.589336156845093), (16, 4.733531951904297), (17, 4.679257392883301), (18, 4.887189626693726), (19, 5.258157730102539), (20, 5.057929039001465), (21, 4.915335178375244), (22, 3.777857542037964), (23, 4.686790227890015), (24, 4.715813398361206), (25, 5.889180898666382), (26, 4.978114128112793), (27, 3.8637229204177856), (28, 5.277647256851196), (29, 3.9182344675064087), (30, 4.743523597717285), (31, 4.285237073898315), (32, 3.995316982269287), (33, 4.348482251167297), (34, 4.365451812744141), (35, 4.73674201965332), (36, 4.687808513641357), (37, 6.235825777053833), (38, 3.8559600114822388), (39, 4.823103189468384), (40, 4.242953777313232), (41, 4.750668048858643), (42, 5.204432964324951), (43, 4.9270546436309814), (44, 4.772263526916504), (45, 4.454347848892212), (46, 5.035041570663452), (47, 4.559219121932983), (48, 4.393167972564697), (49, 4.8627707958221436), (50, 4.9045751094818115)]\n",
      "INFO flwr 2023-04-12 00:29:32,140 | app.py:203 | app_fit: metrics_distributed {'val_loss': [(1, 4.745851516723633), (2, 4.653022766113281), (3, 3.9448227882385254), (4, 5.127021312713623), (5, 4.498711824417114), (6, 5.893053293228149), (7, 4.4938355684280396), (8, 4.4584513902664185), (9, 5.314489364624023), (10, 4.182586908340454), (11, 4.107126712799072), (12, 4.600738763809204), (13, 4.0139665603637695), (14, 4.980290651321411), (15, 4.589336156845093), (16, 4.733531951904297), (17, 4.679257392883301), (18, 4.887189626693726), (19, 5.258157730102539), (20, 5.057929039001465), (21, 4.915335178375244), (22, 3.777857542037964), (23, 4.686790227890015), (24, 4.715813398361206), (25, 5.889180898666382), (26, 4.978114128112793), (27, 3.8637229204177856), (28, 5.277647256851196), (29, 3.9182344675064087), (30, 4.743523597717285), (31, 4.285237073898315), (32, 3.995316982269287), (33, 4.348482251167297), (34, 4.365451812744141), (35, 4.73674201965332), (36, 4.687808513641357), (37, 6.235825777053833), (38, 3.8559600114822388), (39, 4.823103189468384), (40, 4.242953777313232), (41, 4.750668048858643), (42, 5.204432964324951), (43, 4.9270546436309814), (44, 4.772263526916504), (45, 4.454347848892212), (46, 5.035041570663452), (47, 4.559219121932983), (48, 4.393167972564697), (49, 4.8627707958221436), (50, 4.9045751094818115)], 'val_accuracy': [(1, 0.0), (2, 0.0), (3, 0.05), (4, 0.05), (5, 0.1), (6, 0.0), (7, 0.0), (8, 0.0), (9, 0.0), (10, 0.0), (11, 0.05), (12, 0.0), (13, 0.0), (14, 0.0), (15, 0.0), (16, 0.0), (17, 0.1), (18, 0.0), (19, 0.0), (20, 0.0), (21, 0.0), (22, 0.05), (23, 0.05), (24, 0.1), (25, 0.0), (26, 0.0), (27, 0.0), (28, 0.0), (29, 0.05), (30, 0.05), (31, 0.05), (32, 0.05), (33, 0.1), (34, 0.0), (35, 0.0), (36, 0.05), (37, 0.0), (38, 0.05), (39, 0.0), (40, 0.0), (41, 0.05), (42, 0.0), (43, 0.05), (44, 0.0), (45, 0.05), (46, 0.0), (47, 0.05), (48, 0.0), (49, 0.05), (50, 0.05)]}\n",
      "INFO flwr 2023-04-12 00:29:32,140 | app.py:204 | app_fit: losses_centralized [(0, 18.121950149536133), (1, 16.249814987182617), (2, 17.93752098083496), (3, 21.944669723510742), (4, 18.89236831665039), (5, 18.090530395507812), (6, 18.8131103515625), (7, 22.573015213012695), (8, 19.76338768005371), (9, 22.13922882080078), (10, 19.296253204345703), (11, 19.745779037475586), (12, 19.515750885009766), (13, 19.586111068725586), (14, 20.236675262451172), (15, 19.78818130493164), (16, 23.755334854125977), (17, 23.497695922851562), (18, 20.68670654296875), (19, 18.99504280090332), (20, 19.756649017333984), (21, 22.279577255249023), (22, 19.74306869506836), (23, 19.994741439819336), (24, 19.21190643310547), (25, 19.538171768188477), (26, 21.637123107910156), (27, 19.13998794555664), (28, 22.86831283569336), (29, 19.779142379760742), (30, 19.944381713867188), (31, 20.251399993896484), (32, 19.56172752380371), (33, 21.759441375732422), (34, 18.158287048339844), (35, 19.156728744506836), (36, 19.38203239440918), (37, 20.91798210144043), (38, 21.934282302856445), (39, 22.63823699951172), (40, 19.618974685668945), (41, 24.14379119873047), (42, 21.352460861206055), (43, 23.56950569152832), (44, 21.13321304321289), (45, 23.489913940429688), (46, 20.146183013916016), (47, 21.94605255126953), (48, 22.811193466186523), (49, 21.742877960205078), (50, 24.89870834350586)]\n",
      "INFO flwr 2023-04-12 00:29:32,141 | app.py:205 | app_fit: metrics_centralized {'test_loss': [(0, 18.121950149536133), (1, 16.249814987182617), (2, 17.93752098083496), (3, 21.944669723510742), (4, 18.89236831665039), (5, 18.090530395507812), (6, 18.8131103515625), (7, 22.573015213012695), (8, 19.76338768005371), (9, 22.13922882080078), (10, 19.296253204345703), (11, 19.745779037475586), (12, 19.515750885009766), (13, 19.586111068725586), (14, 20.236675262451172), (15, 19.78818130493164), (16, 23.755334854125977), (17, 23.497695922851562), (18, 20.68670654296875), (19, 18.99504280090332), (20, 19.756649017333984), (21, 22.279577255249023), (22, 19.74306869506836), (23, 19.994741439819336), (24, 19.21190643310547), (25, 19.538171768188477), (26, 21.637123107910156), (27, 19.13998794555664), (28, 22.86831283569336), (29, 19.779142379760742), (30, 19.944381713867188), (31, 20.251399993896484), (32, 19.56172752380371), (33, 21.759441375732422), (34, 18.158287048339844), (35, 19.156728744506836), (36, 19.38203239440918), (37, 20.91798210144043), (38, 21.934282302856445), (39, 22.63823699951172), (40, 19.618974685668945), (41, 24.14379119873047), (42, 21.352460861206055), (43, 23.56950569152832), (44, 21.13321304321289), (45, 23.489913940429688), (46, 20.146183013916016), (47, 21.94605255126953), (48, 22.811193466186523), (49, 21.742877960205078), (50, 24.89870834350586)], 'test_accuracy': [(0, 0.03), (1, 0.15), (2, 0.02), (3, 0.01), (4, 0.04), (5, 0.03), (6, 0.06), (7, 0.0), (8, 0.09), (9, 0.0), (10, 0.04), (11, 0.0), (12, 0.04), (13, 0.0), (14, 0.01), (15, 0.0), (16, 0.0), (17, 0.01), (18, 0.0), (19, 0.01), (20, 0.07), (21, 0.0), (22, 0.02), (23, 0.0), (24, 0.03), (25, 0.02), (26, 0.01), (27, 0.05), (28, 0.0), (29, 0.02), (30, 0.02), (31, 0.02), (32, 0.02), (33, 0.0), (34, 0.05), (35, 0.04), (36, 0.02), (37, 0.05), (38, 0.01), (39, 0.01), (40, 0.02), (41, 0.0), (42, 0.0), (43, 0.04), (44, 0.0), (45, 0.01), (46, 0.09), (47, 0.0), (48, 0.03), (49, 0.07), (50, 0.01)]}\n"
     ]
    },
    {
     "output_type": "stream",
     "name": "stdout",
     "text": [
      "\t {'val_loss': 4.9045751094818115, 'val_accuracy': 0.05}\n"
     ]
    },
    {
     "output_type": "execute_result",
     "data": {
      "text/plain": [
       "History (loss, distributed):\n",
       "\tround 1: 4.745851516723633\n",
       "\tround 2: 4.653022766113281\n",
       "\tround 3: 3.9448227882385254\n",
       "\tround 4: 5.127021312713623\n",
       "\tround 5: 4.498711824417114\n",
       "\tround 6: 5.893053293228149\n",
       "\tround 7: 4.4938355684280396\n",
       "\tround 8: 4.4584513902664185\n",
       "\tround 9: 5.314489364624023\n",
       "\tround 10: 4.182586908340454\n",
       "\tround 11: 4.107126712799072\n",
       "\tround 12: 4.600738763809204\n",
       "\tround 13: 4.0139665603637695\n",
       "\tround 14: 4.980290651321411\n",
       "\tround 15: 4.589336156845093\n",
       "\tround 16: 4.733531951904297\n",
       "\tround 17: 4.679257392883301\n",
       "\tround 18: 4.887189626693726\n",
       "\tround 19: 5.258157730102539\n",
       "\tround 20: 5.057929039001465\n",
       "\tround 21: 4.915335178375244\n",
       "\tround 22: 3.777857542037964\n",
       "\tround 23: 4.686790227890015\n",
       "\tround 24: 4.715813398361206\n",
       "\tround 25: 5.889180898666382\n",
       "\tround 26: 4.978114128112793\n",
       "\tround 27: 3.8637229204177856\n",
       "\tround 28: 5.277647256851196\n",
       "\tround 29: 3.9182344675064087\n",
       "\tround 30: 4.743523597717285\n",
       "\tround 31: 4.285237073898315\n",
       "\tround 32: 3.995316982269287\n",
       "\tround 33: 4.348482251167297\n",
       "\tround 34: 4.365451812744141\n",
       "\tround 35: 4.73674201965332\n",
       "\tround 36: 4.687808513641357\n",
       "\tround 37: 6.235825777053833\n",
       "\tround 38: 3.8559600114822388\n",
       "\tround 39: 4.823103189468384\n",
       "\tround 40: 4.242953777313232\n",
       "\tround 41: 4.750668048858643\n",
       "\tround 42: 5.204432964324951\n",
       "\tround 43: 4.9270546436309814\n",
       "\tround 44: 4.772263526916504\n",
       "\tround 45: 4.454347848892212\n",
       "\tround 46: 5.035041570663452\n",
       "\tround 47: 4.559219121932983\n",
       "\tround 48: 4.393167972564697\n",
       "\tround 49: 4.8627707958221436\n",
       "\tround 50: 4.9045751094818115\n",
       "History (loss, centralized):\n",
       "\tround 0: 18.121950149536133\n",
       "\tround 1: 16.249814987182617\n",
       "\tround 2: 17.93752098083496\n",
       "\tround 3: 21.944669723510742\n",
       "\tround 4: 18.89236831665039\n",
       "\tround 5: 18.090530395507812\n",
       "\tround 6: 18.8131103515625\n",
       "\tround 7: 22.573015213012695\n",
       "\tround 8: 19.76338768005371\n",
       "\tround 9: 22.13922882080078\n",
       "\tround 10: 19.296253204345703\n",
       "\tround 11: 19.745779037475586\n",
       "\tround 12: 19.515750885009766\n",
       "\tround 13: 19.586111068725586\n",
       "\tround 14: 20.236675262451172\n",
       "\tround 15: 19.78818130493164\n",
       "\tround 16: 23.755334854125977\n",
       "\tround 17: 23.497695922851562\n",
       "\tround 18: 20.68670654296875\n",
       "\tround 19: 18.99504280090332\n",
       "\tround 20: 19.756649017333984\n",
       "\tround 21: 22.279577255249023\n",
       "\tround 22: 19.74306869506836\n",
       "\tround 23: 19.994741439819336\n",
       "\tround 24: 19.21190643310547\n",
       "\tround 25: 19.538171768188477\n",
       "\tround 26: 21.637123107910156\n",
       "\tround 27: 19.13998794555664\n",
       "\tround 28: 22.86831283569336\n",
       "\tround 29: 19.779142379760742\n",
       "\tround 30: 19.944381713867188\n",
       "\tround 31: 20.251399993896484\n",
       "\tround 32: 19.56172752380371\n",
       "\tround 33: 21.759441375732422\n",
       "\tround 34: 18.158287048339844\n",
       "\tround 35: 19.156728744506836\n",
       "\tround 36: 19.38203239440918\n",
       "\tround 37: 20.91798210144043\n",
       "\tround 38: 21.934282302856445\n",
       "\tround 39: 22.63823699951172\n",
       "\tround 40: 19.618974685668945\n",
       "\tround 41: 24.14379119873047\n",
       "\tround 42: 21.352460861206055\n",
       "\tround 43: 23.56950569152832\n",
       "\tround 44: 21.13321304321289\n",
       "\tround 45: 23.489913940429688\n",
       "\tround 46: 20.146183013916016\n",
       "\tround 47: 21.94605255126953\n",
       "\tround 48: 22.811193466186523\n",
       "\tround 49: 21.742877960205078\n",
       "\tround 50: 24.89870834350586\n",
       "History (metrics, distributed):\n",
       "{'val_loss': [(1, 4.745851516723633), (2, 4.653022766113281), (3, 3.9448227882385254), (4, 5.127021312713623), (5, 4.498711824417114), (6, 5.893053293228149), (7, 4.4938355684280396), (8, 4.4584513902664185), (9, 5.314489364624023), (10, 4.182586908340454), (11, 4.107126712799072), (12, 4.600738763809204), (13, 4.0139665603637695), (14, 4.980290651321411), (15, 4.589336156845093), (16, 4.733531951904297), (17, 4.679257392883301), (18, 4.887189626693726), (19, 5.258157730102539), (20, 5.057929039001465), (21, 4.915335178375244), (22, 3.777857542037964), (23, 4.686790227890015), (24, 4.715813398361206), (25, 5.889180898666382), (26, 4.978114128112793), (27, 3.8637229204177856), (28, 5.277647256851196), (29, 3.9182344675064087), (30, 4.743523597717285), (31, 4.285237073898315), (32, 3.995316982269287), (33, 4.348482251167297), (34, 4.365451812744141), (35, 4.73674201965332), (36, 4.687808513641357), (37, 6.235825777053833), (38, 3.8559600114822388), (39, 4.823103189468384), (40, 4.242953777313232), (41, 4.750668048858643), (42, 5.204432964324951), (43, 4.9270546436309814), (44, 4.772263526916504), (45, 4.454347848892212), (46, 5.035041570663452), (47, 4.559219121932983), (48, 4.393167972564697), (49, 4.8627707958221436), (50, 4.9045751094818115)], 'val_accuracy': [(1, 0.0), (2, 0.0), (3, 0.05), (4, 0.05), (5, 0.1), (6, 0.0), (7, 0.0), (8, 0.0), (9, 0.0), (10, 0.0), (11, 0.05), (12, 0.0), (13, 0.0), (14, 0.0), (15, 0.0), (16, 0.0), (17, 0.1), (18, 0.0), (19, 0.0), (20, 0.0), (21, 0.0), (22, 0.05), (23, 0.05), (24, 0.1), (25, 0.0), (26, 0.0), (27, 0.0), (28, 0.0), (29, 0.05), (30, 0.05), (31, 0.05), (32, 0.05), (33, 0.1), (34, 0.0), (35, 0.0), (36, 0.05), (37, 0.0), (38, 0.05), (39, 0.0), (40, 0.0), (41, 0.05), (42, 0.0), (43, 0.05), (44, 0.0), (45, 0.05), (46, 0.0), (47, 0.05), (48, 0.0), (49, 0.05), (50, 0.05)]}History (metrics, centralized):\n",
       "{'test_loss': [(0, 18.121950149536133), (1, 16.249814987182617), (2, 17.93752098083496), (3, 21.944669723510742), (4, 18.89236831665039), (5, 18.090530395507812), (6, 18.8131103515625), (7, 22.573015213012695), (8, 19.76338768005371), (9, 22.13922882080078), (10, 19.296253204345703), (11, 19.745779037475586), (12, 19.515750885009766), (13, 19.586111068725586), (14, 20.236675262451172), (15, 19.78818130493164), (16, 23.755334854125977), (17, 23.497695922851562), (18, 20.68670654296875), (19, 18.99504280090332), (20, 19.756649017333984), (21, 22.279577255249023), (22, 19.74306869506836), (23, 19.994741439819336), (24, 19.21190643310547), (25, 19.538171768188477), (26, 21.637123107910156), (27, 19.13998794555664), (28, 22.86831283569336), (29, 19.779142379760742), (30, 19.944381713867188), (31, 20.251399993896484), (32, 19.56172752380371), (33, 21.759441375732422), (34, 18.158287048339844), (35, 19.156728744506836), (36, 19.38203239440918), (37, 20.91798210144043), (38, 21.934282302856445), (39, 22.63823699951172), (40, 19.618974685668945), (41, 24.14379119873047), (42, 21.352460861206055), (43, 23.56950569152832), (44, 21.13321304321289), (45, 23.489913940429688), (46, 20.146183013916016), (47, 21.94605255126953), (48, 22.811193466186523), (49, 21.742877960205078), (50, 24.89870834350586)], 'test_accuracy': [(0, 0.03), (1, 0.15), (2, 0.02), (3, 0.01), (4, 0.04), (5, 0.03), (6, 0.06), (7, 0.0), (8, 0.09), (9, 0.0), (10, 0.04), (11, 0.0), (12, 0.04), (13, 0.0), (14, 0.01), (15, 0.0), (16, 0.0), (17, 0.01), (18, 0.0), (19, 0.01), (20, 0.07), (21, 0.0), (22, 0.02), (23, 0.0), (24, 0.03), (25, 0.02), (26, 0.01), (27, 0.05), (28, 0.0), (29, 0.02), (30, 0.02), (31, 0.02), (32, 0.02), (33, 0.0), (34, 0.05), (35, 0.04), (36, 0.02), (37, 0.05), (38, 0.01), (39, 0.01), (40, 0.02), (41, 0.0), (42, 0.0), (43, 0.04), (44, 0.0), (45, 0.01), (46, 0.09), (47, 0.0), (48, 0.03), (49, 0.07), (50, 0.01)]}"
      ]
     },
     "metadata": {},
     "execution_count": 9
    }
   ],
   "metadata": {}
  }
 ],
 "nbformat": 4,
 "nbformat_minor": 2,
 "metadata": {
  "language_info": {
   "codemirror_mode": {
    "name": "ipython",
    "version": 3
   },
   "file_extension": ".py",
   "mimetype": "text/x-python",
   "name": "python",
   "nbconvert_exporter": "python",
   "pygments_lexer": "ipython3",
   "version": 3
  },
  "orig_nbformat": 4
 }
}