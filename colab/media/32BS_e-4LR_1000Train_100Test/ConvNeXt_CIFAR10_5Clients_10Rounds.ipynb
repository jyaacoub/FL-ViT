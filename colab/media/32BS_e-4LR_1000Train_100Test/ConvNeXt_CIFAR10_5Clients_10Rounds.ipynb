{
 "cells": [
  {
   "cell_type": "code",
   "execution_count": 7,
   "source": [
    "fl.simulation.start_simulation(\n",
    "    client_fn=lambda cid: FlowerClient(MODEL_CONFIG, trainloaders[int(cid)], valloaders[int(cid)]),\n",
    "    num_clients=NUM_CLIENTS,\n",
    "    config=fl.server.ServerConfig(num_rounds=NUM_ROUNDS),\n",
    "    strategy=strategy,\n",
    "    client_resources=CLIENT_RESOURCES,\n",
    ")"
   ],
   "outputs": [
    {
     "output_type": "stream",
     "name": "stderr",
     "text": [
      "INFO flwr 2023-04-08 23:47:37,113 | app.py:145 | Starting Flower simulation, config: ServerConfig(num_rounds=10, round_timeout=None)\n",
      "2023-04-08 23:47:39,149\tINFO worker.py:1529 -- Started a local Ray instance. View the dashboard at \u001b[1m\u001b[32m127.0.0.1:8265 \u001b[39m\u001b[22m\n",
      "INFO flwr 2023-04-08 23:47:40,535 | app.py:179 | Flower VCE: Ray initialized with resources: {'CPU': 24.0, 'node:127.0.0.1': 1.0, 'object_store_memory': 6761050521.0, 'memory': 13522101044.0, 'GPU': 1.0}\n",
      "INFO flwr 2023-04-08 23:47:40,536 | server.py:86 | Initializing global parameters\n",
      "INFO flwr 2023-04-08 23:47:40,537 | server.py:266 | Using initial parameters provided by strategy\n",
      "INFO flwr 2023-04-08 23:47:40,537 | server.py:88 | Evaluating initial parameters\n",
      "INFO flwr 2023-04-08 23:47:45,663 | server.py:91 | initial parameters (loss, other metrics): 9.16818904876709, {'test_loss': 9.16818904876709, 'test_accuracy': 0.15}\n",
      "INFO flwr 2023-04-08 23:47:45,663 | server.py:101 | FL starting\n",
      "DEBUG flwr 2023-04-08 23:47:45,664 | server.py:215 | fit_round 1: strategy sampled 2 clients (out of 5)\n",
      "DEBUG flwr 2023-04-08 23:49:22,170 | server.py:229 | fit_round 1 received 2 results and 0 failures\n"
     ]
    },
    {
     "output_type": "stream",
     "name": "stdout",
     "text": [
      "\t {'train_loss': 2.1986896991729736, 'train_accuracy': 0.20000000000000004}\n"
     ]
    },
    {
     "output_type": "stream",
     "name": "stderr",
     "text": [
      "INFO flwr 2023-04-08 23:49:27,385 | server.py:116 | fit progress: (1, 8.658349990844727, {'test_loss': 8.658349990844727, 'test_accuracy': 0.29}, 101.72165719999612)\n",
      "DEBUG flwr 2023-04-08 23:49:27,386 | server.py:165 | evaluate_round 1: strategy sampled 2 clients (out of 5)\n",
      "DEBUG flwr 2023-04-08 23:49:32,217 | server.py:179 | evaluate_round 1 received 2 results and 0 failures\n",
      "DEBUG flwr 2023-04-08 23:49:32,218 | server.py:215 | fit_round 2: strategy sampled 2 clients (out of 5)\n"
     ]
    },
    {
     "output_type": "stream",
     "name": "stdout",
     "text": [
      "\t {'val_loss': 2.1105151176452637, 'val_accuracy': 0.475}\n"
     ]
    },
    {
     "output_type": "stream",
     "name": "stderr",
     "text": [
      "DEBUG flwr 2023-04-08 23:51:06,457 | server.py:229 | fit_round 2 received 2 results and 0 failures\n"
     ]
    },
    {
     "output_type": "stream",
     "name": "stdout",
     "text": [
      "\t {'train_loss': 1.9732000827789307, 'train_accuracy': 0.48333333333333334}\n"
     ]
    },
    {
     "output_type": "stream",
     "name": "stderr",
     "text": [
      "INFO flwr 2023-04-08 23:51:11,658 | server.py:116 | fit progress: (2, 8.109710693359375, {'test_loss': 8.109710693359375, 'test_accuracy': 0.48}, 205.994028299996)\n",
      "DEBUG flwr 2023-04-08 23:51:11,658 | server.py:165 | evaluate_round 2: strategy sampled 2 clients (out of 5)\n",
      "DEBUG flwr 2023-04-08 23:51:16,486 | server.py:179 | evaluate_round 2 received 2 results and 0 failures\n",
      "DEBUG flwr 2023-04-08 23:51:16,487 | server.py:215 | fit_round 3: strategy sampled 2 clients (out of 5)\n"
     ]
    },
    {
     "output_type": "stream",
     "name": "stdout",
     "text": [
      "\t {'val_loss': 1.9794182777404785, 'val_accuracy': 0.55}\n"
     ]
    },
    {
     "output_type": "stream",
     "name": "stderr",
     "text": [
      "DEBUG flwr 2023-04-08 23:52:49,939 | server.py:229 | fit_round 3 received 2 results and 0 failures\n"
     ]
    },
    {
     "output_type": "stream",
     "name": "stdout",
     "text": [
      "\t {'train_loss': 1.766444206237793, 'train_accuracy': 0.5722222222222223}\n"
     ]
    },
    {
     "output_type": "stream",
     "name": "stderr",
     "text": [
      "INFO flwr 2023-04-08 23:52:55,168 | server.py:116 | fit progress: (3, 7.476254463195801, {'test_loss': 7.476254463195801, 'test_accuracy': 0.57}, 309.50431910000043)\n",
      "DEBUG flwr 2023-04-08 23:52:55,169 | server.py:165 | evaluate_round 3: strategy sampled 2 clients (out of 5)\n",
      "DEBUG flwr 2023-04-08 23:52:59,929 | server.py:179 | evaluate_round 3 received 2 results and 0 failures\n",
      "DEBUG flwr 2023-04-08 23:52:59,930 | server.py:215 | fit_round 4: strategy sampled 2 clients (out of 5)\n"
     ]
    },
    {
     "output_type": "stream",
     "name": "stdout",
     "text": [
      "\t {'val_loss': 1.80488920211792, 'val_accuracy': 0.75}\n"
     ]
    },
    {
     "output_type": "stream",
     "name": "stderr",
     "text": [
      "DEBUG flwr 2023-04-08 23:54:32,870 | server.py:229 | fit_round 4 received 2 results and 0 failures\n"
     ]
    },
    {
     "output_type": "stream",
     "name": "stdout",
     "text": [
      "\t {'train_loss': 1.7342025637626648, 'train_accuracy': 0.7111111111111111}\n"
     ]
    },
    {
     "output_type": "stream",
     "name": "stderr",
     "text": [
      "INFO flwr 2023-04-08 23:54:38,009 | server.py:116 | fit progress: (4, 6.864304542541504, {'test_loss': 6.864304542541504, 'test_accuracy': 0.67}, 412.34477160000097)\n",
      "DEBUG flwr 2023-04-08 23:54:38,009 | server.py:165 | evaluate_round 4: strategy sampled 2 clients (out of 5)\n",
      "DEBUG flwr 2023-04-08 23:54:42,784 | server.py:179 | evaluate_round 4 received 2 results and 0 failures\n",
      "DEBUG flwr 2023-04-08 23:54:42,785 | server.py:215 | fit_round 5: strategy sampled 2 clients (out of 5)\n"
     ]
    },
    {
     "output_type": "stream",
     "name": "stdout",
     "text": [
      "\t {'val_loss': 1.7312433123588562, 'val_accuracy': 0.75}\n"
     ]
    },
    {
     "output_type": "stream",
     "name": "stderr",
     "text": [
      "DEBUG flwr 2023-04-08 23:56:15,686 | server.py:229 | fit_round 5 received 2 results and 0 failures\n"
     ]
    },
    {
     "output_type": "stream",
     "name": "stdout",
     "text": [
      "\t {'train_loss': 1.5324155688285828, 'train_accuracy': 0.8083333333333335}\n"
     ]
    },
    {
     "output_type": "stream",
     "name": "stderr",
     "text": [
      "INFO flwr 2023-04-08 23:56:20,921 | server.py:116 | fit progress: (5, 6.141239166259766, {'test_loss': 6.141239166259766, 'test_accuracy': 0.77}, 515.2569873999964)\n",
      "DEBUG flwr 2023-04-08 23:56:20,921 | server.py:165 | evaluate_round 5: strategy sampled 2 clients (out of 5)\n",
      "DEBUG flwr 2023-04-08 23:56:25,580 | server.py:179 | evaluate_round 5 received 2 results and 0 failures\n",
      "DEBUG flwr 2023-04-08 23:56:25,580 | server.py:215 | fit_round 6: strategy sampled 2 clients (out of 5)\n"
     ]
    },
    {
     "output_type": "stream",
     "name": "stdout",
     "text": [
      "\t {'val_loss': 1.4633628726005554, 'val_accuracy': 0.875}\n"
     ]
    },
    {
     "output_type": "stream",
     "name": "stderr",
     "text": [
      "DEBUG flwr 2023-04-08 23:57:58,148 | server.py:229 | fit_round 6 received 2 results and 0 failures\n"
     ]
    },
    {
     "output_type": "stream",
     "name": "stdout",
     "text": [
      "\t {'train_loss': 1.3058474659919739, 'train_accuracy': 0.8805555555555555}\n"
     ]
    },
    {
     "output_type": "stream",
     "name": "stderr",
     "text": [
      "INFO flwr 2023-04-08 23:58:03,319 | server.py:116 | fit progress: (6, 5.881159782409668, {'test_loss': 5.881159782409668, 'test_accuracy': 0.79}, 617.6553939000005)\n",
      "DEBUG flwr 2023-04-08 23:58:03,319 | server.py:165 | evaluate_round 6: strategy sampled 2 clients (out of 5)\n",
      "DEBUG flwr 2023-04-08 23:58:07,945 | server.py:179 | evaluate_round 6 received 2 results and 0 failures\n",
      "DEBUG flwr 2023-04-08 23:58:07,946 | server.py:215 | fit_round 7: strategy sampled 2 clients (out of 5)\n"
     ]
    },
    {
     "output_type": "stream",
     "name": "stdout",
     "text": [
      "\t {'val_loss': 1.3880434036254883, 'val_accuracy': 0.8500000000000001}\n"
     ]
    },
    {
     "output_type": "stream",
     "name": "stderr",
     "text": [
      "DEBUG flwr 2023-04-08 23:59:40,173 | server.py:229 | fit_round 7 received 2 results and 0 failures\n"
     ]
    },
    {
     "output_type": "stream",
     "name": "stdout",
     "text": [
      "\t {'train_loss': 1.0415067374706268, 'train_accuracy': 0.9222222222222222}\n"
     ]
    },
    {
     "output_type": "stream",
     "name": "stderr",
     "text": [
      "INFO flwr 2023-04-08 23:59:45,212 | server.py:116 | fit progress: (7, 5.384750843048096, {'test_loss': 5.384750843048096, 'test_accuracy': 0.81}, 719.5487911999953)\n",
      "DEBUG flwr 2023-04-08 23:59:45,213 | server.py:165 | evaluate_round 7: strategy sampled 2 clients (out of 5)\n",
      "DEBUG flwr 2023-04-08 23:59:49,862 | server.py:179 | evaluate_round 7 received 2 results and 0 failures\n",
      "DEBUG flwr 2023-04-08 23:59:49,863 | server.py:215 | fit_round 8: strategy sampled 2 clients (out of 5)\n"
     ]
    },
    {
     "output_type": "stream",
     "name": "stdout",
     "text": [
      "\t {'val_loss': 1.2405110597610474, 'val_accuracy': 0.9}\n"
     ]
    },
    {
     "output_type": "stream",
     "name": "stderr",
     "text": [
      "DEBUG flwr 2023-04-09 00:01:22,744 | server.py:229 | fit_round 8 received 2 results and 0 failures\n"
     ]
    },
    {
     "output_type": "stream",
     "name": "stdout",
     "text": [
      "\t {'train_loss': 1.22163724899292, 'train_accuracy': 0.8472222222222223}\n"
     ]
    },
    {
     "output_type": "stream",
     "name": "stderr",
     "text": [
      "INFO flwr 2023-04-09 00:01:27,900 | server.py:116 | fit progress: (8, 4.453006744384766, {'test_loss': 4.453006744384766, 'test_accuracy': 0.85}, 822.2368047999989)\n",
      "DEBUG flwr 2023-04-09 00:01:27,901 | server.py:165 | evaluate_round 8: strategy sampled 2 clients (out of 5)\n",
      "DEBUG flwr 2023-04-09 00:01:32,561 | server.py:179 | evaluate_round 8 received 2 results and 0 failures\n",
      "DEBUG flwr 2023-04-09 00:01:32,562 | server.py:215 | fit_round 9: strategy sampled 2 clients (out of 5)\n"
     ]
    },
    {
     "output_type": "stream",
     "name": "stdout",
     "text": [
      "\t {'val_loss': 1.0984249114990234, 'val_accuracy': 0.9}\n"
     ]
    },
    {
     "output_type": "stream",
     "name": "stderr",
     "text": [
      "DEBUG flwr 2023-04-09 00:03:12,234 | server.py:229 | fit_round 9 received 2 results and 0 failures\n"
     ]
    },
    {
     "output_type": "stream",
     "name": "stdout",
     "text": [
      "\t {'train_loss': 0.7958192229270935, 'train_accuracy': 0.9499999999999998}\n"
     ]
    },
    {
     "output_type": "stream",
     "name": "stderr",
     "text": [
      "INFO flwr 2023-04-09 00:03:17,314 | server.py:116 | fit progress: (9, 3.8029768466949463, {'test_loss': 3.8029768466949463, 'test_accuracy': 0.85}, 931.650172900001)\n",
      "DEBUG flwr 2023-04-09 00:03:17,314 | server.py:165 | evaluate_round 9: strategy sampled 2 clients (out of 5)\n",
      "DEBUG flwr 2023-04-09 00:03:22,038 | server.py:179 | evaluate_round 9 received 2 results and 0 failures\n",
      "DEBUG flwr 2023-04-09 00:03:22,038 | server.py:215 | fit_round 10: strategy sampled 2 clients (out of 5)\n"
     ]
    },
    {
     "output_type": "stream",
     "name": "stdout",
     "text": [
      "\t {'val_loss': 0.9915572702884674, 'val_accuracy': 0.8500000000000001}\n"
     ]
    },
    {
     "output_type": "stream",
     "name": "stderr",
     "text": [
      "DEBUG flwr 2023-04-09 00:04:54,586 | server.py:229 | fit_round 10 received 2 results and 0 failures\n"
     ]
    },
    {
     "output_type": "stream",
     "name": "stdout",
     "text": [
      "\t {'train_loss': 0.6065047383308411, 'train_accuracy': 0.9638888888888889}\n"
     ]
    },
    {
     "output_type": "stream",
     "name": "stderr",
     "text": [
      "INFO flwr 2023-04-09 00:04:59,737 | server.py:116 | fit progress: (10, 3.404423952102661, {'test_loss': 3.404423952102661, 'test_accuracy': 0.87}, 1034.0733846000003)\n",
      "DEBUG flwr 2023-04-09 00:04:59,738 | server.py:165 | evaluate_round 10: strategy sampled 2 clients (out of 5)\n",
      "DEBUG flwr 2023-04-09 00:05:08,297 | server.py:179 | evaluate_round 10 received 2 results and 0 failures\n",
      "INFO flwr 2023-04-09 00:05:08,298 | server.py:144 | FL finished in 1042.6347535999957\n",
      "INFO flwr 2023-04-09 00:05:08,321 | app.py:202 | app_fit: losses_distributed [(1, 2.1105151176452637), (2, 1.9794182777404785), (3, 1.80488920211792), (4, 1.7312433123588562), (5, 1.4633628726005554), (6, 1.3880434036254883), (7, 1.2405110597610474), (8, 1.0984249114990234), (9, 0.9915572702884674), (10, 0.8086109459400177)]\n",
      "INFO flwr 2023-04-09 00:05:08,322 | app.py:203 | app_fit: metrics_distributed {'val_loss': [(1, 2.1105151176452637), (2, 1.9794182777404785), (3, 1.80488920211792), (4, 1.7312433123588562), (5, 1.4633628726005554), (6, 1.3880434036254883), (7, 1.2405110597610474), (8, 1.0984249114990234), (9, 0.9915572702884674), (10, 0.8086109459400177)], 'val_accuracy': [(1, 0.475), (2, 0.55), (3, 0.75), (4, 0.75), (5, 0.875), (6, 0.8500000000000001), (7, 0.9), (8, 0.9), (9, 0.8500000000000001), (10, 0.95)]}\n",
      "INFO flwr 2023-04-09 00:05:08,323 | app.py:204 | app_fit: losses_centralized [(0, 9.16818904876709), (1, 8.658349990844727), (2, 8.109710693359375), (3, 7.476254463195801), (4, 6.864304542541504), (5, 6.141239166259766), (6, 5.881159782409668), (7, 5.384750843048096), (8, 4.453006744384766), (9, 3.8029768466949463), (10, 3.404423952102661)]\n",
      "INFO flwr 2023-04-09 00:05:08,324 | app.py:205 | app_fit: metrics_centralized {'test_loss': [(0, 9.16818904876709), (1, 8.658349990844727), (2, 8.109710693359375), (3, 7.476254463195801), (4, 6.864304542541504), (5, 6.141239166259766), (6, 5.881159782409668), (7, 5.384750843048096), (8, 4.453006744384766), (9, 3.8029768466949463), (10, 3.404423952102661)], 'test_accuracy': [(0, 0.15), (1, 0.29), (2, 0.48), (3, 0.57), (4, 0.67), (5, 0.77), (6, 0.79), (7, 0.81), (8, 0.85), (9, 0.85), (10, 0.87)]}\n"
     ]
    },
    {
     "output_type": "stream",
     "name": "stdout",
     "text": [
      "\t {'val_loss': 0.8086109459400177, 'val_accuracy': 0.95}\n"
     ]
    },
    {
     "output_type": "execute_result",
     "data": {
      "text/plain": [
       "History (loss, distributed):\n",
       "\tround 1: 2.1105151176452637\n",
       "\tround 2: 1.9794182777404785\n",
       "\tround 3: 1.80488920211792\n",
       "\tround 4: 1.7312433123588562\n",
       "\tround 5: 1.4633628726005554\n",
       "\tround 6: 1.3880434036254883\n",
       "\tround 7: 1.2405110597610474\n",
       "\tround 8: 1.0984249114990234\n",
       "\tround 9: 0.9915572702884674\n",
       "\tround 10: 0.8086109459400177\n",
       "History (loss, centralized):\n",
       "\tround 0: 9.16818904876709\n",
       "\tround 1: 8.658349990844727\n",
       "\tround 2: 8.109710693359375\n",
       "\tround 3: 7.476254463195801\n",
       "\tround 4: 6.864304542541504\n",
       "\tround 5: 6.141239166259766\n",
       "\tround 6: 5.881159782409668\n",
       "\tround 7: 5.384750843048096\n",
       "\tround 8: 4.453006744384766\n",
       "\tround 9: 3.8029768466949463\n",
       "\tround 10: 3.404423952102661\n",
       "History (metrics, distributed):\n",
       "{'val_loss': [(1, 2.1105151176452637), (2, 1.9794182777404785), (3, 1.80488920211792), (4, 1.7312433123588562), (5, 1.4633628726005554), (6, 1.3880434036254883), (7, 1.2405110597610474), (8, 1.0984249114990234), (9, 0.9915572702884674), (10, 0.8086109459400177)], 'val_accuracy': [(1, 0.475), (2, 0.55), (3, 0.75), (4, 0.75), (5, 0.875), (6, 0.8500000000000001), (7, 0.9), (8, 0.9), (9, 0.8500000000000001), (10, 0.95)]}History (metrics, centralized):\n",
       "{'test_loss': [(0, 9.16818904876709), (1, 8.658349990844727), (2, 8.109710693359375), (3, 7.476254463195801), (4, 6.864304542541504), (5, 6.141239166259766), (6, 5.881159782409668), (7, 5.384750843048096), (8, 4.453006744384766), (9, 3.8029768466949463), (10, 3.404423952102661)], 'test_accuracy': [(0, 0.15), (1, 0.29), (2, 0.48), (3, 0.57), (4, 0.67), (5, 0.77), (6, 0.79), (7, 0.81), (8, 0.85), (9, 0.85), (10, 0.87)]}"
      ]
     },
     "metadata": {},
     "execution_count": 7
    }
   ],
   "metadata": {}
  }
 ],
 "nbformat": 4,
 "nbformat_minor": 2,
 "metadata": {
  "language_info": {
   "codemirror_mode": {
    "name": "ipython",
    "version": 3
   },
   "file_extension": ".py",
   "mimetype": "text/x-python",
   "name": "python",
   "nbconvert_exporter": "python",
   "pygments_lexer": "ipython3",
   "version": 3
  },
  "orig_nbformat": 4
 }
}