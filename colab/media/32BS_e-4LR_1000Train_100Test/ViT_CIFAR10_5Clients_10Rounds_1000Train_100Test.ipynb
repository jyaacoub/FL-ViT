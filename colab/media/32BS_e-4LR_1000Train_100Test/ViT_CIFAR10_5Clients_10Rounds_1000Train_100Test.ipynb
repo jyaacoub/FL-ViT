{
 "cells": [
  {
   "cell_type": "code",
   "execution_count": 7,
   "source": [
    "fl.simulation.start_simulation(\n",
    "    client_fn=lambda cid: FlowerClient(MODEL_CONFIG, trainloaders[int(cid)], valloaders[int(cid)]),\n",
    "    num_clients=NUM_CLIENTS,\n",
    "    config=fl.server.ServerConfig(num_rounds=NUM_ROUNDS),\n",
    "    strategy=strategy,\n",
    "    client_resources=CLIENT_RESOURCES,\n",
    ")"
   ],
   "outputs": [
    {
     "output_type": "stream",
     "name": "stderr",
     "text": [
      "INFO flwr 2023-04-09 00:13:32,175 | app.py:145 | Starting Flower simulation, config: ServerConfig(num_rounds=10, round_timeout=None)\n",
      "2023-04-09 00:13:34,282\tINFO worker.py:1529 -- Started a local Ray instance. View the dashboard at \u001b[1m\u001b[32m127.0.0.1:8265 \u001b[39m\u001b[22m\n",
      "INFO flwr 2023-04-09 00:13:35,689 | app.py:179 | Flower VCE: Ray initialized with resources: {'memory': 13767010715.0, 'node:127.0.0.1': 1.0, 'CPU': 24.0, 'GPU': 1.0, 'object_store_memory': 6883505356.0}\n",
      "INFO flwr 2023-04-09 00:13:35,690 | server.py:86 | Initializing global parameters\n",
      "INFO flwr 2023-04-09 00:13:35,690 | server.py:266 | Using initial parameters provided by strategy\n",
      "INFO flwr 2023-04-09 00:13:35,691 | server.py:88 | Evaluating initial parameters\n",
      "INFO flwr 2023-04-09 00:13:44,983 | server.py:91 | initial parameters (loss, other metrics): 9.438980102539062, {'test_loss': 9.438980102539062, 'test_accuracy': 0.1}\n",
      "INFO flwr 2023-04-09 00:13:44,983 | server.py:101 | FL starting\n",
      "DEBUG flwr 2023-04-09 00:13:44,984 | server.py:215 | fit_round 1: strategy sampled 2 clients (out of 5)\n",
      "DEBUG flwr 2023-04-09 00:17:06,721 | server.py:229 | fit_round 1 received 2 results and 0 failures\n"
     ]
    },
    {
     "output_type": "stream",
     "name": "stdout",
     "text": [
      "\t {'train_loss': 1.5388107299804688, 'train_accuracy': 0.3833333333333333}\n"
     ]
    },
    {
     "output_type": "stream",
     "name": "stderr",
     "text": [
      "INFO flwr 2023-04-09 00:17:16,498 | server.py:116 | fit progress: (1, 6.277158737182617, {'test_loss': 6.277158737182617, 'test_accuracy': 0.61}, 211.51426109999738)\n",
      "DEBUG flwr 2023-04-09 00:17:16,499 | server.py:165 | evaluate_round 1: strategy sampled 2 clients (out of 5)\n",
      "DEBUG flwr 2023-04-09 00:17:27,537 | server.py:179 | evaluate_round 1 received 2 results and 0 failures\n",
      "DEBUG flwr 2023-04-09 00:17:27,537 | server.py:215 | fit_round 2: strategy sampled 2 clients (out of 5)\n"
     ]
    },
    {
     "output_type": "stream",
     "name": "stdout",
     "text": [
      "\t {'val_loss': 1.4662417769432068, 'val_accuracy': 0.625}\n"
     ]
    },
    {
     "output_type": "stream",
     "name": "stderr",
     "text": [
      "DEBUG flwr 2023-04-09 00:20:45,842 | server.py:229 | fit_round 2 received 2 results and 0 failures\n"
     ]
    },
    {
     "output_type": "stream",
     "name": "stdout",
     "text": [
      "\t {'train_loss': 0.7904353141784668, 'train_accuracy': 0.8305555555555557}\n"
     ]
    },
    {
     "output_type": "stream",
     "name": "stderr",
     "text": [
      "INFO flwr 2023-04-09 00:20:55,660 | server.py:116 | fit progress: (2, 3.3657593727111816, {'test_loss': 3.3657593727111816, 'test_accuracy': 0.84}, 430.67687289999594)\n",
      "DEBUG flwr 2023-04-09 00:20:55,661 | server.py:165 | evaluate_round 2: strategy sampled 2 clients (out of 5)\n",
      "DEBUG flwr 2023-04-09 00:21:06,658 | server.py:179 | evaluate_round 2 received 2 results and 0 failures\n",
      "DEBUG flwr 2023-04-09 00:21:06,658 | server.py:215 | fit_round 3: strategy sampled 2 clients (out of 5)\n"
     ]
    },
    {
     "output_type": "stream",
     "name": "stdout",
     "text": [
      "\t {'val_loss': 0.7405178844928741, 'val_accuracy': 0.975}\n"
     ]
    },
    {
     "output_type": "stream",
     "name": "stderr",
     "text": [
      "DEBUG flwr 2023-04-09 00:24:25,043 | server.py:229 | fit_round 3 received 2 results and 0 failures\n"
     ]
    },
    {
     "output_type": "stream",
     "name": "stdout",
     "text": [
      "\t {'train_loss': 0.46797676384449005, 'train_accuracy': 0.9500000000000001}\n"
     ]
    },
    {
     "output_type": "stream",
     "name": "stderr",
     "text": [
      "INFO flwr 2023-04-09 00:24:34,907 | server.py:116 | fit progress: (3, 1.5499581098556519, {'test_loss': 1.5499581098556519, 'test_accuracy': 0.91}, 649.923349699995)\n",
      "DEBUG flwr 2023-04-09 00:24:34,907 | server.py:165 | evaluate_round 3: strategy sampled 2 clients (out of 5)\n",
      "DEBUG flwr 2023-04-09 00:24:45,948 | server.py:179 | evaluate_round 3 received 2 results and 0 failures\n",
      "DEBUG flwr 2023-04-09 00:24:45,949 | server.py:215 | fit_round 4: strategy sampled 2 clients (out of 5)\n"
     ]
    },
    {
     "output_type": "stream",
     "name": "stdout",
     "text": [
      "\t {'val_loss': 0.5347198098897934, 'val_accuracy': 0.8999999999999999}\n"
     ]
    },
    {
     "output_type": "stream",
     "name": "stderr",
     "text": [
      "DEBUG flwr 2023-04-09 00:28:04,550 | server.py:229 | fit_round 4 received 2 results and 0 failures\n"
     ]
    },
    {
     "output_type": "stream",
     "name": "stdout",
     "text": [
      "\t {'train_loss': 0.1426330879330635, 'train_accuracy': 0.9777777777777779}\n"
     ]
    },
    {
     "output_type": "stream",
     "name": "stderr",
     "text": [
      "INFO flwr 2023-04-09 00:28:14,327 | server.py:116 | fit progress: (4, 1.4086799621582031, {'test_loss': 1.4086799621582031, 'test_accuracy': 0.89}, 869.343767899998)\n",
      "DEBUG flwr 2023-04-09 00:28:14,328 | server.py:165 | evaluate_round 4: strategy sampled 2 clients (out of 5)\n",
      "DEBUG flwr 2023-04-09 00:28:25,343 | server.py:179 | evaluate_round 4 received 2 results and 0 failures\n",
      "DEBUG flwr 2023-04-09 00:28:25,344 | server.py:215 | fit_round 5: strategy sampled 2 clients (out of 5)\n"
     ]
    },
    {
     "output_type": "stream",
     "name": "stdout",
     "text": [
      "\t {'val_loss': 0.29236388206481934, 'val_accuracy': 0.925}\n"
     ]
    },
    {
     "output_type": "stream",
     "name": "stderr",
     "text": [
      "DEBUG flwr 2023-04-09 00:32:54,223 | server.py:229 | fit_round 5 received 2 results and 0 failures\n"
     ]
    },
    {
     "output_type": "stream",
     "name": "stdout",
     "text": [
      "\t {'train_loss': 0.03173680230975151, 'train_accuracy': 1.0}\n"
     ]
    },
    {
     "output_type": "stream",
     "name": "stderr",
     "text": [
      "INFO flwr 2023-04-09 00:33:15,775 | server.py:116 | fit progress: (5, 1.0107874870300293, {'test_loss': 1.0107874870300293, 'test_accuracy': 0.89}, 1170.7909588999973)\n",
      "DEBUG flwr 2023-04-09 00:33:15,776 | server.py:165 | evaluate_round 5: strategy sampled 2 clients (out of 5)\n",
      "DEBUG flwr 2023-04-09 00:33:39,202 | server.py:179 | evaluate_round 5 received 2 results and 0 failures\n",
      "DEBUG flwr 2023-04-09 00:33:39,203 | server.py:215 | fit_round 6: strategy sampled 2 clients (out of 5)\n"
     ]
    },
    {
     "output_type": "stream",
     "name": "stdout",
     "text": [
      "\t {'val_loss': 0.34756749123334885, 'val_accuracy': 0.9}\n"
     ]
    },
    {
     "output_type": "stream",
     "name": "stderr",
     "text": [
      "DEBUG flwr 2023-04-09 00:41:23,053 | server.py:229 | fit_round 6 received 2 results and 0 failures\n"
     ]
    },
    {
     "output_type": "stream",
     "name": "stdout",
     "text": [
      "\t {'train_loss': 0.0149203697219491, 'train_accuracy': 1.0}\n"
     ]
    },
    {
     "output_type": "stream",
     "name": "stderr",
     "text": [
      "INFO flwr 2023-04-09 00:41:44,474 | server.py:116 | fit progress: (6, 1.2503416538238525, {'test_loss': 1.2503416538238525, 'test_accuracy': 0.94}, 1679.4906255999958)\n",
      "DEBUG flwr 2023-04-09 00:41:44,475 | server.py:165 | evaluate_round 6: strategy sampled 2 clients (out of 5)\n",
      "DEBUG flwr 2023-04-09 00:42:07,887 | server.py:179 | evaluate_round 6 received 2 results and 0 failures\n",
      "DEBUG flwr 2023-04-09 00:42:07,888 | server.py:215 | fit_round 7: strategy sampled 2 clients (out of 5)\n"
     ]
    },
    {
     "output_type": "stream",
     "name": "stdout",
     "text": [
      "\t {'val_loss': 0.24333928525447845, 'val_accuracy': 0.925}\n"
     ]
    },
    {
     "output_type": "stream",
     "name": "stderr",
     "text": [
      "DEBUG flwr 2023-04-09 00:49:49,816 | server.py:229 | fit_round 7 received 2 results and 0 failures\n"
     ]
    },
    {
     "output_type": "stream",
     "name": "stdout",
     "text": [
      "\t {'train_loss': 0.003789135836996138, 'train_accuracy': 1.0}\n"
     ]
    },
    {
     "output_type": "stream",
     "name": "stderr",
     "text": [
      "INFO flwr 2023-04-09 00:50:11,182 | server.py:116 | fit progress: (7, 0.783446192741394, {'test_loss': 0.783446192741394, 'test_accuracy': 0.93}, 2186.1983653999996)\n",
      "DEBUG flwr 2023-04-09 00:50:11,183 | server.py:165 | evaluate_round 7: strategy sampled 2 clients (out of 5)\n",
      "DEBUG flwr 2023-04-09 00:50:31,981 | server.py:179 | evaluate_round 7 received 2 results and 0 failures\n",
      "DEBUG flwr 2023-04-09 00:50:31,981 | server.py:215 | fit_round 8: strategy sampled 2 clients (out of 5)\n"
     ]
    },
    {
     "output_type": "stream",
     "name": "stdout",
     "text": [
      "\t {'val_loss': 0.310852013528347, 'val_accuracy': 0.8999999999999999}\n"
     ]
    },
    {
     "output_type": "stream",
     "name": "stderr",
     "text": [
      "DEBUG flwr 2023-04-09 00:57:11,057 | server.py:229 | fit_round 8 received 2 results and 0 failures\n"
     ]
    },
    {
     "output_type": "stream",
     "name": "stdout",
     "text": [
      "\t {'train_loss': 0.0005429287266451865, 'train_accuracy': 1.0}\n"
     ]
    },
    {
     "output_type": "stream",
     "name": "stderr",
     "text": [
      "INFO flwr 2023-04-09 00:57:20,842 | server.py:116 | fit progress: (8, 1.200265884399414, {'test_loss': 1.200265884399414, 'test_accuracy': 0.89}, 2615.8587967999993)\n",
      "DEBUG flwr 2023-04-09 00:57:20,843 | server.py:165 | evaluate_round 8: strategy sampled 2 clients (out of 5)\n",
      "DEBUG flwr 2023-04-09 00:57:31,868 | server.py:179 | evaluate_round 8 received 2 results and 0 failures\n",
      "DEBUG flwr 2023-04-09 00:57:31,868 | server.py:215 | fit_round 9: strategy sampled 2 clients (out of 5)\n"
     ]
    },
    {
     "output_type": "stream",
     "name": "stdout",
     "text": [
      "\t {'val_loss': 0.0722548346966505, 'val_accuracy': 0.975}\n"
     ]
    },
    {
     "output_type": "stream",
     "name": "stderr",
     "text": [
      "DEBUG flwr 2023-04-09 01:01:37,787 | server.py:229 | fit_round 9 received 2 results and 0 failures\n"
     ]
    },
    {
     "output_type": "stream",
     "name": "stdout",
     "text": [
      "\t {'train_loss': 0.35799407958984375, 'train_accuracy': 0.9249999999999999}\n"
     ]
    },
    {
     "output_type": "stream",
     "name": "stderr",
     "text": [
      "INFO flwr 2023-04-09 01:01:47,662 | server.py:116 | fit progress: (9, 0.9903586506843567, {'test_loss': 0.9903586506843567, 'test_accuracy': 0.93}, 2882.678512899998)\n",
      "DEBUG flwr 2023-04-09 01:01:47,663 | server.py:165 | evaluate_round 9: strategy sampled 2 clients (out of 5)\n",
      "DEBUG flwr 2023-04-09 01:01:58,717 | server.py:179 | evaluate_round 9 received 2 results and 0 failures\n",
      "DEBUG flwr 2023-04-09 01:01:58,718 | server.py:215 | fit_round 10: strategy sampled 2 clients (out of 5)\n"
     ]
    },
    {
     "output_type": "stream",
     "name": "stdout",
     "text": [
      "\t {'val_loss': 0.2734997756779194, 'val_accuracy': 0.925}\n"
     ]
    },
    {
     "output_type": "stream",
     "name": "stderr",
     "text": [
      "DEBUG flwr 2023-04-09 01:05:19,139 | server.py:229 | fit_round 10 received 2 results and 0 failures\n"
     ]
    },
    {
     "output_type": "stream",
     "name": "stdout",
     "text": [
      "\t {'train_loss': 0.024268516011943575, 'train_accuracy': 0.9972222222222222}\n"
     ]
    },
    {
     "output_type": "stream",
     "name": "stderr",
     "text": [
      "INFO flwr 2023-04-09 01:05:29,008 | server.py:116 | fit progress: (10, 1.2068994045257568, {'test_loss': 1.2068994045257568, 'test_accuracy': 0.93}, 3104.024885400002)\n",
      "DEBUG flwr 2023-04-09 01:05:29,009 | server.py:165 | evaluate_round 10: strategy sampled 2 clients (out of 5)\n",
      "DEBUG flwr 2023-04-09 01:05:40,026 | server.py:179 | evaluate_round 10 received 2 results and 0 failures\n",
      "INFO flwr 2023-04-09 01:05:40,027 | server.py:144 | FL finished in 3115.0433970000013\n",
      "INFO flwr 2023-04-09 01:05:40,048 | app.py:202 | app_fit: losses_distributed [(1, 1.4662417769432068), (2, 0.7405178844928741), (3, 0.5347198098897934), (4, 0.29236388206481934), (5, 0.34756749123334885), (6, 0.24333928525447845), (7, 0.310852013528347), (8, 0.0722548346966505), (9, 0.2734997756779194), (10, 0.2938382439315319)]\n",
      "INFO flwr 2023-04-09 01:05:40,048 | app.py:203 | app_fit: metrics_distributed {'val_loss': [(1, 1.4662417769432068), (2, 0.7405178844928741), (3, 0.5347198098897934), (4, 0.29236388206481934), (5, 0.34756749123334885), (6, 0.24333928525447845), (7, 0.310852013528347), (8, 0.0722548346966505), (9, 0.2734997756779194), (10, 0.2938382439315319)], 'val_accuracy': [(1, 0.625), (2, 0.975), (3, 0.8999999999999999), (4, 0.925), (5, 0.9), (6, 0.925), (7, 0.8999999999999999), (8, 0.975), (9, 0.925), (10, 0.95)]}\n",
      "INFO flwr 2023-04-09 01:05:40,049 | app.py:204 | app_fit: losses_centralized [(0, 9.438980102539062), (1, 6.277158737182617), (2, 3.3657593727111816), (3, 1.5499581098556519), (4, 1.4086799621582031), (5, 1.0107874870300293), (6, 1.2503416538238525), (7, 0.783446192741394), (8, 1.200265884399414), (9, 0.9903586506843567), (10, 1.2068994045257568)]\n",
      "INFO flwr 2023-04-09 01:05:40,049 | app.py:205 | app_fit: metrics_centralized {'test_loss': [(0, 9.438980102539062), (1, 6.277158737182617), (2, 3.3657593727111816), (3, 1.5499581098556519), (4, 1.4086799621582031), (5, 1.0107874870300293), (6, 1.2503416538238525), (7, 0.783446192741394), (8, 1.200265884399414), (9, 0.9903586506843567), (10, 1.2068994045257568)], 'test_accuracy': [(0, 0.1), (1, 0.61), (2, 0.84), (3, 0.91), (4, 0.89), (5, 0.89), (6, 0.94), (7, 0.93), (8, 0.89), (9, 0.93), (10, 0.93)]}\n"
     ]
    },
    {
     "output_type": "stream",
     "name": "stdout",
     "text": [
      "\t {'val_loss': 0.2938382439315319, 'val_accuracy': 0.95}\n"
     ]
    },
    {
     "output_type": "execute_result",
     "data": {
      "text/plain": [
       "History (loss, distributed):\n",
       "\tround 1: 1.4662417769432068\n",
       "\tround 2: 0.7405178844928741\n",
       "\tround 3: 0.5347198098897934\n",
       "\tround 4: 0.29236388206481934\n",
       "\tround 5: 0.34756749123334885\n",
       "\tround 6: 0.24333928525447845\n",
       "\tround 7: 0.310852013528347\n",
       "\tround 8: 0.0722548346966505\n",
       "\tround 9: 0.2734997756779194\n",
       "\tround 10: 0.2938382439315319\n",
       "History (loss, centralized):\n",
       "\tround 0: 9.438980102539062\n",
       "\tround 1: 6.277158737182617\n",
       "\tround 2: 3.3657593727111816\n",
       "\tround 3: 1.5499581098556519\n",
       "\tround 4: 1.4086799621582031\n",
       "\tround 5: 1.0107874870300293\n",
       "\tround 6: 1.2503416538238525\n",
       "\tround 7: 0.783446192741394\n",
       "\tround 8: 1.200265884399414\n",
       "\tround 9: 0.9903586506843567\n",
       "\tround 10: 1.2068994045257568\n",
       "History (metrics, distributed):\n",
       "{'val_loss': [(1, 1.4662417769432068), (2, 0.7405178844928741), (3, 0.5347198098897934), (4, 0.29236388206481934), (5, 0.34756749123334885), (6, 0.24333928525447845), (7, 0.310852013528347), (8, 0.0722548346966505), (9, 0.2734997756779194), (10, 0.2938382439315319)], 'val_accuracy': [(1, 0.625), (2, 0.975), (3, 0.8999999999999999), (4, 0.925), (5, 0.9), (6, 0.925), (7, 0.8999999999999999), (8, 0.975), (9, 0.925), (10, 0.95)]}History (metrics, centralized):\n",
       "{'test_loss': [(0, 9.438980102539062), (1, 6.277158737182617), (2, 3.3657593727111816), (3, 1.5499581098556519), (4, 1.4086799621582031), (5, 1.0107874870300293), (6, 1.2503416538238525), (7, 0.783446192741394), (8, 1.200265884399414), (9, 0.9903586506843567), (10, 1.2068994045257568)], 'test_accuracy': [(0, 0.1), (1, 0.61), (2, 0.84), (3, 0.91), (4, 0.89), (5, 0.89), (6, 0.94), (7, 0.93), (8, 0.89), (9, 0.93), (10, 0.93)]}"
      ]
     },
     "metadata": {},
     "execution_count": 7
    }
   ],
   "metadata": {}
  }
 ],
 "nbformat": 4,
 "nbformat_minor": 2,
 "metadata": {
  "language_info": {
   "codemirror_mode": {
    "name": "ipython",
    "version": 3
   },
   "file_extension": ".py",
   "mimetype": "text/x-python",
   "name": "python",
   "nbconvert_exporter": "python",
   "pygments_lexer": "ipython3",
   "version": 3
  },
  "orig_nbformat": 4
 }
}