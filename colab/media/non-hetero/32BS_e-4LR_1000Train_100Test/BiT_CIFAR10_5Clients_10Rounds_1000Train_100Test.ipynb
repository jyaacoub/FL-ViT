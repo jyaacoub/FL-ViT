{
 "cells": [
  {
   "cell_type": "code",
   "execution_count": 1,
   "source": [
    "from typing import Dict\n",
    "import flwr as fl\n",
    "import multiprocessing as mp\n",
    "from flower_helpers import (create_model, get_weights, test, load_data)\n",
    "from config import (NUM_ROUNDS, MODEL_NAME, NUM_CLASSES, \n",
    "                    PRE_TRAINED, TRAIN_SIZE, VAL_PORTION, \n",
    "                    TEST_SIZE, BATCH_SIZE, LEARNING_RATE, \n",
    "                    EPOCHS, FRAC_FIT, FRAC_EVAL, MIN_FIT,\n",
    "                    MIN_EVAL, MIN_AVAIL, FIT_CONFIG_FN,\n",
    "                    NUM_CLIENTS, CLIENT_RESOURCES)\n",
    "from client import FlowerClient"
   ],
   "outputs": [],
   "metadata": {}
  },
  {
   "cell_type": "code",
   "execution_count": 2,
   "source": [
    "# mp.set_start_method(\"spawn\")"
   ],
   "outputs": [],
   "metadata": {}
  },
  {
   "cell_type": "code",
   "execution_count": 3,
   "source": [
    "trainloaders, valloaders, testloader = load_data()"
   ],
   "outputs": [
    {
     "output_type": "stream",
     "name": "stderr",
     "text": [
      "Found cached dataset cifar10 (C:/Users/Jean/.cache/huggingface/datasets/cifar10/plain_text/1.0.0/447d6ec4733dddd1ce3bb577c7166b986eaa4c538dcd9e805ba61f35674a9de4)\n"
     ]
    },
    {
     "output_type": "display_data",
     "data": {
      "application/vnd.jupyter.widget-view+json": {
       "version_major": 2,
       "version_minor": 0,
       "model_id": "33c31e5f6b7b4312b5b9849c6c82f301"
      },
      "text/plain": [
       "  0%|          | 0/2 [00:00<?, ?it/s]"
      ]
     },
     "metadata": {}
    },
    {
     "output_type": "stream",
     "name": "stderr",
     "text": [
      "Loading cached shuffled indices for dataset at C:\\Users\\Jean\\.cache\\huggingface\\datasets\\cifar10\\plain_text\\1.0.0\\447d6ec4733dddd1ce3bb577c7166b986eaa4c538dcd9e805ba61f35674a9de4\\cache-16b9e105e7ead8c5.arrow\n",
      "Loading cached shuffled indices for dataset at C:\\Users\\Jean\\.cache\\huggingface\\datasets\\cifar10\\plain_text\\1.0.0\\447d6ec4733dddd1ce3bb577c7166b986eaa4c538dcd9e805ba61f35674a9de4\\cache-6d58bc2a635b7b42.arrow\n"
     ]
    },
    {
     "output_type": "display_data",
     "data": {
      "application/vnd.jupyter.widget-view+json": {
       "version_major": 2,
       "version_minor": 0,
       "model_id": "640ed849e42f45659d537ae5abda4745"
      },
      "text/plain": [
       "Map:   0%|          | 0/1000 [00:00<?, ? examples/s]"
      ]
     },
     "metadata": {}
    },
    {
     "output_type": "display_data",
     "data": {
      "application/vnd.jupyter.widget-view+json": {
       "version_major": 2,
       "version_minor": 0,
       "model_id": "c1d08b12622c4108a48d791b95a15090"
      },
      "text/plain": [
       "Map:   0%|          | 0/100 [00:00<?, ? examples/s]"
      ]
     },
     "metadata": {}
    }
   ],
   "metadata": {}
  },
  {
   "cell_type": "code",
   "execution_count": 4,
   "source": [
    "net = create_model()\n",
    "init_weights = get_weights(net)\n",
    "MODEL_CONFIG = net.config\n",
    "# Convert the weights (np.ndarray) to parameters (bytes)\n",
    "init_param = fl.common.ndarrays_to_parameters(init_weights)\n",
    "# del the net as we don't need it anymore\n",
    "del net"
   ],
   "outputs": [],
   "metadata": {}
  },
  {
   "cell_type": "code",
   "execution_count": 5,
   "source": [
    "# server side evaluation function\n",
    "def evaluate(server_round: int, params: fl.common.NDArrays,\n",
    "             config: Dict[str, fl.common.Scalar]):\n",
    "    data_size, metrics = test(MODEL_CONFIG, params, testloader)\n",
    "    # changing the name of the metric to avoid confusion\n",
    "    metrics['test_loss'] = metrics.pop('loss')\n",
    "    metrics['test_accuracy'] = metrics.pop('accuracy')\n",
    "    return metrics['test_loss'], metrics\n",
    "\n",
    "def weighted_average_eval(metrics):\n",
    "    weighted_train_loss = 0\n",
    "    weighted_train_accuracy = 0\n",
    "    for c in metrics: # c is a tuple (num_examples, metrics) for each client\n",
    "        weighted_train_loss += c[0] * c[1]['val_loss']\n",
    "        weighted_train_accuracy += c[0] * c[1]['val_accuracy']\n",
    "    \n",
    "    aggregated_metrics = {'val_loss': weighted_train_loss / sum([c[0] for c in metrics]),\n",
    "            'val_accuracy': weighted_train_accuracy / sum([c[0] for c in metrics])}\n",
    "    print('\\t',aggregated_metrics)\n",
    "    return aggregated_metrics\n",
    "\n",
    "def weighted_average_fit(metrics):\n",
    "    # print(metrics)\n",
    "    weighted_train_loss = 0\n",
    "    weighted_train_accuracy = 0\n",
    "    for c in metrics: # c is a tuple (num_examples, metrics) for each client\n",
    "        # metrics for each epoch is included, we only need the last one\n",
    "        weighted_train_loss += c[0] * c[1]['train_loss'][-1]\n",
    "        weighted_train_accuracy += c[0] * c[1]['train_accuracy'][-1]\n",
    "    \n",
    "    aggregated_metrics = {'train_loss': weighted_train_loss / sum([c[0] for c in metrics]),\n",
    "            'train_accuracy': weighted_train_accuracy / sum([c[0] for c in metrics])}\n",
    "    print('\\t',aggregated_metrics)\n",
    "    return aggregated_metrics"
   ],
   "outputs": [],
   "metadata": {}
  },
  {
   "cell_type": "code",
   "execution_count": 6,
   "source": [
    "strategy = fl.server.strategy.FedAvg(\n",
    "    fraction_fit=FRAC_FIT,\n",
    "    fraction_evaluate=FRAC_EVAL,\n",
    "    min_fit_clients=MIN_FIT,\n",
    "    min_evaluate_clients=MIN_EVAL,\n",
    "    min_available_clients=MIN_AVAIL,\n",
    "    \n",
    "    fit_metrics_aggregation_fn=weighted_average_fit,\n",
    "    evaluate_metrics_aggregation_fn=weighted_average_eval,\n",
    "    evaluate_fn=evaluate,\n",
    "    on_fit_config_fn=FIT_CONFIG_FN,\n",
    "    \n",
    "    initial_parameters=init_param,\n",
    ")"
   ],
   "outputs": [],
   "metadata": {}
  },
  {
   "cell_type": "code",
   "execution_count": 7,
   "source": [
    "fl.simulation.start_simulation(\n",
    "    client_fn=lambda cid: FlowerClient(MODEL_CONFIG, trainloaders[int(cid)], valloaders[int(cid)]),\n",
    "    num_clients=NUM_CLIENTS,\n",
    "    config=fl.server.ServerConfig(num_rounds=NUM_ROUNDS),\n",
    "    strategy=strategy,\n",
    "    client_resources=CLIENT_RESOURCES,\n",
    ")"
   ],
   "outputs": [
    {
     "output_type": "stream",
     "name": "stderr",
     "text": [
      "INFO flwr 2023-04-09 12:29:47,264 | app.py:145 | Starting Flower simulation, config: ServerConfig(num_rounds=10, round_timeout=None)\n",
      "2023-04-09 12:29:49,293\tINFO worker.py:1529 -- Started a local Ray instance. View the dashboard at \u001b[1m\u001b[32m127.0.0.1:8265 \u001b[39m\u001b[22m\n",
      "INFO flwr 2023-04-09 12:29:50,589 | app.py:179 | Flower VCE: Ray initialized with resources: {'object_store_memory': 6864548659.0, 'CPU': 24.0, 'GPU': 1.0, 'memory': 13729097319.0, 'node:127.0.0.1': 1.0}\n",
      "INFO flwr 2023-04-09 12:29:50,590 | server.py:86 | Initializing global parameters\n",
      "INFO flwr 2023-04-09 12:29:50,590 | server.py:266 | Using initial parameters provided by strategy\n",
      "INFO flwr 2023-04-09 12:29:50,591 | server.py:88 | Evaluating initial parameters\n",
      "INFO flwr 2023-04-09 12:30:08,908 | server.py:91 | initial parameters (loss, other metrics): 17.05419921875, {'test_loss': 17.05419921875, 'test_accuracy': 0.11}\n",
      "INFO flwr 2023-04-09 12:30:08,909 | server.py:101 | FL starting\n",
      "DEBUG flwr 2023-04-09 12:30:08,909 | server.py:215 | fit_round 1: strategy sampled 2 clients (out of 5)\n",
      "DEBUG flwr 2023-04-09 12:35:08,536 | server.py:229 | fit_round 1 received 2 results and 0 failures\n"
     ]
    },
    {
     "output_type": "stream",
     "name": "stdout",
     "text": [
      "\t {'train_loss': 1.3714876174926758, 'train_accuracy': 0.3333333333333333}\n"
     ]
    },
    {
     "output_type": "stream",
     "name": "stderr",
     "text": [
      "INFO flwr 2023-04-09 12:35:26,763 | server.py:116 | fit progress: (1, 5.994919776916504, {'test_loss': 5.994919776916504, 'test_accuracy': 0.45}, 317.8836947999953)\n",
      "DEBUG flwr 2023-04-09 12:35:26,764 | server.py:165 | evaluate_round 1: strategy sampled 2 clients (out of 5)\n",
      "DEBUG flwr 2023-04-09 12:35:42,261 | server.py:179 | evaluate_round 1 received 2 results and 0 failures\n",
      "DEBUG flwr 2023-04-09 12:35:42,261 | server.py:215 | fit_round 2: strategy sampled 2 clients (out of 5)\n"
     ]
    },
    {
     "output_type": "stream",
     "name": "stdout",
     "text": [
      "\t {'val_loss': 1.5944551229476929, 'val_accuracy': 0.4}\n"
     ]
    },
    {
     "output_type": "stream",
     "name": "stderr",
     "text": [
      "DEBUG flwr 2023-04-09 12:40:37,463 | server.py:229 | fit_round 2 received 2 results and 0 failures\n"
     ]
    },
    {
     "output_type": "stream",
     "name": "stdout",
     "text": [
      "\t {'train_loss': 1.1681708097457886, 'train_accuracy': 0.46388888888888885}\n"
     ]
    },
    {
     "output_type": "stream",
     "name": "stderr",
     "text": [
      "INFO flwr 2023-04-09 12:40:56,128 | server.py:116 | fit progress: (2, 4.977465629577637, {'test_loss': 4.977465629577637, 'test_accuracy': 0.62}, 647.2782787000033)\n",
      "DEBUG flwr 2023-04-09 12:40:56,129 | server.py:165 | evaluate_round 2: strategy sampled 2 clients (out of 5)\n",
      "DEBUG flwr 2023-04-09 12:41:11,758 | server.py:179 | evaluate_round 2 received 2 results and 0 failures\n",
      "DEBUG flwr 2023-04-09 12:41:11,759 | server.py:215 | fit_round 3: strategy sampled 2 clients (out of 5)\n"
     ]
    },
    {
     "output_type": "stream",
     "name": "stdout",
     "text": [
      "\t {'val_loss': 1.33826744556427, 'val_accuracy': 0.575}\n"
     ]
    },
    {
     "output_type": "stream",
     "name": "stderr",
     "text": [
      "DEBUG flwr 2023-04-09 12:46:09,146 | server.py:229 | fit_round 3 received 2 results and 0 failures\n"
     ]
    },
    {
     "output_type": "stream",
     "name": "stdout",
     "text": [
      "\t {'train_loss': 1.1326001286506653, 'train_accuracy': 0.4888888888888889}\n"
     ]
    },
    {
     "output_type": "stream",
     "name": "stderr",
     "text": [
      "INFO flwr 2023-04-09 12:46:27,456 | server.py:116 | fit progress: (3, 3.8078718185424805, {'test_loss': 3.8078718185424805, 'test_accuracy': 0.65}, 978.6362276)\n",
      "DEBUG flwr 2023-04-09 12:46:27,457 | server.py:165 | evaluate_round 3: strategy sampled 2 clients (out of 5)\n",
      "DEBUG flwr 2023-04-09 12:46:42,937 | server.py:179 | evaluate_round 3 received 2 results and 0 failures\n",
      "DEBUG flwr 2023-04-09 12:46:42,938 | server.py:215 | fit_round 4: strategy sampled 2 clients (out of 5)\n"
     ]
    },
    {
     "output_type": "stream",
     "name": "stdout",
     "text": [
      "\t {'val_loss': 0.9811164140701294, 'val_accuracy': 0.625}\n"
     ]
    },
    {
     "output_type": "stream",
     "name": "stderr",
     "text": [
      "DEBUG flwr 2023-04-09 12:52:53,038 | server.py:229 | fit_round 4 received 2 results and 0 failures\n"
     ]
    },
    {
     "output_type": "stream",
     "name": "stdout",
     "text": [
      "\t {'train_loss': 1.3480916619300842, 'train_accuracy': 0.6416666666666666}\n"
     ]
    },
    {
     "output_type": "stream",
     "name": "stderr",
     "text": [
      "INFO flwr 2023-04-09 12:53:16,098 | server.py:116 | fit progress: (4, 3.0592617988586426, {'test_loss': 3.0592617988586426, 'test_accuracy': 0.73}, 1387.3051919999998)\n",
      "DEBUG flwr 2023-04-09 12:53:16,100 | server.py:165 | evaluate_round 4: strategy sampled 2 clients (out of 5)\n",
      "DEBUG flwr 2023-04-09 12:53:44,382 | server.py:179 | evaluate_round 4 received 2 results and 0 failures\n",
      "DEBUG flwr 2023-04-09 12:53:44,383 | server.py:215 | fit_round 5: strategy sampled 2 clients (out of 5)\n"
     ]
    },
    {
     "output_type": "stream",
     "name": "stdout",
     "text": [
      "\t {'val_loss': 0.6709871590137482, 'val_accuracy': 0.8}\n"
     ]
    },
    {
     "output_type": "stream",
     "name": "stderr",
     "text": [
      "DEBUG flwr 2023-04-09 12:58:55,184 | server.py:229 | fit_round 5 received 2 results and 0 failures\n"
     ]
    },
    {
     "output_type": "stream",
     "name": "stdout",
     "text": [
      "\t {'train_loss': 0.7182789742946625, 'train_accuracy': 0.6694444444444444}\n"
     ]
    },
    {
     "output_type": "stream",
     "name": "stderr",
     "text": [
      "INFO flwr 2023-04-09 12:59:13,179 | server.py:116 | fit progress: (5, 2.419541358947754, {'test_loss': 2.419541358947754, 'test_accuracy': 0.71}, 1744.408858499999)\n",
      "DEBUG flwr 2023-04-09 12:59:13,179 | server.py:165 | evaluate_round 5: strategy sampled 2 clients (out of 5)\n",
      "DEBUG flwr 2023-04-09 12:59:28,348 | server.py:179 | evaluate_round 5 received 2 results and 0 failures\n",
      "DEBUG flwr 2023-04-09 12:59:28,348 | server.py:215 | fit_round 6: strategy sampled 2 clients (out of 5)\n"
     ]
    },
    {
     "output_type": "stream",
     "name": "stdout",
     "text": [
      "\t {'val_loss': 0.8732505738735199, 'val_accuracy': 0.725}\n"
     ]
    },
    {
     "output_type": "stream",
     "name": "stderr",
     "text": [
      "DEBUG flwr 2023-04-09 13:04:21,425 | server.py:229 | fit_round 6 received 2 results and 0 failures\n"
     ]
    },
    {
     "output_type": "stream",
     "name": "stdout",
     "text": [
      "\t {'train_loss': 0.5571982264518738, 'train_accuracy': 0.7888888888888889}\n"
     ]
    },
    {
     "output_type": "stream",
     "name": "stderr",
     "text": [
      "INFO flwr 2023-04-09 13:04:39,409 | server.py:116 | fit progress: (6, 2.62664794921875, {'test_loss': 2.62664794921875, 'test_accuracy': 0.73}, 2070.6593858999986)\n",
      "DEBUG flwr 2023-04-09 13:04:39,410 | server.py:165 | evaluate_round 6: strategy sampled 2 clients (out of 5)\n",
      "DEBUG flwr 2023-04-09 13:04:54,637 | server.py:179 | evaluate_round 6 received 2 results and 0 failures\n",
      "DEBUG flwr 2023-04-09 13:04:54,638 | server.py:215 | fit_round 7: strategy sampled 2 clients (out of 5)\n"
     ]
    },
    {
     "output_type": "stream",
     "name": "stdout",
     "text": [
      "\t {'val_loss': 0.42904285341501236, 'val_accuracy': 0.85}\n"
     ]
    },
    {
     "output_type": "stream",
     "name": "stderr",
     "text": [
      "DEBUG flwr 2023-04-09 13:09:47,400 | server.py:229 | fit_round 7 received 2 results and 0 failures\n"
     ]
    },
    {
     "output_type": "stream",
     "name": "stdout",
     "text": [
      "\t {'train_loss': 0.795827329158783, 'train_accuracy': 0.8194444444444443}\n"
     ]
    },
    {
     "output_type": "stream",
     "name": "stderr",
     "text": [
      "INFO flwr 2023-04-09 13:10:06,130 | server.py:116 | fit progress: (7, 2.8388242721557617, {'test_loss': 2.8388242721557617, 'test_accuracy': 0.71}, 2397.3950534000032)\n",
      "DEBUG flwr 2023-04-09 13:10:06,130 | server.py:165 | evaluate_round 7: strategy sampled 2 clients (out of 5)\n",
      "DEBUG flwr 2023-04-09 13:10:21,254 | server.py:179 | evaluate_round 7 received 2 results and 0 failures\n",
      "DEBUG flwr 2023-04-09 13:10:21,255 | server.py:215 | fit_round 8: strategy sampled 2 clients (out of 5)\n"
     ]
    },
    {
     "output_type": "stream",
     "name": "stdout",
     "text": [
      "\t {'val_loss': 0.5959099233150482, 'val_accuracy': 0.8}\n"
     ]
    },
    {
     "output_type": "stream",
     "name": "stderr",
     "text": [
      "DEBUG flwr 2023-04-09 13:15:13,324 | server.py:229 | fit_round 8 received 2 results and 0 failures\n"
     ]
    },
    {
     "output_type": "stream",
     "name": "stdout",
     "text": [
      "\t {'train_loss': 0.49378685653209686, 'train_accuracy': 0.8138888888888888}\n"
     ]
    },
    {
     "output_type": "stream",
     "name": "stderr",
     "text": [
      "INFO flwr 2023-04-09 13:15:31,235 | server.py:116 | fit progress: (8, 2.3509411811828613, {'test_loss': 2.3509411811828613, 'test_accuracy': 0.78}, 2722.515350799993)\n",
      "DEBUG flwr 2023-04-09 13:15:31,236 | server.py:165 | evaluate_round 8: strategy sampled 2 clients (out of 5)\n",
      "DEBUG flwr 2023-04-09 13:15:46,390 | server.py:179 | evaluate_round 8 received 2 results and 0 failures\n",
      "DEBUG flwr 2023-04-09 13:15:46,391 | server.py:215 | fit_round 9: strategy sampled 2 clients (out of 5)\n"
     ]
    },
    {
     "output_type": "stream",
     "name": "stdout",
     "text": [
      "\t {'val_loss': 0.27168411761522293, 'val_accuracy': 0.875}\n"
     ]
    },
    {
     "output_type": "stream",
     "name": "stderr",
     "text": [
      "DEBUG flwr 2023-04-09 13:20:37,521 | server.py:229 | fit_round 9 received 2 results and 0 failures\n"
     ]
    },
    {
     "output_type": "stream",
     "name": "stdout",
     "text": [
      "\t {'train_loss': 0.3032759949564934, 'train_accuracy': 0.9055555555555556}\n"
     ]
    },
    {
     "output_type": "stream",
     "name": "stderr",
     "text": [
      "INFO flwr 2023-04-09 13:20:55,435 | server.py:116 | fit progress: (9, 2.275913715362549, {'test_loss': 2.275913715362549, 'test_accuracy': 0.8}, 3046.729901800005)\n",
      "DEBUG flwr 2023-04-09 13:20:55,435 | server.py:165 | evaluate_round 9: strategy sampled 2 clients (out of 5)\n",
      "DEBUG flwr 2023-04-09 13:21:10,824 | server.py:179 | evaluate_round 9 received 2 results and 0 failures\n",
      "DEBUG flwr 2023-04-09 13:21:10,825 | server.py:215 | fit_round 10: strategy sampled 2 clients (out of 5)\n"
     ]
    },
    {
     "output_type": "stream",
     "name": "stdout",
     "text": [
      "\t {'val_loss': 0.621816024184227, 'val_accuracy': 0.825}\n"
     ]
    },
    {
     "output_type": "stream",
     "name": "stderr",
     "text": [
      "DEBUG flwr 2023-04-09 13:26:03,001 | server.py:229 | fit_round 10 received 2 results and 0 failures\n"
     ]
    },
    {
     "output_type": "stream",
     "name": "stdout",
     "text": [
      "\t {'train_loss': 0.7861122786998749, 'train_accuracy': 0.8444444444444444}\n"
     ]
    },
    {
     "output_type": "stream",
     "name": "stderr",
     "text": [
      "INFO flwr 2023-04-09 13:26:21,031 | server.py:116 | fit progress: (10, 2.039668560028076, {'test_loss': 2.039668560028076, 'test_accuracy': 0.78}, 3372.337421300006)\n",
      "DEBUG flwr 2023-04-09 13:26:21,032 | server.py:165 | evaluate_round 10: strategy sampled 2 clients (out of 5)\n",
      "DEBUG flwr 2023-04-09 13:26:36,286 | server.py:179 | evaluate_round 10 received 2 results and 0 failures\n",
      "INFO flwr 2023-04-09 13:26:36,287 | server.py:144 | FL finished in 3387.593078299993\n",
      "INFO flwr 2023-04-09 13:26:36,302 | app.py:202 | app_fit: losses_distributed [(1, 1.5944551229476929), (2, 1.33826744556427), (3, 0.9811164140701294), (4, 0.6709871590137482), (5, 0.8732505738735199), (6, 0.42904285341501236), (7, 0.5959099233150482), (8, 0.27168411761522293), (9, 0.621816024184227), (10, 0.6743447482585907)]\n",
      "INFO flwr 2023-04-09 13:26:36,302 | app.py:203 | app_fit: metrics_distributed {'val_loss': [(1, 1.5944551229476929), (2, 1.33826744556427), (3, 0.9811164140701294), (4, 0.6709871590137482), (5, 0.8732505738735199), (6, 0.42904285341501236), (7, 0.5959099233150482), (8, 0.27168411761522293), (9, 0.621816024184227), (10, 0.6743447482585907)], 'val_accuracy': [(1, 0.4), (2, 0.575), (3, 0.625), (4, 0.8), (5, 0.725), (6, 0.85), (7, 0.8), (8, 0.875), (9, 0.825), (10, 0.8)]}\n",
      "INFO flwr 2023-04-09 13:26:36,303 | app.py:204 | app_fit: losses_centralized [(0, 17.05419921875), (1, 5.994919776916504), (2, 4.977465629577637), (3, 3.8078718185424805), (4, 3.0592617988586426), (5, 2.419541358947754), (6, 2.62664794921875), (7, 2.8388242721557617), (8, 2.3509411811828613), (9, 2.275913715362549), (10, 2.039668560028076)]\n",
      "INFO flwr 2023-04-09 13:26:36,303 | app.py:205 | app_fit: metrics_centralized {'test_loss': [(0, 17.05419921875), (1, 5.994919776916504), (2, 4.977465629577637), (3, 3.8078718185424805), (4, 3.0592617988586426), (5, 2.419541358947754), (6, 2.62664794921875), (7, 2.8388242721557617), (8, 2.3509411811828613), (9, 2.275913715362549), (10, 2.039668560028076)], 'test_accuracy': [(0, 0.11), (1, 0.45), (2, 0.62), (3, 0.65), (4, 0.73), (5, 0.71), (6, 0.73), (7, 0.71), (8, 0.78), (9, 0.8), (10, 0.78)]}\n"
     ]
    },
    {
     "output_type": "stream",
     "name": "stdout",
     "text": [
      "\t {'val_loss': 0.6743447482585907, 'val_accuracy': 0.8}\n"
     ]
    },
    {
     "output_type": "execute_result",
     "data": {
      "text/plain": [
       "History (loss, distributed):\n",
       "\tround 1: 1.5944551229476929\n",
       "\tround 2: 1.33826744556427\n",
       "\tround 3: 0.9811164140701294\n",
       "\tround 4: 0.6709871590137482\n",
       "\tround 5: 0.8732505738735199\n",
       "\tround 6: 0.42904285341501236\n",
       "\tround 7: 0.5959099233150482\n",
       "\tround 8: 0.27168411761522293\n",
       "\tround 9: 0.621816024184227\n",
       "\tround 10: 0.6743447482585907\n",
       "History (loss, centralized):\n",
       "\tround 0: 17.05419921875\n",
       "\tround 1: 5.994919776916504\n",
       "\tround 2: 4.977465629577637\n",
       "\tround 3: 3.8078718185424805\n",
       "\tround 4: 3.0592617988586426\n",
       "\tround 5: 2.419541358947754\n",
       "\tround 6: 2.62664794921875\n",
       "\tround 7: 2.8388242721557617\n",
       "\tround 8: 2.3509411811828613\n",
       "\tround 9: 2.275913715362549\n",
       "\tround 10: 2.039668560028076\n",
       "History (metrics, distributed):\n",
       "{'val_loss': [(1, 1.5944551229476929), (2, 1.33826744556427), (3, 0.9811164140701294), (4, 0.6709871590137482), (5, 0.8732505738735199), (6, 0.42904285341501236), (7, 0.5959099233150482), (8, 0.27168411761522293), (9, 0.621816024184227), (10, 0.6743447482585907)], 'val_accuracy': [(1, 0.4), (2, 0.575), (3, 0.625), (4, 0.8), (5, 0.725), (6, 0.85), (7, 0.8), (8, 0.875), (9, 0.825), (10, 0.8)]}History (metrics, centralized):\n",
       "{'test_loss': [(0, 17.05419921875), (1, 5.994919776916504), (2, 4.977465629577637), (3, 3.8078718185424805), (4, 3.0592617988586426), (5, 2.419541358947754), (6, 2.62664794921875), (7, 2.8388242721557617), (8, 2.3509411811828613), (9, 2.275913715362549), (10, 2.039668560028076)], 'test_accuracy': [(0, 0.11), (1, 0.45), (2, 0.62), (3, 0.65), (4, 0.73), (5, 0.71), (6, 0.73), (7, 0.71), (8, 0.78), (9, 0.8), (10, 0.78)]}"
      ]
     },
     "metadata": {},
     "execution_count": 7
    }
   ],
   "metadata": {}
  }
 ],
 "nbformat": 4,
 "nbformat_minor": 2,
 "metadata": {
  "language_info": {
   "codemirror_mode": {
    "name": "ipython",
    "version": 3
   },
   "file_extension": ".py",
   "mimetype": "text/x-python",
   "name": "python",
   "nbconvert_exporter": "python",
   "pygments_lexer": "ipython3",
   "version": 3
  },
  "orig_nbformat": 4
 }
}