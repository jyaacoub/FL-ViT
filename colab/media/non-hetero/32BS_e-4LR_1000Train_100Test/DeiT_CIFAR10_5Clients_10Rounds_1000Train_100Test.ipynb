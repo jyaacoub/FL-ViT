{
 "cells": [
  {
   "cell_type": "code",
   "execution_count": 7,
   "source": [
    "fl.simulation.start_simulation(\n",
    "    client_fn=lambda cid: FlowerClient(MODEL_CONFIG, trainloaders[int(cid)], valloaders[int(cid)]),\n",
    "    num_clients=NUM_CLIENTS,\n",
    "    config=fl.server.ServerConfig(num_rounds=NUM_ROUNDS),\n",
    "    strategy=strategy,\n",
    "    client_resources=CLIENT_RESOURCES,\n",
    ")"
   ],
   "outputs": [
    {
     "output_type": "stream",
     "name": "stderr",
     "text": [
      "INFO flwr 2023-04-09 11:20:24,951 | app.py:145 | Starting Flower simulation, config: ServerConfig(num_rounds=10, round_timeout=None)\n",
      "2023-04-09 11:20:27,772\tINFO worker.py:1529 -- Started a local Ray instance. View the dashboard at \u001b[1m\u001b[32m127.0.0.1:8265 \u001b[39m\u001b[22m\n",
      "INFO flwr 2023-04-09 11:20:29,112 | app.py:179 | Flower VCE: Ray initialized with resources: {'memory': 12300337152.0, 'object_store_memory': 6150168576.0, 'GPU': 1.0, 'node:127.0.0.1': 1.0, 'CPU': 24.0}\n",
      "INFO flwr 2023-04-09 11:20:29,113 | server.py:86 | Initializing global parameters\n",
      "INFO flwr 2023-04-09 11:20:29,114 | server.py:266 | Using initial parameters provided by strategy\n",
      "INFO flwr 2023-04-09 11:20:29,114 | server.py:88 | Evaluating initial parameters\n",
      "INFO flwr 2023-04-09 11:20:38,504 | server.py:91 | initial parameters (loss, other metrics): 9.236842155456543, {'test_loss': 9.236842155456543, 'test_accuracy': 0.12}\n",
      "INFO flwr 2023-04-09 11:20:38,505 | server.py:101 | FL starting\n",
      "DEBUG flwr 2023-04-09 11:20:38,505 | server.py:215 | fit_round 1: strategy sampled 2 clients (out of 5)\n",
      "DEBUG flwr 2023-04-09 11:24:01,650 | server.py:229 | fit_round 1 received 2 results and 0 failures\n"
     ]
    },
    {
     "output_type": "stream",
     "name": "stdout",
     "text": [
      "\t {'train_loss': 1.4962565302848816, 'train_accuracy': 0.36944444444444446}\n"
     ]
    },
    {
     "output_type": "stream",
     "name": "stderr",
     "text": [
      "INFO flwr 2023-04-09 11:24:11,583 | server.py:116 | fit progress: (1, 5.17803955078125, {'test_loss': 5.17803955078125, 'test_accuracy': 0.68}, 213.07810050000262)\n",
      "DEBUG flwr 2023-04-09 11:24:11,584 | server.py:165 | evaluate_round 1: strategy sampled 2 clients (out of 5)\n",
      "DEBUG flwr 2023-04-09 11:24:22,799 | server.py:179 | evaluate_round 1 received 2 results and 0 failures\n",
      "DEBUG flwr 2023-04-09 11:24:22,799 | server.py:215 | fit_round 2: strategy sampled 2 clients (out of 5)\n"
     ]
    },
    {
     "output_type": "stream",
     "name": "stdout",
     "text": [
      "\t {'val_loss': 1.472307801246643, 'val_accuracy': 0.55}\n"
     ]
    },
    {
     "output_type": "stream",
     "name": "stderr",
     "text": [
      "DEBUG flwr 2023-04-09 11:29:42,280 | server.py:229 | fit_round 2 received 2 results and 0 failures\n"
     ]
    },
    {
     "output_type": "stream",
     "name": "stdout",
     "text": [
      "\t {'train_loss': 0.6850693076848984, 'train_accuracy': 0.8111111111111112}\n"
     ]
    },
    {
     "output_type": "stream",
     "name": "stderr",
     "text": [
      "INFO flwr 2023-04-09 11:30:04,210 | server.py:116 | fit progress: (2, 2.582829236984253, {'test_loss': 2.582829236984253, 'test_accuracy': 0.78}, 565.7050757999968)\n",
      "DEBUG flwr 2023-04-09 11:30:04,211 | server.py:165 | evaluate_round 2: strategy sampled 2 clients (out of 5)\n",
      "DEBUG flwr 2023-04-09 11:30:27,960 | server.py:179 | evaluate_round 2 received 2 results and 0 failures\n",
      "DEBUG flwr 2023-04-09 11:30:27,961 | server.py:215 | fit_round 3: strategy sampled 2 clients (out of 5)\n"
     ]
    },
    {
     "output_type": "stream",
     "name": "stdout",
     "text": [
      "\t {'val_loss': 0.6838656067848206, 'val_accuracy': 0.875}\n"
     ]
    },
    {
     "output_type": "stream",
     "name": "stderr",
     "text": [
      "DEBUG flwr 2023-04-09 11:37:02,833 | server.py:229 | fit_round 3 received 2 results and 0 failures\n"
     ]
    },
    {
     "output_type": "stream",
     "name": "stdout",
     "text": [
      "\t {'train_loss': 0.6318467855453491, 'train_accuracy': 0.8444444444444444}\n"
     ]
    },
    {
     "output_type": "stream",
     "name": "stderr",
     "text": [
      "INFO flwr 2023-04-09 11:37:12,668 | server.py:116 | fit progress: (3, 2.5422940254211426, {'test_loss': 2.5422940254211426, 'test_accuracy': 0.87}, 994.162868200001)\n",
      "DEBUG flwr 2023-04-09 11:37:12,669 | server.py:165 | evaluate_round 3: strategy sampled 2 clients (out of 5)\n",
      "DEBUG flwr 2023-04-09 11:37:23,720 | server.py:179 | evaluate_round 3 received 2 results and 0 failures\n",
      "DEBUG flwr 2023-04-09 11:37:23,721 | server.py:215 | fit_round 4: strategy sampled 2 clients (out of 5)\n"
     ]
    },
    {
     "output_type": "stream",
     "name": "stdout",
     "text": [
      "\t {'val_loss': 0.2938675135374069, 'val_accuracy': 0.925}\n"
     ]
    },
    {
     "output_type": "stream",
     "name": "stderr",
     "text": [
      "DEBUG flwr 2023-04-09 11:42:11,609 | server.py:229 | fit_round 4 received 2 results and 0 failures\n"
     ]
    },
    {
     "output_type": "stream",
     "name": "stdout",
     "text": [
      "\t {'train_loss': 0.409905806183815, 'train_accuracy': 0.9333333333333332}\n"
     ]
    },
    {
     "output_type": "stream",
     "name": "stderr",
     "text": [
      "INFO flwr 2023-04-09 11:42:21,428 | server.py:116 | fit progress: (4, 1.2162244319915771, {'test_loss': 1.2162244319915771, 'test_accuracy': 0.91}, 1302.9909202999988)\n",
      "DEBUG flwr 2023-04-09 11:42:21,428 | server.py:165 | evaluate_round 4: strategy sampled 2 clients (out of 5)\n",
      "DEBUG flwr 2023-04-09 11:42:32,403 | server.py:179 | evaluate_round 4 received 2 results and 0 failures\n",
      "DEBUG flwr 2023-04-09 11:42:32,404 | server.py:215 | fit_round 5: strategy sampled 2 clients (out of 5)\n"
     ]
    },
    {
     "output_type": "stream",
     "name": "stdout",
     "text": [
      "\t {'val_loss': 0.2600134164094925, 'val_accuracy': 0.95}\n"
     ]
    },
    {
     "output_type": "stream",
     "name": "stderr",
     "text": [
      "DEBUG flwr 2023-04-09 11:46:45,650 | server.py:229 | fit_round 5 received 2 results and 0 failures\n"
     ]
    },
    {
     "output_type": "stream",
     "name": "stdout",
     "text": [
      "\t {'train_loss': 0.2554735466837883, 'train_accuracy': 0.9611111111111109}\n"
     ]
    },
    {
     "output_type": "stream",
     "name": "stderr",
     "text": [
      "INFO flwr 2023-04-09 11:47:06,954 | server.py:116 | fit progress: (5, 1.8129031658172607, {'test_loss': 1.8129031658172607, 'test_accuracy': 0.92}, 1588.588517600001)\n",
      "DEBUG flwr 2023-04-09 11:47:06,955 | server.py:165 | evaluate_round 5: strategy sampled 2 clients (out of 5)\n",
      "DEBUG flwr 2023-04-09 11:47:26,780 | server.py:179 | evaluate_round 5 received 2 results and 0 failures\n",
      "DEBUG flwr 2023-04-09 11:47:26,780 | server.py:215 | fit_round 6: strategy sampled 2 clients (out of 5)\n"
     ]
    },
    {
     "output_type": "stream",
     "name": "stdout",
     "text": [
      "\t {'val_loss': 0.28926077112555504, 'val_accuracy': 0.925}\n"
     ]
    },
    {
     "output_type": "stream",
     "name": "stderr",
     "text": [
      "DEBUG flwr 2023-04-09 11:51:11,680 | server.py:229 | fit_round 6 received 2 results and 0 failures\n"
     ]
    },
    {
     "output_type": "stream",
     "name": "stdout",
     "text": [
      "\t {'train_loss': 0.0957757979631424, 'train_accuracy': 0.9388888888888888}\n"
     ]
    },
    {
     "output_type": "stream",
     "name": "stderr",
     "text": [
      "INFO flwr 2023-04-09 11:51:21,466 | server.py:116 | fit progress: (6, 0.7048214673995972, {'test_loss': 0.7048214673995972, 'test_accuracy': 0.93}, 1843.164450199998)\n",
      "DEBUG flwr 2023-04-09 11:51:21,467 | server.py:165 | evaluate_round 6: strategy sampled 2 clients (out of 5)\n",
      "DEBUG flwr 2023-04-09 11:51:32,520 | server.py:179 | evaluate_round 6 received 2 results and 0 failures\n",
      "DEBUG flwr 2023-04-09 11:51:32,521 | server.py:215 | fit_round 7: strategy sampled 2 clients (out of 5)\n"
     ]
    },
    {
     "output_type": "stream",
     "name": "stdout",
     "text": [
      "\t {'val_loss': 0.3163005858659744, 'val_accuracy': 0.875}\n"
     ]
    },
    {
     "output_type": "stream",
     "name": "stderr",
     "text": [
      "DEBUG flwr 2023-04-09 11:54:51,533 | server.py:229 | fit_round 7 received 2 results and 0 failures\n"
     ]
    },
    {
     "output_type": "stream",
     "name": "stdout",
     "text": [
      "\t {'train_loss': 0.046476864255964756, 'train_accuracy': 0.9833333333333334}\n"
     ]
    },
    {
     "output_type": "stream",
     "name": "stderr",
     "text": [
      "INFO flwr 2023-04-09 11:55:01,431 | server.py:116 | fit progress: (7, 0.6045773029327393, {'test_loss': 0.6045773029327393, 'test_accuracy': 0.93}, 2063.184043100002)\n",
      "DEBUG flwr 2023-04-09 11:55:01,432 | server.py:165 | evaluate_round 7: strategy sampled 2 clients (out of 5)\n",
      "DEBUG flwr 2023-04-09 11:55:12,478 | server.py:179 | evaluate_round 7 received 2 results and 0 failures\n",
      "DEBUG flwr 2023-04-09 11:55:12,478 | server.py:215 | fit_round 8: strategy sampled 2 clients (out of 5)\n"
     ]
    },
    {
     "output_type": "stream",
     "name": "stdout",
     "text": [
      "\t {'val_loss': 0.2719299644231796, 'val_accuracy': 0.8999999999999999}\n"
     ]
    },
    {
     "output_type": "stream",
     "name": "stderr",
     "text": [
      "DEBUG flwr 2023-04-09 11:58:30,491 | server.py:229 | fit_round 8 received 2 results and 0 failures\n"
     ]
    },
    {
     "output_type": "stream",
     "name": "stdout",
     "text": [
      "\t {'train_loss': 0.06789739150553942, 'train_accuracy': 0.9638888888888889}\n"
     ]
    },
    {
     "output_type": "stream",
     "name": "stderr",
     "text": [
      "INFO flwr 2023-04-09 11:58:40,233 | server.py:116 | fit progress: (8, 0.8453680276870728, {'test_loss': 0.8453680276870728, 'test_accuracy': 0.9}, 2282.0247574999958)\n",
      "DEBUG flwr 2023-04-09 11:58:40,234 | server.py:165 | evaluate_round 8: strategy sampled 2 clients (out of 5)\n",
      "DEBUG flwr 2023-04-09 11:58:51,178 | server.py:179 | evaluate_round 8 received 2 results and 0 failures\n",
      "DEBUG flwr 2023-04-09 11:58:51,179 | server.py:215 | fit_round 9: strategy sampled 2 clients (out of 5)\n"
     ]
    },
    {
     "output_type": "stream",
     "name": "stdout",
     "text": [
      "\t {'val_loss': 0.21363933384418488, 'val_accuracy': 0.925}\n"
     ]
    },
    {
     "output_type": "stream",
     "name": "stderr",
     "text": [
      "DEBUG flwr 2023-04-09 12:02:08,009 | server.py:229 | fit_round 9 received 2 results and 0 failures\n"
     ]
    },
    {
     "output_type": "stream",
     "name": "stdout",
     "text": [
      "\t {'train_loss': 0.007433181977830827, 'train_accuracy': 0.986111111111111}\n"
     ]
    },
    {
     "output_type": "stream",
     "name": "stderr",
     "text": [
      "INFO flwr 2023-04-09 12:02:17,586 | server.py:116 | fit progress: (9, 1.5007106065750122, {'test_loss': 1.5007106065750122, 'test_accuracy': 0.86}, 2499.4171773999988)\n",
      "DEBUG flwr 2023-04-09 12:02:17,587 | server.py:165 | evaluate_round 9: strategy sampled 2 clients (out of 5)\n",
      "DEBUG flwr 2023-04-09 12:02:28,526 | server.py:179 | evaluate_round 9 received 2 results and 0 failures\n",
      "DEBUG flwr 2023-04-09 12:02:28,527 | server.py:215 | fit_round 10: strategy sampled 2 clients (out of 5)\n"
     ]
    },
    {
     "output_type": "stream",
     "name": "stdout",
     "text": [
      "\t {'val_loss': 0.6628520637750626, 'val_accuracy': 0.8500000000000001}\n"
     ]
    },
    {
     "output_type": "stream",
     "name": "stderr",
     "text": [
      "DEBUG flwr 2023-04-09 12:05:44,898 | server.py:229 | fit_round 10 received 2 results and 0 failures\n"
     ]
    },
    {
     "output_type": "stream",
     "name": "stdout",
     "text": [
      "\t {'train_loss': 0.27242136004497297, 'train_accuracy': 0.9722222222222222}\n"
     ]
    },
    {
     "output_type": "stream",
     "name": "stderr",
     "text": [
      "INFO flwr 2023-04-09 12:05:54,632 | server.py:116 | fit progress: (10, 1.6314283609390259, {'test_loss': 1.6314283609390259, 'test_accuracy': 0.9}, 2716.501905099998)\n",
      "DEBUG flwr 2023-04-09 12:05:54,633 | server.py:165 | evaluate_round 10: strategy sampled 2 clients (out of 5)\n",
      "DEBUG flwr 2023-04-09 12:06:05,539 | server.py:179 | evaluate_round 10 received 2 results and 0 failures\n",
      "INFO flwr 2023-04-09 12:06:05,540 | server.py:144 | FL finished in 2727.411172100008\n",
      "INFO flwr 2023-04-09 12:06:05,560 | app.py:202 | app_fit: losses_distributed [(1, 1.472307801246643), (2, 0.6838656067848206), (3, 0.2938675135374069), (4, 0.2600134164094925), (5, 0.28926077112555504), (6, 0.3163005858659744), (7, 0.2719299644231796), (8, 0.21363933384418488), (9, 0.6628520637750626), (10, 0.452567458152771)]\n",
      "INFO flwr 2023-04-09 12:06:05,561 | app.py:203 | app_fit: metrics_distributed {'val_loss': [(1, 1.472307801246643), (2, 0.6838656067848206), (3, 0.2938675135374069), (4, 0.2600134164094925), (5, 0.28926077112555504), (6, 0.3163005858659744), (7, 0.2719299644231796), (8, 0.21363933384418488), (9, 0.6628520637750626), (10, 0.452567458152771)], 'val_accuracy': [(1, 0.55), (2, 0.875), (3, 0.925), (4, 0.95), (5, 0.925), (6, 0.875), (7, 0.8999999999999999), (8, 0.925), (9, 0.8500000000000001), (10, 0.875)]}\n",
      "INFO flwr 2023-04-09 12:06:05,561 | app.py:204 | app_fit: losses_centralized [(0, 9.236842155456543), (1, 5.17803955078125), (2, 2.582829236984253), (3, 2.5422940254211426), (4, 1.2162244319915771), (5, 1.8129031658172607), (6, 0.7048214673995972), (7, 0.6045773029327393), (8, 0.8453680276870728), (9, 1.5007106065750122), (10, 1.6314283609390259)]\n",
      "INFO flwr 2023-04-09 12:06:05,561 | app.py:205 | app_fit: metrics_centralized {'test_loss': [(0, 9.236842155456543), (1, 5.17803955078125), (2, 2.582829236984253), (3, 2.5422940254211426), (4, 1.2162244319915771), (5, 1.8129031658172607), (6, 0.7048214673995972), (7, 0.6045773029327393), (8, 0.8453680276870728), (9, 1.5007106065750122), (10, 1.6314283609390259)], 'test_accuracy': [(0, 0.12), (1, 0.68), (2, 0.78), (3, 0.87), (4, 0.91), (5, 0.92), (6, 0.93), (7, 0.93), (8, 0.9), (9, 0.86), (10, 0.9)]}\n"
     ]
    },
    {
     "output_type": "stream",
     "name": "stdout",
     "text": [
      "\t {'val_loss': 0.452567458152771, 'val_accuracy': 0.875}\n"
     ]
    },
    {
     "output_type": "execute_result",
     "data": {
      "text/plain": [
       "History (loss, distributed):\n",
       "\tround 1: 1.472307801246643\n",
       "\tround 2: 0.6838656067848206\n",
       "\tround 3: 0.2938675135374069\n",
       "\tround 4: 0.2600134164094925\n",
       "\tround 5: 0.28926077112555504\n",
       "\tround 6: 0.3163005858659744\n",
       "\tround 7: 0.2719299644231796\n",
       "\tround 8: 0.21363933384418488\n",
       "\tround 9: 0.6628520637750626\n",
       "\tround 10: 0.452567458152771\n",
       "History (loss, centralized):\n",
       "\tround 0: 9.236842155456543\n",
       "\tround 1: 5.17803955078125\n",
       "\tround 2: 2.582829236984253\n",
       "\tround 3: 2.5422940254211426\n",
       "\tround 4: 1.2162244319915771\n",
       "\tround 5: 1.8129031658172607\n",
       "\tround 6: 0.7048214673995972\n",
       "\tround 7: 0.6045773029327393\n",
       "\tround 8: 0.8453680276870728\n",
       "\tround 9: 1.5007106065750122\n",
       "\tround 10: 1.6314283609390259\n",
       "History (metrics, distributed):\n",
       "{'val_loss': [(1, 1.472307801246643), (2, 0.6838656067848206), (3, 0.2938675135374069), (4, 0.2600134164094925), (5, 0.28926077112555504), (6, 0.3163005858659744), (7, 0.2719299644231796), (8, 0.21363933384418488), (9, 0.6628520637750626), (10, 0.452567458152771)], 'val_accuracy': [(1, 0.55), (2, 0.875), (3, 0.925), (4, 0.95), (5, 0.925), (6, 0.875), (7, 0.8999999999999999), (8, 0.925), (9, 0.8500000000000001), (10, 0.875)]}History (metrics, centralized):\n",
       "{'test_loss': [(0, 9.236842155456543), (1, 5.17803955078125), (2, 2.582829236984253), (3, 2.5422940254211426), (4, 1.2162244319915771), (5, 1.8129031658172607), (6, 0.7048214673995972), (7, 0.6045773029327393), (8, 0.8453680276870728), (9, 1.5007106065750122), (10, 1.6314283609390259)], 'test_accuracy': [(0, 0.12), (1, 0.68), (2, 0.78), (3, 0.87), (4, 0.91), (5, 0.92), (6, 0.93), (7, 0.93), (8, 0.9), (9, 0.86), (10, 0.9)]}"
      ]
     },
     "metadata": {},
     "execution_count": 7
    }
   ],
   "metadata": {}
  }
 ],
 "nbformat": 4,
 "nbformat_minor": 2,
 "metadata": {
  "language_info": {
   "codemirror_mode": {
    "name": "ipython",
    "version": 3
   },
   "file_extension": ".py",
   "mimetype": "text/x-python",
   "name": "python",
   "nbconvert_exporter": "python",
   "pygments_lexer": "ipython3",
   "version": 3
  },
  "orig_nbformat": 4
 }
}