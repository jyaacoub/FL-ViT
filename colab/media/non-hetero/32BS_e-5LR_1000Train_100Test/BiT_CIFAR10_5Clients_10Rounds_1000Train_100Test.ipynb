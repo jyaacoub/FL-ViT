{
 "cells": [
  {
   "cell_type": "code",
   "execution_count": 7,
   "source": [
    "fl.simulation.start_simulation(\n",
    "    client_fn=lambda cid: FlowerClient(MODEL_CONFIG, trainloaders[int(cid)], valloaders[int(cid)]),\n",
    "    num_clients=NUM_CLIENTS,\n",
    "    config=fl.server.ServerConfig(num_rounds=NUM_ROUNDS),\n",
    "    strategy=strategy,\n",
    "    client_resources=CLIENT_RESOURCES,\n",
    ")"
   ],
   "outputs": [
    {
     "output_type": "stream",
     "name": "stderr",
     "text": [
      "INFO flwr 2023-04-08 22:06:49,978 | app.py:145 | Starting Flower simulation, config: ServerConfig(num_rounds=10, round_timeout=None)\n",
      "2023-04-08 22:06:52,023\tINFO worker.py:1529 -- Started a local Ray instance. View the dashboard at \u001b[1m\u001b[32m127.0.0.1:8265 \u001b[39m\u001b[22m\n",
      "INFO flwr 2023-04-08 22:06:53,404 | app.py:179 | Flower VCE: Ray initialized with resources: {'node:127.0.0.1': 1.0, 'memory': 14170175079.0, 'CPU': 24.0, 'GPU': 1.0, 'object_store_memory': 7085087539.0}\n",
      "INFO flwr 2023-04-08 22:06:53,405 | server.py:86 | Initializing global parameters\n",
      "INFO flwr 2023-04-08 22:06:53,405 | server.py:266 | Using initial parameters provided by strategy\n",
      "INFO flwr 2023-04-08 22:06:53,406 | server.py:88 | Evaluating initial parameters\n",
      "INFO flwr 2023-04-08 22:07:18,233 | server.py:91 | initial parameters (loss, other metrics): 12.957881927490234, {'test_loss': 12.957881927490234, 'test_accuracy': 0.1}\n",
      "INFO flwr 2023-04-08 22:07:18,234 | server.py:101 | FL starting\n",
      "DEBUG flwr 2023-04-08 22:07:18,235 | server.py:215 | fit_round 1: strategy sampled 2 clients (out of 5)\n",
      "DEBUG flwr 2023-04-08 22:12:16,861 | server.py:229 | fit_round 1 received 2 results and 0 failures\n"
     ]
    },
    {
     "output_type": "stream",
     "name": "stdout",
     "text": [
      "\t {'train_loss': 2.596365809440613, 'train_accuracy': 0.14722222222222223}\n"
     ]
    },
    {
     "output_type": "stream",
     "name": "stderr",
     "text": [
      "INFO flwr 2023-04-08 22:12:35,219 | server.py:116 | fit progress: (1, 8.028347969055176, {'test_loss': 8.028347969055176, 'test_accuracy': 0.31}, 316.98439820000203)\n",
      "DEBUG flwr 2023-04-08 22:12:35,221 | server.py:165 | evaluate_round 1: strategy sampled 2 clients (out of 5)\n",
      "DEBUG flwr 2023-04-08 22:12:50,814 | server.py:179 | evaluate_round 1 received 2 results and 0 failures\n",
      "DEBUG flwr 2023-04-08 22:12:50,814 | server.py:215 | fit_round 2: strategy sampled 2 clients (out of 5)\n"
     ]
    },
    {
     "output_type": "stream",
     "name": "stdout",
     "text": [
      "\t {'val_loss': 2.120806872844696, 'val_accuracy': 0.42500000000000004}\n"
     ]
    },
    {
     "output_type": "stream",
     "name": "stderr",
     "text": [
      "DEBUG flwr 2023-04-08 22:17:45,757 | server.py:229 | fit_round 2 received 2 results and 0 failures\n"
     ]
    },
    {
     "output_type": "stream",
     "name": "stdout",
     "text": [
      "\t {'train_loss': 1.7737002968788147, 'train_accuracy': 0.4527777777777778}\n"
     ]
    },
    {
     "output_type": "stream",
     "name": "stderr",
     "text": [
      "INFO flwr 2023-04-08 22:18:04,098 | server.py:116 | fit progress: (2, 6.448009967803955, {'test_loss': 6.448009967803955, 'test_accuracy': 0.52}, 645.8637467000008)\n",
      "DEBUG flwr 2023-04-08 22:18:04,099 | server.py:165 | evaluate_round 2: strategy sampled 2 clients (out of 5)\n",
      "DEBUG flwr 2023-04-08 22:18:19,434 | server.py:179 | evaluate_round 2 received 2 results and 0 failures\n",
      "DEBUG flwr 2023-04-08 22:18:19,435 | server.py:215 | fit_round 3: strategy sampled 2 clients (out of 5)\n"
     ]
    },
    {
     "output_type": "stream",
     "name": "stdout",
     "text": [
      "\t {'val_loss': 1.371188998222351, 'val_accuracy': 0.675}\n"
     ]
    },
    {
     "output_type": "stream",
     "name": "stderr",
     "text": [
      "DEBUG flwr 2023-04-08 22:23:13,469 | server.py:229 | fit_round 3 received 2 results and 0 failures\n"
     ]
    },
    {
     "output_type": "stream",
     "name": "stdout",
     "text": [
      "\t {'train_loss': 1.1238199174404144, 'train_accuracy': 0.6416666666666666}\n"
     ]
    },
    {
     "output_type": "stream",
     "name": "stderr",
     "text": [
      "INFO flwr 2023-04-08 22:23:31,807 | server.py:116 | fit progress: (3, 4.717401504516602, {'test_loss': 4.717401504516602, 'test_accuracy': 0.68}, 973.5720724999992)\n",
      "DEBUG flwr 2023-04-08 22:23:31,807 | server.py:165 | evaluate_round 3: strategy sampled 2 clients (out of 5)\n",
      "DEBUG flwr 2023-04-08 22:23:47,291 | server.py:179 | evaluate_round 3 received 2 results and 0 failures\n",
      "DEBUG flwr 2023-04-08 22:23:47,292 | server.py:215 | fit_round 4: strategy sampled 2 clients (out of 5)\n"
     ]
    },
    {
     "output_type": "stream",
     "name": "stdout",
     "text": [
      "\t {'val_loss': 1.0730488002300262, 'val_accuracy': 0.725}\n"
     ]
    },
    {
     "output_type": "stream",
     "name": "stderr",
     "text": [
      "DEBUG flwr 2023-04-08 22:28:43,093 | server.py:229 | fit_round 4 received 2 results and 0 failures\n"
     ]
    },
    {
     "output_type": "stream",
     "name": "stdout",
     "text": [
      "\t {'train_loss': 0.8756062984466553, 'train_accuracy': 0.763888888888889}\n"
     ]
    },
    {
     "output_type": "stream",
     "name": "stderr",
     "text": [
      "INFO flwr 2023-04-08 22:29:01,440 | server.py:116 | fit progress: (4, 3.7986607551574707, {'test_loss': 3.7986607551574707, 'test_accuracy': 0.77}, 1303.2056462)\n",
      "DEBUG flwr 2023-04-08 22:29:01,441 | server.py:165 | evaluate_round 4: strategy sampled 2 clients (out of 5)\n",
      "DEBUG flwr 2023-04-08 22:29:16,726 | server.py:179 | evaluate_round 4 received 2 results and 0 failures\n",
      "DEBUG flwr 2023-04-08 22:29:16,727 | server.py:215 | fit_round 5: strategy sampled 2 clients (out of 5)\n"
     ]
    },
    {
     "output_type": "stream",
     "name": "stdout",
     "text": [
      "\t {'val_loss': 0.8550170361995697, 'val_accuracy': 0.825}\n"
     ]
    },
    {
     "output_type": "stream",
     "name": "stderr",
     "text": [
      "DEBUG flwr 2023-04-08 22:34:11,732 | server.py:229 | fit_round 5 received 2 results and 0 failures\n"
     ]
    },
    {
     "output_type": "stream",
     "name": "stdout",
     "text": [
      "\t {'train_loss': 0.6362078785896301, 'train_accuracy': 0.8305555555555556}\n"
     ]
    },
    {
     "output_type": "stream",
     "name": "stderr",
     "text": [
      "INFO flwr 2023-04-08 22:34:29,896 | server.py:116 | fit progress: (5, 2.797112464904785, {'test_loss': 2.797112464904785, 'test_accuracy': 0.84}, 1631.6610357999998)\n",
      "DEBUG flwr 2023-04-08 22:34:29,896 | server.py:165 | evaluate_round 5: strategy sampled 2 clients (out of 5)\n",
      "DEBUG flwr 2023-04-08 22:34:45,303 | server.py:179 | evaluate_round 5 received 2 results and 0 failures\n",
      "DEBUG flwr 2023-04-08 22:34:45,303 | server.py:215 | fit_round 6: strategy sampled 2 clients (out of 5)\n"
     ]
    },
    {
     "output_type": "stream",
     "name": "stdout",
     "text": [
      "\t {'val_loss': 0.993678867816925, 'val_accuracy': 0.725}\n"
     ]
    },
    {
     "output_type": "stream",
     "name": "stderr",
     "text": [
      "DEBUG flwr 2023-04-08 22:39:38,154 | server.py:229 | fit_round 6 received 2 results and 0 failures\n"
     ]
    },
    {
     "output_type": "stream",
     "name": "stdout",
     "text": [
      "\t {'train_loss': 0.6677687168121338, 'train_accuracy': 0.9083333333333333}\n"
     ]
    },
    {
     "output_type": "stream",
     "name": "stderr",
     "text": [
      "INFO flwr 2023-04-08 22:39:56,171 | server.py:116 | fit progress: (6, 3.1313672065734863, {'test_loss': 3.1313672065734863, 'test_accuracy': 0.81}, 1957.9358811999991)\n",
      "DEBUG flwr 2023-04-08 22:39:56,171 | server.py:165 | evaluate_round 6: strategy sampled 2 clients (out of 5)\n",
      "DEBUG flwr 2023-04-08 22:40:11,622 | server.py:179 | evaluate_round 6 received 2 results and 0 failures\n",
      "DEBUG flwr 2023-04-08 22:40:11,622 | server.py:215 | fit_round 7: strategy sampled 2 clients (out of 5)\n"
     ]
    },
    {
     "output_type": "stream",
     "name": "stdout",
     "text": [
      "\t {'val_loss': 0.7147002518177032, 'val_accuracy': 0.825}\n"
     ]
    },
    {
     "output_type": "stream",
     "name": "stderr",
     "text": [
      "DEBUG flwr 2023-04-08 22:49:25,263 | server.py:229 | fit_round 7 received 2 results and 0 failures\n"
     ]
    },
    {
     "output_type": "stream",
     "name": "stdout",
     "text": [
      "\t {'train_loss': 0.37092435359954834, 'train_accuracy': 0.9305555555555555}\n"
     ]
    },
    {
     "output_type": "stream",
     "name": "stderr",
     "text": [
      "INFO flwr 2023-04-08 22:49:57,899 | server.py:116 | fit progress: (7, 2.286500930786133, {'test_loss': 2.286500930786133, 'test_accuracy': 0.85}, 2559.6648561999973)\n",
      "DEBUG flwr 2023-04-08 22:49:57,902 | server.py:165 | evaluate_round 7: strategy sampled 2 clients (out of 5)\n",
      "DEBUG flwr 2023-04-08 22:50:26,002 | server.py:179 | evaluate_round 7 received 2 results and 0 failures\n",
      "DEBUG flwr 2023-04-08 22:50:26,003 | server.py:215 | fit_round 8: strategy sampled 2 clients (out of 5)\n"
     ]
    },
    {
     "output_type": "stream",
     "name": "stdout",
     "text": [
      "\t {'val_loss': 0.5338004529476166, 'val_accuracy': 0.825}\n"
     ]
    },
    {
     "output_type": "stream",
     "name": "stderr",
     "text": [
      "DEBUG flwr 2023-04-08 22:59:41,519 | server.py:229 | fit_round 8 received 2 results and 0 failures\n"
     ]
    },
    {
     "output_type": "stream",
     "name": "stdout",
     "text": [
      "\t {'train_loss': 0.18792754411697388, 'train_accuracy': 0.9611111111111109}\n"
     ]
    },
    {
     "output_type": "stream",
     "name": "stderr",
     "text": [
      "INFO flwr 2023-04-08 23:00:13,323 | server.py:116 | fit progress: (8, 2.0153019428253174, {'test_loss': 2.0153019428253174, 'test_accuracy': 0.83}, 3175.0881296000007)\n",
      "DEBUG flwr 2023-04-08 23:00:13,324 | server.py:165 | evaluate_round 8: strategy sampled 2 clients (out of 5)\n",
      "DEBUG flwr 2023-04-08 23:00:41,150 | server.py:179 | evaluate_round 8 received 2 results and 0 failures\n",
      "DEBUG flwr 2023-04-08 23:00:41,151 | server.py:215 | fit_round 9: strategy sampled 2 clients (out of 5)\n"
     ]
    },
    {
     "output_type": "stream",
     "name": "stdout",
     "text": [
      "\t {'val_loss': 0.5732885897159576, 'val_accuracy': 0.825}\n"
     ]
    },
    {
     "output_type": "stream",
     "name": "stderr",
     "text": [
      "DEBUG flwr 2023-04-08 23:08:09,165 | server.py:229 | fit_round 9 received 2 results and 0 failures\n"
     ]
    },
    {
     "output_type": "stream",
     "name": "stdout",
     "text": [
      "\t {'train_loss': 0.3190924748778343, 'train_accuracy': 0.9277777777777777}\n"
     ]
    },
    {
     "output_type": "stream",
     "name": "stderr",
     "text": [
      "INFO flwr 2023-04-08 23:08:27,739 | server.py:116 | fit progress: (9, 1.6876938343048096, {'test_loss': 1.6876938343048096, 'test_accuracy': 0.87}, 3669.504915999998)\n",
      "DEBUG flwr 2023-04-08 23:08:27,740 | server.py:165 | evaluate_round 9: strategy sampled 2 clients (out of 5)\n",
      "DEBUG flwr 2023-04-08 23:08:43,382 | server.py:179 | evaluate_round 9 received 2 results and 0 failures\n",
      "DEBUG flwr 2023-04-08 23:08:43,383 | server.py:215 | fit_round 10: strategy sampled 2 clients (out of 5)\n"
     ]
    },
    {
     "output_type": "stream",
     "name": "stdout",
     "text": [
      "\t {'val_loss': 0.6396512389183044, 'val_accuracy': 0.775}\n"
     ]
    },
    {
     "output_type": "stream",
     "name": "stderr",
     "text": [
      "DEBUG flwr 2023-04-08 23:14:03,723 | server.py:229 | fit_round 10 received 2 results and 0 failures\n"
     ]
    },
    {
     "output_type": "stream",
     "name": "stdout",
     "text": [
      "\t {'train_loss': 0.32914717122912407, 'train_accuracy': 0.8972222222222223}\n"
     ]
    },
    {
     "output_type": "stream",
     "name": "stderr",
     "text": [
      "INFO flwr 2023-04-08 23:14:22,158 | server.py:116 | fit progress: (10, 1.7226805686950684, {'test_loss': 1.7226805686950684, 'test_accuracy': 0.88}, 4023.923405399997)\n",
      "DEBUG flwr 2023-04-08 23:14:22,159 | server.py:165 | evaluate_round 10: strategy sampled 2 clients (out of 5)\n",
      "DEBUG flwr 2023-04-08 23:14:37,829 | server.py:179 | evaluate_round 10 received 2 results and 0 failures\n",
      "INFO flwr 2023-04-08 23:14:37,829 | server.py:144 | FL finished in 4039.5945036999983\n",
      "INFO flwr 2023-04-08 23:14:37,836 | app.py:202 | app_fit: losses_distributed [(1, 2.120806872844696), (2, 1.371188998222351), (3, 1.0730488002300262), (4, 0.8550170361995697), (5, 0.993678867816925), (6, 0.7147002518177032), (7, 0.5338004529476166), (8, 0.5732885897159576), (9, 0.6396512389183044), (10, 0.5056430697441101)]\n",
      "INFO flwr 2023-04-08 23:14:37,836 | app.py:203 | app_fit: metrics_distributed {'val_loss': [(1, 2.120806872844696), (2, 1.371188998222351), (3, 1.0730488002300262), (4, 0.8550170361995697), (5, 0.993678867816925), (6, 0.7147002518177032), (7, 0.5338004529476166), (8, 0.5732885897159576), (9, 0.6396512389183044), (10, 0.5056430697441101)], 'val_accuracy': [(1, 0.42500000000000004), (2, 0.675), (3, 0.725), (4, 0.825), (5, 0.725), (6, 0.825), (7, 0.825), (8, 0.825), (9, 0.775), (10, 0.825)]}\n",
      "INFO flwr 2023-04-08 23:14:37,837 | app.py:204 | app_fit: losses_centralized [(0, 12.957881927490234), (1, 8.028347969055176), (2, 6.448009967803955), (3, 4.717401504516602), (4, 3.7986607551574707), (5, 2.797112464904785), (6, 3.1313672065734863), (7, 2.286500930786133), (8, 2.0153019428253174), (9, 1.6876938343048096), (10, 1.7226805686950684)]\n",
      "INFO flwr 2023-04-08 23:14:37,837 | app.py:205 | app_fit: metrics_centralized {'test_loss': [(0, 12.957881927490234), (1, 8.028347969055176), (2, 6.448009967803955), (3, 4.717401504516602), (4, 3.7986607551574707), (5, 2.797112464904785), (6, 3.1313672065734863), (7, 2.286500930786133), (8, 2.0153019428253174), (9, 1.6876938343048096), (10, 1.7226805686950684)], 'test_accuracy': [(0, 0.1), (1, 0.31), (2, 0.52), (3, 0.68), (4, 0.77), (5, 0.84), (6, 0.81), (7, 0.85), (8, 0.83), (9, 0.87), (10, 0.88)]}\n"
     ]
    },
    {
     "output_type": "stream",
     "name": "stdout",
     "text": [
      "\t {'val_loss': 0.5056430697441101, 'val_accuracy': 0.825}\n"
     ]
    },
    {
     "output_type": "execute_result",
     "data": {
      "text/plain": [
       "History (loss, distributed):\n",
       "\tround 1: 2.120806872844696\n",
       "\tround 2: 1.371188998222351\n",
       "\tround 3: 1.0730488002300262\n",
       "\tround 4: 0.8550170361995697\n",
       "\tround 5: 0.993678867816925\n",
       "\tround 6: 0.7147002518177032\n",
       "\tround 7: 0.5338004529476166\n",
       "\tround 8: 0.5732885897159576\n",
       "\tround 9: 0.6396512389183044\n",
       "\tround 10: 0.5056430697441101\n",
       "History (loss, centralized):\n",
       "\tround 0: 12.957881927490234\n",
       "\tround 1: 8.028347969055176\n",
       "\tround 2: 6.448009967803955\n",
       "\tround 3: 4.717401504516602\n",
       "\tround 4: 3.7986607551574707\n",
       "\tround 5: 2.797112464904785\n",
       "\tround 6: 3.1313672065734863\n",
       "\tround 7: 2.286500930786133\n",
       "\tround 8: 2.0153019428253174\n",
       "\tround 9: 1.6876938343048096\n",
       "\tround 10: 1.7226805686950684\n",
       "History (metrics, distributed):\n",
       "{'val_loss': [(1, 2.120806872844696), (2, 1.371188998222351), (3, 1.0730488002300262), (4, 0.8550170361995697), (5, 0.993678867816925), (6, 0.7147002518177032), (7, 0.5338004529476166), (8, 0.5732885897159576), (9, 0.6396512389183044), (10, 0.5056430697441101)], 'val_accuracy': [(1, 0.42500000000000004), (2, 0.675), (3, 0.725), (4, 0.825), (5, 0.725), (6, 0.825), (7, 0.825), (8, 0.825), (9, 0.775), (10, 0.825)]}History (metrics, centralized):\n",
       "{'test_loss': [(0, 12.957881927490234), (1, 8.028347969055176), (2, 6.448009967803955), (3, 4.717401504516602), (4, 3.7986607551574707), (5, 2.797112464904785), (6, 3.1313672065734863), (7, 2.286500930786133), (8, 2.0153019428253174), (9, 1.6876938343048096), (10, 1.7226805686950684)], 'test_accuracy': [(0, 0.1), (1, 0.31), (2, 0.52), (3, 0.68), (4, 0.77), (5, 0.84), (6, 0.81), (7, 0.85), (8, 0.83), (9, 0.87), (10, 0.88)]}"
      ]
     },
     "metadata": {},
     "execution_count": 7
    }
   ],
   "metadata": {}
  }
 ],
 "nbformat": 4,
 "nbformat_minor": 2,
 "metadata": {
  "language_info": {
   "codemirror_mode": {
    "name": "ipython",
    "version": 3
   },
   "file_extension": ".py",
   "mimetype": "text/x-python",
   "name": "python",
   "nbconvert_exporter": "python",
   "pygments_lexer": "ipython3",
   "version": 3
  },
  "orig_nbformat": 4
 }
}