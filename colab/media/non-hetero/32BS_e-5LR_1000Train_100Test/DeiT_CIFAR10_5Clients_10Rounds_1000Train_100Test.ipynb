{
 "cells": [
  {
   "cell_type": "code",
   "execution_count": 7,
   "source": [
    "fl.simulation.start_simulation(\n",
    "    client_fn=lambda cid: FlowerClient(MODEL_CONFIG, trainloaders[int(cid)], valloaders[int(cid)]),\n",
    "    num_clients=NUM_CLIENTS,\n",
    "    config=fl.server.ServerConfig(num_rounds=NUM_ROUNDS),\n",
    "    strategy=strategy,\n",
    "    client_resources=CLIENT_RESOURCES,\n",
    ")"
   ],
   "outputs": [
    {
     "output_type": "stream",
     "name": "stderr",
     "text": [
      "INFO flwr 2023-04-08 21:19:02,810 | app.py:145 | Starting Flower simulation, config: ServerConfig(num_rounds=10, round_timeout=None)\n",
      "2023-04-08 21:19:04,673\tINFO worker.py:1529 -- Started a local Ray instance. View the dashboard at \u001b[1m\u001b[32m127.0.0.1:8265 \u001b[39m\u001b[22m\n",
      "INFO flwr 2023-04-08 21:19:05,890 | app.py:179 | Flower VCE: Ray initialized with resources: {'memory': 15587627828.0, 'node:127.0.0.1': 1.0, 'object_store_memory': 7793813913.0, 'GPU': 1.0, 'CPU': 24.0}\n",
      "INFO flwr 2023-04-08 21:19:05,891 | server.py:86 | Initializing global parameters\n",
      "INFO flwr 2023-04-08 21:19:05,892 | server.py:266 | Using initial parameters provided by strategy\n",
      "INFO flwr 2023-04-08 21:19:05,892 | server.py:88 | Evaluating initial parameters\n",
      "INFO flwr 2023-04-08 21:19:15,121 | server.py:91 | initial parameters (loss, other metrics): 8.997632026672363, {'test_loss': 8.997632026672363, 'test_accuracy': 0.2}\n",
      "INFO flwr 2023-04-08 21:19:15,121 | server.py:101 | FL starting\n",
      "DEBUG flwr 2023-04-08 21:19:15,122 | server.py:215 | fit_round 1: strategy sampled 2 clients (out of 5)\n",
      "DEBUG flwr 2023-04-08 21:22:36,410 | server.py:229 | fit_round 1 received 2 results and 0 failures\n"
     ]
    },
    {
     "output_type": "stream",
     "name": "stdout",
     "text": [
      "\t {'train_loss': 2.1899110078811646, 'train_accuracy': 0.19166666666666665}\n"
     ]
    },
    {
     "output_type": "stream",
     "name": "stderr",
     "text": [
      "INFO flwr 2023-04-08 21:22:46,227 | server.py:116 | fit progress: (1, 8.717939376831055, {'test_loss': 8.717939376831055, 'test_accuracy': 0.25}, 211.1053334999997)\n",
      "DEBUG flwr 2023-04-08 21:22:46,228 | server.py:165 | evaluate_round 1: strategy sampled 2 clients (out of 5)\n",
      "DEBUG flwr 2023-04-08 21:22:57,272 | server.py:179 | evaluate_round 1 received 2 results and 0 failures\n",
      "DEBUG flwr 2023-04-08 21:22:57,272 | server.py:215 | fit_round 2: strategy sampled 2 clients (out of 5)\n"
     ]
    },
    {
     "output_type": "stream",
     "name": "stdout",
     "text": [
      "\t {'val_loss': 2.1279748678207397, 'val_accuracy': 0.32499999999999996}\n"
     ]
    },
    {
     "output_type": "stream",
     "name": "stderr",
     "text": [
      "DEBUG flwr 2023-04-08 21:26:15,916 | server.py:229 | fit_round 2 received 2 results and 0 failures\n"
     ]
    },
    {
     "output_type": "stream",
     "name": "stdout",
     "text": [
      "\t {'train_loss': 2.155806303024292, 'train_accuracy': 0.3361111111111111}\n"
     ]
    },
    {
     "output_type": "stream",
     "name": "stderr",
     "text": [
      "INFO flwr 2023-04-08 21:26:25,713 | server.py:116 | fit progress: (2, 7.932766437530518, {'test_loss': 7.932766437530518, 'test_accuracy': 0.41}, 430.59112900000036)\n",
      "DEBUG flwr 2023-04-08 21:26:25,714 | server.py:165 | evaluate_round 2: strategy sampled 2 clients (out of 5)\n",
      "DEBUG flwr 2023-04-08 21:26:36,800 | server.py:179 | evaluate_round 2 received 2 results and 0 failures\n",
      "DEBUG flwr 2023-04-08 21:26:36,801 | server.py:215 | fit_round 3: strategy sampled 2 clients (out of 5)\n"
     ]
    },
    {
     "output_type": "stream",
     "name": "stdout",
     "text": [
      "\t {'val_loss': 1.9230936169624329, 'val_accuracy': 0.525}\n"
     ]
    },
    {
     "output_type": "stream",
     "name": "stderr",
     "text": [
      "DEBUG flwr 2023-04-08 21:29:55,781 | server.py:229 | fit_round 3 received 2 results and 0 failures\n"
     ]
    },
    {
     "output_type": "stream",
     "name": "stdout",
     "text": [
      "\t {'train_loss': 1.9227261543273926, 'train_accuracy': 0.4388888888888889}\n"
     ]
    },
    {
     "output_type": "stream",
     "name": "stderr",
     "text": [
      "INFO flwr 2023-04-08 21:30:05,572 | server.py:116 | fit progress: (3, 7.488421440124512, {'test_loss': 7.488421440124512, 'test_accuracy': 0.61}, 650.4507722000017)\n",
      "DEBUG flwr 2023-04-08 21:30:05,573 | server.py:165 | evaluate_round 3: strategy sampled 2 clients (out of 5)\n",
      "DEBUG flwr 2023-04-08 21:30:16,632 | server.py:179 | evaluate_round 3 received 2 results and 0 failures\n",
      "DEBUG flwr 2023-04-08 21:30:16,632 | server.py:215 | fit_round 4: strategy sampled 2 clients (out of 5)\n"
     ]
    },
    {
     "output_type": "stream",
     "name": "stdout",
     "text": [
      "\t {'val_loss': 1.838880717754364, 'val_accuracy': 0.65}\n"
     ]
    },
    {
     "output_type": "stream",
     "name": "stderr",
     "text": [
      "DEBUG flwr 2023-04-08 21:33:35,176 | server.py:229 | fit_round 4 received 2 results and 0 failures\n"
     ]
    },
    {
     "output_type": "stream",
     "name": "stdout",
     "text": [
      "\t {'train_loss': 1.7074791193008423, 'train_accuracy': 0.6027777777777777}\n"
     ]
    },
    {
     "output_type": "stream",
     "name": "stderr",
     "text": [
      "INFO flwr 2023-04-08 21:33:45,134 | server.py:116 | fit progress: (4, 7.522444725036621, {'test_loss': 7.522444725036621, 'test_accuracy': 0.62}, 870.0119964000005)\n",
      "DEBUG flwr 2023-04-08 21:33:45,134 | server.py:165 | evaluate_round 4: strategy sampled 2 clients (out of 5)\n",
      "DEBUG flwr 2023-04-08 21:33:56,482 | server.py:179 | evaluate_round 4 received 2 results and 0 failures\n",
      "DEBUG flwr 2023-04-08 21:33:56,482 | server.py:215 | fit_round 5: strategy sampled 2 clients (out of 5)\n"
     ]
    },
    {
     "output_type": "stream",
     "name": "stdout",
     "text": [
      "\t {'val_loss': 1.8043901920318604, 'val_accuracy': 0.55}\n"
     ]
    },
    {
     "output_type": "stream",
     "name": "stderr",
     "text": [
      "DEBUG flwr 2023-04-08 21:37:14,566 | server.py:229 | fit_round 5 received 2 results and 0 failures\n"
     ]
    },
    {
     "output_type": "stream",
     "name": "stdout",
     "text": [
      "\t {'train_loss': 1.649557888507843, 'train_accuracy': 0.6888888888888888}\n"
     ]
    },
    {
     "output_type": "stream",
     "name": "stderr",
     "text": [
      "INFO flwr 2023-04-08 21:37:24,466 | server.py:116 | fit progress: (5, 6.825922966003418, {'test_loss': 6.825922966003418, 'test_accuracy': 0.64}, 1089.3436739999997)\n",
      "DEBUG flwr 2023-04-08 21:37:24,466 | server.py:165 | evaluate_round 5: strategy sampled 2 clients (out of 5)\n",
      "DEBUG flwr 2023-04-08 21:37:35,353 | server.py:179 | evaluate_round 5 received 2 results and 0 failures\n",
      "DEBUG flwr 2023-04-08 21:37:35,353 | server.py:215 | fit_round 6: strategy sampled 2 clients (out of 5)\n"
     ]
    },
    {
     "output_type": "stream",
     "name": "stdout",
     "text": [
      "\t {'val_loss': 1.6851754784584045, 'val_accuracy': 0.6}\n"
     ]
    },
    {
     "output_type": "stream",
     "name": "stderr",
     "text": [
      "DEBUG flwr 2023-04-08 21:40:52,651 | server.py:229 | fit_round 6 received 2 results and 0 failures\n"
     ]
    },
    {
     "output_type": "stream",
     "name": "stdout",
     "text": [
      "\t {'train_loss': 1.4784363508224487, 'train_accuracy': 0.6833333333333332}\n"
     ]
    },
    {
     "output_type": "stream",
     "name": "stderr",
     "text": [
      "INFO flwr 2023-04-08 21:41:02,447 | server.py:116 | fit progress: (6, 6.370735168457031, {'test_loss': 6.370735168457031, 'test_accuracy': 0.69}, 1307.3255394000007)\n",
      "DEBUG flwr 2023-04-08 21:41:02,448 | server.py:165 | evaluate_round 6: strategy sampled 2 clients (out of 5)\n",
      "DEBUG flwr 2023-04-08 21:41:13,393 | server.py:179 | evaluate_round 6 received 2 results and 0 failures\n",
      "DEBUG flwr 2023-04-08 21:41:13,394 | server.py:215 | fit_round 7: strategy sampled 2 clients (out of 5)\n"
     ]
    },
    {
     "output_type": "stream",
     "name": "stdout",
     "text": [
      "\t {'val_loss': 1.4709340333938599, 'val_accuracy': 0.725}\n"
     ]
    },
    {
     "output_type": "stream",
     "name": "stderr",
     "text": [
      "DEBUG flwr 2023-04-08 21:44:30,212 | server.py:229 | fit_round 7 received 2 results and 0 failures\n"
     ]
    },
    {
     "output_type": "stream",
     "name": "stdout",
     "text": [
      "\t {'train_loss': 1.4227023124694824, 'train_accuracy': 0.763888888888889}\n"
     ]
    },
    {
     "output_type": "stream",
     "name": "stderr",
     "text": [
      "INFO flwr 2023-04-08 21:44:39,952 | server.py:116 | fit progress: (7, 5.498552322387695, {'test_loss': 5.498552322387695, 'test_accuracy': 0.73}, 1524.830521400003)\n",
      "DEBUG flwr 2023-04-08 21:44:39,953 | server.py:165 | evaluate_round 7: strategy sampled 2 clients (out of 5)\n",
      "DEBUG flwr 2023-04-08 21:44:50,913 | server.py:179 | evaluate_round 7 received 2 results and 0 failures\n",
      "DEBUG flwr 2023-04-08 21:44:50,914 | server.py:215 | fit_round 8: strategy sampled 2 clients (out of 5)\n"
     ]
    },
    {
     "output_type": "stream",
     "name": "stdout",
     "text": [
      "\t {'val_loss': 1.4722465872764587, 'val_accuracy': 0.7}\n"
     ]
    },
    {
     "output_type": "stream",
     "name": "stderr",
     "text": [
      "DEBUG flwr 2023-04-08 21:48:11,387 | server.py:229 | fit_round 8 received 2 results and 0 failures\n"
     ]
    },
    {
     "output_type": "stream",
     "name": "stdout",
     "text": [
      "\t {'train_loss': 1.2522885203361511, 'train_accuracy': 0.8083333333333332}\n"
     ]
    },
    {
     "output_type": "stream",
     "name": "stderr",
     "text": [
      "INFO flwr 2023-04-08 21:48:21,143 | server.py:116 | fit progress: (8, 5.295784950256348, {'test_loss': 5.295784950256348, 'test_accuracy': 0.77}, 1746.0211135999998)\n",
      "DEBUG flwr 2023-04-08 21:48:21,144 | server.py:165 | evaluate_round 8: strategy sampled 2 clients (out of 5)\n",
      "DEBUG flwr 2023-04-08 21:48:32,189 | server.py:179 | evaluate_round 8 received 2 results and 0 failures\n",
      "DEBUG flwr 2023-04-08 21:48:32,190 | server.py:215 | fit_round 9: strategy sampled 2 clients (out of 5)\n"
     ]
    },
    {
     "output_type": "stream",
     "name": "stdout",
     "text": [
      "\t {'val_loss': 1.3834007382392883, 'val_accuracy': 0.7}\n"
     ]
    },
    {
     "output_type": "stream",
     "name": "stderr",
     "text": [
      "DEBUG flwr 2023-04-08 21:53:30,489 | server.py:229 | fit_round 9 received 2 results and 0 failures\n"
     ]
    },
    {
     "output_type": "stream",
     "name": "stdout",
     "text": [
      "\t {'train_loss': 1.0261735320091248, 'train_accuracy': 0.8083333333333332}\n"
     ]
    },
    {
     "output_type": "stream",
     "name": "stderr",
     "text": [
      "INFO flwr 2023-04-08 21:53:40,475 | server.py:116 | fit progress: (9, 4.823629379272461, {'test_loss': 4.823629379272461, 'test_accuracy': 0.77}, 2065.353354400002)\n",
      "DEBUG flwr 2023-04-08 21:53:40,475 | server.py:165 | evaluate_round 9: strategy sampled 2 clients (out of 5)\n",
      "DEBUG flwr 2023-04-08 21:53:51,653 | server.py:179 | evaluate_round 9 received 2 results and 0 failures\n",
      "DEBUG flwr 2023-04-08 21:53:51,654 | server.py:215 | fit_round 10: strategy sampled 2 clients (out of 5)\n"
     ]
    },
    {
     "output_type": "stream",
     "name": "stdout",
     "text": [
      "\t {'val_loss': 1.1327391862869263, 'val_accuracy': 0.825}\n"
     ]
    },
    {
     "output_type": "stream",
     "name": "stderr",
     "text": [
      "DEBUG flwr 2023-04-08 22:00:47,885 | server.py:229 | fit_round 10 received 2 results and 0 failures\n"
     ]
    },
    {
     "output_type": "stream",
     "name": "stdout",
     "text": [
      "\t {'train_loss': 0.9613142609596252, 'train_accuracy': 0.8611111111111112}\n"
     ]
    },
    {
     "output_type": "stream",
     "name": "stderr",
     "text": [
      "INFO flwr 2023-04-08 22:01:08,400 | server.py:116 | fit progress: (10, 4.124497413635254, {'test_loss': 4.124497413635254, 'test_accuracy': 0.79}, 2513.278859000002)\n",
      "DEBUG flwr 2023-04-08 22:01:08,401 | server.py:165 | evaluate_round 10: strategy sampled 2 clients (out of 5)\n",
      "DEBUG flwr 2023-04-08 22:01:31,479 | server.py:179 | evaluate_round 10 received 2 results and 0 failures\n",
      "INFO flwr 2023-04-08 22:01:31,480 | server.py:144 | FL finished in 2536.3586730000025\n",
      "INFO flwr 2023-04-08 22:01:31,511 | app.py:202 | app_fit: losses_distributed [(1, 2.1279748678207397), (2, 1.9230936169624329), (3, 1.838880717754364), (4, 1.8043901920318604), (5, 1.6851754784584045), (6, 1.4709340333938599), (7, 1.4722465872764587), (8, 1.3834007382392883), (9, 1.1327391862869263), (10, 1.0353561639785767)]\n",
      "INFO flwr 2023-04-08 22:01:31,512 | app.py:203 | app_fit: metrics_distributed {'val_loss': [(1, 2.1279748678207397), (2, 1.9230936169624329), (3, 1.838880717754364), (4, 1.8043901920318604), (5, 1.6851754784584045), (6, 1.4709340333938599), (7, 1.4722465872764587), (8, 1.3834007382392883), (9, 1.1327391862869263), (10, 1.0353561639785767)], 'val_accuracy': [(1, 0.32499999999999996), (2, 0.525), (3, 0.65), (4, 0.55), (5, 0.6), (6, 0.725), (7, 0.7), (8, 0.7), (9, 0.825), (10, 0.8)]}\n",
      "INFO flwr 2023-04-08 22:01:31,513 | app.py:204 | app_fit: losses_centralized [(0, 8.997632026672363), (1, 8.717939376831055), (2, 7.932766437530518), (3, 7.488421440124512), (4, 7.522444725036621), (5, 6.825922966003418), (6, 6.370735168457031), (7, 5.498552322387695), (8, 5.295784950256348), (9, 4.823629379272461), (10, 4.124497413635254)]\n",
      "INFO flwr 2023-04-08 22:01:31,514 | app.py:205 | app_fit: metrics_centralized {'test_loss': [(0, 8.997632026672363), (1, 8.717939376831055), (2, 7.932766437530518), (3, 7.488421440124512), (4, 7.522444725036621), (5, 6.825922966003418), (6, 6.370735168457031), (7, 5.498552322387695), (8, 5.295784950256348), (9, 4.823629379272461), (10, 4.124497413635254)], 'test_accuracy': [(0, 0.2), (1, 0.25), (2, 0.41), (3, 0.61), (4, 0.62), (5, 0.64), (6, 0.69), (7, 0.73), (8, 0.77), (9, 0.77), (10, 0.79)]}\n"
     ]
    },
    {
     "output_type": "stream",
     "name": "stdout",
     "text": [
      "\t {'val_loss': 1.0353561639785767, 'val_accuracy': 0.8}\n"
     ]
    },
    {
     "output_type": "execute_result",
     "data": {
      "text/plain": [
       "History (loss, distributed):\n",
       "\tround 1: 2.1279748678207397\n",
       "\tround 2: 1.9230936169624329\n",
       "\tround 3: 1.838880717754364\n",
       "\tround 4: 1.8043901920318604\n",
       "\tround 5: 1.6851754784584045\n",
       "\tround 6: 1.4709340333938599\n",
       "\tround 7: 1.4722465872764587\n",
       "\tround 8: 1.3834007382392883\n",
       "\tround 9: 1.1327391862869263\n",
       "\tround 10: 1.0353561639785767\n",
       "History (loss, centralized):\n",
       "\tround 0: 8.997632026672363\n",
       "\tround 1: 8.717939376831055\n",
       "\tround 2: 7.932766437530518\n",
       "\tround 3: 7.488421440124512\n",
       "\tround 4: 7.522444725036621\n",
       "\tround 5: 6.825922966003418\n",
       "\tround 6: 6.370735168457031\n",
       "\tround 7: 5.498552322387695\n",
       "\tround 8: 5.295784950256348\n",
       "\tround 9: 4.823629379272461\n",
       "\tround 10: 4.124497413635254\n",
       "History (metrics, distributed):\n",
       "{'val_loss': [(1, 2.1279748678207397), (2, 1.9230936169624329), (3, 1.838880717754364), (4, 1.8043901920318604), (5, 1.6851754784584045), (6, 1.4709340333938599), (7, 1.4722465872764587), (8, 1.3834007382392883), (9, 1.1327391862869263), (10, 1.0353561639785767)], 'val_accuracy': [(1, 0.32499999999999996), (2, 0.525), (3, 0.65), (4, 0.55), (5, 0.6), (6, 0.725), (7, 0.7), (8, 0.7), (9, 0.825), (10, 0.8)]}History (metrics, centralized):\n",
       "{'test_loss': [(0, 8.997632026672363), (1, 8.717939376831055), (2, 7.932766437530518), (3, 7.488421440124512), (4, 7.522444725036621), (5, 6.825922966003418), (6, 6.370735168457031), (7, 5.498552322387695), (8, 5.295784950256348), (9, 4.823629379272461), (10, 4.124497413635254)], 'test_accuracy': [(0, 0.2), (1, 0.25), (2, 0.41), (3, 0.61), (4, 0.62), (5, 0.64), (6, 0.69), (7, 0.73), (8, 0.77), (9, 0.77), (10, 0.79)]}"
      ]
     },
     "metadata": {},
     "execution_count": 7
    }
   ],
   "metadata": {}
  }
 ],
 "nbformat": 4,
 "nbformat_minor": 2,
 "metadata": {
  "language_info": {
   "codemirror_mode": {
    "name": "ipython",
    "version": 3
   },
   "file_extension": ".py",
   "mimetype": "text/x-python",
   "name": "python",
   "nbconvert_exporter": "python",
   "pygments_lexer": "ipython3",
   "version": 3
  },
  "orig_nbformat": 4
 }
}