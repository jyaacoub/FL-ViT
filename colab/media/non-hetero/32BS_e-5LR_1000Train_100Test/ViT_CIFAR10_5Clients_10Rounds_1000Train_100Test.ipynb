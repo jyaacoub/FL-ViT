{
 "cells": [
  {
   "cell_type": "code",
   "execution_count": 7,
   "source": [
    "fl.simulation.start_simulation(\n",
    "    client_fn=lambda cid: FlowerClient(MODEL_CONFIG, trainloaders[int(cid)], valloaders[int(cid)]),\n",
    "    num_clients=NUM_CLIENTS,\n",
    "    config=fl.server.ServerConfig(num_rounds=NUM_ROUNDS),\n",
    "    strategy=strategy,\n",
    "    client_resources=CLIENT_RESOURCES,\n",
    ")"
   ],
   "outputs": [
    {
     "output_type": "stream",
     "name": "stderr",
     "text": [
      "INFO flwr 2023-04-08 20:31:56,086 | app.py:145 | Starting Flower simulation, config: ServerConfig(num_rounds=10, round_timeout=None)\n",
      "2023-04-08 20:31:57,896\tINFO worker.py:1529 -- Started a local Ray instance. View the dashboard at \u001b[1m\u001b[32m127.0.0.1:8265 \u001b[39m\u001b[22m\n",
      "INFO flwr 2023-04-08 20:31:59,102 | app.py:179 | Flower VCE: Ray initialized with resources: {'memory': 16066301952.0, 'node:127.0.0.1': 1.0, 'CPU': 24.0, 'GPU': 1.0, 'object_store_memory': 8033150976.0}\n",
      "INFO flwr 2023-04-08 20:31:59,103 | server.py:86 | Initializing global parameters\n",
      "INFO flwr 2023-04-08 20:31:59,103 | server.py:266 | Using initial parameters provided by strategy\n",
      "INFO flwr 2023-04-08 20:31:59,104 | server.py:88 | Evaluating initial parameters\n",
      "INFO flwr 2023-04-08 20:32:08,340 | server.py:91 | initial parameters (loss, other metrics): 9.611557960510254, {'test_loss': 9.611557960510254, 'test_accuracy': 0.11}\n",
      "INFO flwr 2023-04-08 20:32:08,341 | server.py:101 | FL starting\n",
      "DEBUG flwr 2023-04-08 20:32:08,342 | server.py:215 | fit_round 1: strategy sampled 2 clients (out of 5)\n",
      "DEBUG flwr 2023-04-08 20:35:33,124 | server.py:229 | fit_round 1 received 2 results and 0 failures\n"
     ]
    },
    {
     "output_type": "stream",
     "name": "stdout",
     "text": [
      "\t {'train_loss': 2.2012189626693726, 'train_accuracy': 0.18055555555555558}\n"
     ]
    },
    {
     "output_type": "stream",
     "name": "stderr",
     "text": [
      "INFO flwr 2023-04-08 20:35:42,881 | server.py:116 | fit progress: (1, 9.386661529541016, {'test_loss': 9.386661529541016, 'test_accuracy': 0.12}, 212.49131699999998)\n",
      "DEBUG flwr 2023-04-08 20:35:42,882 | server.py:165 | evaluate_round 1: strategy sampled 2 clients (out of 5)\n",
      "DEBUG flwr 2023-04-08 20:35:53,951 | server.py:179 | evaluate_round 1 received 2 results and 0 failures\n",
      "DEBUG flwr 2023-04-08 20:35:53,952 | server.py:215 | fit_round 2: strategy sampled 2 clients (out of 5)\n"
     ]
    },
    {
     "output_type": "stream",
     "name": "stdout",
     "text": [
      "\t {'val_loss': 2.2656664848327637, 'val_accuracy': 0.275}\n"
     ]
    },
    {
     "output_type": "stream",
     "name": "stderr",
     "text": [
      "DEBUG flwr 2023-04-08 20:39:13,706 | server.py:229 | fit_round 2 received 2 results and 0 failures\n"
     ]
    },
    {
     "output_type": "stream",
     "name": "stdout",
     "text": [
      "\t {'train_loss': 2.0849703550338745, 'train_accuracy': 0.1611111111111111}\n"
     ]
    },
    {
     "output_type": "stream",
     "name": "stderr",
     "text": [
      "INFO flwr 2023-04-08 20:39:23,616 | server.py:116 | fit progress: (2, 8.441346168518066, {'test_loss': 8.441346168518066, 'test_accuracy': 0.21}, 433.22648710000067)\n",
      "DEBUG flwr 2023-04-08 20:39:23,617 | server.py:165 | evaluate_round 2: strategy sampled 2 clients (out of 5)\n",
      "DEBUG flwr 2023-04-08 20:39:34,672 | server.py:179 | evaluate_round 2 received 2 results and 0 failures\n",
      "DEBUG flwr 2023-04-08 20:39:34,672 | server.py:215 | fit_round 3: strategy sampled 2 clients (out of 5)\n"
     ]
    },
    {
     "output_type": "stream",
     "name": "stdout",
     "text": [
      "\t {'val_loss': 2.103411555290222, 'val_accuracy': 0.3}\n"
     ]
    },
    {
     "output_type": "stream",
     "name": "stderr",
     "text": [
      "DEBUG flwr 2023-04-08 20:42:53,396 | server.py:229 | fit_round 3 received 2 results and 0 failures\n"
     ]
    },
    {
     "output_type": "stream",
     "name": "stdout",
     "text": [
      "\t {'train_loss': 1.9034101366996765, 'train_accuracy': 0.3138888888888889}\n"
     ]
    },
    {
     "output_type": "stream",
     "name": "stderr",
     "text": [
      "INFO flwr 2023-04-08 20:43:03,278 | server.py:116 | fit progress: (3, 8.199491500854492, {'test_loss': 8.199491500854492, 'test_accuracy': 0.28}, 652.8885579999987)\n",
      "DEBUG flwr 2023-04-08 20:43:03,279 | server.py:165 | evaluate_round 3: strategy sampled 2 clients (out of 5)\n",
      "DEBUG flwr 2023-04-08 20:43:14,238 | server.py:179 | evaluate_round 3 received 2 results and 0 failures\n",
      "DEBUG flwr 2023-04-08 20:43:14,238 | server.py:215 | fit_round 4: strategy sampled 2 clients (out of 5)\n"
     ]
    },
    {
     "output_type": "stream",
     "name": "stdout",
     "text": [
      "\t {'val_loss': 1.9848032593727112, 'val_accuracy': 0.35}\n"
     ]
    },
    {
     "output_type": "stream",
     "name": "stderr",
     "text": [
      "DEBUG flwr 2023-04-08 20:46:33,197 | server.py:229 | fit_round 4 received 2 results and 0 failures\n"
     ]
    },
    {
     "output_type": "stream",
     "name": "stdout",
     "text": [
      "\t {'train_loss': 2.0199947357177734, 'train_accuracy': 0.4138888888888889}\n"
     ]
    },
    {
     "output_type": "stream",
     "name": "stderr",
     "text": [
      "INFO flwr 2023-04-08 20:46:43,097 | server.py:116 | fit progress: (4, 7.691163063049316, {'test_loss': 7.691163063049316, 'test_accuracy': 0.33}, 872.7072985999985)\n",
      "DEBUG flwr 2023-04-08 20:46:43,098 | server.py:165 | evaluate_round 4: strategy sampled 2 clients (out of 5)\n",
      "DEBUG flwr 2023-04-08 20:46:54,075 | server.py:179 | evaluate_round 4 received 2 results and 0 failures\n",
      "DEBUG flwr 2023-04-08 20:46:54,075 | server.py:215 | fit_round 5: strategy sampled 2 clients (out of 5)\n"
     ]
    },
    {
     "output_type": "stream",
     "name": "stdout",
     "text": [
      "\t {'val_loss': 1.8796334862709045, 'val_accuracy': 0.45}\n"
     ]
    },
    {
     "output_type": "stream",
     "name": "stderr",
     "text": [
      "DEBUG flwr 2023-04-08 20:50:12,857 | server.py:229 | fit_round 5 received 2 results and 0 failures\n"
     ]
    },
    {
     "output_type": "stream",
     "name": "stdout",
     "text": [
      "\t {'train_loss': 1.6098512411117554, 'train_accuracy': 0.5833333333333334}\n"
     ]
    },
    {
     "output_type": "stream",
     "name": "stderr",
     "text": [
      "INFO flwr 2023-04-08 20:50:22,688 | server.py:116 | fit progress: (5, 7.541686058044434, {'test_loss': 7.541686058044434, 'test_accuracy': 0.45}, 1092.2978220000005)\n",
      "DEBUG flwr 2023-04-08 20:50:22,689 | server.py:165 | evaluate_round 5: strategy sampled 2 clients (out of 5)\n",
      "DEBUG flwr 2023-04-08 20:50:33,630 | server.py:179 | evaluate_round 5 received 2 results and 0 failures\n",
      "DEBUG flwr 2023-04-08 20:50:33,631 | server.py:215 | fit_round 6: strategy sampled 2 clients (out of 5)\n"
     ]
    },
    {
     "output_type": "stream",
     "name": "stdout",
     "text": [
      "\t {'val_loss': 1.8450356721878052, 'val_accuracy': 0.4}\n"
     ]
    },
    {
     "output_type": "stream",
     "name": "stderr",
     "text": [
      "DEBUG flwr 2023-04-08 20:53:52,331 | server.py:229 | fit_round 6 received 2 results and 0 failures\n"
     ]
    },
    {
     "output_type": "stream",
     "name": "stdout",
     "text": [
      "\t {'train_loss': 1.4160170555114746, 'train_accuracy': 0.6999999999999998}\n"
     ]
    },
    {
     "output_type": "stream",
     "name": "stderr",
     "text": [
      "INFO flwr 2023-04-08 20:54:02,147 | server.py:116 | fit progress: (6, 6.606864929199219, {'test_loss': 6.606864929199219, 'test_accuracy': 0.54}, 1311.7569915999993)\n",
      "DEBUG flwr 2023-04-08 20:54:02,148 | server.py:165 | evaluate_round 6: strategy sampled 2 clients (out of 5)\n",
      "DEBUG flwr 2023-04-08 20:54:13,052 | server.py:179 | evaluate_round 6 received 2 results and 0 failures\n",
      "DEBUG flwr 2023-04-08 20:54:13,053 | server.py:215 | fit_round 7: strategy sampled 2 clients (out of 5)\n"
     ]
    },
    {
     "output_type": "stream",
     "name": "stdout",
     "text": [
      "\t {'val_loss': 1.6238410472869873, 'val_accuracy': 0.625}\n"
     ]
    },
    {
     "output_type": "stream",
     "name": "stderr",
     "text": [
      "DEBUG flwr 2023-04-08 20:57:32,021 | server.py:229 | fit_round 7 received 2 results and 0 failures\n"
     ]
    },
    {
     "output_type": "stream",
     "name": "stdout",
     "text": [
      "\t {'train_loss': 1.4084084033966064, 'train_accuracy': 0.7444444444444445}\n"
     ]
    },
    {
     "output_type": "stream",
     "name": "stderr",
     "text": [
      "INFO flwr 2023-04-08 20:57:41,819 | server.py:116 | fit progress: (7, 6.381008148193359, {'test_loss': 6.381008148193359, 'test_accuracy': 0.66}, 1531.4288167000013)\n",
      "DEBUG flwr 2023-04-08 20:57:41,819 | server.py:165 | evaluate_round 7: strategy sampled 2 clients (out of 5)\n",
      "DEBUG flwr 2023-04-08 20:57:52,749 | server.py:179 | evaluate_round 7 received 2 results and 0 failures\n",
      "DEBUG flwr 2023-04-08 20:57:52,750 | server.py:215 | fit_round 8: strategy sampled 2 clients (out of 5)\n"
     ]
    },
    {
     "output_type": "stream",
     "name": "stdout",
     "text": [
      "\t {'val_loss': 1.5225083827972412, 'val_accuracy': 0.6499999999999999}\n"
     ]
    },
    {
     "output_type": "stream",
     "name": "stderr",
     "text": [
      "DEBUG flwr 2023-04-08 21:01:11,055 | server.py:229 | fit_round 8 received 2 results and 0 failures\n"
     ]
    },
    {
     "output_type": "stream",
     "name": "stdout",
     "text": [
      "\t {'train_loss': 1.3913161754608154, 'train_accuracy': 0.8277777777777778}\n"
     ]
    },
    {
     "output_type": "stream",
     "name": "stderr",
     "text": [
      "INFO flwr 2023-04-08 21:01:20,850 | server.py:116 | fit progress: (8, 5.811273574829102, {'test_loss': 5.811273574829102, 'test_accuracy': 0.68}, 1750.460410399999)\n",
      "DEBUG flwr 2023-04-08 21:01:20,851 | server.py:165 | evaluate_round 8: strategy sampled 2 clients (out of 5)\n",
      "DEBUG flwr 2023-04-08 21:01:38,836 | server.py:179 | evaluate_round 8 received 2 results and 0 failures\n",
      "DEBUG flwr 2023-04-08 21:01:38,837 | server.py:215 | fit_round 9: strategy sampled 2 clients (out of 5)\n"
     ]
    },
    {
     "output_type": "stream",
     "name": "stdout",
     "text": [
      "\t {'val_loss': 1.5228939652442932, 'val_accuracy': 0.65}\n"
     ]
    },
    {
     "output_type": "stream",
     "name": "stderr",
     "text": [
      "DEBUG flwr 2023-04-08 21:04:58,277 | server.py:229 | fit_round 9 received 2 results and 0 failures\n"
     ]
    },
    {
     "output_type": "stream",
     "name": "stdout",
     "text": [
      "\t {'train_loss': 1.1565086841583252, 'train_accuracy': 0.8972222222222223}\n"
     ]
    },
    {
     "output_type": "stream",
     "name": "stderr",
     "text": [
      "INFO flwr 2023-04-08 21:05:08,099 | server.py:116 | fit progress: (9, 5.535859107971191, {'test_loss': 5.535859107971191, 'test_accuracy': 0.74}, 1977.7085434)\n",
      "DEBUG flwr 2023-04-08 21:05:08,099 | server.py:165 | evaluate_round 9: strategy sampled 2 clients (out of 5)\n",
      "DEBUG flwr 2023-04-08 21:05:19,025 | server.py:179 | evaluate_round 9 received 2 results and 0 failures\n",
      "DEBUG flwr 2023-04-08 21:05:19,025 | server.py:215 | fit_round 10: strategy sampled 2 clients (out of 5)\n"
     ]
    },
    {
     "output_type": "stream",
     "name": "stdout",
     "text": [
      "\t {'val_loss': 1.3764183521270752, 'val_accuracy': 0.775}\n"
     ]
    },
    {
     "output_type": "stream",
     "name": "stderr",
     "text": [
      "DEBUG flwr 2023-04-08 21:08:37,038 | server.py:229 | fit_round 10 received 2 results and 0 failures\n"
     ]
    },
    {
     "output_type": "stream",
     "name": "stdout",
     "text": [
      "\t {'train_loss': 1.0950335264205933, 'train_accuracy': 0.8666666666666667}\n"
     ]
    },
    {
     "output_type": "stream",
     "name": "stderr",
     "text": [
      "INFO flwr 2023-04-08 21:08:46,916 | server.py:116 | fit progress: (10, 5.097431182861328, {'test_loss': 5.097431182861328, 'test_accuracy': 0.8}, 2196.5262119)\n",
      "DEBUG flwr 2023-04-08 21:08:46,917 | server.py:165 | evaluate_round 10: strategy sampled 2 clients (out of 5)\n",
      "DEBUG flwr 2023-04-08 21:08:57,918 | server.py:179 | evaluate_round 10 received 2 results and 0 failures\n",
      "INFO flwr 2023-04-08 21:08:57,919 | server.py:144 | FL finished in 2207.5291012999987\n",
      "INFO flwr 2023-04-08 21:08:57,941 | app.py:202 | app_fit: losses_distributed [(1, 2.2656664848327637), (2, 2.103411555290222), (3, 1.9848032593727112), (4, 1.8796334862709045), (5, 1.8450356721878052), (6, 1.6238410472869873), (7, 1.5225083827972412), (8, 1.5228939652442932), (9, 1.3764183521270752), (10, 1.3031120896339417)]\n",
      "INFO flwr 2023-04-08 21:08:57,941 | app.py:203 | app_fit: metrics_distributed {'val_loss': [(1, 2.2656664848327637), (2, 2.103411555290222), (3, 1.9848032593727112), (4, 1.8796334862709045), (5, 1.8450356721878052), (6, 1.6238410472869873), (7, 1.5225083827972412), (8, 1.5228939652442932), (9, 1.3764183521270752), (10, 1.3031120896339417)], 'val_accuracy': [(1, 0.275), (2, 0.3), (3, 0.35), (4, 0.45), (5, 0.4), (6, 0.625), (7, 0.6499999999999999), (8, 0.65), (9, 0.775), (10, 0.8)]}\n",
      "INFO flwr 2023-04-08 21:08:57,942 | app.py:204 | app_fit: losses_centralized [(0, 9.611557960510254), (1, 9.386661529541016), (2, 8.441346168518066), (3, 8.199491500854492), (4, 7.691163063049316), (5, 7.541686058044434), (6, 6.606864929199219), (7, 6.381008148193359), (8, 5.811273574829102), (9, 5.535859107971191), (10, 5.097431182861328)]\n",
      "INFO flwr 2023-04-08 21:08:57,942 | app.py:205 | app_fit: metrics_centralized {'test_loss': [(0, 9.611557960510254), (1, 9.386661529541016), (2, 8.441346168518066), (3, 8.199491500854492), (4, 7.691163063049316), (5, 7.541686058044434), (6, 6.606864929199219), (7, 6.381008148193359), (8, 5.811273574829102), (9, 5.535859107971191), (10, 5.097431182861328)], 'test_accuracy': [(0, 0.11), (1, 0.12), (2, 0.21), (3, 0.28), (4, 0.33), (5, 0.45), (6, 0.54), (7, 0.66), (8, 0.68), (9, 0.74), (10, 0.8)]}\n"
     ]
    },
    {
     "output_type": "stream",
     "name": "stdout",
     "text": [
      "\t {'val_loss': 1.3031120896339417, 'val_accuracy': 0.8}\n"
     ]
    },
    {
     "output_type": "execute_result",
     "data": {
      "text/plain": [
       "History (loss, distributed):\n",
       "\tround 1: 2.2656664848327637\n",
       "\tround 2: 2.103411555290222\n",
       "\tround 3: 1.9848032593727112\n",
       "\tround 4: 1.8796334862709045\n",
       "\tround 5: 1.8450356721878052\n",
       "\tround 6: 1.6238410472869873\n",
       "\tround 7: 1.5225083827972412\n",
       "\tround 8: 1.5228939652442932\n",
       "\tround 9: 1.3764183521270752\n",
       "\tround 10: 1.3031120896339417\n",
       "History (loss, centralized):\n",
       "\tround 0: 9.611557960510254\n",
       "\tround 1: 9.386661529541016\n",
       "\tround 2: 8.441346168518066\n",
       "\tround 3: 8.199491500854492\n",
       "\tround 4: 7.691163063049316\n",
       "\tround 5: 7.541686058044434\n",
       "\tround 6: 6.606864929199219\n",
       "\tround 7: 6.381008148193359\n",
       "\tround 8: 5.811273574829102\n",
       "\tround 9: 5.535859107971191\n",
       "\tround 10: 5.097431182861328\n",
       "History (metrics, distributed):\n",
       "{'val_loss': [(1, 2.2656664848327637), (2, 2.103411555290222), (3, 1.9848032593727112), (4, 1.8796334862709045), (5, 1.8450356721878052), (6, 1.6238410472869873), (7, 1.5225083827972412), (8, 1.5228939652442932), (9, 1.3764183521270752), (10, 1.3031120896339417)], 'val_accuracy': [(1, 0.275), (2, 0.3), (3, 0.35), (4, 0.45), (5, 0.4), (6, 0.625), (7, 0.6499999999999999), (8, 0.65), (9, 0.775), (10, 0.8)]}History (metrics, centralized):\n",
       "{'test_loss': [(0, 9.611557960510254), (1, 9.386661529541016), (2, 8.441346168518066), (3, 8.199491500854492), (4, 7.691163063049316), (5, 7.541686058044434), (6, 6.606864929199219), (7, 6.381008148193359), (8, 5.811273574829102), (9, 5.535859107971191), (10, 5.097431182861328)], 'test_accuracy': [(0, 0.11), (1, 0.12), (2, 0.21), (3, 0.28), (4, 0.33), (5, 0.45), (6, 0.54), (7, 0.66), (8, 0.68), (9, 0.74), (10, 0.8)]}"
      ]
     },
     "metadata": {},
     "execution_count": 7
    }
   ],
   "metadata": {}
  }
 ],
 "nbformat": 4,
 "nbformat_minor": 2,
 "metadata": {
  "language_info": {
   "codemirror_mode": {
    "name": "ipython",
    "version": 3
   },
   "file_extension": ".py",
   "mimetype": "text/x-python",
   "name": "python",
   "nbconvert_exporter": "python",
   "pygments_lexer": "ipython3",
   "version": 3
  },
  "orig_nbformat": 4
 }
}