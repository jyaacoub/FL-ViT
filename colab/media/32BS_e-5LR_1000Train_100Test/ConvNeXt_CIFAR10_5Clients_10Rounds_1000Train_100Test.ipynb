{
 "cells": [
  {
   "cell_type": "code",
   "execution_count": 7,
   "source": [
    "fl.simulation.start_simulation(\n",
    "    client_fn=lambda cid: FlowerClient(MODEL_CONFIG, trainloaders[int(cid)], valloaders[int(cid)]),\n",
    "    num_clients=NUM_CLIENTS,\n",
    "    config=fl.server.ServerConfig(num_rounds=NUM_ROUNDS),\n",
    "    strategy=strategy,\n",
    "    client_resources=CLIENT_RESOURCES,\n",
    ")"
   ],
   "outputs": [
    {
     "output_type": "stream",
     "name": "stderr",
     "text": [
      "INFO flwr 2023-04-08 23:24:19,272 | app.py:145 | Starting Flower simulation, config: ServerConfig(num_rounds=10, round_timeout=None)\n",
      "2023-04-08 23:24:21,340\tINFO worker.py:1529 -- Started a local Ray instance. View the dashboard at \u001b[1m\u001b[32m127.0.0.1:8265 \u001b[39m\u001b[22m\n",
      "INFO flwr 2023-04-08 23:24:22,553 | app.py:179 | Flower VCE: Ray initialized with resources: {'GPU': 1.0, 'object_store_memory': 7183451750.0, 'CPU': 24.0, 'memory': 14366903502.0, 'node:127.0.0.1': 1.0}\n",
      "INFO flwr 2023-04-08 23:24:22,553 | server.py:86 | Initializing global parameters\n",
      "INFO flwr 2023-04-08 23:24:22,554 | server.py:266 | Using initial parameters provided by strategy\n",
      "INFO flwr 2023-04-08 23:24:22,554 | server.py:88 | Evaluating initial parameters\n",
      "INFO flwr 2023-04-08 23:24:27,620 | server.py:91 | initial parameters (loss, other metrics): 9.2679443359375, {'test_loss': 9.2679443359375, 'test_accuracy': 0.07}\n",
      "INFO flwr 2023-04-08 23:24:27,620 | server.py:101 | FL starting\n",
      "DEBUG flwr 2023-04-08 23:24:27,621 | server.py:215 | fit_round 1: strategy sampled 2 clients (out of 5)\n",
      "DEBUG flwr 2023-04-08 23:26:14,908 | server.py:229 | fit_round 1 received 2 results and 0 failures\n"
     ]
    },
    {
     "output_type": "stream",
     "name": "stdout",
     "text": [
      "\t {'train_loss': 2.3092198371887207, 'train_accuracy': 0.05833333333333333}\n"
     ]
    },
    {
     "output_type": "stream",
     "name": "stderr",
     "text": [
      "INFO flwr 2023-04-08 23:26:20,078 | server.py:116 | fit progress: (1, 9.212156295776367, {'test_loss': 9.212156295776367, 'test_accuracy': 0.08}, 112.45684609999444)\n",
      "DEBUG flwr 2023-04-08 23:26:20,078 | server.py:165 | evaluate_round 1: strategy sampled 2 clients (out of 5)\n",
      "DEBUG flwr 2023-04-08 23:26:24,908 | server.py:179 | evaluate_round 1 received 2 results and 0 failures\n",
      "DEBUG flwr 2023-04-08 23:26:24,908 | server.py:215 | fit_round 2: strategy sampled 2 clients (out of 5)\n"
     ]
    },
    {
     "output_type": "stream",
     "name": "stdout",
     "text": [
      "\t {'val_loss': 2.293596863746643, 'val_accuracy': 0.125}\n"
     ]
    },
    {
     "output_type": "stream",
     "name": "stderr",
     "text": [
      "DEBUG flwr 2023-04-08 23:27:58,979 | server.py:229 | fit_round 2 received 2 results and 0 failures\n"
     ]
    },
    {
     "output_type": "stream",
     "name": "stdout",
     "text": [
      "\t {'train_loss': 2.310650587081909, 'train_accuracy': 0.10555555555555556}\n"
     ]
    },
    {
     "output_type": "stream",
     "name": "stderr",
     "text": [
      "INFO flwr 2023-04-08 23:28:04,089 | server.py:116 | fit progress: (2, 9.078756332397461, {'test_loss': 9.078756332397461, 'test_accuracy': 0.09}, 216.46819329999562)\n",
      "DEBUG flwr 2023-04-08 23:28:04,089 | server.py:165 | evaluate_round 2: strategy sampled 2 clients (out of 5)\n",
      "DEBUG flwr 2023-04-08 23:28:08,840 | server.py:179 | evaluate_round 2 received 2 results and 0 failures\n",
      "DEBUG flwr 2023-04-08 23:28:08,840 | server.py:215 | fit_round 3: strategy sampled 2 clients (out of 5)\n"
     ]
    },
    {
     "output_type": "stream",
     "name": "stdout",
     "text": [
      "\t {'val_loss': 2.2903807163238525, 'val_accuracy': 0.1}\n"
     ]
    },
    {
     "output_type": "stream",
     "name": "stderr",
     "text": [
      "DEBUG flwr 2023-04-08 23:29:41,566 | server.py:229 | fit_round 3 received 2 results and 0 failures\n"
     ]
    },
    {
     "output_type": "stream",
     "name": "stdout",
     "text": [
      "\t {'train_loss': 2.2789759635925293, 'train_accuracy': 0.09444444444444444}\n"
     ]
    },
    {
     "output_type": "stream",
     "name": "stderr",
     "text": [
      "INFO flwr 2023-04-08 23:29:46,578 | server.py:116 | fit progress: (3, 9.007659912109375, {'test_loss': 9.007659912109375, 'test_accuracy': 0.11}, 318.95783149999625)\n",
      "DEBUG flwr 2023-04-08 23:29:46,579 | server.py:165 | evaluate_round 3: strategy sampled 2 clients (out of 5)\n",
      "DEBUG flwr 2023-04-08 23:29:51,233 | server.py:179 | evaluate_round 3 received 2 results and 0 failures\n",
      "DEBUG flwr 2023-04-08 23:29:51,234 | server.py:215 | fit_round 4: strategy sampled 2 clients (out of 5)\n"
     ]
    },
    {
     "output_type": "stream",
     "name": "stdout",
     "text": [
      "\t {'val_loss': 2.269240975379944, 'val_accuracy': 0.15000000000000002}\n"
     ]
    },
    {
     "output_type": "stream",
     "name": "stderr",
     "text": [
      "DEBUG flwr 2023-04-08 23:31:23,917 | server.py:229 | fit_round 4 received 2 results and 0 failures\n"
     ]
    },
    {
     "output_type": "stream",
     "name": "stdout",
     "text": [
      "\t {'train_loss': 2.264200806617737, 'train_accuracy': 0.13333333333333333}\n"
     ]
    },
    {
     "output_type": "stream",
     "name": "stderr",
     "text": [
      "INFO flwr 2023-04-08 23:31:28,967 | server.py:116 | fit progress: (4, 8.949664115905762, {'test_loss': 8.949664115905762, 'test_accuracy': 0.14}, 421.3461799999932)\n",
      "DEBUG flwr 2023-04-08 23:31:28,967 | server.py:165 | evaluate_round 4: strategy sampled 2 clients (out of 5)\n",
      "DEBUG flwr 2023-04-08 23:31:33,682 | server.py:179 | evaluate_round 4 received 2 results and 0 failures\n",
      "DEBUG flwr 2023-04-08 23:31:33,683 | server.py:215 | fit_round 5: strategy sampled 2 clients (out of 5)\n"
     ]
    },
    {
     "output_type": "stream",
     "name": "stdout",
     "text": [
      "\t {'val_loss': 2.240424871444702, 'val_accuracy': 0.175}\n"
     ]
    },
    {
     "output_type": "stream",
     "name": "stderr",
     "text": [
      "DEBUG flwr 2023-04-08 23:33:10,136 | server.py:229 | fit_round 5 received 2 results and 0 failures\n"
     ]
    },
    {
     "output_type": "stream",
     "name": "stdout",
     "text": [
      "\t {'train_loss': 2.2326483726501465, 'train_accuracy': 0.14444444444444446}\n"
     ]
    },
    {
     "output_type": "stream",
     "name": "stderr",
     "text": [
      "INFO flwr 2023-04-08 23:33:15,294 | server.py:116 | fit progress: (5, 9.015214920043945, {'test_loss': 9.015214920043945, 'test_accuracy': 0.17}, 527.6732407999953)\n",
      "DEBUG flwr 2023-04-08 23:33:15,294 | server.py:165 | evaluate_round 5: strategy sampled 2 clients (out of 5)\n",
      "DEBUG flwr 2023-04-08 23:33:20,180 | server.py:179 | evaluate_round 5 received 2 results and 0 failures\n",
      "DEBUG flwr 2023-04-08 23:33:20,181 | server.py:215 | fit_round 6: strategy sampled 2 clients (out of 5)\n"
     ]
    },
    {
     "output_type": "stream",
     "name": "stdout",
     "text": [
      "\t {'val_loss': 2.244856595993042, 'val_accuracy': 0.225}\n"
     ]
    },
    {
     "output_type": "stream",
     "name": "stderr",
     "text": [
      "DEBUG flwr 2023-04-08 23:34:53,105 | server.py:229 | fit_round 6 received 2 results and 0 failures\n"
     ]
    },
    {
     "output_type": "stream",
     "name": "stdout",
     "text": [
      "\t {'train_loss': 2.245592713356018, 'train_accuracy': 0.2027777777777778}\n"
     ]
    },
    {
     "output_type": "stream",
     "name": "stderr",
     "text": [
      "INFO flwr 2023-04-08 23:34:58,244 | server.py:116 | fit progress: (6, 8.899678230285645, {'test_loss': 8.899678230285645, 'test_accuracy': 0.18}, 630.6232879999952)\n",
      "DEBUG flwr 2023-04-08 23:34:58,244 | server.py:165 | evaluate_round 6: strategy sampled 2 clients (out of 5)\n",
      "DEBUG flwr 2023-04-08 23:35:03,028 | server.py:179 | evaluate_round 6 received 2 results and 0 failures\n",
      "DEBUG flwr 2023-04-08 23:35:03,029 | server.py:215 | fit_round 7: strategy sampled 2 clients (out of 5)\n"
     ]
    },
    {
     "output_type": "stream",
     "name": "stdout",
     "text": [
      "\t {'val_loss': 2.242040991783142, 'val_accuracy': 0.15000000000000002}\n"
     ]
    },
    {
     "output_type": "stream",
     "name": "stderr",
     "text": [
      "DEBUG flwr 2023-04-08 23:36:36,033 | server.py:229 | fit_round 7 received 2 results and 0 failures\n"
     ]
    },
    {
     "output_type": "stream",
     "name": "stdout",
     "text": [
      "\t {'train_loss': 2.185489296913147, 'train_accuracy': 0.23611111111111108}\n"
     ]
    },
    {
     "output_type": "stream",
     "name": "stderr",
     "text": [
      "INFO flwr 2023-04-08 23:36:41,093 | server.py:116 | fit progress: (7, 8.80817699432373, {'test_loss': 8.80817699432373, 'test_accuracy': 0.22}, 733.4728714999947)\n",
      "DEBUG flwr 2023-04-08 23:36:41,094 | server.py:165 | evaluate_round 7: strategy sampled 2 clients (out of 5)\n",
      "DEBUG flwr 2023-04-08 23:36:45,829 | server.py:179 | evaluate_round 7 received 2 results and 0 failures\n",
      "DEBUG flwr 2023-04-08 23:36:45,829 | server.py:215 | fit_round 8: strategy sampled 2 clients (out of 5)\n"
     ]
    },
    {
     "output_type": "stream",
     "name": "stdout",
     "text": [
      "\t {'val_loss': 2.2195680141448975, 'val_accuracy': 0.175}\n"
     ]
    },
    {
     "output_type": "stream",
     "name": "stderr",
     "text": [
      "DEBUG flwr 2023-04-08 23:38:18,924 | server.py:229 | fit_round 8 received 2 results and 0 failures\n"
     ]
    },
    {
     "output_type": "stream",
     "name": "stdout",
     "text": [
      "\t {'train_loss': 2.213523745536804, 'train_accuracy': 0.27499999999999997}\n"
     ]
    },
    {
     "output_type": "stream",
     "name": "stderr",
     "text": [
      "INFO flwr 2023-04-08 23:38:23,955 | server.py:116 | fit progress: (8, 8.686306953430176, {'test_loss': 8.686306953430176, 'test_accuracy': 0.26}, 836.3344033999965)\n",
      "DEBUG flwr 2023-04-08 23:38:23,956 | server.py:165 | evaluate_round 8: strategy sampled 2 clients (out of 5)\n",
      "DEBUG flwr 2023-04-08 23:38:28,638 | server.py:179 | evaluate_round 8 received 2 results and 0 failures\n",
      "DEBUG flwr 2023-04-08 23:38:28,639 | server.py:215 | fit_round 9: strategy sampled 2 clients (out of 5)\n"
     ]
    },
    {
     "output_type": "stream",
     "name": "stdout",
     "text": [
      "\t {'val_loss': 2.1843336820602417, 'val_accuracy': 0.3}\n"
     ]
    },
    {
     "output_type": "stream",
     "name": "stderr",
     "text": [
      "DEBUG flwr 2023-04-08 23:41:07,140 | server.py:229 | fit_round 9 received 2 results and 0 failures\n"
     ]
    },
    {
     "output_type": "stream",
     "name": "stdout",
     "text": [
      "\t {'train_loss': 2.179749011993408, 'train_accuracy': 0.36388888888888893}\n"
     ]
    },
    {
     "output_type": "stream",
     "name": "stderr",
     "text": [
      "INFO flwr 2023-04-08 23:41:16,822 | server.py:116 | fit progress: (9, 8.694424629211426, {'test_loss': 8.694424629211426, 'test_accuracy': 0.3}, 1009.2012898999965)\n",
      "DEBUG flwr 2023-04-08 23:41:16,823 | server.py:165 | evaluate_round 9: strategy sampled 2 clients (out of 5)\n",
      "DEBUG flwr 2023-04-08 23:41:25,866 | server.py:179 | evaluate_round 9 received 2 results and 0 failures\n",
      "DEBUG flwr 2023-04-08 23:41:25,868 | server.py:215 | fit_round 10: strategy sampled 2 clients (out of 5)\n"
     ]
    },
    {
     "output_type": "stream",
     "name": "stdout",
     "text": [
      "\t {'val_loss': 2.18130362033844, 'val_accuracy': 0.22499999999999998}\n"
     ]
    },
    {
     "output_type": "stream",
     "name": "stderr",
     "text": [
      "DEBUG flwr 2023-04-08 23:44:29,870 | server.py:229 | fit_round 10 received 2 results and 0 failures\n"
     ]
    },
    {
     "output_type": "stream",
     "name": "stdout",
     "text": [
      "\t {'train_loss': 2.1055840253829956, 'train_accuracy': 0.4138888888888889}\n"
     ]
    },
    {
     "output_type": "stream",
     "name": "stderr",
     "text": [
      "INFO flwr 2023-04-08 23:44:36,720 | server.py:116 | fit progress: (10, 8.626787185668945, {'test_loss': 8.626787185668945, 'test_accuracy': 0.33}, 1209.0998298999984)\n",
      "DEBUG flwr 2023-04-08 23:44:36,721 | server.py:165 | evaluate_round 10: strategy sampled 2 clients (out of 5)\n",
      "DEBUG flwr 2023-04-08 23:44:41,463 | server.py:179 | evaluate_round 10 received 2 results and 0 failures\n",
      "INFO flwr 2023-04-08 23:44:41,464 | server.py:144 | FL finished in 1213.8429109999997\n",
      "INFO flwr 2023-04-08 23:44:41,472 | app.py:202 | app_fit: losses_distributed [(1, 2.293596863746643), (2, 2.2903807163238525), (3, 2.269240975379944), (4, 2.240424871444702), (5, 2.244856595993042), (6, 2.242040991783142), (7, 2.2195680141448975), (8, 2.1843336820602417), (9, 2.18130362033844), (10, 2.1570236682891846)]\n",
      "INFO flwr 2023-04-08 23:44:41,473 | app.py:203 | app_fit: metrics_distributed {'val_loss': [(1, 2.293596863746643), (2, 2.2903807163238525), (3, 2.269240975379944), (4, 2.240424871444702), (5, 2.244856595993042), (6, 2.242040991783142), (7, 2.2195680141448975), (8, 2.1843336820602417), (9, 2.18130362033844), (10, 2.1570236682891846)], 'val_accuracy': [(1, 0.125), (2, 0.1), (3, 0.15000000000000002), (4, 0.175), (5, 0.225), (6, 0.15000000000000002), (7, 0.175), (8, 0.3), (9, 0.22499999999999998), (10, 0.35)]}\n",
      "INFO flwr 2023-04-08 23:44:41,473 | app.py:204 | app_fit: losses_centralized [(0, 9.2679443359375), (1, 9.212156295776367), (2, 9.078756332397461), (3, 9.007659912109375), (4, 8.949664115905762), (5, 9.015214920043945), (6, 8.899678230285645), (7, 8.80817699432373), (8, 8.686306953430176), (9, 8.694424629211426), (10, 8.626787185668945)]\n",
      "INFO flwr 2023-04-08 23:44:41,473 | app.py:205 | app_fit: metrics_centralized {'test_loss': [(0, 9.2679443359375), (1, 9.212156295776367), (2, 9.078756332397461), (3, 9.007659912109375), (4, 8.949664115905762), (5, 9.015214920043945), (6, 8.899678230285645), (7, 8.80817699432373), (8, 8.686306953430176), (9, 8.694424629211426), (10, 8.626787185668945)], 'test_accuracy': [(0, 0.07), (1, 0.08), (2, 0.09), (3, 0.11), (4, 0.14), (5, 0.17), (6, 0.18), (7, 0.22), (8, 0.26), (9, 0.3), (10, 0.33)]}\n"
     ]
    },
    {
     "output_type": "stream",
     "name": "stdout",
     "text": [
      "\t {'val_loss': 2.1570236682891846, 'val_accuracy': 0.35}\n"
     ]
    },
    {
     "output_type": "execute_result",
     "data": {
      "text/plain": [
       "History (loss, distributed):\n",
       "\tround 1: 2.293596863746643\n",
       "\tround 2: 2.2903807163238525\n",
       "\tround 3: 2.269240975379944\n",
       "\tround 4: 2.240424871444702\n",
       "\tround 5: 2.244856595993042\n",
       "\tround 6: 2.242040991783142\n",
       "\tround 7: 2.2195680141448975\n",
       "\tround 8: 2.1843336820602417\n",
       "\tround 9: 2.18130362033844\n",
       "\tround 10: 2.1570236682891846\n",
       "History (loss, centralized):\n",
       "\tround 0: 9.2679443359375\n",
       "\tround 1: 9.212156295776367\n",
       "\tround 2: 9.078756332397461\n",
       "\tround 3: 9.007659912109375\n",
       "\tround 4: 8.949664115905762\n",
       "\tround 5: 9.015214920043945\n",
       "\tround 6: 8.899678230285645\n",
       "\tround 7: 8.80817699432373\n",
       "\tround 8: 8.686306953430176\n",
       "\tround 9: 8.694424629211426\n",
       "\tround 10: 8.626787185668945\n",
       "History (metrics, distributed):\n",
       "{'val_loss': [(1, 2.293596863746643), (2, 2.2903807163238525), (3, 2.269240975379944), (4, 2.240424871444702), (5, 2.244856595993042), (6, 2.242040991783142), (7, 2.2195680141448975), (8, 2.1843336820602417), (9, 2.18130362033844), (10, 2.1570236682891846)], 'val_accuracy': [(1, 0.125), (2, 0.1), (3, 0.15000000000000002), (4, 0.175), (5, 0.225), (6, 0.15000000000000002), (7, 0.175), (8, 0.3), (9, 0.22499999999999998), (10, 0.35)]}History (metrics, centralized):\n",
       "{'test_loss': [(0, 9.2679443359375), (1, 9.212156295776367), (2, 9.078756332397461), (3, 9.007659912109375), (4, 8.949664115905762), (5, 9.015214920043945), (6, 8.899678230285645), (7, 8.80817699432373), (8, 8.686306953430176), (9, 8.694424629211426), (10, 8.626787185668945)], 'test_accuracy': [(0, 0.07), (1, 0.08), (2, 0.09), (3, 0.11), (4, 0.14), (5, 0.17), (6, 0.18), (7, 0.22), (8, 0.26), (9, 0.3), (10, 0.33)]}"
      ]
     },
     "metadata": {},
     "execution_count": 7
    }
   ],
   "metadata": {}
  }
 ],
 "nbformat": 4,
 "nbformat_minor": 2,
 "metadata": {
  "language_info": {
   "codemirror_mode": {
    "name": "ipython",
    "version": 3
   },
   "file_extension": ".py",
   "mimetype": "text/x-python",
   "name": "python",
   "nbconvert_exporter": "python",
   "pygments_lexer": "ipython3",
   "version": 3
  },
  "orig_nbformat": 4
 }
}