{
 "cells": [
  {
   "cell_type": "code",
   "execution_count": 8,
   "metadata": {},
   "outputs": [
    {
     "name": "stdout",
     "output_type": "stream",
     "text": [
      "num clients: 5\n",
      "num rounds: 50\n",
      "----------------------------------------\n",
      "client training set size: [90, 90, 90, 90, 90, 90, 90, 90, 90, 90]\n",
      "client validation set size: [10, 10, 10, 10, 10, 10, 10, 10, 10, 10]\n",
      "test set size: 100\n",
      "----------------------------------------\n",
      "model name: facebook/deit-base-distilled-patch16-224\n",
      "num classes: 100\n",
      "pre-trained: True\n",
      "learning rate: 0.0001\n",
      "batch size: 32\n",
      "epochs: 1\n"
     ]
    }
   ],
   "source": [
    "print('num clients:', NUM_CLIENTS)\n",
    "print('num rounds:', NUM_ROUNDS)\n",
    "print('--'*20)\n",
    "print('client training set size:', [len(t.dataset) for t in trainloaders])\n",
    "print('client validation set size:', [len(v.dataset) for v in valloaders])\n",
    "print('test set size:', len(testloader.dataset))\n",
    "print('--'*20)\n",
    "print('model name:', MODEL_NAME)\n",
    "print('num classes:', NUM_CLASSES)\n",
    "print('pre-trained:', PRE_TRAINED)\n",
    "print('learning rate:', LEARNING_RATE)\n",
    "print('batch size:', BATCH_SIZE)\n",
    "print('epochs:', EPOCHS)"
   ]
  },
  {
   "cell_type": "code",
   "execution_count": 9,
   "metadata": {},
   "outputs": [
    {
     "name": "stderr",
     "output_type": "stream",
     "text": [
      "INFO flwr 2023-04-12 16:19:06,626 | app.py:145 | Starting Flower simulation, config: ServerConfig(num_rounds=50, round_timeout=None)\n",
      "2023-04-12 16:19:08,573\tINFO worker.py:1529 -- Started a local Ray instance. View the dashboard at \u001b[1m\u001b[32m127.0.0.1:8265 \u001b[39m\u001b[22m\n",
      "INFO flwr 2023-04-12 16:19:09,763 | app.py:179 | Flower VCE: Ray initialized with resources: {'object_store_memory': 6915954278.0, 'memory': 13831908558.0, 'GPU': 1.0, 'CPU': 24.0, 'node:127.0.0.1': 1.0}\n",
      "INFO flwr 2023-04-12 16:19:09,764 | server.py:86 | Initializing global parameters\n",
      "INFO flwr 2023-04-12 16:19:09,764 | server.py:266 | Using initial parameters provided by strategy\n",
      "INFO flwr 2023-04-12 16:19:09,765 | server.py:88 | Evaluating initial parameters\n",
      "INFO flwr 2023-04-12 16:19:19,074 | server.py:91 | initial parameters (loss, other metrics): 18.094148635864258, {'test_loss': 18.094148635864258, 'test_accuracy': 0.02}\n",
      "INFO flwr 2023-04-12 16:19:19,074 | server.py:101 | FL starting\n",
      "DEBUG flwr 2023-04-12 16:19:19,075 | server.py:215 | fit_round 1: strategy sampled 2 clients (out of 5)\n",
      "DEBUG flwr 2023-04-12 16:20:55,989 | server.py:229 | fit_round 1 received 2 results and 0 failures\n"
     ]
    },
    {
     "name": "stdout",
     "output_type": "stream",
     "text": [
      "\t {'train_loss': 4.039602756500244, 'train_accuracy': 0.08888888888888889}\n"
     ]
    },
    {
     "name": "stderr",
     "output_type": "stream",
     "text": [
      "INFO flwr 2023-04-12 16:21:05,807 | server.py:116 | fit progress: (1, 17.874038696289062, {'test_loss': 17.874038696289062, 'test_accuracy': 0.03}, 106.73190669999167)\n",
      "DEBUG flwr 2023-04-12 16:21:05,807 | server.py:165 | evaluate_round 1: strategy sampled 2 clients (out of 5)\n",
      "DEBUG flwr 2023-04-12 16:21:12,187 | server.py:179 | evaluate_round 1 received 2 results and 0 failures\n",
      "DEBUG flwr 2023-04-12 16:21:12,188 | server.py:215 | fit_round 2: strategy sampled 2 clients (out of 5)\n"
     ]
    },
    {
     "name": "stdout",
     "output_type": "stream",
     "text": [
      "\t {'val_loss': 4.334606766700745, 'val_accuracy': 0.25}\n"
     ]
    },
    {
     "name": "stderr",
     "output_type": "stream",
     "text": [
      "DEBUG flwr 2023-04-12 16:22:47,115 | server.py:229 | fit_round 2 received 2 results and 0 failures\n"
     ]
    },
    {
     "name": "stdout",
     "output_type": "stream",
     "text": [
      "\t {'train_loss': 4.0775146484375, 'train_accuracy': 0.07777777777777778}\n"
     ]
    },
    {
     "name": "stderr",
     "output_type": "stream",
     "text": [
      "INFO flwr 2023-04-12 16:22:57,098 | server.py:116 | fit progress: (2, 16.47649574279785, {'test_loss': 16.47649574279785, 'test_accuracy': 0.11}, 218.0234105999989)\n",
      "DEBUG flwr 2023-04-12 16:22:57,099 | server.py:165 | evaluate_round 2: strategy sampled 2 clients (out of 5)\n",
      "DEBUG flwr 2023-04-12 16:23:03,272 | server.py:179 | evaluate_round 2 received 2 results and 0 failures\n",
      "DEBUG flwr 2023-04-12 16:23:03,273 | server.py:215 | fit_round 3: strategy sampled 2 clients (out of 5)\n"
     ]
    },
    {
     "name": "stdout",
     "output_type": "stream",
     "text": [
      "\t {'val_loss': 4.151220798492432, 'val_accuracy': 0.1}\n"
     ]
    },
    {
     "name": "stderr",
     "output_type": "stream",
     "text": [
      "DEBUG flwr 2023-04-12 16:24:38,567 | server.py:229 | fit_round 3 received 2 results and 0 failures\n"
     ]
    },
    {
     "name": "stdout",
     "output_type": "stream",
     "text": [
      "\t {'train_loss': 3.611401677131653, 'train_accuracy': 0.3111111111111111}\n"
     ]
    },
    {
     "name": "stderr",
     "output_type": "stream",
     "text": [
      "INFO flwr 2023-04-12 16:24:48,505 | server.py:116 | fit progress: (3, 17.580629348754883, {'test_loss': 17.580629348754883, 'test_accuracy': 0.03}, 329.4306374000007)\n",
      "DEBUG flwr 2023-04-12 16:24:48,506 | server.py:165 | evaluate_round 3: strategy sampled 2 clients (out of 5)\n",
      "DEBUG flwr 2023-04-12 16:24:54,769 | server.py:179 | evaluate_round 3 received 2 results and 0 failures\n",
      "DEBUG flwr 2023-04-12 16:24:54,769 | server.py:215 | fit_round 4: strategy sampled 2 clients (out of 5)\n"
     ]
    },
    {
     "name": "stdout",
     "output_type": "stream",
     "text": [
      "\t {'val_loss': 3.7265528440475464, 'val_accuracy': 0.3}\n"
     ]
    },
    {
     "name": "stderr",
     "output_type": "stream",
     "text": [
      "DEBUG flwr 2023-04-12 16:26:29,515 | server.py:229 | fit_round 4 received 2 results and 0 failures\n"
     ]
    },
    {
     "name": "stdout",
     "output_type": "stream",
     "text": [
      "\t {'train_loss': 3.2830872535705566, 'train_accuracy': 0.3111111111111111}\n"
     ]
    },
    {
     "name": "stderr",
     "output_type": "stream",
     "text": [
      "INFO flwr 2023-04-12 16:26:39,476 | server.py:116 | fit progress: (4, 15.479642868041992, {'test_loss': 15.479642868041992, 'test_accuracy': 0.13}, 440.40150659999927)\n",
      "DEBUG flwr 2023-04-12 16:26:39,477 | server.py:165 | evaluate_round 4: strategy sampled 2 clients (out of 5)\n",
      "DEBUG flwr 2023-04-12 16:26:45,758 | server.py:179 | evaluate_round 4 received 2 results and 0 failures\n",
      "DEBUG flwr 2023-04-12 16:26:45,758 | server.py:215 | fit_round 5: strategy sampled 2 clients (out of 5)\n"
     ]
    },
    {
     "name": "stdout",
     "output_type": "stream",
     "text": [
      "\t {'val_loss': 4.3720433712005615, 'val_accuracy': 0.05}\n"
     ]
    },
    {
     "name": "stderr",
     "output_type": "stream",
     "text": [
      "DEBUG flwr 2023-04-12 16:28:20,954 | server.py:229 | fit_round 5 received 2 results and 0 failures\n"
     ]
    },
    {
     "name": "stdout",
     "output_type": "stream",
     "text": [
      "\t {'train_loss': 3.0783443450927734, 'train_accuracy': 0.43888888888888883}\n"
     ]
    },
    {
     "name": "stderr",
     "output_type": "stream",
     "text": [
      "INFO flwr 2023-04-12 16:28:30,895 | server.py:116 | fit progress: (5, 16.497150421142578, {'test_loss': 16.497150421142578, 'test_accuracy': 0.11}, 551.8199749999912)\n",
      "DEBUG flwr 2023-04-12 16:28:30,895 | server.py:165 | evaluate_round 5: strategy sampled 2 clients (out of 5)\n",
      "DEBUG flwr 2023-04-12 16:28:37,129 | server.py:179 | evaluate_round 5 received 2 results and 0 failures\n",
      "DEBUG flwr 2023-04-12 16:28:37,130 | server.py:215 | fit_round 6: strategy sampled 2 clients (out of 5)\n"
     ]
    },
    {
     "name": "stdout",
     "output_type": "stream",
     "text": [
      "\t {'val_loss': 4.041690945625305, 'val_accuracy': 0.1}\n"
     ]
    },
    {
     "name": "stderr",
     "output_type": "stream",
     "text": [
      "DEBUG flwr 2023-04-12 16:30:11,614 | server.py:229 | fit_round 6 received 2 results and 0 failures\n"
     ]
    },
    {
     "name": "stdout",
     "output_type": "stream",
     "text": [
      "\t {'train_loss': 3.244714140892029, 'train_accuracy': 0.26666666666666666}\n"
     ]
    },
    {
     "name": "stderr",
     "output_type": "stream",
     "text": [
      "INFO flwr 2023-04-12 16:30:21,493 | server.py:116 | fit progress: (6, 15.407020568847656, {'test_loss': 15.407020568847656, 'test_accuracy': 0.17}, 662.4187513999932)\n",
      "DEBUG flwr 2023-04-12 16:30:21,494 | server.py:165 | evaluate_round 6: strategy sampled 2 clients (out of 5)\n",
      "DEBUG flwr 2023-04-12 16:30:27,734 | server.py:179 | evaluate_round 6 received 2 results and 0 failures\n",
      "DEBUG flwr 2023-04-12 16:30:27,735 | server.py:215 | fit_round 7: strategy sampled 2 clients (out of 5)\n"
     ]
    },
    {
     "name": "stdout",
     "output_type": "stream",
     "text": [
      "\t {'val_loss': 3.595852494239807, 'val_accuracy': 0.35}\n"
     ]
    },
    {
     "name": "stderr",
     "output_type": "stream",
     "text": [
      "DEBUG flwr 2023-04-12 16:32:01,861 | server.py:229 | fit_round 7 received 2 results and 0 failures\n"
     ]
    },
    {
     "name": "stdout",
     "output_type": "stream",
     "text": [
      "\t {'train_loss': 2.2951343059539795, 'train_accuracy': 0.6555555555555556}\n"
     ]
    },
    {
     "name": "stderr",
     "output_type": "stream",
     "text": [
      "INFO flwr 2023-04-12 16:32:11,734 | server.py:116 | fit progress: (7, 14.691621780395508, {'test_loss': 14.691621780395508, 'test_accuracy': 0.16}, 772.6591685000021)\n",
      "DEBUG flwr 2023-04-12 16:32:11,735 | server.py:165 | evaluate_round 7: strategy sampled 2 clients (out of 5)\n",
      "DEBUG flwr 2023-04-12 16:32:17,724 | server.py:179 | evaluate_round 7 received 2 results and 0 failures\n",
      "DEBUG flwr 2023-04-12 16:32:17,725 | server.py:215 | fit_round 8: strategy sampled 2 clients (out of 5)\n"
     ]
    },
    {
     "name": "stdout",
     "output_type": "stream",
     "text": [
      "\t {'val_loss': 2.8924663066864014, 'val_accuracy': 0.2}\n"
     ]
    },
    {
     "name": "stderr",
     "output_type": "stream",
     "text": [
      "DEBUG flwr 2023-04-12 16:33:51,862 | server.py:229 | fit_round 8 received 2 results and 0 failures\n"
     ]
    },
    {
     "name": "stdout",
     "output_type": "stream",
     "text": [
      "\t {'train_loss': 2.391627311706543, 'train_accuracy': 0.8111111111111112}\n"
     ]
    },
    {
     "name": "stderr",
     "output_type": "stream",
     "text": [
      "INFO flwr 2023-04-12 16:34:01,791 | server.py:116 | fit progress: (8, 14.675586700439453, {'test_loss': 14.675586700439453, 'test_accuracy': 0.21}, 882.7164166000002)\n",
      "DEBUG flwr 2023-04-12 16:34:01,792 | server.py:165 | evaluate_round 8: strategy sampled 2 clients (out of 5)\n",
      "DEBUG flwr 2023-04-12 16:34:08,014 | server.py:179 | evaluate_round 8 received 2 results and 0 failures\n",
      "DEBUG flwr 2023-04-12 16:34:08,015 | server.py:215 | fit_round 9: strategy sampled 2 clients (out of 5)\n"
     ]
    },
    {
     "name": "stdout",
     "output_type": "stream",
     "text": [
      "\t {'val_loss': 3.2878899574279785, 'val_accuracy': 0.3}\n"
     ]
    },
    {
     "name": "stderr",
     "output_type": "stream",
     "text": [
      "DEBUG flwr 2023-04-12 16:35:42,274 | server.py:229 | fit_round 9 received 2 results and 0 failures\n"
     ]
    },
    {
     "name": "stdout",
     "output_type": "stream",
     "text": [
      "\t {'train_loss': 2.537481427192688, 'train_accuracy': 0.6888888888888888}\n"
     ]
    },
    {
     "name": "stderr",
     "output_type": "stream",
     "text": [
      "INFO flwr 2023-04-12 16:35:52,129 | server.py:116 | fit progress: (9, 14.671140670776367, {'test_loss': 14.671140670776367, 'test_accuracy': 0.25}, 993.0537220999977)\n",
      "DEBUG flwr 2023-04-12 16:35:52,129 | server.py:165 | evaluate_round 9: strategy sampled 2 clients (out of 5)\n",
      "DEBUG flwr 2023-04-12 16:35:58,376 | server.py:179 | evaluate_round 9 received 2 results and 0 failures\n",
      "DEBUG flwr 2023-04-12 16:35:58,376 | server.py:215 | fit_round 10: strategy sampled 2 clients (out of 5)\n"
     ]
    },
    {
     "name": "stdout",
     "output_type": "stream",
     "text": [
      "\t {'val_loss': 3.36566698551178, 'val_accuracy': 0.3}\n"
     ]
    },
    {
     "name": "stderr",
     "output_type": "stream",
     "text": [
      "DEBUG flwr 2023-04-12 16:37:32,186 | server.py:229 | fit_round 10 received 2 results and 0 failures\n"
     ]
    },
    {
     "name": "stdout",
     "output_type": "stream",
     "text": [
      "\t {'train_loss': 2.648074150085449, 'train_accuracy': 0.6111111111111112}\n"
     ]
    },
    {
     "name": "stderr",
     "output_type": "stream",
     "text": [
      "INFO flwr 2023-04-12 16:37:41,963 | server.py:116 | fit progress: (10, 14.628520011901855, {'test_loss': 14.628520011901855, 'test_accuracy': 0.19}, 1102.8876750999916)\n",
      "DEBUG flwr 2023-04-12 16:37:41,963 | server.py:165 | evaluate_round 10: strategy sampled 2 clients (out of 5)\n",
      "DEBUG flwr 2023-04-12 16:37:48,148 | server.py:179 | evaluate_round 10 received 2 results and 0 failures\n",
      "DEBUG flwr 2023-04-12 16:37:48,149 | server.py:215 | fit_round 11: strategy sampled 2 clients (out of 5)\n"
     ]
    },
    {
     "name": "stdout",
     "output_type": "stream",
     "text": [
      "\t {'val_loss': 2.900047779083252, 'val_accuracy': 0.4}\n"
     ]
    },
    {
     "name": "stderr",
     "output_type": "stream",
     "text": [
      "DEBUG flwr 2023-04-12 16:39:21,988 | server.py:229 | fit_round 11 received 2 results and 0 failures\n"
     ]
    },
    {
     "name": "stdout",
     "output_type": "stream",
     "text": [
      "\t {'train_loss': 1.8951968550682068, 'train_accuracy': 0.7722222222222223}\n"
     ]
    },
    {
     "name": "stderr",
     "output_type": "stream",
     "text": [
      "INFO flwr 2023-04-12 16:39:31,828 | server.py:116 | fit progress: (11, 13.795948028564453, {'test_loss': 13.795948028564453, 'test_accuracy': 0.26}, 1212.7532137999951)\n",
      "DEBUG flwr 2023-04-12 16:39:31,828 | server.py:165 | evaluate_round 11: strategy sampled 2 clients (out of 5)\n",
      "DEBUG flwr 2023-04-12 16:39:37,921 | server.py:179 | evaluate_round 11 received 2 results and 0 failures\n",
      "DEBUG flwr 2023-04-12 16:39:37,921 | server.py:215 | fit_round 12: strategy sampled 2 clients (out of 5)\n"
     ]
    },
    {
     "name": "stdout",
     "output_type": "stream",
     "text": [
      "\t {'val_loss': 2.8052479028701782, 'val_accuracy': 0.5}\n"
     ]
    },
    {
     "name": "stderr",
     "output_type": "stream",
     "text": [
      "DEBUG flwr 2023-04-12 16:41:12,281 | server.py:229 | fit_round 12 received 2 results and 0 failures\n"
     ]
    },
    {
     "name": "stdout",
     "output_type": "stream",
     "text": [
      "\t {'train_loss': 1.708951711654663, 'train_accuracy': 0.9055555555555556}\n"
     ]
    },
    {
     "name": "stderr",
     "output_type": "stream",
     "text": [
      "INFO flwr 2023-04-12 16:41:22,140 | server.py:116 | fit progress: (12, 14.556413650512695, {'test_loss': 14.556413650512695, 'test_accuracy': 0.23}, 1323.0653399000003)\n",
      "DEBUG flwr 2023-04-12 16:41:22,141 | server.py:165 | evaluate_round 12: strategy sampled 2 clients (out of 5)\n",
      "DEBUG flwr 2023-04-12 16:41:28,163 | server.py:179 | evaluate_round 12 received 2 results and 0 failures\n",
      "DEBUG flwr 2023-04-12 16:41:28,164 | server.py:215 | fit_round 13: strategy sampled 2 clients (out of 5)\n"
     ]
    },
    {
     "name": "stdout",
     "output_type": "stream",
     "text": [
      "\t {'val_loss': 1.9530006051063538, 'val_accuracy': 0.65}\n"
     ]
    },
    {
     "name": "stderr",
     "output_type": "stream",
     "text": [
      "DEBUG flwr 2023-04-12 16:43:02,374 | server.py:229 | fit_round 13 received 2 results and 0 failures\n"
     ]
    },
    {
     "name": "stdout",
     "output_type": "stream",
     "text": [
      "\t {'train_loss': 1.6242955327033997, 'train_accuracy': 0.9166666666666666}\n"
     ]
    },
    {
     "name": "stderr",
     "output_type": "stream",
     "text": [
      "INFO flwr 2023-04-12 16:43:12,281 | server.py:116 | fit progress: (13, 13.082544326782227, {'test_loss': 13.082544326782227, 'test_accuracy': 0.26}, 1433.2060816000012)\n",
      "DEBUG flwr 2023-04-12 16:43:12,281 | server.py:165 | evaluate_round 13: strategy sampled 2 clients (out of 5)\n",
      "DEBUG flwr 2023-04-12 16:43:18,382 | server.py:179 | evaluate_round 13 received 2 results and 0 failures\n",
      "DEBUG flwr 2023-04-12 16:43:18,383 | server.py:215 | fit_round 14: strategy sampled 2 clients (out of 5)\n"
     ]
    },
    {
     "name": "stdout",
     "output_type": "stream",
     "text": [
      "\t {'val_loss': 2.4916762709617615, 'val_accuracy': 0.5}\n"
     ]
    },
    {
     "name": "stderr",
     "output_type": "stream",
     "text": [
      "DEBUG flwr 2023-04-12 16:44:52,235 | server.py:229 | fit_round 14 received 2 results and 0 failures\n"
     ]
    },
    {
     "name": "stdout",
     "output_type": "stream",
     "text": [
      "\t {'train_loss': 1.04789599776268, 'train_accuracy': 0.9666666666666667}\n"
     ]
    },
    {
     "name": "stderr",
     "output_type": "stream",
     "text": [
      "INFO flwr 2023-04-12 16:45:01,987 | server.py:116 | fit progress: (14, 13.177535057067871, {'test_loss': 13.177535057067871, 'test_accuracy': 0.28}, 1542.9121203999966)\n",
      "DEBUG flwr 2023-04-12 16:45:01,988 | server.py:165 | evaluate_round 14: strategy sampled 2 clients (out of 5)\n",
      "DEBUG flwr 2023-04-12 16:45:08,127 | server.py:179 | evaluate_round 14 received 2 results and 0 failures\n",
      "DEBUG flwr 2023-04-12 16:45:08,128 | server.py:215 | fit_round 15: strategy sampled 2 clients (out of 5)\n"
     ]
    },
    {
     "name": "stdout",
     "output_type": "stream",
     "text": [
      "\t {'val_loss': 1.8189402222633362, 'val_accuracy': 0.65}\n"
     ]
    },
    {
     "name": "stderr",
     "output_type": "stream",
     "text": [
      "DEBUG flwr 2023-04-12 16:46:42,223 | server.py:229 | fit_round 15 received 2 results and 0 failures\n"
     ]
    },
    {
     "name": "stdout",
     "output_type": "stream",
     "text": [
      "\t {'train_loss': 1.3998345136642456, 'train_accuracy': 0.9499999999999998}\n"
     ]
    },
    {
     "name": "stderr",
     "output_type": "stream",
     "text": [
      "INFO flwr 2023-04-12 16:46:52,029 | server.py:116 | fit progress: (15, 13.522612571716309, {'test_loss': 13.522612571716309, 'test_accuracy': 0.26}, 1652.9538434999995)\n",
      "DEBUG flwr 2023-04-12 16:46:52,029 | server.py:165 | evaluate_round 15: strategy sampled 2 clients (out of 5)\n",
      "DEBUG flwr 2023-04-12 16:46:58,131 | server.py:179 | evaluate_round 15 received 2 results and 0 failures\n",
      "DEBUG flwr 2023-04-12 16:46:58,132 | server.py:215 | fit_round 16: strategy sampled 2 clients (out of 5)\n"
     ]
    },
    {
     "name": "stdout",
     "output_type": "stream",
     "text": [
      "\t {'val_loss': 3.383486747741699, 'val_accuracy': 0.15000000000000002}\n"
     ]
    },
    {
     "name": "stderr",
     "output_type": "stream",
     "text": [
      "DEBUG flwr 2023-04-12 16:48:32,208 | server.py:229 | fit_round 16 received 2 results and 0 failures\n"
     ]
    },
    {
     "name": "stdout",
     "output_type": "stream",
     "text": [
      "\t {'train_loss': 0.9778477549552917, 'train_accuracy': 0.9666666666666667}\n"
     ]
    },
    {
     "name": "stderr",
     "output_type": "stream",
     "text": [
      "INFO flwr 2023-04-12 16:48:41,939 | server.py:116 | fit progress: (16, 12.517973899841309, {'test_loss': 12.517973899841309, 'test_accuracy': 0.3}, 1762.8646787000034)\n",
      "DEBUG flwr 2023-04-12 16:48:41,940 | server.py:165 | evaluate_round 16: strategy sampled 2 clients (out of 5)\n",
      "DEBUG flwr 2023-04-12 16:48:48,052 | server.py:179 | evaluate_round 16 received 2 results and 0 failures\n",
      "DEBUG flwr 2023-04-12 16:48:48,052 | server.py:215 | fit_round 17: strategy sampled 2 clients (out of 5)\n"
     ]
    },
    {
     "name": "stdout",
     "output_type": "stream",
     "text": [
      "\t {'val_loss': 2.381662905216217, 'val_accuracy': 0.55}\n"
     ]
    },
    {
     "name": "stderr",
     "output_type": "stream",
     "text": [
      "DEBUG flwr 2023-04-12 16:50:22,084 | server.py:229 | fit_round 17 received 2 results and 0 failures\n"
     ]
    },
    {
     "name": "stdout",
     "output_type": "stream",
     "text": [
      "\t {'train_loss': 1.4438931941986084, 'train_accuracy': 0.9333333333333332}\n"
     ]
    },
    {
     "name": "stderr",
     "output_type": "stream",
     "text": [
      "INFO flwr 2023-04-12 16:50:31,884 | server.py:116 | fit progress: (17, 13.37197494506836, {'test_loss': 13.37197494506836, 'test_accuracy': 0.33}, 1872.8088914999971)\n",
      "DEBUG flwr 2023-04-12 16:50:31,885 | server.py:165 | evaluate_round 17: strategy sampled 2 clients (out of 5)\n",
      "DEBUG flwr 2023-04-12 16:50:38,181 | server.py:179 | evaluate_round 17 received 2 results and 0 failures\n",
      "DEBUG flwr 2023-04-12 16:50:38,183 | server.py:215 | fit_round 18: strategy sampled 2 clients (out of 5)\n"
     ]
    },
    {
     "name": "stdout",
     "output_type": "stream",
     "text": [
      "\t {'val_loss': 3.2412883043289185, 'val_accuracy': 0.30000000000000004}\n"
     ]
    },
    {
     "name": "stderr",
     "output_type": "stream",
     "text": [
      "DEBUG flwr 2023-04-12 16:52:12,447 | server.py:229 | fit_round 18 received 2 results and 0 failures\n"
     ]
    },
    {
     "name": "stdout",
     "output_type": "stream",
     "text": [
      "\t {'train_loss': 1.085019290447235, 'train_accuracy': 0.9388888888888888}\n"
     ]
    },
    {
     "name": "stderr",
     "output_type": "stream",
     "text": [
      "INFO flwr 2023-04-12 16:52:22,259 | server.py:116 | fit progress: (18, 12.513652801513672, {'test_loss': 12.513652801513672, 'test_accuracy': 0.32}, 1983.184798999995)\n",
      "DEBUG flwr 2023-04-12 16:52:22,260 | server.py:165 | evaluate_round 18: strategy sampled 2 clients (out of 5)\n",
      "DEBUG flwr 2023-04-12 16:52:28,082 | server.py:179 | evaluate_round 18 received 2 results and 0 failures\n",
      "DEBUG flwr 2023-04-12 16:52:28,082 | server.py:215 | fit_round 19: strategy sampled 2 clients (out of 5)\n"
     ]
    },
    {
     "name": "stdout",
     "output_type": "stream",
     "text": [
      "\t {'val_loss': 2.218524217605591, 'val_accuracy': 0.5}\n"
     ]
    },
    {
     "name": "stderr",
     "output_type": "stream",
     "text": [
      "DEBUG flwr 2023-04-12 16:54:02,567 | server.py:229 | fit_round 19 received 2 results and 0 failures\n"
     ]
    },
    {
     "name": "stdout",
     "output_type": "stream",
     "text": [
      "\t {'train_loss': 0.6787653863430023, 'train_accuracy': 0.9944444444444445}\n"
     ]
    },
    {
     "name": "stderr",
     "output_type": "stream",
     "text": [
      "INFO flwr 2023-04-12 16:54:12,568 | server.py:116 | fit progress: (19, 12.249460220336914, {'test_loss': 12.249460220336914, 'test_accuracy': 0.28}, 2093.4932621999906)\n",
      "DEBUG flwr 2023-04-12 16:54:12,569 | server.py:165 | evaluate_round 19: strategy sampled 2 clients (out of 5)\n",
      "DEBUG flwr 2023-04-12 16:54:18,467 | server.py:179 | evaluate_round 19 received 2 results and 0 failures\n",
      "DEBUG flwr 2023-04-12 16:54:18,467 | server.py:215 | fit_round 20: strategy sampled 2 clients (out of 5)\n"
     ]
    },
    {
     "name": "stdout",
     "output_type": "stream",
     "text": [
      "\t {'val_loss': 2.5613200068473816, 'val_accuracy': 0.30000000000000004}\n"
     ]
    },
    {
     "name": "stderr",
     "output_type": "stream",
     "text": [
      "DEBUG flwr 2023-04-12 16:55:52,360 | server.py:229 | fit_round 20 received 2 results and 0 failures\n"
     ]
    },
    {
     "name": "stdout",
     "output_type": "stream",
     "text": [
      "\t {'train_loss': 0.7320156693458557, 'train_accuracy': 0.9777777777777777}\n"
     ]
    },
    {
     "name": "stderr",
     "output_type": "stream",
     "text": [
      "INFO flwr 2023-04-12 16:56:02,167 | server.py:116 | fit progress: (20, 12.005008697509766, {'test_loss': 12.005008697509766, 'test_accuracy': 0.36}, 2203.0922240999935)\n",
      "DEBUG flwr 2023-04-12 16:56:02,168 | server.py:165 | evaluate_round 20: strategy sampled 2 clients (out of 5)\n",
      "DEBUG flwr 2023-04-12 16:56:08,285 | server.py:179 | evaluate_round 20 received 2 results and 0 failures\n",
      "DEBUG flwr 2023-04-12 16:56:08,286 | server.py:215 | fit_round 21: strategy sampled 2 clients (out of 5)\n"
     ]
    },
    {
     "name": "stdout",
     "output_type": "stream",
     "text": [
      "\t {'val_loss': 2.2204718589782715, 'val_accuracy': 0.5}\n"
     ]
    },
    {
     "name": "stderr",
     "output_type": "stream",
     "text": [
      "DEBUG flwr 2023-04-12 16:57:42,150 | server.py:229 | fit_round 21 received 2 results and 0 failures\n"
     ]
    },
    {
     "name": "stdout",
     "output_type": "stream",
     "text": [
      "\t {'train_loss': 0.598905473947525, 'train_accuracy': 0.9888888888888889}\n"
     ]
    },
    {
     "name": "stderr",
     "output_type": "stream",
     "text": [
      "INFO flwr 2023-04-12 16:57:51,980 | server.py:116 | fit progress: (21, 12.043188095092773, {'test_loss': 12.043188095092773, 'test_accuracy': 0.33}, 2312.9055998999975)\n",
      "DEBUG flwr 2023-04-12 16:57:51,981 | server.py:165 | evaluate_round 21: strategy sampled 2 clients (out of 5)\n",
      "DEBUG flwr 2023-04-12 16:57:58,224 | server.py:179 | evaluate_round 21 received 2 results and 0 failures\n",
      "DEBUG flwr 2023-04-12 16:57:58,225 | server.py:215 | fit_round 22: strategy sampled 2 clients (out of 5)\n"
     ]
    },
    {
     "name": "stdout",
     "output_type": "stream",
     "text": [
      "\t {'val_loss': 1.7192813754081726, 'val_accuracy': 0.6000000000000001}\n"
     ]
    },
    {
     "name": "stderr",
     "output_type": "stream",
     "text": [
      "DEBUG flwr 2023-04-12 16:59:32,328 | server.py:229 | fit_round 22 received 2 results and 0 failures\n"
     ]
    },
    {
     "name": "stdout",
     "output_type": "stream",
     "text": [
      "\t {'train_loss': 0.4888976290822029, 'train_accuracy': 0.9888888888888889}\n"
     ]
    },
    {
     "name": "stderr",
     "output_type": "stream",
     "text": [
      "INFO flwr 2023-04-12 16:59:42,131 | server.py:116 | fit progress: (22, 12.00833511352539, {'test_loss': 12.00833511352539, 'test_accuracy': 0.33}, 2423.05609849999)\n",
      "DEBUG flwr 2023-04-12 16:59:42,132 | server.py:165 | evaluate_round 22: strategy sampled 2 clients (out of 5)\n",
      "DEBUG flwr 2023-04-12 16:59:48,217 | server.py:179 | evaluate_round 22 received 2 results and 0 failures\n",
      "DEBUG flwr 2023-04-12 16:59:48,218 | server.py:215 | fit_round 23: strategy sampled 2 clients (out of 5)\n"
     ]
    },
    {
     "name": "stdout",
     "output_type": "stream",
     "text": [
      "\t {'val_loss': 2.190928101539612, 'val_accuracy': 0.5}\n"
     ]
    },
    {
     "name": "stderr",
     "output_type": "stream",
     "text": [
      "DEBUG flwr 2023-04-12 17:01:21,938 | server.py:229 | fit_round 23 received 2 results and 0 failures\n"
     ]
    },
    {
     "name": "stdout",
     "output_type": "stream",
     "text": [
      "\t {'train_loss': 0.5256126523017883, 'train_accuracy': 1.0}\n"
     ]
    },
    {
     "name": "stderr",
     "output_type": "stream",
     "text": [
      "INFO flwr 2023-04-12 17:01:31,811 | server.py:116 | fit progress: (23, 11.828384399414062, {'test_loss': 11.828384399414062, 'test_accuracy': 0.35}, 2532.7359750000032)\n",
      "DEBUG flwr 2023-04-12 17:01:31,811 | server.py:165 | evaluate_round 23: strategy sampled 2 clients (out of 5)\n",
      "DEBUG flwr 2023-04-12 17:01:37,840 | server.py:179 | evaluate_round 23 received 2 results and 0 failures\n",
      "DEBUG flwr 2023-04-12 17:01:37,840 | server.py:215 | fit_round 24: strategy sampled 2 clients (out of 5)\n"
     ]
    },
    {
     "name": "stdout",
     "output_type": "stream",
     "text": [
      "\t {'val_loss': 2.1827808022499084, 'val_accuracy': 0.45}\n"
     ]
    },
    {
     "name": "stderr",
     "output_type": "stream",
     "text": [
      "DEBUG flwr 2023-04-12 17:03:11,548 | server.py:229 | fit_round 24 received 2 results and 0 failures\n"
     ]
    },
    {
     "name": "stdout",
     "output_type": "stream",
     "text": [
      "\t {'train_loss': 0.38734184205532074, 'train_accuracy': 1.0}\n"
     ]
    },
    {
     "name": "stderr",
     "output_type": "stream",
     "text": [
      "INFO flwr 2023-04-12 17:03:21,426 | server.py:116 | fit progress: (24, 11.873373031616211, {'test_loss': 11.873373031616211, 'test_accuracy': 0.33}, 2642.3512230999913)\n",
      "DEBUG flwr 2023-04-12 17:03:21,427 | server.py:165 | evaluate_round 24: strategy sampled 2 clients (out of 5)\n",
      "DEBUG flwr 2023-04-12 17:03:27,505 | server.py:179 | evaluate_round 24 received 2 results and 0 failures\n",
      "DEBUG flwr 2023-04-12 17:03:27,506 | server.py:215 | fit_round 25: strategy sampled 2 clients (out of 5)\n"
     ]
    },
    {
     "name": "stdout",
     "output_type": "stream",
     "text": [
      "\t {'val_loss': 2.150079071521759, 'val_accuracy': 0.5}\n"
     ]
    },
    {
     "name": "stderr",
     "output_type": "stream",
     "text": [
      "DEBUG flwr 2023-04-12 17:05:01,424 | server.py:229 | fit_round 25 received 2 results and 0 failures\n"
     ]
    },
    {
     "name": "stdout",
     "output_type": "stream",
     "text": [
      "\t {'train_loss': 0.12562787532806396, 'train_accuracy': 1.0}\n"
     ]
    },
    {
     "name": "stderr",
     "output_type": "stream",
     "text": [
      "INFO flwr 2023-04-12 17:05:11,194 | server.py:116 | fit progress: (25, 11.81686782836914, {'test_loss': 11.81686782836914, 'test_accuracy': 0.34}, 2752.1191928999906)\n",
      "DEBUG flwr 2023-04-12 17:05:11,194 | server.py:165 | evaluate_round 25: strategy sampled 2 clients (out of 5)\n",
      "DEBUG flwr 2023-04-12 17:05:17,419 | server.py:179 | evaluate_round 25 received 2 results and 0 failures\n",
      "DEBUG flwr 2023-04-12 17:05:17,419 | server.py:215 | fit_round 26: strategy sampled 2 clients (out of 5)\n"
     ]
    },
    {
     "name": "stdout",
     "output_type": "stream",
     "text": [
      "\t {'val_loss': 2.56919002532959, 'val_accuracy': 0.35}\n"
     ]
    },
    {
     "name": "stderr",
     "output_type": "stream",
     "text": [
      "DEBUG flwr 2023-04-12 17:06:51,367 | server.py:229 | fit_round 26 received 2 results and 0 failures\n"
     ]
    },
    {
     "name": "stdout",
     "output_type": "stream",
     "text": [
      "\t {'train_loss': 0.34587329626083374, 'train_accuracy': 0.9944444444444445}\n"
     ]
    },
    {
     "name": "stderr",
     "output_type": "stream",
     "text": [
      "INFO flwr 2023-04-12 17:07:01,151 | server.py:116 | fit progress: (26, 11.863869667053223, {'test_loss': 11.863869667053223, 'test_accuracy': 0.33}, 2862.0765939999983)\n",
      "DEBUG flwr 2023-04-12 17:07:01,152 | server.py:165 | evaluate_round 26: strategy sampled 2 clients (out of 5)\n",
      "DEBUG flwr 2023-04-12 17:07:07,267 | server.py:179 | evaluate_round 26 received 2 results and 0 failures\n",
      "DEBUG flwr 2023-04-12 17:07:07,268 | server.py:215 | fit_round 27: strategy sampled 2 clients (out of 5)\n"
     ]
    },
    {
     "name": "stdout",
     "output_type": "stream",
     "text": [
      "\t {'val_loss': 2.796085476875305, 'val_accuracy': 0.30000000000000004}\n"
     ]
    },
    {
     "name": "stderr",
     "output_type": "stream",
     "text": [
      "DEBUG flwr 2023-04-12 17:08:41,290 | server.py:229 | fit_round 27 received 2 results and 0 failures\n"
     ]
    },
    {
     "name": "stdout",
     "output_type": "stream",
     "text": [
      "\t {'train_loss': 0.09072306007146835, 'train_accuracy': 1.0}\n"
     ]
    },
    {
     "name": "stderr",
     "output_type": "stream",
     "text": [
      "INFO flwr 2023-04-12 17:08:51,064 | server.py:116 | fit progress: (27, 11.473596572875977, {'test_loss': 11.473596572875977, 'test_accuracy': 0.35}, 2971.989280199996)\n",
      "DEBUG flwr 2023-04-12 17:08:51,064 | server.py:165 | evaluate_round 27: strategy sampled 2 clients (out of 5)\n",
      "DEBUG flwr 2023-04-12 17:08:57,162 | server.py:179 | evaluate_round 27 received 2 results and 0 failures\n",
      "DEBUG flwr 2023-04-12 17:08:57,163 | server.py:215 | fit_round 28: strategy sampled 2 clients (out of 5)\n"
     ]
    },
    {
     "name": "stdout",
     "output_type": "stream",
     "text": [
      "\t {'val_loss': 2.6548670530319214, 'val_accuracy': 0.35}\n"
     ]
    },
    {
     "name": "stderr",
     "output_type": "stream",
     "text": [
      "DEBUG flwr 2023-04-12 17:10:31,078 | server.py:229 | fit_round 28 received 2 results and 0 failures\n"
     ]
    },
    {
     "name": "stdout",
     "output_type": "stream",
     "text": [
      "\t {'train_loss': 0.06803052686154842, 'train_accuracy': 1.0}\n"
     ]
    },
    {
     "name": "stderr",
     "output_type": "stream",
     "text": [
      "INFO flwr 2023-04-12 17:10:40,925 | server.py:116 | fit progress: (28, 11.204318046569824, {'test_loss': 11.204318046569824, 'test_accuracy': 0.33}, 3081.8506142999977)\n",
      "DEBUG flwr 2023-04-12 17:10:40,926 | server.py:165 | evaluate_round 28: strategy sampled 2 clients (out of 5)\n",
      "DEBUG flwr 2023-04-12 17:10:46,993 | server.py:179 | evaluate_round 28 received 2 results and 0 failures\n",
      "DEBUG flwr 2023-04-12 17:10:46,994 | server.py:215 | fit_round 29: strategy sampled 2 clients (out of 5)\n"
     ]
    },
    {
     "name": "stdout",
     "output_type": "stream",
     "text": [
      "\t {'val_loss': 2.3433375358581543, 'val_accuracy': 0.4}\n"
     ]
    },
    {
     "name": "stderr",
     "output_type": "stream",
     "text": [
      "DEBUG flwr 2023-04-12 17:12:21,016 | server.py:229 | fit_round 29 received 2 results and 0 failures\n"
     ]
    },
    {
     "name": "stdout",
     "output_type": "stream",
     "text": [
      "\t {'train_loss': 0.17446718737483025, 'train_accuracy': 1.0}\n"
     ]
    },
    {
     "name": "stderr",
     "output_type": "stream",
     "text": [
      "INFO flwr 2023-04-12 17:12:30,839 | server.py:116 | fit progress: (29, 11.207036018371582, {'test_loss': 11.207036018371582, 'test_accuracy': 0.36}, 3191.7640385999985)\n",
      "DEBUG flwr 2023-04-12 17:12:30,839 | server.py:165 | evaluate_round 29: strategy sampled 2 clients (out of 5)\n",
      "DEBUG flwr 2023-04-12 17:12:36,862 | server.py:179 | evaluate_round 29 received 2 results and 0 failures\n",
      "DEBUG flwr 2023-04-12 17:12:36,863 | server.py:215 | fit_round 30: strategy sampled 2 clients (out of 5)\n"
     ]
    },
    {
     "name": "stdout",
     "output_type": "stream",
     "text": [
      "\t {'val_loss': 1.7956473529338837, 'val_accuracy': 0.6000000000000001}\n"
     ]
    },
    {
     "name": "stderr",
     "output_type": "stream",
     "text": [
      "DEBUG flwr 2023-04-12 17:14:10,556 | server.py:229 | fit_round 30 received 2 results and 0 failures\n"
     ]
    },
    {
     "name": "stdout",
     "output_type": "stream",
     "text": [
      "\t {'train_loss': 0.05296539328992367, 'train_accuracy': 1.0}\n"
     ]
    },
    {
     "name": "stderr",
     "output_type": "stream",
     "text": [
      "INFO flwr 2023-04-12 17:14:20,293 | server.py:116 | fit progress: (30, 11.371248245239258, {'test_loss': 11.371248245239258, 'test_accuracy': 0.34}, 3301.218954900003)\n",
      "DEBUG flwr 2023-04-12 17:14:20,294 | server.py:165 | evaluate_round 30: strategy sampled 2 clients (out of 5)\n",
      "DEBUG flwr 2023-04-12 17:14:26,401 | server.py:179 | evaluate_round 30 received 2 results and 0 failures\n",
      "DEBUG flwr 2023-04-12 17:14:26,402 | server.py:215 | fit_round 31: strategy sampled 2 clients (out of 5)\n"
     ]
    },
    {
     "name": "stdout",
     "output_type": "stream",
     "text": [
      "\t {'val_loss': 1.7209094762802124, 'val_accuracy': 0.65}\n"
     ]
    },
    {
     "name": "stderr",
     "output_type": "stream",
     "text": [
      "DEBUG flwr 2023-04-12 17:16:00,286 | server.py:229 | fit_round 31 received 2 results and 0 failures\n"
     ]
    },
    {
     "name": "stdout",
     "output_type": "stream",
     "text": [
      "\t {'train_loss': 0.07845997251570225, 'train_accuracy': 1.0}\n"
     ]
    },
    {
     "name": "stderr",
     "output_type": "stream",
     "text": [
      "INFO flwr 2023-04-12 17:16:10,116 | server.py:116 | fit progress: (31, 11.151483535766602, {'test_loss': 11.151483535766602, 'test_accuracy': 0.37}, 3411.0413058999984)\n",
      "DEBUG flwr 2023-04-12 17:16:10,117 | server.py:165 | evaluate_round 31: strategy sampled 2 clients (out of 5)\n",
      "DEBUG flwr 2023-04-12 17:16:16,258 | server.py:179 | evaluate_round 31 received 2 results and 0 failures\n",
      "DEBUG flwr 2023-04-12 17:16:16,259 | server.py:215 | fit_round 32: strategy sampled 2 clients (out of 5)\n"
     ]
    },
    {
     "name": "stdout",
     "output_type": "stream",
     "text": [
      "\t {'val_loss': 2.2868963479995728, 'val_accuracy': 0.45}\n"
     ]
    },
    {
     "name": "stderr",
     "output_type": "stream",
     "text": [
      "DEBUG flwr 2023-04-12 17:17:50,406 | server.py:229 | fit_round 32 received 2 results and 0 failures\n"
     ]
    },
    {
     "name": "stdout",
     "output_type": "stream",
     "text": [
      "\t {'train_loss': 0.0272530410438776, 'train_accuracy': 1.0}\n"
     ]
    },
    {
     "name": "stderr",
     "output_type": "stream",
     "text": [
      "INFO flwr 2023-04-12 17:18:00,205 | server.py:116 | fit progress: (32, 11.000088691711426, {'test_loss': 11.000088691711426, 'test_accuracy': 0.35}, 3521.1299596000026)\n",
      "DEBUG flwr 2023-04-12 17:18:00,205 | server.py:165 | evaluate_round 32: strategy sampled 2 clients (out of 5)\n",
      "DEBUG flwr 2023-04-12 17:18:06,291 | server.py:179 | evaluate_round 32 received 2 results and 0 failures\n",
      "DEBUG flwr 2023-04-12 17:18:06,291 | server.py:215 | fit_round 33: strategy sampled 2 clients (out of 5)\n"
     ]
    },
    {
     "name": "stdout",
     "output_type": "stream",
     "text": [
      "\t {'val_loss': 1.8741298913955688, 'val_accuracy': 0.45}\n"
     ]
    },
    {
     "name": "stderr",
     "output_type": "stream",
     "text": [
      "DEBUG flwr 2023-04-12 17:19:40,038 | server.py:229 | fit_round 33 received 2 results and 0 failures\n"
     ]
    },
    {
     "name": "stdout",
     "output_type": "stream",
     "text": [
      "\t {'train_loss': 0.05872615799307823, 'train_accuracy': 1.0}\n"
     ]
    },
    {
     "name": "stderr",
     "output_type": "stream",
     "text": [
      "INFO flwr 2023-04-12 17:19:49,891 | server.py:116 | fit progress: (33, 10.862237930297852, {'test_loss': 10.862237930297852, 'test_accuracy': 0.37}, 3630.8159835999977)\n",
      "DEBUG flwr 2023-04-12 17:19:49,891 | server.py:165 | evaluate_round 33: strategy sampled 2 clients (out of 5)\n",
      "DEBUG flwr 2023-04-12 17:19:55,952 | server.py:179 | evaluate_round 33 received 2 results and 0 failures\n",
      "DEBUG flwr 2023-04-12 17:19:55,953 | server.py:215 | fit_round 34: strategy sampled 2 clients (out of 5)\n"
     ]
    },
    {
     "name": "stdout",
     "output_type": "stream",
     "text": [
      "\t {'val_loss': 1.5609101355075836, 'val_accuracy': 0.6000000000000001}\n"
     ]
    },
    {
     "name": "stderr",
     "output_type": "stream",
     "text": [
      "DEBUG flwr 2023-04-12 17:21:29,923 | server.py:229 | fit_round 34 received 2 results and 0 failures\n"
     ]
    },
    {
     "name": "stdout",
     "output_type": "stream",
     "text": [
      "\t {'train_loss': 0.1528617450967431, 'train_accuracy': 1.0}\n"
     ]
    },
    {
     "name": "stderr",
     "output_type": "stream",
     "text": [
      "INFO flwr 2023-04-12 17:21:39,750 | server.py:116 | fit progress: (34, 10.7894868850708, {'test_loss': 10.7894868850708, 'test_accuracy': 0.36}, 3740.6749947999924)\n",
      "DEBUG flwr 2023-04-12 17:21:39,750 | server.py:165 | evaluate_round 34: strategy sampled 2 clients (out of 5)\n",
      "DEBUG flwr 2023-04-12 17:21:45,794 | server.py:179 | evaluate_round 34 received 2 results and 0 failures\n",
      "DEBUG flwr 2023-04-12 17:21:45,795 | server.py:215 | fit_round 35: strategy sampled 2 clients (out of 5)\n"
     ]
    },
    {
     "name": "stdout",
     "output_type": "stream",
     "text": [
      "\t {'val_loss': 1.7218425869941711, 'val_accuracy': 0.55}\n"
     ]
    },
    {
     "name": "stderr",
     "output_type": "stream",
     "text": [
      "DEBUG flwr 2023-04-12 17:23:19,767 | server.py:229 | fit_round 35 received 2 results and 0 failures\n"
     ]
    },
    {
     "name": "stdout",
     "output_type": "stream",
     "text": [
      "\t {'train_loss': 0.022919530048966408, 'train_accuracy': 1.0}\n"
     ]
    },
    {
     "name": "stderr",
     "output_type": "stream",
     "text": [
      "INFO flwr 2023-04-12 17:23:29,546 | server.py:116 | fit progress: (35, 10.683345794677734, {'test_loss': 10.683345794677734, 'test_accuracy': 0.36}, 3850.47094259999)\n",
      "DEBUG flwr 2023-04-12 17:23:29,546 | server.py:165 | evaluate_round 35: strategy sampled 2 clients (out of 5)\n",
      "DEBUG flwr 2023-04-12 17:23:35,659 | server.py:179 | evaluate_round 35 received 2 results and 0 failures\n",
      "DEBUG flwr 2023-04-12 17:23:35,660 | server.py:215 | fit_round 36: strategy sampled 2 clients (out of 5)\n"
     ]
    },
    {
     "name": "stdout",
     "output_type": "stream",
     "text": [
      "\t {'val_loss': 2.7061004638671875, 'val_accuracy': 0.35}\n"
     ]
    },
    {
     "name": "stderr",
     "output_type": "stream",
     "text": [
      "DEBUG flwr 2023-04-12 17:25:09,375 | server.py:229 | fit_round 36 received 2 results and 0 failures\n"
     ]
    },
    {
     "name": "stdout",
     "output_type": "stream",
     "text": [
      "\t {'train_loss': 0.07532592350617051, 'train_accuracy': 1.0}\n"
     ]
    },
    {
     "name": "stderr",
     "output_type": "stream",
     "text": [
      "INFO flwr 2023-04-12 17:25:19,195 | server.py:116 | fit progress: (36, 10.812894821166992, {'test_loss': 10.812894821166992, 'test_accuracy': 0.36}, 3960.120280999996)\n",
      "DEBUG flwr 2023-04-12 17:25:19,196 | server.py:165 | evaluate_round 36: strategy sampled 2 clients (out of 5)\n",
      "DEBUG flwr 2023-04-12 17:25:25,284 | server.py:179 | evaluate_round 36 received 2 results and 0 failures\n",
      "DEBUG flwr 2023-04-12 17:25:25,285 | server.py:215 | fit_round 37: strategy sampled 2 clients (out of 5)\n"
     ]
    },
    {
     "name": "stdout",
     "output_type": "stream",
     "text": [
      "\t {'val_loss': 2.4576754570007324, 'val_accuracy': 0.30000000000000004}\n"
     ]
    },
    {
     "name": "stderr",
     "output_type": "stream",
     "text": [
      "DEBUG flwr 2023-04-12 17:26:59,125 | server.py:229 | fit_round 37 received 2 results and 0 failures\n"
     ]
    },
    {
     "name": "stdout",
     "output_type": "stream",
     "text": [
      "\t {'train_loss': 0.013396166497841477, 'train_accuracy': 1.0}\n"
     ]
    },
    {
     "name": "stderr",
     "output_type": "stream",
     "text": [
      "INFO flwr 2023-04-12 17:27:08,979 | server.py:116 | fit progress: (37, 11.018965721130371, {'test_loss': 11.018965721130371, 'test_accuracy': 0.37}, 4069.904441999999)\n",
      "DEBUG flwr 2023-04-12 17:27:08,980 | server.py:165 | evaluate_round 37: strategy sampled 2 clients (out of 5)\n",
      "DEBUG flwr 2023-04-12 17:27:15,124 | server.py:179 | evaluate_round 37 received 2 results and 0 failures\n",
      "DEBUG flwr 2023-04-12 17:27:15,125 | server.py:215 | fit_round 38: strategy sampled 2 clients (out of 5)\n"
     ]
    },
    {
     "name": "stdout",
     "output_type": "stream",
     "text": [
      "\t {'val_loss': 1.6982854902744293, 'val_accuracy': 0.65}\n"
     ]
    },
    {
     "name": "stderr",
     "output_type": "stream",
     "text": [
      "DEBUG flwr 2023-04-12 17:28:48,987 | server.py:229 | fit_round 38 received 2 results and 0 failures\n"
     ]
    },
    {
     "name": "stdout",
     "output_type": "stream",
     "text": [
      "\t {'train_loss': 0.008706926368176937, 'train_accuracy': 1.0}\n"
     ]
    },
    {
     "name": "stderr",
     "output_type": "stream",
     "text": [
      "INFO flwr 2023-04-12 17:28:58,869 | server.py:116 | fit progress: (38, 10.880760192871094, {'test_loss': 10.880760192871094, 'test_accuracy': 0.39}, 4179.794172599999)\n",
      "DEBUG flwr 2023-04-12 17:28:58,870 | server.py:165 | evaluate_round 38: strategy sampled 2 clients (out of 5)\n",
      "DEBUG flwr 2023-04-12 17:29:04,946 | server.py:179 | evaluate_round 38 received 2 results and 0 failures\n",
      "DEBUG flwr 2023-04-12 17:29:04,946 | server.py:215 | fit_round 39: strategy sampled 2 clients (out of 5)\n"
     ]
    },
    {
     "name": "stdout",
     "output_type": "stream",
     "text": [
      "\t {'val_loss': 1.5889069437980652, 'val_accuracy': 0.65}\n"
     ]
    },
    {
     "name": "stderr",
     "output_type": "stream",
     "text": [
      "DEBUG flwr 2023-04-12 17:30:38,971 | server.py:229 | fit_round 39 received 2 results and 0 failures\n"
     ]
    },
    {
     "name": "stdout",
     "output_type": "stream",
     "text": [
      "\t {'train_loss': 0.007953816326335073, 'train_accuracy': 1.0}\n"
     ]
    },
    {
     "name": "stderr",
     "output_type": "stream",
     "text": [
      "INFO flwr 2023-04-12 17:30:48,834 | server.py:116 | fit progress: (39, 10.928473472595215, {'test_loss': 10.928473472595215, 'test_accuracy': 0.38}, 4289.759195099992)\n",
      "DEBUG flwr 2023-04-12 17:30:48,835 | server.py:165 | evaluate_round 39: strategy sampled 2 clients (out of 5)\n",
      "DEBUG flwr 2023-04-12 17:30:54,887 | server.py:179 | evaluate_round 39 received 2 results and 0 failures\n",
      "DEBUG flwr 2023-04-12 17:30:54,887 | server.py:215 | fit_round 40: strategy sampled 2 clients (out of 5)\n"
     ]
    },
    {
     "name": "stdout",
     "output_type": "stream",
     "text": [
      "\t {'val_loss': 1.8881908655166626, 'val_accuracy': 0.55}\n"
     ]
    },
    {
     "name": "stderr",
     "output_type": "stream",
     "text": [
      "DEBUG flwr 2023-04-12 17:32:28,624 | server.py:229 | fit_round 40 received 2 results and 0 failures\n"
     ]
    },
    {
     "name": "stdout",
     "output_type": "stream",
     "text": [
      "\t {'train_loss': 0.0035712604876607656, 'train_accuracy': 1.0}\n"
     ]
    },
    {
     "name": "stderr",
     "output_type": "stream",
     "text": [
      "INFO flwr 2023-04-12 17:32:38,387 | server.py:116 | fit progress: (40, 10.875768661499023, {'test_loss': 10.875768661499023, 'test_accuracy': 0.36}, 4399.311871999991)\n",
      "DEBUG flwr 2023-04-12 17:32:38,387 | server.py:165 | evaluate_round 40: strategy sampled 2 clients (out of 5)\n",
      "DEBUG flwr 2023-04-12 17:32:44,505 | server.py:179 | evaluate_round 40 received 2 results and 0 failures\n",
      "DEBUG flwr 2023-04-12 17:32:44,506 | server.py:215 | fit_round 41: strategy sampled 2 clients (out of 5)\n"
     ]
    },
    {
     "name": "stdout",
     "output_type": "stream",
     "text": [
      "\t {'val_loss': 1.3682743310928345, 'val_accuracy': 0.6000000000000001}\n"
     ]
    },
    {
     "name": "stderr",
     "output_type": "stream",
     "text": [
      "DEBUG flwr 2023-04-12 17:34:18,894 | server.py:229 | fit_round 41 received 2 results and 0 failures\n"
     ]
    },
    {
     "name": "stdout",
     "output_type": "stream",
     "text": [
      "\t {'train_loss': 0.001709289150312543, 'train_accuracy': 1.0}\n"
     ]
    },
    {
     "name": "stderr",
     "output_type": "stream",
     "text": [
      "INFO flwr 2023-04-12 17:34:28,897 | server.py:116 | fit progress: (41, 10.678862571716309, {'test_loss': 10.678862571716309, 'test_accuracy': 0.36}, 4509.822358699996)\n",
      "DEBUG flwr 2023-04-12 17:34:28,898 | server.py:165 | evaluate_round 41: strategy sampled 2 clients (out of 5)\n",
      "DEBUG flwr 2023-04-12 17:34:35,017 | server.py:179 | evaluate_round 41 received 2 results and 0 failures\n",
      "DEBUG flwr 2023-04-12 17:34:35,017 | server.py:215 | fit_round 42: strategy sampled 2 clients (out of 5)\n"
     ]
    },
    {
     "name": "stdout",
     "output_type": "stream",
     "text": [
      "\t {'val_loss': 1.3955421447753906, 'val_accuracy': 0.65}\n"
     ]
    },
    {
     "name": "stderr",
     "output_type": "stream",
     "text": [
      "DEBUG flwr 2023-04-12 17:36:10,926 | server.py:229 | fit_round 42 received 2 results and 0 failures\n"
     ]
    },
    {
     "name": "stdout",
     "output_type": "stream",
     "text": [
      "\t {'train_loss': 0.03470900340471417, 'train_accuracy': 1.0}\n"
     ]
    },
    {
     "name": "stderr",
     "output_type": "stream",
     "text": [
      "INFO flwr 2023-04-12 17:36:20,939 | server.py:116 | fit progress: (42, 10.795284271240234, {'test_loss': 10.795284271240234, 'test_accuracy': 0.35}, 4621.864993900002)\n",
      "DEBUG flwr 2023-04-12 17:36:20,941 | server.py:165 | evaluate_round 42: strategy sampled 2 clients (out of 5)\n",
      "DEBUG flwr 2023-04-12 17:36:29,389 | server.py:179 | evaluate_round 42 received 2 results and 0 failures\n",
      "DEBUG flwr 2023-04-12 17:36:29,390 | server.py:215 | fit_round 43: strategy sampled 2 clients (out of 5)\n"
     ]
    },
    {
     "name": "stdout",
     "output_type": "stream",
     "text": [
      "\t {'val_loss': 2.0370495319366455, 'val_accuracy': 0.6}\n"
     ]
    },
    {
     "name": "stderr",
     "output_type": "stream",
     "text": [
      "DEBUG flwr 2023-04-12 17:38:05,790 | server.py:229 | fit_round 43 received 2 results and 0 failures\n"
     ]
    },
    {
     "name": "stdout",
     "output_type": "stream",
     "text": [
      "\t {'train_loss': 0.00462535151746124, 'train_accuracy': 1.0}\n"
     ]
    },
    {
     "name": "stderr",
     "output_type": "stream",
     "text": [
      "INFO flwr 2023-04-12 17:38:15,745 | server.py:116 | fit progress: (43, 10.980387687683105, {'test_loss': 10.980387687683105, 'test_accuracy': 0.37}, 4736.670254899989)\n",
      "DEBUG flwr 2023-04-12 17:38:15,745 | server.py:165 | evaluate_round 43: strategy sampled 2 clients (out of 5)\n",
      "DEBUG flwr 2023-04-12 17:38:22,014 | server.py:179 | evaluate_round 43 received 2 results and 0 failures\n",
      "DEBUG flwr 2023-04-12 17:38:22,015 | server.py:215 | fit_round 44: strategy sampled 2 clients (out of 5)\n"
     ]
    },
    {
     "name": "stdout",
     "output_type": "stream",
     "text": [
      "\t {'val_loss': 1.198328971862793, 'val_accuracy': 0.65}\n"
     ]
    },
    {
     "name": "stderr",
     "output_type": "stream",
     "text": [
      "DEBUG flwr 2023-04-12 17:39:57,870 | server.py:229 | fit_round 44 received 2 results and 0 failures\n"
     ]
    },
    {
     "name": "stdout",
     "output_type": "stream",
     "text": [
      "\t {'train_loss': 0.0026581410493236035, 'train_accuracy': 1.0}\n"
     ]
    },
    {
     "name": "stderr",
     "output_type": "stream",
     "text": [
      "INFO flwr 2023-04-12 17:40:07,835 | server.py:116 | fit progress: (44, 11.461337089538574, {'test_loss': 11.461337089538574, 'test_accuracy': 0.38}, 4848.759970999992)\n",
      "DEBUG flwr 2023-04-12 17:40:07,835 | server.py:165 | evaluate_round 44: strategy sampled 2 clients (out of 5)\n",
      "DEBUG flwr 2023-04-12 17:40:14,288 | server.py:179 | evaluate_round 44 received 2 results and 0 failures\n",
      "DEBUG flwr 2023-04-12 17:40:14,288 | server.py:215 | fit_round 45: strategy sampled 2 clients (out of 5)\n"
     ]
    },
    {
     "name": "stdout",
     "output_type": "stream",
     "text": [
      "\t {'val_loss': 2.5922045707702637, 'val_accuracy': 0.45}\n"
     ]
    },
    {
     "name": "stderr",
     "output_type": "stream",
     "text": [
      "DEBUG flwr 2023-04-12 17:41:50,291 | server.py:229 | fit_round 45 received 2 results and 0 failures\n"
     ]
    },
    {
     "name": "stdout",
     "output_type": "stream",
     "text": [
      "\t {'train_loss': 0.0009030485816765577, 'train_accuracy': 1.0}\n"
     ]
    },
    {
     "name": "stderr",
     "output_type": "stream",
     "text": [
      "INFO flwr 2023-04-12 17:42:00,285 | server.py:116 | fit progress: (45, 10.697951316833496, {'test_loss': 10.697951316833496, 'test_accuracy': 0.37}, 4961.2099036)\n",
      "DEBUG flwr 2023-04-12 17:42:00,285 | server.py:165 | evaluate_round 45: strategy sampled 2 clients (out of 5)\n",
      "DEBUG flwr 2023-04-12 17:42:09,275 | server.py:179 | evaluate_round 45 received 2 results and 0 failures\n",
      "DEBUG flwr 2023-04-12 17:42:09,275 | server.py:215 | fit_round 46: strategy sampled 2 clients (out of 5)\n"
     ]
    },
    {
     "name": "stdout",
     "output_type": "stream",
     "text": [
      "\t {'val_loss': 1.4060156047344208, 'val_accuracy': 0.65}\n"
     ]
    },
    {
     "name": "stderr",
     "output_type": "stream",
     "text": [
      "DEBUG flwr 2023-04-12 17:43:45,604 | server.py:229 | fit_round 46 received 2 results and 0 failures\n"
     ]
    },
    {
     "name": "stdout",
     "output_type": "stream",
     "text": [
      "\t {'train_loss': 0.017796208296203986, 'train_accuracy': 1.0}\n"
     ]
    },
    {
     "name": "stderr",
     "output_type": "stream",
     "text": [
      "INFO flwr 2023-04-12 17:43:55,579 | server.py:116 | fit progress: (46, 10.8102388381958, {'test_loss': 10.8102388381958, 'test_accuracy': 0.37}, 5076.504553499995)\n",
      "DEBUG flwr 2023-04-12 17:43:55,580 | server.py:165 | evaluate_round 46: strategy sampled 2 clients (out of 5)\n",
      "DEBUG flwr 2023-04-12 17:44:01,714 | server.py:179 | evaluate_round 46 received 2 results and 0 failures\n",
      "DEBUG flwr 2023-04-12 17:44:01,716 | server.py:215 | fit_round 47: strategy sampled 2 clients (out of 5)\n"
     ]
    },
    {
     "name": "stdout",
     "output_type": "stream",
     "text": [
      "\t {'val_loss': 1.3297905921936035, 'val_accuracy': 0.6000000000000001}\n"
     ]
    },
    {
     "name": "stderr",
     "output_type": "stream",
     "text": [
      "DEBUG flwr 2023-04-12 17:45:37,016 | server.py:229 | fit_round 47 received 2 results and 0 failures\n"
     ]
    },
    {
     "name": "stdout",
     "output_type": "stream",
     "text": [
      "\t {'train_loss': 0.0004090010916115716, 'train_accuracy': 1.0}\n"
     ]
    },
    {
     "name": "stderr",
     "output_type": "stream",
     "text": [
      "INFO flwr 2023-04-12 17:45:46,801 | server.py:116 | fit progress: (47, 11.400382041931152, {'test_loss': 11.400382041931152, 'test_accuracy': 0.36}, 5187.726030599995)\n",
      "DEBUG flwr 2023-04-12 17:45:46,802 | server.py:165 | evaluate_round 47: strategy sampled 2 clients (out of 5)\n",
      "DEBUG flwr 2023-04-12 17:45:52,930 | server.py:179 | evaluate_round 47 received 2 results and 0 failures\n",
      "DEBUG flwr 2023-04-12 17:45:52,931 | server.py:215 | fit_round 48: strategy sampled 2 clients (out of 5)\n"
     ]
    },
    {
     "name": "stdout",
     "output_type": "stream",
     "text": [
      "\t {'val_loss': 1.2891132235527039, 'val_accuracy': 0.65}\n"
     ]
    },
    {
     "name": "stderr",
     "output_type": "stream",
     "text": [
      "DEBUG flwr 2023-04-12 17:47:27,270 | server.py:229 | fit_round 48 received 2 results and 0 failures\n"
     ]
    },
    {
     "name": "stdout",
     "output_type": "stream",
     "text": [
      "\t {'train_loss': 0.00692700326180784, 'train_accuracy': 1.0}\n"
     ]
    },
    {
     "name": "stderr",
     "output_type": "stream",
     "text": [
      "INFO flwr 2023-04-12 17:47:37,134 | server.py:116 | fit progress: (48, 11.12587833404541, {'test_loss': 11.12587833404541, 'test_accuracy': 0.38}, 5298.059690399998)\n",
      "DEBUG flwr 2023-04-12 17:47:37,135 | server.py:165 | evaluate_round 48: strategy sampled 2 clients (out of 5)\n",
      "DEBUG flwr 2023-04-12 17:47:43,303 | server.py:179 | evaluate_round 48 received 2 results and 0 failures\n",
      "DEBUG flwr 2023-04-12 17:47:43,304 | server.py:215 | fit_round 49: strategy sampled 2 clients (out of 5)\n"
     ]
    },
    {
     "name": "stdout",
     "output_type": "stream",
     "text": [
      "\t {'val_loss': 1.2763267755508423, 'val_accuracy': 0.75}\n"
     ]
    },
    {
     "name": "stderr",
     "output_type": "stream",
     "text": [
      "DEBUG flwr 2023-04-12 17:49:17,345 | server.py:229 | fit_round 49 received 2 results and 0 failures\n"
     ]
    },
    {
     "name": "stdout",
     "output_type": "stream",
     "text": [
      "\t {'train_loss': 0.0011412290768930689, 'train_accuracy': 1.0}\n"
     ]
    },
    {
     "name": "stderr",
     "output_type": "stream",
     "text": [
      "INFO flwr 2023-04-12 17:49:27,217 | server.py:116 | fit progress: (49, 10.749208450317383, {'test_loss': 10.749208450317383, 'test_accuracy': 0.36}, 5408.142469999992)\n",
      "DEBUG flwr 2023-04-12 17:49:27,218 | server.py:165 | evaluate_round 49: strategy sampled 2 clients (out of 5)\n",
      "DEBUG flwr 2023-04-12 17:49:33,327 | server.py:179 | evaluate_round 49 received 2 results and 0 failures\n",
      "DEBUG flwr 2023-04-12 17:49:33,327 | server.py:215 | fit_round 50: strategy sampled 2 clients (out of 5)\n"
     ]
    },
    {
     "name": "stdout",
     "output_type": "stream",
     "text": [
      "\t {'val_loss': 2.2975000143051147, 'val_accuracy': 0.4}\n"
     ]
    },
    {
     "name": "stderr",
     "output_type": "stream",
     "text": [
      "DEBUG flwr 2023-04-12 17:51:07,307 | server.py:229 | fit_round 50 received 2 results and 0 failures\n"
     ]
    },
    {
     "name": "stdout",
     "output_type": "stream",
     "text": [
      "\t {'train_loss': 0.000290782205411233, 'train_accuracy': 1.0}\n"
     ]
    },
    {
     "name": "stderr",
     "output_type": "stream",
     "text": [
      "INFO flwr 2023-04-12 17:51:17,192 | server.py:116 | fit progress: (50, 11.115761756896973, {'test_loss': 11.115761756896973, 'test_accuracy': 0.37}, 5518.117492799996)\n",
      "DEBUG flwr 2023-04-12 17:51:17,193 | server.py:165 | evaluate_round 50: strategy sampled 2 clients (out of 5)\n",
      "DEBUG flwr 2023-04-12 17:51:23,315 | server.py:179 | evaluate_round 50 received 2 results and 0 failures\n",
      "INFO flwr 2023-04-12 17:51:23,316 | server.py:144 | FL finished in 5524.241379899991\n",
      "INFO flwr 2023-04-12 17:51:23,337 | app.py:202 | app_fit: losses_distributed [(1, 4.334606766700745), (2, 4.151220798492432), (3, 3.7265528440475464), (4, 4.3720433712005615), (5, 4.041690945625305), (6, 3.595852494239807), (7, 2.8924663066864014), (8, 3.2878899574279785), (9, 3.36566698551178), (10, 2.900047779083252), (11, 2.8052479028701782), (12, 1.9530006051063538), (13, 2.4916762709617615), (14, 1.8189402222633362), (15, 3.383486747741699), (16, 2.381662905216217), (17, 3.2412883043289185), (18, 2.218524217605591), (19, 2.5613200068473816), (20, 2.2204718589782715), (21, 1.7192813754081726), (22, 2.190928101539612), (23, 2.1827808022499084), (24, 2.150079071521759), (25, 2.56919002532959), (26, 2.796085476875305), (27, 2.6548670530319214), (28, 2.3433375358581543), (29, 1.7956473529338837), (30, 1.7209094762802124), (31, 2.2868963479995728), (32, 1.8741298913955688), (33, 1.5609101355075836), (34, 1.7218425869941711), (35, 2.7061004638671875), (36, 2.4576754570007324), (37, 1.6982854902744293), (38, 1.5889069437980652), (39, 1.8881908655166626), (40, 1.3682743310928345), (41, 1.3955421447753906), (42, 2.0370495319366455), (43, 1.198328971862793), (44, 2.5922045707702637), (45, 1.4060156047344208), (46, 1.3297905921936035), (47, 1.2891132235527039), (48, 1.2763267755508423), (49, 2.2975000143051147), (50, 2.06506085395813)]\n",
      "INFO flwr 2023-04-12 17:51:23,338 | app.py:203 | app_fit: metrics_distributed {'val_loss': [(1, 4.334606766700745), (2, 4.151220798492432), (3, 3.7265528440475464), (4, 4.3720433712005615), (5, 4.041690945625305), (6, 3.595852494239807), (7, 2.8924663066864014), (8, 3.2878899574279785), (9, 3.36566698551178), (10, 2.900047779083252), (11, 2.8052479028701782), (12, 1.9530006051063538), (13, 2.4916762709617615), (14, 1.8189402222633362), (15, 3.383486747741699), (16, 2.381662905216217), (17, 3.2412883043289185), (18, 2.218524217605591), (19, 2.5613200068473816), (20, 2.2204718589782715), (21, 1.7192813754081726), (22, 2.190928101539612), (23, 2.1827808022499084), (24, 2.150079071521759), (25, 2.56919002532959), (26, 2.796085476875305), (27, 2.6548670530319214), (28, 2.3433375358581543), (29, 1.7956473529338837), (30, 1.7209094762802124), (31, 2.2868963479995728), (32, 1.8741298913955688), (33, 1.5609101355075836), (34, 1.7218425869941711), (35, 2.7061004638671875), (36, 2.4576754570007324), (37, 1.6982854902744293), (38, 1.5889069437980652), (39, 1.8881908655166626), (40, 1.3682743310928345), (41, 1.3955421447753906), (42, 2.0370495319366455), (43, 1.198328971862793), (44, 2.5922045707702637), (45, 1.4060156047344208), (46, 1.3297905921936035), (47, 1.2891132235527039), (48, 1.2763267755508423), (49, 2.2975000143051147), (50, 2.06506085395813)], 'val_accuracy': [(1, 0.25), (2, 0.1), (3, 0.3), (4, 0.05), (5, 0.1), (6, 0.35), (7, 0.2), (8, 0.3), (9, 0.3), (10, 0.4), (11, 0.5), (12, 0.65), (13, 0.5), (14, 0.65), (15, 0.15000000000000002), (16, 0.55), (17, 0.30000000000000004), (18, 0.5), (19, 0.30000000000000004), (20, 0.5), (21, 0.6000000000000001), (22, 0.5), (23, 0.45), (24, 0.5), (25, 0.35), (26, 0.30000000000000004), (27, 0.35), (28, 0.4), (29, 0.6000000000000001), (30, 0.65), (31, 0.45), (32, 0.45), (33, 0.6000000000000001), (34, 0.55), (35, 0.35), (36, 0.30000000000000004), (37, 0.65), (38, 0.65), (39, 0.55), (40, 0.6000000000000001), (41, 0.65), (42, 0.6), (43, 0.65), (44, 0.45), (45, 0.65), (46, 0.6000000000000001), (47, 0.65), (48, 0.75), (49, 0.4), (50, 0.4)]}\n",
      "INFO flwr 2023-04-12 17:51:23,338 | app.py:204 | app_fit: losses_centralized [(0, 18.094148635864258), (1, 17.874038696289062), (2, 16.47649574279785), (3, 17.580629348754883), (4, 15.479642868041992), (5, 16.497150421142578), (6, 15.407020568847656), (7, 14.691621780395508), (8, 14.675586700439453), (9, 14.671140670776367), (10, 14.628520011901855), (11, 13.795948028564453), (12, 14.556413650512695), (13, 13.082544326782227), (14, 13.177535057067871), (15, 13.522612571716309), (16, 12.517973899841309), (17, 13.37197494506836), (18, 12.513652801513672), (19, 12.249460220336914), (20, 12.005008697509766), (21, 12.043188095092773), (22, 12.00833511352539), (23, 11.828384399414062), (24, 11.873373031616211), (25, 11.81686782836914), (26, 11.863869667053223), (27, 11.473596572875977), (28, 11.204318046569824), (29, 11.207036018371582), (30, 11.371248245239258), (31, 11.151483535766602), (32, 11.000088691711426), (33, 10.862237930297852), (34, 10.7894868850708), (35, 10.683345794677734), (36, 10.812894821166992), (37, 11.018965721130371), (38, 10.880760192871094), (39, 10.928473472595215), (40, 10.875768661499023), (41, 10.678862571716309), (42, 10.795284271240234), (43, 10.980387687683105), (44, 11.461337089538574), (45, 10.697951316833496), (46, 10.8102388381958), (47, 11.400382041931152), (48, 11.12587833404541), (49, 10.749208450317383), (50, 11.115761756896973)]\n",
      "INFO flwr 2023-04-12 17:51:23,341 | app.py:205 | app_fit: metrics_centralized {'test_loss': [(0, 18.094148635864258), (1, 17.874038696289062), (2, 16.47649574279785), (3, 17.580629348754883), (4, 15.479642868041992), (5, 16.497150421142578), (6, 15.407020568847656), (7, 14.691621780395508), (8, 14.675586700439453), (9, 14.671140670776367), (10, 14.628520011901855), (11, 13.795948028564453), (12, 14.556413650512695), (13, 13.082544326782227), (14, 13.177535057067871), (15, 13.522612571716309), (16, 12.517973899841309), (17, 13.37197494506836), (18, 12.513652801513672), (19, 12.249460220336914), (20, 12.005008697509766), (21, 12.043188095092773), (22, 12.00833511352539), (23, 11.828384399414062), (24, 11.873373031616211), (25, 11.81686782836914), (26, 11.863869667053223), (27, 11.473596572875977), (28, 11.204318046569824), (29, 11.207036018371582), (30, 11.371248245239258), (31, 11.151483535766602), (32, 11.000088691711426), (33, 10.862237930297852), (34, 10.7894868850708), (35, 10.683345794677734), (36, 10.812894821166992), (37, 11.018965721130371), (38, 10.880760192871094), (39, 10.928473472595215), (40, 10.875768661499023), (41, 10.678862571716309), (42, 10.795284271240234), (43, 10.980387687683105), (44, 11.461337089538574), (45, 10.697951316833496), (46, 10.8102388381958), (47, 11.400382041931152), (48, 11.12587833404541), (49, 10.749208450317383), (50, 11.115761756896973)], 'test_accuracy': [(0, 0.02), (1, 0.03), (2, 0.11), (3, 0.03), (4, 0.13), (5, 0.11), (6, 0.17), (7, 0.16), (8, 0.21), (9, 0.25), (10, 0.19), (11, 0.26), (12, 0.23), (13, 0.26), (14, 0.28), (15, 0.26), (16, 0.3), (17, 0.33), (18, 0.32), (19, 0.28), (20, 0.36), (21, 0.33), (22, 0.33), (23, 0.35), (24, 0.33), (25, 0.34), (26, 0.33), (27, 0.35), (28, 0.33), (29, 0.36), (30, 0.34), (31, 0.37), (32, 0.35), (33, 0.37), (34, 0.36), (35, 0.36), (36, 0.36), (37, 0.37), (38, 0.39), (39, 0.38), (40, 0.36), (41, 0.36), (42, 0.35), (43, 0.37), (44, 0.38), (45, 0.37), (46, 0.37), (47, 0.36), (48, 0.38), (49, 0.36), (50, 0.37)]}\n"
     ]
    },
    {
     "name": "stdout",
     "output_type": "stream",
     "text": [
      "\t {'val_loss': 2.06506085395813, 'val_accuracy': 0.4}\n"
     ]
    },
    {
     "data": {
      "text/plain": [
       "History (loss, distributed):\n",
       "\tround 1: 4.334606766700745\n",
       "\tround 2: 4.151220798492432\n",
       "\tround 3: 3.7265528440475464\n",
       "\tround 4: 4.3720433712005615\n",
       "\tround 5: 4.041690945625305\n",
       "\tround 6: 3.595852494239807\n",
       "\tround 7: 2.8924663066864014\n",
       "\tround 8: 3.2878899574279785\n",
       "\tround 9: 3.36566698551178\n",
       "\tround 10: 2.900047779083252\n",
       "\tround 11: 2.8052479028701782\n",
       "\tround 12: 1.9530006051063538\n",
       "\tround 13: 2.4916762709617615\n",
       "\tround 14: 1.8189402222633362\n",
       "\tround 15: 3.383486747741699\n",
       "\tround 16: 2.381662905216217\n",
       "\tround 17: 3.2412883043289185\n",
       "\tround 18: 2.218524217605591\n",
       "\tround 19: 2.5613200068473816\n",
       "\tround 20: 2.2204718589782715\n",
       "\tround 21: 1.7192813754081726\n",
       "\tround 22: 2.190928101539612\n",
       "\tround 23: 2.1827808022499084\n",
       "\tround 24: 2.150079071521759\n",
       "\tround 25: 2.56919002532959\n",
       "\tround 26: 2.796085476875305\n",
       "\tround 27: 2.6548670530319214\n",
       "\tround 28: 2.3433375358581543\n",
       "\tround 29: 1.7956473529338837\n",
       "\tround 30: 1.7209094762802124\n",
       "\tround 31: 2.2868963479995728\n",
       "\tround 32: 1.8741298913955688\n",
       "\tround 33: 1.5609101355075836\n",
       "\tround 34: 1.7218425869941711\n",
       "\tround 35: 2.7061004638671875\n",
       "\tround 36: 2.4576754570007324\n",
       "\tround 37: 1.6982854902744293\n",
       "\tround 38: 1.5889069437980652\n",
       "\tround 39: 1.8881908655166626\n",
       "\tround 40: 1.3682743310928345\n",
       "\tround 41: 1.3955421447753906\n",
       "\tround 42: 2.0370495319366455\n",
       "\tround 43: 1.198328971862793\n",
       "\tround 44: 2.5922045707702637\n",
       "\tround 45: 1.4060156047344208\n",
       "\tround 46: 1.3297905921936035\n",
       "\tround 47: 1.2891132235527039\n",
       "\tround 48: 1.2763267755508423\n",
       "\tround 49: 2.2975000143051147\n",
       "\tround 50: 2.06506085395813\n",
       "History (loss, centralized):\n",
       "\tround 0: 18.094148635864258\n",
       "\tround 1: 17.874038696289062\n",
       "\tround 2: 16.47649574279785\n",
       "\tround 3: 17.580629348754883\n",
       "\tround 4: 15.479642868041992\n",
       "\tround 5: 16.497150421142578\n",
       "\tround 6: 15.407020568847656\n",
       "\tround 7: 14.691621780395508\n",
       "\tround 8: 14.675586700439453\n",
       "\tround 9: 14.671140670776367\n",
       "\tround 10: 14.628520011901855\n",
       "\tround 11: 13.795948028564453\n",
       "\tround 12: 14.556413650512695\n",
       "\tround 13: 13.082544326782227\n",
       "\tround 14: 13.177535057067871\n",
       "\tround 15: 13.522612571716309\n",
       "\tround 16: 12.517973899841309\n",
       "\tround 17: 13.37197494506836\n",
       "\tround 18: 12.513652801513672\n",
       "\tround 19: 12.249460220336914\n",
       "\tround 20: 12.005008697509766\n",
       "\tround 21: 12.043188095092773\n",
       "\tround 22: 12.00833511352539\n",
       "\tround 23: 11.828384399414062\n",
       "\tround 24: 11.873373031616211\n",
       "\tround 25: 11.81686782836914\n",
       "\tround 26: 11.863869667053223\n",
       "\tround 27: 11.473596572875977\n",
       "\tround 28: 11.204318046569824\n",
       "\tround 29: 11.207036018371582\n",
       "\tround 30: 11.371248245239258\n",
       "\tround 31: 11.151483535766602\n",
       "\tround 32: 11.000088691711426\n",
       "\tround 33: 10.862237930297852\n",
       "\tround 34: 10.7894868850708\n",
       "\tround 35: 10.683345794677734\n",
       "\tround 36: 10.812894821166992\n",
       "\tround 37: 11.018965721130371\n",
       "\tround 38: 10.880760192871094\n",
       "\tround 39: 10.928473472595215\n",
       "\tround 40: 10.875768661499023\n",
       "\tround 41: 10.678862571716309\n",
       "\tround 42: 10.795284271240234\n",
       "\tround 43: 10.980387687683105\n",
       "\tround 44: 11.461337089538574\n",
       "\tround 45: 10.697951316833496\n",
       "\tround 46: 10.8102388381958\n",
       "\tround 47: 11.400382041931152\n",
       "\tround 48: 11.12587833404541\n",
       "\tround 49: 10.749208450317383\n",
       "\tround 50: 11.115761756896973\n",
       "History (metrics, distributed):\n",
       "{'val_loss': [(1, 4.334606766700745), (2, 4.151220798492432), (3, 3.7265528440475464), (4, 4.3720433712005615), (5, 4.041690945625305), (6, 3.595852494239807), (7, 2.8924663066864014), (8, 3.2878899574279785), (9, 3.36566698551178), (10, 2.900047779083252), (11, 2.8052479028701782), (12, 1.9530006051063538), (13, 2.4916762709617615), (14, 1.8189402222633362), (15, 3.383486747741699), (16, 2.381662905216217), (17, 3.2412883043289185), (18, 2.218524217605591), (19, 2.5613200068473816), (20, 2.2204718589782715), (21, 1.7192813754081726), (22, 2.190928101539612), (23, 2.1827808022499084), (24, 2.150079071521759), (25, 2.56919002532959), (26, 2.796085476875305), (27, 2.6548670530319214), (28, 2.3433375358581543), (29, 1.7956473529338837), (30, 1.7209094762802124), (31, 2.2868963479995728), (32, 1.8741298913955688), (33, 1.5609101355075836), (34, 1.7218425869941711), (35, 2.7061004638671875), (36, 2.4576754570007324), (37, 1.6982854902744293), (38, 1.5889069437980652), (39, 1.8881908655166626), (40, 1.3682743310928345), (41, 1.3955421447753906), (42, 2.0370495319366455), (43, 1.198328971862793), (44, 2.5922045707702637), (45, 1.4060156047344208), (46, 1.3297905921936035), (47, 1.2891132235527039), (48, 1.2763267755508423), (49, 2.2975000143051147), (50, 2.06506085395813)], 'val_accuracy': [(1, 0.25), (2, 0.1), (3, 0.3), (4, 0.05), (5, 0.1), (6, 0.35), (7, 0.2), (8, 0.3), (9, 0.3), (10, 0.4), (11, 0.5), (12, 0.65), (13, 0.5), (14, 0.65), (15, 0.15000000000000002), (16, 0.55), (17, 0.30000000000000004), (18, 0.5), (19, 0.30000000000000004), (20, 0.5), (21, 0.6000000000000001), (22, 0.5), (23, 0.45), (24, 0.5), (25, 0.35), (26, 0.30000000000000004), (27, 0.35), (28, 0.4), (29, 0.6000000000000001), (30, 0.65), (31, 0.45), (32, 0.45), (33, 0.6000000000000001), (34, 0.55), (35, 0.35), (36, 0.30000000000000004), (37, 0.65), (38, 0.65), (39, 0.55), (40, 0.6000000000000001), (41, 0.65), (42, 0.6), (43, 0.65), (44, 0.45), (45, 0.65), (46, 0.6000000000000001), (47, 0.65), (48, 0.75), (49, 0.4), (50, 0.4)]}History (metrics, centralized):\n",
       "{'test_loss': [(0, 18.094148635864258), (1, 17.874038696289062), (2, 16.47649574279785), (3, 17.580629348754883), (4, 15.479642868041992), (5, 16.497150421142578), (6, 15.407020568847656), (7, 14.691621780395508), (8, 14.675586700439453), (9, 14.671140670776367), (10, 14.628520011901855), (11, 13.795948028564453), (12, 14.556413650512695), (13, 13.082544326782227), (14, 13.177535057067871), (15, 13.522612571716309), (16, 12.517973899841309), (17, 13.37197494506836), (18, 12.513652801513672), (19, 12.249460220336914), (20, 12.005008697509766), (21, 12.043188095092773), (22, 12.00833511352539), (23, 11.828384399414062), (24, 11.873373031616211), (25, 11.81686782836914), (26, 11.863869667053223), (27, 11.473596572875977), (28, 11.204318046569824), (29, 11.207036018371582), (30, 11.371248245239258), (31, 11.151483535766602), (32, 11.000088691711426), (33, 10.862237930297852), (34, 10.7894868850708), (35, 10.683345794677734), (36, 10.812894821166992), (37, 11.018965721130371), (38, 10.880760192871094), (39, 10.928473472595215), (40, 10.875768661499023), (41, 10.678862571716309), (42, 10.795284271240234), (43, 10.980387687683105), (44, 11.461337089538574), (45, 10.697951316833496), (46, 10.8102388381958), (47, 11.400382041931152), (48, 11.12587833404541), (49, 10.749208450317383), (50, 11.115761756896973)], 'test_accuracy': [(0, 0.02), (1, 0.03), (2, 0.11), (3, 0.03), (4, 0.13), (5, 0.11), (6, 0.17), (7, 0.16), (8, 0.21), (9, 0.25), (10, 0.19), (11, 0.26), (12, 0.23), (13, 0.26), (14, 0.28), (15, 0.26), (16, 0.3), (17, 0.33), (18, 0.32), (19, 0.28), (20, 0.36), (21, 0.33), (22, 0.33), (23, 0.35), (24, 0.33), (25, 0.34), (26, 0.33), (27, 0.35), (28, 0.33), (29, 0.36), (30, 0.34), (31, 0.37), (32, 0.35), (33, 0.37), (34, 0.36), (35, 0.36), (36, 0.36), (37, 0.37), (38, 0.39), (39, 0.38), (40, 0.36), (41, 0.36), (42, 0.35), (43, 0.37), (44, 0.38), (45, 0.37), (46, 0.37), (47, 0.36), (48, 0.38), (49, 0.36), (50, 0.37)]}"
      ]
     },
     "execution_count": 9,
     "metadata": {},
     "output_type": "execute_result"
    }
   ],
   "source": [
    "fl.simulation.start_simulation(\n",
    "    client_fn=lambda cid: FlowerClient(MODEL_CONFIG, trainloaders[int(cid)], valloaders[int(cid)]),\n",
    "    num_clients=NUM_CLIENTS,\n",
    "    config=fl.server.ServerConfig(num_rounds=NUM_ROUNDS),\n",
    "    strategy=strategy,\n",
    "    client_resources=CLIENT_RESOURCES,\n",
    "    ray_init_args=RAY_ARGS,\n",
    ")"
   ]
  }
 ],
 "metadata": {
  "language_info": {
   "codemirror_mode": {
    "name": "ipython",
    "version": 3
   },
   "file_extension": ".py",
   "mimetype": "text/x-python",
   "name": "python",
   "nbconvert_exporter": "python",
   "pygments_lexer": "ipython3",
   "version": 3
  },
  "orig_nbformat": 4
 },
 "nbformat": 4,
 "nbformat_minor": 2
}
