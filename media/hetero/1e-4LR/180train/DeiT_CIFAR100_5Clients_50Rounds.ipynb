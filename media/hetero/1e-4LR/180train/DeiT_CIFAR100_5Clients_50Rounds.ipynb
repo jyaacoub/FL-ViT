{
 "cells": [
  {
   "cell_type": "code",
   "execution_count": 8,
   "source": [
    "print('num clients:', NUM_CLIENTS)\n",
    "print('num rounds:', NUM_ROUNDS)\n",
    "print('--'*20)\n",
    "print('client training set size:', [len(t.dataset) for t in trainloaders])\n",
    "print('client validation set size:', [len(v.dataset) for v in valloaders])\n",
    "print('test set size:', len(testloader.dataset))\n",
    "print('--'*20)\n",
    "print('model name:', MODEL_NAME)\n",
    "print('num classes:', NUM_CLASSES)\n",
    "print('pre-trained:', PRE_TRAINED)\n",
    "print('learning rate:', LEARNING_RATE)\n",
    "print('batch size:', BATCH_SIZE)\n",
    "print('epochs:', EPOCHS)"
   ],
   "outputs": [
    {
     "output_type": "stream",
     "name": "stdout",
     "text": [
      "num clients: 5\n",
      "num rounds: 50\n",
      "----------------------------------------\n",
      "client training set size: [180, 180, 180, 180, 180]\n",
      "client validation set size: [10, 10, 10, 10, 10, 10, 10, 10, 10, 10]\n",
      "test set size: 100\n",
      "----------------------------------------\n",
      "model name: facebook/deit-base-distilled-patch16-224\n",
      "num classes: 100\n",
      "pre-trained: True\n",
      "learning rate: 0.0001\n",
      "batch size: 32\n",
      "epochs: 1\n"
     ]
    }
   ],
   "metadata": {}
  },
  {
   "cell_type": "code",
   "execution_count": 9,
   "source": [
    "fl.simulation.start_simulation(\n",
    "    client_fn=lambda cid: FlowerClient(MODEL_CONFIG, trainloaders[int(cid)], valloaders[int(cid)]),\n",
    "    num_clients=NUM_CLIENTS,\n",
    "    config=fl.server.ServerConfig(num_rounds=NUM_ROUNDS),\n",
    "    strategy=strategy,\n",
    "    client_resources=CLIENT_RESOURCES,\n",
    "    ray_init_args=RAY_ARGS,\n",
    ")"
   ],
   "outputs": [
    {
     "output_type": "stream",
     "name": "stderr",
     "text": [
      "INFO flwr 2023-04-12 13:27:16,785 | app.py:145 | Starting Flower simulation, config: ServerConfig(num_rounds=50, round_timeout=None)\n",
      "2023-04-12 13:27:19,321\tINFO worker.py:1529 -- Started a local Ray instance. View the dashboard at \u001b[1m\u001b[32m127.0.0.1:8265 \u001b[39m\u001b[22m\n",
      "INFO flwr 2023-04-12 13:27:20,554 | app.py:179 | Flower VCE: Ray initialized with resources: {'object_store_memory': 7078884556.0, 'memory': 14157769115.0, 'GPU': 1.0, 'CPU': 24.0, 'node:127.0.0.1': 1.0}\n",
      "INFO flwr 2023-04-12 13:27:20,555 | server.py:86 | Initializing global parameters\n",
      "INFO flwr 2023-04-12 13:27:20,555 | server.py:266 | Using initial parameters provided by strategy\n",
      "INFO flwr 2023-04-12 13:27:20,555 | server.py:88 | Evaluating initial parameters\n",
      "INFO flwr 2023-04-12 13:27:29,862 | server.py:91 | initial parameters (loss, other metrics): 18.773698806762695, {'test_loss': 18.773698806762695, 'test_accuracy': 0.01}\n",
      "INFO flwr 2023-04-12 13:27:29,863 | server.py:101 | FL starting\n",
      "DEBUG flwr 2023-04-12 13:27:29,864 | server.py:215 | fit_round 1: strategy sampled 2 clients (out of 5)\n",
      "DEBUG flwr 2023-04-12 13:30:39,501 | server.py:229 | fit_round 1 received 2 results and 0 failures\n"
     ]
    },
    {
     "output_type": "stream",
     "name": "stdout",
     "text": [
      "\t {'train_loss': 3.8939173221588135, 'train_accuracy': 0.049999999999999996}\n"
     ]
    },
    {
     "output_type": "stream",
     "name": "stderr",
     "text": [
      "INFO flwr 2023-04-12 13:30:49,307 | server.py:116 | fit progress: (1, 19.66427230834961, {'test_loss': 19.66427230834961, 'test_accuracy': 0.0}, 199.44335500000307)\n",
      "DEBUG flwr 2023-04-12 13:30:49,307 | server.py:165 | evaluate_round 1: strategy sampled 2 clients (out of 5)\n",
      "DEBUG flwr 2023-04-12 13:30:55,700 | server.py:179 | evaluate_round 1 received 2 results and 0 failures\n",
      "DEBUG flwr 2023-04-12 13:30:55,702 | server.py:215 | fit_round 2: strategy sampled 2 clients (out of 5)\n"
     ]
    },
    {
     "output_type": "stream",
     "name": "stdout",
     "text": [
      "\t {'val_loss': 4.69225549697876, 'val_accuracy': 0.0}\n"
     ]
    },
    {
     "output_type": "stream",
     "name": "stderr",
     "text": [
      "DEBUG flwr 2023-04-12 13:34:02,954 | server.py:229 | fit_round 2 received 2 results and 0 failures\n"
     ]
    },
    {
     "output_type": "stream",
     "name": "stdout",
     "text": [
      "\t {'train_loss': 4.321695327758789, 'train_accuracy': 0.041666666666666664}\n"
     ]
    },
    {
     "output_type": "stream",
     "name": "stderr",
     "text": [
      "INFO flwr 2023-04-12 13:34:12,822 | server.py:116 | fit progress: (2, 19.458721160888672, {'test_loss': 19.458721160888672, 'test_accuracy': 0.0}, 402.958472899998)\n",
      "DEBUG flwr 2023-04-12 13:34:12,823 | server.py:165 | evaluate_round 2: strategy sampled 2 clients (out of 5)\n",
      "DEBUG flwr 2023-04-12 13:34:19,009 | server.py:179 | evaluate_round 2 received 2 results and 0 failures\n",
      "DEBUG flwr 2023-04-12 13:34:19,010 | server.py:215 | fit_round 3: strategy sampled 2 clients (out of 5)\n"
     ]
    },
    {
     "output_type": "stream",
     "name": "stdout",
     "text": [
      "\t {'val_loss': 4.408609390258789, 'val_accuracy': 0.1}\n"
     ]
    },
    {
     "output_type": "stream",
     "name": "stderr",
     "text": [
      "DEBUG flwr 2023-04-12 13:37:26,406 | server.py:229 | fit_round 3 received 2 results and 0 failures\n"
     ]
    },
    {
     "output_type": "stream",
     "name": "stdout",
     "text": [
      "\t {'train_loss': 3.8918046951293945, 'train_accuracy': 0.1777777777777778}\n"
     ]
    },
    {
     "output_type": "stream",
     "name": "stderr",
     "text": [
      "INFO flwr 2023-04-12 13:37:36,370 | server.py:116 | fit progress: (3, 20.292736053466797, {'test_loss': 20.292736053466797, 'test_accuracy': 0.03}, 606.5065476000018)\n",
      "DEBUG flwr 2023-04-12 13:37:36,370 | server.py:165 | evaluate_round 3: strategy sampled 2 clients (out of 5)\n",
      "DEBUG flwr 2023-04-12 13:37:42,202 | server.py:179 | evaluate_round 3 received 2 results and 0 failures\n",
      "DEBUG flwr 2023-04-12 13:37:42,203 | server.py:215 | fit_round 4: strategy sampled 2 clients (out of 5)\n"
     ]
    },
    {
     "output_type": "stream",
     "name": "stdout",
     "text": [
      "\t {'val_loss': 4.318270683288574, 'val_accuracy': 0.05}\n"
     ]
    },
    {
     "output_type": "stream",
     "name": "stderr",
     "text": [
      "DEBUG flwr 2023-04-12 13:40:48,387 | server.py:229 | fit_round 4 received 2 results and 0 failures\n"
     ]
    },
    {
     "output_type": "stream",
     "name": "stdout",
     "text": [
      "\t {'train_loss': 3.634051203727722, 'train_accuracy': 0.24166666666666667}\n"
     ]
    },
    {
     "output_type": "stream",
     "name": "stderr",
     "text": [
      "INFO flwr 2023-04-12 13:40:58,277 | server.py:116 | fit progress: (4, 18.107622146606445, {'test_loss': 18.107622146606445, 'test_accuracy': 0.06}, 808.4133137000026)\n",
      "DEBUG flwr 2023-04-12 13:40:58,277 | server.py:165 | evaluate_round 4: strategy sampled 2 clients (out of 5)\n",
      "DEBUG flwr 2023-04-12 13:41:04,564 | server.py:179 | evaluate_round 4 received 2 results and 0 failures\n",
      "DEBUG flwr 2023-04-12 13:41:04,564 | server.py:215 | fit_round 5: strategy sampled 2 clients (out of 5)\n"
     ]
    },
    {
     "output_type": "stream",
     "name": "stdout",
     "text": [
      "\t {'val_loss': 4.3132164478302, 'val_accuracy': 0.05}\n"
     ]
    },
    {
     "output_type": "stream",
     "name": "stderr",
     "text": [
      "DEBUG flwr 2023-04-12 13:44:10,710 | server.py:229 | fit_round 5 received 2 results and 0 failures\n"
     ]
    },
    {
     "output_type": "stream",
     "name": "stdout",
     "text": [
      "\t {'train_loss': 2.983602523803711, 'train_accuracy': 0.3111111111111111}\n"
     ]
    },
    {
     "output_type": "stream",
     "name": "stderr",
     "text": [
      "INFO flwr 2023-04-12 13:44:20,646 | server.py:116 | fit progress: (5, 17.120384216308594, {'test_loss': 17.120384216308594, 'test_accuracy': 0.11}, 1010.782687699997)\n",
      "DEBUG flwr 2023-04-12 13:44:20,647 | server.py:165 | evaluate_round 5: strategy sampled 2 clients (out of 5)\n",
      "DEBUG flwr 2023-04-12 13:44:26,748 | server.py:179 | evaluate_round 5 received 2 results and 0 failures\n",
      "DEBUG flwr 2023-04-12 13:44:26,748 | server.py:215 | fit_round 6: strategy sampled 2 clients (out of 5)\n"
     ]
    },
    {
     "output_type": "stream",
     "name": "stdout",
     "text": [
      "\t {'val_loss': 3.679939031600952, 'val_accuracy': 0.15000000000000002}\n"
     ]
    },
    {
     "output_type": "stream",
     "name": "stderr",
     "text": [
      "DEBUG flwr 2023-04-12 13:47:31,991 | server.py:229 | fit_round 6 received 2 results and 0 failures\n"
     ]
    },
    {
     "output_type": "stream",
     "name": "stdout",
     "text": [
      "\t {'train_loss': 2.615806221961975, 'train_accuracy': 0.6388888888888888}\n"
     ]
    },
    {
     "output_type": "stream",
     "name": "stderr",
     "text": [
      "INFO flwr 2023-04-12 13:47:41,821 | server.py:116 | fit progress: (6, 18.676420211791992, {'test_loss': 18.676420211791992, 'test_accuracy': 0.07}, 1211.9576459000018)\n",
      "DEBUG flwr 2023-04-12 13:47:41,822 | server.py:165 | evaluate_round 6: strategy sampled 2 clients (out of 5)\n",
      "DEBUG flwr 2023-04-12 13:47:47,938 | server.py:179 | evaluate_round 6 received 2 results and 0 failures\n",
      "DEBUG flwr 2023-04-12 13:47:47,939 | server.py:215 | fit_round 7: strategy sampled 2 clients (out of 5)\n"
     ]
    },
    {
     "output_type": "stream",
     "name": "stdout",
     "text": [
      "\t {'val_loss': 3.9727377891540527, 'val_accuracy': 0.1}\n"
     ]
    },
    {
     "output_type": "stream",
     "name": "stderr",
     "text": [
      "DEBUG flwr 2023-04-12 13:50:53,172 | server.py:229 | fit_round 7 received 2 results and 0 failures\n"
     ]
    },
    {
     "output_type": "stream",
     "name": "stdout",
     "text": [
      "\t {'train_loss': 3.304196000099182, 'train_accuracy': 0.2722222222222222}\n"
     ]
    },
    {
     "output_type": "stream",
     "name": "stderr",
     "text": [
      "INFO flwr 2023-04-12 13:51:02,944 | server.py:116 | fit progress: (7, 16.083343505859375, {'test_loss': 16.083343505859375, 'test_accuracy': 0.17}, 1413.0809481999968)\n",
      "DEBUG flwr 2023-04-12 13:51:02,945 | server.py:165 | evaluate_round 7: strategy sampled 2 clients (out of 5)\n",
      "DEBUG flwr 2023-04-12 13:51:09,045 | server.py:179 | evaluate_round 7 received 2 results and 0 failures\n",
      "DEBUG flwr 2023-04-12 13:51:09,046 | server.py:215 | fit_round 8: strategy sampled 2 clients (out of 5)\n"
     ]
    },
    {
     "output_type": "stream",
     "name": "stdout",
     "text": [
      "\t {'val_loss': 3.4378257989883423, 'val_accuracy': 0.25}\n"
     ]
    },
    {
     "output_type": "stream",
     "name": "stderr",
     "text": [
      "DEBUG flwr 2023-04-12 13:54:15,324 | server.py:229 | fit_round 8 received 2 results and 0 failures\n"
     ]
    },
    {
     "output_type": "stream",
     "name": "stdout",
     "text": [
      "\t {'train_loss': 2.4949108362197876, 'train_accuracy': 0.6611111111111111}\n"
     ]
    },
    {
     "output_type": "stream",
     "name": "stderr",
     "text": [
      "INFO flwr 2023-04-12 13:54:25,103 | server.py:116 | fit progress: (8, 14.993967056274414, {'test_loss': 14.993967056274414, 'test_accuracy': 0.22}, 1613.972343100002)\n",
      "DEBUG flwr 2023-04-12 13:54:25,104 | server.py:165 | evaluate_round 8: strategy sampled 2 clients (out of 5)\n",
      "DEBUG flwr 2023-04-12 13:54:31,180 | server.py:179 | evaluate_round 8 received 2 results and 0 failures\n",
      "DEBUG flwr 2023-04-12 13:54:31,181 | server.py:215 | fit_round 9: strategy sampled 2 clients (out of 5)\n"
     ]
    },
    {
     "output_type": "stream",
     "name": "stdout",
     "text": [
      "\t {'val_loss': 3.149909496307373, 'val_accuracy': 0.35}\n"
     ]
    },
    {
     "output_type": "stream",
     "name": "stderr",
     "text": [
      "DEBUG flwr 2023-04-12 13:57:35,783 | server.py:229 | fit_round 9 received 2 results and 0 failures\n"
     ]
    },
    {
     "output_type": "stream",
     "name": "stdout",
     "text": [
      "\t {'train_loss': 2.2440344095230103, 'train_accuracy': 0.7416666666666667}\n"
     ]
    },
    {
     "output_type": "stream",
     "name": "stderr",
     "text": [
      "INFO flwr 2023-04-12 13:57:45,605 | server.py:116 | fit progress: (9, 16.800594329833984, {'test_loss': 16.800594329833984, 'test_accuracy': 0.12}, 1814.474421400002)\n",
      "DEBUG flwr 2023-04-12 13:57:45,606 | server.py:165 | evaluate_round 9: strategy sampled 2 clients (out of 5)\n",
      "DEBUG flwr 2023-04-12 13:57:51,833 | server.py:179 | evaluate_round 9 received 2 results and 0 failures\n",
      "DEBUG flwr 2023-04-12 13:57:51,834 | server.py:215 | fit_round 10: strategy sampled 2 clients (out of 5)\n"
     ]
    },
    {
     "output_type": "stream",
     "name": "stdout",
     "text": [
      "\t {'val_loss': 2.9239617586135864, 'val_accuracy': 0.35}\n"
     ]
    },
    {
     "output_type": "stream",
     "name": "stderr",
     "text": [
      "DEBUG flwr 2023-04-12 14:00:56,860 | server.py:229 | fit_round 10 received 2 results and 0 failures\n"
     ]
    },
    {
     "output_type": "stream",
     "name": "stdout",
     "text": [
      "\t {'train_loss': 2.1852046847343445, 'train_accuracy': 0.6999999999999998}\n"
     ]
    },
    {
     "output_type": "stream",
     "name": "stderr",
     "text": [
      "INFO flwr 2023-04-12 14:01:06,693 | server.py:116 | fit progress: (10, 15.946919441223145, {'test_loss': 15.946919441223145, 'test_accuracy': 0.14}, 2015.5618894)\n",
      "DEBUG flwr 2023-04-12 14:01:06,693 | server.py:165 | evaluate_round 10: strategy sampled 2 clients (out of 5)\n",
      "DEBUG flwr 2023-04-12 14:01:12,848 | server.py:179 | evaluate_round 10 received 2 results and 0 failures\n",
      "DEBUG flwr 2023-04-12 14:01:12,848 | server.py:215 | fit_round 11: strategy sampled 2 clients (out of 5)\n"
     ]
    },
    {
     "output_type": "stream",
     "name": "stdout",
     "text": [
      "\t {'val_loss': 2.986670732498169, 'val_accuracy': 0.30000000000000004}\n"
     ]
    },
    {
     "output_type": "stream",
     "name": "stderr",
     "text": [
      "DEBUG flwr 2023-04-12 14:04:18,018 | server.py:229 | fit_round 11 received 2 results and 0 failures\n"
     ]
    },
    {
     "output_type": "stream",
     "name": "stdout",
     "text": [
      "\t {'train_loss': 2.5907782316207886, 'train_accuracy': 0.5527777777777777}\n"
     ]
    },
    {
     "output_type": "stream",
     "name": "stderr",
     "text": [
      "INFO flwr 2023-04-12 14:04:27,827 | server.py:116 | fit progress: (11, 13.391237258911133, {'test_loss': 13.391237258911133, 'test_accuracy': 0.29}, 2216.6963761000006)\n",
      "DEBUG flwr 2023-04-12 14:04:27,828 | server.py:165 | evaluate_round 11: strategy sampled 2 clients (out of 5)\n",
      "DEBUG flwr 2023-04-12 14:04:33,906 | server.py:179 | evaluate_round 11 received 2 results and 0 failures\n",
      "DEBUG flwr 2023-04-12 14:04:33,907 | server.py:215 | fit_round 12: strategy sampled 2 clients (out of 5)\n"
     ]
    },
    {
     "output_type": "stream",
     "name": "stdout",
     "text": [
      "\t {'val_loss': 3.264145016670227, 'val_accuracy': 0.25}\n"
     ]
    },
    {
     "output_type": "stream",
     "name": "stderr",
     "text": [
      "DEBUG flwr 2023-04-12 14:07:38,727 | server.py:229 | fit_round 12 received 2 results and 0 failures\n"
     ]
    },
    {
     "output_type": "stream",
     "name": "stdout",
     "text": [
      "\t {'train_loss': 2.006495237350464, 'train_accuracy': 0.8249999999999998}\n"
     ]
    },
    {
     "output_type": "stream",
     "name": "stderr",
     "text": [
      "INFO flwr 2023-04-12 14:07:48,497 | server.py:116 | fit progress: (12, 12.259109497070312, {'test_loss': 12.259109497070312, 'test_accuracy': 0.31}, 2417.3662643999996)\n",
      "DEBUG flwr 2023-04-12 14:07:48,498 | server.py:165 | evaluate_round 12: strategy sampled 2 clients (out of 5)\n",
      "DEBUG flwr 2023-04-12 14:07:54,627 | server.py:179 | evaluate_round 12 received 2 results and 0 failures\n",
      "DEBUG flwr 2023-04-12 14:07:54,628 | server.py:215 | fit_round 13: strategy sampled 2 clients (out of 5)\n"
     ]
    },
    {
     "output_type": "stream",
     "name": "stdout",
     "text": [
      "\t {'val_loss': 2.8988770246505737, 'val_accuracy': 0.35}\n"
     ]
    },
    {
     "output_type": "stream",
     "name": "stderr",
     "text": [
      "DEBUG flwr 2023-04-12 14:10:59,760 | server.py:229 | fit_round 13 received 2 results and 0 failures\n"
     ]
    },
    {
     "output_type": "stream",
     "name": "stdout",
     "text": [
      "\t {'train_loss': 1.887369155883789, 'train_accuracy': 0.7583333333333334}\n"
     ]
    },
    {
     "output_type": "stream",
     "name": "stderr",
     "text": [
      "INFO flwr 2023-04-12 14:11:09,625 | server.py:116 | fit progress: (13, 11.91295337677002, {'test_loss': 11.91295337677002, 'test_accuracy': 0.32}, 2618.4938669999974)\n",
      "DEBUG flwr 2023-04-12 14:11:09,625 | server.py:165 | evaluate_round 13: strategy sampled 2 clients (out of 5)\n",
      "DEBUG flwr 2023-04-12 14:11:15,712 | server.py:179 | evaluate_round 13 received 2 results and 0 failures\n",
      "DEBUG flwr 2023-04-12 14:11:15,713 | server.py:215 | fit_round 14: strategy sampled 2 clients (out of 5)\n"
     ]
    },
    {
     "output_type": "stream",
     "name": "stdout",
     "text": [
      "\t {'val_loss': 2.9220099449157715, 'val_accuracy': 0.44999999999999996}\n"
     ]
    },
    {
     "output_type": "stream",
     "name": "stderr",
     "text": [
      "DEBUG flwr 2023-04-12 14:14:21,065 | server.py:229 | fit_round 14 received 2 results and 0 failures\n"
     ]
    },
    {
     "output_type": "stream",
     "name": "stdout",
     "text": [
      "\t {'train_loss': 2.371220052242279, 'train_accuracy': 0.7527777777777778}\n"
     ]
    },
    {
     "output_type": "stream",
     "name": "stderr",
     "text": [
      "INFO flwr 2023-04-12 14:14:30,863 | server.py:116 | fit progress: (14, 13.62370491027832, {'test_loss': 13.62370491027832, 'test_accuracy': 0.29}, 2819.7321744)\n",
      "DEBUG flwr 2023-04-12 14:14:30,863 | server.py:165 | evaluate_round 14: strategy sampled 2 clients (out of 5)\n",
      "DEBUG flwr 2023-04-12 14:14:36,941 | server.py:179 | evaluate_round 14 received 2 results and 0 failures\n",
      "DEBUG flwr 2023-04-12 14:14:36,941 | server.py:215 | fit_round 15: strategy sampled 2 clients (out of 5)\n"
     ]
    },
    {
     "output_type": "stream",
     "name": "stdout",
     "text": [
      "\t {'val_loss': 2.233611047267914, 'val_accuracy': 0.55}\n"
     ]
    },
    {
     "output_type": "stream",
     "name": "stderr",
     "text": [
      "DEBUG flwr 2023-04-12 14:17:41,770 | server.py:229 | fit_round 15 received 2 results and 0 failures\n"
     ]
    },
    {
     "output_type": "stream",
     "name": "stdout",
     "text": [
      "\t {'train_loss': 1.8626269698143005, 'train_accuracy': 0.8249999999999998}\n"
     ]
    },
    {
     "output_type": "stream",
     "name": "stderr",
     "text": [
      "INFO flwr 2023-04-12 14:17:51,526 | server.py:116 | fit progress: (15, 12.456521034240723, {'test_loss': 12.456521034240723, 'test_accuracy': 0.36}, 3020.3952377000023)\n",
      "DEBUG flwr 2023-04-12 14:17:51,527 | server.py:165 | evaluate_round 15: strategy sampled 2 clients (out of 5)\n",
      "DEBUG flwr 2023-04-12 14:17:58,074 | server.py:179 | evaluate_round 15 received 2 results and 0 failures\n",
      "DEBUG flwr 2023-04-12 14:17:58,075 | server.py:215 | fit_round 16: strategy sampled 2 clients (out of 5)\n"
     ]
    },
    {
     "output_type": "stream",
     "name": "stdout",
     "text": [
      "\t {'val_loss': 2.8786648511886597, 'val_accuracy': 0.4}\n"
     ]
    },
    {
     "output_type": "stream",
     "name": "stderr",
     "text": [
      "DEBUG flwr 2023-04-12 14:21:02,726 | server.py:229 | fit_round 16 received 2 results and 0 failures\n"
     ]
    },
    {
     "output_type": "stream",
     "name": "stdout",
     "text": [
      "\t {'train_loss': 1.1804630756378174, 'train_accuracy': 0.9666666666666667}\n"
     ]
    },
    {
     "output_type": "stream",
     "name": "stderr",
     "text": [
      "INFO flwr 2023-04-12 14:21:12,472 | server.py:116 | fit progress: (16, 12.52479362487793, {'test_loss': 12.52479362487793, 'test_accuracy': 0.36}, 3221.3413424000028)\n",
      "DEBUG flwr 2023-04-12 14:21:12,473 | server.py:165 | evaluate_round 16: strategy sampled 2 clients (out of 5)\n",
      "DEBUG flwr 2023-04-12 14:21:18,564 | server.py:179 | evaluate_round 16 received 2 results and 0 failures\n",
      "DEBUG flwr 2023-04-12 14:21:18,565 | server.py:215 | fit_round 17: strategy sampled 2 clients (out of 5)\n"
     ]
    },
    {
     "output_type": "stream",
     "name": "stdout",
     "text": [
      "\t {'val_loss': 2.77590811252594, 'val_accuracy': 0.4}\n"
     ]
    },
    {
     "output_type": "stream",
     "name": "stderr",
     "text": [
      "DEBUG flwr 2023-04-12 14:24:23,745 | server.py:229 | fit_round 17 received 2 results and 0 failures\n"
     ]
    },
    {
     "output_type": "stream",
     "name": "stdout",
     "text": [
      "\t {'train_loss': 0.8642189204692841, 'train_accuracy': 0.9805555555555555}\n"
     ]
    },
    {
     "output_type": "stream",
     "name": "stderr",
     "text": [
      "INFO flwr 2023-04-12 14:24:33,531 | server.py:116 | fit progress: (17, 12.52561092376709, {'test_loss': 12.52561092376709, 'test_accuracy': 0.33}, 3422.4001910000006)\n",
      "DEBUG flwr 2023-04-12 14:24:33,532 | server.py:165 | evaluate_round 17: strategy sampled 2 clients (out of 5)\n",
      "DEBUG flwr 2023-04-12 14:24:39,573 | server.py:179 | evaluate_round 17 received 2 results and 0 failures\n",
      "DEBUG flwr 2023-04-12 14:24:39,573 | server.py:215 | fit_round 18: strategy sampled 2 clients (out of 5)\n"
     ]
    },
    {
     "output_type": "stream",
     "name": "stdout",
     "text": [
      "\t {'val_loss': 2.739793062210083, 'val_accuracy': 0.4}\n"
     ]
    },
    {
     "output_type": "stream",
     "name": "stderr",
     "text": [
      "DEBUG flwr 2023-04-12 14:27:44,818 | server.py:229 | fit_round 18 received 2 results and 0 failures\n"
     ]
    },
    {
     "output_type": "stream",
     "name": "stdout",
     "text": [
      "\t {'train_loss': 0.5981347560882568, 'train_accuracy': 0.9972222222222222}\n"
     ]
    },
    {
     "output_type": "stream",
     "name": "stderr",
     "text": [
      "INFO flwr 2023-04-12 14:27:54,534 | server.py:116 | fit progress: (18, 12.187338829040527, {'test_loss': 12.187338829040527, 'test_accuracy': 0.3}, 3623.402561499999)\n",
      "DEBUG flwr 2023-04-12 14:27:54,534 | server.py:165 | evaluate_round 18: strategy sampled 2 clients (out of 5)\n",
      "DEBUG flwr 2023-04-12 14:28:00,798 | server.py:179 | evaluate_round 18 received 2 results and 0 failures\n",
      "DEBUG flwr 2023-04-12 14:28:00,799 | server.py:215 | fit_round 19: strategy sampled 2 clients (out of 5)\n"
     ]
    },
    {
     "output_type": "stream",
     "name": "stdout",
     "text": [
      "\t {'val_loss': 1.700264811515808, 'val_accuracy': 0.6499999999999999}\n"
     ]
    },
    {
     "output_type": "stream",
     "name": "stderr",
     "text": [
      "DEBUG flwr 2023-04-12 14:31:05,438 | server.py:229 | fit_round 19 received 2 results and 0 failures\n"
     ]
    },
    {
     "output_type": "stream",
     "name": "stdout",
     "text": [
      "\t {'train_loss': 1.0582741647958755, 'train_accuracy': 0.8805555555555555}\n"
     ]
    },
    {
     "output_type": "stream",
     "name": "stderr",
     "text": [
      "INFO flwr 2023-04-12 14:31:15,139 | server.py:116 | fit progress: (19, 12.40915298461914, {'test_loss': 12.40915298461914, 'test_accuracy': 0.34}, 3824.0093675000026)\n",
      "DEBUG flwr 2023-04-12 14:31:15,141 | server.py:165 | evaluate_round 19: strategy sampled 2 clients (out of 5)\n",
      "DEBUG flwr 2023-04-12 14:31:21,215 | server.py:179 | evaluate_round 19 received 2 results and 0 failures\n",
      "DEBUG flwr 2023-04-12 14:31:21,216 | server.py:215 | fit_round 20: strategy sampled 2 clients (out of 5)\n"
     ]
    },
    {
     "output_type": "stream",
     "name": "stdout",
     "text": [
      "\t {'val_loss': 2.8228840231895447, 'val_accuracy': 0.4}\n"
     ]
    },
    {
     "output_type": "stream",
     "name": "stderr",
     "text": [
      "DEBUG flwr 2023-04-12 14:34:25,831 | server.py:229 | fit_round 20 received 2 results and 0 failures\n"
     ]
    },
    {
     "output_type": "stream",
     "name": "stdout",
     "text": [
      "\t {'train_loss': 0.8164527714252472, 'train_accuracy': 0.9472222222222223}\n"
     ]
    },
    {
     "output_type": "stream",
     "name": "stderr",
     "text": [
      "INFO flwr 2023-04-12 14:34:35,576 | server.py:116 | fit progress: (20, 12.065786361694336, {'test_loss': 12.065786361694336, 'test_accuracy': 0.38}, 4024.445204900003)\n",
      "DEBUG flwr 2023-04-12 14:34:35,576 | server.py:165 | evaluate_round 20: strategy sampled 2 clients (out of 5)\n",
      "DEBUG flwr 2023-04-12 14:34:41,629 | server.py:179 | evaluate_round 20 received 2 results and 0 failures\n",
      "DEBUG flwr 2023-04-12 14:34:41,630 | server.py:215 | fit_round 21: strategy sampled 2 clients (out of 5)\n"
     ]
    },
    {
     "output_type": "stream",
     "name": "stdout",
     "text": [
      "\t {'val_loss': 3.429858446121216, 'val_accuracy': 0.2}\n"
     ]
    },
    {
     "output_type": "stream",
     "name": "stderr",
     "text": [
      "DEBUG flwr 2023-04-12 14:37:46,348 | server.py:229 | fit_round 21 received 2 results and 0 failures\n"
     ]
    },
    {
     "output_type": "stream",
     "name": "stdout",
     "text": [
      "\t {'train_loss': 0.9306292235851288, 'train_accuracy': 0.9805555555555555}\n"
     ]
    },
    {
     "output_type": "stream",
     "name": "stderr",
     "text": [
      "INFO flwr 2023-04-12 14:37:56,131 | server.py:116 | fit progress: (21, 10.306049346923828, {'test_loss': 10.306049346923828, 'test_accuracy': 0.34}, 4225.000195699999)\n",
      "DEBUG flwr 2023-04-12 14:37:56,132 | server.py:165 | evaluate_round 21: strategy sampled 2 clients (out of 5)\n",
      "DEBUG flwr 2023-04-12 14:38:02,120 | server.py:179 | evaluate_round 21 received 2 results and 0 failures\n",
      "DEBUG flwr 2023-04-12 14:38:02,121 | server.py:215 | fit_round 22: strategy sampled 2 clients (out of 5)\n"
     ]
    },
    {
     "output_type": "stream",
     "name": "stdout",
     "text": [
      "\t {'val_loss': 2.2207454442977905, 'val_accuracy': 0.44999999999999996}\n"
     ]
    },
    {
     "output_type": "stream",
     "name": "stderr",
     "text": [
      "DEBUG flwr 2023-04-12 14:41:06,880 | server.py:229 | fit_round 22 received 2 results and 0 failures\n"
     ]
    },
    {
     "output_type": "stream",
     "name": "stdout",
     "text": [
      "\t {'train_loss': 1.068863496184349, 'train_accuracy': 0.8861111111111111}\n"
     ]
    },
    {
     "output_type": "stream",
     "name": "stderr",
     "text": [
      "INFO flwr 2023-04-12 14:41:16,583 | server.py:116 | fit progress: (22, 11.964591979980469, {'test_loss': 11.964591979980469, 'test_accuracy': 0.37}, 4425.451831099999)\n",
      "DEBUG flwr 2023-04-12 14:41:16,583 | server.py:165 | evaluate_round 22: strategy sampled 2 clients (out of 5)\n",
      "DEBUG flwr 2023-04-12 14:41:22,662 | server.py:179 | evaluate_round 22 received 2 results and 0 failures\n",
      "DEBUG flwr 2023-04-12 14:41:22,662 | server.py:215 | fit_round 23: strategy sampled 2 clients (out of 5)\n"
     ]
    },
    {
     "output_type": "stream",
     "name": "stdout",
     "text": [
      "\t {'val_loss': 2.279095947742462, 'val_accuracy': 0.5}\n"
     ]
    },
    {
     "output_type": "stream",
     "name": "stderr",
     "text": [
      "DEBUG flwr 2023-04-12 14:44:26,661 | server.py:229 | fit_round 23 received 2 results and 0 failures\n"
     ]
    },
    {
     "output_type": "stream",
     "name": "stdout",
     "text": [
      "\t {'train_loss': 0.4163960963487625, 'train_accuracy': 0.9944444444444445}\n"
     ]
    },
    {
     "output_type": "stream",
     "name": "stderr",
     "text": [
      "INFO flwr 2023-04-12 14:44:36,430 | server.py:116 | fit progress: (23, 11.661713600158691, {'test_loss': 11.661713600158691, 'test_accuracy': 0.34}, 4625.2993623000075)\n",
      "DEBUG flwr 2023-04-12 14:44:36,431 | server.py:165 | evaluate_round 23: strategy sampled 2 clients (out of 5)\n",
      "DEBUG flwr 2023-04-12 14:44:42,428 | server.py:179 | evaluate_round 23 received 2 results and 0 failures\n",
      "DEBUG flwr 2023-04-12 14:44:42,429 | server.py:215 | fit_round 24: strategy sampled 2 clients (out of 5)\n"
     ]
    },
    {
     "output_type": "stream",
     "name": "stdout",
     "text": [
      "\t {'val_loss': 3.3466897010803223, 'val_accuracy': 0.2}\n"
     ]
    },
    {
     "output_type": "stream",
     "name": "stderr",
     "text": [
      "DEBUG flwr 2023-04-12 14:47:47,292 | server.py:229 | fit_round 24 received 2 results and 0 failures\n"
     ]
    },
    {
     "output_type": "stream",
     "name": "stdout",
     "text": [
      "\t {'train_loss': 0.3318684995174408, 'train_accuracy': 0.9944444444444445}\n"
     ]
    },
    {
     "output_type": "stream",
     "name": "stderr",
     "text": [
      "INFO flwr 2023-04-12 14:47:57,022 | server.py:116 | fit progress: (24, 10.071250915527344, {'test_loss': 10.071250915527344, 'test_accuracy': 0.4}, 4825.891779400001)\n",
      "DEBUG flwr 2023-04-12 14:47:57,023 | server.py:165 | evaluate_round 24: strategy sampled 2 clients (out of 5)\n",
      "DEBUG flwr 2023-04-12 14:48:03,112 | server.py:179 | evaluate_round 24 received 2 results and 0 failures\n",
      "DEBUG flwr 2023-04-12 14:48:03,113 | server.py:215 | fit_round 25: strategy sampled 2 clients (out of 5)\n"
     ]
    },
    {
     "output_type": "stream",
     "name": "stdout",
     "text": [
      "\t {'val_loss': 2.0371123552322388, 'val_accuracy': 0.44999999999999996}\n"
     ]
    },
    {
     "output_type": "stream",
     "name": "stderr",
     "text": [
      "DEBUG flwr 2023-04-12 14:51:07,458 | server.py:229 | fit_round 25 received 2 results and 0 failures\n"
     ]
    },
    {
     "output_type": "stream",
     "name": "stdout",
     "text": [
      "\t {'train_loss': 0.7217489033937454, 'train_accuracy': 0.9611111111111111}\n"
     ]
    },
    {
     "output_type": "stream",
     "name": "stderr",
     "text": [
      "INFO flwr 2023-04-12 14:51:17,278 | server.py:116 | fit progress: (25, 9.657840728759766, {'test_loss': 9.657840728759766, 'test_accuracy': 0.41}, 5026.147370699997)\n",
      "DEBUG flwr 2023-04-12 14:51:17,279 | server.py:165 | evaluate_round 25: strategy sampled 2 clients (out of 5)\n",
      "DEBUG flwr 2023-04-12 14:51:23,289 | server.py:179 | evaluate_round 25 received 2 results and 0 failures\n",
      "DEBUG flwr 2023-04-12 14:51:23,289 | server.py:215 | fit_round 26: strategy sampled 2 clients (out of 5)\n"
     ]
    },
    {
     "output_type": "stream",
     "name": "stdout",
     "text": [
      "\t {'val_loss': 2.5452767610549927, 'val_accuracy': 0.3}\n"
     ]
    },
    {
     "output_type": "stream",
     "name": "stderr",
     "text": [
      "DEBUG flwr 2023-04-12 14:54:28,257 | server.py:229 | fit_round 26 received 2 results and 0 failures\n"
     ]
    },
    {
     "output_type": "stream",
     "name": "stdout",
     "text": [
      "\t {'train_loss': 0.23434361815452576, 'train_accuracy': 1.0}\n"
     ]
    },
    {
     "output_type": "stream",
     "name": "stderr",
     "text": [
      "INFO flwr 2023-04-12 14:54:38,038 | server.py:116 | fit progress: (26, 10.069191932678223, {'test_loss': 10.069191932678223, 'test_accuracy': 0.43}, 5226.907256999999)\n",
      "DEBUG flwr 2023-04-12 14:54:38,038 | server.py:165 | evaluate_round 26: strategy sampled 2 clients (out of 5)\n",
      "DEBUG flwr 2023-04-12 14:54:44,153 | server.py:179 | evaluate_round 26 received 2 results and 0 failures\n",
      "DEBUG flwr 2023-04-12 14:54:44,153 | server.py:215 | fit_round 27: strategy sampled 2 clients (out of 5)\n"
     ]
    },
    {
     "output_type": "stream",
     "name": "stdout",
     "text": [
      "\t {'val_loss': 3.060934901237488, 'val_accuracy': 0.3}\n"
     ]
    },
    {
     "output_type": "stream",
     "name": "stderr",
     "text": [
      "DEBUG flwr 2023-04-12 14:57:48,563 | server.py:229 | fit_round 27 received 2 results and 0 failures\n"
     ]
    },
    {
     "output_type": "stream",
     "name": "stdout",
     "text": [
      "\t {'train_loss': 0.4331066384911537, 'train_accuracy': 0.9777777777777779}\n"
     ]
    },
    {
     "output_type": "stream",
     "name": "stderr",
     "text": [
      "INFO flwr 2023-04-12 14:57:58,351 | server.py:116 | fit progress: (27, 10.556581497192383, {'test_loss': 10.556581497192383, 'test_accuracy': 0.4}, 5427.220369899995)\n",
      "DEBUG flwr 2023-04-12 14:57:58,352 | server.py:165 | evaluate_round 27: strategy sampled 2 clients (out of 5)\n",
      "DEBUG flwr 2023-04-12 14:58:04,576 | server.py:179 | evaluate_round 27 received 2 results and 0 failures\n",
      "DEBUG flwr 2023-04-12 14:58:04,577 | server.py:215 | fit_round 28: strategy sampled 2 clients (out of 5)\n"
     ]
    },
    {
     "output_type": "stream",
     "name": "stdout",
     "text": [
      "\t {'val_loss': 2.931700587272644, 'val_accuracy': 0.3}\n"
     ]
    },
    {
     "output_type": "stream",
     "name": "stderr",
     "text": [
      "DEBUG flwr 2023-04-12 15:01:09,763 | server.py:229 | fit_round 28 received 2 results and 0 failures\n"
     ]
    },
    {
     "output_type": "stream",
     "name": "stdout",
     "text": [
      "\t {'train_loss': 0.1011619595810771, 'train_accuracy': 1.0}\n"
     ]
    },
    {
     "output_type": "stream",
     "name": "stderr",
     "text": [
      "INFO flwr 2023-04-12 15:01:19,519 | server.py:116 | fit progress: (28, 9.290517807006836, {'test_loss': 9.290517807006836, 'test_accuracy': 0.46}, 5628.388186800003)\n",
      "DEBUG flwr 2023-04-12 15:01:19,519 | server.py:165 | evaluate_round 28: strategy sampled 2 clients (out of 5)\n",
      "DEBUG flwr 2023-04-12 15:01:25,654 | server.py:179 | evaluate_round 28 received 2 results and 0 failures\n",
      "DEBUG flwr 2023-04-12 15:01:25,655 | server.py:215 | fit_round 29: strategy sampled 2 clients (out of 5)\n"
     ]
    },
    {
     "output_type": "stream",
     "name": "stdout",
     "text": [
      "\t {'val_loss': 1.6140323281288147, 'val_accuracy': 0.55}\n"
     ]
    },
    {
     "output_type": "stream",
     "name": "stderr",
     "text": [
      "DEBUG flwr 2023-04-12 15:04:30,886 | server.py:229 | fit_round 29 received 2 results and 0 failures\n"
     ]
    },
    {
     "output_type": "stream",
     "name": "stdout",
     "text": [
      "\t {'train_loss': 0.07400553487241268, 'train_accuracy': 1.0}\n"
     ]
    },
    {
     "output_type": "stream",
     "name": "stderr",
     "text": [
      "INFO flwr 2023-04-12 15:04:40,631 | server.py:116 | fit progress: (29, 9.852106094360352, {'test_loss': 9.852106094360352, 'test_accuracy': 0.41}, 5829.499889700004)\n",
      "DEBUG flwr 2023-04-12 15:04:40,631 | server.py:165 | evaluate_round 29: strategy sampled 2 clients (out of 5)\n",
      "DEBUG flwr 2023-04-12 15:04:46,716 | server.py:179 | evaluate_round 29 received 2 results and 0 failures\n",
      "DEBUG flwr 2023-04-12 15:04:46,717 | server.py:215 | fit_round 30: strategy sampled 2 clients (out of 5)\n"
     ]
    },
    {
     "output_type": "stream",
     "name": "stdout",
     "text": [
      "\t {'val_loss': 2.190836191177368, 'val_accuracy': 0.55}\n"
     ]
    },
    {
     "output_type": "stream",
     "name": "stderr",
     "text": [
      "DEBUG flwr 2023-04-12 15:07:51,418 | server.py:229 | fit_round 30 received 2 results and 0 failures\n"
     ]
    },
    {
     "output_type": "stream",
     "name": "stdout",
     "text": [
      "\t {'train_loss': 0.054000101052224636, 'train_accuracy': 1.0}\n"
     ]
    },
    {
     "output_type": "stream",
     "name": "stderr",
     "text": [
      "INFO flwr 2023-04-12 15:08:01,145 | server.py:116 | fit progress: (30, 10.170576095581055, {'test_loss': 10.170576095581055, 'test_accuracy': 0.4}, 6030.0145949)\n",
      "DEBUG flwr 2023-04-12 15:08:01,146 | server.py:165 | evaluate_round 30: strategy sampled 2 clients (out of 5)\n",
      "DEBUG flwr 2023-04-12 15:08:07,335 | server.py:179 | evaluate_round 30 received 2 results and 0 failures\n",
      "DEBUG flwr 2023-04-12 15:08:07,335 | server.py:215 | fit_round 31: strategy sampled 2 clients (out of 5)\n"
     ]
    },
    {
     "output_type": "stream",
     "name": "stdout",
     "text": [
      "\t {'val_loss': 1.881341964006424, 'val_accuracy': 0.55}\n"
     ]
    },
    {
     "output_type": "stream",
     "name": "stderr",
     "text": [
      "DEBUG flwr 2023-04-12 15:11:12,228 | server.py:229 | fit_round 31 received 2 results and 0 failures\n"
     ]
    },
    {
     "output_type": "stream",
     "name": "stdout",
     "text": [
      "\t {'train_loss': 0.04602297954261303, 'train_accuracy': 1.0}\n"
     ]
    },
    {
     "output_type": "stream",
     "name": "stderr",
     "text": [
      "INFO flwr 2023-04-12 15:11:22,072 | server.py:116 | fit progress: (31, 9.67131519317627, {'test_loss': 9.67131519317627, 'test_accuracy': 0.46}, 6230.941257700004)\n",
      "DEBUG flwr 2023-04-12 15:11:22,072 | server.py:165 | evaluate_round 31: strategy sampled 2 clients (out of 5)\n",
      "DEBUG flwr 2023-04-12 15:11:28,253 | server.py:179 | evaluate_round 31 received 2 results and 0 failures\n",
      "DEBUG flwr 2023-04-12 15:11:28,253 | server.py:215 | fit_round 32: strategy sampled 2 clients (out of 5)\n"
     ]
    },
    {
     "output_type": "stream",
     "name": "stdout",
     "text": [
      "\t {'val_loss': 3.122158646583557, 'val_accuracy': 0.25}\n"
     ]
    },
    {
     "output_type": "stream",
     "name": "stderr",
     "text": [
      "DEBUG flwr 2023-04-12 15:14:34,675 | server.py:229 | fit_round 32 received 2 results and 0 failures\n"
     ]
    },
    {
     "output_type": "stream",
     "name": "stdout",
     "text": [
      "\t {'train_loss': 0.047793623292818666, 'train_accuracy': 1.0}\n"
     ]
    },
    {
     "output_type": "stream",
     "name": "stderr",
     "text": [
      "INFO flwr 2023-04-12 15:14:44,383 | server.py:116 | fit progress: (32, 8.881855010986328, {'test_loss': 8.881855010986328, 'test_accuracy': 0.46}, 6433.2520638999995)\n",
      "DEBUG flwr 2023-04-12 15:14:44,383 | server.py:165 | evaluate_round 32: strategy sampled 2 clients (out of 5)\n",
      "DEBUG flwr 2023-04-12 15:14:50,454 | server.py:179 | evaluate_round 32 received 2 results and 0 failures\n",
      "DEBUG flwr 2023-04-12 15:14:50,456 | server.py:215 | fit_round 33: strategy sampled 2 clients (out of 5)\n"
     ]
    },
    {
     "output_type": "stream",
     "name": "stdout",
     "text": [
      "\t {'val_loss': 2.5388011932373047, 'val_accuracy': 0.3}\n"
     ]
    },
    {
     "output_type": "stream",
     "name": "stderr",
     "text": [
      "DEBUG flwr 2023-04-12 15:17:55,793 | server.py:229 | fit_round 33 received 2 results and 0 failures\n"
     ]
    },
    {
     "output_type": "stream",
     "name": "stdout",
     "text": [
      "\t {'train_loss': 0.012666993075981736, 'train_accuracy': 1.0}\n"
     ]
    },
    {
     "output_type": "stream",
     "name": "stderr",
     "text": [
      "INFO flwr 2023-04-12 15:18:05,577 | server.py:116 | fit progress: (33, 9.483470916748047, {'test_loss': 9.483470916748047, 'test_accuracy': 0.42}, 6634.445798999994)\n",
      "DEBUG flwr 2023-04-12 15:18:05,577 | server.py:165 | evaluate_round 33: strategy sampled 2 clients (out of 5)\n",
      "DEBUG flwr 2023-04-12 15:18:11,669 | server.py:179 | evaluate_round 33 received 2 results and 0 failures\n",
      "DEBUG flwr 2023-04-12 15:18:11,670 | server.py:215 | fit_round 34: strategy sampled 2 clients (out of 5)\n"
     ]
    },
    {
     "output_type": "stream",
     "name": "stdout",
     "text": [
      "\t {'val_loss': 2.3132851123809814, 'val_accuracy': 0.55}\n"
     ]
    },
    {
     "output_type": "stream",
     "name": "stderr",
     "text": [
      "DEBUG flwr 2023-04-12 15:21:16,975 | server.py:229 | fit_round 34 received 2 results and 0 failures\n"
     ]
    },
    {
     "output_type": "stream",
     "name": "stdout",
     "text": [
      "\t {'train_loss': 0.022506331093609333, 'train_accuracy': 1.0}\n"
     ]
    },
    {
     "output_type": "stream",
     "name": "stderr",
     "text": [
      "INFO flwr 2023-04-12 15:21:26,732 | server.py:116 | fit progress: (34, 8.76531982421875, {'test_loss': 8.76531982421875, 'test_accuracy': 0.41}, 6835.601320600006)\n",
      "DEBUG flwr 2023-04-12 15:21:26,733 | server.py:165 | evaluate_round 34: strategy sampled 2 clients (out of 5)\n",
      "DEBUG flwr 2023-04-12 15:21:32,873 | server.py:179 | evaluate_round 34 received 2 results and 0 failures\n",
      "DEBUG flwr 2023-04-12 15:21:32,874 | server.py:215 | fit_round 35: strategy sampled 2 clients (out of 5)\n"
     ]
    },
    {
     "output_type": "stream",
     "name": "stdout",
     "text": [
      "\t {'val_loss': 2.5846643447875977, 'val_accuracy': 0.35}\n"
     ]
    },
    {
     "output_type": "stream",
     "name": "stderr",
     "text": [
      "DEBUG flwr 2023-04-12 15:24:38,530 | server.py:229 | fit_round 35 received 2 results and 0 failures\n"
     ]
    },
    {
     "output_type": "stream",
     "name": "stdout",
     "text": [
      "\t {'train_loss': 0.015811994671821594, 'train_accuracy': 1.0}\n"
     ]
    },
    {
     "output_type": "stream",
     "name": "stderr",
     "text": [
      "INFO flwr 2023-04-12 15:24:48,368 | server.py:116 | fit progress: (35, 8.70042610168457, {'test_loss': 8.70042610168457, 'test_accuracy': 0.42}, 7037.236742099994)\n",
      "DEBUG flwr 2023-04-12 15:24:48,368 | server.py:165 | evaluate_round 35: strategy sampled 2 clients (out of 5)\n",
      "DEBUG flwr 2023-04-12 15:24:54,430 | server.py:179 | evaluate_round 35 received 2 results and 0 failures\n",
      "DEBUG flwr 2023-04-12 15:24:54,432 | server.py:215 | fit_round 36: strategy sampled 2 clients (out of 5)\n"
     ]
    },
    {
     "output_type": "stream",
     "name": "stdout",
     "text": [
      "\t {'val_loss': 2.494879722595215, 'val_accuracy': 0.44999999999999996}\n"
     ]
    },
    {
     "output_type": "stream",
     "name": "stderr",
     "text": [
      "DEBUG flwr 2023-04-12 15:27:59,699 | server.py:229 | fit_round 36 received 2 results and 0 failures\n"
     ]
    },
    {
     "output_type": "stream",
     "name": "stdout",
     "text": [
      "\t {'train_loss': 0.0036025781591888517, 'train_accuracy': 1.0}\n"
     ]
    },
    {
     "output_type": "stream",
     "name": "stderr",
     "text": [
      "INFO flwr 2023-04-12 15:28:09,542 | server.py:116 | fit progress: (36, 8.846168518066406, {'test_loss': 8.846168518066406, 'test_accuracy': 0.43}, 7238.411440700002)\n",
      "DEBUG flwr 2023-04-12 15:28:09,543 | server.py:165 | evaluate_round 36: strategy sampled 2 clients (out of 5)\n",
      "DEBUG flwr 2023-04-12 15:28:15,575 | server.py:179 | evaluate_round 36 received 2 results and 0 failures\n",
      "DEBUG flwr 2023-04-12 15:28:15,576 | server.py:215 | fit_round 37: strategy sampled 2 clients (out of 5)\n"
     ]
    },
    {
     "output_type": "stream",
     "name": "stdout",
     "text": [
      "\t {'val_loss': 1.8649590462446213, 'val_accuracy': 0.6}\n"
     ]
    },
    {
     "output_type": "stream",
     "name": "stderr",
     "text": [
      "DEBUG flwr 2023-04-12 15:31:22,771 | server.py:229 | fit_round 37 received 2 results and 0 failures\n"
     ]
    },
    {
     "output_type": "stream",
     "name": "stdout",
     "text": [
      "\t {'train_loss': 0.007764307607430965, 'train_accuracy': 1.0}\n"
     ]
    },
    {
     "output_type": "stream",
     "name": "stderr",
     "text": [
      "INFO flwr 2023-04-12 15:31:32,778 | server.py:116 | fit progress: (37, 8.57158088684082, {'test_loss': 8.57158088684082, 'test_accuracy': 0.45}, 7441.646729200002)\n",
      "DEBUG flwr 2023-04-12 15:31:32,778 | server.py:165 | evaluate_round 37: strategy sampled 2 clients (out of 5)\n",
      "DEBUG flwr 2023-04-12 15:31:39,363 | server.py:179 | evaluate_round 37 received 2 results and 0 failures\n",
      "DEBUG flwr 2023-04-12 15:31:39,364 | server.py:215 | fit_round 38: strategy sampled 2 clients (out of 5)\n"
     ]
    },
    {
     "output_type": "stream",
     "name": "stdout",
     "text": [
      "\t {'val_loss': 2.223478674888611, 'val_accuracy': 0.55}\n"
     ]
    },
    {
     "output_type": "stream",
     "name": "stderr",
     "text": [
      "DEBUG flwr 2023-04-12 15:34:46,689 | server.py:229 | fit_round 38 received 2 results and 0 failures\n"
     ]
    },
    {
     "output_type": "stream",
     "name": "stdout",
     "text": [
      "\t {'train_loss': 0.001213019058923237, 'train_accuracy': 1.0}\n"
     ]
    },
    {
     "output_type": "stream",
     "name": "stderr",
     "text": [
      "INFO flwr 2023-04-12 15:34:56,474 | server.py:116 | fit progress: (38, 8.792218208312988, {'test_loss': 8.792218208312988, 'test_accuracy': 0.42}, 7645.343087200003)\n",
      "DEBUG flwr 2023-04-12 15:34:56,474 | server.py:165 | evaluate_round 38: strategy sampled 2 clients (out of 5)\n",
      "DEBUG flwr 2023-04-12 15:35:02,497 | server.py:179 | evaluate_round 38 received 2 results and 0 failures\n",
      "DEBUG flwr 2023-04-12 15:35:02,498 | server.py:215 | fit_round 39: strategy sampled 2 clients (out of 5)\n"
     ]
    },
    {
     "output_type": "stream",
     "name": "stdout",
     "text": [
      "\t {'val_loss': 0.8960552513599396, 'val_accuracy': 0.8}\n"
     ]
    },
    {
     "output_type": "stream",
     "name": "stderr",
     "text": [
      "DEBUG flwr 2023-04-12 15:38:07,463 | server.py:229 | fit_round 39 received 2 results and 0 failures\n"
     ]
    },
    {
     "output_type": "stream",
     "name": "stdout",
     "text": [
      "\t {'train_loss': 0.28588413214311004, 'train_accuracy': 0.9833333333333334}\n"
     ]
    },
    {
     "output_type": "stream",
     "name": "stderr",
     "text": [
      "INFO flwr 2023-04-12 15:38:17,167 | server.py:116 | fit progress: (39, 8.601691246032715, {'test_loss': 8.601691246032715, 'test_accuracy': 0.47}, 7846.036156300004)\n",
      "DEBUG flwr 2023-04-12 15:38:17,169 | server.py:165 | evaluate_round 39: strategy sampled 2 clients (out of 5)\n",
      "DEBUG flwr 2023-04-12 15:38:23,322 | server.py:179 | evaluate_round 39 received 2 results and 0 failures\n",
      "DEBUG flwr 2023-04-12 15:38:23,323 | server.py:215 | fit_round 40: strategy sampled 2 clients (out of 5)\n"
     ]
    },
    {
     "output_type": "stream",
     "name": "stdout",
     "text": [
      "\t {'val_loss': 1.3621428608894348, 'val_accuracy': 0.75}\n"
     ]
    },
    {
     "output_type": "stream",
     "name": "stderr",
     "text": [
      "DEBUG flwr 2023-04-12 15:41:28,704 | server.py:229 | fit_round 40 received 2 results and 0 failures\n"
     ]
    },
    {
     "output_type": "stream",
     "name": "stdout",
     "text": [
      "\t {'train_loss': 0.0013308535926626064, 'train_accuracy': 1.0}\n"
     ]
    },
    {
     "output_type": "stream",
     "name": "stderr",
     "text": [
      "INFO flwr 2023-04-12 15:41:38,517 | server.py:116 | fit progress: (40, 8.47653579711914, {'test_loss': 8.47653579711914, 'test_accuracy': 0.45}, 8047.386518400002)\n",
      "DEBUG flwr 2023-04-12 15:41:38,518 | server.py:165 | evaluate_round 40: strategy sampled 2 clients (out of 5)\n",
      "DEBUG flwr 2023-04-12 15:41:44,746 | server.py:179 | evaluate_round 40 received 2 results and 0 failures\n",
      "DEBUG flwr 2023-04-12 15:41:44,747 | server.py:215 | fit_round 41: strategy sampled 2 clients (out of 5)\n"
     ]
    },
    {
     "output_type": "stream",
     "name": "stdout",
     "text": [
      "\t {'val_loss': 1.7784392833709717, 'val_accuracy': 0.55}\n"
     ]
    },
    {
     "output_type": "stream",
     "name": "stderr",
     "text": [
      "DEBUG flwr 2023-04-12 15:44:49,737 | server.py:229 | fit_round 41 received 2 results and 0 failures\n"
     ]
    },
    {
     "output_type": "stream",
     "name": "stdout",
     "text": [
      "\t {'train_loss': 0.16436973318923265, 'train_accuracy': 0.9944444444444445}\n"
     ]
    },
    {
     "output_type": "stream",
     "name": "stderr",
     "text": [
      "INFO flwr 2023-04-12 15:44:59,493 | server.py:116 | fit progress: (41, 8.13405704498291, {'test_loss': 8.13405704498291, 'test_accuracy': 0.47}, 8248.362199900002)\n",
      "DEBUG flwr 2023-04-12 15:44:59,494 | server.py:165 | evaluate_round 41: strategy sampled 2 clients (out of 5)\n",
      "DEBUG flwr 2023-04-12 15:45:05,640 | server.py:179 | evaluate_round 41 received 2 results and 0 failures\n",
      "DEBUG flwr 2023-04-12 15:45:05,641 | server.py:215 | fit_round 42: strategy sampled 2 clients (out of 5)\n"
     ]
    },
    {
     "output_type": "stream",
     "name": "stdout",
     "text": [
      "\t {'val_loss': 2.6743297576904297, 'val_accuracy': 0.4}\n"
     ]
    },
    {
     "output_type": "stream",
     "name": "stderr",
     "text": [
      "DEBUG flwr 2023-04-12 15:48:10,857 | server.py:229 | fit_round 42 received 2 results and 0 failures\n"
     ]
    },
    {
     "output_type": "stream",
     "name": "stdout",
     "text": [
      "\t {'train_loss': 0.08461723182699643, 'train_accuracy': 1.0}\n"
     ]
    },
    {
     "output_type": "stream",
     "name": "stderr",
     "text": [
      "INFO flwr 2023-04-12 15:48:20,632 | server.py:116 | fit progress: (42, 8.71262264251709, {'test_loss': 8.71262264251709, 'test_accuracy': 0.44}, 8449.501399400004)\n",
      "DEBUG flwr 2023-04-12 15:48:20,633 | server.py:165 | evaluate_round 42: strategy sampled 2 clients (out of 5)\n",
      "DEBUG flwr 2023-04-12 15:48:26,749 | server.py:179 | evaluate_round 42 received 2 results and 0 failures\n",
      "DEBUG flwr 2023-04-12 15:48:26,749 | server.py:215 | fit_round 43: strategy sampled 2 clients (out of 5)\n"
     ]
    },
    {
     "output_type": "stream",
     "name": "stdout",
     "text": [
      "\t {'val_loss': 1.4131651818752289, 'val_accuracy': 0.75}\n"
     ]
    },
    {
     "output_type": "stream",
     "name": "stderr",
     "text": [
      "DEBUG flwr 2023-04-12 15:51:31,129 | server.py:229 | fit_round 43 received 2 results and 0 failures\n"
     ]
    },
    {
     "output_type": "stream",
     "name": "stdout",
     "text": [
      "\t {'train_loss': 0.0429247755673714, 'train_accuracy': 1.0}\n"
     ]
    },
    {
     "output_type": "stream",
     "name": "stderr",
     "text": [
      "INFO flwr 2023-04-12 15:51:40,853 | server.py:116 | fit progress: (43, 8.184475898742676, {'test_loss': 8.184475898742676, 'test_accuracy': 0.46}, 8649.722666899994)\n",
      "DEBUG flwr 2023-04-12 15:51:40,854 | server.py:165 | evaluate_round 43: strategy sampled 2 clients (out of 5)\n",
      "DEBUG flwr 2023-04-12 15:51:47,057 | server.py:179 | evaluate_round 43 received 2 results and 0 failures\n",
      "DEBUG flwr 2023-04-12 15:51:47,058 | server.py:215 | fit_round 44: strategy sampled 2 clients (out of 5)\n"
     ]
    },
    {
     "output_type": "stream",
     "name": "stdout",
     "text": [
      "\t {'val_loss': 2.8041409254074097, 'val_accuracy': 0.6}\n"
     ]
    },
    {
     "output_type": "stream",
     "name": "stderr",
     "text": [
      "DEBUG flwr 2023-04-12 15:54:51,691 | server.py:229 | fit_round 44 received 2 results and 0 failures\n"
     ]
    },
    {
     "output_type": "stream",
     "name": "stdout",
     "text": [
      "\t {'train_loss': 0.02205116569530219, 'train_accuracy': 1.0}\n"
     ]
    },
    {
     "output_type": "stream",
     "name": "stderr",
     "text": [
      "INFO flwr 2023-04-12 15:55:01,416 | server.py:116 | fit progress: (44, 8.528847694396973, {'test_loss': 8.528847694396973, 'test_accuracy': 0.44}, 8850.285577500006)\n",
      "DEBUG flwr 2023-04-12 15:55:01,417 | server.py:165 | evaluate_round 44: strategy sampled 2 clients (out of 5)\n",
      "DEBUG flwr 2023-04-12 15:55:07,517 | server.py:179 | evaluate_round 44 received 2 results and 0 failures\n",
      "DEBUG flwr 2023-04-12 15:55:07,517 | server.py:215 | fit_round 45: strategy sampled 2 clients (out of 5)\n"
     ]
    },
    {
     "output_type": "stream",
     "name": "stdout",
     "text": [
      "\t {'val_loss': 1.390556514263153, 'val_accuracy': 0.75}\n"
     ]
    },
    {
     "output_type": "stream",
     "name": "stderr",
     "text": [
      "DEBUG flwr 2023-04-12 15:58:12,115 | server.py:229 | fit_round 45 received 2 results and 0 failures\n"
     ]
    },
    {
     "output_type": "stream",
     "name": "stdout",
     "text": [
      "\t {'train_loss': 0.0008474773203488439, 'train_accuracy': 1.0}\n"
     ]
    },
    {
     "output_type": "stream",
     "name": "stderr",
     "text": [
      "INFO flwr 2023-04-12 15:58:21,890 | server.py:116 | fit progress: (45, 8.225298881530762, {'test_loss': 8.225298881530762, 'test_accuracy': 0.42}, 9050.759411799998)\n",
      "DEBUG flwr 2023-04-12 15:58:21,891 | server.py:165 | evaluate_round 45: strategy sampled 2 clients (out of 5)\n",
      "DEBUG flwr 2023-04-12 15:58:28,117 | server.py:179 | evaluate_round 45 received 2 results and 0 failures\n",
      "DEBUG flwr 2023-04-12 15:58:28,118 | server.py:215 | fit_round 46: strategy sampled 2 clients (out of 5)\n"
     ]
    },
    {
     "output_type": "stream",
     "name": "stdout",
     "text": [
      "\t {'val_loss': 3.150430202484131, 'val_accuracy': 0.25}\n"
     ]
    },
    {
     "output_type": "stream",
     "name": "stderr",
     "text": [
      "DEBUG flwr 2023-04-12 16:01:32,929 | server.py:229 | fit_round 46 received 2 results and 0 failures\n"
     ]
    },
    {
     "output_type": "stream",
     "name": "stdout",
     "text": [
      "\t {'train_loss': 0.0004024104418931529, 'train_accuracy': 1.0}\n"
     ]
    },
    {
     "output_type": "stream",
     "name": "stderr",
     "text": [
      "INFO flwr 2023-04-12 16:01:42,762 | server.py:116 | fit progress: (46, 7.95319128036499, {'test_loss': 7.95319128036499, 'test_accuracy': 0.45}, 9251.630992699997)\n",
      "DEBUG flwr 2023-04-12 16:01:42,763 | server.py:165 | evaluate_round 46: strategy sampled 2 clients (out of 5)\n",
      "DEBUG flwr 2023-04-12 16:01:48,877 | server.py:179 | evaluate_round 46 received 2 results and 0 failures\n",
      "DEBUG flwr 2023-04-12 16:01:48,877 | server.py:215 | fit_round 47: strategy sampled 2 clients (out of 5)\n"
     ]
    },
    {
     "output_type": "stream",
     "name": "stdout",
     "text": [
      "\t {'val_loss': 3.2245594263076782, 'val_accuracy': 0.4}\n"
     ]
    },
    {
     "output_type": "stream",
     "name": "stderr",
     "text": [
      "DEBUG flwr 2023-04-12 16:04:53,724 | server.py:229 | fit_round 47 received 2 results and 0 failures\n"
     ]
    },
    {
     "output_type": "stream",
     "name": "stdout",
     "text": [
      "\t {'train_loss': 0.000288110131805297, 'train_accuracy': 1.0}\n"
     ]
    },
    {
     "output_type": "stream",
     "name": "stderr",
     "text": [
      "INFO flwr 2023-04-12 16:05:03,498 | server.py:116 | fit progress: (47, 8.329242706298828, {'test_loss': 8.329242706298828, 'test_accuracy': 0.43}, 9452.367432)\n",
      "DEBUG flwr 2023-04-12 16:05:03,499 | server.py:165 | evaluate_round 47: strategy sampled 2 clients (out of 5)\n",
      "DEBUG flwr 2023-04-12 16:05:09,678 | server.py:179 | evaluate_round 47 received 2 results and 0 failures\n",
      "DEBUG flwr 2023-04-12 16:05:09,679 | server.py:215 | fit_round 48: strategy sampled 2 clients (out of 5)\n"
     ]
    },
    {
     "output_type": "stream",
     "name": "stdout",
     "text": [
      "\t {'val_loss': 1.020468831062317, 'val_accuracy': 0.8500000000000001}\n"
     ]
    },
    {
     "output_type": "stream",
     "name": "stderr",
     "text": [
      "DEBUG flwr 2023-04-12 16:08:14,466 | server.py:229 | fit_round 48 received 2 results and 0 failures\n"
     ]
    },
    {
     "output_type": "stream",
     "name": "stdout",
     "text": [
      "\t {'train_loss': 0.0002211657956650015, 'train_accuracy': 1.0}\n"
     ]
    },
    {
     "output_type": "stream",
     "name": "stderr",
     "text": [
      "INFO flwr 2023-04-12 16:08:24,176 | server.py:116 | fit progress: (48, 7.711986064910889, {'test_loss': 7.711986064910889, 'test_accuracy': 0.46}, 9653.044776399998)\n",
      "DEBUG flwr 2023-04-12 16:08:24,176 | server.py:165 | evaluate_round 48: strategy sampled 2 clients (out of 5)\n",
      "DEBUG flwr 2023-04-12 16:08:30,239 | server.py:179 | evaluate_round 48 received 2 results and 0 failures\n",
      "DEBUG flwr 2023-04-12 16:08:30,239 | server.py:215 | fit_round 49: strategy sampled 2 clients (out of 5)\n"
     ]
    },
    {
     "output_type": "stream",
     "name": "stdout",
     "text": [
      "\t {'val_loss': 3.081403136253357, 'val_accuracy': 0.5}\n"
     ]
    },
    {
     "output_type": "stream",
     "name": "stderr",
     "text": [
      "DEBUG flwr 2023-04-12 16:11:35,528 | server.py:229 | fit_round 49 received 2 results and 0 failures\n"
     ]
    },
    {
     "output_type": "stream",
     "name": "stdout",
     "text": [
      "\t {'train_loss': 0.011855596166242321, 'train_accuracy': 1.0}\n"
     ]
    },
    {
     "output_type": "stream",
     "name": "stderr",
     "text": [
      "INFO flwr 2023-04-12 16:11:45,255 | server.py:116 | fit progress: (49, 7.664267063140869, {'test_loss': 7.664267063140869, 'test_accuracy': 0.47}, 9854.1241267)\n",
      "DEBUG flwr 2023-04-12 16:11:45,256 | server.py:165 | evaluate_round 49: strategy sampled 2 clients (out of 5)\n",
      "DEBUG flwr 2023-04-12 16:11:51,311 | server.py:179 | evaluate_round 49 received 2 results and 0 failures\n",
      "DEBUG flwr 2023-04-12 16:11:51,312 | server.py:215 | fit_round 50: strategy sampled 2 clients (out of 5)\n"
     ]
    },
    {
     "output_type": "stream",
     "name": "stdout",
     "text": [
      "\t {'val_loss': 2.199644088745117, 'val_accuracy': 0.55}\n"
     ]
    },
    {
     "output_type": "stream",
     "name": "stderr",
     "text": [
      "DEBUG flwr 2023-04-12 16:14:56,272 | server.py:229 | fit_round 50 received 2 results and 0 failures\n"
     ]
    },
    {
     "output_type": "stream",
     "name": "stdout",
     "text": [
      "\t {'train_loss': 9.524411507300101e-05, 'train_accuracy': 1.0}\n"
     ]
    },
    {
     "output_type": "stream",
     "name": "stderr",
     "text": [
      "INFO flwr 2023-04-12 16:15:06,032 | server.py:116 | fit progress: (50, 8.341650009155273, {'test_loss': 8.341650009155273, 'test_accuracy': 0.46}, 10054.901630000008)\n",
      "DEBUG flwr 2023-04-12 16:15:06,033 | server.py:165 | evaluate_round 50: strategy sampled 2 clients (out of 5)\n",
      "DEBUG flwr 2023-04-12 16:15:12,132 | server.py:179 | evaluate_round 50 received 2 results and 0 failures\n",
      "INFO flwr 2023-04-12 16:15:12,133 | server.py:144 | FL finished in 10061.0022227\n",
      "INFO flwr 2023-04-12 16:15:12,162 | app.py:202 | app_fit: losses_distributed [(1, 4.69225549697876), (2, 4.408609390258789), (3, 4.318270683288574), (4, 4.3132164478302), (5, 3.679939031600952), (6, 3.9727377891540527), (7, 3.4378257989883423), (8, 3.149909496307373), (9, 2.9239617586135864), (10, 2.986670732498169), (11, 3.264145016670227), (12, 2.8988770246505737), (13, 2.9220099449157715), (14, 2.233611047267914), (15, 2.8786648511886597), (16, 2.77590811252594), (17, 2.739793062210083), (18, 1.700264811515808), (19, 2.8228840231895447), (20, 3.429858446121216), (21, 2.2207454442977905), (22, 2.279095947742462), (23, 3.3466897010803223), (24, 2.0371123552322388), (25, 2.5452767610549927), (26, 3.060934901237488), (27, 2.931700587272644), (28, 1.6140323281288147), (29, 2.190836191177368), (30, 1.881341964006424), (31, 3.122158646583557), (32, 2.5388011932373047), (33, 2.3132851123809814), (34, 2.5846643447875977), (35, 2.494879722595215), (36, 1.8649590462446213), (37, 2.223478674888611), (38, 0.8960552513599396), (39, 1.3621428608894348), (40, 1.7784392833709717), (41, 2.6743297576904297), (42, 1.4131651818752289), (43, 2.8041409254074097), (44, 1.390556514263153), (45, 3.150430202484131), (46, 3.2245594263076782), (47, 1.020468831062317), (48, 3.081403136253357), (49, 2.199644088745117), (50, 2.9674487113952637)]\n",
      "INFO flwr 2023-04-12 16:15:12,163 | app.py:203 | app_fit: metrics_distributed {'val_loss': [(1, 4.69225549697876), (2, 4.408609390258789), (3, 4.318270683288574), (4, 4.3132164478302), (5, 3.679939031600952), (6, 3.9727377891540527), (7, 3.4378257989883423), (8, 3.149909496307373), (9, 2.9239617586135864), (10, 2.986670732498169), (11, 3.264145016670227), (12, 2.8988770246505737), (13, 2.9220099449157715), (14, 2.233611047267914), (15, 2.8786648511886597), (16, 2.77590811252594), (17, 2.739793062210083), (18, 1.700264811515808), (19, 2.8228840231895447), (20, 3.429858446121216), (21, 2.2207454442977905), (22, 2.279095947742462), (23, 3.3466897010803223), (24, 2.0371123552322388), (25, 2.5452767610549927), (26, 3.060934901237488), (27, 2.931700587272644), (28, 1.6140323281288147), (29, 2.190836191177368), (30, 1.881341964006424), (31, 3.122158646583557), (32, 2.5388011932373047), (33, 2.3132851123809814), (34, 2.5846643447875977), (35, 2.494879722595215), (36, 1.8649590462446213), (37, 2.223478674888611), (38, 0.8960552513599396), (39, 1.3621428608894348), (40, 1.7784392833709717), (41, 2.6743297576904297), (42, 1.4131651818752289), (43, 2.8041409254074097), (44, 1.390556514263153), (45, 3.150430202484131), (46, 3.2245594263076782), (47, 1.020468831062317), (48, 3.081403136253357), (49, 2.199644088745117), (50, 2.9674487113952637)], 'val_accuracy': [(1, 0.0), (2, 0.1), (3, 0.05), (4, 0.05), (5, 0.15000000000000002), (6, 0.1), (7, 0.25), (8, 0.35), (9, 0.35), (10, 0.30000000000000004), (11, 0.25), (12, 0.35), (13, 0.44999999999999996), (14, 0.55), (15, 0.4), (16, 0.4), (17, 0.4), (18, 0.6499999999999999), (19, 0.4), (20, 0.2), (21, 0.44999999999999996), (22, 0.5), (23, 0.2), (24, 0.44999999999999996), (25, 0.3), (26, 0.3), (27, 0.3), (28, 0.55), (29, 0.55), (30, 0.55), (31, 0.25), (32, 0.3), (33, 0.55), (34, 0.35), (35, 0.44999999999999996), (36, 0.6), (37, 0.55), (38, 0.8), (39, 0.75), (40, 0.55), (41, 0.4), (42, 0.75), (43, 0.6), (44, 0.75), (45, 0.25), (46, 0.4), (47, 0.8500000000000001), (48, 0.5), (49, 0.55), (50, 0.5)]}\n",
      "INFO flwr 2023-04-12 16:15:12,164 | app.py:204 | app_fit: losses_centralized [(0, 18.773698806762695), (1, 19.66427230834961), (2, 19.458721160888672), (3, 20.292736053466797), (4, 18.107622146606445), (5, 17.120384216308594), (6, 18.676420211791992), (7, 16.083343505859375), (8, 14.993967056274414), (9, 16.800594329833984), (10, 15.946919441223145), (11, 13.391237258911133), (12, 12.259109497070312), (13, 11.91295337677002), (14, 13.62370491027832), (15, 12.456521034240723), (16, 12.52479362487793), (17, 12.52561092376709), (18, 12.187338829040527), (19, 12.40915298461914), (20, 12.065786361694336), (21, 10.306049346923828), (22, 11.964591979980469), (23, 11.661713600158691), (24, 10.071250915527344), (25, 9.657840728759766), (26, 10.069191932678223), (27, 10.556581497192383), (28, 9.290517807006836), (29, 9.852106094360352), (30, 10.170576095581055), (31, 9.67131519317627), (32, 8.881855010986328), (33, 9.483470916748047), (34, 8.76531982421875), (35, 8.70042610168457), (36, 8.846168518066406), (37, 8.57158088684082), (38, 8.792218208312988), (39, 8.601691246032715), (40, 8.47653579711914), (41, 8.13405704498291), (42, 8.71262264251709), (43, 8.184475898742676), (44, 8.528847694396973), (45, 8.225298881530762), (46, 7.95319128036499), (47, 8.329242706298828), (48, 7.711986064910889), (49, 7.664267063140869), (50, 8.341650009155273)]\n",
      "INFO flwr 2023-04-12 16:15:12,164 | app.py:205 | app_fit: metrics_centralized {'test_loss': [(0, 18.773698806762695), (1, 19.66427230834961), (2, 19.458721160888672), (3, 20.292736053466797), (4, 18.107622146606445), (5, 17.120384216308594), (6, 18.676420211791992), (7, 16.083343505859375), (8, 14.993967056274414), (9, 16.800594329833984), (10, 15.946919441223145), (11, 13.391237258911133), (12, 12.259109497070312), (13, 11.91295337677002), (14, 13.62370491027832), (15, 12.456521034240723), (16, 12.52479362487793), (17, 12.52561092376709), (18, 12.187338829040527), (19, 12.40915298461914), (20, 12.065786361694336), (21, 10.306049346923828), (22, 11.964591979980469), (23, 11.661713600158691), (24, 10.071250915527344), (25, 9.657840728759766), (26, 10.069191932678223), (27, 10.556581497192383), (28, 9.290517807006836), (29, 9.852106094360352), (30, 10.170576095581055), (31, 9.67131519317627), (32, 8.881855010986328), (33, 9.483470916748047), (34, 8.76531982421875), (35, 8.70042610168457), (36, 8.846168518066406), (37, 8.57158088684082), (38, 8.792218208312988), (39, 8.601691246032715), (40, 8.47653579711914), (41, 8.13405704498291), (42, 8.71262264251709), (43, 8.184475898742676), (44, 8.528847694396973), (45, 8.225298881530762), (46, 7.95319128036499), (47, 8.329242706298828), (48, 7.711986064910889), (49, 7.664267063140869), (50, 8.341650009155273)], 'test_accuracy': [(0, 0.01), (1, 0.0), (2, 0.0), (3, 0.03), (4, 0.06), (5, 0.11), (6, 0.07), (7, 0.17), (8, 0.22), (9, 0.12), (10, 0.14), (11, 0.29), (12, 0.31), (13, 0.32), (14, 0.29), (15, 0.36), (16, 0.36), (17, 0.33), (18, 0.3), (19, 0.34), (20, 0.38), (21, 0.34), (22, 0.37), (23, 0.34), (24, 0.4), (25, 0.41), (26, 0.43), (27, 0.4), (28, 0.46), (29, 0.41), (30, 0.4), (31, 0.46), (32, 0.46), (33, 0.42), (34, 0.41), (35, 0.42), (36, 0.43), (37, 0.45), (38, 0.42), (39, 0.47), (40, 0.45), (41, 0.47), (42, 0.44), (43, 0.46), (44, 0.44), (45, 0.42), (46, 0.45), (47, 0.43), (48, 0.46), (49, 0.47), (50, 0.46)]}\n"
     ]
    },
    {
     "output_type": "stream",
     "name": "stdout",
     "text": [
      "\t {'val_loss': 2.9674487113952637, 'val_accuracy': 0.5}\n"
     ]
    },
    {
     "output_type": "execute_result",
     "data": {
      "text/plain": [
       "History (loss, distributed):\n",
       "\tround 1: 4.69225549697876\n",
       "\tround 2: 4.408609390258789\n",
       "\tround 3: 4.318270683288574\n",
       "\tround 4: 4.3132164478302\n",
       "\tround 5: 3.679939031600952\n",
       "\tround 6: 3.9727377891540527\n",
       "\tround 7: 3.4378257989883423\n",
       "\tround 8: 3.149909496307373\n",
       "\tround 9: 2.9239617586135864\n",
       "\tround 10: 2.986670732498169\n",
       "\tround 11: 3.264145016670227\n",
       "\tround 12: 2.8988770246505737\n",
       "\tround 13: 2.9220099449157715\n",
       "\tround 14: 2.233611047267914\n",
       "\tround 15: 2.8786648511886597\n",
       "\tround 16: 2.77590811252594\n",
       "\tround 17: 2.739793062210083\n",
       "\tround 18: 1.700264811515808\n",
       "\tround 19: 2.8228840231895447\n",
       "\tround 20: 3.429858446121216\n",
       "\tround 21: 2.2207454442977905\n",
       "\tround 22: 2.279095947742462\n",
       "\tround 23: 3.3466897010803223\n",
       "\tround 24: 2.0371123552322388\n",
       "\tround 25: 2.5452767610549927\n",
       "\tround 26: 3.060934901237488\n",
       "\tround 27: 2.931700587272644\n",
       "\tround 28: 1.6140323281288147\n",
       "\tround 29: 2.190836191177368\n",
       "\tround 30: 1.881341964006424\n",
       "\tround 31: 3.122158646583557\n",
       "\tround 32: 2.5388011932373047\n",
       "\tround 33: 2.3132851123809814\n",
       "\tround 34: 2.5846643447875977\n",
       "\tround 35: 2.494879722595215\n",
       "\tround 36: 1.8649590462446213\n",
       "\tround 37: 2.223478674888611\n",
       "\tround 38: 0.8960552513599396\n",
       "\tround 39: 1.3621428608894348\n",
       "\tround 40: 1.7784392833709717\n",
       "\tround 41: 2.6743297576904297\n",
       "\tround 42: 1.4131651818752289\n",
       "\tround 43: 2.8041409254074097\n",
       "\tround 44: 1.390556514263153\n",
       "\tround 45: 3.150430202484131\n",
       "\tround 46: 3.2245594263076782\n",
       "\tround 47: 1.020468831062317\n",
       "\tround 48: 3.081403136253357\n",
       "\tround 49: 2.199644088745117\n",
       "\tround 50: 2.9674487113952637\n",
       "History (loss, centralized):\n",
       "\tround 0: 18.773698806762695\n",
       "\tround 1: 19.66427230834961\n",
       "\tround 2: 19.458721160888672\n",
       "\tround 3: 20.292736053466797\n",
       "\tround 4: 18.107622146606445\n",
       "\tround 5: 17.120384216308594\n",
       "\tround 6: 18.676420211791992\n",
       "\tround 7: 16.083343505859375\n",
       "\tround 8: 14.993967056274414\n",
       "\tround 9: 16.800594329833984\n",
       "\tround 10: 15.946919441223145\n",
       "\tround 11: 13.391237258911133\n",
       "\tround 12: 12.259109497070312\n",
       "\tround 13: 11.91295337677002\n",
       "\tround 14: 13.62370491027832\n",
       "\tround 15: 12.456521034240723\n",
       "\tround 16: 12.52479362487793\n",
       "\tround 17: 12.52561092376709\n",
       "\tround 18: 12.187338829040527\n",
       "\tround 19: 12.40915298461914\n",
       "\tround 20: 12.065786361694336\n",
       "\tround 21: 10.306049346923828\n",
       "\tround 22: 11.964591979980469\n",
       "\tround 23: 11.661713600158691\n",
       "\tround 24: 10.071250915527344\n",
       "\tround 25: 9.657840728759766\n",
       "\tround 26: 10.069191932678223\n",
       "\tround 27: 10.556581497192383\n",
       "\tround 28: 9.290517807006836\n",
       "\tround 29: 9.852106094360352\n",
       "\tround 30: 10.170576095581055\n",
       "\tround 31: 9.67131519317627\n",
       "\tround 32: 8.881855010986328\n",
       "\tround 33: 9.483470916748047\n",
       "\tround 34: 8.76531982421875\n",
       "\tround 35: 8.70042610168457\n",
       "\tround 36: 8.846168518066406\n",
       "\tround 37: 8.57158088684082\n",
       "\tround 38: 8.792218208312988\n",
       "\tround 39: 8.601691246032715\n",
       "\tround 40: 8.47653579711914\n",
       "\tround 41: 8.13405704498291\n",
       "\tround 42: 8.71262264251709\n",
       "\tround 43: 8.184475898742676\n",
       "\tround 44: 8.528847694396973\n",
       "\tround 45: 8.225298881530762\n",
       "\tround 46: 7.95319128036499\n",
       "\tround 47: 8.329242706298828\n",
       "\tround 48: 7.711986064910889\n",
       "\tround 49: 7.664267063140869\n",
       "\tround 50: 8.341650009155273\n",
       "History (metrics, distributed):\n",
       "{'val_loss': [(1, 4.69225549697876), (2, 4.408609390258789), (3, 4.318270683288574), (4, 4.3132164478302), (5, 3.679939031600952), (6, 3.9727377891540527), (7, 3.4378257989883423), (8, 3.149909496307373), (9, 2.9239617586135864), (10, 2.986670732498169), (11, 3.264145016670227), (12, 2.8988770246505737), (13, 2.9220099449157715), (14, 2.233611047267914), (15, 2.8786648511886597), (16, 2.77590811252594), (17, 2.739793062210083), (18, 1.700264811515808), (19, 2.8228840231895447), (20, 3.429858446121216), (21, 2.2207454442977905), (22, 2.279095947742462), (23, 3.3466897010803223), (24, 2.0371123552322388), (25, 2.5452767610549927), (26, 3.060934901237488), (27, 2.931700587272644), (28, 1.6140323281288147), (29, 2.190836191177368), (30, 1.881341964006424), (31, 3.122158646583557), (32, 2.5388011932373047), (33, 2.3132851123809814), (34, 2.5846643447875977), (35, 2.494879722595215), (36, 1.8649590462446213), (37, 2.223478674888611), (38, 0.8960552513599396), (39, 1.3621428608894348), (40, 1.7784392833709717), (41, 2.6743297576904297), (42, 1.4131651818752289), (43, 2.8041409254074097), (44, 1.390556514263153), (45, 3.150430202484131), (46, 3.2245594263076782), (47, 1.020468831062317), (48, 3.081403136253357), (49, 2.199644088745117), (50, 2.9674487113952637)], 'val_accuracy': [(1, 0.0), (2, 0.1), (3, 0.05), (4, 0.05), (5, 0.15000000000000002), (6, 0.1), (7, 0.25), (8, 0.35), (9, 0.35), (10, 0.30000000000000004), (11, 0.25), (12, 0.35), (13, 0.44999999999999996), (14, 0.55), (15, 0.4), (16, 0.4), (17, 0.4), (18, 0.6499999999999999), (19, 0.4), (20, 0.2), (21, 0.44999999999999996), (22, 0.5), (23, 0.2), (24, 0.44999999999999996), (25, 0.3), (26, 0.3), (27, 0.3), (28, 0.55), (29, 0.55), (30, 0.55), (31, 0.25), (32, 0.3), (33, 0.55), (34, 0.35), (35, 0.44999999999999996), (36, 0.6), (37, 0.55), (38, 0.8), (39, 0.75), (40, 0.55), (41, 0.4), (42, 0.75), (43, 0.6), (44, 0.75), (45, 0.25), (46, 0.4), (47, 0.8500000000000001), (48, 0.5), (49, 0.55), (50, 0.5)]}History (metrics, centralized):\n",
       "{'test_loss': [(0, 18.773698806762695), (1, 19.66427230834961), (2, 19.458721160888672), (3, 20.292736053466797), (4, 18.107622146606445), (5, 17.120384216308594), (6, 18.676420211791992), (7, 16.083343505859375), (8, 14.993967056274414), (9, 16.800594329833984), (10, 15.946919441223145), (11, 13.391237258911133), (12, 12.259109497070312), (13, 11.91295337677002), (14, 13.62370491027832), (15, 12.456521034240723), (16, 12.52479362487793), (17, 12.52561092376709), (18, 12.187338829040527), (19, 12.40915298461914), (20, 12.065786361694336), (21, 10.306049346923828), (22, 11.964591979980469), (23, 11.661713600158691), (24, 10.071250915527344), (25, 9.657840728759766), (26, 10.069191932678223), (27, 10.556581497192383), (28, 9.290517807006836), (29, 9.852106094360352), (30, 10.170576095581055), (31, 9.67131519317627), (32, 8.881855010986328), (33, 9.483470916748047), (34, 8.76531982421875), (35, 8.70042610168457), (36, 8.846168518066406), (37, 8.57158088684082), (38, 8.792218208312988), (39, 8.601691246032715), (40, 8.47653579711914), (41, 8.13405704498291), (42, 8.71262264251709), (43, 8.184475898742676), (44, 8.528847694396973), (45, 8.225298881530762), (46, 7.95319128036499), (47, 8.329242706298828), (48, 7.711986064910889), (49, 7.664267063140869), (50, 8.341650009155273)], 'test_accuracy': [(0, 0.01), (1, 0.0), (2, 0.0), (3, 0.03), (4, 0.06), (5, 0.11), (6, 0.07), (7, 0.17), (8, 0.22), (9, 0.12), (10, 0.14), (11, 0.29), (12, 0.31), (13, 0.32), (14, 0.29), (15, 0.36), (16, 0.36), (17, 0.33), (18, 0.3), (19, 0.34), (20, 0.38), (21, 0.34), (22, 0.37), (23, 0.34), (24, 0.4), (25, 0.41), (26, 0.43), (27, 0.4), (28, 0.46), (29, 0.41), (30, 0.4), (31, 0.46), (32, 0.46), (33, 0.42), (34, 0.41), (35, 0.42), (36, 0.43), (37, 0.45), (38, 0.42), (39, 0.47), (40, 0.45), (41, 0.47), (42, 0.44), (43, 0.46), (44, 0.44), (45, 0.42), (46, 0.45), (47, 0.43), (48, 0.46), (49, 0.47), (50, 0.46)]}"
      ]
     },
     "metadata": {},
     "execution_count": 9
    }
   ],
   "metadata": {}
  }
 ],
 "nbformat": 4,
 "nbformat_minor": 2,
 "metadata": {
  "language_info": {
   "codemirror_mode": {
    "name": "ipython",
    "version": 3
   },
   "file_extension": ".py",
   "mimetype": "text/x-python",
   "name": "python",
   "nbconvert_exporter": "python",
   "pygments_lexer": "ipython3",
   "version": 3
  },
  "orig_nbformat": 4
 }
}