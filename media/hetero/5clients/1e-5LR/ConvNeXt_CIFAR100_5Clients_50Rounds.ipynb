{
 "cells": [
  {
   "cell_type": "code",
   "execution_count": 8,
   "source": [
    "print('num clients:', NUM_CLIENTS)\n",
    "print('num rounds:', NUM_ROUNDS)\n",
    "print('--'*20)\n",
    "print('client training set size:', [len(t.dataset) for t in trainloaders])\n",
    "print('client validation set size:', [len(v.dataset) for v in valloaders])\n",
    "print('test set size:', len(testloader.dataset))\n",
    "print('--'*20)\n",
    "print('model name:', MODEL_NAME)\n",
    "print('num classes:', NUM_CLASSES)\n",
    "print('pre-trained:', PRE_TRAINED)\n",
    "print('learning rate:', LEARNING_RATE)\n",
    "print('batch size:', BATCH_SIZE)\n",
    "print('epochs:', EPOCHS)"
   ],
   "outputs": [
    {
     "output_type": "stream",
     "name": "stdout",
     "text": [
      "num clients: 5\n",
      "num rounds: 50\n",
      "----------------------------------------\n",
      "client training set size: [90, 90, 90, 90, 90, 90, 90, 90, 90, 90]\n",
      "client validation set size: [10, 10, 10, 10, 10, 10, 10, 10, 10, 10]\n",
      "test set size: 100\n",
      "----------------------------------------\n",
      "model name: facebook/convnext-tiny-224\n",
      "num classes: 100\n",
      "pre-trained: True\n",
      "learning rate: 0.0001\n",
      "batch size: 32\n",
      "epochs: 1\n"
     ]
    }
   ],
   "metadata": {}
  },
  {
   "cell_type": "code",
   "execution_count": 9,
   "source": [
    "fl.simulation.start_simulation(\n",
    "    client_fn=lambda cid: FlowerClient(MODEL_CONFIG, trainloaders[int(cid)], valloaders[int(cid)]),\n",
    "    num_clients=NUM_CLIENTS,\n",
    "    config=fl.server.ServerConfig(num_rounds=NUM_ROUNDS),\n",
    "    strategy=strategy,\n",
    "    client_resources=CLIENT_RESOURCES,\n",
    "    ray_init_args=RAY_ARGS,\n",
    ")"
   ],
   "outputs": [
    {
     "output_type": "stream",
     "name": "stderr",
     "text": [
      "INFO flwr 2023-04-12 12:40:52,641 | app.py:145 | Starting Flower simulation, config: ServerConfig(num_rounds=50, round_timeout=None)\n",
      "2023-04-12 12:40:55,333\tINFO worker.py:1529 -- Started a local Ray instance. View the dashboard at \u001b[1m\u001b[32m127.0.0.1:8265 \u001b[39m\u001b[22m\n",
      "INFO flwr 2023-04-12 12:40:56,582 | app.py:179 | Flower VCE: Ray initialized with resources: {'object_store_memory': 7045243699.0, 'node:127.0.0.1': 1.0, 'memory': 14090487399.0, 'CPU': 24.0, 'GPU': 1.0}\n",
      "INFO flwr 2023-04-12 12:40:56,583 | server.py:86 | Initializing global parameters\n",
      "INFO flwr 2023-04-12 12:40:56,583 | server.py:266 | Using initial parameters provided by strategy\n",
      "INFO flwr 2023-04-12 12:40:56,584 | server.py:88 | Evaluating initial parameters\n",
      "INFO flwr 2023-04-12 12:41:01,541 | server.py:91 | initial parameters (loss, other metrics): 18.432228088378906, {'test_loss': 18.432228088378906, 'test_accuracy': 0.0}\n",
      "INFO flwr 2023-04-12 12:41:01,541 | server.py:101 | FL starting\n",
      "DEBUG flwr 2023-04-12 12:41:01,542 | server.py:215 | fit_round 1: strategy sampled 2 clients (out of 5)\n",
      "DEBUG flwr 2023-04-12 12:41:43,751 | server.py:229 | fit_round 1 received 2 results and 0 failures\n"
     ]
    },
    {
     "output_type": "stream",
     "name": "stdout",
     "text": [
      "\t {'train_loss': 4.52263879776001, 'train_accuracy': 0.02777777777777778}\n"
     ]
    },
    {
     "output_type": "stream",
     "name": "stderr",
     "text": [
      "INFO flwr 2023-04-12 12:41:48,820 | server.py:116 | fit progress: (1, 18.434192657470703, {'test_loss': 18.434192657470703, 'test_accuracy': 0.0}, 47.278252600001)\n",
      "DEBUG flwr 2023-04-12 12:41:48,821 | server.py:165 | evaluate_round 1: strategy sampled 2 clients (out of 5)\n",
      "DEBUG flwr 2023-04-12 12:41:51,020 | server.py:179 | evaluate_round 1 received 2 results and 0 failures\n",
      "DEBUG flwr 2023-04-12 12:41:51,020 | server.py:215 | fit_round 2: strategy sampled 2 clients (out of 5)\n"
     ]
    },
    {
     "output_type": "stream",
     "name": "stdout",
     "text": [
      "\t {'val_loss': 4.5455498695373535, 'val_accuracy': 0.0}\n"
     ]
    },
    {
     "output_type": "stream",
     "name": "stderr",
     "text": [
      "DEBUG flwr 2023-04-12 12:42:31,595 | server.py:229 | fit_round 2 received 2 results and 0 failures\n"
     ]
    },
    {
     "output_type": "stream",
     "name": "stdout",
     "text": [
      "\t {'train_loss': 4.516220808029175, 'train_accuracy': 0.027777777777777776}\n"
     ]
    },
    {
     "output_type": "stream",
     "name": "stderr",
     "text": [
      "INFO flwr 2023-04-12 12:42:36,696 | server.py:116 | fit progress: (2, 18.23693084716797, {'test_loss': 18.23693084716797, 'test_accuracy': 0.03}, 95.15454160000081)\n",
      "DEBUG flwr 2023-04-12 12:42:36,697 | server.py:165 | evaluate_round 2: strategy sampled 2 clients (out of 5)\n",
      "DEBUG flwr 2023-04-12 12:42:38,696 | server.py:179 | evaluate_round 2 received 2 results and 0 failures\n",
      "DEBUG flwr 2023-04-12 12:42:38,696 | server.py:215 | fit_round 3: strategy sampled 2 clients (out of 5)\n"
     ]
    },
    {
     "output_type": "stream",
     "name": "stdout",
     "text": [
      "\t {'val_loss': 4.533475875854492, 'val_accuracy': 0.05}\n"
     ]
    },
    {
     "output_type": "stream",
     "name": "stderr",
     "text": [
      "DEBUG flwr 2023-04-12 12:43:19,246 | server.py:229 | fit_round 3 received 2 results and 0 failures\n"
     ]
    },
    {
     "output_type": "stream",
     "name": "stdout",
     "text": [
      "\t {'train_loss': 4.391828536987305, 'train_accuracy': 0.18333333333333332}\n"
     ]
    },
    {
     "output_type": "stream",
     "name": "stderr",
     "text": [
      "INFO flwr 2023-04-12 12:43:24,448 | server.py:116 | fit progress: (3, 18.009309768676758, {'test_loss': 18.009309768676758, 'test_accuracy': 0.09}, 142.9065769000008)\n",
      "DEBUG flwr 2023-04-12 12:43:24,449 | server.py:165 | evaluate_round 3: strategy sampled 2 clients (out of 5)\n",
      "DEBUG flwr 2023-04-12 12:43:31,245 | server.py:179 | evaluate_round 3 received 2 results and 0 failures\n",
      "DEBUG flwr 2023-04-12 12:43:31,246 | server.py:215 | fit_round 4: strategy sampled 2 clients (out of 5)\n"
     ]
    },
    {
     "output_type": "stream",
     "name": "stdout",
     "text": [
      "\t {'val_loss': 4.430221080780029, 'val_accuracy': 0.1}\n"
     ]
    },
    {
     "output_type": "stream",
     "name": "stderr",
     "text": [
      "DEBUG flwr 2023-04-12 12:44:11,871 | server.py:229 | fit_round 4 received 2 results and 0 failures\n"
     ]
    },
    {
     "output_type": "stream",
     "name": "stdout",
     "text": [
      "\t {'train_loss': 4.521814584732056, 'train_accuracy': 0.044444444444444446}\n"
     ]
    },
    {
     "output_type": "stream",
     "name": "stderr",
     "text": [
      "INFO flwr 2023-04-12 12:44:16,904 | server.py:116 | fit progress: (4, 17.983070373535156, {'test_loss': 17.983070373535156, 'test_accuracy': 0.08}, 195.36221459999797)\n",
      "DEBUG flwr 2023-04-12 12:44:16,905 | server.py:165 | evaluate_round 4: strategy sampled 2 clients (out of 5)\n",
      "DEBUG flwr 2023-04-12 12:44:19,010 | server.py:179 | evaluate_round 4 received 2 results and 0 failures\n",
      "DEBUG flwr 2023-04-12 12:44:19,011 | server.py:215 | fit_round 5: strategy sampled 2 clients (out of 5)\n"
     ]
    },
    {
     "output_type": "stream",
     "name": "stdout",
     "text": [
      "\t {'val_loss': 4.462148666381836, 'val_accuracy': 0.1}\n"
     ]
    },
    {
     "output_type": "stream",
     "name": "stderr",
     "text": [
      "DEBUG flwr 2023-04-12 12:44:59,501 | server.py:229 | fit_round 5 received 2 results and 0 failures\n"
     ]
    },
    {
     "output_type": "stream",
     "name": "stdout",
     "text": [
      "\t {'train_loss': 4.385412216186523, 'train_accuracy': 0.1722222222222222}\n"
     ]
    },
    {
     "output_type": "stream",
     "name": "stderr",
     "text": [
      "INFO flwr 2023-04-12 12:45:04,650 | server.py:116 | fit progress: (5, 18.06720542907715, {'test_loss': 18.06720542907715, 'test_accuracy': 0.07}, 243.10868520000076)\n",
      "DEBUG flwr 2023-04-12 12:45:04,651 | server.py:165 | evaluate_round 5: strategy sampled 2 clients (out of 5)\n",
      "DEBUG flwr 2023-04-12 12:45:06,662 | server.py:179 | evaluate_round 5 received 2 results and 0 failures\n",
      "DEBUG flwr 2023-04-12 12:45:06,663 | server.py:215 | fit_round 6: strategy sampled 2 clients (out of 5)\n"
     ]
    },
    {
     "output_type": "stream",
     "name": "stdout",
     "text": [
      "\t {'val_loss': 4.394837141036987, 'val_accuracy': 0.2}\n"
     ]
    },
    {
     "output_type": "stream",
     "name": "stderr",
     "text": [
      "DEBUG flwr 2023-04-12 12:45:46,942 | server.py:229 | fit_round 6 received 2 results and 0 failures\n"
     ]
    },
    {
     "output_type": "stream",
     "name": "stdout",
     "text": [
      "\t {'train_loss': 4.276557683944702, 'train_accuracy': 0.3277777777777778}\n"
     ]
    },
    {
     "output_type": "stream",
     "name": "stderr",
     "text": [
      "INFO flwr 2023-04-12 12:45:52,103 | server.py:116 | fit progress: (6, 17.77403450012207, {'test_loss': 17.77403450012207, 'test_accuracy': 0.15}, 290.5618506999963)\n",
      "DEBUG flwr 2023-04-12 12:45:52,104 | server.py:165 | evaluate_round 6: strategy sampled 2 clients (out of 5)\n",
      "DEBUG flwr 2023-04-12 12:45:58,046 | server.py:179 | evaluate_round 6 received 2 results and 0 failures\n",
      "DEBUG flwr 2023-04-12 12:45:58,046 | server.py:215 | fit_round 7: strategy sampled 2 clients (out of 5)\n"
     ]
    },
    {
     "output_type": "stream",
     "name": "stdout",
     "text": [
      "\t {'val_loss': 4.378868579864502, 'val_accuracy': 0.15000000000000002}\n"
     ]
    },
    {
     "output_type": "stream",
     "name": "stderr",
     "text": [
      "DEBUG flwr 2023-04-12 12:46:38,653 | server.py:229 | fit_round 7 received 2 results and 0 failures\n"
     ]
    },
    {
     "output_type": "stream",
     "name": "stdout",
     "text": [
      "\t {'train_loss': 4.217949390411377, 'train_accuracy': 0.37222222222222223}\n"
     ]
    },
    {
     "output_type": "stream",
     "name": "stderr",
     "text": [
      "INFO flwr 2023-04-12 12:46:43,639 | server.py:116 | fit progress: (7, 17.63821792602539, {'test_loss': 17.63821792602539, 'test_accuracy': 0.13}, 342.0978191999966)\n",
      "DEBUG flwr 2023-04-12 12:46:43,640 | server.py:165 | evaluate_round 7: strategy sampled 2 clients (out of 5)\n",
      "DEBUG flwr 2023-04-12 12:46:45,880 | server.py:179 | evaluate_round 7 received 2 results and 0 failures\n",
      "DEBUG flwr 2023-04-12 12:46:45,881 | server.py:215 | fit_round 8: strategy sampled 2 clients (out of 5)\n"
     ]
    },
    {
     "output_type": "stream",
     "name": "stdout",
     "text": [
      "\t {'val_loss': 4.336103200912476, 'val_accuracy': 0.1}\n"
     ]
    },
    {
     "output_type": "stream",
     "name": "stderr",
     "text": [
      "DEBUG flwr 2023-04-12 12:47:26,137 | server.py:229 | fit_round 8 received 2 results and 0 failures\n"
     ]
    },
    {
     "output_type": "stream",
     "name": "stdout",
     "text": [
      "\t {'train_loss': 4.1490925550460815, 'train_accuracy': 0.43888888888888883}\n"
     ]
    },
    {
     "output_type": "stream",
     "name": "stderr",
     "text": [
      "INFO flwr 2023-04-12 12:47:31,169 | server.py:116 | fit progress: (8, 17.323997497558594, {'test_loss': 17.323997497558594, 'test_accuracy': 0.14}, 389.6273433999959)\n",
      "DEBUG flwr 2023-04-12 12:47:31,169 | server.py:165 | evaluate_round 8: strategy sampled 2 clients (out of 5)\n",
      "DEBUG flwr 2023-04-12 12:47:33,292 | server.py:179 | evaluate_round 8 received 2 results and 0 failures\n",
      "DEBUG flwr 2023-04-12 12:47:33,293 | server.py:215 | fit_round 9: strategy sampled 2 clients (out of 5)\n"
     ]
    },
    {
     "output_type": "stream",
     "name": "stdout",
     "text": [
      "\t {'val_loss': 4.427217960357666, 'val_accuracy': 0.05}\n"
     ]
    },
    {
     "output_type": "stream",
     "name": "stderr",
     "text": [
      "DEBUG flwr 2023-04-12 12:48:14,139 | server.py:229 | fit_round 9 received 2 results and 0 failures\n"
     ]
    },
    {
     "output_type": "stream",
     "name": "stdout",
     "text": [
      "\t {'train_loss': 4.298630475997925, 'train_accuracy': 0.26666666666666666}\n"
     ]
    },
    {
     "output_type": "stream",
     "name": "stderr",
     "text": [
      "INFO flwr 2023-04-12 12:48:19,133 | server.py:116 | fit progress: (9, 17.43212127685547, {'test_loss': 17.43212127685547, 'test_accuracy': 0.12}, 437.5911250999998)\n",
      "DEBUG flwr 2023-04-12 12:48:19,134 | server.py:165 | evaluate_round 9: strategy sampled 2 clients (out of 5)\n",
      "DEBUG flwr 2023-04-12 12:48:21,168 | server.py:179 | evaluate_round 9 received 2 results and 0 failures\n",
      "DEBUG flwr 2023-04-12 12:48:21,169 | server.py:215 | fit_round 10: strategy sampled 2 clients (out of 5)\n"
     ]
    },
    {
     "output_type": "stream",
     "name": "stdout",
     "text": [
      "\t {'val_loss': 4.430269956588745, 'val_accuracy': 0.1}\n"
     ]
    },
    {
     "output_type": "stream",
     "name": "stderr",
     "text": [
      "DEBUG flwr 2023-04-12 12:49:01,114 | server.py:229 | fit_round 10 received 2 results and 0 failures\n"
     ]
    },
    {
     "output_type": "stream",
     "name": "stdout",
     "text": [
      "\t {'train_loss': 4.203196287155151, 'train_accuracy': 0.3833333333333333}\n"
     ]
    },
    {
     "output_type": "stream",
     "name": "stderr",
     "text": [
      "INFO flwr 2023-04-12 12:49:06,149 | server.py:116 | fit progress: (10, 17.334705352783203, {'test_loss': 17.334705352783203, 'test_accuracy': 0.16}, 484.60784019999846)\n",
      "DEBUG flwr 2023-04-12 12:49:06,150 | server.py:165 | evaluate_round 10: strategy sampled 2 clients (out of 5)\n",
      "DEBUG flwr 2023-04-12 12:49:08,280 | server.py:179 | evaluate_round 10 received 2 results and 0 failures\n",
      "DEBUG flwr 2023-04-12 12:49:08,281 | server.py:215 | fit_round 11: strategy sampled 2 clients (out of 5)\n"
     ]
    },
    {
     "output_type": "stream",
     "name": "stdout",
     "text": [
      "\t {'val_loss': 4.320048809051514, 'val_accuracy': 0.05}\n"
     ]
    },
    {
     "output_type": "stream",
     "name": "stderr",
     "text": [
      "DEBUG flwr 2023-04-12 12:49:48,449 | server.py:229 | fit_round 11 received 2 results and 0 failures\n"
     ]
    },
    {
     "output_type": "stream",
     "name": "stdout",
     "text": [
      "\t {'train_loss': 4.072504878044128, 'train_accuracy': 0.47222222222222227}\n"
     ]
    },
    {
     "output_type": "stream",
     "name": "stderr",
     "text": [
      "INFO flwr 2023-04-12 12:49:53,463 | server.py:116 | fit progress: (11, 17.45981216430664, {'test_loss': 17.45981216430664, 'test_accuracy': 0.12}, 531.9212129000007)\n",
      "DEBUG flwr 2023-04-12 12:49:53,463 | server.py:165 | evaluate_round 11: strategy sampled 2 clients (out of 5)\n",
      "DEBUG flwr 2023-04-12 12:49:59,627 | server.py:179 | evaluate_round 11 received 2 results and 0 failures\n",
      "DEBUG flwr 2023-04-12 12:49:59,628 | server.py:215 | fit_round 12: strategy sampled 2 clients (out of 5)\n"
     ]
    },
    {
     "output_type": "stream",
     "name": "stdout",
     "text": [
      "\t {'val_loss': 4.118235111236572, 'val_accuracy': 0.15000000000000002}\n"
     ]
    },
    {
     "output_type": "stream",
     "name": "stderr",
     "text": [
      "DEBUG flwr 2023-04-12 12:50:40,230 | server.py:229 | fit_round 12 received 2 results and 0 failures\n"
     ]
    },
    {
     "output_type": "stream",
     "name": "stdout",
     "text": [
      "\t {'train_loss': 3.988115429878235, 'train_accuracy': 0.5777777777777778}\n"
     ]
    },
    {
     "output_type": "stream",
     "name": "stderr",
     "text": [
      "INFO flwr 2023-04-12 12:50:45,234 | server.py:116 | fit progress: (12, 17.180635452270508, {'test_loss': 17.180635452270508, 'test_accuracy': 0.12}, 583.692661299996)\n",
      "DEBUG flwr 2023-04-12 12:50:45,235 | server.py:165 | evaluate_round 12: strategy sampled 2 clients (out of 5)\n",
      "DEBUG flwr 2023-04-12 12:50:47,501 | server.py:179 | evaluate_round 12 received 2 results and 0 failures\n",
      "DEBUG flwr 2023-04-12 12:50:47,502 | server.py:215 | fit_round 13: strategy sampled 2 clients (out of 5)\n"
     ]
    },
    {
     "output_type": "stream",
     "name": "stdout",
     "text": [
      "\t {'val_loss': 4.167930603027344, 'val_accuracy': 0.1}\n"
     ]
    },
    {
     "output_type": "stream",
     "name": "stderr",
     "text": [
      "DEBUG flwr 2023-04-12 12:51:28,216 | server.py:229 | fit_round 13 received 2 results and 0 failures\n"
     ]
    },
    {
     "output_type": "stream",
     "name": "stdout",
     "text": [
      "\t {'train_loss': 3.792476534843445, 'train_accuracy': 0.5777777777777778}\n"
     ]
    },
    {
     "output_type": "stream",
     "name": "stderr",
     "text": [
      "INFO flwr 2023-04-12 12:51:33,174 | server.py:116 | fit progress: (13, 17.098064422607422, {'test_loss': 17.098064422607422, 'test_accuracy': 0.13}, 631.6322564000002)\n",
      "DEBUG flwr 2023-04-12 12:51:33,175 | server.py:165 | evaluate_round 13: strategy sampled 2 clients (out of 5)\n",
      "DEBUG flwr 2023-04-12 12:51:35,305 | server.py:179 | evaluate_round 13 received 2 results and 0 failures\n",
      "DEBUG flwr 2023-04-12 12:51:35,305 | server.py:215 | fit_round 14: strategy sampled 2 clients (out of 5)\n"
     ]
    },
    {
     "output_type": "stream",
     "name": "stdout",
     "text": [
      "\t {'val_loss': 4.299976825714111, 'val_accuracy': 0.1}\n"
     ]
    },
    {
     "output_type": "stream",
     "name": "stderr",
     "text": [
      "DEBUG flwr 2023-04-12 12:52:15,432 | server.py:229 | fit_round 14 received 2 results and 0 failures\n"
     ]
    },
    {
     "output_type": "stream",
     "name": "stdout",
     "text": [
      "\t {'train_loss': 4.240056753158569, 'train_accuracy': 0.24444444444444444}\n"
     ]
    },
    {
     "output_type": "stream",
     "name": "stderr",
     "text": [
      "INFO flwr 2023-04-12 12:52:20,448 | server.py:116 | fit progress: (14, 16.972976684570312, {'test_loss': 16.972976684570312, 'test_accuracy': 0.16}, 678.9062412999992)\n",
      "DEBUG flwr 2023-04-12 12:52:20,448 | server.py:165 | evaluate_round 14: strategy sampled 2 clients (out of 5)\n",
      "DEBUG flwr 2023-04-12 12:52:22,545 | server.py:179 | evaluate_round 14 received 2 results and 0 failures\n",
      "DEBUG flwr 2023-04-12 12:52:22,545 | server.py:215 | fit_round 15: strategy sampled 2 clients (out of 5)\n"
     ]
    },
    {
     "output_type": "stream",
     "name": "stdout",
     "text": [
      "\t {'val_loss': 4.106956243515015, 'val_accuracy': 0.1}\n"
     ]
    },
    {
     "output_type": "stream",
     "name": "stderr",
     "text": [
      "DEBUG flwr 2023-04-12 12:53:03,469 | server.py:229 | fit_round 15 received 2 results and 0 failures\n"
     ]
    },
    {
     "output_type": "stream",
     "name": "stdout",
     "text": [
      "\t {'train_loss': 3.9353796243667603, 'train_accuracy': 0.5277777777777778}\n"
     ]
    },
    {
     "output_type": "stream",
     "name": "stderr",
     "text": [
      "INFO flwr 2023-04-12 12:53:08,480 | server.py:116 | fit progress: (15, 17.05359649658203, {'test_loss': 17.05359649658203, 'test_accuracy': 0.13}, 726.9385140999948)\n",
      "DEBUG flwr 2023-04-12 12:53:08,481 | server.py:165 | evaluate_round 15: strategy sampled 2 clients (out of 5)\n",
      "DEBUG flwr 2023-04-12 12:53:10,484 | server.py:179 | evaluate_round 15 received 2 results and 0 failures\n",
      "DEBUG flwr 2023-04-12 12:53:10,485 | server.py:215 | fit_round 16: strategy sampled 2 clients (out of 5)\n"
     ]
    },
    {
     "output_type": "stream",
     "name": "stdout",
     "text": [
      "\t {'val_loss': 4.12276828289032, 'val_accuracy': 0.1}\n"
     ]
    },
    {
     "output_type": "stream",
     "name": "stderr",
     "text": [
      "DEBUG flwr 2023-04-12 12:53:50,632 | server.py:229 | fit_round 16 received 2 results and 0 failures\n"
     ]
    },
    {
     "output_type": "stream",
     "name": "stdout",
     "text": [
      "\t {'train_loss': 4.047748327255249, 'train_accuracy': 0.3499999999999999}\n"
     ]
    },
    {
     "output_type": "stream",
     "name": "stderr",
     "text": [
      "INFO flwr 2023-04-12 12:53:55,631 | server.py:116 | fit progress: (16, 16.98076629638672, {'test_loss': 16.98076629638672, 'test_accuracy': 0.15}, 774.0890116999944)\n",
      "DEBUG flwr 2023-04-12 12:53:55,632 | server.py:165 | evaluate_round 16: strategy sampled 2 clients (out of 5)\n",
      "DEBUG flwr 2023-04-12 12:53:57,767 | server.py:179 | evaluate_round 16 received 2 results and 0 failures\n",
      "DEBUG flwr 2023-04-12 12:53:57,768 | server.py:215 | fit_round 17: strategy sampled 2 clients (out of 5)\n"
     ]
    },
    {
     "output_type": "stream",
     "name": "stdout",
     "text": [
      "\t {'val_loss': 4.057090520858765, 'val_accuracy': 0.2}\n"
     ]
    },
    {
     "output_type": "stream",
     "name": "stderr",
     "text": [
      "DEBUG flwr 2023-04-12 12:54:38,220 | server.py:229 | fit_round 17 received 2 results and 0 failures\n"
     ]
    },
    {
     "output_type": "stream",
     "name": "stdout",
     "text": [
      "\t {'train_loss': 3.777163028717041, 'train_accuracy': 0.48888888888888893}\n"
     ]
    },
    {
     "output_type": "stream",
     "name": "stderr",
     "text": [
      "INFO flwr 2023-04-12 12:54:43,179 | server.py:116 | fit progress: (17, 16.602848052978516, {'test_loss': 16.602848052978516, 'test_accuracy': 0.12}, 821.6376335999958)\n",
      "DEBUG flwr 2023-04-12 12:54:43,180 | server.py:165 | evaluate_round 17: strategy sampled 2 clients (out of 5)\n",
      "DEBUG flwr 2023-04-12 12:54:45,173 | server.py:179 | evaluate_round 17 received 2 results and 0 failures\n",
      "DEBUG flwr 2023-04-12 12:54:45,174 | server.py:215 | fit_round 18: strategy sampled 2 clients (out of 5)\n"
     ]
    },
    {
     "output_type": "stream",
     "name": "stdout",
     "text": [
      "\t {'val_loss': 4.016368985176086, 'val_accuracy': 0.1}\n"
     ]
    },
    {
     "output_type": "stream",
     "name": "stderr",
     "text": [
      "DEBUG flwr 2023-04-12 12:55:25,220 | server.py:229 | fit_round 18 received 2 results and 0 failures\n"
     ]
    },
    {
     "output_type": "stream",
     "name": "stdout",
     "text": [
      "\t {'train_loss': 3.787190318107605, 'train_accuracy': 0.5666666666666667}\n"
     ]
    },
    {
     "output_type": "stream",
     "name": "stderr",
     "text": [
      "INFO flwr 2023-04-12 12:55:30,180 | server.py:116 | fit progress: (18, 16.875173568725586, {'test_loss': 16.875173568725586, 'test_accuracy': 0.15}, 868.6383598999964)\n",
      "DEBUG flwr 2023-04-12 12:55:30,181 | server.py:165 | evaluate_round 18: strategy sampled 2 clients (out of 5)\n",
      "DEBUG flwr 2023-04-12 12:55:35,684 | server.py:179 | evaluate_round 18 received 2 results and 0 failures\n",
      "DEBUG flwr 2023-04-12 12:55:35,685 | server.py:215 | fit_round 19: strategy sampled 2 clients (out of 5)\n"
     ]
    },
    {
     "output_type": "stream",
     "name": "stdout",
     "text": [
      "\t {'val_loss': 4.154071927070618, 'val_accuracy': 0.2}\n"
     ]
    },
    {
     "output_type": "stream",
     "name": "stderr",
     "text": [
      "DEBUG flwr 2023-04-12 12:56:16,056 | server.py:229 | fit_round 19 received 2 results and 0 failures\n"
     ]
    },
    {
     "output_type": "stream",
     "name": "stdout",
     "text": [
      "\t {'train_loss': 3.6760400533676147, 'train_accuracy': 0.6444444444444444}\n"
     ]
    },
    {
     "output_type": "stream",
     "name": "stderr",
     "text": [
      "INFO flwr 2023-04-12 12:56:21,031 | server.py:116 | fit progress: (19, 16.47003173828125, {'test_loss': 16.47003173828125, 'test_accuracy': 0.13}, 919.4893802000006)\n",
      "DEBUG flwr 2023-04-12 12:56:21,032 | server.py:165 | evaluate_round 19: strategy sampled 2 clients (out of 5)\n",
      "DEBUG flwr 2023-04-12 12:56:23,097 | server.py:179 | evaluate_round 19 received 2 results and 0 failures\n",
      "DEBUG flwr 2023-04-12 12:56:23,097 | server.py:215 | fit_round 20: strategy sampled 2 clients (out of 5)\n"
     ]
    },
    {
     "output_type": "stream",
     "name": "stdout",
     "text": [
      "\t {'val_loss': 3.647863268852234, 'val_accuracy': 0.2}\n"
     ]
    },
    {
     "output_type": "stream",
     "name": "stderr",
     "text": [
      "DEBUG flwr 2023-04-12 12:57:03,529 | server.py:229 | fit_round 20 received 2 results and 0 failures\n"
     ]
    },
    {
     "output_type": "stream",
     "name": "stdout",
     "text": [
      "\t {'train_loss': 3.7895994186401367, 'train_accuracy': 0.5499999999999999}\n"
     ]
    },
    {
     "output_type": "stream",
     "name": "stderr",
     "text": [
      "INFO flwr 2023-04-12 12:57:08,533 | server.py:116 | fit progress: (20, 16.768905639648438, {'test_loss': 16.768905639648438, 'test_accuracy': 0.13}, 966.9919770999986)\n",
      "DEBUG flwr 2023-04-12 12:57:08,534 | server.py:165 | evaluate_round 20: strategy sampled 2 clients (out of 5)\n",
      "DEBUG flwr 2023-04-12 12:57:10,644 | server.py:179 | evaluate_round 20 received 2 results and 0 failures\n",
      "DEBUG flwr 2023-04-12 12:57:10,645 | server.py:215 | fit_round 21: strategy sampled 2 clients (out of 5)\n"
     ]
    },
    {
     "output_type": "stream",
     "name": "stdout",
     "text": [
      "\t {'val_loss': 3.8323906660079956, 'val_accuracy': 0.2}\n"
     ]
    },
    {
     "output_type": "stream",
     "name": "stderr",
     "text": [
      "DEBUG flwr 2023-04-12 12:57:50,967 | server.py:229 | fit_round 21 received 2 results and 0 failures\n"
     ]
    },
    {
     "output_type": "stream",
     "name": "stdout",
     "text": [
      "\t {'train_loss': 3.33183491230011, 'train_accuracy': 0.7277777777777777}\n"
     ]
    },
    {
     "output_type": "stream",
     "name": "stderr",
     "text": [
      "INFO flwr 2023-04-12 12:57:55,991 | server.py:116 | fit progress: (21, 16.36055564880371, {'test_loss': 16.36055564880371, 'test_accuracy': 0.11}, 1014.448921999996)\n",
      "DEBUG flwr 2023-04-12 12:57:55,991 | server.py:165 | evaluate_round 21: strategy sampled 2 clients (out of 5)\n",
      "DEBUG flwr 2023-04-12 12:57:58,130 | server.py:179 | evaluate_round 21 received 2 results and 0 failures\n",
      "DEBUG flwr 2023-04-12 12:57:58,130 | server.py:215 | fit_round 22: strategy sampled 2 clients (out of 5)\n"
     ]
    },
    {
     "output_type": "stream",
     "name": "stdout",
     "text": [
      "\t {'val_loss': 3.729132294654846, 'val_accuracy': 0.15000000000000002}\n"
     ]
    },
    {
     "output_type": "stream",
     "name": "stderr",
     "text": [
      "DEBUG flwr 2023-04-12 12:58:39,118 | server.py:229 | fit_round 22 received 2 results and 0 failures\n"
     ]
    },
    {
     "output_type": "stream",
     "name": "stdout",
     "text": [
      "\t {'train_loss': 3.8248666524887085, 'train_accuracy': 0.41111111111111115}\n"
     ]
    },
    {
     "output_type": "stream",
     "name": "stderr",
     "text": [
      "INFO flwr 2023-04-12 12:58:44,076 | server.py:116 | fit progress: (22, 16.651565551757812, {'test_loss': 16.651565551757812, 'test_accuracy': 0.15}, 1062.5339902999985)\n",
      "DEBUG flwr 2023-04-12 12:58:44,076 | server.py:165 | evaluate_round 22: strategy sampled 2 clients (out of 5)\n",
      "DEBUG flwr 2023-04-12 12:58:46,181 | server.py:179 | evaluate_round 22 received 2 results and 0 failures\n",
      "DEBUG flwr 2023-04-12 12:58:46,181 | server.py:215 | fit_round 23: strategy sampled 2 clients (out of 5)\n"
     ]
    },
    {
     "output_type": "stream",
     "name": "stdout",
     "text": [
      "\t {'val_loss': 3.6811676025390625, 'val_accuracy': 0.15000000000000002}\n"
     ]
    },
    {
     "output_type": "stream",
     "name": "stderr",
     "text": [
      "DEBUG flwr 2023-04-12 12:59:26,257 | server.py:229 | fit_round 23 received 2 results and 0 failures\n"
     ]
    },
    {
     "output_type": "stream",
     "name": "stdout",
     "text": [
      "\t {'train_loss': 3.875445246696472, 'train_accuracy': 0.6055555555555555}\n"
     ]
    },
    {
     "output_type": "stream",
     "name": "stderr",
     "text": [
      "INFO flwr 2023-04-12 12:59:31,230 | server.py:116 | fit progress: (23, 16.49669647216797, {'test_loss': 16.49669647216797, 'test_accuracy': 0.13}, 1109.6884891000009)\n",
      "DEBUG flwr 2023-04-12 12:59:31,230 | server.py:165 | evaluate_round 23: strategy sampled 2 clients (out of 5)\n",
      "DEBUG flwr 2023-04-12 12:59:33,502 | server.py:179 | evaluate_round 23 received 2 results and 0 failures\n",
      "DEBUG flwr 2023-04-12 12:59:33,503 | server.py:215 | fit_round 24: strategy sampled 2 clients (out of 5)\n"
     ]
    },
    {
     "output_type": "stream",
     "name": "stdout",
     "text": [
      "\t {'val_loss': 3.8392765522003174, 'val_accuracy': 0.2}\n"
     ]
    },
    {
     "output_type": "stream",
     "name": "stderr",
     "text": [
      "DEBUG flwr 2023-04-12 13:00:14,007 | server.py:229 | fit_round 24 received 2 results and 0 failures\n"
     ]
    },
    {
     "output_type": "stream",
     "name": "stdout",
     "text": [
      "\t {'train_loss': 3.4107813835144043, 'train_accuracy': 0.7722222222222223}\n"
     ]
    },
    {
     "output_type": "stream",
     "name": "stderr",
     "text": [
      "INFO flwr 2023-04-12 13:00:18,992 | server.py:116 | fit progress: (24, 16.721174240112305, {'test_loss': 16.721174240112305, 'test_accuracy': 0.13}, 1157.4505735999992)\n",
      "DEBUG flwr 2023-04-12 13:00:18,993 | server.py:165 | evaluate_round 24: strategy sampled 2 clients (out of 5)\n",
      "DEBUG flwr 2023-04-12 13:00:21,067 | server.py:179 | evaluate_round 24 received 2 results and 0 failures\n",
      "DEBUG flwr 2023-04-12 13:00:21,068 | server.py:215 | fit_round 25: strategy sampled 2 clients (out of 5)\n"
     ]
    },
    {
     "output_type": "stream",
     "name": "stdout",
     "text": [
      "\t {'val_loss': 4.098787546157837, 'val_accuracy': 0.15000000000000002}\n"
     ]
    },
    {
     "output_type": "stream",
     "name": "stderr",
     "text": [
      "DEBUG flwr 2023-04-12 13:01:01,252 | server.py:229 | fit_round 25 received 2 results and 0 failures\n"
     ]
    },
    {
     "output_type": "stream",
     "name": "stdout",
     "text": [
      "\t {'train_loss': 3.481008529663086, 'train_accuracy': 0.6}\n"
     ]
    },
    {
     "output_type": "stream",
     "name": "stderr",
     "text": [
      "INFO flwr 2023-04-12 13:01:06,408 | server.py:116 | fit progress: (25, 16.519882202148438, {'test_loss': 16.519882202148438, 'test_accuracy': 0.12}, 1204.8663975999953)\n",
      "DEBUG flwr 2023-04-12 13:01:06,409 | server.py:165 | evaluate_round 25: strategy sampled 2 clients (out of 5)\n",
      "DEBUG flwr 2023-04-12 13:01:08,487 | server.py:179 | evaluate_round 25 received 2 results and 0 failures\n",
      "DEBUG flwr 2023-04-12 13:01:08,487 | server.py:215 | fit_round 26: strategy sampled 2 clients (out of 5)\n"
     ]
    },
    {
     "output_type": "stream",
     "name": "stdout",
     "text": [
      "\t {'val_loss': 3.8213425874710083, 'val_accuracy': 0.2}\n"
     ]
    },
    {
     "output_type": "stream",
     "name": "stderr",
     "text": [
      "DEBUG flwr 2023-04-12 13:01:48,853 | server.py:229 | fit_round 26 received 2 results and 0 failures\n"
     ]
    },
    {
     "output_type": "stream",
     "name": "stdout",
     "text": [
      "\t {'train_loss': 3.379026174545288, 'train_accuracy': 0.7777777777777778}\n"
     ]
    },
    {
     "output_type": "stream",
     "name": "stderr",
     "text": [
      "INFO flwr 2023-04-12 13:01:53,863 | server.py:116 | fit progress: (26, 16.27960205078125, {'test_loss': 16.27960205078125, 'test_accuracy': 0.12}, 1252.321534099996)\n",
      "DEBUG flwr 2023-04-12 13:01:53,864 | server.py:165 | evaluate_round 26: strategy sampled 2 clients (out of 5)\n",
      "DEBUG flwr 2023-04-12 13:01:55,954 | server.py:179 | evaluate_round 26 received 2 results and 0 failures\n",
      "DEBUG flwr 2023-04-12 13:01:55,954 | server.py:215 | fit_round 27: strategy sampled 2 clients (out of 5)\n"
     ]
    },
    {
     "output_type": "stream",
     "name": "stdout",
     "text": [
      "\t {'val_loss': 3.533736228942871, 'val_accuracy': 0.2}\n"
     ]
    },
    {
     "output_type": "stream",
     "name": "stderr",
     "text": [
      "DEBUG flwr 2023-04-12 13:02:36,132 | server.py:229 | fit_round 27 received 2 results and 0 failures\n"
     ]
    },
    {
     "output_type": "stream",
     "name": "stdout",
     "text": [
      "\t {'train_loss': 3.46720290184021, 'train_accuracy': 0.6666666666666666}\n"
     ]
    },
    {
     "output_type": "stream",
     "name": "stderr",
     "text": [
      "INFO flwr 2023-04-12 13:02:41,078 | server.py:116 | fit progress: (27, 16.52467155456543, {'test_loss': 16.52467155456543, 'test_accuracy': 0.13}, 1299.5362929999974)\n",
      "DEBUG flwr 2023-04-12 13:02:41,078 | server.py:165 | evaluate_round 27: strategy sampled 2 clients (out of 5)\n",
      "DEBUG flwr 2023-04-12 13:02:43,358 | server.py:179 | evaluate_round 27 received 2 results and 0 failures\n",
      "DEBUG flwr 2023-04-12 13:02:43,359 | server.py:215 | fit_round 28: strategy sampled 2 clients (out of 5)\n"
     ]
    },
    {
     "output_type": "stream",
     "name": "stdout",
     "text": [
      "\t {'val_loss': 3.7699785232543945, 'val_accuracy': 0.25}\n"
     ]
    },
    {
     "output_type": "stream",
     "name": "stderr",
     "text": [
      "DEBUG flwr 2023-04-12 13:03:23,737 | server.py:229 | fit_round 28 received 2 results and 0 failures\n"
     ]
    },
    {
     "output_type": "stream",
     "name": "stdout",
     "text": [
      "\t {'train_loss': 3.320172429084778, 'train_accuracy': 0.6944444444444443}\n"
     ]
    },
    {
     "output_type": "stream",
     "name": "stderr",
     "text": [
      "INFO flwr 2023-04-12 13:03:28,705 | server.py:116 | fit progress: (28, 16.413801193237305, {'test_loss': 16.413801193237305, 'test_accuracy': 0.14}, 1347.1636766999945)\n",
      "DEBUG flwr 2023-04-12 13:03:28,706 | server.py:165 | evaluate_round 28: strategy sampled 2 clients (out of 5)\n",
      "DEBUG flwr 2023-04-12 13:03:30,767 | server.py:179 | evaluate_round 28 received 2 results and 0 failures\n",
      "DEBUG flwr 2023-04-12 13:03:30,767 | server.py:215 | fit_round 29: strategy sampled 2 clients (out of 5)\n"
     ]
    },
    {
     "output_type": "stream",
     "name": "stdout",
     "text": [
      "\t {'val_loss': 3.5385764837265015, 'val_accuracy': 0.35}\n"
     ]
    },
    {
     "output_type": "stream",
     "name": "stderr",
     "text": [
      "DEBUG flwr 2023-04-12 13:04:11,269 | server.py:229 | fit_round 29 received 2 results and 0 failures\n"
     ]
    },
    {
     "output_type": "stream",
     "name": "stdout",
     "text": [
      "\t {'train_loss': 3.7010642290115356, 'train_accuracy': 0.6277777777777778}\n"
     ]
    },
    {
     "output_type": "stream",
     "name": "stderr",
     "text": [
      "INFO flwr 2023-04-12 13:04:16,245 | server.py:116 | fit progress: (29, 16.443330764770508, {'test_loss': 16.443330764770508, 'test_accuracy': 0.13}, 1394.7039315000002)\n",
      "DEBUG flwr 2023-04-12 13:04:16,246 | server.py:165 | evaluate_round 29: strategy sampled 2 clients (out of 5)\n",
      "DEBUG flwr 2023-04-12 13:04:18,465 | server.py:179 | evaluate_round 29 received 2 results and 0 failures\n",
      "DEBUG flwr 2023-04-12 13:04:18,466 | server.py:215 | fit_round 30: strategy sampled 2 clients (out of 5)\n"
     ]
    },
    {
     "output_type": "stream",
     "name": "stdout",
     "text": [
      "\t {'val_loss': 3.7483673095703125, 'val_accuracy': 0.25}\n"
     ]
    },
    {
     "output_type": "stream",
     "name": "stderr",
     "text": [
      "DEBUG flwr 2023-04-12 13:04:58,613 | server.py:229 | fit_round 30 received 2 results and 0 failures\n"
     ]
    },
    {
     "output_type": "stream",
     "name": "stdout",
     "text": [
      "\t {'train_loss': 3.4535998106002808, 'train_accuracy': 0.7388888888888889}\n"
     ]
    },
    {
     "output_type": "stream",
     "name": "stderr",
     "text": [
      "INFO flwr 2023-04-12 13:05:03,618 | server.py:116 | fit progress: (30, 15.985363006591797, {'test_loss': 15.985363006591797, 'test_accuracy': 0.14}, 1442.0764486999979)\n",
      "DEBUG flwr 2023-04-12 13:05:03,618 | server.py:165 | evaluate_round 30: strategy sampled 2 clients (out of 5)\n",
      "DEBUG flwr 2023-04-12 13:05:05,705 | server.py:179 | evaluate_round 30 received 2 results and 0 failures\n",
      "DEBUG flwr 2023-04-12 13:05:05,706 | server.py:215 | fit_round 31: strategy sampled 2 clients (out of 5)\n"
     ]
    },
    {
     "output_type": "stream",
     "name": "stdout",
     "text": [
      "\t {'val_loss': 3.8365447521209717, 'val_accuracy': 0.2}\n"
     ]
    },
    {
     "output_type": "stream",
     "name": "stderr",
     "text": [
      "DEBUG flwr 2023-04-12 13:05:46,310 | server.py:229 | fit_round 31 received 2 results and 0 failures\n"
     ]
    },
    {
     "output_type": "stream",
     "name": "stdout",
     "text": [
      "\t {'train_loss': 3.219427227973938, 'train_accuracy': 0.7333333333333334}\n"
     ]
    },
    {
     "output_type": "stream",
     "name": "stderr",
     "text": [
      "INFO flwr 2023-04-12 13:05:51,281 | server.py:116 | fit progress: (31, 15.91146469116211, {'test_loss': 15.91146469116211, 'test_accuracy': 0.15}, 1489.7399229000002)\n",
      "DEBUG flwr 2023-04-12 13:05:51,282 | server.py:165 | evaluate_round 31: strategy sampled 2 clients (out of 5)\n",
      "DEBUG flwr 2023-04-12 13:05:53,425 | server.py:179 | evaluate_round 31 received 2 results and 0 failures\n",
      "DEBUG flwr 2023-04-12 13:05:53,426 | server.py:215 | fit_round 32: strategy sampled 2 clients (out of 5)\n"
     ]
    },
    {
     "output_type": "stream",
     "name": "stdout",
     "text": [
      "\t {'val_loss': 3.8195444345474243, 'val_accuracy': 0.2}\n"
     ]
    },
    {
     "output_type": "stream",
     "name": "stderr",
     "text": [
      "DEBUG flwr 2023-04-12 13:06:33,970 | server.py:229 | fit_round 32 received 2 results and 0 failures\n"
     ]
    },
    {
     "output_type": "stream",
     "name": "stdout",
     "text": [
      "\t {'train_loss': 3.374963164329529, 'train_accuracy': 0.75}\n"
     ]
    },
    {
     "output_type": "stream",
     "name": "stderr",
     "text": [
      "INFO flwr 2023-04-12 13:06:39,138 | server.py:116 | fit progress: (32, 16.003732681274414, {'test_loss': 16.003732681274414, 'test_accuracy': 0.18}, 1537.5967105999953)\n",
      "DEBUG flwr 2023-04-12 13:06:39,139 | server.py:165 | evaluate_round 32: strategy sampled 2 clients (out of 5)\n",
      "DEBUG flwr 2023-04-12 13:06:41,586 | server.py:179 | evaluate_round 32 received 2 results and 0 failures\n",
      "DEBUG flwr 2023-04-12 13:06:41,587 | server.py:215 | fit_round 33: strategy sampled 2 clients (out of 5)\n"
     ]
    },
    {
     "output_type": "stream",
     "name": "stdout",
     "text": [
      "\t {'val_loss': 3.7236881256103516, 'val_accuracy': 0.25}\n"
     ]
    },
    {
     "output_type": "stream",
     "name": "stderr",
     "text": [
      "DEBUG flwr 2023-04-12 13:07:22,781 | server.py:229 | fit_round 33 received 2 results and 0 failures\n"
     ]
    },
    {
     "output_type": "stream",
     "name": "stdout",
     "text": [
      "\t {'train_loss': 3.2303236722946167, 'train_accuracy': 0.7611111111111111}\n"
     ]
    },
    {
     "output_type": "stream",
     "name": "stderr",
     "text": [
      "INFO flwr 2023-04-12 13:07:27,847 | server.py:116 | fit progress: (33, 15.682031631469727, {'test_loss': 15.682031631469727, 'test_accuracy': 0.14}, 1586.305431599998)\n",
      "DEBUG flwr 2023-04-12 13:07:27,848 | server.py:165 | evaluate_round 33: strategy sampled 2 clients (out of 5)\n",
      "DEBUG flwr 2023-04-12 13:07:29,854 | server.py:179 | evaluate_round 33 received 2 results and 0 failures\n",
      "DEBUG flwr 2023-04-12 13:07:29,855 | server.py:215 | fit_round 34: strategy sampled 2 clients (out of 5)\n"
     ]
    },
    {
     "output_type": "stream",
     "name": "stdout",
     "text": [
      "\t {'val_loss': 3.685798764228821, 'val_accuracy': 0.2}\n"
     ]
    },
    {
     "output_type": "stream",
     "name": "stderr",
     "text": [
      "DEBUG flwr 2023-04-12 13:08:11,056 | server.py:229 | fit_round 34 received 2 results and 0 failures\n"
     ]
    },
    {
     "output_type": "stream",
     "name": "stdout",
     "text": [
      "\t {'train_loss': 2.7863210439682007, 'train_accuracy': 0.861111111111111}\n"
     ]
    },
    {
     "output_type": "stream",
     "name": "stderr",
     "text": [
      "INFO flwr 2023-04-12 13:08:16,126 | server.py:116 | fit progress: (34, 15.607781410217285, {'test_loss': 15.607781410217285, 'test_accuracy': 0.16}, 1634.5847211)\n",
      "DEBUG flwr 2023-04-12 13:08:16,127 | server.py:165 | evaluate_round 34: strategy sampled 2 clients (out of 5)\n",
      "DEBUG flwr 2023-04-12 13:08:22,120 | server.py:179 | evaluate_round 34 received 2 results and 0 failures\n",
      "DEBUG flwr 2023-04-12 13:08:22,120 | server.py:215 | fit_round 35: strategy sampled 2 clients (out of 5)\n"
     ]
    },
    {
     "output_type": "stream",
     "name": "stdout",
     "text": [
      "\t {'val_loss': 3.621305823326111, 'val_accuracy': 0.2}\n"
     ]
    },
    {
     "output_type": "stream",
     "name": "stderr",
     "text": [
      "DEBUG flwr 2023-04-12 13:09:03,614 | server.py:229 | fit_round 35 received 2 results and 0 failures\n"
     ]
    },
    {
     "output_type": "stream",
     "name": "stdout",
     "text": [
      "\t {'train_loss': 2.890092134475708, 'train_accuracy': 0.8277777777777778}\n"
     ]
    },
    {
     "output_type": "stream",
     "name": "stderr",
     "text": [
      "INFO flwr 2023-04-12 13:09:08,717 | server.py:116 | fit progress: (35, 15.489605903625488, {'test_loss': 15.489605903625488, 'test_accuracy': 0.16}, 1687.1754575999948)\n",
      "DEBUG flwr 2023-04-12 13:09:08,718 | server.py:165 | evaluate_round 35: strategy sampled 2 clients (out of 5)\n",
      "DEBUG flwr 2023-04-12 13:09:10,855 | server.py:179 | evaluate_round 35 received 2 results and 0 failures\n",
      "DEBUG flwr 2023-04-12 13:09:10,856 | server.py:215 | fit_round 36: strategy sampled 2 clients (out of 5)\n"
     ]
    },
    {
     "output_type": "stream",
     "name": "stdout",
     "text": [
      "\t {'val_loss': 3.506308078765869, 'val_accuracy': 0.25}\n"
     ]
    },
    {
     "output_type": "stream",
     "name": "stderr",
     "text": [
      "DEBUG flwr 2023-04-12 13:09:52,308 | server.py:229 | fit_round 36 received 2 results and 0 failures\n"
     ]
    },
    {
     "output_type": "stream",
     "name": "stdout",
     "text": [
      "\t {'train_loss': 3.3354592323303223, 'train_accuracy': 0.7444444444444445}\n"
     ]
    },
    {
     "output_type": "stream",
     "name": "stderr",
     "text": [
      "INFO flwr 2023-04-12 13:09:57,401 | server.py:116 | fit progress: (36, 15.556930541992188, {'test_loss': 15.556930541992188, 'test_accuracy': 0.18}, 1735.8593450999979)\n",
      "DEBUG flwr 2023-04-12 13:09:57,402 | server.py:165 | evaluate_round 36: strategy sampled 2 clients (out of 5)\n",
      "DEBUG flwr 2023-04-12 13:09:59,388 | server.py:179 | evaluate_round 36 received 2 results and 0 failures\n",
      "DEBUG flwr 2023-04-12 13:09:59,389 | server.py:215 | fit_round 37: strategy sampled 2 clients (out of 5)\n"
     ]
    },
    {
     "output_type": "stream",
     "name": "stdout",
     "text": [
      "\t {'val_loss': 4.004642128944397, 'val_accuracy': 0.15000000000000002}\n"
     ]
    },
    {
     "output_type": "stream",
     "name": "stderr",
     "text": [
      "DEBUG flwr 2023-04-12 13:10:40,967 | server.py:229 | fit_round 37 received 2 results and 0 failures\n"
     ]
    },
    {
     "output_type": "stream",
     "name": "stdout",
     "text": [
      "\t {'train_loss': 2.871122360229492, 'train_accuracy': 0.8555555555555555}\n"
     ]
    },
    {
     "output_type": "stream",
     "name": "stderr",
     "text": [
      "INFO flwr 2023-04-12 13:10:46,053 | server.py:116 | fit progress: (37, 15.307611465454102, {'test_loss': 15.307611465454102, 'test_accuracy': 0.16}, 1784.5113754999984)\n",
      "DEBUG flwr 2023-04-12 13:10:46,053 | server.py:165 | evaluate_round 37: strategy sampled 2 clients (out of 5)\n",
      "DEBUG flwr 2023-04-12 13:10:48,047 | server.py:179 | evaluate_round 37 received 2 results and 0 failures\n",
      "DEBUG flwr 2023-04-12 13:10:48,048 | server.py:215 | fit_round 38: strategy sampled 2 clients (out of 5)\n"
     ]
    },
    {
     "output_type": "stream",
     "name": "stdout",
     "text": [
      "\t {'val_loss': 3.147505760192871, 'val_accuracy': 0.3}\n"
     ]
    },
    {
     "output_type": "stream",
     "name": "stderr",
     "text": [
      "DEBUG flwr 2023-04-12 13:11:29,273 | server.py:229 | fit_round 38 received 2 results and 0 failures\n"
     ]
    },
    {
     "output_type": "stream",
     "name": "stdout",
     "text": [
      "\t {'train_loss': 2.8382487297058105, 'train_accuracy': 0.8444444444444444}\n"
     ]
    },
    {
     "output_type": "stream",
     "name": "stderr",
     "text": [
      "INFO flwr 2023-04-12 13:11:34,394 | server.py:116 | fit progress: (38, 15.525663375854492, {'test_loss': 15.525663375854492, 'test_accuracy': 0.19}, 1832.8527224999998)\n",
      "DEBUG flwr 2023-04-12 13:11:34,395 | server.py:165 | evaluate_round 38: strategy sampled 2 clients (out of 5)\n",
      "DEBUG flwr 2023-04-12 13:11:40,548 | server.py:179 | evaluate_round 38 received 2 results and 0 failures\n",
      "DEBUG flwr 2023-04-12 13:11:40,549 | server.py:215 | fit_round 39: strategy sampled 2 clients (out of 5)\n"
     ]
    },
    {
     "output_type": "stream",
     "name": "stdout",
     "text": [
      "\t {'val_loss': 3.994585871696472, 'val_accuracy': 0.15000000000000002}\n"
     ]
    },
    {
     "output_type": "stream",
     "name": "stderr",
     "text": [
      "DEBUG flwr 2023-04-12 13:12:21,425 | server.py:229 | fit_round 39 received 2 results and 0 failures\n"
     ]
    },
    {
     "output_type": "stream",
     "name": "stdout",
     "text": [
      "\t {'train_loss': 3.0617527961730957, 'train_accuracy': 0.85}\n"
     ]
    },
    {
     "output_type": "stream",
     "name": "stderr",
     "text": [
      "INFO flwr 2023-04-12 13:12:26,457 | server.py:116 | fit progress: (39, 15.446233749389648, {'test_loss': 15.446233749389648, 'test_accuracy': 0.17}, 1884.9160473999946)\n",
      "DEBUG flwr 2023-04-12 13:12:26,458 | server.py:165 | evaluate_round 39: strategy sampled 2 clients (out of 5)\n",
      "DEBUG flwr 2023-04-12 13:12:28,589 | server.py:179 | evaluate_round 39 received 2 results and 0 failures\n",
      "DEBUG flwr 2023-04-12 13:12:28,590 | server.py:215 | fit_round 40: strategy sampled 2 clients (out of 5)\n"
     ]
    },
    {
     "output_type": "stream",
     "name": "stdout",
     "text": [
      "\t {'val_loss': 3.8658530712127686, 'val_accuracy': 0.15000000000000002}\n"
     ]
    },
    {
     "output_type": "stream",
     "name": "stderr",
     "text": [
      "DEBUG flwr 2023-04-12 13:13:09,070 | server.py:229 | fit_round 40 received 2 results and 0 failures\n"
     ]
    },
    {
     "output_type": "stream",
     "name": "stdout",
     "text": [
      "\t {'train_loss': 2.9363200664520264, 'train_accuracy': 0.8833333333333333}\n"
     ]
    },
    {
     "output_type": "stream",
     "name": "stderr",
     "text": [
      "INFO flwr 2023-04-12 13:13:14,121 | server.py:116 | fit progress: (40, 15.565868377685547, {'test_loss': 15.565868377685547, 'test_accuracy': 0.18}, 1932.5795299999954)\n",
      "DEBUG flwr 2023-04-12 13:13:14,122 | server.py:165 | evaluate_round 40: strategy sampled 2 clients (out of 5)\n",
      "DEBUG flwr 2023-04-12 13:13:16,263 | server.py:179 | evaluate_round 40 received 2 results and 0 failures\n",
      "DEBUG flwr 2023-04-12 13:13:16,263 | server.py:215 | fit_round 41: strategy sampled 2 clients (out of 5)\n"
     ]
    },
    {
     "output_type": "stream",
     "name": "stdout",
     "text": [
      "\t {'val_loss': 3.8992327451705933, 'val_accuracy': 0.15000000000000002}\n"
     ]
    },
    {
     "output_type": "stream",
     "name": "stderr",
     "text": [
      "DEBUG flwr 2023-04-12 13:13:56,713 | server.py:229 | fit_round 41 received 2 results and 0 failures\n"
     ]
    },
    {
     "output_type": "stream",
     "name": "stdout",
     "text": [
      "\t {'train_loss': 2.804860830307007, 'train_accuracy': 0.9}\n"
     ]
    },
    {
     "output_type": "stream",
     "name": "stderr",
     "text": [
      "INFO flwr 2023-04-12 13:14:01,840 | server.py:116 | fit progress: (41, 15.52761173248291, {'test_loss': 15.52761173248291, 'test_accuracy': 0.18}, 1980.2985847999953)\n",
      "DEBUG flwr 2023-04-12 13:14:01,841 | server.py:165 | evaluate_round 41: strategy sampled 2 clients (out of 5)\n",
      "DEBUG flwr 2023-04-12 13:14:03,857 | server.py:179 | evaluate_round 41 received 2 results and 0 failures\n",
      "DEBUG flwr 2023-04-12 13:14:03,858 | server.py:215 | fit_round 42: strategy sampled 2 clients (out of 5)\n"
     ]
    },
    {
     "output_type": "stream",
     "name": "stdout",
     "text": [
      "\t {'val_loss': 3.4427943229675293, 'val_accuracy': 0.30000000000000004}\n"
     ]
    },
    {
     "output_type": "stream",
     "name": "stderr",
     "text": [
      "DEBUG flwr 2023-04-12 13:14:44,008 | server.py:229 | fit_round 42 received 2 results and 0 failures\n"
     ]
    },
    {
     "output_type": "stream",
     "name": "stdout",
     "text": [
      "\t {'train_loss': 2.470608115196228, 'train_accuracy': 0.9277777777777777}\n"
     ]
    },
    {
     "output_type": "stream",
     "name": "stderr",
     "text": [
      "INFO flwr 2023-04-12 13:14:49,000 | server.py:116 | fit progress: (42, 15.224303245544434, {'test_loss': 15.224303245544434, 'test_accuracy': 0.18}, 2027.4588413999954)\n",
      "DEBUG flwr 2023-04-12 13:14:49,001 | server.py:165 | evaluate_round 42: strategy sampled 2 clients (out of 5)\n",
      "DEBUG flwr 2023-04-12 13:14:51,202 | server.py:179 | evaluate_round 42 received 2 results and 0 failures\n",
      "DEBUG flwr 2023-04-12 13:14:51,202 | server.py:215 | fit_round 43: strategy sampled 2 clients (out of 5)\n"
     ]
    },
    {
     "output_type": "stream",
     "name": "stdout",
     "text": [
      "\t {'val_loss': 3.504841446876526, 'val_accuracy': 0.2}\n"
     ]
    },
    {
     "output_type": "stream",
     "name": "stderr",
     "text": [
      "DEBUG flwr 2023-04-12 13:15:31,374 | server.py:229 | fit_round 43 received 2 results and 0 failures\n"
     ]
    },
    {
     "output_type": "stream",
     "name": "stdout",
     "text": [
      "\t {'train_loss': 2.4580860137939453, 'train_accuracy': 0.9055555555555556}\n"
     ]
    },
    {
     "output_type": "stream",
     "name": "stderr",
     "text": [
      "INFO flwr 2023-04-12 13:15:36,341 | server.py:116 | fit progress: (43, 15.195348739624023, {'test_loss': 15.195348739624023, 'test_accuracy': 0.17}, 2074.7995431999952)\n",
      "DEBUG flwr 2023-04-12 13:15:36,342 | server.py:165 | evaluate_round 43: strategy sampled 2 clients (out of 5)\n",
      "DEBUG flwr 2023-04-12 13:15:38,407 | server.py:179 | evaluate_round 43 received 2 results and 0 failures\n",
      "DEBUG flwr 2023-04-12 13:15:38,407 | server.py:215 | fit_round 44: strategy sampled 2 clients (out of 5)\n"
     ]
    },
    {
     "output_type": "stream",
     "name": "stdout",
     "text": [
      "\t {'val_loss': 3.6221871376037598, 'val_accuracy': 0.2}\n"
     ]
    },
    {
     "output_type": "stream",
     "name": "stderr",
     "text": [
      "DEBUG flwr 2023-04-12 13:16:19,199 | server.py:229 | fit_round 44 received 2 results and 0 failures\n"
     ]
    },
    {
     "output_type": "stream",
     "name": "stdout",
     "text": [
      "\t {'train_loss': 2.988365888595581, 'train_accuracy': 0.811111111111111}\n"
     ]
    },
    {
     "output_type": "stream",
     "name": "stderr",
     "text": [
      "INFO flwr 2023-04-12 13:16:24,171 | server.py:116 | fit progress: (44, 15.341547012329102, {'test_loss': 15.341547012329102, 'test_accuracy': 0.19}, 2122.628810299997)\n",
      "DEBUG flwr 2023-04-12 13:16:24,171 | server.py:165 | evaluate_round 44: strategy sampled 2 clients (out of 5)\n",
      "DEBUG flwr 2023-04-12 13:16:26,167 | server.py:179 | evaluate_round 44 received 2 results and 0 failures\n",
      "DEBUG flwr 2023-04-12 13:16:26,168 | server.py:215 | fit_round 45: strategy sampled 2 clients (out of 5)\n"
     ]
    },
    {
     "output_type": "stream",
     "name": "stdout",
     "text": [
      "\t {'val_loss': 3.4851242303848267, 'val_accuracy': 0.2}\n"
     ]
    },
    {
     "output_type": "stream",
     "name": "stderr",
     "text": [
      "DEBUG flwr 2023-04-12 13:17:06,351 | server.py:229 | fit_round 45 received 2 results and 0 failures\n"
     ]
    },
    {
     "output_type": "stream",
     "name": "stdout",
     "text": [
      "\t {'train_loss': 2.2108688354492188, 'train_accuracy': 0.9444444444444443}\n"
     ]
    },
    {
     "output_type": "stream",
     "name": "stderr",
     "text": [
      "INFO flwr 2023-04-12 13:17:11,380 | server.py:116 | fit progress: (45, 14.938369750976562, {'test_loss': 14.938369750976562, 'test_accuracy': 0.19}, 2169.838192299998)\n",
      "DEBUG flwr 2023-04-12 13:17:11,380 | server.py:165 | evaluate_round 45: strategy sampled 2 clients (out of 5)\n",
      "DEBUG flwr 2023-04-12 13:17:13,457 | server.py:179 | evaluate_round 45 received 2 results and 0 failures\n",
      "DEBUG flwr 2023-04-12 13:17:13,458 | server.py:215 | fit_round 46: strategy sampled 2 clients (out of 5)\n"
     ]
    },
    {
     "output_type": "stream",
     "name": "stdout",
     "text": [
      "\t {'val_loss': 3.7815370559692383, 'val_accuracy': 0.15000000000000002}\n"
     ]
    },
    {
     "output_type": "stream",
     "name": "stderr",
     "text": [
      "DEBUG flwr 2023-04-12 13:17:53,647 | server.py:229 | fit_round 46 received 2 results and 0 failures\n"
     ]
    },
    {
     "output_type": "stream",
     "name": "stdout",
     "text": [
      "\t {'train_loss': 2.260374426841736, 'train_accuracy': 0.9388888888888888}\n"
     ]
    },
    {
     "output_type": "stream",
     "name": "stderr",
     "text": [
      "INFO flwr 2023-04-12 13:17:58,641 | server.py:116 | fit progress: (46, 14.969865798950195, {'test_loss': 14.969865798950195, 'test_accuracy': 0.18}, 2217.0995700999993)\n",
      "DEBUG flwr 2023-04-12 13:17:58,642 | server.py:165 | evaluate_round 46: strategy sampled 2 clients (out of 5)\n",
      "DEBUG flwr 2023-04-12 13:18:04,478 | server.py:179 | evaluate_round 46 received 2 results and 0 failures\n",
      "DEBUG flwr 2023-04-12 13:18:04,479 | server.py:215 | fit_round 47: strategy sampled 2 clients (out of 5)\n"
     ]
    },
    {
     "output_type": "stream",
     "name": "stdout",
     "text": [
      "\t {'val_loss': 3.7559802532196045, 'val_accuracy': 0.15000000000000002}\n"
     ]
    },
    {
     "output_type": "stream",
     "name": "stderr",
     "text": [
      "DEBUG flwr 2023-04-12 13:18:44,996 | server.py:229 | fit_round 47 received 2 results and 0 failures\n"
     ]
    },
    {
     "output_type": "stream",
     "name": "stdout",
     "text": [
      "\t {'train_loss': 2.585997462272644, 'train_accuracy': 0.9222222222222222}\n"
     ]
    },
    {
     "output_type": "stream",
     "name": "stderr",
     "text": [
      "INFO flwr 2023-04-12 13:18:49,991 | server.py:116 | fit progress: (47, 15.127973556518555, {'test_loss': 15.127973556518555, 'test_accuracy': 0.21}, 2268.4490372)\n",
      "DEBUG flwr 2023-04-12 13:18:49,991 | server.py:165 | evaluate_round 47: strategy sampled 2 clients (out of 5)\n",
      "DEBUG flwr 2023-04-12 13:18:52,113 | server.py:179 | evaluate_round 47 received 2 results and 0 failures\n",
      "DEBUG flwr 2023-04-12 13:18:52,114 | server.py:215 | fit_round 48: strategy sampled 2 clients (out of 5)\n"
     ]
    },
    {
     "output_type": "stream",
     "name": "stdout",
     "text": [
      "\t {'val_loss': 3.4572724103927612, 'val_accuracy': 0.15000000000000002}\n"
     ]
    },
    {
     "output_type": "stream",
     "name": "stderr",
     "text": [
      "DEBUG flwr 2023-04-12 13:19:32,154 | server.py:229 | fit_round 48 received 2 results and 0 failures\n"
     ]
    },
    {
     "output_type": "stream",
     "name": "stdout",
     "text": [
      "\t {'train_loss': 2.6099042892456055, 'train_accuracy': 0.9111111111111111}\n"
     ]
    },
    {
     "output_type": "stream",
     "name": "stderr",
     "text": [
      "INFO flwr 2023-04-12 13:19:37,161 | server.py:116 | fit progress: (48, 15.106080055236816, {'test_loss': 15.106080055236816, 'test_accuracy': 0.18}, 2315.6196244999956)\n",
      "DEBUG flwr 2023-04-12 13:19:37,162 | server.py:165 | evaluate_round 48: strategy sampled 2 clients (out of 5)\n",
      "DEBUG flwr 2023-04-12 13:19:42,994 | server.py:179 | evaluate_round 48 received 2 results and 0 failures\n",
      "DEBUG flwr 2023-04-12 13:19:42,996 | server.py:215 | fit_round 49: strategy sampled 2 clients (out of 5)\n"
     ]
    },
    {
     "output_type": "stream",
     "name": "stdout",
     "text": [
      "\t {'val_loss': 3.5148130655288696, 'val_accuracy': 0.25}\n"
     ]
    },
    {
     "output_type": "stream",
     "name": "stderr",
     "text": [
      "DEBUG flwr 2023-04-12 13:20:23,277 | server.py:229 | fit_round 49 received 2 results and 0 failures\n"
     ]
    },
    {
     "output_type": "stream",
     "name": "stdout",
     "text": [
      "\t {'train_loss': 2.6494561433792114, 'train_accuracy': 0.861111111111111}\n"
     ]
    },
    {
     "output_type": "stream",
     "name": "stderr",
     "text": [
      "INFO flwr 2023-04-12 13:20:28,300 | server.py:116 | fit progress: (49, 15.154228210449219, {'test_loss': 15.154228210449219, 'test_accuracy': 0.2}, 2366.7579041999998)\n",
      "DEBUG flwr 2023-04-12 13:20:28,300 | server.py:165 | evaluate_round 49: strategy sampled 2 clients (out of 5)\n",
      "DEBUG flwr 2023-04-12 13:20:30,366 | server.py:179 | evaluate_round 49 received 2 results and 0 failures\n",
      "DEBUG flwr 2023-04-12 13:20:30,366 | server.py:215 | fit_round 50: strategy sampled 2 clients (out of 5)\n"
     ]
    },
    {
     "output_type": "stream",
     "name": "stdout",
     "text": [
      "\t {'val_loss': 3.3637962341308594, 'val_accuracy': 0.30000000000000004}\n"
     ]
    },
    {
     "output_type": "stream",
     "name": "stderr",
     "text": [
      "DEBUG flwr 2023-04-12 13:21:10,816 | server.py:229 | fit_round 50 received 2 results and 0 failures\n"
     ]
    },
    {
     "output_type": "stream",
     "name": "stdout",
     "text": [
      "\t {'train_loss': 3.013151168823242, 'train_accuracy': 0.8444444444444444}\n"
     ]
    },
    {
     "output_type": "stream",
     "name": "stderr",
     "text": [
      "INFO flwr 2023-04-12 13:21:15,846 | server.py:116 | fit progress: (50, 15.16935920715332, {'test_loss': 15.16935920715332, 'test_accuracy': 0.19}, 2414.304348999998)\n",
      "DEBUG flwr 2023-04-12 13:21:15,847 | server.py:165 | evaluate_round 50: strategy sampled 2 clients (out of 5)\n",
      "DEBUG flwr 2023-04-12 13:21:18,058 | server.py:179 | evaluate_round 50 received 2 results and 0 failures\n",
      "INFO flwr 2023-04-12 13:21:18,059 | server.py:144 | FL finished in 2416.517183799995\n",
      "INFO flwr 2023-04-12 13:21:18,077 | app.py:202 | app_fit: losses_distributed [(1, 4.5455498695373535), (2, 4.533475875854492), (3, 4.430221080780029), (4, 4.462148666381836), (5, 4.394837141036987), (6, 4.378868579864502), (7, 4.336103200912476), (8, 4.427217960357666), (9, 4.430269956588745), (10, 4.320048809051514), (11, 4.118235111236572), (12, 4.167930603027344), (13, 4.299976825714111), (14, 4.106956243515015), (15, 4.12276828289032), (16, 4.057090520858765), (17, 4.016368985176086), (18, 4.154071927070618), (19, 3.647863268852234), (20, 3.8323906660079956), (21, 3.729132294654846), (22, 3.6811676025390625), (23, 3.8392765522003174), (24, 4.098787546157837), (25, 3.8213425874710083), (26, 3.533736228942871), (27, 3.7699785232543945), (28, 3.5385764837265015), (29, 3.7483673095703125), (30, 3.8365447521209717), (31, 3.8195444345474243), (32, 3.7236881256103516), (33, 3.685798764228821), (34, 3.621305823326111), (35, 3.506308078765869), (36, 4.004642128944397), (37, 3.147505760192871), (38, 3.994585871696472), (39, 3.8658530712127686), (40, 3.8992327451705933), (41, 3.4427943229675293), (42, 3.504841446876526), (43, 3.6221871376037598), (44, 3.4851242303848267), (45, 3.7815370559692383), (46, 3.7559802532196045), (47, 3.4572724103927612), (48, 3.5148130655288696), (49, 3.3637962341308594), (50, 3.7967774868011475)]\n",
      "INFO flwr 2023-04-12 13:21:18,078 | app.py:203 | app_fit: metrics_distributed {'val_loss': [(1, 4.5455498695373535), (2, 4.533475875854492), (3, 4.430221080780029), (4, 4.462148666381836), (5, 4.394837141036987), (6, 4.378868579864502), (7, 4.336103200912476), (8, 4.427217960357666), (9, 4.430269956588745), (10, 4.320048809051514), (11, 4.118235111236572), (12, 4.167930603027344), (13, 4.299976825714111), (14, 4.106956243515015), (15, 4.12276828289032), (16, 4.057090520858765), (17, 4.016368985176086), (18, 4.154071927070618), (19, 3.647863268852234), (20, 3.8323906660079956), (21, 3.729132294654846), (22, 3.6811676025390625), (23, 3.8392765522003174), (24, 4.098787546157837), (25, 3.8213425874710083), (26, 3.533736228942871), (27, 3.7699785232543945), (28, 3.5385764837265015), (29, 3.7483673095703125), (30, 3.8365447521209717), (31, 3.8195444345474243), (32, 3.7236881256103516), (33, 3.685798764228821), (34, 3.621305823326111), (35, 3.506308078765869), (36, 4.004642128944397), (37, 3.147505760192871), (38, 3.994585871696472), (39, 3.8658530712127686), (40, 3.8992327451705933), (41, 3.4427943229675293), (42, 3.504841446876526), (43, 3.6221871376037598), (44, 3.4851242303848267), (45, 3.7815370559692383), (46, 3.7559802532196045), (47, 3.4572724103927612), (48, 3.5148130655288696), (49, 3.3637962341308594), (50, 3.7967774868011475)], 'val_accuracy': [(1, 0.0), (2, 0.05), (3, 0.1), (4, 0.1), (5, 0.2), (6, 0.15000000000000002), (7, 0.1), (8, 0.05), (9, 0.1), (10, 0.05), (11, 0.15000000000000002), (12, 0.1), (13, 0.1), (14, 0.1), (15, 0.1), (16, 0.2), (17, 0.1), (18, 0.2), (19, 0.2), (20, 0.2), (21, 0.15000000000000002), (22, 0.15000000000000002), (23, 0.2), (24, 0.15000000000000002), (25, 0.2), (26, 0.2), (27, 0.25), (28, 0.35), (29, 0.25), (30, 0.2), (31, 0.2), (32, 0.25), (33, 0.2), (34, 0.2), (35, 0.25), (36, 0.15000000000000002), (37, 0.3), (38, 0.15000000000000002), (39, 0.15000000000000002), (40, 0.15000000000000002), (41, 0.30000000000000004), (42, 0.2), (43, 0.2), (44, 0.2), (45, 0.15000000000000002), (46, 0.15000000000000002), (47, 0.15000000000000002), (48, 0.25), (49, 0.30000000000000004), (50, 0.15000000000000002)]}\n",
      "INFO flwr 2023-04-12 13:21:18,078 | app.py:204 | app_fit: losses_centralized [(0, 18.432228088378906), (1, 18.434192657470703), (2, 18.23693084716797), (3, 18.009309768676758), (4, 17.983070373535156), (5, 18.06720542907715), (6, 17.77403450012207), (7, 17.63821792602539), (8, 17.323997497558594), (9, 17.43212127685547), (10, 17.334705352783203), (11, 17.45981216430664), (12, 17.180635452270508), (13, 17.098064422607422), (14, 16.972976684570312), (15, 17.05359649658203), (16, 16.98076629638672), (17, 16.602848052978516), (18, 16.875173568725586), (19, 16.47003173828125), (20, 16.768905639648438), (21, 16.36055564880371), (22, 16.651565551757812), (23, 16.49669647216797), (24, 16.721174240112305), (25, 16.519882202148438), (26, 16.27960205078125), (27, 16.52467155456543), (28, 16.413801193237305), (29, 16.443330764770508), (30, 15.985363006591797), (31, 15.91146469116211), (32, 16.003732681274414), (33, 15.682031631469727), (34, 15.607781410217285), (35, 15.489605903625488), (36, 15.556930541992188), (37, 15.307611465454102), (38, 15.525663375854492), (39, 15.446233749389648), (40, 15.565868377685547), (41, 15.52761173248291), (42, 15.224303245544434), (43, 15.195348739624023), (44, 15.341547012329102), (45, 14.938369750976562), (46, 14.969865798950195), (47, 15.127973556518555), (48, 15.106080055236816), (49, 15.154228210449219), (50, 15.16935920715332)]\n",
      "INFO flwr 2023-04-12 13:21:18,079 | app.py:205 | app_fit: metrics_centralized {'test_loss': [(0, 18.432228088378906), (1, 18.434192657470703), (2, 18.23693084716797), (3, 18.009309768676758), (4, 17.983070373535156), (5, 18.06720542907715), (6, 17.77403450012207), (7, 17.63821792602539), (8, 17.323997497558594), (9, 17.43212127685547), (10, 17.334705352783203), (11, 17.45981216430664), (12, 17.180635452270508), (13, 17.098064422607422), (14, 16.972976684570312), (15, 17.05359649658203), (16, 16.98076629638672), (17, 16.602848052978516), (18, 16.875173568725586), (19, 16.47003173828125), (20, 16.768905639648438), (21, 16.36055564880371), (22, 16.651565551757812), (23, 16.49669647216797), (24, 16.721174240112305), (25, 16.519882202148438), (26, 16.27960205078125), (27, 16.52467155456543), (28, 16.413801193237305), (29, 16.443330764770508), (30, 15.985363006591797), (31, 15.91146469116211), (32, 16.003732681274414), (33, 15.682031631469727), (34, 15.607781410217285), (35, 15.489605903625488), (36, 15.556930541992188), (37, 15.307611465454102), (38, 15.525663375854492), (39, 15.446233749389648), (40, 15.565868377685547), (41, 15.52761173248291), (42, 15.224303245544434), (43, 15.195348739624023), (44, 15.341547012329102), (45, 14.938369750976562), (46, 14.969865798950195), (47, 15.127973556518555), (48, 15.106080055236816), (49, 15.154228210449219), (50, 15.16935920715332)], 'test_accuracy': [(0, 0.0), (1, 0.0), (2, 0.03), (3, 0.09), (4, 0.08), (5, 0.07), (6, 0.15), (7, 0.13), (8, 0.14), (9, 0.12), (10, 0.16), (11, 0.12), (12, 0.12), (13, 0.13), (14, 0.16), (15, 0.13), (16, 0.15), (17, 0.12), (18, 0.15), (19, 0.13), (20, 0.13), (21, 0.11), (22, 0.15), (23, 0.13), (24, 0.13), (25, 0.12), (26, 0.12), (27, 0.13), (28, 0.14), (29, 0.13), (30, 0.14), (31, 0.15), (32, 0.18), (33, 0.14), (34, 0.16), (35, 0.16), (36, 0.18), (37, 0.16), (38, 0.19), (39, 0.17), (40, 0.18), (41, 0.18), (42, 0.18), (43, 0.17), (44, 0.19), (45, 0.19), (46, 0.18), (47, 0.21), (48, 0.18), (49, 0.2), (50, 0.19)]}\n"
     ]
    },
    {
     "output_type": "stream",
     "name": "stdout",
     "text": [
      "\t {'val_loss': 3.7967774868011475, 'val_accuracy': 0.15000000000000002}\n"
     ]
    },
    {
     "output_type": "execute_result",
     "data": {
      "text/plain": [
       "History (loss, distributed):\n",
       "\tround 1: 4.5455498695373535\n",
       "\tround 2: 4.533475875854492\n",
       "\tround 3: 4.430221080780029\n",
       "\tround 4: 4.462148666381836\n",
       "\tround 5: 4.394837141036987\n",
       "\tround 6: 4.378868579864502\n",
       "\tround 7: 4.336103200912476\n",
       "\tround 8: 4.427217960357666\n",
       "\tround 9: 4.430269956588745\n",
       "\tround 10: 4.320048809051514\n",
       "\tround 11: 4.118235111236572\n",
       "\tround 12: 4.167930603027344\n",
       "\tround 13: 4.299976825714111\n",
       "\tround 14: 4.106956243515015\n",
       "\tround 15: 4.12276828289032\n",
       "\tround 16: 4.057090520858765\n",
       "\tround 17: 4.016368985176086\n",
       "\tround 18: 4.154071927070618\n",
       "\tround 19: 3.647863268852234\n",
       "\tround 20: 3.8323906660079956\n",
       "\tround 21: 3.729132294654846\n",
       "\tround 22: 3.6811676025390625\n",
       "\tround 23: 3.8392765522003174\n",
       "\tround 24: 4.098787546157837\n",
       "\tround 25: 3.8213425874710083\n",
       "\tround 26: 3.533736228942871\n",
       "\tround 27: 3.7699785232543945\n",
       "\tround 28: 3.5385764837265015\n",
       "\tround 29: 3.7483673095703125\n",
       "\tround 30: 3.8365447521209717\n",
       "\tround 31: 3.8195444345474243\n",
       "\tround 32: 3.7236881256103516\n",
       "\tround 33: 3.685798764228821\n",
       "\tround 34: 3.621305823326111\n",
       "\tround 35: 3.506308078765869\n",
       "\tround 36: 4.004642128944397\n",
       "\tround 37: 3.147505760192871\n",
       "\tround 38: 3.994585871696472\n",
       "\tround 39: 3.8658530712127686\n",
       "\tround 40: 3.8992327451705933\n",
       "\tround 41: 3.4427943229675293\n",
       "\tround 42: 3.504841446876526\n",
       "\tround 43: 3.6221871376037598\n",
       "\tround 44: 3.4851242303848267\n",
       "\tround 45: 3.7815370559692383\n",
       "\tround 46: 3.7559802532196045\n",
       "\tround 47: 3.4572724103927612\n",
       "\tround 48: 3.5148130655288696\n",
       "\tround 49: 3.3637962341308594\n",
       "\tround 50: 3.7967774868011475\n",
       "History (loss, centralized):\n",
       "\tround 0: 18.432228088378906\n",
       "\tround 1: 18.434192657470703\n",
       "\tround 2: 18.23693084716797\n",
       "\tround 3: 18.009309768676758\n",
       "\tround 4: 17.983070373535156\n",
       "\tround 5: 18.06720542907715\n",
       "\tround 6: 17.77403450012207\n",
       "\tround 7: 17.63821792602539\n",
       "\tround 8: 17.323997497558594\n",
       "\tround 9: 17.43212127685547\n",
       "\tround 10: 17.334705352783203\n",
       "\tround 11: 17.45981216430664\n",
       "\tround 12: 17.180635452270508\n",
       "\tround 13: 17.098064422607422\n",
       "\tround 14: 16.972976684570312\n",
       "\tround 15: 17.05359649658203\n",
       "\tround 16: 16.98076629638672\n",
       "\tround 17: 16.602848052978516\n",
       "\tround 18: 16.875173568725586\n",
       "\tround 19: 16.47003173828125\n",
       "\tround 20: 16.768905639648438\n",
       "\tround 21: 16.36055564880371\n",
       "\tround 22: 16.651565551757812\n",
       "\tround 23: 16.49669647216797\n",
       "\tround 24: 16.721174240112305\n",
       "\tround 25: 16.519882202148438\n",
       "\tround 26: 16.27960205078125\n",
       "\tround 27: 16.52467155456543\n",
       "\tround 28: 16.413801193237305\n",
       "\tround 29: 16.443330764770508\n",
       "\tround 30: 15.985363006591797\n",
       "\tround 31: 15.91146469116211\n",
       "\tround 32: 16.003732681274414\n",
       "\tround 33: 15.682031631469727\n",
       "\tround 34: 15.607781410217285\n",
       "\tround 35: 15.489605903625488\n",
       "\tround 36: 15.556930541992188\n",
       "\tround 37: 15.307611465454102\n",
       "\tround 38: 15.525663375854492\n",
       "\tround 39: 15.446233749389648\n",
       "\tround 40: 15.565868377685547\n",
       "\tround 41: 15.52761173248291\n",
       "\tround 42: 15.224303245544434\n",
       "\tround 43: 15.195348739624023\n",
       "\tround 44: 15.341547012329102\n",
       "\tround 45: 14.938369750976562\n",
       "\tround 46: 14.969865798950195\n",
       "\tround 47: 15.127973556518555\n",
       "\tround 48: 15.106080055236816\n",
       "\tround 49: 15.154228210449219\n",
       "\tround 50: 15.16935920715332\n",
       "History (metrics, distributed):\n",
       "{'val_loss': [(1, 4.5455498695373535), (2, 4.533475875854492), (3, 4.430221080780029), (4, 4.462148666381836), (5, 4.394837141036987), (6, 4.378868579864502), (7, 4.336103200912476), (8, 4.427217960357666), (9, 4.430269956588745), (10, 4.320048809051514), (11, 4.118235111236572), (12, 4.167930603027344), (13, 4.299976825714111), (14, 4.106956243515015), (15, 4.12276828289032), (16, 4.057090520858765), (17, 4.016368985176086), (18, 4.154071927070618), (19, 3.647863268852234), (20, 3.8323906660079956), (21, 3.729132294654846), (22, 3.6811676025390625), (23, 3.8392765522003174), (24, 4.098787546157837), (25, 3.8213425874710083), (26, 3.533736228942871), (27, 3.7699785232543945), (28, 3.5385764837265015), (29, 3.7483673095703125), (30, 3.8365447521209717), (31, 3.8195444345474243), (32, 3.7236881256103516), (33, 3.685798764228821), (34, 3.621305823326111), (35, 3.506308078765869), (36, 4.004642128944397), (37, 3.147505760192871), (38, 3.994585871696472), (39, 3.8658530712127686), (40, 3.8992327451705933), (41, 3.4427943229675293), (42, 3.504841446876526), (43, 3.6221871376037598), (44, 3.4851242303848267), (45, 3.7815370559692383), (46, 3.7559802532196045), (47, 3.4572724103927612), (48, 3.5148130655288696), (49, 3.3637962341308594), (50, 3.7967774868011475)], 'val_accuracy': [(1, 0.0), (2, 0.05), (3, 0.1), (4, 0.1), (5, 0.2), (6, 0.15000000000000002), (7, 0.1), (8, 0.05), (9, 0.1), (10, 0.05), (11, 0.15000000000000002), (12, 0.1), (13, 0.1), (14, 0.1), (15, 0.1), (16, 0.2), (17, 0.1), (18, 0.2), (19, 0.2), (20, 0.2), (21, 0.15000000000000002), (22, 0.15000000000000002), (23, 0.2), (24, 0.15000000000000002), (25, 0.2), (26, 0.2), (27, 0.25), (28, 0.35), (29, 0.25), (30, 0.2), (31, 0.2), (32, 0.25), (33, 0.2), (34, 0.2), (35, 0.25), (36, 0.15000000000000002), (37, 0.3), (38, 0.15000000000000002), (39, 0.15000000000000002), (40, 0.15000000000000002), (41, 0.30000000000000004), (42, 0.2), (43, 0.2), (44, 0.2), (45, 0.15000000000000002), (46, 0.15000000000000002), (47, 0.15000000000000002), (48, 0.25), (49, 0.30000000000000004), (50, 0.15000000000000002)]}History (metrics, centralized):\n",
       "{'test_loss': [(0, 18.432228088378906), (1, 18.434192657470703), (2, 18.23693084716797), (3, 18.009309768676758), (4, 17.983070373535156), (5, 18.06720542907715), (6, 17.77403450012207), (7, 17.63821792602539), (8, 17.323997497558594), (9, 17.43212127685547), (10, 17.334705352783203), (11, 17.45981216430664), (12, 17.180635452270508), (13, 17.098064422607422), (14, 16.972976684570312), (15, 17.05359649658203), (16, 16.98076629638672), (17, 16.602848052978516), (18, 16.875173568725586), (19, 16.47003173828125), (20, 16.768905639648438), (21, 16.36055564880371), (22, 16.651565551757812), (23, 16.49669647216797), (24, 16.721174240112305), (25, 16.519882202148438), (26, 16.27960205078125), (27, 16.52467155456543), (28, 16.413801193237305), (29, 16.443330764770508), (30, 15.985363006591797), (31, 15.91146469116211), (32, 16.003732681274414), (33, 15.682031631469727), (34, 15.607781410217285), (35, 15.489605903625488), (36, 15.556930541992188), (37, 15.307611465454102), (38, 15.525663375854492), (39, 15.446233749389648), (40, 15.565868377685547), (41, 15.52761173248291), (42, 15.224303245544434), (43, 15.195348739624023), (44, 15.341547012329102), (45, 14.938369750976562), (46, 14.969865798950195), (47, 15.127973556518555), (48, 15.106080055236816), (49, 15.154228210449219), (50, 15.16935920715332)], 'test_accuracy': [(0, 0.0), (1, 0.0), (2, 0.03), (3, 0.09), (4, 0.08), (5, 0.07), (6, 0.15), (7, 0.13), (8, 0.14), (9, 0.12), (10, 0.16), (11, 0.12), (12, 0.12), (13, 0.13), (14, 0.16), (15, 0.13), (16, 0.15), (17, 0.12), (18, 0.15), (19, 0.13), (20, 0.13), (21, 0.11), (22, 0.15), (23, 0.13), (24, 0.13), (25, 0.12), (26, 0.12), (27, 0.13), (28, 0.14), (29, 0.13), (30, 0.14), (31, 0.15), (32, 0.18), (33, 0.14), (34, 0.16), (35, 0.16), (36, 0.18), (37, 0.16), (38, 0.19), (39, 0.17), (40, 0.18), (41, 0.18), (42, 0.18), (43, 0.17), (44, 0.19), (45, 0.19), (46, 0.18), (47, 0.21), (48, 0.18), (49, 0.2), (50, 0.19)]}"
      ]
     },
     "metadata": {},
     "execution_count": 9
    }
   ],
   "metadata": {}
  }
 ],
 "nbformat": 4,
 "nbformat_minor": 2,
 "metadata": {
  "language_info": {
   "codemirror_mode": {
    "name": "ipython",
    "version": 3
   },
   "file_extension": ".py",
   "mimetype": "text/x-python",
   "name": "python",
   "nbconvert_exporter": "python",
   "pygments_lexer": "ipython3",
   "version": 3
  },
  "orig_nbformat": 4
 }
}