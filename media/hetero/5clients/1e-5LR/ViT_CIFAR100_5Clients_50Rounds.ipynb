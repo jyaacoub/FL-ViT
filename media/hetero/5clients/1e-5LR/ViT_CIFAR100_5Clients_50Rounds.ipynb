{
 "cells": [
  {
   "cell_type": "code",
   "execution_count": 8,
   "metadata": {},
   "outputs": [
    {
     "name": "stdout",
     "output_type": "stream",
     "text": [
      "num clients: 5\n",
      "num rounds: 50\n",
      "----------------------------------------\n",
      "client training set size: [90, 90, 90, 90, 90, 90, 90, 90, 90, 90]\n",
      "client validation set size: [10, 10, 10, 10, 10, 10, 10, 10, 10, 10]\n",
      "test set size: 100\n",
      "----------------------------------------\n",
      "model name: google/vit-base-patch16-224\n",
      "num classes: 100\n",
      "pre-trained: True\n",
      "learning rate: 0.0001\n",
      "batch size: 32\n",
      "epochs: 1\n"
     ]
    }
   ],
   "source": [
    "print('num clients:', NUM_CLIENTS)\n",
    "print('num rounds:', NUM_ROUNDS)\n",
    "print('--'*20)\n",
    "print('client training set size:', [len(t.dataset) for t in trainloaders])\n",
    "print('client validation set size:', [len(v.dataset) for v in valloaders])\n",
    "print('test set size:', len(testloader.dataset))\n",
    "print('--'*20)\n",
    "print('model name:', MODEL_NAME)\n",
    "print('num classes:', NUM_CLASSES)\n",
    "print('pre-trained:', PRE_TRAINED)\n",
    "print('learning rate:', LEARNING_RATE)\n",
    "print('batch size:', BATCH_SIZE)\n",
    "print('epochs:', EPOCHS)"
   ]
  },
  {
   "cell_type": "code",
   "execution_count": 9,
   "metadata": {},
   "outputs": [
    {
     "name": "stderr",
     "output_type": "stream",
     "text": [
      "INFO flwr 2023-04-12 00:31:42,621 | app.py:145 | Starting Flower simulation, config: ServerConfig(num_rounds=50, round_timeout=None)\n",
      "2023-04-12 00:31:45,155\tINFO worker.py:1529 -- Started a local Ray instance. View the dashboard at \u001b[1m\u001b[32m127.0.0.1:8265 \u001b[39m\u001b[22m\n",
      "INFO flwr 2023-04-12 00:31:46,512 | app.py:179 | Flower VCE: Ray initialized with resources: {'CPU': 24.0, 'node:127.0.0.1': 1.0, 'GPU': 1.0, 'memory': 14371526247.0, 'object_store_memory': 7185763123.0}\n",
      "INFO flwr 2023-04-12 00:31:46,513 | server.py:86 | Initializing global parameters\n",
      "INFO flwr 2023-04-12 00:31:46,513 | server.py:266 | Using initial parameters provided by strategy\n",
      "INFO flwr 2023-04-12 00:31:46,514 | server.py:88 | Evaluating initial parameters\n",
      "INFO flwr 2023-04-12 00:31:55,838 | server.py:91 | initial parameters (loss, other metrics): 19.039918899536133, {'test_loss': 19.039918899536133, 'test_accuracy': 0.01}\n",
      "INFO flwr 2023-04-12 00:31:55,839 | server.py:101 | FL starting\n",
      "DEBUG flwr 2023-04-12 00:31:55,840 | server.py:215 | fit_round 1: strategy sampled 2 clients (out of 5)\n",
      "DEBUG flwr 2023-04-12 00:33:34,102 | server.py:229 | fit_round 1 received 2 results and 0 failures\n"
     ]
    },
    {
     "name": "stdout",
     "output_type": "stream",
     "text": [
      "\t {'train_loss': 4.3607542514801025, 'train_accuracy': 0.044444444444444446}\n"
     ]
    },
    {
     "name": "stderr",
     "output_type": "stream",
     "text": [
      "INFO flwr 2023-04-12 00:33:44,095 | server.py:116 | fit progress: (1, 18.605003356933594, {'test_loss': 18.605003356933594, 'test_accuracy': 0.02}, 108.25582000000031)\n",
      "DEBUG flwr 2023-04-12 00:33:44,096 | server.py:165 | evaluate_round 1: strategy sampled 2 clients (out of 5)\n",
      "DEBUG flwr 2023-04-12 00:33:50,512 | server.py:179 | evaluate_round 1 received 2 results and 0 failures\n",
      "DEBUG flwr 2023-04-12 00:33:50,512 | server.py:215 | fit_round 2: strategy sampled 2 clients (out of 5)\n"
     ]
    },
    {
     "name": "stdout",
     "output_type": "stream",
     "text": [
      "\t {'val_loss': 4.799883604049683, 'val_accuracy': 0.05}\n"
     ]
    },
    {
     "name": "stderr",
     "output_type": "stream",
     "text": [
      "DEBUG flwr 2023-04-12 00:35:26,130 | server.py:229 | fit_round 2 received 2 results and 0 failures\n"
     ]
    },
    {
     "name": "stdout",
     "output_type": "stream",
     "text": [
      "\t {'train_loss': 3.8488049507141113, 'train_accuracy': 0.1722222222222222}\n"
     ]
    },
    {
     "name": "stderr",
     "output_type": "stream",
     "text": [
      "INFO flwr 2023-04-12 00:35:35,982 | server.py:116 | fit progress: (2, 17.1025447845459, {'test_loss': 17.1025447845459, 'test_accuracy': 0.11}, 220.1421917000007)\n",
      "DEBUG flwr 2023-04-12 00:35:35,982 | server.py:165 | evaluate_round 2: strategy sampled 2 clients (out of 5)\n",
      "DEBUG flwr 2023-04-12 00:35:42,353 | server.py:179 | evaluate_round 2 received 2 results and 0 failures\n",
      "DEBUG flwr 2023-04-12 00:35:42,354 | server.py:215 | fit_round 3: strategy sampled 2 clients (out of 5)\n"
     ]
    },
    {
     "name": "stdout",
     "output_type": "stream",
     "text": [
      "\t {'val_loss': 4.553986549377441, 'val_accuracy': 0.0}\n"
     ]
    },
    {
     "name": "stderr",
     "output_type": "stream",
     "text": [
      "DEBUG flwr 2023-04-12 00:37:18,269 | server.py:229 | fit_round 3 received 2 results and 0 failures\n"
     ]
    },
    {
     "name": "stdout",
     "output_type": "stream",
     "text": [
      "\t {'train_loss': 3.7038846015930176, 'train_accuracy': 0.31666666666666665}\n"
     ]
    },
    {
     "name": "stderr",
     "output_type": "stream",
     "text": [
      "INFO flwr 2023-04-12 00:37:28,125 | server.py:116 | fit progress: (3, 16.296794891357422, {'test_loss': 16.296794891357422, 'test_accuracy': 0.16}, 332.285167)\n",
      "DEBUG flwr 2023-04-12 00:37:28,125 | server.py:165 | evaluate_round 3: strategy sampled 2 clients (out of 5)\n",
      "DEBUG flwr 2023-04-12 00:37:34,359 | server.py:179 | evaluate_round 3 received 2 results and 0 failures\n",
      "DEBUG flwr 2023-04-12 00:37:34,360 | server.py:215 | fit_round 4: strategy sampled 2 clients (out of 5)\n"
     ]
    },
    {
     "name": "stdout",
     "output_type": "stream",
     "text": [
      "\t {'val_loss': 4.1568580865859985, 'val_accuracy': 0.1}\n"
     ]
    },
    {
     "name": "stderr",
     "output_type": "stream",
     "text": [
      "DEBUG flwr 2023-04-12 00:39:09,642 | server.py:229 | fit_round 4 received 2 results and 0 failures\n"
     ]
    },
    {
     "name": "stdout",
     "output_type": "stream",
     "text": [
      "\t {'train_loss': 3.264345407485962, 'train_accuracy': 0.5166666666666666}\n"
     ]
    },
    {
     "name": "stderr",
     "output_type": "stream",
     "text": [
      "INFO flwr 2023-04-12 00:39:19,592 | server.py:116 | fit progress: (4, 16.027568817138672, {'test_loss': 16.027568817138672, 'test_accuracy': 0.18}, 443.7526157000011)\n",
      "DEBUG flwr 2023-04-12 00:39:19,593 | server.py:165 | evaluate_round 4: strategy sampled 2 clients (out of 5)\n",
      "DEBUG flwr 2023-04-12 00:39:25,884 | server.py:179 | evaluate_round 4 received 2 results and 0 failures\n",
      "DEBUG flwr 2023-04-12 00:39:25,884 | server.py:215 | fit_round 5: strategy sampled 2 clients (out of 5)\n"
     ]
    },
    {
     "name": "stdout",
     "output_type": "stream",
     "text": [
      "\t {'val_loss': 4.019684433937073, 'val_accuracy': 0.2}\n"
     ]
    },
    {
     "name": "stderr",
     "output_type": "stream",
     "text": [
      "DEBUG flwr 2023-04-12 00:41:01,412 | server.py:229 | fit_round 5 received 2 results and 0 failures\n"
     ]
    },
    {
     "name": "stdout",
     "output_type": "stream",
     "text": [
      "\t {'train_loss': 3.5129075050354004, 'train_accuracy': 0.39444444444444454}\n"
     ]
    },
    {
     "name": "stderr",
     "output_type": "stream",
     "text": [
      "INFO flwr 2023-04-12 00:41:11,324 | server.py:116 | fit progress: (5, 16.08820915222168, {'test_loss': 16.08820915222168, 'test_accuracy': 0.19}, 555.4838426000006)\n",
      "DEBUG flwr 2023-04-12 00:41:11,324 | server.py:165 | evaluate_round 5: strategy sampled 2 clients (out of 5)\n",
      "DEBUG flwr 2023-04-12 00:41:17,459 | server.py:179 | evaluate_round 5 received 2 results and 0 failures\n",
      "DEBUG flwr 2023-04-12 00:41:17,459 | server.py:215 | fit_round 6: strategy sampled 2 clients (out of 5)\n"
     ]
    },
    {
     "name": "stdout",
     "output_type": "stream",
     "text": [
      "\t {'val_loss': 4.514571666717529, 'val_accuracy': 0.0}\n"
     ]
    },
    {
     "name": "stderr",
     "output_type": "stream",
     "text": [
      "DEBUG flwr 2023-04-12 00:42:52,557 | server.py:229 | fit_round 6 received 2 results and 0 failures\n"
     ]
    },
    {
     "name": "stdout",
     "output_type": "stream",
     "text": [
      "\t {'train_loss': 3.8391129970550537, 'train_accuracy': 0.2777777777777778}\n"
     ]
    },
    {
     "name": "stderr",
     "output_type": "stream",
     "text": [
      "INFO flwr 2023-04-12 00:43:02,351 | server.py:116 | fit progress: (6, 16.412899017333984, {'test_loss': 16.412899017333984, 'test_accuracy': 0.16}, 666.5113809000013)\n",
      "DEBUG flwr 2023-04-12 00:43:02,352 | server.py:165 | evaluate_round 6: strategy sampled 2 clients (out of 5)\n",
      "DEBUG flwr 2023-04-12 00:43:08,444 | server.py:179 | evaluate_round 6 received 2 results and 0 failures\n",
      "DEBUG flwr 2023-04-12 00:43:08,445 | server.py:215 | fit_round 7: strategy sampled 2 clients (out of 5)\n"
     ]
    },
    {
     "name": "stdout",
     "output_type": "stream",
     "text": [
      "\t {'val_loss': 3.9800989627838135, 'val_accuracy': 0.25}\n"
     ]
    },
    {
     "name": "stderr",
     "output_type": "stream",
     "text": [
      "DEBUG flwr 2023-04-12 00:44:43,388 | server.py:229 | fit_round 7 received 2 results and 0 failures\n"
     ]
    },
    {
     "name": "stdout",
     "output_type": "stream",
     "text": [
      "\t {'train_loss': 2.6200183629989624, 'train_accuracy': 0.8333333333333334}\n"
     ]
    },
    {
     "name": "stderr",
     "output_type": "stream",
     "text": [
      "INFO flwr 2023-04-12 00:44:53,162 | server.py:116 | fit progress: (7, 15.814949035644531, {'test_loss': 15.814949035644531, 'test_accuracy': 0.2}, 777.3225836000001)\n",
      "DEBUG flwr 2023-04-12 00:44:53,163 | server.py:165 | evaluate_round 7: strategy sampled 2 clients (out of 5)\n",
      "DEBUG flwr 2023-04-12 00:44:59,416 | server.py:179 | evaluate_round 7 received 2 results and 0 failures\n",
      "DEBUG flwr 2023-04-12 00:44:59,417 | server.py:215 | fit_round 8: strategy sampled 2 clients (out of 5)\n"
     ]
    },
    {
     "name": "stdout",
     "output_type": "stream",
     "text": [
      "\t {'val_loss': 3.5181604623794556, 'val_accuracy': 0.4}\n"
     ]
    },
    {
     "name": "stderr",
     "output_type": "stream",
     "text": [
      "DEBUG flwr 2023-04-12 00:46:34,118 | server.py:229 | fit_round 8 received 2 results and 0 failures\n"
     ]
    },
    {
     "name": "stdout",
     "output_type": "stream",
     "text": [
      "\t {'train_loss': 2.601013660430908, 'train_accuracy': 0.7944444444444444}\n"
     ]
    },
    {
     "name": "stderr",
     "output_type": "stream",
     "text": [
      "INFO flwr 2023-04-12 00:46:43,928 | server.py:116 | fit progress: (8, 15.25075912475586, {'test_loss': 15.25075912475586, 'test_accuracy': 0.21}, 888.0888088000011)\n",
      "DEBUG flwr 2023-04-12 00:46:43,929 | server.py:165 | evaluate_round 8: strategy sampled 2 clients (out of 5)\n",
      "DEBUG flwr 2023-04-12 00:46:50,024 | server.py:179 | evaluate_round 8 received 2 results and 0 failures\n",
      "DEBUG flwr 2023-04-12 00:46:50,025 | server.py:215 | fit_round 9: strategy sampled 2 clients (out of 5)\n"
     ]
    },
    {
     "name": "stdout",
     "output_type": "stream",
     "text": [
      "\t {'val_loss': 3.759294867515564, 'val_accuracy': 0.15000000000000002}\n"
     ]
    },
    {
     "name": "stderr",
     "output_type": "stream",
     "text": [
      "DEBUG flwr 2023-04-12 00:48:24,755 | server.py:229 | fit_round 9 received 2 results and 0 failures\n"
     ]
    },
    {
     "name": "stdout",
     "output_type": "stream",
     "text": [
      "\t {'train_loss': 1.9839357733726501, 'train_accuracy': 0.9}\n"
     ]
    },
    {
     "name": "stderr",
     "output_type": "stream",
     "text": [
      "INFO flwr 2023-04-12 00:48:34,546 | server.py:116 | fit progress: (9, 14.133331298828125, {'test_loss': 14.133331298828125, 'test_accuracy': 0.24}, 998.7064590999998)\n",
      "DEBUG flwr 2023-04-12 00:48:34,547 | server.py:165 | evaluate_round 9: strategy sampled 2 clients (out of 5)\n",
      "DEBUG flwr 2023-04-12 00:48:40,617 | server.py:179 | evaluate_round 9 received 2 results and 0 failures\n",
      "DEBUG flwr 2023-04-12 00:48:40,617 | server.py:215 | fit_round 10: strategy sampled 2 clients (out of 5)\n"
     ]
    },
    {
     "name": "stdout",
     "output_type": "stream",
     "text": [
      "\t {'val_loss': 3.845731735229492, 'val_accuracy': 0.1}\n"
     ]
    },
    {
     "name": "stderr",
     "output_type": "stream",
     "text": [
      "DEBUG flwr 2023-04-12 00:50:14,880 | server.py:229 | fit_round 10 received 2 results and 0 failures\n"
     ]
    },
    {
     "name": "stdout",
     "output_type": "stream",
     "text": [
      "\t {'train_loss': 3.359642505645752, 'train_accuracy': 0.5277777777777778}\n"
     ]
    },
    {
     "name": "stderr",
     "output_type": "stream",
     "text": [
      "INFO flwr 2023-04-12 00:50:24,640 | server.py:116 | fit progress: (10, 14.96272087097168, {'test_loss': 14.96272087097168, 'test_accuracy': 0.26}, 1108.8010758)\n",
      "DEBUG flwr 2023-04-12 00:50:24,641 | server.py:165 | evaluate_round 10: strategy sampled 2 clients (out of 5)\n",
      "DEBUG flwr 2023-04-12 00:50:30,701 | server.py:179 | evaluate_round 10 received 2 results and 0 failures\n",
      "DEBUG flwr 2023-04-12 00:50:30,702 | server.py:215 | fit_round 11: strategy sampled 2 clients (out of 5)\n"
     ]
    },
    {
     "name": "stdout",
     "output_type": "stream",
     "text": [
      "\t {'val_loss': 4.080368280410767, 'val_accuracy': 0.15000000000000002}\n"
     ]
    },
    {
     "name": "stderr",
     "output_type": "stream",
     "text": [
      "DEBUG flwr 2023-04-12 00:52:05,186 | server.py:229 | fit_round 11 received 2 results and 0 failures\n"
     ]
    },
    {
     "name": "stdout",
     "output_type": "stream",
     "text": [
      "\t {'train_loss': 1.5611993670463562, 'train_accuracy': 0.9611111111111111}\n"
     ]
    },
    {
     "name": "stderr",
     "output_type": "stream",
     "text": [
      "INFO flwr 2023-04-12 00:52:14,971 | server.py:116 | fit progress: (11, 13.802087783813477, {'test_loss': 13.802087783813477, 'test_accuracy': 0.23}, 1219.1320701000004)\n",
      "DEBUG flwr 2023-04-12 00:52:14,972 | server.py:165 | evaluate_round 11: strategy sampled 2 clients (out of 5)\n",
      "DEBUG flwr 2023-04-12 00:52:21,049 | server.py:179 | evaluate_round 11 received 2 results and 0 failures\n",
      "DEBUG flwr 2023-04-12 00:52:21,050 | server.py:215 | fit_round 12: strategy sampled 2 clients (out of 5)\n"
     ]
    },
    {
     "name": "stdout",
     "output_type": "stream",
     "text": [
      "\t {'val_loss': 3.7661999464035034, 'val_accuracy': 0.15000000000000002}\n"
     ]
    },
    {
     "name": "stderr",
     "output_type": "stream",
     "text": [
      "DEBUG flwr 2023-04-12 00:53:55,846 | server.py:229 | fit_round 12 received 2 results and 0 failures\n"
     ]
    },
    {
     "name": "stdout",
     "output_type": "stream",
     "text": [
      "\t {'train_loss': 1.2265220284461975, 'train_accuracy': 0.9722222222222222}\n"
     ]
    },
    {
     "name": "stderr",
     "output_type": "stream",
     "text": [
      "INFO flwr 2023-04-12 00:54:05,676 | server.py:116 | fit progress: (12, 13.228757858276367, {'test_loss': 13.228757858276367, 'test_accuracy': 0.26}, 1329.8360567)\n",
      "DEBUG flwr 2023-04-12 00:54:05,676 | server.py:165 | evaluate_round 12: strategy sampled 2 clients (out of 5)\n",
      "DEBUG flwr 2023-04-12 00:54:11,725 | server.py:179 | evaluate_round 12 received 2 results and 0 failures\n",
      "DEBUG flwr 2023-04-12 00:54:11,726 | server.py:215 | fit_round 13: strategy sampled 2 clients (out of 5)\n"
     ]
    },
    {
     "name": "stdout",
     "output_type": "stream",
     "text": [
      "\t {'val_loss': 3.0594533681869507, 'val_accuracy': 0.2}\n"
     ]
    },
    {
     "name": "stderr",
     "output_type": "stream",
     "text": [
      "DEBUG flwr 2023-04-12 00:55:46,330 | server.py:229 | fit_round 13 received 2 results and 0 failures\n"
     ]
    },
    {
     "name": "stdout",
     "output_type": "stream",
     "text": [
      "\t {'train_loss': 2.393242120742798, 'train_accuracy': 0.8388888888888889}\n"
     ]
    },
    {
     "name": "stderr",
     "output_type": "stream",
     "text": [
      "INFO flwr 2023-04-12 00:55:56,082 | server.py:116 | fit progress: (13, 13.93004035949707, {'test_loss': 13.93004035949707, 'test_accuracy': 0.25}, 1440.2425046000008)\n",
      "DEBUG flwr 2023-04-12 00:55:56,082 | server.py:165 | evaluate_round 13: strategy sampled 2 clients (out of 5)\n",
      "DEBUG flwr 2023-04-12 00:56:02,121 | server.py:179 | evaluate_round 13 received 2 results and 0 failures\n",
      "DEBUG flwr 2023-04-12 00:56:02,122 | server.py:215 | fit_round 14: strategy sampled 2 clients (out of 5)\n"
     ]
    },
    {
     "name": "stdout",
     "output_type": "stream",
     "text": [
      "\t {'val_loss': 3.4446840286254883, 'val_accuracy': 0.2}\n"
     ]
    },
    {
     "name": "stderr",
     "output_type": "stream",
     "text": [
      "DEBUG flwr 2023-04-12 00:57:36,435 | server.py:229 | fit_round 14 received 2 results and 0 failures\n"
     ]
    },
    {
     "name": "stdout",
     "output_type": "stream",
     "text": [
      "\t {'train_loss': 1.2546671628952026, 'train_accuracy': 0.9666666666666667}\n"
     ]
    },
    {
     "name": "stderr",
     "output_type": "stream",
     "text": [
      "INFO flwr 2023-04-12 00:57:46,161 | server.py:116 | fit progress: (14, 13.456661224365234, {'test_loss': 13.456661224365234, 'test_accuracy': 0.26}, 1550.3215115000003)\n",
      "DEBUG flwr 2023-04-12 00:57:46,162 | server.py:165 | evaluate_round 14: strategy sampled 2 clients (out of 5)\n",
      "DEBUG flwr 2023-04-12 00:57:52,422 | server.py:179 | evaluate_round 14 received 2 results and 0 failures\n",
      "DEBUG flwr 2023-04-12 00:57:52,422 | server.py:215 | fit_round 15: strategy sampled 2 clients (out of 5)\n"
     ]
    },
    {
     "name": "stdout",
     "output_type": "stream",
     "text": [
      "\t {'val_loss': 3.405733346939087, 'val_accuracy': 0.2}\n"
     ]
    },
    {
     "name": "stderr",
     "output_type": "stream",
     "text": [
      "DEBUG flwr 2023-04-12 00:59:27,134 | server.py:229 | fit_round 15 received 2 results and 0 failures\n"
     ]
    },
    {
     "name": "stdout",
     "output_type": "stream",
     "text": [
      "\t {'train_loss': 1.660834401845932, 'train_accuracy': 0.9500000000000001}\n"
     ]
    },
    {
     "name": "stderr",
     "output_type": "stream",
     "text": [
      "INFO flwr 2023-04-12 00:59:36,826 | server.py:116 | fit progress: (15, 13.354249954223633, {'test_loss': 13.354249954223633, 'test_accuracy': 0.25}, 1660.9864862000013)\n",
      "DEBUG flwr 2023-04-12 00:59:36,826 | server.py:165 | evaluate_round 15: strategy sampled 2 clients (out of 5)\n",
      "DEBUG flwr 2023-04-12 00:59:42,936 | server.py:179 | evaluate_round 15 received 2 results and 0 failures\n",
      "DEBUG flwr 2023-04-12 00:59:42,937 | server.py:215 | fit_round 16: strategy sampled 2 clients (out of 5)\n"
     ]
    },
    {
     "name": "stdout",
     "output_type": "stream",
     "text": [
      "\t {'val_loss': 2.7506247758865356, 'val_accuracy': 0.44999999999999996}\n"
     ]
    },
    {
     "name": "stderr",
     "output_type": "stream",
     "text": [
      "DEBUG flwr 2023-04-12 01:01:17,075 | server.py:229 | fit_round 16 received 2 results and 0 failures\n"
     ]
    },
    {
     "name": "stdout",
     "output_type": "stream",
     "text": [
      "\t {'train_loss': 0.9047002494335175, 'train_accuracy': 0.9833333333333334}\n"
     ]
    },
    {
     "name": "stderr",
     "output_type": "stream",
     "text": [
      "INFO flwr 2023-04-12 01:01:26,837 | server.py:116 | fit progress: (16, 13.333696365356445, {'test_loss': 13.333696365356445, 'test_accuracy': 0.24}, 1770.9979565000012)\n",
      "DEBUG flwr 2023-04-12 01:01:26,838 | server.py:165 | evaluate_round 16: strategy sampled 2 clients (out of 5)\n",
      "DEBUG flwr 2023-04-12 01:01:32,862 | server.py:179 | evaluate_round 16 received 2 results and 0 failures\n",
      "DEBUG flwr 2023-04-12 01:01:32,862 | server.py:215 | fit_round 17: strategy sampled 2 clients (out of 5)\n"
     ]
    },
    {
     "name": "stdout",
     "output_type": "stream",
     "text": [
      "\t {'val_loss': 3.286954402923584, 'val_accuracy': 0.35}\n"
     ]
    },
    {
     "name": "stderr",
     "output_type": "stream",
     "text": [
      "DEBUG flwr 2023-04-12 01:03:07,325 | server.py:229 | fit_round 17 received 2 results and 0 failures\n"
     ]
    },
    {
     "name": "stdout",
     "output_type": "stream",
     "text": [
      "\t {'train_loss': 0.47813254594802856, 'train_accuracy': 1.0}\n"
     ]
    },
    {
     "name": "stderr",
     "output_type": "stream",
     "text": [
      "INFO flwr 2023-04-12 01:03:17,067 | server.py:116 | fit progress: (17, 12.975748062133789, {'test_loss': 12.975748062133789, 'test_accuracy': 0.26}, 1881.227560600002)\n",
      "DEBUG flwr 2023-04-12 01:03:17,068 | server.py:165 | evaluate_round 17: strategy sampled 2 clients (out of 5)\n",
      "DEBUG flwr 2023-04-12 01:03:23,170 | server.py:179 | evaluate_round 17 received 2 results and 0 failures\n",
      "DEBUG flwr 2023-04-12 01:03:23,170 | server.py:215 | fit_round 18: strategy sampled 2 clients (out of 5)\n"
     ]
    },
    {
     "name": "stdout",
     "output_type": "stream",
     "text": [
      "\t {'val_loss': 3.341519832611084, 'val_accuracy': 0.15}\n"
     ]
    },
    {
     "name": "stderr",
     "output_type": "stream",
     "text": [
      "DEBUG flwr 2023-04-12 01:04:57,688 | server.py:229 | fit_round 18 received 2 results and 0 failures\n"
     ]
    },
    {
     "name": "stdout",
     "output_type": "stream",
     "text": [
      "\t {'train_loss': 1.2343513071537018, 'train_accuracy': 0.9833333333333334}\n"
     ]
    },
    {
     "name": "stderr",
     "output_type": "stream",
     "text": [
      "INFO flwr 2023-04-12 01:05:07,440 | server.py:116 | fit progress: (18, 12.599178314208984, {'test_loss': 12.599178314208984, 'test_accuracy': 0.28}, 1991.6009840000024)\n",
      "DEBUG flwr 2023-04-12 01:05:07,441 | server.py:165 | evaluate_round 18: strategy sampled 2 clients (out of 5)\n",
      "DEBUG flwr 2023-04-12 01:05:13,598 | server.py:179 | evaluate_round 18 received 2 results and 0 failures\n",
      "DEBUG flwr 2023-04-12 01:05:13,599 | server.py:215 | fit_round 19: strategy sampled 2 clients (out of 5)\n"
     ]
    },
    {
     "name": "stdout",
     "output_type": "stream",
     "text": [
      "\t {'val_loss': 3.098055839538574, 'val_accuracy': 0.35}\n"
     ]
    },
    {
     "name": "stderr",
     "output_type": "stream",
     "text": [
      "DEBUG flwr 2023-04-12 01:06:48,113 | server.py:229 | fit_round 19 received 2 results and 0 failures\n"
     ]
    },
    {
     "name": "stdout",
     "output_type": "stream",
     "text": [
      "\t {'train_loss': 1.8934985995292664, 'train_accuracy': 0.85}\n"
     ]
    },
    {
     "name": "stderr",
     "output_type": "stream",
     "text": [
      "INFO flwr 2023-04-12 01:06:57,924 | server.py:116 | fit progress: (19, 12.529555320739746, {'test_loss': 12.529555320739746, 'test_accuracy': 0.28}, 2102.0846225000005)\n",
      "DEBUG flwr 2023-04-12 01:06:57,925 | server.py:165 | evaluate_round 19: strategy sampled 2 clients (out of 5)\n",
      "DEBUG flwr 2023-04-12 01:07:03,990 | server.py:179 | evaluate_round 19 received 2 results and 0 failures\n",
      "DEBUG flwr 2023-04-12 01:07:03,991 | server.py:215 | fit_round 20: strategy sampled 2 clients (out of 5)\n"
     ]
    },
    {
     "name": "stdout",
     "output_type": "stream",
     "text": [
      "\t {'val_loss': 2.21755850315094, 'val_accuracy': 0.5}\n"
     ]
    },
    {
     "name": "stderr",
     "output_type": "stream",
     "text": [
      "DEBUG flwr 2023-04-12 01:08:38,438 | server.py:229 | fit_round 20 received 2 results and 0 failures\n"
     ]
    },
    {
     "name": "stdout",
     "output_type": "stream",
     "text": [
      "\t {'train_loss': 1.1944307684898376, 'train_accuracy': 0.9833333333333334}\n"
     ]
    },
    {
     "name": "stderr",
     "output_type": "stream",
     "text": [
      "INFO flwr 2023-04-12 01:08:48,216 | server.py:116 | fit progress: (20, 12.66211986541748, {'test_loss': 12.66211986541748, 'test_accuracy': 0.27}, 2212.3766631000017)\n",
      "DEBUG flwr 2023-04-12 01:08:48,217 | server.py:165 | evaluate_round 20: strategy sampled 2 clients (out of 5)\n",
      "DEBUG flwr 2023-04-12 01:08:55,966 | server.py:179 | evaluate_round 20 received 2 results and 0 failures\n",
      "DEBUG flwr 2023-04-12 01:08:55,966 | server.py:215 | fit_round 21: strategy sampled 2 clients (out of 5)\n"
     ]
    },
    {
     "name": "stdout",
     "output_type": "stream",
     "text": [
      "\t {'val_loss': 3.0036736726760864, 'val_accuracy': 0.25}\n"
     ]
    },
    {
     "name": "stderr",
     "output_type": "stream",
     "text": [
      "DEBUG flwr 2023-04-12 01:10:30,614 | server.py:229 | fit_round 21 received 2 results and 0 failures\n"
     ]
    },
    {
     "name": "stdout",
     "output_type": "stream",
     "text": [
      "\t {'train_loss': 0.3933255076408386, 'train_accuracy': 1.0}\n"
     ]
    },
    {
     "name": "stderr",
     "output_type": "stream",
     "text": [
      "INFO flwr 2023-04-12 01:10:40,422 | server.py:116 | fit progress: (21, 12.559025764465332, {'test_loss': 12.559025764465332, 'test_accuracy': 0.27}, 2324.582661000002)\n",
      "DEBUG flwr 2023-04-12 01:10:40,423 | server.py:165 | evaluate_round 21: strategy sampled 2 clients (out of 5)\n",
      "DEBUG flwr 2023-04-12 01:10:46,491 | server.py:179 | evaluate_round 21 received 2 results and 0 failures\n",
      "DEBUG flwr 2023-04-12 01:10:46,491 | server.py:215 | fit_round 22: strategy sampled 2 clients (out of 5)\n"
     ]
    },
    {
     "name": "stdout",
     "output_type": "stream",
     "text": [
      "\t {'val_loss': 3.4234373569488525, 'val_accuracy': 0.3}\n"
     ]
    },
    {
     "name": "stderr",
     "output_type": "stream",
     "text": [
      "DEBUG flwr 2023-04-12 01:12:21,096 | server.py:229 | fit_round 22 received 2 results and 0 failures\n"
     ]
    },
    {
     "name": "stdout",
     "output_type": "stream",
     "text": [
      "\t {'train_loss': 1.2559252828359604, 'train_accuracy': 0.9555555555555556}\n"
     ]
    },
    {
     "name": "stderr",
     "output_type": "stream",
     "text": [
      "INFO flwr 2023-04-12 01:12:30,932 | server.py:116 | fit progress: (22, 12.088236808776855, {'test_loss': 12.088236808776855, 'test_accuracy': 0.29}, 2435.092776300002)\n",
      "DEBUG flwr 2023-04-12 01:12:30,933 | server.py:165 | evaluate_round 22: strategy sampled 2 clients (out of 5)\n",
      "DEBUG flwr 2023-04-12 01:12:38,951 | server.py:179 | evaluate_round 22 received 2 results and 0 failures\n",
      "DEBUG flwr 2023-04-12 01:12:38,952 | server.py:215 | fit_round 23: strategy sampled 2 clients (out of 5)\n"
     ]
    },
    {
     "name": "stdout",
     "output_type": "stream",
     "text": [
      "\t {'val_loss': 2.5660902857780457, 'val_accuracy': 0.44999999999999996}\n"
     ]
    },
    {
     "name": "stderr",
     "output_type": "stream",
     "text": [
      "DEBUG flwr 2023-04-12 01:14:13,525 | server.py:229 | fit_round 23 received 2 results and 0 failures\n"
     ]
    },
    {
     "name": "stdout",
     "output_type": "stream",
     "text": [
      "\t {'train_loss': 0.7458526194095612, 'train_accuracy': 0.9944444444444445}\n"
     ]
    },
    {
     "name": "stderr",
     "output_type": "stream",
     "text": [
      "INFO flwr 2023-04-12 01:14:23,293 | server.py:116 | fit progress: (23, 12.24394416809082, {'test_loss': 12.24394416809082, 'test_accuracy': 0.29}, 2547.453071500002)\n",
      "DEBUG flwr 2023-04-12 01:14:23,293 | server.py:165 | evaluate_round 23: strategy sampled 2 clients (out of 5)\n",
      "DEBUG flwr 2023-04-12 01:14:31,354 | server.py:179 | evaluate_round 23 received 2 results and 0 failures\n",
      "DEBUG flwr 2023-04-12 01:14:31,355 | server.py:215 | fit_round 24: strategy sampled 2 clients (out of 5)\n"
     ]
    },
    {
     "name": "stdout",
     "output_type": "stream",
     "text": [
      "\t {'val_loss': 3.179115653038025, 'val_accuracy': 0.3}\n"
     ]
    },
    {
     "name": "stderr",
     "output_type": "stream",
     "text": [
      "DEBUG flwr 2023-04-12 01:16:06,220 | server.py:229 | fit_round 24 received 2 results and 0 failures\n"
     ]
    },
    {
     "name": "stdout",
     "output_type": "stream",
     "text": [
      "\t {'train_loss': 0.21778856590390205, 'train_accuracy': 1.0}\n"
     ]
    },
    {
     "name": "stderr",
     "output_type": "stream",
     "text": [
      "INFO flwr 2023-04-12 01:16:15,991 | server.py:116 | fit progress: (24, 11.807209014892578, {'test_loss': 11.807209014892578, 'test_accuracy': 0.29}, 2660.1513742000006)\n",
      "DEBUG flwr 2023-04-12 01:16:15,992 | server.py:165 | evaluate_round 24: strategy sampled 2 clients (out of 5)\n",
      "DEBUG flwr 2023-04-12 01:16:22,090 | server.py:179 | evaluate_round 24 received 2 results and 0 failures\n",
      "DEBUG flwr 2023-04-12 01:16:22,091 | server.py:215 | fit_round 25: strategy sampled 2 clients (out of 5)\n"
     ]
    },
    {
     "name": "stdout",
     "output_type": "stream",
     "text": [
      "\t {'val_loss': 2.3492543697357178, 'val_accuracy': 0.5}\n"
     ]
    },
    {
     "name": "stderr",
     "output_type": "stream",
     "text": [
      "DEBUG flwr 2023-04-12 01:17:56,621 | server.py:229 | fit_round 25 received 2 results and 0 failures\n"
     ]
    },
    {
     "name": "stdout",
     "output_type": "stream",
     "text": [
      "\t {'train_loss': 0.5944483801722527, 'train_accuracy': 1.0}\n"
     ]
    },
    {
     "name": "stderr",
     "output_type": "stream",
     "text": [
      "INFO flwr 2023-04-12 01:18:06,374 | server.py:116 | fit progress: (25, 11.883596420288086, {'test_loss': 11.883596420288086, 'test_accuracy': 0.3}, 2770.5343422999995)\n",
      "DEBUG flwr 2023-04-12 01:18:06,375 | server.py:165 | evaluate_round 25: strategy sampled 2 clients (out of 5)\n",
      "DEBUG flwr 2023-04-12 01:18:12,419 | server.py:179 | evaluate_round 25 received 2 results and 0 failures\n",
      "DEBUG flwr 2023-04-12 01:18:12,420 | server.py:215 | fit_round 26: strategy sampled 2 clients (out of 5)\n"
     ]
    },
    {
     "name": "stdout",
     "output_type": "stream",
     "text": [
      "\t {'val_loss': 2.6255205273628235, 'val_accuracy': 0.44999999999999996}\n"
     ]
    },
    {
     "name": "stderr",
     "output_type": "stream",
     "text": [
      "DEBUG flwr 2023-04-12 01:19:46,858 | server.py:229 | fit_round 26 received 2 results and 0 failures\n"
     ]
    },
    {
     "name": "stdout",
     "output_type": "stream",
     "text": [
      "\t {'train_loss': 1.014154363423586, 'train_accuracy': 0.9666666666666667}\n"
     ]
    },
    {
     "name": "stderr",
     "output_type": "stream",
     "text": [
      "INFO flwr 2023-04-12 01:19:56,577 | server.py:116 | fit progress: (26, 11.594513893127441, {'test_loss': 11.594513893127441, 'test_accuracy': 0.31}, 2880.737508100001)\n",
      "DEBUG flwr 2023-04-12 01:19:56,577 | server.py:165 | evaluate_round 26: strategy sampled 2 clients (out of 5)\n",
      "DEBUG flwr 2023-04-12 01:20:02,659 | server.py:179 | evaluate_round 26 received 2 results and 0 failures\n",
      "DEBUG flwr 2023-04-12 01:20:02,659 | server.py:215 | fit_round 27: strategy sampled 2 clients (out of 5)\n"
     ]
    },
    {
     "name": "stdout",
     "output_type": "stream",
     "text": [
      "\t {'val_loss': 2.7282360792160034, 'val_accuracy': 0.3}\n"
     ]
    },
    {
     "name": "stderr",
     "output_type": "stream",
     "text": [
      "DEBUG flwr 2023-04-12 01:21:37,007 | server.py:229 | fit_round 27 received 2 results and 0 failures\n"
     ]
    },
    {
     "name": "stdout",
     "output_type": "stream",
     "text": [
      "\t {'train_loss': 0.11835894547402859, 'train_accuracy': 1.0}\n"
     ]
    },
    {
     "name": "stderr",
     "output_type": "stream",
     "text": [
      "INFO flwr 2023-04-12 01:21:46,717 | server.py:116 | fit progress: (27, 11.888814926147461, {'test_loss': 11.888814926147461, 'test_accuracy': 0.28}, 2990.877988800001)\n",
      "DEBUG flwr 2023-04-12 01:21:46,718 | server.py:165 | evaluate_round 27: strategy sampled 2 clients (out of 5)\n",
      "DEBUG flwr 2023-04-12 01:21:52,789 | server.py:179 | evaluate_round 27 received 2 results and 0 failures\n",
      "DEBUG flwr 2023-04-12 01:21:52,790 | server.py:215 | fit_round 28: strategy sampled 2 clients (out of 5)\n"
     ]
    },
    {
     "name": "stdout",
     "output_type": "stream",
     "text": [
      "\t {'val_loss': 2.6174302101135254, 'val_accuracy': 0.3}\n"
     ]
    },
    {
     "name": "stderr",
     "output_type": "stream",
     "text": [
      "DEBUG flwr 2023-04-12 01:23:27,514 | server.py:229 | fit_round 28 received 2 results and 0 failures\n"
     ]
    },
    {
     "name": "stdout",
     "output_type": "stream",
     "text": [
      "\t {'train_loss': 0.09021240845322609, 'train_accuracy': 1.0}\n"
     ]
    },
    {
     "name": "stderr",
     "output_type": "stream",
     "text": [
      "INFO flwr 2023-04-12 01:23:37,298 | server.py:116 | fit progress: (28, 11.7505521774292, {'test_loss': 11.7505521774292, 'test_accuracy': 0.29}, 3101.4578571)\n",
      "DEBUG flwr 2023-04-12 01:23:37,298 | server.py:165 | evaluate_round 28: strategy sampled 2 clients (out of 5)\n",
      "DEBUG flwr 2023-04-12 01:23:43,359 | server.py:179 | evaluate_round 28 received 2 results and 0 failures\n",
      "DEBUG flwr 2023-04-12 01:23:43,360 | server.py:215 | fit_round 29: strategy sampled 2 clients (out of 5)\n"
     ]
    },
    {
     "name": "stdout",
     "output_type": "stream",
     "text": [
      "\t {'val_loss': 2.3944144248962402, 'val_accuracy': 0.45}\n"
     ]
    },
    {
     "name": "stderr",
     "output_type": "stream",
     "text": [
      "DEBUG flwr 2023-04-12 01:25:18,120 | server.py:229 | fit_round 29 received 2 results and 0 failures\n"
     ]
    },
    {
     "name": "stdout",
     "output_type": "stream",
     "text": [
      "\t {'train_loss': 0.7671837471425533, 'train_accuracy': 0.9777777777777779}\n"
     ]
    },
    {
     "name": "stderr",
     "output_type": "stream",
     "text": [
      "INFO flwr 2023-04-12 01:25:27,900 | server.py:116 | fit progress: (29, 11.291762351989746, {'test_loss': 11.291762351989746, 'test_accuracy': 0.34}, 3212.060602300002)\n",
      "DEBUG flwr 2023-04-12 01:25:27,901 | server.py:165 | evaluate_round 29: strategy sampled 2 clients (out of 5)\n",
      "DEBUG flwr 2023-04-12 01:25:34,007 | server.py:179 | evaluate_round 29 received 2 results and 0 failures\n",
      "DEBUG flwr 2023-04-12 01:25:34,007 | server.py:215 | fit_round 30: strategy sampled 2 clients (out of 5)\n"
     ]
    },
    {
     "name": "stdout",
     "output_type": "stream",
     "text": [
      "\t {'val_loss': 1.7107126712799072, 'val_accuracy': 0.55}\n"
     ]
    },
    {
     "name": "stderr",
     "output_type": "stream",
     "text": [
      "DEBUG flwr 2023-04-12 01:27:08,704 | server.py:229 | fit_round 30 received 2 results and 0 failures\n"
     ]
    },
    {
     "name": "stdout",
     "output_type": "stream",
     "text": [
      "\t {'train_loss': 0.05023951921612024, 'train_accuracy': 1.0}\n"
     ]
    },
    {
     "name": "stderr",
     "output_type": "stream",
     "text": [
      "INFO flwr 2023-04-12 01:27:18,451 | server.py:116 | fit progress: (30, 11.319803237915039, {'test_loss': 11.319803237915039, 'test_accuracy': 0.31}, 3322.6118988)\n",
      "DEBUG flwr 2023-04-12 01:27:18,452 | server.py:165 | evaluate_round 30: strategy sampled 2 clients (out of 5)\n",
      "DEBUG flwr 2023-04-12 01:27:24,151 | server.py:179 | evaluate_round 30 received 2 results and 0 failures\n",
      "DEBUG flwr 2023-04-12 01:27:24,152 | server.py:215 | fit_round 31: strategy sampled 2 clients (out of 5)\n"
     ]
    },
    {
     "name": "stdout",
     "output_type": "stream",
     "text": [
      "\t {'val_loss': 3.045843005180359, 'val_accuracy': 0.45}\n"
     ]
    },
    {
     "name": "stderr",
     "output_type": "stream",
     "text": [
      "DEBUG flwr 2023-04-12 01:28:58,702 | server.py:229 | fit_round 31 received 2 results and 0 failures\n"
     ]
    },
    {
     "name": "stdout",
     "output_type": "stream",
     "text": [
      "\t {'train_loss': 0.6050678472965956, 'train_accuracy': 0.9833333333333334}\n"
     ]
    },
    {
     "name": "stderr",
     "output_type": "stream",
     "text": [
      "INFO flwr 2023-04-12 01:29:08,445 | server.py:116 | fit progress: (31, 11.141084671020508, {'test_loss': 11.141084671020508, 'test_accuracy': 0.32}, 3432.6055670000005)\n",
      "DEBUG flwr 2023-04-12 01:29:08,446 | server.py:165 | evaluate_round 31: strategy sampled 2 clients (out of 5)\n",
      "DEBUG flwr 2023-04-12 01:29:17,777 | server.py:179 | evaluate_round 31 received 2 results and 0 failures\n",
      "DEBUG flwr 2023-04-12 01:29:17,778 | server.py:215 | fit_round 32: strategy sampled 2 clients (out of 5)\n"
     ]
    },
    {
     "name": "stdout",
     "output_type": "stream",
     "text": [
      "\t {'val_loss': 1.9135297536849976, 'val_accuracy': 0.65}\n"
     ]
    },
    {
     "name": "stderr",
     "output_type": "stream",
     "text": [
      "DEBUG flwr 2023-04-12 01:30:52,694 | server.py:229 | fit_round 32 received 2 results and 0 failures\n"
     ]
    },
    {
     "name": "stdout",
     "output_type": "stream",
     "text": [
      "\t {'train_loss': 0.47595847956836224, 'train_accuracy': 1.0}\n"
     ]
    },
    {
     "name": "stderr",
     "output_type": "stream",
     "text": [
      "INFO flwr 2023-04-12 01:31:02,497 | server.py:116 | fit progress: (32, 10.923506736755371, {'test_loss': 10.923506736755371, 'test_accuracy': 0.33}, 3546.657057800001)\n",
      "DEBUG flwr 2023-04-12 01:31:02,497 | server.py:165 | evaluate_round 32: strategy sampled 2 clients (out of 5)\n",
      "DEBUG flwr 2023-04-12 01:31:08,499 | server.py:179 | evaluate_round 32 received 2 results and 0 failures\n",
      "DEBUG flwr 2023-04-12 01:31:08,500 | server.py:215 | fit_round 33: strategy sampled 2 clients (out of 5)\n"
     ]
    },
    {
     "name": "stdout",
     "output_type": "stream",
     "text": [
      "\t {'val_loss': 1.8562867641448975, 'val_accuracy': 0.65}\n"
     ]
    },
    {
     "name": "stderr",
     "output_type": "stream",
     "text": [
      "DEBUG flwr 2023-04-12 01:32:43,097 | server.py:229 | fit_round 33 received 2 results and 0 failures\n"
     ]
    },
    {
     "name": "stdout",
     "output_type": "stream",
     "text": [
      "\t {'train_loss': 0.6078168451786041, 'train_accuracy': 1.0}\n"
     ]
    },
    {
     "name": "stderr",
     "output_type": "stream",
     "text": [
      "INFO flwr 2023-04-12 01:32:52,825 | server.py:116 | fit progress: (33, 11.145482063293457, {'test_loss': 11.145482063293457, 'test_accuracy': 0.33}, 3656.985449500002)\n",
      "DEBUG flwr 2023-04-12 01:32:52,826 | server.py:165 | evaluate_round 33: strategy sampled 2 clients (out of 5)\n",
      "DEBUG flwr 2023-04-12 01:32:58,528 | server.py:179 | evaluate_round 33 received 2 results and 0 failures\n",
      "DEBUG flwr 2023-04-12 01:32:58,529 | server.py:215 | fit_round 34: strategy sampled 2 clients (out of 5)\n"
     ]
    },
    {
     "name": "stdout",
     "output_type": "stream",
     "text": [
      "\t {'val_loss': 2.2412225008010864, 'val_accuracy': 0.5}\n"
     ]
    },
    {
     "name": "stderr",
     "output_type": "stream",
     "text": [
      "DEBUG flwr 2023-04-12 01:34:33,363 | server.py:229 | fit_round 34 received 2 results and 0 failures\n"
     ]
    },
    {
     "name": "stdout",
     "output_type": "stream",
     "text": [
      "\t {'train_loss': 0.2925613448023796, 'train_accuracy': 1.0}\n"
     ]
    },
    {
     "name": "stderr",
     "output_type": "stream",
     "text": [
      "INFO flwr 2023-04-12 01:34:43,117 | server.py:116 | fit progress: (34, 11.055734634399414, {'test_loss': 11.055734634399414, 'test_accuracy': 0.35}, 3767.2775614)\n",
      "DEBUG flwr 2023-04-12 01:34:43,118 | server.py:165 | evaluate_round 34: strategy sampled 2 clients (out of 5)\n",
      "DEBUG flwr 2023-04-12 01:34:49,009 | server.py:179 | evaluate_round 34 received 2 results and 0 failures\n",
      "DEBUG flwr 2023-04-12 01:34:49,010 | server.py:215 | fit_round 35: strategy sampled 2 clients (out of 5)\n"
     ]
    },
    {
     "name": "stdout",
     "output_type": "stream",
     "text": [
      "\t {'val_loss': 2.2232271432876587, 'val_accuracy': 0.4}\n"
     ]
    },
    {
     "name": "stderr",
     "output_type": "stream",
     "text": [
      "DEBUG flwr 2023-04-12 01:36:23,619 | server.py:229 | fit_round 35 received 2 results and 0 failures\n"
     ]
    },
    {
     "name": "stdout",
     "output_type": "stream",
     "text": [
      "\t {'train_loss': 0.16147045977413654, 'train_accuracy': 1.0}\n"
     ]
    },
    {
     "name": "stderr",
     "output_type": "stream",
     "text": [
      "INFO flwr 2023-04-12 01:36:33,434 | server.py:116 | fit progress: (35, 10.96114730834961, {'test_loss': 10.96114730834961, 'test_accuracy': 0.35}, 3877.5943917999994)\n",
      "DEBUG flwr 2023-04-12 01:36:33,435 | server.py:165 | evaluate_round 35: strategy sampled 2 clients (out of 5)\n",
      "DEBUG flwr 2023-04-12 01:36:39,495 | server.py:179 | evaluate_round 35 received 2 results and 0 failures\n",
      "DEBUG flwr 2023-04-12 01:36:39,496 | server.py:215 | fit_round 36: strategy sampled 2 clients (out of 5)\n"
     ]
    },
    {
     "name": "stdout",
     "output_type": "stream",
     "text": [
      "\t {'val_loss': 2.751700758934021, 'val_accuracy': 0.45}\n"
     ]
    },
    {
     "name": "stderr",
     "output_type": "stream",
     "text": [
      "DEBUG flwr 2023-04-12 01:38:14,196 | server.py:229 | fit_round 36 received 2 results and 0 failures\n"
     ]
    },
    {
     "name": "stdout",
     "output_type": "stream",
     "text": [
      "\t {'train_loss': 0.042854622937738895, 'train_accuracy': 1.0}\n"
     ]
    },
    {
     "name": "stderr",
     "output_type": "stream",
     "text": [
      "INFO flwr 2023-04-12 01:38:23,911 | server.py:116 | fit progress: (36, 10.889974594116211, {'test_loss': 10.889974594116211, 'test_accuracy': 0.36}, 3988.0716212000025)\n",
      "DEBUG flwr 2023-04-12 01:38:23,912 | server.py:165 | evaluate_round 36: strategy sampled 2 clients (out of 5)\n",
      "DEBUG flwr 2023-04-12 01:38:29,980 | server.py:179 | evaluate_round 36 received 2 results and 0 failures\n",
      "DEBUG flwr 2023-04-12 01:38:29,981 | server.py:215 | fit_round 37: strategy sampled 2 clients (out of 5)\n"
     ]
    },
    {
     "name": "stdout",
     "output_type": "stream",
     "text": [
      "\t {'val_loss': 2.248692810535431, 'val_accuracy': 0.4}\n"
     ]
    },
    {
     "name": "stderr",
     "output_type": "stream",
     "text": [
      "DEBUG flwr 2023-04-12 01:40:04,693 | server.py:229 | fit_round 37 received 2 results and 0 failures\n"
     ]
    },
    {
     "name": "stdout",
     "output_type": "stream",
     "text": [
      "\t {'train_loss': 0.2089724086690694, 'train_accuracy': 1.0}\n"
     ]
    },
    {
     "name": "stderr",
     "output_type": "stream",
     "text": [
      "INFO flwr 2023-04-12 01:40:14,450 | server.py:116 | fit progress: (37, 10.847980499267578, {'test_loss': 10.847980499267578, 'test_accuracy': 0.32}, 4098.609980300002)\n",
      "DEBUG flwr 2023-04-12 01:40:14,450 | server.py:165 | evaluate_round 37: strategy sampled 2 clients (out of 5)\n",
      "DEBUG flwr 2023-04-12 01:40:20,500 | server.py:179 | evaluate_round 37 received 2 results and 0 failures\n",
      "DEBUG flwr 2023-04-12 01:40:20,501 | server.py:215 | fit_round 38: strategy sampled 2 clients (out of 5)\n"
     ]
    },
    {
     "name": "stdout",
     "output_type": "stream",
     "text": [
      "\t {'val_loss': 2.2432225942611694, 'val_accuracy': 0.5}\n"
     ]
    },
    {
     "name": "stderr",
     "output_type": "stream",
     "text": [
      "DEBUG flwr 2023-04-12 01:41:55,159 | server.py:229 | fit_round 38 received 2 results and 0 failures\n"
     ]
    },
    {
     "name": "stdout",
     "output_type": "stream",
     "text": [
      "\t {'train_loss': 0.13110698154196143, 'train_accuracy': 1.0}\n"
     ]
    },
    {
     "name": "stderr",
     "output_type": "stream",
     "text": [
      "INFO flwr 2023-04-12 01:42:04,880 | server.py:116 | fit progress: (38, 10.824015617370605, {'test_loss': 10.824015617370605, 'test_accuracy': 0.34}, 4209.0401435)\n",
      "DEBUG flwr 2023-04-12 01:42:04,880 | server.py:165 | evaluate_round 38: strategy sampled 2 clients (out of 5)\n",
      "DEBUG flwr 2023-04-12 01:42:13,028 | server.py:179 | evaluate_round 38 received 2 results and 0 failures\n",
      "DEBUG flwr 2023-04-12 01:42:13,029 | server.py:215 | fit_round 39: strategy sampled 2 clients (out of 5)\n"
     ]
    },
    {
     "name": "stdout",
     "output_type": "stream",
     "text": [
      "\t {'val_loss': 2.034260392189026, 'val_accuracy': 0.5}\n"
     ]
    },
    {
     "name": "stderr",
     "output_type": "stream",
     "text": [
      "DEBUG flwr 2023-04-12 01:43:47,558 | server.py:229 | fit_round 39 received 2 results and 0 failures\n"
     ]
    },
    {
     "name": "stdout",
     "output_type": "stream",
     "text": [
      "\t {'train_loss': 0.18350858986377716, 'train_accuracy': 1.0}\n"
     ]
    },
    {
     "name": "stderr",
     "output_type": "stream",
     "text": [
      "INFO flwr 2023-04-12 01:43:57,405 | server.py:116 | fit progress: (39, 10.70857048034668, {'test_loss': 10.70857048034668, 'test_accuracy': 0.34}, 4321.5650467)\n",
      "DEBUG flwr 2023-04-12 01:43:57,405 | server.py:165 | evaluate_round 39: strategy sampled 2 clients (out of 5)\n",
      "DEBUG flwr 2023-04-12 01:44:03,385 | server.py:179 | evaluate_round 39 received 2 results and 0 failures\n",
      "DEBUG flwr 2023-04-12 01:44:03,385 | server.py:215 | fit_round 40: strategy sampled 2 clients (out of 5)\n"
     ]
    },
    {
     "name": "stdout",
     "output_type": "stream",
     "text": [
      "\t {'val_loss': 3.1868627071380615, 'val_accuracy': 0.3}\n"
     ]
    },
    {
     "name": "stderr",
     "output_type": "stream",
     "text": [
      "DEBUG flwr 2023-04-12 01:45:39,323 | server.py:229 | fit_round 40 received 2 results and 0 failures\n"
     ]
    },
    {
     "name": "stdout",
     "output_type": "stream",
     "text": [
      "\t {'train_loss': 0.0736002940684557, 'train_accuracy': 1.0}\n"
     ]
    },
    {
     "name": "stderr",
     "output_type": "stream",
     "text": [
      "INFO flwr 2023-04-12 01:45:49,285 | server.py:116 | fit progress: (40, 10.8280668258667, {'test_loss': 10.8280668258667, 'test_accuracy': 0.33}, 4433.446086900001)\n",
      "DEBUG flwr 2023-04-12 01:45:49,286 | server.py:165 | evaluate_round 40: strategy sampled 2 clients (out of 5)\n",
      "DEBUG flwr 2023-04-12 01:45:55,773 | server.py:179 | evaluate_round 40 received 2 results and 0 failures\n",
      "DEBUG flwr 2023-04-12 01:45:55,773 | server.py:215 | fit_round 41: strategy sampled 2 clients (out of 5)\n"
     ]
    },
    {
     "name": "stdout",
     "output_type": "stream",
     "text": [
      "\t {'val_loss': 3.1385254859924316, 'val_accuracy': 0.3}\n"
     ]
    },
    {
     "name": "stderr",
     "output_type": "stream",
     "text": [
      "DEBUG flwr 2023-04-12 01:47:32,319 | server.py:229 | fit_round 41 received 2 results and 0 failures\n"
     ]
    },
    {
     "name": "stdout",
     "output_type": "stream",
     "text": [
      "\t {'train_loss': 0.08325782231986523, 'train_accuracy': 1.0}\n"
     ]
    },
    {
     "name": "stderr",
     "output_type": "stream",
     "text": [
      "INFO flwr 2023-04-12 01:47:42,324 | server.py:116 | fit progress: (41, 10.473516464233398, {'test_loss': 10.473516464233398, 'test_accuracy': 0.38}, 4546.484687599999)\n",
      "DEBUG flwr 2023-04-12 01:47:42,325 | server.py:165 | evaluate_round 41: strategy sampled 2 clients (out of 5)\n",
      "DEBUG flwr 2023-04-12 01:47:48,599 | server.py:179 | evaluate_round 41 received 2 results and 0 failures\n",
      "DEBUG flwr 2023-04-12 01:47:48,599 | server.py:215 | fit_round 42: strategy sampled 2 clients (out of 5)\n"
     ]
    },
    {
     "name": "stdout",
     "output_type": "stream",
     "text": [
      "\t {'val_loss': 2.177428185939789, 'val_accuracy': 0.55}\n"
     ]
    },
    {
     "name": "stderr",
     "output_type": "stream",
     "text": [
      "DEBUG flwr 2023-04-12 01:49:25,061 | server.py:229 | fit_round 42 received 2 results and 0 failures\n"
     ]
    },
    {
     "name": "stdout",
     "output_type": "stream",
     "text": [
      "\t {'train_loss': 0.06358153559267521, 'train_accuracy': 1.0}\n"
     ]
    },
    {
     "name": "stderr",
     "output_type": "stream",
     "text": [
      "INFO flwr 2023-04-12 01:49:35,019 | server.py:116 | fit progress: (42, 10.52798843383789, {'test_loss': 10.52798843383789, 'test_accuracy': 0.38}, 4659.179320199999)\n",
      "DEBUG flwr 2023-04-12 01:49:35,020 | server.py:165 | evaluate_round 42: strategy sampled 2 clients (out of 5)\n",
      "DEBUG flwr 2023-04-12 01:49:41,383 | server.py:179 | evaluate_round 42 received 2 results and 0 failures\n",
      "DEBUG flwr 2023-04-12 01:49:41,384 | server.py:215 | fit_round 43: strategy sampled 2 clients (out of 5)\n"
     ]
    },
    {
     "name": "stdout",
     "output_type": "stream",
     "text": [
      "\t {'val_loss': 1.6015073657035828, 'val_accuracy': 0.6499999999999999}\n"
     ]
    },
    {
     "name": "stderr",
     "output_type": "stream",
     "text": [
      "DEBUG flwr 2023-04-12 01:51:17,362 | server.py:229 | fit_round 43 received 2 results and 0 failures\n"
     ]
    },
    {
     "name": "stdout",
     "output_type": "stream",
     "text": [
      "\t {'train_loss': 0.028583847975824028, 'train_accuracy': 1.0}\n"
     ]
    },
    {
     "name": "stderr",
     "output_type": "stream",
     "text": [
      "INFO flwr 2023-04-12 01:51:27,345 | server.py:116 | fit progress: (43, 10.940641403198242, {'test_loss': 10.940641403198242, 'test_accuracy': 0.32}, 4771.505514300001)\n",
      "DEBUG flwr 2023-04-12 01:51:27,346 | server.py:165 | evaluate_round 43: strategy sampled 2 clients (out of 5)\n",
      "DEBUG flwr 2023-04-12 01:51:33,573 | server.py:179 | evaluate_round 43 received 2 results and 0 failures\n",
      "DEBUG flwr 2023-04-12 01:51:33,574 | server.py:215 | fit_round 44: strategy sampled 2 clients (out of 5)\n"
     ]
    },
    {
     "name": "stdout",
     "output_type": "stream",
     "text": [
      "\t {'val_loss': 2.2188685536384583, 'val_accuracy': 0.5}\n"
     ]
    },
    {
     "name": "stderr",
     "output_type": "stream",
     "text": [
      "DEBUG flwr 2023-04-12 01:53:10,063 | server.py:229 | fit_round 44 received 2 results and 0 failures\n"
     ]
    },
    {
     "name": "stdout",
     "output_type": "stream",
     "text": [
      "\t {'train_loss': 0.04091864172369242, 'train_accuracy': 1.0}\n"
     ]
    },
    {
     "name": "stderr",
     "output_type": "stream",
     "text": [
      "INFO flwr 2023-04-12 01:53:20,033 | server.py:116 | fit progress: (44, 10.673954010009766, {'test_loss': 10.673954010009766, 'test_accuracy': 0.34}, 4884.193051600001)\n",
      "DEBUG flwr 2023-04-12 01:53:20,034 | server.py:165 | evaluate_round 44: strategy sampled 2 clients (out of 5)\n",
      "DEBUG flwr 2023-04-12 01:53:26,416 | server.py:179 | evaluate_round 44 received 2 results and 0 failures\n",
      "DEBUG flwr 2023-04-12 01:53:26,417 | server.py:215 | fit_round 45: strategy sampled 2 clients (out of 5)\n"
     ]
    },
    {
     "name": "stdout",
     "output_type": "stream",
     "text": [
      "\t {'val_loss': 2.063891351222992, 'val_accuracy': 0.55}\n"
     ]
    },
    {
     "name": "stderr",
     "output_type": "stream",
     "text": [
      "DEBUG flwr 2023-04-12 01:55:01,991 | server.py:229 | fit_round 45 received 2 results and 0 failures\n"
     ]
    },
    {
     "name": "stdout",
     "output_type": "stream",
     "text": [
      "\t {'train_loss': 0.02419670351082459, 'train_accuracy': 1.0}\n"
     ]
    },
    {
     "name": "stderr",
     "output_type": "stream",
     "text": [
      "INFO flwr 2023-04-12 01:55:11,788 | server.py:116 | fit progress: (45, 10.68304443359375, {'test_loss': 10.68304443359375, 'test_accuracy': 0.34}, 4995.948140999999)\n",
      "DEBUG flwr 2023-04-12 01:55:11,788 | server.py:165 | evaluate_round 45: strategy sampled 2 clients (out of 5)\n",
      "DEBUG flwr 2023-04-12 01:55:17,875 | server.py:179 | evaluate_round 45 received 2 results and 0 failures\n",
      "DEBUG flwr 2023-04-12 01:55:17,876 | server.py:215 | fit_round 46: strategy sampled 2 clients (out of 5)\n"
     ]
    },
    {
     "name": "stdout",
     "output_type": "stream",
     "text": [
      "\t {'val_loss': 2.1325985193252563, 'val_accuracy': 0.55}\n"
     ]
    },
    {
     "name": "stderr",
     "output_type": "stream",
     "text": [
      "DEBUG flwr 2023-04-12 01:56:52,416 | server.py:229 | fit_round 46 received 2 results and 0 failures\n"
     ]
    },
    {
     "name": "stdout",
     "output_type": "stream",
     "text": [
      "\t {'train_loss': 0.027728219516575336, 'train_accuracy': 1.0}\n"
     ]
    },
    {
     "name": "stderr",
     "output_type": "stream",
     "text": [
      "INFO flwr 2023-04-12 01:57:02,216 | server.py:116 | fit progress: (46, 10.511045455932617, {'test_loss': 10.511045455932617, 'test_accuracy': 0.37}, 5106.376630000001)\n",
      "DEBUG flwr 2023-04-12 01:57:02,217 | server.py:165 | evaluate_round 46: strategy sampled 2 clients (out of 5)\n",
      "DEBUG flwr 2023-04-12 01:57:08,234 | server.py:179 | evaluate_round 46 received 2 results and 0 failures\n",
      "DEBUG flwr 2023-04-12 01:57:08,236 | server.py:215 | fit_round 47: strategy sampled 2 clients (out of 5)\n"
     ]
    },
    {
     "name": "stdout",
     "output_type": "stream",
     "text": [
      "\t {'val_loss': 1.4711462259292603, 'val_accuracy': 0.65}\n"
     ]
    },
    {
     "name": "stderr",
     "output_type": "stream",
     "text": [
      "DEBUG flwr 2023-04-12 01:58:42,917 | server.py:229 | fit_round 47 received 2 results and 0 failures\n"
     ]
    },
    {
     "name": "stdout",
     "output_type": "stream",
     "text": [
      "\t {'train_loss': 0.017039897327777, 'train_accuracy': 1.0}\n"
     ]
    },
    {
     "name": "stderr",
     "output_type": "stream",
     "text": [
      "INFO flwr 2023-04-12 01:58:52,714 | server.py:116 | fit progress: (47, 10.347908020019531, {'test_loss': 10.347908020019531, 'test_accuracy': 0.36}, 5216.874569500002)\n",
      "DEBUG flwr 2023-04-12 01:58:52,715 | server.py:165 | evaluate_round 47: strategy sampled 2 clients (out of 5)\n",
      "DEBUG flwr 2023-04-12 01:58:58,882 | server.py:179 | evaluate_round 47 received 2 results and 0 failures\n",
      "DEBUG flwr 2023-04-12 01:58:58,883 | server.py:215 | fit_round 48: strategy sampled 2 clients (out of 5)\n"
     ]
    },
    {
     "name": "stdout",
     "output_type": "stream",
     "text": [
      "\t {'val_loss': 1.7785512804985046, 'val_accuracy': 0.55}\n"
     ]
    },
    {
     "name": "stderr",
     "output_type": "stream",
     "text": [
      "DEBUG flwr 2023-04-12 02:00:33,577 | server.py:229 | fit_round 48 received 2 results and 0 failures\n"
     ]
    },
    {
     "name": "stdout",
     "output_type": "stream",
     "text": [
      "\t {'train_loss': 0.016365918330848217, 'train_accuracy': 1.0}\n"
     ]
    },
    {
     "name": "stderr",
     "output_type": "stream",
     "text": [
      "INFO flwr 2023-04-12 02:00:43,334 | server.py:116 | fit progress: (48, 10.369572639465332, {'test_loss': 10.369572639465332, 'test_accuracy': 0.38}, 5327.494444500002)\n",
      "DEBUG flwr 2023-04-12 02:00:43,334 | server.py:165 | evaluate_round 48: strategy sampled 2 clients (out of 5)\n",
      "DEBUG flwr 2023-04-12 02:00:49,532 | server.py:179 | evaluate_round 48 received 2 results and 0 failures\n",
      "DEBUG flwr 2023-04-12 02:00:49,532 | server.py:215 | fit_round 49: strategy sampled 2 clients (out of 5)\n"
     ]
    },
    {
     "name": "stdout",
     "output_type": "stream",
     "text": [
      "\t {'val_loss': 2.1371358036994934, 'val_accuracy': 0.5}\n"
     ]
    },
    {
     "name": "stderr",
     "output_type": "stream",
     "text": [
      "DEBUG flwr 2023-04-12 02:02:24,102 | server.py:229 | fit_round 49 received 2 results and 0 failures\n"
     ]
    },
    {
     "name": "stdout",
     "output_type": "stream",
     "text": [
      "\t {'train_loss': 0.009830874187173322, 'train_accuracy': 1.0}\n"
     ]
    },
    {
     "name": "stderr",
     "output_type": "stream",
     "text": [
      "INFO flwr 2023-04-12 02:02:33,882 | server.py:116 | fit progress: (49, 10.441415786743164, {'test_loss': 10.441415786743164, 'test_accuracy': 0.34}, 5438.0428715)\n",
      "DEBUG flwr 2023-04-12 02:02:33,883 | server.py:165 | evaluate_round 49: strategy sampled 2 clients (out of 5)\n",
      "DEBUG flwr 2023-04-12 02:02:40,066 | server.py:179 | evaluate_round 49 received 2 results and 0 failures\n",
      "DEBUG flwr 2023-04-12 02:02:40,067 | server.py:215 | fit_round 50: strategy sampled 2 clients (out of 5)\n"
     ]
    },
    {
     "name": "stdout",
     "output_type": "stream",
     "text": [
      "\t {'val_loss': 2.1221163272857666, 'val_accuracy': 0.55}\n"
     ]
    },
    {
     "name": "stderr",
     "output_type": "stream",
     "text": [
      "DEBUG flwr 2023-04-12 02:04:14,769 | server.py:229 | fit_round 50 received 2 results and 0 failures\n"
     ]
    },
    {
     "name": "stdout",
     "output_type": "stream",
     "text": [
      "\t {'train_loss': 0.0043949523533228785, 'train_accuracy': 1.0}\n"
     ]
    },
    {
     "name": "stderr",
     "output_type": "stream",
     "text": [
      "INFO flwr 2023-04-12 02:04:24,534 | server.py:116 | fit progress: (50, 10.483579635620117, {'test_loss': 10.483579635620117, 'test_accuracy': 0.36}, 5548.6945421)\n",
      "DEBUG flwr 2023-04-12 02:04:24,534 | server.py:165 | evaluate_round 50: strategy sampled 2 clients (out of 5)\n",
      "DEBUG flwr 2023-04-12 02:04:30,600 | server.py:179 | evaluate_round 50 received 2 results and 0 failures\n",
      "INFO flwr 2023-04-12 02:04:30,600 | server.py:144 | FL finished in 5554.7610181\n",
      "INFO flwr 2023-04-12 02:04:30,621 | app.py:202 | app_fit: losses_distributed [(1, 4.799883604049683), (2, 4.553986549377441), (3, 4.1568580865859985), (4, 4.019684433937073), (5, 4.514571666717529), (6, 3.9800989627838135), (7, 3.5181604623794556), (8, 3.759294867515564), (9, 3.845731735229492), (10, 4.080368280410767), (11, 3.7661999464035034), (12, 3.0594533681869507), (13, 3.4446840286254883), (14, 3.405733346939087), (15, 2.7506247758865356), (16, 3.286954402923584), (17, 3.341519832611084), (18, 3.098055839538574), (19, 2.21755850315094), (20, 3.0036736726760864), (21, 3.4234373569488525), (22, 2.5660902857780457), (23, 3.179115653038025), (24, 2.3492543697357178), (25, 2.6255205273628235), (26, 2.7282360792160034), (27, 2.6174302101135254), (28, 2.3944144248962402), (29, 1.7107126712799072), (30, 3.045843005180359), (31, 1.9135297536849976), (32, 1.8562867641448975), (33, 2.2412225008010864), (34, 2.2232271432876587), (35, 2.751700758934021), (36, 2.248692810535431), (37, 2.2432225942611694), (38, 2.034260392189026), (39, 3.1868627071380615), (40, 3.1385254859924316), (41, 2.177428185939789), (42, 1.6015073657035828), (43, 2.2188685536384583), (44, 2.063891351222992), (45, 2.1325985193252563), (46, 1.4711462259292603), (47, 1.7785512804985046), (48, 2.1371358036994934), (49, 2.1221163272857666), (50, 1.431100845336914)]\n",
      "INFO flwr 2023-04-12 02:04:30,623 | app.py:203 | app_fit: metrics_distributed {'val_loss': [(1, 4.799883604049683), (2, 4.553986549377441), (3, 4.1568580865859985), (4, 4.019684433937073), (5, 4.514571666717529), (6, 3.9800989627838135), (7, 3.5181604623794556), (8, 3.759294867515564), (9, 3.845731735229492), (10, 4.080368280410767), (11, 3.7661999464035034), (12, 3.0594533681869507), (13, 3.4446840286254883), (14, 3.405733346939087), (15, 2.7506247758865356), (16, 3.286954402923584), (17, 3.341519832611084), (18, 3.098055839538574), (19, 2.21755850315094), (20, 3.0036736726760864), (21, 3.4234373569488525), (22, 2.5660902857780457), (23, 3.179115653038025), (24, 2.3492543697357178), (25, 2.6255205273628235), (26, 2.7282360792160034), (27, 2.6174302101135254), (28, 2.3944144248962402), (29, 1.7107126712799072), (30, 3.045843005180359), (31, 1.9135297536849976), (32, 1.8562867641448975), (33, 2.2412225008010864), (34, 2.2232271432876587), (35, 2.751700758934021), (36, 2.248692810535431), (37, 2.2432225942611694), (38, 2.034260392189026), (39, 3.1868627071380615), (40, 3.1385254859924316), (41, 2.177428185939789), (42, 1.6015073657035828), (43, 2.2188685536384583), (44, 2.063891351222992), (45, 2.1325985193252563), (46, 1.4711462259292603), (47, 1.7785512804985046), (48, 2.1371358036994934), (49, 2.1221163272857666), (50, 1.431100845336914)], 'val_accuracy': [(1, 0.05), (2, 0.0), (3, 0.1), (4, 0.2), (5, 0.0), (6, 0.25), (7, 0.4), (8, 0.15000000000000002), (9, 0.1), (10, 0.15000000000000002), (11, 0.15000000000000002), (12, 0.2), (13, 0.2), (14, 0.2), (15, 0.44999999999999996), (16, 0.35), (17, 0.15), (18, 0.35), (19, 0.5), (20, 0.25), (21, 0.3), (22, 0.44999999999999996), (23, 0.3), (24, 0.5), (25, 0.44999999999999996), (26, 0.3), (27, 0.3), (28, 0.45), (29, 0.55), (30, 0.45), (31, 0.65), (32, 0.65), (33, 0.5), (34, 0.4), (35, 0.45), (36, 0.4), (37, 0.5), (38, 0.5), (39, 0.3), (40, 0.3), (41, 0.55), (42, 0.6499999999999999), (43, 0.5), (44, 0.55), (45, 0.55), (46, 0.65), (47, 0.55), (48, 0.5), (49, 0.55), (50, 0.6499999999999999)]}\n",
      "INFO flwr 2023-04-12 02:04:30,624 | app.py:204 | app_fit: losses_centralized [(0, 19.039918899536133), (1, 18.605003356933594), (2, 17.1025447845459), (3, 16.296794891357422), (4, 16.027568817138672), (5, 16.08820915222168), (6, 16.412899017333984), (7, 15.814949035644531), (8, 15.25075912475586), (9, 14.133331298828125), (10, 14.96272087097168), (11, 13.802087783813477), (12, 13.228757858276367), (13, 13.93004035949707), (14, 13.456661224365234), (15, 13.354249954223633), (16, 13.333696365356445), (17, 12.975748062133789), (18, 12.599178314208984), (19, 12.529555320739746), (20, 12.66211986541748), (21, 12.559025764465332), (22, 12.088236808776855), (23, 12.24394416809082), (24, 11.807209014892578), (25, 11.883596420288086), (26, 11.594513893127441), (27, 11.888814926147461), (28, 11.7505521774292), (29, 11.291762351989746), (30, 11.319803237915039), (31, 11.141084671020508), (32, 10.923506736755371), (33, 11.145482063293457), (34, 11.055734634399414), (35, 10.96114730834961), (36, 10.889974594116211), (37, 10.847980499267578), (38, 10.824015617370605), (39, 10.70857048034668), (40, 10.8280668258667), (41, 10.473516464233398), (42, 10.52798843383789), (43, 10.940641403198242), (44, 10.673954010009766), (45, 10.68304443359375), (46, 10.511045455932617), (47, 10.347908020019531), (48, 10.369572639465332), (49, 10.441415786743164), (50, 10.483579635620117)]\n",
      "INFO flwr 2023-04-12 02:04:30,625 | app.py:205 | app_fit: metrics_centralized {'test_loss': [(0, 19.039918899536133), (1, 18.605003356933594), (2, 17.1025447845459), (3, 16.296794891357422), (4, 16.027568817138672), (5, 16.08820915222168), (6, 16.412899017333984), (7, 15.814949035644531), (8, 15.25075912475586), (9, 14.133331298828125), (10, 14.96272087097168), (11, 13.802087783813477), (12, 13.228757858276367), (13, 13.93004035949707), (14, 13.456661224365234), (15, 13.354249954223633), (16, 13.333696365356445), (17, 12.975748062133789), (18, 12.599178314208984), (19, 12.529555320739746), (20, 12.66211986541748), (21, 12.559025764465332), (22, 12.088236808776855), (23, 12.24394416809082), (24, 11.807209014892578), (25, 11.883596420288086), (26, 11.594513893127441), (27, 11.888814926147461), (28, 11.7505521774292), (29, 11.291762351989746), (30, 11.319803237915039), (31, 11.141084671020508), (32, 10.923506736755371), (33, 11.145482063293457), (34, 11.055734634399414), (35, 10.96114730834961), (36, 10.889974594116211), (37, 10.847980499267578), (38, 10.824015617370605), (39, 10.70857048034668), (40, 10.8280668258667), (41, 10.473516464233398), (42, 10.52798843383789), (43, 10.940641403198242), (44, 10.673954010009766), (45, 10.68304443359375), (46, 10.511045455932617), (47, 10.347908020019531), (48, 10.369572639465332), (49, 10.441415786743164), (50, 10.483579635620117)], 'test_accuracy': [(0, 0.01), (1, 0.02), (2, 0.11), (3, 0.16), (4, 0.18), (5, 0.19), (6, 0.16), (7, 0.2), (8, 0.21), (9, 0.24), (10, 0.26), (11, 0.23), (12, 0.26), (13, 0.25), (14, 0.26), (15, 0.25), (16, 0.24), (17, 0.26), (18, 0.28), (19, 0.28), (20, 0.27), (21, 0.27), (22, 0.29), (23, 0.29), (24, 0.29), (25, 0.3), (26, 0.31), (27, 0.28), (28, 0.29), (29, 0.34), (30, 0.31), (31, 0.32), (32, 0.33), (33, 0.33), (34, 0.35), (35, 0.35), (36, 0.36), (37, 0.32), (38, 0.34), (39, 0.34), (40, 0.33), (41, 0.38), (42, 0.38), (43, 0.32), (44, 0.34), (45, 0.34), (46, 0.37), (47, 0.36), (48, 0.38), (49, 0.34), (50, 0.36)]}\n"
     ]
    },
    {
     "name": "stdout",
     "output_type": "stream",
     "text": [
      "\t {'val_loss': 1.431100845336914, 'val_accuracy': 0.6499999999999999}\n"
     ]
    },
    {
     "data": {
      "text/plain": [
       "History (loss, distributed):\n",
       "\tround 1: 4.799883604049683\n",
       "\tround 2: 4.553986549377441\n",
       "\tround 3: 4.1568580865859985\n",
       "\tround 4: 4.019684433937073\n",
       "\tround 5: 4.514571666717529\n",
       "\tround 6: 3.9800989627838135\n",
       "\tround 7: 3.5181604623794556\n",
       "\tround 8: 3.759294867515564\n",
       "\tround 9: 3.845731735229492\n",
       "\tround 10: 4.080368280410767\n",
       "\tround 11: 3.7661999464035034\n",
       "\tround 12: 3.0594533681869507\n",
       "\tround 13: 3.4446840286254883\n",
       "\tround 14: 3.405733346939087\n",
       "\tround 15: 2.7506247758865356\n",
       "\tround 16: 3.286954402923584\n",
       "\tround 17: 3.341519832611084\n",
       "\tround 18: 3.098055839538574\n",
       "\tround 19: 2.21755850315094\n",
       "\tround 20: 3.0036736726760864\n",
       "\tround 21: 3.4234373569488525\n",
       "\tround 22: 2.5660902857780457\n",
       "\tround 23: 3.179115653038025\n",
       "\tround 24: 2.3492543697357178\n",
       "\tround 25: 2.6255205273628235\n",
       "\tround 26: 2.7282360792160034\n",
       "\tround 27: 2.6174302101135254\n",
       "\tround 28: 2.3944144248962402\n",
       "\tround 29: 1.7107126712799072\n",
       "\tround 30: 3.045843005180359\n",
       "\tround 31: 1.9135297536849976\n",
       "\tround 32: 1.8562867641448975\n",
       "\tround 33: 2.2412225008010864\n",
       "\tround 34: 2.2232271432876587\n",
       "\tround 35: 2.751700758934021\n",
       "\tround 36: 2.248692810535431\n",
       "\tround 37: 2.2432225942611694\n",
       "\tround 38: 2.034260392189026\n",
       "\tround 39: 3.1868627071380615\n",
       "\tround 40: 3.1385254859924316\n",
       "\tround 41: 2.177428185939789\n",
       "\tround 42: 1.6015073657035828\n",
       "\tround 43: 2.2188685536384583\n",
       "\tround 44: 2.063891351222992\n",
       "\tround 45: 2.1325985193252563\n",
       "\tround 46: 1.4711462259292603\n",
       "\tround 47: 1.7785512804985046\n",
       "\tround 48: 2.1371358036994934\n",
       "\tround 49: 2.1221163272857666\n",
       "\tround 50: 1.431100845336914\n",
       "History (loss, centralized):\n",
       "\tround 0: 19.039918899536133\n",
       "\tround 1: 18.605003356933594\n",
       "\tround 2: 17.1025447845459\n",
       "\tround 3: 16.296794891357422\n",
       "\tround 4: 16.027568817138672\n",
       "\tround 5: 16.08820915222168\n",
       "\tround 6: 16.412899017333984\n",
       "\tround 7: 15.814949035644531\n",
       "\tround 8: 15.25075912475586\n",
       "\tround 9: 14.133331298828125\n",
       "\tround 10: 14.96272087097168\n",
       "\tround 11: 13.802087783813477\n",
       "\tround 12: 13.228757858276367\n",
       "\tround 13: 13.93004035949707\n",
       "\tround 14: 13.456661224365234\n",
       "\tround 15: 13.354249954223633\n",
       "\tround 16: 13.333696365356445\n",
       "\tround 17: 12.975748062133789\n",
       "\tround 18: 12.599178314208984\n",
       "\tround 19: 12.529555320739746\n",
       "\tround 20: 12.66211986541748\n",
       "\tround 21: 12.559025764465332\n",
       "\tround 22: 12.088236808776855\n",
       "\tround 23: 12.24394416809082\n",
       "\tround 24: 11.807209014892578\n",
       "\tround 25: 11.883596420288086\n",
       "\tround 26: 11.594513893127441\n",
       "\tround 27: 11.888814926147461\n",
       "\tround 28: 11.7505521774292\n",
       "\tround 29: 11.291762351989746\n",
       "\tround 30: 11.319803237915039\n",
       "\tround 31: 11.141084671020508\n",
       "\tround 32: 10.923506736755371\n",
       "\tround 33: 11.145482063293457\n",
       "\tround 34: 11.055734634399414\n",
       "\tround 35: 10.96114730834961\n",
       "\tround 36: 10.889974594116211\n",
       "\tround 37: 10.847980499267578\n",
       "\tround 38: 10.824015617370605\n",
       "\tround 39: 10.70857048034668\n",
       "\tround 40: 10.8280668258667\n",
       "\tround 41: 10.473516464233398\n",
       "\tround 42: 10.52798843383789\n",
       "\tround 43: 10.940641403198242\n",
       "\tround 44: 10.673954010009766\n",
       "\tround 45: 10.68304443359375\n",
       "\tround 46: 10.511045455932617\n",
       "\tround 47: 10.347908020019531\n",
       "\tround 48: 10.369572639465332\n",
       "\tround 49: 10.441415786743164\n",
       "\tround 50: 10.483579635620117\n",
       "History (metrics, distributed):\n",
       "{'val_loss': [(1, 4.799883604049683), (2, 4.553986549377441), (3, 4.1568580865859985), (4, 4.019684433937073), (5, 4.514571666717529), (6, 3.9800989627838135), (7, 3.5181604623794556), (8, 3.759294867515564), (9, 3.845731735229492), (10, 4.080368280410767), (11, 3.7661999464035034), (12, 3.0594533681869507), (13, 3.4446840286254883), (14, 3.405733346939087), (15, 2.7506247758865356), (16, 3.286954402923584), (17, 3.341519832611084), (18, 3.098055839538574), (19, 2.21755850315094), (20, 3.0036736726760864), (21, 3.4234373569488525), (22, 2.5660902857780457), (23, 3.179115653038025), (24, 2.3492543697357178), (25, 2.6255205273628235), (26, 2.7282360792160034), (27, 2.6174302101135254), (28, 2.3944144248962402), (29, 1.7107126712799072), (30, 3.045843005180359), (31, 1.9135297536849976), (32, 1.8562867641448975), (33, 2.2412225008010864), (34, 2.2232271432876587), (35, 2.751700758934021), (36, 2.248692810535431), (37, 2.2432225942611694), (38, 2.034260392189026), (39, 3.1868627071380615), (40, 3.1385254859924316), (41, 2.177428185939789), (42, 1.6015073657035828), (43, 2.2188685536384583), (44, 2.063891351222992), (45, 2.1325985193252563), (46, 1.4711462259292603), (47, 1.7785512804985046), (48, 2.1371358036994934), (49, 2.1221163272857666), (50, 1.431100845336914)], 'val_accuracy': [(1, 0.05), (2, 0.0), (3, 0.1), (4, 0.2), (5, 0.0), (6, 0.25), (7, 0.4), (8, 0.15000000000000002), (9, 0.1), (10, 0.15000000000000002), (11, 0.15000000000000002), (12, 0.2), (13, 0.2), (14, 0.2), (15, 0.44999999999999996), (16, 0.35), (17, 0.15), (18, 0.35), (19, 0.5), (20, 0.25), (21, 0.3), (22, 0.44999999999999996), (23, 0.3), (24, 0.5), (25, 0.44999999999999996), (26, 0.3), (27, 0.3), (28, 0.45), (29, 0.55), (30, 0.45), (31, 0.65), (32, 0.65), (33, 0.5), (34, 0.4), (35, 0.45), (36, 0.4), (37, 0.5), (38, 0.5), (39, 0.3), (40, 0.3), (41, 0.55), (42, 0.6499999999999999), (43, 0.5), (44, 0.55), (45, 0.55), (46, 0.65), (47, 0.55), (48, 0.5), (49, 0.55), (50, 0.6499999999999999)]}History (metrics, centralized):\n",
       "{'test_loss': [(0, 19.039918899536133), (1, 18.605003356933594), (2, 17.1025447845459), (3, 16.296794891357422), (4, 16.027568817138672), (5, 16.08820915222168), (6, 16.412899017333984), (7, 15.814949035644531), (8, 15.25075912475586), (9, 14.133331298828125), (10, 14.96272087097168), (11, 13.802087783813477), (12, 13.228757858276367), (13, 13.93004035949707), (14, 13.456661224365234), (15, 13.354249954223633), (16, 13.333696365356445), (17, 12.975748062133789), (18, 12.599178314208984), (19, 12.529555320739746), (20, 12.66211986541748), (21, 12.559025764465332), (22, 12.088236808776855), (23, 12.24394416809082), (24, 11.807209014892578), (25, 11.883596420288086), (26, 11.594513893127441), (27, 11.888814926147461), (28, 11.7505521774292), (29, 11.291762351989746), (30, 11.319803237915039), (31, 11.141084671020508), (32, 10.923506736755371), (33, 11.145482063293457), (34, 11.055734634399414), (35, 10.96114730834961), (36, 10.889974594116211), (37, 10.847980499267578), (38, 10.824015617370605), (39, 10.70857048034668), (40, 10.8280668258667), (41, 10.473516464233398), (42, 10.52798843383789), (43, 10.940641403198242), (44, 10.673954010009766), (45, 10.68304443359375), (46, 10.511045455932617), (47, 10.347908020019531), (48, 10.369572639465332), (49, 10.441415786743164), (50, 10.483579635620117)], 'test_accuracy': [(0, 0.01), (1, 0.02), (2, 0.11), (3, 0.16), (4, 0.18), (5, 0.19), (6, 0.16), (7, 0.2), (8, 0.21), (9, 0.24), (10, 0.26), (11, 0.23), (12, 0.26), (13, 0.25), (14, 0.26), (15, 0.25), (16, 0.24), (17, 0.26), (18, 0.28), (19, 0.28), (20, 0.27), (21, 0.27), (22, 0.29), (23, 0.29), (24, 0.29), (25, 0.3), (26, 0.31), (27, 0.28), (28, 0.29), (29, 0.34), (30, 0.31), (31, 0.32), (32, 0.33), (33, 0.33), (34, 0.35), (35, 0.35), (36, 0.36), (37, 0.32), (38, 0.34), (39, 0.34), (40, 0.33), (41, 0.38), (42, 0.38), (43, 0.32), (44, 0.34), (45, 0.34), (46, 0.37), (47, 0.36), (48, 0.38), (49, 0.34), (50, 0.36)]}"
      ]
     },
     "execution_count": 9,
     "metadata": {},
     "output_type": "execute_result"
    }
   ],
   "source": [
    "fl.simulation.start_simulation(\n",
    "    client_fn=lambda cid: FlowerClient(MODEL_CONFIG, trainloaders[int(cid)], valloaders[int(cid)]),\n",
    "    num_clients=NUM_CLIENTS,\n",
    "    config=fl.server.ServerConfig(num_rounds=NUM_ROUNDS),\n",
    "    strategy=strategy,\n",
    "    client_resources=CLIENT_RESOURCES,\n",
    "    ray_init_args=RAY_ARGS,\n",
    ")"
   ]
  }
 ],
 "metadata": {
  "language_info": {
   "codemirror_mode": {
    "name": "ipython",
    "version": 3
   },
   "file_extension": ".py",
   "mimetype": "text/x-python",
   "name": "python",
   "nbconvert_exporter": "python",
   "pygments_lexer": "ipython3",
   "version": 3
  },
  "orig_nbformat": 4
 },
 "nbformat": 4,
 "nbformat_minor": 2
}
