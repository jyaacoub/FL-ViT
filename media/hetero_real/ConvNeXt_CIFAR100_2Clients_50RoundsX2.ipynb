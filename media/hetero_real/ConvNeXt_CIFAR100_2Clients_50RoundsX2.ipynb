{
 "cells": [
  {
   "cell_type": "code",
   "execution_count": 6,
   "source": [
    "print('num clients:', NUM_CLIENTS)\n",
    "print('num rounds:', NUM_ROUNDS)\n",
    "print('--'*20)\n",
    "print('client training set size:', [len(t.dataset) for t in trainloaders])\n",
    "print('client validation set size:', [len(v.dataset) for v in valloaders])\n",
    "print('test set size:', len(testloader.dataset))\n",
    "print('--'*20)\n",
    "print('model name:', MODEL_NAME)\n",
    "print('num classes:', NUM_CLASSES)\n",
    "print('pre-trained:', PRE_TRAINED)\n",
    "print('learning rate:', LEARNING_RATE)\n",
    "print('batch size:', BATCH_SIZE)\n",
    "print('epochs:', EPOCHS)"
   ],
   "outputs": [
    {
     "output_type": "stream",
     "name": "stdout",
     "text": [
      "num clients: 5\n",
      "num rounds: 50\n",
      "----------------------------------------\n",
      "client training set size: [180, 180, 180, 180, 180]\n",
      "client validation set size: [20, 20, 20, 20, 20]\n",
      "test set size: 100\n",
      "----------------------------------------\n",
      "model name: facebook/convnext-tiny-224\n",
      "num classes: 100\n",
      "pre-trained: True\n",
      "learning rate: 0.0001\n",
      "batch size: 32\n",
      "epochs: 1\n"
     ]
    }
   ],
   "metadata": {}
  },
  {
   "cell_type": "code",
   "execution_count": 7,
   "source": [
    "fl.server.start_server(server_address=SERVER_ADDRESS, \n",
    "                       config=fl.server.ServerConfig(num_rounds=NUM_ROUNDS), \n",
    "                       strategy=strategy)"
   ],
   "outputs": [
    {
     "output_type": "stream",
     "name": "stderr",
     "text": [
      "INFO flwr 2023-04-15 14:21:56,142 | app.py:139 | Starting Flower server, config: ServerConfig(num_rounds=50, round_timeout=None)\n",
      "INFO flwr 2023-04-15 14:21:56,172 | app.py:152 | Flower ECE: gRPC server running (50 rounds), SSL is disabled\n",
      "INFO flwr 2023-04-15 14:21:56,173 | server.py:86 | Initializing global parameters\n",
      "INFO flwr 2023-04-15 14:21:56,173 | server.py:266 | Using initial parameters provided by strategy\n",
      "INFO flwr 2023-04-15 14:21:56,173 | server.py:88 | Evaluating initial parameters\n",
      "INFO flwr 2023-04-15 14:22:01,007 | server.py:91 | initial parameters (loss, other metrics): 18.524402618408203, {'test_loss': 18.524402618408203, 'test_accuracy': 0.01}\n",
      "INFO flwr 2023-04-15 14:22:01,008 | server.py:101 | FL starting\n",
      "DEBUG flwr 2023-04-15 14:22:01,548 | server.py:215 | fit_round 1: strategy sampled 2 clients (out of 2)\n",
      "DEBUG flwr 2023-04-15 14:23:18,993 | server.py:229 | fit_round 1 received 2 results and 0 failures\n"
     ]
    },
    {
     "output_type": "stream",
     "name": "stdout",
     "text": [
      "\t {'train_loss': 4.59499979019165, 'train_accuracy': 0.005555555555555556}\n"
     ]
    },
    {
     "output_type": "stream",
     "name": "stderr",
     "text": [
      "INFO flwr 2023-04-15 14:23:24,048 | server.py:116 | fit progress: (1, 18.457782745361328, {'test_loss': 18.457782745361328, 'test_accuracy': 0.01}, 83.04026100001647)\n",
      "DEBUG flwr 2023-04-15 14:23:24,049 | server.py:165 | evaluate_round 1: strategy sampled 2 clients (out of 2)\n",
      "DEBUG flwr 2023-04-15 14:23:30,938 | server.py:179 | evaluate_round 1 received 2 results and 0 failures\n",
      "DEBUG flwr 2023-04-15 14:23:30,939 | server.py:215 | fit_round 2: strategy sampled 2 clients (out of 2)\n"
     ]
    },
    {
     "output_type": "stream",
     "name": "stdout",
     "text": [
      "\t {'val_loss': 4.626702308654785, 'val_accuracy': 0.0}\n"
     ]
    },
    {
     "output_type": "stream",
     "name": "stderr",
     "text": [
      "DEBUG flwr 2023-04-15 14:24:48,739 | server.py:229 | fit_round 2 received 2 results and 0 failures\n"
     ]
    },
    {
     "output_type": "stream",
     "name": "stdout",
     "text": [
      "\t {'train_loss': 4.525175333023071, 'train_accuracy': 0.08055555555555556}\n"
     ]
    },
    {
     "output_type": "stream",
     "name": "stderr",
     "text": [
      "INFO flwr 2023-04-15 14:24:53,801 | server.py:116 | fit progress: (2, 18.332590103149414, {'test_loss': 18.332590103149414, 'test_accuracy': 0.01}, 172.79366070000106)\n",
      "DEBUG flwr 2023-04-15 14:24:53,801 | server.py:165 | evaluate_round 2: strategy sampled 2 clients (out of 2)\n",
      "DEBUG flwr 2023-04-15 14:25:00,349 | server.py:179 | evaluate_round 2 received 2 results and 0 failures\n",
      "DEBUG flwr 2023-04-15 14:25:00,350 | server.py:215 | fit_round 3: strategy sampled 2 clients (out of 2)\n"
     ]
    },
    {
     "output_type": "stream",
     "name": "stdout",
     "text": [
      "\t {'val_loss': 4.595104694366455, 'val_accuracy': 0.0}\n"
     ]
    },
    {
     "output_type": "stream",
     "name": "stderr",
     "text": [
      "DEBUG flwr 2023-04-15 14:26:22,540 | server.py:229 | fit_round 3 received 2 results and 0 failures\n"
     ]
    },
    {
     "output_type": "stream",
     "name": "stdout",
     "text": [
      "\t {'train_loss': 4.453019618988037, 'train_accuracy': 0.22777777777777777}\n"
     ]
    },
    {
     "output_type": "stream",
     "name": "stderr",
     "text": [
      "INFO flwr 2023-04-15 14:26:27,681 | server.py:116 | fit progress: (3, 18.244220733642578, {'test_loss': 18.244220733642578, 'test_accuracy': 0.01}, 266.67440519999946)\n",
      "DEBUG flwr 2023-04-15 14:26:27,681 | server.py:165 | evaluate_round 3: strategy sampled 2 clients (out of 2)\n",
      "DEBUG flwr 2023-04-15 14:26:34,103 | server.py:179 | evaluate_round 3 received 2 results and 0 failures\n",
      "DEBUG flwr 2023-04-15 14:26:34,104 | server.py:215 | fit_round 4: strategy sampled 2 clients (out of 2)\n"
     ]
    },
    {
     "output_type": "stream",
     "name": "stdout",
     "text": [
      "\t {'val_loss': 4.562689304351807, 'val_accuracy': 0.025}\n"
     ]
    },
    {
     "output_type": "stream",
     "name": "stderr",
     "text": [
      "DEBUG flwr 2023-04-15 14:28:35,087 | server.py:229 | fit_round 4 received 2 results and 0 failures\n"
     ]
    },
    {
     "output_type": "stream",
     "name": "stdout",
     "text": [
      "\t {'train_loss': 4.388842344284058, 'train_accuracy': 0.4305555555555556}\n"
     ]
    },
    {
     "output_type": "stream",
     "name": "stderr",
     "text": [
      "INFO flwr 2023-04-15 14:28:40,131 | server.py:116 | fit progress: (4, 18.141860961914062, {'test_loss': 18.141860961914062, 'test_accuracy': 0.03}, 399.12593259999994)\n",
      "DEBUG flwr 2023-04-15 14:28:40,132 | server.py:165 | evaluate_round 4: strategy sampled 2 clients (out of 2)\n",
      "DEBUG flwr 2023-04-15 14:28:46,990 | server.py:179 | evaluate_round 4 received 2 results and 0 failures\n",
      "DEBUG flwr 2023-04-15 14:28:46,991 | server.py:215 | fit_round 5: strategy sampled 2 clients (out of 2)\n"
     ]
    },
    {
     "output_type": "stream",
     "name": "stdout",
     "text": [
      "\t {'val_loss': 4.521740674972534, 'val_accuracy': 0.05}\n"
     ]
    },
    {
     "output_type": "stream",
     "name": "stderr",
     "text": [
      "DEBUG flwr 2023-04-15 14:30:22,077 | server.py:229 | fit_round 5 received 2 results and 0 failures\n"
     ]
    },
    {
     "output_type": "stream",
     "name": "stdout",
     "text": [
      "\t {'train_loss': 4.307664155960083, 'train_accuracy': 0.5666666666666667}\n"
     ]
    },
    {
     "output_type": "stream",
     "name": "stderr",
     "text": [
      "INFO flwr 2023-04-15 14:30:27,102 | server.py:116 | fit progress: (5, 18.089374542236328, {'test_loss': 18.089374542236328, 'test_accuracy': 0.05}, 506.09750760000315)\n",
      "DEBUG flwr 2023-04-15 14:30:27,103 | server.py:165 | evaluate_round 5: strategy sampled 2 clients (out of 2)\n",
      "DEBUG flwr 2023-04-15 14:30:34,599 | server.py:179 | evaluate_round 5 received 2 results and 0 failures\n",
      "DEBUG flwr 2023-04-15 14:30:34,600 | server.py:215 | fit_round 6: strategy sampled 2 clients (out of 2)\n"
     ]
    },
    {
     "output_type": "stream",
     "name": "stdout",
     "text": [
      "\t {'val_loss': 4.497391700744629, 'val_accuracy': 0.05}\n"
     ]
    },
    {
     "output_type": "stream",
     "name": "stderr",
     "text": [
      "DEBUG flwr 2023-04-15 14:31:56,849 | server.py:229 | fit_round 6 received 2 results and 0 failures\n"
     ]
    },
    {
     "output_type": "stream",
     "name": "stdout",
     "text": [
      "\t {'train_loss': 4.248847007751465, 'train_accuracy': 0.6611111111111111}\n"
     ]
    },
    {
     "output_type": "stream",
     "name": "stderr",
     "text": [
      "INFO flwr 2023-04-15 14:32:01,813 | server.py:116 | fit progress: (6, 17.957763671875, {'test_loss': 17.957763671875, 'test_accuracy': 0.06}, 600.8094150999968)\n",
      "DEBUG flwr 2023-04-15 14:32:01,814 | server.py:165 | evaluate_round 6: strategy sampled 2 clients (out of 2)\n",
      "DEBUG flwr 2023-04-15 14:32:08,745 | server.py:179 | evaluate_round 6 received 2 results and 0 failures\n",
      "DEBUG flwr 2023-04-15 14:32:08,746 | server.py:215 | fit_round 7: strategy sampled 2 clients (out of 2)\n"
     ]
    },
    {
     "output_type": "stream",
     "name": "stdout",
     "text": [
      "\t {'val_loss': 4.458006143569946, 'val_accuracy': 0.075}\n"
     ]
    },
    {
     "output_type": "stream",
     "name": "stderr",
     "text": [
      "DEBUG flwr 2023-04-15 14:33:36,243 | server.py:229 | fit_round 7 received 2 results and 0 failures\n"
     ]
    },
    {
     "output_type": "stream",
     "name": "stdout",
     "text": [
      "\t {'train_loss': 4.165117502212524, 'train_accuracy': 0.7222222222222222}\n"
     ]
    },
    {
     "output_type": "stream",
     "name": "stderr",
     "text": [
      "INFO flwr 2023-04-15 14:33:41,189 | server.py:116 | fit progress: (7, 17.903966903686523, {'test_loss': 17.903966903686523, 'test_accuracy': 0.06}, 700.187036599993)\n",
      "DEBUG flwr 2023-04-15 14:33:41,190 | server.py:165 | evaluate_round 7: strategy sampled 2 clients (out of 2)\n",
      "DEBUG flwr 2023-04-15 14:33:47,971 | server.py:179 | evaluate_round 7 received 2 results and 0 failures\n",
      "DEBUG flwr 2023-04-15 14:33:47,971 | server.py:215 | fit_round 8: strategy sampled 2 clients (out of 2)\n"
     ]
    },
    {
     "output_type": "stream",
     "name": "stdout",
     "text": [
      "\t {'val_loss': 4.439037322998047, 'val_accuracy': 0.125}\n"
     ]
    },
    {
     "output_type": "stream",
     "name": "stderr",
     "text": [
      "DEBUG flwr 2023-04-15 14:35:33,554 | server.py:229 | fit_round 8 received 2 results and 0 failures\n"
     ]
    },
    {
     "output_type": "stream",
     "name": "stdout",
     "text": [
      "\t {'train_loss': 4.114400625228882, 'train_accuracy': 0.75}\n"
     ]
    },
    {
     "output_type": "stream",
     "name": "stderr",
     "text": [
      "INFO flwr 2023-04-15 14:35:38,516 | server.py:116 | fit progress: (8, 17.82100486755371, {'test_loss': 17.82100486755371, 'test_accuracy': 0.1}, 817.5148500000068)\n",
      "DEBUG flwr 2023-04-15 14:35:38,517 | server.py:165 | evaluate_round 8: strategy sampled 2 clients (out of 2)\n",
      "DEBUG flwr 2023-04-15 14:35:45,508 | server.py:179 | evaluate_round 8 received 2 results and 0 failures\n",
      "DEBUG flwr 2023-04-15 14:35:45,509 | server.py:215 | fit_round 9: strategy sampled 2 clients (out of 2)\n"
     ]
    },
    {
     "output_type": "stream",
     "name": "stdout",
     "text": [
      "\t {'val_loss': 4.393303632736206, 'val_accuracy': 0.15}\n"
     ]
    },
    {
     "output_type": "stream",
     "name": "stderr",
     "text": [
      "DEBUG flwr 2023-04-15 14:37:24,063 | server.py:229 | fit_round 9 received 2 results and 0 failures\n"
     ]
    },
    {
     "output_type": "stream",
     "name": "stdout",
     "text": [
      "\t {'train_loss': 4.040103197097778, 'train_accuracy': 0.7722222222222223}\n"
     ]
    },
    {
     "output_type": "stream",
     "name": "stderr",
     "text": [
      "INFO flwr 2023-04-15 14:37:29,012 | server.py:116 | fit progress: (9, 17.779617309570312, {'test_loss': 17.779617309570312, 'test_accuracy': 0.1}, 928.011258100014)\n",
      "DEBUG flwr 2023-04-15 14:37:29,013 | server.py:165 | evaluate_round 9: strategy sampled 2 clients (out of 2)\n",
      "DEBUG flwr 2023-04-15 14:37:35,860 | server.py:179 | evaluate_round 9 received 2 results and 0 failures\n",
      "DEBUG flwr 2023-04-15 14:37:35,861 | server.py:215 | fit_round 10: strategy sampled 2 clients (out of 2)\n"
     ]
    },
    {
     "output_type": "stream",
     "name": "stdout",
     "text": [
      "\t {'val_loss': 4.3786749839782715, 'val_accuracy': 0.175}\n"
     ]
    },
    {
     "output_type": "stream",
     "name": "stderr",
     "text": [
      "DEBUG flwr 2023-04-15 14:39:08,302 | server.py:229 | fit_round 10 received 2 results and 0 failures\n"
     ]
    },
    {
     "output_type": "stream",
     "name": "stdout",
     "text": [
      "\t {'train_loss': 3.971138596534729, 'train_accuracy': 0.7944444444444444}\n"
     ]
    },
    {
     "output_type": "stream",
     "name": "stderr",
     "text": [
      "INFO flwr 2023-04-15 14:39:13,250 | server.py:116 | fit progress: (10, 17.664722442626953, {'test_loss': 17.664722442626953, 'test_accuracy': 0.11}, 1032.249469500006)\n",
      "DEBUG flwr 2023-04-15 14:39:13,250 | server.py:165 | evaluate_round 10: strategy sampled 2 clients (out of 2)\n",
      "DEBUG flwr 2023-04-15 14:39:20,148 | server.py:179 | evaluate_round 10 received 2 results and 0 failures\n",
      "DEBUG flwr 2023-04-15 14:39:20,149 | server.py:215 | fit_round 11: strategy sampled 2 clients (out of 2)\n"
     ]
    },
    {
     "output_type": "stream",
     "name": "stdout",
     "text": [
      "\t {'val_loss': 4.351632595062256, 'val_accuracy': 0.175}\n"
     ]
    },
    {
     "output_type": "stream",
     "name": "stderr",
     "text": [
      "DEBUG flwr 2023-04-15 14:40:51,578 | server.py:229 | fit_round 11 received 2 results and 0 failures\n"
     ]
    },
    {
     "output_type": "stream",
     "name": "stdout",
     "text": [
      "\t {'train_loss': 3.886474609375, 'train_accuracy': 0.8222222222222222}\n"
     ]
    },
    {
     "output_type": "stream",
     "name": "stderr",
     "text": [
      "INFO flwr 2023-04-15 14:40:56,563 | server.py:116 | fit progress: (11, 17.629344940185547, {'test_loss': 17.629344940185547, 'test_accuracy': 0.12}, 1135.5636232999968)\n",
      "DEBUG flwr 2023-04-15 14:40:56,564 | server.py:165 | evaluate_round 11: strategy sampled 2 clients (out of 2)\n",
      "DEBUG flwr 2023-04-15 14:41:03,325 | server.py:179 | evaluate_round 11 received 2 results and 0 failures\n",
      "DEBUG flwr 2023-04-15 14:41:03,326 | server.py:215 | fit_round 12: strategy sampled 2 clients (out of 2)\n"
     ]
    },
    {
     "output_type": "stream",
     "name": "stdout",
     "text": [
      "\t {'val_loss': 4.334226846694946, 'val_accuracy': 0.175}\n"
     ]
    },
    {
     "output_type": "stream",
     "name": "stderr",
     "text": [
      "DEBUG flwr 2023-04-15 14:42:34,142 | server.py:229 | fit_round 12 received 2 results and 0 failures\n"
     ]
    },
    {
     "output_type": "stream",
     "name": "stdout",
     "text": [
      "\t {'train_loss': 3.8221566677093506, 'train_accuracy': 0.85}\n"
     ]
    },
    {
     "output_type": "stream",
     "name": "stderr",
     "text": [
      "INFO flwr 2023-04-15 14:42:39,114 | server.py:116 | fit progress: (12, 17.52484130859375, {'test_loss': 17.52484130859375, 'test_accuracy': 0.12}, 1238.1152744000137)\n",
      "DEBUG flwr 2023-04-15 14:42:39,115 | server.py:165 | evaluate_round 12: strategy sampled 2 clients (out of 2)\n",
      "DEBUG flwr 2023-04-15 14:42:45,707 | server.py:179 | evaluate_round 12 received 2 results and 0 failures\n",
      "DEBUG flwr 2023-04-15 14:42:45,708 | server.py:215 | fit_round 13: strategy sampled 2 clients (out of 2)\n"
     ]
    },
    {
     "output_type": "stream",
     "name": "stdout",
     "text": [
      "\t {'val_loss': 4.30023717880249, 'val_accuracy': 0.2}\n"
     ]
    },
    {
     "output_type": "stream",
     "name": "stderr",
     "text": [
      "DEBUG flwr 2023-04-15 14:44:16,608 | server.py:229 | fit_round 13 received 2 results and 0 failures\n"
     ]
    },
    {
     "output_type": "stream",
     "name": "stdout",
     "text": [
      "\t {'train_loss': 3.7702839374542236, 'train_accuracy': 0.875}\n"
     ]
    },
    {
     "output_type": "stream",
     "name": "stderr",
     "text": [
      "INFO flwr 2023-04-15 14:44:21,547 | server.py:116 | fit progress: (13, 17.505908966064453, {'test_loss': 17.505908966064453, 'test_accuracy': 0.13}, 1340.5486324999947)\n",
      "DEBUG flwr 2023-04-15 14:44:21,548 | server.py:165 | evaluate_round 13: strategy sampled 2 clients (out of 2)\n",
      "DEBUG flwr 2023-04-15 14:44:27,882 | server.py:179 | evaluate_round 13 received 2 results and 0 failures\n",
      "DEBUG flwr 2023-04-15 14:44:27,882 | server.py:215 | fit_round 14: strategy sampled 2 clients (out of 2)\n"
     ]
    },
    {
     "output_type": "stream",
     "name": "stdout",
     "text": [
      "\t {'val_loss': 4.282344818115234, 'val_accuracy': 0.225}\n"
     ]
    },
    {
     "output_type": "stream",
     "name": "stderr",
     "text": [
      "DEBUG flwr 2023-04-15 14:46:05,488 | server.py:229 | fit_round 14 received 2 results and 0 failures\n"
     ]
    },
    {
     "output_type": "stream",
     "name": "stdout",
     "text": [
      "\t {'train_loss': 3.670356035232544, 'train_accuracy': 0.8805555555555555}\n"
     ]
    },
    {
     "output_type": "stream",
     "name": "stderr",
     "text": [
      "INFO flwr 2023-04-15 14:46:10,421 | server.py:116 | fit progress: (14, 17.400606155395508, {'test_loss': 17.400606155395508, 'test_accuracy': 0.14}, 1449.4234693000035)\n",
      "DEBUG flwr 2023-04-15 14:46:10,422 | server.py:165 | evaluate_round 14: strategy sampled 2 clients (out of 2)\n",
      "DEBUG flwr 2023-04-15 14:46:16,602 | server.py:179 | evaluate_round 14 received 2 results and 0 failures\n",
      "DEBUG flwr 2023-04-15 14:46:16,603 | server.py:215 | fit_round 15: strategy sampled 2 clients (out of 2)\n"
     ]
    },
    {
     "output_type": "stream",
     "name": "stdout",
     "text": [
      "\t {'val_loss': 4.251121759414673, 'val_accuracy': 0.225}\n"
     ]
    },
    {
     "output_type": "stream",
     "name": "stderr",
     "text": [
      "DEBUG flwr 2023-04-15 14:47:53,377 | server.py:229 | fit_round 15 received 2 results and 0 failures\n"
     ]
    },
    {
     "output_type": "stream",
     "name": "stdout",
     "text": [
      "\t {'train_loss': 3.6146198511123657, 'train_accuracy': 0.8944444444444445}\n"
     ]
    },
    {
     "output_type": "stream",
     "name": "stderr",
     "text": [
      "INFO flwr 2023-04-15 14:47:58,329 | server.py:116 | fit progress: (15, 17.40971565246582, {'test_loss': 17.40971565246582, 'test_accuracy': 0.12}, 1557.3327340999967)\n",
      "DEBUG flwr 2023-04-15 14:47:58,330 | server.py:165 | evaluate_round 15: strategy sampled 2 clients (out of 2)\n",
      "DEBUG flwr 2023-04-15 14:48:04,620 | server.py:179 | evaluate_round 15 received 2 results and 0 failures\n",
      "DEBUG flwr 2023-04-15 14:48:04,621 | server.py:215 | fit_round 16: strategy sampled 2 clients (out of 2)\n"
     ]
    },
    {
     "output_type": "stream",
     "name": "stdout",
     "text": [
      "\t {'val_loss': 4.243817567825317, 'val_accuracy': 0.225}\n"
     ]
    },
    {
     "output_type": "stream",
     "name": "stderr",
     "text": [
      "DEBUG flwr 2023-04-15 14:49:47,959 | server.py:229 | fit_round 16 received 2 results and 0 failures\n"
     ]
    },
    {
     "output_type": "stream",
     "name": "stdout",
     "text": [
      "\t {'train_loss': 3.51261830329895, 'train_accuracy': 0.9027777777777778}\n"
     ]
    },
    {
     "output_type": "stream",
     "name": "stderr",
     "text": [
      "INFO flwr 2023-04-15 14:49:52,926 | server.py:116 | fit progress: (16, 17.316516876220703, {'test_loss': 17.316516876220703, 'test_accuracy': 0.15}, 1671.9298672000004)\n",
      "DEBUG flwr 2023-04-15 14:49:52,927 | server.py:165 | evaluate_round 16: strategy sampled 2 clients (out of 2)\n",
      "DEBUG flwr 2023-04-15 14:50:01,350 | server.py:179 | evaluate_round 16 received 2 results and 0 failures\n",
      "DEBUG flwr 2023-04-15 14:50:01,351 | server.py:215 | fit_round 17: strategy sampled 2 clients (out of 2)\n"
     ]
    },
    {
     "output_type": "stream",
     "name": "stdout",
     "text": [
      "\t {'val_loss': 4.212576627731323, 'val_accuracy': 0.25}\n"
     ]
    },
    {
     "output_type": "stream",
     "name": "stderr",
     "text": [
      "DEBUG flwr 2023-04-15 14:52:00,881 | server.py:229 | fit_round 17 received 2 results and 0 failures\n"
     ]
    },
    {
     "output_type": "stream",
     "name": "stdout",
     "text": [
      "\t {'train_loss': 3.434259533882141, 'train_accuracy': 0.9166666666666666}\n"
     ]
    },
    {
     "output_type": "stream",
     "name": "stderr",
     "text": [
      "INFO flwr 2023-04-15 14:52:05,813 | server.py:116 | fit progress: (17, 17.284914016723633, {'test_loss': 17.284914016723633, 'test_accuracy': 0.17}, 1804.8171886999917)\n",
      "DEBUG flwr 2023-04-15 14:52:05,814 | server.py:165 | evaluate_round 17: strategy sampled 2 clients (out of 2)\n",
      "DEBUG flwr 2023-04-15 14:52:14,591 | server.py:179 | evaluate_round 17 received 2 results and 0 failures\n",
      "DEBUG flwr 2023-04-15 14:52:14,592 | server.py:215 | fit_round 18: strategy sampled 2 clients (out of 2)\n"
     ]
    },
    {
     "output_type": "stream",
     "name": "stdout",
     "text": [
      "\t {'val_loss': 4.195697784423828, 'val_accuracy': 0.25}\n"
     ]
    },
    {
     "output_type": "stream",
     "name": "stderr",
     "text": [
      "DEBUG flwr 2023-04-15 14:54:16,618 | server.py:229 | fit_round 18 received 2 results and 0 failures\n"
     ]
    },
    {
     "output_type": "stream",
     "name": "stdout",
     "text": [
      "\t {'train_loss': 3.3531219959259033, 'train_accuracy': 0.9277777777777778}\n"
     ]
    },
    {
     "output_type": "stream",
     "name": "stderr",
     "text": [
      "INFO flwr 2023-04-15 14:54:21,551 | server.py:116 | fit progress: (18, 17.19019889831543, {'test_loss': 17.19019889831543, 'test_accuracy': 0.16}, 1940.5555937000026)\n",
      "DEBUG flwr 2023-04-15 14:54:21,551 | server.py:165 | evaluate_round 18: strategy sampled 2 clients (out of 2)\n",
      "DEBUG flwr 2023-04-15 14:54:29,987 | server.py:179 | evaluate_round 18 received 2 results and 0 failures\n",
      "DEBUG flwr 2023-04-15 14:54:29,988 | server.py:215 | fit_round 19: strategy sampled 2 clients (out of 2)\n"
     ]
    },
    {
     "output_type": "stream",
     "name": "stdout",
     "text": [
      "\t {'val_loss': 4.1855669021606445, 'val_accuracy': 0.225}\n"
     ]
    },
    {
     "output_type": "stream",
     "name": "stderr",
     "text": [
      "DEBUG flwr 2023-04-15 14:56:30,279 | server.py:229 | fit_round 19 received 2 results and 0 failures\n"
     ]
    },
    {
     "output_type": "stream",
     "name": "stdout",
     "text": [
      "\t {'train_loss': 3.2714180946350098, 'train_accuracy': 0.9361111111111111}\n"
     ]
    },
    {
     "output_type": "stream",
     "name": "stderr",
     "text": [
      "INFO flwr 2023-04-15 14:56:35,284 | server.py:116 | fit progress: (19, 17.130901336669922, {'test_loss': 17.130901336669922, 'test_accuracy': 0.18}, 2074.2901950000087)\n",
      "DEBUG flwr 2023-04-15 14:56:35,285 | server.py:165 | evaluate_round 19: strategy sampled 2 clients (out of 2)\n",
      "DEBUG flwr 2023-04-15 14:56:43,849 | server.py:179 | evaluate_round 19 received 2 results and 0 failures\n",
      "DEBUG flwr 2023-04-15 14:56:43,852 | server.py:215 | fit_round 20: strategy sampled 2 clients (out of 2)\n"
     ]
    },
    {
     "output_type": "stream",
     "name": "stdout",
     "text": [
      "\t {'val_loss': 4.165487051010132, 'val_accuracy': 0.25}\n"
     ]
    },
    {
     "output_type": "stream",
     "name": "stderr",
     "text": [
      "DEBUG flwr 2023-04-15 14:58:45,545 | server.py:229 | fit_round 20 received 2 results and 0 failures\n"
     ]
    },
    {
     "output_type": "stream",
     "name": "stdout",
     "text": [
      "\t {'train_loss': 3.2186238765716553, 'train_accuracy': 0.9333333333333333}\n"
     ]
    },
    {
     "output_type": "stream",
     "name": "stderr",
     "text": [
      "INFO flwr 2023-04-15 14:58:50,638 | server.py:116 | fit progress: (20, 17.05491828918457, {'test_loss': 17.05491828918457, 'test_accuracy': 0.16}, 2209.6449909000075)\n",
      "DEBUG flwr 2023-04-15 14:58:50,639 | server.py:165 | evaluate_round 20: strategy sampled 2 clients (out of 2)\n",
      "DEBUG flwr 2023-04-15 14:58:59,607 | server.py:179 | evaluate_round 20 received 2 results and 0 failures\n",
      "DEBUG flwr 2023-04-15 14:58:59,607 | server.py:215 | fit_round 21: strategy sampled 2 clients (out of 2)\n"
     ]
    },
    {
     "output_type": "stream",
     "name": "stdout",
     "text": [
      "\t {'val_loss': 4.15581488609314, 'val_accuracy': 0.225}\n"
     ]
    },
    {
     "output_type": "stream",
     "name": "stderr",
     "text": [
      "DEBUG flwr 2023-04-15 15:01:02,073 | server.py:229 | fit_round 21 received 2 results and 0 failures\n"
     ]
    },
    {
     "output_type": "stream",
     "name": "stdout",
     "text": [
      "\t {'train_loss': 3.0899049043655396, 'train_accuracy': 0.9416666666666667}\n"
     ]
    },
    {
     "output_type": "stream",
     "name": "stderr",
     "text": [
      "INFO flwr 2023-04-15 15:01:07,012 | server.py:116 | fit progress: (21, 16.979877471923828, {'test_loss': 16.979877471923828, 'test_accuracy': 0.18}, 2346.0193609000125)\n",
      "DEBUG flwr 2023-04-15 15:01:07,013 | server.py:165 | evaluate_round 21: strategy sampled 2 clients (out of 2)\n",
      "DEBUG flwr 2023-04-15 15:01:14,824 | server.py:179 | evaluate_round 21 received 2 results and 0 failures\n",
      "DEBUG flwr 2023-04-15 15:01:14,825 | server.py:215 | fit_round 22: strategy sampled 2 clients (out of 2)\n"
     ]
    },
    {
     "output_type": "stream",
     "name": "stdout",
     "text": [
      "\t {'val_loss': 4.125284910202026, 'val_accuracy': 0.225}\n"
     ]
    },
    {
     "output_type": "stream",
     "name": "stderr",
     "text": [
      "DEBUG flwr 2023-04-15 15:03:16,848 | server.py:229 | fit_round 22 received 2 results and 0 failures\n"
     ]
    },
    {
     "output_type": "stream",
     "name": "stdout",
     "text": [
      "\t {'train_loss': 3.0079928636550903, 'train_accuracy': 0.9527777777777777}\n"
     ]
    },
    {
     "output_type": "stream",
     "name": "stderr",
     "text": [
      "INFO flwr 2023-04-15 15:03:21,796 | server.py:116 | fit progress: (22, 16.890869140625, {'test_loss': 16.890869140625, 'test_accuracy': 0.18}, 2480.8041142)\n",
      "DEBUG flwr 2023-04-15 15:03:21,797 | server.py:165 | evaluate_round 22: strategy sampled 2 clients (out of 2)\n",
      "DEBUG flwr 2023-04-15 15:03:29,905 | server.py:179 | evaluate_round 22 received 2 results and 0 failures\n",
      "DEBUG flwr 2023-04-15 15:03:29,906 | server.py:215 | fit_round 23: strategy sampled 2 clients (out of 2)\n"
     ]
    },
    {
     "output_type": "stream",
     "name": "stdout",
     "text": [
      "\t {'val_loss': 4.096228718757629, 'val_accuracy': 0.225}\n"
     ]
    },
    {
     "output_type": "stream",
     "name": "stderr",
     "text": [
      "DEBUG flwr 2023-04-15 15:05:35,822 | server.py:229 | fit_round 23 received 2 results and 0 failures\n"
     ]
    },
    {
     "output_type": "stream",
     "name": "stdout",
     "text": [
      "\t {'train_loss': 2.9352476596832275, 'train_accuracy': 0.9611111111111111}\n"
     ]
    },
    {
     "output_type": "stream",
     "name": "stderr",
     "text": [
      "INFO flwr 2023-04-15 15:05:40,827 | server.py:116 | fit progress: (23, 16.890605926513672, {'test_loss': 16.890605926513672, 'test_accuracy': 0.16}, 2619.8347245000186)\n",
      "DEBUG flwr 2023-04-15 15:05:40,827 | server.py:165 | evaluate_round 23: strategy sampled 2 clients (out of 2)\n",
      "DEBUG flwr 2023-04-15 15:05:49,223 | server.py:179 | evaluate_round 23 received 2 results and 0 failures\n",
      "DEBUG flwr 2023-04-15 15:05:49,224 | server.py:215 | fit_round 24: strategy sampled 2 clients (out of 2)\n"
     ]
    },
    {
     "output_type": "stream",
     "name": "stdout",
     "text": [
      "\t {'val_loss': 4.07753586769104, 'val_accuracy': 0.225}\n"
     ]
    },
    {
     "output_type": "stream",
     "name": "stderr",
     "text": [
      "DEBUG flwr 2023-04-15 15:08:30,781 | server.py:229 | fit_round 24 received 2 results and 0 failures\n"
     ]
    },
    {
     "output_type": "stream",
     "name": "stdout",
     "text": [
      "\t {'train_loss': 2.836766481399536, 'train_accuracy': 0.9638888888888889}\n"
     ]
    },
    {
     "output_type": "stream",
     "name": "stderr",
     "text": [
      "INFO flwr 2023-04-15 15:08:35,774 | server.py:116 | fit progress: (24, 16.842702865600586, {'test_loss': 16.842702865600586, 'test_accuracy': 0.16}, 2794.783327900019)\n",
      "DEBUG flwr 2023-04-15 15:08:35,775 | server.py:165 | evaluate_round 24: strategy sampled 2 clients (out of 2)\n",
      "DEBUG flwr 2023-04-15 15:08:42,812 | server.py:179 | evaluate_round 24 received 2 results and 0 failures\n",
      "DEBUG flwr 2023-04-15 15:08:42,813 | server.py:215 | fit_round 25: strategy sampled 2 clients (out of 2)\n"
     ]
    },
    {
     "output_type": "stream",
     "name": "stdout",
     "text": [
      "\t {'val_loss': 4.0706058740615845, 'val_accuracy': 0.25}\n"
     ]
    },
    {
     "output_type": "stream",
     "name": "stderr",
     "text": [
      "DEBUG flwr 2023-04-15 15:10:48,977 | server.py:229 | fit_round 25 received 2 results and 0 failures\n"
     ]
    },
    {
     "output_type": "stream",
     "name": "stdout",
     "text": [
      "\t {'train_loss': 2.7665995359420776, 'train_accuracy': 0.975}\n"
     ]
    },
    {
     "output_type": "stream",
     "name": "stderr",
     "text": [
      "INFO flwr 2023-04-15 15:10:54,020 | server.py:116 | fit progress: (25, 16.80345916748047, {'test_loss': 16.80345916748047, 'test_accuracy': 0.17}, 2933.0296109000046)\n",
      "DEBUG flwr 2023-04-15 15:10:54,021 | server.py:165 | evaluate_round 25: strategy sampled 2 clients (out of 2)\n",
      "DEBUG flwr 2023-04-15 15:11:00,857 | server.py:179 | evaluate_round 25 received 2 results and 0 failures\n",
      "DEBUG flwr 2023-04-15 15:11:00,857 | server.py:215 | fit_round 26: strategy sampled 2 clients (out of 2)\n"
     ]
    },
    {
     "output_type": "stream",
     "name": "stdout",
     "text": [
      "\t {'val_loss': 4.056378602981567, 'val_accuracy': 0.25}\n"
     ]
    },
    {
     "output_type": "stream",
     "name": "stderr",
     "text": [
      "DEBUG flwr 2023-04-15 15:13:05,933 | server.py:229 | fit_round 26 received 2 results and 0 failures\n"
     ]
    },
    {
     "output_type": "stream",
     "name": "stdout",
     "text": [
      "\t {'train_loss': 2.6594349145889282, 'train_accuracy': 0.9777777777777777}\n"
     ]
    },
    {
     "output_type": "stream",
     "name": "stderr",
     "text": [
      "INFO flwr 2023-04-15 15:13:10,935 | server.py:116 | fit progress: (26, 16.74530792236328, {'test_loss': 16.74530792236328, 'test_accuracy': 0.18}, 3069.945429000014)\n",
      "DEBUG flwr 2023-04-15 15:13:10,936 | server.py:165 | evaluate_round 26: strategy sampled 2 clients (out of 2)\n",
      "DEBUG flwr 2023-04-15 15:13:17,598 | server.py:179 | evaluate_round 26 received 2 results and 0 failures\n",
      "DEBUG flwr 2023-04-15 15:13:17,598 | server.py:215 | fit_round 27: strategy sampled 2 clients (out of 2)\n"
     ]
    },
    {
     "output_type": "stream",
     "name": "stdout",
     "text": [
      "\t {'val_loss': 4.039982914924622, 'val_accuracy': 0.25}\n"
     ]
    },
    {
     "output_type": "stream",
     "name": "stderr",
     "text": [
      "DEBUG flwr 2023-04-15 15:15:27,864 | server.py:229 | fit_round 27 received 2 results and 0 failures\n"
     ]
    },
    {
     "output_type": "stream",
     "name": "stdout",
     "text": [
      "\t {'train_loss': 2.546434164047241, 'train_accuracy': 0.9833333333333333}\n"
     ]
    },
    {
     "output_type": "stream",
     "name": "stderr",
     "text": [
      "INFO flwr 2023-04-15 15:15:32,812 | server.py:116 | fit progress: (27, 16.68887710571289, {'test_loss': 16.68887710571289, 'test_accuracy': 0.2}, 3211.822243200004)\n",
      "DEBUG flwr 2023-04-15 15:15:32,813 | server.py:165 | evaluate_round 27: strategy sampled 2 clients (out of 2)\n",
      "DEBUG flwr 2023-04-15 15:15:39,664 | server.py:179 | evaluate_round 27 received 2 results and 0 failures\n",
      "DEBUG flwr 2023-04-15 15:15:39,664 | server.py:215 | fit_round 28: strategy sampled 2 clients (out of 2)\n"
     ]
    },
    {
     "output_type": "stream",
     "name": "stdout",
     "text": [
      "\t {'val_loss': 4.005759119987488, 'val_accuracy': 0.25}\n"
     ]
    },
    {
     "output_type": "stream",
     "name": "stderr",
     "text": [
      "DEBUG flwr 2023-04-15 15:17:46,284 | server.py:229 | fit_round 28 received 2 results and 0 failures\n"
     ]
    },
    {
     "output_type": "stream",
     "name": "stdout",
     "text": [
      "\t {'train_loss': 2.4558225870132446, 'train_accuracy': 0.9833333333333333}\n"
     ]
    },
    {
     "output_type": "stream",
     "name": "stderr",
     "text": [
      "INFO flwr 2023-04-15 15:17:51,248 | server.py:116 | fit progress: (28, 16.633766174316406, {'test_loss': 16.633766174316406, 'test_accuracy': 0.2}, 3350.2591050000046)\n",
      "DEBUG flwr 2023-04-15 15:17:51,249 | server.py:165 | evaluate_round 28: strategy sampled 2 clients (out of 2)\n",
      "DEBUG flwr 2023-04-15 15:17:57,791 | server.py:179 | evaluate_round 28 received 2 results and 0 failures\n",
      "DEBUG flwr 2023-04-15 15:17:57,792 | server.py:215 | fit_round 29: strategy sampled 2 clients (out of 2)\n"
     ]
    },
    {
     "output_type": "stream",
     "name": "stdout",
     "text": [
      "\t {'val_loss': 4.0027066469192505, 'val_accuracy': 0.25}\n"
     ]
    },
    {
     "output_type": "stream",
     "name": "stderr",
     "text": [
      "DEBUG flwr 2023-04-15 15:20:04,850 | server.py:229 | fit_round 29 received 2 results and 0 failures\n"
     ]
    },
    {
     "output_type": "stream",
     "name": "stdout",
     "text": [
      "\t {'train_loss': 2.3492578268051147, 'train_accuracy': 0.9805555555555555}\n"
     ]
    },
    {
     "output_type": "stream",
     "name": "stderr",
     "text": [
      "INFO flwr 2023-04-15 15:20:09,841 | server.py:116 | fit progress: (29, 16.55739974975586, {'test_loss': 16.55739974975586, 'test_accuracy': 0.18}, 3488.852371200017)\n",
      "DEBUG flwr 2023-04-15 15:20:09,842 | server.py:165 | evaluate_round 29: strategy sampled 2 clients (out of 2)\n",
      "DEBUG flwr 2023-04-15 15:20:16,846 | server.py:179 | evaluate_round 29 received 2 results and 0 failures\n",
      "DEBUG flwr 2023-04-15 15:20:16,847 | server.py:215 | fit_round 30: strategy sampled 2 clients (out of 2)\n"
     ]
    },
    {
     "output_type": "stream",
     "name": "stdout",
     "text": [
      "\t {'val_loss': 3.981938600540161, 'val_accuracy': 0.225}\n"
     ]
    },
    {
     "output_type": "stream",
     "name": "stderr",
     "text": [
      "DEBUG flwr 2023-04-15 15:22:22,974 | server.py:229 | fit_round 30 received 2 results and 0 failures\n"
     ]
    },
    {
     "output_type": "stream",
     "name": "stdout",
     "text": [
      "\t {'train_loss': 2.2680273056030273, 'train_accuracy': 0.9833333333333333}\n"
     ]
    },
    {
     "output_type": "stream",
     "name": "stderr",
     "text": [
      "INFO flwr 2023-04-15 15:22:27,996 | server.py:116 | fit progress: (30, 16.470109939575195, {'test_loss': 16.470109939575195, 'test_accuracy': 0.21}, 3627.0081331999972)\n",
      "DEBUG flwr 2023-04-15 15:22:27,997 | server.py:165 | evaluate_round 30: strategy sampled 2 clients (out of 2)\n",
      "DEBUG flwr 2023-04-15 15:22:35,066 | server.py:179 | evaluate_round 30 received 2 results and 0 failures\n",
      "DEBUG flwr 2023-04-15 15:22:35,066 | server.py:215 | fit_round 31: strategy sampled 2 clients (out of 2)\n"
     ]
    },
    {
     "output_type": "stream",
     "name": "stdout",
     "text": [
      "\t {'val_loss': 3.9890326261520386, 'val_accuracy': 0.275}\n"
     ]
    },
    {
     "output_type": "stream",
     "name": "stderr",
     "text": [
      "DEBUG flwr 2023-04-15 15:24:40,895 | server.py:229 | fit_round 31 received 2 results and 0 failures\n"
     ]
    },
    {
     "output_type": "stream",
     "name": "stdout",
     "text": [
      "\t {'train_loss': 2.1901100873947144, 'train_accuracy': 0.9861111111111112}\n"
     ]
    },
    {
     "output_type": "stream",
     "name": "stderr",
     "text": [
      "INFO flwr 2023-04-15 15:24:45,854 | server.py:116 | fit progress: (31, 16.449857711791992, {'test_loss': 16.449857711791992, 'test_accuracy': 0.19}, 3764.8664801999985)\n",
      "DEBUG flwr 2023-04-15 15:24:45,855 | server.py:165 | evaluate_round 31: strategy sampled 2 clients (out of 2)\n",
      "DEBUG flwr 2023-04-15 15:24:53,547 | server.py:179 | evaluate_round 31 received 2 results and 0 failures\n",
      "DEBUG flwr 2023-04-15 15:24:53,548 | server.py:215 | fit_round 32: strategy sampled 2 clients (out of 2)\n"
     ]
    },
    {
     "output_type": "stream",
     "name": "stdout",
     "text": [
      "\t {'val_loss': 3.974034547805786, 'val_accuracy': 0.25}\n"
     ]
    },
    {
     "output_type": "stream",
     "name": "stderr",
     "text": [
      "DEBUG flwr 2023-04-15 15:27:01,101 | server.py:229 | fit_round 32 received 2 results and 0 failures\n"
     ]
    },
    {
     "output_type": "stream",
     "name": "stdout",
     "text": [
      "\t {'train_loss': 2.0684837698936462, 'train_accuracy': 0.9888888888888889}\n"
     ]
    },
    {
     "output_type": "stream",
     "name": "stderr",
     "text": [
      "INFO flwr 2023-04-15 15:27:06,147 | server.py:116 | fit progress: (32, 16.3912410736084, {'test_loss': 16.3912410736084, 'test_accuracy': 0.2}, 3905.1596490000084)\n",
      "DEBUG flwr 2023-04-15 15:27:06,148 | server.py:165 | evaluate_round 32: strategy sampled 2 clients (out of 2)\n",
      "DEBUG flwr 2023-04-15 15:27:13,120 | server.py:179 | evaluate_round 32 received 2 results and 0 failures\n",
      "DEBUG flwr 2023-04-15 15:27:13,121 | server.py:215 | fit_round 33: strategy sampled 2 clients (out of 2)\n"
     ]
    },
    {
     "output_type": "stream",
     "name": "stdout",
     "text": [
      "\t {'val_loss': 3.9640170335769653, 'val_accuracy': 0.275}\n"
     ]
    },
    {
     "output_type": "stream",
     "name": "stderr",
     "text": [
      "DEBUG flwr 2023-04-15 15:29:21,121 | server.py:229 | fit_round 33 received 2 results and 0 failures\n"
     ]
    },
    {
     "output_type": "stream",
     "name": "stdout",
     "text": [
      "\t {'train_loss': 1.9660841226577759, 'train_accuracy': 0.9916666666666667}\n"
     ]
    },
    {
     "output_type": "stream",
     "name": "stderr",
     "text": [
      "INFO flwr 2023-04-15 15:29:26,053 | server.py:116 | fit progress: (33, 16.369815826416016, {'test_loss': 16.369815826416016, 'test_accuracy': 0.2}, 4045.0668102999916)\n",
      "DEBUG flwr 2023-04-15 15:29:26,054 | server.py:165 | evaluate_round 33: strategy sampled 2 clients (out of 2)\n",
      "DEBUG flwr 2023-04-15 15:29:33,550 | server.py:179 | evaluate_round 33 received 2 results and 0 failures\n",
      "DEBUG flwr 2023-04-15 15:29:33,551 | server.py:215 | fit_round 34: strategy sampled 2 clients (out of 2)\n"
     ]
    },
    {
     "output_type": "stream",
     "name": "stdout",
     "text": [
      "\t {'val_loss': 3.9470019340515137, 'val_accuracy': 0.25}\n"
     ]
    },
    {
     "output_type": "stream",
     "name": "stderr",
     "text": [
      "DEBUG flwr 2023-04-15 15:31:39,080 | server.py:229 | fit_round 34 received 2 results and 0 failures\n"
     ]
    },
    {
     "output_type": "stream",
     "name": "stdout",
     "text": [
      "\t {'train_loss': 1.874708354473114, 'train_accuracy': 0.9944444444444445}\n"
     ]
    },
    {
     "output_type": "stream",
     "name": "stderr",
     "text": [
      "INFO flwr 2023-04-15 15:31:44,029 | server.py:116 | fit progress: (34, 16.30896759033203, {'test_loss': 16.30896759033203, 'test_accuracy': 0.21}, 4183.042830699997)\n",
      "DEBUG flwr 2023-04-15 15:31:44,030 | server.py:165 | evaluate_round 34: strategy sampled 2 clients (out of 2)\n",
      "DEBUG flwr 2023-04-15 15:31:51,169 | server.py:179 | evaluate_round 34 received 2 results and 0 failures\n",
      "DEBUG flwr 2023-04-15 15:31:51,170 | server.py:215 | fit_round 35: strategy sampled 2 clients (out of 2)\n"
     ]
    },
    {
     "output_type": "stream",
     "name": "stdout",
     "text": [
      "\t {'val_loss': 3.9341851472854614, 'val_accuracy': 0.275}\n"
     ]
    },
    {
     "output_type": "stream",
     "name": "stderr",
     "text": [
      "DEBUG flwr 2023-04-15 15:33:58,146 | server.py:229 | fit_round 35 received 2 results and 0 failures\n"
     ]
    },
    {
     "output_type": "stream",
     "name": "stdout",
     "text": [
      "\t {'train_loss': 1.7805351614952087, 'train_accuracy': 0.9944444444444445}\n"
     ]
    },
    {
     "output_type": "stream",
     "name": "stderr",
     "text": [
      "INFO flwr 2023-04-15 15:34:03,071 | server.py:116 | fit progress: (35, 16.267919540405273, {'test_loss': 16.267919540405273, 'test_accuracy': 0.22}, 4322.085051400005)\n",
      "DEBUG flwr 2023-04-15 15:34:03,072 | server.py:165 | evaluate_round 35: strategy sampled 2 clients (out of 2)\n",
      "DEBUG flwr 2023-04-15 15:34:11,197 | server.py:179 | evaluate_round 35 received 2 results and 0 failures\n",
      "DEBUG flwr 2023-04-15 15:34:11,198 | server.py:215 | fit_round 36: strategy sampled 2 clients (out of 2)\n"
     ]
    },
    {
     "output_type": "stream",
     "name": "stdout",
     "text": [
      "\t {'val_loss': 3.916122317314148, 'val_accuracy': 0.275}\n"
     ]
    },
    {
     "output_type": "stream",
     "name": "stderr",
     "text": [
      "DEBUG flwr 2023-04-15 15:36:18,701 | server.py:229 | fit_round 36 received 2 results and 0 failures\n"
     ]
    },
    {
     "output_type": "stream",
     "name": "stdout",
     "text": [
      "\t {'train_loss': 1.7134504318237305, 'train_accuracy': 0.9944444444444445}\n"
     ]
    },
    {
     "output_type": "stream",
     "name": "stderr",
     "text": [
      "INFO flwr 2023-04-15 15:36:23,690 | server.py:116 | fit progress: (36, 16.207069396972656, {'test_loss': 16.207069396972656, 'test_accuracy': 0.23}, 4462.704235000012)\n",
      "DEBUG flwr 2023-04-15 15:36:23,691 | server.py:165 | evaluate_round 36: strategy sampled 2 clients (out of 2)\n",
      "DEBUG flwr 2023-04-15 15:36:31,262 | server.py:179 | evaluate_round 36 received 2 results and 0 failures\n",
      "DEBUG flwr 2023-04-15 15:36:31,263 | server.py:215 | fit_round 37: strategy sampled 2 clients (out of 2)\n"
     ]
    },
    {
     "output_type": "stream",
     "name": "stdout",
     "text": [
      "\t {'val_loss': 3.9118882417678833, 'val_accuracy': 0.25}\n"
     ]
    },
    {
     "output_type": "stream",
     "name": "stderr",
     "text": [
      "DEBUG flwr 2023-04-15 15:38:39,640 | server.py:229 | fit_round 37 received 2 results and 0 failures\n"
     ]
    },
    {
     "output_type": "stream",
     "name": "stdout",
     "text": [
      "\t {'train_loss': 1.6338763236999512, 'train_accuracy': 0.9944444444444445}\n"
     ]
    },
    {
     "output_type": "stream",
     "name": "stderr",
     "text": [
      "INFO flwr 2023-04-15 15:38:44,593 | server.py:116 | fit progress: (37, 16.162757873535156, {'test_loss': 16.162757873535156, 'test_accuracy': 0.23}, 4603.607436199993)\n",
      "DEBUG flwr 2023-04-15 15:38:44,594 | server.py:165 | evaluate_round 37: strategy sampled 2 clients (out of 2)\n",
      "DEBUG flwr 2023-04-15 15:38:51,827 | server.py:179 | evaluate_round 37 received 2 results and 0 failures\n",
      "DEBUG flwr 2023-04-15 15:38:51,828 | server.py:215 | fit_round 38: strategy sampled 2 clients (out of 2)\n"
     ]
    },
    {
     "output_type": "stream",
     "name": "stdout",
     "text": [
      "\t {'val_loss': 3.891282081604004, 'val_accuracy': 0.225}\n"
     ]
    },
    {
     "output_type": "stream",
     "name": "stderr",
     "text": [
      "DEBUG flwr 2023-04-15 15:40:59,901 | server.py:229 | fit_round 38 received 2 results and 0 failures\n"
     ]
    },
    {
     "output_type": "stream",
     "name": "stdout",
     "text": [
      "\t {'train_loss': 1.551638126373291, 'train_accuracy': 0.9916666666666667}\n"
     ]
    },
    {
     "output_type": "stream",
     "name": "stderr",
     "text": [
      "INFO flwr 2023-04-15 15:41:04,907 | server.py:116 | fit progress: (38, 16.099096298217773, {'test_loss': 16.099096298217773, 'test_accuracy': 0.23}, 4743.9214624000015)\n",
      "DEBUG flwr 2023-04-15 15:41:04,908 | server.py:165 | evaluate_round 38: strategy sampled 2 clients (out of 2)\n",
      "DEBUG flwr 2023-04-15 15:41:12,652 | server.py:179 | evaluate_round 38 received 2 results and 0 failures\n",
      "DEBUG flwr 2023-04-15 15:41:12,653 | server.py:215 | fit_round 39: strategy sampled 2 clients (out of 2)\n"
     ]
    },
    {
     "output_type": "stream",
     "name": "stdout",
     "text": [
      "\t {'val_loss': 3.8796128034591675, 'val_accuracy': 0.225}\n"
     ]
    },
    {
     "output_type": "stream",
     "name": "stderr",
     "text": [
      "DEBUG flwr 2023-04-15 15:43:27,483 | server.py:229 | fit_round 39 received 2 results and 0 failures\n"
     ]
    },
    {
     "output_type": "stream",
     "name": "stdout",
     "text": [
      "\t {'train_loss': 1.4570994973182678, 'train_accuracy': 0.9972222222222222}\n"
     ]
    },
    {
     "output_type": "stream",
     "name": "stderr",
     "text": [
      "INFO flwr 2023-04-15 15:43:32,473 | server.py:116 | fit progress: (39, 16.045948028564453, {'test_loss': 16.045948028564453, 'test_accuracy': 0.23}, 4891.488269699999)\n",
      "DEBUG flwr 2023-04-15 15:43:32,474 | server.py:165 | evaluate_round 39: strategy sampled 2 clients (out of 2)\n",
      "DEBUG flwr 2023-04-15 15:43:40,142 | server.py:179 | evaluate_round 39 received 2 results and 0 failures\n",
      "DEBUG flwr 2023-04-15 15:43:40,143 | server.py:215 | fit_round 40: strategy sampled 2 clients (out of 2)\n"
     ]
    },
    {
     "output_type": "stream",
     "name": "stdout",
     "text": [
      "\t {'val_loss': 3.844530463218689, 'val_accuracy': 0.25}\n"
     ]
    },
    {
     "output_type": "stream",
     "name": "stderr",
     "text": [
      "DEBUG flwr 2023-04-15 15:45:48,503 | server.py:229 | fit_round 40 received 2 results and 0 failures\n"
     ]
    },
    {
     "output_type": "stream",
     "name": "stdout",
     "text": [
      "\t {'train_loss': 1.3556509017944336, 'train_accuracy': 0.9972222222222222}\n"
     ]
    },
    {
     "output_type": "stream",
     "name": "stderr",
     "text": [
      "INFO flwr 2023-04-15 15:45:53,547 | server.py:116 | fit progress: (40, 16.006240844726562, {'test_loss': 16.006240844726562, 'test_accuracy': 0.22}, 5032.562565400003)\n",
      "DEBUG flwr 2023-04-15 15:45:53,548 | server.py:165 | evaluate_round 40: strategy sampled 2 clients (out of 2)\n",
      "DEBUG flwr 2023-04-15 15:46:01,551 | server.py:179 | evaluate_round 40 received 2 results and 0 failures\n",
      "DEBUG flwr 2023-04-15 15:46:01,551 | server.py:215 | fit_round 41: strategy sampled 2 clients (out of 2)\n"
     ]
    },
    {
     "output_type": "stream",
     "name": "stdout",
     "text": [
      "\t {'val_loss': 3.824523448944092, 'val_accuracy': 0.25}\n"
     ]
    },
    {
     "output_type": "stream",
     "name": "stderr",
     "text": [
      "DEBUG flwr 2023-04-15 15:48:08,725 | server.py:229 | fit_round 41 received 2 results and 0 failures\n"
     ]
    },
    {
     "output_type": "stream",
     "name": "stdout",
     "text": [
      "\t {'train_loss': 1.2670249938964844, 'train_accuracy': 1.0}\n"
     ]
    },
    {
     "output_type": "stream",
     "name": "stderr",
     "text": [
      "INFO flwr 2023-04-15 15:48:13,743 | server.py:116 | fit progress: (41, 15.95036506652832, {'test_loss': 15.95036506652832, 'test_accuracy': 0.22}, 5172.758354399994)\n",
      "DEBUG flwr 2023-04-15 15:48:13,744 | server.py:165 | evaluate_round 41: strategy sampled 2 clients (out of 2)\n",
      "DEBUG flwr 2023-04-15 15:48:21,252 | server.py:179 | evaluate_round 41 received 2 results and 0 failures\n",
      "DEBUG flwr 2023-04-15 15:48:21,253 | server.py:215 | fit_round 42: strategy sampled 2 clients (out of 2)\n"
     ]
    },
    {
     "output_type": "stream",
     "name": "stdout",
     "text": [
      "\t {'val_loss': 3.8037502765655518, 'val_accuracy': 0.225}\n"
     ]
    },
    {
     "output_type": "stream",
     "name": "stderr",
     "text": [
      "DEBUG flwr 2023-04-15 15:50:18,892 | server.py:229 | fit_round 42 received 2 results and 0 failures\n"
     ]
    },
    {
     "output_type": "stream",
     "name": "stdout",
     "text": [
      "\t {'train_loss': 1.1589232087135315, 'train_accuracy': 1.0}\n"
     ]
    },
    {
     "output_type": "stream",
     "name": "stderr",
     "text": [
      "INFO flwr 2023-04-15 15:50:23,921 | server.py:116 | fit progress: (42, 15.927621841430664, {'test_loss': 15.927621841430664, 'test_accuracy': 0.2}, 5302.936564100004)\n",
      "DEBUG flwr 2023-04-15 15:50:23,922 | server.py:165 | evaluate_round 42: strategy sampled 2 clients (out of 2)\n",
      "DEBUG flwr 2023-04-15 15:50:30,767 | server.py:179 | evaluate_round 42 received 2 results and 0 failures\n",
      "DEBUG flwr 2023-04-15 15:50:30,768 | server.py:215 | fit_round 43: strategy sampled 2 clients (out of 2)\n"
     ]
    },
    {
     "output_type": "stream",
     "name": "stdout",
     "text": [
      "\t {'val_loss': 3.793948531150818, 'val_accuracy': 0.25}\n"
     ]
    },
    {
     "output_type": "stream",
     "name": "stderr",
     "text": [
      "DEBUG flwr 2023-04-15 15:52:13,416 | server.py:229 | fit_round 43 received 2 results and 0 failures\n"
     ]
    },
    {
     "output_type": "stream",
     "name": "stdout",
     "text": [
      "\t {'train_loss': 1.0792894959449768, 'train_accuracy': 1.0}\n"
     ]
    },
    {
     "output_type": "stream",
     "name": "stderr",
     "text": [
      "INFO flwr 2023-04-15 15:52:18,408 | server.py:116 | fit progress: (43, 15.908864974975586, {'test_loss': 15.908864974975586, 'test_accuracy': 0.2}, 5417.42353650002)\n",
      "DEBUG flwr 2023-04-15 15:52:18,408 | server.py:165 | evaluate_round 43: strategy sampled 2 clients (out of 2)\n",
      "DEBUG flwr 2023-04-15 15:52:25,512 | server.py:179 | evaluate_round 43 received 2 results and 0 failures\n",
      "DEBUG flwr 2023-04-15 15:52:25,513 | server.py:215 | fit_round 44: strategy sampled 2 clients (out of 2)\n"
     ]
    },
    {
     "output_type": "stream",
     "name": "stdout",
     "text": [
      "\t {'val_loss': 3.7811295986175537, 'val_accuracy': 0.275}\n"
     ]
    },
    {
     "output_type": "stream",
     "name": "stderr",
     "text": [
      "DEBUG flwr 2023-04-15 15:54:08,028 | server.py:229 | fit_round 44 received 2 results and 0 failures\n"
     ]
    },
    {
     "output_type": "stream",
     "name": "stdout",
     "text": [
      "\t {'train_loss': 1.0063778460025787, 'train_accuracy': 1.0}\n"
     ]
    },
    {
     "output_type": "stream",
     "name": "stderr",
     "text": [
      "INFO flwr 2023-04-15 15:54:12,982 | server.py:116 | fit progress: (44, 15.863383293151855, {'test_loss': 15.863383293151855, 'test_accuracy': 0.2}, 5531.998412699992)\n",
      "DEBUG flwr 2023-04-15 15:54:12,984 | server.py:165 | evaluate_round 44: strategy sampled 2 clients (out of 2)\n",
      "DEBUG flwr 2023-04-15 15:54:19,573 | server.py:179 | evaluate_round 44 received 2 results and 0 failures\n",
      "DEBUG flwr 2023-04-15 15:54:19,574 | server.py:215 | fit_round 45: strategy sampled 2 clients (out of 2)\n"
     ]
    },
    {
     "output_type": "stream",
     "name": "stdout",
     "text": [
      "\t {'val_loss': 3.7786102294921875, 'val_accuracy': 0.275}\n"
     ]
    },
    {
     "output_type": "stream",
     "name": "stderr",
     "text": [
      "DEBUG flwr 2023-04-15 15:56:02,566 | server.py:229 | fit_round 45 received 2 results and 0 failures\n"
     ]
    },
    {
     "output_type": "stream",
     "name": "stdout",
     "text": [
      "\t {'train_loss': 0.9477315545082092, 'train_accuracy': 1.0}\n"
     ]
    },
    {
     "output_type": "stream",
     "name": "stderr",
     "text": [
      "INFO flwr 2023-04-15 15:56:07,492 | server.py:116 | fit progress: (45, 15.840755462646484, {'test_loss': 15.840755462646484, 'test_accuracy': 0.21}, 5646.507765300019)\n",
      "DEBUG flwr 2023-04-15 15:56:07,492 | server.py:165 | evaluate_round 45: strategy sampled 2 clients (out of 2)\n",
      "DEBUG flwr 2023-04-15 15:56:13,600 | server.py:179 | evaluate_round 45 received 2 results and 0 failures\n",
      "DEBUG flwr 2023-04-15 15:56:13,601 | server.py:215 | fit_round 46: strategy sampled 2 clients (out of 2)\n"
     ]
    },
    {
     "output_type": "stream",
     "name": "stdout",
     "text": [
      "\t {'val_loss': 3.7613401412963867, 'val_accuracy': 0.275}\n"
     ]
    },
    {
     "output_type": "stream",
     "name": "stderr",
     "text": [
      "DEBUG flwr 2023-04-15 15:57:56,755 | server.py:229 | fit_round 46 received 2 results and 0 failures\n"
     ]
    },
    {
     "output_type": "stream",
     "name": "stdout",
     "text": [
      "\t {'train_loss': 0.865805447101593, 'train_accuracy': 1.0}\n"
     ]
    },
    {
     "output_type": "stream",
     "name": "stderr",
     "text": [
      "INFO flwr 2023-04-15 15:58:01,721 | server.py:116 | fit progress: (46, 15.81016731262207, {'test_loss': 15.81016731262207, 'test_accuracy': 0.21}, 5760.737566399999)\n",
      "DEBUG flwr 2023-04-15 15:58:01,722 | server.py:165 | evaluate_round 46: strategy sampled 2 clients (out of 2)\n",
      "DEBUG flwr 2023-04-15 15:58:07,985 | server.py:179 | evaluate_round 46 received 2 results and 0 failures\n",
      "DEBUG flwr 2023-04-15 15:58:07,986 | server.py:215 | fit_round 47: strategy sampled 2 clients (out of 2)\n"
     ]
    },
    {
     "output_type": "stream",
     "name": "stdout",
     "text": [
      "\t {'val_loss': 3.7626426219940186, 'val_accuracy': 0.275}\n"
     ]
    },
    {
     "output_type": "stream",
     "name": "stderr",
     "text": [
      "DEBUG flwr 2023-04-15 15:59:49,455 | server.py:229 | fit_round 47 received 2 results and 0 failures\n"
     ]
    },
    {
     "output_type": "stream",
     "name": "stdout",
     "text": [
      "\t {'train_loss': 0.7873109579086304, 'train_accuracy': 1.0}\n"
     ]
    },
    {
     "output_type": "stream",
     "name": "stderr",
     "text": [
      "INFO flwr 2023-04-15 15:59:54,432 | server.py:116 | fit progress: (47, 15.7578125, {'test_loss': 15.7578125, 'test_accuracy': 0.22}, 5873.448607500002)\n",
      "DEBUG flwr 2023-04-15 15:59:54,433 | server.py:165 | evaluate_round 47: strategy sampled 2 clients (out of 2)\n",
      "DEBUG flwr 2023-04-15 16:00:00,804 | server.py:179 | evaluate_round 47 received 2 results and 0 failures\n",
      "DEBUG flwr 2023-04-15 16:00:00,805 | server.py:215 | fit_round 48: strategy sampled 2 clients (out of 2)\n"
     ]
    },
    {
     "output_type": "stream",
     "name": "stdout",
     "text": [
      "\t {'val_loss': 3.7389055490493774, 'val_accuracy': 0.275}\n"
     ]
    },
    {
     "output_type": "stream",
     "name": "stderr",
     "text": [
      "DEBUG flwr 2023-04-15 16:01:37,643 | server.py:229 | fit_round 48 received 2 results and 0 failures\n"
     ]
    },
    {
     "output_type": "stream",
     "name": "stdout",
     "text": [
      "\t {'train_loss': 0.7232957780361176, 'train_accuracy': 1.0}\n"
     ]
    },
    {
     "output_type": "stream",
     "name": "stderr",
     "text": [
      "INFO flwr 2023-04-15 16:01:42,599 | server.py:116 | fit progress: (48, 15.751901626586914, {'test_loss': 15.751901626586914, 'test_accuracy': 0.21}, 5981.6162082999945)\n",
      "DEBUG flwr 2023-04-15 16:01:42,600 | server.py:165 | evaluate_round 48: strategy sampled 2 clients (out of 2)\n",
      "DEBUG flwr 2023-04-15 16:01:48,939 | server.py:179 | evaluate_round 48 received 2 results and 0 failures\n",
      "DEBUG flwr 2023-04-15 16:01:48,940 | server.py:215 | fit_round 49: strategy sampled 2 clients (out of 2)\n"
     ]
    },
    {
     "output_type": "stream",
     "name": "stdout",
     "text": [
      "\t {'val_loss': 3.746052384376526, 'val_accuracy': 0.275}\n"
     ]
    },
    {
     "output_type": "stream",
     "name": "stderr",
     "text": [
      "DEBUG flwr 2023-04-15 16:03:24,230 | server.py:229 | fit_round 49 received 2 results and 0 failures\n"
     ]
    },
    {
     "output_type": "stream",
     "name": "stdout",
     "text": [
      "\t {'train_loss': 0.6745544373989105, 'train_accuracy': 1.0}\n"
     ]
    },
    {
     "output_type": "stream",
     "name": "stderr",
     "text": [
      "INFO flwr 2023-04-15 16:03:29,195 | server.py:116 | fit progress: (49, 15.721128463745117, {'test_loss': 15.721128463745117, 'test_accuracy': 0.22}, 6088.211795100011)\n",
      "DEBUG flwr 2023-04-15 16:03:29,196 | server.py:165 | evaluate_round 49: strategy sampled 2 clients (out of 2)\n",
      "DEBUG flwr 2023-04-15 16:03:35,671 | server.py:179 | evaluate_round 49 received 2 results and 0 failures\n",
      "DEBUG flwr 2023-04-15 16:03:35,672 | server.py:215 | fit_round 50: strategy sampled 2 clients (out of 2)\n"
     ]
    },
    {
     "output_type": "stream",
     "name": "stdout",
     "text": [
      "\t {'val_loss': 3.7357832193374634, 'val_accuracy': 0.3}\n"
     ]
    },
    {
     "output_type": "stream",
     "name": "stderr",
     "text": [
      "DEBUG flwr 2023-04-15 16:05:09,686 | server.py:229 | fit_round 50 received 2 results and 0 failures\n"
     ]
    },
    {
     "output_type": "stream",
     "name": "stdout",
     "text": [
      "\t {'train_loss': 0.5961210429668427, 'train_accuracy': 1.0}\n"
     ]
    },
    {
     "output_type": "stream",
     "name": "stderr",
     "text": [
      "INFO flwr 2023-04-15 16:05:14,654 | server.py:116 | fit progress: (50, 15.7197265625, {'test_loss': 15.7197265625, 'test_accuracy': 0.23}, 6193.671107800008)\n",
      "DEBUG flwr 2023-04-15 16:05:14,655 | server.py:165 | evaluate_round 50: strategy sampled 2 clients (out of 2)\n",
      "DEBUG flwr 2023-04-15 16:05:21,056 | server.py:179 | evaluate_round 50 received 2 results and 0 failures\n",
      "INFO flwr 2023-04-15 16:05:21,057 | server.py:144 | FL finished in 6200.074068799993\n",
      "INFO flwr 2023-04-15 16:05:21,065 | app.py:202 | app_fit: losses_distributed [(1, 4.626702308654785), (2, 4.595104694366455), (3, 4.562689304351807), (4, 4.521740674972534), (5, 4.497391700744629), (6, 4.458006143569946), (7, 4.439037322998047), (8, 4.393303632736206), (9, 4.3786749839782715), (10, 4.351632595062256), (11, 4.334226846694946), (12, 4.30023717880249), (13, 4.282344818115234), (14, 4.251121759414673), (15, 4.243817567825317), (16, 4.212576627731323), (17, 4.195697784423828), (18, 4.1855669021606445), (19, 4.165487051010132), (20, 4.15581488609314), (21, 4.125284910202026), (22, 4.096228718757629), (23, 4.07753586769104), (24, 4.0706058740615845), (25, 4.056378602981567), (26, 4.039982914924622), (27, 4.005759119987488), (28, 4.0027066469192505), (29, 3.981938600540161), (30, 3.9890326261520386), (31, 3.974034547805786), (32, 3.9640170335769653), (33, 3.9470019340515137), (34, 3.9341851472854614), (35, 3.916122317314148), (36, 3.9118882417678833), (37, 3.891282081604004), (38, 3.8796128034591675), (39, 3.844530463218689), (40, 3.824523448944092), (41, 3.8037502765655518), (42, 3.793948531150818), (43, 3.7811295986175537), (44, 3.7786102294921875), (45, 3.7613401412963867), (46, 3.7626426219940186), (47, 3.7389055490493774), (48, 3.746052384376526), (49, 3.7357832193374634), (50, 3.7326160669326782)]\n",
      "INFO flwr 2023-04-15 16:05:21,065 | app.py:203 | app_fit: metrics_distributed {'val_loss': [(1, 4.626702308654785), (2, 4.595104694366455), (3, 4.562689304351807), (4, 4.521740674972534), (5, 4.497391700744629), (6, 4.458006143569946), (7, 4.439037322998047), (8, 4.393303632736206), (9, 4.3786749839782715), (10, 4.351632595062256), (11, 4.334226846694946), (12, 4.30023717880249), (13, 4.282344818115234), (14, 4.251121759414673), (15, 4.243817567825317), (16, 4.212576627731323), (17, 4.195697784423828), (18, 4.1855669021606445), (19, 4.165487051010132), (20, 4.15581488609314), (21, 4.125284910202026), (22, 4.096228718757629), (23, 4.07753586769104), (24, 4.0706058740615845), (25, 4.056378602981567), (26, 4.039982914924622), (27, 4.005759119987488), (28, 4.0027066469192505), (29, 3.981938600540161), (30, 3.9890326261520386), (31, 3.974034547805786), (32, 3.9640170335769653), (33, 3.9470019340515137), (34, 3.9341851472854614), (35, 3.916122317314148), (36, 3.9118882417678833), (37, 3.891282081604004), (38, 3.8796128034591675), (39, 3.844530463218689), (40, 3.824523448944092), (41, 3.8037502765655518), (42, 3.793948531150818), (43, 3.7811295986175537), (44, 3.7786102294921875), (45, 3.7613401412963867), (46, 3.7626426219940186), (47, 3.7389055490493774), (48, 3.746052384376526), (49, 3.7357832193374634), (50, 3.7326160669326782)], 'val_accuracy': [(1, 0.0), (2, 0.0), (3, 0.025), (4, 0.05), (5, 0.05), (6, 0.075), (7, 0.125), (8, 0.15), (9, 0.175), (10, 0.175), (11, 0.175), (12, 0.2), (13, 0.225), (14, 0.225), (15, 0.225), (16, 0.25), (17, 0.25), (18, 0.225), (19, 0.25), (20, 0.225), (21, 0.225), (22, 0.225), (23, 0.225), (24, 0.25), (25, 0.25), (26, 0.25), (27, 0.25), (28, 0.25), (29, 0.225), (30, 0.275), (31, 0.25), (32, 0.275), (33, 0.25), (34, 0.275), (35, 0.275), (36, 0.25), (37, 0.225), (38, 0.225), (39, 0.25), (40, 0.25), (41, 0.225), (42, 0.25), (43, 0.275), (44, 0.275), (45, 0.275), (46, 0.275), (47, 0.275), (48, 0.275), (49, 0.3), (50, 0.3)]}\n",
      "INFO flwr 2023-04-15 16:05:21,065 | app.py:204 | app_fit: losses_centralized [(0, 18.524402618408203), (1, 18.457782745361328), (2, 18.332590103149414), (3, 18.244220733642578), (4, 18.141860961914062), (5, 18.089374542236328), (6, 17.957763671875), (7, 17.903966903686523), (8, 17.82100486755371), (9, 17.779617309570312), (10, 17.664722442626953), (11, 17.629344940185547), (12, 17.52484130859375), (13, 17.505908966064453), (14, 17.400606155395508), (15, 17.40971565246582), (16, 17.316516876220703), (17, 17.284914016723633), (18, 17.19019889831543), (19, 17.130901336669922), (20, 17.05491828918457), (21, 16.979877471923828), (22, 16.890869140625), (23, 16.890605926513672), (24, 16.842702865600586), (25, 16.80345916748047), (26, 16.74530792236328), (27, 16.68887710571289), (28, 16.633766174316406), (29, 16.55739974975586), (30, 16.470109939575195), (31, 16.449857711791992), (32, 16.3912410736084), (33, 16.369815826416016), (34, 16.30896759033203), (35, 16.267919540405273), (36, 16.207069396972656), (37, 16.162757873535156), (38, 16.099096298217773), (39, 16.045948028564453), (40, 16.006240844726562), (41, 15.95036506652832), (42, 15.927621841430664), (43, 15.908864974975586), (44, 15.863383293151855), (45, 15.840755462646484), (46, 15.81016731262207), (47, 15.7578125), (48, 15.751901626586914), (49, 15.721128463745117), (50, 15.7197265625)]\n",
      "INFO flwr 2023-04-15 16:05:21,066 | app.py:205 | app_fit: metrics_centralized {'test_loss': [(0, 18.524402618408203), (1, 18.457782745361328), (2, 18.332590103149414), (3, 18.244220733642578), (4, 18.141860961914062), (5, 18.089374542236328), (6, 17.957763671875), (7, 17.903966903686523), (8, 17.82100486755371), (9, 17.779617309570312), (10, 17.664722442626953), (11, 17.629344940185547), (12, 17.52484130859375), (13, 17.505908966064453), (14, 17.400606155395508), (15, 17.40971565246582), (16, 17.316516876220703), (17, 17.284914016723633), (18, 17.19019889831543), (19, 17.130901336669922), (20, 17.05491828918457), (21, 16.979877471923828), (22, 16.890869140625), (23, 16.890605926513672), (24, 16.842702865600586), (25, 16.80345916748047), (26, 16.74530792236328), (27, 16.68887710571289), (28, 16.633766174316406), (29, 16.55739974975586), (30, 16.470109939575195), (31, 16.449857711791992), (32, 16.3912410736084), (33, 16.369815826416016), (34, 16.30896759033203), (35, 16.267919540405273), (36, 16.207069396972656), (37, 16.162757873535156), (38, 16.099096298217773), (39, 16.045948028564453), (40, 16.006240844726562), (41, 15.95036506652832), (42, 15.927621841430664), (43, 15.908864974975586), (44, 15.863383293151855), (45, 15.840755462646484), (46, 15.81016731262207), (47, 15.7578125), (48, 15.751901626586914), (49, 15.721128463745117), (50, 15.7197265625)], 'test_accuracy': [(0, 0.01), (1, 0.01), (2, 0.01), (3, 0.01), (4, 0.03), (5, 0.05), (6, 0.06), (7, 0.06), (8, 0.1), (9, 0.1), (10, 0.11), (11, 0.12), (12, 0.12), (13, 0.13), (14, 0.14), (15, 0.12), (16, 0.15), (17, 0.17), (18, 0.16), (19, 0.18), (20, 0.16), (21, 0.18), (22, 0.18), (23, 0.16), (24, 0.16), (25, 0.17), (26, 0.18), (27, 0.2), (28, 0.2), (29, 0.18), (30, 0.21), (31, 0.19), (32, 0.2), (33, 0.2), (34, 0.21), (35, 0.22), (36, 0.23), (37, 0.23), (38, 0.23), (39, 0.23), (40, 0.22), (41, 0.22), (42, 0.2), (43, 0.2), (44, 0.2), (45, 0.21), (46, 0.21), (47, 0.22), (48, 0.21), (49, 0.22), (50, 0.23)]}\n"
     ]
    },
    {
     "output_type": "stream",
     "name": "stdout",
     "text": [
      "\t {'val_loss': 3.7326160669326782, 'val_accuracy': 0.3}\n"
     ]
    },
    {
     "output_type": "execute_result",
     "data": {
      "text/plain": [
       "History (loss, distributed):\n",
       "\tround 1: 4.626702308654785\n",
       "\tround 2: 4.595104694366455\n",
       "\tround 3: 4.562689304351807\n",
       "\tround 4: 4.521740674972534\n",
       "\tround 5: 4.497391700744629\n",
       "\tround 6: 4.458006143569946\n",
       "\tround 7: 4.439037322998047\n",
       "\tround 8: 4.393303632736206\n",
       "\tround 9: 4.3786749839782715\n",
       "\tround 10: 4.351632595062256\n",
       "\tround 11: 4.334226846694946\n",
       "\tround 12: 4.30023717880249\n",
       "\tround 13: 4.282344818115234\n",
       "\tround 14: 4.251121759414673\n",
       "\tround 15: 4.243817567825317\n",
       "\tround 16: 4.212576627731323\n",
       "\tround 17: 4.195697784423828\n",
       "\tround 18: 4.1855669021606445\n",
       "\tround 19: 4.165487051010132\n",
       "\tround 20: 4.15581488609314\n",
       "\tround 21: 4.125284910202026\n",
       "\tround 22: 4.096228718757629\n",
       "\tround 23: 4.07753586769104\n",
       "\tround 24: 4.0706058740615845\n",
       "\tround 25: 4.056378602981567\n",
       "\tround 26: 4.039982914924622\n",
       "\tround 27: 4.005759119987488\n",
       "\tround 28: 4.0027066469192505\n",
       "\tround 29: 3.981938600540161\n",
       "\tround 30: 3.9890326261520386\n",
       "\tround 31: 3.974034547805786\n",
       "\tround 32: 3.9640170335769653\n",
       "\tround 33: 3.9470019340515137\n",
       "\tround 34: 3.9341851472854614\n",
       "\tround 35: 3.916122317314148\n",
       "\tround 36: 3.9118882417678833\n",
       "\tround 37: 3.891282081604004\n",
       "\tround 38: 3.8796128034591675\n",
       "\tround 39: 3.844530463218689\n",
       "\tround 40: 3.824523448944092\n",
       "\tround 41: 3.8037502765655518\n",
       "\tround 42: 3.793948531150818\n",
       "\tround 43: 3.7811295986175537\n",
       "\tround 44: 3.7786102294921875\n",
       "\tround 45: 3.7613401412963867\n",
       "\tround 46: 3.7626426219940186\n",
       "\tround 47: 3.7389055490493774\n",
       "\tround 48: 3.746052384376526\n",
       "\tround 49: 3.7357832193374634\n",
       "\tround 50: 3.7326160669326782\n",
       "History (loss, centralized):\n",
       "\tround 0: 18.524402618408203\n",
       "\tround 1: 18.457782745361328\n",
       "\tround 2: 18.332590103149414\n",
       "\tround 3: 18.244220733642578\n",
       "\tround 4: 18.141860961914062\n",
       "\tround 5: 18.089374542236328\n",
       "\tround 6: 17.957763671875\n",
       "\tround 7: 17.903966903686523\n",
       "\tround 8: 17.82100486755371\n",
       "\tround 9: 17.779617309570312\n",
       "\tround 10: 17.664722442626953\n",
       "\tround 11: 17.629344940185547\n",
       "\tround 12: 17.52484130859375\n",
       "\tround 13: 17.505908966064453\n",
       "\tround 14: 17.400606155395508\n",
       "\tround 15: 17.40971565246582\n",
       "\tround 16: 17.316516876220703\n",
       "\tround 17: 17.284914016723633\n",
       "\tround 18: 17.19019889831543\n",
       "\tround 19: 17.130901336669922\n",
       "\tround 20: 17.05491828918457\n",
       "\tround 21: 16.979877471923828\n",
       "\tround 22: 16.890869140625\n",
       "\tround 23: 16.890605926513672\n",
       "\tround 24: 16.842702865600586\n",
       "\tround 25: 16.80345916748047\n",
       "\tround 26: 16.74530792236328\n",
       "\tround 27: 16.68887710571289\n",
       "\tround 28: 16.633766174316406\n",
       "\tround 29: 16.55739974975586\n",
       "\tround 30: 16.470109939575195\n",
       "\tround 31: 16.449857711791992\n",
       "\tround 32: 16.3912410736084\n",
       "\tround 33: 16.369815826416016\n",
       "\tround 34: 16.30896759033203\n",
       "\tround 35: 16.267919540405273\n",
       "\tround 36: 16.207069396972656\n",
       "\tround 37: 16.162757873535156\n",
       "\tround 38: 16.099096298217773\n",
       "\tround 39: 16.045948028564453\n",
       "\tround 40: 16.006240844726562\n",
       "\tround 41: 15.95036506652832\n",
       "\tround 42: 15.927621841430664\n",
       "\tround 43: 15.908864974975586\n",
       "\tround 44: 15.863383293151855\n",
       "\tround 45: 15.840755462646484\n",
       "\tround 46: 15.81016731262207\n",
       "\tround 47: 15.7578125\n",
       "\tround 48: 15.751901626586914\n",
       "\tround 49: 15.721128463745117\n",
       "\tround 50: 15.7197265625\n",
       "History (metrics, distributed):\n",
       "{'val_loss': [(1, 4.626702308654785), (2, 4.595104694366455), (3, 4.562689304351807), (4, 4.521740674972534), (5, 4.497391700744629), (6, 4.458006143569946), (7, 4.439037322998047), (8, 4.393303632736206), (9, 4.3786749839782715), (10, 4.351632595062256), (11, 4.334226846694946), (12, 4.30023717880249), (13, 4.282344818115234), (14, 4.251121759414673), (15, 4.243817567825317), (16, 4.212576627731323), (17, 4.195697784423828), (18, 4.1855669021606445), (19, 4.165487051010132), (20, 4.15581488609314), (21, 4.125284910202026), (22, 4.096228718757629), (23, 4.07753586769104), (24, 4.0706058740615845), (25, 4.056378602981567), (26, 4.039982914924622), (27, 4.005759119987488), (28, 4.0027066469192505), (29, 3.981938600540161), (30, 3.9890326261520386), (31, 3.974034547805786), (32, 3.9640170335769653), (33, 3.9470019340515137), (34, 3.9341851472854614), (35, 3.916122317314148), (36, 3.9118882417678833), (37, 3.891282081604004), (38, 3.8796128034591675), (39, 3.844530463218689), (40, 3.824523448944092), (41, 3.8037502765655518), (42, 3.793948531150818), (43, 3.7811295986175537), (44, 3.7786102294921875), (45, 3.7613401412963867), (46, 3.7626426219940186), (47, 3.7389055490493774), (48, 3.746052384376526), (49, 3.7357832193374634), (50, 3.7326160669326782)], 'val_accuracy': [(1, 0.0), (2, 0.0), (3, 0.025), (4, 0.05), (5, 0.05), (6, 0.075), (7, 0.125), (8, 0.15), (9, 0.175), (10, 0.175), (11, 0.175), (12, 0.2), (13, 0.225), (14, 0.225), (15, 0.225), (16, 0.25), (17, 0.25), (18, 0.225), (19, 0.25), (20, 0.225), (21, 0.225), (22, 0.225), (23, 0.225), (24, 0.25), (25, 0.25), (26, 0.25), (27, 0.25), (28, 0.25), (29, 0.225), (30, 0.275), (31, 0.25), (32, 0.275), (33, 0.25), (34, 0.275), (35, 0.275), (36, 0.25), (37, 0.225), (38, 0.225), (39, 0.25), (40, 0.25), (41, 0.225), (42, 0.25), (43, 0.275), (44, 0.275), (45, 0.275), (46, 0.275), (47, 0.275), (48, 0.275), (49, 0.3), (50, 0.3)]}History (metrics, centralized):\n",
       "{'test_loss': [(0, 18.524402618408203), (1, 18.457782745361328), (2, 18.332590103149414), (3, 18.244220733642578), (4, 18.141860961914062), (5, 18.089374542236328), (6, 17.957763671875), (7, 17.903966903686523), (8, 17.82100486755371), (9, 17.779617309570312), (10, 17.664722442626953), (11, 17.629344940185547), (12, 17.52484130859375), (13, 17.505908966064453), (14, 17.400606155395508), (15, 17.40971565246582), (16, 17.316516876220703), (17, 17.284914016723633), (18, 17.19019889831543), (19, 17.130901336669922), (20, 17.05491828918457), (21, 16.979877471923828), (22, 16.890869140625), (23, 16.890605926513672), (24, 16.842702865600586), (25, 16.80345916748047), (26, 16.74530792236328), (27, 16.68887710571289), (28, 16.633766174316406), (29, 16.55739974975586), (30, 16.470109939575195), (31, 16.449857711791992), (32, 16.3912410736084), (33, 16.369815826416016), (34, 16.30896759033203), (35, 16.267919540405273), (36, 16.207069396972656), (37, 16.162757873535156), (38, 16.099096298217773), (39, 16.045948028564453), (40, 16.006240844726562), (41, 15.95036506652832), (42, 15.927621841430664), (43, 15.908864974975586), (44, 15.863383293151855), (45, 15.840755462646484), (46, 15.81016731262207), (47, 15.7578125), (48, 15.751901626586914), (49, 15.721128463745117), (50, 15.7197265625)], 'test_accuracy': [(0, 0.01), (1, 0.01), (2, 0.01), (3, 0.01), (4, 0.03), (5, 0.05), (6, 0.06), (7, 0.06), (8, 0.1), (9, 0.1), (10, 0.11), (11, 0.12), (12, 0.12), (13, 0.13), (14, 0.14), (15, 0.12), (16, 0.15), (17, 0.17), (18, 0.16), (19, 0.18), (20, 0.16), (21, 0.18), (22, 0.18), (23, 0.16), (24, 0.16), (25, 0.17), (26, 0.18), (27, 0.2), (28, 0.2), (29, 0.18), (30, 0.21), (31, 0.19), (32, 0.2), (33, 0.2), (34, 0.21), (35, 0.22), (36, 0.23), (37, 0.23), (38, 0.23), (39, 0.23), (40, 0.22), (41, 0.22), (42, 0.2), (43, 0.2), (44, 0.2), (45, 0.21), (46, 0.21), (47, 0.22), (48, 0.21), (49, 0.22), (50, 0.23)]}"
      ]
     },
     "metadata": {},
     "execution_count": 7
    }
   ],
   "metadata": {}
  }
 ],
 "nbformat": 4,
 "nbformat_minor": 2,
 "metadata": {
  "language_info": {
   "codemirror_mode": {
    "name": "ipython",
    "version": 3
   },
   "file_extension": ".py",
   "mimetype": "text/x-python",
   "name": "python",
   "nbconvert_exporter": "python",
   "pygments_lexer": "ipython3",
   "version": 3
  },
  "orig_nbformat": 4
 }
}