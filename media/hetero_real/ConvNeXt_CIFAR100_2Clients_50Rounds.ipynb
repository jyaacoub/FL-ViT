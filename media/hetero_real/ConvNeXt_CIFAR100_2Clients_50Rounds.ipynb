{
 "cells": [
  {
   "cell_type": "code",
   "execution_count": 6,
   "source": [
    "print('num clients:', NUM_CLIENTS)\n",
    "print('num rounds:', NUM_ROUNDS)\n",
    "print('--'*20)\n",
    "print('client training set size:', [len(t.dataset) for t in trainloaders])\n",
    "print('client validation set size:', [len(v.dataset) for v in valloaders])\n",
    "print('test set size:', len(testloader.dataset))\n",
    "print('--'*20)\n",
    "print('model name:', MODEL_NAME)\n",
    "print('num classes:', NUM_CLASSES)\n",
    "print('pre-trained:', PRE_TRAINED)\n",
    "print('learning rate:', LEARNING_RATE)\n",
    "print('batch size:', BATCH_SIZE)\n",
    "print('epochs:', EPOCHS)"
   ],
   "outputs": [
    {
     "output_type": "stream",
     "name": "stdout",
     "text": [
      "num clients: 5\n",
      "num rounds: 50\n",
      "----------------------------------------\n",
      "client training set size: [180, 180, 180, 180, 180]\n",
      "client validation set size: [20, 20, 20, 20, 20]\n",
      "test set size: 100\n",
      "----------------------------------------\n",
      "model name: facebook/convnext-tiny-224\n",
      "num classes: 100\n",
      "pre-trained: True\n",
      "learning rate: 0.0001\n",
      "batch size: 32\n",
      "epochs: 1\n"
     ]
    }
   ],
   "metadata": {}
  },
  {
   "cell_type": "code",
   "execution_count": 7,
   "source": [
    "fl.server.start_server(server_address=SERVER_ADDRESS, \n",
    "                       config=fl.server.ServerConfig(num_rounds=NUM_ROUNDS), \n",
    "                       strategy=strategy)"
   ],
   "outputs": [
    {
     "output_type": "stream",
     "name": "stderr",
     "text": [
      "INFO flwr 2023-04-15 12:18:08,352 | app.py:139 | Starting Flower server, config: ServerConfig(num_rounds=50, round_timeout=None)\n",
      "INFO flwr 2023-04-15 12:18:08,369 | app.py:152 | Flower ECE: gRPC server running (50 rounds), SSL is disabled\n",
      "INFO flwr 2023-04-15 12:18:08,369 | server.py:86 | Initializing global parameters\n",
      "INFO flwr 2023-04-15 12:18:08,370 | server.py:266 | Using initial parameters provided by strategy\n",
      "INFO flwr 2023-04-15 12:18:08,370 | server.py:88 | Evaluating initial parameters\n",
      "INFO flwr 2023-04-15 12:18:13,546 | server.py:91 | initial parameters (loss, other metrics): 18.483186721801758, {'test_loss': 18.483186721801758, 'test_accuracy': 0.0}\n",
      "INFO flwr 2023-04-15 12:18:13,547 | server.py:101 | FL starting\n",
      "DEBUG flwr 2023-04-15 12:18:17,361 | server.py:215 | fit_round 1: strategy sampled 2 clients (out of 2)\n",
      "DEBUG flwr 2023-04-15 12:19:56,368 | server.py:229 | fit_round 1 received 2 results and 0 failures\n"
     ]
    },
    {
     "output_type": "stream",
     "name": "stdout",
     "text": [
      "\t {'train_loss': 4.616765975952148, 'train_accuracy': 0.019444444444444445}\n"
     ]
    },
    {
     "output_type": "stream",
     "name": "stderr",
     "text": [
      "INFO flwr 2023-04-15 12:20:01,406 | server.py:116 | fit progress: (1, 18.40736961364746, {'test_loss': 18.40736961364746, 'test_accuracy': 0.04}, 107.87117650001892)\n",
      "DEBUG flwr 2023-04-15 12:20:01,407 | server.py:165 | evaluate_round 1: strategy sampled 2 clients (out of 2)\n",
      "DEBUG flwr 2023-04-15 12:20:11,536 | server.py:179 | evaluate_round 1 received 2 results and 0 failures\n",
      "DEBUG flwr 2023-04-15 12:20:11,537 | server.py:215 | fit_round 2: strategy sampled 2 clients (out of 2)\n"
     ]
    },
    {
     "output_type": "stream",
     "name": "stdout",
     "text": [
      "\t {'val_loss': 4.606508255004883, 'val_accuracy': 0.025}\n"
     ]
    },
    {
     "output_type": "stream",
     "name": "stderr",
     "text": [
      "DEBUG flwr 2023-04-15 12:22:48,489 | server.py:229 | fit_round 2 received 2 results and 0 failures\n"
     ]
    },
    {
     "output_type": "stream",
     "name": "stdout",
     "text": [
      "\t {'train_loss': 4.5626068115234375, 'train_accuracy': 0.10555555555555556}\n"
     ]
    },
    {
     "output_type": "stream",
     "name": "stderr",
     "text": [
      "INFO flwr 2023-04-15 12:22:58,444 | server.py:116 | fit progress: (2, 18.28927230834961, {'test_loss': 18.28927230834961, 'test_accuracy': 0.06}, 284.9295597000164)\n",
      "DEBUG flwr 2023-04-15 12:22:58,446 | server.py:165 | evaluate_round 2: strategy sampled 2 clients (out of 2)\n",
      "DEBUG flwr 2023-04-15 12:23:07,994 | server.py:179 | evaluate_round 2 received 2 results and 0 failures\n",
      "DEBUG flwr 2023-04-15 12:23:07,996 | server.py:215 | fit_round 3: strategy sampled 2 clients (out of 2)\n"
     ]
    },
    {
     "output_type": "stream",
     "name": "stdout",
     "text": [
      "\t {'val_loss': 4.57668399810791, 'val_accuracy': 0.05}\n"
     ]
    },
    {
     "output_type": "stream",
     "name": "stderr",
     "text": [
      "DEBUG flwr 2023-04-15 12:25:15,184 | server.py:229 | fit_round 3 received 2 results and 0 failures\n"
     ]
    },
    {
     "output_type": "stream",
     "name": "stdout",
     "text": [
      "\t {'train_loss': 4.48998761177063, 'train_accuracy': 0.28888888888888886}\n"
     ]
    },
    {
     "output_type": "stream",
     "name": "stderr",
     "text": [
      "INFO flwr 2023-04-15 12:25:25,534 | server.py:116 | fit progress: (3, 18.231216430664062, {'test_loss': 18.231216430664062, 'test_accuracy': 0.06}, 432.03193630001624)\n",
      "DEBUG flwr 2023-04-15 12:25:25,535 | server.py:165 | evaluate_round 3: strategy sampled 2 clients (out of 2)\n",
      "DEBUG flwr 2023-04-15 12:25:33,253 | server.py:179 | evaluate_round 3 received 2 results and 0 failures\n",
      "DEBUG flwr 2023-04-15 12:25:33,254 | server.py:215 | fit_round 4: strategy sampled 2 clients (out of 2)\n"
     ]
    },
    {
     "output_type": "stream",
     "name": "stdout",
     "text": [
      "\t {'val_loss': 4.545699119567871, 'val_accuracy': 0.075}\n"
     ]
    },
    {
     "output_type": "stream",
     "name": "stderr",
     "text": [
      "DEBUG flwr 2023-04-15 12:27:55,198 | server.py:229 | fit_round 4 received 2 results and 0 failures\n"
     ]
    },
    {
     "output_type": "stream",
     "name": "stdout",
     "text": [
      "\t {'train_loss': 4.422811985015869, 'train_accuracy': 0.4638888888888889}\n"
     ]
    },
    {
     "output_type": "stream",
     "name": "stderr",
     "text": [
      "INFO flwr 2023-04-15 12:28:00,241 | server.py:116 | fit progress: (4, 18.14561653137207, {'test_loss': 18.14561653137207, 'test_accuracy': 0.07}, 586.7520431000157)\n",
      "DEBUG flwr 2023-04-15 12:28:00,242 | server.py:165 | evaluate_round 4: strategy sampled 2 clients (out of 2)\n",
      "DEBUG flwr 2023-04-15 12:28:11,625 | server.py:179 | evaluate_round 4 received 2 results and 0 failures\n",
      "DEBUG flwr 2023-04-15 12:28:11,625 | server.py:215 | fit_round 5: strategy sampled 2 clients (out of 2)\n"
     ]
    },
    {
     "output_type": "stream",
     "name": "stdout",
     "text": [
      "\t {'val_loss': 4.518794298171997, 'val_accuracy': 0.075}\n"
     ]
    },
    {
     "output_type": "stream",
     "name": "stderr",
     "text": [
      "DEBUG flwr 2023-04-15 12:31:10,013 | server.py:229 | fit_round 5 received 2 results and 0 failures\n"
     ]
    },
    {
     "output_type": "stream",
     "name": "stdout",
     "text": [
      "\t {'train_loss': 4.355400085449219, 'train_accuracy': 0.5666666666666667}\n"
     ]
    },
    {
     "output_type": "stream",
     "name": "stderr",
     "text": [
      "INFO flwr 2023-04-15 12:31:15,011 | server.py:116 | fit progress: (5, 18.128963470458984, {'test_loss': 18.128963470458984, 'test_accuracy': 0.1}, 781.5379518000118)\n",
      "DEBUG flwr 2023-04-15 12:31:15,012 | server.py:165 | evaluate_round 5: strategy sampled 2 clients (out of 2)\n",
      "DEBUG flwr 2023-04-15 12:31:24,561 | server.py:179 | evaluate_round 5 received 2 results and 0 failures\n",
      "DEBUG flwr 2023-04-15 12:31:24,562 | server.py:215 | fit_round 6: strategy sampled 2 clients (out of 2)\n"
     ]
    },
    {
     "output_type": "stream",
     "name": "stdout",
     "text": [
      "\t {'val_loss': 4.498483419418335, 'val_accuracy': 0.075}\n"
     ]
    },
    {
     "output_type": "stream",
     "name": "stderr",
     "text": [
      "DEBUG flwr 2023-04-15 12:33:47,371 | server.py:229 | fit_round 6 received 2 results and 0 failures\n"
     ]
    },
    {
     "output_type": "stream",
     "name": "stdout",
     "text": [
      "\t {'train_loss': 4.293457746505737, 'train_accuracy': 0.6361111111111111}\n"
     ]
    },
    {
     "output_type": "stream",
     "name": "stderr",
     "text": [
      "INFO flwr 2023-04-15 12:33:52,333 | server.py:116 | fit progress: (6, 17.97453498840332, {'test_loss': 17.97453498840332, 'test_accuracy': 0.1}, 938.8731782000104)\n",
      "DEBUG flwr 2023-04-15 12:33:52,334 | server.py:165 | evaluate_round 6: strategy sampled 2 clients (out of 2)\n",
      "DEBUG flwr 2023-04-15 12:34:00,239 | server.py:179 | evaluate_round 6 received 2 results and 0 failures\n",
      "DEBUG flwr 2023-04-15 12:34:00,241 | server.py:215 | fit_round 7: strategy sampled 2 clients (out of 2)\n"
     ]
    },
    {
     "output_type": "stream",
     "name": "stdout",
     "text": [
      "\t {'val_loss': 4.4792561531066895, 'val_accuracy': 0.05}\n"
     ]
    },
    {
     "output_type": "stream",
     "name": "stderr",
     "text": [
      "DEBUG flwr 2023-04-15 12:36:15,940 | server.py:229 | fit_round 7 received 2 results and 0 failures\n"
     ]
    },
    {
     "output_type": "stream",
     "name": "stdout",
     "text": [
      "\t {'train_loss': 4.233199119567871, 'train_accuracy': 0.7}\n"
     ]
    },
    {
     "output_type": "stream",
     "name": "stderr",
     "text": [
      "INFO flwr 2023-04-15 12:36:20,961 | server.py:116 | fit progress: (7, 17.960491180419922, {'test_loss': 17.960491180419922, 'test_accuracy': 0.11}, 1087.5134969000064)\n",
      "DEBUG flwr 2023-04-15 12:36:20,962 | server.py:165 | evaluate_round 7: strategy sampled 2 clients (out of 2)\n",
      "DEBUG flwr 2023-04-15 12:36:31,722 | server.py:179 | evaluate_round 7 received 2 results and 0 failures\n",
      "DEBUG flwr 2023-04-15 12:36:31,723 | server.py:215 | fit_round 8: strategy sampled 2 clients (out of 2)\n"
     ]
    },
    {
     "output_type": "stream",
     "name": "stdout",
     "text": [
      "\t {'val_loss': 4.459241628646851, 'val_accuracy': 0.15}\n"
     ]
    },
    {
     "output_type": "stream",
     "name": "stderr",
     "text": [
      "DEBUG flwr 2023-04-15 12:39:39,324 | server.py:229 | fit_round 8 received 2 results and 0 failures\n"
     ]
    },
    {
     "output_type": "stream",
     "name": "stdout",
     "text": [
      "\t {'train_loss': 4.169559717178345, 'train_accuracy': 0.725}\n"
     ]
    },
    {
     "output_type": "stream",
     "name": "stderr",
     "text": [
      "INFO flwr 2023-04-15 12:39:44,250 | server.py:116 | fit progress: (8, 17.788768768310547, {'test_loss': 17.788768768310547, 'test_accuracy': 0.1}, 1290.8202437)\n",
      "DEBUG flwr 2023-04-15 12:39:44,251 | server.py:165 | evaluate_round 8: strategy sampled 2 clients (out of 2)\n",
      "DEBUG flwr 2023-04-15 12:39:56,430 | server.py:179 | evaluate_round 8 received 2 results and 0 failures\n",
      "DEBUG flwr 2023-04-15 12:39:56,431 | server.py:215 | fit_round 9: strategy sampled 2 clients (out of 2)\n"
     ]
    },
    {
     "output_type": "stream",
     "name": "stdout",
     "text": [
      "\t {'val_loss': 4.442302227020264, 'val_accuracy': 0.075}\n"
     ]
    },
    {
     "output_type": "stream",
     "name": "stderr",
     "text": [
      "DEBUG flwr 2023-04-15 12:43:15,198 | server.py:229 | fit_round 9 received 2 results and 0 failures\n"
     ]
    },
    {
     "output_type": "stream",
     "name": "stdout",
     "text": [
      "\t {'train_loss': 4.104856491088867, 'train_accuracy': 0.7527777777777778}\n"
     ]
    },
    {
     "output_type": "stream",
     "name": "stderr",
     "text": [
      "INFO flwr 2023-04-15 12:43:20,137 | server.py:116 | fit progress: (9, 17.798818588256836, {'test_loss': 17.798818588256836, 'test_accuracy': 0.11}, 1506.7194832999958)\n",
      "DEBUG flwr 2023-04-15 12:43:20,137 | server.py:165 | evaluate_round 9: strategy sampled 2 clients (out of 2)\n",
      "DEBUG flwr 2023-04-15 12:43:30,182 | server.py:179 | evaluate_round 9 received 2 results and 0 failures\n",
      "DEBUG flwr 2023-04-15 12:43:30,183 | server.py:215 | fit_round 10: strategy sampled 2 clients (out of 2)\n"
     ]
    },
    {
     "output_type": "stream",
     "name": "stdout",
     "text": [
      "\t {'val_loss': 4.407499074935913, 'val_accuracy': 0.125}\n"
     ]
    },
    {
     "output_type": "stream",
     "name": "stderr",
     "text": [
      "DEBUG flwr 2023-04-15 12:46:15,399 | server.py:229 | fit_round 10 received 2 results and 0 failures\n"
     ]
    },
    {
     "output_type": "stream",
     "name": "stdout",
     "text": [
      "\t {'train_loss': 4.02203893661499, 'train_accuracy': 0.8027777777777778}\n"
     ]
    },
    {
     "output_type": "stream",
     "name": "stderr",
     "text": [
      "INFO flwr 2023-04-15 12:46:20,345 | server.py:116 | fit progress: (10, 17.76022720336914, {'test_loss': 17.76022720336914, 'test_accuracy': 0.12}, 1686.938508399995)\n",
      "DEBUG flwr 2023-04-15 12:46:20,346 | server.py:165 | evaluate_round 10: strategy sampled 2 clients (out of 2)\n",
      "DEBUG flwr 2023-04-15 12:46:29,980 | server.py:179 | evaluate_round 10 received 2 results and 0 failures\n",
      "DEBUG flwr 2023-04-15 12:46:29,981 | server.py:215 | fit_round 11: strategy sampled 2 clients (out of 2)\n"
     ]
    },
    {
     "output_type": "stream",
     "name": "stdout",
     "text": [
      "\t {'val_loss': 4.373833179473877, 'val_accuracy': 0.125}\n"
     ]
    },
    {
     "output_type": "stream",
     "name": "stderr",
     "text": [
      "DEBUG flwr 2023-04-15 12:49:08,114 | server.py:229 | fit_round 11 received 2 results and 0 failures\n"
     ]
    },
    {
     "output_type": "stream",
     "name": "stdout",
     "text": [
      "\t {'train_loss': 3.9554964303970337, 'train_accuracy': 0.8138888888888889}\n"
     ]
    },
    {
     "output_type": "stream",
     "name": "stderr",
     "text": [
      "INFO flwr 2023-04-15 12:49:13,123 | server.py:116 | fit progress: (11, 17.715282440185547, {'test_loss': 17.715282440185547, 'test_accuracy': 0.14}, 1859.7276180000044)\n",
      "DEBUG flwr 2023-04-15 12:49:13,124 | server.py:165 | evaluate_round 11: strategy sampled 2 clients (out of 2)\n",
      "DEBUG flwr 2023-04-15 12:49:21,681 | server.py:179 | evaluate_round 11 received 2 results and 0 failures\n",
      "DEBUG flwr 2023-04-15 12:49:21,682 | server.py:215 | fit_round 12: strategy sampled 2 clients (out of 2)\n"
     ]
    },
    {
     "output_type": "stream",
     "name": "stdout",
     "text": [
      "\t {'val_loss': 4.369708061218262, 'val_accuracy': 0.15}\n"
     ]
    },
    {
     "output_type": "stream",
     "name": "stderr",
     "text": [
      "DEBUG flwr 2023-04-15 12:51:37,642 | server.py:229 | fit_round 12 received 2 results and 0 failures\n"
     ]
    },
    {
     "output_type": "stream",
     "name": "stdout",
     "text": [
      "\t {'train_loss': 3.9058083295822144, 'train_accuracy': 0.8222222222222222}\n"
     ]
    },
    {
     "output_type": "stream",
     "name": "stderr",
     "text": [
      "INFO flwr 2023-04-15 12:51:42,634 | server.py:116 | fit progress: (12, 17.626237869262695, {'test_loss': 17.626237869262695, 'test_accuracy': 0.12}, 2009.2477806000097)\n",
      "DEBUG flwr 2023-04-15 12:51:42,635 | server.py:165 | evaluate_round 12: strategy sampled 2 clients (out of 2)\n",
      "DEBUG flwr 2023-04-15 12:51:51,218 | server.py:179 | evaluate_round 12 received 2 results and 0 failures\n",
      "DEBUG flwr 2023-04-15 12:51:51,219 | server.py:215 | fit_round 13: strategy sampled 2 clients (out of 2)\n"
     ]
    },
    {
     "output_type": "stream",
     "name": "stdout",
     "text": [
      "\t {'val_loss': 4.357648611068726, 'val_accuracy': 0.125}\n"
     ]
    },
    {
     "output_type": "stream",
     "name": "stderr",
     "text": [
      "DEBUG flwr 2023-04-15 12:54:06,633 | server.py:229 | fit_round 13 received 2 results and 0 failures\n"
     ]
    },
    {
     "output_type": "stream",
     "name": "stdout",
     "text": [
      "\t {'train_loss': 3.8081774711608887, 'train_accuracy': 0.8305555555555556}\n"
     ]
    },
    {
     "output_type": "stream",
     "name": "stderr",
     "text": [
      "INFO flwr 2023-04-15 12:54:11,585 | server.py:116 | fit progress: (13, 17.599468231201172, {'test_loss': 17.599468231201172, 'test_accuracy': 0.14}, 2158.206800999993)\n",
      "DEBUG flwr 2023-04-15 12:54:11,585 | server.py:165 | evaluate_round 13: strategy sampled 2 clients (out of 2)\n",
      "DEBUG flwr 2023-04-15 12:54:20,397 | server.py:179 | evaluate_round 13 received 2 results and 0 failures\n",
      "DEBUG flwr 2023-04-15 12:54:20,398 | server.py:215 | fit_round 14: strategy sampled 2 clients (out of 2)\n"
     ]
    },
    {
     "output_type": "stream",
     "name": "stdout",
     "text": [
      "\t {'val_loss': 4.324440956115723, 'val_accuracy': 0.15}\n"
     ]
    },
    {
     "output_type": "stream",
     "name": "stderr",
     "text": [
      "DEBUG flwr 2023-04-15 12:56:44,727 | server.py:229 | fit_round 14 received 2 results and 0 failures\n"
     ]
    },
    {
     "output_type": "stream",
     "name": "stdout",
     "text": [
      "\t {'train_loss': 3.7354001998901367, 'train_accuracy': 0.85}\n"
     ]
    },
    {
     "output_type": "stream",
     "name": "stderr",
     "text": [
      "INFO flwr 2023-04-15 12:56:49,673 | server.py:116 | fit progress: (14, 17.524734497070312, {'test_loss': 17.524734497070312, 'test_accuracy': 0.13}, 2316.3045199000044)\n",
      "DEBUG flwr 2023-04-15 12:56:49,673 | server.py:165 | evaluate_round 14: strategy sampled 2 clients (out of 2)\n",
      "DEBUG flwr 2023-04-15 12:56:59,549 | server.py:179 | evaluate_round 14 received 2 results and 0 failures\n",
      "DEBUG flwr 2023-04-15 12:56:59,550 | server.py:215 | fit_round 15: strategy sampled 2 clients (out of 2)\n"
     ]
    },
    {
     "output_type": "stream",
     "name": "stdout",
     "text": [
      "\t {'val_loss': 4.305138826370239, 'val_accuracy': 0.125}\n"
     ]
    },
    {
     "output_type": "stream",
     "name": "stderr",
     "text": [
      "DEBUG flwr 2023-04-15 12:59:41,034 | server.py:229 | fit_round 15 received 2 results and 0 failures\n"
     ]
    },
    {
     "output_type": "stream",
     "name": "stdout",
     "text": [
      "\t {'train_loss': 3.6540701389312744, 'train_accuracy': 0.875}\n"
     ]
    },
    {
     "output_type": "stream",
     "name": "stderr",
     "text": [
      "INFO flwr 2023-04-15 12:59:45,973 | server.py:116 | fit progress: (15, 17.435054779052734, {'test_loss': 17.435054779052734, 'test_accuracy': 0.14}, 2492.612485199992)\n",
      "DEBUG flwr 2023-04-15 12:59:45,974 | server.py:165 | evaluate_round 15: strategy sampled 2 clients (out of 2)\n",
      "DEBUG flwr 2023-04-15 12:59:55,496 | server.py:179 | evaluate_round 15 received 2 results and 0 failures\n",
      "DEBUG flwr 2023-04-15 12:59:55,497 | server.py:215 | fit_round 16: strategy sampled 2 clients (out of 2)\n"
     ]
    },
    {
     "output_type": "stream",
     "name": "stdout",
     "text": [
      "\t {'val_loss': 4.298016309738159, 'val_accuracy': 0.15}\n"
     ]
    },
    {
     "output_type": "stream",
     "name": "stderr",
     "text": [
      "DEBUG flwr 2023-04-15 13:02:42,793 | server.py:229 | fit_round 16 received 2 results and 0 failures\n"
     ]
    },
    {
     "output_type": "stream",
     "name": "stdout",
     "text": [
      "\t {'train_loss': 3.5782521963119507, 'train_accuracy': 0.8944444444444445}\n"
     ]
    },
    {
     "output_type": "stream",
     "name": "stderr",
     "text": [
      "INFO flwr 2023-04-15 13:02:47,749 | server.py:116 | fit progress: (16, 17.368759155273438, {'test_loss': 17.368759155273438, 'test_accuracy': 0.13}, 2674.3960301000043)\n",
      "DEBUG flwr 2023-04-15 13:02:47,750 | server.py:165 | evaluate_round 16: strategy sampled 2 clients (out of 2)\n",
      "DEBUG flwr 2023-04-15 13:02:57,620 | server.py:179 | evaluate_round 16 received 2 results and 0 failures\n",
      "DEBUG flwr 2023-04-15 13:02:57,621 | server.py:215 | fit_round 17: strategy sampled 2 clients (out of 2)\n"
     ]
    },
    {
     "output_type": "stream",
     "name": "stdout",
     "text": [
      "\t {'val_loss': 4.290513753890991, 'val_accuracy': 0.15}\n"
     ]
    },
    {
     "output_type": "stream",
     "name": "stderr",
     "text": [
      "DEBUG flwr 2023-04-15 13:05:24,453 | server.py:229 | fit_round 17 received 2 results and 0 failures\n"
     ]
    },
    {
     "output_type": "stream",
     "name": "stdout",
     "text": [
      "\t {'train_loss': 3.4828113317489624, 'train_accuracy': 0.9055555555555556}\n"
     ]
    },
    {
     "output_type": "stream",
     "name": "stderr",
     "text": [
      "INFO flwr 2023-04-15 13:05:29,417 | server.py:116 | fit progress: (17, 17.332691192626953, {'test_loss': 17.332691192626953, 'test_accuracy': 0.13}, 2836.0711579000053)\n",
      "DEBUG flwr 2023-04-15 13:05:29,418 | server.py:165 | evaluate_round 17: strategy sampled 2 clients (out of 2)\n",
      "DEBUG flwr 2023-04-15 13:05:38,624 | server.py:179 | evaluate_round 17 received 2 results and 0 failures\n",
      "DEBUG flwr 2023-04-15 13:05:38,625 | server.py:215 | fit_round 18: strategy sampled 2 clients (out of 2)\n"
     ]
    },
    {
     "output_type": "stream",
     "name": "stdout",
     "text": [
      "\t {'val_loss': 4.2686779499053955, 'val_accuracy': 0.15}\n"
     ]
    },
    {
     "output_type": "stream",
     "name": "stderr",
     "text": [
      "DEBUG flwr 2023-04-15 13:08:21,876 | server.py:229 | fit_round 18 received 2 results and 0 failures\n"
     ]
    },
    {
     "output_type": "stream",
     "name": "stdout",
     "text": [
      "\t {'train_loss': 3.4640984535217285, 'train_accuracy': 0.9055555555555556}\n"
     ]
    },
    {
     "output_type": "stream",
     "name": "stderr",
     "text": [
      "INFO flwr 2023-04-15 13:08:26,893 | server.py:116 | fit progress: (18, 17.300384521484375, {'test_loss': 17.300384521484375, 'test_accuracy': 0.15}, 3013.5551822000125)\n",
      "DEBUG flwr 2023-04-15 13:08:26,894 | server.py:165 | evaluate_round 18: strategy sampled 2 clients (out of 2)\n",
      "DEBUG flwr 2023-04-15 13:08:36,505 | server.py:179 | evaluate_round 18 received 2 results and 0 failures\n",
      "DEBUG flwr 2023-04-15 13:08:36,506 | server.py:215 | fit_round 19: strategy sampled 2 clients (out of 2)\n"
     ]
    },
    {
     "output_type": "stream",
     "name": "stdout",
     "text": [
      "\t {'val_loss': 4.237752437591553, 'val_accuracy': 0.175}\n"
     ]
    },
    {
     "output_type": "stream",
     "name": "stderr",
     "text": [
      "DEBUG flwr 2023-04-15 13:11:08,122 | server.py:229 | fit_round 19 received 2 results and 0 failures\n"
     ]
    },
    {
     "output_type": "stream",
     "name": "stdout",
     "text": [
      "\t {'train_loss': 3.347646474838257, 'train_accuracy': 0.9138888888888889}\n"
     ]
    },
    {
     "output_type": "stream",
     "name": "stderr",
     "text": [
      "INFO flwr 2023-04-15 13:11:13,097 | server.py:116 | fit progress: (19, 17.232006072998047, {'test_loss': 17.232006072998047, 'test_accuracy': 0.14}, 3179.765810700017)\n",
      "DEBUG flwr 2023-04-15 13:11:13,097 | server.py:165 | evaluate_round 19: strategy sampled 2 clients (out of 2)\n",
      "DEBUG flwr 2023-04-15 13:11:21,806 | server.py:179 | evaluate_round 19 received 2 results and 0 failures\n",
      "DEBUG flwr 2023-04-15 13:11:21,807 | server.py:215 | fit_round 20: strategy sampled 2 clients (out of 2)\n"
     ]
    },
    {
     "output_type": "stream",
     "name": "stdout",
     "text": [
      "\t {'val_loss': 4.196171760559082, 'val_accuracy': 0.15}\n"
     ]
    },
    {
     "output_type": "stream",
     "name": "stderr",
     "text": [
      "DEBUG flwr 2023-04-15 13:13:48,646 | server.py:229 | fit_round 20 received 2 results and 0 failures\n"
     ]
    },
    {
     "output_type": "stream",
     "name": "stdout",
     "text": [
      "\t {'train_loss': 3.26688814163208, 'train_accuracy': 0.925}\n"
     ]
    },
    {
     "output_type": "stream",
     "name": "stderr",
     "text": [
      "INFO flwr 2023-04-15 13:13:53,659 | server.py:116 | fit progress: (20, 17.171899795532227, {'test_loss': 17.171899795532227, 'test_accuracy': 0.14}, 3340.334486900014)\n",
      "DEBUG flwr 2023-04-15 13:13:53,659 | server.py:165 | evaluate_round 20: strategy sampled 2 clients (out of 2)\n",
      "DEBUG flwr 2023-04-15 13:14:02,512 | server.py:179 | evaluate_round 20 received 2 results and 0 failures\n",
      "DEBUG flwr 2023-04-15 13:14:02,513 | server.py:215 | fit_round 21: strategy sampled 2 clients (out of 2)\n"
     ]
    },
    {
     "output_type": "stream",
     "name": "stdout",
     "text": [
      "\t {'val_loss': 4.171808242797852, 'val_accuracy': 0.15}\n"
     ]
    },
    {
     "output_type": "stream",
     "name": "stderr",
     "text": [
      "DEBUG flwr 2023-04-15 13:16:25,725 | server.py:229 | fit_round 21 received 2 results and 0 failures\n"
     ]
    },
    {
     "output_type": "stream",
     "name": "stdout",
     "text": [
      "\t {'train_loss': 3.152996301651001, 'train_accuracy': 0.9277777777777778}\n"
     ]
    },
    {
     "output_type": "stream",
     "name": "stderr",
     "text": [
      "INFO flwr 2023-04-15 13:16:30,731 | server.py:116 | fit progress: (21, 17.12981414794922, {'test_loss': 17.12981414794922, 'test_accuracy': 0.15}, 3497.4118904999923)\n",
      "DEBUG flwr 2023-04-15 13:16:30,732 | server.py:165 | evaluate_round 21: strategy sampled 2 clients (out of 2)\n",
      "DEBUG flwr 2023-04-15 13:16:39,171 | server.py:179 | evaluate_round 21 received 2 results and 0 failures\n",
      "DEBUG flwr 2023-04-15 13:16:39,172 | server.py:215 | fit_round 22: strategy sampled 2 clients (out of 2)\n"
     ]
    },
    {
     "output_type": "stream",
     "name": "stdout",
     "text": [
      "\t {'val_loss': 4.155047416687012, 'val_accuracy': 0.175}\n"
     ]
    },
    {
     "output_type": "stream",
     "name": "stderr",
     "text": [
      "DEBUG flwr 2023-04-15 13:18:59,172 | server.py:229 | fit_round 22 received 2 results and 0 failures\n"
     ]
    },
    {
     "output_type": "stream",
     "name": "stdout",
     "text": [
      "\t {'train_loss': 3.0790276527404785, 'train_accuracy': 0.9305555555555556}\n"
     ]
    },
    {
     "output_type": "stream",
     "name": "stderr",
     "text": [
      "INFO flwr 2023-04-15 13:19:04,171 | server.py:116 | fit progress: (22, 17.075529098510742, {'test_loss': 17.075529098510742, 'test_accuracy': 0.15}, 3650.856545300019)\n",
      "DEBUG flwr 2023-04-15 13:19:04,172 | server.py:165 | evaluate_round 22: strategy sampled 2 clients (out of 2)\n",
      "DEBUG flwr 2023-04-15 13:19:12,932 | server.py:179 | evaluate_round 22 received 2 results and 0 failures\n",
      "DEBUG flwr 2023-04-15 13:19:12,933 | server.py:215 | fit_round 23: strategy sampled 2 clients (out of 2)\n"
     ]
    },
    {
     "output_type": "stream",
     "name": "stdout",
     "text": [
      "\t {'val_loss': 4.142153024673462, 'val_accuracy': 0.15}\n"
     ]
    },
    {
     "output_type": "stream",
     "name": "stderr",
     "text": [
      "DEBUG flwr 2023-04-15 13:21:32,574 | server.py:229 | fit_round 23 received 2 results and 0 failures\n"
     ]
    },
    {
     "output_type": "stream",
     "name": "stdout",
     "text": [
      "\t {'train_loss': 3.0199400186538696, 'train_accuracy': 0.9361111111111111}\n"
     ]
    },
    {
     "output_type": "stream",
     "name": "stderr",
     "text": [
      "INFO flwr 2023-04-15 13:21:37,528 | server.py:116 | fit progress: (23, 17.020362854003906, {'test_loss': 17.020362854003906, 'test_accuracy': 0.17}, 3804.2182596000202)\n",
      "DEBUG flwr 2023-04-15 13:21:37,529 | server.py:165 | evaluate_round 23: strategy sampled 2 clients (out of 2)\n",
      "DEBUG flwr 2023-04-15 13:21:46,024 | server.py:179 | evaluate_round 23 received 2 results and 0 failures\n",
      "DEBUG flwr 2023-04-15 13:21:46,025 | server.py:215 | fit_round 24: strategy sampled 2 clients (out of 2)\n"
     ]
    },
    {
     "output_type": "stream",
     "name": "stdout",
     "text": [
      "\t {'val_loss': 4.162792205810547, 'val_accuracy': 0.15}\n"
     ]
    },
    {
     "output_type": "stream",
     "name": "stderr",
     "text": [
      "DEBUG flwr 2023-04-15 13:23:56,007 | server.py:229 | fit_round 24 received 2 results and 0 failures\n"
     ]
    },
    {
     "output_type": "stream",
     "name": "stdout",
     "text": [
      "\t {'train_loss': 2.8877196311950684, 'train_accuracy': 0.9555555555555556}\n"
     ]
    },
    {
     "output_type": "stream",
     "name": "stderr",
     "text": [
      "INFO flwr 2023-04-15 13:24:00,968 | server.py:116 | fit progress: (24, 16.951126098632812, {'test_loss': 16.951126098632812, 'test_accuracy': 0.18}, 3947.6621163999953)\n",
      "DEBUG flwr 2023-04-15 13:24:00,968 | server.py:165 | evaluate_round 24: strategy sampled 2 clients (out of 2)\n",
      "DEBUG flwr 2023-04-15 13:24:09,409 | server.py:179 | evaluate_round 24 received 2 results and 0 failures\n",
      "DEBUG flwr 2023-04-15 13:24:09,410 | server.py:215 | fit_round 25: strategy sampled 2 clients (out of 2)\n"
     ]
    },
    {
     "output_type": "stream",
     "name": "stdout",
     "text": [
      "\t {'val_loss': 4.154445171356201, 'val_accuracy': 0.15}\n"
     ]
    },
    {
     "output_type": "stream",
     "name": "stderr",
     "text": [
      "DEBUG flwr 2023-04-15 13:26:19,701 | server.py:229 | fit_round 25 received 2 results and 0 failures\n"
     ]
    },
    {
     "output_type": "stream",
     "name": "stdout",
     "text": [
      "\t {'train_loss': 2.8177133798599243, 'train_accuracy': 0.9527777777777777}\n"
     ]
    },
    {
     "output_type": "stream",
     "name": "stderr",
     "text": [
      "INFO flwr 2023-04-15 13:26:24,700 | server.py:116 | fit progress: (25, 16.867523193359375, {'test_loss': 16.867523193359375, 'test_accuracy': 0.19}, 4091.3989093000127)\n",
      "DEBUG flwr 2023-04-15 13:26:24,701 | server.py:165 | evaluate_round 25: strategy sampled 2 clients (out of 2)\n",
      "DEBUG flwr 2023-04-15 13:26:33,078 | server.py:179 | evaluate_round 25 received 2 results and 0 failures\n",
      "DEBUG flwr 2023-04-15 13:26:33,079 | server.py:215 | fit_round 26: strategy sampled 2 clients (out of 2)\n"
     ]
    },
    {
     "output_type": "stream",
     "name": "stdout",
     "text": [
      "\t {'val_loss': 4.148515462875366, 'val_accuracy': 0.15}\n"
     ]
    },
    {
     "output_type": "stream",
     "name": "stderr",
     "text": [
      "DEBUG flwr 2023-04-15 13:28:44,928 | server.py:229 | fit_round 26 received 2 results and 0 failures\n"
     ]
    },
    {
     "output_type": "stream",
     "name": "stdout",
     "text": [
      "\t {'train_loss': 2.7045609951019287, 'train_accuracy': 0.9555555555555556}\n"
     ]
    },
    {
     "output_type": "stream",
     "name": "stderr",
     "text": [
      "INFO flwr 2023-04-15 13:28:49,884 | server.py:116 | fit progress: (26, 16.79534149169922, {'test_loss': 16.79534149169922, 'test_accuracy': 0.17}, 4236.587277300016)\n",
      "DEBUG flwr 2023-04-15 13:28:49,884 | server.py:165 | evaluate_round 26: strategy sampled 2 clients (out of 2)\n",
      "DEBUG flwr 2023-04-15 13:28:58,596 | server.py:179 | evaluate_round 26 received 2 results and 0 failures\n",
      "DEBUG flwr 2023-04-15 13:28:58,597 | server.py:215 | fit_round 27: strategy sampled 2 clients (out of 2)\n"
     ]
    },
    {
     "output_type": "stream",
     "name": "stdout",
     "text": [
      "\t {'val_loss': 4.117581129074097, 'val_accuracy': 0.15}\n"
     ]
    },
    {
     "output_type": "stream",
     "name": "stderr",
     "text": [
      "DEBUG flwr 2023-04-15 13:31:12,077 | server.py:229 | fit_round 27 received 2 results and 0 failures\n"
     ]
    },
    {
     "output_type": "stream",
     "name": "stdout",
     "text": [
      "\t {'train_loss': 2.6119474172592163, 'train_accuracy': 0.9638888888888889}\n"
     ]
    },
    {
     "output_type": "stream",
     "name": "stderr",
     "text": [
      "INFO flwr 2023-04-15 13:31:17,040 | server.py:116 | fit progress: (27, 16.748706817626953, {'test_loss': 16.748706817626953, 'test_accuracy': 0.17}, 4383.747326900018)\n",
      "DEBUG flwr 2023-04-15 13:31:17,040 | server.py:165 | evaluate_round 27: strategy sampled 2 clients (out of 2)\n",
      "DEBUG flwr 2023-04-15 13:31:25,498 | server.py:179 | evaluate_round 27 received 2 results and 0 failures\n",
      "DEBUG flwr 2023-04-15 13:31:25,499 | server.py:215 | fit_round 28: strategy sampled 2 clients (out of 2)\n"
     ]
    },
    {
     "output_type": "stream",
     "name": "stdout",
     "text": [
      "\t {'val_loss': 4.095682978630066, 'val_accuracy': 0.175}\n"
     ]
    },
    {
     "output_type": "stream",
     "name": "stderr",
     "text": [
      "DEBUG flwr 2023-04-15 13:33:38,208 | server.py:229 | fit_round 28 received 2 results and 0 failures\n"
     ]
    },
    {
     "output_type": "stream",
     "name": "stdout",
     "text": [
      "\t {'train_loss': 2.5614064931869507, 'train_accuracy': 0.9694444444444444}\n"
     ]
    },
    {
     "output_type": "stream",
     "name": "stderr",
     "text": [
      "INFO flwr 2023-04-15 13:33:43,217 | server.py:116 | fit progress: (28, 16.707714080810547, {'test_loss': 16.707714080810547, 'test_accuracy': 0.19}, 4529.928302200016)\n",
      "DEBUG flwr 2023-04-15 13:33:43,218 | server.py:165 | evaluate_round 28: strategy sampled 2 clients (out of 2)\n",
      "DEBUG flwr 2023-04-15 13:33:51,772 | server.py:179 | evaluate_round 28 received 2 results and 0 failures\n",
      "DEBUG flwr 2023-04-15 13:33:51,773 | server.py:215 | fit_round 29: strategy sampled 2 clients (out of 2)\n"
     ]
    },
    {
     "output_type": "stream",
     "name": "stdout",
     "text": [
      "\t {'val_loss': 4.061887621879578, 'val_accuracy': 0.175}\n"
     ]
    },
    {
     "output_type": "stream",
     "name": "stderr",
     "text": [
      "DEBUG flwr 2023-04-15 13:36:04,450 | server.py:229 | fit_round 29 received 2 results and 0 failures\n"
     ]
    },
    {
     "output_type": "stream",
     "name": "stdout",
     "text": [
      "\t {'train_loss': 2.456430435180664, 'train_accuracy': 0.9777777777777777}\n"
     ]
    },
    {
     "output_type": "stream",
     "name": "stderr",
     "text": [
      "INFO flwr 2023-04-15 13:36:09,434 | server.py:116 | fit progress: (29, 16.683086395263672, {'test_loss': 16.683086395263672, 'test_accuracy': 0.19}, 4676.1485969000205)\n",
      "DEBUG flwr 2023-04-15 13:36:09,435 | server.py:165 | evaluate_round 29: strategy sampled 2 clients (out of 2)\n",
      "DEBUG flwr 2023-04-15 13:36:17,435 | server.py:179 | evaluate_round 29 received 2 results and 0 failures\n",
      "DEBUG flwr 2023-04-15 13:36:17,436 | server.py:215 | fit_round 30: strategy sampled 2 clients (out of 2)\n"
     ]
    },
    {
     "output_type": "stream",
     "name": "stdout",
     "text": [
      "\t {'val_loss': 4.045877933502197, 'val_accuracy': 0.175}\n"
     ]
    },
    {
     "output_type": "stream",
     "name": "stderr",
     "text": [
      "DEBUG flwr 2023-04-15 13:38:31,059 | server.py:229 | fit_round 30 received 2 results and 0 failures\n"
     ]
    },
    {
     "output_type": "stream",
     "name": "stdout",
     "text": [
      "\t {'train_loss': 2.3555240631103516, 'train_accuracy': 0.9833333333333333}\n"
     ]
    },
    {
     "output_type": "stream",
     "name": "stderr",
     "text": [
      "INFO flwr 2023-04-15 13:38:35,999 | server.py:116 | fit progress: (30, 16.631837844848633, {'test_loss': 16.631837844848633, 'test_accuracy': 0.19}, 4822.716102300008)\n",
      "DEBUG flwr 2023-04-15 13:38:35,999 | server.py:165 | evaluate_round 30: strategy sampled 2 clients (out of 2)\n",
      "DEBUG flwr 2023-04-15 13:38:44,610 | server.py:179 | evaluate_round 30 received 2 results and 0 failures\n",
      "DEBUG flwr 2023-04-15 13:38:44,611 | server.py:215 | fit_round 31: strategy sampled 2 clients (out of 2)\n"
     ]
    },
    {
     "output_type": "stream",
     "name": "stdout",
     "text": [
      "\t {'val_loss': 4.02201247215271, 'val_accuracy': 0.15}\n"
     ]
    },
    {
     "output_type": "stream",
     "name": "stderr",
     "text": [
      "DEBUG flwr 2023-04-15 13:40:57,498 | server.py:229 | fit_round 31 received 2 results and 0 failures\n"
     ]
    },
    {
     "output_type": "stream",
     "name": "stdout",
     "text": [
      "\t {'train_loss': 2.296513080596924, 'train_accuracy': 0.9888888888888889}\n"
     ]
    },
    {
     "output_type": "stream",
     "name": "stderr",
     "text": [
      "INFO flwr 2023-04-15 13:41:02,422 | server.py:116 | fit progress: (31, 16.591543197631836, {'test_loss': 16.591543197631836, 'test_accuracy': 0.22}, 4969.143414399994)\n",
      "DEBUG flwr 2023-04-15 13:41:02,423 | server.py:165 | evaluate_round 31: strategy sampled 2 clients (out of 2)\n",
      "DEBUG flwr 2023-04-15 13:41:10,913 | server.py:179 | evaluate_round 31 received 2 results and 0 failures\n",
      "DEBUG flwr 2023-04-15 13:41:10,913 | server.py:215 | fit_round 32: strategy sampled 2 clients (out of 2)\n"
     ]
    },
    {
     "output_type": "stream",
     "name": "stdout",
     "text": [
      "\t {'val_loss': 3.9924240112304688, 'val_accuracy': 0.175}\n"
     ]
    },
    {
     "output_type": "stream",
     "name": "stderr",
     "text": [
      "DEBUG flwr 2023-04-15 13:43:23,449 | server.py:229 | fit_round 32 received 2 results and 0 failures\n"
     ]
    },
    {
     "output_type": "stream",
     "name": "stdout",
     "text": [
      "\t {'train_loss': 2.1841434240341187, 'train_accuracy': 0.9916666666666667}\n"
     ]
    },
    {
     "output_type": "stream",
     "name": "stderr",
     "text": [
      "INFO flwr 2023-04-15 13:43:28,378 | server.py:116 | fit progress: (32, 16.56658935546875, {'test_loss': 16.56658935546875, 'test_accuracy': 0.17}, 5115.101966000017)\n",
      "DEBUG flwr 2023-04-15 13:43:28,379 | server.py:165 | evaluate_round 32: strategy sampled 2 clients (out of 2)\n",
      "DEBUG flwr 2023-04-15 13:43:36,761 | server.py:179 | evaluate_round 32 received 2 results and 0 failures\n",
      "DEBUG flwr 2023-04-15 13:43:36,761 | server.py:215 | fit_round 33: strategy sampled 2 clients (out of 2)\n"
     ]
    },
    {
     "output_type": "stream",
     "name": "stdout",
     "text": [
      "\t {'val_loss': 3.982072114944458, 'val_accuracy': 0.175}\n"
     ]
    },
    {
     "output_type": "stream",
     "name": "stderr",
     "text": [
      "DEBUG flwr 2023-04-15 13:45:48,807 | server.py:229 | fit_round 33 received 2 results and 0 failures\n"
     ]
    },
    {
     "output_type": "stream",
     "name": "stdout",
     "text": [
      "\t {'train_loss': 2.050696909427643, 'train_accuracy': 0.9944444444444445}\n"
     ]
    },
    {
     "output_type": "stream",
     "name": "stderr",
     "text": [
      "INFO flwr 2023-04-15 13:45:53,800 | server.py:116 | fit progress: (33, 16.527605056762695, {'test_loss': 16.527605056762695, 'test_accuracy': 0.19}, 5260.526687800011)\n",
      "DEBUG flwr 2023-04-15 13:45:53,800 | server.py:165 | evaluate_round 33: strategy sampled 2 clients (out of 2)\n",
      "DEBUG flwr 2023-04-15 13:46:02,054 | server.py:179 | evaluate_round 33 received 2 results and 0 failures\n",
      "DEBUG flwr 2023-04-15 13:46:02,055 | server.py:215 | fit_round 34: strategy sampled 2 clients (out of 2)\n"
     ]
    },
    {
     "output_type": "stream",
     "name": "stdout",
     "text": [
      "\t {'val_loss': 3.9641863107681274, 'val_accuracy': 0.175}\n"
     ]
    },
    {
     "output_type": "stream",
     "name": "stderr",
     "text": [
      "DEBUG flwr 2023-04-15 13:48:03,979 | server.py:229 | fit_round 34 received 2 results and 0 failures\n"
     ]
    },
    {
     "output_type": "stream",
     "name": "stdout",
     "text": [
      "\t {'train_loss': 1.9676571488380432, 'train_accuracy': 0.9972222222222222}\n"
     ]
    },
    {
     "output_type": "stream",
     "name": "stderr",
     "text": [
      "INFO flwr 2023-04-15 13:48:08,981 | server.py:116 | fit progress: (34, 16.494972229003906, {'test_loss': 16.494972229003906, 'test_accuracy': 0.17}, 5395.71052350002)\n",
      "DEBUG flwr 2023-04-15 13:48:08,981 | server.py:165 | evaluate_round 34: strategy sampled 2 clients (out of 2)\n",
      "DEBUG flwr 2023-04-15 13:48:15,836 | server.py:179 | evaluate_round 34 received 2 results and 0 failures\n",
      "DEBUG flwr 2023-04-15 13:48:15,837 | server.py:215 | fit_round 35: strategy sampled 2 clients (out of 2)\n"
     ]
    },
    {
     "output_type": "stream",
     "name": "stdout",
     "text": [
      "\t {'val_loss': 3.9563772678375244, 'val_accuracy': 0.175}\n"
     ]
    },
    {
     "output_type": "stream",
     "name": "stderr",
     "text": [
      "DEBUG flwr 2023-04-15 13:49:56,315 | server.py:229 | fit_round 35 received 2 results and 0 failures\n"
     ]
    },
    {
     "output_type": "stream",
     "name": "stdout",
     "text": [
      "\t {'train_loss': 1.867733359336853, 'train_accuracy': 0.9972222222222222}\n"
     ]
    },
    {
     "output_type": "stream",
     "name": "stderr",
     "text": [
      "INFO flwr 2023-04-15 13:50:01,279 | server.py:116 | fit progress: (35, 16.502822875976562, {'test_loss': 16.502822875976562, 'test_accuracy': 0.2}, 5508.010678999999)\n",
      "DEBUG flwr 2023-04-15 13:50:01,280 | server.py:165 | evaluate_round 35: strategy sampled 2 clients (out of 2)\n",
      "DEBUG flwr 2023-04-15 13:50:07,721 | server.py:179 | evaluate_round 35 received 2 results and 0 failures\n",
      "DEBUG flwr 2023-04-15 13:50:07,722 | server.py:215 | fit_round 36: strategy sampled 2 clients (out of 2)\n"
     ]
    },
    {
     "output_type": "stream",
     "name": "stdout",
     "text": [
      "\t {'val_loss': 3.946977376937866, 'val_accuracy': 0.2}\n"
     ]
    },
    {
     "output_type": "stream",
     "name": "stderr",
     "text": [
      "DEBUG flwr 2023-04-15 13:51:48,435 | server.py:229 | fit_round 36 received 2 results and 0 failures\n"
     ]
    },
    {
     "output_type": "stream",
     "name": "stdout",
     "text": [
      "\t {'train_loss': 1.765200436115265, 'train_accuracy': 0.9972222222222222}\n"
     ]
    },
    {
     "output_type": "stream",
     "name": "stderr",
     "text": [
      "INFO flwr 2023-04-15 13:51:53,421 | server.py:116 | fit progress: (36, 16.458187103271484, {'test_loss': 16.458187103271484, 'test_accuracy': 0.2}, 5620.1547262000095)\n",
      "DEBUG flwr 2023-04-15 13:51:53,421 | server.py:165 | evaluate_round 36: strategy sampled 2 clients (out of 2)\n",
      "DEBUG flwr 2023-04-15 13:51:59,960 | server.py:179 | evaluate_round 36 received 2 results and 0 failures\n",
      "DEBUG flwr 2023-04-15 13:51:59,961 | server.py:215 | fit_round 37: strategy sampled 2 clients (out of 2)\n"
     ]
    },
    {
     "output_type": "stream",
     "name": "stdout",
     "text": [
      "\t {'val_loss': 3.968942165374756, 'val_accuracy': 0.2}\n"
     ]
    },
    {
     "output_type": "stream",
     "name": "stderr",
     "text": [
      "DEBUG flwr 2023-04-15 13:53:40,610 | server.py:229 | fit_round 37 received 2 results and 0 failures\n"
     ]
    },
    {
     "output_type": "stream",
     "name": "stdout",
     "text": [
      "\t {'train_loss': 1.6708418726921082, 'train_accuracy': 0.9972222222222222}\n"
     ]
    },
    {
     "output_type": "stream",
     "name": "stderr",
     "text": [
      "INFO flwr 2023-04-15 13:53:45,646 | server.py:116 | fit progress: (37, 16.444814682006836, {'test_loss': 16.444814682006836, 'test_accuracy': 0.2}, 5732.38115500001)\n",
      "DEBUG flwr 2023-04-15 13:53:45,647 | server.py:165 | evaluate_round 37: strategy sampled 2 clients (out of 2)\n",
      "DEBUG flwr 2023-04-15 13:53:52,334 | server.py:179 | evaluate_round 37 received 2 results and 0 failures\n",
      "DEBUG flwr 2023-04-15 13:53:52,335 | server.py:215 | fit_round 38: strategy sampled 2 clients (out of 2)\n"
     ]
    },
    {
     "output_type": "stream",
     "name": "stdout",
     "text": [
      "\t {'val_loss': 3.9446908235549927, 'val_accuracy': 0.2}\n"
     ]
    },
    {
     "output_type": "stream",
     "name": "stderr",
     "text": [
      "DEBUG flwr 2023-04-15 13:55:30,953 | server.py:229 | fit_round 38 received 2 results and 0 failures\n"
     ]
    },
    {
     "output_type": "stream",
     "name": "stdout",
     "text": [
      "\t {'train_loss': 1.6048623919487, 'train_accuracy': 0.9972222222222222}\n"
     ]
    },
    {
     "output_type": "stream",
     "name": "stderr",
     "text": [
      "INFO flwr 2023-04-15 13:55:35,972 | server.py:116 | fit progress: (38, 16.317882537841797, {'test_loss': 16.317882537841797, 'test_accuracy': 0.2}, 5842.708914200019)\n",
      "DEBUG flwr 2023-04-15 13:55:35,972 | server.py:165 | evaluate_round 38: strategy sampled 2 clients (out of 2)\n",
      "DEBUG flwr 2023-04-15 13:55:42,549 | server.py:179 | evaluate_round 38 received 2 results and 0 failures\n",
      "DEBUG flwr 2023-04-15 13:55:42,550 | server.py:215 | fit_round 39: strategy sampled 2 clients (out of 2)\n"
     ]
    },
    {
     "output_type": "stream",
     "name": "stdout",
     "text": [
      "\t {'val_loss': 3.9629565477371216, 'val_accuracy': 0.2}\n"
     ]
    },
    {
     "output_type": "stream",
     "name": "stderr",
     "text": [
      "DEBUG flwr 2023-04-15 13:57:23,061 | server.py:229 | fit_round 39 received 2 results and 0 failures\n"
     ]
    },
    {
     "output_type": "stream",
     "name": "stdout",
     "text": [
      "\t {'train_loss': 1.4813464283943176, 'train_accuracy': 0.9972222222222222}\n"
     ]
    },
    {
     "output_type": "stream",
     "name": "stderr",
     "text": [
      "INFO flwr 2023-04-15 13:57:28,025 | server.py:116 | fit progress: (39, 16.34283447265625, {'test_loss': 16.34283447265625, 'test_accuracy': 0.2}, 5954.7635093000135)\n",
      "DEBUG flwr 2023-04-15 13:57:28,025 | server.py:165 | evaluate_round 39: strategy sampled 2 clients (out of 2)\n",
      "DEBUG flwr 2023-04-15 13:57:34,579 | server.py:179 | evaluate_round 39 received 2 results and 0 failures\n",
      "DEBUG flwr 2023-04-15 13:57:34,580 | server.py:215 | fit_round 40: strategy sampled 2 clients (out of 2)\n"
     ]
    },
    {
     "output_type": "stream",
     "name": "stdout",
     "text": [
      "\t {'val_loss': 3.9503047466278076, 'val_accuracy': 0.175}\n"
     ]
    },
    {
     "output_type": "stream",
     "name": "stderr",
     "text": [
      "DEBUG flwr 2023-04-15 13:59:13,963 | server.py:229 | fit_round 40 received 2 results and 0 failures\n"
     ]
    },
    {
     "output_type": "stream",
     "name": "stdout",
     "text": [
      "\t {'train_loss': 1.4251264929771423, 'train_accuracy': 0.9972222222222222}\n"
     ]
    },
    {
     "output_type": "stream",
     "name": "stderr",
     "text": [
      "INFO flwr 2023-04-15 13:59:18,992 | server.py:116 | fit progress: (40, 16.21100616455078, {'test_loss': 16.21100616455078, 'test_accuracy': 0.2}, 6065.732111899997)\n",
      "DEBUG flwr 2023-04-15 13:59:18,992 | server.py:165 | evaluate_round 40: strategy sampled 2 clients (out of 2)\n",
      "DEBUG flwr 2023-04-15 13:59:25,807 | server.py:179 | evaluate_round 40 received 2 results and 0 failures\n",
      "DEBUG flwr 2023-04-15 13:59:25,807 | server.py:215 | fit_round 41: strategy sampled 2 clients (out of 2)\n"
     ]
    },
    {
     "output_type": "stream",
     "name": "stdout",
     "text": [
      "\t {'val_loss': 3.9389262199401855, 'val_accuracy': 0.2}\n"
     ]
    },
    {
     "output_type": "stream",
     "name": "stderr",
     "text": [
      "DEBUG flwr 2023-04-15 14:01:07,402 | server.py:229 | fit_round 41 received 2 results and 0 failures\n"
     ]
    },
    {
     "output_type": "stream",
     "name": "stdout",
     "text": [
      "\t {'train_loss': 1.3112224340438843, 'train_accuracy': 0.9972222222222222}\n"
     ]
    },
    {
     "output_type": "stream",
     "name": "stderr",
     "text": [
      "INFO flwr 2023-04-15 14:01:12,412 | server.py:116 | fit progress: (41, 16.191959381103516, {'test_loss': 16.191959381103516, 'test_accuracy': 0.21}, 6179.1550080000015)\n",
      "DEBUG flwr 2023-04-15 14:01:12,413 | server.py:165 | evaluate_round 41: strategy sampled 2 clients (out of 2)\n",
      "DEBUG flwr 2023-04-15 14:01:19,400 | server.py:179 | evaluate_round 41 received 2 results and 0 failures\n",
      "DEBUG flwr 2023-04-15 14:01:19,400 | server.py:215 | fit_round 42: strategy sampled 2 clients (out of 2)\n"
     ]
    },
    {
     "output_type": "stream",
     "name": "stdout",
     "text": [
      "\t {'val_loss': 3.9330320358276367, 'val_accuracy': 0.225}\n"
     ]
    },
    {
     "output_type": "stream",
     "name": "stderr",
     "text": [
      "DEBUG flwr 2023-04-15 14:02:57,752 | server.py:229 | fit_round 42 received 2 results and 0 failures\n"
     ]
    },
    {
     "output_type": "stream",
     "name": "stdout",
     "text": [
      "\t {'train_loss': 1.21770179271698, 'train_accuracy': 0.9972222222222222}\n"
     ]
    },
    {
     "output_type": "stream",
     "name": "stderr",
     "text": [
      "INFO flwr 2023-04-15 14:03:02,756 | server.py:116 | fit progress: (42, 16.18817901611328, {'test_loss': 16.18817901611328, 'test_accuracy': 0.22}, 6289.500303800014)\n",
      "DEBUG flwr 2023-04-15 14:03:02,757 | server.py:165 | evaluate_round 42: strategy sampled 2 clients (out of 2)\n",
      "DEBUG flwr 2023-04-15 14:03:09,275 | server.py:179 | evaluate_round 42 received 2 results and 0 failures\n",
      "DEBUG flwr 2023-04-15 14:03:09,276 | server.py:215 | fit_round 43: strategy sampled 2 clients (out of 2)\n"
     ]
    },
    {
     "output_type": "stream",
     "name": "stdout",
     "text": [
      "\t {'val_loss': 3.9162768125534058, 'val_accuracy': 0.225}\n"
     ]
    },
    {
     "output_type": "stream",
     "name": "stderr",
     "text": [
      "DEBUG flwr 2023-04-15 14:04:48,046 | server.py:229 | fit_round 43 received 2 results and 0 failures\n"
     ]
    },
    {
     "output_type": "stream",
     "name": "stdout",
     "text": [
      "\t {'train_loss': 1.1698400974273682, 'train_accuracy': 0.9972222222222222}\n"
     ]
    },
    {
     "output_type": "stream",
     "name": "stderr",
     "text": [
      "INFO flwr 2023-04-15 14:04:53,058 | server.py:116 | fit progress: (43, 16.05911636352539, {'test_loss': 16.05911636352539, 'test_accuracy': 0.22}, 6399.804143999994)\n",
      "DEBUG flwr 2023-04-15 14:04:53,059 | server.py:165 | evaluate_round 43: strategy sampled 2 clients (out of 2)\n",
      "DEBUG flwr 2023-04-15 14:04:59,611 | server.py:179 | evaluate_round 43 received 2 results and 0 failures\n",
      "DEBUG flwr 2023-04-15 14:04:59,612 | server.py:215 | fit_round 44: strategy sampled 2 clients (out of 2)\n"
     ]
    },
    {
     "output_type": "stream",
     "name": "stdout",
     "text": [
      "\t {'val_loss': 3.893430233001709, 'val_accuracy': 0.225}\n"
     ]
    },
    {
     "output_type": "stream",
     "name": "stderr",
     "text": [
      "DEBUG flwr 2023-04-15 14:06:37,680 | server.py:229 | fit_round 44 received 2 results and 0 failures\n"
     ]
    },
    {
     "output_type": "stream",
     "name": "stdout",
     "text": [
      "\t {'train_loss': 1.0440643429756165, 'train_accuracy': 1.0}\n"
     ]
    },
    {
     "output_type": "stream",
     "name": "stderr",
     "text": [
      "INFO flwr 2023-04-15 14:06:42,677 | server.py:116 | fit progress: (44, 16.103681564331055, {'test_loss': 16.103681564331055, 'test_accuracy': 0.23}, 6509.424660799996)\n",
      "DEBUG flwr 2023-04-15 14:06:42,678 | server.py:165 | evaluate_round 44: strategy sampled 2 clients (out of 2)\n",
      "DEBUG flwr 2023-04-15 14:06:49,282 | server.py:179 | evaluate_round 44 received 2 results and 0 failures\n",
      "DEBUG flwr 2023-04-15 14:06:49,283 | server.py:215 | fit_round 45: strategy sampled 2 clients (out of 2)\n"
     ]
    },
    {
     "output_type": "stream",
     "name": "stdout",
     "text": [
      "\t {'val_loss': 3.89786159992218, 'val_accuracy': 0.225}\n"
     ]
    },
    {
     "output_type": "stream",
     "name": "stderr",
     "text": [
      "DEBUG flwr 2023-04-15 14:08:24,613 | server.py:229 | fit_round 45 received 2 results and 0 failures\n"
     ]
    },
    {
     "output_type": "stream",
     "name": "stdout",
     "text": [
      "\t {'train_loss': 0.9786948561668396, 'train_accuracy': 1.0}\n"
     ]
    },
    {
     "output_type": "stream",
     "name": "stderr",
     "text": [
      "INFO flwr 2023-04-15 14:08:29,628 | server.py:116 | fit progress: (45, 15.991418838500977, {'test_loss': 15.991418838500977, 'test_accuracy': 0.23}, 6616.376164400019)\n",
      "DEBUG flwr 2023-04-15 14:08:29,628 | server.py:165 | evaluate_round 45: strategy sampled 2 clients (out of 2)\n",
      "DEBUG flwr 2023-04-15 14:08:36,507 | server.py:179 | evaluate_round 45 received 2 results and 0 failures\n",
      "DEBUG flwr 2023-04-15 14:08:36,509 | server.py:215 | fit_round 46: strategy sampled 2 clients (out of 2)\n"
     ]
    },
    {
     "output_type": "stream",
     "name": "stdout",
     "text": [
      "\t {'val_loss': 3.8658512830734253, 'val_accuracy': 0.225}\n"
     ]
    },
    {
     "output_type": "stream",
     "name": "stderr",
     "text": [
      "DEBUG flwr 2023-04-15 14:10:13,238 | server.py:229 | fit_round 46 received 2 results and 0 failures\n"
     ]
    },
    {
     "output_type": "stream",
     "name": "stdout",
     "text": [
      "\t {'train_loss': 0.8837496936321259, 'train_accuracy': 1.0}\n"
     ]
    },
    {
     "output_type": "stream",
     "name": "stderr",
     "text": [
      "INFO flwr 2023-04-15 14:10:18,257 | server.py:116 | fit progress: (46, 15.99929428100586, {'test_loss': 15.99929428100586, 'test_accuracy': 0.24}, 6725.007211000018)\n",
      "DEBUG flwr 2023-04-15 14:10:18,258 | server.py:165 | evaluate_round 46: strategy sampled 2 clients (out of 2)\n",
      "DEBUG flwr 2023-04-15 14:10:24,834 | server.py:179 | evaluate_round 46 received 2 results and 0 failures\n",
      "DEBUG flwr 2023-04-15 14:10:24,835 | server.py:215 | fit_round 47: strategy sampled 2 clients (out of 2)\n"
     ]
    },
    {
     "output_type": "stream",
     "name": "stdout",
     "text": [
      "\t {'val_loss': 3.873107433319092, 'val_accuracy': 0.225}\n"
     ]
    },
    {
     "output_type": "stream",
     "name": "stderr",
     "text": [
      "DEBUG flwr 2023-04-15 14:12:00,872 | server.py:229 | fit_round 47 received 2 results and 0 failures\n"
     ]
    },
    {
     "output_type": "stream",
     "name": "stdout",
     "text": [
      "\t {'train_loss': 0.8179000616073608, 'train_accuracy': 1.0}\n"
     ]
    },
    {
     "output_type": "stream",
     "name": "stderr",
     "text": [
      "INFO flwr 2023-04-15 14:12:05,839 | server.py:116 | fit progress: (47, 15.932394981384277, {'test_loss': 15.932394981384277, 'test_accuracy': 0.24}, 6832.590158400009)\n",
      "DEBUG flwr 2023-04-15 14:12:05,840 | server.py:165 | evaluate_round 47: strategy sampled 2 clients (out of 2)\n",
      "DEBUG flwr 2023-04-15 14:12:12,434 | server.py:179 | evaluate_round 47 received 2 results and 0 failures\n",
      "DEBUG flwr 2023-04-15 14:12:12,435 | server.py:215 | fit_round 48: strategy sampled 2 clients (out of 2)\n"
     ]
    },
    {
     "output_type": "stream",
     "name": "stdout",
     "text": [
      "\t {'val_loss': 3.8521196842193604, 'val_accuracy': 0.225}\n"
     ]
    },
    {
     "output_type": "stream",
     "name": "stderr",
     "text": [
      "DEBUG flwr 2023-04-15 14:13:49,287 | server.py:229 | fit_round 48 received 2 results and 0 failures\n"
     ]
    },
    {
     "output_type": "stream",
     "name": "stdout",
     "text": [
      "\t {'train_loss': 0.7439876198768616, 'train_accuracy': 1.0}\n"
     ]
    },
    {
     "output_type": "stream",
     "name": "stderr",
     "text": [
      "INFO flwr 2023-04-15 14:13:54,337 | server.py:116 | fit progress: (48, 15.943359375, {'test_loss': 15.943359375, 'test_accuracy': 0.24}, 6941.08932270002)\n",
      "DEBUG flwr 2023-04-15 14:13:54,338 | server.py:165 | evaluate_round 48: strategy sampled 2 clients (out of 2)\n",
      "DEBUG flwr 2023-04-15 14:14:01,595 | server.py:179 | evaluate_round 48 received 2 results and 0 failures\n",
      "DEBUG flwr 2023-04-15 14:14:01,596 | server.py:215 | fit_round 49: strategy sampled 2 clients (out of 2)\n"
     ]
    },
    {
     "output_type": "stream",
     "name": "stdout",
     "text": [
      "\t {'val_loss': 3.8551818132400513, 'val_accuracy': 0.225}\n"
     ]
    },
    {
     "output_type": "stream",
     "name": "stderr",
     "text": [
      "DEBUG flwr 2023-04-15 14:15:41,230 | server.py:229 | fit_round 49 received 2 results and 0 failures\n"
     ]
    },
    {
     "output_type": "stream",
     "name": "stdout",
     "text": [
      "\t {'train_loss': 0.6711722314357758, 'train_accuracy': 1.0}\n"
     ]
    },
    {
     "output_type": "stream",
     "name": "stderr",
     "text": [
      "INFO flwr 2023-04-15 14:15:46,301 | server.py:116 | fit progress: (49, 15.91315746307373, {'test_loss': 15.91315746307373, 'test_accuracy': 0.22}, 7053.053958000004)\n",
      "DEBUG flwr 2023-04-15 14:15:46,302 | server.py:165 | evaluate_round 49: strategy sampled 2 clients (out of 2)\n",
      "DEBUG flwr 2023-04-15 14:15:53,860 | server.py:179 | evaluate_round 49 received 2 results and 0 failures\n",
      "DEBUG flwr 2023-04-15 14:15:53,860 | server.py:215 | fit_round 50: strategy sampled 2 clients (out of 2)\n"
     ]
    },
    {
     "output_type": "stream",
     "name": "stdout",
     "text": [
      "\t {'val_loss': 3.8371171951293945, 'val_accuracy': 0.225}\n"
     ]
    },
    {
     "output_type": "stream",
     "name": "stderr",
     "text": [
      "DEBUG flwr 2023-04-15 14:17:31,351 | server.py:229 | fit_round 50 received 2 results and 0 failures\n"
     ]
    },
    {
     "output_type": "stream",
     "name": "stdout",
     "text": [
      "\t {'train_loss': 0.6269914209842682, 'train_accuracy': 1.0}\n"
     ]
    },
    {
     "output_type": "stream",
     "name": "stderr",
     "text": [
      "INFO flwr 2023-04-15 14:17:36,396 | server.py:116 | fit progress: (50, 15.94258975982666, {'test_loss': 15.94258975982666, 'test_accuracy': 0.23}, 7163.15056010001)\n",
      "DEBUG flwr 2023-04-15 14:17:36,396 | server.py:165 | evaluate_round 50: strategy sampled 2 clients (out of 2)\n",
      "DEBUG flwr 2023-04-15 14:17:43,719 | server.py:179 | evaluate_round 50 received 2 results and 0 failures\n",
      "INFO flwr 2023-04-15 14:17:43,719 | server.py:144 | FL finished in 7170.4739619000175\n",
      "INFO flwr 2023-04-15 14:17:43,739 | app.py:202 | app_fit: losses_distributed [(1, 4.606508255004883), (2, 4.57668399810791), (3, 4.545699119567871), (4, 4.518794298171997), (5, 4.498483419418335), (6, 4.4792561531066895), (7, 4.459241628646851), (8, 4.442302227020264), (9, 4.407499074935913), (10, 4.373833179473877), (11, 4.369708061218262), (12, 4.357648611068726), (13, 4.324440956115723), (14, 4.305138826370239), (15, 4.298016309738159), (16, 4.290513753890991), (17, 4.2686779499053955), (18, 4.237752437591553), (19, 4.196171760559082), (20, 4.171808242797852), (21, 4.155047416687012), (22, 4.142153024673462), (23, 4.162792205810547), (24, 4.154445171356201), (25, 4.148515462875366), (26, 4.117581129074097), (27, 4.095682978630066), (28, 4.061887621879578), (29, 4.045877933502197), (30, 4.02201247215271), (31, 3.9924240112304688), (32, 3.982072114944458), (33, 3.9641863107681274), (34, 3.9563772678375244), (35, 3.946977376937866), (36, 3.968942165374756), (37, 3.9446908235549927), (38, 3.9629565477371216), (39, 3.9503047466278076), (40, 3.9389262199401855), (41, 3.9330320358276367), (42, 3.9162768125534058), (43, 3.893430233001709), (44, 3.89786159992218), (45, 3.8658512830734253), (46, 3.873107433319092), (47, 3.8521196842193604), (48, 3.8551818132400513), (49, 3.8371171951293945), (50, 3.8448020219802856)]\n",
      "INFO flwr 2023-04-15 14:17:43,740 | app.py:203 | app_fit: metrics_distributed {'val_loss': [(1, 4.606508255004883), (2, 4.57668399810791), (3, 4.545699119567871), (4, 4.518794298171997), (5, 4.498483419418335), (6, 4.4792561531066895), (7, 4.459241628646851), (8, 4.442302227020264), (9, 4.407499074935913), (10, 4.373833179473877), (11, 4.369708061218262), (12, 4.357648611068726), (13, 4.324440956115723), (14, 4.305138826370239), (15, 4.298016309738159), (16, 4.290513753890991), (17, 4.2686779499053955), (18, 4.237752437591553), (19, 4.196171760559082), (20, 4.171808242797852), (21, 4.155047416687012), (22, 4.142153024673462), (23, 4.162792205810547), (24, 4.154445171356201), (25, 4.148515462875366), (26, 4.117581129074097), (27, 4.095682978630066), (28, 4.061887621879578), (29, 4.045877933502197), (30, 4.02201247215271), (31, 3.9924240112304688), (32, 3.982072114944458), (33, 3.9641863107681274), (34, 3.9563772678375244), (35, 3.946977376937866), (36, 3.968942165374756), (37, 3.9446908235549927), (38, 3.9629565477371216), (39, 3.9503047466278076), (40, 3.9389262199401855), (41, 3.9330320358276367), (42, 3.9162768125534058), (43, 3.893430233001709), (44, 3.89786159992218), (45, 3.8658512830734253), (46, 3.873107433319092), (47, 3.8521196842193604), (48, 3.8551818132400513), (49, 3.8371171951293945), (50, 3.8448020219802856)], 'val_accuracy': [(1, 0.025), (2, 0.05), (3, 0.075), (4, 0.075), (5, 0.075), (6, 0.05), (7, 0.15), (8, 0.075), (9, 0.125), (10, 0.125), (11, 0.15), (12, 0.125), (13, 0.15), (14, 0.125), (15, 0.15), (16, 0.15), (17, 0.15), (18, 0.175), (19, 0.15), (20, 0.15), (21, 0.175), (22, 0.15), (23, 0.15), (24, 0.15), (25, 0.15), (26, 0.15), (27, 0.175), (28, 0.175), (29, 0.175), (30, 0.15), (31, 0.175), (32, 0.175), (33, 0.175), (34, 0.175), (35, 0.2), (36, 0.2), (37, 0.2), (38, 0.2), (39, 0.175), (40, 0.2), (41, 0.225), (42, 0.225), (43, 0.225), (44, 0.225), (45, 0.225), (46, 0.225), (47, 0.225), (48, 0.225), (49, 0.225), (50, 0.225)]}\n",
      "INFO flwr 2023-04-15 14:17:43,741 | app.py:204 | app_fit: losses_centralized [(0, 18.483186721801758), (1, 18.40736961364746), (2, 18.28927230834961), (3, 18.231216430664062), (4, 18.14561653137207), (5, 18.128963470458984), (6, 17.97453498840332), (7, 17.960491180419922), (8, 17.788768768310547), (9, 17.798818588256836), (10, 17.76022720336914), (11, 17.715282440185547), (12, 17.626237869262695), (13, 17.599468231201172), (14, 17.524734497070312), (15, 17.435054779052734), (16, 17.368759155273438), (17, 17.332691192626953), (18, 17.300384521484375), (19, 17.232006072998047), (20, 17.171899795532227), (21, 17.12981414794922), (22, 17.075529098510742), (23, 17.020362854003906), (24, 16.951126098632812), (25, 16.867523193359375), (26, 16.79534149169922), (27, 16.748706817626953), (28, 16.707714080810547), (29, 16.683086395263672), (30, 16.631837844848633), (31, 16.591543197631836), (32, 16.56658935546875), (33, 16.527605056762695), (34, 16.494972229003906), (35, 16.502822875976562), (36, 16.458187103271484), (37, 16.444814682006836), (38, 16.317882537841797), (39, 16.34283447265625), (40, 16.21100616455078), (41, 16.191959381103516), (42, 16.18817901611328), (43, 16.05911636352539), (44, 16.103681564331055), (45, 15.991418838500977), (46, 15.99929428100586), (47, 15.932394981384277), (48, 15.943359375), (49, 15.91315746307373), (50, 15.94258975982666)]\n",
      "INFO flwr 2023-04-15 14:17:43,742 | app.py:205 | app_fit: metrics_centralized {'test_loss': [(0, 18.483186721801758), (1, 18.40736961364746), (2, 18.28927230834961), (3, 18.231216430664062), (4, 18.14561653137207), (5, 18.128963470458984), (6, 17.97453498840332), (7, 17.960491180419922), (8, 17.788768768310547), (9, 17.798818588256836), (10, 17.76022720336914), (11, 17.715282440185547), (12, 17.626237869262695), (13, 17.599468231201172), (14, 17.524734497070312), (15, 17.435054779052734), (16, 17.368759155273438), (17, 17.332691192626953), (18, 17.300384521484375), (19, 17.232006072998047), (20, 17.171899795532227), (21, 17.12981414794922), (22, 17.075529098510742), (23, 17.020362854003906), (24, 16.951126098632812), (25, 16.867523193359375), (26, 16.79534149169922), (27, 16.748706817626953), (28, 16.707714080810547), (29, 16.683086395263672), (30, 16.631837844848633), (31, 16.591543197631836), (32, 16.56658935546875), (33, 16.527605056762695), (34, 16.494972229003906), (35, 16.502822875976562), (36, 16.458187103271484), (37, 16.444814682006836), (38, 16.317882537841797), (39, 16.34283447265625), (40, 16.21100616455078), (41, 16.191959381103516), (42, 16.18817901611328), (43, 16.05911636352539), (44, 16.103681564331055), (45, 15.991418838500977), (46, 15.99929428100586), (47, 15.932394981384277), (48, 15.943359375), (49, 15.91315746307373), (50, 15.94258975982666)], 'test_accuracy': [(0, 0.0), (1, 0.04), (2, 0.06), (3, 0.06), (4, 0.07), (5, 0.1), (6, 0.1), (7, 0.11), (8, 0.1), (9, 0.11), (10, 0.12), (11, 0.14), (12, 0.12), (13, 0.14), (14, 0.13), (15, 0.14), (16, 0.13), (17, 0.13), (18, 0.15), (19, 0.14), (20, 0.14), (21, 0.15), (22, 0.15), (23, 0.17), (24, 0.18), (25, 0.19), (26, 0.17), (27, 0.17), (28, 0.19), (29, 0.19), (30, 0.19), (31, 0.22), (32, 0.17), (33, 0.19), (34, 0.17), (35, 0.2), (36, 0.2), (37, 0.2), (38, 0.2), (39, 0.2), (40, 0.2), (41, 0.21), (42, 0.22), (43, 0.22), (44, 0.23), (45, 0.23), (46, 0.24), (47, 0.24), (48, 0.24), (49, 0.22), (50, 0.23)]}\n"
     ]
    },
    {
     "output_type": "stream",
     "name": "stdout",
     "text": [
      "\t {'val_loss': 3.8448020219802856, 'val_accuracy': 0.225}\n"
     ]
    },
    {
     "output_type": "execute_result",
     "data": {
      "text/plain": [
       "History (loss, distributed):\n",
       "\tround 1: 4.606508255004883\n",
       "\tround 2: 4.57668399810791\n",
       "\tround 3: 4.545699119567871\n",
       "\tround 4: 4.518794298171997\n",
       "\tround 5: 4.498483419418335\n",
       "\tround 6: 4.4792561531066895\n",
       "\tround 7: 4.459241628646851\n",
       "\tround 8: 4.442302227020264\n",
       "\tround 9: 4.407499074935913\n",
       "\tround 10: 4.373833179473877\n",
       "\tround 11: 4.369708061218262\n",
       "\tround 12: 4.357648611068726\n",
       "\tround 13: 4.324440956115723\n",
       "\tround 14: 4.305138826370239\n",
       "\tround 15: 4.298016309738159\n",
       "\tround 16: 4.290513753890991\n",
       "\tround 17: 4.2686779499053955\n",
       "\tround 18: 4.237752437591553\n",
       "\tround 19: 4.196171760559082\n",
       "\tround 20: 4.171808242797852\n",
       "\tround 21: 4.155047416687012\n",
       "\tround 22: 4.142153024673462\n",
       "\tround 23: 4.162792205810547\n",
       "\tround 24: 4.154445171356201\n",
       "\tround 25: 4.148515462875366\n",
       "\tround 26: 4.117581129074097\n",
       "\tround 27: 4.095682978630066\n",
       "\tround 28: 4.061887621879578\n",
       "\tround 29: 4.045877933502197\n",
       "\tround 30: 4.02201247215271\n",
       "\tround 31: 3.9924240112304688\n",
       "\tround 32: 3.982072114944458\n",
       "\tround 33: 3.9641863107681274\n",
       "\tround 34: 3.9563772678375244\n",
       "\tround 35: 3.946977376937866\n",
       "\tround 36: 3.968942165374756\n",
       "\tround 37: 3.9446908235549927\n",
       "\tround 38: 3.9629565477371216\n",
       "\tround 39: 3.9503047466278076\n",
       "\tround 40: 3.9389262199401855\n",
       "\tround 41: 3.9330320358276367\n",
       "\tround 42: 3.9162768125534058\n",
       "\tround 43: 3.893430233001709\n",
       "\tround 44: 3.89786159992218\n",
       "\tround 45: 3.8658512830734253\n",
       "\tround 46: 3.873107433319092\n",
       "\tround 47: 3.8521196842193604\n",
       "\tround 48: 3.8551818132400513\n",
       "\tround 49: 3.8371171951293945\n",
       "\tround 50: 3.8448020219802856\n",
       "History (loss, centralized):\n",
       "\tround 0: 18.483186721801758\n",
       "\tround 1: 18.40736961364746\n",
       "\tround 2: 18.28927230834961\n",
       "\tround 3: 18.231216430664062\n",
       "\tround 4: 18.14561653137207\n",
       "\tround 5: 18.128963470458984\n",
       "\tround 6: 17.97453498840332\n",
       "\tround 7: 17.960491180419922\n",
       "\tround 8: 17.788768768310547\n",
       "\tround 9: 17.798818588256836\n",
       "\tround 10: 17.76022720336914\n",
       "\tround 11: 17.715282440185547\n",
       "\tround 12: 17.626237869262695\n",
       "\tround 13: 17.599468231201172\n",
       "\tround 14: 17.524734497070312\n",
       "\tround 15: 17.435054779052734\n",
       "\tround 16: 17.368759155273438\n",
       "\tround 17: 17.332691192626953\n",
       "\tround 18: 17.300384521484375\n",
       "\tround 19: 17.232006072998047\n",
       "\tround 20: 17.171899795532227\n",
       "\tround 21: 17.12981414794922\n",
       "\tround 22: 17.075529098510742\n",
       "\tround 23: 17.020362854003906\n",
       "\tround 24: 16.951126098632812\n",
       "\tround 25: 16.867523193359375\n",
       "\tround 26: 16.79534149169922\n",
       "\tround 27: 16.748706817626953\n",
       "\tround 28: 16.707714080810547\n",
       "\tround 29: 16.683086395263672\n",
       "\tround 30: 16.631837844848633\n",
       "\tround 31: 16.591543197631836\n",
       "\tround 32: 16.56658935546875\n",
       "\tround 33: 16.527605056762695\n",
       "\tround 34: 16.494972229003906\n",
       "\tround 35: 16.502822875976562\n",
       "\tround 36: 16.458187103271484\n",
       "\tround 37: 16.444814682006836\n",
       "\tround 38: 16.317882537841797\n",
       "\tround 39: 16.34283447265625\n",
       "\tround 40: 16.21100616455078\n",
       "\tround 41: 16.191959381103516\n",
       "\tround 42: 16.18817901611328\n",
       "\tround 43: 16.05911636352539\n",
       "\tround 44: 16.103681564331055\n",
       "\tround 45: 15.991418838500977\n",
       "\tround 46: 15.99929428100586\n",
       "\tround 47: 15.932394981384277\n",
       "\tround 48: 15.943359375\n",
       "\tround 49: 15.91315746307373\n",
       "\tround 50: 15.94258975982666\n",
       "History (metrics, distributed):\n",
       "{'val_loss': [(1, 4.606508255004883), (2, 4.57668399810791), (3, 4.545699119567871), (4, 4.518794298171997), (5, 4.498483419418335), (6, 4.4792561531066895), (7, 4.459241628646851), (8, 4.442302227020264), (9, 4.407499074935913), (10, 4.373833179473877), (11, 4.369708061218262), (12, 4.357648611068726), (13, 4.324440956115723), (14, 4.305138826370239), (15, 4.298016309738159), (16, 4.290513753890991), (17, 4.2686779499053955), (18, 4.237752437591553), (19, 4.196171760559082), (20, 4.171808242797852), (21, 4.155047416687012), (22, 4.142153024673462), (23, 4.162792205810547), (24, 4.154445171356201), (25, 4.148515462875366), (26, 4.117581129074097), (27, 4.095682978630066), (28, 4.061887621879578), (29, 4.045877933502197), (30, 4.02201247215271), (31, 3.9924240112304688), (32, 3.982072114944458), (33, 3.9641863107681274), (34, 3.9563772678375244), (35, 3.946977376937866), (36, 3.968942165374756), (37, 3.9446908235549927), (38, 3.9629565477371216), (39, 3.9503047466278076), (40, 3.9389262199401855), (41, 3.9330320358276367), (42, 3.9162768125534058), (43, 3.893430233001709), (44, 3.89786159992218), (45, 3.8658512830734253), (46, 3.873107433319092), (47, 3.8521196842193604), (48, 3.8551818132400513), (49, 3.8371171951293945), (50, 3.8448020219802856)], 'val_accuracy': [(1, 0.025), (2, 0.05), (3, 0.075), (4, 0.075), (5, 0.075), (6, 0.05), (7, 0.15), (8, 0.075), (9, 0.125), (10, 0.125), (11, 0.15), (12, 0.125), (13, 0.15), (14, 0.125), (15, 0.15), (16, 0.15), (17, 0.15), (18, 0.175), (19, 0.15), (20, 0.15), (21, 0.175), (22, 0.15), (23, 0.15), (24, 0.15), (25, 0.15), (26, 0.15), (27, 0.175), (28, 0.175), (29, 0.175), (30, 0.15), (31, 0.175), (32, 0.175), (33, 0.175), (34, 0.175), (35, 0.2), (36, 0.2), (37, 0.2), (38, 0.2), (39, 0.175), (40, 0.2), (41, 0.225), (42, 0.225), (43, 0.225), (44, 0.225), (45, 0.225), (46, 0.225), (47, 0.225), (48, 0.225), (49, 0.225), (50, 0.225)]}History (metrics, centralized):\n",
       "{'test_loss': [(0, 18.483186721801758), (1, 18.40736961364746), (2, 18.28927230834961), (3, 18.231216430664062), (4, 18.14561653137207), (5, 18.128963470458984), (6, 17.97453498840332), (7, 17.960491180419922), (8, 17.788768768310547), (9, 17.798818588256836), (10, 17.76022720336914), (11, 17.715282440185547), (12, 17.626237869262695), (13, 17.599468231201172), (14, 17.524734497070312), (15, 17.435054779052734), (16, 17.368759155273438), (17, 17.332691192626953), (18, 17.300384521484375), (19, 17.232006072998047), (20, 17.171899795532227), (21, 17.12981414794922), (22, 17.075529098510742), (23, 17.020362854003906), (24, 16.951126098632812), (25, 16.867523193359375), (26, 16.79534149169922), (27, 16.748706817626953), (28, 16.707714080810547), (29, 16.683086395263672), (30, 16.631837844848633), (31, 16.591543197631836), (32, 16.56658935546875), (33, 16.527605056762695), (34, 16.494972229003906), (35, 16.502822875976562), (36, 16.458187103271484), (37, 16.444814682006836), (38, 16.317882537841797), (39, 16.34283447265625), (40, 16.21100616455078), (41, 16.191959381103516), (42, 16.18817901611328), (43, 16.05911636352539), (44, 16.103681564331055), (45, 15.991418838500977), (46, 15.99929428100586), (47, 15.932394981384277), (48, 15.943359375), (49, 15.91315746307373), (50, 15.94258975982666)], 'test_accuracy': [(0, 0.0), (1, 0.04), (2, 0.06), (3, 0.06), (4, 0.07), (5, 0.1), (6, 0.1), (7, 0.11), (8, 0.1), (9, 0.11), (10, 0.12), (11, 0.14), (12, 0.12), (13, 0.14), (14, 0.13), (15, 0.14), (16, 0.13), (17, 0.13), (18, 0.15), (19, 0.14), (20, 0.14), (21, 0.15), (22, 0.15), (23, 0.17), (24, 0.18), (25, 0.19), (26, 0.17), (27, 0.17), (28, 0.19), (29, 0.19), (30, 0.19), (31, 0.22), (32, 0.17), (33, 0.19), (34, 0.17), (35, 0.2), (36, 0.2), (37, 0.2), (38, 0.2), (39, 0.2), (40, 0.2), (41, 0.21), (42, 0.22), (43, 0.22), (44, 0.23), (45, 0.23), (46, 0.24), (47, 0.24), (48, 0.24), (49, 0.22), (50, 0.23)]}"
      ]
     },
     "metadata": {},
     "execution_count": 7
    }
   ],
   "metadata": {}
  }
 ],
 "nbformat": 4,
 "nbformat_minor": 2,
 "metadata": {
  "language_info": {
   "codemirror_mode": {
    "name": "ipython",
    "version": 3
   },
   "file_extension": ".py",
   "mimetype": "text/x-python",
   "name": "python",
   "nbconvert_exporter": "python",
   "pygments_lexer": "ipython3",
   "version": 3
  },
  "orig_nbformat": 4
 }
}