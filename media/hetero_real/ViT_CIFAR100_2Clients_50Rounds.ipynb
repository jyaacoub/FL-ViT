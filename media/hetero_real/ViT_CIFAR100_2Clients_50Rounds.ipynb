{
 "cells": [
  {
   "cell_type": "code",
   "execution_count": 1,
   "source": [
    "from typing import Dict\n",
    "import flwr as fl\n",
    "\n",
    "from flower_helpers import (create_model, get_weights, test, \n",
    "                            load_data, load_stored_tff)\n",
    "from config import  (NUM_ROUNDS, SERVER_ADDRESS, TRAIN_SIZE, VAL_PORTION, \n",
    "                    TEST_SIZE, BATCH_SIZE, LEARNING_RATE, \n",
    "                    EPOCHS, FRAC_FIT, FRAC_EVAL, MIN_FIT,\n",
    "                    MIN_EVAL, MIN_AVAIL, FIT_CONFIG_FN,\n",
    "                    NUM_CLIENTS, CLIENT_RESOURCES, NON_IID,\n",
    "                    RAY_ARGS, NUM_CLASSES, TFF_DATA_DIR, \n",
    "                    MODEL_NAME, PRE_TRAINED, DOUBLE_TRAIN)\n",
    "from client import FlowerClient"
   ],
   "outputs": [],
   "metadata": {}
  },
  {
   "cell_type": "code",
   "execution_count": 2,
   "source": [
    "if NON_IID:\n",
    "    # non-iid dataset from tff (train and test are already split)\n",
    "    trainloaders, valloaders, testloader = load_stored_tff(TFF_DATA_DIR, \n",
    "                                                           BATCH_SIZE,\n",
    "                                                           DOUBLE_TRAIN)\n",
    "else:\n",
    "    # iid dataset from huggingface\n",
    "    trainloaders, valloaders, testloader = load_data(MODEL_NAME, TEST_SIZE, \n",
    "                                                    TRAIN_SIZE, VAL_PORTION, \n",
    "                                                    BATCH_SIZE, NUM_CLIENTS, \n",
    "                                                    NUM_CLASSES)"
   ],
   "outputs": [
    {
     "output_type": "stream",
     "name": "stderr",
     "text": [
      "Found cached dataset cifar100 (C:/Users/Jean/.cache/huggingface/datasets/cifar100/cifar100/1.0.0/f365c8b725c23e8f0f8d725c3641234d9331cd2f62919d1381d1baa5b3ba3142)\n"
     ]
    },
    {
     "output_type": "display_data",
     "data": {
      "application/vnd.jupyter.widget-view+json": {
       "version_major": 2,
       "version_minor": 0,
       "model_id": "0629726eeb374c2e8019306682a02ecc"
      },
      "text/plain": [
       "  0%|          | 0/2 [00:00<?, ?it/s]"
      ]
     },
     "metadata": {}
    },
    {
     "output_type": "stream",
     "name": "stderr",
     "text": [
      "Loading cached shuffled indices for dataset at C:\\Users\\Jean\\.cache\\huggingface\\datasets\\cifar100\\cifar100\\1.0.0\\f365c8b725c23e8f0f8d725c3641234d9331cd2f62919d1381d1baa5b3ba3142\\cache-fa578d015bc4721c.arrow\n",
      "Loading cached shuffled indices for dataset at C:\\Users\\Jean\\.cache\\huggingface\\datasets\\cifar100\\cifar100\\1.0.0\\f365c8b725c23e8f0f8d725c3641234d9331cd2f62919d1381d1baa5b3ba3142\\cache-ebaa3534d5b9a71d.arrow\n"
     ]
    },
    {
     "output_type": "display_data",
     "data": {
      "application/vnd.jupyter.widget-view+json": {
       "version_major": 2,
       "version_minor": 0,
       "model_id": "e8dac9f4261d4610b91f58a8d9135ea1"
      },
      "text/plain": [
       "Map:   0%|          | 0/1000 [00:00<?, ? examples/s]"
      ]
     },
     "metadata": {}
    },
    {
     "output_type": "display_data",
     "data": {
      "application/vnd.jupyter.widget-view+json": {
       "version_major": 2,
       "version_minor": 0,
       "model_id": "635922f4787c4b848ca25e337190ac01"
      },
      "text/plain": [
       "Map:   0%|          | 0/100 [00:00<?, ? examples/s]"
      ]
     },
     "metadata": {}
    }
   ],
   "metadata": {}
  },
  {
   "cell_type": "code",
   "execution_count": 3,
   "source": [
    "net = create_model(MODEL_NAME, NUM_CLASSES, PRE_TRAINED)\n",
    "init_weights = get_weights(net)\n",
    "MODEL_CONFIG = net.config\n",
    "# Convert the weights (np.ndarray) to parameters (bytes)\n",
    "init_param = fl.common.ndarrays_to_parameters(init_weights)\n",
    "# del the net as we don't need it anymore\n",
    "del net"
   ],
   "outputs": [],
   "metadata": {}
  },
  {
   "cell_type": "code",
   "execution_count": 4,
   "source": [
    "# server side evaluation function\n",
    "def evaluate(server_round: int, params: fl.common.NDArrays,\n",
    "             config: Dict[str, fl.common.Scalar]):\n",
    "    data_size, metrics = test(MODEL_CONFIG, params, testloader)\n",
    "    # changing the name of the metric to avoid confusion\n",
    "    metrics['test_loss'] = metrics.pop('loss')\n",
    "    metrics['test_accuracy'] = metrics.pop('accuracy')\n",
    "    return metrics['test_loss'], metrics\n",
    "\n",
    "def weighted_average_eval(metrics):\n",
    "    weighted_train_loss = 0\n",
    "    weighted_train_accuracy = 0\n",
    "    for c in metrics: # c is a tuple (num_examples, metrics) for each client\n",
    "        weighted_train_loss += c[0] * c[1]['val_loss']\n",
    "        weighted_train_accuracy += c[0] * c[1]['val_accuracy']\n",
    "    \n",
    "    aggregated_metrics = {'val_loss': weighted_train_loss / sum([c[0] for c in metrics]),\n",
    "            'val_accuracy': weighted_train_accuracy / sum([c[0] for c in metrics])}\n",
    "    print('\\t',aggregated_metrics)\n",
    "    return aggregated_metrics\n",
    "\n",
    "def weighted_average_fit(metrics):\n",
    "    # print(metrics)\n",
    "    weighted_train_loss = 0\n",
    "    weighted_train_accuracy = 0\n",
    "    for c in metrics: # c is a tuple (num_examples, metrics) for each client\n",
    "        # metrics for each epoch is included, we only need the last one\n",
    "        weighted_train_loss += c[0] * c[1]['train_loss']\n",
    "        weighted_train_accuracy += c[0] * c[1]['train_accuracy']\n",
    "    \n",
    "    aggregated_metrics = {'train_loss': weighted_train_loss / sum([c[0] for c in metrics]),\n",
    "            'train_accuracy': weighted_train_accuracy / sum([c[0] for c in metrics])}\n",
    "    print('\\t',aggregated_metrics)\n",
    "    return aggregated_metrics"
   ],
   "outputs": [],
   "metadata": {}
  },
  {
   "cell_type": "code",
   "execution_count": 5,
   "source": [
    "strategy = fl.server.strategy.FedAvg(\n",
    "    fraction_fit=FRAC_FIT,\n",
    "    fraction_evaluate=FRAC_EVAL,\n",
    "    min_fit_clients=MIN_FIT,\n",
    "    min_evaluate_clients=MIN_EVAL,\n",
    "    min_available_clients=MIN_AVAIL,\n",
    "    \n",
    "    fit_metrics_aggregation_fn=weighted_average_fit,\n",
    "    evaluate_metrics_aggregation_fn=weighted_average_eval,\n",
    "    evaluate_fn=evaluate,\n",
    "    on_fit_config_fn=FIT_CONFIG_FN,\n",
    "    \n",
    "    initial_parameters=init_param,\n",
    ")"
   ],
   "outputs": [],
   "metadata": {}
  },
  {
   "cell_type": "code",
   "execution_count": 6,
   "source": [
    "print('num clients:', NUM_CLIENTS)\n",
    "print('num rounds:', NUM_ROUNDS)\n",
    "print('--'*20)\n",
    "print('client training set size:', [len(t.dataset) for t in trainloaders])\n",
    "print('client validation set size:', [len(v.dataset) for v in valloaders])\n",
    "print('test set size:', len(testloader.dataset))\n",
    "print('--'*20)\n",
    "print('model name:', MODEL_NAME)\n",
    "print('num classes:', NUM_CLASSES)\n",
    "print('pre-trained:', PRE_TRAINED)\n",
    "print('learning rate:', LEARNING_RATE)\n",
    "print('batch size:', BATCH_SIZE)\n",
    "print('epochs:', EPOCHS)"
   ],
   "outputs": [
    {
     "output_type": "stream",
     "name": "stdout",
     "text": [
      "num clients: 5\n",
      "num rounds: 50\n",
      "----------------------------------------\n",
      "client training set size: [180, 180, 180, 180, 180]\n",
      "client validation set size: [20, 20, 20, 20, 20]\n",
      "test set size: 100\n",
      "----------------------------------------\n",
      "model name: google/vit-base-patch16-224\n",
      "num classes: 100\n",
      "pre-trained: True\n",
      "learning rate: 0.0001\n",
      "batch size: 32\n",
      "epochs: 1\n"
     ]
    }
   ],
   "metadata": {}
  },
  {
   "cell_type": "code",
   "execution_count": 7,
   "source": [
    "fl.server.start_server(server_address=SERVER_ADDRESS, \n",
    "                       config=fl.server.ServerConfig(num_rounds=NUM_ROUNDS), \n",
    "                       strategy=strategy)"
   ],
   "outputs": [
    {
     "output_type": "stream",
     "name": "stderr",
     "text": [
      "INFO flwr 2023-04-15 17:17:13,987 | app.py:139 | Starting Flower server, config: ServerConfig(num_rounds=50, round_timeout=None)\n",
      "INFO flwr 2023-04-15 17:17:14,025 | app.py:152 | Flower ECE: gRPC server running (50 rounds), SSL is disabled\n",
      "INFO flwr 2023-04-15 17:17:14,026 | server.py:86 | Initializing global parameters\n",
      "INFO flwr 2023-04-15 17:17:14,027 | server.py:266 | Using initial parameters provided by strategy\n",
      "INFO flwr 2023-04-15 17:17:14,028 | server.py:88 | Evaluating initial parameters\n",
      "INFO flwr 2023-04-15 17:17:35,400 | server.py:91 | initial parameters (loss, other metrics): 19.52888298034668, {'test_loss': 19.52888298034668, 'test_accuracy': 0.0}\n",
      "INFO flwr 2023-04-15 17:17:35,401 | server.py:101 | FL starting\n",
      "DEBUG flwr 2023-04-15 17:17:51,783 | server.py:215 | fit_round 1: strategy sampled 2 clients (out of 2)\n",
      "DEBUG flwr 2023-04-15 17:21:01,681 | server.py:229 | fit_round 1 received 2 results and 0 failures\n"
     ]
    },
    {
     "output_type": "stream",
     "name": "stdout",
     "text": [
      "\t {'train_loss': 4.369683265686035, 'train_accuracy': 0.025}\n"
     ]
    },
    {
     "output_type": "stream",
     "name": "stderr",
     "text": [
      "INFO flwr 2023-04-15 17:21:11,422 | server.py:116 | fit progress: (1, 18.33440589904785, {'test_loss': 18.33440589904785, 'test_accuracy': 0.0}, 216.02059110000846)\n",
      "DEBUG flwr 2023-04-15 17:21:11,423 | server.py:165 | evaluate_round 1: strategy sampled 2 clients (out of 2)\n",
      "DEBUG flwr 2023-04-15 17:21:30,189 | server.py:179 | evaluate_round 1 received 2 results and 0 failures\n",
      "DEBUG flwr 2023-04-15 17:21:30,189 | server.py:215 | fit_round 2: strategy sampled 2 clients (out of 2)\n"
     ]
    },
    {
     "output_type": "stream",
     "name": "stdout",
     "text": [
      "\t {'val_loss': 4.651551723480225, 'val_accuracy': 0.025}\n"
     ]
    },
    {
     "output_type": "stream",
     "name": "stderr",
     "text": [
      "DEBUG flwr 2023-04-15 17:24:47,738 | server.py:229 | fit_round 2 received 2 results and 0 failures\n"
     ]
    },
    {
     "output_type": "stream",
     "name": "stdout",
     "text": [
      "\t {'train_loss': 3.950276732444763, 'train_accuracy': 0.26666666666666666}\n"
     ]
    },
    {
     "output_type": "stream",
     "name": "stderr",
     "text": [
      "INFO flwr 2023-04-15 17:24:57,787 | server.py:116 | fit progress: (2, 17.58190155029297, {'test_loss': 17.58190155029297, 'test_accuracy': 0.04}, 442.3853194999974)\n",
      "DEBUG flwr 2023-04-15 17:24:57,788 | server.py:165 | evaluate_round 2: strategy sampled 2 clients (out of 2)\n",
      "DEBUG flwr 2023-04-15 17:25:27,002 | server.py:179 | evaluate_round 2 received 2 results and 0 failures\n",
      "DEBUG flwr 2023-04-15 17:25:27,003 | server.py:215 | fit_round 3: strategy sampled 2 clients (out of 2)\n"
     ]
    },
    {
     "output_type": "stream",
     "name": "stdout",
     "text": [
      "\t {'val_loss': 4.481055974960327, 'val_accuracy': 0.075}\n"
     ]
    },
    {
     "output_type": "stream",
     "name": "stderr",
     "text": [
      "DEBUG flwr 2023-04-15 17:29:19,595 | server.py:229 | fit_round 3 received 2 results and 0 failures\n"
     ]
    },
    {
     "output_type": "stream",
     "name": "stdout",
     "text": [
      "\t {'train_loss': 3.5925320386886597, 'train_accuracy': 0.5944444444444444}\n"
     ]
    },
    {
     "output_type": "stream",
     "name": "stderr",
     "text": [
      "INFO flwr 2023-04-15 17:29:29,471 | server.py:116 | fit progress: (3, 16.73241424560547, {'test_loss': 16.73241424560547, 'test_accuracy': 0.12}, 714.0697276999999)\n",
      "DEBUG flwr 2023-04-15 17:29:29,472 | server.py:165 | evaluate_round 3: strategy sampled 2 clients (out of 2)\n",
      "DEBUG flwr 2023-04-15 17:29:48,945 | server.py:179 | evaluate_round 3 received 2 results and 0 failures\n",
      "DEBUG flwr 2023-04-15 17:29:48,945 | server.py:215 | fit_round 4: strategy sampled 2 clients (out of 2)\n"
     ]
    },
    {
     "output_type": "stream",
     "name": "stdout",
     "text": [
      "\t {'val_loss': 4.362421035766602, 'val_accuracy': 0.125}\n"
     ]
    },
    {
     "output_type": "stream",
     "name": "stderr",
     "text": [
      "DEBUG flwr 2023-04-15 17:33:32,307 | server.py:229 | fit_round 4 received 2 results and 0 failures\n"
     ]
    },
    {
     "output_type": "stream",
     "name": "stdout",
     "text": [
      "\t {'train_loss': 3.1973876953125, 'train_accuracy': 0.775}\n"
     ]
    },
    {
     "output_type": "stream",
     "name": "stderr",
     "text": [
      "INFO flwr 2023-04-15 17:33:42,153 | server.py:116 | fit progress: (4, 15.976250648498535, {'test_loss': 15.976250648498535, 'test_accuracy': 0.15}, 966.7522145000112)\n",
      "DEBUG flwr 2023-04-15 17:33:42,154 | server.py:165 | evaluate_round 4: strategy sampled 2 clients (out of 2)\n",
      "DEBUG flwr 2023-04-15 17:34:11,863 | server.py:179 | evaluate_round 4 received 2 results and 0 failures\n",
      "DEBUG flwr 2023-04-15 17:34:11,863 | server.py:215 | fit_round 5: strategy sampled 2 clients (out of 2)\n"
     ]
    },
    {
     "output_type": "stream",
     "name": "stdout",
     "text": [
      "\t {'val_loss': 4.2336366176605225, 'val_accuracy': 0.175}\n"
     ]
    },
    {
     "output_type": "stream",
     "name": "stderr",
     "text": [
      "DEBUG flwr 2023-04-15 17:37:57,538 | server.py:229 | fit_round 5 received 2 results and 0 failures\n"
     ]
    },
    {
     "output_type": "stream",
     "name": "stdout",
     "text": [
      "\t {'train_loss': 2.7743672132492065, 'train_accuracy': 0.8833333333333333}\n"
     ]
    },
    {
     "output_type": "stream",
     "name": "stderr",
     "text": [
      "INFO flwr 2023-04-15 17:38:07,337 | server.py:116 | fit progress: (5, 15.026412963867188, {'test_loss': 15.026412963867188, 'test_accuracy': 0.17}, 1231.9358838000044)\n",
      "DEBUG flwr 2023-04-15 17:38:07,338 | server.py:165 | evaluate_round 5: strategy sampled 2 clients (out of 2)\n",
      "DEBUG flwr 2023-04-15 17:38:25,590 | server.py:179 | evaluate_round 5 received 2 results and 0 failures\n",
      "DEBUG flwr 2023-04-15 17:38:25,590 | server.py:215 | fit_round 6: strategy sampled 2 clients (out of 2)\n"
     ]
    },
    {
     "output_type": "stream",
     "name": "stdout",
     "text": [
      "\t {'val_loss': 4.055148363113403, 'val_accuracy': 0.275}\n"
     ]
    },
    {
     "output_type": "stream",
     "name": "stderr",
     "text": [
      "DEBUG flwr 2023-04-15 17:42:50,534 | server.py:229 | fit_round 6 received 2 results and 0 failures\n"
     ]
    },
    {
     "output_type": "stream",
     "name": "stdout",
     "text": [
      "\t {'train_loss': 2.3615020513534546, 'train_accuracy': 0.9305555555555556}\n"
     ]
    },
    {
     "output_type": "stream",
     "name": "stderr",
     "text": [
      "INFO flwr 2023-04-15 17:43:00,334 | server.py:116 | fit progress: (6, 14.596921920776367, {'test_loss': 14.596921920776367, 'test_accuracy': 0.22}, 1524.9334742999927)\n",
      "DEBUG flwr 2023-04-15 17:43:00,335 | server.py:165 | evaluate_round 6: strategy sampled 2 clients (out of 2)\n",
      "DEBUG flwr 2023-04-15 17:43:19,650 | server.py:179 | evaluate_round 6 received 2 results and 0 failures\n",
      "DEBUG flwr 2023-04-15 17:43:19,651 | server.py:215 | fit_round 7: strategy sampled 2 clients (out of 2)\n"
     ]
    },
    {
     "output_type": "stream",
     "name": "stdout",
     "text": [
      "\t {'val_loss': 4.009121775627136, 'val_accuracy': 0.25}\n"
     ]
    },
    {
     "output_type": "stream",
     "name": "stderr",
     "text": [
      "DEBUG flwr 2023-04-15 17:46:53,017 | server.py:229 | fit_round 7 received 2 results and 0 failures\n"
     ]
    },
    {
     "output_type": "stream",
     "name": "stdout",
     "text": [
      "\t {'train_loss': 1.9969969391822815, 'train_accuracy': 0.9666666666666667}\n"
     ]
    },
    {
     "output_type": "stream",
     "name": "stderr",
     "text": [
      "INFO flwr 2023-04-15 17:47:02,906 | server.py:116 | fit progress: (7, 14.242612838745117, {'test_loss': 14.242612838745117, 'test_accuracy': 0.29}, 1767.5048909999896)\n",
      "DEBUG flwr 2023-04-15 17:47:02,906 | server.py:165 | evaluate_round 7: strategy sampled 2 clients (out of 2)\n",
      "DEBUG flwr 2023-04-15 17:47:32,511 | server.py:179 | evaluate_round 7 received 2 results and 0 failures\n",
      "DEBUG flwr 2023-04-15 17:47:32,512 | server.py:215 | fit_round 8: strategy sampled 2 clients (out of 2)\n"
     ]
    },
    {
     "output_type": "stream",
     "name": "stdout",
     "text": [
      "\t {'val_loss': 3.954677700996399, 'val_accuracy': 0.175}\n"
     ]
    },
    {
     "output_type": "stream",
     "name": "stderr",
     "text": [
      "DEBUG flwr 2023-04-15 17:51:36,715 | server.py:229 | fit_round 8 received 2 results and 0 failures\n"
     ]
    },
    {
     "output_type": "stream",
     "name": "stdout",
     "text": [
      "\t {'train_loss': 1.6033337712287903, 'train_accuracy': 0.9833333333333333}\n"
     ]
    },
    {
     "output_type": "stream",
     "name": "stderr",
     "text": [
      "INFO flwr 2023-04-15 17:51:59,324 | server.py:116 | fit progress: (8, 13.689775466918945, {'test_loss': 13.689775466918945, 'test_accuracy': 0.27}, 2063.9230548999913)\n",
      "DEBUG flwr 2023-04-15 17:51:59,325 | server.py:165 | evaluate_round 8: strategy sampled 2 clients (out of 2)\n",
      "DEBUG flwr 2023-04-15 17:52:17,560 | server.py:179 | evaluate_round 8 received 2 results and 0 failures\n",
      "DEBUG flwr 2023-04-15 17:52:17,561 | server.py:215 | fit_round 9: strategy sampled 2 clients (out of 2)\n"
     ]
    },
    {
     "output_type": "stream",
     "name": "stdout",
     "text": [
      "\t {'val_loss': 3.8307955265045166, 'val_accuracy': 0.25}\n"
     ]
    },
    {
     "output_type": "stream",
     "name": "stderr",
     "text": [
      "DEBUG flwr 2023-04-15 17:55:47,480 | server.py:229 | fit_round 9 received 2 results and 0 failures\n"
     ]
    },
    {
     "output_type": "stream",
     "name": "stdout",
     "text": [
      "\t {'train_loss': 1.2977076172828674, 'train_accuracy': 0.9944444444444445}\n"
     ]
    },
    {
     "output_type": "stream",
     "name": "stderr",
     "text": [
      "INFO flwr 2023-04-15 17:56:08,923 | server.py:116 | fit progress: (9, 13.121591567993164, {'test_loss': 13.121591567993164, 'test_accuracy': 0.3}, 2313.5218668000016)\n",
      "DEBUG flwr 2023-04-15 17:56:08,924 | server.py:165 | evaluate_round 9: strategy sampled 2 clients (out of 2)\n",
      "DEBUG flwr 2023-04-15 17:56:34,885 | server.py:179 | evaluate_round 9 received 2 results and 0 failures\n",
      "DEBUG flwr 2023-04-15 17:56:34,889 | server.py:215 | fit_round 10: strategy sampled 2 clients (out of 2)\n"
     ]
    },
    {
     "output_type": "stream",
     "name": "stdout",
     "text": [
      "\t {'val_loss': 3.757102608680725, 'val_accuracy': 0.25}\n"
     ]
    },
    {
     "output_type": "stream",
     "name": "stderr",
     "text": [
      "DEBUG flwr 2023-04-15 18:00:20,207 | server.py:229 | fit_round 10 received 2 results and 0 failures\n"
     ]
    },
    {
     "output_type": "stream",
     "name": "stdout",
     "text": [
      "\t {'train_loss': 0.9907267391681671, 'train_accuracy': 0.9972222222222222}\n"
     ]
    },
    {
     "output_type": "stream",
     "name": "stderr",
     "text": [
      "INFO flwr 2023-04-15 18:00:42,444 | server.py:116 | fit progress: (10, 12.742844581604004, {'test_loss': 12.742844581604004, 'test_accuracy': 0.32}, 2587.0427767999936)\n",
      "DEBUG flwr 2023-04-15 18:00:42,445 | server.py:165 | evaluate_round 10: strategy sampled 2 clients (out of 2)\n",
      "DEBUG flwr 2023-04-15 18:01:02,229 | server.py:179 | evaluate_round 10 received 2 results and 0 failures\n",
      "DEBUG flwr 2023-04-15 18:01:02,230 | server.py:215 | fit_round 11: strategy sampled 2 clients (out of 2)\n"
     ]
    },
    {
     "output_type": "stream",
     "name": "stdout",
     "text": [
      "\t {'val_loss': 3.7171268463134766, 'val_accuracy': 0.3}\n"
     ]
    },
    {
     "output_type": "stream",
     "name": "stderr",
     "text": [
      "DEBUG flwr 2023-04-15 18:04:32,631 | server.py:229 | fit_round 11 received 2 results and 0 failures\n"
     ]
    },
    {
     "output_type": "stream",
     "name": "stdout",
     "text": [
      "\t {'train_loss': 0.7097536623477936, 'train_accuracy': 1.0}\n"
     ]
    },
    {
     "output_type": "stream",
     "name": "stderr",
     "text": [
      "INFO flwr 2023-04-15 18:04:42,347 | server.py:116 | fit progress: (11, 12.489171981811523, {'test_loss': 12.489171981811523, 'test_accuracy': 0.32}, 2826.9465377999877)\n",
      "DEBUG flwr 2023-04-15 18:04:42,348 | server.py:165 | evaluate_round 11: strategy sampled 2 clients (out of 2)\n",
      "DEBUG flwr 2023-04-15 18:05:10,031 | server.py:179 | evaluate_round 11 received 2 results and 0 failures\n",
      "DEBUG flwr 2023-04-15 18:05:10,032 | server.py:215 | fit_round 12: strategy sampled 2 clients (out of 2)\n"
     ]
    },
    {
     "output_type": "stream",
     "name": "stdout",
     "text": [
      "\t {'val_loss': 3.6587166786193848, 'val_accuracy': 0.325}\n"
     ]
    },
    {
     "output_type": "stream",
     "name": "stderr",
     "text": [
      "DEBUG flwr 2023-04-15 18:09:00,169 | server.py:229 | fit_round 12 received 2 results and 0 failures\n"
     ]
    },
    {
     "output_type": "stream",
     "name": "stdout",
     "text": [
      "\t {'train_loss': 0.5100739598274231, 'train_accuracy': 1.0}\n"
     ]
    },
    {
     "output_type": "stream",
     "name": "stderr",
     "text": [
      "INFO flwr 2023-04-15 18:09:09,936 | server.py:116 | fit progress: (12, 12.210344314575195, {'test_loss': 12.210344314575195, 'test_accuracy': 0.37}, 3094.5353767999914)\n",
      "DEBUG flwr 2023-04-15 18:09:09,937 | server.py:165 | evaluate_round 12: strategy sampled 2 clients (out of 2)\n",
      "DEBUG flwr 2023-04-15 18:09:30,579 | server.py:179 | evaluate_round 12 received 2 results and 0 failures\n",
      "DEBUG flwr 2023-04-15 18:09:30,580 | server.py:215 | fit_round 13: strategy sampled 2 clients (out of 2)\n"
     ]
    },
    {
     "output_type": "stream",
     "name": "stdout",
     "text": [
      "\t {'val_loss': 3.5828269720077515, 'val_accuracy': 0.325}\n"
     ]
    },
    {
     "output_type": "stream",
     "name": "stderr",
     "text": [
      "DEBUG flwr 2023-04-15 18:13:21,785 | server.py:229 | fit_round 13 received 2 results and 0 failures\n"
     ]
    },
    {
     "output_type": "stream",
     "name": "stdout",
     "text": [
      "\t {'train_loss': 0.4042748808860779, 'train_accuracy': 1.0}\n"
     ]
    },
    {
     "output_type": "stream",
     "name": "stderr",
     "text": [
      "INFO flwr 2023-04-15 18:13:31,555 | server.py:116 | fit progress: (13, 12.156168937683105, {'test_loss': 12.156168937683105, 'test_accuracy': 0.38}, 3356.15485620001)\n",
      "DEBUG flwr 2023-04-15 18:13:31,556 | server.py:165 | evaluate_round 13: strategy sampled 2 clients (out of 2)\n",
      "DEBUG flwr 2023-04-15 18:13:51,607 | server.py:179 | evaluate_round 13 received 2 results and 0 failures\n",
      "DEBUG flwr 2023-04-15 18:13:51,608 | server.py:215 | fit_round 14: strategy sampled 2 clients (out of 2)\n"
     ]
    },
    {
     "output_type": "stream",
     "name": "stdout",
     "text": [
      "\t {'val_loss': 3.496229410171509, 'val_accuracy': 0.325}\n"
     ]
    },
    {
     "output_type": "stream",
     "name": "stderr",
     "text": [
      "DEBUG flwr 2023-04-15 18:17:34,214 | server.py:229 | fit_round 14 received 2 results and 0 failures\n"
     ]
    },
    {
     "output_type": "stream",
     "name": "stdout",
     "text": [
      "\t {'train_loss': 0.28059113025665283, 'train_accuracy': 1.0}\n"
     ]
    },
    {
     "output_type": "stream",
     "name": "stderr",
     "text": [
      "INFO flwr 2023-04-15 18:17:43,986 | server.py:116 | fit progress: (14, 11.76867389678955, {'test_loss': 11.76867389678955, 'test_accuracy': 0.38}, 3608.584926600015)\n",
      "DEBUG flwr 2023-04-15 18:17:43,987 | server.py:165 | evaluate_round 14: strategy sampled 2 clients (out of 2)\n",
      "DEBUG flwr 2023-04-15 18:18:03,383 | server.py:179 | evaluate_round 14 received 2 results and 0 failures\n",
      "DEBUG flwr 2023-04-15 18:18:03,384 | server.py:215 | fit_round 15: strategy sampled 2 clients (out of 2)\n"
     ]
    },
    {
     "output_type": "stream",
     "name": "stdout",
     "text": [
      "\t {'val_loss': 3.470556616783142, 'val_accuracy': 0.3}\n"
     ]
    },
    {
     "output_type": "stream",
     "name": "stderr",
     "text": [
      "DEBUG flwr 2023-04-15 18:21:49,575 | server.py:229 | fit_round 15 received 2 results and 0 failures\n"
     ]
    },
    {
     "output_type": "stream",
     "name": "stdout",
     "text": [
      "\t {'train_loss': 0.18596961349248886, 'train_accuracy': 1.0}\n"
     ]
    },
    {
     "output_type": "stream",
     "name": "stderr",
     "text": [
      "INFO flwr 2023-04-15 18:21:59,344 | server.py:116 | fit progress: (15, 11.473559379577637, {'test_loss': 11.473559379577637, 'test_accuracy': 0.4}, 3863.9428457999893)\n",
      "DEBUG flwr 2023-04-15 18:21:59,345 | server.py:165 | evaluate_round 15: strategy sampled 2 clients (out of 2)\n",
      "DEBUG flwr 2023-04-15 18:22:19,019 | server.py:179 | evaluate_round 15 received 2 results and 0 failures\n",
      "DEBUG flwr 2023-04-15 18:22:19,019 | server.py:215 | fit_round 16: strategy sampled 2 clients (out of 2)\n"
     ]
    },
    {
     "output_type": "stream",
     "name": "stdout",
     "text": [
      "\t {'val_loss': 3.4126806259155273, 'val_accuracy': 0.3}\n"
     ]
    },
    {
     "output_type": "stream",
     "name": "stderr",
     "text": [
      "DEBUG flwr 2023-04-15 18:26:03,373 | server.py:229 | fit_round 16 received 2 results and 0 failures\n"
     ]
    },
    {
     "output_type": "stream",
     "name": "stdout",
     "text": [
      "\t {'train_loss': 0.12491312250494957, 'train_accuracy': 1.0}\n"
     ]
    },
    {
     "output_type": "stream",
     "name": "stderr",
     "text": [
      "INFO flwr 2023-04-15 18:26:13,080 | server.py:116 | fit progress: (16, 11.298410415649414, {'test_loss': 11.298410415649414, 'test_accuracy': 0.43}, 4117.6795783000125)\n",
      "DEBUG flwr 2023-04-15 18:26:13,081 | server.py:165 | evaluate_round 16: strategy sampled 2 clients (out of 2)\n",
      "DEBUG flwr 2023-04-15 18:26:31,612 | server.py:179 | evaluate_round 16 received 2 results and 0 failures\n",
      "DEBUG flwr 2023-04-15 18:26:31,613 | server.py:215 | fit_round 17: strategy sampled 2 clients (out of 2)\n"
     ]
    },
    {
     "output_type": "stream",
     "name": "stdout",
     "text": [
      "\t {'val_loss': 3.375787138938904, 'val_accuracy': 0.325}\n"
     ]
    },
    {
     "output_type": "stream",
     "name": "stderr",
     "text": [
      "DEBUG flwr 2023-04-15 18:30:02,453 | server.py:229 | fit_round 17 received 2 results and 0 failures\n"
     ]
    },
    {
     "output_type": "stream",
     "name": "stdout",
     "text": [
      "\t {'train_loss': 0.07896208390593529, 'train_accuracy': 1.0}\n"
     ]
    },
    {
     "output_type": "stream",
     "name": "stderr",
     "text": [
      "INFO flwr 2023-04-15 18:30:12,193 | server.py:116 | fit progress: (17, 11.055187225341797, {'test_loss': 11.055187225341797, 'test_accuracy': 0.42}, 4356.791772500001)\n",
      "DEBUG flwr 2023-04-15 18:30:12,194 | server.py:165 | evaluate_round 17: strategy sampled 2 clients (out of 2)\n",
      "DEBUG flwr 2023-04-15 18:30:30,858 | server.py:179 | evaluate_round 17 received 2 results and 0 failures\n",
      "DEBUG flwr 2023-04-15 18:30:30,859 | server.py:215 | fit_round 18: strategy sampled 2 clients (out of 2)\n"
     ]
    },
    {
     "output_type": "stream",
     "name": "stdout",
     "text": [
      "\t {'val_loss': 3.3697344064712524, 'val_accuracy': 0.375}\n"
     ]
    },
    {
     "output_type": "stream",
     "name": "stderr",
     "text": [
      "DEBUG flwr 2023-04-15 18:34:20,950 | server.py:229 | fit_round 18 received 2 results and 0 failures\n"
     ]
    },
    {
     "output_type": "stream",
     "name": "stdout",
     "text": [
      "\t {'train_loss': 0.05617093667387962, 'train_accuracy': 1.0}\n"
     ]
    },
    {
     "output_type": "stream",
     "name": "stderr",
     "text": [
      "INFO flwr 2023-04-15 18:34:30,796 | server.py:116 | fit progress: (18, 10.875259399414062, {'test_loss': 10.875259399414062, 'test_accuracy': 0.43}, 4615.395070099999)\n",
      "DEBUG flwr 2023-04-15 18:34:30,796 | server.py:165 | evaluate_round 18: strategy sampled 2 clients (out of 2)\n",
      "DEBUG flwr 2023-04-15 18:34:51,689 | server.py:179 | evaluate_round 18 received 2 results and 0 failures\n",
      "DEBUG flwr 2023-04-15 18:34:51,690 | server.py:215 | fit_round 19: strategy sampled 2 clients (out of 2)\n"
     ]
    },
    {
     "output_type": "stream",
     "name": "stdout",
     "text": [
      "\t {'val_loss': 3.3565053939819336, 'val_accuracy': 0.35}\n"
     ]
    },
    {
     "output_type": "stream",
     "name": "stderr",
     "text": [
      "DEBUG flwr 2023-04-15 18:38:27,793 | server.py:229 | fit_round 19 received 2 results and 0 failures\n"
     ]
    },
    {
     "output_type": "stream",
     "name": "stdout",
     "text": [
      "\t {'train_loss': 0.04000452905893326, 'train_accuracy': 1.0}\n"
     ]
    },
    {
     "output_type": "stream",
     "name": "stderr",
     "text": [
      "INFO flwr 2023-04-15 18:38:37,481 | server.py:116 | fit progress: (19, 10.863929748535156, {'test_loss': 10.863929748535156, 'test_accuracy': 0.46}, 4862.080421299994)\n",
      "DEBUG flwr 2023-04-15 18:38:37,482 | server.py:165 | evaluate_round 19: strategy sampled 2 clients (out of 2)\n",
      "DEBUG flwr 2023-04-15 18:38:56,428 | server.py:179 | evaluate_round 19 received 2 results and 0 failures\n",
      "DEBUG flwr 2023-04-15 18:38:56,429 | server.py:215 | fit_round 20: strategy sampled 2 clients (out of 2)\n"
     ]
    },
    {
     "output_type": "stream",
     "name": "stdout",
     "text": [
      "\t {'val_loss': 3.3768781423568726, 'val_accuracy': 0.325}\n"
     ]
    },
    {
     "output_type": "stream",
     "name": "stderr",
     "text": [
      "DEBUG flwr 2023-04-15 18:42:51,117 | server.py:229 | fit_round 20 received 2 results and 0 failures\n"
     ]
    },
    {
     "output_type": "stream",
     "name": "stdout",
     "text": [
      "\t {'train_loss': 0.021605432964861393, 'train_accuracy': 1.0}\n"
     ]
    },
    {
     "output_type": "stream",
     "name": "stderr",
     "text": [
      "INFO flwr 2023-04-15 18:43:00,837 | server.py:116 | fit progress: (20, 10.674957275390625, {'test_loss': 10.674957275390625, 'test_accuracy': 0.46}, 5125.436363399989)\n",
      "DEBUG flwr 2023-04-15 18:43:00,838 | server.py:165 | evaluate_round 20: strategy sampled 2 clients (out of 2)\n",
      "DEBUG flwr 2023-04-15 18:43:20,876 | server.py:179 | evaluate_round 20 received 2 results and 0 failures\n",
      "DEBUG flwr 2023-04-15 18:43:20,877 | server.py:215 | fit_round 21: strategy sampled 2 clients (out of 2)\n"
     ]
    },
    {
     "output_type": "stream",
     "name": "stdout",
     "text": [
      "\t {'val_loss': 3.306207060813904, 'val_accuracy': 0.3}\n"
     ]
    },
    {
     "output_type": "stream",
     "name": "stderr",
     "text": [
      "DEBUG flwr 2023-04-15 18:46:48,568 | server.py:229 | fit_round 21 received 2 results and 0 failures\n"
     ]
    },
    {
     "output_type": "stream",
     "name": "stdout",
     "text": [
      "\t {'train_loss': 0.015890827868133783, 'train_accuracy': 1.0}\n"
     ]
    },
    {
     "output_type": "stream",
     "name": "stderr",
     "text": [
      "INFO flwr 2023-04-15 18:46:58,389 | server.py:116 | fit progress: (21, 10.482118606567383, {'test_loss': 10.482118606567383, 'test_accuracy': 0.44}, 5362.988575399999)\n",
      "DEBUG flwr 2023-04-15 18:46:58,389 | server.py:165 | evaluate_round 21: strategy sampled 2 clients (out of 2)\n",
      "DEBUG flwr 2023-04-15 18:47:22,941 | server.py:179 | evaluate_round 21 received 2 results and 0 failures\n",
      "DEBUG flwr 2023-04-15 18:47:22,941 | server.py:215 | fit_round 22: strategy sampled 2 clients (out of 2)\n"
     ]
    },
    {
     "output_type": "stream",
     "name": "stdout",
     "text": [
      "\t {'val_loss': 3.3139429092407227, 'val_accuracy': 0.325}\n"
     ]
    },
    {
     "output_type": "stream",
     "name": "stderr",
     "text": [
      "DEBUG flwr 2023-04-15 18:51:16,750 | server.py:229 | fit_round 22 received 2 results and 0 failures\n"
     ]
    },
    {
     "output_type": "stream",
     "name": "stdout",
     "text": [
      "\t {'train_loss': 0.010798607487231493, 'train_accuracy': 1.0}\n"
     ]
    },
    {
     "output_type": "stream",
     "name": "stderr",
     "text": [
      "INFO flwr 2023-04-15 18:51:26,473 | server.py:116 | fit progress: (22, 10.461750030517578, {'test_loss': 10.461750030517578, 'test_accuracy': 0.47}, 5631.072439100011)\n",
      "DEBUG flwr 2023-04-15 18:51:26,473 | server.py:165 | evaluate_round 22: strategy sampled 2 clients (out of 2)\n",
      "DEBUG flwr 2023-04-15 18:51:45,842 | server.py:179 | evaluate_round 22 received 2 results and 0 failures\n",
      "DEBUG flwr 2023-04-15 18:51:45,843 | server.py:215 | fit_round 23: strategy sampled 2 clients (out of 2)\n"
     ]
    },
    {
     "output_type": "stream",
     "name": "stdout",
     "text": [
      "\t {'val_loss': 3.2789942026138306, 'val_accuracy': 0.325}\n"
     ]
    },
    {
     "output_type": "stream",
     "name": "stderr",
     "text": [
      "DEBUG flwr 2023-04-15 18:55:52,360 | server.py:229 | fit_round 23 received 2 results and 0 failures\n"
     ]
    },
    {
     "output_type": "stream",
     "name": "stdout",
     "text": [
      "\t {'train_loss': 0.008497079368680716, 'train_accuracy': 1.0}\n"
     ]
    },
    {
     "output_type": "stream",
     "name": "stderr",
     "text": [
      "INFO flwr 2023-04-15 18:56:02,198 | server.py:116 | fit progress: (23, 10.371923446655273, {'test_loss': 10.371923446655273, 'test_accuracy': 0.47}, 5906.796823400015)\n",
      "DEBUG flwr 2023-04-15 18:56:02,199 | server.py:165 | evaluate_round 23: strategy sampled 2 clients (out of 2)\n",
      "DEBUG flwr 2023-04-15 18:56:22,662 | server.py:179 | evaluate_round 23 received 2 results and 0 failures\n",
      "DEBUG flwr 2023-04-15 18:56:22,662 | server.py:215 | fit_round 24: strategy sampled 2 clients (out of 2)\n"
     ]
    },
    {
     "output_type": "stream",
     "name": "stdout",
     "text": [
      "\t {'val_loss': 3.2633821964263916, 'val_accuracy': 0.35}\n"
     ]
    },
    {
     "output_type": "stream",
     "name": "stderr",
     "text": [
      "DEBUG flwr 2023-04-15 19:00:07,861 | server.py:229 | fit_round 24 received 2 results and 0 failures\n"
     ]
    },
    {
     "output_type": "stream",
     "name": "stdout",
     "text": [
      "\t {'train_loss': 0.005672262981534004, 'train_accuracy': 1.0}\n"
     ]
    },
    {
     "output_type": "stream",
     "name": "stderr",
     "text": [
      "INFO flwr 2023-04-15 19:00:17,754 | server.py:116 | fit progress: (24, 10.292166709899902, {'test_loss': 10.292166709899902, 'test_accuracy': 0.45}, 6162.3541879999975)\n",
      "DEBUG flwr 2023-04-15 19:00:17,755 | server.py:165 | evaluate_round 24: strategy sampled 2 clients (out of 2)\n",
      "DEBUG flwr 2023-04-15 19:00:35,803 | server.py:179 | evaluate_round 24 received 2 results and 0 failures\n",
      "DEBUG flwr 2023-04-15 19:00:35,804 | server.py:215 | fit_round 25: strategy sampled 2 clients (out of 2)\n"
     ]
    },
    {
     "output_type": "stream",
     "name": "stdout",
     "text": [
      "\t {'val_loss': 3.225769877433777, 'val_accuracy': 0.325}\n"
     ]
    },
    {
     "output_type": "stream",
     "name": "stderr",
     "text": [
      "DEBUG flwr 2023-04-15 19:04:45,689 | server.py:229 | fit_round 25 received 2 results and 0 failures\n"
     ]
    },
    {
     "output_type": "stream",
     "name": "stdout",
     "text": [
      "\t {'train_loss': 0.004152359790168703, 'train_accuracy': 1.0}\n"
     ]
    },
    {
     "output_type": "stream",
     "name": "stderr",
     "text": [
      "INFO flwr 2023-04-15 19:04:55,443 | server.py:116 | fit progress: (25, 10.236499786376953, {'test_loss': 10.236499786376953, 'test_accuracy': 0.47}, 6440.042961400002)\n",
      "DEBUG flwr 2023-04-15 19:04:55,444 | server.py:165 | evaluate_round 25: strategy sampled 2 clients (out of 2)\n",
      "DEBUG flwr 2023-04-15 19:05:13,863 | server.py:179 | evaluate_round 25 received 2 results and 0 failures\n",
      "DEBUG flwr 2023-04-15 19:05:13,864 | server.py:215 | fit_round 26: strategy sampled 2 clients (out of 2)\n"
     ]
    },
    {
     "output_type": "stream",
     "name": "stdout",
     "text": [
      "\t {'val_loss': 3.187385082244873, 'val_accuracy': 0.35}\n"
     ]
    },
    {
     "output_type": "stream",
     "name": "stderr",
     "text": [
      "DEBUG flwr 2023-04-15 19:08:55,310 | server.py:229 | fit_round 26 received 2 results and 0 failures\n"
     ]
    },
    {
     "output_type": "stream",
     "name": "stdout",
     "text": [
      "\t {'train_loss': 0.0030914386734366417, 'train_accuracy': 1.0}\n"
     ]
    },
    {
     "output_type": "stream",
     "name": "stderr",
     "text": [
      "INFO flwr 2023-04-15 19:09:05,053 | server.py:116 | fit progress: (26, 10.275102615356445, {'test_loss': 10.275102615356445, 'test_accuracy': 0.48}, 6689.652212000015)\n",
      "DEBUG flwr 2023-04-15 19:09:05,053 | server.py:165 | evaluate_round 26: strategy sampled 2 clients (out of 2)\n",
      "DEBUG flwr 2023-04-15 19:09:24,719 | server.py:179 | evaluate_round 26 received 2 results and 0 failures\n",
      "DEBUG flwr 2023-04-15 19:09:24,719 | server.py:215 | fit_round 27: strategy sampled 2 clients (out of 2)\n"
     ]
    },
    {
     "output_type": "stream",
     "name": "stdout",
     "text": [
      "\t {'val_loss': 3.1927536725997925, 'val_accuracy': 0.325}\n"
     ]
    },
    {
     "output_type": "stream",
     "name": "stderr",
     "text": [
      "DEBUG flwr 2023-04-15 19:13:26,368 | server.py:229 | fit_round 27 received 2 results and 0 failures\n"
     ]
    },
    {
     "output_type": "stream",
     "name": "stdout",
     "text": [
      "\t {'train_loss': 0.0024361995747312903, 'train_accuracy': 1.0}\n"
     ]
    },
    {
     "output_type": "stream",
     "name": "stderr",
     "text": [
      "INFO flwr 2023-04-15 19:13:36,131 | server.py:116 | fit progress: (27, 10.173851013183594, {'test_loss': 10.173851013183594, 'test_accuracy': 0.45}, 6960.730996099999)\n",
      "DEBUG flwr 2023-04-15 19:13:36,132 | server.py:165 | evaluate_round 27: strategy sampled 2 clients (out of 2)\n",
      "DEBUG flwr 2023-04-15 19:13:53,983 | server.py:179 | evaluate_round 27 received 2 results and 0 failures\n",
      "DEBUG flwr 2023-04-15 19:13:53,984 | server.py:215 | fit_round 28: strategy sampled 2 clients (out of 2)\n"
     ]
    },
    {
     "output_type": "stream",
     "name": "stdout",
     "text": [
      "\t {'val_loss': 3.191200613975525, 'val_accuracy': 0.375}\n"
     ]
    },
    {
     "output_type": "stream",
     "name": "stderr",
     "text": [
      "DEBUG flwr 2023-04-15 19:17:38,701 | server.py:229 | fit_round 28 received 2 results and 0 failures\n"
     ]
    },
    {
     "output_type": "stream",
     "name": "stdout",
     "text": [
      "\t {'train_loss': 0.0017867926508188248, 'train_accuracy': 1.0}\n"
     ]
    },
    {
     "output_type": "stream",
     "name": "stderr",
     "text": [
      "INFO flwr 2023-04-15 19:17:48,391 | server.py:116 | fit progress: (28, 10.176445007324219, {'test_loss': 10.176445007324219, 'test_accuracy': 0.46}, 7212.99122950001)\n",
      "DEBUG flwr 2023-04-15 19:17:48,392 | server.py:165 | evaluate_round 28: strategy sampled 2 clients (out of 2)\n",
      "DEBUG flwr 2023-04-15 19:18:07,618 | server.py:179 | evaluate_round 28 received 2 results and 0 failures\n",
      "DEBUG flwr 2023-04-15 19:18:07,618 | server.py:215 | fit_round 29: strategy sampled 2 clients (out of 2)\n"
     ]
    },
    {
     "output_type": "stream",
     "name": "stdout",
     "text": [
      "\t {'val_loss': 3.174075961112976, 'val_accuracy': 0.35}\n"
     ]
    },
    {
     "output_type": "stream",
     "name": "stderr",
     "text": [
      "DEBUG flwr 2023-04-15 19:22:06,243 | server.py:229 | fit_round 29 received 2 results and 0 failures\n"
     ]
    },
    {
     "output_type": "stream",
     "name": "stdout",
     "text": [
      "\t {'train_loss': 0.0013443506904877722, 'train_accuracy': 1.0}\n"
     ]
    },
    {
     "output_type": "stream",
     "name": "stderr",
     "text": [
      "INFO flwr 2023-04-15 19:22:15,971 | server.py:116 | fit progress: (29, 9.971357345581055, {'test_loss': 9.971357345581055, 'test_accuracy': 0.45}, 7480.570019100007)\n",
      "DEBUG flwr 2023-04-15 19:22:15,971 | server.py:165 | evaluate_round 29: strategy sampled 2 clients (out of 2)\n",
      "DEBUG flwr 2023-04-15 19:22:34,157 | server.py:179 | evaluate_round 29 received 2 results and 0 failures\n",
      "DEBUG flwr 2023-04-15 19:22:34,157 | server.py:215 | fit_round 30: strategy sampled 2 clients (out of 2)\n"
     ]
    },
    {
     "output_type": "stream",
     "name": "stdout",
     "text": [
      "\t {'val_loss': 3.129457116127014, 'val_accuracy': 0.375}\n"
     ]
    },
    {
     "output_type": "stream",
     "name": "stderr",
     "text": [
      "DEBUG flwr 2023-04-15 19:26:24,545 | server.py:229 | fit_round 30 received 2 results and 0 failures\n"
     ]
    },
    {
     "output_type": "stream",
     "name": "stdout",
     "text": [
      "\t {'train_loss': 0.000950652378378436, 'train_accuracy': 1.0}\n"
     ]
    },
    {
     "output_type": "stream",
     "name": "stderr",
     "text": [
      "INFO flwr 2023-04-15 19:26:34,286 | server.py:116 | fit progress: (30, 10.08089828491211, {'test_loss': 10.08089828491211, 'test_accuracy': 0.45}, 7738.8853974000085)\n",
      "DEBUG flwr 2023-04-15 19:26:34,286 | server.py:165 | evaluate_round 30: strategy sampled 2 clients (out of 2)\n",
      "DEBUG flwr 2023-04-15 19:26:52,640 | server.py:179 | evaluate_round 30 received 2 results and 0 failures\n",
      "DEBUG flwr 2023-04-15 19:26:52,640 | server.py:215 | fit_round 31: strategy sampled 2 clients (out of 2)\n"
     ]
    },
    {
     "output_type": "stream",
     "name": "stdout",
     "text": [
      "\t {'val_loss': 3.0924837589263916, 'val_accuracy': 0.375}\n"
     ]
    },
    {
     "output_type": "stream",
     "name": "stderr",
     "text": [
      "DEBUG flwr 2023-04-15 19:30:46,959 | server.py:229 | fit_round 31 received 2 results and 0 failures\n"
     ]
    },
    {
     "output_type": "stream",
     "name": "stdout",
     "text": [
      "\t {'train_loss': 0.000717033602995798, 'train_accuracy': 1.0}\n"
     ]
    },
    {
     "output_type": "stream",
     "name": "stderr",
     "text": [
      "INFO flwr 2023-04-15 19:30:56,725 | server.py:116 | fit progress: (31, 10.002913475036621, {'test_loss': 10.002913475036621, 'test_accuracy': 0.45}, 8001.324594000005)\n",
      "DEBUG flwr 2023-04-15 19:30:56,726 | server.py:165 | evaluate_round 31: strategy sampled 2 clients (out of 2)\n",
      "DEBUG flwr 2023-04-15 19:31:15,430 | server.py:179 | evaluate_round 31 received 2 results and 0 failures\n",
      "DEBUG flwr 2023-04-15 19:31:15,431 | server.py:215 | fit_round 32: strategy sampled 2 clients (out of 2)\n"
     ]
    },
    {
     "output_type": "stream",
     "name": "stdout",
     "text": [
      "\t {'val_loss': 3.097269654273987, 'val_accuracy': 0.375}\n"
     ]
    },
    {
     "output_type": "stream",
     "name": "stderr",
     "text": [
      "DEBUG flwr 2023-04-15 19:35:00,719 | server.py:229 | fit_round 32 received 2 results and 0 failures\n"
     ]
    },
    {
     "output_type": "stream",
     "name": "stdout",
     "text": [
      "\t {'train_loss': 0.0006122596678324044, 'train_accuracy': 1.0}\n"
     ]
    },
    {
     "output_type": "stream",
     "name": "stderr",
     "text": [
      "INFO flwr 2023-04-15 19:35:10,516 | server.py:116 | fit progress: (32, 9.875076293945312, {'test_loss': 9.875076293945312, 'test_accuracy': 0.45}, 8255.115740500012)\n",
      "DEBUG flwr 2023-04-15 19:35:10,517 | server.py:165 | evaluate_round 32: strategy sampled 2 clients (out of 2)\n",
      "DEBUG flwr 2023-04-15 19:35:29,037 | server.py:179 | evaluate_round 32 received 2 results and 0 failures\n",
      "DEBUG flwr 2023-04-15 19:35:29,037 | server.py:215 | fit_round 33: strategy sampled 2 clients (out of 2)\n"
     ]
    },
    {
     "output_type": "stream",
     "name": "stdout",
     "text": [
      "\t {'val_loss': 3.113898515701294, 'val_accuracy': 0.35}\n"
     ]
    },
    {
     "output_type": "stream",
     "name": "stderr",
     "text": [
      "DEBUG flwr 2023-04-15 19:39:25,760 | server.py:229 | fit_round 33 received 2 results and 0 failures\n"
     ]
    },
    {
     "output_type": "stream",
     "name": "stdout",
     "text": [
      "\t {'train_loss': 0.0004847647505812347, 'train_accuracy': 1.0}\n"
     ]
    },
    {
     "output_type": "stream",
     "name": "stderr",
     "text": [
      "INFO flwr 2023-04-15 19:39:35,469 | server.py:116 | fit progress: (33, 9.811322212219238, {'test_loss': 9.811322212219238, 'test_accuracy': 0.46}, 8520.068357700016)\n",
      "DEBUG flwr 2023-04-15 19:39:35,470 | server.py:165 | evaluate_round 33: strategy sampled 2 clients (out of 2)\n",
      "DEBUG flwr 2023-04-15 19:39:53,459 | server.py:179 | evaluate_round 33 received 2 results and 0 failures\n",
      "DEBUG flwr 2023-04-15 19:39:53,460 | server.py:215 | fit_round 34: strategy sampled 2 clients (out of 2)\n"
     ]
    },
    {
     "output_type": "stream",
     "name": "stdout",
     "text": [
      "\t {'val_loss': 3.1322388648986816, 'val_accuracy': 0.375}\n"
     ]
    },
    {
     "output_type": "stream",
     "name": "stderr",
     "text": [
      "DEBUG flwr 2023-04-15 19:43:36,199 | server.py:229 | fit_round 34 received 2 results and 0 failures\n"
     ]
    },
    {
     "output_type": "stream",
     "name": "stdout",
     "text": [
      "\t {'train_loss': 0.0003247516870032996, 'train_accuracy': 1.0}\n"
     ]
    },
    {
     "output_type": "stream",
     "name": "stderr",
     "text": [
      "INFO flwr 2023-04-15 19:43:45,998 | server.py:116 | fit progress: (34, 9.663118362426758, {'test_loss': 9.663118362426758, 'test_accuracy': 0.47}, 8770.597914200014)\n",
      "DEBUG flwr 2023-04-15 19:43:45,999 | server.py:165 | evaluate_round 34: strategy sampled 2 clients (out of 2)\n",
      "DEBUG flwr 2023-04-15 19:44:05,306 | server.py:179 | evaluate_round 34 received 2 results and 0 failures\n",
      "DEBUG flwr 2023-04-15 19:44:05,307 | server.py:215 | fit_round 35: strategy sampled 2 clients (out of 2)\n"
     ]
    },
    {
     "output_type": "stream",
     "name": "stdout",
     "text": [
      "\t {'val_loss': 3.0858174562454224, 'val_accuracy': 0.375}\n"
     ]
    },
    {
     "output_type": "stream",
     "name": "stderr",
     "text": [
      "DEBUG flwr 2023-04-15 19:48:04,320 | server.py:229 | fit_round 35 received 2 results and 0 failures\n"
     ]
    },
    {
     "output_type": "stream",
     "name": "stdout",
     "text": [
      "\t {'train_loss': 0.00029809978150296956, 'train_accuracy': 1.0}\n"
     ]
    },
    {
     "output_type": "stream",
     "name": "stderr",
     "text": [
      "INFO flwr 2023-04-15 19:48:14,163 | server.py:116 | fit progress: (35, 9.64951229095459, {'test_loss': 9.64951229095459, 'test_accuracy': 0.46}, 9038.763053300005)\n",
      "DEBUG flwr 2023-04-15 19:48:14,164 | server.py:165 | evaluate_round 35: strategy sampled 2 clients (out of 2)\n",
      "DEBUG flwr 2023-04-15 19:48:33,027 | server.py:179 | evaluate_round 35 received 2 results and 0 failures\n",
      "DEBUG flwr 2023-04-15 19:48:33,028 | server.py:215 | fit_round 36: strategy sampled 2 clients (out of 2)\n"
     ]
    },
    {
     "output_type": "stream",
     "name": "stdout",
     "text": [
      "\t {'val_loss': 3.1257596015930176, 'val_accuracy': 0.35}\n"
     ]
    },
    {
     "output_type": "stream",
     "name": "stderr",
     "text": [
      "DEBUG flwr 2023-04-15 19:52:28,088 | server.py:229 | fit_round 36 received 2 results and 0 failures\n"
     ]
    },
    {
     "output_type": "stream",
     "name": "stdout",
     "text": [
      "\t {'train_loss': 0.0002255343715660274, 'train_accuracy': 1.0}\n"
     ]
    },
    {
     "output_type": "stream",
     "name": "stderr",
     "text": [
      "INFO flwr 2023-04-15 19:52:49,442 | server.py:116 | fit progress: (36, 9.631872177124023, {'test_loss': 9.631872177124023, 'test_accuracy': 0.47}, 9314.041843499988)\n",
      "DEBUG flwr 2023-04-15 19:52:49,445 | server.py:165 | evaluate_round 36: strategy sampled 2 clients (out of 2)\n",
      "DEBUG flwr 2023-04-15 19:53:09,744 | server.py:179 | evaluate_round 36 received 2 results and 0 failures\n",
      "DEBUG flwr 2023-04-15 19:53:09,745 | server.py:215 | fit_round 37: strategy sampled 2 clients (out of 2)\n"
     ]
    },
    {
     "output_type": "stream",
     "name": "stdout",
     "text": [
      "\t {'val_loss': 3.1013784408569336, 'val_accuracy': 0.325}\n"
     ]
    },
    {
     "output_type": "stream",
     "name": "stderr",
     "text": [
      "DEBUG flwr 2023-04-15 19:56:41,911 | server.py:229 | fit_round 37 received 2 results and 0 failures\n"
     ]
    },
    {
     "output_type": "stream",
     "name": "stdout",
     "text": [
      "\t {'train_loss': 0.00017735539586283267, 'train_accuracy': 1.0}\n"
     ]
    },
    {
     "output_type": "stream",
     "name": "stderr",
     "text": [
      "INFO flwr 2023-04-15 19:57:03,695 | server.py:116 | fit progress: (37, 9.67781925201416, {'test_loss': 9.67781925201416, 'test_accuracy': 0.46}, 9568.294179499993)\n",
      "DEBUG flwr 2023-04-15 19:57:03,696 | server.py:165 | evaluate_round 37: strategy sampled 2 clients (out of 2)\n",
      "DEBUG flwr 2023-04-15 19:57:25,335 | server.py:179 | evaluate_round 37 received 2 results and 0 failures\n",
      "DEBUG flwr 2023-04-15 19:57:25,338 | server.py:215 | fit_round 38: strategy sampled 2 clients (out of 2)\n"
     ]
    },
    {
     "output_type": "stream",
     "name": "stdout",
     "text": [
      "\t {'val_loss': 3.1364598274230957, 'val_accuracy': 0.35}\n"
     ]
    },
    {
     "output_type": "stream",
     "name": "stderr",
     "text": [
      "DEBUG flwr 2023-04-15 20:00:57,335 | server.py:229 | fit_round 38 received 2 results and 0 failures\n"
     ]
    },
    {
     "output_type": "stream",
     "name": "stdout",
     "text": [
      "\t {'train_loss': 0.00014323872892418876, 'train_accuracy': 1.0}\n"
     ]
    },
    {
     "output_type": "stream",
     "name": "stderr",
     "text": [
      "INFO flwr 2023-04-15 20:01:09,720 | server.py:116 | fit progress: (38, 9.602989196777344, {'test_loss': 9.602989196777344, 'test_accuracy': 0.46}, 9814.3201367)\n",
      "DEBUG flwr 2023-04-15 20:01:09,721 | server.py:165 | evaluate_round 38: strategy sampled 2 clients (out of 2)\n",
      "DEBUG flwr 2023-04-15 20:01:28,458 | server.py:179 | evaluate_round 38 received 2 results and 0 failures\n",
      "DEBUG flwr 2023-04-15 20:01:28,459 | server.py:215 | fit_round 39: strategy sampled 2 clients (out of 2)\n"
     ]
    },
    {
     "output_type": "stream",
     "name": "stdout",
     "text": [
      "\t {'val_loss': 3.0823346376419067, 'val_accuracy': 0.35}\n"
     ]
    },
    {
     "output_type": "stream",
     "name": "stderr",
     "text": [
      "DEBUG flwr 2023-04-15 20:05:19,916 | server.py:229 | fit_round 39 received 2 results and 0 failures\n"
     ]
    },
    {
     "output_type": "stream",
     "name": "stdout",
     "text": [
      "\t {'train_loss': 0.00010204746286035515, 'train_accuracy': 1.0}\n"
     ]
    },
    {
     "output_type": "stream",
     "name": "stderr",
     "text": [
      "INFO flwr 2023-04-15 20:05:29,657 | server.py:116 | fit progress: (39, 9.699533462524414, {'test_loss': 9.699533462524414, 'test_accuracy': 0.45}, 10074.256944099994)\n",
      "DEBUG flwr 2023-04-15 20:05:29,658 | server.py:165 | evaluate_round 39: strategy sampled 2 clients (out of 2)\n",
      "DEBUG flwr 2023-04-15 20:05:49,481 | server.py:179 | evaluate_round 39 received 2 results and 0 failures\n",
      "DEBUG flwr 2023-04-15 20:05:49,482 | server.py:215 | fit_round 40: strategy sampled 2 clients (out of 2)\n"
     ]
    },
    {
     "output_type": "stream",
     "name": "stdout",
     "text": [
      "\t {'val_loss': 3.0998544692993164, 'val_accuracy': 0.35}\n"
     ]
    },
    {
     "output_type": "stream",
     "name": "stderr",
     "text": [
      "DEBUG flwr 2023-04-15 20:09:24,076 | server.py:229 | fit_round 40 received 2 results and 0 failures\n"
     ]
    },
    {
     "output_type": "stream",
     "name": "stdout",
     "text": [
      "\t {'train_loss': 8.151966540026478e-05, 'train_accuracy': 1.0}\n"
     ]
    },
    {
     "output_type": "stream",
     "name": "stderr",
     "text": [
      "INFO flwr 2023-04-15 20:09:33,870 | server.py:116 | fit progress: (40, 9.640944480895996, {'test_loss': 9.640944480895996, 'test_accuracy': 0.45}, 10318.469799400016)\n",
      "DEBUG flwr 2023-04-15 20:09:33,871 | server.py:165 | evaluate_round 40: strategy sampled 2 clients (out of 2)\n",
      "DEBUG flwr 2023-04-15 20:09:53,530 | server.py:179 | evaluate_round 40 received 2 results and 0 failures\n",
      "DEBUG flwr 2023-04-15 20:09:53,531 | server.py:215 | fit_round 41: strategy sampled 2 clients (out of 2)\n"
     ]
    },
    {
     "output_type": "stream",
     "name": "stdout",
     "text": [
      "\t {'val_loss': 3.088370680809021, 'val_accuracy': 0.35}\n"
     ]
    },
    {
     "output_type": "stream",
     "name": "stderr",
     "text": [
      "DEBUG flwr 2023-04-15 20:13:43,508 | server.py:229 | fit_round 41 received 2 results and 0 failures\n"
     ]
    },
    {
     "output_type": "stream",
     "name": "stdout",
     "text": [
      "\t {'train_loss': 6.977879638725426e-05, 'train_accuracy': 1.0}\n"
     ]
    },
    {
     "output_type": "stream",
     "name": "stderr",
     "text": [
      "INFO flwr 2023-04-15 20:13:53,284 | server.py:116 | fit progress: (41, 9.636578559875488, {'test_loss': 9.636578559875488, 'test_accuracy': 0.46}, 10577.8833821)\n",
      "DEBUG flwr 2023-04-15 20:13:53,285 | server.py:165 | evaluate_round 41: strategy sampled 2 clients (out of 2)\n",
      "DEBUG flwr 2023-04-15 20:14:11,716 | server.py:179 | evaluate_round 41 received 2 results and 0 failures\n",
      "DEBUG flwr 2023-04-15 20:14:11,717 | server.py:215 | fit_round 42: strategy sampled 2 clients (out of 2)\n"
     ]
    },
    {
     "output_type": "stream",
     "name": "stdout",
     "text": [
      "\t {'val_loss': 3.075326085090637, 'val_accuracy': 0.325}\n"
     ]
    },
    {
     "output_type": "stream",
     "name": "stderr",
     "text": [
      "DEBUG flwr 2023-04-15 20:17:39,288 | server.py:229 | fit_round 42 received 2 results and 0 failures\n"
     ]
    },
    {
     "output_type": "stream",
     "name": "stdout",
     "text": [
      "\t {'train_loss': 5.713521932193544e-05, 'train_accuracy': 1.0}\n"
     ]
    },
    {
     "output_type": "stream",
     "name": "stderr",
     "text": [
      "INFO flwr 2023-04-15 20:17:49,100 | server.py:116 | fit progress: (42, 9.631999969482422, {'test_loss': 9.631999969482422, 'test_accuracy': 0.46}, 10813.69931309999)\n",
      "DEBUG flwr 2023-04-15 20:17:49,101 | server.py:165 | evaluate_round 42: strategy sampled 2 clients (out of 2)\n",
      "DEBUG flwr 2023-04-15 20:18:11,811 | server.py:179 | evaluate_round 42 received 2 results and 0 failures\n",
      "DEBUG flwr 2023-04-15 20:18:11,812 | server.py:215 | fit_round 43: strategy sampled 2 clients (out of 2)\n"
     ]
    },
    {
     "output_type": "stream",
     "name": "stdout",
     "text": [
      "\t {'val_loss': 3.092968225479126, 'val_accuracy': 0.375}\n"
     ]
    },
    {
     "output_type": "stream",
     "name": "stderr",
     "text": [
      "DEBUG flwr 2023-04-15 20:22:03,869 | server.py:229 | fit_round 43 received 2 results and 0 failures\n"
     ]
    },
    {
     "output_type": "stream",
     "name": "stdout",
     "text": [
      "\t {'train_loss': 4.9438216592534445e-05, 'train_accuracy': 1.0}\n"
     ]
    },
    {
     "output_type": "stream",
     "name": "stderr",
     "text": [
      "INFO flwr 2023-04-15 20:22:13,664 | server.py:116 | fit progress: (43, 9.60845947265625, {'test_loss': 9.60845947265625, 'test_accuracy': 0.46}, 11078.263635200012)\n",
      "DEBUG flwr 2023-04-15 20:22:13,665 | server.py:165 | evaluate_round 43: strategy sampled 2 clients (out of 2)\n",
      "DEBUG flwr 2023-04-15 20:22:33,308 | server.py:179 | evaluate_round 43 received 2 results and 0 failures\n",
      "DEBUG flwr 2023-04-15 20:22:33,309 | server.py:215 | fit_round 44: strategy sampled 2 clients (out of 2)\n"
     ]
    },
    {
     "output_type": "stream",
     "name": "stdout",
     "text": [
      "\t {'val_loss': 3.078087329864502, 'val_accuracy': 0.35}\n"
     ]
    },
    {
     "output_type": "stream",
     "name": "stderr",
     "text": [
      "DEBUG flwr 2023-04-15 20:26:05,539 | server.py:229 | fit_round 44 received 2 results and 0 failures\n"
     ]
    },
    {
     "output_type": "stream",
     "name": "stdout",
     "text": [
      "\t {'train_loss': 3.7346439057728276e-05, 'train_accuracy': 1.0}\n"
     ]
    },
    {
     "output_type": "stream",
     "name": "stderr",
     "text": [
      "INFO flwr 2023-04-15 20:26:15,324 | server.py:116 | fit progress: (44, 9.498571395874023, {'test_loss': 9.498571395874023, 'test_accuracy': 0.47}, 11319.923070299992)\n",
      "DEBUG flwr 2023-04-15 20:26:15,324 | server.py:165 | evaluate_round 44: strategy sampled 2 clients (out of 2)\n",
      "DEBUG flwr 2023-04-15 20:26:35,494 | server.py:179 | evaluate_round 44 received 2 results and 0 failures\n",
      "DEBUG flwr 2023-04-15 20:26:35,495 | server.py:215 | fit_round 45: strategy sampled 2 clients (out of 2)\n"
     ]
    },
    {
     "output_type": "stream",
     "name": "stdout",
     "text": [
      "\t {'val_loss': 3.111973524093628, 'val_accuracy': 0.35}\n"
     ]
    },
    {
     "output_type": "stream",
     "name": "stderr",
     "text": [
      "DEBUG flwr 2023-04-15 20:30:27,962 | server.py:229 | fit_round 45 received 2 results and 0 failures\n"
     ]
    },
    {
     "output_type": "stream",
     "name": "stdout",
     "text": [
      "\t {'train_loss': 3.1237438633979764e-05, 'train_accuracy': 1.0}\n"
     ]
    },
    {
     "output_type": "stream",
     "name": "stderr",
     "text": [
      "INFO flwr 2023-04-15 20:30:37,842 | server.py:116 | fit progress: (45, 9.510589599609375, {'test_loss': 9.510589599609375, 'test_accuracy': 0.46}, 11582.441518900014)\n",
      "DEBUG flwr 2023-04-15 20:30:37,843 | server.py:165 | evaluate_round 45: strategy sampled 2 clients (out of 2)\n",
      "DEBUG flwr 2023-04-15 20:30:57,806 | server.py:179 | evaluate_round 45 received 2 results and 0 failures\n",
      "DEBUG flwr 2023-04-15 20:30:57,807 | server.py:215 | fit_round 46: strategy sampled 2 clients (out of 2)\n"
     ]
    },
    {
     "output_type": "stream",
     "name": "stdout",
     "text": [
      "\t {'val_loss': 3.0849872827529907, 'val_accuracy': 0.375}\n"
     ]
    },
    {
     "output_type": "stream",
     "name": "stderr",
     "text": [
      "DEBUG flwr 2023-04-15 20:34:30,615 | server.py:229 | fit_round 46 received 2 results and 0 failures\n"
     ]
    },
    {
     "output_type": "stream",
     "name": "stdout",
     "text": [
      "\t {'train_loss': 2.5789949177124072e-05, 'train_accuracy': 1.0}\n"
     ]
    },
    {
     "output_type": "stream",
     "name": "stderr",
     "text": [
      "INFO flwr 2023-04-15 20:34:40,410 | server.py:116 | fit progress: (46, 9.451010704040527, {'test_loss': 9.451010704040527, 'test_accuracy': 0.46}, 11825.009405499994)\n",
      "DEBUG flwr 2023-04-15 20:34:40,411 | server.py:165 | evaluate_round 46: strategy sampled 2 clients (out of 2)\n",
      "DEBUG flwr 2023-04-15 20:35:00,460 | server.py:179 | evaluate_round 46 received 2 results and 0 failures\n",
      "DEBUG flwr 2023-04-15 20:35:00,461 | server.py:215 | fit_round 47: strategy sampled 2 clients (out of 2)\n"
     ]
    },
    {
     "output_type": "stream",
     "name": "stdout",
     "text": [
      "\t {'val_loss': 3.1176235675811768, 'val_accuracy': 0.35}\n"
     ]
    },
    {
     "output_type": "stream",
     "name": "stderr",
     "text": [
      "DEBUG flwr 2023-04-15 20:38:50,009 | server.py:229 | fit_round 47 received 2 results and 0 failures\n"
     ]
    },
    {
     "output_type": "stream",
     "name": "stdout",
     "text": [
      "\t {'train_loss': 2.1671551621693652e-05, 'train_accuracy': 1.0}\n"
     ]
    },
    {
     "output_type": "stream",
     "name": "stderr",
     "text": [
      "INFO flwr 2023-04-15 20:38:59,765 | server.py:116 | fit progress: (47, 9.500054359436035, {'test_loss': 9.500054359436035, 'test_accuracy': 0.46}, 12084.364541999996)\n",
      "DEBUG flwr 2023-04-15 20:38:59,766 | server.py:165 | evaluate_round 47: strategy sampled 2 clients (out of 2)\n",
      "DEBUG flwr 2023-04-15 20:39:19,585 | server.py:179 | evaluate_round 47 received 2 results and 0 failures\n",
      "DEBUG flwr 2023-04-15 20:39:19,587 | server.py:215 | fit_round 48: strategy sampled 2 clients (out of 2)\n"
     ]
    },
    {
     "output_type": "stream",
     "name": "stdout",
     "text": [
      "\t {'val_loss': 3.101467728614807, 'val_accuracy': 0.375}\n"
     ]
    },
    {
     "output_type": "stream",
     "name": "stderr",
     "text": [
      "DEBUG flwr 2023-04-15 20:42:50,707 | server.py:229 | fit_round 48 received 2 results and 0 failures\n"
     ]
    },
    {
     "output_type": "stream",
     "name": "stdout",
     "text": [
      "\t {'train_loss': 1.8515656847739592e-05, 'train_accuracy': 1.0}\n"
     ]
    },
    {
     "output_type": "stream",
     "name": "stderr",
     "text": [
      "INFO flwr 2023-04-15 20:43:00,492 | server.py:116 | fit progress: (48, 9.525185585021973, {'test_loss': 9.525185585021973, 'test_accuracy': 0.46}, 12325.09173429999)\n",
      "DEBUG flwr 2023-04-15 20:43:00,493 | server.py:165 | evaluate_round 48: strategy sampled 2 clients (out of 2)\n",
      "DEBUG flwr 2023-04-15 20:43:20,486 | server.py:179 | evaluate_round 48 received 2 results and 0 failures\n",
      "DEBUG flwr 2023-04-15 20:43:20,487 | server.py:215 | fit_round 49: strategy sampled 2 clients (out of 2)\n"
     ]
    },
    {
     "output_type": "stream",
     "name": "stdout",
     "text": [
      "\t {'val_loss': 3.11579692363739, 'val_accuracy': 0.35}\n"
     ]
    },
    {
     "output_type": "stream",
     "name": "stderr",
     "text": [
      "DEBUG flwr 2023-04-15 20:47:06,350 | server.py:229 | fit_round 49 received 2 results and 0 failures\n"
     ]
    },
    {
     "output_type": "stream",
     "name": "stdout",
     "text": [
      "\t {'train_loss': 1.60600543495093e-05, 'train_accuracy': 1.0}\n"
     ]
    },
    {
     "output_type": "stream",
     "name": "stderr",
     "text": [
      "INFO flwr 2023-04-15 20:47:16,169 | server.py:116 | fit progress: (49, 9.530986785888672, {'test_loss': 9.530986785888672, 'test_accuracy': 0.46}, 12580.768388299999)\n",
      "DEBUG flwr 2023-04-15 20:47:16,169 | server.py:165 | evaluate_round 49: strategy sampled 2 clients (out of 2)\n",
      "DEBUG flwr 2023-04-15 20:47:35,757 | server.py:179 | evaluate_round 49 received 2 results and 0 failures\n",
      "DEBUG flwr 2023-04-15 20:47:35,758 | server.py:215 | fit_round 50: strategy sampled 2 clients (out of 2)\n"
     ]
    },
    {
     "output_type": "stream",
     "name": "stdout",
     "text": [
      "\t {'val_loss': 3.1094905138015747, 'val_accuracy': 0.375}\n"
     ]
    },
    {
     "output_type": "stream",
     "name": "stderr",
     "text": [
      "DEBUG flwr 2023-04-15 20:53:21,302 | server.py:229 | fit_round 50 received 2 results and 0 failures\n"
     ]
    },
    {
     "output_type": "stream",
     "name": "stdout",
     "text": [
      "\t {'train_loss': 1.4432869193115039e-05, 'train_accuracy': 1.0}\n"
     ]
    },
    {
     "output_type": "stream",
     "name": "stderr",
     "text": [
      "INFO flwr 2023-04-15 20:53:31,101 | server.py:116 | fit progress: (50, 9.499307632446289, {'test_loss': 9.499307632446289, 'test_accuracy': 0.46}, 12955.700250399997)\n",
      "DEBUG flwr 2023-04-15 20:53:31,101 | server.py:165 | evaluate_round 50: strategy sampled 2 clients (out of 2)\n",
      "DEBUG flwr 2023-04-15 20:53:50,362 | server.py:179 | evaluate_round 50 received 2 results and 0 failures\n",
      "INFO flwr 2023-04-15 20:53:50,362 | server.py:144 | FL finished in 12974.962032300013\n",
      "INFO flwr 2023-04-15 20:53:50,397 | app.py:202 | app_fit: losses_distributed [(1, 4.651551723480225), (2, 4.481055974960327), (3, 4.362421035766602), (4, 4.2336366176605225), (5, 4.055148363113403), (6, 4.009121775627136), (7, 3.954677700996399), (8, 3.8307955265045166), (9, 3.757102608680725), (10, 3.7171268463134766), (11, 3.6587166786193848), (12, 3.5828269720077515), (13, 3.496229410171509), (14, 3.470556616783142), (15, 3.4126806259155273), (16, 3.375787138938904), (17, 3.3697344064712524), (18, 3.3565053939819336), (19, 3.3768781423568726), (20, 3.306207060813904), (21, 3.3139429092407227), (22, 3.2789942026138306), (23, 3.2633821964263916), (24, 3.225769877433777), (25, 3.187385082244873), (26, 3.1927536725997925), (27, 3.191200613975525), (28, 3.174075961112976), (29, 3.129457116127014), (30, 3.0924837589263916), (31, 3.097269654273987), (32, 3.113898515701294), (33, 3.1322388648986816), (34, 3.0858174562454224), (35, 3.1257596015930176), (36, 3.1013784408569336), (37, 3.1364598274230957), (38, 3.0823346376419067), (39, 3.0998544692993164), (40, 3.088370680809021), (41, 3.075326085090637), (42, 3.092968225479126), (43, 3.078087329864502), (44, 3.111973524093628), (45, 3.0849872827529907), (46, 3.1176235675811768), (47, 3.101467728614807), (48, 3.11579692363739), (49, 3.1094905138015747), (50, 3.111065626144409)]\n",
      "INFO flwr 2023-04-15 20:53:50,398 | app.py:203 | app_fit: metrics_distributed {'val_loss': [(1, 4.651551723480225), (2, 4.481055974960327), (3, 4.362421035766602), (4, 4.2336366176605225), (5, 4.055148363113403), (6, 4.009121775627136), (7, 3.954677700996399), (8, 3.8307955265045166), (9, 3.757102608680725), (10, 3.7171268463134766), (11, 3.6587166786193848), (12, 3.5828269720077515), (13, 3.496229410171509), (14, 3.470556616783142), (15, 3.4126806259155273), (16, 3.375787138938904), (17, 3.3697344064712524), (18, 3.3565053939819336), (19, 3.3768781423568726), (20, 3.306207060813904), (21, 3.3139429092407227), (22, 3.2789942026138306), (23, 3.2633821964263916), (24, 3.225769877433777), (25, 3.187385082244873), (26, 3.1927536725997925), (27, 3.191200613975525), (28, 3.174075961112976), (29, 3.129457116127014), (30, 3.0924837589263916), (31, 3.097269654273987), (32, 3.113898515701294), (33, 3.1322388648986816), (34, 3.0858174562454224), (35, 3.1257596015930176), (36, 3.1013784408569336), (37, 3.1364598274230957), (38, 3.0823346376419067), (39, 3.0998544692993164), (40, 3.088370680809021), (41, 3.075326085090637), (42, 3.092968225479126), (43, 3.078087329864502), (44, 3.111973524093628), (45, 3.0849872827529907), (46, 3.1176235675811768), (47, 3.101467728614807), (48, 3.11579692363739), (49, 3.1094905138015747), (50, 3.111065626144409)], 'val_accuracy': [(1, 0.025), (2, 0.075), (3, 0.125), (4, 0.175), (5, 0.275), (6, 0.25), (7, 0.175), (8, 0.25), (9, 0.25), (10, 0.3), (11, 0.325), (12, 0.325), (13, 0.325), (14, 0.3), (15, 0.3), (16, 0.325), (17, 0.375), (18, 0.35), (19, 0.325), (20, 0.3), (21, 0.325), (22, 0.325), (23, 0.35), (24, 0.325), (25, 0.35), (26, 0.325), (27, 0.375), (28, 0.35), (29, 0.375), (30, 0.375), (31, 0.375), (32, 0.35), (33, 0.375), (34, 0.375), (35, 0.35), (36, 0.325), (37, 0.35), (38, 0.35), (39, 0.35), (40, 0.35), (41, 0.325), (42, 0.375), (43, 0.35), (44, 0.35), (45, 0.375), (46, 0.35), (47, 0.375), (48, 0.35), (49, 0.375), (50, 0.375)]}\n",
      "INFO flwr 2023-04-15 20:53:50,398 | app.py:204 | app_fit: losses_centralized [(0, 19.52888298034668), (1, 18.33440589904785), (2, 17.58190155029297), (3, 16.73241424560547), (4, 15.976250648498535), (5, 15.026412963867188), (6, 14.596921920776367), (7, 14.242612838745117), (8, 13.689775466918945), (9, 13.121591567993164), (10, 12.742844581604004), (11, 12.489171981811523), (12, 12.210344314575195), (13, 12.156168937683105), (14, 11.76867389678955), (15, 11.473559379577637), (16, 11.298410415649414), (17, 11.055187225341797), (18, 10.875259399414062), (19, 10.863929748535156), (20, 10.674957275390625), (21, 10.482118606567383), (22, 10.461750030517578), (23, 10.371923446655273), (24, 10.292166709899902), (25, 10.236499786376953), (26, 10.275102615356445), (27, 10.173851013183594), (28, 10.176445007324219), (29, 9.971357345581055), (30, 10.08089828491211), (31, 10.002913475036621), (32, 9.875076293945312), (33, 9.811322212219238), (34, 9.663118362426758), (35, 9.64951229095459), (36, 9.631872177124023), (37, 9.67781925201416), (38, 9.602989196777344), (39, 9.699533462524414), (40, 9.640944480895996), (41, 9.636578559875488), (42, 9.631999969482422), (43, 9.60845947265625), (44, 9.498571395874023), (45, 9.510589599609375), (46, 9.451010704040527), (47, 9.500054359436035), (48, 9.525185585021973), (49, 9.530986785888672), (50, 9.499307632446289)]\n",
      "INFO flwr 2023-04-15 20:53:50,399 | app.py:205 | app_fit: metrics_centralized {'test_loss': [(0, 19.52888298034668), (1, 18.33440589904785), (2, 17.58190155029297), (3, 16.73241424560547), (4, 15.976250648498535), (5, 15.026412963867188), (6, 14.596921920776367), (7, 14.242612838745117), (8, 13.689775466918945), (9, 13.121591567993164), (10, 12.742844581604004), (11, 12.489171981811523), (12, 12.210344314575195), (13, 12.156168937683105), (14, 11.76867389678955), (15, 11.473559379577637), (16, 11.298410415649414), (17, 11.055187225341797), (18, 10.875259399414062), (19, 10.863929748535156), (20, 10.674957275390625), (21, 10.482118606567383), (22, 10.461750030517578), (23, 10.371923446655273), (24, 10.292166709899902), (25, 10.236499786376953), (26, 10.275102615356445), (27, 10.173851013183594), (28, 10.176445007324219), (29, 9.971357345581055), (30, 10.08089828491211), (31, 10.002913475036621), (32, 9.875076293945312), (33, 9.811322212219238), (34, 9.663118362426758), (35, 9.64951229095459), (36, 9.631872177124023), (37, 9.67781925201416), (38, 9.602989196777344), (39, 9.699533462524414), (40, 9.640944480895996), (41, 9.636578559875488), (42, 9.631999969482422), (43, 9.60845947265625), (44, 9.498571395874023), (45, 9.510589599609375), (46, 9.451010704040527), (47, 9.500054359436035), (48, 9.525185585021973), (49, 9.530986785888672), (50, 9.499307632446289)], 'test_accuracy': [(0, 0.0), (1, 0.0), (2, 0.04), (3, 0.12), (4, 0.15), (5, 0.17), (6, 0.22), (7, 0.29), (8, 0.27), (9, 0.3), (10, 0.32), (11, 0.32), (12, 0.37), (13, 0.38), (14, 0.38), (15, 0.4), (16, 0.43), (17, 0.42), (18, 0.43), (19, 0.46), (20, 0.46), (21, 0.44), (22, 0.47), (23, 0.47), (24, 0.45), (25, 0.47), (26, 0.48), (27, 0.45), (28, 0.46), (29, 0.45), (30, 0.45), (31, 0.45), (32, 0.45), (33, 0.46), (34, 0.47), (35, 0.46), (36, 0.47), (37, 0.46), (38, 0.46), (39, 0.45), (40, 0.45), (41, 0.46), (42, 0.46), (43, 0.46), (44, 0.47), (45, 0.46), (46, 0.46), (47, 0.46), (48, 0.46), (49, 0.46), (50, 0.46)]}\n"
     ]
    },
    {
     "output_type": "stream",
     "name": "stdout",
     "text": [
      "\t {'val_loss': 3.111065626144409, 'val_accuracy': 0.375}\n"
     ]
    },
    {
     "output_type": "execute_result",
     "data": {
      "text/plain": [
       "History (loss, distributed):\n",
       "\tround 1: 4.651551723480225\n",
       "\tround 2: 4.481055974960327\n",
       "\tround 3: 4.362421035766602\n",
       "\tround 4: 4.2336366176605225\n",
       "\tround 5: 4.055148363113403\n",
       "\tround 6: 4.009121775627136\n",
       "\tround 7: 3.954677700996399\n",
       "\tround 8: 3.8307955265045166\n",
       "\tround 9: 3.757102608680725\n",
       "\tround 10: 3.7171268463134766\n",
       "\tround 11: 3.6587166786193848\n",
       "\tround 12: 3.5828269720077515\n",
       "\tround 13: 3.496229410171509\n",
       "\tround 14: 3.470556616783142\n",
       "\tround 15: 3.4126806259155273\n",
       "\tround 16: 3.375787138938904\n",
       "\tround 17: 3.3697344064712524\n",
       "\tround 18: 3.3565053939819336\n",
       "\tround 19: 3.3768781423568726\n",
       "\tround 20: 3.306207060813904\n",
       "\tround 21: 3.3139429092407227\n",
       "\tround 22: 3.2789942026138306\n",
       "\tround 23: 3.2633821964263916\n",
       "\tround 24: 3.225769877433777\n",
       "\tround 25: 3.187385082244873\n",
       "\tround 26: 3.1927536725997925\n",
       "\tround 27: 3.191200613975525\n",
       "\tround 28: 3.174075961112976\n",
       "\tround 29: 3.129457116127014\n",
       "\tround 30: 3.0924837589263916\n",
       "\tround 31: 3.097269654273987\n",
       "\tround 32: 3.113898515701294\n",
       "\tround 33: 3.1322388648986816\n",
       "\tround 34: 3.0858174562454224\n",
       "\tround 35: 3.1257596015930176\n",
       "\tround 36: 3.1013784408569336\n",
       "\tround 37: 3.1364598274230957\n",
       "\tround 38: 3.0823346376419067\n",
       "\tround 39: 3.0998544692993164\n",
       "\tround 40: 3.088370680809021\n",
       "\tround 41: 3.075326085090637\n",
       "\tround 42: 3.092968225479126\n",
       "\tround 43: 3.078087329864502\n",
       "\tround 44: 3.111973524093628\n",
       "\tround 45: 3.0849872827529907\n",
       "\tround 46: 3.1176235675811768\n",
       "\tround 47: 3.101467728614807\n",
       "\tround 48: 3.11579692363739\n",
       "\tround 49: 3.1094905138015747\n",
       "\tround 50: 3.111065626144409\n",
       "History (loss, centralized):\n",
       "\tround 0: 19.52888298034668\n",
       "\tround 1: 18.33440589904785\n",
       "\tround 2: 17.58190155029297\n",
       "\tround 3: 16.73241424560547\n",
       "\tround 4: 15.976250648498535\n",
       "\tround 5: 15.026412963867188\n",
       "\tround 6: 14.596921920776367\n",
       "\tround 7: 14.242612838745117\n",
       "\tround 8: 13.689775466918945\n",
       "\tround 9: 13.121591567993164\n",
       "\tround 10: 12.742844581604004\n",
       "\tround 11: 12.489171981811523\n",
       "\tround 12: 12.210344314575195\n",
       "\tround 13: 12.156168937683105\n",
       "\tround 14: 11.76867389678955\n",
       "\tround 15: 11.473559379577637\n",
       "\tround 16: 11.298410415649414\n",
       "\tround 17: 11.055187225341797\n",
       "\tround 18: 10.875259399414062\n",
       "\tround 19: 10.863929748535156\n",
       "\tround 20: 10.674957275390625\n",
       "\tround 21: 10.482118606567383\n",
       "\tround 22: 10.461750030517578\n",
       "\tround 23: 10.371923446655273\n",
       "\tround 24: 10.292166709899902\n",
       "\tround 25: 10.236499786376953\n",
       "\tround 26: 10.275102615356445\n",
       "\tround 27: 10.173851013183594\n",
       "\tround 28: 10.176445007324219\n",
       "\tround 29: 9.971357345581055\n",
       "\tround 30: 10.08089828491211\n",
       "\tround 31: 10.002913475036621\n",
       "\tround 32: 9.875076293945312\n",
       "\tround 33: 9.811322212219238\n",
       "\tround 34: 9.663118362426758\n",
       "\tround 35: 9.64951229095459\n",
       "\tround 36: 9.631872177124023\n",
       "\tround 37: 9.67781925201416\n",
       "\tround 38: 9.602989196777344\n",
       "\tround 39: 9.699533462524414\n",
       "\tround 40: 9.640944480895996\n",
       "\tround 41: 9.636578559875488\n",
       "\tround 42: 9.631999969482422\n",
       "\tround 43: 9.60845947265625\n",
       "\tround 44: 9.498571395874023\n",
       "\tround 45: 9.510589599609375\n",
       "\tround 46: 9.451010704040527\n",
       "\tround 47: 9.500054359436035\n",
       "\tround 48: 9.525185585021973\n",
       "\tround 49: 9.530986785888672\n",
       "\tround 50: 9.499307632446289\n",
       "History (metrics, distributed):\n",
       "{'val_loss': [(1, 4.651551723480225), (2, 4.481055974960327), (3, 4.362421035766602), (4, 4.2336366176605225), (5, 4.055148363113403), (6, 4.009121775627136), (7, 3.954677700996399), (8, 3.8307955265045166), (9, 3.757102608680725), (10, 3.7171268463134766), (11, 3.6587166786193848), (12, 3.5828269720077515), (13, 3.496229410171509), (14, 3.470556616783142), (15, 3.4126806259155273), (16, 3.375787138938904), (17, 3.3697344064712524), (18, 3.3565053939819336), (19, 3.3768781423568726), (20, 3.306207060813904), (21, 3.3139429092407227), (22, 3.2789942026138306), (23, 3.2633821964263916), (24, 3.225769877433777), (25, 3.187385082244873), (26, 3.1927536725997925), (27, 3.191200613975525), (28, 3.174075961112976), (29, 3.129457116127014), (30, 3.0924837589263916), (31, 3.097269654273987), (32, 3.113898515701294), (33, 3.1322388648986816), (34, 3.0858174562454224), (35, 3.1257596015930176), (36, 3.1013784408569336), (37, 3.1364598274230957), (38, 3.0823346376419067), (39, 3.0998544692993164), (40, 3.088370680809021), (41, 3.075326085090637), (42, 3.092968225479126), (43, 3.078087329864502), (44, 3.111973524093628), (45, 3.0849872827529907), (46, 3.1176235675811768), (47, 3.101467728614807), (48, 3.11579692363739), (49, 3.1094905138015747), (50, 3.111065626144409)], 'val_accuracy': [(1, 0.025), (2, 0.075), (3, 0.125), (4, 0.175), (5, 0.275), (6, 0.25), (7, 0.175), (8, 0.25), (9, 0.25), (10, 0.3), (11, 0.325), (12, 0.325), (13, 0.325), (14, 0.3), (15, 0.3), (16, 0.325), (17, 0.375), (18, 0.35), (19, 0.325), (20, 0.3), (21, 0.325), (22, 0.325), (23, 0.35), (24, 0.325), (25, 0.35), (26, 0.325), (27, 0.375), (28, 0.35), (29, 0.375), (30, 0.375), (31, 0.375), (32, 0.35), (33, 0.375), (34, 0.375), (35, 0.35), (36, 0.325), (37, 0.35), (38, 0.35), (39, 0.35), (40, 0.35), (41, 0.325), (42, 0.375), (43, 0.35), (44, 0.35), (45, 0.375), (46, 0.35), (47, 0.375), (48, 0.35), (49, 0.375), (50, 0.375)]}History (metrics, centralized):\n",
       "{'test_loss': [(0, 19.52888298034668), (1, 18.33440589904785), (2, 17.58190155029297), (3, 16.73241424560547), (4, 15.976250648498535), (5, 15.026412963867188), (6, 14.596921920776367), (7, 14.242612838745117), (8, 13.689775466918945), (9, 13.121591567993164), (10, 12.742844581604004), (11, 12.489171981811523), (12, 12.210344314575195), (13, 12.156168937683105), (14, 11.76867389678955), (15, 11.473559379577637), (16, 11.298410415649414), (17, 11.055187225341797), (18, 10.875259399414062), (19, 10.863929748535156), (20, 10.674957275390625), (21, 10.482118606567383), (22, 10.461750030517578), (23, 10.371923446655273), (24, 10.292166709899902), (25, 10.236499786376953), (26, 10.275102615356445), (27, 10.173851013183594), (28, 10.176445007324219), (29, 9.971357345581055), (30, 10.08089828491211), (31, 10.002913475036621), (32, 9.875076293945312), (33, 9.811322212219238), (34, 9.663118362426758), (35, 9.64951229095459), (36, 9.631872177124023), (37, 9.67781925201416), (38, 9.602989196777344), (39, 9.699533462524414), (40, 9.640944480895996), (41, 9.636578559875488), (42, 9.631999969482422), (43, 9.60845947265625), (44, 9.498571395874023), (45, 9.510589599609375), (46, 9.451010704040527), (47, 9.500054359436035), (48, 9.525185585021973), (49, 9.530986785888672), (50, 9.499307632446289)], 'test_accuracy': [(0, 0.0), (1, 0.0), (2, 0.04), (3, 0.12), (4, 0.15), (5, 0.17), (6, 0.22), (7, 0.29), (8, 0.27), (9, 0.3), (10, 0.32), (11, 0.32), (12, 0.37), (13, 0.38), (14, 0.38), (15, 0.4), (16, 0.43), (17, 0.42), (18, 0.43), (19, 0.46), (20, 0.46), (21, 0.44), (22, 0.47), (23, 0.47), (24, 0.45), (25, 0.47), (26, 0.48), (27, 0.45), (28, 0.46), (29, 0.45), (30, 0.45), (31, 0.45), (32, 0.45), (33, 0.46), (34, 0.47), (35, 0.46), (36, 0.47), (37, 0.46), (38, 0.46), (39, 0.45), (40, 0.45), (41, 0.46), (42, 0.46), (43, 0.46), (44, 0.47), (45, 0.46), (46, 0.46), (47, 0.46), (48, 0.46), (49, 0.46), (50, 0.46)]}"
      ]
     },
     "metadata": {},
     "execution_count": 7
    }
   ],
   "metadata": {}
  }
 ],
 "nbformat": 4,
 "nbformat_minor": 2,
 "metadata": {
  "language_info": {
   "codemirror_mode": {
    "name": "ipython",
    "version": 3
   },
   "file_extension": ".py",
   "mimetype": "text/x-python",
   "name": "python",
   "nbconvert_exporter": "python",
   "pygments_lexer": "ipython3",
   "version": 3
  },
  "orig_nbformat": 4
 }
}