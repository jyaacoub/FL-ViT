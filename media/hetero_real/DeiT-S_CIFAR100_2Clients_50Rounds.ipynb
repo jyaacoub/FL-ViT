{
 "cells": [
  {
   "cell_type": "code",
   "execution_count": 6,
   "source": [
    "print('num clients:', NUM_CLIENTS)\n",
    "print('num rounds:', NUM_ROUNDS)\n",
    "print('--'*20)\n",
    "print('client training set size:', [len(t.dataset) for t in trainloaders])\n",
    "print('client validation set size:', [len(v.dataset) for v in valloaders])\n",
    "print('test set size:', len(testloader.dataset))\n",
    "print('--'*20)\n",
    "print('model name:', MODEL_NAME)\n",
    "print('num classes:', NUM_CLASSES)\n",
    "print('pre-trained:', PRE_TRAINED)\n",
    "print('learning rate:', LEARNING_RATE)\n",
    "print('batch size:', BATCH_SIZE)\n",
    "print('epochs:', EPOCHS)"
   ],
   "outputs": [
    {
     "output_type": "stream",
     "name": "stdout",
     "text": [
      "num clients: 5\n",
      "num rounds: 50\n",
      "----------------------------------------\n",
      "client training set size: [180, 180, 180, 180, 180]\n",
      "client validation set size: [10, 10, 10, 10, 10, 10, 10, 10, 10, 10]\n",
      "test set size: 100\n",
      "----------------------------------------\n",
      "model name: facebook/deit-small-distilled-patch16-224\n",
      "num classes: 100\n",
      "pre-trained: True\n",
      "learning rate: 0.0001\n",
      "batch size: 32\n",
      "epochs: 1\n"
     ]
    }
   ],
   "metadata": {}
  },
  {
   "cell_type": "code",
   "execution_count": 7,
   "source": [
    "fl.server.start_server(server_address=SERVER_ADDRESS, \n",
    "                       config=fl.server.ServerConfig(num_rounds=NUM_ROUNDS), \n",
    "                       strategy=strategy)"
   ],
   "outputs": [
    {
     "output_type": "stream",
     "name": "stderr",
     "text": [
      "INFO flwr 2023-04-16 18:16:25,246 | app.py:139 | Starting Flower server, config: ServerConfig(num_rounds=50, round_timeout=None)\n",
      "INFO flwr 2023-04-16 18:16:25,274 | app.py:152 | Flower ECE: gRPC server running (50 rounds), SSL is disabled\n",
      "INFO flwr 2023-04-16 18:16:25,275 | server.py:86 | Initializing global parameters\n",
      "INFO flwr 2023-04-16 18:16:25,275 | server.py:266 | Using initial parameters provided by strategy\n",
      "INFO flwr 2023-04-16 18:16:25,275 | server.py:88 | Evaluating initial parameters\n",
      "INFO flwr 2023-04-16 18:16:29,616 | server.py:91 | initial parameters (loss, other metrics): 18.54787826538086, {'test_loss': 18.54787826538086, 'test_accuracy': 0.0}\n",
      "INFO flwr 2023-04-16 18:16:29,617 | server.py:101 | FL starting\n",
      "DEBUG flwr 2023-04-16 18:16:29,728 | server.py:215 | fit_round 1: strategy sampled 2 clients (out of 2)\n",
      "DEBUG flwr 2023-04-16 18:17:18,160 | server.py:229 | fit_round 1 received 2 results and 0 failures\n"
     ]
    },
    {
     "output_type": "stream",
     "name": "stdout",
     "text": [
      "\t {'train_loss': 4.114181160926819, 'train_accuracy': 0.041666666666666664}\n"
     ]
    },
    {
     "output_type": "stream",
     "name": "stderr",
     "text": [
      "INFO flwr 2023-04-16 18:17:27,349 | server.py:116 | fit progress: (1, 17.691734313964844, {'test_loss': 17.691734313964844, 'test_accuracy': 0.03}, 57.731461599993054)\n",
      "DEBUG flwr 2023-04-16 18:17:27,350 | server.py:165 | evaluate_round 1: strategy sampled 2 clients (out of 2)\n",
      "DEBUG flwr 2023-04-16 18:17:31,027 | server.py:179 | evaluate_round 1 received 2 results and 0 failures\n",
      "DEBUG flwr 2023-04-16 18:17:31,028 | server.py:215 | fit_round 2: strategy sampled 2 clients (out of 2)\n"
     ]
    },
    {
     "output_type": "stream",
     "name": "stdout",
     "text": [
      "\t {'val_loss': 4.210288763046265, 'val_accuracy': 0.1}\n"
     ]
    },
    {
     "output_type": "stream",
     "name": "stderr",
     "text": [
      "DEBUG flwr 2023-04-16 18:18:18,011 | server.py:229 | fit_round 2 received 2 results and 0 failures\n"
     ]
    },
    {
     "output_type": "stream",
     "name": "stdout",
     "text": [
      "\t {'train_loss': 3.8754225969314575, 'train_accuracy': 0.23055555555555557}\n"
     ]
    },
    {
     "output_type": "stream",
     "name": "stderr",
     "text": [
      "INFO flwr 2023-04-16 18:18:27,195 | server.py:116 | fit progress: (2, 17.127485275268555, {'test_loss': 17.127485275268555, 'test_accuracy': 0.1}, 117.57730110001285)\n",
      "DEBUG flwr 2023-04-16 18:18:27,196 | server.py:165 | evaluate_round 2: strategy sampled 2 clients (out of 2)\n",
      "DEBUG flwr 2023-04-16 18:18:30,799 | server.py:179 | evaluate_round 2 received 2 results and 0 failures\n",
      "DEBUG flwr 2023-04-16 18:18:30,800 | server.py:215 | fit_round 3: strategy sampled 2 clients (out of 2)\n"
     ]
    },
    {
     "output_type": "stream",
     "name": "stdout",
     "text": [
      "\t {'val_loss': 3.8600000143051147, 'val_accuracy': 0.25}\n"
     ]
    },
    {
     "output_type": "stream",
     "name": "stderr",
     "text": [
      "DEBUG flwr 2023-04-16 18:19:17,546 | server.py:229 | fit_round 3 received 2 results and 0 failures\n"
     ]
    },
    {
     "output_type": "stream",
     "name": "stdout",
     "text": [
      "\t {'train_loss': 3.330754041671753, 'train_accuracy': 0.4222222222222222}\n"
     ]
    },
    {
     "output_type": "stream",
     "name": "stderr",
     "text": [
      "INFO flwr 2023-04-16 18:19:26,308 | server.py:116 | fit progress: (3, 15.15509033203125, {'test_loss': 15.15509033203125, 'test_accuracy': 0.21}, 176.6918443000177)\n",
      "DEBUG flwr 2023-04-16 18:19:26,310 | server.py:165 | evaluate_round 3: strategy sampled 2 clients (out of 2)\n",
      "DEBUG flwr 2023-04-16 18:19:30,043 | server.py:179 | evaluate_round 3 received 2 results and 0 failures\n",
      "DEBUG flwr 2023-04-16 18:19:30,043 | server.py:215 | fit_round 4: strategy sampled 2 clients (out of 2)\n"
     ]
    },
    {
     "output_type": "stream",
     "name": "stdout",
     "text": [
      "\t {'val_loss': 3.2748275995254517, 'val_accuracy': 0.3}\n"
     ]
    },
    {
     "output_type": "stream",
     "name": "stderr",
     "text": [
      "DEBUG flwr 2023-04-16 18:20:17,247 | server.py:229 | fit_round 4 received 2 results and 0 failures\n"
     ]
    },
    {
     "output_type": "stream",
     "name": "stdout",
     "text": [
      "\t {'train_loss': 2.8999154567718506, 'train_accuracy': 0.5361111111111111}\n"
     ]
    },
    {
     "output_type": "stream",
     "name": "stderr",
     "text": [
      "INFO flwr 2023-04-16 18:20:26,605 | server.py:116 | fit progress: (4, 14.557990074157715, {'test_loss': 14.557990074157715, 'test_accuracy': 0.23}, 236.98849069999414)\n",
      "DEBUG flwr 2023-04-16 18:20:26,606 | server.py:165 | evaluate_round 4: strategy sampled 2 clients (out of 2)\n",
      "DEBUG flwr 2023-04-16 18:20:30,296 | server.py:179 | evaluate_round 4 received 2 results and 0 failures\n",
      "DEBUG flwr 2023-04-16 18:20:30,298 | server.py:215 | fit_round 5: strategy sampled 2 clients (out of 2)\n"
     ]
    },
    {
     "output_type": "stream",
     "name": "stdout",
     "text": [
      "\t {'val_loss': 3.1765501499176025, 'val_accuracy': 0.25}\n"
     ]
    },
    {
     "output_type": "stream",
     "name": "stderr",
     "text": [
      "DEBUG flwr 2023-04-16 18:21:17,129 | server.py:229 | fit_round 5 received 2 results and 0 failures\n"
     ]
    },
    {
     "output_type": "stream",
     "name": "stdout",
     "text": [
      "\t {'train_loss': 2.6463537216186523, 'train_accuracy': 0.675}\n"
     ]
    },
    {
     "output_type": "stream",
     "name": "stderr",
     "text": [
      "INFO flwr 2023-04-16 18:21:26,609 | server.py:116 | fit progress: (5, 14.541865348815918, {'test_loss': 14.541865348815918, 'test_accuracy': 0.25}, 296.9918802000175)\n",
      "DEBUG flwr 2023-04-16 18:21:26,610 | server.py:165 | evaluate_round 5: strategy sampled 2 clients (out of 2)\n",
      "DEBUG flwr 2023-04-16 18:21:30,076 | server.py:179 | evaluate_round 5 received 2 results and 0 failures\n",
      "DEBUG flwr 2023-04-16 18:21:30,078 | server.py:215 | fit_round 6: strategy sampled 2 clients (out of 2)\n"
     ]
    },
    {
     "output_type": "stream",
     "name": "stdout",
     "text": [
      "\t {'val_loss': 3.3323423862457275, 'val_accuracy': 0.35}\n"
     ]
    },
    {
     "output_type": "stream",
     "name": "stderr",
     "text": [
      "DEBUG flwr 2023-04-16 18:22:20,845 | server.py:229 | fit_round 6 received 2 results and 0 failures\n"
     ]
    },
    {
     "output_type": "stream",
     "name": "stdout",
     "text": [
      "\t {'train_loss': 2.253289759159088, 'train_accuracy': 0.7805555555555556}\n"
     ]
    },
    {
     "output_type": "stream",
     "name": "stderr",
     "text": [
      "INFO flwr 2023-04-16 18:22:29,836 | server.py:116 | fit progress: (6, 14.318991661071777, {'test_loss': 14.318991661071777, 'test_accuracy': 0.26}, 360.2190171999973)\n",
      "DEBUG flwr 2023-04-16 18:22:29,837 | server.py:165 | evaluate_round 6: strategy sampled 2 clients (out of 2)\n",
      "DEBUG flwr 2023-04-16 18:22:33,510 | server.py:179 | evaluate_round 6 received 2 results and 0 failures\n",
      "DEBUG flwr 2023-04-16 18:22:33,511 | server.py:215 | fit_round 7: strategy sampled 2 clients (out of 2)\n"
     ]
    },
    {
     "output_type": "stream",
     "name": "stdout",
     "text": [
      "\t {'val_loss': 3.247781753540039, 'val_accuracy': 0.25}\n"
     ]
    },
    {
     "output_type": "stream",
     "name": "stderr",
     "text": [
      "DEBUG flwr 2023-04-16 18:23:35,888 | server.py:229 | fit_round 7 received 2 results and 0 failures\n"
     ]
    },
    {
     "output_type": "stream",
     "name": "stdout",
     "text": [
      "\t {'train_loss': 1.794392466545105, 'train_accuracy': 0.8805555555555555}\n"
     ]
    },
    {
     "output_type": "stream",
     "name": "stderr",
     "text": [
      "INFO flwr 2023-04-16 18:23:44,568 | server.py:116 | fit progress: (7, 13.472845077514648, {'test_loss': 13.472845077514648, 'test_accuracy': 0.28}, 434.9518304000085)\n",
      "DEBUG flwr 2023-04-16 18:23:44,569 | server.py:165 | evaluate_round 7: strategy sampled 2 clients (out of 2)\n",
      "DEBUG flwr 2023-04-16 18:23:48,147 | server.py:179 | evaluate_round 7 received 2 results and 0 failures\n",
      "DEBUG flwr 2023-04-16 18:23:48,148 | server.py:215 | fit_round 8: strategy sampled 2 clients (out of 2)\n"
     ]
    },
    {
     "output_type": "stream",
     "name": "stdout",
     "text": [
      "\t {'val_loss': 3.088078737258911, 'val_accuracy': 0.3}\n"
     ]
    },
    {
     "output_type": "stream",
     "name": "stderr",
     "text": [
      "DEBUG flwr 2023-04-16 18:24:53,028 | server.py:229 | fit_round 8 received 2 results and 0 failures\n"
     ]
    },
    {
     "output_type": "stream",
     "name": "stdout",
     "text": [
      "\t {'train_loss': 1.5436502695083618, 'train_accuracy': 0.9166666666666666}\n"
     ]
    },
    {
     "output_type": "stream",
     "name": "stderr",
     "text": [
      "INFO flwr 2023-04-16 18:25:02,086 | server.py:116 | fit progress: (8, 13.428712844848633, {'test_loss': 13.428712844848633, 'test_accuracy': 0.31}, 512.4698383000214)\n",
      "DEBUG flwr 2023-04-16 18:25:02,087 | server.py:165 | evaluate_round 8: strategy sampled 2 clients (out of 2)\n",
      "DEBUG flwr 2023-04-16 18:25:05,704 | server.py:179 | evaluate_round 8 received 2 results and 0 failures\n",
      "DEBUG flwr 2023-04-16 18:25:05,705 | server.py:215 | fit_round 9: strategy sampled 2 clients (out of 2)\n"
     ]
    },
    {
     "output_type": "stream",
     "name": "stdout",
     "text": [
      "\t {'val_loss': 2.9446741342544556, 'val_accuracy': 0.3}\n"
     ]
    },
    {
     "output_type": "stream",
     "name": "stderr",
     "text": [
      "DEBUG flwr 2023-04-16 18:26:02,481 | server.py:229 | fit_round 9 received 2 results and 0 failures\n"
     ]
    },
    {
     "output_type": "stream",
     "name": "stdout",
     "text": [
      "\t {'train_loss': 1.3034362196922302, 'train_accuracy': 0.9361111111111111}\n"
     ]
    },
    {
     "output_type": "stream",
     "name": "stderr",
     "text": [
      "INFO flwr 2023-04-16 18:26:11,648 | server.py:116 | fit progress: (9, 12.929630279541016, {'test_loss': 12.929630279541016, 'test_accuracy': 0.3}, 582.0327605000057)\n",
      "DEBUG flwr 2023-04-16 18:26:11,649 | server.py:165 | evaluate_round 9: strategy sampled 2 clients (out of 2)\n",
      "DEBUG flwr 2023-04-16 18:26:15,294 | server.py:179 | evaluate_round 9 received 2 results and 0 failures\n",
      "DEBUG flwr 2023-04-16 18:26:15,296 | server.py:215 | fit_round 10: strategy sampled 2 clients (out of 2)\n"
     ]
    },
    {
     "output_type": "stream",
     "name": "stdout",
     "text": [
      "\t {'val_loss': 2.7986830472946167, 'val_accuracy': 0.25}\n"
     ]
    },
    {
     "output_type": "stream",
     "name": "stderr",
     "text": [
      "DEBUG flwr 2023-04-16 18:27:05,030 | server.py:229 | fit_round 10 received 2 results and 0 failures\n"
     ]
    },
    {
     "output_type": "stream",
     "name": "stdout",
     "text": [
      "\t {'train_loss': 1.087022215127945, 'train_accuracy': 0.9777777777777777}\n"
     ]
    },
    {
     "output_type": "stream",
     "name": "stderr",
     "text": [
      "INFO flwr 2023-04-16 18:27:13,953 | server.py:116 | fit progress: (10, 12.7693510055542, {'test_loss': 12.7693510055542, 'test_accuracy': 0.3}, 644.3373907000059)\n",
      "DEBUG flwr 2023-04-16 18:27:13,954 | server.py:165 | evaluate_round 10: strategy sampled 2 clients (out of 2)\n",
      "DEBUG flwr 2023-04-16 18:27:17,705 | server.py:179 | evaluate_round 10 received 2 results and 0 failures\n",
      "DEBUG flwr 2023-04-16 18:27:17,706 | server.py:215 | fit_round 11: strategy sampled 2 clients (out of 2)\n"
     ]
    },
    {
     "output_type": "stream",
     "name": "stdout",
     "text": [
      "\t {'val_loss': 2.7496421337127686, 'val_accuracy': 0.35}\n"
     ]
    },
    {
     "output_type": "stream",
     "name": "stderr",
     "text": [
      "DEBUG flwr 2023-04-16 18:28:07,971 | server.py:229 | fit_round 11 received 2 results and 0 failures\n"
     ]
    },
    {
     "output_type": "stream",
     "name": "stdout",
     "text": [
      "\t {'train_loss': 0.7094664573669434, 'train_accuracy': 0.9944444444444445}\n"
     ]
    },
    {
     "output_type": "stream",
     "name": "stderr",
     "text": [
      "INFO flwr 2023-04-16 18:28:12,449 | server.py:116 | fit progress: (11, 12.74669361114502, {'test_loss': 12.74669361114502, 'test_accuracy': 0.27}, 702.8336959000153)\n",
      "DEBUG flwr 2023-04-16 18:28:12,450 | server.py:165 | evaluate_round 11: strategy sampled 2 clients (out of 2)\n",
      "DEBUG flwr 2023-04-16 18:28:16,093 | server.py:179 | evaluate_round 11 received 2 results and 0 failures\n",
      "DEBUG flwr 2023-04-16 18:28:16,094 | server.py:215 | fit_round 12: strategy sampled 2 clients (out of 2)\n"
     ]
    },
    {
     "output_type": "stream",
     "name": "stdout",
     "text": [
      "\t {'val_loss': 2.405107617378235, 'val_accuracy': 0.35}\n"
     ]
    },
    {
     "output_type": "stream",
     "name": "stderr",
     "text": [
      "DEBUG flwr 2023-04-16 18:29:08,464 | server.py:229 | fit_round 12 received 2 results and 0 failures\n"
     ]
    },
    {
     "output_type": "stream",
     "name": "stdout",
     "text": [
      "\t {'train_loss': 0.5567172765731812, 'train_accuracy': 0.9944444444444445}\n"
     ]
    },
    {
     "output_type": "stream",
     "name": "stderr",
     "text": [
      "INFO flwr 2023-04-16 18:29:17,582 | server.py:116 | fit progress: (12, 12.968263626098633, {'test_loss': 12.968263626098633, 'test_accuracy': 0.29}, 767.9666107000085)\n",
      "DEBUG flwr 2023-04-16 18:29:17,583 | server.py:165 | evaluate_round 12: strategy sampled 2 clients (out of 2)\n",
      "DEBUG flwr 2023-04-16 18:29:21,315 | server.py:179 | evaluate_round 12 received 2 results and 0 failures\n",
      "DEBUG flwr 2023-04-16 18:29:21,316 | server.py:215 | fit_round 13: strategy sampled 2 clients (out of 2)\n"
     ]
    },
    {
     "output_type": "stream",
     "name": "stdout",
     "text": [
      "\t {'val_loss': 2.466958999633789, 'val_accuracy': 0.35}\n"
     ]
    },
    {
     "output_type": "stream",
     "name": "stderr",
     "text": [
      "DEBUG flwr 2023-04-16 18:30:19,376 | server.py:229 | fit_round 13 received 2 results and 0 failures\n"
     ]
    },
    {
     "output_type": "stream",
     "name": "stdout",
     "text": [
      "\t {'train_loss': 0.46586785838007927, 'train_accuracy': 0.9944444444444445}\n"
     ]
    },
    {
     "output_type": "stream",
     "name": "stderr",
     "text": [
      "INFO flwr 2023-04-16 18:30:28,625 | server.py:116 | fit progress: (13, 12.88136100769043, {'test_loss': 12.88136100769043, 'test_accuracy': 0.29}, 839.010328400007)\n",
      "DEBUG flwr 2023-04-16 18:30:28,626 | server.py:165 | evaluate_round 13: strategy sampled 2 clients (out of 2)\n",
      "DEBUG flwr 2023-04-16 18:30:32,346 | server.py:179 | evaluate_round 13 received 2 results and 0 failures\n",
      "DEBUG flwr 2023-04-16 18:30:32,348 | server.py:215 | fit_round 14: strategy sampled 2 clients (out of 2)\n"
     ]
    },
    {
     "output_type": "stream",
     "name": "stdout",
     "text": [
      "\t {'val_loss': 2.4609097242355347, 'val_accuracy': 0.45}\n"
     ]
    },
    {
     "output_type": "stream",
     "name": "stderr",
     "text": [
      "DEBUG flwr 2023-04-16 18:31:35,357 | server.py:229 | fit_round 14 received 2 results and 0 failures\n"
     ]
    },
    {
     "output_type": "stream",
     "name": "stdout",
     "text": [
      "\t {'train_loss': 0.31777069345116615, 'train_accuracy': 0.9972222222222222}\n"
     ]
    },
    {
     "output_type": "stream",
     "name": "stderr",
     "text": [
      "INFO flwr 2023-04-16 18:31:44,895 | server.py:116 | fit progress: (14, 12.66230583190918, {'test_loss': 12.66230583190918, 'test_accuracy': 0.3}, 915.2796588000201)\n",
      "DEBUG flwr 2023-04-16 18:31:44,896 | server.py:165 | evaluate_round 14: strategy sampled 2 clients (out of 2)\n",
      "DEBUG flwr 2023-04-16 18:31:48,580 | server.py:179 | evaluate_round 14 received 2 results and 0 failures\n",
      "DEBUG flwr 2023-04-16 18:31:48,581 | server.py:215 | fit_round 15: strategy sampled 2 clients (out of 2)\n"
     ]
    },
    {
     "output_type": "stream",
     "name": "stdout",
     "text": [
      "\t {'val_loss': 2.5938135385513306, 'val_accuracy': 0.35}\n"
     ]
    },
    {
     "output_type": "stream",
     "name": "stderr",
     "text": [
      "DEBUG flwr 2023-04-16 18:32:46,494 | server.py:229 | fit_round 15 received 2 results and 0 failures\n"
     ]
    },
    {
     "output_type": "stream",
     "name": "stdout",
     "text": [
      "\t {'train_loss': 0.1803318914026022, 'train_accuracy': 1.0}\n"
     ]
    },
    {
     "output_type": "stream",
     "name": "stderr",
     "text": [
      "INFO flwr 2023-04-16 18:32:55,572 | server.py:116 | fit progress: (15, 12.696294784545898, {'test_loss': 12.696294784545898, 'test_accuracy': 0.29}, 985.9579275000142)\n",
      "DEBUG flwr 2023-04-16 18:32:55,573 | server.py:165 | evaluate_round 15: strategy sampled 2 clients (out of 2)\n",
      "DEBUG flwr 2023-04-16 18:32:59,192 | server.py:179 | evaluate_round 15 received 2 results and 0 failures\n",
      "DEBUG flwr 2023-04-16 18:32:59,193 | server.py:215 | fit_round 16: strategy sampled 2 clients (out of 2)\n"
     ]
    },
    {
     "output_type": "stream",
     "name": "stdout",
     "text": [
      "\t {'val_loss': 2.500352382659912, 'val_accuracy': 0.35}\n"
     ]
    },
    {
     "output_type": "stream",
     "name": "stderr",
     "text": [
      "DEBUG flwr 2023-04-16 18:33:50,897 | server.py:229 | fit_round 16 received 2 results and 0 failures\n"
     ]
    },
    {
     "output_type": "stream",
     "name": "stdout",
     "text": [
      "\t {'train_loss': 0.12477278988808393, 'train_accuracy': 1.0}\n"
     ]
    },
    {
     "output_type": "stream",
     "name": "stderr",
     "text": [
      "INFO flwr 2023-04-16 18:34:00,134 | server.py:116 | fit progress: (16, 12.644745826721191, {'test_loss': 12.644745826721191, 'test_accuracy': 0.28}, 1050.5197451999993)\n",
      "DEBUG flwr 2023-04-16 18:34:00,135 | server.py:165 | evaluate_round 16: strategy sampled 2 clients (out of 2)\n",
      "DEBUG flwr 2023-04-16 18:34:03,729 | server.py:179 | evaluate_round 16 received 2 results and 0 failures\n",
      "DEBUG flwr 2023-04-16 18:34:03,730 | server.py:215 | fit_round 17: strategy sampled 2 clients (out of 2)\n"
     ]
    },
    {
     "output_type": "stream",
     "name": "stdout",
     "text": [
      "\t {'val_loss': 2.4353420734405518, 'val_accuracy': 0.4}\n"
     ]
    },
    {
     "output_type": "stream",
     "name": "stderr",
     "text": [
      "DEBUG flwr 2023-04-16 18:34:54,615 | server.py:229 | fit_round 17 received 2 results and 0 failures\n"
     ]
    },
    {
     "output_type": "stream",
     "name": "stdout",
     "text": [
      "\t {'train_loss': 0.10666489088907838, 'train_accuracy': 1.0}\n"
     ]
    },
    {
     "output_type": "stream",
     "name": "stderr",
     "text": [
      "INFO flwr 2023-04-16 18:35:03,946 | server.py:116 | fit progress: (17, 12.474201202392578, {'test_loss': 12.474201202392578, 'test_accuracy': 0.31}, 1114.3322580000095)\n",
      "DEBUG flwr 2023-04-16 18:35:03,947 | server.py:165 | evaluate_round 17: strategy sampled 2 clients (out of 2)\n",
      "DEBUG flwr 2023-04-16 18:35:07,429 | server.py:179 | evaluate_round 17 received 2 results and 0 failures\n",
      "DEBUG flwr 2023-04-16 18:35:07,430 | server.py:215 | fit_round 18: strategy sampled 2 clients (out of 2)\n"
     ]
    },
    {
     "output_type": "stream",
     "name": "stdout",
     "text": [
      "\t {'val_loss': 2.5677746534347534, 'val_accuracy': 0.35}\n"
     ]
    },
    {
     "output_type": "stream",
     "name": "stderr",
     "text": [
      "DEBUG flwr 2023-04-16 18:35:59,002 | server.py:229 | fit_round 18 received 2 results and 0 failures\n"
     ]
    },
    {
     "output_type": "stream",
     "name": "stdout",
     "text": [
      "\t {'train_loss': 0.06111731403507292, 'train_accuracy': 1.0}\n"
     ]
    },
    {
     "output_type": "stream",
     "name": "stderr",
     "text": [
      "INFO flwr 2023-04-16 18:36:08,463 | server.py:116 | fit progress: (18, 12.20671558380127, {'test_loss': 12.20671558380127, 'test_accuracy': 0.3}, 1178.8475401000178)\n",
      "DEBUG flwr 2023-04-16 18:36:08,464 | server.py:165 | evaluate_round 18: strategy sampled 2 clients (out of 2)\n",
      "DEBUG flwr 2023-04-16 18:36:12,055 | server.py:179 | evaluate_round 18 received 2 results and 0 failures\n",
      "DEBUG flwr 2023-04-16 18:36:12,056 | server.py:215 | fit_round 19: strategy sampled 2 clients (out of 2)\n"
     ]
    },
    {
     "output_type": "stream",
     "name": "stdout",
     "text": [
      "\t {'val_loss': 2.385379374027252, 'val_accuracy': 0.4}\n"
     ]
    },
    {
     "output_type": "stream",
     "name": "stderr",
     "text": [
      "DEBUG flwr 2023-04-16 18:37:05,088 | server.py:229 | fit_round 19 received 2 results and 0 failures\n"
     ]
    },
    {
     "output_type": "stream",
     "name": "stdout",
     "text": [
      "\t {'train_loss': 0.041763545479625463, 'train_accuracy': 1.0}\n"
     ]
    },
    {
     "output_type": "stream",
     "name": "stderr",
     "text": [
      "INFO flwr 2023-04-16 18:37:14,805 | server.py:116 | fit progress: (19, 12.218321800231934, {'test_loss': 12.218321800231934, 'test_accuracy': 0.31}, 1245.1911469000042)\n",
      "DEBUG flwr 2023-04-16 18:37:14,806 | server.py:165 | evaluate_round 19: strategy sampled 2 clients (out of 2)\n",
      "DEBUG flwr 2023-04-16 18:37:18,561 | server.py:179 | evaluate_round 19 received 2 results and 0 failures\n",
      "DEBUG flwr 2023-04-16 18:37:18,563 | server.py:215 | fit_round 20: strategy sampled 2 clients (out of 2)\n"
     ]
    },
    {
     "output_type": "stream",
     "name": "stdout",
     "text": [
      "\t {'val_loss': 2.408519446849823, 'val_accuracy': 0.4}\n"
     ]
    },
    {
     "output_type": "stream",
     "name": "stderr",
     "text": [
      "DEBUG flwr 2023-04-16 18:38:13,884 | server.py:229 | fit_round 20 received 2 results and 0 failures\n"
     ]
    },
    {
     "output_type": "stream",
     "name": "stdout",
     "text": [
      "\t {'train_loss': 0.0419860027031973, 'train_accuracy': 1.0}\n"
     ]
    },
    {
     "output_type": "stream",
     "name": "stderr",
     "text": [
      "INFO flwr 2023-04-16 18:38:23,411 | server.py:116 | fit progress: (20, 12.27967643737793, {'test_loss': 12.27967643737793, 'test_accuracy': 0.32}, 1313.7976312999963)\n",
      "DEBUG flwr 2023-04-16 18:38:23,413 | server.py:165 | evaluate_round 20: strategy sampled 2 clients (out of 2)\n",
      "DEBUG flwr 2023-04-16 18:38:27,011 | server.py:179 | evaluate_round 20 received 2 results and 0 failures\n",
      "DEBUG flwr 2023-04-16 18:38:27,012 | server.py:215 | fit_round 21: strategy sampled 2 clients (out of 2)\n"
     ]
    },
    {
     "output_type": "stream",
     "name": "stdout",
     "text": [
      "\t {'val_loss': 2.4792579412460327, 'val_accuracy': 0.45}\n"
     ]
    },
    {
     "output_type": "stream",
     "name": "stderr",
     "text": [
      "DEBUG flwr 2023-04-16 18:39:22,339 | server.py:229 | fit_round 21 received 2 results and 0 failures\n"
     ]
    },
    {
     "output_type": "stream",
     "name": "stdout",
     "text": [
      "\t {'train_loss': 0.020817514276131988, 'train_accuracy': 1.0}\n"
     ]
    },
    {
     "output_type": "stream",
     "name": "stderr",
     "text": [
      "INFO flwr 2023-04-16 18:39:31,708 | server.py:116 | fit progress: (21, 12.382923126220703, {'test_loss': 12.382923126220703, 'test_accuracy': 0.31}, 1382.0947160000214)\n",
      "DEBUG flwr 2023-04-16 18:39:31,710 | server.py:165 | evaluate_round 21: strategy sampled 2 clients (out of 2)\n",
      "DEBUG flwr 2023-04-16 18:39:35,172 | server.py:179 | evaluate_round 21 received 2 results and 0 failures\n",
      "DEBUG flwr 2023-04-16 18:39:35,175 | server.py:215 | fit_round 22: strategy sampled 2 clients (out of 2)\n"
     ]
    },
    {
     "output_type": "stream",
     "name": "stdout",
     "text": [
      "\t {'val_loss': 2.6130456924438477, 'val_accuracy': 0.35}\n"
     ]
    },
    {
     "output_type": "stream",
     "name": "stderr",
     "text": [
      "DEBUG flwr 2023-04-16 18:40:31,256 | server.py:229 | fit_round 22 received 2 results and 0 failures\n"
     ]
    },
    {
     "output_type": "stream",
     "name": "stdout",
     "text": [
      "\t {'train_loss': 0.017800492816604674, 'train_accuracy': 1.0}\n"
     ]
    },
    {
     "output_type": "stream",
     "name": "stderr",
     "text": [
      "INFO flwr 2023-04-16 18:40:40,559 | server.py:116 | fit progress: (22, 12.58217716217041, {'test_loss': 12.58217716217041, 'test_accuracy': 0.33}, 1450.945907700021)\n",
      "DEBUG flwr 2023-04-16 18:40:40,561 | server.py:165 | evaluate_round 22: strategy sampled 2 clients (out of 2)\n",
      "DEBUG flwr 2023-04-16 18:40:44,173 | server.py:179 | evaluate_round 22 received 2 results and 0 failures\n",
      "DEBUG flwr 2023-04-16 18:40:44,174 | server.py:215 | fit_round 23: strategy sampled 2 clients (out of 2)\n"
     ]
    },
    {
     "output_type": "stream",
     "name": "stdout",
     "text": [
      "\t {'val_loss': 2.4989757537841797, 'val_accuracy': 0.45}\n"
     ]
    },
    {
     "output_type": "stream",
     "name": "stderr",
     "text": [
      "DEBUG flwr 2023-04-16 18:41:39,188 | server.py:229 | fit_round 23 received 2 results and 0 failures\n"
     ]
    },
    {
     "output_type": "stream",
     "name": "stdout",
     "text": [
      "\t {'train_loss': 0.01464429555926472, 'train_accuracy': 1.0}\n"
     ]
    },
    {
     "output_type": "stream",
     "name": "stderr",
     "text": [
      "INFO flwr 2023-04-16 18:41:48,438 | server.py:116 | fit progress: (23, 12.798480033874512, {'test_loss': 12.798480033874512, 'test_accuracy': 0.35}, 1518.8246186000179)\n",
      "DEBUG flwr 2023-04-16 18:41:48,439 | server.py:165 | evaluate_round 23: strategy sampled 2 clients (out of 2)\n",
      "DEBUG flwr 2023-04-16 18:41:52,305 | server.py:179 | evaluate_round 23 received 2 results and 0 failures\n",
      "DEBUG flwr 2023-04-16 18:41:52,306 | server.py:215 | fit_round 24: strategy sampled 2 clients (out of 2)\n"
     ]
    },
    {
     "output_type": "stream",
     "name": "stdout",
     "text": [
      "\t {'val_loss': 2.5768567323684692, 'val_accuracy': 0.35}\n"
     ]
    },
    {
     "output_type": "stream",
     "name": "stderr",
     "text": [
      "DEBUG flwr 2023-04-16 18:42:46,913 | server.py:229 | fit_round 24 received 2 results and 0 failures\n"
     ]
    },
    {
     "output_type": "stream",
     "name": "stdout",
     "text": [
      "\t {'train_loss': 0.0084726506320294, 'train_accuracy': 1.0}\n"
     ]
    },
    {
     "output_type": "stream",
     "name": "stderr",
     "text": [
      "INFO flwr 2023-04-16 18:42:51,428 | server.py:116 | fit progress: (24, 12.823866844177246, {'test_loss': 12.823866844177246, 'test_accuracy': 0.34}, 1581.8143146999937)\n",
      "DEBUG flwr 2023-04-16 18:42:51,429 | server.py:165 | evaluate_round 24: strategy sampled 2 clients (out of 2)\n",
      "DEBUG flwr 2023-04-16 18:42:54,964 | server.py:179 | evaluate_round 24 received 2 results and 0 failures\n",
      "DEBUG flwr 2023-04-16 18:42:54,965 | server.py:215 | fit_round 25: strategy sampled 2 clients (out of 2)\n"
     ]
    },
    {
     "output_type": "stream",
     "name": "stdout",
     "text": [
      "\t {'val_loss': 2.3594380617141724, 'val_accuracy': 0.4}\n"
     ]
    },
    {
     "output_type": "stream",
     "name": "stderr",
     "text": [
      "DEBUG flwr 2023-04-16 18:43:51,005 | server.py:229 | fit_round 25 received 2 results and 0 failures\n"
     ]
    },
    {
     "output_type": "stream",
     "name": "stdout",
     "text": [
      "\t {'train_loss': 0.005146677154698409, 'train_accuracy': 1.0}\n"
     ]
    },
    {
     "output_type": "stream",
     "name": "stderr",
     "text": [
      "INFO flwr 2023-04-16 18:43:55,512 | server.py:116 | fit progress: (25, 12.692155838012695, {'test_loss': 12.692155838012695, 'test_accuracy': 0.31}, 1645.8992327000014)\n",
      "DEBUG flwr 2023-04-16 18:43:55,513 | server.py:165 | evaluate_round 25: strategy sampled 2 clients (out of 2)\n",
      "DEBUG flwr 2023-04-16 18:43:59,008 | server.py:179 | evaluate_round 25 received 2 results and 0 failures\n",
      "DEBUG flwr 2023-04-16 18:43:59,008 | server.py:215 | fit_round 26: strategy sampled 2 clients (out of 2)\n"
     ]
    },
    {
     "output_type": "stream",
     "name": "stdout",
     "text": [
      "\t {'val_loss': 2.6341209411621094, 'val_accuracy': 0.4}\n"
     ]
    },
    {
     "output_type": "stream",
     "name": "stderr",
     "text": [
      "DEBUG flwr 2023-04-16 18:44:55,077 | server.py:229 | fit_round 26 received 2 results and 0 failures\n"
     ]
    },
    {
     "output_type": "stream",
     "name": "stdout",
     "text": [
      "\t {'train_loss': 0.003030581727216486, 'train_accuracy': 1.0}\n"
     ]
    },
    {
     "output_type": "stream",
     "name": "stderr",
     "text": [
      "INFO flwr 2023-04-16 18:44:59,560 | server.py:116 | fit progress: (26, 13.272126197814941, {'test_loss': 13.272126197814941, 'test_accuracy': 0.32}, 1709.947509599995)\n",
      "DEBUG flwr 2023-04-16 18:44:59,561 | server.py:165 | evaluate_round 26: strategy sampled 2 clients (out of 2)\n",
      "DEBUG flwr 2023-04-16 18:45:03,056 | server.py:179 | evaluate_round 26 received 2 results and 0 failures\n",
      "DEBUG flwr 2023-04-16 18:45:03,056 | server.py:215 | fit_round 27: strategy sampled 2 clients (out of 2)\n"
     ]
    },
    {
     "output_type": "stream",
     "name": "stdout",
     "text": [
      "\t {'val_loss': 2.430576741695404, 'val_accuracy': 0.4}\n"
     ]
    },
    {
     "output_type": "stream",
     "name": "stderr",
     "text": [
      "DEBUG flwr 2023-04-16 18:45:59,120 | server.py:229 | fit_round 27 received 2 results and 0 failures\n"
     ]
    },
    {
     "output_type": "stream",
     "name": "stdout",
     "text": [
      "\t {'train_loss': 0.004864934555371292, 'train_accuracy': 1.0}\n"
     ]
    },
    {
     "output_type": "stream",
     "name": "stderr",
     "text": [
      "INFO flwr 2023-04-16 18:46:03,610 | server.py:116 | fit progress: (27, 13.081766128540039, {'test_loss': 13.081766128540039, 'test_accuracy': 0.35}, 1773.9976826000202)\n",
      "DEBUG flwr 2023-04-16 18:46:03,611 | server.py:165 | evaluate_round 27: strategy sampled 2 clients (out of 2)\n",
      "DEBUG flwr 2023-04-16 18:46:07,125 | server.py:179 | evaluate_round 27 received 2 results and 0 failures\n",
      "DEBUG flwr 2023-04-16 18:46:07,126 | server.py:215 | fit_round 28: strategy sampled 2 clients (out of 2)\n"
     ]
    },
    {
     "output_type": "stream",
     "name": "stdout",
     "text": [
      "\t {'val_loss': 2.5492734909057617, 'val_accuracy': 0.35}\n"
     ]
    },
    {
     "output_type": "stream",
     "name": "stderr",
     "text": [
      "DEBUG flwr 2023-04-16 18:47:03,278 | server.py:229 | fit_round 28 received 2 results and 0 failures\n"
     ]
    },
    {
     "output_type": "stream",
     "name": "stdout",
     "text": [
      "\t {'train_loss': 0.001448787337722024, 'train_accuracy': 1.0}\n"
     ]
    },
    {
     "output_type": "stream",
     "name": "stderr",
     "text": [
      "INFO flwr 2023-04-16 18:47:07,789 | server.py:116 | fit progress: (28, 13.72221851348877, {'test_loss': 13.72221851348877, 'test_accuracy': 0.34}, 1838.1768614000175)\n",
      "DEBUG flwr 2023-04-16 18:47:07,790 | server.py:165 | evaluate_round 28: strategy sampled 2 clients (out of 2)\n",
      "DEBUG flwr 2023-04-16 18:47:11,372 | server.py:179 | evaluate_round 28 received 2 results and 0 failures\n",
      "DEBUG flwr 2023-04-16 18:47:11,373 | server.py:215 | fit_round 29: strategy sampled 2 clients (out of 2)\n"
     ]
    },
    {
     "output_type": "stream",
     "name": "stdout",
     "text": [
      "\t {'val_loss': 2.4710023999214172, 'val_accuracy': 0.4}\n"
     ]
    },
    {
     "output_type": "stream",
     "name": "stderr",
     "text": [
      "DEBUG flwr 2023-04-16 18:48:07,460 | server.py:229 | fit_round 29 received 2 results and 0 failures\n"
     ]
    },
    {
     "output_type": "stream",
     "name": "stdout",
     "text": [
      "\t {'train_loss': 0.0010602668626233935, 'train_accuracy': 1.0}\n"
     ]
    },
    {
     "output_type": "stream",
     "name": "stderr",
     "text": [
      "INFO flwr 2023-04-16 18:48:11,951 | server.py:116 | fit progress: (29, 13.764286994934082, {'test_loss': 13.764286994934082, 'test_accuracy': 0.34}, 1902.338945399999)\n",
      "DEBUG flwr 2023-04-16 18:48:11,952 | server.py:165 | evaluate_round 29: strategy sampled 2 clients (out of 2)\n",
      "DEBUG flwr 2023-04-16 18:48:15,572 | server.py:179 | evaluate_round 29 received 2 results and 0 failures\n",
      "DEBUG flwr 2023-04-16 18:48:15,573 | server.py:215 | fit_round 30: strategy sampled 2 clients (out of 2)\n"
     ]
    },
    {
     "output_type": "stream",
     "name": "stdout",
     "text": [
      "\t {'val_loss': 2.594292640686035, 'val_accuracy': 0.35}\n"
     ]
    },
    {
     "output_type": "stream",
     "name": "stderr",
     "text": [
      "DEBUG flwr 2023-04-16 18:49:10,766 | server.py:229 | fit_round 30 received 2 results and 0 failures\n"
     ]
    },
    {
     "output_type": "stream",
     "name": "stdout",
     "text": [
      "\t {'train_loss': 0.0007946125788294012, 'train_accuracy': 1.0}\n"
     ]
    },
    {
     "output_type": "stream",
     "name": "stderr",
     "text": [
      "INFO flwr 2023-04-16 18:49:15,244 | server.py:116 | fit progress: (30, 13.428006172180176, {'test_loss': 13.428006172180176, 'test_accuracy': 0.34}, 1965.631714999996)\n",
      "DEBUG flwr 2023-04-16 18:49:15,245 | server.py:165 | evaluate_round 30: strategy sampled 2 clients (out of 2)\n",
      "DEBUG flwr 2023-04-16 18:49:18,872 | server.py:179 | evaluate_round 30 received 2 results and 0 failures\n",
      "DEBUG flwr 2023-04-16 18:49:18,873 | server.py:215 | fit_round 31: strategy sampled 2 clients (out of 2)\n"
     ]
    },
    {
     "output_type": "stream",
     "name": "stdout",
     "text": [
      "\t {'val_loss': 2.5136489868164062, 'val_accuracy': 0.35}\n"
     ]
    },
    {
     "output_type": "stream",
     "name": "stderr",
     "text": [
      "DEBUG flwr 2023-04-16 18:50:14,471 | server.py:229 | fit_round 31 received 2 results and 0 failures\n"
     ]
    },
    {
     "output_type": "stream",
     "name": "stdout",
     "text": [
      "\t {'train_loss': 0.00040493925007467624, 'train_accuracy': 1.0}\n"
     ]
    },
    {
     "output_type": "stream",
     "name": "stderr",
     "text": [
      "INFO flwr 2023-04-16 18:50:18,973 | server.py:116 | fit progress: (31, 13.701290130615234, {'test_loss': 13.701290130615234, 'test_accuracy': 0.33}, 2029.361922800017)\n",
      "DEBUG flwr 2023-04-16 18:50:18,974 | server.py:165 | evaluate_round 31: strategy sampled 2 clients (out of 2)\n",
      "DEBUG flwr 2023-04-16 18:50:22,467 | server.py:179 | evaluate_round 31 received 2 results and 0 failures\n",
      "DEBUG flwr 2023-04-16 18:50:22,468 | server.py:215 | fit_round 32: strategy sampled 2 clients (out of 2)\n"
     ]
    },
    {
     "output_type": "stream",
     "name": "stdout",
     "text": [
      "\t {'val_loss': 2.6457762718200684, 'val_accuracy': 0.4}\n"
     ]
    },
    {
     "output_type": "stream",
     "name": "stderr",
     "text": [
      "DEBUG flwr 2023-04-16 18:51:18,671 | server.py:229 | fit_round 32 received 2 results and 0 failures\n"
     ]
    },
    {
     "output_type": "stream",
     "name": "stdout",
     "text": [
      "\t {'train_loss': 0.00031949639287631726, 'train_accuracy': 1.0}\n"
     ]
    },
    {
     "output_type": "stream",
     "name": "stderr",
     "text": [
      "INFO flwr 2023-04-16 18:51:23,137 | server.py:116 | fit progress: (32, 13.555986404418945, {'test_loss': 13.555986404418945, 'test_accuracy': 0.33}, 2093.52559200002)\n",
      "DEBUG flwr 2023-04-16 18:51:23,138 | server.py:165 | evaluate_round 32: strategy sampled 2 clients (out of 2)\n",
      "DEBUG flwr 2023-04-16 18:51:26,875 | server.py:179 | evaluate_round 32 received 2 results and 0 failures\n",
      "DEBUG flwr 2023-04-16 18:51:26,876 | server.py:215 | fit_round 33: strategy sampled 2 clients (out of 2)\n"
     ]
    },
    {
     "output_type": "stream",
     "name": "stdout",
     "text": [
      "\t {'val_loss': 2.571264386177063, 'val_accuracy': 0.4}\n"
     ]
    },
    {
     "output_type": "stream",
     "name": "stderr",
     "text": [
      "DEBUG flwr 2023-04-16 18:52:22,668 | server.py:229 | fit_round 33 received 2 results and 0 failures\n"
     ]
    },
    {
     "output_type": "stream",
     "name": "stdout",
     "text": [
      "\t {'train_loss': 0.00017841814224084374, 'train_accuracy': 1.0}\n"
     ]
    },
    {
     "output_type": "stream",
     "name": "stderr",
     "text": [
      "INFO flwr 2023-04-16 18:52:27,179 | server.py:116 | fit progress: (33, 13.76313591003418, {'test_loss': 13.76313591003418, 'test_accuracy': 0.34}, 2157.5670209999953)\n",
      "DEBUG flwr 2023-04-16 18:52:27,180 | server.py:165 | evaluate_round 33: strategy sampled 2 clients (out of 2)\n",
      "DEBUG flwr 2023-04-16 18:52:30,701 | server.py:179 | evaluate_round 33 received 2 results and 0 failures\n",
      "DEBUG flwr 2023-04-16 18:52:30,702 | server.py:215 | fit_round 34: strategy sampled 2 clients (out of 2)\n"
     ]
    },
    {
     "output_type": "stream",
     "name": "stdout",
     "text": [
      "\t {'val_loss': 2.730034828186035, 'val_accuracy': 0.35}\n"
     ]
    },
    {
     "output_type": "stream",
     "name": "stderr",
     "text": [
      "DEBUG flwr 2023-04-16 18:53:26,828 | server.py:229 | fit_round 34 received 2 results and 0 failures\n"
     ]
    },
    {
     "output_type": "stream",
     "name": "stdout",
     "text": [
      "\t {'train_loss': 0.00016007799649742083, 'train_accuracy': 1.0}\n"
     ]
    },
    {
     "output_type": "stream",
     "name": "stderr",
     "text": [
      "INFO flwr 2023-04-16 18:53:31,356 | server.py:116 | fit progress: (34, 13.512995719909668, {'test_loss': 13.512995719909668, 'test_accuracy': 0.34}, 2221.7442490000103)\n",
      "DEBUG flwr 2023-04-16 18:53:31,357 | server.py:165 | evaluate_round 34: strategy sampled 2 clients (out of 2)\n",
      "DEBUG flwr 2023-04-16 18:53:34,747 | server.py:179 | evaluate_round 34 received 2 results and 0 failures\n",
      "DEBUG flwr 2023-04-16 18:53:34,748 | server.py:215 | fit_round 35: strategy sampled 2 clients (out of 2)\n"
     ]
    },
    {
     "output_type": "stream",
     "name": "stdout",
     "text": [
      "\t {'val_loss': 2.758842706680298, 'val_accuracy': 0.35}\n"
     ]
    },
    {
     "output_type": "stream",
     "name": "stderr",
     "text": [
      "DEBUG flwr 2023-04-16 18:54:29,986 | server.py:229 | fit_round 35 received 2 results and 0 failures\n"
     ]
    },
    {
     "output_type": "stream",
     "name": "stdout",
     "text": [
      "\t {'train_loss': 0.00010716180963754596, 'train_accuracy': 1.0}\n"
     ]
    },
    {
     "output_type": "stream",
     "name": "stderr",
     "text": [
      "INFO flwr 2023-04-16 18:54:34,457 | server.py:116 | fit progress: (35, 13.550924301147461, {'test_loss': 13.550924301147461, 'test_accuracy': 0.32}, 2284.845357400016)\n",
      "DEBUG flwr 2023-04-16 18:54:34,458 | server.py:165 | evaluate_round 35: strategy sampled 2 clients (out of 2)\n",
      "DEBUG flwr 2023-04-16 18:54:37,981 | server.py:179 | evaluate_round 35 received 2 results and 0 failures\n",
      "DEBUG flwr 2023-04-16 18:54:37,982 | server.py:215 | fit_round 36: strategy sampled 2 clients (out of 2)\n"
     ]
    },
    {
     "output_type": "stream",
     "name": "stdout",
     "text": [
      "\t {'val_loss': 2.59946346282959, 'val_accuracy': 0.4}\n"
     ]
    },
    {
     "output_type": "stream",
     "name": "stderr",
     "text": [
      "DEBUG flwr 2023-04-16 18:55:33,803 | server.py:229 | fit_round 36 received 2 results and 0 failures\n"
     ]
    },
    {
     "output_type": "stream",
     "name": "stdout",
     "text": [
      "\t {'train_loss': 0.00012972662113952538, 'train_accuracy': 1.0}\n"
     ]
    },
    {
     "output_type": "stream",
     "name": "stderr",
     "text": [
      "INFO flwr 2023-04-16 18:55:38,366 | server.py:116 | fit progress: (36, 13.7080717086792, {'test_loss': 13.7080717086792, 'test_accuracy': 0.31}, 2348.7544105999987)\n",
      "DEBUG flwr 2023-04-16 18:55:38,367 | server.py:165 | evaluate_round 36: strategy sampled 2 clients (out of 2)\n",
      "DEBUG flwr 2023-04-16 18:55:41,929 | server.py:179 | evaluate_round 36 received 2 results and 0 failures\n",
      "DEBUG flwr 2023-04-16 18:55:41,930 | server.py:215 | fit_round 37: strategy sampled 2 clients (out of 2)\n"
     ]
    },
    {
     "output_type": "stream",
     "name": "stdout",
     "text": [
      "\t {'val_loss': 2.6989461183547974, 'val_accuracy': 0.35}\n"
     ]
    },
    {
     "output_type": "stream",
     "name": "stderr",
     "text": [
      "DEBUG flwr 2023-04-16 18:56:37,121 | server.py:229 | fit_round 37 received 2 results and 0 failures\n"
     ]
    },
    {
     "output_type": "stream",
     "name": "stdout",
     "text": [
      "\t {'train_loss': 7.601842003168713e-05, 'train_accuracy': 1.0}\n"
     ]
    },
    {
     "output_type": "stream",
     "name": "stderr",
     "text": [
      "INFO flwr 2023-04-16 18:56:41,598 | server.py:116 | fit progress: (37, 13.902030944824219, {'test_loss': 13.902030944824219, 'test_accuracy': 0.34}, 2411.9862308000156)\n",
      "DEBUG flwr 2023-04-16 18:56:41,598 | server.py:165 | evaluate_round 37: strategy sampled 2 clients (out of 2)\n",
      "DEBUG flwr 2023-04-16 18:56:45,169 | server.py:179 | evaluate_round 37 received 2 results and 0 failures\n",
      "DEBUG flwr 2023-04-16 18:56:45,170 | server.py:215 | fit_round 38: strategy sampled 2 clients (out of 2)\n"
     ]
    },
    {
     "output_type": "stream",
     "name": "stdout",
     "text": [
      "\t {'val_loss': 2.7400752305984497, 'val_accuracy': 0.4}\n"
     ]
    },
    {
     "output_type": "stream",
     "name": "stderr",
     "text": [
      "DEBUG flwr 2023-04-16 18:57:40,575 | server.py:229 | fit_round 38 received 2 results and 0 failures\n"
     ]
    },
    {
     "output_type": "stream",
     "name": "stdout",
     "text": [
      "\t {'train_loss': 5.4739922063617996e-05, 'train_accuracy': 1.0}\n"
     ]
    },
    {
     "output_type": "stream",
     "name": "stderr",
     "text": [
      "INFO flwr 2023-04-16 18:57:45,064 | server.py:116 | fit progress: (38, 13.944766998291016, {'test_loss': 13.944766998291016, 'test_accuracy': 0.33}, 2475.4524263000058)\n",
      "DEBUG flwr 2023-04-16 18:57:45,064 | server.py:165 | evaluate_round 38: strategy sampled 2 clients (out of 2)\n",
      "DEBUG flwr 2023-04-16 18:57:48,751 | server.py:179 | evaluate_round 38 received 2 results and 0 failures\n",
      "DEBUG flwr 2023-04-16 18:57:48,752 | server.py:215 | fit_round 39: strategy sampled 2 clients (out of 2)\n"
     ]
    },
    {
     "output_type": "stream",
     "name": "stdout",
     "text": [
      "\t {'val_loss': 2.6493077278137207, 'val_accuracy': 0.4}\n"
     ]
    },
    {
     "output_type": "stream",
     "name": "stderr",
     "text": [
      "DEBUG flwr 2023-04-16 18:58:45,273 | server.py:229 | fit_round 39 received 2 results and 0 failures\n"
     ]
    },
    {
     "output_type": "stream",
     "name": "stdout",
     "text": [
      "\t {'train_loss': 2.768239539818751e-05, 'train_accuracy': 1.0}\n"
     ]
    },
    {
     "output_type": "stream",
     "name": "stderr",
     "text": [
      "INFO flwr 2023-04-16 18:58:49,803 | server.py:116 | fit progress: (39, 13.889017105102539, {'test_loss': 13.889017105102539, 'test_accuracy': 0.32}, 2540.1919007000106)\n",
      "DEBUG flwr 2023-04-16 18:58:49,804 | server.py:165 | evaluate_round 39: strategy sampled 2 clients (out of 2)\n",
      "DEBUG flwr 2023-04-16 18:58:53,687 | server.py:179 | evaluate_round 39 received 2 results and 0 failures\n",
      "DEBUG flwr 2023-04-16 18:58:53,688 | server.py:215 | fit_round 40: strategy sampled 2 clients (out of 2)\n"
     ]
    },
    {
     "output_type": "stream",
     "name": "stdout",
     "text": [
      "\t {'val_loss': 2.7471219301223755, 'val_accuracy': 0.4}\n"
     ]
    },
    {
     "output_type": "stream",
     "name": "stderr",
     "text": [
      "DEBUG flwr 2023-04-16 18:59:50,022 | server.py:229 | fit_round 40 received 2 results and 0 failures\n"
     ]
    },
    {
     "output_type": "stream",
     "name": "stdout",
     "text": [
      "\t {'train_loss': 2.2732432171324035e-05, 'train_accuracy': 1.0}\n"
     ]
    },
    {
     "output_type": "stream",
     "name": "stderr",
     "text": [
      "INFO flwr 2023-04-16 18:59:54,500 | server.py:116 | fit progress: (40, 13.924051284790039, {'test_loss': 13.924051284790039, 'test_accuracy': 0.32}, 2604.888267400005)\n",
      "DEBUG flwr 2023-04-16 18:59:54,500 | server.py:165 | evaluate_round 40: strategy sampled 2 clients (out of 2)\n",
      "DEBUG flwr 2023-04-16 18:59:58,225 | server.py:179 | evaluate_round 40 received 2 results and 0 failures\n",
      "DEBUG flwr 2023-04-16 18:59:58,226 | server.py:215 | fit_round 41: strategy sampled 2 clients (out of 2)\n"
     ]
    },
    {
     "output_type": "stream",
     "name": "stdout",
     "text": [
      "\t {'val_loss': 2.7466341257095337, 'val_accuracy': 0.35}\n"
     ]
    },
    {
     "output_type": "stream",
     "name": "stderr",
     "text": [
      "DEBUG flwr 2023-04-16 19:00:54,140 | server.py:229 | fit_round 41 received 2 results and 0 failures\n"
     ]
    },
    {
     "output_type": "stream",
     "name": "stdout",
     "text": [
      "\t {'train_loss': 2.1165022246805165e-05, 'train_accuracy': 1.0}\n"
     ]
    },
    {
     "output_type": "stream",
     "name": "stderr",
     "text": [
      "INFO flwr 2023-04-16 19:00:58,701 | server.py:116 | fit progress: (41, 13.858448028564453, {'test_loss': 13.858448028564453, 'test_accuracy': 0.33}, 2669.0906842999975)\n",
      "DEBUG flwr 2023-04-16 19:00:58,702 | server.py:165 | evaluate_round 41: strategy sampled 2 clients (out of 2)\n",
      "DEBUG flwr 2023-04-16 19:01:02,155 | server.py:179 | evaluate_round 41 received 2 results and 0 failures\n",
      "DEBUG flwr 2023-04-16 19:01:02,156 | server.py:215 | fit_round 42: strategy sampled 2 clients (out of 2)\n"
     ]
    },
    {
     "output_type": "stream",
     "name": "stdout",
     "text": [
      "\t {'val_loss': 2.727479338645935, 'val_accuracy': 0.4}\n"
     ]
    },
    {
     "output_type": "stream",
     "name": "stderr",
     "text": [
      "DEBUG flwr 2023-04-16 19:01:57,915 | server.py:229 | fit_round 42 received 2 results and 0 failures\n"
     ]
    },
    {
     "output_type": "stream",
     "name": "stdout",
     "text": [
      "\t {'train_loss': 1.5353873550338903e-05, 'train_accuracy': 1.0}\n"
     ]
    },
    {
     "output_type": "stream",
     "name": "stderr",
     "text": [
      "INFO flwr 2023-04-16 19:02:02,480 | server.py:116 | fit progress: (42, 13.896886825561523, {'test_loss': 13.896886825561523, 'test_accuracy': 0.33}, 2732.8683179999935)\n",
      "DEBUG flwr 2023-04-16 19:02:02,481 | server.py:165 | evaluate_round 42: strategy sampled 2 clients (out of 2)\n",
      "DEBUG flwr 2023-04-16 19:02:06,100 | server.py:179 | evaluate_round 42 received 2 results and 0 failures\n",
      "DEBUG flwr 2023-04-16 19:02:06,101 | server.py:215 | fit_round 43: strategy sampled 2 clients (out of 2)\n"
     ]
    },
    {
     "output_type": "stream",
     "name": "stdout",
     "text": [
      "\t {'val_loss': 2.8276973962783813, 'val_accuracy': 0.4}\n"
     ]
    },
    {
     "output_type": "stream",
     "name": "stderr",
     "text": [
      "DEBUG flwr 2023-04-16 19:03:01,932 | server.py:229 | fit_round 43 received 2 results and 0 failures\n"
     ]
    },
    {
     "output_type": "stream",
     "name": "stdout",
     "text": [
      "\t {'train_loss': 1.0192274544351676e-05, 'train_accuracy': 1.0}\n"
     ]
    },
    {
     "output_type": "stream",
     "name": "stderr",
     "text": [
      "INFO flwr 2023-04-16 19:03:06,442 | server.py:116 | fit progress: (43, 14.021890640258789, {'test_loss': 14.021890640258789, 'test_accuracy': 0.32}, 2796.8307853000006)\n",
      "DEBUG flwr 2023-04-16 19:03:06,442 | server.py:165 | evaluate_round 43: strategy sampled 2 clients (out of 2)\n",
      "DEBUG flwr 2023-04-16 19:03:10,017 | server.py:179 | evaluate_round 43 received 2 results and 0 failures\n",
      "DEBUG flwr 2023-04-16 19:03:10,018 | server.py:215 | fit_round 44: strategy sampled 2 clients (out of 2)\n"
     ]
    },
    {
     "output_type": "stream",
     "name": "stdout",
     "text": [
      "\t {'val_loss': 2.789509892463684, 'val_accuracy': 0.4}\n"
     ]
    },
    {
     "output_type": "stream",
     "name": "stderr",
     "text": [
      "DEBUG flwr 2023-04-16 19:04:05,398 | server.py:229 | fit_round 44 received 2 results and 0 failures\n"
     ]
    },
    {
     "output_type": "stream",
     "name": "stdout",
     "text": [
      "\t {'train_loss': 7.235946299033458e-06, 'train_accuracy': 1.0}\n"
     ]
    },
    {
     "output_type": "stream",
     "name": "stderr",
     "text": [
      "INFO flwr 2023-04-16 19:04:09,848 | server.py:116 | fit progress: (44, 14.302079200744629, {'test_loss': 14.302079200744629, 'test_accuracy': 0.33}, 2860.236816400022)\n",
      "DEBUG flwr 2023-04-16 19:04:09,849 | server.py:165 | evaluate_round 44: strategy sampled 2 clients (out of 2)\n",
      "DEBUG flwr 2023-04-16 19:04:13,398 | server.py:179 | evaluate_round 44 received 2 results and 0 failures\n",
      "DEBUG flwr 2023-04-16 19:04:13,399 | server.py:215 | fit_round 45: strategy sampled 2 clients (out of 2)\n"
     ]
    },
    {
     "output_type": "stream",
     "name": "stdout",
     "text": [
      "\t {'val_loss': 2.699135899543762, 'val_accuracy': 0.4}\n"
     ]
    },
    {
     "output_type": "stream",
     "name": "stderr",
     "text": [
      "DEBUG flwr 2023-04-16 19:05:09,091 | server.py:229 | fit_round 45 received 2 results and 0 failures\n"
     ]
    },
    {
     "output_type": "stream",
     "name": "stdout",
     "text": [
      "\t {'train_loss': 5.361407090731518e-06, 'train_accuracy': 1.0}\n"
     ]
    },
    {
     "output_type": "stream",
     "name": "stderr",
     "text": [
      "INFO flwr 2023-04-16 19:05:13,590 | server.py:116 | fit progress: (45, 14.003880500793457, {'test_loss': 14.003880500793457, 'test_accuracy': 0.33}, 2923.9794273000152)\n",
      "DEBUG flwr 2023-04-16 19:05:13,591 | server.py:165 | evaluate_round 45: strategy sampled 2 clients (out of 2)\n",
      "DEBUG flwr 2023-04-16 19:05:17,042 | server.py:179 | evaluate_round 45 received 2 results and 0 failures\n",
      "DEBUG flwr 2023-04-16 19:05:17,044 | server.py:215 | fit_round 46: strategy sampled 2 clients (out of 2)\n"
     ]
    },
    {
     "output_type": "stream",
     "name": "stdout",
     "text": [
      "\t {'val_loss': 2.8182555437088013, 'val_accuracy': 0.4}\n"
     ]
    },
    {
     "output_type": "stream",
     "name": "stderr",
     "text": [
      "DEBUG flwr 2023-04-16 19:06:12,571 | server.py:229 | fit_round 46 received 2 results and 0 failures\n"
     ]
    },
    {
     "output_type": "stream",
     "name": "stdout",
     "text": [
      "\t {'train_loss': 4.154424999569528e-06, 'train_accuracy': 1.0}\n"
     ]
    },
    {
     "output_type": "stream",
     "name": "stderr",
     "text": [
      "INFO flwr 2023-04-16 19:06:17,105 | server.py:116 | fit progress: (46, 14.18993091583252, {'test_loss': 14.18993091583252, 'test_accuracy': 0.33}, 2987.49401960001)\n",
      "DEBUG flwr 2023-04-16 19:06:17,105 | server.py:165 | evaluate_round 46: strategy sampled 2 clients (out of 2)\n",
      "DEBUG flwr 2023-04-16 19:06:20,600 | server.py:179 | evaluate_round 46 received 2 results and 0 failures\n",
      "DEBUG flwr 2023-04-16 19:06:20,601 | server.py:215 | fit_round 47: strategy sampled 2 clients (out of 2)\n"
     ]
    },
    {
     "output_type": "stream",
     "name": "stdout",
     "text": [
      "\t {'val_loss': 2.830126643180847, 'val_accuracy': 0.4}\n"
     ]
    },
    {
     "output_type": "stream",
     "name": "stderr",
     "text": [
      "DEBUG flwr 2023-04-16 19:07:16,375 | server.py:229 | fit_round 47 received 2 results and 0 failures\n"
     ]
    },
    {
     "output_type": "stream",
     "name": "stdout",
     "text": [
      "\t {'train_loss': 3.2156598308574758e-06, 'train_accuracy': 1.0}\n"
     ]
    },
    {
     "output_type": "stream",
     "name": "stderr",
     "text": [
      "INFO flwr 2023-04-16 19:07:20,818 | server.py:116 | fit progress: (47, 14.414697647094727, {'test_loss': 14.414697647094727, 'test_accuracy': 0.33}, 3051.2067424000124)\n",
      "DEBUG flwr 2023-04-16 19:07:20,818 | server.py:165 | evaluate_round 47: strategy sampled 2 clients (out of 2)\n",
      "DEBUG flwr 2023-04-16 19:07:24,139 | server.py:179 | evaluate_round 47 received 2 results and 0 failures\n",
      "DEBUG flwr 2023-04-16 19:07:24,140 | server.py:215 | fit_round 48: strategy sampled 2 clients (out of 2)\n"
     ]
    },
    {
     "output_type": "stream",
     "name": "stdout",
     "text": [
      "\t {'val_loss': 2.750179409980774, 'val_accuracy': 0.4}\n"
     ]
    },
    {
     "output_type": "stream",
     "name": "stderr",
     "text": [
      "DEBUG flwr 2023-04-16 19:08:20,099 | server.py:229 | fit_round 48 received 2 results and 0 failures\n"
     ]
    },
    {
     "output_type": "stream",
     "name": "stdout",
     "text": [
      "\t {'train_loss': 2.5659733751126623e-06, 'train_accuracy': 1.0}\n"
     ]
    },
    {
     "output_type": "stream",
     "name": "stderr",
     "text": [
      "INFO flwr 2023-04-16 19:08:24,650 | server.py:116 | fit progress: (48, 14.361263275146484, {'test_loss': 14.361263275146484, 'test_accuracy': 0.33}, 3115.0394573000085)\n",
      "DEBUG flwr 2023-04-16 19:08:24,651 | server.py:165 | evaluate_round 48: strategy sampled 2 clients (out of 2)\n",
      "DEBUG flwr 2023-04-16 19:08:28,150 | server.py:179 | evaluate_round 48 received 2 results and 0 failures\n",
      "DEBUG flwr 2023-04-16 19:08:28,151 | server.py:215 | fit_round 49: strategy sampled 2 clients (out of 2)\n"
     ]
    },
    {
     "output_type": "stream",
     "name": "stdout",
     "text": [
      "\t {'val_loss': 2.8071945905685425, 'val_accuracy': 0.4}\n"
     ]
    },
    {
     "output_type": "stream",
     "name": "stderr",
     "text": [
      "DEBUG flwr 2023-04-16 19:09:23,919 | server.py:229 | fit_round 49 received 2 results and 0 failures\n"
     ]
    },
    {
     "output_type": "stream",
     "name": "stdout",
     "text": [
      "\t {'train_loss': 2.1517229811252037e-06, 'train_accuracy': 1.0}\n"
     ]
    },
    {
     "output_type": "stream",
     "name": "stderr",
     "text": [
      "INFO flwr 2023-04-16 19:09:28,410 | server.py:116 | fit progress: (49, 14.35915470123291, {'test_loss': 14.35915470123291, 'test_accuracy': 0.33}, 3178.7990680999937)\n",
      "DEBUG flwr 2023-04-16 19:09:28,410 | server.py:165 | evaluate_round 49: strategy sampled 2 clients (out of 2)\n",
      "DEBUG flwr 2023-04-16 19:09:31,915 | server.py:179 | evaluate_round 49 received 2 results and 0 failures\n",
      "DEBUG flwr 2023-04-16 19:09:31,916 | server.py:215 | fit_round 50: strategy sampled 2 clients (out of 2)\n"
     ]
    },
    {
     "output_type": "stream",
     "name": "stdout",
     "text": [
      "\t {'val_loss': 2.81801176071167, 'val_accuracy': 0.4}\n"
     ]
    },
    {
     "output_type": "stream",
     "name": "stderr",
     "text": [
      "DEBUG flwr 2023-04-16 19:10:28,003 | server.py:229 | fit_round 50 received 2 results and 0 failures\n"
     ]
    },
    {
     "output_type": "stream",
     "name": "stdout",
     "text": [
      "\t {'train_loss': 1.7970770329611696e-06, 'train_accuracy': 1.0}\n"
     ]
    },
    {
     "output_type": "stream",
     "name": "stderr",
     "text": [
      "INFO flwr 2023-04-16 19:10:32,527 | server.py:116 | fit progress: (50, 14.494616508483887, {'test_loss': 14.494616508483887, 'test_accuracy': 0.33}, 3242.916239000013)\n",
      "DEBUG flwr 2023-04-16 19:10:32,528 | server.py:165 | evaluate_round 50: strategy sampled 2 clients (out of 2)\n",
      "DEBUG flwr 2023-04-16 19:10:36,123 | server.py:179 | evaluate_round 50 received 2 results and 0 failures\n",
      "INFO flwr 2023-04-16 19:10:36,124 | server.py:144 | FL finished in 3246.513465099997\n",
      "INFO flwr 2023-04-16 19:10:36,149 | app.py:202 | app_fit: losses_distributed [(1, 4.210288763046265), (2, 3.8600000143051147), (3, 3.2748275995254517), (4, 3.1765501499176025), (5, 3.3323423862457275), (6, 3.247781753540039), (7, 3.088078737258911), (8, 2.9446741342544556), (9, 2.7986830472946167), (10, 2.7496421337127686), (11, 2.405107617378235), (12, 2.466958999633789), (13, 2.4609097242355347), (14, 2.5938135385513306), (15, 2.500352382659912), (16, 2.4353420734405518), (17, 2.5677746534347534), (18, 2.385379374027252), (19, 2.408519446849823), (20, 2.4792579412460327), (21, 2.6130456924438477), (22, 2.4989757537841797), (23, 2.5768567323684692), (24, 2.3594380617141724), (25, 2.6341209411621094), (26, 2.430576741695404), (27, 2.5492734909057617), (28, 2.4710023999214172), (29, 2.594292640686035), (30, 2.5136489868164062), (31, 2.6457762718200684), (32, 2.571264386177063), (33, 2.730034828186035), (34, 2.758842706680298), (35, 2.59946346282959), (36, 2.6989461183547974), (37, 2.7400752305984497), (38, 2.6493077278137207), (39, 2.7471219301223755), (40, 2.7466341257095337), (41, 2.727479338645935), (42, 2.8276973962783813), (43, 2.789509892463684), (44, 2.699135899543762), (45, 2.8182555437088013), (46, 2.830126643180847), (47, 2.750179409980774), (48, 2.8071945905685425), (49, 2.81801176071167), (50, 2.7681740522384644)]\n",
      "INFO flwr 2023-04-16 19:10:36,150 | app.py:203 | app_fit: metrics_distributed {'val_loss': [(1, 4.210288763046265), (2, 3.8600000143051147), (3, 3.2748275995254517), (4, 3.1765501499176025), (5, 3.3323423862457275), (6, 3.247781753540039), (7, 3.088078737258911), (8, 2.9446741342544556), (9, 2.7986830472946167), (10, 2.7496421337127686), (11, 2.405107617378235), (12, 2.466958999633789), (13, 2.4609097242355347), (14, 2.5938135385513306), (15, 2.500352382659912), (16, 2.4353420734405518), (17, 2.5677746534347534), (18, 2.385379374027252), (19, 2.408519446849823), (20, 2.4792579412460327), (21, 2.6130456924438477), (22, 2.4989757537841797), (23, 2.5768567323684692), (24, 2.3594380617141724), (25, 2.6341209411621094), (26, 2.430576741695404), (27, 2.5492734909057617), (28, 2.4710023999214172), (29, 2.594292640686035), (30, 2.5136489868164062), (31, 2.6457762718200684), (32, 2.571264386177063), (33, 2.730034828186035), (34, 2.758842706680298), (35, 2.59946346282959), (36, 2.6989461183547974), (37, 2.7400752305984497), (38, 2.6493077278137207), (39, 2.7471219301223755), (40, 2.7466341257095337), (41, 2.727479338645935), (42, 2.8276973962783813), (43, 2.789509892463684), (44, 2.699135899543762), (45, 2.8182555437088013), (46, 2.830126643180847), (47, 2.750179409980774), (48, 2.8071945905685425), (49, 2.81801176071167), (50, 2.7681740522384644)], 'val_accuracy': [(1, 0.1), (2, 0.25), (3, 0.3), (4, 0.25), (5, 0.35), (6, 0.25), (7, 0.3), (8, 0.3), (9, 0.25), (10, 0.35), (11, 0.35), (12, 0.35), (13, 0.45), (14, 0.35), (15, 0.35), (16, 0.4), (17, 0.35), (18, 0.4), (19, 0.4), (20, 0.45), (21, 0.35), (22, 0.45), (23, 0.35), (24, 0.4), (25, 0.4), (26, 0.4), (27, 0.35), (28, 0.4), (29, 0.35), (30, 0.35), (31, 0.4), (32, 0.4), (33, 0.35), (34, 0.35), (35, 0.4), (36, 0.35), (37, 0.4), (38, 0.4), (39, 0.4), (40, 0.35), (41, 0.4), (42, 0.4), (43, 0.4), (44, 0.4), (45, 0.4), (46, 0.4), (47, 0.4), (48, 0.4), (49, 0.4), (50, 0.4)]}\n",
      "INFO flwr 2023-04-16 19:10:36,150 | app.py:204 | app_fit: losses_centralized [(0, 18.54787826538086), (1, 17.691734313964844), (2, 17.127485275268555), (3, 15.15509033203125), (4, 14.557990074157715), (5, 14.541865348815918), (6, 14.318991661071777), (7, 13.472845077514648), (8, 13.428712844848633), (9, 12.929630279541016), (10, 12.7693510055542), (11, 12.74669361114502), (12, 12.968263626098633), (13, 12.88136100769043), (14, 12.66230583190918), (15, 12.696294784545898), (16, 12.644745826721191), (17, 12.474201202392578), (18, 12.20671558380127), (19, 12.218321800231934), (20, 12.27967643737793), (21, 12.382923126220703), (22, 12.58217716217041), (23, 12.798480033874512), (24, 12.823866844177246), (25, 12.692155838012695), (26, 13.272126197814941), (27, 13.081766128540039), (28, 13.72221851348877), (29, 13.764286994934082), (30, 13.428006172180176), (31, 13.701290130615234), (32, 13.555986404418945), (33, 13.76313591003418), (34, 13.512995719909668), (35, 13.550924301147461), (36, 13.7080717086792), (37, 13.902030944824219), (38, 13.944766998291016), (39, 13.889017105102539), (40, 13.924051284790039), (41, 13.858448028564453), (42, 13.896886825561523), (43, 14.021890640258789), (44, 14.302079200744629), (45, 14.003880500793457), (46, 14.18993091583252), (47, 14.414697647094727), (48, 14.361263275146484), (49, 14.35915470123291), (50, 14.494616508483887)]\n",
      "INFO flwr 2023-04-16 19:10:36,151 | app.py:205 | app_fit: metrics_centralized {'test_loss': [(0, 18.54787826538086), (1, 17.691734313964844), (2, 17.127485275268555), (3, 15.15509033203125), (4, 14.557990074157715), (5, 14.541865348815918), (6, 14.318991661071777), (7, 13.472845077514648), (8, 13.428712844848633), (9, 12.929630279541016), (10, 12.7693510055542), (11, 12.74669361114502), (12, 12.968263626098633), (13, 12.88136100769043), (14, 12.66230583190918), (15, 12.696294784545898), (16, 12.644745826721191), (17, 12.474201202392578), (18, 12.20671558380127), (19, 12.218321800231934), (20, 12.27967643737793), (21, 12.382923126220703), (22, 12.58217716217041), (23, 12.798480033874512), (24, 12.823866844177246), (25, 12.692155838012695), (26, 13.272126197814941), (27, 13.081766128540039), (28, 13.72221851348877), (29, 13.764286994934082), (30, 13.428006172180176), (31, 13.701290130615234), (32, 13.555986404418945), (33, 13.76313591003418), (34, 13.512995719909668), (35, 13.550924301147461), (36, 13.7080717086792), (37, 13.902030944824219), (38, 13.944766998291016), (39, 13.889017105102539), (40, 13.924051284790039), (41, 13.858448028564453), (42, 13.896886825561523), (43, 14.021890640258789), (44, 14.302079200744629), (45, 14.003880500793457), (46, 14.18993091583252), (47, 14.414697647094727), (48, 14.361263275146484), (49, 14.35915470123291), (50, 14.494616508483887)], 'test_accuracy': [(0, 0.0), (1, 0.03), (2, 0.1), (3, 0.21), (4, 0.23), (5, 0.25), (6, 0.26), (7, 0.28), (8, 0.31), (9, 0.3), (10, 0.3), (11, 0.27), (12, 0.29), (13, 0.29), (14, 0.3), (15, 0.29), (16, 0.28), (17, 0.31), (18, 0.3), (19, 0.31), (20, 0.32), (21, 0.31), (22, 0.33), (23, 0.35), (24, 0.34), (25, 0.31), (26, 0.32), (27, 0.35), (28, 0.34), (29, 0.34), (30, 0.34), (31, 0.33), (32, 0.33), (33, 0.34), (34, 0.34), (35, 0.32), (36, 0.31), (37, 0.34), (38, 0.33), (39, 0.32), (40, 0.32), (41, 0.33), (42, 0.33), (43, 0.32), (44, 0.33), (45, 0.33), (46, 0.33), (47, 0.33), (48, 0.33), (49, 0.33), (50, 0.33)]}\n"
     ]
    },
    {
     "output_type": "stream",
     "name": "stdout",
     "text": [
      "\t {'val_loss': 2.7681740522384644, 'val_accuracy': 0.4}\n"
     ]
    },
    {
     "output_type": "execute_result",
     "data": {
      "text/plain": [
       "History (loss, distributed):\n",
       "\tround 1: 4.210288763046265\n",
       "\tround 2: 3.8600000143051147\n",
       "\tround 3: 3.2748275995254517\n",
       "\tround 4: 3.1765501499176025\n",
       "\tround 5: 3.3323423862457275\n",
       "\tround 6: 3.247781753540039\n",
       "\tround 7: 3.088078737258911\n",
       "\tround 8: 2.9446741342544556\n",
       "\tround 9: 2.7986830472946167\n",
       "\tround 10: 2.7496421337127686\n",
       "\tround 11: 2.405107617378235\n",
       "\tround 12: 2.466958999633789\n",
       "\tround 13: 2.4609097242355347\n",
       "\tround 14: 2.5938135385513306\n",
       "\tround 15: 2.500352382659912\n",
       "\tround 16: 2.4353420734405518\n",
       "\tround 17: 2.5677746534347534\n",
       "\tround 18: 2.385379374027252\n",
       "\tround 19: 2.408519446849823\n",
       "\tround 20: 2.4792579412460327\n",
       "\tround 21: 2.6130456924438477\n",
       "\tround 22: 2.4989757537841797\n",
       "\tround 23: 2.5768567323684692\n",
       "\tround 24: 2.3594380617141724\n",
       "\tround 25: 2.6341209411621094\n",
       "\tround 26: 2.430576741695404\n",
       "\tround 27: 2.5492734909057617\n",
       "\tround 28: 2.4710023999214172\n",
       "\tround 29: 2.594292640686035\n",
       "\tround 30: 2.5136489868164062\n",
       "\tround 31: 2.6457762718200684\n",
       "\tround 32: 2.571264386177063\n",
       "\tround 33: 2.730034828186035\n",
       "\tround 34: 2.758842706680298\n",
       "\tround 35: 2.59946346282959\n",
       "\tround 36: 2.6989461183547974\n",
       "\tround 37: 2.7400752305984497\n",
       "\tround 38: 2.6493077278137207\n",
       "\tround 39: 2.7471219301223755\n",
       "\tround 40: 2.7466341257095337\n",
       "\tround 41: 2.727479338645935\n",
       "\tround 42: 2.8276973962783813\n",
       "\tround 43: 2.789509892463684\n",
       "\tround 44: 2.699135899543762\n",
       "\tround 45: 2.8182555437088013\n",
       "\tround 46: 2.830126643180847\n",
       "\tround 47: 2.750179409980774\n",
       "\tround 48: 2.8071945905685425\n",
       "\tround 49: 2.81801176071167\n",
       "\tround 50: 2.7681740522384644\n",
       "History (loss, centralized):\n",
       "\tround 0: 18.54787826538086\n",
       "\tround 1: 17.691734313964844\n",
       "\tround 2: 17.127485275268555\n",
       "\tround 3: 15.15509033203125\n",
       "\tround 4: 14.557990074157715\n",
       "\tround 5: 14.541865348815918\n",
       "\tround 6: 14.318991661071777\n",
       "\tround 7: 13.472845077514648\n",
       "\tround 8: 13.428712844848633\n",
       "\tround 9: 12.929630279541016\n",
       "\tround 10: 12.7693510055542\n",
       "\tround 11: 12.74669361114502\n",
       "\tround 12: 12.968263626098633\n",
       "\tround 13: 12.88136100769043\n",
       "\tround 14: 12.66230583190918\n",
       "\tround 15: 12.696294784545898\n",
       "\tround 16: 12.644745826721191\n",
       "\tround 17: 12.474201202392578\n",
       "\tround 18: 12.20671558380127\n",
       "\tround 19: 12.218321800231934\n",
       "\tround 20: 12.27967643737793\n",
       "\tround 21: 12.382923126220703\n",
       "\tround 22: 12.58217716217041\n",
       "\tround 23: 12.798480033874512\n",
       "\tround 24: 12.823866844177246\n",
       "\tround 25: 12.692155838012695\n",
       "\tround 26: 13.272126197814941\n",
       "\tround 27: 13.081766128540039\n",
       "\tround 28: 13.72221851348877\n",
       "\tround 29: 13.764286994934082\n",
       "\tround 30: 13.428006172180176\n",
       "\tround 31: 13.701290130615234\n",
       "\tround 32: 13.555986404418945\n",
       "\tround 33: 13.76313591003418\n",
       "\tround 34: 13.512995719909668\n",
       "\tround 35: 13.550924301147461\n",
       "\tround 36: 13.7080717086792\n",
       "\tround 37: 13.902030944824219\n",
       "\tround 38: 13.944766998291016\n",
       "\tround 39: 13.889017105102539\n",
       "\tround 40: 13.924051284790039\n",
       "\tround 41: 13.858448028564453\n",
       "\tround 42: 13.896886825561523\n",
       "\tround 43: 14.021890640258789\n",
       "\tround 44: 14.302079200744629\n",
       "\tround 45: 14.003880500793457\n",
       "\tround 46: 14.18993091583252\n",
       "\tround 47: 14.414697647094727\n",
       "\tround 48: 14.361263275146484\n",
       "\tround 49: 14.35915470123291\n",
       "\tround 50: 14.494616508483887\n",
       "History (metrics, distributed):\n",
       "{'val_loss': [(1, 4.210288763046265), (2, 3.8600000143051147), (3, 3.2748275995254517), (4, 3.1765501499176025), (5, 3.3323423862457275), (6, 3.247781753540039), (7, 3.088078737258911), (8, 2.9446741342544556), (9, 2.7986830472946167), (10, 2.7496421337127686), (11, 2.405107617378235), (12, 2.466958999633789), (13, 2.4609097242355347), (14, 2.5938135385513306), (15, 2.500352382659912), (16, 2.4353420734405518), (17, 2.5677746534347534), (18, 2.385379374027252), (19, 2.408519446849823), (20, 2.4792579412460327), (21, 2.6130456924438477), (22, 2.4989757537841797), (23, 2.5768567323684692), (24, 2.3594380617141724), (25, 2.6341209411621094), (26, 2.430576741695404), (27, 2.5492734909057617), (28, 2.4710023999214172), (29, 2.594292640686035), (30, 2.5136489868164062), (31, 2.6457762718200684), (32, 2.571264386177063), (33, 2.730034828186035), (34, 2.758842706680298), (35, 2.59946346282959), (36, 2.6989461183547974), (37, 2.7400752305984497), (38, 2.6493077278137207), (39, 2.7471219301223755), (40, 2.7466341257095337), (41, 2.727479338645935), (42, 2.8276973962783813), (43, 2.789509892463684), (44, 2.699135899543762), (45, 2.8182555437088013), (46, 2.830126643180847), (47, 2.750179409980774), (48, 2.8071945905685425), (49, 2.81801176071167), (50, 2.7681740522384644)], 'val_accuracy': [(1, 0.1), (2, 0.25), (3, 0.3), (4, 0.25), (5, 0.35), (6, 0.25), (7, 0.3), (8, 0.3), (9, 0.25), (10, 0.35), (11, 0.35), (12, 0.35), (13, 0.45), (14, 0.35), (15, 0.35), (16, 0.4), (17, 0.35), (18, 0.4), (19, 0.4), (20, 0.45), (21, 0.35), (22, 0.45), (23, 0.35), (24, 0.4), (25, 0.4), (26, 0.4), (27, 0.35), (28, 0.4), (29, 0.35), (30, 0.35), (31, 0.4), (32, 0.4), (33, 0.35), (34, 0.35), (35, 0.4), (36, 0.35), (37, 0.4), (38, 0.4), (39, 0.4), (40, 0.35), (41, 0.4), (42, 0.4), (43, 0.4), (44, 0.4), (45, 0.4), (46, 0.4), (47, 0.4), (48, 0.4), (49, 0.4), (50, 0.4)]}History (metrics, centralized):\n",
       "{'test_loss': [(0, 18.54787826538086), (1, 17.691734313964844), (2, 17.127485275268555), (3, 15.15509033203125), (4, 14.557990074157715), (5, 14.541865348815918), (6, 14.318991661071777), (7, 13.472845077514648), (8, 13.428712844848633), (9, 12.929630279541016), (10, 12.7693510055542), (11, 12.74669361114502), (12, 12.968263626098633), (13, 12.88136100769043), (14, 12.66230583190918), (15, 12.696294784545898), (16, 12.644745826721191), (17, 12.474201202392578), (18, 12.20671558380127), (19, 12.218321800231934), (20, 12.27967643737793), (21, 12.382923126220703), (22, 12.58217716217041), (23, 12.798480033874512), (24, 12.823866844177246), (25, 12.692155838012695), (26, 13.272126197814941), (27, 13.081766128540039), (28, 13.72221851348877), (29, 13.764286994934082), (30, 13.428006172180176), (31, 13.701290130615234), (32, 13.555986404418945), (33, 13.76313591003418), (34, 13.512995719909668), (35, 13.550924301147461), (36, 13.7080717086792), (37, 13.902030944824219), (38, 13.944766998291016), (39, 13.889017105102539), (40, 13.924051284790039), (41, 13.858448028564453), (42, 13.896886825561523), (43, 14.021890640258789), (44, 14.302079200744629), (45, 14.003880500793457), (46, 14.18993091583252), (47, 14.414697647094727), (48, 14.361263275146484), (49, 14.35915470123291), (50, 14.494616508483887)], 'test_accuracy': [(0, 0.0), (1, 0.03), (2, 0.1), (3, 0.21), (4, 0.23), (5, 0.25), (6, 0.26), (7, 0.28), (8, 0.31), (9, 0.3), (10, 0.3), (11, 0.27), (12, 0.29), (13, 0.29), (14, 0.3), (15, 0.29), (16, 0.28), (17, 0.31), (18, 0.3), (19, 0.31), (20, 0.32), (21, 0.31), (22, 0.33), (23, 0.35), (24, 0.34), (25, 0.31), (26, 0.32), (27, 0.35), (28, 0.34), (29, 0.34), (30, 0.34), (31, 0.33), (32, 0.33), (33, 0.34), (34, 0.34), (35, 0.32), (36, 0.31), (37, 0.34), (38, 0.33), (39, 0.32), (40, 0.32), (41, 0.33), (42, 0.33), (43, 0.32), (44, 0.33), (45, 0.33), (46, 0.33), (47, 0.33), (48, 0.33), (49, 0.33), (50, 0.33)]}"
      ]
     },
     "metadata": {},
     "execution_count": 7
    }
   ],
   "metadata": {}
  }
 ],
 "nbformat": 4,
 "nbformat_minor": 2,
 "metadata": {
  "language_info": {
   "codemirror_mode": {
    "name": "ipython",
    "version": 3
   },
   "file_extension": ".py",
   "mimetype": "text/x-python",
   "name": "python",
   "nbconvert_exporter": "python",
   "pygments_lexer": "ipython3",
   "version": 3
  },
  "orig_nbformat": 4
 }
}