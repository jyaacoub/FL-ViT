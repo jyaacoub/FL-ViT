{
 "cells": [
  {
   "cell_type": "code",
   "execution_count": 6,
   "source": [
    "print('num clients:', NUM_CLIENTS)\n",
    "print('num rounds:', NUM_ROUNDS)\n",
    "print('--'*20)\n",
    "print('client training set size:', [len(t.dataset) for t in trainloaders])\n",
    "print('client validation set size:', [len(v.dataset) for v in valloaders])\n",
    "print('test set size:', len(testloader.dataset))\n",
    "print('--'*20)\n",
    "print('model name:', MODEL_NAME)\n",
    "print('num classes:', NUM_CLASSES)\n",
    "print('pre-trained:', PRE_TRAINED)\n",
    "print('learning rate:', LEARNING_RATE)\n",
    "print('batch size:', BATCH_SIZE)\n",
    "print('epochs:', EPOCHS)"
   ],
   "outputs": [
    {
     "output_type": "stream",
     "name": "stdout",
     "text": [
      "num clients: 5\n",
      "num rounds: 50\n",
      "----------------------------------------\n",
      "client training set size: [180, 180, 180, 180, 180]\n",
      "client validation set size: [10, 10, 10, 10, 10, 10, 10, 10, 10, 10]\n",
      "test set size: 100\n",
      "----------------------------------------\n",
      "model name: facebook/deit-tiny-distilled-patch16-224\n",
      "num classes: 100\n",
      "pre-trained: True\n",
      "learning rate: 0.0001\n",
      "batch size: 32\n",
      "epochs: 1\n"
     ]
    }
   ],
   "metadata": {}
  },
  {
   "cell_type": "code",
   "execution_count": 7,
   "source": [
    "fl.server.start_server(server_address=SERVER_ADDRESS, \n",
    "                       config=fl.server.ServerConfig(num_rounds=NUM_ROUNDS), \n",
    "                       strategy=strategy)"
   ],
   "outputs": [
    {
     "output_type": "stream",
     "name": "stderr",
     "text": [
      "INFO flwr 2023-04-16 17:46:10,071 | app.py:139 | Starting Flower server, config: ServerConfig(num_rounds=50, round_timeout=None)\n",
      "INFO flwr 2023-04-16 17:46:10,102 | app.py:152 | Flower ECE: gRPC server running (50 rounds), SSL is disabled\n",
      "INFO flwr 2023-04-16 17:46:10,103 | server.py:86 | Initializing global parameters\n",
      "INFO flwr 2023-04-16 17:46:10,103 | server.py:266 | Using initial parameters provided by strategy\n",
      "INFO flwr 2023-04-16 17:46:10,103 | server.py:88 | Evaluating initial parameters\n",
      "INFO flwr 2023-04-16 17:46:12,819 | server.py:91 | initial parameters (loss, other metrics): 20.549701690673828, {'test_loss': 20.549701690673828, 'test_accuracy': 0.0}\n",
      "INFO flwr 2023-04-16 17:46:12,820 | server.py:101 | FL starting\n",
      "DEBUG flwr 2023-04-16 17:46:13,030 | server.py:215 | fit_round 1: strategy sampled 2 clients (out of 2)\n",
      "DEBUG flwr 2023-04-16 17:46:31,965 | server.py:229 | fit_round 1 received 2 results and 0 failures\n"
     ]
    },
    {
     "output_type": "stream",
     "name": "stdout",
     "text": [
      "\t {'train_loss': 4.3516035079956055, 'train_accuracy': 0.030555555555555555}\n"
     ]
    },
    {
     "output_type": "stream",
     "name": "stderr",
     "text": [
      "INFO flwr 2023-04-16 17:46:34,711 | server.py:116 | fit progress: (1, 18.464414596557617, {'test_loss': 18.464414596557617, 'test_accuracy': 0.04}, 21.89151159999892)\n",
      "DEBUG flwr 2023-04-16 17:46:34,712 | server.py:165 | evaluate_round 1: strategy sampled 2 clients (out of 2)\n",
      "DEBUG flwr 2023-04-16 17:46:35,994 | server.py:179 | evaluate_round 1 received 2 results and 0 failures\n",
      "DEBUG flwr 2023-04-16 17:46:35,994 | server.py:215 | fit_round 2: strategy sampled 2 clients (out of 2)\n"
     ]
    },
    {
     "output_type": "stream",
     "name": "stdout",
     "text": [
      "\t {'val_loss': 4.277449131011963, 'val_accuracy': 0.05}\n"
     ]
    },
    {
     "output_type": "stream",
     "name": "stderr",
     "text": [
      "DEBUG flwr 2023-04-16 17:46:54,524 | server.py:229 | fit_round 2 received 2 results and 0 failures\n"
     ]
    },
    {
     "output_type": "stream",
     "name": "stdout",
     "text": [
      "\t {'train_loss': 4.0911253690719604, 'train_accuracy': 0.12222222222222222}\n"
     ]
    },
    {
     "output_type": "stream",
     "name": "stderr",
     "text": [
      "INFO flwr 2023-04-16 17:46:57,355 | server.py:116 | fit progress: (2, 17.951448440551758, {'test_loss': 17.951448440551758, 'test_accuracy': 0.08}, 44.53523199999472)\n",
      "DEBUG flwr 2023-04-16 17:46:57,355 | server.py:165 | evaluate_round 2: strategy sampled 2 clients (out of 2)\n",
      "DEBUG flwr 2023-04-16 17:46:58,623 | server.py:179 | evaluate_round 2 received 2 results and 0 failures\n",
      "DEBUG flwr 2023-04-16 17:46:58,624 | server.py:215 | fit_round 3: strategy sampled 2 clients (out of 2)\n"
     ]
    },
    {
     "output_type": "stream",
     "name": "stdout",
     "text": [
      "\t {'val_loss': 4.159277677536011, 'val_accuracy': 0.25}\n"
     ]
    },
    {
     "output_type": "stream",
     "name": "stderr",
     "text": [
      "DEBUG flwr 2023-04-16 17:47:17,442 | server.py:229 | fit_round 3 received 2 results and 0 failures\n"
     ]
    },
    {
     "output_type": "stream",
     "name": "stdout",
     "text": [
      "\t {'train_loss': 3.9092817306518555, 'train_accuracy': 0.2777777777777778}\n"
     ]
    },
    {
     "output_type": "stream",
     "name": "stderr",
     "text": [
      "INFO flwr 2023-04-16 17:47:22,802 | server.py:116 | fit progress: (3, 18.35406494140625, {'test_loss': 18.35406494140625, 'test_accuracy': 0.07}, 69.9825897999981)\n",
      "DEBUG flwr 2023-04-16 17:47:22,803 | server.py:165 | evaluate_round 3: strategy sampled 2 clients (out of 2)\n",
      "DEBUG flwr 2023-04-16 17:47:24,045 | server.py:179 | evaluate_round 3 received 2 results and 0 failures\n",
      "DEBUG flwr 2023-04-16 17:47:24,046 | server.py:215 | fit_round 4: strategy sampled 2 clients (out of 2)\n"
     ]
    },
    {
     "output_type": "stream",
     "name": "stdout",
     "text": [
      "\t {'val_loss': 4.114332318305969, 'val_accuracy': 0.15}\n"
     ]
    },
    {
     "output_type": "stream",
     "name": "stderr",
     "text": [
      "DEBUG flwr 2023-04-16 17:47:42,800 | server.py:229 | fit_round 4 received 2 results and 0 failures\n"
     ]
    },
    {
     "output_type": "stream",
     "name": "stdout",
     "text": [
      "\t {'train_loss': 3.329280138015747, 'train_accuracy': 0.45}\n"
     ]
    },
    {
     "output_type": "stream",
     "name": "stderr",
     "text": [
      "INFO flwr 2023-04-16 17:47:45,580 | server.py:116 | fit progress: (4, 18.174884796142578, {'test_loss': 18.174884796142578, 'test_accuracy': 0.1}, 92.76088440002059)\n",
      "DEBUG flwr 2023-04-16 17:47:45,581 | server.py:165 | evaluate_round 4: strategy sampled 2 clients (out of 2)\n",
      "DEBUG flwr 2023-04-16 17:47:46,927 | server.py:179 | evaluate_round 4 received 2 results and 0 failures\n",
      "DEBUG flwr 2023-04-16 17:47:46,929 | server.py:215 | fit_round 5: strategy sampled 2 clients (out of 2)\n"
     ]
    },
    {
     "output_type": "stream",
     "name": "stdout",
     "text": [
      "\t {'val_loss': 4.272208333015442, 'val_accuracy': 0.15}\n"
     ]
    },
    {
     "output_type": "stream",
     "name": "stderr",
     "text": [
      "DEBUG flwr 2023-04-16 17:48:06,233 | server.py:229 | fit_round 5 received 2 results and 0 failures\n"
     ]
    },
    {
     "output_type": "stream",
     "name": "stdout",
     "text": [
      "\t {'train_loss': 3.114430785179138, 'train_accuracy': 0.5722222222222222}\n"
     ]
    },
    {
     "output_type": "stream",
     "name": "stderr",
     "text": [
      "INFO flwr 2023-04-16 17:48:12,648 | server.py:116 | fit progress: (5, 17.553260803222656, {'test_loss': 17.553260803222656, 'test_accuracy': 0.1}, 119.82874890000676)\n",
      "DEBUG flwr 2023-04-16 17:48:12,649 | server.py:165 | evaluate_round 5: strategy sampled 2 clients (out of 2)\n",
      "DEBUG flwr 2023-04-16 17:48:13,943 | server.py:179 | evaluate_round 5 received 2 results and 0 failures\n",
      "DEBUG flwr 2023-04-16 17:48:13,944 | server.py:215 | fit_round 6: strategy sampled 2 clients (out of 2)\n"
     ]
    },
    {
     "output_type": "stream",
     "name": "stdout",
     "text": [
      "\t {'val_loss': 3.955610990524292, 'val_accuracy': 0.3}\n"
     ]
    },
    {
     "output_type": "stream",
     "name": "stderr",
     "text": [
      "DEBUG flwr 2023-04-16 17:48:32,812 | server.py:229 | fit_round 6 received 2 results and 0 failures\n"
     ]
    },
    {
     "output_type": "stream",
     "name": "stdout",
     "text": [
      "\t {'train_loss': 2.6831153631210327, 'train_accuracy': 0.6666666666666666}\n"
     ]
    },
    {
     "output_type": "stream",
     "name": "stderr",
     "text": [
      "INFO flwr 2023-04-16 17:48:35,567 | server.py:116 | fit progress: (6, 16.364673614501953, {'test_loss': 16.364673614501953, 'test_accuracy': 0.17}, 142.74856609999551)\n",
      "DEBUG flwr 2023-04-16 17:48:35,568 | server.py:165 | evaluate_round 6: strategy sampled 2 clients (out of 2)\n",
      "DEBUG flwr 2023-04-16 17:48:36,823 | server.py:179 | evaluate_round 6 received 2 results and 0 failures\n",
      "DEBUG flwr 2023-04-16 17:48:36,824 | server.py:215 | fit_round 7: strategy sampled 2 clients (out of 2)\n"
     ]
    },
    {
     "output_type": "stream",
     "name": "stdout",
     "text": [
      "\t {'val_loss': 3.8309569358825684, 'val_accuracy': 0.3}\n"
     ]
    },
    {
     "output_type": "stream",
     "name": "stderr",
     "text": [
      "DEBUG flwr 2023-04-16 17:48:55,708 | server.py:229 | fit_round 7 received 2 results and 0 failures\n"
     ]
    },
    {
     "output_type": "stream",
     "name": "stdout",
     "text": [
      "\t {'train_loss': 2.172100603580475, 'train_accuracy': 0.8027777777777778}\n"
     ]
    },
    {
     "output_type": "stream",
     "name": "stderr",
     "text": [
      "INFO flwr 2023-04-16 17:48:58,487 | server.py:116 | fit progress: (7, 15.81182861328125, {'test_loss': 15.81182861328125, 'test_accuracy': 0.17}, 165.6675705999951)\n",
      "DEBUG flwr 2023-04-16 17:48:58,487 | server.py:165 | evaluate_round 7: strategy sampled 2 clients (out of 2)\n",
      "DEBUG flwr 2023-04-16 17:48:59,701 | server.py:179 | evaluate_round 7 received 2 results and 0 failures\n",
      "DEBUG flwr 2023-04-16 17:48:59,702 | server.py:215 | fit_round 8: strategy sampled 2 clients (out of 2)\n"
     ]
    },
    {
     "output_type": "stream",
     "name": "stdout",
     "text": [
      "\t {'val_loss': 3.79457426071167, 'val_accuracy': 0.35}\n"
     ]
    },
    {
     "output_type": "stream",
     "name": "stderr",
     "text": [
      "DEBUG flwr 2023-04-16 17:49:18,444 | server.py:229 | fit_round 8 received 2 results and 0 failures\n"
     ]
    },
    {
     "output_type": "stream",
     "name": "stdout",
     "text": [
      "\t {'train_loss': 1.8502772450447083, 'train_accuracy': 0.8527777777777777}\n"
     ]
    },
    {
     "output_type": "stream",
     "name": "stderr",
     "text": [
      "INFO flwr 2023-04-16 17:49:21,150 | server.py:116 | fit progress: (8, 15.900102615356445, {'test_loss': 15.900102615356445, 'test_accuracy': 0.16}, 188.33146909999778)\n",
      "DEBUG flwr 2023-04-16 17:49:21,151 | server.py:165 | evaluate_round 8: strategy sampled 2 clients (out of 2)\n",
      "DEBUG flwr 2023-04-16 17:49:22,449 | server.py:179 | evaluate_round 8 received 2 results and 0 failures\n",
      "DEBUG flwr 2023-04-16 17:49:22,450 | server.py:215 | fit_round 9: strategy sampled 2 clients (out of 2)\n"
     ]
    },
    {
     "output_type": "stream",
     "name": "stdout",
     "text": [
      "\t {'val_loss': 3.711012125015259, 'val_accuracy': 0.35}\n"
     ]
    },
    {
     "output_type": "stream",
     "name": "stderr",
     "text": [
      "DEBUG flwr 2023-04-16 17:49:41,155 | server.py:229 | fit_round 9 received 2 results and 0 failures\n"
     ]
    },
    {
     "output_type": "stream",
     "name": "stdout",
     "text": [
      "\t {'train_loss': 1.5154390931129456, 'train_accuracy': 0.9277777777777778}\n"
     ]
    },
    {
     "output_type": "stream",
     "name": "stderr",
     "text": [
      "INFO flwr 2023-04-16 17:49:43,848 | server.py:116 | fit progress: (9, 15.454585075378418, {'test_loss': 15.454585075378418, 'test_accuracy': 0.21}, 211.02974820000236)\n",
      "DEBUG flwr 2023-04-16 17:49:43,849 | server.py:165 | evaluate_round 9: strategy sampled 2 clients (out of 2)\n",
      "DEBUG flwr 2023-04-16 17:49:45,176 | server.py:179 | evaluate_round 9 received 2 results and 0 failures\n",
      "DEBUG flwr 2023-04-16 17:49:45,176 | server.py:215 | fit_round 10: strategy sampled 2 clients (out of 2)\n"
     ]
    },
    {
     "output_type": "stream",
     "name": "stdout",
     "text": [
      "\t {'val_loss': 3.7861043214797974, 'val_accuracy': 0.35}\n"
     ]
    },
    {
     "output_type": "stream",
     "name": "stderr",
     "text": [
      "DEBUG flwr 2023-04-16 17:50:03,929 | server.py:229 | fit_round 10 received 2 results and 0 failures\n"
     ]
    },
    {
     "output_type": "stream",
     "name": "stdout",
     "text": [
      "\t {'train_loss': 1.1307883858680725, 'train_accuracy': 0.9527777777777777}\n"
     ]
    },
    {
     "output_type": "stream",
     "name": "stderr",
     "text": [
      "INFO flwr 2023-04-16 17:50:06,668 | server.py:116 | fit progress: (10, 15.401107788085938, {'test_loss': 15.401107788085938, 'test_accuracy': 0.19}, 233.84934149999754)\n",
      "DEBUG flwr 2023-04-16 17:50:06,669 | server.py:165 | evaluate_round 10: strategy sampled 2 clients (out of 2)\n",
      "DEBUG flwr 2023-04-16 17:50:07,858 | server.py:179 | evaluate_round 10 received 2 results and 0 failures\n",
      "DEBUG flwr 2023-04-16 17:50:07,858 | server.py:215 | fit_round 11: strategy sampled 2 clients (out of 2)\n"
     ]
    },
    {
     "output_type": "stream",
     "name": "stdout",
     "text": [
      "\t {'val_loss': 3.5372066497802734, 'val_accuracy': 0.35}\n"
     ]
    },
    {
     "output_type": "stream",
     "name": "stderr",
     "text": [
      "DEBUG flwr 2023-04-16 17:50:26,569 | server.py:229 | fit_round 11 received 2 results and 0 failures\n"
     ]
    },
    {
     "output_type": "stream",
     "name": "stdout",
     "text": [
      "\t {'train_loss': 0.8859215080738068, 'train_accuracy': 0.9694444444444444}\n"
     ]
    },
    {
     "output_type": "stream",
     "name": "stderr",
     "text": [
      "INFO flwr 2023-04-16 17:50:29,218 | server.py:116 | fit progress: (11, 15.102639198303223, {'test_loss': 15.102639198303223, 'test_accuracy': 0.22}, 256.39959730001283)\n",
      "DEBUG flwr 2023-04-16 17:50:29,218 | server.py:165 | evaluate_round 11: strategy sampled 2 clients (out of 2)\n",
      "DEBUG flwr 2023-04-16 17:50:30,411 | server.py:179 | evaluate_round 11 received 2 results and 0 failures\n",
      "DEBUG flwr 2023-04-16 17:50:30,412 | server.py:215 | fit_round 12: strategy sampled 2 clients (out of 2)\n"
     ]
    },
    {
     "output_type": "stream",
     "name": "stdout",
     "text": [
      "\t {'val_loss': 3.630365014076233, 'val_accuracy': 0.35}\n"
     ]
    },
    {
     "output_type": "stream",
     "name": "stderr",
     "text": [
      "DEBUG flwr 2023-04-16 17:50:49,618 | server.py:229 | fit_round 12 received 2 results and 0 failures\n"
     ]
    },
    {
     "output_type": "stream",
     "name": "stdout",
     "text": [
      "\t {'train_loss': 0.85128553211689, 'train_accuracy': 0.9722222222222222}\n"
     ]
    },
    {
     "output_type": "stream",
     "name": "stderr",
     "text": [
      "INFO flwr 2023-04-16 17:50:52,294 | server.py:116 | fit progress: (12, 15.01152515411377, {'test_loss': 15.01152515411377, 'test_accuracy': 0.21}, 279.4754772000015)\n",
      "DEBUG flwr 2023-04-16 17:50:52,294 | server.py:165 | evaluate_round 12: strategy sampled 2 clients (out of 2)\n",
      "DEBUG flwr 2023-04-16 17:50:53,559 | server.py:179 | evaluate_round 12 received 2 results and 0 failures\n",
      "DEBUG flwr 2023-04-16 17:50:53,560 | server.py:215 | fit_round 13: strategy sampled 2 clients (out of 2)\n"
     ]
    },
    {
     "output_type": "stream",
     "name": "stdout",
     "text": [
      "\t {'val_loss': 3.60128116607666, 'val_accuracy': 0.3}\n"
     ]
    },
    {
     "output_type": "stream",
     "name": "stderr",
     "text": [
      "DEBUG flwr 2023-04-16 17:51:12,490 | server.py:229 | fit_round 13 received 2 results and 0 failures\n"
     ]
    },
    {
     "output_type": "stream",
     "name": "stdout",
     "text": [
      "\t {'train_loss': 0.6433264166116714, 'train_accuracy': 0.9916666666666667}\n"
     ]
    },
    {
     "output_type": "stream",
     "name": "stderr",
     "text": [
      "INFO flwr 2023-04-16 17:51:15,128 | server.py:116 | fit progress: (13, 14.272907257080078, {'test_loss': 14.272907257080078, 'test_accuracy': 0.23}, 302.3099756000156)\n",
      "DEBUG flwr 2023-04-16 17:51:15,129 | server.py:165 | evaluate_round 13: strategy sampled 2 clients (out of 2)\n",
      "DEBUG flwr 2023-04-16 17:51:16,353 | server.py:179 | evaluate_round 13 received 2 results and 0 failures\n",
      "DEBUG flwr 2023-04-16 17:51:16,353 | server.py:215 | fit_round 14: strategy sampled 2 clients (out of 2)\n"
     ]
    },
    {
     "output_type": "stream",
     "name": "stdout",
     "text": [
      "\t {'val_loss': 3.642632246017456, 'val_accuracy': 0.25}\n"
     ]
    },
    {
     "output_type": "stream",
     "name": "stderr",
     "text": [
      "DEBUG flwr 2023-04-16 17:51:35,599 | server.py:229 | fit_round 14 received 2 results and 0 failures\n"
     ]
    },
    {
     "output_type": "stream",
     "name": "stdout",
     "text": [
      "\t {'train_loss': 0.5008700415492058, 'train_accuracy': 0.9944444444444445}\n"
     ]
    },
    {
     "output_type": "stream",
     "name": "stderr",
     "text": [
      "INFO flwr 2023-04-16 17:51:38,291 | server.py:116 | fit progress: (14, 14.77270793914795, {'test_loss': 14.77270793914795, 'test_accuracy': 0.24}, 325.47291380001116)\n",
      "DEBUG flwr 2023-04-16 17:51:38,291 | server.py:165 | evaluate_round 14: strategy sampled 2 clients (out of 2)\n",
      "DEBUG flwr 2023-04-16 17:51:39,575 | server.py:179 | evaluate_round 14 received 2 results and 0 failures\n",
      "DEBUG flwr 2023-04-16 17:51:39,575 | server.py:215 | fit_round 15: strategy sampled 2 clients (out of 2)\n"
     ]
    },
    {
     "output_type": "stream",
     "name": "stdout",
     "text": [
      "\t {'val_loss': 3.706449866294861, 'val_accuracy': 0.25}\n"
     ]
    },
    {
     "output_type": "stream",
     "name": "stderr",
     "text": [
      "DEBUG flwr 2023-04-16 17:51:58,542 | server.py:229 | fit_round 15 received 2 results and 0 failures\n"
     ]
    },
    {
     "output_type": "stream",
     "name": "stdout",
     "text": [
      "\t {'train_loss': 0.43993812799453735, 'train_accuracy': 0.9972222222222222}\n"
     ]
    },
    {
     "output_type": "stream",
     "name": "stderr",
     "text": [
      "INFO flwr 2023-04-16 17:52:01,202 | server.py:116 | fit progress: (15, 14.759273529052734, {'test_loss': 14.759273529052734, 'test_accuracy': 0.25}, 348.3841167000064)\n",
      "DEBUG flwr 2023-04-16 17:52:01,202 | server.py:165 | evaluate_round 15: strategy sampled 2 clients (out of 2)\n",
      "DEBUG flwr 2023-04-16 17:52:02,468 | server.py:179 | evaluate_round 15 received 2 results and 0 failures\n",
      "DEBUG flwr 2023-04-16 17:52:02,469 | server.py:215 | fit_round 16: strategy sampled 2 clients (out of 2)\n"
     ]
    },
    {
     "output_type": "stream",
     "name": "stdout",
     "text": [
      "\t {'val_loss': 3.6969536542892456, 'val_accuracy': 0.25}\n"
     ]
    },
    {
     "output_type": "stream",
     "name": "stderr",
     "text": [
      "DEBUG flwr 2023-04-16 17:52:21,168 | server.py:229 | fit_round 16 received 2 results and 0 failures\n"
     ]
    },
    {
     "output_type": "stream",
     "name": "stdout",
     "text": [
      "\t {'train_loss': 0.26752062514424324, 'train_accuracy': 1.0}\n"
     ]
    },
    {
     "output_type": "stream",
     "name": "stderr",
     "text": [
      "INFO flwr 2023-04-16 17:52:23,821 | server.py:116 | fit progress: (16, 14.48048210144043, {'test_loss': 14.48048210144043, 'test_accuracy': 0.24}, 371.00374370001373)\n",
      "DEBUG flwr 2023-04-16 17:52:23,822 | server.py:165 | evaluate_round 16: strategy sampled 2 clients (out of 2)\n",
      "DEBUG flwr 2023-04-16 17:52:25,084 | server.py:179 | evaluate_round 16 received 2 results and 0 failures\n",
      "DEBUG flwr 2023-04-16 17:52:25,084 | server.py:215 | fit_round 17: strategy sampled 2 clients (out of 2)\n"
     ]
    },
    {
     "output_type": "stream",
     "name": "stdout",
     "text": [
      "\t {'val_loss': 3.7212926149368286, 'val_accuracy': 0.25}\n"
     ]
    },
    {
     "output_type": "stream",
     "name": "stderr",
     "text": [
      "DEBUG flwr 2023-04-16 17:52:44,244 | server.py:229 | fit_round 17 received 2 results and 0 failures\n"
     ]
    },
    {
     "output_type": "stream",
     "name": "stdout",
     "text": [
      "\t {'train_loss': 0.1916785016655922, 'train_accuracy': 0.9972222222222222}\n"
     ]
    },
    {
     "output_type": "stream",
     "name": "stderr",
     "text": [
      "INFO flwr 2023-04-16 17:52:46,925 | server.py:116 | fit progress: (17, 14.363068580627441, {'test_loss': 14.363068580627441, 'test_accuracy': 0.25}, 394.10749860000215)\n",
      "DEBUG flwr 2023-04-16 17:52:46,925 | server.py:165 | evaluate_round 17: strategy sampled 2 clients (out of 2)\n",
      "DEBUG flwr 2023-04-16 17:52:48,282 | server.py:179 | evaluate_round 17 received 2 results and 0 failures\n",
      "DEBUG flwr 2023-04-16 17:52:48,283 | server.py:215 | fit_round 18: strategy sampled 2 clients (out of 2)\n"
     ]
    },
    {
     "output_type": "stream",
     "name": "stdout",
     "text": [
      "\t {'val_loss': 3.6983165740966797, 'val_accuracy': 0.3}\n"
     ]
    },
    {
     "output_type": "stream",
     "name": "stderr",
     "text": [
      "DEBUG flwr 2023-04-16 17:53:07,082 | server.py:229 | fit_round 18 received 2 results and 0 failures\n"
     ]
    },
    {
     "output_type": "stream",
     "name": "stdout",
     "text": [
      "\t {'train_loss': 0.14398344978690147, 'train_accuracy': 1.0}\n"
     ]
    },
    {
     "output_type": "stream",
     "name": "stderr",
     "text": [
      "INFO flwr 2023-04-16 17:53:09,728 | server.py:116 | fit progress: (18, 14.667478561401367, {'test_loss': 14.667478561401367, 'test_accuracy': 0.24}, 416.910255099996)\n",
      "DEBUG flwr 2023-04-16 17:53:09,728 | server.py:165 | evaluate_round 18: strategy sampled 2 clients (out of 2)\n",
      "DEBUG flwr 2023-04-16 17:53:11,063 | server.py:179 | evaluate_round 18 received 2 results and 0 failures\n",
      "DEBUG flwr 2023-04-16 17:53:11,064 | server.py:215 | fit_round 19: strategy sampled 2 clients (out of 2)\n"
     ]
    },
    {
     "output_type": "stream",
     "name": "stdout",
     "text": [
      "\t {'val_loss': 3.855939269065857, 'val_accuracy': 0.25}\n"
     ]
    },
    {
     "output_type": "stream",
     "name": "stderr",
     "text": [
      "DEBUG flwr 2023-04-16 17:53:30,671 | server.py:229 | fit_round 19 received 2 results and 0 failures\n"
     ]
    },
    {
     "output_type": "stream",
     "name": "stdout",
     "text": [
      "\t {'train_loss': 0.18103668093681335, 'train_accuracy': 0.9972222222222222}\n"
     ]
    },
    {
     "output_type": "stream",
     "name": "stderr",
     "text": [
      "INFO flwr 2023-04-16 17:53:33,316 | server.py:116 | fit progress: (19, 14.226372718811035, {'test_loss': 14.226372718811035, 'test_accuracy': 0.24}, 440.49840040001436)\n",
      "DEBUG flwr 2023-04-16 17:53:33,316 | server.py:165 | evaluate_round 19: strategy sampled 2 clients (out of 2)\n",
      "DEBUG flwr 2023-04-16 17:53:34,683 | server.py:179 | evaluate_round 19 received 2 results and 0 failures\n",
      "DEBUG flwr 2023-04-16 17:53:34,684 | server.py:215 | fit_round 20: strategy sampled 2 clients (out of 2)\n"
     ]
    },
    {
     "output_type": "stream",
     "name": "stdout",
     "text": [
      "\t {'val_loss': 3.7784982919692993, 'val_accuracy': 0.25}\n"
     ]
    },
    {
     "output_type": "stream",
     "name": "stderr",
     "text": [
      "DEBUG flwr 2023-04-16 17:53:55,430 | server.py:229 | fit_round 20 received 2 results and 0 failures\n"
     ]
    },
    {
     "output_type": "stream",
     "name": "stdout",
     "text": [
      "\t {'train_loss': 0.06273047253489494, 'train_accuracy': 1.0}\n"
     ]
    },
    {
     "output_type": "stream",
     "name": "stderr",
     "text": [
      "INFO flwr 2023-04-16 17:53:58,098 | server.py:116 | fit progress: (20, 14.411389350891113, {'test_loss': 14.411389350891113, 'test_accuracy': 0.24}, 465.2809097999998)\n",
      "DEBUG flwr 2023-04-16 17:53:58,099 | server.py:165 | evaluate_round 20: strategy sampled 2 clients (out of 2)\n",
      "DEBUG flwr 2023-04-16 17:53:59,493 | server.py:179 | evaluate_round 20 received 2 results and 0 failures\n",
      "DEBUG flwr 2023-04-16 17:53:59,494 | server.py:215 | fit_round 21: strategy sampled 2 clients (out of 2)\n"
     ]
    },
    {
     "output_type": "stream",
     "name": "stdout",
     "text": [
      "\t {'val_loss': 3.743596076965332, 'val_accuracy': 0.25}\n"
     ]
    },
    {
     "output_type": "stream",
     "name": "stderr",
     "text": [
      "DEBUG flwr 2023-04-16 17:54:22,132 | server.py:229 | fit_round 21 received 2 results and 0 failures\n"
     ]
    },
    {
     "output_type": "stream",
     "name": "stdout",
     "text": [
      "\t {'train_loss': 0.057028742507100105, 'train_accuracy': 1.0}\n"
     ]
    },
    {
     "output_type": "stream",
     "name": "stderr",
     "text": [
      "INFO flwr 2023-04-16 17:54:24,780 | server.py:116 | fit progress: (21, 14.446592330932617, {'test_loss': 14.446592330932617, 'test_accuracy': 0.25}, 491.9633371999953)\n",
      "DEBUG flwr 2023-04-16 17:54:24,781 | server.py:165 | evaluate_round 21: strategy sampled 2 clients (out of 2)\n",
      "DEBUG flwr 2023-04-16 17:54:26,138 | server.py:179 | evaluate_round 21 received 2 results and 0 failures\n",
      "DEBUG flwr 2023-04-16 17:54:26,139 | server.py:215 | fit_round 22: strategy sampled 2 clients (out of 2)\n"
     ]
    },
    {
     "output_type": "stream",
     "name": "stdout",
     "text": [
      "\t {'val_loss': 3.7500041723251343, 'val_accuracy': 0.25}\n"
     ]
    },
    {
     "output_type": "stream",
     "name": "stderr",
     "text": [
      "DEBUG flwr 2023-04-16 17:54:52,337 | server.py:229 | fit_round 22 received 2 results and 0 failures\n"
     ]
    },
    {
     "output_type": "stream",
     "name": "stdout",
     "text": [
      "\t {'train_loss': 0.035336414352059364, 'train_accuracy': 1.0}\n"
     ]
    },
    {
     "output_type": "stream",
     "name": "stderr",
     "text": [
      "INFO flwr 2023-04-16 17:54:55,023 | server.py:116 | fit progress: (22, 14.266221046447754, {'test_loss': 14.266221046447754, 'test_accuracy': 0.24}, 522.2069704000023)\n",
      "DEBUG flwr 2023-04-16 17:54:55,024 | server.py:165 | evaluate_round 22: strategy sampled 2 clients (out of 2)\n",
      "DEBUG flwr 2023-04-16 17:54:56,293 | server.py:179 | evaluate_round 22 received 2 results and 0 failures\n",
      "DEBUG flwr 2023-04-16 17:54:56,294 | server.py:215 | fit_round 23: strategy sampled 2 clients (out of 2)\n"
     ]
    },
    {
     "output_type": "stream",
     "name": "stdout",
     "text": [
      "\t {'val_loss': 3.589150905609131, 'val_accuracy': 0.25}\n"
     ]
    },
    {
     "output_type": "stream",
     "name": "stderr",
     "text": [
      "DEBUG flwr 2023-04-16 17:55:24,814 | server.py:229 | fit_round 23 received 2 results and 0 failures\n"
     ]
    },
    {
     "output_type": "stream",
     "name": "stdout",
     "text": [
      "\t {'train_loss': 0.023558294866234064, 'train_accuracy': 1.0}\n"
     ]
    },
    {
     "output_type": "stream",
     "name": "stderr",
     "text": [
      "INFO flwr 2023-04-16 17:55:27,469 | server.py:116 | fit progress: (23, 14.367277145385742, {'test_loss': 14.367277145385742, 'test_accuracy': 0.24}, 554.6526369000203)\n",
      "DEBUG flwr 2023-04-16 17:55:27,470 | server.py:165 | evaluate_round 23: strategy sampled 2 clients (out of 2)\n",
      "DEBUG flwr 2023-04-16 17:55:28,825 | server.py:179 | evaluate_round 23 received 2 results and 0 failures\n",
      "DEBUG flwr 2023-04-16 17:55:28,826 | server.py:215 | fit_round 24: strategy sampled 2 clients (out of 2)\n"
     ]
    },
    {
     "output_type": "stream",
     "name": "stdout",
     "text": [
      "\t {'val_loss': 4.107983112335205, 'val_accuracy': 0.25}\n"
     ]
    },
    {
     "output_type": "stream",
     "name": "stderr",
     "text": [
      "DEBUG flwr 2023-04-16 17:55:57,471 | server.py:229 | fit_round 24 received 2 results and 0 failures\n"
     ]
    },
    {
     "output_type": "stream",
     "name": "stdout",
     "text": [
      "\t {'train_loss': 0.016671963036060333, 'train_accuracy': 1.0}\n"
     ]
    },
    {
     "output_type": "stream",
     "name": "stderr",
     "text": [
      "INFO flwr 2023-04-16 17:56:00,160 | server.py:116 | fit progress: (24, 14.253748893737793, {'test_loss': 14.253748893737793, 'test_accuracy': 0.24}, 587.3437462000002)\n",
      "DEBUG flwr 2023-04-16 17:56:00,161 | server.py:165 | evaluate_round 24: strategy sampled 2 clients (out of 2)\n",
      "DEBUG flwr 2023-04-16 17:56:01,546 | server.py:179 | evaluate_round 24 received 2 results and 0 failures\n",
      "DEBUG flwr 2023-04-16 17:56:01,546 | server.py:215 | fit_round 25: strategy sampled 2 clients (out of 2)\n"
     ]
    },
    {
     "output_type": "stream",
     "name": "stdout",
     "text": [
      "\t {'val_loss': 4.396050453186035, 'val_accuracy': 0.3}\n"
     ]
    },
    {
     "output_type": "stream",
     "name": "stderr",
     "text": [
      "DEBUG flwr 2023-04-16 17:56:29,090 | server.py:229 | fit_round 25 received 2 results and 0 failures\n"
     ]
    },
    {
     "output_type": "stream",
     "name": "stdout",
     "text": [
      "\t {'train_loss': 0.01607367000542581, 'train_accuracy': 1.0}\n"
     ]
    },
    {
     "output_type": "stream",
     "name": "stderr",
     "text": [
      "INFO flwr 2023-04-16 17:56:31,725 | server.py:116 | fit progress: (25, 14.596502304077148, {'test_loss': 14.596502304077148, 'test_accuracy': 0.24}, 618.908176500001)\n",
      "DEBUG flwr 2023-04-16 17:56:31,725 | server.py:165 | evaluate_round 25: strategy sampled 2 clients (out of 2)\n",
      "DEBUG flwr 2023-04-16 17:56:32,971 | server.py:179 | evaluate_round 25 received 2 results and 0 failures\n",
      "DEBUG flwr 2023-04-16 17:56:32,971 | server.py:215 | fit_round 26: strategy sampled 2 clients (out of 2)\n"
     ]
    },
    {
     "output_type": "stream",
     "name": "stdout",
     "text": [
      "\t {'val_loss': 4.086972236633301, 'val_accuracy': 0.25}\n"
     ]
    },
    {
     "output_type": "stream",
     "name": "stderr",
     "text": [
      "DEBUG flwr 2023-04-16 17:56:58,442 | server.py:229 | fit_round 26 received 2 results and 0 failures\n"
     ]
    },
    {
     "output_type": "stream",
     "name": "stdout",
     "text": [
      "\t {'train_loss': 0.010532632004469633, 'train_accuracy': 1.0}\n"
     ]
    },
    {
     "output_type": "stream",
     "name": "stderr",
     "text": [
      "INFO flwr 2023-04-16 17:57:01,100 | server.py:116 | fit progress: (26, 14.500187873840332, {'test_loss': 14.500187873840332, 'test_accuracy': 0.24}, 648.2844392000115)\n",
      "DEBUG flwr 2023-04-16 17:57:01,101 | server.py:165 | evaluate_round 26: strategy sampled 2 clients (out of 2)\n",
      "DEBUG flwr 2023-04-16 17:57:02,404 | server.py:179 | evaluate_round 26 received 2 results and 0 failures\n",
      "DEBUG flwr 2023-04-16 17:57:02,405 | server.py:215 | fit_round 27: strategy sampled 2 clients (out of 2)\n"
     ]
    },
    {
     "output_type": "stream",
     "name": "stdout",
     "text": [
      "\t {'val_loss': 3.877718210220337, 'val_accuracy': 0.3}\n"
     ]
    },
    {
     "output_type": "stream",
     "name": "stderr",
     "text": [
      "DEBUG flwr 2023-04-16 17:57:24,891 | server.py:229 | fit_round 27 received 2 results and 0 failures\n"
     ]
    },
    {
     "output_type": "stream",
     "name": "stdout",
     "text": [
      "\t {'train_loss': 0.00665820442372933, 'train_accuracy': 1.0}\n"
     ]
    },
    {
     "output_type": "stream",
     "name": "stderr",
     "text": [
      "INFO flwr 2023-04-16 17:57:27,532 | server.py:116 | fit progress: (27, 14.452763557434082, {'test_loss': 14.452763557434082, 'test_accuracy': 0.25}, 674.7162192999967)\n",
      "DEBUG flwr 2023-04-16 17:57:27,533 | server.py:165 | evaluate_round 27: strategy sampled 2 clients (out of 2)\n",
      "DEBUG flwr 2023-04-16 17:57:28,793 | server.py:179 | evaluate_round 27 received 2 results and 0 failures\n",
      "DEBUG flwr 2023-04-16 17:57:28,794 | server.py:215 | fit_round 28: strategy sampled 2 clients (out of 2)\n"
     ]
    },
    {
     "output_type": "stream",
     "name": "stdout",
     "text": [
      "\t {'val_loss': 3.6315081119537354, 'val_accuracy': 0.3}\n"
     ]
    },
    {
     "output_type": "stream",
     "name": "stderr",
     "text": [
      "DEBUG flwr 2023-04-16 17:57:49,832 | server.py:229 | fit_round 28 received 2 results and 0 failures\n"
     ]
    },
    {
     "output_type": "stream",
     "name": "stdout",
     "text": [
      "\t {'train_loss': 0.005527029454242438, 'train_accuracy': 1.0}\n"
     ]
    },
    {
     "output_type": "stream",
     "name": "stderr",
     "text": [
      "INFO flwr 2023-04-16 17:57:52,517 | server.py:116 | fit progress: (28, 14.584537506103516, {'test_loss': 14.584537506103516, 'test_accuracy': 0.23}, 699.7015621000028)\n",
      "DEBUG flwr 2023-04-16 17:57:52,518 | server.py:165 | evaluate_round 28: strategy sampled 2 clients (out of 2)\n",
      "DEBUG flwr 2023-04-16 17:57:53,794 | server.py:179 | evaluate_round 28 received 2 results and 0 failures\n",
      "DEBUG flwr 2023-04-16 17:57:53,795 | server.py:215 | fit_round 29: strategy sampled 2 clients (out of 2)\n"
     ]
    },
    {
     "output_type": "stream",
     "name": "stdout",
     "text": [
      "\t {'val_loss': 3.7742825746536255, 'val_accuracy': 0.3}\n"
     ]
    },
    {
     "output_type": "stream",
     "name": "stderr",
     "text": [
      "DEBUG flwr 2023-04-16 17:58:14,154 | server.py:229 | fit_round 29 received 2 results and 0 failures\n"
     ]
    },
    {
     "output_type": "stream",
     "name": "stdout",
     "text": [
      "\t {'train_loss': 0.002797318738885224, 'train_accuracy': 1.0}\n"
     ]
    },
    {
     "output_type": "stream",
     "name": "stderr",
     "text": [
      "INFO flwr 2023-04-16 17:58:16,806 | server.py:116 | fit progress: (29, 14.63980484008789, {'test_loss': 14.63980484008789, 'test_accuracy': 0.26}, 723.9901309999987)\n",
      "DEBUG flwr 2023-04-16 17:58:16,806 | server.py:165 | evaluate_round 29: strategy sampled 2 clients (out of 2)\n",
      "DEBUG flwr 2023-04-16 17:58:18,155 | server.py:179 | evaluate_round 29 received 2 results and 0 failures\n",
      "DEBUG flwr 2023-04-16 17:58:18,156 | server.py:215 | fit_round 30: strategy sampled 2 clients (out of 2)\n"
     ]
    },
    {
     "output_type": "stream",
     "name": "stdout",
     "text": [
      "\t {'val_loss': 3.8348190784454346, 'val_accuracy': 0.3}\n"
     ]
    },
    {
     "output_type": "stream",
     "name": "stderr",
     "text": [
      "DEBUG flwr 2023-04-16 17:58:37,980 | server.py:229 | fit_round 30 received 2 results and 0 failures\n"
     ]
    },
    {
     "output_type": "stream",
     "name": "stdout",
     "text": [
      "\t {'train_loss': 0.003108230943325907, 'train_accuracy': 1.0}\n"
     ]
    },
    {
     "output_type": "stream",
     "name": "stderr",
     "text": [
      "INFO flwr 2023-04-16 17:58:40,672 | server.py:116 | fit progress: (30, 15.173813819885254, {'test_loss': 15.173813819885254, 'test_accuracy': 0.27}, 747.856033100019)\n",
      "DEBUG flwr 2023-04-16 17:58:40,672 | server.py:165 | evaluate_round 30: strategy sampled 2 clients (out of 2)\n",
      "DEBUG flwr 2023-04-16 17:58:41,921 | server.py:179 | evaluate_round 30 received 2 results and 0 failures\n",
      "DEBUG flwr 2023-04-16 17:58:41,922 | server.py:215 | fit_round 31: strategy sampled 2 clients (out of 2)\n"
     ]
    },
    {
     "output_type": "stream",
     "name": "stdout",
     "text": [
      "\t {'val_loss': 3.642386317253113, 'val_accuracy': 0.25}\n"
     ]
    },
    {
     "output_type": "stream",
     "name": "stderr",
     "text": [
      "DEBUG flwr 2023-04-16 17:59:01,619 | server.py:229 | fit_round 31 received 2 results and 0 failures\n"
     ]
    },
    {
     "output_type": "stream",
     "name": "stdout",
     "text": [
      "\t {'train_loss': 0.0019905551307601854, 'train_accuracy': 1.0}\n"
     ]
    },
    {
     "output_type": "stream",
     "name": "stderr",
     "text": [
      "INFO flwr 2023-04-16 17:59:07,561 | server.py:116 | fit progress: (31, 14.590401649475098, {'test_loss': 14.590401649475098, 'test_accuracy': 0.25}, 774.745756600023)\n",
      "DEBUG flwr 2023-04-16 17:59:07,562 | server.py:165 | evaluate_round 31: strategy sampled 2 clients (out of 2)\n",
      "DEBUG flwr 2023-04-16 17:59:08,819 | server.py:179 | evaluate_round 31 received 2 results and 0 failures\n",
      "DEBUG flwr 2023-04-16 17:59:08,819 | server.py:215 | fit_round 32: strategy sampled 2 clients (out of 2)\n"
     ]
    },
    {
     "output_type": "stream",
     "name": "stdout",
     "text": [
      "\t {'val_loss': 3.4463573694229126, 'val_accuracy': 0.3}\n"
     ]
    },
    {
     "output_type": "stream",
     "name": "stderr",
     "text": [
      "DEBUG flwr 2023-04-16 17:59:27,982 | server.py:229 | fit_round 32 received 2 results and 0 failures\n"
     ]
    },
    {
     "output_type": "stream",
     "name": "stdout",
     "text": [
      "\t {'train_loss': 0.0013094044697936624, 'train_accuracy': 1.0}\n"
     ]
    },
    {
     "output_type": "stream",
     "name": "stderr",
     "text": [
      "INFO flwr 2023-04-16 17:59:34,791 | server.py:116 | fit progress: (32, 15.024274826049805, {'test_loss': 15.024274826049805, 'test_accuracy': 0.25}, 801.9763052000199)\n",
      "DEBUG flwr 2023-04-16 17:59:34,793 | server.py:165 | evaluate_round 32: strategy sampled 2 clients (out of 2)\n",
      "DEBUG flwr 2023-04-16 17:59:36,056 | server.py:179 | evaluate_round 32 received 2 results and 0 failures\n",
      "DEBUG flwr 2023-04-16 17:59:36,057 | server.py:215 | fit_round 33: strategy sampled 2 clients (out of 2)\n"
     ]
    },
    {
     "output_type": "stream",
     "name": "stdout",
     "text": [
      "\t {'val_loss': 3.6248117685317993, 'val_accuracy': 0.3}\n"
     ]
    },
    {
     "output_type": "stream",
     "name": "stderr",
     "text": [
      "DEBUG flwr 2023-04-16 17:59:55,700 | server.py:229 | fit_round 33 received 2 results and 0 failures\n"
     ]
    },
    {
     "output_type": "stream",
     "name": "stdout",
     "text": [
      "\t {'train_loss': 0.00110272980236914, 'train_accuracy': 1.0}\n"
     ]
    },
    {
     "output_type": "stream",
     "name": "stderr",
     "text": [
      "INFO flwr 2023-04-16 18:00:01,913 | server.py:116 | fit progress: (33, 15.107505798339844, {'test_loss': 15.107505798339844, 'test_accuracy': 0.26}, 829.098103700002)\n",
      "DEBUG flwr 2023-04-16 18:00:01,914 | server.py:165 | evaluate_round 33: strategy sampled 2 clients (out of 2)\n",
      "DEBUG flwr 2023-04-16 18:00:03,217 | server.py:179 | evaluate_round 33 received 2 results and 0 failures\n",
      "DEBUG flwr 2023-04-16 18:00:03,218 | server.py:215 | fit_round 34: strategy sampled 2 clients (out of 2)\n"
     ]
    },
    {
     "output_type": "stream",
     "name": "stdout",
     "text": [
      "\t {'val_loss': 3.8437602519989014, 'val_accuracy': 0.25}\n"
     ]
    },
    {
     "output_type": "stream",
     "name": "stderr",
     "text": [
      "DEBUG flwr 2023-04-16 18:00:22,548 | server.py:229 | fit_round 34 received 2 results and 0 failures\n"
     ]
    },
    {
     "output_type": "stream",
     "name": "stdout",
     "text": [
      "\t {'train_loss': 0.0010080011270474643, 'train_accuracy': 1.0}\n"
     ]
    },
    {
     "output_type": "stream",
     "name": "stderr",
     "text": [
      "INFO flwr 2023-04-16 18:00:28,873 | server.py:116 | fit progress: (34, 15.087000846862793, {'test_loss': 15.087000846862793, 'test_accuracy': 0.25}, 856.0587530000194)\n",
      "DEBUG flwr 2023-04-16 18:00:28,874 | server.py:165 | evaluate_round 34: strategy sampled 2 clients (out of 2)\n",
      "DEBUG flwr 2023-04-16 18:00:30,178 | server.py:179 | evaluate_round 34 received 2 results and 0 failures\n",
      "DEBUG flwr 2023-04-16 18:00:30,179 | server.py:215 | fit_round 35: strategy sampled 2 clients (out of 2)\n"
     ]
    },
    {
     "output_type": "stream",
     "name": "stdout",
     "text": [
      "\t {'val_loss': 3.805914878845215, 'val_accuracy': 0.3}\n"
     ]
    },
    {
     "output_type": "stream",
     "name": "stderr",
     "text": [
      "DEBUG flwr 2023-04-16 18:00:49,891 | server.py:229 | fit_round 35 received 2 results and 0 failures\n"
     ]
    },
    {
     "output_type": "stream",
     "name": "stdout",
     "text": [
      "\t {'train_loss': 0.0007794823868607637, 'train_accuracy': 1.0}\n"
     ]
    },
    {
     "output_type": "stream",
     "name": "stderr",
     "text": [
      "INFO flwr 2023-04-16 18:00:55,963 | server.py:116 | fit progress: (35, 15.261640548706055, {'test_loss': 15.261640548706055, 'test_accuracy': 0.25}, 883.148566799995)\n",
      "DEBUG flwr 2023-04-16 18:00:55,964 | server.py:165 | evaluate_round 35: strategy sampled 2 clients (out of 2)\n",
      "DEBUG flwr 2023-04-16 18:00:57,127 | server.py:179 | evaluate_round 35 received 2 results and 0 failures\n",
      "DEBUG flwr 2023-04-16 18:00:57,129 | server.py:215 | fit_round 36: strategy sampled 2 clients (out of 2)\n"
     ]
    },
    {
     "output_type": "stream",
     "name": "stdout",
     "text": [
      "\t {'val_loss': 3.6597081422805786, 'val_accuracy': 0.35}\n"
     ]
    },
    {
     "output_type": "stream",
     "name": "stderr",
     "text": [
      "DEBUG flwr 2023-04-16 18:01:17,329 | server.py:229 | fit_round 36 received 2 results and 0 failures\n"
     ]
    },
    {
     "output_type": "stream",
     "name": "stdout",
     "text": [
      "\t {'train_loss': 0.0004566627030726522, 'train_accuracy': 1.0}\n"
     ]
    },
    {
     "output_type": "stream",
     "name": "stderr",
     "text": [
      "INFO flwr 2023-04-16 18:01:24,146 | server.py:116 | fit progress: (36, 15.816243171691895, {'test_loss': 15.816243171691895, 'test_accuracy': 0.25}, 911.3317607000063)\n",
      "DEBUG flwr 2023-04-16 18:01:24,147 | server.py:165 | evaluate_round 36: strategy sampled 2 clients (out of 2)\n",
      "DEBUG flwr 2023-04-16 18:01:25,385 | server.py:179 | evaluate_round 36 received 2 results and 0 failures\n",
      "DEBUG flwr 2023-04-16 18:01:25,386 | server.py:215 | fit_round 37: strategy sampled 2 clients (out of 2)\n"
     ]
    },
    {
     "output_type": "stream",
     "name": "stdout",
     "text": [
      "\t {'val_loss': 3.6480907201766968, 'val_accuracy': 0.3}\n"
     ]
    },
    {
     "output_type": "stream",
     "name": "stderr",
     "text": [
      "DEBUG flwr 2023-04-16 18:01:47,033 | server.py:229 | fit_round 37 received 2 results and 0 failures\n"
     ]
    },
    {
     "output_type": "stream",
     "name": "stdout",
     "text": [
      "\t {'train_loss': 0.00035240573924966156, 'train_accuracy': 1.0}\n"
     ]
    },
    {
     "output_type": "stream",
     "name": "stderr",
     "text": [
      "INFO flwr 2023-04-16 18:01:53,417 | server.py:116 | fit progress: (37, 15.491519927978516, {'test_loss': 15.491519927978516, 'test_accuracy': 0.25}, 940.602260500018)\n",
      "DEBUG flwr 2023-04-16 18:01:53,418 | server.py:165 | evaluate_round 37: strategy sampled 2 clients (out of 2)\n",
      "DEBUG flwr 2023-04-16 18:01:54,578 | server.py:179 | evaluate_round 37 received 2 results and 0 failures\n",
      "DEBUG flwr 2023-04-16 18:01:54,580 | server.py:215 | fit_round 38: strategy sampled 2 clients (out of 2)\n"
     ]
    },
    {
     "output_type": "stream",
     "name": "stdout",
     "text": [
      "\t {'val_loss': 3.899505376815796, 'val_accuracy': 0.25}\n"
     ]
    },
    {
     "output_type": "stream",
     "name": "stderr",
     "text": [
      "DEBUG flwr 2023-04-16 18:02:17,236 | server.py:229 | fit_round 38 received 2 results and 0 failures\n"
     ]
    },
    {
     "output_type": "stream",
     "name": "stdout",
     "text": [
      "\t {'train_loss': 0.00031191953348752577, 'train_accuracy': 1.0}\n"
     ]
    },
    {
     "output_type": "stream",
     "name": "stderr",
     "text": [
      "INFO flwr 2023-04-16 18:02:23,638 | server.py:116 | fit progress: (38, 15.874579429626465, {'test_loss': 15.874579429626465, 'test_accuracy': 0.26}, 970.8239747000043)\n",
      "DEBUG flwr 2023-04-16 18:02:23,640 | server.py:165 | evaluate_round 38: strategy sampled 2 clients (out of 2)\n",
      "DEBUG flwr 2023-04-16 18:02:24,929 | server.py:179 | evaluate_round 38 received 2 results and 0 failures\n",
      "DEBUG flwr 2023-04-16 18:02:24,930 | server.py:215 | fit_round 39: strategy sampled 2 clients (out of 2)\n"
     ]
    },
    {
     "output_type": "stream",
     "name": "stdout",
     "text": [
      "\t {'val_loss': 3.852945327758789, 'val_accuracy': 0.25}\n"
     ]
    },
    {
     "output_type": "stream",
     "name": "stderr",
     "text": [
      "DEBUG flwr 2023-04-16 18:02:49,179 | server.py:229 | fit_round 39 received 2 results and 0 failures\n"
     ]
    },
    {
     "output_type": "stream",
     "name": "stdout",
     "text": [
      "\t {'train_loss': 0.0002573439205661998, 'train_accuracy': 1.0}\n"
     ]
    },
    {
     "output_type": "stream",
     "name": "stderr",
     "text": [
      "INFO flwr 2023-04-16 18:02:55,229 | server.py:116 | fit progress: (39, 16.04447364807129, {'test_loss': 16.04447364807129, 'test_accuracy': 0.25}, 1002.4144842000096)\n",
      "DEBUG flwr 2023-04-16 18:02:55,230 | server.py:165 | evaluate_round 39: strategy sampled 2 clients (out of 2)\n",
      "DEBUG flwr 2023-04-16 18:02:56,478 | server.py:179 | evaluate_round 39 received 2 results and 0 failures\n",
      "DEBUG flwr 2023-04-16 18:02:56,479 | server.py:215 | fit_round 40: strategy sampled 2 clients (out of 2)\n"
     ]
    },
    {
     "output_type": "stream",
     "name": "stdout",
     "text": [
      "\t {'val_loss': 3.9743540287017822, 'val_accuracy': 0.3}\n"
     ]
    },
    {
     "output_type": "stream",
     "name": "stderr",
     "text": [
      "DEBUG flwr 2023-04-16 18:03:20,663 | server.py:229 | fit_round 40 received 2 results and 0 failures\n"
     ]
    },
    {
     "output_type": "stream",
     "name": "stdout",
     "text": [
      "\t {'train_loss': 0.0002319830209671636, 'train_accuracy': 1.0}\n"
     ]
    },
    {
     "output_type": "stream",
     "name": "stderr",
     "text": [
      "INFO flwr 2023-04-16 18:03:26,144 | server.py:116 | fit progress: (40, 16.452497482299805, {'test_loss': 16.452497482299805, 'test_accuracy': 0.25}, 1033.3296310000005)\n",
      "DEBUG flwr 2023-04-16 18:03:26,145 | server.py:165 | evaluate_round 40: strategy sampled 2 clients (out of 2)\n",
      "DEBUG flwr 2023-04-16 18:03:27,462 | server.py:179 | evaluate_round 40 received 2 results and 0 failures\n",
      "DEBUG flwr 2023-04-16 18:03:27,463 | server.py:215 | fit_round 41: strategy sampled 2 clients (out of 2)\n"
     ]
    },
    {
     "output_type": "stream",
     "name": "stdout",
     "text": [
      "\t {'val_loss': 3.8410184383392334, 'val_accuracy': 0.25}\n"
     ]
    },
    {
     "output_type": "stream",
     "name": "stderr",
     "text": [
      "DEBUG flwr 2023-04-16 18:03:52,566 | server.py:229 | fit_round 41 received 2 results and 0 failures\n"
     ]
    },
    {
     "output_type": "stream",
     "name": "stdout",
     "text": [
      "\t {'train_loss': 0.00013985042187414365, 'train_accuracy': 1.0}\n"
     ]
    },
    {
     "output_type": "stream",
     "name": "stderr",
     "text": [
      "INFO flwr 2023-04-16 18:03:58,717 | server.py:116 | fit progress: (41, 16.17872428894043, {'test_loss': 16.17872428894043, 'test_accuracy': 0.25}, 1065.9028524000023)\n",
      "DEBUG flwr 2023-04-16 18:03:58,718 | server.py:165 | evaluate_round 41: strategy sampled 2 clients (out of 2)\n",
      "DEBUG flwr 2023-04-16 18:03:59,957 | server.py:179 | evaluate_round 41 received 2 results and 0 failures\n",
      "DEBUG flwr 2023-04-16 18:03:59,959 | server.py:215 | fit_round 42: strategy sampled 2 clients (out of 2)\n"
     ]
    },
    {
     "output_type": "stream",
     "name": "stdout",
     "text": [
      "\t {'val_loss': 3.8249820470809937, 'val_accuracy': 0.35}\n"
     ]
    },
    {
     "output_type": "stream",
     "name": "stderr",
     "text": [
      "DEBUG flwr 2023-04-16 18:04:24,142 | server.py:229 | fit_round 42 received 2 results and 0 failures\n"
     ]
    },
    {
     "output_type": "stream",
     "name": "stdout",
     "text": [
      "\t {'train_loss': 7.985657066456042e-05, 'train_accuracy': 1.0}\n"
     ]
    },
    {
     "output_type": "stream",
     "name": "stderr",
     "text": [
      "INFO flwr 2023-04-16 18:04:30,298 | server.py:116 | fit progress: (42, 16.054285049438477, {'test_loss': 16.054285049438477, 'test_accuracy': 0.25}, 1097.4846438000095)\n",
      "DEBUG flwr 2023-04-16 18:04:30,299 | server.py:165 | evaluate_round 42: strategy sampled 2 clients (out of 2)\n",
      "DEBUG flwr 2023-04-16 18:04:31,621 | server.py:179 | evaluate_round 42 received 2 results and 0 failures\n",
      "DEBUG flwr 2023-04-16 18:04:31,622 | server.py:215 | fit_round 43: strategy sampled 2 clients (out of 2)\n"
     ]
    },
    {
     "output_type": "stream",
     "name": "stdout",
     "text": [
      "\t {'val_loss': 3.8332422971725464, 'val_accuracy': 0.25}\n"
     ]
    },
    {
     "output_type": "stream",
     "name": "stderr",
     "text": [
      "DEBUG flwr 2023-04-16 18:04:54,761 | server.py:229 | fit_round 43 received 2 results and 0 failures\n"
     ]
    },
    {
     "output_type": "stream",
     "name": "stdout",
     "text": [
      "\t {'train_loss': 0.00011280067701591179, 'train_accuracy': 1.0}\n"
     ]
    },
    {
     "output_type": "stream",
     "name": "stderr",
     "text": [
      "INFO flwr 2023-04-16 18:05:01,028 | server.py:116 | fit progress: (43, 16.308135986328125, {'test_loss': 16.308135986328125, 'test_accuracy': 0.25}, 1128.2147301000077)\n",
      "DEBUG flwr 2023-04-16 18:05:01,030 | server.py:165 | evaluate_round 43: strategy sampled 2 clients (out of 2)\n",
      "DEBUG flwr 2023-04-16 18:05:02,303 | server.py:179 | evaluate_round 43 received 2 results and 0 failures\n",
      "DEBUG flwr 2023-04-16 18:05:02,304 | server.py:215 | fit_round 44: strategy sampled 2 clients (out of 2)\n"
     ]
    },
    {
     "output_type": "stream",
     "name": "stdout",
     "text": [
      "\t {'val_loss': 4.037140727043152, 'val_accuracy': 0.25}\n"
     ]
    },
    {
     "output_type": "stream",
     "name": "stderr",
     "text": [
      "DEBUG flwr 2023-04-16 18:05:24,441 | server.py:229 | fit_round 44 received 2 results and 0 failures\n"
     ]
    },
    {
     "output_type": "stream",
     "name": "stdout",
     "text": [
      "\t {'train_loss': 4.445698141353205e-05, 'train_accuracy': 1.0}\n"
     ]
    },
    {
     "output_type": "stream",
     "name": "stderr",
     "text": [
      "INFO flwr 2023-04-16 18:05:31,056 | server.py:116 | fit progress: (44, 16.3079833984375, {'test_loss': 16.3079833984375, 'test_accuracy': 0.25}, 1158.2430741999997)\n",
      "DEBUG flwr 2023-04-16 18:05:31,058 | server.py:165 | evaluate_round 44: strategy sampled 2 clients (out of 2)\n",
      "DEBUG flwr 2023-04-16 18:05:32,408 | server.py:179 | evaluate_round 44 received 2 results and 0 failures\n",
      "DEBUG flwr 2023-04-16 18:05:32,408 | server.py:215 | fit_round 45: strategy sampled 2 clients (out of 2)\n"
     ]
    },
    {
     "output_type": "stream",
     "name": "stdout",
     "text": [
      "\t {'val_loss': 3.78430712223053, 'val_accuracy': 0.35}\n"
     ]
    },
    {
     "output_type": "stream",
     "name": "stderr",
     "text": [
      "DEBUG flwr 2023-04-16 18:05:53,737 | server.py:229 | fit_round 45 received 2 results and 0 failures\n"
     ]
    },
    {
     "output_type": "stream",
     "name": "stdout",
     "text": [
      "\t {'train_loss': 3.851160045087454e-05, 'train_accuracy': 1.0}\n"
     ]
    },
    {
     "output_type": "stream",
     "name": "stderr",
     "text": [
      "INFO flwr 2023-04-16 18:06:00,218 | server.py:116 | fit progress: (45, 16.2179012298584, {'test_loss': 16.2179012298584, 'test_accuracy': 0.24}, 1187.4040165000188)\n",
      "DEBUG flwr 2023-04-16 18:06:00,219 | server.py:165 | evaluate_round 45: strategy sampled 2 clients (out of 2)\n",
      "DEBUG flwr 2023-04-16 18:06:01,574 | server.py:179 | evaluate_round 45 received 2 results and 0 failures\n",
      "DEBUG flwr 2023-04-16 18:06:01,575 | server.py:215 | fit_round 46: strategy sampled 2 clients (out of 2)\n"
     ]
    },
    {
     "output_type": "stream",
     "name": "stdout",
     "text": [
      "\t {'val_loss': 3.7151708602905273, 'val_accuracy': 0.35}\n"
     ]
    },
    {
     "output_type": "stream",
     "name": "stderr",
     "text": [
      "DEBUG flwr 2023-04-16 18:06:21,968 | server.py:229 | fit_round 46 received 2 results and 0 failures\n"
     ]
    },
    {
     "output_type": "stream",
     "name": "stdout",
     "text": [
      "\t {'train_loss': 2.4854407683960744e-05, 'train_accuracy': 1.0}\n"
     ]
    },
    {
     "output_type": "stream",
     "name": "stderr",
     "text": [
      "INFO flwr 2023-04-16 18:06:28,080 | server.py:116 | fit progress: (46, 16.415864944458008, {'test_loss': 16.415864944458008, 'test_accuracy': 0.24}, 1215.2671066000185)\n",
      "DEBUG flwr 2023-04-16 18:06:28,081 | server.py:165 | evaluate_round 46: strategy sampled 2 clients (out of 2)\n",
      "DEBUG flwr 2023-04-16 18:06:29,309 | server.py:179 | evaluate_round 46 received 2 results and 0 failures\n",
      "DEBUG flwr 2023-04-16 18:06:29,310 | server.py:215 | fit_round 47: strategy sampled 2 clients (out of 2)\n"
     ]
    },
    {
     "output_type": "stream",
     "name": "stdout",
     "text": [
      "\t {'val_loss': 3.987467646598816, 'val_accuracy': 0.3}\n"
     ]
    },
    {
     "output_type": "stream",
     "name": "stderr",
     "text": [
      "DEBUG flwr 2023-04-16 18:06:49,452 | server.py:229 | fit_round 47 received 2 results and 0 failures\n"
     ]
    },
    {
     "output_type": "stream",
     "name": "stdout",
     "text": [
      "\t {'train_loss': 2.3787571706179733e-05, 'train_accuracy': 1.0}\n"
     ]
    },
    {
     "output_type": "stream",
     "name": "stderr",
     "text": [
      "INFO flwr 2023-04-16 18:06:55,882 | server.py:116 | fit progress: (47, 16.536102294921875, {'test_loss': 16.536102294921875, 'test_accuracy': 0.24}, 1243.0693902000203)\n",
      "DEBUG flwr 2023-04-16 18:06:55,884 | server.py:165 | evaluate_round 47: strategy sampled 2 clients (out of 2)\n",
      "DEBUG flwr 2023-04-16 18:06:57,226 | server.py:179 | evaluate_round 47 received 2 results and 0 failures\n",
      "DEBUG flwr 2023-04-16 18:06:57,227 | server.py:215 | fit_round 48: strategy sampled 2 clients (out of 2)\n"
     ]
    },
    {
     "output_type": "stream",
     "name": "stdout",
     "text": [
      "\t {'val_loss': 3.865002989768982, 'val_accuracy': 0.3}\n"
     ]
    },
    {
     "output_type": "stream",
     "name": "stderr",
     "text": [
      "DEBUG flwr 2023-04-16 18:07:17,852 | server.py:229 | fit_round 48 received 2 results and 0 failures\n"
     ]
    },
    {
     "output_type": "stream",
     "name": "stdout",
     "text": [
      "\t {'train_loss': 1.702270532177863e-05, 'train_accuracy': 1.0}\n"
     ]
    },
    {
     "output_type": "stream",
     "name": "stderr",
     "text": [
      "INFO flwr 2023-04-16 18:07:24,364 | server.py:116 | fit progress: (48, 16.4030704498291, {'test_loss': 16.4030704498291, 'test_accuracy': 0.24}, 1271.5506371000083)\n",
      "DEBUG flwr 2023-04-16 18:07:24,365 | server.py:165 | evaluate_round 48: strategy sampled 2 clients (out of 2)\n",
      "DEBUG flwr 2023-04-16 18:07:25,681 | server.py:179 | evaluate_round 48 received 2 results and 0 failures\n",
      "DEBUG flwr 2023-04-16 18:07:25,682 | server.py:215 | fit_round 49: strategy sampled 2 clients (out of 2)\n"
     ]
    },
    {
     "output_type": "stream",
     "name": "stdout",
     "text": [
      "\t {'val_loss': 4.004602551460266, 'val_accuracy': 0.3}\n"
     ]
    },
    {
     "output_type": "stream",
     "name": "stderr",
     "text": [
      "DEBUG flwr 2023-04-16 18:07:46,073 | server.py:229 | fit_round 49 received 2 results and 0 failures\n"
     ]
    },
    {
     "output_type": "stream",
     "name": "stdout",
     "text": [
      "\t {'train_loss': 1.0043262761882943e-05, 'train_accuracy': 1.0}\n"
     ]
    },
    {
     "output_type": "stream",
     "name": "stderr",
     "text": [
      "INFO flwr 2023-04-16 18:07:52,411 | server.py:116 | fit progress: (49, 16.799055099487305, {'test_loss': 16.799055099487305, 'test_accuracy': 0.24}, 1299.5988620000135)\n",
      "DEBUG flwr 2023-04-16 18:07:52,413 | server.py:165 | evaluate_round 49: strategy sampled 2 clients (out of 2)\n",
      "DEBUG flwr 2023-04-16 18:07:53,639 | server.py:179 | evaluate_round 49 received 2 results and 0 failures\n",
      "DEBUG flwr 2023-04-16 18:07:53,640 | server.py:215 | fit_round 50: strategy sampled 2 clients (out of 2)\n"
     ]
    },
    {
     "output_type": "stream",
     "name": "stdout",
     "text": [
      "\t {'val_loss': 3.909123182296753, 'val_accuracy': 0.35}\n"
     ]
    },
    {
     "output_type": "stream",
     "name": "stderr",
     "text": [
      "DEBUG flwr 2023-04-16 18:08:14,057 | server.py:229 | fit_round 50 received 2 results and 0 failures\n"
     ]
    },
    {
     "output_type": "stream",
     "name": "stdout",
     "text": [
      "\t {'train_loss': 1.1133989033851321e-05, 'train_accuracy': 1.0}\n"
     ]
    },
    {
     "output_type": "stream",
     "name": "stderr",
     "text": [
      "INFO flwr 2023-04-16 18:08:20,410 | server.py:116 | fit progress: (50, 16.783123016357422, {'test_loss': 16.783123016357422, 'test_accuracy': 0.24}, 1327.597060400003)\n",
      "DEBUG flwr 2023-04-16 18:08:20,411 | server.py:165 | evaluate_round 50: strategy sampled 2 clients (out of 2)\n",
      "DEBUG flwr 2023-04-16 18:08:21,744 | server.py:179 | evaluate_round 50 received 2 results and 0 failures\n",
      "INFO flwr 2023-04-16 18:08:21,745 | server.py:144 | FL finished in 1328.9324910000141\n",
      "INFO flwr 2023-04-16 18:08:21,762 | app.py:202 | app_fit: losses_distributed [(1, 4.277449131011963), (2, 4.159277677536011), (3, 4.114332318305969), (4, 4.272208333015442), (5, 3.955610990524292), (6, 3.8309569358825684), (7, 3.79457426071167), (8, 3.711012125015259), (9, 3.7861043214797974), (10, 3.5372066497802734), (11, 3.630365014076233), (12, 3.60128116607666), (13, 3.642632246017456), (14, 3.706449866294861), (15, 3.6969536542892456), (16, 3.7212926149368286), (17, 3.6983165740966797), (18, 3.855939269065857), (19, 3.7784982919692993), (20, 3.743596076965332), (21, 3.7500041723251343), (22, 3.589150905609131), (23, 4.107983112335205), (24, 4.396050453186035), (25, 4.086972236633301), (26, 3.877718210220337), (27, 3.6315081119537354), (28, 3.7742825746536255), (29, 3.8348190784454346), (30, 3.642386317253113), (31, 3.4463573694229126), (32, 3.6248117685317993), (33, 3.8437602519989014), (34, 3.805914878845215), (35, 3.6597081422805786), (36, 3.6480907201766968), (37, 3.899505376815796), (38, 3.852945327758789), (39, 3.9743540287017822), (40, 3.8410184383392334), (41, 3.8249820470809937), (42, 3.8332422971725464), (43, 4.037140727043152), (44, 3.78430712223053), (45, 3.7151708602905273), (46, 3.987467646598816), (47, 3.865002989768982), (48, 4.004602551460266), (49, 3.909123182296753), (50, 3.897201657295227)]\n",
      "INFO flwr 2023-04-16 18:08:21,762 | app.py:203 | app_fit: metrics_distributed {'val_loss': [(1, 4.277449131011963), (2, 4.159277677536011), (3, 4.114332318305969), (4, 4.272208333015442), (5, 3.955610990524292), (6, 3.8309569358825684), (7, 3.79457426071167), (8, 3.711012125015259), (9, 3.7861043214797974), (10, 3.5372066497802734), (11, 3.630365014076233), (12, 3.60128116607666), (13, 3.642632246017456), (14, 3.706449866294861), (15, 3.6969536542892456), (16, 3.7212926149368286), (17, 3.6983165740966797), (18, 3.855939269065857), (19, 3.7784982919692993), (20, 3.743596076965332), (21, 3.7500041723251343), (22, 3.589150905609131), (23, 4.107983112335205), (24, 4.396050453186035), (25, 4.086972236633301), (26, 3.877718210220337), (27, 3.6315081119537354), (28, 3.7742825746536255), (29, 3.8348190784454346), (30, 3.642386317253113), (31, 3.4463573694229126), (32, 3.6248117685317993), (33, 3.8437602519989014), (34, 3.805914878845215), (35, 3.6597081422805786), (36, 3.6480907201766968), (37, 3.899505376815796), (38, 3.852945327758789), (39, 3.9743540287017822), (40, 3.8410184383392334), (41, 3.8249820470809937), (42, 3.8332422971725464), (43, 4.037140727043152), (44, 3.78430712223053), (45, 3.7151708602905273), (46, 3.987467646598816), (47, 3.865002989768982), (48, 4.004602551460266), (49, 3.909123182296753), (50, 3.897201657295227)], 'val_accuracy': [(1, 0.05), (2, 0.25), (3, 0.15), (4, 0.15), (5, 0.3), (6, 0.3), (7, 0.35), (8, 0.35), (9, 0.35), (10, 0.35), (11, 0.35), (12, 0.3), (13, 0.25), (14, 0.25), (15, 0.25), (16, 0.25), (17, 0.3), (18, 0.25), (19, 0.25), (20, 0.25), (21, 0.25), (22, 0.25), (23, 0.25), (24, 0.3), (25, 0.25), (26, 0.3), (27, 0.3), (28, 0.3), (29, 0.3), (30, 0.25), (31, 0.3), (32, 0.3), (33, 0.25), (34, 0.3), (35, 0.35), (36, 0.3), (37, 0.25), (38, 0.25), (39, 0.3), (40, 0.25), (41, 0.35), (42, 0.25), (43, 0.25), (44, 0.35), (45, 0.35), (46, 0.3), (47, 0.3), (48, 0.3), (49, 0.35), (50, 0.3)]}\n",
      "INFO flwr 2023-04-16 18:08:21,764 | app.py:204 | app_fit: losses_centralized [(0, 20.549701690673828), (1, 18.464414596557617), (2, 17.951448440551758), (3, 18.35406494140625), (4, 18.174884796142578), (5, 17.553260803222656), (6, 16.364673614501953), (7, 15.81182861328125), (8, 15.900102615356445), (9, 15.454585075378418), (10, 15.401107788085938), (11, 15.102639198303223), (12, 15.01152515411377), (13, 14.272907257080078), (14, 14.77270793914795), (15, 14.759273529052734), (16, 14.48048210144043), (17, 14.363068580627441), (18, 14.667478561401367), (19, 14.226372718811035), (20, 14.411389350891113), (21, 14.446592330932617), (22, 14.266221046447754), (23, 14.367277145385742), (24, 14.253748893737793), (25, 14.596502304077148), (26, 14.500187873840332), (27, 14.452763557434082), (28, 14.584537506103516), (29, 14.63980484008789), (30, 15.173813819885254), (31, 14.590401649475098), (32, 15.024274826049805), (33, 15.107505798339844), (34, 15.087000846862793), (35, 15.261640548706055), (36, 15.816243171691895), (37, 15.491519927978516), (38, 15.874579429626465), (39, 16.04447364807129), (40, 16.452497482299805), (41, 16.17872428894043), (42, 16.054285049438477), (43, 16.308135986328125), (44, 16.3079833984375), (45, 16.2179012298584), (46, 16.415864944458008), (47, 16.536102294921875), (48, 16.4030704498291), (49, 16.799055099487305), (50, 16.783123016357422)]\n",
      "INFO flwr 2023-04-16 18:08:21,765 | app.py:205 | app_fit: metrics_centralized {'test_loss': [(0, 20.549701690673828), (1, 18.464414596557617), (2, 17.951448440551758), (3, 18.35406494140625), (4, 18.174884796142578), (5, 17.553260803222656), (6, 16.364673614501953), (7, 15.81182861328125), (8, 15.900102615356445), (9, 15.454585075378418), (10, 15.401107788085938), (11, 15.102639198303223), (12, 15.01152515411377), (13, 14.272907257080078), (14, 14.77270793914795), (15, 14.759273529052734), (16, 14.48048210144043), (17, 14.363068580627441), (18, 14.667478561401367), (19, 14.226372718811035), (20, 14.411389350891113), (21, 14.446592330932617), (22, 14.266221046447754), (23, 14.367277145385742), (24, 14.253748893737793), (25, 14.596502304077148), (26, 14.500187873840332), (27, 14.452763557434082), (28, 14.584537506103516), (29, 14.63980484008789), (30, 15.173813819885254), (31, 14.590401649475098), (32, 15.024274826049805), (33, 15.107505798339844), (34, 15.087000846862793), (35, 15.261640548706055), (36, 15.816243171691895), (37, 15.491519927978516), (38, 15.874579429626465), (39, 16.04447364807129), (40, 16.452497482299805), (41, 16.17872428894043), (42, 16.054285049438477), (43, 16.308135986328125), (44, 16.3079833984375), (45, 16.2179012298584), (46, 16.415864944458008), (47, 16.536102294921875), (48, 16.4030704498291), (49, 16.799055099487305), (50, 16.783123016357422)], 'test_accuracy': [(0, 0.0), (1, 0.04), (2, 0.08), (3, 0.07), (4, 0.1), (5, 0.1), (6, 0.17), (7, 0.17), (8, 0.16), (9, 0.21), (10, 0.19), (11, 0.22), (12, 0.21), (13, 0.23), (14, 0.24), (15, 0.25), (16, 0.24), (17, 0.25), (18, 0.24), (19, 0.24), (20, 0.24), (21, 0.25), (22, 0.24), (23, 0.24), (24, 0.24), (25, 0.24), (26, 0.24), (27, 0.25), (28, 0.23), (29, 0.26), (30, 0.27), (31, 0.25), (32, 0.25), (33, 0.26), (34, 0.25), (35, 0.25), (36, 0.25), (37, 0.25), (38, 0.26), (39, 0.25), (40, 0.25), (41, 0.25), (42, 0.25), (43, 0.25), (44, 0.25), (45, 0.24), (46, 0.24), (47, 0.24), (48, 0.24), (49, 0.24), (50, 0.24)]}\n"
     ]
    },
    {
     "output_type": "stream",
     "name": "stdout",
     "text": [
      "\t {'val_loss': 3.897201657295227, 'val_accuracy': 0.3}\n"
     ]
    },
    {
     "output_type": "execute_result",
     "data": {
      "text/plain": [
       "History (loss, distributed):\n",
       "\tround 1: 4.277449131011963\n",
       "\tround 2: 4.159277677536011\n",
       "\tround 3: 4.114332318305969\n",
       "\tround 4: 4.272208333015442\n",
       "\tround 5: 3.955610990524292\n",
       "\tround 6: 3.8309569358825684\n",
       "\tround 7: 3.79457426071167\n",
       "\tround 8: 3.711012125015259\n",
       "\tround 9: 3.7861043214797974\n",
       "\tround 10: 3.5372066497802734\n",
       "\tround 11: 3.630365014076233\n",
       "\tround 12: 3.60128116607666\n",
       "\tround 13: 3.642632246017456\n",
       "\tround 14: 3.706449866294861\n",
       "\tround 15: 3.6969536542892456\n",
       "\tround 16: 3.7212926149368286\n",
       "\tround 17: 3.6983165740966797\n",
       "\tround 18: 3.855939269065857\n",
       "\tround 19: 3.7784982919692993\n",
       "\tround 20: 3.743596076965332\n",
       "\tround 21: 3.7500041723251343\n",
       "\tround 22: 3.589150905609131\n",
       "\tround 23: 4.107983112335205\n",
       "\tround 24: 4.396050453186035\n",
       "\tround 25: 4.086972236633301\n",
       "\tround 26: 3.877718210220337\n",
       "\tround 27: 3.6315081119537354\n",
       "\tround 28: 3.7742825746536255\n",
       "\tround 29: 3.8348190784454346\n",
       "\tround 30: 3.642386317253113\n",
       "\tround 31: 3.4463573694229126\n",
       "\tround 32: 3.6248117685317993\n",
       "\tround 33: 3.8437602519989014\n",
       "\tround 34: 3.805914878845215\n",
       "\tround 35: 3.6597081422805786\n",
       "\tround 36: 3.6480907201766968\n",
       "\tround 37: 3.899505376815796\n",
       "\tround 38: 3.852945327758789\n",
       "\tround 39: 3.9743540287017822\n",
       "\tround 40: 3.8410184383392334\n",
       "\tround 41: 3.8249820470809937\n",
       "\tround 42: 3.8332422971725464\n",
       "\tround 43: 4.037140727043152\n",
       "\tround 44: 3.78430712223053\n",
       "\tround 45: 3.7151708602905273\n",
       "\tround 46: 3.987467646598816\n",
       "\tround 47: 3.865002989768982\n",
       "\tround 48: 4.004602551460266\n",
       "\tround 49: 3.909123182296753\n",
       "\tround 50: 3.897201657295227\n",
       "History (loss, centralized):\n",
       "\tround 0: 20.549701690673828\n",
       "\tround 1: 18.464414596557617\n",
       "\tround 2: 17.951448440551758\n",
       "\tround 3: 18.35406494140625\n",
       "\tround 4: 18.174884796142578\n",
       "\tround 5: 17.553260803222656\n",
       "\tround 6: 16.364673614501953\n",
       "\tround 7: 15.81182861328125\n",
       "\tround 8: 15.900102615356445\n",
       "\tround 9: 15.454585075378418\n",
       "\tround 10: 15.401107788085938\n",
       "\tround 11: 15.102639198303223\n",
       "\tround 12: 15.01152515411377\n",
       "\tround 13: 14.272907257080078\n",
       "\tround 14: 14.77270793914795\n",
       "\tround 15: 14.759273529052734\n",
       "\tround 16: 14.48048210144043\n",
       "\tround 17: 14.363068580627441\n",
       "\tround 18: 14.667478561401367\n",
       "\tround 19: 14.226372718811035\n",
       "\tround 20: 14.411389350891113\n",
       "\tround 21: 14.446592330932617\n",
       "\tround 22: 14.266221046447754\n",
       "\tround 23: 14.367277145385742\n",
       "\tround 24: 14.253748893737793\n",
       "\tround 25: 14.596502304077148\n",
       "\tround 26: 14.500187873840332\n",
       "\tround 27: 14.452763557434082\n",
       "\tround 28: 14.584537506103516\n",
       "\tround 29: 14.63980484008789\n",
       "\tround 30: 15.173813819885254\n",
       "\tround 31: 14.590401649475098\n",
       "\tround 32: 15.024274826049805\n",
       "\tround 33: 15.107505798339844\n",
       "\tround 34: 15.087000846862793\n",
       "\tround 35: 15.261640548706055\n",
       "\tround 36: 15.816243171691895\n",
       "\tround 37: 15.491519927978516\n",
       "\tround 38: 15.874579429626465\n",
       "\tround 39: 16.04447364807129\n",
       "\tround 40: 16.452497482299805\n",
       "\tround 41: 16.17872428894043\n",
       "\tround 42: 16.054285049438477\n",
       "\tround 43: 16.308135986328125\n",
       "\tround 44: 16.3079833984375\n",
       "\tround 45: 16.2179012298584\n",
       "\tround 46: 16.415864944458008\n",
       "\tround 47: 16.536102294921875\n",
       "\tround 48: 16.4030704498291\n",
       "\tround 49: 16.799055099487305\n",
       "\tround 50: 16.783123016357422\n",
       "History (metrics, distributed):\n",
       "{'val_loss': [(1, 4.277449131011963), (2, 4.159277677536011), (3, 4.114332318305969), (4, 4.272208333015442), (5, 3.955610990524292), (6, 3.8309569358825684), (7, 3.79457426071167), (8, 3.711012125015259), (9, 3.7861043214797974), (10, 3.5372066497802734), (11, 3.630365014076233), (12, 3.60128116607666), (13, 3.642632246017456), (14, 3.706449866294861), (15, 3.6969536542892456), (16, 3.7212926149368286), (17, 3.6983165740966797), (18, 3.855939269065857), (19, 3.7784982919692993), (20, 3.743596076965332), (21, 3.7500041723251343), (22, 3.589150905609131), (23, 4.107983112335205), (24, 4.396050453186035), (25, 4.086972236633301), (26, 3.877718210220337), (27, 3.6315081119537354), (28, 3.7742825746536255), (29, 3.8348190784454346), (30, 3.642386317253113), (31, 3.4463573694229126), (32, 3.6248117685317993), (33, 3.8437602519989014), (34, 3.805914878845215), (35, 3.6597081422805786), (36, 3.6480907201766968), (37, 3.899505376815796), (38, 3.852945327758789), (39, 3.9743540287017822), (40, 3.8410184383392334), (41, 3.8249820470809937), (42, 3.8332422971725464), (43, 4.037140727043152), (44, 3.78430712223053), (45, 3.7151708602905273), (46, 3.987467646598816), (47, 3.865002989768982), (48, 4.004602551460266), (49, 3.909123182296753), (50, 3.897201657295227)], 'val_accuracy': [(1, 0.05), (2, 0.25), (3, 0.15), (4, 0.15), (5, 0.3), (6, 0.3), (7, 0.35), (8, 0.35), (9, 0.35), (10, 0.35), (11, 0.35), (12, 0.3), (13, 0.25), (14, 0.25), (15, 0.25), (16, 0.25), (17, 0.3), (18, 0.25), (19, 0.25), (20, 0.25), (21, 0.25), (22, 0.25), (23, 0.25), (24, 0.3), (25, 0.25), (26, 0.3), (27, 0.3), (28, 0.3), (29, 0.3), (30, 0.25), (31, 0.3), (32, 0.3), (33, 0.25), (34, 0.3), (35, 0.35), (36, 0.3), (37, 0.25), (38, 0.25), (39, 0.3), (40, 0.25), (41, 0.35), (42, 0.25), (43, 0.25), (44, 0.35), (45, 0.35), (46, 0.3), (47, 0.3), (48, 0.3), (49, 0.35), (50, 0.3)]}History (metrics, centralized):\n",
       "{'test_loss': [(0, 20.549701690673828), (1, 18.464414596557617), (2, 17.951448440551758), (3, 18.35406494140625), (4, 18.174884796142578), (5, 17.553260803222656), (6, 16.364673614501953), (7, 15.81182861328125), (8, 15.900102615356445), (9, 15.454585075378418), (10, 15.401107788085938), (11, 15.102639198303223), (12, 15.01152515411377), (13, 14.272907257080078), (14, 14.77270793914795), (15, 14.759273529052734), (16, 14.48048210144043), (17, 14.363068580627441), (18, 14.667478561401367), (19, 14.226372718811035), (20, 14.411389350891113), (21, 14.446592330932617), (22, 14.266221046447754), (23, 14.367277145385742), (24, 14.253748893737793), (25, 14.596502304077148), (26, 14.500187873840332), (27, 14.452763557434082), (28, 14.584537506103516), (29, 14.63980484008789), (30, 15.173813819885254), (31, 14.590401649475098), (32, 15.024274826049805), (33, 15.107505798339844), (34, 15.087000846862793), (35, 15.261640548706055), (36, 15.816243171691895), (37, 15.491519927978516), (38, 15.874579429626465), (39, 16.04447364807129), (40, 16.452497482299805), (41, 16.17872428894043), (42, 16.054285049438477), (43, 16.308135986328125), (44, 16.3079833984375), (45, 16.2179012298584), (46, 16.415864944458008), (47, 16.536102294921875), (48, 16.4030704498291), (49, 16.799055099487305), (50, 16.783123016357422)], 'test_accuracy': [(0, 0.0), (1, 0.04), (2, 0.08), (3, 0.07), (4, 0.1), (5, 0.1), (6, 0.17), (7, 0.17), (8, 0.16), (9, 0.21), (10, 0.19), (11, 0.22), (12, 0.21), (13, 0.23), (14, 0.24), (15, 0.25), (16, 0.24), (17, 0.25), (18, 0.24), (19, 0.24), (20, 0.24), (21, 0.25), (22, 0.24), (23, 0.24), (24, 0.24), (25, 0.24), (26, 0.24), (27, 0.25), (28, 0.23), (29, 0.26), (30, 0.27), (31, 0.25), (32, 0.25), (33, 0.26), (34, 0.25), (35, 0.25), (36, 0.25), (37, 0.25), (38, 0.26), (39, 0.25), (40, 0.25), (41, 0.25), (42, 0.25), (43, 0.25), (44, 0.25), (45, 0.24), (46, 0.24), (47, 0.24), (48, 0.24), (49, 0.24), (50, 0.24)]}"
      ]
     },
     "metadata": {},
     "execution_count": 7
    }
   ],
   "metadata": {}
  }
 ],
 "nbformat": 4,
 "nbformat_minor": 2,
 "metadata": {
  "language_info": {
   "codemirror_mode": {
    "name": "ipython",
    "version": 3
   },
   "file_extension": ".py",
   "mimetype": "text/x-python",
   "name": "python",
   "nbconvert_exporter": "python",
   "pygments_lexer": "ipython3",
   "version": 3
  },
  "orig_nbformat": 4
 }
}