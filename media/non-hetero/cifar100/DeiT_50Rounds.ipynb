{
 "cells": [
  {
   "cell_type": "code",
   "execution_count": 6,
   "source": [
    "print('num clients:', NUM_CLIENTS)\n",
    "print('num rounds:', NUM_ROUNDS)\n",
    "print('--'*20)\n",
    "print('client training set size:', [len(t.dataset) for t in trainloaders])\n",
    "print('client validation set size:', [len(v.dataset) for v in valloaders])\n",
    "print('test set size:', len(testloader.dataset))\n",
    "print('--'*20)\n",
    "print('model name:', MODEL_NAME)\n",
    "print('num classes:', NUM_CLASSES)\n",
    "print('pre-trained:', PRE_TRAINED)\n",
    "print('learning rate:', LEARNING_RATE)\n",
    "print('batch size:', BATCH_SIZE)\n",
    "print('epochs:', EPOCHS)"
   ],
   "outputs": [
    {
     "output_type": "stream",
     "name": "stdout",
     "text": [
      "num clients: 5\n",
      "num rounds: 50\n",
      "----------------------------------------\n",
      "client training set size: [180, 180, 180, 180, 180]\n",
      "client validation set size: [20, 20, 20, 20, 20]\n",
      "test set size: 100\n",
      "----------------------------------------\n",
      "model name: facebook/deit-base-distilled-patch16-224\n",
      "num classes: 100\n",
      "pre-trained: True\n",
      "learning rate: 0.0001\n",
      "batch size: 32\n",
      "epochs: 1\n"
     ]
    }
   ],
   "metadata": {}
  },
  {
   "cell_type": "code",
   "execution_count": 7,
   "source": [
    "fl.simulation.start_simulation(\n",
    "    client_fn=lambda cid: FlowerClient(MODEL_CONFIG, trainloaders[int(cid)], valloaders[int(cid)]),\n",
    "    num_clients=NUM_CLIENTS,\n",
    "    config=fl.server.ServerConfig(num_rounds=NUM_ROUNDS),\n",
    "    strategy=strategy,\n",
    "    client_resources=CLIENT_RESOURCES,\n",
    "    ray_init_args=RAY_ARGS,\n",
    ")"
   ],
   "outputs": [
    {
     "output_type": "stream",
     "name": "stderr",
     "text": [
      "INFO flwr 2023-04-13 22:41:49,877 | app.py:145 | Starting Flower simulation, config: ServerConfig(num_rounds=50, round_timeout=None)\n",
      "2023-04-13 22:41:52,629\tINFO worker.py:1529 -- Started a local Ray instance. View the dashboard at \u001b[1m\u001b[32m127.0.0.1:8265 \u001b[39m\u001b[22m\n",
      "INFO flwr 2023-04-13 22:41:53,826 | app.py:179 | Flower VCE: Ray initialized with resources: {'memory': 14948575643.0, 'CPU': 24.0, 'object_store_memory': 7474287820.0, 'GPU': 1.0, 'node:127.0.0.1': 1.0}\n",
      "INFO flwr 2023-04-13 22:41:53,828 | server.py:86 | Initializing global parameters\n",
      "INFO flwr 2023-04-13 22:41:53,828 | server.py:266 | Using initial parameters provided by strategy\n",
      "INFO flwr 2023-04-13 22:41:53,829 | server.py:88 | Evaluating initial parameters\n",
      "INFO flwr 2023-04-13 22:42:03,170 | server.py:91 | initial parameters (loss, other metrics): 18.97638511657715, {'test_loss': 18.97638511657715, 'test_accuracy': 0.01}\n",
      "INFO flwr 2023-04-13 22:42:03,171 | server.py:101 | FL starting\n",
      "DEBUG flwr 2023-04-13 22:42:03,172 | server.py:215 | fit_round 1: strategy sampled 2 clients (out of 5)\n",
      "DEBUG flwr 2023-04-13 22:45:24,403 | server.py:229 | fit_round 1 received 2 results and 0 failures\n"
     ]
    },
    {
     "output_type": "stream",
     "name": "stdout",
     "text": [
      "\t {'train_loss': 4.6195666790008545, 'train_accuracy': 0.01388888888888889}\n"
     ]
    },
    {
     "output_type": "stream",
     "name": "stderr",
     "text": [
      "INFO flwr 2023-04-13 22:45:34,124 | server.py:116 | fit progress: (1, 18.177030563354492, {'test_loss': 18.177030563354492, 'test_accuracy': 0.06}, 210.95157619999918)\n",
      "DEBUG flwr 2023-04-13 22:45:34,124 | server.py:165 | evaluate_round 1: strategy sampled 2 clients (out of 5)\n",
      "DEBUG flwr 2023-04-13 22:45:45,233 | server.py:179 | evaluate_round 1 received 2 results and 0 failures\n",
      "DEBUG flwr 2023-04-13 22:45:45,233 | server.py:215 | fit_round 2: strategy sampled 2 clients (out of 5)\n"
     ]
    },
    {
     "output_type": "stream",
     "name": "stdout",
     "text": [
      "\t {'val_loss': 4.443741798400879, 'val_accuracy': 0.07500000000000001}\n"
     ]
    },
    {
     "output_type": "stream",
     "name": "stderr",
     "text": [
      "DEBUG flwr 2023-04-13 22:49:04,050 | server.py:229 | fit_round 2 received 2 results and 0 failures\n"
     ]
    },
    {
     "output_type": "stream",
     "name": "stdout",
     "text": [
      "\t {'train_loss': 4.3414647579193115, 'train_accuracy': 0.24722222222222223}\n"
     ]
    },
    {
     "output_type": "stream",
     "name": "stderr",
     "text": [
      "INFO flwr 2023-04-13 22:49:13,908 | server.py:116 | fit progress: (2, 17.55220603942871, {'test_loss': 17.55220603942871, 'test_accuracy': 0.15}, 430.7366493999998)\n",
      "DEBUG flwr 2023-04-13 22:49:13,909 | server.py:165 | evaluate_round 2: strategy sampled 2 clients (out of 5)\n",
      "DEBUG flwr 2023-04-13 22:49:24,941 | server.py:179 | evaluate_round 2 received 2 results and 0 failures\n",
      "DEBUG flwr 2023-04-13 22:49:24,942 | server.py:215 | fit_round 3: strategy sampled 2 clients (out of 5)\n"
     ]
    },
    {
     "output_type": "stream",
     "name": "stdout",
     "text": [
      "\t {'val_loss': 4.181242227554321, 'val_accuracy': 0.2}\n"
     ]
    },
    {
     "output_type": "stream",
     "name": "stderr",
     "text": [
      "DEBUG flwr 2023-04-13 22:52:42,444 | server.py:229 | fit_round 3 received 2 results and 0 failures\n"
     ]
    },
    {
     "output_type": "stream",
     "name": "stdout",
     "text": [
      "\t {'train_loss': 4.009252667427063, 'train_accuracy': 0.375}\n"
     ]
    },
    {
     "output_type": "stream",
     "name": "stderr",
     "text": [
      "INFO flwr 2023-04-13 22:52:52,269 | server.py:116 | fit progress: (3, 16.431533813476562, {'test_loss': 16.431533813476562, 'test_accuracy': 0.22}, 649.0972509999992)\n",
      "DEBUG flwr 2023-04-13 22:52:52,270 | server.py:165 | evaluate_round 3: strategy sampled 2 clients (out of 5)\n",
      "DEBUG flwr 2023-04-13 22:53:03,302 | server.py:179 | evaluate_round 3 received 2 results and 0 failures\n",
      "DEBUG flwr 2023-04-13 22:53:03,302 | server.py:215 | fit_round 4: strategy sampled 2 clients (out of 5)\n"
     ]
    },
    {
     "output_type": "stream",
     "name": "stdout",
     "text": [
      "\t {'val_loss': 3.9649665355682373, 'val_accuracy': 0.22499999999999998}\n"
     ]
    },
    {
     "output_type": "stream",
     "name": "stderr",
     "text": [
      "DEBUG flwr 2023-04-13 22:56:20,669 | server.py:229 | fit_round 4 received 2 results and 0 failures\n"
     ]
    },
    {
     "output_type": "stream",
     "name": "stdout",
     "text": [
      "\t {'train_loss': 3.5649871826171875, 'train_accuracy': 0.4527777777777778}\n"
     ]
    },
    {
     "output_type": "stream",
     "name": "stderr",
     "text": [
      "INFO flwr 2023-04-13 22:56:30,518 | server.py:116 | fit progress: (4, 15.714844703674316, {'test_loss': 15.714844703674316, 'test_accuracy': 0.24}, 867.3468219999995)\n",
      "DEBUG flwr 2023-04-13 22:56:30,519 | server.py:165 | evaluate_round 4: strategy sampled 2 clients (out of 5)\n",
      "DEBUG flwr 2023-04-13 22:56:41,496 | server.py:179 | evaluate_round 4 received 2 results and 0 failures\n",
      "DEBUG flwr 2023-04-13 22:56:41,497 | server.py:215 | fit_round 5: strategy sampled 2 clients (out of 5)\n"
     ]
    },
    {
     "output_type": "stream",
     "name": "stdout",
     "text": [
      "\t {'val_loss': 3.7830588817596436, 'val_accuracy': 0.25}\n"
     ]
    },
    {
     "output_type": "stream",
     "name": "stderr",
     "text": [
      "DEBUG flwr 2023-04-13 22:59:58,877 | server.py:229 | fit_round 5 received 2 results and 0 failures\n"
     ]
    },
    {
     "output_type": "stream",
     "name": "stdout",
     "text": [
      "\t {'train_loss': 3.2586346864700317, 'train_accuracy': 0.6222222222222222}\n"
     ]
    },
    {
     "output_type": "stream",
     "name": "stderr",
     "text": [
      "INFO flwr 2023-04-13 23:00:08,801 | server.py:116 | fit progress: (5, 14.75926685333252, {'test_loss': 14.75926685333252, 'test_accuracy': 0.33}, 1085.6288492999993)\n",
      "DEBUG flwr 2023-04-13 23:00:08,801 | server.py:165 | evaluate_round 5: strategy sampled 2 clients (out of 5)\n",
      "DEBUG flwr 2023-04-13 23:00:19,702 | server.py:179 | evaluate_round 5 received 2 results and 0 failures\n",
      "DEBUG flwr 2023-04-13 23:00:19,703 | server.py:215 | fit_round 6: strategy sampled 2 clients (out of 5)\n"
     ]
    },
    {
     "output_type": "stream",
     "name": "stdout",
     "text": [
      "\t {'val_loss': 3.1858285665512085, 'val_accuracy': 0.475}\n"
     ]
    },
    {
     "output_type": "stream",
     "name": "stderr",
     "text": [
      "DEBUG flwr 2023-04-13 23:03:36,006 | server.py:229 | fit_round 6 received 2 results and 0 failures\n"
     ]
    },
    {
     "output_type": "stream",
     "name": "stdout",
     "text": [
      "\t {'train_loss': 3.1782052516937256, 'train_accuracy': 0.5055555555555556}\n"
     ]
    },
    {
     "output_type": "stream",
     "name": "stderr",
     "text": [
      "INFO flwr 2023-04-13 23:03:45,873 | server.py:116 | fit progress: (6, 13.846593856811523, {'test_loss': 13.846593856811523, 'test_accuracy': 0.31}, 1302.701465)\n",
      "DEBUG flwr 2023-04-13 23:03:45,874 | server.py:165 | evaluate_round 6: strategy sampled 2 clients (out of 5)\n",
      "DEBUG flwr 2023-04-13 23:03:56,758 | server.py:179 | evaluate_round 6 received 2 results and 0 failures\n",
      "DEBUG flwr 2023-04-13 23:03:56,759 | server.py:215 | fit_round 7: strategy sampled 2 clients (out of 5)\n"
     ]
    },
    {
     "output_type": "stream",
     "name": "stdout",
     "text": [
      "\t {'val_loss': 3.1044567823410034, 'val_accuracy': 0.42500000000000004}\n"
     ]
    },
    {
     "output_type": "stream",
     "name": "stderr",
     "text": [
      "DEBUG flwr 2023-04-13 23:07:13,453 | server.py:229 | fit_round 7 received 2 results and 0 failures\n"
     ]
    },
    {
     "output_type": "stream",
     "name": "stdout",
     "text": [
      "\t {'train_loss': 2.888344168663025, 'train_accuracy': 0.7444444444444445}\n"
     ]
    },
    {
     "output_type": "stream",
     "name": "stderr",
     "text": [
      "INFO flwr 2023-04-13 23:07:23,203 | server.py:116 | fit progress: (7, 12.84677505493164, {'test_loss': 12.84677505493164, 'test_accuracy': 0.39}, 1520.0315013)\n",
      "DEBUG flwr 2023-04-13 23:07:23,204 | server.py:165 | evaluate_round 7: strategy sampled 2 clients (out of 5)\n",
      "DEBUG flwr 2023-04-13 23:07:34,178 | server.py:179 | evaluate_round 7 received 2 results and 0 failures\n",
      "DEBUG flwr 2023-04-13 23:07:34,179 | server.py:215 | fit_round 8: strategy sampled 2 clients (out of 5)\n"
     ]
    },
    {
     "output_type": "stream",
     "name": "stdout",
     "text": [
      "\t {'val_loss': 2.778008460998535, 'val_accuracy': 0.6}\n"
     ]
    },
    {
     "output_type": "stream",
     "name": "stderr",
     "text": [
      "DEBUG flwr 2023-04-13 23:10:51,836 | server.py:229 | fit_round 8 received 2 results and 0 failures\n"
     ]
    },
    {
     "output_type": "stream",
     "name": "stdout",
     "text": [
      "\t {'train_loss': 2.409749150276184, 'train_accuracy': 0.7666666666666666}\n"
     ]
    },
    {
     "output_type": "stream",
     "name": "stderr",
     "text": [
      "INFO flwr 2023-04-13 23:11:01,997 | server.py:116 | fit progress: (8, 11.966680526733398, {'test_loss': 11.966680526733398, 'test_accuracy': 0.41}, 1738.8255606999992)\n",
      "DEBUG flwr 2023-04-13 23:11:01,998 | server.py:165 | evaluate_round 8: strategy sampled 2 clients (out of 5)\n",
      "DEBUG flwr 2023-04-13 23:11:13,052 | server.py:179 | evaluate_round 8 received 2 results and 0 failures\n",
      "DEBUG flwr 2023-04-13 23:11:13,052 | server.py:215 | fit_round 9: strategy sampled 2 clients (out of 5)\n"
     ]
    },
    {
     "output_type": "stream",
     "name": "stdout",
     "text": [
      "\t {'val_loss': 2.7720956802368164, 'val_accuracy': 0.425}\n"
     ]
    },
    {
     "output_type": "stream",
     "name": "stderr",
     "text": [
      "DEBUG flwr 2023-04-13 23:14:32,019 | server.py:229 | fit_round 9 received 2 results and 0 failures\n"
     ]
    },
    {
     "output_type": "stream",
     "name": "stdout",
     "text": [
      "\t {'train_loss': 1.7421948313713074, 'train_accuracy': 0.9416666666666668}\n"
     ]
    },
    {
     "output_type": "stream",
     "name": "stderr",
     "text": [
      "INFO flwr 2023-04-13 23:14:41,842 | server.py:116 | fit progress: (9, 11.530412673950195, {'test_loss': 11.530412673950195, 'test_accuracy': 0.45}, 1958.6697753000008)\n",
      "DEBUG flwr 2023-04-13 23:14:41,842 | server.py:165 | evaluate_round 9: strategy sampled 2 clients (out of 5)\n",
      "DEBUG flwr 2023-04-13 23:14:52,638 | server.py:179 | evaluate_round 9 received 2 results and 0 failures\n",
      "DEBUG flwr 2023-04-13 23:14:52,639 | server.py:215 | fit_round 10: strategy sampled 2 clients (out of 5)\n"
     ]
    },
    {
     "output_type": "stream",
     "name": "stdout",
     "text": [
      "\t {'val_loss': 2.5954020023345947, 'val_accuracy': 0.525}\n"
     ]
    },
    {
     "output_type": "stream",
     "name": "stderr",
     "text": [
      "DEBUG flwr 2023-04-13 23:18:08,932 | server.py:229 | fit_round 10 received 2 results and 0 failures\n"
     ]
    },
    {
     "output_type": "stream",
     "name": "stdout",
     "text": [
      "\t {'train_loss': 1.651053547859192, 'train_accuracy': 0.9055555555555556}\n"
     ]
    },
    {
     "output_type": "stream",
     "name": "stderr",
     "text": [
      "INFO flwr 2023-04-13 23:18:18,744 | server.py:116 | fit progress: (10, 10.756977081298828, {'test_loss': 10.756977081298828, 'test_accuracy': 0.52}, 2175.5723)\n",
      "DEBUG flwr 2023-04-13 23:18:18,745 | server.py:165 | evaluate_round 10: strategy sampled 2 clients (out of 5)\n",
      "DEBUG flwr 2023-04-13 23:18:29,550 | server.py:179 | evaluate_round 10 received 2 results and 0 failures\n",
      "DEBUG flwr 2023-04-13 23:18:29,550 | server.py:215 | fit_round 11: strategy sampled 2 clients (out of 5)\n"
     ]
    },
    {
     "output_type": "stream",
     "name": "stdout",
     "text": [
      "\t {'val_loss': 2.438886880874634, 'val_accuracy': 0.6}\n"
     ]
    },
    {
     "output_type": "stream",
     "name": "stderr",
     "text": [
      "DEBUG flwr 2023-04-13 23:21:46,036 | server.py:229 | fit_round 11 received 2 results and 0 failures\n"
     ]
    },
    {
     "output_type": "stream",
     "name": "stdout",
     "text": [
      "\t {'train_loss': 1.1517545580863953, 'train_accuracy': 0.9833333333333334}\n"
     ]
    },
    {
     "output_type": "stream",
     "name": "stderr",
     "text": [
      "INFO flwr 2023-04-13 23:21:55,897 | server.py:116 | fit progress: (11, 10.4970703125, {'test_loss': 10.4970703125, 'test_accuracy': 0.46}, 2392.7252211000014)\n",
      "DEBUG flwr 2023-04-13 23:21:55,898 | server.py:165 | evaluate_round 11: strategy sampled 2 clients (out of 5)\n",
      "DEBUG flwr 2023-04-13 23:22:06,833 | server.py:179 | evaluate_round 11 received 2 results and 0 failures\n",
      "DEBUG flwr 2023-04-13 23:22:06,833 | server.py:215 | fit_round 12: strategy sampled 2 clients (out of 5)\n"
     ]
    },
    {
     "output_type": "stream",
     "name": "stdout",
     "text": [
      "\t {'val_loss': 2.226663827896118, 'val_accuracy': 0.6499999999999999}\n"
     ]
    },
    {
     "output_type": "stream",
     "name": "stderr",
     "text": [
      "DEBUG flwr 2023-04-13 23:25:23,604 | server.py:229 | fit_round 12 received 2 results and 0 failures\n"
     ]
    },
    {
     "output_type": "stream",
     "name": "stdout",
     "text": [
      "\t {'train_loss': 2.3986347913742065, 'train_accuracy': 0.8083333333333332}\n"
     ]
    },
    {
     "output_type": "stream",
     "name": "stderr",
     "text": [
      "INFO flwr 2023-04-13 23:25:33,267 | server.py:116 | fit progress: (12, 10.029630661010742, {'test_loss': 10.029630661010742, 'test_accuracy': 0.51}, 2610.0951927999995)\n",
      "DEBUG flwr 2023-04-13 23:25:33,267 | server.py:165 | evaluate_round 12: strategy sampled 2 clients (out of 5)\n",
      "DEBUG flwr 2023-04-13 23:25:44,011 | server.py:179 | evaluate_round 12 received 2 results and 0 failures\n",
      "DEBUG flwr 2023-04-13 23:25:44,011 | server.py:215 | fit_round 13: strategy sampled 2 clients (out of 5)\n"
     ]
    },
    {
     "output_type": "stream",
     "name": "stdout",
     "text": [
      "\t {'val_loss': 2.3890328407287598, 'val_accuracy': 0.575}\n"
     ]
    },
    {
     "output_type": "stream",
     "name": "stderr",
     "text": [
      "DEBUG flwr 2023-04-13 23:29:00,705 | server.py:229 | fit_round 13 received 2 results and 0 failures\n"
     ]
    },
    {
     "output_type": "stream",
     "name": "stdout",
     "text": [
      "\t {'train_loss': 1.1688032448291779, 'train_accuracy': 0.9666666666666667}\n"
     ]
    },
    {
     "output_type": "stream",
     "name": "stderr",
     "text": [
      "INFO flwr 2023-04-13 23:29:10,585 | server.py:116 | fit progress: (13, 9.602980613708496, {'test_loss': 9.602980613708496, 'test_accuracy': 0.5}, 2827.4128585)\n",
      "DEBUG flwr 2023-04-13 23:29:10,585 | server.py:165 | evaluate_round 13: strategy sampled 2 clients (out of 5)\n",
      "DEBUG flwr 2023-04-13 23:29:21,633 | server.py:179 | evaluate_round 13 received 2 results and 0 failures\n",
      "DEBUG flwr 2023-04-13 23:29:21,634 | server.py:215 | fit_round 14: strategy sampled 2 clients (out of 5)\n"
     ]
    },
    {
     "output_type": "stream",
     "name": "stdout",
     "text": [
      "\t {'val_loss': 2.2265549898147583, 'val_accuracy': 0.5249999999999999}\n"
     ]
    },
    {
     "output_type": "stream",
     "name": "stderr",
     "text": [
      "DEBUG flwr 2023-04-13 23:32:39,933 | server.py:229 | fit_round 14 received 2 results and 0 failures\n"
     ]
    },
    {
     "output_type": "stream",
     "name": "stdout",
     "text": [
      "\t {'train_loss': 1.1303859949111938, 'train_accuracy': 0.9638888888888889}\n"
     ]
    },
    {
     "output_type": "stream",
     "name": "stderr",
     "text": [
      "INFO flwr 2023-04-13 23:32:49,718 | server.py:116 | fit progress: (14, 9.028918266296387, {'test_loss': 9.028918266296387, 'test_accuracy': 0.57}, 3046.5463420999986)\n",
      "DEBUG flwr 2023-04-13 23:32:49,719 | server.py:165 | evaluate_round 14: strategy sampled 2 clients (out of 5)\n",
      "DEBUG flwr 2023-04-13 23:33:00,551 | server.py:179 | evaluate_round 14 received 2 results and 0 failures\n",
      "DEBUG flwr 2023-04-13 23:33:00,552 | server.py:215 | fit_round 15: strategy sampled 2 clients (out of 5)\n"
     ]
    },
    {
     "output_type": "stream",
     "name": "stdout",
     "text": [
      "\t {'val_loss': 2.1811647415161133, 'val_accuracy': 0.575}\n"
     ]
    },
    {
     "output_type": "stream",
     "name": "stderr",
     "text": [
      "DEBUG flwr 2023-04-13 23:36:17,106 | server.py:229 | fit_round 15 received 2 results and 0 failures\n"
     ]
    },
    {
     "output_type": "stream",
     "name": "stdout",
     "text": [
      "\t {'train_loss': 0.8072923421859741, 'train_accuracy': 0.9777777777777779}\n"
     ]
    },
    {
     "output_type": "stream",
     "name": "stderr",
     "text": [
      "INFO flwr 2023-04-13 23:36:26,922 | server.py:116 | fit progress: (15, 8.442155838012695, {'test_loss': 8.442155838012695, 'test_accuracy': 0.56}, 3263.750269600001)\n",
      "DEBUG flwr 2023-04-13 23:36:26,923 | server.py:165 | evaluate_round 15: strategy sampled 2 clients (out of 5)\n",
      "DEBUG flwr 2023-04-13 23:36:37,778 | server.py:179 | evaluate_round 15 received 2 results and 0 failures\n",
      "DEBUG flwr 2023-04-13 23:36:37,779 | server.py:215 | fit_round 16: strategy sampled 2 clients (out of 5)\n"
     ]
    },
    {
     "output_type": "stream",
     "name": "stdout",
     "text": [
      "\t {'val_loss': 2.312610626220703, 'val_accuracy': 0.55}\n"
     ]
    },
    {
     "output_type": "stream",
     "name": "stderr",
     "text": [
      "DEBUG flwr 2023-04-13 23:39:53,598 | server.py:229 | fit_round 16 received 2 results and 0 failures\n"
     ]
    },
    {
     "output_type": "stream",
     "name": "stdout",
     "text": [
      "\t {'train_loss': 0.5778695791959763, 'train_accuracy': 0.9916666666666666}\n"
     ]
    },
    {
     "output_type": "stream",
     "name": "stderr",
     "text": [
      "INFO flwr 2023-04-13 23:40:03,303 | server.py:116 | fit progress: (16, 8.36762523651123, {'test_loss': 8.36762523651123, 'test_accuracy': 0.56}, 3480.131622699999)\n",
      "DEBUG flwr 2023-04-13 23:40:03,304 | server.py:165 | evaluate_round 16: strategy sampled 2 clients (out of 5)\n",
      "DEBUG flwr 2023-04-13 23:40:14,162 | server.py:179 | evaluate_round 16 received 2 results and 0 failures\n",
      "DEBUG flwr 2023-04-13 23:40:14,163 | server.py:215 | fit_round 17: strategy sampled 2 clients (out of 5)\n"
     ]
    },
    {
     "output_type": "stream",
     "name": "stdout",
     "text": [
      "\t {'val_loss': 2.3209471106529236, 'val_accuracy': 0.525}\n"
     ]
    },
    {
     "output_type": "stream",
     "name": "stderr",
     "text": [
      "DEBUG flwr 2023-04-13 23:43:30,319 | server.py:229 | fit_round 17 received 2 results and 0 failures\n"
     ]
    },
    {
     "output_type": "stream",
     "name": "stdout",
     "text": [
      "\t {'train_loss': 1.165516436100006, 'train_accuracy': 0.9333333333333332}\n"
     ]
    },
    {
     "output_type": "stream",
     "name": "stderr",
     "text": [
      "INFO flwr 2023-04-13 23:43:40,213 | server.py:116 | fit progress: (17, 8.535144805908203, {'test_loss': 8.535144805908203, 'test_accuracy': 0.59}, 3697.041335099999)\n",
      "DEBUG flwr 2023-04-13 23:43:40,214 | server.py:165 | evaluate_round 17: strategy sampled 2 clients (out of 5)\n",
      "DEBUG flwr 2023-04-13 23:43:51,048 | server.py:179 | evaluate_round 17 received 2 results and 0 failures\n",
      "DEBUG flwr 2023-04-13 23:43:51,049 | server.py:215 | fit_round 18: strategy sampled 2 clients (out of 5)\n"
     ]
    },
    {
     "output_type": "stream",
     "name": "stdout",
     "text": [
      "\t {'val_loss': 2.1056450605392456, 'val_accuracy': 0.525}\n"
     ]
    },
    {
     "output_type": "stream",
     "name": "stderr",
     "text": [
      "DEBUG flwr 2023-04-13 23:47:07,775 | server.py:229 | fit_round 18 received 2 results and 0 failures\n"
     ]
    },
    {
     "output_type": "stream",
     "name": "stdout",
     "text": [
      "\t {'train_loss': 1.2278081178665161, 'train_accuracy': 0.9611111111111109}\n"
     ]
    },
    {
     "output_type": "stream",
     "name": "stderr",
     "text": [
      "INFO flwr 2023-04-13 23:47:17,598 | server.py:116 | fit progress: (18, 7.9318742752075195, {'test_loss': 7.9318742752075195, 'test_accuracy': 0.59}, 3914.425935700001)\n",
      "DEBUG flwr 2023-04-13 23:47:17,599 | server.py:165 | evaluate_round 18: strategy sampled 2 clients (out of 5)\n",
      "DEBUG flwr 2023-04-13 23:47:28,435 | server.py:179 | evaluate_round 18 received 2 results and 0 failures\n",
      "DEBUG flwr 2023-04-13 23:47:28,436 | server.py:215 | fit_round 19: strategy sampled 2 clients (out of 5)\n"
     ]
    },
    {
     "output_type": "stream",
     "name": "stdout",
     "text": [
      "\t {'val_loss': 1.7078686952590942, 'val_accuracy': 0.675}\n"
     ]
    },
    {
     "output_type": "stream",
     "name": "stderr",
     "text": [
      "DEBUG flwr 2023-04-13 23:50:44,859 | server.py:229 | fit_round 19 received 2 results and 0 failures\n"
     ]
    },
    {
     "output_type": "stream",
     "name": "stdout",
     "text": [
      "\t {'train_loss': 0.5006033778190613, 'train_accuracy': 0.9944444444444445}\n"
     ]
    },
    {
     "output_type": "stream",
     "name": "stderr",
     "text": [
      "INFO flwr 2023-04-13 23:50:54,595 | server.py:116 | fit progress: (19, 7.166853904724121, {'test_loss': 7.166853904724121, 'test_accuracy': 0.56}, 4131.423044899999)\n",
      "DEBUG flwr 2023-04-13 23:50:54,595 | server.py:165 | evaluate_round 19: strategy sampled 2 clients (out of 5)\n",
      "DEBUG flwr 2023-04-13 23:51:05,502 | server.py:179 | evaluate_round 19 received 2 results and 0 failures\n",
      "DEBUG flwr 2023-04-13 23:51:05,503 | server.py:215 | fit_round 20: strategy sampled 2 clients (out of 5)\n"
     ]
    },
    {
     "output_type": "stream",
     "name": "stdout",
     "text": [
      "\t {'val_loss': 1.6878247261047363, 'val_accuracy': 0.675}\n"
     ]
    },
    {
     "output_type": "stream",
     "name": "stderr",
     "text": [
      "DEBUG flwr 2023-04-13 23:54:22,235 | server.py:229 | fit_round 20 received 2 results and 0 failures\n"
     ]
    },
    {
     "output_type": "stream",
     "name": "stdout",
     "text": [
      "\t {'train_loss': 0.1855914294719696, 'train_accuracy': 1.0}\n"
     ]
    },
    {
     "output_type": "stream",
     "name": "stderr",
     "text": [
      "INFO flwr 2023-04-13 23:54:32,102 | server.py:116 | fit progress: (20, 7.298476219177246, {'test_loss': 7.298476219177246, 'test_accuracy': 0.6}, 4348.929796199998)\n",
      "DEBUG flwr 2023-04-13 23:54:32,102 | server.py:165 | evaluate_round 20: strategy sampled 2 clients (out of 5)\n",
      "DEBUG flwr 2023-04-13 23:54:43,001 | server.py:179 | evaluate_round 20 received 2 results and 0 failures\n",
      "DEBUG flwr 2023-04-13 23:54:43,001 | server.py:215 | fit_round 21: strategy sampled 2 clients (out of 5)\n"
     ]
    },
    {
     "output_type": "stream",
     "name": "stdout",
     "text": [
      "\t {'val_loss': 2.2804393768310547, 'val_accuracy': 0.425}\n"
     ]
    },
    {
     "output_type": "stream",
     "name": "stderr",
     "text": [
      "DEBUG flwr 2023-04-13 23:58:01,063 | server.py:229 | fit_round 21 received 2 results and 0 failures\n"
     ]
    },
    {
     "output_type": "stream",
     "name": "stdout",
     "text": [
      "\t {'train_loss': 0.5611704215407372, 'train_accuracy': 0.9888888888888889}\n"
     ]
    },
    {
     "output_type": "stream",
     "name": "stderr",
     "text": [
      "INFO flwr 2023-04-13 23:58:10,886 | server.py:116 | fit progress: (21, 7.594636917114258, {'test_loss': 7.594636917114258, 'test_accuracy': 0.6}, 4567.714143699999)\n",
      "DEBUG flwr 2023-04-13 23:58:10,887 | server.py:165 | evaluate_round 21: strategy sampled 2 clients (out of 5)\n",
      "DEBUG flwr 2023-04-13 23:58:21,739 | server.py:179 | evaluate_round 21 received 2 results and 0 failures\n",
      "DEBUG flwr 2023-04-13 23:58:21,740 | server.py:215 | fit_round 22: strategy sampled 2 clients (out of 5)\n"
     ]
    },
    {
     "output_type": "stream",
     "name": "stdout",
     "text": [
      "\t {'val_loss': 2.2336758375167847, 'val_accuracy': 0.475}\n"
     ]
    },
    {
     "output_type": "stream",
     "name": "stderr",
     "text": [
      "DEBUG flwr 2023-04-14 00:01:38,266 | server.py:229 | fit_round 22 received 2 results and 0 failures\n"
     ]
    },
    {
     "output_type": "stream",
     "name": "stdout",
     "text": [
      "\t {'train_loss': 0.3211715817451477, 'train_accuracy': 1.0}\n"
     ]
    },
    {
     "output_type": "stream",
     "name": "stderr",
     "text": [
      "INFO flwr 2023-04-14 00:01:48,082 | server.py:116 | fit progress: (22, 7.74948787689209, {'test_loss': 7.74948787689209, 'test_accuracy': 0.59}, 4784.909860399999)\n",
      "DEBUG flwr 2023-04-14 00:01:48,082 | server.py:165 | evaluate_round 22: strategy sampled 2 clients (out of 5)\n",
      "DEBUG flwr 2023-04-14 00:01:58,863 | server.py:179 | evaluate_round 22 received 2 results and 0 failures\n",
      "DEBUG flwr 2023-04-14 00:01:58,864 | server.py:215 | fit_round 23: strategy sampled 2 clients (out of 5)\n"
     ]
    },
    {
     "output_type": "stream",
     "name": "stdout",
     "text": [
      "\t {'val_loss': 1.6015837788581848, 'val_accuracy': 0.7}\n"
     ]
    },
    {
     "output_type": "stream",
     "name": "stderr",
     "text": [
      "DEBUG flwr 2023-04-14 00:05:15,792 | server.py:229 | fit_round 23 received 2 results and 0 failures\n"
     ]
    },
    {
     "output_type": "stream",
     "name": "stdout",
     "text": [
      "\t {'train_loss': 0.24041487276554108, 'train_accuracy': 1.0}\n"
     ]
    },
    {
     "output_type": "stream",
     "name": "stderr",
     "text": [
      "INFO flwr 2023-04-14 00:05:25,626 | server.py:116 | fit progress: (23, 6.587989807128906, {'test_loss': 6.587989807128906, 'test_accuracy': 0.6}, 5002.454155899999)\n",
      "DEBUG flwr 2023-04-14 00:05:25,627 | server.py:165 | evaluate_round 23: strategy sampled 2 clients (out of 5)\n",
      "DEBUG flwr 2023-04-14 00:05:36,655 | server.py:179 | evaluate_round 23 received 2 results and 0 failures\n",
      "DEBUG flwr 2023-04-14 00:05:36,655 | server.py:215 | fit_round 24: strategy sampled 2 clients (out of 5)\n"
     ]
    },
    {
     "output_type": "stream",
     "name": "stdout",
     "text": [
      "\t {'val_loss': 2.0816637873649597, 'val_accuracy': 0.47500000000000003}\n"
     ]
    },
    {
     "output_type": "stream",
     "name": "stderr",
     "text": [
      "DEBUG flwr 2023-04-14 00:08:53,877 | server.py:229 | fit_round 24 received 2 results and 0 failures\n"
     ]
    },
    {
     "output_type": "stream",
     "name": "stdout",
     "text": [
      "\t {'train_loss': 0.0666760727763176, 'train_accuracy': 1.0}\n"
     ]
    },
    {
     "output_type": "stream",
     "name": "stderr",
     "text": [
      "INFO flwr 2023-04-14 00:09:03,684 | server.py:116 | fit progress: (24, 6.549351692199707, {'test_loss': 6.549351692199707, 'test_accuracy': 0.59}, 5220.5119595)\n",
      "DEBUG flwr 2023-04-14 00:09:03,685 | server.py:165 | evaluate_round 24: strategy sampled 2 clients (out of 5)\n",
      "DEBUG flwr 2023-04-14 00:09:14,394 | server.py:179 | evaluate_round 24 received 2 results and 0 failures\n",
      "DEBUG flwr 2023-04-14 00:09:14,394 | server.py:215 | fit_round 25: strategy sampled 2 clients (out of 5)\n"
     ]
    },
    {
     "output_type": "stream",
     "name": "stdout",
     "text": [
      "\t {'val_loss': 1.5848143696784973, 'val_accuracy': 0.7}\n"
     ]
    },
    {
     "output_type": "stream",
     "name": "stderr",
     "text": [
      "DEBUG flwr 2023-04-14 00:12:30,763 | server.py:229 | fit_round 25 received 2 results and 0 failures\n"
     ]
    },
    {
     "output_type": "stream",
     "name": "stdout",
     "text": [
      "\t {'train_loss': 0.15983276441693306, 'train_accuracy': 1.0}\n"
     ]
    },
    {
     "output_type": "stream",
     "name": "stderr",
     "text": [
      "INFO flwr 2023-04-14 00:12:40,524 | server.py:116 | fit progress: (25, 7.137442588806152, {'test_loss': 7.137442588806152, 'test_accuracy': 0.59}, 5437.352081000001)\n",
      "DEBUG flwr 2023-04-14 00:12:40,525 | server.py:165 | evaluate_round 25: strategy sampled 2 clients (out of 5)\n",
      "DEBUG flwr 2023-04-14 00:12:51,414 | server.py:179 | evaluate_round 25 received 2 results and 0 failures\n",
      "DEBUG flwr 2023-04-14 00:12:51,415 | server.py:215 | fit_round 26: strategy sampled 2 clients (out of 5)\n"
     ]
    },
    {
     "output_type": "stream",
     "name": "stdout",
     "text": [
      "\t {'val_loss': 1.6385907530784607, 'val_accuracy': 0.675}\n"
     ]
    },
    {
     "output_type": "stream",
     "name": "stderr",
     "text": [
      "DEBUG flwr 2023-04-14 00:16:07,787 | server.py:229 | fit_round 26 received 2 results and 0 failures\n"
     ]
    },
    {
     "output_type": "stream",
     "name": "stdout",
     "text": [
      "\t {'train_loss': 0.13244716823101044, 'train_accuracy': 1.0}\n"
     ]
    },
    {
     "output_type": "stream",
     "name": "stderr",
     "text": [
      "INFO flwr 2023-04-14 00:16:17,552 | server.py:116 | fit progress: (26, 6.7254862785339355, {'test_loss': 6.7254862785339355, 'test_accuracy': 0.58}, 5654.380501899999)\n",
      "DEBUG flwr 2023-04-14 00:16:17,553 | server.py:165 | evaluate_round 26: strategy sampled 2 clients (out of 5)\n",
      "DEBUG flwr 2023-04-14 00:16:28,497 | server.py:179 | evaluate_round 26 received 2 results and 0 failures\n",
      "DEBUG flwr 2023-04-14 00:16:28,497 | server.py:215 | fit_round 27: strategy sampled 2 clients (out of 5)\n"
     ]
    },
    {
     "output_type": "stream",
     "name": "stdout",
     "text": [
      "\t {'val_loss': 1.5459780097007751, 'val_accuracy': 0.7}\n"
     ]
    },
    {
     "output_type": "stream",
     "name": "stderr",
     "text": [
      "DEBUG flwr 2023-04-14 00:19:45,841 | server.py:229 | fit_round 27 received 2 results and 0 failures\n"
     ]
    },
    {
     "output_type": "stream",
     "name": "stdout",
     "text": [
      "\t {'train_loss': 0.04521471448242664, 'train_accuracy': 1.0}\n"
     ]
    },
    {
     "output_type": "stream",
     "name": "stderr",
     "text": [
      "INFO flwr 2023-04-14 00:19:55,555 | server.py:116 | fit progress: (27, 6.338022232055664, {'test_loss': 6.338022232055664, 'test_accuracy': 0.62}, 5872.383590099998)\n",
      "DEBUG flwr 2023-04-14 00:19:55,556 | server.py:165 | evaluate_round 27: strategy sampled 2 clients (out of 5)\n",
      "DEBUG flwr 2023-04-14 00:20:06,449 | server.py:179 | evaluate_round 27 received 2 results and 0 failures\n",
      "DEBUG flwr 2023-04-14 00:20:06,450 | server.py:215 | fit_round 28: strategy sampled 2 clients (out of 5)\n"
     ]
    },
    {
     "output_type": "stream",
     "name": "stdout",
     "text": [
      "\t {'val_loss': 1.4745112657546997, 'val_accuracy': 0.725}\n"
     ]
    },
    {
     "output_type": "stream",
     "name": "stderr",
     "text": [
      "DEBUG flwr 2023-04-14 00:23:23,268 | server.py:229 | fit_round 28 received 2 results and 0 failures\n"
     ]
    },
    {
     "output_type": "stream",
     "name": "stdout",
     "text": [
      "\t {'train_loss': 0.04106913506984711, 'train_accuracy': 0.9972222222222222}\n"
     ]
    },
    {
     "output_type": "stream",
     "name": "stderr",
     "text": [
      "INFO flwr 2023-04-14 00:23:33,324 | server.py:116 | fit progress: (28, 6.7612152099609375, {'test_loss': 6.7612152099609375, 'test_accuracy': 0.62}, 6090.152457699998)\n",
      "DEBUG flwr 2023-04-14 00:23:33,325 | server.py:165 | evaluate_round 28: strategy sampled 2 clients (out of 5)\n",
      "DEBUG flwr 2023-04-14 00:23:44,386 | server.py:179 | evaluate_round 28 received 2 results and 0 failures\n",
      "DEBUG flwr 2023-04-14 00:23:44,387 | server.py:215 | fit_round 29: strategy sampled 2 clients (out of 5)\n"
     ]
    },
    {
     "output_type": "stream",
     "name": "stdout",
     "text": [
      "\t {'val_loss': 1.521329402923584, 'val_accuracy': 0.6499999999999999}\n"
     ]
    },
    {
     "output_type": "stream",
     "name": "stderr",
     "text": [
      "DEBUG flwr 2023-04-14 00:27:01,554 | server.py:229 | fit_round 29 received 2 results and 0 failures\n"
     ]
    },
    {
     "output_type": "stream",
     "name": "stdout",
     "text": [
      "\t {'train_loss': 0.015733597334474325, 'train_accuracy': 1.0}\n"
     ]
    },
    {
     "output_type": "stream",
     "name": "stderr",
     "text": [
      "INFO flwr 2023-04-14 00:27:11,417 | server.py:116 | fit progress: (29, 6.976870536804199, {'test_loss': 6.976870536804199, 'test_accuracy': 0.6}, 6308.245161999999)\n",
      "DEBUG flwr 2023-04-14 00:27:11,417 | server.py:165 | evaluate_round 29: strategy sampled 2 clients (out of 5)\n",
      "DEBUG flwr 2023-04-14 00:27:22,278 | server.py:179 | evaluate_round 29 received 2 results and 0 failures\n",
      "DEBUG flwr 2023-04-14 00:27:22,279 | server.py:215 | fit_round 30: strategy sampled 2 clients (out of 5)\n"
     ]
    },
    {
     "output_type": "stream",
     "name": "stdout",
     "text": [
      "\t {'val_loss': 1.4845322966575623, 'val_accuracy': 0.675}\n"
     ]
    },
    {
     "output_type": "stream",
     "name": "stderr",
     "text": [
      "DEBUG flwr 2023-04-14 00:30:39,165 | server.py:229 | fit_round 30 received 2 results and 0 failures\n"
     ]
    },
    {
     "output_type": "stream",
     "name": "stdout",
     "text": [
      "\t {'train_loss': 0.007489943876862526, 'train_accuracy': 1.0}\n"
     ]
    },
    {
     "output_type": "stream",
     "name": "stderr",
     "text": [
      "INFO flwr 2023-04-14 00:30:48,928 | server.py:116 | fit progress: (30, 6.922206401824951, {'test_loss': 6.922206401824951, 'test_accuracy': 0.59}, 6525.756509800001)\n",
      "DEBUG flwr 2023-04-14 00:30:48,929 | server.py:165 | evaluate_round 30: strategy sampled 2 clients (out of 5)\n",
      "DEBUG flwr 2023-04-14 00:30:59,809 | server.py:179 | evaluate_round 30 received 2 results and 0 failures\n",
      "DEBUG flwr 2023-04-14 00:30:59,810 | server.py:215 | fit_round 31: strategy sampled 2 clients (out of 5)\n"
     ]
    },
    {
     "output_type": "stream",
     "name": "stdout",
     "text": [
      "\t {'val_loss': 2.121451258659363, 'val_accuracy': 0.475}\n"
     ]
    },
    {
     "output_type": "stream",
     "name": "stderr",
     "text": [
      "DEBUG flwr 2023-04-14 00:34:17,000 | server.py:229 | fit_round 31 received 2 results and 0 failures\n"
     ]
    },
    {
     "output_type": "stream",
     "name": "stdout",
     "text": [
      "\t {'train_loss': 0.011694749700836837, 'train_accuracy': 1.0}\n"
     ]
    },
    {
     "output_type": "stream",
     "name": "stderr",
     "text": [
      "INFO flwr 2023-04-14 00:34:26,866 | server.py:116 | fit progress: (31, 6.258750915527344, {'test_loss': 6.258750915527344, 'test_accuracy': 0.63}, 6743.694406300001)\n",
      "DEBUG flwr 2023-04-14 00:34:26,867 | server.py:165 | evaluate_round 31: strategy sampled 2 clients (out of 5)\n",
      "DEBUG flwr 2023-04-14 00:34:37,780 | server.py:179 | evaluate_round 31 received 2 results and 0 failures\n",
      "DEBUG flwr 2023-04-14 00:34:37,781 | server.py:215 | fit_round 32: strategy sampled 2 clients (out of 5)\n"
     ]
    },
    {
     "output_type": "stream",
     "name": "stdout",
     "text": [
      "\t {'val_loss': 1.4836704730987549, 'val_accuracy': 0.675}\n"
     ]
    },
    {
     "output_type": "stream",
     "name": "stderr",
     "text": [
      "DEBUG flwr 2023-04-14 00:37:54,663 | server.py:229 | fit_round 32 received 2 results and 0 failures\n"
     ]
    },
    {
     "output_type": "stream",
     "name": "stdout",
     "text": [
      "\t {'train_loss': 0.004926585941575468, 'train_accuracy': 1.0}\n"
     ]
    },
    {
     "output_type": "stream",
     "name": "stderr",
     "text": [
      "INFO flwr 2023-04-14 00:38:04,505 | server.py:116 | fit progress: (32, 6.7505669593811035, {'test_loss': 6.7505669593811035, 'test_accuracy': 0.58}, 6961.3338606)\n",
      "DEBUG flwr 2023-04-14 00:38:04,506 | server.py:165 | evaluate_round 32: strategy sampled 2 clients (out of 5)\n",
      "DEBUG flwr 2023-04-14 00:38:15,352 | server.py:179 | evaluate_round 32 received 2 results and 0 failures\n",
      "DEBUG flwr 2023-04-14 00:38:15,353 | server.py:215 | fit_round 33: strategy sampled 2 clients (out of 5)\n"
     ]
    },
    {
     "output_type": "stream",
     "name": "stdout",
     "text": [
      "\t {'val_loss': 2.174923598766327, 'val_accuracy': 0.45}\n"
     ]
    },
    {
     "output_type": "stream",
     "name": "stderr",
     "text": [
      "DEBUG flwr 2023-04-14 00:41:32,258 | server.py:229 | fit_round 33 received 2 results and 0 failures\n"
     ]
    },
    {
     "output_type": "stream",
     "name": "stdout",
     "text": [
      "\t {'train_loss': 0.004643756779842079, 'train_accuracy': 1.0}\n"
     ]
    },
    {
     "output_type": "stream",
     "name": "stderr",
     "text": [
      "INFO flwr 2023-04-14 00:41:42,230 | server.py:116 | fit progress: (33, 6.098370552062988, {'test_loss': 6.098370552062988, 'test_accuracy': 0.65}, 7179.0588278)\n",
      "DEBUG flwr 2023-04-14 00:41:42,231 | server.py:165 | evaluate_round 33: strategy sampled 2 clients (out of 5)\n",
      "DEBUG flwr 2023-04-14 00:41:53,378 | server.py:179 | evaluate_round 33 received 2 results and 0 failures\n",
      "DEBUG flwr 2023-04-14 00:41:53,379 | server.py:215 | fit_round 34: strategy sampled 2 clients (out of 5)\n"
     ]
    },
    {
     "output_type": "stream",
     "name": "stdout",
     "text": [
      "\t {'val_loss': 2.0324200987815857, 'val_accuracy': 0.45}\n"
     ]
    },
    {
     "output_type": "stream",
     "name": "stderr",
     "text": [
      "DEBUG flwr 2023-04-14 00:45:10,591 | server.py:229 | fit_round 34 received 2 results and 0 failures\n"
     ]
    },
    {
     "output_type": "stream",
     "name": "stdout",
     "text": [
      "\t {'train_loss': 0.008832652325509116, 'train_accuracy': 1.0}\n"
     ]
    },
    {
     "output_type": "stream",
     "name": "stderr",
     "text": [
      "INFO flwr 2023-04-14 00:45:20,410 | server.py:116 | fit progress: (34, 5.563216686248779, {'test_loss': 5.563216686248779, 'test_accuracy': 0.64}, 7397.2378548000015)\n",
      "DEBUG flwr 2023-04-14 00:45:20,410 | server.py:165 | evaluate_round 34: strategy sampled 2 clients (out of 5)\n",
      "DEBUG flwr 2023-04-14 00:45:31,187 | server.py:179 | evaluate_round 34 received 2 results and 0 failures\n",
      "DEBUG flwr 2023-04-14 00:45:31,188 | server.py:215 | fit_round 35: strategy sampled 2 clients (out of 5)\n"
     ]
    },
    {
     "output_type": "stream",
     "name": "stdout",
     "text": [
      "\t {'val_loss': 1.3676971197128296, 'val_accuracy': 0.625}\n"
     ]
    },
    {
     "output_type": "stream",
     "name": "stderr",
     "text": [
      "DEBUG flwr 2023-04-14 00:48:48,045 | server.py:229 | fit_round 35 received 2 results and 0 failures\n"
     ]
    },
    {
     "output_type": "stream",
     "name": "stdout",
     "text": [
      "\t {'train_loss': 0.006017468753270805, 'train_accuracy': 1.0}\n"
     ]
    },
    {
     "output_type": "stream",
     "name": "stderr",
     "text": [
      "INFO flwr 2023-04-14 00:48:57,887 | server.py:116 | fit progress: (35, 5.704832553863525, {'test_loss': 5.704832553863525, 'test_accuracy': 0.61}, 7614.715466900001)\n",
      "DEBUG flwr 2023-04-14 00:48:57,888 | server.py:165 | evaluate_round 35: strategy sampled 2 clients (out of 5)\n",
      "DEBUG flwr 2023-04-14 00:49:08,702 | server.py:179 | evaluate_round 35 received 2 results and 0 failures\n",
      "DEBUG flwr 2023-04-14 00:49:08,703 | server.py:215 | fit_round 36: strategy sampled 2 clients (out of 5)\n"
     ]
    },
    {
     "output_type": "stream",
     "name": "stdout",
     "text": [
      "\t {'val_loss': 1.5727606415748596, 'val_accuracy': 0.625}\n"
     ]
    },
    {
     "output_type": "stream",
     "name": "stderr",
     "text": [
      "DEBUG flwr 2023-04-14 00:52:24,131 | server.py:229 | fit_round 36 received 2 results and 0 failures\n"
     ]
    },
    {
     "output_type": "stream",
     "name": "stdout",
     "text": [
      "\t {'train_loss': 0.0013680965785169974, 'train_accuracy': 1.0}\n"
     ]
    },
    {
     "output_type": "stream",
     "name": "stderr",
     "text": [
      "INFO flwr 2023-04-14 00:52:34,001 | server.py:116 | fit progress: (36, 5.562751770019531, {'test_loss': 5.562751770019531, 'test_accuracy': 0.68}, 7830.829475099999)\n",
      "DEBUG flwr 2023-04-14 00:52:34,002 | server.py:165 | evaluate_round 36: strategy sampled 2 clients (out of 5)\n",
      "DEBUG flwr 2023-04-14 00:52:44,883 | server.py:179 | evaluate_round 36 received 2 results and 0 failures\n",
      "DEBUG flwr 2023-04-14 00:52:44,884 | server.py:215 | fit_round 37: strategy sampled 2 clients (out of 5)\n"
     ]
    },
    {
     "output_type": "stream",
     "name": "stdout",
     "text": [
      "\t {'val_loss': 1.4756522178649902, 'val_accuracy': 0.6499999999999999}\n"
     ]
    },
    {
     "output_type": "stream",
     "name": "stderr",
     "text": [
      "DEBUG flwr 2023-04-14 00:56:01,046 | server.py:229 | fit_round 37 received 2 results and 0 failures\n"
     ]
    },
    {
     "output_type": "stream",
     "name": "stdout",
     "text": [
      "\t {'train_loss': 0.002966848900541663, 'train_accuracy': 1.0}\n"
     ]
    },
    {
     "output_type": "stream",
     "name": "stderr",
     "text": [
      "INFO flwr 2023-04-14 00:56:10,884 | server.py:116 | fit progress: (37, 5.245328426361084, {'test_loss': 5.245328426361084, 'test_accuracy': 0.65}, 8047.711770499998)\n",
      "DEBUG flwr 2023-04-14 00:56:10,884 | server.py:165 | evaluate_round 37: strategy sampled 2 clients (out of 5)\n",
      "DEBUG flwr 2023-04-14 00:56:21,733 | server.py:179 | evaluate_round 37 received 2 results and 0 failures\n",
      "DEBUG flwr 2023-04-14 00:56:21,734 | server.py:215 | fit_round 38: strategy sampled 2 clients (out of 5)\n"
     ]
    },
    {
     "output_type": "stream",
     "name": "stdout",
     "text": [
      "\t {'val_loss': 1.8006792068481445, 'val_accuracy': 0.5}\n"
     ]
    },
    {
     "output_type": "stream",
     "name": "stderr",
     "text": [
      "DEBUG flwr 2023-04-14 00:59:38,428 | server.py:229 | fit_round 38 received 2 results and 0 failures\n"
     ]
    },
    {
     "output_type": "stream",
     "name": "stdout",
     "text": [
      "\t {'train_loss': 0.00029853294836357236, 'train_accuracy': 1.0}\n"
     ]
    },
    {
     "output_type": "stream",
     "name": "stderr",
     "text": [
      "INFO flwr 2023-04-14 00:59:48,294 | server.py:116 | fit progress: (38, 6.239014148712158, {'test_loss': 6.239014148712158, 'test_accuracy': 0.61}, 8265.122204)\n",
      "DEBUG flwr 2023-04-14 00:59:48,295 | server.py:165 | evaluate_round 38: strategy sampled 2 clients (out of 5)\n",
      "DEBUG flwr 2023-04-14 00:59:59,191 | server.py:179 | evaluate_round 38 received 2 results and 0 failures\n",
      "DEBUG flwr 2023-04-14 00:59:59,192 | server.py:215 | fit_round 39: strategy sampled 2 clients (out of 5)\n"
     ]
    },
    {
     "output_type": "stream",
     "name": "stdout",
     "text": [
      "\t {'val_loss': 1.5401040315628052, 'val_accuracy': 0.7}\n"
     ]
    },
    {
     "output_type": "stream",
     "name": "stderr",
     "text": [
      "DEBUG flwr 2023-04-14 01:03:15,198 | server.py:229 | fit_round 39 received 2 results and 0 failures\n"
     ]
    },
    {
     "output_type": "stream",
     "name": "stdout",
     "text": [
      "\t {'train_loss': 0.0006718088843626902, 'train_accuracy': 1.0}\n"
     ]
    },
    {
     "output_type": "stream",
     "name": "stderr",
     "text": [
      "INFO flwr 2023-04-14 01:03:25,048 | server.py:116 | fit progress: (39, 5.6031084060668945, {'test_loss': 5.6031084060668945, 'test_accuracy': 0.64}, 8481.875904699999)\n",
      "DEBUG flwr 2023-04-14 01:03:25,048 | server.py:165 | evaluate_round 39: strategy sampled 2 clients (out of 5)\n",
      "DEBUG flwr 2023-04-14 01:03:35,908 | server.py:179 | evaluate_round 39 received 2 results and 0 failures\n",
      "DEBUG flwr 2023-04-14 01:03:35,909 | server.py:215 | fit_round 40: strategy sampled 2 clients (out of 5)\n"
     ]
    },
    {
     "output_type": "stream",
     "name": "stdout",
     "text": [
      "\t {'val_loss': 1.806214451789856, 'val_accuracy': 0.55}\n"
     ]
    },
    {
     "output_type": "stream",
     "name": "stderr",
     "text": [
      "DEBUG flwr 2023-04-14 01:06:52,457 | server.py:229 | fit_round 40 received 2 results and 0 failures\n"
     ]
    },
    {
     "output_type": "stream",
     "name": "stdout",
     "text": [
      "\t {'train_loss': 0.0004756592243211344, 'train_accuracy': 1.0}\n"
     ]
    },
    {
     "output_type": "stream",
     "name": "stderr",
     "text": [
      "INFO flwr 2023-04-14 01:07:02,281 | server.py:116 | fit progress: (40, 5.693512439727783, {'test_loss': 5.693512439727783, 'test_accuracy': 0.63}, 8699.109269199998)\n",
      "DEBUG flwr 2023-04-14 01:07:02,282 | server.py:165 | evaluate_round 40: strategy sampled 2 clients (out of 5)\n",
      "DEBUG flwr 2023-04-14 01:07:13,114 | server.py:179 | evaluate_round 40 received 2 results and 0 failures\n",
      "DEBUG flwr 2023-04-14 01:07:13,115 | server.py:215 | fit_round 41: strategy sampled 2 clients (out of 5)\n"
     ]
    },
    {
     "output_type": "stream",
     "name": "stdout",
     "text": [
      "\t {'val_loss': 1.612939715385437, 'val_accuracy': 0.675}\n"
     ]
    },
    {
     "output_type": "stream",
     "name": "stderr",
     "text": [
      "DEBUG flwr 2023-04-14 01:10:32,964 | server.py:229 | fit_round 41 received 2 results and 0 failures\n"
     ]
    },
    {
     "output_type": "stream",
     "name": "stdout",
     "text": [
      "\t {'train_loss': 0.0008240385323006194, 'train_accuracy': 1.0}\n"
     ]
    },
    {
     "output_type": "stream",
     "name": "stderr",
     "text": [
      "INFO flwr 2023-04-14 01:10:42,781 | server.py:116 | fit progress: (41, 6.242611885070801, {'test_loss': 6.242611885070801, 'test_accuracy': 0.6}, 8919.6093335)\n",
      "DEBUG flwr 2023-04-14 01:10:42,782 | server.py:165 | evaluate_round 41: strategy sampled 2 clients (out of 5)\n",
      "DEBUG flwr 2023-04-14 01:10:53,770 | server.py:179 | evaluate_round 41 received 2 results and 0 failures\n",
      "DEBUG flwr 2023-04-14 01:10:53,770 | server.py:215 | fit_round 42: strategy sampled 2 clients (out of 5)\n"
     ]
    },
    {
     "output_type": "stream",
     "name": "stdout",
     "text": [
      "\t {'val_loss': 1.9321035742759705, 'val_accuracy': 0.575}\n"
     ]
    },
    {
     "output_type": "stream",
     "name": "stderr",
     "text": [
      "DEBUG flwr 2023-04-14 01:14:10,200 | server.py:229 | fit_round 42 received 2 results and 0 failures\n"
     ]
    },
    {
     "output_type": "stream",
     "name": "stdout",
     "text": [
      "\t {'train_loss': 0.0002040191047854023, 'train_accuracy': 1.0}\n"
     ]
    },
    {
     "output_type": "stream",
     "name": "stderr",
     "text": [
      "INFO flwr 2023-04-14 01:14:20,042 | server.py:116 | fit progress: (42, 5.833550453186035, {'test_loss': 5.833550453186035, 'test_accuracy': 0.63}, 9136.8702563)\n",
      "DEBUG flwr 2023-04-14 01:14:20,042 | server.py:165 | evaluate_round 42: strategy sampled 2 clients (out of 5)\n",
      "DEBUG flwr 2023-04-14 01:14:30,831 | server.py:179 | evaluate_round 42 received 2 results and 0 failures\n",
      "DEBUG flwr 2023-04-14 01:14:30,831 | server.py:215 | fit_round 43: strategy sampled 2 clients (out of 5)\n"
     ]
    },
    {
     "output_type": "stream",
     "name": "stdout",
     "text": [
      "\t {'val_loss': 1.4015825986862183, 'val_accuracy': 0.6499999999999999}\n"
     ]
    },
    {
     "output_type": "stream",
     "name": "stderr",
     "text": [
      "DEBUG flwr 2023-04-14 01:17:47,711 | server.py:229 | fit_round 43 received 2 results and 0 failures\n"
     ]
    },
    {
     "output_type": "stream",
     "name": "stdout",
     "text": [
      "\t {'train_loss': 0.0002133783518729615, 'train_accuracy': 1.0}\n"
     ]
    },
    {
     "output_type": "stream",
     "name": "stderr",
     "text": [
      "INFO flwr 2023-04-14 01:17:57,640 | server.py:116 | fit progress: (43, 5.489912509918213, {'test_loss': 5.489912509918213, 'test_accuracy': 0.65}, 9354.467890799999)\n",
      "DEBUG flwr 2023-04-14 01:17:57,641 | server.py:165 | evaluate_round 43: strategy sampled 2 clients (out of 5)\n",
      "DEBUG flwr 2023-04-14 01:18:08,714 | server.py:179 | evaluate_round 43 received 2 results and 0 failures\n",
      "DEBUG flwr 2023-04-14 01:18:08,715 | server.py:215 | fit_round 44: strategy sampled 2 clients (out of 5)\n"
     ]
    },
    {
     "output_type": "stream",
     "name": "stdout",
     "text": [
      "\t {'val_loss': 1.1729803085327148, 'val_accuracy': 0.725}\n"
     ]
    },
    {
     "output_type": "stream",
     "name": "stderr",
     "text": [
      "DEBUG flwr 2023-04-14 01:21:26,019 | server.py:229 | fit_round 44 received 2 results and 0 failures\n"
     ]
    },
    {
     "output_type": "stream",
     "name": "stdout",
     "text": [
      "\t {'train_loss': 0.00010812004029503441, 'train_accuracy': 1.0}\n"
     ]
    },
    {
     "output_type": "stream",
     "name": "stderr",
     "text": [
      "INFO flwr 2023-04-14 01:21:35,798 | server.py:116 | fit progress: (44, 5.500000476837158, {'test_loss': 5.500000476837158, 'test_accuracy': 0.64}, 9572.625856800001)\n",
      "DEBUG flwr 2023-04-14 01:21:35,798 | server.py:165 | evaluate_round 44: strategy sampled 2 clients (out of 5)\n",
      "DEBUG flwr 2023-04-14 01:21:46,653 | server.py:179 | evaluate_round 44 received 2 results and 0 failures\n",
      "DEBUG flwr 2023-04-14 01:21:46,653 | server.py:215 | fit_round 45: strategy sampled 2 clients (out of 5)\n"
     ]
    },
    {
     "output_type": "stream",
     "name": "stdout",
     "text": [
      "\t {'val_loss': 1.5105538368225098, 'val_accuracy': 0.625}\n"
     ]
    },
    {
     "output_type": "stream",
     "name": "stderr",
     "text": [
      "DEBUG flwr 2023-04-14 01:25:03,440 | server.py:229 | fit_round 45 received 2 results and 0 failures\n"
     ]
    },
    {
     "output_type": "stream",
     "name": "stdout",
     "text": [
      "\t {'train_loss': 8.235901532316348e-05, 'train_accuracy': 1.0}\n"
     ]
    },
    {
     "output_type": "stream",
     "name": "stderr",
     "text": [
      "INFO flwr 2023-04-14 01:25:13,240 | server.py:116 | fit progress: (45, 5.631035327911377, {'test_loss': 5.631035327911377, 'test_accuracy': 0.64}, 9790.0686207)\n",
      "DEBUG flwr 2023-04-14 01:25:13,241 | server.py:165 | evaluate_round 45: strategy sampled 2 clients (out of 5)\n",
      "DEBUG flwr 2023-04-14 01:25:24,068 | server.py:179 | evaluate_round 45 received 2 results and 0 failures\n",
      "DEBUG flwr 2023-04-14 01:25:24,069 | server.py:215 | fit_round 46: strategy sampled 2 clients (out of 5)\n"
     ]
    },
    {
     "output_type": "stream",
     "name": "stdout",
     "text": [
      "\t {'val_loss': 1.2866032123565674, 'val_accuracy': 0.6499999999999999}\n"
     ]
    },
    {
     "output_type": "stream",
     "name": "stderr",
     "text": [
      "DEBUG flwr 2023-04-14 01:28:41,308 | server.py:229 | fit_round 46 received 2 results and 0 failures\n"
     ]
    },
    {
     "output_type": "stream",
     "name": "stdout",
     "text": [
      "\t {'train_loss': 4.3273860683257226e-05, 'train_accuracy': 1.0}\n"
     ]
    },
    {
     "output_type": "stream",
     "name": "stderr",
     "text": [
      "INFO flwr 2023-04-14 01:28:51,215 | server.py:116 | fit progress: (46, 5.665647506713867, {'test_loss': 5.665647506713867, 'test_accuracy': 0.62}, 10008.0436324)\n",
      "DEBUG flwr 2023-04-14 01:28:51,216 | server.py:165 | evaluate_round 46: strategy sampled 2 clients (out of 5)\n",
      "DEBUG flwr 2023-04-14 01:29:02,209 | server.py:179 | evaluate_round 46 received 2 results and 0 failures\n",
      "DEBUG flwr 2023-04-14 01:29:02,210 | server.py:215 | fit_round 47: strategy sampled 2 clients (out of 5)\n"
     ]
    },
    {
     "output_type": "stream",
     "name": "stdout",
     "text": [
      "\t {'val_loss': 1.3462765216827393, 'val_accuracy': 0.75}\n"
     ]
    },
    {
     "output_type": "stream",
     "name": "stderr",
     "text": [
      "DEBUG flwr 2023-04-14 01:32:19,709 | server.py:229 | fit_round 47 received 2 results and 0 failures\n"
     ]
    },
    {
     "output_type": "stream",
     "name": "stdout",
     "text": [
      "\t {'train_loss': 6.945133327462827e-05, 'train_accuracy': 1.0}\n"
     ]
    },
    {
     "output_type": "stream",
     "name": "stderr",
     "text": [
      "INFO flwr 2023-04-14 01:32:29,534 | server.py:116 | fit progress: (47, 5.607357978820801, {'test_loss': 5.607357978820801, 'test_accuracy': 0.62}, 10226.362213100001)\n",
      "DEBUG flwr 2023-04-14 01:32:29,535 | server.py:165 | evaluate_round 47: strategy sampled 2 clients (out of 5)\n",
      "DEBUG flwr 2023-04-14 01:32:40,431 | server.py:179 | evaluate_round 47 received 2 results and 0 failures\n",
      "DEBUG flwr 2023-04-14 01:32:40,432 | server.py:215 | fit_round 48: strategy sampled 2 clients (out of 5)\n"
     ]
    },
    {
     "output_type": "stream",
     "name": "stdout",
     "text": [
      "\t {'val_loss': 1.8622713685035706, 'val_accuracy': 0.6000000000000001}\n"
     ]
    },
    {
     "output_type": "stream",
     "name": "stderr",
     "text": [
      "DEBUG flwr 2023-04-14 01:35:57,219 | server.py:229 | fit_round 48 received 2 results and 0 failures\n"
     ]
    },
    {
     "output_type": "stream",
     "name": "stdout",
     "text": [
      "\t {'train_loss': 1.7654567727731774e-05, 'train_accuracy': 1.0}\n"
     ]
    },
    {
     "output_type": "stream",
     "name": "stderr",
     "text": [
      "INFO flwr 2023-04-14 01:36:07,216 | server.py:116 | fit progress: (48, 5.827010154724121, {'test_loss': 5.827010154724121, 'test_accuracy': 0.62}, 10444.0445908)\n",
      "DEBUG flwr 2023-04-14 01:36:07,217 | server.py:165 | evaluate_round 48: strategy sampled 2 clients (out of 5)\n",
      "DEBUG flwr 2023-04-14 01:36:18,249 | server.py:179 | evaluate_round 48 received 2 results and 0 failures\n",
      "DEBUG flwr 2023-04-14 01:36:18,250 | server.py:215 | fit_round 49: strategy sampled 2 clients (out of 5)\n"
     ]
    },
    {
     "output_type": "stream",
     "name": "stdout",
     "text": [
      "\t {'val_loss': 1.2993952631950378, 'val_accuracy': 0.75}\n"
     ]
    },
    {
     "output_type": "stream",
     "name": "stderr",
     "text": [
      "DEBUG flwr 2023-04-14 01:39:34,279 | server.py:229 | fit_round 49 received 2 results and 0 failures\n"
     ]
    },
    {
     "output_type": "stream",
     "name": "stdout",
     "text": [
      "\t {'train_loss': 5.6648626923561096e-05, 'train_accuracy': 1.0}\n"
     ]
    },
    {
     "output_type": "stream",
     "name": "stderr",
     "text": [
      "INFO flwr 2023-04-14 01:39:43,994 | server.py:116 | fit progress: (49, 5.813976764678955, {'test_loss': 5.813976764678955, 'test_accuracy': 0.62}, 10660.822190899999)\n",
      "DEBUG flwr 2023-04-14 01:39:43,995 | server.py:165 | evaluate_round 49: strategy sampled 2 clients (out of 5)\n",
      "DEBUG flwr 2023-04-14 01:39:54,888 | server.py:179 | evaluate_round 49 received 2 results and 0 failures\n",
      "DEBUG flwr 2023-04-14 01:39:54,889 | server.py:215 | fit_round 50: strategy sampled 2 clients (out of 5)\n"
     ]
    },
    {
     "output_type": "stream",
     "name": "stdout",
     "text": [
      "\t {'val_loss': 1.886918067932129, 'val_accuracy': 0.575}\n"
     ]
    },
    {
     "output_type": "stream",
     "name": "stderr",
     "text": [
      "DEBUG flwr 2023-04-14 01:43:11,013 | server.py:229 | fit_round 50 received 2 results and 0 failures\n"
     ]
    },
    {
     "output_type": "stream",
     "name": "stdout",
     "text": [
      "\t {'train_loss': 2.7998479708912782e-05, 'train_accuracy': 1.0}\n"
     ]
    },
    {
     "output_type": "stream",
     "name": "stderr",
     "text": [
      "INFO flwr 2023-04-14 01:43:20,858 | server.py:116 | fit progress: (50, 5.7364821434021, {'test_loss': 5.7364821434021, 'test_accuracy': 0.64}, 10877.6863394)\n",
      "DEBUG flwr 2023-04-14 01:43:20,858 | server.py:165 | evaluate_round 50: strategy sampled 2 clients (out of 5)\n",
      "DEBUG flwr 2023-04-14 01:43:31,668 | server.py:179 | evaluate_round 50 received 2 results and 0 failures\n",
      "INFO flwr 2023-04-14 01:43:31,668 | server.py:144 | FL finished in 10888.496219699999\n",
      "INFO flwr 2023-04-14 01:43:31,696 | app.py:202 | app_fit: losses_distributed [(1, 4.443741798400879), (2, 4.181242227554321), (3, 3.9649665355682373), (4, 3.7830588817596436), (5, 3.1858285665512085), (6, 3.1044567823410034), (7, 2.778008460998535), (8, 2.7720956802368164), (9, 2.5954020023345947), (10, 2.438886880874634), (11, 2.226663827896118), (12, 2.3890328407287598), (13, 2.2265549898147583), (14, 2.1811647415161133), (15, 2.312610626220703), (16, 2.3209471106529236), (17, 2.1056450605392456), (18, 1.7078686952590942), (19, 1.6878247261047363), (20, 2.2804393768310547), (21, 2.2336758375167847), (22, 1.6015837788581848), (23, 2.0816637873649597), (24, 1.5848143696784973), (25, 1.6385907530784607), (26, 1.5459780097007751), (27, 1.4745112657546997), (28, 1.521329402923584), (29, 1.4845322966575623), (30, 2.121451258659363), (31, 1.4836704730987549), (32, 2.174923598766327), (33, 2.0324200987815857), (34, 1.3676971197128296), (35, 1.5727606415748596), (36, 1.4756522178649902), (37, 1.8006792068481445), (38, 1.5401040315628052), (39, 1.806214451789856), (40, 1.612939715385437), (41, 1.9321035742759705), (42, 1.4015825986862183), (43, 1.1729803085327148), (44, 1.5105538368225098), (45, 1.2866032123565674), (46, 1.3462765216827393), (47, 1.8622713685035706), (48, 1.2993952631950378), (49, 1.886918067932129), (50, 1.9629788994789124)]\n",
      "INFO flwr 2023-04-14 01:43:31,697 | app.py:203 | app_fit: metrics_distributed {'val_loss': [(1, 4.443741798400879), (2, 4.181242227554321), (3, 3.9649665355682373), (4, 3.7830588817596436), (5, 3.1858285665512085), (6, 3.1044567823410034), (7, 2.778008460998535), (8, 2.7720956802368164), (9, 2.5954020023345947), (10, 2.438886880874634), (11, 2.226663827896118), (12, 2.3890328407287598), (13, 2.2265549898147583), (14, 2.1811647415161133), (15, 2.312610626220703), (16, 2.3209471106529236), (17, 2.1056450605392456), (18, 1.7078686952590942), (19, 1.6878247261047363), (20, 2.2804393768310547), (21, 2.2336758375167847), (22, 1.6015837788581848), (23, 2.0816637873649597), (24, 1.5848143696784973), (25, 1.6385907530784607), (26, 1.5459780097007751), (27, 1.4745112657546997), (28, 1.521329402923584), (29, 1.4845322966575623), (30, 2.121451258659363), (31, 1.4836704730987549), (32, 2.174923598766327), (33, 2.0324200987815857), (34, 1.3676971197128296), (35, 1.5727606415748596), (36, 1.4756522178649902), (37, 1.8006792068481445), (38, 1.5401040315628052), (39, 1.806214451789856), (40, 1.612939715385437), (41, 1.9321035742759705), (42, 1.4015825986862183), (43, 1.1729803085327148), (44, 1.5105538368225098), (45, 1.2866032123565674), (46, 1.3462765216827393), (47, 1.8622713685035706), (48, 1.2993952631950378), (49, 1.886918067932129), (50, 1.9629788994789124)], 'val_accuracy': [(1, 0.07500000000000001), (2, 0.2), (3, 0.22499999999999998), (4, 0.25), (5, 0.475), (6, 0.42500000000000004), (7, 0.6), (8, 0.425), (9, 0.525), (10, 0.6), (11, 0.6499999999999999), (12, 0.575), (13, 0.5249999999999999), (14, 0.575), (15, 0.55), (16, 0.525), (17, 0.525), (18, 0.675), (19, 0.675), (20, 0.425), (21, 0.475), (22, 0.7), (23, 0.47500000000000003), (24, 0.7), (25, 0.675), (26, 0.7), (27, 0.725), (28, 0.6499999999999999), (29, 0.675), (30, 0.475), (31, 0.675), (32, 0.45), (33, 0.45), (34, 0.625), (35, 0.625), (36, 0.6499999999999999), (37, 0.5), (38, 0.7), (39, 0.55), (40, 0.675), (41, 0.575), (42, 0.6499999999999999), (43, 0.725), (44, 0.625), (45, 0.6499999999999999), (46, 0.75), (47, 0.6000000000000001), (48, 0.75), (49, 0.575), (50, 0.5)]}\n",
      "INFO flwr 2023-04-14 01:43:31,698 | app.py:204 | app_fit: losses_centralized [(0, 18.97638511657715), (1, 18.177030563354492), (2, 17.55220603942871), (3, 16.431533813476562), (4, 15.714844703674316), (5, 14.75926685333252), (6, 13.846593856811523), (7, 12.84677505493164), (8, 11.966680526733398), (9, 11.530412673950195), (10, 10.756977081298828), (11, 10.4970703125), (12, 10.029630661010742), (13, 9.602980613708496), (14, 9.028918266296387), (15, 8.442155838012695), (16, 8.36762523651123), (17, 8.535144805908203), (18, 7.9318742752075195), (19, 7.166853904724121), (20, 7.298476219177246), (21, 7.594636917114258), (22, 7.74948787689209), (23, 6.587989807128906), (24, 6.549351692199707), (25, 7.137442588806152), (26, 6.7254862785339355), (27, 6.338022232055664), (28, 6.7612152099609375), (29, 6.976870536804199), (30, 6.922206401824951), (31, 6.258750915527344), (32, 6.7505669593811035), (33, 6.098370552062988), (34, 5.563216686248779), (35, 5.704832553863525), (36, 5.562751770019531), (37, 5.245328426361084), (38, 6.239014148712158), (39, 5.6031084060668945), (40, 5.693512439727783), (41, 6.242611885070801), (42, 5.833550453186035), (43, 5.489912509918213), (44, 5.500000476837158), (45, 5.631035327911377), (46, 5.665647506713867), (47, 5.607357978820801), (48, 5.827010154724121), (49, 5.813976764678955), (50, 5.7364821434021)]\n",
      "INFO flwr 2023-04-14 01:43:31,699 | app.py:205 | app_fit: metrics_centralized {'test_loss': [(0, 18.97638511657715), (1, 18.177030563354492), (2, 17.55220603942871), (3, 16.431533813476562), (4, 15.714844703674316), (5, 14.75926685333252), (6, 13.846593856811523), (7, 12.84677505493164), (8, 11.966680526733398), (9, 11.530412673950195), (10, 10.756977081298828), (11, 10.4970703125), (12, 10.029630661010742), (13, 9.602980613708496), (14, 9.028918266296387), (15, 8.442155838012695), (16, 8.36762523651123), (17, 8.535144805908203), (18, 7.9318742752075195), (19, 7.166853904724121), (20, 7.298476219177246), (21, 7.594636917114258), (22, 7.74948787689209), (23, 6.587989807128906), (24, 6.549351692199707), (25, 7.137442588806152), (26, 6.7254862785339355), (27, 6.338022232055664), (28, 6.7612152099609375), (29, 6.976870536804199), (30, 6.922206401824951), (31, 6.258750915527344), (32, 6.7505669593811035), (33, 6.098370552062988), (34, 5.563216686248779), (35, 5.704832553863525), (36, 5.562751770019531), (37, 5.245328426361084), (38, 6.239014148712158), (39, 5.6031084060668945), (40, 5.693512439727783), (41, 6.242611885070801), (42, 5.833550453186035), (43, 5.489912509918213), (44, 5.500000476837158), (45, 5.631035327911377), (46, 5.665647506713867), (47, 5.607357978820801), (48, 5.827010154724121), (49, 5.813976764678955), (50, 5.7364821434021)], 'test_accuracy': [(0, 0.01), (1, 0.06), (2, 0.15), (3, 0.22), (4, 0.24), (5, 0.33), (6, 0.31), (7, 0.39), (8, 0.41), (9, 0.45), (10, 0.52), (11, 0.46), (12, 0.51), (13, 0.5), (14, 0.57), (15, 0.56), (16, 0.56), (17, 0.59), (18, 0.59), (19, 0.56), (20, 0.6), (21, 0.6), (22, 0.59), (23, 0.6), (24, 0.59), (25, 0.59), (26, 0.58), (27, 0.62), (28, 0.62), (29, 0.6), (30, 0.59), (31, 0.63), (32, 0.58), (33, 0.65), (34, 0.64), (35, 0.61), (36, 0.68), (37, 0.65), (38, 0.61), (39, 0.64), (40, 0.63), (41, 0.6), (42, 0.63), (43, 0.65), (44, 0.64), (45, 0.64), (46, 0.62), (47, 0.62), (48, 0.62), (49, 0.62), (50, 0.64)]}\n"
     ]
    },
    {
     "output_type": "stream",
     "name": "stdout",
     "text": [
      "\t {'val_loss': 1.9629788994789124, 'val_accuracy': 0.5}\n"
     ]
    },
    {
     "output_type": "execute_result",
     "data": {
      "text/plain": [
       "History (loss, distributed):\n",
       "\tround 1: 4.443741798400879\n",
       "\tround 2: 4.181242227554321\n",
       "\tround 3: 3.9649665355682373\n",
       "\tround 4: 3.7830588817596436\n",
       "\tround 5: 3.1858285665512085\n",
       "\tround 6: 3.1044567823410034\n",
       "\tround 7: 2.778008460998535\n",
       "\tround 8: 2.7720956802368164\n",
       "\tround 9: 2.5954020023345947\n",
       "\tround 10: 2.438886880874634\n",
       "\tround 11: 2.226663827896118\n",
       "\tround 12: 2.3890328407287598\n",
       "\tround 13: 2.2265549898147583\n",
       "\tround 14: 2.1811647415161133\n",
       "\tround 15: 2.312610626220703\n",
       "\tround 16: 2.3209471106529236\n",
       "\tround 17: 2.1056450605392456\n",
       "\tround 18: 1.7078686952590942\n",
       "\tround 19: 1.6878247261047363\n",
       "\tround 20: 2.2804393768310547\n",
       "\tround 21: 2.2336758375167847\n",
       "\tround 22: 1.6015837788581848\n",
       "\tround 23: 2.0816637873649597\n",
       "\tround 24: 1.5848143696784973\n",
       "\tround 25: 1.6385907530784607\n",
       "\tround 26: 1.5459780097007751\n",
       "\tround 27: 1.4745112657546997\n",
       "\tround 28: 1.521329402923584\n",
       "\tround 29: 1.4845322966575623\n",
       "\tround 30: 2.121451258659363\n",
       "\tround 31: 1.4836704730987549\n",
       "\tround 32: 2.174923598766327\n",
       "\tround 33: 2.0324200987815857\n",
       "\tround 34: 1.3676971197128296\n",
       "\tround 35: 1.5727606415748596\n",
       "\tround 36: 1.4756522178649902\n",
       "\tround 37: 1.8006792068481445\n",
       "\tround 38: 1.5401040315628052\n",
       "\tround 39: 1.806214451789856\n",
       "\tround 40: 1.612939715385437\n",
       "\tround 41: 1.9321035742759705\n",
       "\tround 42: 1.4015825986862183\n",
       "\tround 43: 1.1729803085327148\n",
       "\tround 44: 1.5105538368225098\n",
       "\tround 45: 1.2866032123565674\n",
       "\tround 46: 1.3462765216827393\n",
       "\tround 47: 1.8622713685035706\n",
       "\tround 48: 1.2993952631950378\n",
       "\tround 49: 1.886918067932129\n",
       "\tround 50: 1.9629788994789124\n",
       "History (loss, centralized):\n",
       "\tround 0: 18.97638511657715\n",
       "\tround 1: 18.177030563354492\n",
       "\tround 2: 17.55220603942871\n",
       "\tround 3: 16.431533813476562\n",
       "\tround 4: 15.714844703674316\n",
       "\tround 5: 14.75926685333252\n",
       "\tround 6: 13.846593856811523\n",
       "\tround 7: 12.84677505493164\n",
       "\tround 8: 11.966680526733398\n",
       "\tround 9: 11.530412673950195\n",
       "\tround 10: 10.756977081298828\n",
       "\tround 11: 10.4970703125\n",
       "\tround 12: 10.029630661010742\n",
       "\tround 13: 9.602980613708496\n",
       "\tround 14: 9.028918266296387\n",
       "\tround 15: 8.442155838012695\n",
       "\tround 16: 8.36762523651123\n",
       "\tround 17: 8.535144805908203\n",
       "\tround 18: 7.9318742752075195\n",
       "\tround 19: 7.166853904724121\n",
       "\tround 20: 7.298476219177246\n",
       "\tround 21: 7.594636917114258\n",
       "\tround 22: 7.74948787689209\n",
       "\tround 23: 6.587989807128906\n",
       "\tround 24: 6.549351692199707\n",
       "\tround 25: 7.137442588806152\n",
       "\tround 26: 6.7254862785339355\n",
       "\tround 27: 6.338022232055664\n",
       "\tround 28: 6.7612152099609375\n",
       "\tround 29: 6.976870536804199\n",
       "\tround 30: 6.922206401824951\n",
       "\tround 31: 6.258750915527344\n",
       "\tround 32: 6.7505669593811035\n",
       "\tround 33: 6.098370552062988\n",
       "\tround 34: 5.563216686248779\n",
       "\tround 35: 5.704832553863525\n",
       "\tround 36: 5.562751770019531\n",
       "\tround 37: 5.245328426361084\n",
       "\tround 38: 6.239014148712158\n",
       "\tround 39: 5.6031084060668945\n",
       "\tround 40: 5.693512439727783\n",
       "\tround 41: 6.242611885070801\n",
       "\tround 42: 5.833550453186035\n",
       "\tround 43: 5.489912509918213\n",
       "\tround 44: 5.500000476837158\n",
       "\tround 45: 5.631035327911377\n",
       "\tround 46: 5.665647506713867\n",
       "\tround 47: 5.607357978820801\n",
       "\tround 48: 5.827010154724121\n",
       "\tround 49: 5.813976764678955\n",
       "\tround 50: 5.7364821434021\n",
       "History (metrics, distributed):\n",
       "{'val_loss': [(1, 4.443741798400879), (2, 4.181242227554321), (3, 3.9649665355682373), (4, 3.7830588817596436), (5, 3.1858285665512085), (6, 3.1044567823410034), (7, 2.778008460998535), (8, 2.7720956802368164), (9, 2.5954020023345947), (10, 2.438886880874634), (11, 2.226663827896118), (12, 2.3890328407287598), (13, 2.2265549898147583), (14, 2.1811647415161133), (15, 2.312610626220703), (16, 2.3209471106529236), (17, 2.1056450605392456), (18, 1.7078686952590942), (19, 1.6878247261047363), (20, 2.2804393768310547), (21, 2.2336758375167847), (22, 1.6015837788581848), (23, 2.0816637873649597), (24, 1.5848143696784973), (25, 1.6385907530784607), (26, 1.5459780097007751), (27, 1.4745112657546997), (28, 1.521329402923584), (29, 1.4845322966575623), (30, 2.121451258659363), (31, 1.4836704730987549), (32, 2.174923598766327), (33, 2.0324200987815857), (34, 1.3676971197128296), (35, 1.5727606415748596), (36, 1.4756522178649902), (37, 1.8006792068481445), (38, 1.5401040315628052), (39, 1.806214451789856), (40, 1.612939715385437), (41, 1.9321035742759705), (42, 1.4015825986862183), (43, 1.1729803085327148), (44, 1.5105538368225098), (45, 1.2866032123565674), (46, 1.3462765216827393), (47, 1.8622713685035706), (48, 1.2993952631950378), (49, 1.886918067932129), (50, 1.9629788994789124)], 'val_accuracy': [(1, 0.07500000000000001), (2, 0.2), (3, 0.22499999999999998), (4, 0.25), (5, 0.475), (6, 0.42500000000000004), (7, 0.6), (8, 0.425), (9, 0.525), (10, 0.6), (11, 0.6499999999999999), (12, 0.575), (13, 0.5249999999999999), (14, 0.575), (15, 0.55), (16, 0.525), (17, 0.525), (18, 0.675), (19, 0.675), (20, 0.425), (21, 0.475), (22, 0.7), (23, 0.47500000000000003), (24, 0.7), (25, 0.675), (26, 0.7), (27, 0.725), (28, 0.6499999999999999), (29, 0.675), (30, 0.475), (31, 0.675), (32, 0.45), (33, 0.45), (34, 0.625), (35, 0.625), (36, 0.6499999999999999), (37, 0.5), (38, 0.7), (39, 0.55), (40, 0.675), (41, 0.575), (42, 0.6499999999999999), (43, 0.725), (44, 0.625), (45, 0.6499999999999999), (46, 0.75), (47, 0.6000000000000001), (48, 0.75), (49, 0.575), (50, 0.5)]}History (metrics, centralized):\n",
       "{'test_loss': [(0, 18.97638511657715), (1, 18.177030563354492), (2, 17.55220603942871), (3, 16.431533813476562), (4, 15.714844703674316), (5, 14.75926685333252), (6, 13.846593856811523), (7, 12.84677505493164), (8, 11.966680526733398), (9, 11.530412673950195), (10, 10.756977081298828), (11, 10.4970703125), (12, 10.029630661010742), (13, 9.602980613708496), (14, 9.028918266296387), (15, 8.442155838012695), (16, 8.36762523651123), (17, 8.535144805908203), (18, 7.9318742752075195), (19, 7.166853904724121), (20, 7.298476219177246), (21, 7.594636917114258), (22, 7.74948787689209), (23, 6.587989807128906), (24, 6.549351692199707), (25, 7.137442588806152), (26, 6.7254862785339355), (27, 6.338022232055664), (28, 6.7612152099609375), (29, 6.976870536804199), (30, 6.922206401824951), (31, 6.258750915527344), (32, 6.7505669593811035), (33, 6.098370552062988), (34, 5.563216686248779), (35, 5.704832553863525), (36, 5.562751770019531), (37, 5.245328426361084), (38, 6.239014148712158), (39, 5.6031084060668945), (40, 5.693512439727783), (41, 6.242611885070801), (42, 5.833550453186035), (43, 5.489912509918213), (44, 5.500000476837158), (45, 5.631035327911377), (46, 5.665647506713867), (47, 5.607357978820801), (48, 5.827010154724121), (49, 5.813976764678955), (50, 5.7364821434021)], 'test_accuracy': [(0, 0.01), (1, 0.06), (2, 0.15), (3, 0.22), (4, 0.24), (5, 0.33), (6, 0.31), (7, 0.39), (8, 0.41), (9, 0.45), (10, 0.52), (11, 0.46), (12, 0.51), (13, 0.5), (14, 0.57), (15, 0.56), (16, 0.56), (17, 0.59), (18, 0.59), (19, 0.56), (20, 0.6), (21, 0.6), (22, 0.59), (23, 0.6), (24, 0.59), (25, 0.59), (26, 0.58), (27, 0.62), (28, 0.62), (29, 0.6), (30, 0.59), (31, 0.63), (32, 0.58), (33, 0.65), (34, 0.64), (35, 0.61), (36, 0.68), (37, 0.65), (38, 0.61), (39, 0.64), (40, 0.63), (41, 0.6), (42, 0.63), (43, 0.65), (44, 0.64), (45, 0.64), (46, 0.62), (47, 0.62), (48, 0.62), (49, 0.62), (50, 0.64)]}"
      ]
     },
     "metadata": {},
     "execution_count": 7
    }
   ],
   "metadata": {}
  }
 ],
 "nbformat": 4,
 "nbformat_minor": 2,
 "metadata": {
  "language_info": {
   "codemirror_mode": {
    "name": "ipython",
    "version": 3
   },
   "file_extension": ".py",
   "mimetype": "text/x-python",
   "name": "python",
   "nbconvert_exporter": "python",
   "pygments_lexer": "ipython3",
   "version": 3
  },
  "orig_nbformat": 4
 }
}