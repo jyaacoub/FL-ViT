{
 "cells": [
  {
   "cell_type": "code",
   "execution_count": 6,
   "source": [
    "print('num clients:', NUM_CLIENTS)\n",
    "print('num rounds:', NUM_ROUNDS)\n",
    "print('--'*20)\n",
    "print('client training set size:', [len(t.dataset) for t in trainloaders])\n",
    "print('client validation set size:', [len(v.dataset) for v in valloaders])\n",
    "print('test set size:', len(testloader.dataset))\n",
    "print('--'*20)\n",
    "print('model name:', MODEL_NAME)\n",
    "print('num classes:', NUM_CLASSES)\n",
    "print('pre-trained:', PRE_TRAINED)\n",
    "print('learning rate:', LEARNING_RATE)\n",
    "print('batch size:', BATCH_SIZE)\n",
    "print('epochs:', EPOCHS)"
   ],
   "outputs": [
    {
     "output_type": "stream",
     "name": "stdout",
     "text": [
      "num clients: 5\n",
      "num rounds: 50\n",
      "----------------------------------------\n",
      "client training set size: [180, 180, 180, 180, 180]\n",
      "client validation set size: [20, 20, 20, 20, 20]\n",
      "test set size: 100\n",
      "----------------------------------------\n",
      "model name: google/bit-50\n",
      "num classes: 100\n",
      "pre-trained: True\n",
      "learning rate: 0.0001\n",
      "batch size: 32\n",
      "epochs: 1\n"
     ]
    }
   ],
   "metadata": {}
  },
  {
   "cell_type": "code",
   "execution_count": 7,
   "source": [
    "fl.simulation.start_simulation(\n",
    "    client_fn=lambda cid: FlowerClient(MODEL_CONFIG, trainloaders[int(cid)], valloaders[int(cid)]),\n",
    "    num_clients=NUM_CLIENTS,\n",
    "    config=fl.server.ServerConfig(num_rounds=NUM_ROUNDS),\n",
    "    strategy=strategy,\n",
    "    client_resources=CLIENT_RESOURCES,\n",
    "    ray_init_args=RAY_ARGS,\n",
    ")"
   ],
   "outputs": [
    {
     "output_type": "stream",
     "name": "stderr",
     "text": [
      "INFO flwr 2023-04-14 01:46:29,081 | app.py:145 | Starting Flower simulation, config: ServerConfig(num_rounds=50, round_timeout=None)\n",
      "2023-04-14 01:46:31,353\tINFO worker.py:1529 -- Started a local Ray instance. View the dashboard at \u001b[1m\u001b[32m127.0.0.1:8265 \u001b[39m\u001b[22m\n",
      "INFO flwr 2023-04-14 01:46:32,600 | app.py:179 | Flower VCE: Ray initialized with resources: {'GPU': 1.0, 'CPU': 24.0, 'memory': 15648959694.0, 'object_store_memory': 7824479846.0, 'node:127.0.0.1': 1.0}\n",
      "INFO flwr 2023-04-14 01:46:32,601 | server.py:86 | Initializing global parameters\n",
      "INFO flwr 2023-04-14 01:46:32,601 | server.py:266 | Using initial parameters provided by strategy\n",
      "INFO flwr 2023-04-14 01:46:32,602 | server.py:88 | Evaluating initial parameters\n",
      "INFO flwr 2023-04-14 01:46:51,113 | server.py:91 | initial parameters (loss, other metrics): 23.362789154052734, {'test_loss': 23.362789154052734, 'test_accuracy': 0.02}\n",
      "INFO flwr 2023-04-14 01:46:51,113 | server.py:101 | FL starting\n",
      "DEBUG flwr 2023-04-14 01:46:51,114 | server.py:215 | fit_round 1: strategy sampled 2 clients (out of 5)\n",
      "DEBUG flwr 2023-04-14 01:51:55,296 | server.py:229 | fit_round 1 received 2 results and 0 failures\n"
     ]
    },
    {
     "output_type": "stream",
     "name": "stdout",
     "text": [
      "\t {'train_loss': 4.725902795791626, 'train_accuracy': 0.011111111111111112}\n"
     ]
    },
    {
     "output_type": "stream",
     "name": "stderr",
     "text": [
      "INFO flwr 2023-04-14 01:52:13,865 | server.py:116 | fit progress: (1, 18.63314437866211, {'test_loss': 18.63314437866211, 'test_accuracy': 0.06}, 322.75149480000255)\n",
      "DEBUG flwr 2023-04-14 01:52:13,866 | server.py:165 | evaluate_round 1: strategy sampled 2 clients (out of 5)\n",
      "DEBUG flwr 2023-04-14 01:52:29,242 | server.py:179 | evaluate_round 1 received 2 results and 0 failures\n",
      "DEBUG flwr 2023-04-14 01:52:29,243 | server.py:215 | fit_round 2: strategy sampled 2 clients (out of 5)\n"
     ]
    },
    {
     "output_type": "stream",
     "name": "stdout",
     "text": [
      "\t {'val_loss': 4.671856164932251, 'val_accuracy': 0.025}\n"
     ]
    },
    {
     "output_type": "stream",
     "name": "stderr",
     "text": [
      "DEBUG flwr 2023-04-14 01:57:24,208 | server.py:229 | fit_round 2 received 2 results and 0 failures\n"
     ]
    },
    {
     "output_type": "stream",
     "name": "stdout",
     "text": [
      "\t {'train_loss': 4.623221397399902, 'train_accuracy': 0.07777777777777778}\n"
     ]
    },
    {
     "output_type": "stream",
     "name": "stderr",
     "text": [
      "INFO flwr 2023-04-14 01:57:42,641 | server.py:116 | fit progress: (2, 18.27591323852539, {'test_loss': 18.27591323852539, 'test_accuracy': 0.11}, 651.5274004999992)\n",
      "DEBUG flwr 2023-04-14 01:57:42,642 | server.py:165 | evaluate_round 2: strategy sampled 2 clients (out of 5)\n",
      "DEBUG flwr 2023-04-14 01:57:58,186 | server.py:179 | evaluate_round 2 received 2 results and 0 failures\n",
      "DEBUG flwr 2023-04-14 01:57:58,187 | server.py:215 | fit_round 3: strategy sampled 2 clients (out of 5)\n"
     ]
    },
    {
     "output_type": "stream",
     "name": "stdout",
     "text": [
      "\t {'val_loss': 4.348846673965454, 'val_accuracy': 0.07500000000000001}\n"
     ]
    },
    {
     "output_type": "stream",
     "name": "stderr",
     "text": [
      "DEBUG flwr 2023-04-14 02:02:49,524 | server.py:229 | fit_round 3 received 2 results and 0 failures\n"
     ]
    },
    {
     "output_type": "stream",
     "name": "stdout",
     "text": [
      "\t {'train_loss': 4.2577502727508545, 'train_accuracy': 0.0861111111111111}\n"
     ]
    },
    {
     "output_type": "stream",
     "name": "stderr",
     "text": [
      "INFO flwr 2023-04-14 02:03:07,808 | server.py:116 | fit progress: (3, 16.881153106689453, {'test_loss': 16.881153106689453, 'test_accuracy': 0.1}, 976.6943611999995)\n",
      "DEBUG flwr 2023-04-14 02:03:07,809 | server.py:165 | evaluate_round 3: strategy sampled 2 clients (out of 5)\n",
      "DEBUG flwr 2023-04-14 02:03:22,992 | server.py:179 | evaluate_round 3 received 2 results and 0 failures\n",
      "DEBUG flwr 2023-04-14 02:03:22,992 | server.py:215 | fit_round 4: strategy sampled 2 clients (out of 5)\n"
     ]
    },
    {
     "output_type": "stream",
     "name": "stdout",
     "text": [
      "\t {'val_loss': 4.138097763061523, 'val_accuracy': 0.1}\n"
     ]
    },
    {
     "output_type": "stream",
     "name": "stderr",
     "text": [
      "DEBUG flwr 2023-04-14 02:08:14,429 | server.py:229 | fit_round 4 received 2 results and 0 failures\n"
     ]
    },
    {
     "output_type": "stream",
     "name": "stdout",
     "text": [
      "\t {'train_loss': 3.8056187629699707, 'train_accuracy': 0.22777777777777777}\n"
     ]
    },
    {
     "output_type": "stream",
     "name": "stderr",
     "text": [
      "INFO flwr 2023-04-14 02:08:32,757 | server.py:116 | fit progress: (4, 13.277139663696289, {'test_loss': 13.277139663696289, 'test_accuracy': 0.22}, 1301.6433216000005)\n",
      "DEBUG flwr 2023-04-14 02:08:32,758 | server.py:165 | evaluate_round 4: strategy sampled 2 clients (out of 5)\n",
      "DEBUG flwr 2023-04-14 02:08:47,909 | server.py:179 | evaluate_round 4 received 2 results and 0 failures\n",
      "DEBUG flwr 2023-04-14 02:08:47,910 | server.py:215 | fit_round 5: strategy sampled 2 clients (out of 5)\n"
     ]
    },
    {
     "output_type": "stream",
     "name": "stdout",
     "text": [
      "\t {'val_loss': 3.331493854522705, 'val_accuracy': 0.2}\n"
     ]
    },
    {
     "output_type": "stream",
     "name": "stderr",
     "text": [
      "DEBUG flwr 2023-04-14 02:13:41,456 | server.py:229 | fit_round 5 received 2 results and 0 failures\n"
     ]
    },
    {
     "output_type": "stream",
     "name": "stdout",
     "text": [
      "\t {'train_loss': 3.6825459003448486, 'train_accuracy': 0.3833333333333333}\n"
     ]
    },
    {
     "output_type": "stream",
     "name": "stderr",
     "text": [
      "INFO flwr 2023-04-14 02:13:59,732 | server.py:116 | fit progress: (5, 13.805902481079102, {'test_loss': 13.805902481079102, 'test_accuracy': 0.24}, 1628.6189502000016)\n",
      "DEBUG flwr 2023-04-14 02:13:59,733 | server.py:165 | evaluate_round 5: strategy sampled 2 clients (out of 5)\n",
      "DEBUG flwr 2023-04-14 02:14:14,849 | server.py:179 | evaluate_round 5 received 2 results and 0 failures\n",
      "DEBUG flwr 2023-04-14 02:14:14,850 | server.py:215 | fit_round 6: strategy sampled 2 clients (out of 5)\n"
     ]
    },
    {
     "output_type": "stream",
     "name": "stdout",
     "text": [
      "\t {'val_loss': 3.771899461746216, 'val_accuracy': 0.15}\n"
     ]
    },
    {
     "output_type": "stream",
     "name": "stderr",
     "text": [
      "DEBUG flwr 2023-04-14 02:19:05,450 | server.py:229 | fit_round 6 received 2 results and 0 failures\n"
     ]
    },
    {
     "output_type": "stream",
     "name": "stdout",
     "text": [
      "\t {'train_loss': 3.5353119373321533, 'train_accuracy': 0.5555555555555555}\n"
     ]
    },
    {
     "output_type": "stream",
     "name": "stderr",
     "text": [
      "INFO flwr 2023-04-14 02:19:23,673 | server.py:116 | fit progress: (6, 12.596025466918945, {'test_loss': 12.596025466918945, 'test_accuracy': 0.29}, 1952.559567700002)\n",
      "DEBUG flwr 2023-04-14 02:19:23,674 | server.py:165 | evaluate_round 6: strategy sampled 2 clients (out of 5)\n",
      "DEBUG flwr 2023-04-14 02:19:38,779 | server.py:179 | evaluate_round 6 received 2 results and 0 failures\n",
      "DEBUG flwr 2023-04-14 02:19:38,780 | server.py:215 | fit_round 7: strategy sampled 2 clients (out of 5)\n"
     ]
    },
    {
     "output_type": "stream",
     "name": "stdout",
     "text": [
      "\t {'val_loss': 3.615339756011963, 'val_accuracy': 0.2}\n"
     ]
    },
    {
     "output_type": "stream",
     "name": "stderr",
     "text": [
      "DEBUG flwr 2023-04-14 02:24:29,948 | server.py:229 | fit_round 7 received 2 results and 0 failures\n"
     ]
    },
    {
     "output_type": "stream",
     "name": "stdout",
     "text": [
      "\t {'train_loss': 3.423633098602295, 'train_accuracy': 0.36388888888888893}\n"
     ]
    },
    {
     "output_type": "stream",
     "name": "stderr",
     "text": [
      "INFO flwr 2023-04-14 02:24:47,938 | server.py:116 | fit progress: (7, 12.748663902282715, {'test_loss': 12.748663902282715, 'test_accuracy': 0.25}, 2276.8244424000004)\n",
      "DEBUG flwr 2023-04-14 02:24:47,939 | server.py:165 | evaluate_round 7: strategy sampled 2 clients (out of 5)\n",
      "DEBUG flwr 2023-04-14 02:25:03,067 | server.py:179 | evaluate_round 7 received 2 results and 0 failures\n",
      "DEBUG flwr 2023-04-14 02:25:03,068 | server.py:215 | fit_round 8: strategy sampled 2 clients (out of 5)\n"
     ]
    },
    {
     "output_type": "stream",
     "name": "stdout",
     "text": [
      "\t {'val_loss': 3.4215325117111206, 'val_accuracy': 0.25}\n"
     ]
    },
    {
     "output_type": "stream",
     "name": "stderr",
     "text": [
      "DEBUG flwr 2023-04-14 02:29:52,008 | server.py:229 | fit_round 8 received 2 results and 0 failures\n"
     ]
    },
    {
     "output_type": "stream",
     "name": "stdout",
     "text": [
      "\t {'train_loss': 2.7855409383773804, 'train_accuracy': 0.7083333333333334}\n"
     ]
    },
    {
     "output_type": "stream",
     "name": "stderr",
     "text": [
      "INFO flwr 2023-04-14 02:30:10,044 | server.py:116 | fit progress: (8, 11.293061256408691, {'test_loss': 11.293061256408691, 'test_accuracy': 0.32}, 2598.9301584999994)\n",
      "DEBUG flwr 2023-04-14 02:30:10,044 | server.py:165 | evaluate_round 8: strategy sampled 2 clients (out of 5)\n",
      "DEBUG flwr 2023-04-14 02:30:25,324 | server.py:179 | evaluate_round 8 received 2 results and 0 failures\n",
      "DEBUG flwr 2023-04-14 02:30:25,325 | server.py:215 | fit_round 9: strategy sampled 2 clients (out of 5)\n"
     ]
    },
    {
     "output_type": "stream",
     "name": "stdout",
     "text": [
      "\t {'val_loss': 2.6794862747192383, 'val_accuracy': 0.42500000000000004}\n"
     ]
    },
    {
     "output_type": "stream",
     "name": "stderr",
     "text": [
      "DEBUG flwr 2023-04-14 02:35:15,118 | server.py:229 | fit_round 9 received 2 results and 0 failures\n"
     ]
    },
    {
     "output_type": "stream",
     "name": "stdout",
     "text": [
      "\t {'train_loss': 2.612521171569824, 'train_accuracy': 0.7166666666666667}\n"
     ]
    },
    {
     "output_type": "stream",
     "name": "stderr",
     "text": [
      "INFO flwr 2023-04-14 02:35:33,108 | server.py:116 | fit progress: (9, 10.756446838378906, {'test_loss': 10.756446838378906, 'test_accuracy': 0.33}, 2921.9939369999993)\n",
      "DEBUG flwr 2023-04-14 02:35:33,108 | server.py:165 | evaluate_round 9: strategy sampled 2 clients (out of 5)\n",
      "DEBUG flwr 2023-04-14 02:35:48,253 | server.py:179 | evaluate_round 9 received 2 results and 0 failures\n",
      "DEBUG flwr 2023-04-14 02:35:48,254 | server.py:215 | fit_round 10: strategy sampled 2 clients (out of 5)\n"
     ]
    },
    {
     "output_type": "stream",
     "name": "stdout",
     "text": [
      "\t {'val_loss': 3.5167291164398193, 'val_accuracy': 0.275}\n"
     ]
    },
    {
     "output_type": "stream",
     "name": "stderr",
     "text": [
      "DEBUG flwr 2023-04-14 02:40:38,658 | server.py:229 | fit_round 10 received 2 results and 0 failures\n"
     ]
    },
    {
     "output_type": "stream",
     "name": "stdout",
     "text": [
      "\t {'train_loss': 2.0404677987098694, 'train_accuracy': 0.8472222222222223}\n"
     ]
    },
    {
     "output_type": "stream",
     "name": "stderr",
     "text": [
      "INFO flwr 2023-04-14 02:40:56,677 | server.py:116 | fit progress: (10, 10.312963485717773, {'test_loss': 10.312963485717773, 'test_accuracy': 0.42}, 3245.5632439)\n",
      "DEBUG flwr 2023-04-14 02:40:56,678 | server.py:165 | evaluate_round 10: strategy sampled 2 clients (out of 5)\n",
      "DEBUG flwr 2023-04-14 02:41:11,872 | server.py:179 | evaluate_round 10 received 2 results and 0 failures\n",
      "DEBUG flwr 2023-04-14 02:41:11,872 | server.py:215 | fit_round 11: strategy sampled 2 clients (out of 5)\n"
     ]
    },
    {
     "output_type": "stream",
     "name": "stdout",
     "text": [
      "\t {'val_loss': 3.563140392303467, 'val_accuracy': 0.35}\n"
     ]
    },
    {
     "output_type": "stream",
     "name": "stderr",
     "text": [
      "DEBUG flwr 2023-04-14 02:46:02,954 | server.py:229 | fit_round 11 received 2 results and 0 failures\n"
     ]
    },
    {
     "output_type": "stream",
     "name": "stdout",
     "text": [
      "\t {'train_loss': 2.6222959756851196, 'train_accuracy': 0.6388888888888888}\n"
     ]
    },
    {
     "output_type": "stream",
     "name": "stderr",
     "text": [
      "INFO flwr 2023-04-14 02:46:20,938 | server.py:116 | fit progress: (11, 10.511777877807617, {'test_loss': 10.511777877807617, 'test_accuracy': 0.34}, 3569.8243256000023)\n",
      "DEBUG flwr 2023-04-14 02:46:20,939 | server.py:165 | evaluate_round 11: strategy sampled 2 clients (out of 5)\n",
      "DEBUG flwr 2023-04-14 02:46:36,370 | server.py:179 | evaluate_round 11 received 2 results and 0 failures\n",
      "DEBUG flwr 2023-04-14 02:46:36,370 | server.py:215 | fit_round 12: strategy sampled 2 clients (out of 5)\n"
     ]
    },
    {
     "output_type": "stream",
     "name": "stdout",
     "text": [
      "\t {'val_loss': 3.2452096939086914, 'val_accuracy': 0.375}\n"
     ]
    },
    {
     "output_type": "stream",
     "name": "stderr",
     "text": [
      "DEBUG flwr 2023-04-14 02:51:26,015 | server.py:229 | fit_round 12 received 2 results and 0 failures\n"
     ]
    },
    {
     "output_type": "stream",
     "name": "stdout",
     "text": [
      "\t {'train_loss': 2.2314480543136597, 'train_accuracy': 0.7666666666666666}\n"
     ]
    },
    {
     "output_type": "stream",
     "name": "stderr",
     "text": [
      "INFO flwr 2023-04-14 02:51:44,104 | server.py:116 | fit progress: (12, 9.817968368530273, {'test_loss': 9.817968368530273, 'test_accuracy': 0.4}, 3892.990748700002)\n",
      "DEBUG flwr 2023-04-14 02:51:44,105 | server.py:165 | evaluate_round 12: strategy sampled 2 clients (out of 5)\n",
      "DEBUG flwr 2023-04-14 02:51:59,277 | server.py:179 | evaluate_round 12 received 2 results and 0 failures\n",
      "DEBUG flwr 2023-04-14 02:51:59,278 | server.py:215 | fit_round 13: strategy sampled 2 clients (out of 5)\n"
     ]
    },
    {
     "output_type": "stream",
     "name": "stdout",
     "text": [
      "\t {'val_loss': 3.0216734409332275, 'val_accuracy': 0.32499999999999996}\n"
     ]
    },
    {
     "output_type": "stream",
     "name": "stderr",
     "text": [
      "DEBUG flwr 2023-04-14 02:56:53,086 | server.py:229 | fit_round 13 received 2 results and 0 failures\n"
     ]
    },
    {
     "output_type": "stream",
     "name": "stdout",
     "text": [
      "\t {'train_loss': 1.8044161796569824, 'train_accuracy': 0.8638888888888889}\n"
     ]
    },
    {
     "output_type": "stream",
     "name": "stderr",
     "text": [
      "INFO flwr 2023-04-14 02:57:11,057 | server.py:116 | fit progress: (13, 9.533235549926758, {'test_loss': 9.533235549926758, 'test_accuracy': 0.42}, 4219.9431095)\n",
      "DEBUG flwr 2023-04-14 02:57:11,057 | server.py:165 | evaluate_round 13: strategy sampled 2 clients (out of 5)\n",
      "DEBUG flwr 2023-04-14 02:57:26,136 | server.py:179 | evaluate_round 13 received 2 results and 0 failures\n",
      "DEBUG flwr 2023-04-14 02:57:26,137 | server.py:215 | fit_round 14: strategy sampled 2 clients (out of 5)\n"
     ]
    },
    {
     "output_type": "stream",
     "name": "stdout",
     "text": [
      "\t {'val_loss': 3.3936429023742676, 'val_accuracy': 0.4}\n"
     ]
    },
    {
     "output_type": "stream",
     "name": "stderr",
     "text": [
      "DEBUG flwr 2023-04-14 03:02:18,001 | server.py:229 | fit_round 14 received 2 results and 0 failures\n"
     ]
    },
    {
     "output_type": "stream",
     "name": "stdout",
     "text": [
      "\t {'train_loss': 1.6460291743278503, 'train_accuracy': 0.9166666666666666}\n"
     ]
    },
    {
     "output_type": "stream",
     "name": "stderr",
     "text": [
      "INFO flwr 2023-04-14 03:02:35,999 | server.py:116 | fit progress: (14, 10.276087760925293, {'test_loss': 10.276087760925293, 'test_accuracy': 0.41}, 4544.8858936)\n",
      "DEBUG flwr 2023-04-14 03:02:36,000 | server.py:165 | evaluate_round 14: strategy sampled 2 clients (out of 5)\n",
      "DEBUG flwr 2023-04-14 03:02:51,085 | server.py:179 | evaluate_round 14 received 2 results and 0 failures\n",
      "DEBUG flwr 2023-04-14 03:02:51,086 | server.py:215 | fit_round 15: strategy sampled 2 clients (out of 5)\n"
     ]
    },
    {
     "output_type": "stream",
     "name": "stdout",
     "text": [
      "\t {'val_loss': 3.326585829257965, 'val_accuracy': 0.325}\n"
     ]
    },
    {
     "output_type": "stream",
     "name": "stderr",
     "text": [
      "DEBUG flwr 2023-04-14 03:07:41,252 | server.py:229 | fit_round 15 received 2 results and 0 failures\n"
     ]
    },
    {
     "output_type": "stream",
     "name": "stdout",
     "text": [
      "\t {'train_loss': 1.7366564571857452, 'train_accuracy': 0.85}\n"
     ]
    },
    {
     "output_type": "stream",
     "name": "stderr",
     "text": [
      "INFO flwr 2023-04-14 03:07:59,150 | server.py:116 | fit progress: (15, 10.092191696166992, {'test_loss': 10.092191696166992, 'test_accuracy': 0.43}, 4868.037032700002)\n",
      "DEBUG flwr 2023-04-14 03:07:59,152 | server.py:165 | evaluate_round 15: strategy sampled 2 clients (out of 5)\n",
      "DEBUG flwr 2023-04-14 03:08:14,280 | server.py:179 | evaluate_round 15 received 2 results and 0 failures\n",
      "DEBUG flwr 2023-04-14 03:08:14,281 | server.py:215 | fit_round 16: strategy sampled 2 clients (out of 5)\n"
     ]
    },
    {
     "output_type": "stream",
     "name": "stdout",
     "text": [
      "\t {'val_loss': 3.499991714954376, 'val_accuracy': 0.3}\n"
     ]
    },
    {
     "output_type": "stream",
     "name": "stderr",
     "text": [
      "DEBUG flwr 2023-04-14 03:13:03,563 | server.py:229 | fit_round 16 received 2 results and 0 failures\n"
     ]
    },
    {
     "output_type": "stream",
     "name": "stdout",
     "text": [
      "\t {'train_loss': 1.5357714295387268, 'train_accuracy': 0.8472222222222223}\n"
     ]
    },
    {
     "output_type": "stream",
     "name": "stderr",
     "text": [
      "INFO flwr 2023-04-14 03:13:21,622 | server.py:116 | fit progress: (16, 10.1629638671875, {'test_loss': 10.1629638671875, 'test_accuracy': 0.44}, 5190.508806600003)\n",
      "DEBUG flwr 2023-04-14 03:13:21,623 | server.py:165 | evaluate_round 16: strategy sampled 2 clients (out of 5)\n",
      "DEBUG flwr 2023-04-14 03:13:36,699 | server.py:179 | evaluate_round 16 received 2 results and 0 failures\n",
      "DEBUG flwr 2023-04-14 03:13:36,700 | server.py:215 | fit_round 17: strategy sampled 2 clients (out of 5)\n"
     ]
    },
    {
     "output_type": "stream",
     "name": "stdout",
     "text": [
      "\t {'val_loss': 2.173372268676758, 'val_accuracy': 0.525}\n"
     ]
    },
    {
     "output_type": "stream",
     "name": "stderr",
     "text": [
      "DEBUG flwr 2023-04-14 03:20:20,041 | server.py:229 | fit_round 17 received 2 results and 0 failures\n"
     ]
    },
    {
     "output_type": "stream",
     "name": "stdout",
     "text": [
      "\t {'train_loss': 1.559372067451477, 'train_accuracy': 0.8305555555555557}\n"
     ]
    },
    {
     "output_type": "stream",
     "name": "stderr",
     "text": [
      "INFO flwr 2023-04-14 03:20:53,238 | server.py:116 | fit progress: (17, 10.249119758605957, {'test_loss': 10.249119758605957, 'test_accuracy': 0.37}, 5642.124129899999)\n",
      "DEBUG flwr 2023-04-14 03:20:53,239 | server.py:165 | evaluate_round 17: strategy sampled 2 clients (out of 5)\n",
      "DEBUG flwr 2023-04-14 03:21:21,305 | server.py:179 | evaluate_round 17 received 2 results and 0 failures\n",
      "DEBUG flwr 2023-04-14 03:21:21,306 | server.py:215 | fit_round 18: strategy sampled 2 clients (out of 5)\n"
     ]
    },
    {
     "output_type": "stream",
     "name": "stdout",
     "text": [
      "\t {'val_loss': 3.246411442756653, 'val_accuracy': 0.425}\n"
     ]
    },
    {
     "output_type": "stream",
     "name": "stderr",
     "text": [
      "DEBUG flwr 2023-04-14 03:30:44,328 | server.py:229 | fit_round 18 received 2 results and 0 failures\n"
     ]
    },
    {
     "output_type": "stream",
     "name": "stdout",
     "text": [
      "\t {'train_loss': 1.5056260824203491, 'train_accuracy': 0.8944444444444445}\n"
     ]
    },
    {
     "output_type": "stream",
     "name": "stderr",
     "text": [
      "INFO flwr 2023-04-14 03:31:17,691 | server.py:116 | fit progress: (18, 9.889547348022461, {'test_loss': 9.889547348022461, 'test_accuracy': 0.44}, 6266.57735)\n",
      "DEBUG flwr 2023-04-14 03:31:17,692 | server.py:165 | evaluate_round 18: strategy sampled 2 clients (out of 5)\n",
      "DEBUG flwr 2023-04-14 03:31:45,969 | server.py:179 | evaluate_round 18 received 2 results and 0 failures\n",
      "DEBUG flwr 2023-04-14 03:31:45,970 | server.py:215 | fit_round 19: strategy sampled 2 clients (out of 5)\n"
     ]
    },
    {
     "output_type": "stream",
     "name": "stdout",
     "text": [
      "\t {'val_loss': 2.472089171409607, 'val_accuracy': 0.4}\n"
     ]
    },
    {
     "output_type": "stream",
     "name": "stderr",
     "text": [
      "DEBUG flwr 2023-04-14 03:41:08,586 | server.py:229 | fit_round 19 received 2 results and 0 failures\n"
     ]
    },
    {
     "output_type": "stream",
     "name": "stdout",
     "text": [
      "\t {'train_loss': 1.4193505644798279, 'train_accuracy': 0.9249999999999999}\n"
     ]
    },
    {
     "output_type": "stream",
     "name": "stderr",
     "text": [
      "INFO flwr 2023-04-14 03:41:41,776 | server.py:116 | fit progress: (19, 9.549520492553711, {'test_loss': 9.549520492553711, 'test_accuracy': 0.4}, 6890.662503899999)\n",
      "DEBUG flwr 2023-04-14 03:41:41,777 | server.py:165 | evaluate_round 19: strategy sampled 2 clients (out of 5)\n",
      "DEBUG flwr 2023-04-14 03:42:09,268 | server.py:179 | evaluate_round 19 received 2 results and 0 failures\n",
      "DEBUG flwr 2023-04-14 03:42:09,270 | server.py:215 | fit_round 20: strategy sampled 2 clients (out of 5)\n"
     ]
    },
    {
     "output_type": "stream",
     "name": "stdout",
     "text": [
      "\t {'val_loss': 3.468800187110901, 'val_accuracy': 0.32499999999999996}\n"
     ]
    },
    {
     "output_type": "stream",
     "name": "stderr",
     "text": [
      "DEBUG flwr 2023-04-14 03:51:27,974 | server.py:229 | fit_round 20 received 2 results and 0 failures\n"
     ]
    },
    {
     "output_type": "stream",
     "name": "stdout",
     "text": [
      "\t {'train_loss': 1.48624986410141, 'train_accuracy': 0.9027777777777777}\n"
     ]
    },
    {
     "output_type": "stream",
     "name": "stderr",
     "text": [
      "INFO flwr 2023-04-14 03:52:00,933 | server.py:116 | fit progress: (20, 9.775999069213867, {'test_loss': 9.775999069213867, 'test_accuracy': 0.42}, 7509.8187761000045)\n",
      "DEBUG flwr 2023-04-14 03:52:00,934 | server.py:165 | evaluate_round 20: strategy sampled 2 clients (out of 5)\n",
      "DEBUG flwr 2023-04-14 03:52:28,947 | server.py:179 | evaluate_round 20 received 2 results and 0 failures\n",
      "DEBUG flwr 2023-04-14 03:52:28,948 | server.py:215 | fit_round 21: strategy sampled 2 clients (out of 5)\n"
     ]
    },
    {
     "output_type": "stream",
     "name": "stdout",
     "text": [
      "\t {'val_loss': 4.804738521575928, 'val_accuracy': 0.325}\n"
     ]
    },
    {
     "output_type": "stream",
     "name": "stderr",
     "text": [
      "DEBUG flwr 2023-04-14 04:01:54,604 | server.py:229 | fit_round 21 received 2 results and 0 failures\n"
     ]
    },
    {
     "output_type": "stream",
     "name": "stdout",
     "text": [
      "\t {'train_loss': 1.1518221199512482, 'train_accuracy': 0.9472222222222223}\n"
     ]
    },
    {
     "output_type": "stream",
     "name": "stderr",
     "text": [
      "INFO flwr 2023-04-14 04:02:27,862 | server.py:116 | fit progress: (21, 8.82958984375, {'test_loss': 8.82958984375, 'test_accuracy': 0.46}, 8134.2238368)\n",
      "DEBUG flwr 2023-04-14 04:02:27,863 | server.py:165 | evaluate_round 21: strategy sampled 2 clients (out of 5)\n",
      "DEBUG flwr 2023-04-14 04:02:55,445 | server.py:179 | evaluate_round 21 received 2 results and 0 failures\n",
      "DEBUG flwr 2023-04-14 04:02:55,446 | server.py:215 | fit_round 22: strategy sampled 2 clients (out of 5)\n"
     ]
    },
    {
     "output_type": "stream",
     "name": "stdout",
     "text": [
      "\t {'val_loss': 3.165207087993622, 'val_accuracy': 0.275}\n"
     ]
    },
    {
     "output_type": "stream",
     "name": "stderr",
     "text": [
      "DEBUG flwr 2023-04-14 04:12:18,815 | server.py:229 | fit_round 22 received 2 results and 0 failures\n"
     ]
    },
    {
     "output_type": "stream",
     "name": "stdout",
     "text": [
      "\t {'train_loss': 0.7722179144620895, 'train_accuracy': 0.9805555555555555}\n"
     ]
    },
    {
     "output_type": "stream",
     "name": "stderr",
     "text": [
      "INFO flwr 2023-04-14 04:12:52,316 | server.py:116 | fit progress: (22, 8.198420524597168, {'test_loss': 8.198420524597168, 'test_accuracy': 0.46}, 8758.677617700003)\n",
      "DEBUG flwr 2023-04-14 04:12:52,318 | server.py:165 | evaluate_round 22: strategy sampled 2 clients (out of 5)\n",
      "DEBUG flwr 2023-04-14 04:13:19,964 | server.py:179 | evaluate_round 22 received 2 results and 0 failures\n",
      "DEBUG flwr 2023-04-14 04:13:19,966 | server.py:215 | fit_round 23: strategy sampled 2 clients (out of 5)\n"
     ]
    },
    {
     "output_type": "stream",
     "name": "stdout",
     "text": [
      "\t {'val_loss': 3.636449694633484, 'val_accuracy': 0.325}\n"
     ]
    },
    {
     "output_type": "stream",
     "name": "stderr",
     "text": [
      "DEBUG flwr 2023-04-14 04:22:41,382 | server.py:229 | fit_round 23 received 2 results and 0 failures\n"
     ]
    },
    {
     "output_type": "stream",
     "name": "stdout",
     "text": [
      "\t {'train_loss': 0.6656955480575562, 'train_accuracy': 0.9638888888888889}\n"
     ]
    },
    {
     "output_type": "stream",
     "name": "stderr",
     "text": [
      "INFO flwr 2023-04-14 04:23:14,422 | server.py:116 | fit progress: (23, 9.903328895568848, {'test_loss': 9.903328895568848, 'test_accuracy': 0.44}, 9380.783412500004)\n",
      "DEBUG flwr 2023-04-14 04:23:14,423 | server.py:165 | evaluate_round 23: strategy sampled 2 clients (out of 5)\n",
      "DEBUG flwr 2023-04-14 04:23:42,353 | server.py:179 | evaluate_round 23 received 2 results and 0 failures\n",
      "DEBUG flwr 2023-04-14 04:23:42,354 | server.py:215 | fit_round 24: strategy sampled 2 clients (out of 5)\n"
     ]
    },
    {
     "output_type": "stream",
     "name": "stdout",
     "text": [
      "\t {'val_loss': 2.1451677083969116, 'val_accuracy': 0.525}\n"
     ]
    },
    {
     "output_type": "stream",
     "name": "stderr",
     "text": [
      "DEBUG flwr 2023-04-14 04:32:58,096 | server.py:229 | fit_round 24 received 2 results and 0 failures\n"
     ]
    },
    {
     "output_type": "stream",
     "name": "stdout",
     "text": [
      "\t {'train_loss': 1.6851908564567566, 'train_accuracy': 0.8972222222222221}\n"
     ]
    },
    {
     "output_type": "stream",
     "name": "stderr",
     "text": [
      "INFO flwr 2023-04-14 04:33:31,563 | server.py:116 | fit progress: (24, 9.837722778320312, {'test_loss': 9.837722778320312, 'test_accuracy': 0.45}, 9997.924584900004)\n",
      "DEBUG flwr 2023-04-14 04:33:31,564 | server.py:165 | evaluate_round 24: strategy sampled 2 clients (out of 5)\n",
      "DEBUG flwr 2023-04-14 04:33:59,423 | server.py:179 | evaluate_round 24 received 2 results and 0 failures\n",
      "DEBUG flwr 2023-04-14 04:33:59,425 | server.py:215 | fit_round 25: strategy sampled 2 clients (out of 5)\n"
     ]
    },
    {
     "output_type": "stream",
     "name": "stdout",
     "text": [
      "\t {'val_loss': 3.9499863386154175, 'val_accuracy': 0.30000000000000004}\n"
     ]
    },
    {
     "output_type": "stream",
     "name": "stderr",
     "text": [
      "DEBUG flwr 2023-04-14 04:43:22,935 | server.py:229 | fit_round 25 received 2 results and 0 failures\n"
     ]
    },
    {
     "output_type": "stream",
     "name": "stdout",
     "text": [
      "\t {'train_loss': 1.3028745651245117, 'train_accuracy': 0.8972222222222221}\n"
     ]
    },
    {
     "output_type": "stream",
     "name": "stderr",
     "text": [
      "INFO flwr 2023-04-14 04:43:56,392 | server.py:116 | fit progress: (25, 9.795902252197266, {'test_loss': 9.795902252197266, 'test_accuracy': 0.36}, 10622.753424999999)\n",
      "DEBUG flwr 2023-04-14 04:43:56,393 | server.py:165 | evaluate_round 25: strategy sampled 2 clients (out of 5)\n",
      "DEBUG flwr 2023-04-14 04:44:24,189 | server.py:179 | evaluate_round 25 received 2 results and 0 failures\n",
      "DEBUG flwr 2023-04-14 04:44:24,190 | server.py:215 | fit_round 26: strategy sampled 2 clients (out of 5)\n"
     ]
    },
    {
     "output_type": "stream",
     "name": "stdout",
     "text": [
      "\t {'val_loss': 4.918022155761719, 'val_accuracy': 0.35}\n"
     ]
    },
    {
     "output_type": "stream",
     "name": "stderr",
     "text": [
      "DEBUG flwr 2023-04-14 04:53:47,608 | server.py:229 | fit_round 26 received 2 results and 0 failures\n"
     ]
    },
    {
     "output_type": "stream",
     "name": "stdout",
     "text": [
      "\t {'train_loss': 0.735001266002655, 'train_accuracy': 0.9833333333333334}\n"
     ]
    },
    {
     "output_type": "stream",
     "name": "stderr",
     "text": [
      "INFO flwr 2023-04-14 04:54:20,688 | server.py:116 | fit progress: (26, 9.048749923706055, {'test_loss': 9.048749923706055, 'test_accuracy': 0.44}, 11247.049634600004)\n",
      "DEBUG flwr 2023-04-14 04:54:20,690 | server.py:165 | evaluate_round 26: strategy sampled 2 clients (out of 5)\n",
      "DEBUG flwr 2023-04-14 04:54:48,600 | server.py:179 | evaluate_round 26 received 2 results and 0 failures\n",
      "DEBUG flwr 2023-04-14 04:54:48,601 | server.py:215 | fit_round 27: strategy sampled 2 clients (out of 5)\n"
     ]
    },
    {
     "output_type": "stream",
     "name": "stdout",
     "text": [
      "\t {'val_loss': 4.591188192367554, 'val_accuracy': 0.35}\n"
     ]
    },
    {
     "output_type": "stream",
     "name": "stderr",
     "text": [
      "DEBUG flwr 2023-04-14 05:04:11,522 | server.py:229 | fit_round 27 received 2 results and 0 failures\n"
     ]
    },
    {
     "output_type": "stream",
     "name": "stdout",
     "text": [
      "\t {'train_loss': 0.4603532552719116, 'train_accuracy': 0.9833333333333334}\n"
     ]
    },
    {
     "output_type": "stream",
     "name": "stderr",
     "text": [
      "INFO flwr 2023-04-14 05:04:44,336 | server.py:116 | fit progress: (27, 9.14716625213623, {'test_loss': 9.14716625213623, 'test_accuracy': 0.46}, 11870.697227200002)\n",
      "DEBUG flwr 2023-04-14 05:04:44,337 | server.py:165 | evaluate_round 27: strategy sampled 2 clients (out of 5)\n",
      "DEBUG flwr 2023-04-14 05:05:12,203 | server.py:179 | evaluate_round 27 received 2 results and 0 failures\n",
      "DEBUG flwr 2023-04-14 05:05:12,205 | server.py:215 | fit_round 28: strategy sampled 2 clients (out of 5)\n"
     ]
    },
    {
     "output_type": "stream",
     "name": "stdout",
     "text": [
      "\t {'val_loss': 2.9930805563926697, 'val_accuracy': 0.47500000000000003}\n"
     ]
    },
    {
     "output_type": "stream",
     "name": "stderr",
     "text": [
      "DEBUG flwr 2023-04-14 05:14:30,503 | server.py:229 | fit_round 28 received 2 results and 0 failures\n"
     ]
    },
    {
     "output_type": "stream",
     "name": "stdout",
     "text": [
      "\t {'train_loss': 0.7872924655675888, 'train_accuracy': 0.9555555555555556}\n"
     ]
    },
    {
     "output_type": "stream",
     "name": "stderr",
     "text": [
      "INFO flwr 2023-04-14 05:15:03,740 | server.py:116 | fit progress: (28, 9.430265426635742, {'test_loss': 9.430265426635742, 'test_accuracy': 0.47}, 12490.101484000003)\n",
      "DEBUG flwr 2023-04-14 05:15:03,741 | server.py:165 | evaluate_round 28: strategy sampled 2 clients (out of 5)\n",
      "DEBUG flwr 2023-04-14 05:15:31,332 | server.py:179 | evaluate_round 28 received 2 results and 0 failures\n",
      "DEBUG flwr 2023-04-14 05:15:31,333 | server.py:215 | fit_round 29: strategy sampled 2 clients (out of 5)\n"
     ]
    },
    {
     "output_type": "stream",
     "name": "stdout",
     "text": [
      "\t {'val_loss': 2.197768449783325, 'val_accuracy': 0.42500000000000004}\n"
     ]
    },
    {
     "output_type": "stream",
     "name": "stderr",
     "text": [
      "DEBUG flwr 2023-04-14 05:24:50,139 | server.py:229 | fit_round 29 received 2 results and 0 failures\n"
     ]
    },
    {
     "output_type": "stream",
     "name": "stdout",
     "text": [
      "\t {'train_loss': 0.8328334987163544, 'train_accuracy': 0.9527777777777778}\n"
     ]
    },
    {
     "output_type": "stream",
     "name": "stderr",
     "text": [
      "INFO flwr 2023-04-14 05:25:23,218 | server.py:116 | fit progress: (29, 10.242493629455566, {'test_loss': 10.242493629455566, 'test_accuracy': 0.41}, 13109.5793639)\n",
      "DEBUG flwr 2023-04-14 05:25:23,219 | server.py:165 | evaluate_round 29: strategy sampled 2 clients (out of 5)\n",
      "DEBUG flwr 2023-04-14 05:25:51,004 | server.py:179 | evaluate_round 29 received 2 results and 0 failures\n",
      "DEBUG flwr 2023-04-14 05:25:51,006 | server.py:215 | fit_round 30: strategy sampled 2 clients (out of 5)\n"
     ]
    },
    {
     "output_type": "stream",
     "name": "stdout",
     "text": [
      "\t {'val_loss': 3.1624165773391724, 'val_accuracy': 0.44999999999999996}\n"
     ]
    },
    {
     "output_type": "stream",
     "name": "stderr",
     "text": [
      "DEBUG flwr 2023-04-14 05:35:11,904 | server.py:229 | fit_round 30 received 2 results and 0 failures\n"
     ]
    },
    {
     "output_type": "stream",
     "name": "stdout",
     "text": [
      "\t {'train_loss': 0.7226371467113495, 'train_accuracy': 0.9666666666666665}\n"
     ]
    },
    {
     "output_type": "stream",
     "name": "stderr",
     "text": [
      "INFO flwr 2023-04-14 05:35:45,343 | server.py:116 | fit progress: (30, 9.54298210144043, {'test_loss': 9.54298210144043, 'test_accuracy': 0.48}, 13731.7038575)\n",
      "DEBUG flwr 2023-04-14 05:35:45,344 | server.py:165 | evaluate_round 30: strategy sampled 2 clients (out of 5)\n",
      "DEBUG flwr 2023-04-14 05:36:13,261 | server.py:179 | evaluate_round 30 received 2 results and 0 failures\n",
      "DEBUG flwr 2023-04-14 05:36:13,262 | server.py:215 | fit_round 31: strategy sampled 2 clients (out of 5)\n"
     ]
    },
    {
     "output_type": "stream",
     "name": "stdout",
     "text": [
      "\t {'val_loss': 3.43057519197464, 'val_accuracy': 0.30000000000000004}\n"
     ]
    },
    {
     "output_type": "stream",
     "name": "stderr",
     "text": [
      "DEBUG flwr 2023-04-14 05:45:24,885 | server.py:229 | fit_round 31 received 2 results and 0 failures\n"
     ]
    },
    {
     "output_type": "stream",
     "name": "stdout",
     "text": [
      "\t {'train_loss': 0.5615328401327133, 'train_accuracy': 0.9722222222222222}\n"
     ]
    },
    {
     "output_type": "stream",
     "name": "stderr",
     "text": [
      "INFO flwr 2023-04-14 05:45:57,936 | server.py:116 | fit progress: (31, 10.764558792114258, {'test_loss': 10.764558792114258, 'test_accuracy': 0.43}, 14344.2980269)\n",
      "DEBUG flwr 2023-04-14 05:45:57,937 | server.py:165 | evaluate_round 31: strategy sampled 2 clients (out of 5)\n",
      "DEBUG flwr 2023-04-14 05:46:25,789 | server.py:179 | evaluate_round 31 received 2 results and 0 failures\n",
      "DEBUG flwr 2023-04-14 05:46:25,790 | server.py:215 | fit_round 32: strategy sampled 2 clients (out of 5)\n"
     ]
    },
    {
     "output_type": "stream",
     "name": "stdout",
     "text": [
      "\t {'val_loss': 2.319459319114685, 'val_accuracy': 0.55}\n"
     ]
    },
    {
     "output_type": "stream",
     "name": "stderr",
     "text": [
      "DEBUG flwr 2023-04-14 05:55:41,246 | server.py:229 | fit_round 32 received 2 results and 0 failures\n"
     ]
    },
    {
     "output_type": "stream",
     "name": "stdout",
     "text": [
      "\t {'train_loss': 0.49189452826976776, 'train_accuracy': 0.9805555555555555}\n"
     ]
    },
    {
     "output_type": "stream",
     "name": "stderr",
     "text": [
      "INFO flwr 2023-04-14 05:56:14,490 | server.py:116 | fit progress: (32, 9.779900550842285, {'test_loss': 9.779900550842285, 'test_accuracy': 0.47}, 14960.851475400003)\n",
      "DEBUG flwr 2023-04-14 05:56:14,491 | server.py:165 | evaluate_round 32: strategy sampled 2 clients (out of 5)\n",
      "DEBUG flwr 2023-04-14 05:56:42,732 | server.py:179 | evaluate_round 32 received 2 results and 0 failures\n",
      "DEBUG flwr 2023-04-14 05:56:42,734 | server.py:215 | fit_round 33: strategy sampled 2 clients (out of 5)\n"
     ]
    },
    {
     "output_type": "stream",
     "name": "stdout",
     "text": [
      "\t {'val_loss': 3.5775110721588135, 'val_accuracy': 0.42500000000000004}\n"
     ]
    },
    {
     "output_type": "stream",
     "name": "stderr",
     "text": [
      "DEBUG flwr 2023-04-14 06:05:58,937 | server.py:229 | fit_round 33 received 2 results and 0 failures\n"
     ]
    },
    {
     "output_type": "stream",
     "name": "stdout",
     "text": [
      "\t {'train_loss': 0.6605101451277733, 'train_accuracy': 0.9388888888888888}\n"
     ]
    },
    {
     "output_type": "stream",
     "name": "stderr",
     "text": [
      "INFO flwr 2023-04-14 06:06:32,745 | server.py:116 | fit progress: (33, 9.593137741088867, {'test_loss': 9.593137741088867, 'test_accuracy': 0.46}, 15579.1065863)\n",
      "DEBUG flwr 2023-04-14 06:06:32,746 | server.py:165 | evaluate_round 33: strategy sampled 2 clients (out of 5)\n",
      "DEBUG flwr 2023-04-14 06:07:00,688 | server.py:179 | evaluate_round 33 received 2 results and 0 failures\n",
      "DEBUG flwr 2023-04-14 06:07:00,690 | server.py:215 | fit_round 34: strategy sampled 2 clients (out of 5)\n"
     ]
    },
    {
     "output_type": "stream",
     "name": "stdout",
     "text": [
      "\t {'val_loss': 3.6932055950164795, 'val_accuracy': 0.475}\n"
     ]
    },
    {
     "output_type": "stream",
     "name": "stderr",
     "text": [
      "DEBUG flwr 2023-04-14 06:16:18,795 | server.py:229 | fit_round 34 received 2 results and 0 failures\n"
     ]
    },
    {
     "output_type": "stream",
     "name": "stdout",
     "text": [
      "\t {'train_loss': 0.5773461572825909, 'train_accuracy': 0.9805555555555555}\n"
     ]
    },
    {
     "output_type": "stream",
     "name": "stderr",
     "text": [
      "INFO flwr 2023-04-14 06:16:52,159 | server.py:116 | fit progress: (34, 9.17437744140625, {'test_loss': 9.17437744140625, 'test_accuracy': 0.45}, 16198.519964399999)\n",
      "DEBUG flwr 2023-04-14 06:16:52,160 | server.py:165 | evaluate_round 34: strategy sampled 2 clients (out of 5)\n",
      "DEBUG flwr 2023-04-14 06:17:20,027 | server.py:179 | evaluate_round 34 received 2 results and 0 failures\n",
      "DEBUG flwr 2023-04-14 06:17:20,029 | server.py:215 | fit_round 35: strategy sampled 2 clients (out of 5)\n"
     ]
    },
    {
     "output_type": "stream",
     "name": "stdout",
     "text": [
      "\t {'val_loss': 3.7778077125549316, 'val_accuracy': 0.45}\n"
     ]
    },
    {
     "output_type": "stream",
     "name": "stderr",
     "text": [
      "DEBUG flwr 2023-04-14 06:27:09,244 | server.py:229 | fit_round 35 received 2 results and 0 failures\n"
     ]
    },
    {
     "output_type": "stream",
     "name": "stdout",
     "text": [
      "\t {'train_loss': 0.35947106406092644, 'train_accuracy': 0.986111111111111}\n"
     ]
    },
    {
     "output_type": "stream",
     "name": "stderr",
     "text": [
      "INFO flwr 2023-04-14 06:27:42,035 | server.py:116 | fit progress: (35, 10.088798522949219, {'test_loss': 10.088798522949219, 'test_accuracy': 0.46}, 16848.3960348)\n",
      "DEBUG flwr 2023-04-14 06:27:42,037 | server.py:165 | evaluate_round 35: strategy sampled 2 clients (out of 5)\n",
      "DEBUG flwr 2023-04-14 06:28:10,037 | server.py:179 | evaluate_round 35 received 2 results and 0 failures\n",
      "DEBUG flwr 2023-04-14 06:28:10,038 | server.py:215 | fit_round 36: strategy sampled 2 clients (out of 5)\n"
     ]
    },
    {
     "output_type": "stream",
     "name": "stdout",
     "text": [
      "\t {'val_loss': 2.4883586168289185, 'val_accuracy': 0.525}\n"
     ]
    },
    {
     "output_type": "stream",
     "name": "stderr",
     "text": [
      "DEBUG flwr 2023-04-14 06:37:34,941 | server.py:229 | fit_round 36 received 2 results and 0 failures\n"
     ]
    },
    {
     "output_type": "stream",
     "name": "stdout",
     "text": [
      "\t {'train_loss': 0.2846424262970686, 'train_accuracy': 0.9833333333333334}\n"
     ]
    },
    {
     "output_type": "stream",
     "name": "stderr",
     "text": [
      "INFO flwr 2023-04-14 06:38:08,244 | server.py:116 | fit progress: (36, 10.702567100524902, {'test_loss': 10.702567100524902, 'test_accuracy': 0.38}, 17474.6056795)\n",
      "DEBUG flwr 2023-04-14 06:38:08,245 | server.py:165 | evaluate_round 36: strategy sampled 2 clients (out of 5)\n",
      "DEBUG flwr 2023-04-14 06:38:36,328 | server.py:179 | evaluate_round 36 received 2 results and 0 failures\n",
      "DEBUG flwr 2023-04-14 06:38:36,330 | server.py:215 | fit_round 37: strategy sampled 2 clients (out of 5)\n"
     ]
    },
    {
     "output_type": "stream",
     "name": "stdout",
     "text": [
      "\t {'val_loss': 2.410955309867859, 'val_accuracy': 0.5}\n"
     ]
    },
    {
     "output_type": "stream",
     "name": "stderr",
     "text": [
      "DEBUG flwr 2023-04-14 06:47:59,123 | server.py:229 | fit_round 37 received 2 results and 0 failures\n"
     ]
    },
    {
     "output_type": "stream",
     "name": "stdout",
     "text": [
      "\t {'train_loss': 0.39260295033454895, 'train_accuracy': 0.9666666666666667}\n"
     ]
    },
    {
     "output_type": "stream",
     "name": "stderr",
     "text": [
      "INFO flwr 2023-04-14 06:48:32,689 | server.py:116 | fit progress: (37, 9.904109954833984, {'test_loss': 9.904109954833984, 'test_accuracy': 0.43}, 18099.050735599998)\n",
      "DEBUG flwr 2023-04-14 06:48:32,690 | server.py:165 | evaluate_round 37: strategy sampled 2 clients (out of 5)\n",
      "DEBUG flwr 2023-04-14 06:49:00,807 | server.py:179 | evaluate_round 37 received 2 results and 0 failures\n",
      "DEBUG flwr 2023-04-14 06:49:00,808 | server.py:215 | fit_round 38: strategy sampled 2 clients (out of 5)\n"
     ]
    },
    {
     "output_type": "stream",
     "name": "stdout",
     "text": [
      "\t {'val_loss': 3.230234384536743, 'val_accuracy': 0.575}\n"
     ]
    },
    {
     "output_type": "stream",
     "name": "stderr",
     "text": [
      "DEBUG flwr 2023-04-14 06:58:24,387 | server.py:229 | fit_round 38 received 2 results and 0 failures\n"
     ]
    },
    {
     "output_type": "stream",
     "name": "stdout",
     "text": [
      "\t {'train_loss': 0.32566751493141055, 'train_accuracy': 0.9944444444444445}\n"
     ]
    },
    {
     "output_type": "stream",
     "name": "stderr",
     "text": [
      "INFO flwr 2023-04-14 06:58:58,130 | server.py:116 | fit progress: (38, 8.887271881103516, {'test_loss': 8.887271881103516, 'test_accuracy': 0.52}, 18724.491714)\n",
      "DEBUG flwr 2023-04-14 06:58:58,132 | server.py:165 | evaluate_round 38: strategy sampled 2 clients (out of 5)\n",
      "DEBUG flwr 2023-04-14 06:59:26,571 | server.py:179 | evaluate_round 38 received 2 results and 0 failures\n",
      "DEBUG flwr 2023-04-14 06:59:26,572 | server.py:215 | fit_round 39: strategy sampled 2 clients (out of 5)\n"
     ]
    },
    {
     "output_type": "stream",
     "name": "stdout",
     "text": [
      "\t {'val_loss': 3.1307942271232605, 'val_accuracy': 0.55}\n"
     ]
    },
    {
     "output_type": "stream",
     "name": "stderr",
     "text": [
      "DEBUG flwr 2023-04-14 07:08:54,736 | server.py:229 | fit_round 39 received 2 results and 0 failures\n"
     ]
    },
    {
     "output_type": "stream",
     "name": "stdout",
     "text": [
      "\t {'train_loss': 0.0595011031255126, 'train_accuracy': 0.9972222222222222}\n"
     ]
    },
    {
     "output_type": "stream",
     "name": "stderr",
     "text": [
      "INFO flwr 2023-04-14 07:09:28,094 | server.py:116 | fit progress: (39, 8.631927490234375, {'test_loss': 8.631927490234375, 'test_accuracy': 0.51}, 19354.4554169)\n",
      "DEBUG flwr 2023-04-14 07:09:28,095 | server.py:165 | evaluate_round 39: strategy sampled 2 clients (out of 5)\n",
      "DEBUG flwr 2023-04-14 07:09:56,025 | server.py:179 | evaluate_round 39 received 2 results and 0 failures\n",
      "DEBUG flwr 2023-04-14 07:09:56,026 | server.py:215 | fit_round 40: strategy sampled 2 clients (out of 5)\n"
     ]
    },
    {
     "output_type": "stream",
     "name": "stdout",
     "text": [
      "\t {'val_loss': 4.6116321086883545, 'val_accuracy': 0.275}\n"
     ]
    },
    {
     "output_type": "stream",
     "name": "stderr",
     "text": [
      "DEBUG flwr 2023-04-14 07:19:17,979 | server.py:229 | fit_round 40 received 2 results and 0 failures\n"
     ]
    },
    {
     "output_type": "stream",
     "name": "stdout",
     "text": [
      "\t {'train_loss': 0.10615175729617476, 'train_accuracy': 0.9944444444444445}\n"
     ]
    },
    {
     "output_type": "stream",
     "name": "stderr",
     "text": [
      "INFO flwr 2023-04-14 07:19:51,549 | server.py:116 | fit progress: (40, 9.213050842285156, {'test_loss': 9.213050842285156, 'test_accuracy': 0.52}, 19977.9104357)\n",
      "DEBUG flwr 2023-04-14 07:19:51,551 | server.py:165 | evaluate_round 40: strategy sampled 2 clients (out of 5)\n",
      "DEBUG flwr 2023-04-14 07:20:19,448 | server.py:179 | evaluate_round 40 received 2 results and 0 failures\n",
      "DEBUG flwr 2023-04-14 07:20:19,449 | server.py:215 | fit_round 41: strategy sampled 2 clients (out of 5)\n"
     ]
    },
    {
     "output_type": "stream",
     "name": "stdout",
     "text": [
      "\t {'val_loss': 3.7188810110092163, 'val_accuracy': 0.325}\n"
     ]
    },
    {
     "output_type": "stream",
     "name": "stderr",
     "text": [
      "DEBUG flwr 2023-04-14 07:29:37,656 | server.py:229 | fit_round 41 received 2 results and 0 failures\n"
     ]
    },
    {
     "output_type": "stream",
     "name": "stdout",
     "text": [
      "\t {'train_loss': 0.10427011363208294, 'train_accuracy': 0.9916666666666666}\n"
     ]
    },
    {
     "output_type": "stream",
     "name": "stderr",
     "text": [
      "INFO flwr 2023-04-14 07:30:11,036 | server.py:116 | fit progress: (41, 9.577622413635254, {'test_loss': 9.577622413635254, 'test_accuracy': 0.54}, 20597.397361500003)\n",
      "DEBUG flwr 2023-04-14 07:30:11,037 | server.py:165 | evaluate_round 41: strategy sampled 2 clients (out of 5)\n",
      "DEBUG flwr 2023-04-14 07:30:39,072 | server.py:179 | evaluate_round 41 received 2 results and 0 failures\n",
      "DEBUG flwr 2023-04-14 07:30:39,073 | server.py:215 | fit_round 42: strategy sampled 2 clients (out of 5)\n"
     ]
    },
    {
     "output_type": "stream",
     "name": "stdout",
     "text": [
      "\t {'val_loss': 3.253119468688965, 'val_accuracy': 0.375}\n"
     ]
    },
    {
     "output_type": "stream",
     "name": "stderr",
     "text": [
      "DEBUG flwr 2023-04-14 07:40:06,128 | server.py:229 | fit_round 42 received 2 results and 0 failures\n"
     ]
    },
    {
     "output_type": "stream",
     "name": "stdout",
     "text": [
      "\t {'train_loss': 0.02733350417111069, 'train_accuracy': 1.0}\n"
     ]
    },
    {
     "output_type": "stream",
     "name": "stderr",
     "text": [
      "INFO flwr 2023-04-14 07:40:39,286 | server.py:116 | fit progress: (42, 9.347574234008789, {'test_loss': 9.347574234008789, 'test_accuracy': 0.54}, 21225.6470073)\n",
      "DEBUG flwr 2023-04-14 07:40:39,286 | server.py:165 | evaluate_round 42: strategy sampled 2 clients (out of 5)\n",
      "DEBUG flwr 2023-04-14 07:41:07,130 | server.py:179 | evaluate_round 42 received 2 results and 0 failures\n",
      "DEBUG flwr 2023-04-14 07:41:07,132 | server.py:215 | fit_round 43: strategy sampled 2 clients (out of 5)\n"
     ]
    },
    {
     "output_type": "stream",
     "name": "stdout",
     "text": [
      "\t {'val_loss': 3.211025595664978, 'val_accuracy': 0.5}\n"
     ]
    },
    {
     "output_type": "stream",
     "name": "stderr",
     "text": [
      "DEBUG flwr 2023-04-14 07:50:28,652 | server.py:229 | fit_round 43 received 2 results and 0 failures\n"
     ]
    },
    {
     "output_type": "stream",
     "name": "stdout",
     "text": [
      "\t {'train_loss': 0.8263102173805237, 'train_accuracy': 0.9638888888888889}\n"
     ]
    },
    {
     "output_type": "stream",
     "name": "stderr",
     "text": [
      "INFO flwr 2023-04-14 07:51:02,160 | server.py:116 | fit progress: (43, 10.559592247009277, {'test_loss': 10.559592247009277, 'test_accuracy': 0.47}, 21848.521174700003)\n",
      "DEBUG flwr 2023-04-14 07:51:02,161 | server.py:165 | evaluate_round 43: strategy sampled 2 clients (out of 5)\n",
      "DEBUG flwr 2023-04-14 07:51:30,761 | server.py:179 | evaluate_round 43 received 2 results and 0 failures\n",
      "DEBUG flwr 2023-04-14 07:51:30,762 | server.py:215 | fit_round 44: strategy sampled 2 clients (out of 5)\n"
     ]
    },
    {
     "output_type": "stream",
     "name": "stdout",
     "text": [
      "\t {'val_loss': 2.9251646995544434, 'val_accuracy': 0.44999999999999996}\n"
     ]
    },
    {
     "output_type": "stream",
     "name": "stderr",
     "text": [
      "DEBUG flwr 2023-04-14 08:00:51,701 | server.py:229 | fit_round 44 received 2 results and 0 failures\n"
     ]
    },
    {
     "output_type": "stream",
     "name": "stdout",
     "text": [
      "\t {'train_loss': 0.1025439128279686, 'train_accuracy': 0.9888888888888889}\n"
     ]
    },
    {
     "output_type": "stream",
     "name": "stderr",
     "text": [
      "INFO flwr 2023-04-14 08:01:25,365 | server.py:116 | fit progress: (44, 9.329521179199219, {'test_loss': 9.329521179199219, 'test_accuracy': 0.53}, 22471.726278899998)\n",
      "DEBUG flwr 2023-04-14 08:01:25,366 | server.py:165 | evaluate_round 44: strategy sampled 2 clients (out of 5)\n",
      "DEBUG flwr 2023-04-14 08:01:53,183 | server.py:179 | evaluate_round 44 received 2 results and 0 failures\n",
      "DEBUG flwr 2023-04-14 08:01:53,184 | server.py:215 | fit_round 45: strategy sampled 2 clients (out of 5)\n"
     ]
    },
    {
     "output_type": "stream",
     "name": "stdout",
     "text": [
      "\t {'val_loss': 3.701432943344116, 'val_accuracy': 0.42500000000000004}\n"
     ]
    },
    {
     "output_type": "stream",
     "name": "stderr",
     "text": [
      "DEBUG flwr 2023-04-14 08:11:09,747 | server.py:229 | fit_round 45 received 2 results and 0 failures\n"
     ]
    },
    {
     "output_type": "stream",
     "name": "stdout",
     "text": [
      "\t {'train_loss': 0.0303005063906312, 'train_accuracy': 0.9944444444444445}\n"
     ]
    },
    {
     "output_type": "stream",
     "name": "stderr",
     "text": [
      "INFO flwr 2023-04-14 08:11:43,295 | server.py:116 | fit progress: (45, 9.64433765411377, {'test_loss': 9.64433765411377, 'test_accuracy': 0.5}, 23089.656578600003)\n",
      "DEBUG flwr 2023-04-14 08:11:43,297 | server.py:165 | evaluate_round 45: strategy sampled 2 clients (out of 5)\n",
      "DEBUG flwr 2023-04-14 08:12:11,887 | server.py:179 | evaluate_round 45 received 2 results and 0 failures\n",
      "DEBUG flwr 2023-04-14 08:12:11,888 | server.py:215 | fit_round 46: strategy sampled 2 clients (out of 5)\n"
     ]
    },
    {
     "output_type": "stream",
     "name": "stdout",
     "text": [
      "\t {'val_loss': 4.803630113601685, 'val_accuracy': 0.225}\n"
     ]
    },
    {
     "output_type": "stream",
     "name": "stderr",
     "text": [
      "DEBUG flwr 2023-04-14 08:21:27,959 | server.py:229 | fit_round 46 received 2 results and 0 failures\n"
     ]
    },
    {
     "output_type": "stream",
     "name": "stdout",
     "text": [
      "\t {'train_loss': 0.011147475335747004, 'train_accuracy': 1.0}\n"
     ]
    },
    {
     "output_type": "stream",
     "name": "stderr",
     "text": [
      "INFO flwr 2023-04-14 08:22:01,236 | server.py:116 | fit progress: (46, 10.80805492401123, {'test_loss': 10.80805492401123, 'test_accuracy': 0.51}, 23707.5974972)\n",
      "DEBUG flwr 2023-04-14 08:22:01,237 | server.py:165 | evaluate_round 46: strategy sampled 2 clients (out of 5)\n",
      "DEBUG flwr 2023-04-14 08:22:29,269 | server.py:179 | evaluate_round 46 received 2 results and 0 failures\n",
      "DEBUG flwr 2023-04-14 08:22:29,270 | server.py:215 | fit_round 47: strategy sampled 2 clients (out of 5)\n"
     ]
    },
    {
     "output_type": "stream",
     "name": "stdout",
     "text": [
      "\t {'val_loss': 3.516107201576233, 'val_accuracy': 0.42500000000000004}\n"
     ]
    },
    {
     "output_type": "stream",
     "name": "stderr",
     "text": [
      "DEBUG flwr 2023-04-14 08:31:52,686 | server.py:229 | fit_round 47 received 2 results and 0 failures\n"
     ]
    },
    {
     "output_type": "stream",
     "name": "stdout",
     "text": [
      "\t {'train_loss': 0.11715929675847292, 'train_accuracy': 0.986111111111111}\n"
     ]
    },
    {
     "output_type": "stream",
     "name": "stderr",
     "text": [
      "INFO flwr 2023-04-14 08:32:26,228 | server.py:116 | fit progress: (47, 9.199398040771484, {'test_loss': 9.199398040771484, 'test_accuracy': 0.5}, 24332.589729299998)\n",
      "DEBUG flwr 2023-04-14 08:32:26,229 | server.py:165 | evaluate_round 47: strategy sampled 2 clients (out of 5)\n",
      "DEBUG flwr 2023-04-14 08:32:54,349 | server.py:179 | evaluate_round 47 received 2 results and 0 failures\n",
      "DEBUG flwr 2023-04-14 08:32:54,351 | server.py:215 | fit_round 48: strategy sampled 2 clients (out of 5)\n"
     ]
    },
    {
     "output_type": "stream",
     "name": "stdout",
     "text": [
      "\t {'val_loss': 4.766908168792725, 'val_accuracy': 0.35}\n"
     ]
    },
    {
     "output_type": "stream",
     "name": "stderr",
     "text": [
      "DEBUG flwr 2023-04-14 08:42:11,218 | server.py:229 | fit_round 48 received 2 results and 0 failures\n"
     ]
    },
    {
     "output_type": "stream",
     "name": "stdout",
     "text": [
      "\t {'train_loss': 0.010393403237685561, 'train_accuracy': 0.9916666666666666}\n"
     ]
    },
    {
     "output_type": "stream",
     "name": "stderr",
     "text": [
      "INFO flwr 2023-04-14 08:42:44,397 | server.py:116 | fit progress: (48, 10.648731231689453, {'test_loss': 10.648731231689453, 'test_accuracy': 0.48}, 24950.758681299998)\n",
      "DEBUG flwr 2023-04-14 08:42:44,398 | server.py:165 | evaluate_round 48: strategy sampled 2 clients (out of 5)\n",
      "DEBUG flwr 2023-04-14 08:43:12,467 | server.py:179 | evaluate_round 48 received 2 results and 0 failures\n",
      "DEBUG flwr 2023-04-14 08:43:12,467 | server.py:215 | fit_round 49: strategy sampled 2 clients (out of 5)\n"
     ]
    },
    {
     "output_type": "stream",
     "name": "stdout",
     "text": [
      "\t {'val_loss': 4.507072329521179, 'val_accuracy': 0.35}\n"
     ]
    },
    {
     "output_type": "stream",
     "name": "stderr",
     "text": [
      "DEBUG flwr 2023-04-14 08:52:33,772 | server.py:229 | fit_round 49 received 2 results and 0 failures\n"
     ]
    },
    {
     "output_type": "stream",
     "name": "stdout",
     "text": [
      "\t {'train_loss': 0.005832001857925206, 'train_accuracy': 0.9944444444444445}\n"
     ]
    },
    {
     "output_type": "stream",
     "name": "stderr",
     "text": [
      "INFO flwr 2023-04-14 08:53:07,377 | server.py:116 | fit progress: (49, 10.829669952392578, {'test_loss': 10.829669952392578, 'test_accuracy': 0.46}, 25573.738177900002)\n",
      "DEBUG flwr 2023-04-14 08:53:07,378 | server.py:165 | evaluate_round 49: strategy sampled 2 clients (out of 5)\n",
      "DEBUG flwr 2023-04-14 08:53:35,312 | server.py:179 | evaluate_round 49 received 2 results and 0 failures\n",
      "DEBUG flwr 2023-04-14 08:53:35,314 | server.py:215 | fit_round 50: strategy sampled 2 clients (out of 5)\n"
     ]
    },
    {
     "output_type": "stream",
     "name": "stdout",
     "text": [
      "\t {'val_loss': 3.0610228776931763, 'val_accuracy': 0.5}\n"
     ]
    },
    {
     "output_type": "stream",
     "name": "stderr",
     "text": [
      "DEBUG flwr 2023-04-14 09:02:59,189 | server.py:229 | fit_round 50 received 2 results and 0 failures\n"
     ]
    },
    {
     "output_type": "stream",
     "name": "stdout",
     "text": [
      "\t {'train_loss': 0.08824014299898408, 'train_accuracy': 0.9916666666666667}\n"
     ]
    },
    {
     "output_type": "stream",
     "name": "stderr",
     "text": [
      "INFO flwr 2023-04-14 09:03:32,666 | server.py:116 | fit progress: (50, 10.779501914978027, {'test_loss': 10.779501914978027, 'test_accuracy': 0.46}, 26199.0270203)\n",
      "DEBUG flwr 2023-04-14 09:03:32,667 | server.py:165 | evaluate_round 50: strategy sampled 2 clients (out of 5)\n",
      "DEBUG flwr 2023-04-14 09:04:00,537 | server.py:179 | evaluate_round 50 received 2 results and 0 failures\n",
      "INFO flwr 2023-04-14 09:04:00,539 | server.py:144 | FL finished in 26226.900343900004\n",
      "INFO flwr 2023-04-14 09:04:00,564 | app.py:202 | app_fit: losses_distributed [(1, 4.671856164932251), (2, 4.348846673965454), (3, 4.138097763061523), (4, 3.331493854522705), (5, 3.771899461746216), (6, 3.615339756011963), (7, 3.4215325117111206), (8, 2.6794862747192383), (9, 3.5167291164398193), (10, 3.563140392303467), (11, 3.2452096939086914), (12, 3.0216734409332275), (13, 3.3936429023742676), (14, 3.326585829257965), (15, 3.499991714954376), (16, 2.173372268676758), (17, 3.246411442756653), (18, 2.472089171409607), (19, 3.468800187110901), (20, 4.804738521575928), (21, 3.165207087993622), (22, 3.636449694633484), (23, 2.1451677083969116), (24, 3.9499863386154175), (25, 4.918022155761719), (26, 4.591188192367554), (27, 2.9930805563926697), (28, 2.197768449783325), (29, 3.1624165773391724), (30, 3.43057519197464), (31, 2.319459319114685), (32, 3.5775110721588135), (33, 3.6932055950164795), (34, 3.7778077125549316), (35, 2.4883586168289185), (36, 2.410955309867859), (37, 3.230234384536743), (38, 3.1307942271232605), (39, 4.6116321086883545), (40, 3.7188810110092163), (41, 3.253119468688965), (42, 3.211025595664978), (43, 2.9251646995544434), (44, 3.701432943344116), (45, 4.803630113601685), (46, 3.516107201576233), (47, 4.766908168792725), (48, 4.507072329521179), (49, 3.0610228776931763), (50, 3.8819634914398193)]\n",
      "INFO flwr 2023-04-14 09:04:00,566 | app.py:203 | app_fit: metrics_distributed {'val_loss': [(1, 4.671856164932251), (2, 4.348846673965454), (3, 4.138097763061523), (4, 3.331493854522705), (5, 3.771899461746216), (6, 3.615339756011963), (7, 3.4215325117111206), (8, 2.6794862747192383), (9, 3.5167291164398193), (10, 3.563140392303467), (11, 3.2452096939086914), (12, 3.0216734409332275), (13, 3.3936429023742676), (14, 3.326585829257965), (15, 3.499991714954376), (16, 2.173372268676758), (17, 3.246411442756653), (18, 2.472089171409607), (19, 3.468800187110901), (20, 4.804738521575928), (21, 3.165207087993622), (22, 3.636449694633484), (23, 2.1451677083969116), (24, 3.9499863386154175), (25, 4.918022155761719), (26, 4.591188192367554), (27, 2.9930805563926697), (28, 2.197768449783325), (29, 3.1624165773391724), (30, 3.43057519197464), (31, 2.319459319114685), (32, 3.5775110721588135), (33, 3.6932055950164795), (34, 3.7778077125549316), (35, 2.4883586168289185), (36, 2.410955309867859), (37, 3.230234384536743), (38, 3.1307942271232605), (39, 4.6116321086883545), (40, 3.7188810110092163), (41, 3.253119468688965), (42, 3.211025595664978), (43, 2.9251646995544434), (44, 3.701432943344116), (45, 4.803630113601685), (46, 3.516107201576233), (47, 4.766908168792725), (48, 4.507072329521179), (49, 3.0610228776931763), (50, 3.8819634914398193)], 'val_accuracy': [(1, 0.025), (2, 0.07500000000000001), (3, 0.1), (4, 0.2), (5, 0.15), (6, 0.2), (7, 0.25), (8, 0.42500000000000004), (9, 0.275), (10, 0.35), (11, 0.375), (12, 0.32499999999999996), (13, 0.4), (14, 0.325), (15, 0.3), (16, 0.525), (17, 0.425), (18, 0.4), (19, 0.32499999999999996), (20, 0.325), (21, 0.275), (22, 0.325), (23, 0.525), (24, 0.30000000000000004), (25, 0.35), (26, 0.35), (27, 0.47500000000000003), (28, 0.42500000000000004), (29, 0.44999999999999996), (30, 0.30000000000000004), (31, 0.55), (32, 0.42500000000000004), (33, 0.475), (34, 0.45), (35, 0.525), (36, 0.5), (37, 0.575), (38, 0.55), (39, 0.275), (40, 0.325), (41, 0.375), (42, 0.5), (43, 0.44999999999999996), (44, 0.42500000000000004), (45, 0.225), (46, 0.42500000000000004), (47, 0.35), (48, 0.35), (49, 0.5), (50, 0.42500000000000004)]}\n",
      "INFO flwr 2023-04-14 09:04:00,567 | app.py:204 | app_fit: losses_centralized [(0, 23.362789154052734), (1, 18.63314437866211), (2, 18.27591323852539), (3, 16.881153106689453), (4, 13.277139663696289), (5, 13.805902481079102), (6, 12.596025466918945), (7, 12.748663902282715), (8, 11.293061256408691), (9, 10.756446838378906), (10, 10.312963485717773), (11, 10.511777877807617), (12, 9.817968368530273), (13, 9.533235549926758), (14, 10.276087760925293), (15, 10.092191696166992), (16, 10.1629638671875), (17, 10.249119758605957), (18, 9.889547348022461), (19, 9.549520492553711), (20, 9.775999069213867), (21, 8.82958984375), (22, 8.198420524597168), (23, 9.903328895568848), (24, 9.837722778320312), (25, 9.795902252197266), (26, 9.048749923706055), (27, 9.14716625213623), (28, 9.430265426635742), (29, 10.242493629455566), (30, 9.54298210144043), (31, 10.764558792114258), (32, 9.779900550842285), (33, 9.593137741088867), (34, 9.17437744140625), (35, 10.088798522949219), (36, 10.702567100524902), (37, 9.904109954833984), (38, 8.887271881103516), (39, 8.631927490234375), (40, 9.213050842285156), (41, 9.577622413635254), (42, 9.347574234008789), (43, 10.559592247009277), (44, 9.329521179199219), (45, 9.64433765411377), (46, 10.80805492401123), (47, 9.199398040771484), (48, 10.648731231689453), (49, 10.829669952392578), (50, 10.779501914978027)]\n",
      "INFO flwr 2023-04-14 09:04:00,568 | app.py:205 | app_fit: metrics_centralized {'test_loss': [(0, 23.362789154052734), (1, 18.63314437866211), (2, 18.27591323852539), (3, 16.881153106689453), (4, 13.277139663696289), (5, 13.805902481079102), (6, 12.596025466918945), (7, 12.748663902282715), (8, 11.293061256408691), (9, 10.756446838378906), (10, 10.312963485717773), (11, 10.511777877807617), (12, 9.817968368530273), (13, 9.533235549926758), (14, 10.276087760925293), (15, 10.092191696166992), (16, 10.1629638671875), (17, 10.249119758605957), (18, 9.889547348022461), (19, 9.549520492553711), (20, 9.775999069213867), (21, 8.82958984375), (22, 8.198420524597168), (23, 9.903328895568848), (24, 9.837722778320312), (25, 9.795902252197266), (26, 9.048749923706055), (27, 9.14716625213623), (28, 9.430265426635742), (29, 10.242493629455566), (30, 9.54298210144043), (31, 10.764558792114258), (32, 9.779900550842285), (33, 9.593137741088867), (34, 9.17437744140625), (35, 10.088798522949219), (36, 10.702567100524902), (37, 9.904109954833984), (38, 8.887271881103516), (39, 8.631927490234375), (40, 9.213050842285156), (41, 9.577622413635254), (42, 9.347574234008789), (43, 10.559592247009277), (44, 9.329521179199219), (45, 9.64433765411377), (46, 10.80805492401123), (47, 9.199398040771484), (48, 10.648731231689453), (49, 10.829669952392578), (50, 10.779501914978027)], 'test_accuracy': [(0, 0.02), (1, 0.06), (2, 0.11), (3, 0.1), (4, 0.22), (5, 0.24), (6, 0.29), (7, 0.25), (8, 0.32), (9, 0.33), (10, 0.42), (11, 0.34), (12, 0.4), (13, 0.42), (14, 0.41), (15, 0.43), (16, 0.44), (17, 0.37), (18, 0.44), (19, 0.4), (20, 0.42), (21, 0.46), (22, 0.46), (23, 0.44), (24, 0.45), (25, 0.36), (26, 0.44), (27, 0.46), (28, 0.47), (29, 0.41), (30, 0.48), (31, 0.43), (32, 0.47), (33, 0.46), (34, 0.45), (35, 0.46), (36, 0.38), (37, 0.43), (38, 0.52), (39, 0.51), (40, 0.52), (41, 0.54), (42, 0.54), (43, 0.47), (44, 0.53), (45, 0.5), (46, 0.51), (47, 0.5), (48, 0.48), (49, 0.46), (50, 0.46)]}\n"
     ]
    },
    {
     "output_type": "stream",
     "name": "stdout",
     "text": [
      "\t {'val_loss': 3.8819634914398193, 'val_accuracy': 0.42500000000000004}\n"
     ]
    },
    {
     "output_type": "execute_result",
     "data": {
      "text/plain": [
       "History (loss, distributed):\n",
       "\tround 1: 4.671856164932251\n",
       "\tround 2: 4.348846673965454\n",
       "\tround 3: 4.138097763061523\n",
       "\tround 4: 3.331493854522705\n",
       "\tround 5: 3.771899461746216\n",
       "\tround 6: 3.615339756011963\n",
       "\tround 7: 3.4215325117111206\n",
       "\tround 8: 2.6794862747192383\n",
       "\tround 9: 3.5167291164398193\n",
       "\tround 10: 3.563140392303467\n",
       "\tround 11: 3.2452096939086914\n",
       "\tround 12: 3.0216734409332275\n",
       "\tround 13: 3.3936429023742676\n",
       "\tround 14: 3.326585829257965\n",
       "\tround 15: 3.499991714954376\n",
       "\tround 16: 2.173372268676758\n",
       "\tround 17: 3.246411442756653\n",
       "\tround 18: 2.472089171409607\n",
       "\tround 19: 3.468800187110901\n",
       "\tround 20: 4.804738521575928\n",
       "\tround 21: 3.165207087993622\n",
       "\tround 22: 3.636449694633484\n",
       "\tround 23: 2.1451677083969116\n",
       "\tround 24: 3.9499863386154175\n",
       "\tround 25: 4.918022155761719\n",
       "\tround 26: 4.591188192367554\n",
       "\tround 27: 2.9930805563926697\n",
       "\tround 28: 2.197768449783325\n",
       "\tround 29: 3.1624165773391724\n",
       "\tround 30: 3.43057519197464\n",
       "\tround 31: 2.319459319114685\n",
       "\tround 32: 3.5775110721588135\n",
       "\tround 33: 3.6932055950164795\n",
       "\tround 34: 3.7778077125549316\n",
       "\tround 35: 2.4883586168289185\n",
       "\tround 36: 2.410955309867859\n",
       "\tround 37: 3.230234384536743\n",
       "\tround 38: 3.1307942271232605\n",
       "\tround 39: 4.6116321086883545\n",
       "\tround 40: 3.7188810110092163\n",
       "\tround 41: 3.253119468688965\n",
       "\tround 42: 3.211025595664978\n",
       "\tround 43: 2.9251646995544434\n",
       "\tround 44: 3.701432943344116\n",
       "\tround 45: 4.803630113601685\n",
       "\tround 46: 3.516107201576233\n",
       "\tround 47: 4.766908168792725\n",
       "\tround 48: 4.507072329521179\n",
       "\tround 49: 3.0610228776931763\n",
       "\tround 50: 3.8819634914398193\n",
       "History (loss, centralized):\n",
       "\tround 0: 23.362789154052734\n",
       "\tround 1: 18.63314437866211\n",
       "\tround 2: 18.27591323852539\n",
       "\tround 3: 16.881153106689453\n",
       "\tround 4: 13.277139663696289\n",
       "\tround 5: 13.805902481079102\n",
       "\tround 6: 12.596025466918945\n",
       "\tround 7: 12.748663902282715\n",
       "\tround 8: 11.293061256408691\n",
       "\tround 9: 10.756446838378906\n",
       "\tround 10: 10.312963485717773\n",
       "\tround 11: 10.511777877807617\n",
       "\tround 12: 9.817968368530273\n",
       "\tround 13: 9.533235549926758\n",
       "\tround 14: 10.276087760925293\n",
       "\tround 15: 10.092191696166992\n",
       "\tround 16: 10.1629638671875\n",
       "\tround 17: 10.249119758605957\n",
       "\tround 18: 9.889547348022461\n",
       "\tround 19: 9.549520492553711\n",
       "\tround 20: 9.775999069213867\n",
       "\tround 21: 8.82958984375\n",
       "\tround 22: 8.198420524597168\n",
       "\tround 23: 9.903328895568848\n",
       "\tround 24: 9.837722778320312\n",
       "\tround 25: 9.795902252197266\n",
       "\tround 26: 9.048749923706055\n",
       "\tround 27: 9.14716625213623\n",
       "\tround 28: 9.430265426635742\n",
       "\tround 29: 10.242493629455566\n",
       "\tround 30: 9.54298210144043\n",
       "\tround 31: 10.764558792114258\n",
       "\tround 32: 9.779900550842285\n",
       "\tround 33: 9.593137741088867\n",
       "\tround 34: 9.17437744140625\n",
       "\tround 35: 10.088798522949219\n",
       "\tround 36: 10.702567100524902\n",
       "\tround 37: 9.904109954833984\n",
       "\tround 38: 8.887271881103516\n",
       "\tround 39: 8.631927490234375\n",
       "\tround 40: 9.213050842285156\n",
       "\tround 41: 9.577622413635254\n",
       "\tround 42: 9.347574234008789\n",
       "\tround 43: 10.559592247009277\n",
       "\tround 44: 9.329521179199219\n",
       "\tround 45: 9.64433765411377\n",
       "\tround 46: 10.80805492401123\n",
       "\tround 47: 9.199398040771484\n",
       "\tround 48: 10.648731231689453\n",
       "\tround 49: 10.829669952392578\n",
       "\tround 50: 10.779501914978027\n",
       "History (metrics, distributed):\n",
       "{'val_loss': [(1, 4.671856164932251), (2, 4.348846673965454), (3, 4.138097763061523), (4, 3.331493854522705), (5, 3.771899461746216), (6, 3.615339756011963), (7, 3.4215325117111206), (8, 2.6794862747192383), (9, 3.5167291164398193), (10, 3.563140392303467), (11, 3.2452096939086914), (12, 3.0216734409332275), (13, 3.3936429023742676), (14, 3.326585829257965), (15, 3.499991714954376), (16, 2.173372268676758), (17, 3.246411442756653), (18, 2.472089171409607), (19, 3.468800187110901), (20, 4.804738521575928), (21, 3.165207087993622), (22, 3.636449694633484), (23, 2.1451677083969116), (24, 3.9499863386154175), (25, 4.918022155761719), (26, 4.591188192367554), (27, 2.9930805563926697), (28, 2.197768449783325), (29, 3.1624165773391724), (30, 3.43057519197464), (31, 2.319459319114685), (32, 3.5775110721588135), (33, 3.6932055950164795), (34, 3.7778077125549316), (35, 2.4883586168289185), (36, 2.410955309867859), (37, 3.230234384536743), (38, 3.1307942271232605), (39, 4.6116321086883545), (40, 3.7188810110092163), (41, 3.253119468688965), (42, 3.211025595664978), (43, 2.9251646995544434), (44, 3.701432943344116), (45, 4.803630113601685), (46, 3.516107201576233), (47, 4.766908168792725), (48, 4.507072329521179), (49, 3.0610228776931763), (50, 3.8819634914398193)], 'val_accuracy': [(1, 0.025), (2, 0.07500000000000001), (3, 0.1), (4, 0.2), (5, 0.15), (6, 0.2), (7, 0.25), (8, 0.42500000000000004), (9, 0.275), (10, 0.35), (11, 0.375), (12, 0.32499999999999996), (13, 0.4), (14, 0.325), (15, 0.3), (16, 0.525), (17, 0.425), (18, 0.4), (19, 0.32499999999999996), (20, 0.325), (21, 0.275), (22, 0.325), (23, 0.525), (24, 0.30000000000000004), (25, 0.35), (26, 0.35), (27, 0.47500000000000003), (28, 0.42500000000000004), (29, 0.44999999999999996), (30, 0.30000000000000004), (31, 0.55), (32, 0.42500000000000004), (33, 0.475), (34, 0.45), (35, 0.525), (36, 0.5), (37, 0.575), (38, 0.55), (39, 0.275), (40, 0.325), (41, 0.375), (42, 0.5), (43, 0.44999999999999996), (44, 0.42500000000000004), (45, 0.225), (46, 0.42500000000000004), (47, 0.35), (48, 0.35), (49, 0.5), (50, 0.42500000000000004)]}History (metrics, centralized):\n",
       "{'test_loss': [(0, 23.362789154052734), (1, 18.63314437866211), (2, 18.27591323852539), (3, 16.881153106689453), (4, 13.277139663696289), (5, 13.805902481079102), (6, 12.596025466918945), (7, 12.748663902282715), (8, 11.293061256408691), (9, 10.756446838378906), (10, 10.312963485717773), (11, 10.511777877807617), (12, 9.817968368530273), (13, 9.533235549926758), (14, 10.276087760925293), (15, 10.092191696166992), (16, 10.1629638671875), (17, 10.249119758605957), (18, 9.889547348022461), (19, 9.549520492553711), (20, 9.775999069213867), (21, 8.82958984375), (22, 8.198420524597168), (23, 9.903328895568848), (24, 9.837722778320312), (25, 9.795902252197266), (26, 9.048749923706055), (27, 9.14716625213623), (28, 9.430265426635742), (29, 10.242493629455566), (30, 9.54298210144043), (31, 10.764558792114258), (32, 9.779900550842285), (33, 9.593137741088867), (34, 9.17437744140625), (35, 10.088798522949219), (36, 10.702567100524902), (37, 9.904109954833984), (38, 8.887271881103516), (39, 8.631927490234375), (40, 9.213050842285156), (41, 9.577622413635254), (42, 9.347574234008789), (43, 10.559592247009277), (44, 9.329521179199219), (45, 9.64433765411377), (46, 10.80805492401123), (47, 9.199398040771484), (48, 10.648731231689453), (49, 10.829669952392578), (50, 10.779501914978027)], 'test_accuracy': [(0, 0.02), (1, 0.06), (2, 0.11), (3, 0.1), (4, 0.22), (5, 0.24), (6, 0.29), (7, 0.25), (8, 0.32), (9, 0.33), (10, 0.42), (11, 0.34), (12, 0.4), (13, 0.42), (14, 0.41), (15, 0.43), (16, 0.44), (17, 0.37), (18, 0.44), (19, 0.4), (20, 0.42), (21, 0.46), (22, 0.46), (23, 0.44), (24, 0.45), (25, 0.36), (26, 0.44), (27, 0.46), (28, 0.47), (29, 0.41), (30, 0.48), (31, 0.43), (32, 0.47), (33, 0.46), (34, 0.45), (35, 0.46), (36, 0.38), (37, 0.43), (38, 0.52), (39, 0.51), (40, 0.52), (41, 0.54), (42, 0.54), (43, 0.47), (44, 0.53), (45, 0.5), (46, 0.51), (47, 0.5), (48, 0.48), (49, 0.46), (50, 0.46)]}"
      ]
     },
     "metadata": {},
     "execution_count": 7
    }
   ],
   "metadata": {}
  }
 ],
 "nbformat": 4,
 "nbformat_minor": 2,
 "metadata": {
  "language_info": {
   "codemirror_mode": {
    "name": "ipython",
    "version": 3
   },
   "file_extension": ".py",
   "mimetype": "text/x-python",
   "name": "python",
   "nbconvert_exporter": "python",
   "pygments_lexer": "ipython3",
   "version": 3
  },
  "orig_nbformat": 4
 }
}