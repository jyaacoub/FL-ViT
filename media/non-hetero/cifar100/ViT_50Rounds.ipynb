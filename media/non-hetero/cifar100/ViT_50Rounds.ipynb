{
 "cells": [
  {
   "cell_type": "code",
   "execution_count": 6,
   "source": [
    "print('num clients:', NUM_CLIENTS)\n",
    "print('num rounds:', NUM_ROUNDS)\n",
    "print('--'*20)\n",
    "print('client training set size:', [len(t.dataset) for t in trainloaders])\n",
    "print('client validation set size:', [len(v.dataset) for v in valloaders])\n",
    "print('test set size:', len(testloader.dataset))\n",
    "print('--'*20)\n",
    "print('model name:', MODEL_NAME)\n",
    "print('num classes:', NUM_CLASSES)\n",
    "print('pre-trained:', PRE_TRAINED)\n",
    "print('learning rate:', LEARNING_RATE)\n",
    "print('batch size:', BATCH_SIZE)\n",
    "print('epochs:', EPOCHS)"
   ],
   "outputs": [
    {
     "output_type": "stream",
     "name": "stdout",
     "text": [
      "num clients: 5\n",
      "num rounds: 50\n",
      "----------------------------------------\n",
      "client training set size: [180, 180, 180, 180, 180]\n",
      "client validation set size: [20, 20, 20, 20, 20]\n",
      "test set size: 100\n",
      "----------------------------------------\n",
      "model name: google/vit-base-patch16-224\n",
      "num classes: 100\n",
      "pre-trained: True\n",
      "learning rate: 0.0001\n",
      "batch size: 32\n",
      "epochs: 1\n"
     ]
    }
   ],
   "metadata": {}
  },
  {
   "cell_type": "code",
   "execution_count": 7,
   "source": [
    "fl.simulation.start_simulation(\n",
    "    client_fn=lambda cid: FlowerClient(MODEL_CONFIG, trainloaders[int(cid)], valloaders[int(cid)]),\n",
    "    num_clients=NUM_CLIENTS,\n",
    "    config=fl.server.ServerConfig(num_rounds=NUM_ROUNDS),\n",
    "    strategy=strategy,\n",
    "    client_resources=CLIENT_RESOURCES,\n",
    "    ray_init_args=RAY_ARGS,\n",
    ")"
   ],
   "outputs": [
    {
     "output_type": "stream",
     "name": "stderr",
     "text": [
      "INFO flwr 2023-04-13 18:46:47,524 | app.py:145 | Starting Flower simulation, config: ServerConfig(num_rounds=50, round_timeout=None)\n",
      "2023-04-13 18:46:53,060\tINFO worker.py:1529 -- Started a local Ray instance. View the dashboard at \u001b[1m\u001b[32m127.0.0.1:8265 \u001b[39m\u001b[22m\n",
      "INFO flwr 2023-04-13 18:46:54,386 | app.py:179 | Flower VCE: Ray initialized with resources: {'GPU': 1.0, 'node:127.0.0.1': 1.0, 'memory': 13401324750.0, 'CPU': 24.0, 'object_store_memory': 6700662374.0}\n",
      "INFO flwr 2023-04-13 18:46:54,387 | server.py:86 | Initializing global parameters\n",
      "INFO flwr 2023-04-13 18:46:54,388 | server.py:266 | Using initial parameters provided by strategy\n",
      "INFO flwr 2023-04-13 18:46:54,388 | server.py:88 | Evaluating initial parameters\n",
      "INFO flwr 2023-04-13 18:47:04,109 | server.py:91 | initial parameters (loss, other metrics): 19.31648063659668, {'test_loss': 19.31648063659668, 'test_accuracy': 0.02}\n",
      "INFO flwr 2023-04-13 18:47:04,110 | server.py:101 | FL starting\n",
      "DEBUG flwr 2023-04-13 18:47:04,110 | server.py:215 | fit_round 1: strategy sampled 2 clients (out of 5)\n",
      "DEBUG flwr 2023-04-13 18:50:29,247 | server.py:229 | fit_round 1 received 2 results and 0 failures\n"
     ]
    },
    {
     "output_type": "stream",
     "name": "stdout",
     "text": [
      "\t {'train_loss': 4.440054893493652, 'train_accuracy': 0.019444444444444445}\n"
     ]
    },
    {
     "output_type": "stream",
     "name": "stderr",
     "text": [
      "INFO flwr 2023-04-13 18:50:39,116 | server.py:116 | fit progress: (1, 18.507652282714844, {'test_loss': 18.507652282714844, 'test_accuracy': 0.04}, 215.0052889)\n",
      "DEBUG flwr 2023-04-13 18:50:39,116 | server.py:165 | evaluate_round 1: strategy sampled 2 clients (out of 5)\n",
      "DEBUG flwr 2023-04-13 18:50:50,060 | server.py:179 | evaluate_round 1 received 2 results and 0 failures\n",
      "DEBUG flwr 2023-04-13 18:50:50,061 | server.py:215 | fit_round 2: strategy sampled 2 clients (out of 5)\n"
     ]
    },
    {
     "output_type": "stream",
     "name": "stdout",
     "text": [
      "\t {'val_loss': 4.529581785202026, 'val_accuracy': 0.075}\n"
     ]
    },
    {
     "output_type": "stream",
     "name": "stderr",
     "text": [
      "DEBUG flwr 2023-04-13 18:54:08,251 | server.py:229 | fit_round 2 received 2 results and 0 failures\n"
     ]
    },
    {
     "output_type": "stream",
     "name": "stdout",
     "text": [
      "\t {'train_loss': 4.3358635902404785, 'train_accuracy': 0.05277777777777778}\n"
     ]
    },
    {
     "output_type": "stream",
     "name": "stderr",
     "text": [
      "INFO flwr 2023-04-13 18:54:18,128 | server.py:116 | fit progress: (2, 17.516075134277344, {'test_loss': 17.516075134277344, 'test_accuracy': 0.08}, 434.01796450000006)\n",
      "DEBUG flwr 2023-04-13 18:54:18,129 | server.py:165 | evaluate_round 2: strategy sampled 2 clients (out of 5)\n",
      "DEBUG flwr 2023-04-13 18:54:29,150 | server.py:179 | evaluate_round 2 received 2 results and 0 failures\n",
      "DEBUG flwr 2023-04-13 18:54:29,150 | server.py:215 | fit_round 3: strategy sampled 2 clients (out of 5)\n"
     ]
    },
    {
     "output_type": "stream",
     "name": "stdout",
     "text": [
      "\t {'val_loss': 4.067659854888916, 'val_accuracy': 0.25}\n"
     ]
    },
    {
     "output_type": "stream",
     "name": "stderr",
     "text": [
      "DEBUG flwr 2023-04-13 18:57:47,242 | server.py:229 | fit_round 3 received 2 results and 0 failures\n"
     ]
    },
    {
     "output_type": "stream",
     "name": "stdout",
     "text": [
      "\t {'train_loss': 4.106223821640015, 'train_accuracy': 0.36944444444444446}\n"
     ]
    },
    {
     "output_type": "stream",
     "name": "stderr",
     "text": [
      "INFO flwr 2023-04-13 18:57:57,088 | server.py:116 | fit progress: (3, 16.478919982910156, {'test_loss': 16.478919982910156, 'test_accuracy': 0.15}, 652.9781978)\n",
      "DEBUG flwr 2023-04-13 18:57:57,089 | server.py:165 | evaluate_round 3: strategy sampled 2 clients (out of 5)\n",
      "DEBUG flwr 2023-04-13 18:58:08,016 | server.py:179 | evaluate_round 3 received 2 results and 0 failures\n",
      "DEBUG flwr 2023-04-13 18:58:08,017 | server.py:215 | fit_round 4: strategy sampled 2 clients (out of 5)\n"
     ]
    },
    {
     "output_type": "stream",
     "name": "stdout",
     "text": [
      "\t {'val_loss': 3.9676239490509033, 'val_accuracy': 0.25}\n"
     ]
    },
    {
     "output_type": "stream",
     "name": "stderr",
     "text": [
      "DEBUG flwr 2023-04-13 19:01:26,311 | server.py:229 | fit_round 4 received 2 results and 0 failures\n"
     ]
    },
    {
     "output_type": "stream",
     "name": "stdout",
     "text": [
      "\t {'train_loss': 3.8311792612075806, 'train_accuracy': 0.7027777777777778}\n"
     ]
    },
    {
     "output_type": "stream",
     "name": "stderr",
     "text": [
      "INFO flwr 2023-04-13 19:01:36,253 | server.py:116 | fit progress: (4, 15.628568649291992, {'test_loss': 15.628568649291992, 'test_accuracy': 0.24}, 872.1420365)\n",
      "DEBUG flwr 2023-04-13 19:01:36,253 | server.py:165 | evaluate_round 4: strategy sampled 2 clients (out of 5)\n",
      "DEBUG flwr 2023-04-13 19:01:47,167 | server.py:179 | evaluate_round 4 received 2 results and 0 failures\n",
      "DEBUG flwr 2023-04-13 19:01:47,168 | server.py:215 | fit_round 5: strategy sampled 2 clients (out of 5)\n"
     ]
    },
    {
     "output_type": "stream",
     "name": "stdout",
     "text": [
      "\t {'val_loss': 3.8174740076065063, 'val_accuracy': 0.2}\n"
     ]
    },
    {
     "output_type": "stream",
     "name": "stderr",
     "text": [
      "DEBUG flwr 2023-04-13 19:05:04,776 | server.py:229 | fit_round 5 received 2 results and 0 failures\n"
     ]
    },
    {
     "output_type": "stream",
     "name": "stdout",
     "text": [
      "\t {'train_loss': 3.5681852102279663, 'train_accuracy': 0.41111111111111115}\n"
     ]
    },
    {
     "output_type": "stream",
     "name": "stderr",
     "text": [
      "INFO flwr 2023-04-13 19:05:14,569 | server.py:116 | fit progress: (5, 14.810271263122559, {'test_loss': 14.810271263122559, 'test_accuracy': 0.31}, 1090.4584897)\n",
      "DEBUG flwr 2023-04-13 19:05:14,571 | server.py:165 | evaluate_round 5: strategy sampled 2 clients (out of 5)\n",
      "DEBUG flwr 2023-04-13 19:05:25,491 | server.py:179 | evaluate_round 5 received 2 results and 0 failures\n",
      "DEBUG flwr 2023-04-13 19:05:25,492 | server.py:215 | fit_round 6: strategy sampled 2 clients (out of 5)\n"
     ]
    },
    {
     "output_type": "stream",
     "name": "stdout",
     "text": [
      "\t {'val_loss': 3.4815833568573, 'val_accuracy': 0.375}\n"
     ]
    },
    {
     "output_type": "stream",
     "name": "stderr",
     "text": [
      "DEBUG flwr 2023-04-13 19:08:42,274 | server.py:229 | fit_round 6 received 2 results and 0 failures\n"
     ]
    },
    {
     "output_type": "stream",
     "name": "stdout",
     "text": [
      "\t {'train_loss': 3.2492271661758423, 'train_accuracy': 0.7027777777777778}\n"
     ]
    },
    {
     "output_type": "stream",
     "name": "stderr",
     "text": [
      "INFO flwr 2023-04-13 19:08:52,161 | server.py:116 | fit progress: (6, 14.121749877929688, {'test_loss': 14.121749877929688, 'test_accuracy': 0.35}, 1308.0505056)\n",
      "DEBUG flwr 2023-04-13 19:08:52,162 | server.py:165 | evaluate_round 6: strategy sampled 2 clients (out of 5)\n",
      "DEBUG flwr 2023-04-13 19:09:03,033 | server.py:179 | evaluate_round 6 received 2 results and 0 failures\n",
      "DEBUG flwr 2023-04-13 19:09:03,033 | server.py:215 | fit_round 7: strategy sampled 2 clients (out of 5)\n"
     ]
    },
    {
     "output_type": "stream",
     "name": "stdout",
     "text": [
      "\t {'val_loss': 3.3053712844848633, 'val_accuracy': 0.375}\n"
     ]
    },
    {
     "output_type": "stream",
     "name": "stderr",
     "text": [
      "DEBUG flwr 2023-04-13 19:12:20,311 | server.py:229 | fit_round 7 received 2 results and 0 failures\n"
     ]
    },
    {
     "output_type": "stream",
     "name": "stdout",
     "text": [
      "\t {'train_loss': 2.7863378524780273, 'train_accuracy': 0.8361111111111111}\n"
     ]
    },
    {
     "output_type": "stream",
     "name": "stderr",
     "text": [
      "INFO flwr 2023-04-13 19:12:30,442 | server.py:116 | fit progress: (7, 13.405355453491211, {'test_loss': 13.405355453491211, 'test_accuracy': 0.37}, 1526.3316868)\n",
      "DEBUG flwr 2023-04-13 19:12:30,443 | server.py:165 | evaluate_round 7: strategy sampled 2 clients (out of 5)\n",
      "DEBUG flwr 2023-04-13 19:12:41,386 | server.py:179 | evaluate_round 7 received 2 results and 0 failures\n",
      "DEBUG flwr 2023-04-13 19:12:41,387 | server.py:215 | fit_round 8: strategy sampled 2 clients (out of 5)\n"
     ]
    },
    {
     "output_type": "stream",
     "name": "stdout",
     "text": [
      "\t {'val_loss': 2.983648419380188, 'val_accuracy': 0.525}\n"
     ]
    },
    {
     "output_type": "stream",
     "name": "stderr",
     "text": [
      "DEBUG flwr 2023-04-13 19:15:58,203 | server.py:229 | fit_round 8 received 2 results and 0 failures\n"
     ]
    },
    {
     "output_type": "stream",
     "name": "stdout",
     "text": [
      "\t {'train_loss': 2.711786389350891, 'train_accuracy': 0.8222222222222223}\n"
     ]
    },
    {
     "output_type": "stream",
     "name": "stderr",
     "text": [
      "INFO flwr 2023-04-13 19:16:08,030 | server.py:116 | fit progress: (8, 12.958850860595703, {'test_loss': 12.958850860595703, 'test_accuracy': 0.39}, 1743.9196909)\n",
      "DEBUG flwr 2023-04-13 19:16:08,030 | server.py:165 | evaluate_round 8: strategy sampled 2 clients (out of 5)\n",
      "DEBUG flwr 2023-04-13 19:16:18,835 | server.py:179 | evaluate_round 8 received 2 results and 0 failures\n",
      "DEBUG flwr 2023-04-13 19:16:18,836 | server.py:215 | fit_round 9: strategy sampled 2 clients (out of 5)\n"
     ]
    },
    {
     "output_type": "stream",
     "name": "stdout",
     "text": [
      "\t {'val_loss': 2.7974518537521362, 'val_accuracy': 0.525}\n"
     ]
    },
    {
     "output_type": "stream",
     "name": "stderr",
     "text": [
      "DEBUG flwr 2023-04-13 19:19:36,277 | server.py:229 | fit_round 9 received 2 results and 0 failures\n"
     ]
    },
    {
     "output_type": "stream",
     "name": "stdout",
     "text": [
      "\t {'train_loss': 2.060332179069519, 'train_accuracy': 0.888888888888889}\n"
     ]
    },
    {
     "output_type": "stream",
     "name": "stderr",
     "text": [
      "INFO flwr 2023-04-13 19:19:46,059 | server.py:116 | fit progress: (9, 12.06507682800293, {'test_loss': 12.06507682800293, 'test_accuracy': 0.44}, 1961.9482360999998)\n",
      "DEBUG flwr 2023-04-13 19:19:46,059 | server.py:165 | evaluate_round 9: strategy sampled 2 clients (out of 5)\n",
      "DEBUG flwr 2023-04-13 19:19:56,873 | server.py:179 | evaluate_round 9 received 2 results and 0 failures\n",
      "DEBUG flwr 2023-04-13 19:19:56,874 | server.py:215 | fit_round 10: strategy sampled 2 clients (out of 5)\n"
     ]
    },
    {
     "output_type": "stream",
     "name": "stdout",
     "text": [
      "\t {'val_loss': 3.1322197914123535, 'val_accuracy': 0.375}\n"
     ]
    },
    {
     "output_type": "stream",
     "name": "stderr",
     "text": [
      "DEBUG flwr 2023-04-13 19:23:13,333 | server.py:229 | fit_round 10 received 2 results and 0 failures\n"
     ]
    },
    {
     "output_type": "stream",
     "name": "stdout",
     "text": [
      "\t {'train_loss': 2.637920379638672, 'train_accuracy': 0.8138888888888888}\n"
     ]
    },
    {
     "output_type": "stream",
     "name": "stderr",
     "text": [
      "INFO flwr 2023-04-13 19:23:23,128 | server.py:116 | fit progress: (10, 11.52774429321289, {'test_loss': 11.52774429321289, 'test_accuracy': 0.5}, 2179.0173135)\n",
      "DEBUG flwr 2023-04-13 19:23:23,128 | server.py:165 | evaluate_round 10: strategy sampled 2 clients (out of 5)\n",
      "DEBUG flwr 2023-04-13 19:23:34,081 | server.py:179 | evaluate_round 10 received 2 results and 0 failures\n",
      "DEBUG flwr 2023-04-13 19:23:34,081 | server.py:215 | fit_round 11: strategy sampled 2 clients (out of 5)\n"
     ]
    },
    {
     "output_type": "stream",
     "name": "stdout",
     "text": [
      "\t {'val_loss': 2.535625457763672, 'val_accuracy': 0.5249999999999999}\n"
     ]
    },
    {
     "output_type": "stream",
     "name": "stderr",
     "text": [
      "DEBUG flwr 2023-04-13 19:26:50,758 | server.py:229 | fit_round 11 received 2 results and 0 failures\n"
     ]
    },
    {
     "output_type": "stream",
     "name": "stdout",
     "text": [
      "\t {'train_loss': 1.9908201694488525, 'train_accuracy': 0.9055555555555556}\n"
     ]
    },
    {
     "output_type": "stream",
     "name": "stderr",
     "text": [
      "INFO flwr 2023-04-13 19:27:00,434 | server.py:116 | fit progress: (11, 10.865241050720215, {'test_loss': 10.865241050720215, 'test_accuracy': 0.55}, 2396.3237505)\n",
      "DEBUG flwr 2023-04-13 19:27:00,435 | server.py:165 | evaluate_round 11: strategy sampled 2 clients (out of 5)\n",
      "DEBUG flwr 2023-04-13 19:27:11,245 | server.py:179 | evaluate_round 11 received 2 results and 0 failures\n",
      "DEBUG flwr 2023-04-13 19:27:11,246 | server.py:215 | fit_round 12: strategy sampled 2 clients (out of 5)\n"
     ]
    },
    {
     "output_type": "stream",
     "name": "stdout",
     "text": [
      "\t {'val_loss': 2.575514793395996, 'val_accuracy': 0.55}\n"
     ]
    },
    {
     "output_type": "stream",
     "name": "stderr",
     "text": [
      "DEBUG flwr 2023-04-13 19:30:27,414 | server.py:229 | fit_round 12 received 2 results and 0 failures\n"
     ]
    },
    {
     "output_type": "stream",
     "name": "stdout",
     "text": [
      "\t {'train_loss': 1.6165979504585266, 'train_accuracy': 0.9416666666666668}\n"
     ]
    },
    {
     "output_type": "stream",
     "name": "stderr",
     "text": [
      "INFO flwr 2023-04-13 19:30:37,205 | server.py:116 | fit progress: (12, 10.54473876953125, {'test_loss': 10.54473876953125, 'test_accuracy': 0.53}, 2613.0949277)\n",
      "DEBUG flwr 2023-04-13 19:30:37,206 | server.py:165 | evaluate_round 12: strategy sampled 2 clients (out of 5)\n",
      "DEBUG flwr 2023-04-13 19:30:48,140 | server.py:179 | evaluate_round 12 received 2 results and 0 failures\n",
      "DEBUG flwr 2023-04-13 19:30:48,140 | server.py:215 | fit_round 13: strategy sampled 2 clients (out of 5)\n"
     ]
    },
    {
     "output_type": "stream",
     "name": "stdout",
     "text": [
      "\t {'val_loss': 2.6980464458465576, 'val_accuracy': 0.55}\n"
     ]
    },
    {
     "output_type": "stream",
     "name": "stderr",
     "text": [
      "DEBUG flwr 2023-04-13 19:34:04,699 | server.py:229 | fit_round 13 received 2 results and 0 failures\n"
     ]
    },
    {
     "output_type": "stream",
     "name": "stdout",
     "text": [
      "\t {'train_loss': 1.3268402218818665, 'train_accuracy': 0.975}\n"
     ]
    },
    {
     "output_type": "stream",
     "name": "stderr",
     "text": [
      "INFO flwr 2023-04-13 19:34:14,534 | server.py:116 | fit progress: (13, 9.806459426879883, {'test_loss': 9.806459426879883, 'test_accuracy': 0.6}, 2830.4241096)\n",
      "DEBUG flwr 2023-04-13 19:34:14,535 | server.py:165 | evaluate_round 13: strategy sampled 2 clients (out of 5)\n",
      "DEBUG flwr 2023-04-13 19:34:25,354 | server.py:179 | evaluate_round 13 received 2 results and 0 failures\n",
      "DEBUG flwr 2023-04-13 19:34:25,355 | server.py:215 | fit_round 14: strategy sampled 2 clients (out of 5)\n"
     ]
    },
    {
     "output_type": "stream",
     "name": "stdout",
     "text": [
      "\t {'val_loss': 2.0861806869506836, 'val_accuracy': 0.7}\n"
     ]
    },
    {
     "output_type": "stream",
     "name": "stderr",
     "text": [
      "DEBUG flwr 2023-04-13 19:37:42,391 | server.py:229 | fit_round 14 received 2 results and 0 failures\n"
     ]
    },
    {
     "output_type": "stream",
     "name": "stdout",
     "text": [
      "\t {'train_loss': 1.6190428733825684, 'train_accuracy': 0.9666666666666667}\n"
     ]
    },
    {
     "output_type": "stream",
     "name": "stderr",
     "text": [
      "INFO flwr 2023-04-13 19:37:52,149 | server.py:116 | fit progress: (14, 9.742910385131836, {'test_loss': 9.742910385131836, 'test_accuracy': 0.62}, 3048.0390254000004)\n",
      "DEBUG flwr 2023-04-13 19:37:52,150 | server.py:165 | evaluate_round 14: strategy sampled 2 clients (out of 5)\n",
      "DEBUG flwr 2023-04-13 19:38:02,964 | server.py:179 | evaluate_round 14 received 2 results and 0 failures\n",
      "DEBUG flwr 2023-04-13 19:38:02,965 | server.py:215 | fit_round 15: strategy sampled 2 clients (out of 5)\n"
     ]
    },
    {
     "output_type": "stream",
     "name": "stdout",
     "text": [
      "\t {'val_loss': 2.2552226781845093, 'val_accuracy': 0.7}\n"
     ]
    },
    {
     "output_type": "stream",
     "name": "stderr",
     "text": [
      "DEBUG flwr 2023-04-13 19:41:19,671 | server.py:229 | fit_round 15 received 2 results and 0 failures\n"
     ]
    },
    {
     "output_type": "stream",
     "name": "stdout",
     "text": [
      "\t {'train_loss': 1.792951762676239, 'train_accuracy': 0.9499999999999998}\n"
     ]
    },
    {
     "output_type": "stream",
     "name": "stderr",
     "text": [
      "INFO flwr 2023-04-13 19:41:29,380 | server.py:116 | fit progress: (15, 9.321429252624512, {'test_loss': 9.321429252624512, 'test_accuracy': 0.63}, 3265.2691577)\n",
      "DEBUG flwr 2023-04-13 19:41:29,380 | server.py:165 | evaluate_round 15: strategy sampled 2 clients (out of 5)\n",
      "DEBUG flwr 2023-04-13 19:41:40,158 | server.py:179 | evaluate_round 15 received 2 results and 0 failures\n",
      "DEBUG flwr 2023-04-13 19:41:40,159 | server.py:215 | fit_round 16: strategy sampled 2 clients (out of 5)\n"
     ]
    },
    {
     "output_type": "stream",
     "name": "stdout",
     "text": [
      "\t {'val_loss': 2.0231739282608032, 'val_accuracy': 0.675}\n"
     ]
    },
    {
     "output_type": "stream",
     "name": "stderr",
     "text": [
      "DEBUG flwr 2023-04-13 19:44:56,410 | server.py:229 | fit_round 16 received 2 results and 0 failures\n"
     ]
    },
    {
     "output_type": "stream",
     "name": "stdout",
     "text": [
      "\t {'train_loss': 1.1344466507434845, 'train_accuracy': 0.9833333333333334}\n"
     ]
    },
    {
     "output_type": "stream",
     "name": "stderr",
     "text": [
      "INFO flwr 2023-04-13 19:45:06,187 | server.py:116 | fit progress: (16, 8.849555015563965, {'test_loss': 8.849555015563965, 'test_accuracy': 0.64}, 3482.0771165)\n",
      "DEBUG flwr 2023-04-13 19:45:06,188 | server.py:165 | evaluate_round 16: strategy sampled 2 clients (out of 5)\n",
      "DEBUG flwr 2023-04-13 19:45:16,914 | server.py:179 | evaluate_round 16 received 2 results and 0 failures\n",
      "DEBUG flwr 2023-04-13 19:45:16,915 | server.py:215 | fit_round 17: strategy sampled 2 clients (out of 5)\n"
     ]
    },
    {
     "output_type": "stream",
     "name": "stdout",
     "text": [
      "\t {'val_loss': 1.8719972372055054, 'val_accuracy': 0.775}\n"
     ]
    },
    {
     "output_type": "stream",
     "name": "stderr",
     "text": [
      "DEBUG flwr 2023-04-13 19:48:35,824 | server.py:229 | fit_round 17 received 2 results and 0 failures\n"
     ]
    },
    {
     "output_type": "stream",
     "name": "stdout",
     "text": [
      "\t {'train_loss': 0.8492426574230194, 'train_accuracy': 0.9944444444444445}\n"
     ]
    },
    {
     "output_type": "stream",
     "name": "stderr",
     "text": [
      "INFO flwr 2023-04-13 19:48:45,504 | server.py:116 | fit progress: (17, 8.585695266723633, {'test_loss': 8.585695266723633, 'test_accuracy': 0.65}, 3701.3941817)\n",
      "DEBUG flwr 2023-04-13 19:48:45,505 | server.py:165 | evaluate_round 17: strategy sampled 2 clients (out of 5)\n",
      "DEBUG flwr 2023-04-13 19:48:56,408 | server.py:179 | evaluate_round 17 received 2 results and 0 failures\n",
      "DEBUG flwr 2023-04-13 19:48:56,409 | server.py:215 | fit_round 18: strategy sampled 2 clients (out of 5)\n"
     ]
    },
    {
     "output_type": "stream",
     "name": "stdout",
     "text": [
      "\t {'val_loss': 1.7161826491355896, 'val_accuracy': 0.725}\n"
     ]
    },
    {
     "output_type": "stream",
     "name": "stderr",
     "text": [
      "DEBUG flwr 2023-04-13 19:52:13,567 | server.py:229 | fit_round 18 received 2 results and 0 failures\n"
     ]
    },
    {
     "output_type": "stream",
     "name": "stdout",
     "text": [
      "\t {'train_loss': 0.9661248326301575, 'train_accuracy': 0.986111111111111}\n"
     ]
    },
    {
     "output_type": "stream",
     "name": "stderr",
     "text": [
      "INFO flwr 2023-04-13 19:52:23,398 | server.py:116 | fit progress: (18, 8.319716453552246, {'test_loss': 8.319716453552246, 'test_accuracy': 0.64}, 3919.2879098000003)\n",
      "DEBUG flwr 2023-04-13 19:52:23,399 | server.py:165 | evaluate_round 18: strategy sampled 2 clients (out of 5)\n",
      "DEBUG flwr 2023-04-13 19:52:34,284 | server.py:179 | evaluate_round 18 received 2 results and 0 failures\n",
      "DEBUG flwr 2023-04-13 19:52:34,285 | server.py:215 | fit_round 19: strategy sampled 2 clients (out of 5)\n"
     ]
    },
    {
     "output_type": "stream",
     "name": "stdout",
     "text": [
      "\t {'val_loss': 1.931916892528534, 'val_accuracy': 0.675}\n"
     ]
    },
    {
     "output_type": "stream",
     "name": "stderr",
     "text": [
      "DEBUG flwr 2023-04-13 19:55:50,638 | server.py:229 | fit_round 19 received 2 results and 0 failures\n"
     ]
    },
    {
     "output_type": "stream",
     "name": "stdout",
     "text": [
      "\t {'train_loss': 0.6927627623081207, 'train_accuracy': 0.9888888888888889}\n"
     ]
    },
    {
     "output_type": "stream",
     "name": "stderr",
     "text": [
      "INFO flwr 2023-04-13 19:56:00,412 | server.py:116 | fit progress: (19, 7.734855651855469, {'test_loss': 7.734855651855469, 'test_accuracy': 0.66}, 4136.3013563)\n",
      "DEBUG flwr 2023-04-13 19:56:00,413 | server.py:165 | evaluate_round 19: strategy sampled 2 clients (out of 5)\n",
      "DEBUG flwr 2023-04-13 19:56:11,223 | server.py:179 | evaluate_round 19 received 2 results and 0 failures\n",
      "DEBUG flwr 2023-04-13 19:56:11,224 | server.py:215 | fit_round 20: strategy sampled 2 clients (out of 5)\n"
     ]
    },
    {
     "output_type": "stream",
     "name": "stdout",
     "text": [
      "\t {'val_loss': 1.9975284934043884, 'val_accuracy': 0.65}\n"
     ]
    },
    {
     "output_type": "stream",
     "name": "stderr",
     "text": [
      "DEBUG flwr 2023-04-13 19:59:27,478 | server.py:229 | fit_round 20 received 2 results and 0 failures\n"
     ]
    },
    {
     "output_type": "stream",
     "name": "stdout",
     "text": [
      "\t {'train_loss': 0.601894274353981, 'train_accuracy': 0.9972222222222222}\n"
     ]
    },
    {
     "output_type": "stream",
     "name": "stderr",
     "text": [
      "INFO flwr 2023-04-13 19:59:37,210 | server.py:116 | fit progress: (20, 7.573593616485596, {'test_loss': 7.573593616485596, 'test_accuracy': 0.71}, 4353.0990412)\n",
      "DEBUG flwr 2023-04-13 19:59:37,210 | server.py:165 | evaluate_round 20: strategy sampled 2 clients (out of 5)\n",
      "DEBUG flwr 2023-04-13 19:59:48,026 | server.py:179 | evaluate_round 20 received 2 results and 0 failures\n",
      "DEBUG flwr 2023-04-13 19:59:48,027 | server.py:215 | fit_round 21: strategy sampled 2 clients (out of 5)\n"
     ]
    },
    {
     "output_type": "stream",
     "name": "stdout",
     "text": [
      "\t {'val_loss': 1.499831736087799, 'val_accuracy': 0.75}\n"
     ]
    },
    {
     "output_type": "stream",
     "name": "stderr",
     "text": [
      "DEBUG flwr 2023-04-13 20:03:04,408 | server.py:229 | fit_round 21 received 2 results and 0 failures\n"
     ]
    },
    {
     "output_type": "stream",
     "name": "stdout",
     "text": [
      "\t {'train_loss': 0.49060356616973877, 'train_accuracy': 1.0}\n"
     ]
    },
    {
     "output_type": "stream",
     "name": "stderr",
     "text": [
      "INFO flwr 2023-04-13 20:03:14,206 | server.py:116 | fit progress: (21, 7.393352508544922, {'test_loss': 7.393352508544922, 'test_accuracy': 0.7}, 4570.0952399)\n",
      "DEBUG flwr 2023-04-13 20:03:14,206 | server.py:165 | evaluate_round 21: strategy sampled 2 clients (out of 5)\n",
      "DEBUG flwr 2023-04-13 20:03:25,031 | server.py:179 | evaluate_round 21 received 2 results and 0 failures\n",
      "DEBUG flwr 2023-04-13 20:03:25,032 | server.py:215 | fit_round 22: strategy sampled 2 clients (out of 5)\n"
     ]
    },
    {
     "output_type": "stream",
     "name": "stdout",
     "text": [
      "\t {'val_loss': 1.469220757484436, 'val_accuracy': 0.75}\n"
     ]
    },
    {
     "output_type": "stream",
     "name": "stderr",
     "text": [
      "DEBUG flwr 2023-04-13 20:06:42,530 | server.py:229 | fit_round 22 received 2 results and 0 failures\n"
     ]
    },
    {
     "output_type": "stream",
     "name": "stdout",
     "text": [
      "\t {'train_loss': 0.2903321087360382, 'train_accuracy': 1.0}\n"
     ]
    },
    {
     "output_type": "stream",
     "name": "stderr",
     "text": [
      "INFO flwr 2023-04-13 20:06:52,307 | server.py:116 | fit progress: (22, 7.138802528381348, {'test_loss': 7.138802528381348, 'test_accuracy': 0.72}, 4788.196376)\n",
      "DEBUG flwr 2023-04-13 20:06:52,307 | server.py:165 | evaluate_round 22: strategy sampled 2 clients (out of 5)\n",
      "DEBUG flwr 2023-04-13 20:07:03,230 | server.py:179 | evaluate_round 22 received 2 results and 0 failures\n",
      "DEBUG flwr 2023-04-13 20:07:03,231 | server.py:215 | fit_round 23: strategy sampled 2 clients (out of 5)\n"
     ]
    },
    {
     "output_type": "stream",
     "name": "stdout",
     "text": [
      "\t {'val_loss': 1.5392639636993408, 'val_accuracy': 0.675}\n"
     ]
    },
    {
     "output_type": "stream",
     "name": "stderr",
     "text": [
      "DEBUG flwr 2023-04-13 20:10:19,235 | server.py:229 | fit_round 23 received 2 results and 0 failures\n"
     ]
    },
    {
     "output_type": "stream",
     "name": "stdout",
     "text": [
      "\t {'train_loss': 0.3237810581922531, 'train_accuracy': 1.0}\n"
     ]
    },
    {
     "output_type": "stream",
     "name": "stderr",
     "text": [
      "INFO flwr 2023-04-13 20:10:29,177 | server.py:116 | fit progress: (23, 7.062777519226074, {'test_loss': 7.062777519226074, 'test_accuracy': 0.7}, 5005.0665833)\n",
      "DEBUG flwr 2023-04-13 20:10:29,178 | server.py:165 | evaluate_round 23: strategy sampled 2 clients (out of 5)\n",
      "DEBUG flwr 2023-04-13 20:10:40,046 | server.py:179 | evaluate_round 23 received 2 results and 0 failures\n",
      "DEBUG flwr 2023-04-13 20:10:40,047 | server.py:215 | fit_round 24: strategy sampled 2 clients (out of 5)\n"
     ]
    },
    {
     "output_type": "stream",
     "name": "stdout",
     "text": [
      "\t {'val_loss': 1.4011817574501038, 'val_accuracy': 0.85}\n"
     ]
    },
    {
     "output_type": "stream",
     "name": "stderr",
     "text": [
      "DEBUG flwr 2023-04-13 20:13:57,302 | server.py:229 | fit_round 24 received 2 results and 0 failures\n"
     ]
    },
    {
     "output_type": "stream",
     "name": "stdout",
     "text": [
      "\t {'train_loss': 0.19842636212706566, 'train_accuracy': 1.0}\n"
     ]
    },
    {
     "output_type": "stream",
     "name": "stderr",
     "text": [
      "INFO flwr 2023-04-13 20:14:07,096 | server.py:116 | fit progress: (24, 6.755193710327148, {'test_loss': 6.755193710327148, 'test_accuracy': 0.72}, 5222.985205200001)\n",
      "DEBUG flwr 2023-04-13 20:14:07,096 | server.py:165 | evaluate_round 24: strategy sampled 2 clients (out of 5)\n",
      "DEBUG flwr 2023-04-13 20:14:18,073 | server.py:179 | evaluate_round 24 received 2 results and 0 failures\n",
      "DEBUG flwr 2023-04-13 20:14:18,074 | server.py:215 | fit_round 25: strategy sampled 2 clients (out of 5)\n"
     ]
    },
    {
     "output_type": "stream",
     "name": "stdout",
     "text": [
      "\t {'val_loss': 1.4668594002723694, 'val_accuracy': 0.75}\n"
     ]
    },
    {
     "output_type": "stream",
     "name": "stderr",
     "text": [
      "DEBUG flwr 2023-04-13 20:17:35,061 | server.py:229 | fit_round 25 received 2 results and 0 failures\n"
     ]
    },
    {
     "output_type": "stream",
     "name": "stdout",
     "text": [
      "\t {'train_loss': 0.12238411977887154, 'train_accuracy': 1.0}\n"
     ]
    },
    {
     "output_type": "stream",
     "name": "stderr",
     "text": [
      "INFO flwr 2023-04-13 20:17:44,930 | server.py:116 | fit progress: (25, 6.549944877624512, {'test_loss': 6.549944877624512, 'test_accuracy': 0.72}, 5440.8195042)\n",
      "DEBUG flwr 2023-04-13 20:17:44,931 | server.py:165 | evaluate_round 25: strategy sampled 2 clients (out of 5)\n",
      "DEBUG flwr 2023-04-13 20:17:55,761 | server.py:179 | evaluate_round 25 received 2 results and 0 failures\n",
      "DEBUG flwr 2023-04-13 20:17:55,761 | server.py:215 | fit_round 26: strategy sampled 2 clients (out of 5)\n"
     ]
    },
    {
     "output_type": "stream",
     "name": "stdout",
     "text": [
      "\t {'val_loss': 1.5769685506820679, 'val_accuracy': 0.75}\n"
     ]
    },
    {
     "output_type": "stream",
     "name": "stderr",
     "text": [
      "DEBUG flwr 2023-04-13 20:21:12,707 | server.py:229 | fit_round 26 received 2 results and 0 failures\n"
     ]
    },
    {
     "output_type": "stream",
     "name": "stdout",
     "text": [
      "\t {'train_loss': 0.19635901600122452, 'train_accuracy': 1.0}\n"
     ]
    },
    {
     "output_type": "stream",
     "name": "stderr",
     "text": [
      "INFO flwr 2023-04-13 20:21:22,526 | server.py:116 | fit progress: (26, 6.3136444091796875, {'test_loss': 6.3136444091796875, 'test_accuracy': 0.73}, 5658.415969000001)\n",
      "DEBUG flwr 2023-04-13 20:21:22,527 | server.py:165 | evaluate_round 26: strategy sampled 2 clients (out of 5)\n",
      "DEBUG flwr 2023-04-13 20:21:33,298 | server.py:179 | evaluate_round 26 received 2 results and 0 failures\n",
      "DEBUG flwr 2023-04-13 20:21:33,299 | server.py:215 | fit_round 27: strategy sampled 2 clients (out of 5)\n"
     ]
    },
    {
     "output_type": "stream",
     "name": "stdout",
     "text": [
      "\t {'val_loss': 1.1399229764938354, 'val_accuracy': 0.8}\n"
     ]
    },
    {
     "output_type": "stream",
     "name": "stderr",
     "text": [
      "DEBUG flwr 2023-04-13 20:24:50,192 | server.py:229 | fit_round 27 received 2 results and 0 failures\n"
     ]
    },
    {
     "output_type": "stream",
     "name": "stdout",
     "text": [
      "\t {'train_loss': 0.07009131833910942, 'train_accuracy': 1.0}\n"
     ]
    },
    {
     "output_type": "stream",
     "name": "stderr",
     "text": [
      "INFO flwr 2023-04-13 20:24:59,963 | server.py:116 | fit progress: (27, 6.415996551513672, {'test_loss': 6.415996551513672, 'test_accuracy': 0.73}, 5875.8531372)\n",
      "DEBUG flwr 2023-04-13 20:24:59,964 | server.py:165 | evaluate_round 27: strategy sampled 2 clients (out of 5)\n",
      "DEBUG flwr 2023-04-13 20:25:10,890 | server.py:179 | evaluate_round 27 received 2 results and 0 failures\n",
      "DEBUG flwr 2023-04-13 20:25:10,891 | server.py:215 | fit_round 28: strategy sampled 2 clients (out of 5)\n"
     ]
    },
    {
     "output_type": "stream",
     "name": "stdout",
     "text": [
      "\t {'val_loss': 1.474986970424652, 'val_accuracy': 0.7250000000000001}\n"
     ]
    },
    {
     "output_type": "stream",
     "name": "stderr",
     "text": [
      "DEBUG flwr 2023-04-13 20:28:27,326 | server.py:229 | fit_round 28 received 2 results and 0 failures\n"
     ]
    },
    {
     "output_type": "stream",
     "name": "stdout",
     "text": [
      "\t {'train_loss': 0.10376657359302044, 'train_accuracy': 1.0}\n"
     ]
    },
    {
     "output_type": "stream",
     "name": "stderr",
     "text": [
      "INFO flwr 2023-04-13 20:28:37,112 | server.py:116 | fit progress: (28, 6.122835636138916, {'test_loss': 6.122835636138916, 'test_accuracy': 0.76}, 6093.0017118000005)\n",
      "DEBUG flwr 2023-04-13 20:28:37,113 | server.py:165 | evaluate_round 28: strategy sampled 2 clients (out of 5)\n",
      "DEBUG flwr 2023-04-13 20:28:48,043 | server.py:179 | evaluate_round 28 received 2 results and 0 failures\n",
      "DEBUG flwr 2023-04-13 20:28:48,043 | server.py:215 | fit_round 29: strategy sampled 2 clients (out of 5)\n"
     ]
    },
    {
     "output_type": "stream",
     "name": "stdout",
     "text": [
      "\t {'val_loss': 1.296771764755249, 'val_accuracy': 0.7250000000000001}\n"
     ]
    },
    {
     "output_type": "stream",
     "name": "stderr",
     "text": [
      "DEBUG flwr 2023-04-13 20:32:05,469 | server.py:229 | fit_round 29 received 2 results and 0 failures\n"
     ]
    },
    {
     "output_type": "stream",
     "name": "stdout",
     "text": [
      "\t {'train_loss': 0.06085873581469059, 'train_accuracy': 1.0}\n"
     ]
    },
    {
     "output_type": "stream",
     "name": "stderr",
     "text": [
      "INFO flwr 2023-04-13 20:32:15,555 | server.py:116 | fit progress: (29, 6.167329788208008, {'test_loss': 6.167329788208008, 'test_accuracy': 0.74}, 6311.4450852)\n",
      "DEBUG flwr 2023-04-13 20:32:15,556 | server.py:165 | evaluate_round 29: strategy sampled 2 clients (out of 5)\n",
      "DEBUG flwr 2023-04-13 20:32:26,347 | server.py:179 | evaluate_round 29 received 2 results and 0 failures\n",
      "DEBUG flwr 2023-04-13 20:32:26,348 | server.py:215 | fit_round 30: strategy sampled 2 clients (out of 5)\n"
     ]
    },
    {
     "output_type": "stream",
     "name": "stdout",
     "text": [
      "\t {'val_loss': 1.5325413942337036, 'val_accuracy': 0.775}\n"
     ]
    },
    {
     "output_type": "stream",
     "name": "stderr",
     "text": [
      "DEBUG flwr 2023-04-13 20:35:43,538 | server.py:229 | fit_round 30 received 2 results and 0 failures\n"
     ]
    },
    {
     "output_type": "stream",
     "name": "stdout",
     "text": [
      "\t {'train_loss': 0.03553500212728977, 'train_accuracy': 1.0}\n"
     ]
    },
    {
     "output_type": "stream",
     "name": "stderr",
     "text": [
      "INFO flwr 2023-04-13 20:35:53,344 | server.py:116 | fit progress: (30, 5.822239875793457, {'test_loss': 5.822239875793457, 'test_accuracy': 0.73}, 6529.2334326)\n",
      "DEBUG flwr 2023-04-13 20:35:53,344 | server.py:165 | evaluate_round 30: strategy sampled 2 clients (out of 5)\n",
      "DEBUG flwr 2023-04-13 20:36:04,208 | server.py:179 | evaluate_round 30 received 2 results and 0 failures\n",
      "DEBUG flwr 2023-04-13 20:36:04,209 | server.py:215 | fit_round 31: strategy sampled 2 clients (out of 5)\n"
     ]
    },
    {
     "output_type": "stream",
     "name": "stdout",
     "text": [
      "\t {'val_loss': 1.4042964577674866, 'val_accuracy': 0.75}\n"
     ]
    },
    {
     "output_type": "stream",
     "name": "stderr",
     "text": [
      "DEBUG flwr 2023-04-13 20:39:21,665 | server.py:229 | fit_round 31 received 2 results and 0 failures\n"
     ]
    },
    {
     "output_type": "stream",
     "name": "stdout",
     "text": [
      "\t {'train_loss': 0.0561269111931324, 'train_accuracy': 1.0}\n"
     ]
    },
    {
     "output_type": "stream",
     "name": "stderr",
     "text": [
      "INFO flwr 2023-04-13 20:39:31,439 | server.py:116 | fit progress: (31, 5.836785316467285, {'test_loss': 5.836785316467285, 'test_accuracy': 0.75}, 6747.3284098)\n",
      "DEBUG flwr 2023-04-13 20:39:31,440 | server.py:165 | evaluate_round 31: strategy sampled 2 clients (out of 5)\n",
      "DEBUG flwr 2023-04-13 20:39:42,236 | server.py:179 | evaluate_round 31 received 2 results and 0 failures\n",
      "DEBUG flwr 2023-04-13 20:39:42,237 | server.py:215 | fit_round 32: strategy sampled 2 clients (out of 5)\n"
     ]
    },
    {
     "output_type": "stream",
     "name": "stdout",
     "text": [
      "\t {'val_loss': 1.096932291984558, 'val_accuracy': 0.775}\n"
     ]
    },
    {
     "output_type": "stream",
     "name": "stderr",
     "text": [
      "DEBUG flwr 2023-04-13 20:42:58,886 | server.py:229 | fit_round 32 received 2 results and 0 failures\n"
     ]
    },
    {
     "output_type": "stream",
     "name": "stdout",
     "text": [
      "\t {'train_loss': 0.032036058604717255, 'train_accuracy': 1.0}\n"
     ]
    },
    {
     "output_type": "stream",
     "name": "stderr",
     "text": [
      "INFO flwr 2023-04-13 20:43:08,580 | server.py:116 | fit progress: (32, 5.566116809844971, {'test_loss': 5.566116809844971, 'test_accuracy': 0.79}, 6964.4692651000005)\n",
      "DEBUG flwr 2023-04-13 20:43:08,580 | server.py:165 | evaluate_round 32: strategy sampled 2 clients (out of 5)\n",
      "DEBUG flwr 2023-04-13 20:43:19,352 | server.py:179 | evaluate_round 32 received 2 results and 0 failures\n",
      "DEBUG flwr 2023-04-13 20:43:19,353 | server.py:215 | fit_round 33: strategy sampled 2 clients (out of 5)\n"
     ]
    },
    {
     "output_type": "stream",
     "name": "stdout",
     "text": [
      "\t {'val_loss': 1.3882750272750854, 'val_accuracy': 0.8}\n"
     ]
    },
    {
     "output_type": "stream",
     "name": "stderr",
     "text": [
      "DEBUG flwr 2023-04-13 20:46:36,079 | server.py:229 | fit_round 33 received 2 results and 0 failures\n"
     ]
    },
    {
     "output_type": "stream",
     "name": "stdout",
     "text": [
      "\t {'train_loss': 0.018388894386589527, 'train_accuracy': 1.0}\n"
     ]
    },
    {
     "output_type": "stream",
     "name": "stderr",
     "text": [
      "INFO flwr 2023-04-13 20:46:45,804 | server.py:116 | fit progress: (33, 5.4830121994018555, {'test_loss': 5.4830121994018555, 'test_accuracy': 0.76}, 7181.6934737)\n",
      "DEBUG flwr 2023-04-13 20:46:45,805 | server.py:165 | evaluate_round 33: strategy sampled 2 clients (out of 5)\n",
      "DEBUG flwr 2023-04-13 20:46:56,594 | server.py:179 | evaluate_round 33 received 2 results and 0 failures\n",
      "DEBUG flwr 2023-04-13 20:46:56,595 | server.py:215 | fit_round 34: strategy sampled 2 clients (out of 5)\n"
     ]
    },
    {
     "output_type": "stream",
     "name": "stdout",
     "text": [
      "\t {'val_loss': 1.1381037831306458, 'val_accuracy': 0.775}\n"
     ]
    },
    {
     "output_type": "stream",
     "name": "stderr",
     "text": [
      "DEBUG flwr 2023-04-13 20:50:15,106 | server.py:229 | fit_round 34 received 2 results and 0 failures\n"
     ]
    },
    {
     "output_type": "stream",
     "name": "stdout",
     "text": [
      "\t {'train_loss': 0.012126622255891562, 'train_accuracy': 1.0}\n"
     ]
    },
    {
     "output_type": "stream",
     "name": "stderr",
     "text": [
      "INFO flwr 2023-04-13 20:50:24,803 | server.py:116 | fit progress: (34, 5.6128997802734375, {'test_loss': 5.6128997802734375, 'test_accuracy': 0.77}, 7400.6924592000005)\n",
      "DEBUG flwr 2023-04-13 20:50:24,804 | server.py:165 | evaluate_round 34: strategy sampled 2 clients (out of 5)\n",
      "DEBUG flwr 2023-04-13 20:50:35,727 | server.py:179 | evaluate_round 34 received 2 results and 0 failures\n",
      "DEBUG flwr 2023-04-13 20:50:35,728 | server.py:215 | fit_round 35: strategy sampled 2 clients (out of 5)\n"
     ]
    },
    {
     "output_type": "stream",
     "name": "stdout",
     "text": [
      "\t {'val_loss': 0.9322041273117065, 'val_accuracy': 0.8}\n"
     ]
    },
    {
     "output_type": "stream",
     "name": "stderr",
     "text": [
      "DEBUG flwr 2023-04-13 20:53:53,129 | server.py:229 | fit_round 35 received 2 results and 0 failures\n"
     ]
    },
    {
     "output_type": "stream",
     "name": "stdout",
     "text": [
      "\t {'train_loss': 0.021155661204829812, 'train_accuracy': 1.0}\n"
     ]
    },
    {
     "output_type": "stream",
     "name": "stderr",
     "text": [
      "INFO flwr 2023-04-13 20:54:02,985 | server.py:116 | fit progress: (35, 5.580681800842285, {'test_loss': 5.580681800842285, 'test_accuracy': 0.77}, 7618.8748916)\n",
      "DEBUG flwr 2023-04-13 20:54:02,986 | server.py:165 | evaluate_round 35: strategy sampled 2 clients (out of 5)\n",
      "DEBUG flwr 2023-04-13 20:54:13,816 | server.py:179 | evaluate_round 35 received 2 results and 0 failures\n",
      "DEBUG flwr 2023-04-13 20:54:13,816 | server.py:215 | fit_round 36: strategy sampled 2 clients (out of 5)\n"
     ]
    },
    {
     "output_type": "stream",
     "name": "stdout",
     "text": [
      "\t {'val_loss': 1.4333551526069641, 'val_accuracy': 0.725}\n"
     ]
    },
    {
     "output_type": "stream",
     "name": "stderr",
     "text": [
      "DEBUG flwr 2023-04-13 20:57:30,322 | server.py:229 | fit_round 36 received 2 results and 0 failures\n"
     ]
    },
    {
     "output_type": "stream",
     "name": "stdout",
     "text": [
      "\t {'train_loss': 0.014154355973005295, 'train_accuracy': 1.0}\n"
     ]
    },
    {
     "output_type": "stream",
     "name": "stderr",
     "text": [
      "INFO flwr 2023-04-13 20:57:40,181 | server.py:116 | fit progress: (36, 5.538233757019043, {'test_loss': 5.538233757019043, 'test_accuracy': 0.77}, 7836.070268500001)\n",
      "DEBUG flwr 2023-04-13 20:57:40,181 | server.py:165 | evaluate_round 36: strategy sampled 2 clients (out of 5)\n",
      "DEBUG flwr 2023-04-13 20:57:50,988 | server.py:179 | evaluate_round 36 received 2 results and 0 failures\n",
      "DEBUG flwr 2023-04-13 20:57:50,988 | server.py:215 | fit_round 37: strategy sampled 2 clients (out of 5)\n"
     ]
    },
    {
     "output_type": "stream",
     "name": "stdout",
     "text": [
      "\t {'val_loss': 1.0670570731163025, 'val_accuracy': 0.775}\n"
     ]
    },
    {
     "output_type": "stream",
     "name": "stderr",
     "text": [
      "DEBUG flwr 2023-04-13 21:01:08,377 | server.py:229 | fit_round 37 received 2 results and 0 failures\n"
     ]
    },
    {
     "output_type": "stream",
     "name": "stdout",
     "text": [
      "\t {'train_loss': 0.0038173667853698134, 'train_accuracy': 1.0}\n"
     ]
    },
    {
     "output_type": "stream",
     "name": "stderr",
     "text": [
      "INFO flwr 2023-04-13 21:01:18,131 | server.py:116 | fit progress: (37, 5.444214344024658, {'test_loss': 5.444214344024658, 'test_accuracy': 0.76}, 8054.0204931)\n",
      "DEBUG flwr 2023-04-13 21:01:18,133 | server.py:165 | evaluate_round 37: strategy sampled 2 clients (out of 5)\n",
      "DEBUG flwr 2023-04-13 21:01:29,001 | server.py:179 | evaluate_round 37 received 2 results and 0 failures\n",
      "DEBUG flwr 2023-04-13 21:01:29,001 | server.py:215 | fit_round 38: strategy sampled 2 clients (out of 5)\n"
     ]
    },
    {
     "output_type": "stream",
     "name": "stdout",
     "text": [
      "\t {'val_loss': 0.929514080286026, 'val_accuracy': 0.8500000000000001}\n"
     ]
    },
    {
     "output_type": "stream",
     "name": "stderr",
     "text": [
      "DEBUG flwr 2023-04-13 21:04:46,514 | server.py:229 | fit_round 38 received 2 results and 0 failures\n"
     ]
    },
    {
     "output_type": "stream",
     "name": "stdout",
     "text": [
      "\t {'train_loss': 0.004926766036078334, 'train_accuracy': 1.0}\n"
     ]
    },
    {
     "output_type": "stream",
     "name": "stderr",
     "text": [
      "INFO flwr 2023-04-13 21:04:56,288 | server.py:116 | fit progress: (38, 5.407718181610107, {'test_loss': 5.407718181610107, 'test_accuracy': 0.77}, 8272.1771966)\n",
      "DEBUG flwr 2023-04-13 21:04:56,288 | server.py:165 | evaluate_round 38: strategy sampled 2 clients (out of 5)\n",
      "DEBUG flwr 2023-04-13 21:05:07,206 | server.py:179 | evaluate_round 38 received 2 results and 0 failures\n",
      "DEBUG flwr 2023-04-13 21:05:07,207 | server.py:215 | fit_round 39: strategy sampled 2 clients (out of 5)\n"
     ]
    },
    {
     "output_type": "stream",
     "name": "stdout",
     "text": [
      "\t {'val_loss': 1.2432519793510437, 'val_accuracy': 0.775}\n"
     ]
    },
    {
     "output_type": "stream",
     "name": "stderr",
     "text": [
      "DEBUG flwr 2023-04-13 21:08:24,650 | server.py:229 | fit_round 39 received 2 results and 0 failures\n"
     ]
    },
    {
     "output_type": "stream",
     "name": "stdout",
     "text": [
      "\t {'train_loss': 0.004558776272460818, 'train_accuracy': 1.0}\n"
     ]
    },
    {
     "output_type": "stream",
     "name": "stderr",
     "text": [
      "INFO flwr 2023-04-13 21:08:34,588 | server.py:116 | fit progress: (39, 5.431478500366211, {'test_loss': 5.431478500366211, 'test_accuracy': 0.74}, 8490.4779831)\n",
      "DEBUG flwr 2023-04-13 21:08:34,589 | server.py:165 | evaluate_round 39: strategy sampled 2 clients (out of 5)\n",
      "DEBUG flwr 2023-04-13 21:08:45,317 | server.py:179 | evaluate_round 39 received 2 results and 0 failures\n",
      "DEBUG flwr 2023-04-13 21:08:45,318 | server.py:215 | fit_round 40: strategy sampled 2 clients (out of 5)\n"
     ]
    },
    {
     "output_type": "stream",
     "name": "stdout",
     "text": [
      "\t {'val_loss': 1.1672236323356628, 'val_accuracy': 0.775}\n"
     ]
    },
    {
     "output_type": "stream",
     "name": "stderr",
     "text": [
      "DEBUG flwr 2023-04-13 21:12:02,347 | server.py:229 | fit_round 40 received 2 results and 0 failures\n"
     ]
    },
    {
     "output_type": "stream",
     "name": "stdout",
     "text": [
      "\t {'train_loss': 0.004480622126720846, 'train_accuracy': 1.0}\n"
     ]
    },
    {
     "output_type": "stream",
     "name": "stderr",
     "text": [
      "INFO flwr 2023-04-13 21:12:12,074 | server.py:116 | fit progress: (40, 5.194753646850586, {'test_loss': 5.194753646850586, 'test_accuracy': 0.79}, 8707.963849599999)\n",
      "DEBUG flwr 2023-04-13 21:12:12,075 | server.py:165 | evaluate_round 40: strategy sampled 2 clients (out of 5)\n",
      "DEBUG flwr 2023-04-13 21:12:23,071 | server.py:179 | evaluate_round 40 received 2 results and 0 failures\n",
      "DEBUG flwr 2023-04-13 21:12:23,072 | server.py:215 | fit_round 41: strategy sampled 2 clients (out of 5)\n"
     ]
    },
    {
     "output_type": "stream",
     "name": "stdout",
     "text": [
      "\t {'val_loss': 0.8677812814712524, 'val_accuracy': 0.825}\n"
     ]
    },
    {
     "output_type": "stream",
     "name": "stderr",
     "text": [
      "DEBUG flwr 2023-04-13 21:15:40,065 | server.py:229 | fit_round 41 received 2 results and 0 failures\n"
     ]
    },
    {
     "output_type": "stream",
     "name": "stdout",
     "text": [
      "\t {'train_loss': 0.0017375402967445552, 'train_accuracy': 1.0}\n"
     ]
    },
    {
     "output_type": "stream",
     "name": "stderr",
     "text": [
      "INFO flwr 2023-04-13 21:15:49,979 | server.py:116 | fit progress: (41, 5.349611282348633, {'test_loss': 5.349611282348633, 'test_accuracy': 0.8}, 8925.8684574)\n",
      "DEBUG flwr 2023-04-13 21:15:49,979 | server.py:165 | evaluate_round 41: strategy sampled 2 clients (out of 5)\n",
      "DEBUG flwr 2023-04-13 21:16:00,808 | server.py:179 | evaluate_round 41 received 2 results and 0 failures\n",
      "DEBUG flwr 2023-04-13 21:16:00,808 | server.py:215 | fit_round 42: strategy sampled 2 clients (out of 5)\n"
     ]
    },
    {
     "output_type": "stream",
     "name": "stdout",
     "text": [
      "\t {'val_loss': 0.9436964392662048, 'val_accuracy': 0.775}\n"
     ]
    },
    {
     "output_type": "stream",
     "name": "stderr",
     "text": [
      "DEBUG flwr 2023-04-13 21:19:18,372 | server.py:229 | fit_round 42 received 2 results and 0 failures\n"
     ]
    },
    {
     "output_type": "stream",
     "name": "stdout",
     "text": [
      "\t {'train_loss': 0.00174934504320845, 'train_accuracy': 1.0}\n"
     ]
    },
    {
     "output_type": "stream",
     "name": "stderr",
     "text": [
      "INFO flwr 2023-04-13 21:19:28,036 | server.py:116 | fit progress: (42, 5.1226935386657715, {'test_loss': 5.1226935386657715, 'test_accuracy': 0.78}, 9143.925355399999)\n",
      "DEBUG flwr 2023-04-13 21:19:28,036 | server.py:165 | evaluate_round 42: strategy sampled 2 clients (out of 5)\n",
      "DEBUG flwr 2023-04-13 21:19:38,776 | server.py:179 | evaluate_round 42 received 2 results and 0 failures\n",
      "DEBUG flwr 2023-04-13 21:19:38,776 | server.py:215 | fit_round 43: strategy sampled 2 clients (out of 5)\n"
     ]
    },
    {
     "output_type": "stream",
     "name": "stdout",
     "text": [
      "\t {'val_loss': 1.0200040638446808, 'val_accuracy': 0.775}\n"
     ]
    },
    {
     "output_type": "stream",
     "name": "stderr",
     "text": [
      "DEBUG flwr 2023-04-13 21:22:55,945 | server.py:229 | fit_round 43 received 2 results and 0 failures\n"
     ]
    },
    {
     "output_type": "stream",
     "name": "stdout",
     "text": [
      "\t {'train_loss': 0.0011984253651462495, 'train_accuracy': 1.0}\n"
     ]
    },
    {
     "output_type": "stream",
     "name": "stderr",
     "text": [
      "INFO flwr 2023-04-13 21:23:05,670 | server.py:116 | fit progress: (43, 5.096604347229004, {'test_loss': 5.096604347229004, 'test_accuracy': 0.77}, 9361.5602644)\n",
      "DEBUG flwr 2023-04-13 21:23:05,671 | server.py:165 | evaluate_round 43: strategy sampled 2 clients (out of 5)\n",
      "DEBUG flwr 2023-04-13 21:23:16,689 | server.py:179 | evaluate_round 43 received 2 results and 0 failures\n",
      "DEBUG flwr 2023-04-13 21:23:16,689 | server.py:215 | fit_round 44: strategy sampled 2 clients (out of 5)\n"
     ]
    },
    {
     "output_type": "stream",
     "name": "stdout",
     "text": [
      "\t {'val_loss': 0.8453201651573181, 'val_accuracy': 0.825}\n"
     ]
    },
    {
     "output_type": "stream",
     "name": "stderr",
     "text": [
      "DEBUG flwr 2023-04-13 21:26:34,314 | server.py:229 | fit_round 44 received 2 results and 0 failures\n"
     ]
    },
    {
     "output_type": "stream",
     "name": "stdout",
     "text": [
      "\t {'train_loss': 0.0011492735357023776, 'train_accuracy': 1.0}\n"
     ]
    },
    {
     "output_type": "stream",
     "name": "stderr",
     "text": [
      "INFO flwr 2023-04-13 21:26:43,967 | server.py:116 | fit progress: (44, 5.166051864624023, {'test_loss': 5.166051864624023, 'test_accuracy': 0.79}, 9579.857019399999)\n",
      "DEBUG flwr 2023-04-13 21:26:43,968 | server.py:165 | evaluate_round 44: strategy sampled 2 clients (out of 5)\n",
      "DEBUG flwr 2023-04-13 21:26:54,987 | server.py:179 | evaluate_round 44 received 2 results and 0 failures\n",
      "DEBUG flwr 2023-04-13 21:26:54,988 | server.py:215 | fit_round 45: strategy sampled 2 clients (out of 5)\n"
     ]
    },
    {
     "output_type": "stream",
     "name": "stdout",
     "text": [
      "\t {'val_loss': 0.8600171506404877, 'val_accuracy': 0.825}\n"
     ]
    },
    {
     "output_type": "stream",
     "name": "stderr",
     "text": [
      "DEBUG flwr 2023-04-13 21:30:12,327 | server.py:229 | fit_round 45 received 2 results and 0 failures\n"
     ]
    },
    {
     "output_type": "stream",
     "name": "stdout",
     "text": [
      "\t {'train_loss': 0.0006243008538149297, 'train_accuracy': 1.0}\n"
     ]
    },
    {
     "output_type": "stream",
     "name": "stderr",
     "text": [
      "INFO flwr 2023-04-13 21:30:22,196 | server.py:116 | fit progress: (45, 4.901430130004883, {'test_loss': 4.901430130004883, 'test_accuracy': 0.8}, 9798.085617199999)\n",
      "DEBUG flwr 2023-04-13 21:30:22,197 | server.py:165 | evaluate_round 45: strategy sampled 2 clients (out of 5)\n",
      "DEBUG flwr 2023-04-13 21:30:33,050 | server.py:179 | evaluate_round 45 received 2 results and 0 failures\n",
      "DEBUG flwr 2023-04-13 21:30:33,051 | server.py:215 | fit_round 46: strategy sampled 2 clients (out of 5)\n"
     ]
    },
    {
     "output_type": "stream",
     "name": "stdout",
     "text": [
      "\t {'val_loss': 1.0653017163276672, 'val_accuracy': 0.75}\n"
     ]
    },
    {
     "output_type": "stream",
     "name": "stderr",
     "text": [
      "DEBUG flwr 2023-04-13 21:33:49,342 | server.py:229 | fit_round 46 received 2 results and 0 failures\n"
     ]
    },
    {
     "output_type": "stream",
     "name": "stdout",
     "text": [
      "\t {'train_loss': 0.0004887890536338091, 'train_accuracy': 1.0}\n"
     ]
    },
    {
     "output_type": "stream",
     "name": "stderr",
     "text": [
      "INFO flwr 2023-04-13 21:33:59,062 | server.py:116 | fit progress: (46, 4.964044094085693, {'test_loss': 4.964044094085693, 'test_accuracy': 0.77}, 10014.951844899999)\n",
      "DEBUG flwr 2023-04-13 21:33:59,063 | server.py:165 | evaluate_round 46: strategy sampled 2 clients (out of 5)\n",
      "DEBUG flwr 2023-04-13 21:34:09,796 | server.py:179 | evaluate_round 46 received 2 results and 0 failures\n",
      "DEBUG flwr 2023-04-13 21:34:09,797 | server.py:215 | fit_round 47: strategy sampled 2 clients (out of 5)\n"
     ]
    },
    {
     "output_type": "stream",
     "name": "stdout",
     "text": [
      "\t {'val_loss': 1.1648979187011719, 'val_accuracy': 0.75}\n"
     ]
    },
    {
     "output_type": "stream",
     "name": "stderr",
     "text": [
      "DEBUG flwr 2023-04-13 21:37:26,954 | server.py:229 | fit_round 47 received 2 results and 0 failures\n"
     ]
    },
    {
     "output_type": "stream",
     "name": "stdout",
     "text": [
      "\t {'train_loss': 0.0014269441380747594, 'train_accuracy': 1.0}\n"
     ]
    },
    {
     "output_type": "stream",
     "name": "stderr",
     "text": [
      "INFO flwr 2023-04-13 21:37:36,780 | server.py:116 | fit progress: (47, 5.037927150726318, {'test_loss': 5.037927150726318, 'test_accuracy': 0.77}, 10232.6689751)\n",
      "DEBUG flwr 2023-04-13 21:37:36,780 | server.py:165 | evaluate_round 47: strategy sampled 2 clients (out of 5)\n",
      "DEBUG flwr 2023-04-13 21:37:47,666 | server.py:179 | evaluate_round 47 received 2 results and 0 failures\n",
      "DEBUG flwr 2023-04-13 21:37:47,667 | server.py:215 | fit_round 48: strategy sampled 2 clients (out of 5)\n"
     ]
    },
    {
     "output_type": "stream",
     "name": "stdout",
     "text": [
      "\t {'val_loss': 0.9536535441875458, 'val_accuracy': 0.8}\n"
     ]
    },
    {
     "output_type": "stream",
     "name": "stderr",
     "text": [
      "DEBUG flwr 2023-04-13 21:41:04,453 | server.py:229 | fit_round 48 received 2 results and 0 failures\n"
     ]
    },
    {
     "output_type": "stream",
     "name": "stdout",
     "text": [
      "\t {'train_loss': 0.00023187715123640373, 'train_accuracy': 1.0}\n"
     ]
    },
    {
     "output_type": "stream",
     "name": "stderr",
     "text": [
      "INFO flwr 2023-04-13 21:41:14,115 | server.py:116 | fit progress: (48, 4.946774482727051, {'test_loss': 4.946774482727051, 'test_accuracy': 0.79}, 10450.0048957)\n",
      "DEBUG flwr 2023-04-13 21:41:14,116 | server.py:165 | evaluate_round 48: strategy sampled 2 clients (out of 5)\n",
      "DEBUG flwr 2023-04-13 21:41:25,026 | server.py:179 | evaluate_round 48 received 2 results and 0 failures\n",
      "DEBUG flwr 2023-04-13 21:41:25,026 | server.py:215 | fit_round 49: strategy sampled 2 clients (out of 5)\n"
     ]
    },
    {
     "output_type": "stream",
     "name": "stdout",
     "text": [
      "\t {'val_loss': 1.06118705868721, 'val_accuracy': 0.75}\n"
     ]
    },
    {
     "output_type": "stream",
     "name": "stderr",
     "text": [
      "DEBUG flwr 2023-04-13 21:44:42,100 | server.py:229 | fit_round 49 received 2 results and 0 failures\n"
     ]
    },
    {
     "output_type": "stream",
     "name": "stdout",
     "text": [
      "\t {'train_loss': 0.0002646938373800367, 'train_accuracy': 1.0}\n"
     ]
    },
    {
     "output_type": "stream",
     "name": "stderr",
     "text": [
      "INFO flwr 2023-04-13 21:44:51,984 | server.py:116 | fit progress: (49, 4.954598903656006, {'test_loss': 4.954598903656006, 'test_accuracy': 0.79}, 10667.8736803)\n",
      "DEBUG flwr 2023-04-13 21:44:51,985 | server.py:165 | evaluate_round 49: strategy sampled 2 clients (out of 5)\n",
      "DEBUG flwr 2023-04-13 21:45:02,807 | server.py:179 | evaluate_round 49 received 2 results and 0 failures\n",
      "DEBUG flwr 2023-04-13 21:45:02,808 | server.py:215 | fit_round 50: strategy sampled 2 clients (out of 5)\n"
     ]
    },
    {
     "output_type": "stream",
     "name": "stdout",
     "text": [
      "\t {'val_loss': 0.7724491655826569, 'val_accuracy': 0.825}\n"
     ]
    },
    {
     "output_type": "stream",
     "name": "stderr",
     "text": [
      "DEBUG flwr 2023-04-13 21:48:20,082 | server.py:229 | fit_round 50 received 2 results and 0 failures\n"
     ]
    },
    {
     "output_type": "stream",
     "name": "stdout",
     "text": [
      "\t {'train_loss': 0.000244428105361294, 'train_accuracy': 1.0}\n"
     ]
    },
    {
     "output_type": "stream",
     "name": "stderr",
     "text": [
      "INFO flwr 2023-04-13 21:48:29,788 | server.py:116 | fit progress: (50, 4.960020065307617, {'test_loss': 4.960020065307617, 'test_accuracy': 0.78}, 10885.6778411)\n",
      "DEBUG flwr 2023-04-13 21:48:29,789 | server.py:165 | evaluate_round 50: strategy sampled 2 clients (out of 5)\n",
      "DEBUG flwr 2023-04-13 21:48:40,483 | server.py:179 | evaluate_round 50 received 2 results and 0 failures\n",
      "INFO flwr 2023-04-13 21:48:40,483 | server.py:144 | FL finished in 10896.373155\n",
      "INFO flwr 2023-04-13 21:48:40,504 | app.py:202 | app_fit: losses_distributed [(1, 4.529581785202026), (2, 4.067659854888916), (3, 3.9676239490509033), (4, 3.8174740076065063), (5, 3.4815833568573), (6, 3.3053712844848633), (7, 2.983648419380188), (8, 2.7974518537521362), (9, 3.1322197914123535), (10, 2.535625457763672), (11, 2.575514793395996), (12, 2.6980464458465576), (13, 2.0861806869506836), (14, 2.2552226781845093), (15, 2.0231739282608032), (16, 1.8719972372055054), (17, 1.7161826491355896), (18, 1.931916892528534), (19, 1.9975284934043884), (20, 1.499831736087799), (21, 1.469220757484436), (22, 1.5392639636993408), (23, 1.4011817574501038), (24, 1.4668594002723694), (25, 1.5769685506820679), (26, 1.1399229764938354), (27, 1.474986970424652), (28, 1.296771764755249), (29, 1.5325413942337036), (30, 1.4042964577674866), (31, 1.096932291984558), (32, 1.3882750272750854), (33, 1.1381037831306458), (34, 0.9322041273117065), (35, 1.4333551526069641), (36, 1.0670570731163025), (37, 0.929514080286026), (38, 1.2432519793510437), (39, 1.1672236323356628), (40, 0.8677812814712524), (41, 0.9436964392662048), (42, 1.0200040638446808), (43, 0.8453201651573181), (44, 0.8600171506404877), (45, 1.0653017163276672), (46, 1.1648979187011719), (47, 0.9536535441875458), (48, 1.06118705868721), (49, 0.7724491655826569), (50, 1.0644222497940063)]\n",
      "INFO flwr 2023-04-13 21:48:40,505 | app.py:203 | app_fit: metrics_distributed {'val_loss': [(1, 4.529581785202026), (2, 4.067659854888916), (3, 3.9676239490509033), (4, 3.8174740076065063), (5, 3.4815833568573), (6, 3.3053712844848633), (7, 2.983648419380188), (8, 2.7974518537521362), (9, 3.1322197914123535), (10, 2.535625457763672), (11, 2.575514793395996), (12, 2.6980464458465576), (13, 2.0861806869506836), (14, 2.2552226781845093), (15, 2.0231739282608032), (16, 1.8719972372055054), (17, 1.7161826491355896), (18, 1.931916892528534), (19, 1.9975284934043884), (20, 1.499831736087799), (21, 1.469220757484436), (22, 1.5392639636993408), (23, 1.4011817574501038), (24, 1.4668594002723694), (25, 1.5769685506820679), (26, 1.1399229764938354), (27, 1.474986970424652), (28, 1.296771764755249), (29, 1.5325413942337036), (30, 1.4042964577674866), (31, 1.096932291984558), (32, 1.3882750272750854), (33, 1.1381037831306458), (34, 0.9322041273117065), (35, 1.4333551526069641), (36, 1.0670570731163025), (37, 0.929514080286026), (38, 1.2432519793510437), (39, 1.1672236323356628), (40, 0.8677812814712524), (41, 0.9436964392662048), (42, 1.0200040638446808), (43, 0.8453201651573181), (44, 0.8600171506404877), (45, 1.0653017163276672), (46, 1.1648979187011719), (47, 0.9536535441875458), (48, 1.06118705868721), (49, 0.7724491655826569), (50, 1.0644222497940063)], 'val_accuracy': [(1, 0.075), (2, 0.25), (3, 0.25), (4, 0.2), (5, 0.375), (6, 0.375), (7, 0.525), (8, 0.525), (9, 0.375), (10, 0.5249999999999999), (11, 0.55), (12, 0.55), (13, 0.7), (14, 0.7), (15, 0.675), (16, 0.775), (17, 0.725), (18, 0.675), (19, 0.65), (20, 0.75), (21, 0.75), (22, 0.675), (23, 0.85), (24, 0.75), (25, 0.75), (26, 0.8), (27, 0.7250000000000001), (28, 0.7250000000000001), (29, 0.775), (30, 0.75), (31, 0.775), (32, 0.8), (33, 0.775), (34, 0.8), (35, 0.725), (36, 0.775), (37, 0.8500000000000001), (38, 0.775), (39, 0.775), (40, 0.825), (41, 0.775), (42, 0.775), (43, 0.825), (44, 0.825), (45, 0.75), (46, 0.75), (47, 0.8), (48, 0.75), (49, 0.825), (50, 0.8)]}\n",
      "INFO flwr 2023-04-13 21:48:40,506 | app.py:204 | app_fit: losses_centralized [(0, 19.31648063659668), (1, 18.507652282714844), (2, 17.516075134277344), (3, 16.478919982910156), (4, 15.628568649291992), (5, 14.810271263122559), (6, 14.121749877929688), (7, 13.405355453491211), (8, 12.958850860595703), (9, 12.06507682800293), (10, 11.52774429321289), (11, 10.865241050720215), (12, 10.54473876953125), (13, 9.806459426879883), (14, 9.742910385131836), (15, 9.321429252624512), (16, 8.849555015563965), (17, 8.585695266723633), (18, 8.319716453552246), (19, 7.734855651855469), (20, 7.573593616485596), (21, 7.393352508544922), (22, 7.138802528381348), (23, 7.062777519226074), (24, 6.755193710327148), (25, 6.549944877624512), (26, 6.3136444091796875), (27, 6.415996551513672), (28, 6.122835636138916), (29, 6.167329788208008), (30, 5.822239875793457), (31, 5.836785316467285), (32, 5.566116809844971), (33, 5.4830121994018555), (34, 5.6128997802734375), (35, 5.580681800842285), (36, 5.538233757019043), (37, 5.444214344024658), (38, 5.407718181610107), (39, 5.431478500366211), (40, 5.194753646850586), (41, 5.349611282348633), (42, 5.1226935386657715), (43, 5.096604347229004), (44, 5.166051864624023), (45, 4.901430130004883), (46, 4.964044094085693), (47, 5.037927150726318), (48, 4.946774482727051), (49, 4.954598903656006), (50, 4.960020065307617)]\n",
      "INFO flwr 2023-04-13 21:48:40,506 | app.py:205 | app_fit: metrics_centralized {'test_loss': [(0, 19.31648063659668), (1, 18.507652282714844), (2, 17.516075134277344), (3, 16.478919982910156), (4, 15.628568649291992), (5, 14.810271263122559), (6, 14.121749877929688), (7, 13.405355453491211), (8, 12.958850860595703), (9, 12.06507682800293), (10, 11.52774429321289), (11, 10.865241050720215), (12, 10.54473876953125), (13, 9.806459426879883), (14, 9.742910385131836), (15, 9.321429252624512), (16, 8.849555015563965), (17, 8.585695266723633), (18, 8.319716453552246), (19, 7.734855651855469), (20, 7.573593616485596), (21, 7.393352508544922), (22, 7.138802528381348), (23, 7.062777519226074), (24, 6.755193710327148), (25, 6.549944877624512), (26, 6.3136444091796875), (27, 6.415996551513672), (28, 6.122835636138916), (29, 6.167329788208008), (30, 5.822239875793457), (31, 5.836785316467285), (32, 5.566116809844971), (33, 5.4830121994018555), (34, 5.6128997802734375), (35, 5.580681800842285), (36, 5.538233757019043), (37, 5.444214344024658), (38, 5.407718181610107), (39, 5.431478500366211), (40, 5.194753646850586), (41, 5.349611282348633), (42, 5.1226935386657715), (43, 5.096604347229004), (44, 5.166051864624023), (45, 4.901430130004883), (46, 4.964044094085693), (47, 5.037927150726318), (48, 4.946774482727051), (49, 4.954598903656006), (50, 4.960020065307617)], 'test_accuracy': [(0, 0.02), (1, 0.04), (2, 0.08), (3, 0.15), (4, 0.24), (5, 0.31), (6, 0.35), (7, 0.37), (8, 0.39), (9, 0.44), (10, 0.5), (11, 0.55), (12, 0.53), (13, 0.6), (14, 0.62), (15, 0.63), (16, 0.64), (17, 0.65), (18, 0.64), (19, 0.66), (20, 0.71), (21, 0.7), (22, 0.72), (23, 0.7), (24, 0.72), (25, 0.72), (26, 0.73), (27, 0.73), (28, 0.76), (29, 0.74), (30, 0.73), (31, 0.75), (32, 0.79), (33, 0.76), (34, 0.77), (35, 0.77), (36, 0.77), (37, 0.76), (38, 0.77), (39, 0.74), (40, 0.79), (41, 0.8), (42, 0.78), (43, 0.77), (44, 0.79), (45, 0.8), (46, 0.77), (47, 0.77), (48, 0.79), (49, 0.79), (50, 0.78)]}\n"
     ]
    },
    {
     "output_type": "stream",
     "name": "stdout",
     "text": [
      "\t {'val_loss': 1.0644222497940063, 'val_accuracy': 0.8}\n"
     ]
    },
    {
     "output_type": "execute_result",
     "data": {
      "text/plain": [
       "History (loss, distributed):\n",
       "\tround 1: 4.529581785202026\n",
       "\tround 2: 4.067659854888916\n",
       "\tround 3: 3.9676239490509033\n",
       "\tround 4: 3.8174740076065063\n",
       "\tround 5: 3.4815833568573\n",
       "\tround 6: 3.3053712844848633\n",
       "\tround 7: 2.983648419380188\n",
       "\tround 8: 2.7974518537521362\n",
       "\tround 9: 3.1322197914123535\n",
       "\tround 10: 2.535625457763672\n",
       "\tround 11: 2.575514793395996\n",
       "\tround 12: 2.6980464458465576\n",
       "\tround 13: 2.0861806869506836\n",
       "\tround 14: 2.2552226781845093\n",
       "\tround 15: 2.0231739282608032\n",
       "\tround 16: 1.8719972372055054\n",
       "\tround 17: 1.7161826491355896\n",
       "\tround 18: 1.931916892528534\n",
       "\tround 19: 1.9975284934043884\n",
       "\tround 20: 1.499831736087799\n",
       "\tround 21: 1.469220757484436\n",
       "\tround 22: 1.5392639636993408\n",
       "\tround 23: 1.4011817574501038\n",
       "\tround 24: 1.4668594002723694\n",
       "\tround 25: 1.5769685506820679\n",
       "\tround 26: 1.1399229764938354\n",
       "\tround 27: 1.474986970424652\n",
       "\tround 28: 1.296771764755249\n",
       "\tround 29: 1.5325413942337036\n",
       "\tround 30: 1.4042964577674866\n",
       "\tround 31: 1.096932291984558\n",
       "\tround 32: 1.3882750272750854\n",
       "\tround 33: 1.1381037831306458\n",
       "\tround 34: 0.9322041273117065\n",
       "\tround 35: 1.4333551526069641\n",
       "\tround 36: 1.0670570731163025\n",
       "\tround 37: 0.929514080286026\n",
       "\tround 38: 1.2432519793510437\n",
       "\tround 39: 1.1672236323356628\n",
       "\tround 40: 0.8677812814712524\n",
       "\tround 41: 0.9436964392662048\n",
       "\tround 42: 1.0200040638446808\n",
       "\tround 43: 0.8453201651573181\n",
       "\tround 44: 0.8600171506404877\n",
       "\tround 45: 1.0653017163276672\n",
       "\tround 46: 1.1648979187011719\n",
       "\tround 47: 0.9536535441875458\n",
       "\tround 48: 1.06118705868721\n",
       "\tround 49: 0.7724491655826569\n",
       "\tround 50: 1.0644222497940063\n",
       "History (loss, centralized):\n",
       "\tround 0: 19.31648063659668\n",
       "\tround 1: 18.507652282714844\n",
       "\tround 2: 17.516075134277344\n",
       "\tround 3: 16.478919982910156\n",
       "\tround 4: 15.628568649291992\n",
       "\tround 5: 14.810271263122559\n",
       "\tround 6: 14.121749877929688\n",
       "\tround 7: 13.405355453491211\n",
       "\tround 8: 12.958850860595703\n",
       "\tround 9: 12.06507682800293\n",
       "\tround 10: 11.52774429321289\n",
       "\tround 11: 10.865241050720215\n",
       "\tround 12: 10.54473876953125\n",
       "\tround 13: 9.806459426879883\n",
       "\tround 14: 9.742910385131836\n",
       "\tround 15: 9.321429252624512\n",
       "\tround 16: 8.849555015563965\n",
       "\tround 17: 8.585695266723633\n",
       "\tround 18: 8.319716453552246\n",
       "\tround 19: 7.734855651855469\n",
       "\tround 20: 7.573593616485596\n",
       "\tround 21: 7.393352508544922\n",
       "\tround 22: 7.138802528381348\n",
       "\tround 23: 7.062777519226074\n",
       "\tround 24: 6.755193710327148\n",
       "\tround 25: 6.549944877624512\n",
       "\tround 26: 6.3136444091796875\n",
       "\tround 27: 6.415996551513672\n",
       "\tround 28: 6.122835636138916\n",
       "\tround 29: 6.167329788208008\n",
       "\tround 30: 5.822239875793457\n",
       "\tround 31: 5.836785316467285\n",
       "\tround 32: 5.566116809844971\n",
       "\tround 33: 5.4830121994018555\n",
       "\tround 34: 5.6128997802734375\n",
       "\tround 35: 5.580681800842285\n",
       "\tround 36: 5.538233757019043\n",
       "\tround 37: 5.444214344024658\n",
       "\tround 38: 5.407718181610107\n",
       "\tround 39: 5.431478500366211\n",
       "\tround 40: 5.194753646850586\n",
       "\tround 41: 5.349611282348633\n",
       "\tround 42: 5.1226935386657715\n",
       "\tround 43: 5.096604347229004\n",
       "\tround 44: 5.166051864624023\n",
       "\tround 45: 4.901430130004883\n",
       "\tround 46: 4.964044094085693\n",
       "\tround 47: 5.037927150726318\n",
       "\tround 48: 4.946774482727051\n",
       "\tround 49: 4.954598903656006\n",
       "\tround 50: 4.960020065307617\n",
       "History (metrics, distributed):\n",
       "{'val_loss': [(1, 4.529581785202026), (2, 4.067659854888916), (3, 3.9676239490509033), (4, 3.8174740076065063), (5, 3.4815833568573), (6, 3.3053712844848633), (7, 2.983648419380188), (8, 2.7974518537521362), (9, 3.1322197914123535), (10, 2.535625457763672), (11, 2.575514793395996), (12, 2.6980464458465576), (13, 2.0861806869506836), (14, 2.2552226781845093), (15, 2.0231739282608032), (16, 1.8719972372055054), (17, 1.7161826491355896), (18, 1.931916892528534), (19, 1.9975284934043884), (20, 1.499831736087799), (21, 1.469220757484436), (22, 1.5392639636993408), (23, 1.4011817574501038), (24, 1.4668594002723694), (25, 1.5769685506820679), (26, 1.1399229764938354), (27, 1.474986970424652), (28, 1.296771764755249), (29, 1.5325413942337036), (30, 1.4042964577674866), (31, 1.096932291984558), (32, 1.3882750272750854), (33, 1.1381037831306458), (34, 0.9322041273117065), (35, 1.4333551526069641), (36, 1.0670570731163025), (37, 0.929514080286026), (38, 1.2432519793510437), (39, 1.1672236323356628), (40, 0.8677812814712524), (41, 0.9436964392662048), (42, 1.0200040638446808), (43, 0.8453201651573181), (44, 0.8600171506404877), (45, 1.0653017163276672), (46, 1.1648979187011719), (47, 0.9536535441875458), (48, 1.06118705868721), (49, 0.7724491655826569), (50, 1.0644222497940063)], 'val_accuracy': [(1, 0.075), (2, 0.25), (3, 0.25), (4, 0.2), (5, 0.375), (6, 0.375), (7, 0.525), (8, 0.525), (9, 0.375), (10, 0.5249999999999999), (11, 0.55), (12, 0.55), (13, 0.7), (14, 0.7), (15, 0.675), (16, 0.775), (17, 0.725), (18, 0.675), (19, 0.65), (20, 0.75), (21, 0.75), (22, 0.675), (23, 0.85), (24, 0.75), (25, 0.75), (26, 0.8), (27, 0.7250000000000001), (28, 0.7250000000000001), (29, 0.775), (30, 0.75), (31, 0.775), (32, 0.8), (33, 0.775), (34, 0.8), (35, 0.725), (36, 0.775), (37, 0.8500000000000001), (38, 0.775), (39, 0.775), (40, 0.825), (41, 0.775), (42, 0.775), (43, 0.825), (44, 0.825), (45, 0.75), (46, 0.75), (47, 0.8), (48, 0.75), (49, 0.825), (50, 0.8)]}History (metrics, centralized):\n",
       "{'test_loss': [(0, 19.31648063659668), (1, 18.507652282714844), (2, 17.516075134277344), (3, 16.478919982910156), (4, 15.628568649291992), (5, 14.810271263122559), (6, 14.121749877929688), (7, 13.405355453491211), (8, 12.958850860595703), (9, 12.06507682800293), (10, 11.52774429321289), (11, 10.865241050720215), (12, 10.54473876953125), (13, 9.806459426879883), (14, 9.742910385131836), (15, 9.321429252624512), (16, 8.849555015563965), (17, 8.585695266723633), (18, 8.319716453552246), (19, 7.734855651855469), (20, 7.573593616485596), (21, 7.393352508544922), (22, 7.138802528381348), (23, 7.062777519226074), (24, 6.755193710327148), (25, 6.549944877624512), (26, 6.3136444091796875), (27, 6.415996551513672), (28, 6.122835636138916), (29, 6.167329788208008), (30, 5.822239875793457), (31, 5.836785316467285), (32, 5.566116809844971), (33, 5.4830121994018555), (34, 5.6128997802734375), (35, 5.580681800842285), (36, 5.538233757019043), (37, 5.444214344024658), (38, 5.407718181610107), (39, 5.431478500366211), (40, 5.194753646850586), (41, 5.349611282348633), (42, 5.1226935386657715), (43, 5.096604347229004), (44, 5.166051864624023), (45, 4.901430130004883), (46, 4.964044094085693), (47, 5.037927150726318), (48, 4.946774482727051), (49, 4.954598903656006), (50, 4.960020065307617)], 'test_accuracy': [(0, 0.02), (1, 0.04), (2, 0.08), (3, 0.15), (4, 0.24), (5, 0.31), (6, 0.35), (7, 0.37), (8, 0.39), (9, 0.44), (10, 0.5), (11, 0.55), (12, 0.53), (13, 0.6), (14, 0.62), (15, 0.63), (16, 0.64), (17, 0.65), (18, 0.64), (19, 0.66), (20, 0.71), (21, 0.7), (22, 0.72), (23, 0.7), (24, 0.72), (25, 0.72), (26, 0.73), (27, 0.73), (28, 0.76), (29, 0.74), (30, 0.73), (31, 0.75), (32, 0.79), (33, 0.76), (34, 0.77), (35, 0.77), (36, 0.77), (37, 0.76), (38, 0.77), (39, 0.74), (40, 0.79), (41, 0.8), (42, 0.78), (43, 0.77), (44, 0.79), (45, 0.8), (46, 0.77), (47, 0.77), (48, 0.79), (49, 0.79), (50, 0.78)]}"
      ]
     },
     "metadata": {},
     "execution_count": 7
    }
   ],
   "metadata": {}
  }
 ],
 "nbformat": 4,
 "nbformat_minor": 2,
 "metadata": {
  "language_info": {
   "codemirror_mode": {
    "name": "ipython",
    "version": 3
   },
   "file_extension": ".py",
   "mimetype": "text/x-python",
   "name": "python",
   "nbconvert_exporter": "python",
   "pygments_lexer": "ipython3",
   "version": 3
  },
  "orig_nbformat": 4
 }
}