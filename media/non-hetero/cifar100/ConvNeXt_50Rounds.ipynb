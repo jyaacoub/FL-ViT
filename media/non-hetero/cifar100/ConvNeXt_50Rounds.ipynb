{
 "cells": [
  {
   "cell_type": "code",
   "execution_count": 1,
   "source": [
    "from typing import Dict\n",
    "import flwr as fl\n",
    "\n",
    "from flower_helpers import (create_model, get_weights, test, \n",
    "                            load_data, load_stored_tff)\n",
    "from config import  (NUM_ROUNDS, TRAIN_SIZE, VAL_PORTION, \n",
    "                    TEST_SIZE, BATCH_SIZE, LEARNING_RATE, \n",
    "                    EPOCHS, FRAC_FIT, FRAC_EVAL, MIN_FIT,\n",
    "                    MIN_EVAL, MIN_AVAIL, FIT_CONFIG_FN,\n",
    "                    NUM_CLIENTS, CLIENT_RESOURCES, NON_IID,\n",
    "                    RAY_ARGS, NUM_CLASSES, TFF_DATA_DIR, \n",
    "                    MODEL_NAME, PRE_TRAINED, DOUBLE_TRAIN)\n",
    "from client import FlowerClient"
   ],
   "outputs": [],
   "metadata": {}
  },
  {
   "cell_type": "code",
   "execution_count": 2,
   "source": [
    "if NON_IID:\n",
    "    # non-iid dataset from tff (train and test are already split)\n",
    "    trainloaders, valloaders, testloader = load_stored_tff(TFF_DATA_DIR, \n",
    "                                                           BATCH_SIZE,\n",
    "                                                           DOUBLE_TRAIN)\n",
    "else:\n",
    "    # iid dataset from huggingface\n",
    "    trainloaders, valloaders, testloader = load_data(MODEL_NAME, TEST_SIZE, \n",
    "                                                    TRAIN_SIZE, VAL_PORTION, \n",
    "                                                    BATCH_SIZE, NUM_CLIENTS, \n",
    "                                                    NUM_CLASSES)"
   ],
   "outputs": [
    {
     "output_type": "stream",
     "name": "stderr",
     "text": [
      "Found cached dataset cifar100 (C:/Users/Jean/.cache/huggingface/datasets/cifar100/cifar100/1.0.0/f365c8b725c23e8f0f8d725c3641234d9331cd2f62919d1381d1baa5b3ba3142)\n"
     ]
    },
    {
     "output_type": "display_data",
     "data": {
      "application/vnd.jupyter.widget-view+json": {
       "version_major": 2,
       "version_minor": 0,
       "model_id": "8cbc912c428348509b9887dd19608529"
      },
      "text/plain": [
       "  0%|          | 0/2 [00:00<?, ?it/s]"
      ]
     },
     "metadata": {}
    },
    {
     "output_type": "stream",
     "name": "stderr",
     "text": [
      "Loading cached shuffled indices for dataset at C:\\Users\\Jean\\.cache\\huggingface\\datasets\\cifar100\\cifar100\\1.0.0\\f365c8b725c23e8f0f8d725c3641234d9331cd2f62919d1381d1baa5b3ba3142\\cache-fa578d015bc4721c.arrow\n",
      "Loading cached shuffled indices for dataset at C:\\Users\\Jean\\.cache\\huggingface\\datasets\\cifar100\\cifar100\\1.0.0\\f365c8b725c23e8f0f8d725c3641234d9331cd2f62919d1381d1baa5b3ba3142\\cache-ebaa3534d5b9a71d.arrow\n",
      "Could not find image processor class in the image processor config or the model config. Loading based on pattern matching with the model's feature extractor configuration.\n"
     ]
    },
    {
     "output_type": "display_data",
     "data": {
      "application/vnd.jupyter.widget-view+json": {
       "version_major": 2,
       "version_minor": 0,
       "model_id": "e097069ca61e47b6bf8798e32685c483"
      },
      "text/plain": [
       "Map:   0%|          | 0/1000 [00:00<?, ? examples/s]"
      ]
     },
     "metadata": {}
    },
    {
     "output_type": "display_data",
     "data": {
      "application/vnd.jupyter.widget-view+json": {
       "version_major": 2,
       "version_minor": 0,
       "model_id": "93271a7100c642579aabf9cb04877798"
      },
      "text/plain": [
       "Map:   0%|          | 0/100 [00:00<?, ? examples/s]"
      ]
     },
     "metadata": {}
    }
   ],
   "metadata": {}
  },
  {
   "cell_type": "code",
   "execution_count": 3,
   "source": [
    "net = create_model(MODEL_NAME, NUM_CLASSES, PRE_TRAINED)\n",
    "init_weights = get_weights(net)\n",
    "MODEL_CONFIG = net.config\n",
    "# Convert the weights (np.ndarray) to parameters (bytes)\n",
    "init_param = fl.common.ndarrays_to_parameters(init_weights)\n",
    "# del the net as we don't need it anymore\n",
    "del net"
   ],
   "outputs": [],
   "metadata": {}
  },
  {
   "cell_type": "code",
   "execution_count": 4,
   "source": [
    "# server side evaluation function\n",
    "def evaluate(server_round: int, params: fl.common.NDArrays,\n",
    "             config: Dict[str, fl.common.Scalar]):\n",
    "    data_size, metrics = test(MODEL_CONFIG, params, testloader)\n",
    "    # changing the name of the metric to avoid confusion\n",
    "    metrics['test_loss'] = metrics.pop('loss')\n",
    "    metrics['test_accuracy'] = metrics.pop('accuracy')\n",
    "    return metrics['test_loss'], metrics\n",
    "\n",
    "def weighted_average_eval(metrics):\n",
    "    weighted_train_loss = 0\n",
    "    weighted_train_accuracy = 0\n",
    "    for c in metrics: # c is a tuple (num_examples, metrics) for each client\n",
    "        weighted_train_loss += c[0] * c[1]['val_loss']\n",
    "        weighted_train_accuracy += c[0] * c[1]['val_accuracy']\n",
    "    \n",
    "    aggregated_metrics = {'val_loss': weighted_train_loss / sum([c[0] for c in metrics]),\n",
    "            'val_accuracy': weighted_train_accuracy / sum([c[0] for c in metrics])}\n",
    "    print('\\t',aggregated_metrics)\n",
    "    return aggregated_metrics\n",
    "\n",
    "def weighted_average_fit(metrics):\n",
    "    # print(metrics)\n",
    "    weighted_train_loss = 0\n",
    "    weighted_train_accuracy = 0\n",
    "    for c in metrics: # c is a tuple (num_examples, metrics) for each client\n",
    "        # metrics for each epoch is included, we only need the last one\n",
    "        weighted_train_loss += c[0] * c[1]['train_loss'][-1]\n",
    "        weighted_train_accuracy += c[0] * c[1]['train_accuracy'][-1]\n",
    "    \n",
    "    aggregated_metrics = {'train_loss': weighted_train_loss / sum([c[0] for c in metrics]),\n",
    "            'train_accuracy': weighted_train_accuracy / sum([c[0] for c in metrics])}\n",
    "    print('\\t',aggregated_metrics)\n",
    "    return aggregated_metrics"
   ],
   "outputs": [],
   "metadata": {}
  },
  {
   "cell_type": "code",
   "execution_count": 5,
   "source": [
    "strategy = fl.server.strategy.FedAvg(\n",
    "    fraction_fit=FRAC_FIT,\n",
    "    fraction_evaluate=FRAC_EVAL,\n",
    "    min_fit_clients=MIN_FIT,\n",
    "    min_evaluate_clients=MIN_EVAL,\n",
    "    min_available_clients=MIN_AVAIL,\n",
    "    \n",
    "    fit_metrics_aggregation_fn=weighted_average_fit,\n",
    "    evaluate_metrics_aggregation_fn=weighted_average_eval,\n",
    "    evaluate_fn=evaluate,\n",
    "    on_fit_config_fn=FIT_CONFIG_FN,\n",
    "    \n",
    "    initial_parameters=init_param,\n",
    ")"
   ],
   "outputs": [],
   "metadata": {}
  },
  {
   "cell_type": "code",
   "execution_count": 6,
   "source": [
    "print('num clients:', NUM_CLIENTS)\n",
    "print('num rounds:', NUM_ROUNDS)\n",
    "print('--'*20)\n",
    "print('client training set size:', [len(t.dataset) for t in trainloaders])\n",
    "print('client validation set size:', [len(v.dataset) for v in valloaders])\n",
    "print('test set size:', len(testloader.dataset))\n",
    "print('--'*20)\n",
    "print('model name:', MODEL_NAME)\n",
    "print('num classes:', NUM_CLASSES)\n",
    "print('pre-trained:', PRE_TRAINED)\n",
    "print('learning rate:', LEARNING_RATE)\n",
    "print('batch size:', BATCH_SIZE)\n",
    "print('epochs:', EPOCHS)"
   ],
   "outputs": [
    {
     "output_type": "stream",
     "name": "stdout",
     "text": [
      "num clients: 5\n",
      "num rounds: 50\n",
      "----------------------------------------\n",
      "client training set size: [180, 180, 180, 180, 180]\n",
      "client validation set size: [20, 20, 20, 20, 20]\n",
      "test set size: 100\n",
      "----------------------------------------\n",
      "model name: facebook/convnext-tiny-224\n",
      "num classes: 100\n",
      "pre-trained: True\n",
      "learning rate: 0.0001\n",
      "batch size: 32\n",
      "epochs: 1\n"
     ]
    }
   ],
   "metadata": {}
  },
  {
   "cell_type": "code",
   "execution_count": 7,
   "source": [
    "fl.simulation.start_simulation(\n",
    "    client_fn=lambda cid: FlowerClient(MODEL_CONFIG, trainloaders[int(cid)], valloaders[int(cid)]),\n",
    "    num_clients=NUM_CLIENTS,\n",
    "    config=fl.server.ServerConfig(num_rounds=NUM_ROUNDS),\n",
    "    strategy=strategy,\n",
    "    client_resources=CLIENT_RESOURCES,\n",
    "    ray_init_args=RAY_ARGS,\n",
    ")"
   ],
   "outputs": [
    {
     "output_type": "stream",
     "name": "stderr",
     "text": [
      "INFO flwr 2023-04-14 10:29:59,076 | app.py:145 | Starting Flower simulation, config: ServerConfig(num_rounds=50, round_timeout=None)\n",
      "2023-04-14 10:30:01,281\tINFO worker.py:1529 -- Started a local Ray instance. View the dashboard at \u001b[1m\u001b[32m127.0.0.1:8265 \u001b[39m\u001b[22m\n",
      "INFO flwr 2023-04-14 10:30:02,451 | app.py:179 | Flower VCE: Ray initialized with resources: {'node:127.0.0.1': 1.0, 'object_store_memory': 7903506432.0, 'GPU': 1.0, 'CPU': 24.0, 'memory': 15807012864.0}\n",
      "INFO flwr 2023-04-14 10:30:02,452 | server.py:86 | Initializing global parameters\n",
      "INFO flwr 2023-04-14 10:30:02,452 | server.py:266 | Using initial parameters provided by strategy\n",
      "INFO flwr 2023-04-14 10:30:02,452 | server.py:88 | Evaluating initial parameters\n",
      "INFO flwr 2023-04-14 10:30:07,377 | server.py:91 | initial parameters (loss, other metrics): 18.458995819091797, {'test_loss': 18.458995819091797, 'test_accuracy': 0.0}\n",
      "INFO flwr 2023-04-14 10:30:07,378 | server.py:101 | FL starting\n",
      "DEBUG flwr 2023-04-14 10:30:07,379 | server.py:215 | fit_round 1: strategy sampled 2 clients (out of 5)\n",
      "DEBUG flwr 2023-04-14 10:31:42,625 | server.py:229 | fit_round 1 received 2 results and 0 failures\n"
     ]
    },
    {
     "output_type": "stream",
     "name": "stdout",
     "text": [
      "\t {'train_loss': 4.612055540084839, 'train_accuracy': 0.027777777777777776}\n"
     ]
    },
    {
     "output_type": "stream",
     "name": "stderr",
     "text": [
      "INFO flwr 2023-04-14 10:31:47,672 | server.py:116 | fit progress: (1, 18.382328033447266, {'test_loss': 18.382328033447266, 'test_accuracy': 0.0}, 100.29325360000075)\n",
      "DEBUG flwr 2023-04-14 10:31:47,672 | server.py:165 | evaluate_round 1: strategy sampled 2 clients (out of 5)\n",
      "DEBUG flwr 2023-04-14 10:31:52,326 | server.py:179 | evaluate_round 1 received 2 results and 0 failures\n",
      "DEBUG flwr 2023-04-14 10:31:52,327 | server.py:215 | fit_round 2: strategy sampled 2 clients (out of 5)\n"
     ]
    },
    {
     "output_type": "stream",
     "name": "stdout",
     "text": [
      "\t {'val_loss': 4.589823961257935, 'val_accuracy': 0.0}\n"
     ]
    },
    {
     "output_type": "stream",
     "name": "stderr",
     "text": [
      "DEBUG flwr 2023-04-14 10:33:24,041 | server.py:229 | fit_round 2 received 2 results and 0 failures\n"
     ]
    },
    {
     "output_type": "stream",
     "name": "stdout",
     "text": [
      "\t {'train_loss': 4.574291467666626, 'train_accuracy': 0.06944444444444445}\n"
     ]
    },
    {
     "output_type": "stream",
     "name": "stderr",
     "text": [
      "INFO flwr 2023-04-14 10:33:29,137 | server.py:116 | fit progress: (2, 18.24842071533203, {'test_loss': 18.24842071533203, 'test_accuracy': 0.04}, 201.75893679999717)\n",
      "DEBUG flwr 2023-04-14 10:33:29,138 | server.py:165 | evaluate_round 2: strategy sampled 2 clients (out of 5)\n",
      "DEBUG flwr 2023-04-14 10:33:33,835 | server.py:179 | evaluate_round 2 received 2 results and 0 failures\n",
      "DEBUG flwr 2023-04-14 10:33:33,835 | server.py:215 | fit_round 3: strategy sampled 2 clients (out of 5)\n"
     ]
    },
    {
     "output_type": "stream",
     "name": "stdout",
     "text": [
      "\t {'val_loss': 4.566037654876709, 'val_accuracy': 0.0}\n"
     ]
    },
    {
     "output_type": "stream",
     "name": "stderr",
     "text": [
      "DEBUG flwr 2023-04-14 10:35:05,966 | server.py:229 | fit_round 3 received 2 results and 0 failures\n"
     ]
    },
    {
     "output_type": "stream",
     "name": "stdout",
     "text": [
      "\t {'train_loss': 4.540738582611084, 'train_accuracy': 0.049999999999999996}\n"
     ]
    },
    {
     "output_type": "stream",
     "name": "stderr",
     "text": [
      "INFO flwr 2023-04-14 10:35:11,043 | server.py:116 | fit progress: (3, 18.12781524658203, {'test_loss': 18.12781524658203, 'test_accuracy': 0.03}, 303.6644391000009)\n",
      "DEBUG flwr 2023-04-14 10:35:11,044 | server.py:165 | evaluate_round 3: strategy sampled 2 clients (out of 5)\n",
      "DEBUG flwr 2023-04-14 10:35:15,750 | server.py:179 | evaluate_round 3 received 2 results and 0 failures\n",
      "DEBUG flwr 2023-04-14 10:35:15,751 | server.py:215 | fit_round 4: strategy sampled 2 clients (out of 5)\n"
     ]
    },
    {
     "output_type": "stream",
     "name": "stdout",
     "text": [
      "\t {'val_loss': 4.5126707553863525, 'val_accuracy': 0.0}\n"
     ]
    },
    {
     "output_type": "stream",
     "name": "stderr",
     "text": [
      "DEBUG flwr 2023-04-14 10:36:47,043 | server.py:229 | fit_round 4 received 2 results and 0 failures\n"
     ]
    },
    {
     "output_type": "stream",
     "name": "stdout",
     "text": [
      "\t {'train_loss': 4.475107192993164, 'train_accuracy': 0.13333333333333333}\n"
     ]
    },
    {
     "output_type": "stream",
     "name": "stderr",
     "text": [
      "INFO flwr 2023-04-14 10:36:52,129 | server.py:116 | fit progress: (4, 18.03220558166504, {'test_loss': 18.03220558166504, 'test_accuracy': 0.05}, 404.75019829999655)\n",
      "DEBUG flwr 2023-04-14 10:36:52,129 | server.py:165 | evaluate_round 4: strategy sampled 2 clients (out of 5)\n",
      "DEBUG flwr 2023-04-14 10:36:56,787 | server.py:179 | evaluate_round 4 received 2 results and 0 failures\n",
      "DEBUG flwr 2023-04-14 10:36:56,787 | server.py:215 | fit_round 5: strategy sampled 2 clients (out of 5)\n"
     ]
    },
    {
     "output_type": "stream",
     "name": "stdout",
     "text": [
      "\t {'val_loss': 4.488516330718994, 'val_accuracy': 0.025}\n"
     ]
    },
    {
     "output_type": "stream",
     "name": "stderr",
     "text": [
      "DEBUG flwr 2023-04-14 10:38:28,002 | server.py:229 | fit_round 5 received 2 results and 0 failures\n"
     ]
    },
    {
     "output_type": "stream",
     "name": "stdout",
     "text": [
      "\t {'train_loss': 4.481966018676758, 'train_accuracy': 0.21111111111111105}\n"
     ]
    },
    {
     "output_type": "stream",
     "name": "stderr",
     "text": [
      "INFO flwr 2023-04-14 10:38:33,116 | server.py:116 | fit progress: (5, 17.911827087402344, {'test_loss': 17.911827087402344, 'test_accuracy': 0.05}, 505.7375477000023)\n",
      "DEBUG flwr 2023-04-14 10:38:33,117 | server.py:165 | evaluate_round 5: strategy sampled 2 clients (out of 5)\n",
      "DEBUG flwr 2023-04-14 10:38:37,741 | server.py:179 | evaluate_round 5 received 2 results and 0 failures\n",
      "DEBUG flwr 2023-04-14 10:38:37,742 | server.py:215 | fit_round 6: strategy sampled 2 clients (out of 5)\n"
     ]
    },
    {
     "output_type": "stream",
     "name": "stdout",
     "text": [
      "\t {'val_loss': 4.457359313964844, 'val_accuracy': 0.025}\n"
     ]
    },
    {
     "output_type": "stream",
     "name": "stderr",
     "text": [
      "DEBUG flwr 2023-04-14 10:40:08,940 | server.py:229 | fit_round 6 received 2 results and 0 failures\n"
     ]
    },
    {
     "output_type": "stream",
     "name": "stdout",
     "text": [
      "\t {'train_loss': 4.355196714401245, 'train_accuracy': 0.3972222222222222}\n"
     ]
    },
    {
     "output_type": "stream",
     "name": "stderr",
     "text": [
      "INFO flwr 2023-04-14 10:40:14,005 | server.py:116 | fit progress: (6, 17.819177627563477, {'test_loss': 17.819177627563477, 'test_accuracy': 0.06}, 606.6262339000023)\n",
      "DEBUG flwr 2023-04-14 10:40:14,005 | server.py:165 | evaluate_round 6: strategy sampled 2 clients (out of 5)\n",
      "DEBUG flwr 2023-04-14 10:40:18,600 | server.py:179 | evaluate_round 6 received 2 results and 0 failures\n",
      "DEBUG flwr 2023-04-14 10:40:18,600 | server.py:215 | fit_round 7: strategy sampled 2 clients (out of 5)\n"
     ]
    },
    {
     "output_type": "stream",
     "name": "stdout",
     "text": [
      "\t {'val_loss': 4.400131702423096, 'val_accuracy': 0.05}\n"
     ]
    },
    {
     "output_type": "stream",
     "name": "stderr",
     "text": [
      "DEBUG flwr 2023-04-14 10:41:49,984 | server.py:229 | fit_round 7 received 2 results and 0 failures\n"
     ]
    },
    {
     "output_type": "stream",
     "name": "stdout",
     "text": [
      "\t {'train_loss': 4.348367929458618, 'train_accuracy': 0.42500000000000004}\n"
     ]
    },
    {
     "output_type": "stream",
     "name": "stderr",
     "text": [
      "INFO flwr 2023-04-14 10:41:55,064 | server.py:116 | fit progress: (7, 17.736066818237305, {'test_loss': 17.736066818237305, 'test_accuracy': 0.09}, 707.6851858000009)\n",
      "DEBUG flwr 2023-04-14 10:41:55,064 | server.py:165 | evaluate_round 7: strategy sampled 2 clients (out of 5)\n",
      "DEBUG flwr 2023-04-14 10:41:59,756 | server.py:179 | evaluate_round 7 received 2 results and 0 failures\n",
      "DEBUG flwr 2023-04-14 10:41:59,756 | server.py:215 | fit_round 8: strategy sampled 2 clients (out of 5)\n"
     ]
    },
    {
     "output_type": "stream",
     "name": "stdout",
     "text": [
      "\t {'val_loss': 4.39225697517395, 'val_accuracy': 0.1}\n"
     ]
    },
    {
     "output_type": "stream",
     "name": "stderr",
     "text": [
      "DEBUG flwr 2023-04-14 10:43:30,891 | server.py:229 | fit_round 8 received 2 results and 0 failures\n"
     ]
    },
    {
     "output_type": "stream",
     "name": "stdout",
     "text": [
      "\t {'train_loss': 4.280155897140503, 'train_accuracy': 0.4916666666666667}\n"
     ]
    },
    {
     "output_type": "stream",
     "name": "stderr",
     "text": [
      "INFO flwr 2023-04-14 10:43:35,912 | server.py:116 | fit progress: (8, 17.582422256469727, {'test_loss': 17.582422256469727, 'test_accuracy': 0.09}, 808.5332589000027)\n",
      "DEBUG flwr 2023-04-14 10:43:35,912 | server.py:165 | evaluate_round 8: strategy sampled 2 clients (out of 5)\n",
      "DEBUG flwr 2023-04-14 10:43:40,495 | server.py:179 | evaluate_round 8 received 2 results and 0 failures\n",
      "DEBUG flwr 2023-04-14 10:43:40,496 | server.py:215 | fit_round 9: strategy sampled 2 clients (out of 5)\n"
     ]
    },
    {
     "output_type": "stream",
     "name": "stdout",
     "text": [
      "\t {'val_loss': 4.354249954223633, 'val_accuracy': 0.15}\n"
     ]
    },
    {
     "output_type": "stream",
     "name": "stderr",
     "text": [
      "DEBUG flwr 2023-04-14 10:45:11,033 | server.py:229 | fit_round 9 received 2 results and 0 failures\n"
     ]
    },
    {
     "output_type": "stream",
     "name": "stdout",
     "text": [
      "\t {'train_loss': 4.290100336074829, 'train_accuracy': 0.38055555555555554}\n"
     ]
    },
    {
     "output_type": "stream",
     "name": "stderr",
     "text": [
      "INFO flwr 2023-04-14 10:45:16,008 | server.py:116 | fit progress: (9, 17.474782943725586, {'test_loss': 17.474782943725586, 'test_accuracy': 0.12}, 908.629795599998)\n",
      "DEBUG flwr 2023-04-14 10:45:16,009 | server.py:165 | evaluate_round 9: strategy sampled 2 clients (out of 5)\n",
      "DEBUG flwr 2023-04-14 10:45:20,604 | server.py:179 | evaluate_round 9 received 2 results and 0 failures\n",
      "DEBUG flwr 2023-04-14 10:45:20,604 | server.py:215 | fit_round 10: strategy sampled 2 clients (out of 5)\n"
     ]
    },
    {
     "output_type": "stream",
     "name": "stdout",
     "text": [
      "\t {'val_loss': 4.346291542053223, 'val_accuracy': 0.175}\n"
     ]
    },
    {
     "output_type": "stream",
     "name": "stderr",
     "text": [
      "DEBUG flwr 2023-04-14 10:46:51,671 | server.py:229 | fit_round 10 received 2 results and 0 failures\n"
     ]
    },
    {
     "output_type": "stream",
     "name": "stdout",
     "text": [
      "\t {'train_loss': 4.24172306060791, 'train_accuracy': 0.5499999999999999}\n"
     ]
    },
    {
     "output_type": "stream",
     "name": "stderr",
     "text": [
      "INFO flwr 2023-04-14 10:46:56,649 | server.py:116 | fit progress: (10, 17.36840057373047, {'test_loss': 17.36840057373047, 'test_accuracy': 0.13}, 1009.2702637999973)\n",
      "DEBUG flwr 2023-04-14 10:46:56,649 | server.py:165 | evaluate_round 10: strategy sampled 2 clients (out of 5)\n",
      "DEBUG flwr 2023-04-14 10:47:01,221 | server.py:179 | evaluate_round 10 received 2 results and 0 failures\n",
      "DEBUG flwr 2023-04-14 10:47:01,222 | server.py:215 | fit_round 11: strategy sampled 2 clients (out of 5)\n"
     ]
    },
    {
     "output_type": "stream",
     "name": "stdout",
     "text": [
      "\t {'val_loss': 4.2544896602630615, 'val_accuracy': 0.2}\n"
     ]
    },
    {
     "output_type": "stream",
     "name": "stderr",
     "text": [
      "DEBUG flwr 2023-04-14 10:48:32,050 | server.py:229 | fit_round 11 received 2 results and 0 failures\n"
     ]
    },
    {
     "output_type": "stream",
     "name": "stdout",
     "text": [
      "\t {'train_loss': 4.219222545623779, 'train_accuracy': 0.6083333333333333}\n"
     ]
    },
    {
     "output_type": "stream",
     "name": "stderr",
     "text": [
      "INFO flwr 2023-04-14 10:48:37,070 | server.py:116 | fit progress: (11, 17.273902893066406, {'test_loss': 17.273902893066406, 'test_accuracy': 0.14}, 1109.6908564999976)\n",
      "DEBUG flwr 2023-04-14 10:48:37,070 | server.py:165 | evaluate_round 11: strategy sampled 2 clients (out of 5)\n",
      "DEBUG flwr 2023-04-14 10:48:41,685 | server.py:179 | evaluate_round 11 received 2 results and 0 failures\n",
      "DEBUG flwr 2023-04-14 10:48:41,685 | server.py:215 | fit_round 12: strategy sampled 2 clients (out of 5)\n"
     ]
    },
    {
     "output_type": "stream",
     "name": "stdout",
     "text": [
      "\t {'val_loss': 4.301051616668701, 'val_accuracy': 0.125}\n"
     ]
    },
    {
     "output_type": "stream",
     "name": "stderr",
     "text": [
      "DEBUG flwr 2023-04-14 10:50:12,663 | server.py:229 | fit_round 12 received 2 results and 0 failures\n"
     ]
    },
    {
     "output_type": "stream",
     "name": "stdout",
     "text": [
      "\t {'train_loss': 4.068866014480591, 'train_accuracy': 0.6861111111111112}\n"
     ]
    },
    {
     "output_type": "stream",
     "name": "stderr",
     "text": [
      "INFO flwr 2023-04-14 10:50:17,666 | server.py:116 | fit progress: (12, 17.190834045410156, {'test_loss': 17.190834045410156, 'test_accuracy': 0.15}, 1210.2872085999988)\n",
      "DEBUG flwr 2023-04-14 10:50:17,666 | server.py:165 | evaluate_round 12: strategy sampled 2 clients (out of 5)\n",
      "DEBUG flwr 2023-04-14 10:50:22,220 | server.py:179 | evaluate_round 12 received 2 results and 0 failures\n",
      "DEBUG flwr 2023-04-14 10:50:22,221 | server.py:215 | fit_round 13: strategy sampled 2 clients (out of 5)\n"
     ]
    },
    {
     "output_type": "stream",
     "name": "stdout",
     "text": [
      "\t {'val_loss': 4.220438480377197, 'val_accuracy': 0.275}\n"
     ]
    },
    {
     "output_type": "stream",
     "name": "stderr",
     "text": [
      "DEBUG flwr 2023-04-14 10:51:52,985 | server.py:229 | fit_round 13 received 2 results and 0 failures\n"
     ]
    },
    {
     "output_type": "stream",
     "name": "stdout",
     "text": [
      "\t {'train_loss': 4.127145767211914, 'train_accuracy': 0.7027777777777778}\n"
     ]
    },
    {
     "output_type": "stream",
     "name": "stderr",
     "text": [
      "INFO flwr 2023-04-14 10:51:57,941 | server.py:116 | fit progress: (13, 17.022125244140625, {'test_loss': 17.022125244140625, 'test_accuracy': 0.14}, 1310.5619898000004)\n",
      "DEBUG flwr 2023-04-14 10:51:57,942 | server.py:165 | evaluate_round 13: strategy sampled 2 clients (out of 5)\n",
      "DEBUG flwr 2023-04-14 10:52:02,524 | server.py:179 | evaluate_round 13 received 2 results and 0 failures\n",
      "DEBUG flwr 2023-04-14 10:52:02,525 | server.py:215 | fit_round 14: strategy sampled 2 clients (out of 5)\n"
     ]
    },
    {
     "output_type": "stream",
     "name": "stdout",
     "text": [
      "\t {'val_loss': 4.2056663036346436, 'val_accuracy': 0.15000000000000002}\n"
     ]
    },
    {
     "output_type": "stream",
     "name": "stderr",
     "text": [
      "DEBUG flwr 2023-04-14 10:53:33,814 | server.py:229 | fit_round 14 received 2 results and 0 failures\n"
     ]
    },
    {
     "output_type": "stream",
     "name": "stdout",
     "text": [
      "\t {'train_loss': 4.010036587715149, 'train_accuracy': 0.6916666666666668}\n"
     ]
    },
    {
     "output_type": "stream",
     "name": "stderr",
     "text": [
      "INFO flwr 2023-04-14 10:53:38,755 | server.py:116 | fit progress: (14, 16.984622955322266, {'test_loss': 16.984622955322266, 'test_accuracy': 0.15}, 1411.3766589000006)\n",
      "DEBUG flwr 2023-04-14 10:53:38,756 | server.py:165 | evaluate_round 14: strategy sampled 2 clients (out of 5)\n",
      "DEBUG flwr 2023-04-14 10:53:43,317 | server.py:179 | evaluate_round 14 received 2 results and 0 failures\n",
      "DEBUG flwr 2023-04-14 10:53:43,317 | server.py:215 | fit_round 15: strategy sampled 2 clients (out of 5)\n"
     ]
    },
    {
     "output_type": "stream",
     "name": "stdout",
     "text": [
      "\t {'val_loss': 4.199428081512451, 'val_accuracy': 0.2}\n"
     ]
    },
    {
     "output_type": "stream",
     "name": "stderr",
     "text": [
      "DEBUG flwr 2023-04-14 10:55:14,049 | server.py:229 | fit_round 15 received 2 results and 0 failures\n"
     ]
    },
    {
     "output_type": "stream",
     "name": "stdout",
     "text": [
      "\t {'train_loss': 3.9980584383010864, 'train_accuracy': 0.6111111111111112}\n"
     ]
    },
    {
     "output_type": "stream",
     "name": "stderr",
     "text": [
      "INFO flwr 2023-04-14 10:55:19,015 | server.py:116 | fit progress: (15, 16.80813980102539, {'test_loss': 16.80813980102539, 'test_accuracy': 0.17}, 1511.6362560999987)\n",
      "DEBUG flwr 2023-04-14 10:55:19,015 | server.py:165 | evaluate_round 15: strategy sampled 2 clients (out of 5)\n",
      "DEBUG flwr 2023-04-14 10:55:23,621 | server.py:179 | evaluate_round 15 received 2 results and 0 failures\n",
      "DEBUG flwr 2023-04-14 10:55:23,622 | server.py:215 | fit_round 16: strategy sampled 2 clients (out of 5)\n"
     ]
    },
    {
     "output_type": "stream",
     "name": "stdout",
     "text": [
      "\t {'val_loss': 4.197626829147339, 'val_accuracy': 0.175}\n"
     ]
    },
    {
     "output_type": "stream",
     "name": "stderr",
     "text": [
      "DEBUG flwr 2023-04-14 10:56:54,069 | server.py:229 | fit_round 16 received 2 results and 0 failures\n"
     ]
    },
    {
     "output_type": "stream",
     "name": "stdout",
     "text": [
      "\t {'train_loss': 3.902324080467224, 'train_accuracy': 0.6833333333333332}\n"
     ]
    },
    {
     "output_type": "stream",
     "name": "stderr",
     "text": [
      "INFO flwr 2023-04-14 10:56:59,020 | server.py:116 | fit progress: (16, 16.671255111694336, {'test_loss': 16.671255111694336, 'test_accuracy': 0.2}, 1611.6414127000025)\n",
      "DEBUG flwr 2023-04-14 10:56:59,021 | server.py:165 | evaluate_round 16: strategy sampled 2 clients (out of 5)\n",
      "DEBUG flwr 2023-04-14 10:57:03,591 | server.py:179 | evaluate_round 16 received 2 results and 0 failures\n",
      "DEBUG flwr 2023-04-14 10:57:03,592 | server.py:215 | fit_round 17: strategy sampled 2 clients (out of 5)\n"
     ]
    },
    {
     "output_type": "stream",
     "name": "stdout",
     "text": [
      "\t {'val_loss': 4.070887565612793, 'val_accuracy': 0.3}\n"
     ]
    },
    {
     "output_type": "stream",
     "name": "stderr",
     "text": [
      "DEBUG flwr 2023-04-14 10:58:34,183 | server.py:229 | fit_round 17 received 2 results and 0 failures\n"
     ]
    },
    {
     "output_type": "stream",
     "name": "stdout",
     "text": [
      "\t {'train_loss': 3.9244498014450073, 'train_accuracy': 0.75}\n"
     ]
    },
    {
     "output_type": "stream",
     "name": "stderr",
     "text": [
      "INFO flwr 2023-04-14 10:58:39,158 | server.py:116 | fit progress: (17, 16.585453033447266, {'test_loss': 16.585453033447266, 'test_accuracy': 0.21}, 1711.7790908000025)\n",
      "DEBUG flwr 2023-04-14 10:58:39,158 | server.py:165 | evaluate_round 17: strategy sampled 2 clients (out of 5)\n",
      "DEBUG flwr 2023-04-14 10:58:43,779 | server.py:179 | evaluate_round 17 received 2 results and 0 failures\n",
      "DEBUG flwr 2023-04-14 10:58:43,780 | server.py:215 | fit_round 18: strategy sampled 2 clients (out of 5)\n"
     ]
    },
    {
     "output_type": "stream",
     "name": "stdout",
     "text": [
      "\t {'val_loss': 4.0748610496521, 'val_accuracy': 0.2}\n"
     ]
    },
    {
     "output_type": "stream",
     "name": "stderr",
     "text": [
      "DEBUG flwr 2023-04-14 11:00:15,179 | server.py:229 | fit_round 18 received 2 results and 0 failures\n"
     ]
    },
    {
     "output_type": "stream",
     "name": "stdout",
     "text": [
      "\t {'train_loss': 3.7904409170150757, 'train_accuracy': 0.7416666666666666}\n"
     ]
    },
    {
     "output_type": "stream",
     "name": "stderr",
     "text": [
      "INFO flwr 2023-04-14 11:00:20,171 | server.py:116 | fit progress: (18, 16.499835968017578, {'test_loss': 16.499835968017578, 'test_accuracy': 0.21}, 1812.7923938999957)\n",
      "DEBUG flwr 2023-04-14 11:00:20,172 | server.py:165 | evaluate_round 18: strategy sampled 2 clients (out of 5)\n",
      "DEBUG flwr 2023-04-14 11:00:24,820 | server.py:179 | evaluate_round 18 received 2 results and 0 failures\n",
      "DEBUG flwr 2023-04-14 11:00:24,821 | server.py:215 | fit_round 19: strategy sampled 2 clients (out of 5)\n"
     ]
    },
    {
     "output_type": "stream",
     "name": "stdout",
     "text": [
      "\t {'val_loss': 4.093803644180298, 'val_accuracy': 0.2}\n"
     ]
    },
    {
     "output_type": "stream",
     "name": "stderr",
     "text": [
      "DEBUG flwr 2023-04-14 11:01:55,538 | server.py:229 | fit_round 19 received 2 results and 0 failures\n"
     ]
    },
    {
     "output_type": "stream",
     "name": "stdout",
     "text": [
      "\t {'train_loss': 3.8900665044784546, 'train_accuracy': 0.763888888888889}\n"
     ]
    },
    {
     "output_type": "stream",
     "name": "stderr",
     "text": [
      "INFO flwr 2023-04-14 11:02:00,545 | server.py:116 | fit progress: (19, 16.36540985107422, {'test_loss': 16.36540985107422, 'test_accuracy': 0.25}, 1913.1663791999963)\n",
      "DEBUG flwr 2023-04-14 11:02:00,546 | server.py:165 | evaluate_round 19: strategy sampled 2 clients (out of 5)\n",
      "DEBUG flwr 2023-04-14 11:02:05,121 | server.py:179 | evaluate_round 19 received 2 results and 0 failures\n",
      "DEBUG flwr 2023-04-14 11:02:05,121 | server.py:215 | fit_round 20: strategy sampled 2 clients (out of 5)\n"
     ]
    },
    {
     "output_type": "stream",
     "name": "stdout",
     "text": [
      "\t {'val_loss': 4.042614817619324, 'val_accuracy': 0.25}\n"
     ]
    },
    {
     "output_type": "stream",
     "name": "stderr",
     "text": [
      "DEBUG flwr 2023-04-14 11:03:35,835 | server.py:229 | fit_round 20 received 2 results and 0 failures\n"
     ]
    },
    {
     "output_type": "stream",
     "name": "stdout",
     "text": [
      "\t {'train_loss': 3.764486789703369, 'train_accuracy': 0.8111111111111112}\n"
     ]
    },
    {
     "output_type": "stream",
     "name": "stderr",
     "text": [
      "INFO flwr 2023-04-14 11:03:40,802 | server.py:116 | fit progress: (20, 16.284210205078125, {'test_loss': 16.284210205078125, 'test_accuracy': 0.21}, 2013.4228767999957)\n",
      "DEBUG flwr 2023-04-14 11:03:40,802 | server.py:165 | evaluate_round 20: strategy sampled 2 clients (out of 5)\n",
      "DEBUG flwr 2023-04-14 11:03:45,395 | server.py:179 | evaluate_round 20 received 2 results and 0 failures\n",
      "DEBUG flwr 2023-04-14 11:03:45,396 | server.py:215 | fit_round 21: strategy sampled 2 clients (out of 5)\n"
     ]
    },
    {
     "output_type": "stream",
     "name": "stdout",
     "text": [
      "\t {'val_loss': 3.921111822128296, 'val_accuracy': 0.275}\n"
     ]
    },
    {
     "output_type": "stream",
     "name": "stderr",
     "text": [
      "DEBUG flwr 2023-04-14 11:05:16,417 | server.py:229 | fit_round 21 received 2 results and 0 failures\n"
     ]
    },
    {
     "output_type": "stream",
     "name": "stdout",
     "text": [
      "\t {'train_loss': 3.6043221950531006, 'train_accuracy': 0.8055555555555557}\n"
     ]
    },
    {
     "output_type": "stream",
     "name": "stderr",
     "text": [
      "INFO flwr 2023-04-14 11:05:21,421 | server.py:116 | fit progress: (21, 16.20964813232422, {'test_loss': 16.20964813232422, 'test_accuracy': 0.22}, 2114.041917800001)\n",
      "DEBUG flwr 2023-04-14 11:05:21,421 | server.py:165 | evaluate_round 21: strategy sampled 2 clients (out of 5)\n",
      "DEBUG flwr 2023-04-14 11:05:26,012 | server.py:179 | evaluate_round 21 received 2 results and 0 failures\n",
      "DEBUG flwr 2023-04-14 11:05:26,012 | server.py:215 | fit_round 22: strategy sampled 2 clients (out of 5)\n"
     ]
    },
    {
     "output_type": "stream",
     "name": "stdout",
     "text": [
      "\t {'val_loss': 3.9370113611221313, 'val_accuracy': 0.32499999999999996}\n"
     ]
    },
    {
     "output_type": "stream",
     "name": "stderr",
     "text": [
      "DEBUG flwr 2023-04-14 11:06:56,684 | server.py:229 | fit_round 22 received 2 results and 0 failures\n"
     ]
    },
    {
     "output_type": "stream",
     "name": "stdout",
     "text": [
      "\t {'train_loss': 3.789533257484436, 'train_accuracy': 0.7055555555555557}\n"
     ]
    },
    {
     "output_type": "stream",
     "name": "stderr",
     "text": [
      "INFO flwr 2023-04-14 11:07:01,684 | server.py:116 | fit progress: (22, 16.047523498535156, {'test_loss': 16.047523498535156, 'test_accuracy': 0.24}, 2214.305333199998)\n",
      "DEBUG flwr 2023-04-14 11:07:01,685 | server.py:165 | evaluate_round 22: strategy sampled 2 clients (out of 5)\n",
      "DEBUG flwr 2023-04-14 11:07:06,276 | server.py:179 | evaluate_round 22 received 2 results and 0 failures\n",
      "DEBUG flwr 2023-04-14 11:07:06,277 | server.py:215 | fit_round 23: strategy sampled 2 clients (out of 5)\n"
     ]
    },
    {
     "output_type": "stream",
     "name": "stdout",
     "text": [
      "\t {'val_loss': 3.905157208442688, 'val_accuracy': 0.30000000000000004}\n"
     ]
    },
    {
     "output_type": "stream",
     "name": "stderr",
     "text": [
      "DEBUG flwr 2023-04-14 11:08:37,077 | server.py:229 | fit_round 23 received 2 results and 0 failures\n"
     ]
    },
    {
     "output_type": "stream",
     "name": "stdout",
     "text": [
      "\t {'train_loss': 3.61728572845459, 'train_accuracy': 0.8555555555555555}\n"
     ]
    },
    {
     "output_type": "stream",
     "name": "stderr",
     "text": [
      "INFO flwr 2023-04-14 11:08:42,088 | server.py:116 | fit progress: (23, 15.97365665435791, {'test_loss': 15.97365665435791, 'test_accuracy': 0.27}, 2314.7093258000023)\n",
      "DEBUG flwr 2023-04-14 11:08:42,089 | server.py:165 | evaluate_round 23: strategy sampled 2 clients (out of 5)\n",
      "DEBUG flwr 2023-04-14 11:08:46,658 | server.py:179 | evaluate_round 23 received 2 results and 0 failures\n",
      "DEBUG flwr 2023-04-14 11:08:46,658 | server.py:215 | fit_round 24: strategy sampled 2 clients (out of 5)\n"
     ]
    },
    {
     "output_type": "stream",
     "name": "stdout",
     "text": [
      "\t {'val_loss': 3.9852352142333984, 'val_accuracy': 0.175}\n"
     ]
    },
    {
     "output_type": "stream",
     "name": "stderr",
     "text": [
      "DEBUG flwr 2023-04-14 11:10:17,385 | server.py:229 | fit_round 24 received 2 results and 0 failures\n"
     ]
    },
    {
     "output_type": "stream",
     "name": "stdout",
     "text": [
      "\t {'train_loss': 3.634757399559021, 'train_accuracy': 0.7833333333333332}\n"
     ]
    },
    {
     "output_type": "stream",
     "name": "stderr",
     "text": [
      "INFO flwr 2023-04-14 11:10:22,362 | server.py:116 | fit progress: (24, 15.757916450500488, {'test_loss': 15.757916450500488, 'test_accuracy': 0.27}, 2414.983726999999)\n",
      "DEBUG flwr 2023-04-14 11:10:22,363 | server.py:165 | evaluate_round 24: strategy sampled 2 clients (out of 5)\n",
      "DEBUG flwr 2023-04-14 11:10:26,977 | server.py:179 | evaluate_round 24 received 2 results and 0 failures\n",
      "DEBUG flwr 2023-04-14 11:10:26,978 | server.py:215 | fit_round 25: strategy sampled 2 clients (out of 5)\n"
     ]
    },
    {
     "output_type": "stream",
     "name": "stdout",
     "text": [
      "\t {'val_loss': 3.773484945297241, 'val_accuracy': 0.275}\n"
     ]
    },
    {
     "output_type": "stream",
     "name": "stderr",
     "text": [
      "DEBUG flwr 2023-04-14 11:11:58,523 | server.py:229 | fit_round 25 received 2 results and 0 failures\n"
     ]
    },
    {
     "output_type": "stream",
     "name": "stdout",
     "text": [
      "\t {'train_loss': 3.5123285055160522, 'train_accuracy': 0.8638888888888889}\n"
     ]
    },
    {
     "output_type": "stream",
     "name": "stderr",
     "text": [
      "INFO flwr 2023-04-14 11:12:03,554 | server.py:116 | fit progress: (25, 15.642339706420898, {'test_loss': 15.642339706420898, 'test_accuracy': 0.34}, 2516.1753525999957)\n",
      "DEBUG flwr 2023-04-14 11:12:03,555 | server.py:165 | evaluate_round 25: strategy sampled 2 clients (out of 5)\n",
      "DEBUG flwr 2023-04-14 11:12:08,184 | server.py:179 | evaluate_round 25 received 2 results and 0 failures\n",
      "DEBUG flwr 2023-04-14 11:12:08,184 | server.py:215 | fit_round 26: strategy sampled 2 clients (out of 5)\n"
     ]
    },
    {
     "output_type": "stream",
     "name": "stdout",
     "text": [
      "\t {'val_loss': 3.9455636739730835, 'val_accuracy': 0.175}\n"
     ]
    },
    {
     "output_type": "stream",
     "name": "stderr",
     "text": [
      "DEBUG flwr 2023-04-14 11:13:39,366 | server.py:229 | fit_round 26 received 2 results and 0 failures\n"
     ]
    },
    {
     "output_type": "stream",
     "name": "stdout",
     "text": [
      "\t {'train_loss': 3.414830207824707, 'train_accuracy': 0.8805555555555555}\n"
     ]
    },
    {
     "output_type": "stream",
     "name": "stderr",
     "text": [
      "INFO flwr 2023-04-14 11:13:44,370 | server.py:116 | fit progress: (26, 15.633750915527344, {'test_loss': 15.633750915527344, 'test_accuracy': 0.33}, 2616.9912785999986)\n",
      "DEBUG flwr 2023-04-14 11:13:44,371 | server.py:165 | evaluate_round 26: strategy sampled 2 clients (out of 5)\n",
      "DEBUG flwr 2023-04-14 11:13:49,102 | server.py:179 | evaluate_round 26 received 2 results and 0 failures\n",
      "DEBUG flwr 2023-04-14 11:13:49,103 | server.py:215 | fit_round 27: strategy sampled 2 clients (out of 5)\n"
     ]
    },
    {
     "output_type": "stream",
     "name": "stdout",
     "text": [
      "\t {'val_loss': 3.9497320652008057, 'val_accuracy': 0.175}\n"
     ]
    },
    {
     "output_type": "stream",
     "name": "stderr",
     "text": [
      "DEBUG flwr 2023-04-14 11:15:20,110 | server.py:229 | fit_round 27 received 2 results and 0 failures\n"
     ]
    },
    {
     "output_type": "stream",
     "name": "stdout",
     "text": [
      "\t {'train_loss': 3.3311644792556763, 'train_accuracy': 0.85}\n"
     ]
    },
    {
     "output_type": "stream",
     "name": "stderr",
     "text": [
      "INFO flwr 2023-04-14 11:15:25,141 | server.py:116 | fit progress: (27, 15.56478214263916, {'test_loss': 15.56478214263916, 'test_accuracy': 0.29}, 2717.7624873000022)\n",
      "DEBUG flwr 2023-04-14 11:15:25,142 | server.py:165 | evaluate_round 27: strategy sampled 2 clients (out of 5)\n",
      "DEBUG flwr 2023-04-14 11:15:29,699 | server.py:179 | evaluate_round 27 received 2 results and 0 failures\n",
      "DEBUG flwr 2023-04-14 11:15:29,700 | server.py:215 | fit_round 28: strategy sampled 2 clients (out of 5)\n"
     ]
    },
    {
     "output_type": "stream",
     "name": "stdout",
     "text": [
      "\t {'val_loss': 3.755397915840149, 'val_accuracy': 0.3}\n"
     ]
    },
    {
     "output_type": "stream",
     "name": "stderr",
     "text": [
      "DEBUG flwr 2023-04-14 11:17:02,315 | server.py:229 | fit_round 28 received 2 results and 0 failures\n"
     ]
    },
    {
     "output_type": "stream",
     "name": "stdout",
     "text": [
      "\t {'train_loss': 3.369394540786743, 'train_accuracy': 0.8166666666666668}\n"
     ]
    },
    {
     "output_type": "stream",
     "name": "stderr",
     "text": [
      "INFO flwr 2023-04-14 11:17:07,360 | server.py:116 | fit progress: (28, 15.300052642822266, {'test_loss': 15.300052642822266, 'test_accuracy': 0.31}, 2819.9815266000005)\n",
      "DEBUG flwr 2023-04-14 11:17:07,361 | server.py:165 | evaluate_round 28: strategy sampled 2 clients (out of 5)\n",
      "DEBUG flwr 2023-04-14 11:17:12,075 | server.py:179 | evaluate_round 28 received 2 results and 0 failures\n",
      "DEBUG flwr 2023-04-14 11:17:12,076 | server.py:215 | fit_round 29: strategy sampled 2 clients (out of 5)\n"
     ]
    },
    {
     "output_type": "stream",
     "name": "stdout",
     "text": [
      "\t {'val_loss': 3.868858218193054, 'val_accuracy': 0.2}\n"
     ]
    },
    {
     "output_type": "stream",
     "name": "stderr",
     "text": [
      "DEBUG flwr 2023-04-14 11:18:44,895 | server.py:229 | fit_round 29 received 2 results and 0 failures\n"
     ]
    },
    {
     "output_type": "stream",
     "name": "stdout",
     "text": [
      "\t {'train_loss': 3.2732585668563843, 'train_accuracy': 0.888888888888889}\n"
     ]
    },
    {
     "output_type": "stream",
     "name": "stderr",
     "text": [
      "INFO flwr 2023-04-14 11:18:50,141 | server.py:116 | fit progress: (29, 15.371759414672852, {'test_loss': 15.371759414672852, 'test_accuracy': 0.3}, 2922.761923899998)\n",
      "DEBUG flwr 2023-04-14 11:18:50,141 | server.py:165 | evaluate_round 29: strategy sampled 2 clients (out of 5)\n",
      "DEBUG flwr 2023-04-14 11:18:54,807 | server.py:179 | evaluate_round 29 received 2 results and 0 failures\n",
      "DEBUG flwr 2023-04-14 11:18:54,807 | server.py:215 | fit_round 30: strategy sampled 2 clients (out of 5)\n"
     ]
    },
    {
     "output_type": "stream",
     "name": "stdout",
     "text": [
      "\t {'val_loss': 3.7905853986740112, 'val_accuracy': 0.325}\n"
     ]
    },
    {
     "output_type": "stream",
     "name": "stderr",
     "text": [
      "DEBUG flwr 2023-04-14 11:20:26,872 | server.py:229 | fit_round 30 received 2 results and 0 failures\n"
     ]
    },
    {
     "output_type": "stream",
     "name": "stdout",
     "text": [
      "\t {'train_loss': 3.3347067832946777, 'train_accuracy': 0.8444444444444444}\n"
     ]
    },
    {
     "output_type": "stream",
     "name": "stderr",
     "text": [
      "INFO flwr 2023-04-14 11:20:31,920 | server.py:116 | fit progress: (30, 15.031281471252441, {'test_loss': 15.031281471252441, 'test_accuracy': 0.31}, 3024.5414192000026)\n",
      "DEBUG flwr 2023-04-14 11:20:31,921 | server.py:165 | evaluate_round 30: strategy sampled 2 clients (out of 5)\n",
      "DEBUG flwr 2023-04-14 11:20:36,533 | server.py:179 | evaluate_round 30 received 2 results and 0 failures\n",
      "DEBUG flwr 2023-04-14 11:20:36,534 | server.py:215 | fit_round 31: strategy sampled 2 clients (out of 5)\n"
     ]
    },
    {
     "output_type": "stream",
     "name": "stdout",
     "text": [
      "\t {'val_loss': 3.6865313053131104, 'val_accuracy': 0.3}\n"
     ]
    },
    {
     "output_type": "stream",
     "name": "stderr",
     "text": [
      "DEBUG flwr 2023-04-14 11:22:07,784 | server.py:229 | fit_round 31 received 2 results and 0 failures\n"
     ]
    },
    {
     "output_type": "stream",
     "name": "stdout",
     "text": [
      "\t {'train_loss': 3.206430673599243, 'train_accuracy': 0.85}\n"
     ]
    },
    {
     "output_type": "stream",
     "name": "stderr",
     "text": [
      "INFO flwr 2023-04-14 11:22:12,825 | server.py:116 | fit progress: (31, 15.139382362365723, {'test_loss': 15.139382362365723, 'test_accuracy': 0.3}, 3125.4468441999998)\n",
      "DEBUG flwr 2023-04-14 11:22:12,826 | server.py:165 | evaluate_round 31: strategy sampled 2 clients (out of 5)\n",
      "DEBUG flwr 2023-04-14 11:22:17,432 | server.py:179 | evaluate_round 31 received 2 results and 0 failures\n",
      "DEBUG flwr 2023-04-14 11:22:17,433 | server.py:215 | fit_round 32: strategy sampled 2 clients (out of 5)\n"
     ]
    },
    {
     "output_type": "stream",
     "name": "stdout",
     "text": [
      "\t {'val_loss': 3.6423521041870117, 'val_accuracy': 0.25}\n"
     ]
    },
    {
     "output_type": "stream",
     "name": "stderr",
     "text": [
      "DEBUG flwr 2023-04-14 11:23:48,494 | server.py:229 | fit_round 32 received 2 results and 0 failures\n"
     ]
    },
    {
     "output_type": "stream",
     "name": "stdout",
     "text": [
      "\t {'train_loss': 3.1047807931900024, 'train_accuracy': 0.9166666666666666}\n"
     ]
    },
    {
     "output_type": "stream",
     "name": "stderr",
     "text": [
      "INFO flwr 2023-04-14 11:23:53,486 | server.py:116 | fit progress: (32, 15.082768440246582, {'test_loss': 15.082768440246582, 'test_accuracy': 0.35}, 3226.107772999996)\n",
      "DEBUG flwr 2023-04-14 11:23:53,487 | server.py:165 | evaluate_round 32: strategy sampled 2 clients (out of 5)\n",
      "DEBUG flwr 2023-04-14 11:23:58,087 | server.py:179 | evaluate_round 32 received 2 results and 0 failures\n",
      "DEBUG flwr 2023-04-14 11:23:58,087 | server.py:215 | fit_round 33: strategy sampled 2 clients (out of 5)\n"
     ]
    },
    {
     "output_type": "stream",
     "name": "stdout",
     "text": [
      "\t {'val_loss': 3.5697191953659058, 'val_accuracy': 0.4}\n"
     ]
    },
    {
     "output_type": "stream",
     "name": "stderr",
     "text": [
      "DEBUG flwr 2023-04-14 11:25:29,398 | server.py:229 | fit_round 33 received 2 results and 0 failures\n"
     ]
    },
    {
     "output_type": "stream",
     "name": "stdout",
     "text": [
      "\t {'train_loss': 3.1999984979629517, 'train_accuracy': 0.8777777777777778}\n"
     ]
    },
    {
     "output_type": "stream",
     "name": "stderr",
     "text": [
      "INFO flwr 2023-04-14 11:25:34,432 | server.py:116 | fit progress: (33, 14.903616905212402, {'test_loss': 14.903616905212402, 'test_accuracy': 0.36}, 3327.0534291000004)\n",
      "DEBUG flwr 2023-04-14 11:25:34,432 | server.py:165 | evaluate_round 33: strategy sampled 2 clients (out of 5)\n",
      "DEBUG flwr 2023-04-14 11:25:39,023 | server.py:179 | evaluate_round 33 received 2 results and 0 failures\n",
      "DEBUG flwr 2023-04-14 11:25:39,024 | server.py:215 | fit_round 34: strategy sampled 2 clients (out of 5)\n"
     ]
    },
    {
     "output_type": "stream",
     "name": "stdout",
     "text": [
      "\t {'val_loss': 3.5546778440475464, 'val_accuracy': 0.4}\n"
     ]
    },
    {
     "output_type": "stream",
     "name": "stderr",
     "text": [
      "DEBUG flwr 2023-04-14 11:27:10,307 | server.py:229 | fit_round 34 received 2 results and 0 failures\n"
     ]
    },
    {
     "output_type": "stream",
     "name": "stdout",
     "text": [
      "\t {'train_loss': 2.9718798398971558, 'train_accuracy': 0.9333333333333332}\n"
     ]
    },
    {
     "output_type": "stream",
     "name": "stderr",
     "text": [
      "INFO flwr 2023-04-14 11:27:15,341 | server.py:116 | fit progress: (34, 15.04146671295166, {'test_loss': 15.04146671295166, 'test_accuracy': 0.38}, 3427.9624979)\n",
      "DEBUG flwr 2023-04-14 11:27:15,342 | server.py:165 | evaluate_round 34: strategy sampled 2 clients (out of 5)\n",
      "DEBUG flwr 2023-04-14 11:27:20,349 | server.py:179 | evaluate_round 34 received 2 results and 0 failures\n",
      "DEBUG flwr 2023-04-14 11:27:20,350 | server.py:215 | fit_round 35: strategy sampled 2 clients (out of 5)\n"
     ]
    },
    {
     "output_type": "stream",
     "name": "stdout",
     "text": [
      "\t {'val_loss': 3.7455776929855347, 'val_accuracy': 0.2}\n"
     ]
    },
    {
     "output_type": "stream",
     "name": "stderr",
     "text": [
      "DEBUG flwr 2023-04-14 11:28:51,554 | server.py:229 | fit_round 35 received 2 results and 0 failures\n"
     ]
    },
    {
     "output_type": "stream",
     "name": "stdout",
     "text": [
      "\t {'train_loss': 2.878932237625122, 'train_accuracy': 0.9138888888888888}\n"
     ]
    },
    {
     "output_type": "stream",
     "name": "stderr",
     "text": [
      "INFO flwr 2023-04-14 11:28:56,628 | server.py:116 | fit progress: (35, 14.94957447052002, {'test_loss': 14.94957447052002, 'test_accuracy': 0.33}, 3529.2491647999996)\n",
      "DEBUG flwr 2023-04-14 11:28:56,628 | server.py:165 | evaluate_round 35: strategy sampled 2 clients (out of 5)\n",
      "DEBUG flwr 2023-04-14 11:29:01,322 | server.py:179 | evaluate_round 35 received 2 results and 0 failures\n",
      "DEBUG flwr 2023-04-14 11:29:01,323 | server.py:215 | fit_round 36: strategy sampled 2 clients (out of 5)\n"
     ]
    },
    {
     "output_type": "stream",
     "name": "stdout",
     "text": [
      "\t {'val_loss': 3.577792167663574, 'val_accuracy': 0.25}\n"
     ]
    },
    {
     "output_type": "stream",
     "name": "stderr",
     "text": [
      "DEBUG flwr 2023-04-14 11:30:33,313 | server.py:229 | fit_round 36 received 2 results and 0 failures\n"
     ]
    },
    {
     "output_type": "stream",
     "name": "stdout",
     "text": [
      "\t {'train_loss': 2.825355648994446, 'train_accuracy': 0.9138888888888888}\n"
     ]
    },
    {
     "output_type": "stream",
     "name": "stderr",
     "text": [
      "INFO flwr 2023-04-14 11:30:38,272 | server.py:116 | fit progress: (36, 14.65776252746582, {'test_loss': 14.65776252746582, 'test_accuracy': 0.4}, 3630.893460499996)\n",
      "DEBUG flwr 2023-04-14 11:30:38,273 | server.py:165 | evaluate_round 36: strategy sampled 2 clients (out of 5)\n",
      "DEBUG flwr 2023-04-14 11:30:42,973 | server.py:179 | evaluate_round 36 received 2 results and 0 failures\n",
      "DEBUG flwr 2023-04-14 11:30:42,974 | server.py:215 | fit_round 37: strategy sampled 2 clients (out of 5)\n"
     ]
    },
    {
     "output_type": "stream",
     "name": "stdout",
     "text": [
      "\t {'val_loss': 3.511940598487854, 'val_accuracy': 0.35}\n"
     ]
    },
    {
     "output_type": "stream",
     "name": "stderr",
     "text": [
      "DEBUG flwr 2023-04-14 11:32:14,446 | server.py:229 | fit_round 37 received 2 results and 0 failures\n"
     ]
    },
    {
     "output_type": "stream",
     "name": "stdout",
     "text": [
      "\t {'train_loss': 2.9331324100494385, 'train_accuracy': 0.9111111111111111}\n"
     ]
    },
    {
     "output_type": "stream",
     "name": "stderr",
     "text": [
      "INFO flwr 2023-04-14 11:32:19,622 | server.py:116 | fit progress: (37, 14.661449432373047, {'test_loss': 14.661449432373047, 'test_accuracy': 0.36}, 3732.2428806000025)\n",
      "DEBUG flwr 2023-04-14 11:32:19,622 | server.py:165 | evaluate_round 37: strategy sampled 2 clients (out of 5)\n",
      "DEBUG flwr 2023-04-14 11:32:24,281 | server.py:179 | evaluate_round 37 received 2 results and 0 failures\n",
      "DEBUG flwr 2023-04-14 11:32:24,282 | server.py:215 | fit_round 38: strategy sampled 2 clients (out of 5)\n"
     ]
    },
    {
     "output_type": "stream",
     "name": "stdout",
     "text": [
      "\t {'val_loss': 3.5119314193725586, 'val_accuracy': 0.375}\n"
     ]
    },
    {
     "output_type": "stream",
     "name": "stderr",
     "text": [
      "DEBUG flwr 2023-04-14 11:33:55,692 | server.py:229 | fit_round 38 received 2 results and 0 failures\n"
     ]
    },
    {
     "output_type": "stream",
     "name": "stdout",
     "text": [
      "\t {'train_loss': 2.8389599323272705, 'train_accuracy': 0.9444444444444443}\n"
     ]
    },
    {
     "output_type": "stream",
     "name": "stderr",
     "text": [
      "INFO flwr 2023-04-14 11:34:00,696 | server.py:116 | fit progress: (38, 14.355209350585938, {'test_loss': 14.355209350585938, 'test_accuracy': 0.39}, 3833.317115799997)\n",
      "DEBUG flwr 2023-04-14 11:34:00,696 | server.py:165 | evaluate_round 38: strategy sampled 2 clients (out of 5)\n",
      "DEBUG flwr 2023-04-14 11:34:05,285 | server.py:179 | evaluate_round 38 received 2 results and 0 failures\n",
      "DEBUG flwr 2023-04-14 11:34:05,285 | server.py:215 | fit_round 39: strategy sampled 2 clients (out of 5)\n"
     ]
    },
    {
     "output_type": "stream",
     "name": "stdout",
     "text": [
      "\t {'val_loss': 3.6973352432250977, 'val_accuracy': 0.2}\n"
     ]
    },
    {
     "output_type": "stream",
     "name": "stderr",
     "text": [
      "DEBUG flwr 2023-04-14 11:35:36,686 | server.py:229 | fit_round 39 received 2 results and 0 failures\n"
     ]
    },
    {
     "output_type": "stream",
     "name": "stdout",
     "text": [
      "\t {'train_loss': 2.894034743309021, 'train_accuracy': 0.9277777777777777}\n"
     ]
    },
    {
     "output_type": "stream",
     "name": "stderr",
     "text": [
      "INFO flwr 2023-04-14 11:35:41,735 | server.py:116 | fit progress: (39, 14.38361930847168, {'test_loss': 14.38361930847168, 'test_accuracy': 0.38}, 3934.3558393999992)\n",
      "DEBUG flwr 2023-04-14 11:35:41,736 | server.py:165 | evaluate_round 39: strategy sampled 2 clients (out of 5)\n",
      "DEBUG flwr 2023-04-14 11:35:46,359 | server.py:179 | evaluate_round 39 received 2 results and 0 failures\n",
      "DEBUG flwr 2023-04-14 11:35:46,359 | server.py:215 | fit_round 40: strategy sampled 2 clients (out of 5)\n"
     ]
    },
    {
     "output_type": "stream",
     "name": "stdout",
     "text": [
      "\t {'val_loss': 3.6701242923736572, 'val_accuracy': 0.25}\n"
     ]
    },
    {
     "output_type": "stream",
     "name": "stderr",
     "text": [
      "DEBUG flwr 2023-04-14 11:37:17,868 | server.py:229 | fit_round 40 received 2 results and 0 failures\n"
     ]
    },
    {
     "output_type": "stream",
     "name": "stdout",
     "text": [
      "\t {'train_loss': 2.671175003051758, 'train_accuracy': 0.9638888888888889}\n"
     ]
    },
    {
     "output_type": "stream",
     "name": "stderr",
     "text": [
      "INFO flwr 2023-04-14 11:37:22,875 | server.py:116 | fit progress: (40, 14.1836576461792, {'test_loss': 14.1836576461792, 'test_accuracy': 0.4}, 4035.4969803999993)\n",
      "DEBUG flwr 2023-04-14 11:37:22,876 | server.py:165 | evaluate_round 40: strategy sampled 2 clients (out of 5)\n",
      "DEBUG flwr 2023-04-14 11:37:27,449 | server.py:179 | evaluate_round 40 received 2 results and 0 failures\n",
      "DEBUG flwr 2023-04-14 11:37:27,450 | server.py:215 | fit_round 41: strategy sampled 2 clients (out of 5)\n"
     ]
    },
    {
     "output_type": "stream",
     "name": "stdout",
     "text": [
      "\t {'val_loss': 3.545806884765625, 'val_accuracy': 0.325}\n"
     ]
    },
    {
     "output_type": "stream",
     "name": "stderr",
     "text": [
      "DEBUG flwr 2023-04-14 11:38:58,607 | server.py:229 | fit_round 41 received 2 results and 0 failures\n"
     ]
    },
    {
     "output_type": "stream",
     "name": "stdout",
     "text": [
      "\t {'train_loss': 2.5221264362335205, 'train_accuracy': 0.9444444444444443}\n"
     ]
    },
    {
     "output_type": "stream",
     "name": "stderr",
     "text": [
      "INFO flwr 2023-04-14 11:39:03,641 | server.py:116 | fit progress: (41, 14.09615707397461, {'test_loss': 14.09615707397461, 'test_accuracy': 0.42}, 4136.262359699998)\n",
      "DEBUG flwr 2023-04-14 11:39:03,641 | server.py:165 | evaluate_round 41: strategy sampled 2 clients (out of 5)\n",
      "DEBUG flwr 2023-04-14 11:39:08,360 | server.py:179 | evaluate_round 41 received 2 results and 0 failures\n",
      "DEBUG flwr 2023-04-14 11:39:08,361 | server.py:215 | fit_round 42: strategy sampled 2 clients (out of 5)\n"
     ]
    },
    {
     "output_type": "stream",
     "name": "stdout",
     "text": [
      "\t {'val_loss': 3.5929553508758545, 'val_accuracy': 0.3}\n"
     ]
    },
    {
     "output_type": "stream",
     "name": "stderr",
     "text": [
      "DEBUG flwr 2023-04-14 11:40:39,621 | server.py:229 | fit_round 42 received 2 results and 0 failures\n"
     ]
    },
    {
     "output_type": "stream",
     "name": "stdout",
     "text": [
      "\t {'train_loss': 2.416378974914551, 'train_accuracy': 0.9527777777777778}\n"
     ]
    },
    {
     "output_type": "stream",
     "name": "stderr",
     "text": [
      "INFO flwr 2023-04-14 11:40:44,645 | server.py:116 | fit progress: (42, 14.008630752563477, {'test_loss': 14.008630752563477, 'test_accuracy': 0.44}, 4237.266636399996)\n",
      "DEBUG flwr 2023-04-14 11:40:44,646 | server.py:165 | evaluate_round 42: strategy sampled 2 clients (out of 5)\n",
      "DEBUG flwr 2023-04-14 11:40:49,277 | server.py:179 | evaluate_round 42 received 2 results and 0 failures\n",
      "DEBUG flwr 2023-04-14 11:40:49,277 | server.py:215 | fit_round 43: strategy sampled 2 clients (out of 5)\n"
     ]
    },
    {
     "output_type": "stream",
     "name": "stdout",
     "text": [
      "\t {'val_loss': 3.3934812545776367, 'val_accuracy': 0.35}\n"
     ]
    },
    {
     "output_type": "stream",
     "name": "stderr",
     "text": [
      "DEBUG flwr 2023-04-14 11:42:21,220 | server.py:229 | fit_round 43 received 2 results and 0 failures\n"
     ]
    },
    {
     "output_type": "stream",
     "name": "stdout",
     "text": [
      "\t {'train_loss': 2.405154585838318, 'train_accuracy': 0.9472222222222223}\n"
     ]
    },
    {
     "output_type": "stream",
     "name": "stderr",
     "text": [
      "INFO flwr 2023-04-14 11:42:26,201 | server.py:116 | fit progress: (43, 13.93409538269043, {'test_loss': 13.93409538269043, 'test_accuracy': 0.42}, 4338.822455299996)\n",
      "DEBUG flwr 2023-04-14 11:42:26,201 | server.py:165 | evaluate_round 43: strategy sampled 2 clients (out of 5)\n",
      "DEBUG flwr 2023-04-14 11:42:30,883 | server.py:179 | evaluate_round 43 received 2 results and 0 failures\n",
      "DEBUG flwr 2023-04-14 11:42:30,884 | server.py:215 | fit_round 44: strategy sampled 2 clients (out of 5)\n"
     ]
    },
    {
     "output_type": "stream",
     "name": "stdout",
     "text": [
      "\t {'val_loss': 3.459866523742676, 'val_accuracy': 0.35000000000000003}\n"
     ]
    },
    {
     "output_type": "stream",
     "name": "stderr",
     "text": [
      "DEBUG flwr 2023-04-14 11:44:02,487 | server.py:229 | fit_round 44 received 2 results and 0 failures\n"
     ]
    },
    {
     "output_type": "stream",
     "name": "stdout",
     "text": [
      "\t {'train_loss': 2.662588119506836, 'train_accuracy': 0.9277777777777777}\n"
     ]
    },
    {
     "output_type": "stream",
     "name": "stderr",
     "text": [
      "INFO flwr 2023-04-14 11:44:07,538 | server.py:116 | fit progress: (44, 13.835103988647461, {'test_loss': 13.835103988647461, 'test_accuracy': 0.44}, 4440.159581100001)\n",
      "DEBUG flwr 2023-04-14 11:44:07,539 | server.py:165 | evaluate_round 44: strategy sampled 2 clients (out of 5)\n",
      "DEBUG flwr 2023-04-14 11:44:12,289 | server.py:179 | evaluate_round 44 received 2 results and 0 failures\n",
      "DEBUG flwr 2023-04-14 11:44:12,289 | server.py:215 | fit_round 45: strategy sampled 2 clients (out of 5)\n"
     ]
    },
    {
     "output_type": "stream",
     "name": "stdout",
     "text": [
      "\t {'val_loss': 3.5687214136123657, 'val_accuracy': 0.275}\n"
     ]
    },
    {
     "output_type": "stream",
     "name": "stderr",
     "text": [
      "DEBUG flwr 2023-04-14 11:45:43,633 | server.py:229 | fit_round 45 received 2 results and 0 failures\n"
     ]
    },
    {
     "output_type": "stream",
     "name": "stdout",
     "text": [
      "\t {'train_loss': 2.277430534362793, 'train_accuracy': 0.9666666666666667}\n"
     ]
    },
    {
     "output_type": "stream",
     "name": "stderr",
     "text": [
      "INFO flwr 2023-04-14 11:45:48,615 | server.py:116 | fit progress: (45, 13.7749605178833, {'test_loss': 13.7749605178833, 'test_accuracy': 0.43}, 4541.236282699996)\n",
      "DEBUG flwr 2023-04-14 11:45:48,615 | server.py:165 | evaluate_round 45: strategy sampled 2 clients (out of 5)\n",
      "DEBUG flwr 2023-04-14 11:45:53,290 | server.py:179 | evaluate_round 45 received 2 results and 0 failures\n",
      "DEBUG flwr 2023-04-14 11:45:53,290 | server.py:215 | fit_round 46: strategy sampled 2 clients (out of 5)\n"
     ]
    },
    {
     "output_type": "stream",
     "name": "stdout",
     "text": [
      "\t {'val_loss': 3.268312931060791, 'val_accuracy': 0.45}\n"
     ]
    },
    {
     "output_type": "stream",
     "name": "stderr",
     "text": [
      "DEBUG flwr 2023-04-14 11:47:24,698 | server.py:229 | fit_round 46 received 2 results and 0 failures\n"
     ]
    },
    {
     "output_type": "stream",
     "name": "stdout",
     "text": [
      "\t {'train_loss': 2.160423517227173, 'train_accuracy': 0.975}\n"
     ]
    },
    {
     "output_type": "stream",
     "name": "stderr",
     "text": [
      "INFO flwr 2023-04-14 11:47:29,723 | server.py:116 | fit progress: (46, 13.74581527709961, {'test_loss': 13.74581527709961, 'test_accuracy': 0.44}, 4642.3442190999995)\n",
      "DEBUG flwr 2023-04-14 11:47:29,723 | server.py:165 | evaluate_round 46: strategy sampled 2 clients (out of 5)\n",
      "DEBUG flwr 2023-04-14 11:47:34,376 | server.py:179 | evaluate_round 46 received 2 results and 0 failures\n",
      "DEBUG flwr 2023-04-14 11:47:34,377 | server.py:215 | fit_round 47: strategy sampled 2 clients (out of 5)\n"
     ]
    },
    {
     "output_type": "stream",
     "name": "stdout",
     "text": [
      "\t {'val_loss': 3.5222408771514893, 'val_accuracy': 0.325}\n"
     ]
    },
    {
     "output_type": "stream",
     "name": "stderr",
     "text": [
      "DEBUG flwr 2023-04-14 11:49:05,949 | server.py:229 | fit_round 47 received 2 results and 0 failures\n"
     ]
    },
    {
     "output_type": "stream",
     "name": "stdout",
     "text": [
      "\t {'train_loss': 2.264971137046814, 'train_accuracy': 0.9694444444444444}\n"
     ]
    },
    {
     "output_type": "stream",
     "name": "stderr",
     "text": [
      "INFO flwr 2023-04-14 11:49:10,955 | server.py:116 | fit progress: (47, 13.637239456176758, {'test_loss': 13.637239456176758, 'test_accuracy': 0.43}, 4743.576142999998)\n",
      "DEBUG flwr 2023-04-14 11:49:10,955 | server.py:165 | evaluate_round 47: strategy sampled 2 clients (out of 5)\n",
      "DEBUG flwr 2023-04-14 11:49:15,505 | server.py:179 | evaluate_round 47 received 2 results and 0 failures\n",
      "DEBUG flwr 2023-04-14 11:49:15,506 | server.py:215 | fit_round 48: strategy sampled 2 clients (out of 5)\n"
     ]
    },
    {
     "output_type": "stream",
     "name": "stdout",
     "text": [
      "\t {'val_loss': 3.2689625024795532, 'val_accuracy': 0.35}\n"
     ]
    },
    {
     "output_type": "stream",
     "name": "stderr",
     "text": [
      "DEBUG flwr 2023-04-14 11:50:47,012 | server.py:229 | fit_round 48 received 2 results and 0 failures\n"
     ]
    },
    {
     "output_type": "stream",
     "name": "stdout",
     "text": [
      "\t {'train_loss': 1.9834661483764648, 'train_accuracy': 0.9777777777777777}\n"
     ]
    },
    {
     "output_type": "stream",
     "name": "stderr",
     "text": [
      "INFO flwr 2023-04-14 11:50:52,028 | server.py:116 | fit progress: (48, 13.773008346557617, {'test_loss': 13.773008346557617, 'test_accuracy': 0.44}, 4844.649794099998)\n",
      "DEBUG flwr 2023-04-14 11:50:52,029 | server.py:165 | evaluate_round 48: strategy sampled 2 clients (out of 5)\n",
      "DEBUG flwr 2023-04-14 11:50:56,618 | server.py:179 | evaluate_round 48 received 2 results and 0 failures\n",
      "DEBUG flwr 2023-04-14 11:50:56,618 | server.py:215 | fit_round 49: strategy sampled 2 clients (out of 5)\n"
     ]
    },
    {
     "output_type": "stream",
     "name": "stdout",
     "text": [
      "\t {'val_loss': 3.290630340576172, 'val_accuracy': 0.325}\n"
     ]
    },
    {
     "output_type": "stream",
     "name": "stderr",
     "text": [
      "DEBUG flwr 2023-04-14 11:52:28,300 | server.py:229 | fit_round 49 received 2 results and 0 failures\n"
     ]
    },
    {
     "output_type": "stream",
     "name": "stdout",
     "text": [
      "\t {'train_loss': 2.0800777673721313, 'train_accuracy': 0.9777777777777779}\n"
     ]
    },
    {
     "output_type": "stream",
     "name": "stderr",
     "text": [
      "INFO flwr 2023-04-14 11:52:33,323 | server.py:116 | fit progress: (49, 13.516804695129395, {'test_loss': 13.516804695129395, 'test_accuracy': 0.41}, 4945.943982799996)\n",
      "DEBUG flwr 2023-04-14 11:52:33,323 | server.py:165 | evaluate_round 49: strategy sampled 2 clients (out of 5)\n",
      "DEBUG flwr 2023-04-14 11:52:38,071 | server.py:179 | evaluate_round 49 received 2 results and 0 failures\n",
      "DEBUG flwr 2023-04-14 11:52:38,072 | server.py:215 | fit_round 50: strategy sampled 2 clients (out of 5)\n"
     ]
    },
    {
     "output_type": "stream",
     "name": "stdout",
     "text": [
      "\t {'val_loss': 3.298393964767456, 'val_accuracy': 0.35}\n"
     ]
    },
    {
     "output_type": "stream",
     "name": "stderr",
     "text": [
      "DEBUG flwr 2023-04-14 11:54:09,996 | server.py:229 | fit_round 50 received 2 results and 0 failures\n"
     ]
    },
    {
     "output_type": "stream",
     "name": "stdout",
     "text": [
      "\t {'train_loss': 1.9750043749809265, 'train_accuracy': 0.9833333333333334}\n"
     ]
    },
    {
     "output_type": "stream",
     "name": "stderr",
     "text": [
      "INFO flwr 2023-04-14 11:54:15,024 | server.py:116 | fit progress: (50, 13.34089183807373, {'test_loss': 13.34089183807373, 'test_accuracy': 0.42}, 5047.6451025999995)\n",
      "DEBUG flwr 2023-04-14 11:54:15,024 | server.py:165 | evaluate_round 50: strategy sampled 2 clients (out of 5)\n",
      "DEBUG flwr 2023-04-14 11:54:19,596 | server.py:179 | evaluate_round 50 received 2 results and 0 failures\n",
      "INFO flwr 2023-04-14 11:54:19,596 | server.py:144 | FL finished in 5052.2177281999975\n",
      "INFO flwr 2023-04-14 11:54:19,611 | app.py:202 | app_fit: losses_distributed [(1, 4.589823961257935), (2, 4.566037654876709), (3, 4.5126707553863525), (4, 4.488516330718994), (5, 4.457359313964844), (6, 4.400131702423096), (7, 4.39225697517395), (8, 4.354249954223633), (9, 4.346291542053223), (10, 4.2544896602630615), (11, 4.301051616668701), (12, 4.220438480377197), (13, 4.2056663036346436), (14, 4.199428081512451), (15, 4.197626829147339), (16, 4.070887565612793), (17, 4.0748610496521), (18, 4.093803644180298), (19, 4.042614817619324), (20, 3.921111822128296), (21, 3.9370113611221313), (22, 3.905157208442688), (23, 3.9852352142333984), (24, 3.773484945297241), (25, 3.9455636739730835), (26, 3.9497320652008057), (27, 3.755397915840149), (28, 3.868858218193054), (29, 3.7905853986740112), (30, 3.6865313053131104), (31, 3.6423521041870117), (32, 3.5697191953659058), (33, 3.5546778440475464), (34, 3.7455776929855347), (35, 3.577792167663574), (36, 3.511940598487854), (37, 3.5119314193725586), (38, 3.6973352432250977), (39, 3.6701242923736572), (40, 3.545806884765625), (41, 3.5929553508758545), (42, 3.3934812545776367), (43, 3.459866523742676), (44, 3.5687214136123657), (45, 3.268312931060791), (46, 3.5222408771514893), (47, 3.2689625024795532), (48, 3.290630340576172), (49, 3.298393964767456), (50, 3.4604979753494263)]\n",
      "INFO flwr 2023-04-14 11:54:19,612 | app.py:203 | app_fit: metrics_distributed {'val_loss': [(1, 4.589823961257935), (2, 4.566037654876709), (3, 4.5126707553863525), (4, 4.488516330718994), (5, 4.457359313964844), (6, 4.400131702423096), (7, 4.39225697517395), (8, 4.354249954223633), (9, 4.346291542053223), (10, 4.2544896602630615), (11, 4.301051616668701), (12, 4.220438480377197), (13, 4.2056663036346436), (14, 4.199428081512451), (15, 4.197626829147339), (16, 4.070887565612793), (17, 4.0748610496521), (18, 4.093803644180298), (19, 4.042614817619324), (20, 3.921111822128296), (21, 3.9370113611221313), (22, 3.905157208442688), (23, 3.9852352142333984), (24, 3.773484945297241), (25, 3.9455636739730835), (26, 3.9497320652008057), (27, 3.755397915840149), (28, 3.868858218193054), (29, 3.7905853986740112), (30, 3.6865313053131104), (31, 3.6423521041870117), (32, 3.5697191953659058), (33, 3.5546778440475464), (34, 3.7455776929855347), (35, 3.577792167663574), (36, 3.511940598487854), (37, 3.5119314193725586), (38, 3.6973352432250977), (39, 3.6701242923736572), (40, 3.545806884765625), (41, 3.5929553508758545), (42, 3.3934812545776367), (43, 3.459866523742676), (44, 3.5687214136123657), (45, 3.268312931060791), (46, 3.5222408771514893), (47, 3.2689625024795532), (48, 3.290630340576172), (49, 3.298393964767456), (50, 3.4604979753494263)], 'val_accuracy': [(1, 0.0), (2, 0.0), (3, 0.0), (4, 0.025), (5, 0.025), (6, 0.05), (7, 0.1), (8, 0.15), (9, 0.175), (10, 0.2), (11, 0.125), (12, 0.275), (13, 0.15000000000000002), (14, 0.2), (15, 0.175), (16, 0.3), (17, 0.2), (18, 0.2), (19, 0.25), (20, 0.275), (21, 0.32499999999999996), (22, 0.30000000000000004), (23, 0.175), (24, 0.275), (25, 0.175), (26, 0.175), (27, 0.3), (28, 0.2), (29, 0.325), (30, 0.3), (31, 0.25), (32, 0.4), (33, 0.4), (34, 0.2), (35, 0.25), (36, 0.35), (37, 0.375), (38, 0.2), (39, 0.25), (40, 0.325), (41, 0.3), (42, 0.35), (43, 0.35000000000000003), (44, 0.275), (45, 0.45), (46, 0.325), (47, 0.35), (48, 0.325), (49, 0.35), (50, 0.2)]}\n",
      "INFO flwr 2023-04-14 11:54:19,612 | app.py:204 | app_fit: losses_centralized [(0, 18.458995819091797), (1, 18.382328033447266), (2, 18.24842071533203), (3, 18.12781524658203), (4, 18.03220558166504), (5, 17.911827087402344), (6, 17.819177627563477), (7, 17.736066818237305), (8, 17.582422256469727), (9, 17.474782943725586), (10, 17.36840057373047), (11, 17.273902893066406), (12, 17.190834045410156), (13, 17.022125244140625), (14, 16.984622955322266), (15, 16.80813980102539), (16, 16.671255111694336), (17, 16.585453033447266), (18, 16.499835968017578), (19, 16.36540985107422), (20, 16.284210205078125), (21, 16.20964813232422), (22, 16.047523498535156), (23, 15.97365665435791), (24, 15.757916450500488), (25, 15.642339706420898), (26, 15.633750915527344), (27, 15.56478214263916), (28, 15.300052642822266), (29, 15.371759414672852), (30, 15.031281471252441), (31, 15.139382362365723), (32, 15.082768440246582), (33, 14.903616905212402), (34, 15.04146671295166), (35, 14.94957447052002), (36, 14.65776252746582), (37, 14.661449432373047), (38, 14.355209350585938), (39, 14.38361930847168), (40, 14.1836576461792), (41, 14.09615707397461), (42, 14.008630752563477), (43, 13.93409538269043), (44, 13.835103988647461), (45, 13.7749605178833), (46, 13.74581527709961), (47, 13.637239456176758), (48, 13.773008346557617), (49, 13.516804695129395), (50, 13.34089183807373)]\n",
      "INFO flwr 2023-04-14 11:54:19,612 | app.py:205 | app_fit: metrics_centralized {'test_loss': [(0, 18.458995819091797), (1, 18.382328033447266), (2, 18.24842071533203), (3, 18.12781524658203), (4, 18.03220558166504), (5, 17.911827087402344), (6, 17.819177627563477), (7, 17.736066818237305), (8, 17.582422256469727), (9, 17.474782943725586), (10, 17.36840057373047), (11, 17.273902893066406), (12, 17.190834045410156), (13, 17.022125244140625), (14, 16.984622955322266), (15, 16.80813980102539), (16, 16.671255111694336), (17, 16.585453033447266), (18, 16.499835968017578), (19, 16.36540985107422), (20, 16.284210205078125), (21, 16.20964813232422), (22, 16.047523498535156), (23, 15.97365665435791), (24, 15.757916450500488), (25, 15.642339706420898), (26, 15.633750915527344), (27, 15.56478214263916), (28, 15.300052642822266), (29, 15.371759414672852), (30, 15.031281471252441), (31, 15.139382362365723), (32, 15.082768440246582), (33, 14.903616905212402), (34, 15.04146671295166), (35, 14.94957447052002), (36, 14.65776252746582), (37, 14.661449432373047), (38, 14.355209350585938), (39, 14.38361930847168), (40, 14.1836576461792), (41, 14.09615707397461), (42, 14.008630752563477), (43, 13.93409538269043), (44, 13.835103988647461), (45, 13.7749605178833), (46, 13.74581527709961), (47, 13.637239456176758), (48, 13.773008346557617), (49, 13.516804695129395), (50, 13.34089183807373)], 'test_accuracy': [(0, 0.0), (1, 0.0), (2, 0.04), (3, 0.03), (4, 0.05), (5, 0.05), (6, 0.06), (7, 0.09), (8, 0.09), (9, 0.12), (10, 0.13), (11, 0.14), (12, 0.15), (13, 0.14), (14, 0.15), (15, 0.17), (16, 0.2), (17, 0.21), (18, 0.21), (19, 0.25), (20, 0.21), (21, 0.22), (22, 0.24), (23, 0.27), (24, 0.27), (25, 0.34), (26, 0.33), (27, 0.29), (28, 0.31), (29, 0.3), (30, 0.31), (31, 0.3), (32, 0.35), (33, 0.36), (34, 0.38), (35, 0.33), (36, 0.4), (37, 0.36), (38, 0.39), (39, 0.38), (40, 0.4), (41, 0.42), (42, 0.44), (43, 0.42), (44, 0.44), (45, 0.43), (46, 0.44), (47, 0.43), (48, 0.44), (49, 0.41), (50, 0.42)]}\n"
     ]
    },
    {
     "output_type": "stream",
     "name": "stdout",
     "text": [
      "\t {'val_loss': 3.4604979753494263, 'val_accuracy': 0.2}\n"
     ]
    },
    {
     "output_type": "execute_result",
     "data": {
      "text/plain": [
       "History (loss, distributed):\n",
       "\tround 1: 4.589823961257935\n",
       "\tround 2: 4.566037654876709\n",
       "\tround 3: 4.5126707553863525\n",
       "\tround 4: 4.488516330718994\n",
       "\tround 5: 4.457359313964844\n",
       "\tround 6: 4.400131702423096\n",
       "\tround 7: 4.39225697517395\n",
       "\tround 8: 4.354249954223633\n",
       "\tround 9: 4.346291542053223\n",
       "\tround 10: 4.2544896602630615\n",
       "\tround 11: 4.301051616668701\n",
       "\tround 12: 4.220438480377197\n",
       "\tround 13: 4.2056663036346436\n",
       "\tround 14: 4.199428081512451\n",
       "\tround 15: 4.197626829147339\n",
       "\tround 16: 4.070887565612793\n",
       "\tround 17: 4.0748610496521\n",
       "\tround 18: 4.093803644180298\n",
       "\tround 19: 4.042614817619324\n",
       "\tround 20: 3.921111822128296\n",
       "\tround 21: 3.9370113611221313\n",
       "\tround 22: 3.905157208442688\n",
       "\tround 23: 3.9852352142333984\n",
       "\tround 24: 3.773484945297241\n",
       "\tround 25: 3.9455636739730835\n",
       "\tround 26: 3.9497320652008057\n",
       "\tround 27: 3.755397915840149\n",
       "\tround 28: 3.868858218193054\n",
       "\tround 29: 3.7905853986740112\n",
       "\tround 30: 3.6865313053131104\n",
       "\tround 31: 3.6423521041870117\n",
       "\tround 32: 3.5697191953659058\n",
       "\tround 33: 3.5546778440475464\n",
       "\tround 34: 3.7455776929855347\n",
       "\tround 35: 3.577792167663574\n",
       "\tround 36: 3.511940598487854\n",
       "\tround 37: 3.5119314193725586\n",
       "\tround 38: 3.6973352432250977\n",
       "\tround 39: 3.6701242923736572\n",
       "\tround 40: 3.545806884765625\n",
       "\tround 41: 3.5929553508758545\n",
       "\tround 42: 3.3934812545776367\n",
       "\tround 43: 3.459866523742676\n",
       "\tround 44: 3.5687214136123657\n",
       "\tround 45: 3.268312931060791\n",
       "\tround 46: 3.5222408771514893\n",
       "\tround 47: 3.2689625024795532\n",
       "\tround 48: 3.290630340576172\n",
       "\tround 49: 3.298393964767456\n",
       "\tround 50: 3.4604979753494263\n",
       "History (loss, centralized):\n",
       "\tround 0: 18.458995819091797\n",
       "\tround 1: 18.382328033447266\n",
       "\tround 2: 18.24842071533203\n",
       "\tround 3: 18.12781524658203\n",
       "\tround 4: 18.03220558166504\n",
       "\tround 5: 17.911827087402344\n",
       "\tround 6: 17.819177627563477\n",
       "\tround 7: 17.736066818237305\n",
       "\tround 8: 17.582422256469727\n",
       "\tround 9: 17.474782943725586\n",
       "\tround 10: 17.36840057373047\n",
       "\tround 11: 17.273902893066406\n",
       "\tround 12: 17.190834045410156\n",
       "\tround 13: 17.022125244140625\n",
       "\tround 14: 16.984622955322266\n",
       "\tround 15: 16.80813980102539\n",
       "\tround 16: 16.671255111694336\n",
       "\tround 17: 16.585453033447266\n",
       "\tround 18: 16.499835968017578\n",
       "\tround 19: 16.36540985107422\n",
       "\tround 20: 16.284210205078125\n",
       "\tround 21: 16.20964813232422\n",
       "\tround 22: 16.047523498535156\n",
       "\tround 23: 15.97365665435791\n",
       "\tround 24: 15.757916450500488\n",
       "\tround 25: 15.642339706420898\n",
       "\tround 26: 15.633750915527344\n",
       "\tround 27: 15.56478214263916\n",
       "\tround 28: 15.300052642822266\n",
       "\tround 29: 15.371759414672852\n",
       "\tround 30: 15.031281471252441\n",
       "\tround 31: 15.139382362365723\n",
       "\tround 32: 15.082768440246582\n",
       "\tround 33: 14.903616905212402\n",
       "\tround 34: 15.04146671295166\n",
       "\tround 35: 14.94957447052002\n",
       "\tround 36: 14.65776252746582\n",
       "\tround 37: 14.661449432373047\n",
       "\tround 38: 14.355209350585938\n",
       "\tround 39: 14.38361930847168\n",
       "\tround 40: 14.1836576461792\n",
       "\tround 41: 14.09615707397461\n",
       "\tround 42: 14.008630752563477\n",
       "\tround 43: 13.93409538269043\n",
       "\tround 44: 13.835103988647461\n",
       "\tround 45: 13.7749605178833\n",
       "\tround 46: 13.74581527709961\n",
       "\tround 47: 13.637239456176758\n",
       "\tround 48: 13.773008346557617\n",
       "\tround 49: 13.516804695129395\n",
       "\tround 50: 13.34089183807373\n",
       "History (metrics, distributed):\n",
       "{'val_loss': [(1, 4.589823961257935), (2, 4.566037654876709), (3, 4.5126707553863525), (4, 4.488516330718994), (5, 4.457359313964844), (6, 4.400131702423096), (7, 4.39225697517395), (8, 4.354249954223633), (9, 4.346291542053223), (10, 4.2544896602630615), (11, 4.301051616668701), (12, 4.220438480377197), (13, 4.2056663036346436), (14, 4.199428081512451), (15, 4.197626829147339), (16, 4.070887565612793), (17, 4.0748610496521), (18, 4.093803644180298), (19, 4.042614817619324), (20, 3.921111822128296), (21, 3.9370113611221313), (22, 3.905157208442688), (23, 3.9852352142333984), (24, 3.773484945297241), (25, 3.9455636739730835), (26, 3.9497320652008057), (27, 3.755397915840149), (28, 3.868858218193054), (29, 3.7905853986740112), (30, 3.6865313053131104), (31, 3.6423521041870117), (32, 3.5697191953659058), (33, 3.5546778440475464), (34, 3.7455776929855347), (35, 3.577792167663574), (36, 3.511940598487854), (37, 3.5119314193725586), (38, 3.6973352432250977), (39, 3.6701242923736572), (40, 3.545806884765625), (41, 3.5929553508758545), (42, 3.3934812545776367), (43, 3.459866523742676), (44, 3.5687214136123657), (45, 3.268312931060791), (46, 3.5222408771514893), (47, 3.2689625024795532), (48, 3.290630340576172), (49, 3.298393964767456), (50, 3.4604979753494263)], 'val_accuracy': [(1, 0.0), (2, 0.0), (3, 0.0), (4, 0.025), (5, 0.025), (6, 0.05), (7, 0.1), (8, 0.15), (9, 0.175), (10, 0.2), (11, 0.125), (12, 0.275), (13, 0.15000000000000002), (14, 0.2), (15, 0.175), (16, 0.3), (17, 0.2), (18, 0.2), (19, 0.25), (20, 0.275), (21, 0.32499999999999996), (22, 0.30000000000000004), (23, 0.175), (24, 0.275), (25, 0.175), (26, 0.175), (27, 0.3), (28, 0.2), (29, 0.325), (30, 0.3), (31, 0.25), (32, 0.4), (33, 0.4), (34, 0.2), (35, 0.25), (36, 0.35), (37, 0.375), (38, 0.2), (39, 0.25), (40, 0.325), (41, 0.3), (42, 0.35), (43, 0.35000000000000003), (44, 0.275), (45, 0.45), (46, 0.325), (47, 0.35), (48, 0.325), (49, 0.35), (50, 0.2)]}History (metrics, centralized):\n",
       "{'test_loss': [(0, 18.458995819091797), (1, 18.382328033447266), (2, 18.24842071533203), (3, 18.12781524658203), (4, 18.03220558166504), (5, 17.911827087402344), (6, 17.819177627563477), (7, 17.736066818237305), (8, 17.582422256469727), (9, 17.474782943725586), (10, 17.36840057373047), (11, 17.273902893066406), (12, 17.190834045410156), (13, 17.022125244140625), (14, 16.984622955322266), (15, 16.80813980102539), (16, 16.671255111694336), (17, 16.585453033447266), (18, 16.499835968017578), (19, 16.36540985107422), (20, 16.284210205078125), (21, 16.20964813232422), (22, 16.047523498535156), (23, 15.97365665435791), (24, 15.757916450500488), (25, 15.642339706420898), (26, 15.633750915527344), (27, 15.56478214263916), (28, 15.300052642822266), (29, 15.371759414672852), (30, 15.031281471252441), (31, 15.139382362365723), (32, 15.082768440246582), (33, 14.903616905212402), (34, 15.04146671295166), (35, 14.94957447052002), (36, 14.65776252746582), (37, 14.661449432373047), (38, 14.355209350585938), (39, 14.38361930847168), (40, 14.1836576461792), (41, 14.09615707397461), (42, 14.008630752563477), (43, 13.93409538269043), (44, 13.835103988647461), (45, 13.7749605178833), (46, 13.74581527709961), (47, 13.637239456176758), (48, 13.773008346557617), (49, 13.516804695129395), (50, 13.34089183807373)], 'test_accuracy': [(0, 0.0), (1, 0.0), (2, 0.04), (3, 0.03), (4, 0.05), (5, 0.05), (6, 0.06), (7, 0.09), (8, 0.09), (9, 0.12), (10, 0.13), (11, 0.14), (12, 0.15), (13, 0.14), (14, 0.15), (15, 0.17), (16, 0.2), (17, 0.21), (18, 0.21), (19, 0.25), (20, 0.21), (21, 0.22), (22, 0.24), (23, 0.27), (24, 0.27), (25, 0.34), (26, 0.33), (27, 0.29), (28, 0.31), (29, 0.3), (30, 0.31), (31, 0.3), (32, 0.35), (33, 0.36), (34, 0.38), (35, 0.33), (36, 0.4), (37, 0.36), (38, 0.39), (39, 0.38), (40, 0.4), (41, 0.42), (42, 0.44), (43, 0.42), (44, 0.44), (45, 0.43), (46, 0.44), (47, 0.43), (48, 0.44), (49, 0.41), (50, 0.42)]}"
      ]
     },
     "metadata": {},
     "execution_count": 7
    }
   ],
   "metadata": {}
  }
 ],
 "nbformat": 4,
 "nbformat_minor": 2,
 "metadata": {
  "language_info": {
   "codemirror_mode": {
    "name": "ipython",
    "version": 3
   },
   "file_extension": ".py",
   "mimetype": "text/x-python",
   "name": "python",
   "nbconvert_exporter": "python",
   "pygments_lexer": "ipython3",
   "version": 3
  },
  "orig_nbformat": 4
 }
}