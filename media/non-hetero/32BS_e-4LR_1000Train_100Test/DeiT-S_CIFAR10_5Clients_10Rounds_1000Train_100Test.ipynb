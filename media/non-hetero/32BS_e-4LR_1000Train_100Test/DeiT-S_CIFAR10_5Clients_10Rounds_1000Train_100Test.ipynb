{
 "cells": [
  {
   "cell_type": "code",
   "execution_count": 6,
   "source": [
    "print('num clients:', NUM_CLIENTS)\n",
    "print('num rounds:', NUM_ROUNDS)\n",
    "print('--'*20)\n",
    "print('client training set size:', [len(t.dataset) for t in trainloaders])\n",
    "print('client validation set size:', [len(v.dataset) for v in valloaders])\n",
    "print('test set size:', len(testloader.dataset))\n",
    "print('--'*20)\n",
    "print('model name:', MODEL_NAME)\n",
    "print('num classes:', NUM_CLASSES)\n",
    "print('pre-trained:', PRE_TRAINED)\n",
    "print('learning rate:', LEARNING_RATE)\n",
    "print('batch size:', BATCH_SIZE)\n",
    "print('epochs:', EPOCHS)"
   ],
   "outputs": [
    {
     "output_type": "stream",
     "name": "stdout",
     "text": [
      "num clients: 2\n",
      "num rounds: 10\n",
      "----------------------------------------\n",
      "client training set size: [450, 450]\n",
      "client validation set size: [50, 50]\n",
      "test set size: 100\n",
      "----------------------------------------\n",
      "model name: facebook/deit-small-distilled-patch16-224\n",
      "num classes: 10\n",
      "pre-trained: True\n",
      "learning rate: 0.0001\n",
      "batch size: 32\n",
      "epochs: 1\n"
     ]
    }
   ],
   "metadata": {}
  },
  {
   "cell_type": "code",
   "execution_count": 7,
   "source": [
    "fl.simulation.start_simulation(\n",
    "    client_fn=lambda cid: FlowerClient(MODEL_CONFIG, trainloaders[int(cid)], valloaders[int(cid)]),\n",
    "    num_clients=NUM_CLIENTS,\n",
    "    config=fl.server.ServerConfig(num_rounds=NUM_ROUNDS),\n",
    "    strategy=strategy,\n",
    "    client_resources=CLIENT_RESOURCES,\n",
    "    ray_init_args=RAY_ARGS,\n",
    ")"
   ],
   "outputs": [
    {
     "output_type": "stream",
     "name": "stderr",
     "text": [
      "INFO flwr 2023-04-16 19:53:17,474 | app.py:145 | Starting Flower simulation, config: ServerConfig(num_rounds=10, round_timeout=None)\n",
      "2023-04-16 19:53:19,642\tINFO worker.py:1529 -- Started a local Ray instance. View the dashboard at \u001b[1m\u001b[32m127.0.0.1:8265 \u001b[39m\u001b[22m\n",
      "INFO flwr 2023-04-16 19:53:20,935 | app.py:179 | Flower VCE: Ray initialized with resources: {'CPU': 24.0, 'GPU': 1.0, 'node:127.0.0.1': 1.0, 'memory': 10995041895.0, 'object_store_memory': 5497520947.0}\n",
      "INFO flwr 2023-04-16 19:53:20,936 | server.py:86 | Initializing global parameters\n",
      "INFO flwr 2023-04-16 19:53:20,936 | server.py:266 | Using initial parameters provided by strategy\n",
      "INFO flwr 2023-04-16 19:53:20,937 | server.py:88 | Evaluating initial parameters\n",
      "INFO flwr 2023-04-16 19:53:25,471 | server.py:91 | initial parameters (loss, other metrics): 9.281182289123535, {'test_loss': 9.281182289123535, 'test_accuracy': 0.08}\n",
      "INFO flwr 2023-04-16 19:53:25,471 | server.py:101 | FL starting\n",
      "DEBUG flwr 2023-04-16 19:53:25,472 | server.py:215 | fit_round 1: strategy sampled 2 clients (out of 2)\n",
      "DEBUG flwr 2023-04-16 19:56:25,987 | server.py:229 | fit_round 1 received 2 results and 0 failures\n"
     ]
    },
    {
     "output_type": "stream",
     "name": "stdout",
     "text": [
      "\t {'train_loss': 1.5460200309753418, 'train_accuracy': 0.49666666666666665}\n"
     ]
    },
    {
     "output_type": "stream",
     "name": "stderr",
     "text": [
      "INFO flwr 2023-04-16 19:56:30,587 | server.py:116 | fit progress: (1, 3.1581051349639893, {'test_loss': 3.1581051349639893, 'test_accuracy': 0.84}, 185.11582409997936)\n",
      "DEBUG flwr 2023-04-16 19:56:30,588 | server.py:165 | evaluate_round 1: strategy sampled 2 clients (out of 2)\n",
      "DEBUG flwr 2023-04-16 19:56:41,503 | server.py:179 | evaluate_round 1 received 2 results and 0 failures\n",
      "DEBUG flwr 2023-04-16 19:56:41,504 | server.py:215 | fit_round 2: strategy sampled 2 clients (out of 2)\n"
     ]
    },
    {
     "output_type": "stream",
     "name": "stdout",
     "text": [
      "\t {'val_loss': 1.4704975485801697, 'val_accuracy': 0.79}\n"
     ]
    },
    {
     "output_type": "stream",
     "name": "stderr",
     "text": [
      "DEBUG flwr 2023-04-16 19:59:38,192 | server.py:229 | fit_round 2 received 2 results and 0 failures\n"
     ]
    },
    {
     "output_type": "stream",
     "name": "stdout",
     "text": [
      "\t {'train_loss': 1.0093669444322586, 'train_accuracy': 0.8522222222222222}\n"
     ]
    },
    {
     "output_type": "stream",
     "name": "stderr",
     "text": [
      "INFO flwr 2023-04-16 19:59:42,799 | server.py:116 | fit progress: (2, 1.283987283706665, {'test_loss': 1.283987283706665, 'test_accuracy': 0.91}, 377.3273032999714)\n",
      "DEBUG flwr 2023-04-16 19:59:42,800 | server.py:165 | evaluate_round 2: strategy sampled 2 clients (out of 2)\n",
      "DEBUG flwr 2023-04-16 19:59:53,658 | server.py:179 | evaluate_round 2 received 2 results and 0 failures\n",
      "DEBUG flwr 2023-04-16 19:59:53,659 | server.py:215 | fit_round 3: strategy sampled 2 clients (out of 2)\n"
     ]
    },
    {
     "output_type": "stream",
     "name": "stdout",
     "text": [
      "\t {'val_loss': 0.6893776655197144, 'val_accuracy': 0.92}\n"
     ]
    },
    {
     "output_type": "stream",
     "name": "stderr",
     "text": [
      "DEBUG flwr 2023-04-16 20:02:49,645 | server.py:229 | fit_round 3 received 2 results and 0 failures\n"
     ]
    },
    {
     "output_type": "stream",
     "name": "stdout",
     "text": [
      "\t {'train_loss': 0.033358086831867695, 'train_accuracy': 0.9455555555555556}\n"
     ]
    },
    {
     "output_type": "stream",
     "name": "stderr",
     "text": [
      "INFO flwr 2023-04-16 20:02:54,245 | server.py:116 | fit progress: (3, 0.8999183773994446, {'test_loss': 0.8999183773994446, 'test_accuracy': 0.93}, 568.7741051999619)\n",
      "DEBUG flwr 2023-04-16 20:02:54,246 | server.py:165 | evaluate_round 3: strategy sampled 2 clients (out of 2)\n",
      "DEBUG flwr 2023-04-16 20:03:05,119 | server.py:179 | evaluate_round 3 received 2 results and 0 failures\n",
      "DEBUG flwr 2023-04-16 20:03:05,120 | server.py:215 | fit_round 4: strategy sampled 2 clients (out of 2)\n"
     ]
    },
    {
     "output_type": "stream",
     "name": "stdout",
     "text": [
      "\t {'val_loss': 0.5756811499595642, 'val_accuracy': 0.92}\n"
     ]
    },
    {
     "output_type": "stream",
     "name": "stderr",
     "text": [
      "DEBUG flwr 2023-04-16 20:06:02,011 | server.py:229 | fit_round 4 received 2 results and 0 failures\n"
     ]
    },
    {
     "output_type": "stream",
     "name": "stdout",
     "text": [
      "\t {'train_loss': 0.028735177591443062, 'train_accuracy': 0.9655555555555555}\n"
     ]
    },
    {
     "output_type": "stream",
     "name": "stderr",
     "text": [
      "INFO flwr 2023-04-16 20:06:06,592 | server.py:116 | fit progress: (4, 0.8444608449935913, {'test_loss': 0.8444608449935913, 'test_accuracy': 0.93}, 761.1210889999638)\n",
      "DEBUG flwr 2023-04-16 20:06:06,593 | server.py:165 | evaluate_round 4: strategy sampled 2 clients (out of 2)\n",
      "DEBUG flwr 2023-04-16 20:06:17,531 | server.py:179 | evaluate_round 4 received 2 results and 0 failures\n",
      "DEBUG flwr 2023-04-16 20:06:17,532 | server.py:215 | fit_round 5: strategy sampled 2 clients (out of 2)\n"
     ]
    },
    {
     "output_type": "stream",
     "name": "stdout",
     "text": [
      "\t {'val_loss': 0.4809565097093582, 'val_accuracy': 0.92}\n"
     ]
    },
    {
     "output_type": "stream",
     "name": "stderr",
     "text": [
      "DEBUG flwr 2023-04-16 20:09:13,890 | server.py:229 | fit_round 5 received 2 results and 0 failures\n"
     ]
    },
    {
     "output_type": "stream",
     "name": "stdout",
     "text": [
      "\t {'train_loss': 0.03588791738729924, 'train_accuracy': 0.9766666666666667}\n"
     ]
    },
    {
     "output_type": "stream",
     "name": "stderr",
     "text": [
      "INFO flwr 2023-04-16 20:09:18,501 | server.py:116 | fit progress: (5, 0.6054415106773376, {'test_loss': 0.6054415106773376, 'test_accuracy': 0.95}, 953.0297823000001)\n",
      "DEBUG flwr 2023-04-16 20:09:18,502 | server.py:165 | evaluate_round 5: strategy sampled 2 clients (out of 2)\n",
      "DEBUG flwr 2023-04-16 20:09:29,239 | server.py:179 | evaluate_round 5 received 2 results and 0 failures\n",
      "DEBUG flwr 2023-04-16 20:09:29,240 | server.py:215 | fit_round 6: strategy sampled 2 clients (out of 2)\n"
     ]
    },
    {
     "output_type": "stream",
     "name": "stdout",
     "text": [
      "\t {'val_loss': 0.34166887402534485, 'val_accuracy': 0.96}\n"
     ]
    },
    {
     "output_type": "stream",
     "name": "stderr",
     "text": [
      "DEBUG flwr 2023-04-16 20:12:24,826 | server.py:229 | fit_round 6 received 2 results and 0 failures\n"
     ]
    },
    {
     "output_type": "stream",
     "name": "stdout",
     "text": [
      "\t {'train_loss': 0.0009236968180630356, 'train_accuracy': 0.98}\n"
     ]
    },
    {
     "output_type": "stream",
     "name": "stderr",
     "text": [
      "INFO flwr 2023-04-16 20:12:29,384 | server.py:116 | fit progress: (6, 0.5810619592666626, {'test_loss': 0.5810619592666626, 'test_accuracy': 0.94}, 1143.9127624999965)\n",
      "DEBUG flwr 2023-04-16 20:12:29,385 | server.py:165 | evaluate_round 6: strategy sampled 2 clients (out of 2)\n",
      "DEBUG flwr 2023-04-16 20:12:40,210 | server.py:179 | evaluate_round 6 received 2 results and 0 failures\n",
      "DEBUG flwr 2023-04-16 20:12:40,211 | server.py:215 | fit_round 7: strategy sampled 2 clients (out of 2)\n"
     ]
    },
    {
     "output_type": "stream",
     "name": "stdout",
     "text": [
      "\t {'val_loss': 0.3519183397293091, 'val_accuracy': 0.95}\n"
     ]
    },
    {
     "output_type": "stream",
     "name": "stderr",
     "text": [
      "DEBUG flwr 2023-04-16 20:15:35,519 | server.py:229 | fit_round 7 received 2 results and 0 failures\n"
     ]
    },
    {
     "output_type": "stream",
     "name": "stdout",
     "text": [
      "\t {'train_loss': 0.00057713218848221, 'train_accuracy': 0.9922222222222222}\n"
     ]
    },
    {
     "output_type": "stream",
     "name": "stderr",
     "text": [
      "INFO flwr 2023-04-16 20:15:40,081 | server.py:116 | fit progress: (7, 0.6577999591827393, {'test_loss': 0.6577999591827393, 'test_accuracy': 0.92}, 1334.609946099983)\n",
      "DEBUG flwr 2023-04-16 20:15:40,082 | server.py:165 | evaluate_round 7: strategy sampled 2 clients (out of 2)\n",
      "DEBUG flwr 2023-04-16 20:15:50,919 | server.py:179 | evaluate_round 7 received 2 results and 0 failures\n",
      "DEBUG flwr 2023-04-16 20:15:50,920 | server.py:215 | fit_round 8: strategy sampled 2 clients (out of 2)\n"
     ]
    },
    {
     "output_type": "stream",
     "name": "stdout",
     "text": [
      "\t {'val_loss': 0.353956401348114, 'val_accuracy': 0.97}\n"
     ]
    },
    {
     "output_type": "stream",
     "name": "stderr",
     "text": [
      "DEBUG flwr 2023-04-16 20:18:46,187 | server.py:229 | fit_round 8 received 2 results and 0 failures\n"
     ]
    },
    {
     "output_type": "stream",
     "name": "stdout",
     "text": [
      "\t {'train_loss': 0.004741842647490557, 'train_accuracy': 0.9955555555555555}\n"
     ]
    },
    {
     "output_type": "stream",
     "name": "stderr",
     "text": [
      "INFO flwr 2023-04-16 20:18:50,711 | server.py:116 | fit progress: (8, 1.0230156183242798, {'test_loss': 1.0230156183242798, 'test_accuracy': 0.93}, 1525.2402068999945)\n",
      "DEBUG flwr 2023-04-16 20:18:50,711 | server.py:165 | evaluate_round 8: strategy sampled 2 clients (out of 2)\n",
      "DEBUG flwr 2023-04-16 20:19:01,458 | server.py:179 | evaluate_round 8 received 2 results and 0 failures\n",
      "DEBUG flwr 2023-04-16 20:19:01,458 | server.py:215 | fit_round 9: strategy sampled 2 clients (out of 2)\n"
     ]
    },
    {
     "output_type": "stream",
     "name": "stdout",
     "text": [
      "\t {'val_loss': 0.8062261939048767, 'val_accuracy': 0.92}\n"
     ]
    },
    {
     "output_type": "stream",
     "name": "stderr",
     "text": [
      "DEBUG flwr 2023-04-16 20:21:57,525 | server.py:229 | fit_round 9 received 2 results and 0 failures\n"
     ]
    },
    {
     "output_type": "stream",
     "name": "stdout",
     "text": [
      "\t {'train_loss': 0.0008186455052054953, 'train_accuracy': 0.9922222222222222}\n"
     ]
    },
    {
     "output_type": "stream",
     "name": "stderr",
     "text": [
      "INFO flwr 2023-04-16 20:22:02,058 | server.py:116 | fit progress: (9, 1.14194655418396, {'test_loss': 1.14194655418396, 'test_accuracy': 0.88}, 1716.5872146000038)\n",
      "DEBUG flwr 2023-04-16 20:22:02,059 | server.py:165 | evaluate_round 9: strategy sampled 2 clients (out of 2)\n",
      "DEBUG flwr 2023-04-16 20:22:12,746 | server.py:179 | evaluate_round 9 received 2 results and 0 failures\n",
      "DEBUG flwr 2023-04-16 20:22:12,747 | server.py:215 | fit_round 10: strategy sampled 2 clients (out of 2)\n"
     ]
    },
    {
     "output_type": "stream",
     "name": "stdout",
     "text": [
      "\t {'val_loss': 0.832101583480835, 'val_accuracy': 0.93}\n"
     ]
    },
    {
     "output_type": "stream",
     "name": "stderr",
     "text": [
      "DEBUG flwr 2023-04-16 20:25:08,779 | server.py:229 | fit_round 10 received 2 results and 0 failures\n"
     ]
    },
    {
     "output_type": "stream",
     "name": "stdout",
     "text": [
      "\t {'train_loss': 0.015251552562403958, 'train_accuracy': 0.99}\n"
     ]
    },
    {
     "output_type": "stream",
     "name": "stderr",
     "text": [
      "INFO flwr 2023-04-16 20:25:13,301 | server.py:116 | fit progress: (10, 0.84327232837677, {'test_loss': 0.84327232837677, 'test_accuracy': 0.95}, 1907.830052699952)\n",
      "DEBUG flwr 2023-04-16 20:25:13,302 | server.py:165 | evaluate_round 10: strategy sampled 2 clients (out of 2)\n",
      "DEBUG flwr 2023-04-16 20:25:24,139 | server.py:179 | evaluate_round 10 received 2 results and 0 failures\n",
      "INFO flwr 2023-04-16 20:25:24,140 | server.py:144 | FL finished in 1918.6689595999778\n",
      "INFO flwr 2023-04-16 20:25:24,148 | app.py:202 | app_fit: losses_distributed [(1, 1.4704975485801697), (2, 0.6893776655197144), (3, 0.5756811499595642), (4, 0.4809565097093582), (5, 0.34166887402534485), (6, 0.3519183397293091), (7, 0.353956401348114), (8, 0.8062261939048767), (9, 0.832101583480835), (10, 0.4537642300128937)]\n",
      "INFO flwr 2023-04-16 20:25:24,148 | app.py:203 | app_fit: metrics_distributed {'val_loss': [(1, 1.4704975485801697), (2, 0.6893776655197144), (3, 0.5756811499595642), (4, 0.4809565097093582), (5, 0.34166887402534485), (6, 0.3519183397293091), (7, 0.353956401348114), (8, 0.8062261939048767), (9, 0.832101583480835), (10, 0.4537642300128937)], 'val_accuracy': [(1, 0.79), (2, 0.92), (3, 0.92), (4, 0.92), (5, 0.96), (6, 0.95), (7, 0.97), (8, 0.92), (9, 0.93), (10, 0.94)]}\n",
      "INFO flwr 2023-04-16 20:25:24,148 | app.py:204 | app_fit: losses_centralized [(0, 9.281182289123535), (1, 3.1581051349639893), (2, 1.283987283706665), (3, 0.8999183773994446), (4, 0.8444608449935913), (5, 0.6054415106773376), (6, 0.5810619592666626), (7, 0.6577999591827393), (8, 1.0230156183242798), (9, 1.14194655418396), (10, 0.84327232837677)]\n",
      "INFO flwr 2023-04-16 20:25:24,149 | app.py:205 | app_fit: metrics_centralized {'test_loss': [(0, 9.281182289123535), (1, 3.1581051349639893), (2, 1.283987283706665), (3, 0.8999183773994446), (4, 0.8444608449935913), (5, 0.6054415106773376), (6, 0.5810619592666626), (7, 0.6577999591827393), (8, 1.0230156183242798), (9, 1.14194655418396), (10, 0.84327232837677)], 'test_accuracy': [(0, 0.08), (1, 0.84), (2, 0.91), (3, 0.93), (4, 0.93), (5, 0.95), (6, 0.94), (7, 0.92), (8, 0.93), (9, 0.88), (10, 0.95)]}\n"
     ]
    },
    {
     "output_type": "stream",
     "name": "stdout",
     "text": [
      "\t {'val_loss': 0.4537642300128937, 'val_accuracy': 0.94}\n"
     ]
    },
    {
     "output_type": "execute_result",
     "data": {
      "text/plain": [
       "History (loss, distributed):\n",
       "\tround 1: 1.4704975485801697\n",
       "\tround 2: 0.6893776655197144\n",
       "\tround 3: 0.5756811499595642\n",
       "\tround 4: 0.4809565097093582\n",
       "\tround 5: 0.34166887402534485\n",
       "\tround 6: 0.3519183397293091\n",
       "\tround 7: 0.353956401348114\n",
       "\tround 8: 0.8062261939048767\n",
       "\tround 9: 0.832101583480835\n",
       "\tround 10: 0.4537642300128937\n",
       "History (loss, centralized):\n",
       "\tround 0: 9.281182289123535\n",
       "\tround 1: 3.1581051349639893\n",
       "\tround 2: 1.283987283706665\n",
       "\tround 3: 0.8999183773994446\n",
       "\tround 4: 0.8444608449935913\n",
       "\tround 5: 0.6054415106773376\n",
       "\tround 6: 0.5810619592666626\n",
       "\tround 7: 0.6577999591827393\n",
       "\tround 8: 1.0230156183242798\n",
       "\tround 9: 1.14194655418396\n",
       "\tround 10: 0.84327232837677\n",
       "History (metrics, distributed):\n",
       "{'val_loss': [(1, 1.4704975485801697), (2, 0.6893776655197144), (3, 0.5756811499595642), (4, 0.4809565097093582), (5, 0.34166887402534485), (6, 0.3519183397293091), (7, 0.353956401348114), (8, 0.8062261939048767), (9, 0.832101583480835), (10, 0.4537642300128937)], 'val_accuracy': [(1, 0.79), (2, 0.92), (3, 0.92), (4, 0.92), (5, 0.96), (6, 0.95), (7, 0.97), (8, 0.92), (9, 0.93), (10, 0.94)]}History (metrics, centralized):\n",
       "{'test_loss': [(0, 9.281182289123535), (1, 3.1581051349639893), (2, 1.283987283706665), (3, 0.8999183773994446), (4, 0.8444608449935913), (5, 0.6054415106773376), (6, 0.5810619592666626), (7, 0.6577999591827393), (8, 1.0230156183242798), (9, 1.14194655418396), (10, 0.84327232837677)], 'test_accuracy': [(0, 0.08), (1, 0.84), (2, 0.91), (3, 0.93), (4, 0.93), (5, 0.95), (6, 0.94), (7, 0.92), (8, 0.93), (9, 0.88), (10, 0.95)]}"
      ]
     },
     "metadata": {},
     "execution_count": 7
    }
   ],
   "metadata": {}
  }
 ],
 "nbformat": 4,
 "nbformat_minor": 2,
 "metadata": {
  "language_info": {
   "codemirror_mode": {
    "name": "ipython",
    "version": 3
   },
   "file_extension": ".py",
   "mimetype": "text/x-python",
   "name": "python",
   "nbconvert_exporter": "python",
   "pygments_lexer": "ipython3",
   "version": 3
  },
  "orig_nbformat": 4
 }
}