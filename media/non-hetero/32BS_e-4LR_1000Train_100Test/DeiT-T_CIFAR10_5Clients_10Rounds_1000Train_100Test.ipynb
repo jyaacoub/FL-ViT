{
 "cells": [
  {
   "cell_type": "code",
   "execution_count": 6,
   "metadata": {},
   "outputs": [
    {
     "name": "stdout",
     "output_type": "stream",
     "text": [
      "num clients: 5\n",
      "num rounds: 10\n",
      "----------------------------------------\n",
      "client training set size: [180, 180, 180, 180, 180]\n",
      "client validation set size: [20, 20, 20, 20, 20]\n",
      "test set size: 100\n",
      "----------------------------------------\n",
      "model name: facebook/deit-tiny-distilled-patch16-224\n",
      "num classes: 10\n",
      "pre-trained: True\n",
      "learning rate: 0.0001\n",
      "batch size: 32\n",
      "epochs: 1\n"
     ]
    }
   ],
   "source": [
    "print('num clients:', NUM_CLIENTS)\n",
    "print('num rounds:', NUM_ROUNDS)\n",
    "print('--'*20)\n",
    "print('client training set size:', [len(t.dataset) for t in trainloaders])\n",
    "print('client validation set size:', [len(v.dataset) for v in valloaders])\n",
    "print('test set size:', len(testloader.dataset))\n",
    "print('--'*20)\n",
    "print('model name:', MODEL_NAME)\n",
    "print('num classes:', NUM_CLASSES)\n",
    "print('pre-trained:', PRE_TRAINED)\n",
    "print('learning rate:', LEARNING_RATE)\n",
    "print('batch size:', BATCH_SIZE)\n",
    "print('epochs:', EPOCHS)"
   ]
  },
  {
   "cell_type": "code",
   "execution_count": 7,
   "metadata": {},
   "outputs": [
    {
     "name": "stderr",
     "output_type": "stream",
     "text": [
      "INFO flwr 2023-04-16 16:54:25,993 | app.py:145 | Starting Flower simulation, config: ServerConfig(num_rounds=10, round_timeout=None)\n",
      "2023-04-16 16:54:28,063\tINFO worker.py:1529 -- Started a local Ray instance. View the dashboard at \u001b[1m\u001b[32m127.0.0.1:8265 \u001b[39m\u001b[22m\n",
      "INFO flwr 2023-04-16 16:54:29,515 | app.py:179 | Flower VCE: Ray initialized with resources: {'memory': 11670284699.0, 'object_store_memory': 5835142348.0, 'CPU': 24.0, 'node:127.0.0.1': 1.0, 'GPU': 1.0}\n",
      "INFO flwr 2023-04-16 16:54:29,516 | server.py:86 | Initializing global parameters\n",
      "INFO flwr 2023-04-16 16:54:29,517 | server.py:266 | Using initial parameters provided by strategy\n",
      "INFO flwr 2023-04-16 16:54:29,517 | server.py:88 | Evaluating initial parameters\n",
      "INFO flwr 2023-04-16 16:54:32,248 | server.py:91 | initial parameters (loss, other metrics): 11.147294044494629, {'test_loss': 11.147294044494629, 'test_accuracy': 0.07}\n",
      "INFO flwr 2023-04-16 16:54:32,248 | server.py:101 | FL starting\n",
      "DEBUG flwr 2023-04-16 16:54:32,249 | server.py:215 | fit_round 1: strategy sampled 2 clients (out of 5)\n",
      "DEBUG flwr 2023-04-16 16:55:10,175 | server.py:229 | fit_round 1 received 2 results and 0 failures\n"
     ]
    },
    {
     "name": "stdout",
     "output_type": "stream",
     "text": [
      "\t {'train_loss': 1.4104443788528442, 'train_accuracy': 0.28055555555555556}\n"
     ]
    },
    {
     "name": "stderr",
     "output_type": "stream",
     "text": [
      "INFO flwr 2023-04-16 16:55:12,896 | server.py:116 | fit progress: (1, 6.4984283447265625, {'test_loss': 6.4984283447265625, 'test_accuracy': 0.48}, 40.648197600006824)\n",
      "DEBUG flwr 2023-04-16 16:55:12,897 | server.py:165 | evaluate_round 1: strategy sampled 2 clients (out of 5)\n",
      "DEBUG flwr 2023-04-16 16:55:15,683 | server.py:179 | evaluate_round 1 received 2 results and 0 failures\n",
      "DEBUG flwr 2023-04-16 16:55:15,684 | server.py:215 | fit_round 2: strategy sampled 2 clients (out of 5)\n"
     ]
    },
    {
     "name": "stdout",
     "output_type": "stream",
     "text": [
      "\t {'val_loss': 1.485456109046936, 'val_accuracy': 0.6}\n"
     ]
    },
    {
     "name": "stderr",
     "output_type": "stream",
     "text": [
      "DEBUG flwr 2023-04-16 16:55:49,653 | server.py:229 | fit_round 2 received 2 results and 0 failures\n"
     ]
    },
    {
     "name": "stdout",
     "output_type": "stream",
     "text": [
      "\t {'train_loss': 1.0235320329666138, 'train_accuracy': 0.5361111111111111}\n"
     ]
    },
    {
     "name": "stderr",
     "output_type": "stream",
     "text": [
      "INFO flwr 2023-04-16 16:55:52,429 | server.py:116 | fit progress: (2, 5.266861438751221, {'test_loss': 5.266861438751221, 'test_accuracy': 0.62}, 80.18139799998607)\n",
      "DEBUG flwr 2023-04-16 16:55:52,429 | server.py:165 | evaluate_round 2: strategy sampled 2 clients (out of 5)\n",
      "DEBUG flwr 2023-04-16 16:55:55,201 | server.py:179 | evaluate_round 2 received 2 results and 0 failures\n",
      "DEBUG flwr 2023-04-16 16:55:55,202 | server.py:215 | fit_round 3: strategy sampled 2 clients (out of 5)\n"
     ]
    },
    {
     "name": "stdout",
     "output_type": "stream",
     "text": [
      "\t {'val_loss': 1.0066905617713928, 'val_accuracy': 0.675}\n"
     ]
    },
    {
     "name": "stderr",
     "output_type": "stream",
     "text": [
      "DEBUG flwr 2023-04-16 16:56:29,041 | server.py:229 | fit_round 3 received 2 results and 0 failures\n"
     ]
    },
    {
     "name": "stdout",
     "output_type": "stream",
     "text": [
      "\t {'train_loss': 0.8902626931667328, 'train_accuracy': 0.7916666666666666}\n"
     ]
    },
    {
     "name": "stderr",
     "output_type": "stream",
     "text": [
      "INFO flwr 2023-04-16 16:56:31,792 | server.py:116 | fit progress: (3, 4.384940147399902, {'test_loss': 4.384940147399902, 'test_accuracy': 0.67}, 119.54541980000795)\n",
      "DEBUG flwr 2023-04-16 16:56:31,793 | server.py:165 | evaluate_round 3: strategy sampled 2 clients (out of 5)\n",
      "DEBUG flwr 2023-04-16 16:56:34,559 | server.py:179 | evaluate_round 3 received 2 results and 0 failures\n",
      "DEBUG flwr 2023-04-16 16:56:34,559 | server.py:215 | fit_round 4: strategy sampled 2 clients (out of 5)\n"
     ]
    },
    {
     "name": "stdout",
     "output_type": "stream",
     "text": [
      "\t {'val_loss': 0.9065665304660797, 'val_accuracy': 0.65}\n"
     ]
    },
    {
     "name": "stderr",
     "output_type": "stream",
     "text": [
      "DEBUG flwr 2023-04-16 16:57:08,486 | server.py:229 | fit_round 4 received 2 results and 0 failures\n"
     ]
    },
    {
     "name": "stdout",
     "output_type": "stream",
     "text": [
      "\t {'train_loss': 0.6526248753070831, 'train_accuracy': 0.8361111111111111}\n"
     ]
    },
    {
     "name": "stderr",
     "output_type": "stream",
     "text": [
      "INFO flwr 2023-04-16 16:57:11,226 | server.py:116 | fit progress: (4, 4.322912693023682, {'test_loss': 4.322912693023682, 'test_accuracy': 0.71}, 158.97975729999598)\n",
      "DEBUG flwr 2023-04-16 16:57:11,226 | server.py:165 | evaluate_round 4: strategy sampled 2 clients (out of 5)\n",
      "DEBUG flwr 2023-04-16 16:57:13,976 | server.py:179 | evaluate_round 4 received 2 results and 0 failures\n",
      "DEBUG flwr 2023-04-16 16:57:13,977 | server.py:215 | fit_round 5: strategy sampled 2 clients (out of 5)\n"
     ]
    },
    {
     "name": "stdout",
     "output_type": "stream",
     "text": [
      "\t {'val_loss': 0.5926760137081146, 'val_accuracy': 0.8}\n"
     ]
    },
    {
     "name": "stderr",
     "output_type": "stream",
     "text": [
      "DEBUG flwr 2023-04-16 16:57:48,050 | server.py:229 | fit_round 5 received 2 results and 0 failures\n"
     ]
    },
    {
     "name": "stdout",
     "output_type": "stream",
     "text": [
      "\t {'train_loss': 0.6825152337551117, 'train_accuracy': 0.8527777777777777}\n"
     ]
    },
    {
     "name": "stderr",
     "output_type": "stream",
     "text": [
      "INFO flwr 2023-04-16 16:57:50,846 | server.py:116 | fit progress: (5, 4.245245456695557, {'test_loss': 4.245245456695557, 'test_accuracy': 0.77}, 198.6009255000099)\n",
      "DEBUG flwr 2023-04-16 16:57:50,847 | server.py:165 | evaluate_round 5: strategy sampled 2 clients (out of 5)\n",
      "DEBUG flwr 2023-04-16 16:57:53,642 | server.py:179 | evaluate_round 5 received 2 results and 0 failures\n",
      "DEBUG flwr 2023-04-16 16:57:53,643 | server.py:215 | fit_round 6: strategy sampled 2 clients (out of 5)\n"
     ]
    },
    {
     "name": "stdout",
     "output_type": "stream",
     "text": [
      "\t {'val_loss': 0.5068043172359467, 'val_accuracy': 0.85}\n"
     ]
    },
    {
     "name": "stderr",
     "output_type": "stream",
     "text": [
      "DEBUG flwr 2023-04-16 16:58:27,652 | server.py:229 | fit_round 6 received 2 results and 0 failures\n"
     ]
    },
    {
     "name": "stdout",
     "output_type": "stream",
     "text": [
      "\t {'train_loss': 0.5156842023134232, 'train_accuracy': 0.8805555555555555}\n"
     ]
    },
    {
     "name": "stderr",
     "output_type": "stream",
     "text": [
      "INFO flwr 2023-04-16 16:58:30,313 | server.py:116 | fit progress: (6, 3.647756576538086, {'test_loss': 3.647756576538086, 'test_accuracy': 0.79}, 238.0682281999907)\n",
      "DEBUG flwr 2023-04-16 16:58:30,314 | server.py:165 | evaluate_round 6: strategy sampled 2 clients (out of 5)\n",
      "DEBUG flwr 2023-04-16 16:58:33,052 | server.py:179 | evaluate_round 6 received 2 results and 0 failures\n",
      "DEBUG flwr 2023-04-16 16:58:33,053 | server.py:215 | fit_round 7: strategy sampled 2 clients (out of 5)\n"
     ]
    },
    {
     "name": "stdout",
     "output_type": "stream",
     "text": [
      "\t {'val_loss': 0.6340493559837341, 'val_accuracy': 0.825}\n"
     ]
    },
    {
     "name": "stderr",
     "output_type": "stream",
     "text": [
      "DEBUG flwr 2023-04-16 16:59:06,999 | server.py:229 | fit_round 7 received 2 results and 0 failures\n"
     ]
    },
    {
     "name": "stdout",
     "output_type": "stream",
     "text": [
      "\t {'train_loss': 0.3088770657777786, 'train_accuracy': 0.9555555555555556}\n"
     ]
    },
    {
     "name": "stderr",
     "output_type": "stream",
     "text": [
      "INFO flwr 2023-04-16 16:59:09,668 | server.py:116 | fit progress: (7, 3.7090768814086914, {'test_loss': 3.7090768814086914, 'test_accuracy': 0.79}, 277.42403809999814)\n",
      "DEBUG flwr 2023-04-16 16:59:09,669 | server.py:165 | evaluate_round 7: strategy sampled 2 clients (out of 5)\n",
      "DEBUG flwr 2023-04-16 16:59:12,418 | server.py:179 | evaluate_round 7 received 2 results and 0 failures\n",
      "DEBUG flwr 2023-04-16 16:59:12,419 | server.py:215 | fit_round 8: strategy sampled 2 clients (out of 5)\n"
     ]
    },
    {
     "name": "stdout",
     "output_type": "stream",
     "text": [
      "\t {'val_loss': 0.5403808653354645, 'val_accuracy': 0.875}\n"
     ]
    },
    {
     "name": "stderr",
     "output_type": "stream",
     "text": [
      "DEBUG flwr 2023-04-16 16:59:46,123 | server.py:229 | fit_round 8 received 2 results and 0 failures\n"
     ]
    },
    {
     "name": "stdout",
     "output_type": "stream",
     "text": [
      "\t {'train_loss': 0.37962769716978073, 'train_accuracy': 0.9305555555555556}\n"
     ]
    },
    {
     "name": "stderr",
     "output_type": "stream",
     "text": [
      "INFO flwr 2023-04-16 16:59:48,748 | server.py:116 | fit progress: (8, 4.619601249694824, {'test_loss': 4.619601249694824, 'test_accuracy': 0.76}, 316.50499099999433)\n",
      "DEBUG flwr 2023-04-16 16:59:48,749 | server.py:165 | evaluate_round 8: strategy sampled 2 clients (out of 5)\n",
      "DEBUG flwr 2023-04-16 16:59:51,501 | server.py:179 | evaluate_round 8 received 2 results and 0 failures\n",
      "DEBUG flwr 2023-04-16 16:59:51,501 | server.py:215 | fit_round 9: strategy sampled 2 clients (out of 5)\n"
     ]
    },
    {
     "name": "stdout",
     "output_type": "stream",
     "text": [
      "\t {'val_loss': 0.4340755045413971, 'val_accuracy': 0.825}\n"
     ]
    },
    {
     "name": "stderr",
     "output_type": "stream",
     "text": [
      "DEBUG flwr 2023-04-16 17:00:25,263 | server.py:229 | fit_round 9 received 2 results and 0 failures\n"
     ]
    },
    {
     "name": "stdout",
     "output_type": "stream",
     "text": [
      "\t {'train_loss': 0.19609037786722183, 'train_accuracy': 0.975}\n"
     ]
    },
    {
     "name": "stderr",
     "output_type": "stream",
     "text": [
      "INFO flwr 2023-04-16 17:00:27,905 | server.py:116 | fit progress: (9, 3.78309965133667, {'test_loss': 3.78309965133667, 'test_accuracy': 0.83}, 355.6617385999998)\n",
      "DEBUG flwr 2023-04-16 17:00:27,905 | server.py:165 | evaluate_round 9: strategy sampled 2 clients (out of 5)\n",
      "DEBUG flwr 2023-04-16 17:00:30,651 | server.py:179 | evaluate_round 9 received 2 results and 0 failures\n",
      "DEBUG flwr 2023-04-16 17:00:30,652 | server.py:215 | fit_round 10: strategy sampled 2 clients (out of 5)\n"
     ]
    },
    {
     "name": "stdout",
     "output_type": "stream",
     "text": [
      "\t {'val_loss': 0.41833867132663727, 'val_accuracy': 0.825}\n"
     ]
    },
    {
     "name": "stderr",
     "output_type": "stream",
     "text": [
      "DEBUG flwr 2023-04-16 17:01:04,339 | server.py:229 | fit_round 10 received 2 results and 0 failures\n"
     ]
    },
    {
     "name": "stdout",
     "output_type": "stream",
     "text": [
      "\t {'train_loss': 0.2311234325170517, 'train_accuracy': 0.9444444444444444}\n"
     ]
    },
    {
     "name": "stderr",
     "output_type": "stream",
     "text": [
      "INFO flwr 2023-04-16 17:01:06,970 | server.py:116 | fit progress: (10, 4.116977691650391, {'test_loss': 4.116977691650391, 'test_accuracy': 0.79}, 394.72768010001164)\n",
      "DEBUG flwr 2023-04-16 17:01:06,970 | server.py:165 | evaluate_round 10: strategy sampled 2 clients (out of 5)\n",
      "DEBUG flwr 2023-04-16 17:01:09,696 | server.py:179 | evaluate_round 10 received 2 results and 0 failures\n",
      "INFO flwr 2023-04-16 17:01:09,697 | server.py:144 | FL finished in 397.4542209999927\n",
      "INFO flwr 2023-04-16 17:01:09,708 | app.py:202 | app_fit: losses_distributed [(1, 1.485456109046936), (2, 1.0066905617713928), (3, 0.9065665304660797), (4, 0.5926760137081146), (5, 0.5068043172359467), (6, 0.6340493559837341), (7, 0.5403808653354645), (8, 0.4340755045413971), (9, 0.41833867132663727), (10, 0.3967791944742203)]\n",
      "INFO flwr 2023-04-16 17:01:09,709 | app.py:203 | app_fit: metrics_distributed {'val_loss': [(1, 1.485456109046936), (2, 1.0066905617713928), (3, 0.9065665304660797), (4, 0.5926760137081146), (5, 0.5068043172359467), (6, 0.6340493559837341), (7, 0.5403808653354645), (8, 0.4340755045413971), (9, 0.41833867132663727), (10, 0.3967791944742203)], 'val_accuracy': [(1, 0.6), (2, 0.675), (3, 0.65), (4, 0.8), (5, 0.85), (6, 0.825), (7, 0.875), (8, 0.825), (9, 0.825), (10, 0.85)]}\n",
      "INFO flwr 2023-04-16 17:01:09,709 | app.py:204 | app_fit: losses_centralized [(0, 11.147294044494629), (1, 6.4984283447265625), (2, 5.266861438751221), (3, 4.384940147399902), (4, 4.322912693023682), (5, 4.245245456695557), (6, 3.647756576538086), (7, 3.7090768814086914), (8, 4.619601249694824), (9, 3.78309965133667), (10, 4.116977691650391)]\n",
      "INFO flwr 2023-04-16 17:01:09,709 | app.py:205 | app_fit: metrics_centralized {'test_loss': [(0, 11.147294044494629), (1, 6.4984283447265625), (2, 5.266861438751221), (3, 4.384940147399902), (4, 4.322912693023682), (5, 4.245245456695557), (6, 3.647756576538086), (7, 3.7090768814086914), (8, 4.619601249694824), (9, 3.78309965133667), (10, 4.116977691650391)], 'test_accuracy': [(0, 0.07), (1, 0.48), (2, 0.62), (3, 0.67), (4, 0.71), (5, 0.77), (6, 0.79), (7, 0.79), (8, 0.76), (9, 0.83), (10, 0.79)]}\n"
     ]
    },
    {
     "name": "stdout",
     "output_type": "stream",
     "text": [
      "\t {'val_loss': 0.3967791944742203, 'val_accuracy': 0.85}\n"
     ]
    },
    {
     "data": {
      "text/plain": [
       "History (loss, distributed):\n",
       "\tround 1: 1.485456109046936\n",
       "\tround 2: 1.0066905617713928\n",
       "\tround 3: 0.9065665304660797\n",
       "\tround 4: 0.5926760137081146\n",
       "\tround 5: 0.5068043172359467\n",
       "\tround 6: 0.6340493559837341\n",
       "\tround 7: 0.5403808653354645\n",
       "\tround 8: 0.4340755045413971\n",
       "\tround 9: 0.41833867132663727\n",
       "\tround 10: 0.3967791944742203\n",
       "History (loss, centralized):\n",
       "\tround 0: 11.147294044494629\n",
       "\tround 1: 6.4984283447265625\n",
       "\tround 2: 5.266861438751221\n",
       "\tround 3: 4.384940147399902\n",
       "\tround 4: 4.322912693023682\n",
       "\tround 5: 4.245245456695557\n",
       "\tround 6: 3.647756576538086\n",
       "\tround 7: 3.7090768814086914\n",
       "\tround 8: 4.619601249694824\n",
       "\tround 9: 3.78309965133667\n",
       "\tround 10: 4.116977691650391\n",
       "History (metrics, distributed):\n",
       "{'val_loss': [(1, 1.485456109046936), (2, 1.0066905617713928), (3, 0.9065665304660797), (4, 0.5926760137081146), (5, 0.5068043172359467), (6, 0.6340493559837341), (7, 0.5403808653354645), (8, 0.4340755045413971), (9, 0.41833867132663727), (10, 0.3967791944742203)], 'val_accuracy': [(1, 0.6), (2, 0.675), (3, 0.65), (4, 0.8), (5, 0.85), (6, 0.825), (7, 0.875), (8, 0.825), (9, 0.825), (10, 0.85)]}History (metrics, centralized):\n",
       "{'test_loss': [(0, 11.147294044494629), (1, 6.4984283447265625), (2, 5.266861438751221), (3, 4.384940147399902), (4, 4.322912693023682), (5, 4.245245456695557), (6, 3.647756576538086), (7, 3.7090768814086914), (8, 4.619601249694824), (9, 3.78309965133667), (10, 4.116977691650391)], 'test_accuracy': [(0, 0.07), (1, 0.48), (2, 0.62), (3, 0.67), (4, 0.71), (5, 0.77), (6, 0.79), (7, 0.79), (8, 0.76), (9, 0.83), (10, 0.79)]}"
      ]
     },
     "execution_count": 7,
     "metadata": {},
     "output_type": "execute_result"
    }
   ],
   "source": [
    "fl.simulation.start_simulation(\n",
    "    client_fn=lambda cid: FlowerClient(MODEL_CONFIG, trainloaders[int(cid)], valloaders[int(cid)]),\n",
    "    num_clients=NUM_CLIENTS,\n",
    "    config=fl.server.ServerConfig(num_rounds=NUM_ROUNDS),\n",
    "    strategy=strategy,\n",
    "    client_resources=CLIENT_RESOURCES,\n",
    "    ray_init_args=RAY_ARGS,\n",
    ")"
   ]
  }
 ],
 "metadata": {
  "language_info": {
   "codemirror_mode": {
    "name": "ipython",
    "version": 3
   },
   "file_extension": ".py",
   "mimetype": "text/x-python",
   "name": "python",
   "nbconvert_exporter": "python",
   "pygments_lexer": "ipython3",
   "version": 3
  },
  "orig_nbformat": 4
 },
 "nbformat": 4,
 "nbformat_minor": 2
}
