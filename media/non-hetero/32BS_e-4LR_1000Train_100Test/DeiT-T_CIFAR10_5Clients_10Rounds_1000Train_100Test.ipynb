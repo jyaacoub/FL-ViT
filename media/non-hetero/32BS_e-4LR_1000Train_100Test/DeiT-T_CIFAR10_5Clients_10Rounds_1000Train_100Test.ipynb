{
 "cells": [
  {
   "cell_type": "code",
   "execution_count": 1,
   "source": [
    "from typing import Dict\n",
    "import flwr as fl\n",
    "\n",
    "from flower_helpers import (create_model, get_weights, test, \n",
    "                            load_data, load_stored_tff)\n",
    "from config import  (NUM_ROUNDS, TRAIN_SIZE, VAL_PORTION, \n",
    "                    TEST_SIZE, BATCH_SIZE, LEARNING_RATE, \n",
    "                    EPOCHS, FRAC_FIT, FRAC_EVAL, MIN_FIT,\n",
    "                    MIN_EVAL, MIN_AVAIL, FIT_CONFIG_FN,\n",
    "                    NUM_CLIENTS, CLIENT_RESOURCES, NON_IID,\n",
    "                    RAY_ARGS, NUM_CLASSES, TFF_DATA_DIR, \n",
    "                    MODEL_NAME, PRE_TRAINED, DOUBLE_TRAIN)\n",
    "from client import FlowerClient"
   ],
   "outputs": [],
   "metadata": {}
  },
  {
   "cell_type": "code",
   "execution_count": 2,
   "source": [
    "if NON_IID:\n",
    "    # non-iid dataset from tff (train and test are already split)\n",
    "    trainloaders, valloaders, testloader = load_stored_tff(TFF_DATA_DIR, \n",
    "                                                           BATCH_SIZE,\n",
    "                                                           DOUBLE_TRAIN)\n",
    "else:\n",
    "    # iid dataset from huggingface\n",
    "    trainloaders, valloaders, testloader = load_data(MODEL_NAME, TEST_SIZE, \n",
    "                                                    TRAIN_SIZE, VAL_PORTION, \n",
    "                                                    BATCH_SIZE, NUM_CLIENTS, \n",
    "                                                    NUM_CLASSES)"
   ],
   "outputs": [
    {
     "output_type": "stream",
     "name": "stderr",
     "text": [
      "Found cached dataset cifar10 (C:/Users/Jean/.cache/huggingface/datasets/cifar10/plain_text/1.0.0/447d6ec4733dddd1ce3bb577c7166b986eaa4c538dcd9e805ba61f35674a9de4)\n"
     ]
    },
    {
     "output_type": "display_data",
     "data": {
      "application/vnd.jupyter.widget-view+json": {
       "version_major": 2,
       "version_minor": 0,
       "model_id": "cac853a0b7224af9ae0e1d2fa55eb162"
      },
      "text/plain": [
       "  0%|          | 0/2 [00:00<?, ?it/s]"
      ]
     },
     "metadata": {}
    },
    {
     "output_type": "stream",
     "name": "stderr",
     "text": [
      "Loading cached shuffled indices for dataset at C:\\Users\\Jean\\.cache\\huggingface\\datasets\\cifar10\\plain_text\\1.0.0\\447d6ec4733dddd1ce3bb577c7166b986eaa4c538dcd9e805ba61f35674a9de4\\cache-16b9e105e7ead8c5.arrow\n",
      "Loading cached shuffled indices for dataset at C:\\Users\\Jean\\.cache\\huggingface\\datasets\\cifar10\\plain_text\\1.0.0\\447d6ec4733dddd1ce3bb577c7166b986eaa4c538dcd9e805ba61f35674a9de4\\cache-6d58bc2a635b7b42.arrow\n",
      "Could not find image processor class in the image processor config or the model config. Loading based on pattern matching with the model's feature extractor configuration.\n"
     ]
    },
    {
     "output_type": "display_data",
     "data": {
      "application/vnd.jupyter.widget-view+json": {
       "version_major": 2,
       "version_minor": 0,
       "model_id": "ab13c6795ff24fce93900eb1d67c1d01"
      },
      "text/plain": [
       "Map:   0%|          | 0/1000 [00:00<?, ? examples/s]"
      ]
     },
     "metadata": {}
    },
    {
     "output_type": "display_data",
     "data": {
      "application/vnd.jupyter.widget-view+json": {
       "version_major": 2,
       "version_minor": 0,
       "model_id": "91a1522d97734254b1e949f165449761"
      },
      "text/plain": [
       "Map:   0%|          | 0/100 [00:00<?, ? examples/s]"
      ]
     },
     "metadata": {}
    }
   ],
   "metadata": {}
  },
  {
   "cell_type": "code",
   "execution_count": 3,
   "source": [
    "net = create_model(MODEL_NAME, NUM_CLASSES, PRE_TRAINED)\n",
    "init_weights = get_weights(net)\n",
    "MODEL_CONFIG = net.config\n",
    "# Convert the weights (np.ndarray) to parameters (bytes)\n",
    "init_param = fl.common.ndarrays_to_parameters(init_weights)\n",
    "# del the net as we don't need it anymore\n",
    "del net"
   ],
   "outputs": [],
   "metadata": {}
  },
  {
   "cell_type": "code",
   "execution_count": 4,
   "source": [
    "# server side evaluation function\n",
    "def evaluate(server_round: int, params: fl.common.NDArrays,\n",
    "             config: Dict[str, fl.common.Scalar]):\n",
    "    data_size, metrics = test(MODEL_CONFIG, params, testloader)\n",
    "    # changing the name of the metric to avoid confusion\n",
    "    metrics['test_loss'] = metrics.pop('loss')\n",
    "    metrics['test_accuracy'] = metrics.pop('accuracy')\n",
    "    return metrics['test_loss'], metrics\n",
    "\n",
    "def weighted_average_eval(metrics):\n",
    "    weighted_train_loss = 0\n",
    "    weighted_train_accuracy = 0\n",
    "    for c in metrics: # c is a tuple (num_examples, metrics) for each client\n",
    "        weighted_train_loss += c[0] * c[1]['val_loss']\n",
    "        weighted_train_accuracy += c[0] * c[1]['val_accuracy']\n",
    "    \n",
    "    aggregated_metrics = {'val_loss': weighted_train_loss / sum([c[0] for c in metrics]),\n",
    "            'val_accuracy': weighted_train_accuracy / sum([c[0] for c in metrics])}\n",
    "    print('\\t',aggregated_metrics)\n",
    "    return aggregated_metrics\n",
    "\n",
    "def weighted_average_fit(metrics):\n",
    "    # print(metrics)\n",
    "    weighted_train_loss = 0\n",
    "    weighted_train_accuracy = 0\n",
    "    for c in metrics: # c is a tuple (num_examples, metrics) for each client\n",
    "        # metrics for each epoch is included, we only need the last one\n",
    "        weighted_train_loss += c[0] * c[1]['train_loss']\n",
    "        weighted_train_accuracy += c[0] * c[1]['train_accuracy']\n",
    "    \n",
    "    aggregated_metrics = {'train_loss': weighted_train_loss / sum([c[0] for c in metrics]),\n",
    "            'train_accuracy': weighted_train_accuracy / sum([c[0] for c in metrics])}\n",
    "    print('\\t',aggregated_metrics)\n",
    "    return aggregated_metrics"
   ],
   "outputs": [],
   "metadata": {}
  },
  {
   "cell_type": "code",
   "execution_count": 5,
   "source": [
    "strategy = fl.server.strategy.FedAvg(\n",
    "    fraction_fit=FRAC_FIT,\n",
    "    fraction_evaluate=FRAC_EVAL,\n",
    "    min_fit_clients=MIN_FIT,\n",
    "    min_evaluate_clients=MIN_EVAL,\n",
    "    min_available_clients=MIN_AVAIL,\n",
    "    \n",
    "    fit_metrics_aggregation_fn=weighted_average_fit,\n",
    "    evaluate_metrics_aggregation_fn=weighted_average_eval,\n",
    "    evaluate_fn=evaluate,\n",
    "    on_fit_config_fn=FIT_CONFIG_FN,\n",
    "    \n",
    "    initial_parameters=init_param,\n",
    ")"
   ],
   "outputs": [],
   "metadata": {}
  },
  {
   "cell_type": "code",
   "execution_count": 6,
   "source": [
    "print('num clients:', NUM_CLIENTS)\n",
    "print('num rounds:', NUM_ROUNDS)\n",
    "print('--'*20)\n",
    "print('client training set size:', [len(t.dataset) for t in trainloaders])\n",
    "print('client validation set size:', [len(v.dataset) for v in valloaders])\n",
    "print('test set size:', len(testloader.dataset))\n",
    "print('--'*20)\n",
    "print('model name:', MODEL_NAME)\n",
    "print('num classes:', NUM_CLASSES)\n",
    "print('pre-trained:', PRE_TRAINED)\n",
    "print('learning rate:', LEARNING_RATE)\n",
    "print('batch size:', BATCH_SIZE)\n",
    "print('epochs:', EPOCHS)"
   ],
   "outputs": [
    {
     "output_type": "stream",
     "name": "stdout",
     "text": [
      "num clients: 5\n",
      "num rounds: 10\n",
      "----------------------------------------\n",
      "client training set size: [180, 180, 180, 180, 180]\n",
      "client validation set size: [20, 20, 20, 20, 20]\n",
      "test set size: 100\n",
      "----------------------------------------\n",
      "model name: facebook/deit-tiny-distilled-patch16-224\n",
      "num classes: 10\n",
      "pre-trained: True\n",
      "learning rate: 0.0001\n",
      "batch size: 32\n",
      "epochs: 1\n"
     ]
    }
   ],
   "metadata": {}
  },
  {
   "cell_type": "code",
   "execution_count": 7,
   "source": [
    "fl.simulation.start_simulation(\n",
    "    client_fn=lambda cid: FlowerClient(MODEL_CONFIG, trainloaders[int(cid)], valloaders[int(cid)]),\n",
    "    num_clients=NUM_CLIENTS,\n",
    "    config=fl.server.ServerConfig(num_rounds=NUM_ROUNDS),\n",
    "    strategy=strategy,\n",
    "    client_resources=CLIENT_RESOURCES,\n",
    "    ray_init_args=RAY_ARGS,\n",
    ")"
   ],
   "outputs": [
    {
     "output_type": "stream",
     "name": "stderr",
     "text": [
      "INFO flwr 2023-04-16 16:54:25,993 | app.py:145 | Starting Flower simulation, config: ServerConfig(num_rounds=10, round_timeout=None)\n",
      "2023-04-16 16:54:28,063\tINFO worker.py:1529 -- Started a local Ray instance. View the dashboard at \u001b[1m\u001b[32m127.0.0.1:8265 \u001b[39m\u001b[22m\n",
      "INFO flwr 2023-04-16 16:54:29,515 | app.py:179 | Flower VCE: Ray initialized with resources: {'memory': 11670284699.0, 'object_store_memory': 5835142348.0, 'CPU': 24.0, 'node:127.0.0.1': 1.0, 'GPU': 1.0}\n",
      "INFO flwr 2023-04-16 16:54:29,516 | server.py:86 | Initializing global parameters\n",
      "INFO flwr 2023-04-16 16:54:29,517 | server.py:266 | Using initial parameters provided by strategy\n",
      "INFO flwr 2023-04-16 16:54:29,517 | server.py:88 | Evaluating initial parameters\n",
      "INFO flwr 2023-04-16 16:54:32,248 | server.py:91 | initial parameters (loss, other metrics): 11.147294044494629, {'test_loss': 11.147294044494629, 'test_accuracy': 0.07}\n",
      "INFO flwr 2023-04-16 16:54:32,248 | server.py:101 | FL starting\n",
      "DEBUG flwr 2023-04-16 16:54:32,249 | server.py:215 | fit_round 1: strategy sampled 2 clients (out of 5)\n",
      "DEBUG flwr 2023-04-16 16:55:10,175 | server.py:229 | fit_round 1 received 2 results and 0 failures\n"
     ]
    },
    {
     "output_type": "stream",
     "name": "stdout",
     "text": [
      "\t {'train_loss': 1.4104443788528442, 'train_accuracy': 0.28055555555555556}\n"
     ]
    },
    {
     "output_type": "stream",
     "name": "stderr",
     "text": [
      "INFO flwr 2023-04-16 16:55:12,896 | server.py:116 | fit progress: (1, 6.4984283447265625, {'test_loss': 6.4984283447265625, 'test_accuracy': 0.48}, 40.648197600006824)\n",
      "DEBUG flwr 2023-04-16 16:55:12,897 | server.py:165 | evaluate_round 1: strategy sampled 2 clients (out of 5)\n",
      "DEBUG flwr 2023-04-16 16:55:15,683 | server.py:179 | evaluate_round 1 received 2 results and 0 failures\n",
      "DEBUG flwr 2023-04-16 16:55:15,684 | server.py:215 | fit_round 2: strategy sampled 2 clients (out of 5)\n"
     ]
    },
    {
     "output_type": "stream",
     "name": "stdout",
     "text": [
      "\t {'val_loss': 1.485456109046936, 'val_accuracy': 0.6}\n"
     ]
    },
    {
     "output_type": "stream",
     "name": "stderr",
     "text": [
      "DEBUG flwr 2023-04-16 16:55:49,653 | server.py:229 | fit_round 2 received 2 results and 0 failures\n"
     ]
    },
    {
     "output_type": "stream",
     "name": "stdout",
     "text": [
      "\t {'train_loss': 1.0235320329666138, 'train_accuracy': 0.5361111111111111}\n"
     ]
    },
    {
     "output_type": "stream",
     "name": "stderr",
     "text": [
      "INFO flwr 2023-04-16 16:55:52,429 | server.py:116 | fit progress: (2, 5.266861438751221, {'test_loss': 5.266861438751221, 'test_accuracy': 0.62}, 80.18139799998607)\n",
      "DEBUG flwr 2023-04-16 16:55:52,429 | server.py:165 | evaluate_round 2: strategy sampled 2 clients (out of 5)\n",
      "DEBUG flwr 2023-04-16 16:55:55,201 | server.py:179 | evaluate_round 2 received 2 results and 0 failures\n",
      "DEBUG flwr 2023-04-16 16:55:55,202 | server.py:215 | fit_round 3: strategy sampled 2 clients (out of 5)\n"
     ]
    },
    {
     "output_type": "stream",
     "name": "stdout",
     "text": [
      "\t {'val_loss': 1.0066905617713928, 'val_accuracy': 0.675}\n"
     ]
    },
    {
     "output_type": "stream",
     "name": "stderr",
     "text": [
      "DEBUG flwr 2023-04-16 16:56:29,041 | server.py:229 | fit_round 3 received 2 results and 0 failures\n"
     ]
    },
    {
     "output_type": "stream",
     "name": "stdout",
     "text": [
      "\t {'train_loss': 0.8902626931667328, 'train_accuracy': 0.7916666666666666}\n"
     ]
    },
    {
     "output_type": "stream",
     "name": "stderr",
     "text": [
      "INFO flwr 2023-04-16 16:56:31,792 | server.py:116 | fit progress: (3, 4.384940147399902, {'test_loss': 4.384940147399902, 'test_accuracy': 0.67}, 119.54541980000795)\n",
      "DEBUG flwr 2023-04-16 16:56:31,793 | server.py:165 | evaluate_round 3: strategy sampled 2 clients (out of 5)\n",
      "DEBUG flwr 2023-04-16 16:56:34,559 | server.py:179 | evaluate_round 3 received 2 results and 0 failures\n",
      "DEBUG flwr 2023-04-16 16:56:34,559 | server.py:215 | fit_round 4: strategy sampled 2 clients (out of 5)\n"
     ]
    },
    {
     "output_type": "stream",
     "name": "stdout",
     "text": [
      "\t {'val_loss': 0.9065665304660797, 'val_accuracy': 0.65}\n"
     ]
    },
    {
     "output_type": "stream",
     "name": "stderr",
     "text": [
      "DEBUG flwr 2023-04-16 16:57:08,486 | server.py:229 | fit_round 4 received 2 results and 0 failures\n"
     ]
    },
    {
     "output_type": "stream",
     "name": "stdout",
     "text": [
      "\t {'train_loss': 0.6526248753070831, 'train_accuracy': 0.8361111111111111}\n"
     ]
    },
    {
     "output_type": "stream",
     "name": "stderr",
     "text": [
      "INFO flwr 2023-04-16 16:57:11,226 | server.py:116 | fit progress: (4, 4.322912693023682, {'test_loss': 4.322912693023682, 'test_accuracy': 0.71}, 158.97975729999598)\n",
      "DEBUG flwr 2023-04-16 16:57:11,226 | server.py:165 | evaluate_round 4: strategy sampled 2 clients (out of 5)\n",
      "DEBUG flwr 2023-04-16 16:57:13,976 | server.py:179 | evaluate_round 4 received 2 results and 0 failures\n",
      "DEBUG flwr 2023-04-16 16:57:13,977 | server.py:215 | fit_round 5: strategy sampled 2 clients (out of 5)\n"
     ]
    },
    {
     "output_type": "stream",
     "name": "stdout",
     "text": [
      "\t {'val_loss': 0.5926760137081146, 'val_accuracy': 0.8}\n"
     ]
    },
    {
     "output_type": "stream",
     "name": "stderr",
     "text": [
      "DEBUG flwr 2023-04-16 16:57:48,050 | server.py:229 | fit_round 5 received 2 results and 0 failures\n"
     ]
    },
    {
     "output_type": "stream",
     "name": "stdout",
     "text": [
      "\t {'train_loss': 0.6825152337551117, 'train_accuracy': 0.8527777777777777}\n"
     ]
    },
    {
     "output_type": "stream",
     "name": "stderr",
     "text": [
      "INFO flwr 2023-04-16 16:57:50,846 | server.py:116 | fit progress: (5, 4.245245456695557, {'test_loss': 4.245245456695557, 'test_accuracy': 0.77}, 198.6009255000099)\n",
      "DEBUG flwr 2023-04-16 16:57:50,847 | server.py:165 | evaluate_round 5: strategy sampled 2 clients (out of 5)\n",
      "DEBUG flwr 2023-04-16 16:57:53,642 | server.py:179 | evaluate_round 5 received 2 results and 0 failures\n",
      "DEBUG flwr 2023-04-16 16:57:53,643 | server.py:215 | fit_round 6: strategy sampled 2 clients (out of 5)\n"
     ]
    },
    {
     "output_type": "stream",
     "name": "stdout",
     "text": [
      "\t {'val_loss': 0.5068043172359467, 'val_accuracy': 0.85}\n"
     ]
    },
    {
     "output_type": "stream",
     "name": "stderr",
     "text": [
      "DEBUG flwr 2023-04-16 16:58:27,652 | server.py:229 | fit_round 6 received 2 results and 0 failures\n"
     ]
    },
    {
     "output_type": "stream",
     "name": "stdout",
     "text": [
      "\t {'train_loss': 0.5156842023134232, 'train_accuracy': 0.8805555555555555}\n"
     ]
    },
    {
     "output_type": "stream",
     "name": "stderr",
     "text": [
      "INFO flwr 2023-04-16 16:58:30,313 | server.py:116 | fit progress: (6, 3.647756576538086, {'test_loss': 3.647756576538086, 'test_accuracy': 0.79}, 238.0682281999907)\n",
      "DEBUG flwr 2023-04-16 16:58:30,314 | server.py:165 | evaluate_round 6: strategy sampled 2 clients (out of 5)\n",
      "DEBUG flwr 2023-04-16 16:58:33,052 | server.py:179 | evaluate_round 6 received 2 results and 0 failures\n",
      "DEBUG flwr 2023-04-16 16:58:33,053 | server.py:215 | fit_round 7: strategy sampled 2 clients (out of 5)\n"
     ]
    },
    {
     "output_type": "stream",
     "name": "stdout",
     "text": [
      "\t {'val_loss': 0.6340493559837341, 'val_accuracy': 0.825}\n"
     ]
    },
    {
     "output_type": "stream",
     "name": "stderr",
     "text": [
      "DEBUG flwr 2023-04-16 16:59:06,999 | server.py:229 | fit_round 7 received 2 results and 0 failures\n"
     ]
    },
    {
     "output_type": "stream",
     "name": "stdout",
     "text": [
      "\t {'train_loss': 0.3088770657777786, 'train_accuracy': 0.9555555555555556}\n"
     ]
    },
    {
     "output_type": "stream",
     "name": "stderr",
     "text": [
      "INFO flwr 2023-04-16 16:59:09,668 | server.py:116 | fit progress: (7, 3.7090768814086914, {'test_loss': 3.7090768814086914, 'test_accuracy': 0.79}, 277.42403809999814)\n",
      "DEBUG flwr 2023-04-16 16:59:09,669 | server.py:165 | evaluate_round 7: strategy sampled 2 clients (out of 5)\n",
      "DEBUG flwr 2023-04-16 16:59:12,418 | server.py:179 | evaluate_round 7 received 2 results and 0 failures\n",
      "DEBUG flwr 2023-04-16 16:59:12,419 | server.py:215 | fit_round 8: strategy sampled 2 clients (out of 5)\n"
     ]
    },
    {
     "output_type": "stream",
     "name": "stdout",
     "text": [
      "\t {'val_loss': 0.5403808653354645, 'val_accuracy': 0.875}\n"
     ]
    },
    {
     "output_type": "stream",
     "name": "stderr",
     "text": [
      "DEBUG flwr 2023-04-16 16:59:46,123 | server.py:229 | fit_round 8 received 2 results and 0 failures\n"
     ]
    },
    {
     "output_type": "stream",
     "name": "stdout",
     "text": [
      "\t {'train_loss': 0.37962769716978073, 'train_accuracy': 0.9305555555555556}\n"
     ]
    },
    {
     "output_type": "stream",
     "name": "stderr",
     "text": [
      "INFO flwr 2023-04-16 16:59:48,748 | server.py:116 | fit progress: (8, 4.619601249694824, {'test_loss': 4.619601249694824, 'test_accuracy': 0.76}, 316.50499099999433)\n",
      "DEBUG flwr 2023-04-16 16:59:48,749 | server.py:165 | evaluate_round 8: strategy sampled 2 clients (out of 5)\n",
      "DEBUG flwr 2023-04-16 16:59:51,501 | server.py:179 | evaluate_round 8 received 2 results and 0 failures\n",
      "DEBUG flwr 2023-04-16 16:59:51,501 | server.py:215 | fit_round 9: strategy sampled 2 clients (out of 5)\n"
     ]
    },
    {
     "output_type": "stream",
     "name": "stdout",
     "text": [
      "\t {'val_loss': 0.4340755045413971, 'val_accuracy': 0.825}\n"
     ]
    },
    {
     "output_type": "stream",
     "name": "stderr",
     "text": [
      "DEBUG flwr 2023-04-16 17:00:25,263 | server.py:229 | fit_round 9 received 2 results and 0 failures\n"
     ]
    },
    {
     "output_type": "stream",
     "name": "stdout",
     "text": [
      "\t {'train_loss': 0.19609037786722183, 'train_accuracy': 0.975}\n"
     ]
    },
    {
     "output_type": "stream",
     "name": "stderr",
     "text": [
      "INFO flwr 2023-04-16 17:00:27,905 | server.py:116 | fit progress: (9, 3.78309965133667, {'test_loss': 3.78309965133667, 'test_accuracy': 0.83}, 355.6617385999998)\n",
      "DEBUG flwr 2023-04-16 17:00:27,905 | server.py:165 | evaluate_round 9: strategy sampled 2 clients (out of 5)\n",
      "DEBUG flwr 2023-04-16 17:00:30,651 | server.py:179 | evaluate_round 9 received 2 results and 0 failures\n",
      "DEBUG flwr 2023-04-16 17:00:30,652 | server.py:215 | fit_round 10: strategy sampled 2 clients (out of 5)\n"
     ]
    },
    {
     "output_type": "stream",
     "name": "stdout",
     "text": [
      "\t {'val_loss': 0.41833867132663727, 'val_accuracy': 0.825}\n"
     ]
    },
    {
     "output_type": "stream",
     "name": "stderr",
     "text": [
      "DEBUG flwr 2023-04-16 17:01:04,339 | server.py:229 | fit_round 10 received 2 results and 0 failures\n"
     ]
    },
    {
     "output_type": "stream",
     "name": "stdout",
     "text": [
      "\t {'train_loss': 0.2311234325170517, 'train_accuracy': 0.9444444444444444}\n"
     ]
    },
    {
     "output_type": "stream",
     "name": "stderr",
     "text": [
      "INFO flwr 2023-04-16 17:01:06,970 | server.py:116 | fit progress: (10, 4.116977691650391, {'test_loss': 4.116977691650391, 'test_accuracy': 0.79}, 394.72768010001164)\n",
      "DEBUG flwr 2023-04-16 17:01:06,970 | server.py:165 | evaluate_round 10: strategy sampled 2 clients (out of 5)\n",
      "DEBUG flwr 2023-04-16 17:01:09,696 | server.py:179 | evaluate_round 10 received 2 results and 0 failures\n",
      "INFO flwr 2023-04-16 17:01:09,697 | server.py:144 | FL finished in 397.4542209999927\n",
      "INFO flwr 2023-04-16 17:01:09,708 | app.py:202 | app_fit: losses_distributed [(1, 1.485456109046936), (2, 1.0066905617713928), (3, 0.9065665304660797), (4, 0.5926760137081146), (5, 0.5068043172359467), (6, 0.6340493559837341), (7, 0.5403808653354645), (8, 0.4340755045413971), (9, 0.41833867132663727), (10, 0.3967791944742203)]\n",
      "INFO flwr 2023-04-16 17:01:09,709 | app.py:203 | app_fit: metrics_distributed {'val_loss': [(1, 1.485456109046936), (2, 1.0066905617713928), (3, 0.9065665304660797), (4, 0.5926760137081146), (5, 0.5068043172359467), (6, 0.6340493559837341), (7, 0.5403808653354645), (8, 0.4340755045413971), (9, 0.41833867132663727), (10, 0.3967791944742203)], 'val_accuracy': [(1, 0.6), (2, 0.675), (3, 0.65), (4, 0.8), (5, 0.85), (6, 0.825), (7, 0.875), (8, 0.825), (9, 0.825), (10, 0.85)]}\n",
      "INFO flwr 2023-04-16 17:01:09,709 | app.py:204 | app_fit: losses_centralized [(0, 11.147294044494629), (1, 6.4984283447265625), (2, 5.266861438751221), (3, 4.384940147399902), (4, 4.322912693023682), (5, 4.245245456695557), (6, 3.647756576538086), (7, 3.7090768814086914), (8, 4.619601249694824), (9, 3.78309965133667), (10, 4.116977691650391)]\n",
      "INFO flwr 2023-04-16 17:01:09,709 | app.py:205 | app_fit: metrics_centralized {'test_loss': [(0, 11.147294044494629), (1, 6.4984283447265625), (2, 5.266861438751221), (3, 4.384940147399902), (4, 4.322912693023682), (5, 4.245245456695557), (6, 3.647756576538086), (7, 3.7090768814086914), (8, 4.619601249694824), (9, 3.78309965133667), (10, 4.116977691650391)], 'test_accuracy': [(0, 0.07), (1, 0.48), (2, 0.62), (3, 0.67), (4, 0.71), (5, 0.77), (6, 0.79), (7, 0.79), (8, 0.76), (9, 0.83), (10, 0.79)]}\n"
     ]
    },
    {
     "output_type": "stream",
     "name": "stdout",
     "text": [
      "\t {'val_loss': 0.3967791944742203, 'val_accuracy': 0.85}\n"
     ]
    },
    {
     "output_type": "execute_result",
     "data": {
      "text/plain": [
       "History (loss, distributed):\n",
       "\tround 1: 1.485456109046936\n",
       "\tround 2: 1.0066905617713928\n",
       "\tround 3: 0.9065665304660797\n",
       "\tround 4: 0.5926760137081146\n",
       "\tround 5: 0.5068043172359467\n",
       "\tround 6: 0.6340493559837341\n",
       "\tround 7: 0.5403808653354645\n",
       "\tround 8: 0.4340755045413971\n",
       "\tround 9: 0.41833867132663727\n",
       "\tround 10: 0.3967791944742203\n",
       "History (loss, centralized):\n",
       "\tround 0: 11.147294044494629\n",
       "\tround 1: 6.4984283447265625\n",
       "\tround 2: 5.266861438751221\n",
       "\tround 3: 4.384940147399902\n",
       "\tround 4: 4.322912693023682\n",
       "\tround 5: 4.245245456695557\n",
       "\tround 6: 3.647756576538086\n",
       "\tround 7: 3.7090768814086914\n",
       "\tround 8: 4.619601249694824\n",
       "\tround 9: 3.78309965133667\n",
       "\tround 10: 4.116977691650391\n",
       "History (metrics, distributed):\n",
       "{'val_loss': [(1, 1.485456109046936), (2, 1.0066905617713928), (3, 0.9065665304660797), (4, 0.5926760137081146), (5, 0.5068043172359467), (6, 0.6340493559837341), (7, 0.5403808653354645), (8, 0.4340755045413971), (9, 0.41833867132663727), (10, 0.3967791944742203)], 'val_accuracy': [(1, 0.6), (2, 0.675), (3, 0.65), (4, 0.8), (5, 0.85), (6, 0.825), (7, 0.875), (8, 0.825), (9, 0.825), (10, 0.85)]}History (metrics, centralized):\n",
       "{'test_loss': [(0, 11.147294044494629), (1, 6.4984283447265625), (2, 5.266861438751221), (3, 4.384940147399902), (4, 4.322912693023682), (5, 4.245245456695557), (6, 3.647756576538086), (7, 3.7090768814086914), (8, 4.619601249694824), (9, 3.78309965133667), (10, 4.116977691650391)], 'test_accuracy': [(0, 0.07), (1, 0.48), (2, 0.62), (3, 0.67), (4, 0.71), (5, 0.77), (6, 0.79), (7, 0.79), (8, 0.76), (9, 0.83), (10, 0.79)]}"
      ]
     },
     "metadata": {},
     "execution_count": 7
    }
   ],
   "metadata": {}
  }
 ],
 "nbformat": 4,
 "nbformat_minor": 2,
 "metadata": {
  "language_info": {
   "codemirror_mode": {
    "name": "ipython",
    "version": 3
   },
   "file_extension": ".py",
   "mimetype": "text/x-python",
   "name": "python",
   "nbconvert_exporter": "python",
   "pygments_lexer": "ipython3",
   "version": 3
  },
  "orig_nbformat": 4
 }
}